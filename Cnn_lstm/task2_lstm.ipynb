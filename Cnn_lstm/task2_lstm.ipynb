{
  "cells": [
    {
      "cell_type": "code",
      "execution_count": 1,
      "metadata": {
        "colab": {
          "base_uri": "https://localhost:8080/"
        },
        "id": "VVlBRwsjo3A9",
        "outputId": "c73353d2-d0e0-46ab-cb7b-742f72aa0104"
      },
      "outputs": [],
      "source": [
        "#!pip install fasttext\n",
        "#!pip install transformers\n",
        "#import nltk\n",
        "#nltk.download('punkt')\n",
        "#!pip3 install torch torchvision torchaudio"
      ]
    },
    {
      "cell_type": "code",
      "execution_count": 15,
      "metadata": {
        "colab": {
          "base_uri": "https://localhost:8080/"
        },
        "id": "Q2Pp-VjL_5Xw",
        "outputId": "a043786f-12ea-4b95-f6bb-4f7c9288537a"
      },
      "outputs": [],
      "source": [
        "DATA_DIR = \"./data/\"\n",
        "VALID_SIZE = .2\n",
        "MODEL_PATH = \"model_task2.bin\""
      ]
    },
    {
      "cell_type": "code",
      "execution_count": 95,
      "metadata": {
        "id": "f_ihgOgKQQ5e"
      },
      "outputs": [],
      "source": [
        "import pandas as pd\n",
        "import numpy as np\n",
        "import scipy\n",
        "import nltk\n",
        "import re\n",
        "import os\n",
        "from nltk.corpus import stopwords\n",
        "from nltk.tokenize import word_tokenize\n",
        "from torch.optim import AdamW\n",
        "from fasttext import load_model\n",
        "import torch\n",
        "import torch.nn as nn\n",
        "from torch.utils.data import Dataset, DataLoader, TensorDataset\n",
        "from tqdm import tqdm\n",
        "from sklearn.metrics import f1_score, confusion_matrix\n",
        "from sklearn.model_selection import train_test_split\n",
        "from sklearn import preprocessing, model_selection\n",
        "from torch import LongTensor\n",
        "from sklearn.metrics import f1_score, confusion_matrix, classification_report"
      ]
    },
    {
      "cell_type": "markdown",
      "metadata": {},
      "source": [
        "---"
      ]
    },
    {
      "cell_type": "code",
      "execution_count": 3,
      "metadata": {},
      "outputs": [],
      "source": [
        "df = pd.read_csv('../Dataset/data/restaurants_laptop_train_with_pos_cleaned.csv')"
      ]
    },
    {
      "cell_type": "code",
      "execution_count": 4,
      "metadata": {},
      "outputs": [
        {
          "name": "stdout",
          "output_type": "stream",
          "text": [
            "num of aspect tags: 2\n",
            "num of polarity tags: 3\n"
          ]
        },
        {
          "data": {
            "text/plain": [
              "0"
            ]
          },
          "execution_count": 4,
          "metadata": {},
          "output_type": "execute_result"
        }
      ],
      "source": [
        "df.polarity = df.polarity.replace(-1,2)\n",
        "\n",
        "encoder = preprocessing.LabelEncoder()\n",
        "df.loc[:, \"aspect_tag\"] = encoder.fit_transform(df[\"aspect_tag\"])\n",
        "\n",
        "sentences = df.groupby(\"num\")[\"text\"].apply(list).values\n",
        "aspect_tags = df.groupby(\"num\")[\"aspect_tag\"].apply(list).values\n",
        "polarity_tags = df.groupby(\"num\")[\"polarity\"].apply(list).values\n",
        "\n",
        "polarity_unique_values = df.polarity.unique()\n",
        "\n",
        "print('num of aspect tags: {}'.format(len(encoder.classes_)))\n",
        "print('num of polarity tags: {}'.format(len(polarity_unique_values)))\n",
        "\n",
        "np.where(encoder.classes_ == \"AT\")[0].item()"
      ]
    },
    {
      "cell_type": "code",
      "execution_count": 5,
      "metadata": {},
      "outputs": [
        {
          "name": "stdout",
          "output_type": "stream",
          "text": [
            "['I', 'charge', 'it', 'at', 'night', 'and', 'skip', 'taking', 'the', 'cord', 'with', 'me', 'because', 'of', 'the', 'good', 'battery', 'life']\n",
            "[1, 1, 1, 1, 1, 1, 1, 1, 1, 0, 1, 1, 1, 1, 1, 1, 0, 0]\n",
            "[0, 0, 0, 0, 0, 0, 0, 0, 0, 0, 0, 0, 0, 0, 0, 0, 1, 1]\n"
          ]
        }
      ],
      "source": [
        "idx = 0\n",
        "print(sentences[idx])\n",
        "print(aspect_tags[idx])\n",
        "print(polarity_tags[idx])"
      ]
    },
    {
      "cell_type": "markdown",
      "metadata": {},
      "source": [
        "---"
      ]
    },
    {
      "cell_type": "code",
      "execution_count": 82,
      "id": "2448bddb",
      "metadata": {},
      "outputs": [],
      "source": [
        "def get_new_aspect_cluster(left, right, aspect_term, polarity, sentence):\n",
        "\n",
        "    if len(polarity) == 0:\n",
        "        polarity = 0\n",
        "    else:\n",
        "        polarity = int(sum(polarity)/len(polarity))\n",
        "   \n",
        "    left.extend(aspect_term)\n",
        "    left.extend(right)\n",
        "    return {\n",
        "        \"local_context\":left,\n",
        "        \"global_context\":sentence,\n",
        "        \"aspect_term\":aspect_term,\n",
        "        \"polarity\":polarity,\n",
        "    }\n",
        "\n",
        "def chop(sentence, aspect_tag, polarity_tag):\n",
        "    ret_aspect_clusters = []\n",
        "#     ret_aspect_clusters = {\n",
        "#         \"context\":list(),\n",
        "#         \"aspect_term\":list(),\n",
        "#         \"polarity\":list(),\n",
        "#     }\n",
        "    left = []\n",
        "    right = []\n",
        "    aspect_term = []\n",
        "    polarity = []\n",
        "    doing_left = True\n",
        "    doing_right = False\n",
        "    doing_aspect = False\n",
        "    for i in range(len(sentence)):\n",
        "        # check if the current token is an aspect term\n",
        "        if aspect_tag[i] == 0:\n",
        "            if doing_left:\n",
        "                doing_aspect = True\n",
        "                doing_left = False\n",
        "            elif doing_right:\n",
        "                doing_right = False\n",
        "                doing_aspect = True\n",
        "                # Now, need to save the previous aspect term cluster\n",
        "                ret_aspect_clusters.append(get_new_aspect_cluster(\n",
        "                    left, right, aspect_term, polarity, sentence))\n",
        "                left = right\n",
        "                right = []\n",
        "                aspect_term = []\n",
        "                polarity = []\n",
        "            aspect_term.append(sentence[i])\n",
        "            polarity.append(polarity_tag[i])\n",
        "        else:\n",
        "            if doing_left:\n",
        "                left.append(sentence[i])\n",
        "            elif doing_right:\n",
        "                right.append(sentence[i])\n",
        "            else:\n",
        "                doing_aspect = False\n",
        "                doing_right = True\n",
        "                right.append(sentence[i])\n",
        "                \n",
        "    ret_aspect_clusters.append(get_new_aspect_cluster(\n",
        "        left, right, aspect_term, polarity, sentence))\n",
        "    \n",
        "    return ret_aspect_clusters"
      ]
    },
    {
      "cell_type": "code",
      "execution_count": 83,
      "id": "bb3ba0d2",
      "metadata": {},
      "outputs": [],
      "source": [
        "all_aspect_clusters = []\n",
        "for i in range(len(sentences)):\n",
        "    all_aspect_clusters.extend(chop(sentences[i], aspect_tags[i], polarity_tags[i]))"
      ]
    },
    {
      "cell_type": "code",
      "execution_count": 85,
      "metadata": {},
      "outputs": [
        {
          "data": {
            "text/plain": [
              "{'local_context': ['I',\n",
              "  'charge',\n",
              "  'it',\n",
              "  'at',\n",
              "  'night',\n",
              "  'and',\n",
              "  'skip',\n",
              "  'taking',\n",
              "  'the',\n",
              "  'cord',\n",
              "  'with',\n",
              "  'me',\n",
              "  'because',\n",
              "  'of',\n",
              "  'the',\n",
              "  'good'],\n",
              " 'global_context': ['I',\n",
              "  'charge',\n",
              "  'it',\n",
              "  'at',\n",
              "  'night',\n",
              "  'and',\n",
              "  'skip',\n",
              "  'taking',\n",
              "  'the',\n",
              "  'cord',\n",
              "  'with',\n",
              "  'me',\n",
              "  'because',\n",
              "  'of',\n",
              "  'the',\n",
              "  'good',\n",
              "  'battery',\n",
              "  'life'],\n",
              " 'aspect_term': ['cord'],\n",
              " 'polarity': 0}"
            ]
          },
          "execution_count": 85,
          "metadata": {},
          "output_type": "execute_result"
        }
      ],
      "source": [
        "all_aspect_clusters[0]"
      ]
    },
    {
      "cell_type": "code",
      "execution_count": 91,
      "metadata": {
        "id": "MIElcOeLQVR0"
      },
      "outputs": [],
      "source": [
        "# generate word_index list\n",
        "def build_vocab(lst):\n",
        "    result = []\n",
        "    for i in lst:\n",
        "        result.extend(i[0]+i[1])\n",
        "    word_idx = {}\n",
        "    for idx, word in enumerate(sorted(set(result))):\n",
        "        word_idx[word] = idx + 1\n",
        "    return word_idx\n",
        "\n",
        "def gen_np_embedding(fn, word_idx, dim=100, emb=False):\n",
        "    if emb:\n",
        "        model = load_model(fn + \".bin\")\n",
        "    embedding = np.zeros((len(word_idx) + 2, dim))\n",
        "\n",
        "    with open(fn, encoding=\"utf8\") as f:\n",
        "        for l in f:\n",
        "            # for each line, get the word and its vector\n",
        "            rec = l.rstrip().split(' ')\n",
        "            if len(rec) == 2:  # skip the first line.\n",
        "                continue\n",
        "                # if the word in word_idx, fill the embedding\n",
        "            if rec[0] in word_idx:\n",
        "                embedding[word_idx[rec[0]]] = np.array([float(r) for r in rec[1:]])\n",
        "    for w in word_idx:\n",
        "        if embedding[word_idx[w]].sum() == 0.:\n",
        "            if emb:\n",
        "                embedding[word_idx[w]] = model.get_word_vector(w)\n",
        "    return embedding\n",
        "\n",
        "def create_train_data_restaurant(all_aspect_clusters,  word_idx, sent_len=83):\n",
        "\n",
        "    train_X_local = np.zeros((len(all_aspect_clusters), sent_len), np.int16)\n",
        "    train_X_global = np.zeros((len(all_aspect_clusters), sent_len), np.int16)\n",
        "\n",
        "    train_y = np.zeros(len(all_aspect_clusters), np.int16)\n",
        "\n",
        "    # iterate the asoect\n",
        "    for sx, sent in enumerate(all_aspect_clusters):\n",
        "        train_y[sx] = sent['polarity']\n",
        "        global_sentence = sent['global_context']\n",
        "        local_sentence = sent['local_context']\n",
        "        # write word index and tag in train_X\n",
        "        try:\n",
        "            for wx, word in enumerate(global_sentence):\n",
        "                train_X_global[sx, wx] = word_idx[word]\n",
        "\n",
        "            for wx, word in enumerate(local_sentence):\n",
        "                train_X_local[sx, wx] = word_idx[word]\n",
        "\n",
        "        except KeyError:\n",
        "            continue\n",
        "\n",
        "    return train_X_local, train_X_global, train_y\n",
        "\n",
        "\n",
        "def get_default_device():\n",
        "    \"\"\"Pick GPU if available, else CPU\"\"\"\n",
        "    if torch.cuda.is_available():\n",
        "        return torch.device('cuda')\n",
        "    else:\n",
        "        return torch.device('cpu')\n",
        "\n",
        "\n",
        "def to_device(data, device):\n",
        "    \"\"\"Move tensor(s) to chosen device\"\"\"\n",
        "    if isinstance(data, (list, tuple)):\n",
        "        return [to_device(x, device) for x in data]\n",
        "    elif isinstance(data, dict):\n",
        "        for k, v in data.items():\n",
        "            data[k] = v.to(device)\n",
        "        return data\n",
        "    return data.to(device, non_blocking=True)\n",
        "\n",
        "\n",
        "class DeviceDataLoader():\n",
        "    \"\"\"Wrap a dataloader to move data to a device\"\"\"\n",
        "\n",
        "    def __init__(self, dl, device):\n",
        "        self.dl = dl\n",
        "        self.device = device\n",
        "\n",
        "    def __iter__(self):\n",
        "        \"\"\"Yield a batch of data after moving it to device\"\"\"\n",
        "        for b in self.dl:\n",
        "            yield to_device(b, self.device)\n",
        "\n",
        "    def __len__(self):\n",
        "        \"\"\"Number of batches\"\"\"\n",
        "        return len(self.dl)\n",
        "\n",
        "\n",
        "def loss_fn(pred, label, num_label):\n",
        "    pred = pred.view(-1,num_label)\n",
        "    label = label.view(-1)\n",
        "    loss = torch.nn.functional.cross_entropy(pred, label)\n",
        "    return loss\n",
        "\n",
        "\n",
        "def cal_acc(pred_tags, true_tags):\n",
        "    if isinstance(pred_tags, list):\n",
        "        pred_tags = torch.cat(pred_tags, 0)\n",
        "        true_tags = torch.cat(true_tags, 0)\n",
        "    acc = (pred_tags == true_tags).sum() / pred_tags.numel()\n",
        "    f1 = f1_score(true_tags.cpu().numpy(), pred_tags.cpu().numpy(), labels=[0, 1, 2], average='weighted')\n",
        "    cm = confusion_matrix(true_tags.cpu().numpy(), pred_tags.cpu().numpy())\n",
        "    return acc, f1, cm\n",
        "\n",
        "\n",
        "class Model(torch.nn.Module):\n",
        "    def __init__(self, gen_emb, num_classes=3, alpha = 0.6):\n",
        "        super(Model, self).__init__()\n",
        "  \n",
        "        self.embed = nn.Embedding.from_pretrained(torch.tensor(gen_emb, dtype=torch.float))\n",
        "        self.lstm_l = nn.LSTM(gen_emb.shape[1], hidden_size=150, num_layers=1, bidirectional=False, batch_first=True)\n",
        "        self.lstm_r = nn.LSTM(gen_emb.shape[1],hidden_size=150, num_layers=1, bidirectional=False, batch_first=True)\n",
        "\n",
        "        self.dense = nn.Linear(150*2, num_classes)\n",
        "\n",
        "        self.lstm = nn.LSTM(gen_emb.shape[1], hidden_size=150, num_layers=1, bidirectional=True, batch_first=True)\n",
        "        self.dense_1 = torch.nn.Linear(gen_emb.shape[1], num_classes)\n",
        "\n",
        "        self.alpha = alpha\n",
        "        self.dropout = nn.Dropout(0.3)\n",
        "\n",
        "\n",
        "    def forward(self, x_train_local, x_train_global):\n",
        "\n",
        "        #left_seq_lengths = torch.tensor([0]*len(x_train_left))\n",
        "        #right_seq_lengths = torch.tensor([0]*len(x_train_right))\n",
        "\n",
        "        '''\n",
        "        # increate length to set to min one to avoid 0 length for pack padded sequence\n",
        "        for i, seq in enumerate(x_train_left):\n",
        "            if len(seq) == 0:\n",
        "                left_seq_lengths[i] = 1\n",
        "            else:\n",
        "                non_zero_seq = seq[seq.nonzero().squeeze().detach()]\n",
        "                if non_zero_seq.dim() == 0:\n",
        "                    left_seq_lengths[i] = 1\n",
        "                else:\n",
        "                    left_seq_lengths[i] = len(non_zero_seq)\n",
        "\n",
        "        for i, seq in enumerate(x_train_right):\n",
        "            if len(seq) == 0:\n",
        "                right_seq_lengths[i] = 1\n",
        "            else:\n",
        "                non_zero_seq = seq[seq.nonzero().squeeze().detach()]\n",
        "                if non_zero_seq.dim() == 0:\n",
        "                    right_seq_lengths[i] = 1\n",
        "                else:\n",
        "                    right_seq_lengths[i] = len(non_zero_seq)\n",
        "        \n",
        "\n",
        "        x_l = self.embed(x_train_left)\n",
        "        x_r = self.embed(x_train_right)\n",
        "\n",
        "        x_emb_p_l = torch.nn.utils.rnn.pack_padded_sequence(x_l, left_seq_lengths, batch_first=True, enforce_sorted=False)\n",
        "\n",
        "        _, (ht, _) = self.lstm_l(x_emb_p_l)\n",
        "\n",
        "        x_emb_p_r = torch.nn.utils.rnn.pack_padded_sequence(x_r, right_seq_lengths, batch_first=True, enforce_sorted=False)\n",
        "\n",
        "        _, (ht_r, _) = self.lstm_l(x_emb_p_r)\n",
        "\n",
        "        h_n = torch.cat((ht[0], ht_r[0]), dim=-1)\n",
        "        #output1 = self.dense(h_n)\n",
        "\n",
        "        '''\n",
        "        x_local = self.embed(x_train_local)\n",
        "        _, (h_n, _) = self.lstm(x_local.float())\n",
        "\n",
        "        h_n = torch.cat([h_n[-2,:,:], h_n[-1,:,:]], dim=1)\n",
        "\n",
        "        x_global = self.embed(x_train_global)\n",
        "        _, (h_n_g,_) = self.lstm(x_global.float())\n",
        "\n",
        "        h_n_g = torch.cat([h_n_g[-2,:,:], h_n_g[-1,:,:]], dim=1)\n",
        "\n",
        "        avg_pool = torch.div(torch.add(h_n * (1 - self.alpha), h_n_g * self.alpha), 2)\n",
        "        out = self.dropout(avg_pool)\n",
        "\n",
        "        out = self.dense(out)\n",
        "\n",
        "\n",
        "        return out"
      ]
    },
    {
      "cell_type": "code",
      "execution_count": 87,
      "metadata": {},
      "outputs": [],
      "source": [
        "word_indx = build_vocab(left_right)\n",
        "    \n",
        "fn = DATA_DIR + 'glove.840B.300d.txt'\n",
        "general_embedding = gen_np_embedding(fn, word_indx, dim=300, emb=False)"
      ]
    },
    {
      "cell_type": "code",
      "execution_count": 89,
      "metadata": {},
      "outputs": [],
      "source": [
        "local_context, global_context, y = create_train_data_restaurant(all_aspect_clusters ,word_indx, sent_len=83)\n",
        "\n",
        "X_l_train, X_l_valid, X_g_train, X_g_valid,  y_train, y_valid = train_test_split(local_context, global_context, y, test_size=VALID_SIZE)\n"
      ]
    },
    {
      "cell_type": "code",
      "execution_count": 98,
      "metadata": {},
      "outputs": [
        {
          "name": "stdout",
          "output_type": "stream",
          "text": [
            "train samples:4586\n",
            "valid samples:1147\n"
          ]
        },
        {
          "name": "stderr",
          "output_type": "stream",
          "text": [
            "100%|██████████| 35/35 [00:11<00:00,  3.07it/s]\n",
            "100%|██████████| 2/2 [00:01<00:00,  1.63it/s]\n"
          ]
        },
        {
          "name": "stdout",
          "output_type": "stream",
          "text": [
            "\n",
            "epoch 0\n",
            "\ttrain_loss:1.069 valid_loss:1.051\n",
            "\ttrain_acc:52.68% valid_acc:52.40%\n",
            "\ttrain_f1:0.369 valid_f1:0.360\n",
            "\ttrain_confusion_matrix:\n",
            "[[   3  834    3]\n",
            " [  25 2356    3]\n",
            " [   8 1247    1]]\n",
            "\tvalid_confusion_matrix:\n",
            "[[  0 197   0]\n",
            " [  0 601   0]\n",
            " [  0 349   0]]\n"
          ]
        },
        {
          "name": "stderr",
          "output_type": "stream",
          "text": [
            "100%|██████████| 35/35 [00:11<00:00,  3.15it/s]\n",
            "100%|██████████| 2/2 [00:01<00:00,  1.57it/s]\n"
          ]
        },
        {
          "name": "stdout",
          "output_type": "stream",
          "text": [
            "\n",
            "epoch 1\n",
            "\ttrain_loss:1.019 valid_loss:1.009\n",
            "\ttrain_acc:53.33% valid_acc:52.40%\n",
            "\ttrain_f1:0.371 valid_f1:0.360\n",
            "\ttrain_confusion_matrix:\n",
            "[[   0  824    0]\n",
            " [   0 2389    0]\n",
            " [   0 1267    0]]\n",
            "\tvalid_confusion_matrix:\n",
            "[[  0 197   0]\n",
            " [  0 601   0]\n",
            " [  0 349   0]]\n"
          ]
        },
        {
          "name": "stderr",
          "output_type": "stream",
          "text": [
            "100%|██████████| 35/35 [00:11<00:00,  3.06it/s]\n",
            "100%|██████████| 2/2 [00:01<00:00,  1.41it/s]\n"
          ]
        },
        {
          "name": "stdout",
          "output_type": "stream",
          "text": [
            "\n",
            "epoch 2\n",
            "\ttrain_loss:0.982 valid_loss:0.979\n",
            "\ttrain_acc:53.39% valid_acc:52.40%\n",
            "\ttrain_f1:0.372 valid_f1:0.360\n",
            "\ttrain_confusion_matrix:\n",
            "[[   0  830    0]\n",
            " [   0 2392    0]\n",
            " [   0 1258    0]]\n",
            "\tvalid_confusion_matrix:\n",
            "[[  0 197   0]\n",
            " [  0 601   0]\n",
            " [  0 349   0]]\n"
          ]
        },
        {
          "name": "stderr",
          "output_type": "stream",
          "text": [
            "100%|██████████| 35/35 [00:11<00:00,  3.04it/s]\n",
            "100%|██████████| 2/2 [00:01<00:00,  1.62it/s]\n"
          ]
        },
        {
          "name": "stdout",
          "output_type": "stream",
          "text": [
            "\n",
            "epoch 3\n",
            "\ttrain_loss:0.932 valid_loss:0.901\n",
            "\ttrain_acc:53.57% valid_acc:55.62%\n",
            "\ttrain_f1:0.380 valid_f1:0.442\n",
            "\ttrain_confusion_matrix:\n",
            "[[   0  820   10]\n",
            " [   0 2380    8]\n",
            " [   0 1242   20]]\n",
            "\tvalid_confusion_matrix:\n",
            "[[  0 178  19]\n",
            " [  0 586  15]\n",
            " [  0 297  52]]\n"
          ]
        },
        {
          "name": "stderr",
          "output_type": "stream",
          "text": [
            "100%|██████████| 35/35 [00:11<00:00,  3.17it/s]\n",
            "100%|██████████| 2/2 [00:01<00:00,  1.70it/s]\n"
          ]
        },
        {
          "name": "stdout",
          "output_type": "stream",
          "text": [
            "\n",
            "epoch 4\n",
            "\ttrain_loss:0.866 valid_loss:0.845\n",
            "\ttrain_acc:59.69% valid_acc:61.81%\n",
            "\ttrain_f1:0.508 valid_f1:0.551\n",
            "\ttrain_confusion_matrix:\n",
            "[[   0  631  204]\n",
            " [   0 2277  120]\n",
            " [   0  851  397]]\n",
            "\tvalid_confusion_matrix:\n",
            "[[  0 111  86]\n",
            " [  0 534  67]\n",
            " [  0 174 175]]\n"
          ]
        },
        {
          "name": "stderr",
          "output_type": "stream",
          "text": [
            "100%|██████████| 35/35 [00:11<00:00,  3.18it/s]\n",
            "100%|██████████| 2/2 [00:01<00:00,  1.63it/s]\n"
          ]
        },
        {
          "name": "stdout",
          "output_type": "stream",
          "text": [
            "\n",
            "epoch 5\n",
            "\ttrain_loss:0.831 valid_loss:0.821\n",
            "\ttrain_acc:64.29% valid_acc:66.09%\n",
            "\ttrain_f1:0.576 valid_f1:0.601\n",
            "\ttrain_confusion_matrix:\n",
            "[[   0  415  418]\n",
            " [   0 2079  307]\n",
            " [   0  460  801]]\n",
            "\tvalid_confusion_matrix:\n",
            "[[  0  81 116]\n",
            " [  0 508  93]\n",
            " [  0  99 250]]\n"
          ]
        },
        {
          "name": "stderr",
          "output_type": "stream",
          "text": [
            "100%|██████████| 35/35 [00:11<00:00,  3.15it/s]\n",
            "100%|██████████| 2/2 [00:01<00:00,  1.73it/s]\n"
          ]
        },
        {
          "name": "stdout",
          "output_type": "stream",
          "text": [
            "\n",
            "epoch 6\n",
            "\ttrain_loss:0.807 valid_loss:0.800\n",
            "\ttrain_acc:65.42% valid_acc:67.22%\n",
            "\ttrain_f1:0.587 valid_f1:0.612\n",
            "\ttrain_confusion_matrix:\n",
            "[[   0  421  416]\n",
            " [   0 2087  305]\n",
            " [   0  407  844]]\n",
            "\tvalid_confusion_matrix:\n",
            "[[  0  79 118]\n",
            " [  0 514  87]\n",
            " [  0  92 257]]\n"
          ]
        },
        {
          "name": "stderr",
          "output_type": "stream",
          "text": [
            "100%|██████████| 35/35 [00:11<00:00,  3.17it/s]\n",
            "100%|██████████| 2/2 [00:01<00:00,  1.72it/s]\n"
          ]
        },
        {
          "name": "stdout",
          "output_type": "stream",
          "text": [
            "\n",
            "epoch 7\n",
            "\ttrain_loss:0.788 valid_loss:0.778\n",
            "\ttrain_acc:66.45% valid_acc:67.83%\n",
            "\ttrain_f1:0.601 valid_f1:0.615\n",
            "\ttrain_confusion_matrix:\n",
            "[[   0  339  500]\n",
            " [   0 2020  363]\n",
            " [   0  301  957]]\n",
            "\tvalid_confusion_matrix:\n",
            "[[  0  95 102]\n",
            " [  0 526  75]\n",
            " [  0  97 252]]\n"
          ]
        },
        {
          "name": "stderr",
          "output_type": "stream",
          "text": [
            "100%|██████████| 35/35 [00:11<00:00,  3.16it/s]\n",
            "100%|██████████| 2/2 [00:01<00:00,  1.73it/s]\n"
          ]
        },
        {
          "name": "stdout",
          "output_type": "stream",
          "text": [
            "\n",
            "epoch 8\n",
            "\ttrain_loss:0.770 valid_loss:0.758\n",
            "\ttrain_acc:66.94% valid_acc:69.14%\n",
            "\ttrain_f1:0.605 valid_f1:0.631\n",
            "\ttrain_confusion_matrix:\n",
            "[[   0  351  484]\n",
            " [   0 2040  346]\n",
            " [   0  300  959]]\n",
            "\tvalid_confusion_matrix:\n",
            "[[  0  73 124]\n",
            " [  0 514  87]\n",
            " [  0  70 279]]\n"
          ]
        },
        {
          "name": "stderr",
          "output_type": "stream",
          "text": [
            "100%|██████████| 35/35 [00:10<00:00,  3.18it/s]\n",
            "100%|██████████| 2/2 [00:01<00:00,  1.68it/s]\n"
          ]
        },
        {
          "name": "stdout",
          "output_type": "stream",
          "text": [
            "\n",
            "epoch 9\n",
            "\ttrain_loss:0.752 valid_loss:0.755\n",
            "\ttrain_acc:67.83% valid_acc:68.79%\n",
            "\ttrain_f1:0.613 valid_f1:0.629\n",
            "\ttrain_confusion_matrix:\n",
            "[[   0  343  489]\n",
            " [   0 2050  338]\n",
            " [   0  271  989]]\n",
            "\tvalid_confusion_matrix:\n",
            "[[  0  66 131]\n",
            " [  0 502  99]\n",
            " [  0  62 287]]\n"
          ]
        },
        {
          "name": "stderr",
          "output_type": "stream",
          "text": [
            "100%|██████████| 35/35 [00:11<00:00,  3.18it/s]\n",
            "100%|██████████| 2/2 [00:01<00:00,  1.70it/s]\n"
          ]
        },
        {
          "name": "stdout",
          "output_type": "stream",
          "text": [
            "\n",
            "epoch 10\n",
            "\ttrain_loss:0.740 valid_loss:0.743\n",
            "\ttrain_acc:68.39% valid_acc:68.79%\n",
            "\ttrain_f1:0.619 valid_f1:0.624\n",
            "\ttrain_confusion_matrix:\n",
            "[[   1  343  485]\n",
            " [   0 2056  338]\n",
            " [   0  250 1007]]\n",
            "\tvalid_confusion_matrix:\n",
            "[[  0  95 102]\n",
            " [  0 533  68]\n",
            " [  0  93 256]]\n"
          ]
        },
        {
          "name": "stderr",
          "output_type": "stream",
          "text": [
            "100%|██████████| 35/35 [00:11<00:00,  3.18it/s]\n",
            "100%|██████████| 2/2 [00:01<00:00,  1.57it/s]\n"
          ]
        },
        {
          "name": "stdout",
          "output_type": "stream",
          "text": [
            "\n",
            "epoch 11\n",
            "\ttrain_loss:0.733 valid_loss:0.729\n",
            "\ttrain_acc:68.55% valid_acc:69.66%\n",
            "\ttrain_f1:0.620 valid_f1:0.635\n",
            "\ttrain_confusion_matrix:\n",
            "[[   0  340  496]\n",
            " [   0 2046  332]\n",
            " [   0  241 1025]]\n",
            "\tvalid_confusion_matrix:\n",
            "[[  0  76 121]\n",
            " [  0 516  85]\n",
            " [  0  66 283]]\n"
          ]
        },
        {
          "name": "stderr",
          "output_type": "stream",
          "text": [
            "100%|██████████| 35/35 [00:11<00:00,  3.13it/s]\n",
            "100%|██████████| 2/2 [00:01<00:00,  1.66it/s]\n"
          ]
        },
        {
          "name": "stdout",
          "output_type": "stream",
          "text": [
            "\n",
            "epoch 12\n",
            "\ttrain_loss:0.723 valid_loss:0.720\n",
            "\ttrain_acc:68.95% valid_acc:69.92%\n",
            "\ttrain_f1:0.623 valid_f1:0.637\n",
            "\ttrain_confusion_matrix:\n",
            "[[   2  378  456]\n",
            " [   3 2074  307]\n",
            " [   0  247 1013]]\n",
            "\tvalid_confusion_matrix:\n",
            "[[  2  97  98]\n",
            " [  0 536  65]\n",
            " [  2  83 264]]\n"
          ]
        },
        {
          "name": "stderr",
          "output_type": "stream",
          "text": [
            "100%|██████████| 35/35 [00:11<00:00,  3.02it/s]\n",
            "100%|██████████| 2/2 [00:01<00:00,  1.47it/s]\n"
          ]
        },
        {
          "name": "stdout",
          "output_type": "stream",
          "text": [
            "\n",
            "epoch 13\n",
            "\ttrain_loss:0.707 valid_loss:0.708\n",
            "\ttrain_acc:69.87% valid_acc:70.71%\n",
            "\ttrain_f1:0.633 valid_f1:0.647\n",
            "\ttrain_confusion_matrix:\n",
            "[[   5  368  459]\n",
            " [   6 2095  285]\n",
            " [   0  232 1030]]\n",
            "\tvalid_confusion_matrix:\n",
            "[[  3  87 107]\n",
            " [  2 528  71]\n",
            " [  2  67 280]]\n"
          ]
        },
        {
          "name": "stderr",
          "output_type": "stream",
          "text": [
            "100%|██████████| 35/35 [00:11<00:00,  3.08it/s]\n",
            "100%|██████████| 2/2 [00:01<00:00,  1.62it/s]\n"
          ]
        },
        {
          "name": "stdout",
          "output_type": "stream",
          "text": [
            "\n",
            "epoch 14\n",
            "\ttrain_loss:0.695 valid_loss:0.709\n",
            "\ttrain_acc:70.54% valid_acc:70.79%\n",
            "\ttrain_f1:0.643 valid_f1:0.657\n",
            "\ttrain_confusion_matrix:\n",
            "[[  16  364  450]\n",
            " [  11 2104  278]\n",
            " [   8  209 1040]]\n",
            "\tvalid_confusion_matrix:\n",
            "[[ 14 107  76]\n",
            " [  5 555  41]\n",
            " [  5 101 243]]\n"
          ]
        },
        {
          "name": "stderr",
          "output_type": "stream",
          "text": [
            "100%|██████████| 35/35 [00:11<00:00,  3.15it/s]\n",
            "100%|██████████| 2/2 [00:01<00:00,  1.66it/s]\n"
          ]
        },
        {
          "name": "stdout",
          "output_type": "stream",
          "text": [
            "\n",
            "epoch 15\n",
            "\ttrain_loss:0.692 valid_loss:0.718\n",
            "\ttrain_acc:70.51% valid_acc:70.10%\n",
            "\ttrain_f1:0.647 valid_f1:0.655\n",
            "\ttrain_confusion_matrix:\n",
            "[[  32  383  420]\n",
            " [  32 2112  243]\n",
            " [   9  234 1015]]\n",
            "\tvalid_confusion_matrix:\n",
            "[[ 11  71 115]\n",
            " [  4 503  94]\n",
            " [  6  53 290]]\n"
          ]
        },
        {
          "name": "stderr",
          "output_type": "stream",
          "text": [
            "100%|██████████| 35/35 [00:11<00:00,  3.14it/s]\n",
            "100%|██████████| 2/2 [00:01<00:00,  1.67it/s]\n"
          ]
        },
        {
          "name": "stdout",
          "output_type": "stream",
          "text": [
            "\n",
            "epoch 16\n",
            "\ttrain_loss:0.684 valid_loss:0.687\n",
            "\ttrain_acc:71.54% valid_acc:71.32%\n",
            "\ttrain_f1:0.668 valid_f1:0.674\n",
            "\ttrain_confusion_matrix:\n",
            "[[  73  345  416]\n",
            " [  31 2090  261]\n",
            " [  18  204 1042]]\n",
            "\tvalid_confusion_matrix:\n",
            "[[ 23  95  79]\n",
            " [ 16 537  48]\n",
            " [  6  85 258]]\n"
          ]
        },
        {
          "name": "stderr",
          "output_type": "stream",
          "text": [
            "100%|██████████| 35/35 [00:11<00:00,  3.13it/s]\n",
            "100%|██████████| 2/2 [00:01<00:00,  1.67it/s]\n"
          ]
        },
        {
          "name": "stdout",
          "output_type": "stream",
          "text": [
            "\n",
            "epoch 17\n",
            "\ttrain_loss:0.674 valid_loss:0.681\n",
            "\ttrain_acc:71.65% valid_acc:71.40%\n",
            "\ttrain_f1:0.672 valid_f1:0.678\n",
            "\ttrain_confusion_matrix:\n",
            "[[  80  353  398]\n",
            " [  43 2112  232]\n",
            " [  31  213 1018]]\n",
            "\tvalid_confusion_matrix:\n",
            "[[ 25  93  79]\n",
            " [ 18 536  47]\n",
            " [ 14  77 258]]\n"
          ]
        },
        {
          "name": "stderr",
          "output_type": "stream",
          "text": [
            "100%|██████████| 35/35 [00:11<00:00,  3.14it/s]\n",
            "100%|██████████| 2/2 [00:01<00:00,  1.68it/s]\n"
          ]
        },
        {
          "name": "stdout",
          "output_type": "stream",
          "text": [
            "\n",
            "epoch 18\n",
            "\ttrain_loss:0.656 valid_loss:0.689\n",
            "\ttrain_acc:72.66% valid_acc:72.19%\n",
            "\ttrain_f1:0.692 valid_f1:0.695\n",
            "\ttrain_confusion_matrix:\n",
            "[[ 127  333  368]\n",
            " [  55 2123  217]\n",
            " [  55  197 1005]]\n",
            "\tvalid_confusion_matrix:\n",
            "[[ 36  79  82]\n",
            " [ 26 522  53]\n",
            " [ 16  63 270]]\n"
          ]
        },
        {
          "name": "stderr",
          "output_type": "stream",
          "text": [
            "100%|██████████| 35/35 [00:12<00:00,  2.91it/s]\n",
            "100%|██████████| 2/2 [00:01<00:00,  1.56it/s]"
          ]
        },
        {
          "name": "stdout",
          "output_type": "stream",
          "text": [
            "\n",
            "epoch 19\n",
            "\ttrain_loss:0.646 valid_loss:0.680\n",
            "\ttrain_acc:73.21% valid_acc:72.80%\n",
            "\ttrain_f1:0.699 valid_f1:0.694\n",
            "\ttrain_confusion_matrix:\n",
            "[[ 138  314  379]\n",
            " [  53 2106  228]\n",
            " [  48  178 1036]]\n",
            "\tvalid_confusion_matrix:\n",
            "[[ 31  91  75]\n",
            " [ 15 542  44]\n",
            " [ 12  75 262]]\n"
          ]
        },
        {
          "name": "stderr",
          "output_type": "stream",
          "text": [
            "\n"
          ]
        }
      ],
      "source": [
        "device = get_default_device()\n",
        "\n",
        "NUM_EPOCHS = 20\n",
        "TRAIN_BATCH_SIZE = 128\n",
        "VALID_BATCH_SIZE = 1024\n",
        "\n",
        "NUM_POLARITY_TAGS = 3\n",
        "\n",
        "history = {\n",
        "    \"train_loss\": list(),\n",
        "    \"polarity_train_acc\": list(),\n",
        "    \"valid_loss\": list(),\n",
        "    \"polarity_valid_acc\": list(),\n",
        "}\n",
        "\n",
        "best_loss = np.inf\n",
        "\n",
        "dataset = TensorDataset(torch.Tensor(X_l_train), torch.Tensor(X_g_train), torch.Tensor(y_train))\n",
        "print(f\"train samples:{len(dataset)}\")\n",
        "train_loader = DataLoader(dataset, batch_size=TRAIN_BATCH_SIZE, shuffle=True, drop_last=True)\n",
        "\n",
        "dataset_valid = TensorDataset(torch.Tensor(X_l_valid),  torch.Tensor(X_g_valid), torch.Tensor(y_valid))\n",
        "print(f\"valid samples:{len(dataset_valid)}\")\n",
        "test_loader = DataLoader(dataset_valid, batch_size=VALID_BATCH_SIZE)\n",
        "\n",
        "model = to_device(Model(general_embedding,  num_classes=3, alpha = 0.7), device)\n",
        "\n",
        "torch.cuda.empty_cache()\n",
        "\n",
        "parameters = [p for p in model.parameters() if p.requires_grad]\n",
        "optimizer = AdamW(parameters, lr=1e-4)\n",
        "\n",
        "\n",
        "for epoch in range(NUM_EPOCHS):\n",
        "    train_losses = []\n",
        "    train_acc = []\n",
        "    test_loss = []\n",
        "    test_acc = []\n",
        "    train_f1 = []\n",
        "    test_f1 = []\n",
        "\n",
        "    model.train()\n",
        "    preds = []\n",
        "    masks = []\n",
        "    labels = []\n",
        "    for data in tqdm(train_loader, total=len(train_loader)):\n",
        "        for i in range(len(data)):\n",
        "            data[i] = data[i].to(device)\n",
        "        l_feature, g_feature, label = data\n",
        "        l_feature, g_feature, label = l_feature.long(), g_feature.long(), label.long()\n",
        "\n",
        "        optimizer.zero_grad()\n",
        "        pred_logits = model(l_feature, g_feature)\n",
        "        loss = loss_fn(pred_logits, label, 3)\n",
        "        loss.backward()\n",
        "        optimizer.step()\n",
        "\n",
        "        train_losses.append(loss.item())\n",
        "\n",
        "        pred_tags = pred_logits.max(-1)[1]\n",
        "        preds.append(pred_tags)\n",
        "        labels.append(label)\n",
        "\n",
        "    avg_train_acc, avg_train_f1, train_cm = cal_acc(preds,labels)\n",
        "    avg_train_loss = sum(train_losses) / len(train_losses)\n",
        "\n",
        "    preds = []\n",
        "    masks = []\n",
        "    labels = []\n",
        "    with torch.no_grad():\n",
        "        for data in tqdm(test_loader, total=len(test_loader)):\n",
        "            for i in range(len(data)):\n",
        "                data[i] = data[i].to(device)\n",
        "            l_feature, g_feature, label = data\n",
        "            l_feature, g_feature, label = l_feature.long(), g_feature.long(), label.long()\n",
        "            pred_logits = model(l_feature, g_feature)\n",
        "            loss = loss_fn(pred_logits, label, 3)\n",
        "\n",
        "            test_loss.append(loss.item())\n",
        "\n",
        "            pred_tags = pred_logits.max(-1)[1]\n",
        "\n",
        "            preds.append(pred_tags)\n",
        "            labels.append(label)\n",
        "\n",
        "    avg_test_acc, avg_test_f1, test_cm = cal_acc(preds,  labels)\n",
        "    avg_test_loss = sum(test_loss) / len(test_loss)\n",
        "\n",
        "    print(f\"\\nepoch {epoch}\")\n",
        "    print(\"\\ttrain_loss:{:.3f} valid_loss:{:.3f}\".format(avg_train_loss, avg_test_loss))\n",
        "    print(\"\\ttrain_acc:{:.2%} valid_acc:{:.2%}\".format(avg_train_acc, avg_test_acc))\n",
        "    print(\"\\ttrain_f1:{:.3f} valid_f1:{:.3f}\".format(avg_train_f1, avg_test_f1))\n",
        "    print(f\"\\ttrain_confusion_matrix:\\n{train_cm}\")\n",
        "    print(f\"\\tvalid_confusion_matrix:\\n{test_cm}\")\n",
        "\n",
        "    if avg_test_loss < best_loss:\n",
        "        torch.save(model.state_dict(), MODEL_PATH)\n",
        "        best_loss = avg_test_loss    \n",
        "        \n",
        "    history['train_loss'].append(avg_train_loss)\n",
        "    history['polarity_train_acc'].append(avg_train_acc.cpu().numpy())\n",
        "    history['valid_loss'].append(avg_test_loss)\n",
        "    history['polarity_valid_acc'].append(avg_test_acc.cpu().numpy())\n",
        "        \n",
        "    \n"
      ]
    },
    {
      "cell_type": "code",
      "execution_count": 99,
      "metadata": {},
      "outputs": [
        {
          "data": {
            "text/plain": [
              "(0.4, 0.9)"
            ]
          },
          "execution_count": 99,
          "metadata": {},
          "output_type": "execute_result"
        },
        {
          "data": {
            "image/png": "[encoded data removed]",
            "text/plain": [
              "<Figure size 432x288 with 1 Axes>"
            ]
          },
          "metadata": {
            "needs_background": "light"
          },
          "output_type": "display_data"
        }
      ],
      "source": [
        "import matplotlib.pyplot as plt\n",
        "plt.plot(history['polarity_train_acc'], label='train accuracy')\n",
        "plt.plot(history['polarity_valid_acc'], label='validation accuracy')\n",
        "plt.title('Training history')\n",
        "plt.ylabel('Accuracy')\n",
        "plt.xlabel('Epoch')\n",
        "plt.legend()\n",
        "plt.ylim([0.4, 0.9])"
      ]
    },
    {
      "cell_type": "code",
      "execution_count": 100,
      "metadata": {},
      "outputs": [
        {
          "name": "stdout",
          "output_type": "stream",
          "text": [
            "Loading saved model from: model_task2.bin\n"
          ]
        },
        {
          "name": "stderr",
          "output_type": "stream",
          "text": [
            "100%|██████████| 2/2 [00:01<00:00,  1.55it/s]"
          ]
        },
        {
          "name": "stdout",
          "output_type": "stream",
          "text": [
            "              precision    recall  f1-score   support\n",
            "\n",
            "     Neutral       0.49      0.15      0.23       197\n",
            "    Positive       0.76      0.90      0.83       601\n",
            "    Negative       0.69      0.75      0.72       349\n",
            "\n",
            "    accuracy                           0.72      1147\n",
            "   macro avg       0.65      0.60      0.59      1147\n",
            "weighted avg       0.69      0.72      0.69      1147\n",
            "\n"
          ]
        },
        {
          "name": "stderr",
          "output_type": "stream",
          "text": [
            "\n"
          ]
        }
      ],
      "source": [
        "def get_classification_report(test_loader, model, model_path=None):\n",
        "    if model_path is not None: # load the saved model\n",
        "        print('Loading saved model from: {}'.format(model_path))\n",
        "        model.load_state_dict(torch.load(model_path))\n",
        "    model = to_device(model, device)   \n",
        "    \n",
        "    model.eval()\n",
        "    final_pred_polarity_tags = []\n",
        "    final_true_polarity_tags = []\n",
        "\n",
        "\n",
        "    with torch.no_grad():\n",
        "        for data in tqdm(test_loader, total=len(test_loader)):\n",
        "            for i in range(len(data)):\n",
        "                data[i] = data[i].to(device)\n",
        "\n",
        "            l_feature, g_feature, label = data\n",
        "            l_feature, g_feature, label = l_feature.long(), g_feature.long(), label.long()\n",
        "            pred_logits = model(l_feature, g_feature)\n",
        "\n",
        "            pred_tags = pred_logits.max(-1)[1]\n",
        "\n",
        "            final_pred_polarity_tags.extend(pred_tags)\n",
        "            final_true_polarity_tags.extend(label)\n",
        "\n",
        "    final_pred_polarity_tags = torch.stack(final_pred_polarity_tags).cpu()\n",
        "    final_true_polarity_tags = torch.stack(final_true_polarity_tags).cpu()\n",
        "        \n",
        "    print(classification_report(final_true_polarity_tags, final_pred_polarity_tags, \n",
        "                                target_names=[\"Neutral\", \"Positive\", \"Negative\"]))\n",
        "    \n",
        "get_classification_report(test_loader, model, model_path=MODEL_PATH)"
      ]
    }
  ],
  "metadata": {
    "colab": {
      "collapsed_sections": [],
      "name": "task2_lstm.ipynb",
      "provenance": []
    },
    "kernelspec": {
      "display_name": "Python 3",
      "name": "python3"
    },
    "language_info": {
      "codemirror_mode": {
        "name": "ipython",
        "version": 3
      },
      "file_extension": ".py",
      "mimetype": "text/x-python",
      "name": "python",
      "nbconvert_exporter": "python",
      "pygments_lexer": "ipython3",
      "version": "3.10.0"
    }
  },
  "nbformat": 4,
  "nbformat_minor": 0
}
