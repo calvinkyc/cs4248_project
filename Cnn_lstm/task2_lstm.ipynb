{
  "cells": [
    {
      "cell_type": "code",
      "execution_count": 53,
      "metadata": {
        "colab": {
          "base_uri": "https://localhost:8080/"
        },
        "id": "VVlBRwsjo3A9",
        "outputId": "c73353d2-d0e0-46ab-cb7b-742f72aa0104"
      },
      "outputs": [],
      "source": [
        "#!pip install fasttext\n",
        "#!pip install transformers\n",
        "#import nltk\n",
        "#nltk.download('punkt')\n",
        "#!pip3 install torch torchvision torchaudio"
      ]
    },
    {
      "cell_type": "code",
      "execution_count": 3,
      "metadata": {
        "colab": {
          "base_uri": "https://localhost:8080/"
        },
        "id": "Q2Pp-VjL_5Xw",
        "outputId": "a043786f-12ea-4b95-f6bb-4f7c9288537a"
      },
      "outputs": [],
      "source": [
        "DATA_DIR = \"./data/\"\n",
        "VALID_SIZE = .2\n",
        "MODEL_PATH = \"model_task2.bin\""
      ]
    },
    {
      "cell_type": "code",
      "execution_count": 4,
      "metadata": {
        "id": "f_ihgOgKQQ5e"
      },
      "outputs": [],
      "source": [
        "import pandas as pd\n",
        "import numpy as np\n",
        "import scipy\n",
        "import nltk\n",
        "import re\n",
        "import os\n",
        "from nltk.corpus import stopwords\n",
        "from nltk.tokenize import word_tokenize\n",
        "from torch.optim import AdamW\n",
        "from fasttext import load_model\n",
        "import torch\n",
        "import torch.nn as nn\n",
        "from torch.utils.data import Dataset, DataLoader, TensorDataset\n",
        "from tqdm import tqdm\n",
        "from sklearn.metrics import f1_score, confusion_matrix\n",
        "from sklearn.model_selection import train_test_split\n",
        "from sklearn import preprocessing, model_selection\n",
        "from torch import LongTensor\n",
        "from sklearn.metrics import f1_score, confusion_matrix, classification_report"
      ]
    },
    {
      "cell_type": "markdown",
      "metadata": {},
      "source": [
        "---"
      ]
    },
    {
      "cell_type": "code",
      "execution_count": 5,
      "metadata": {},
      "outputs": [],
      "source": [
        "df = pd.read_csv('../Dataset/data/restaurants_laptop_train_with_pos_task2_cleaned.csv')"
      ]
    },
    {
      "cell_type": "code",
      "execution_count": 6,
      "metadata": {},
      "outputs": [
        {
          "name": "stdout",
          "output_type": "stream",
          "text": [
            "num of aspect tags: 2\n",
            "num of polarity tags: 4\n"
          ]
        },
        {
          "data": {
            "text/plain": [
              "0"
            ]
          },
          "execution_count": 6,
          "metadata": {},
          "output_type": "execute_result"
        }
      ],
      "source": [
        "df.polarity = df.polarity.replace(-1,2)\n",
        "\n",
        "encoder = preprocessing.LabelEncoder()\n",
        "df.loc[:, \"aspect_tag\"] = encoder.fit_transform(df[\"aspect_tag\"])\n",
        "\n",
        "sentences = df.groupby(\"num\")[\"text\"].apply(list).values\n",
        "aspect_tags = df.groupby(\"num\")[\"aspect_tag\"].apply(list).values\n",
        "polarity_tags = df.groupby(\"num\")[\"polarity\"].apply(list).values\n",
        "\n",
        "polarity_unique_values = df.polarity.unique()\n",
        "\n",
        "print('num of aspect tags: {}'.format(len(encoder.classes_)))\n",
        "print('num of polarity tags: {}'.format(len(polarity_unique_values)))\n",
        "\n",
        "np.where(encoder.classes_ == \"AT\")[0].item()"
      ]
    },
    {
      "cell_type": "code",
      "execution_count": 7,
      "metadata": {},
      "outputs": [
        {
          "name": "stdout",
          "output_type": "stream",
          "text": [
            "['I', 'charge', 'it', 'at', 'night', 'and', 'skip', 'taking', 'the', 'cord', 'with', 'me', 'because', 'of', 'the', 'good', 'battery', 'life']\n",
            "[1, 1, 1, 1, 1, 1, 1, 1, 1, 0, 1, 1, 1, 1, 1, 1, 0, 0]\n",
            "[0, 0, 0, 0, 0, 0, 0, 0, 0, 0, 0, 0, 0, 0, 0, 0, 1, 1]\n"
          ]
        }
      ],
      "source": [
        "idx = 0\n",
        "print(sentences[idx])\n",
        "print(aspect_tags[idx])\n",
        "print(polarity_tags[idx])"
      ]
    },
    {
      "cell_type": "markdown",
      "metadata": {},
      "source": [
        "---"
      ]
    },
    {
      "cell_type": "code",
      "execution_count": 8,
      "id": "2448bddb",
      "metadata": {},
      "outputs": [],
      "source": [
        "def get_new_aspect_cluster(left, right, aspect_term, polarity, sentence, window_size=5):\n",
        "    left = left[-window_size:]\n",
        "    right = right[:window_size]\n",
        "\n",
        "    if len(polarity) == 0:\n",
        "        polarity = 0\n",
        "    else:\n",
        "        polarity = int(sum(polarity)/len(polarity))\n",
        "   \n",
        "    left.extend(aspect_term)\n",
        "    left.extend(right)\n",
        "    return {\n",
        "        \"local_context\":left,\n",
        "        \"global_context\":sentence,\n",
        "        \"aspect_term\":aspect_term,\n",
        "        \"polarity\":polarity,\n",
        "    }\n",
        "\n",
        "def chop(sentence, aspect_tag, polarity_tag, window_size=5):\n",
        "    ret_aspect_clusters = []\n",
        "#     ret_aspect_clusters = {\n",
        "#         \"context\":list(),\n",
        "#         \"aspect_term\":list(),\n",
        "#         \"polarity\":list(),\n",
        "#     }\n",
        "    left = []\n",
        "    right = []\n",
        "    aspect_term = []\n",
        "    polarity = []\n",
        "    doing_left = True\n",
        "    doing_right = False\n",
        "    doing_aspect = False\n",
        "    for i in range(len(sentence)):\n",
        "        # check if the current token is an aspect term\n",
        "        if aspect_tag[i] == 0:\n",
        "            if doing_left:\n",
        "                doing_aspect = True\n",
        "                doing_left = False\n",
        "            elif doing_right:\n",
        "                doing_right = False\n",
        "                doing_aspect = True\n",
        "                # Now, need to save the previous aspect term cluster\n",
        "                ret_aspect_clusters.append(get_new_aspect_cluster(\n",
        "                    left, right, aspect_term, polarity, sentence, window_size=window_size))\n",
        "                left = right\n",
        "                right = []\n",
        "                aspect_term = []\n",
        "                polarity = []\n",
        "            aspect_term.append(sentence[i])\n",
        "            polarity.append(polarity_tag[i])\n",
        "        else:\n",
        "            if doing_left:\n",
        "                left.append(sentence[i])\n",
        "            elif doing_right:\n",
        "                right.append(sentence[i])\n",
        "            else:\n",
        "                doing_aspect = False\n",
        "                doing_right = True\n",
        "                right.append(sentence[i])\n",
        "                \n",
        "    ret_aspect_clusters.append(get_new_aspect_cluster(\n",
        "        left, right, aspect_term, polarity, sentence, window_size=window_size))\n",
        "    \n",
        "    return ret_aspect_clusters"
      ]
    },
    {
      "cell_type": "code",
      "execution_count": 9,
      "id": "ee3e84f1",
      "metadata": {},
      "outputs": [],
      "source": [
        "def upsample_polarity(all_aspect_clusters):\n",
        "    neg_list = []\n",
        "    neu_list = []\n",
        "    pos_list = []\n",
        "\n",
        "    for item in all_aspect_clusters:\n",
        "        if item['polarity'] == 2:\n",
        "            neg_list.append(item)\n",
        "        elif item['polarity'] == 0:\n",
        "            neu_list.append(item)\n",
        "        else:\n",
        "            pos_list.append(item)\n",
        "\n",
        "    num_to_add = len(pos_list) - len(neg_list)\n",
        "    for i in range(num_to_add):\n",
        "        idx = random.randint(0, len(neg_list)-1)\n",
        "        neg_list.append(neg_list[idx])\n",
        "\n",
        "    num_to_add = len(pos_list) - len(neu_list)\n",
        "    for i in range(num_to_add):\n",
        "        idx = random.randint(0, len(neu_list)-1)\n",
        "        neu_list.append(neu_list[idx])    \n",
        "\n",
        "    all_aspect_clusters = neg_list\n",
        "    all_aspect_clusters.extend(neu_list)\n",
        "    all_aspect_clusters.extend(pos_list)  \n",
        "\n",
        "    return all_aspect_clusters"
      ]
    },
    {
      "cell_type": "code",
      "execution_count": 10,
      "metadata": {
        "id": "MIElcOeLQVR0"
      },
      "outputs": [],
      "source": [
        "# generate word_index list\n",
        "def build_vocab(df):\n",
        "    word_idx = {}\n",
        "    for idx, word in enumerate(sorted(set(df.text.values))):\n",
        "        word_idx[word] = idx + 1\n",
        "    return word_idx\n",
        "\n",
        "def gen_np_embedding(fn, word_idx, dim=100, emb=False):\n",
        "    if emb:\n",
        "        model = load_model(fn + \".bin\")\n",
        "    embedding = np.zeros((len(word_idx) + 2, dim))\n",
        "\n",
        "    with open(fn, encoding=\"utf8\") as f:\n",
        "        for l in f:\n",
        "            # for each line, get the word and its vector\n",
        "            rec = l.rstrip().split(' ')\n",
        "            if len(rec) == 2:  # skip the first line.\n",
        "                continue\n",
        "                # if the word in word_idx, fill the embedding\n",
        "            if rec[0] in word_idx:\n",
        "                embedding[word_idx[rec[0]]] = np.array([float(r) for r in rec[1:]])\n",
        "    for w in word_idx:\n",
        "        if embedding[word_idx[w]].sum() == 0.:\n",
        "            if emb:\n",
        "                embedding[word_idx[w]] = model.get_word_vector(w)\n",
        "    return embedding\n",
        "\n",
        "def create_train_data_restaurant(all_aspect_clusters,  word_idx, sent_len=83):\n",
        "\n",
        "    train_X_local = np.zeros((len(all_aspect_clusters), sent_len), np.int16)\n",
        "    train_X_global = np.zeros((len(all_aspect_clusters), sent_len), np.int16)\n",
        "\n",
        "    train_y = np.zeros(len(all_aspect_clusters), np.int16)\n",
        "\n",
        "    # iterate the asoect\n",
        "    for sx, sent in enumerate(all_aspect_clusters):\n",
        "        train_y[sx] = sent['polarity']\n",
        "        global_sentence = sent['global_context']\n",
        "        local_sentence = sent['local_context']\n",
        "        # write word index and tag in train_X\n",
        "        try:\n",
        "            for wx, word in enumerate(global_sentence):\n",
        "                train_X_global[sx, wx] = word_idx[word]\n",
        "\n",
        "            for wx, word in enumerate(local_sentence):\n",
        "                train_X_local[sx, wx] = word_idx[word]\n",
        "\n",
        "        except KeyError:\n",
        "            continue\n",
        "\n",
        "    return train_X_local, train_X_global, train_y\n",
        "\n",
        "\n",
        "def get_default_device():\n",
        "    \"\"\"Pick GPU if available, else CPU\"\"\"\n",
        "    if torch.cuda.is_available():\n",
        "        return torch.device('cuda')\n",
        "    else:\n",
        "        return torch.device('cpu')\n",
        "\n",
        "\n",
        "def to_device(data, device):\n",
        "    \"\"\"Move tensor(s) to chosen device\"\"\"\n",
        "    if isinstance(data, (list, tuple)):\n",
        "        return [to_device(x, device) for x in data]\n",
        "    elif isinstance(data, dict):\n",
        "        for k, v in data.items():\n",
        "            data[k] = v.to(device)\n",
        "        return data\n",
        "    return data.to(device, non_blocking=True)\n",
        "\n",
        "\n",
        "class DeviceDataLoader():\n",
        "    \"\"\"Wrap a dataloader to move data to a device\"\"\"\n",
        "\n",
        "    def __init__(self, dl, device):\n",
        "        self.dl = dl\n",
        "        self.device = device\n",
        "\n",
        "    def __iter__(self):\n",
        "        \"\"\"Yield a batch of data after moving it to device\"\"\"\n",
        "        for b in self.dl:\n",
        "            yield to_device(b, self.device)\n",
        "\n",
        "    def __len__(self):\n",
        "        \"\"\"Number of batches\"\"\"\n",
        "        return len(self.dl)\n",
        "\n",
        "\n",
        "def loss_fn(pred, label, num_label):\n",
        "    pred = pred.view(-1,num_label)\n",
        "    label = label.view(-1)\n",
        "    loss = torch.nn.functional.cross_entropy(pred, label)\n",
        "    return loss\n",
        "\n",
        "\n",
        "def cal_acc(pred_tags, true_tags):\n",
        "    if isinstance(pred_tags, list):\n",
        "        pred_tags = torch.cat(pred_tags, 0)\n",
        "        true_tags = torch.cat(true_tags, 0)\n",
        "    acc = (pred_tags == true_tags).sum() / pred_tags.numel()\n",
        "    f1 = f1_score(true_tags.cpu().numpy(), pred_tags.cpu().numpy(), labels=[0, 1, 2], average='weighted')\n",
        "    cm = confusion_matrix(true_tags.cpu().numpy(), pred_tags.cpu().numpy())\n",
        "    return acc, f1, cm\n",
        "\n",
        "\n",
        "class Model(torch.nn.Module):\n",
        "    def __init__(self, gen_emb, num_classes=3, alpha = 0.6):\n",
        "        super(Model, self).__init__()\n",
        "  \n",
        "        self.embed = nn.Embedding.from_pretrained(torch.tensor(gen_emb, dtype=torch.float))\n",
        "\n",
        "        self.lstm = nn.LSTM(gen_emb.shape[1], hidden_size=150, num_layers=1, bidirectional=True, batch_first=True)\n",
        "        self.dense = nn.Linear(150*2, num_classes)\n",
        "\n",
        "        self.alpha = alpha\n",
        "        self.dropout = nn.Dropout(0.3)\n",
        "\n",
        "\n",
        "    def forward(self, x_train_local, x_train_global):\n",
        "        x_local = self.embed(x_train_local)\n",
        "        \n",
        "        local_seq_lengths = np.sum(np.array(x_train_local) !=0, axis=1)\n",
        "   \n",
        "        x_emb_l = torch.nn.utils.rnn.pack_padded_sequence(x_local, local_seq_lengths, batch_first=True, enforce_sorted=False)\n",
        "\n",
        "        _, (h_n, _) = self.lstm(x_emb_l.float())\n",
        "\n",
        "        h_n = torch.cat([h_n[-2,:,:], h_n[-1,:,:]], dim=1)\n",
        "\n",
        "        x_global = self.embed(x_train_global)\n",
        "\n",
        "\n",
        "        global_seq_lengths = np.sum(np.array(x_train_global) !=0, axis=1)\n",
        "\n",
        "        x_emb_g = torch.nn.utils.rnn.pack_padded_sequence(x_global, global_seq_lengths, batch_first=True, enforce_sorted=False)\n",
        "\n",
        "        _, (h_n_g,_) = self.lstm(x_emb_g.float())\n",
        "\n",
        "        h_n_g = torch.cat([h_n_g[-2,:,:], h_n_g[-1,:,:]], dim=1)\n",
        "\n",
        "        avg_pool = torch.div(torch.add(h_n * (1 - self.alpha), h_n_g * self.alpha), 2)\n",
        "        out = self.dropout(avg_pool)\n",
        "\n",
        "        out = self.dense(out)\n",
        "\n",
        "        out = torch.nn.functional.log_softmax(out)\n",
        "\n",
        "        return out"
      ]
    },
    {
      "cell_type": "code",
      "execution_count": 11,
      "metadata": {},
      "outputs": [],
      "source": [
        "word_indx = build_vocab(df)\n",
        "    \n",
        "fn = DATA_DIR + 'glove.840B.300d.txt'\n",
        "general_embedding = gen_np_embedding(fn, word_indx, dim=300, emb=False)"
      ]
    },
    {
      "cell_type": "code",
      "execution_count": 15,
      "metadata": {},
      "outputs": [],
      "source": [
        "all_aspect_clusters = []\n",
        "for i in range(len(sentences)):\n",
        "    all_aspect_clusters.extend(chop(sentences[i], aspect_tags[i], polarity_tags[i]))\n",
        "\n",
        "local_context, global_context, y = create_train_data_restaurant(all_aspect_clusters ,word_indx, sent_len=85)\n",
        "\n",
        "X_l_train, X_l_valid, X_g_train, X_g_valid,  y_train, y_valid = train_test_split(local_context, global_context, y, test_size=VALID_SIZE)\n"
      ]
    },
    {
      "cell_type": "code",
      "execution_count": 16,
      "metadata": {},
      "outputs": [
        {
          "name": "stdout",
          "output_type": "stream",
          "text": [
            "train samples:4641\n",
            "valid samples:1161\n"
          ]
        }
      ],
      "source": [
        "device = get_default_device()\n",
        "\n",
        "NUM_EPOCHS = 20\n",
        "TRAIN_BATCH_SIZE = 128\n",
        "VALID_BATCH_SIZE = 1024\n",
        "\n",
        "NUM_POLARITY_TAGS = 3\n",
        "\n",
        "history = {\n",
        "    \"train_loss\": list(),\n",
        "    \"polarity_train_acc\": list(),\n",
        "    \"valid_loss\": list(),\n",
        "    \"polarity_valid_acc\": list(),\n",
        "}\n",
        "\n",
        "best_loss = np.inf\n",
        "\n",
        "dataset = TensorDataset(torch.Tensor(X_l_train), torch.Tensor(X_g_train), torch.Tensor(y_train))\n",
        "print(f\"train samples:{len(dataset)}\")\n",
        "train_loader = DataLoader(dataset, batch_size=TRAIN_BATCH_SIZE, shuffle=True, drop_last=True)\n",
        "\n",
        "dataset_valid = TensorDataset(torch.Tensor(X_l_valid),  torch.Tensor(X_g_valid), torch.Tensor(y_valid))\n",
        "print(f\"valid samples:{len(dataset_valid)}\")\n",
        "test_loader = DataLoader(dataset_valid, batch_size=VALID_BATCH_SIZE)\n",
        "\n",
        "model = to_device(Model(general_embedding,  num_classes=3, alpha = 0), device)"
      ]
    },
    {
      "cell_type": "code",
      "execution_count": 17,
      "metadata": {},
      "outputs": [
        {
          "name": "stdout",
          "output_type": "stream",
          "text": [
            "Model(\n",
            "  (embed): Embedding(6395, 300)\n",
            "  (lstm): LSTM(300, 150, batch_first=True, bidirectional=True)\n",
            "  (dense): Linear(in_features=300, out_features=3, bias=True)\n",
            "  (dropout): Dropout(p=0.3, inplace=False)\n",
            ")\n"
          ]
        }
      ],
      "source": [
        "print(model)"
      ]
    },
    {
      "cell_type": "code",
      "execution_count": 13,
      "metadata": {},
      "outputs": [],
      "source": [
        "def get_classification_report(test_loader, model, model_path=None):\n",
        "    if model_path is not None: # load the saved model\n",
        "        print('Loading saved model from: {}'.format(model_path))\n",
        "        model.load_state_dict(torch.load(model_path))\n",
        "    model = to_device(model, device)   \n",
        "    \n",
        "    model.eval()\n",
        "    final_pred_polarity_tags = []\n",
        "    final_true_polarity_tags = []\n",
        "\n",
        "\n",
        "    with torch.no_grad():\n",
        "        for data in tqdm(test_loader, total=len(test_loader)):\n",
        "            for i in range(len(data)):\n",
        "                data[i] = data[i].to(device)\n",
        "\n",
        "            l_feature, g_feature, label = data\n",
        "            l_feature, g_feature, label = l_feature.long(), g_feature.long(), label.long()\n",
        "            pred_logits = model(l_feature, g_feature)\n",
        "\n",
        "            pred_tags = pred_logits.max(-1)[1]\n",
        "\n",
        "            final_pred_polarity_tags.extend(pred_tags)\n",
        "            final_true_polarity_tags.extend(label)\n",
        "\n",
        "    final_pred_polarity_tags = torch.stack(final_pred_polarity_tags).cpu()\n",
        "    final_true_polarity_tags = torch.stack(final_true_polarity_tags).cpu()\n",
        "        \n",
        "    print(classification_report(final_true_polarity_tags, final_pred_polarity_tags, \n",
        "                                target_names=[\"Neutral\", \"Positive\", \"Negative\"]))"
      ]
    },
    {
      "cell_type": "markdown",
      "metadata": {},
      "source": [
        "## upsampling = False"
      ]
    },
    {
      "cell_type": "code",
      "execution_count": 16,
      "metadata": {},
      "outputs": [
        {
          "name": "stdout",
          "output_type": "stream",
          "text": [
            "\n",
            "******************************************************************************************\n",
            "Alpha Size: 0.6\n",
            "Window Size: 2\n",
            "******************************************************************************************\n",
            "\n",
            "train samples:4641\n",
            "valid samples:1161\n"
          ]
        },
        {
          "name": "stderr",
          "output_type": "stream",
          "text": [
            "  0%|          | 0/36 [00:00<?, ?it/s]/var/folders/3c/71b8pg6d7j5dht_5h_2n4n_c0000gn/T/ipykernel_8755/1114866685.py:147: UserWarning: Implicit dimension choice for log_softmax has been deprecated. Change the call to include dim=X as an argument.\n",
            "  out = torch.nn.functional.log_softmax(out)\n",
            "100%|██████████| 36/36 [00:09<00:00,  3.77it/s]\n",
            "  0%|          | 0/2 [00:00<?, ?it/s]/var/folders/3c/71b8pg6d7j5dht_5h_2n4n_c0000gn/T/ipykernel_8755/1114866685.py:147: UserWarning: Implicit dimension choice for log_softmax has been deprecated. Change the call to include dim=X as an argument.\n",
            "  out = torch.nn.functional.log_softmax(out)\n",
            "100%|██████████| 2/2 [00:00<00:00,  4.21it/s]\n"
          ]
        },
        {
          "name": "stdout",
          "output_type": "stream",
          "text": [
            "\n",
            "epoch 0\n",
            "\ttrain_loss:1.064 valid_loss:1.034\n",
            "\ttrain_acc:51.39% valid_acc:53.40%\n",
            "\ttrain_f1:0.374 valid_f1:0.377\n",
            "\ttrain_confusion_matrix:\n",
            "[[  41  850    0]\n",
            " [  90 2319    4]\n",
            " [  46 1250    8]]\n",
            "\tvalid_confusion_matrix:\n",
            "[[  0 220   0]\n",
            " [  0 616   3]\n",
            " [  0 318   4]]\n"
          ]
        },
        {
          "name": "stderr",
          "output_type": "stream",
          "text": [
            "  0%|          | 0/36 [00:00<?, ?it/s]/var/folders/3c/71b8pg6d7j5dht_5h_2n4n_c0000gn/T/ipykernel_8755/1114866685.py:147: UserWarning: Implicit dimension choice for log_softmax has been deprecated. Change the call to include dim=X as an argument.\n",
            "  out = torch.nn.functional.log_softmax(out)\n",
            "100%|██████████| 36/36 [00:08<00:00,  4.23it/s]\n",
            "  0%|          | 0/2 [00:00<?, ?it/s]/var/folders/3c/71b8pg6d7j5dht_5h_2n4n_c0000gn/T/ipykernel_8755/1114866685.py:147: UserWarning: Implicit dimension choice for log_softmax has been deprecated. Change the call to include dim=X as an argument.\n",
            "  out = torch.nn.functional.log_softmax(out)\n",
            "100%|██████████| 2/2 [00:00<00:00,  4.19it/s]\n"
          ]
        },
        {
          "name": "stdout",
          "output_type": "stream",
          "text": [
            "\n",
            "epoch 1\n",
            "\ttrain_loss:1.005 valid_loss:0.988\n",
            "\ttrain_acc:52.39% valid_acc:53.49%\n",
            "\ttrain_f1:0.362 valid_f1:0.376\n",
            "\ttrain_confusion_matrix:\n",
            "[[   0  898    0]\n",
            " [   0 2406    1]\n",
            " [   0 1295    8]]\n",
            "\tvalid_confusion_matrix:\n",
            "[[  0 220   0]\n",
            " [  0 618   1]\n",
            " [  0 319   3]]\n"
          ]
        },
        {
          "name": "stderr",
          "output_type": "stream",
          "text": [
            "  0%|          | 0/36 [00:00<?, ?it/s]/var/folders/3c/71b8pg6d7j5dht_5h_2n4n_c0000gn/T/ipykernel_8755/1114866685.py:147: UserWarning: Implicit dimension choice for log_softmax has been deprecated. Change the call to include dim=X as an argument.\n",
            "  out = torch.nn.functional.log_softmax(out)\n",
            "100%|██████████| 36/36 [00:10<00:00,  3.57it/s]\n",
            "  0%|          | 0/2 [00:00<?, ?it/s]/var/folders/3c/71b8pg6d7j5dht_5h_2n4n_c0000gn/T/ipykernel_8755/1114866685.py:147: UserWarning: Implicit dimension choice for log_softmax has been deprecated. Change the call to include dim=X as an argument.\n",
            "  out = torch.nn.functional.log_softmax(out)\n",
            "100%|██████████| 2/2 [00:00<00:00,  5.56it/s]\n"
          ]
        },
        {
          "name": "stdout",
          "output_type": "stream",
          "text": [
            "\n",
            "epoch 2\n",
            "\ttrain_loss:0.958 valid_loss:0.937\n",
            "\ttrain_acc:52.65% valid_acc:53.92%\n",
            "\ttrain_f1:0.367 valid_f1:0.389\n",
            "\ttrain_confusion_matrix:\n",
            "[[   0  893    0]\n",
            " [   0 2409    0]\n",
            " [   0 1289   17]]\n",
            "\tvalid_confusion_matrix:\n",
            "[[  0 218   2]\n",
            " [  0 616   3]\n",
            " [  0 312  10]]\n"
          ]
        },
        {
          "name": "stderr",
          "output_type": "stream",
          "text": [
            "  0%|          | 0/36 [00:00<?, ?it/s]/var/folders/3c/71b8pg6d7j5dht_5h_2n4n_c0000gn/T/ipykernel_8755/1114866685.py:147: UserWarning: Implicit dimension choice for log_softmax has been deprecated. Change the call to include dim=X as an argument.\n",
            "  out = torch.nn.functional.log_softmax(out)\n",
            "100%|██████████| 36/36 [00:08<00:00,  4.01it/s]\n",
            "  0%|          | 0/2 [00:00<?, ?it/s]/var/folders/3c/71b8pg6d7j5dht_5h_2n4n_c0000gn/T/ipykernel_8755/1114866685.py:147: UserWarning: Implicit dimension choice for log_softmax has been deprecated. Change the call to include dim=X as an argument.\n",
            "  out = torch.nn.functional.log_softmax(out)\n",
            "100%|██████████| 2/2 [00:00<00:00,  4.37it/s]\n"
          ]
        },
        {
          "name": "stdout",
          "output_type": "stream",
          "text": [
            "\n",
            "epoch 3\n",
            "\ttrain_loss:0.890 valid_loss:0.854\n",
            "\ttrain_acc:57.83% valid_acc:62.70%\n",
            "\ttrain_f1:0.477 valid_f1:0.556\n",
            "\ttrain_confusion_matrix:\n",
            "[[   0  776  117]\n",
            " [   0 2344   62]\n",
            " [   0  988  321]]\n",
            "\tvalid_confusion_matrix:\n",
            "[[  0 128  92]\n",
            " [  0 550  69]\n",
            " [  0 144 178]]\n"
          ]
        },
        {
          "name": "stderr",
          "output_type": "stream",
          "text": [
            "  0%|          | 0/36 [00:00<?, ?it/s]/var/folders/3c/71b8pg6d7j5dht_5h_2n4n_c0000gn/T/ipykernel_8755/1114866685.py:147: UserWarning: Implicit dimension choice for log_softmax has been deprecated. Change the call to include dim=X as an argument.\n",
            "  out = torch.nn.functional.log_softmax(out)\n",
            "100%|██████████| 36/36 [00:09<00:00,  3.95it/s]\n",
            "  0%|          | 0/2 [00:00<?, ?it/s]/var/folders/3c/71b8pg6d7j5dht_5h_2n4n_c0000gn/T/ipykernel_8755/1114866685.py:147: UserWarning: Implicit dimension choice for log_softmax has been deprecated. Change the call to include dim=X as an argument.\n",
            "  out = torch.nn.functional.log_softmax(out)\n",
            "100%|██████████| 2/2 [00:00<00:00,  6.19it/s]\n"
          ]
        },
        {
          "name": "stdout",
          "output_type": "stream",
          "text": [
            "\n",
            "epoch 4\n",
            "\ttrain_loss:0.827 valid_loss:0.803\n",
            "\ttrain_acc:64.04% valid_acc:64.86%\n",
            "\ttrain_f1:0.572 valid_f1:0.584\n",
            "\ttrain_confusion_matrix:\n",
            "[[   0  430  464]\n",
            " [   0 2082  322]\n",
            " [   0  441  869]]\n",
            "\tvalid_confusion_matrix:\n",
            "[[  0  95 125]\n",
            " [  0 526  93]\n",
            " [  0  95 227]]\n"
          ]
        },
        {
          "name": "stderr",
          "output_type": "stream",
          "text": [
            "  0%|          | 0/36 [00:00<?, ?it/s]/var/folders/3c/71b8pg6d7j5dht_5h_2n4n_c0000gn/T/ipykernel_8755/1114866685.py:147: UserWarning: Implicit dimension choice for log_softmax has been deprecated. Change the call to include dim=X as an argument.\n",
            "  out = torch.nn.functional.log_softmax(out)\n",
            "100%|██████████| 36/36 [00:09<00:00,  3.76it/s]\n",
            "  0%|          | 0/2 [00:00<?, ?it/s]/var/folders/3c/71b8pg6d7j5dht_5h_2n4n_c0000gn/T/ipykernel_8755/1114866685.py:147: UserWarning: Implicit dimension choice for log_softmax has been deprecated. Change the call to include dim=X as an argument.\n",
            "  out = torch.nn.functional.log_softmax(out)\n",
            "100%|██████████| 2/2 [00:00<00:00,  4.79it/s]\n"
          ]
        },
        {
          "name": "stdout",
          "output_type": "stream",
          "text": [
            "\n",
            "epoch 5\n",
            "\ttrain_loss:0.792 valid_loss:0.790\n",
            "\ttrain_acc:65.13% valid_acc:65.12%\n",
            "\ttrain_f1:0.587 valid_f1:0.587\n",
            "\ttrain_confusion_matrix:\n",
            "[[   0  339  553]\n",
            " [   0 2010  398]\n",
            " [   0  317  991]]\n",
            "\tvalid_confusion_matrix:\n",
            "[[  0  94 126]\n",
            " [  0 522  97]\n",
            " [  0  88 234]]\n"
          ]
        },
        {
          "name": "stderr",
          "output_type": "stream",
          "text": [
            "  0%|          | 0/36 [00:00<?, ?it/s]/var/folders/3c/71b8pg6d7j5dht_5h_2n4n_c0000gn/T/ipykernel_8755/1114866685.py:147: UserWarning: Implicit dimension choice for log_softmax has been deprecated. Change the call to include dim=X as an argument.\n",
            "  out = torch.nn.functional.log_softmax(out)\n",
            "100%|██████████| 36/36 [00:09<00:00,  3.71it/s]\n",
            "  0%|          | 0/2 [00:00<?, ?it/s]/var/folders/3c/71b8pg6d7j5dht_5h_2n4n_c0000gn/T/ipykernel_8755/1114866685.py:147: UserWarning: Implicit dimension choice for log_softmax has been deprecated. Change the call to include dim=X as an argument.\n",
            "  out = torch.nn.functional.log_softmax(out)\n",
            "100%|██████████| 2/2 [00:00<00:00,  6.70it/s]\n"
          ]
        },
        {
          "name": "stdout",
          "output_type": "stream",
          "text": [
            "\n",
            "epoch 6\n",
            "\ttrain_loss:0.764 valid_loss:0.765\n",
            "\ttrain_acc:66.17% valid_acc:66.41%\n",
            "\ttrain_f1:0.596 valid_f1:0.603\n",
            "\ttrain_confusion_matrix:\n",
            "[[   2  347  545]\n",
            " [   0 2045  363]\n",
            " [   0  304 1002]]\n",
            "\tvalid_confusion_matrix:\n",
            "[[  2  88 130]\n",
            " [  0 518 101]\n",
            " [  0  71 251]]\n"
          ]
        },
        {
          "name": "stderr",
          "output_type": "stream",
          "text": [
            "  0%|          | 0/36 [00:00<?, ?it/s]/var/folders/3c/71b8pg6d7j5dht_5h_2n4n_c0000gn/T/ipykernel_8755/1114866685.py:147: UserWarning: Implicit dimension choice for log_softmax has been deprecated. Change the call to include dim=X as an argument.\n",
            "  out = torch.nn.functional.log_softmax(out)\n",
            "100%|██████████| 36/36 [00:07<00:00,  4.57it/s]\n",
            "  0%|          | 0/2 [00:00<?, ?it/s]/var/folders/3c/71b8pg6d7j5dht_5h_2n4n_c0000gn/T/ipykernel_8755/1114866685.py:147: UserWarning: Implicit dimension choice for log_softmax has been deprecated. Change the call to include dim=X as an argument.\n",
            "  out = torch.nn.functional.log_softmax(out)\n",
            "100%|██████████| 2/2 [00:00<00:00,  6.13it/s]\n"
          ]
        },
        {
          "name": "stdout",
          "output_type": "stream",
          "text": [
            "\n",
            "epoch 7\n",
            "\ttrain_loss:0.743 valid_loss:0.742\n",
            "\ttrain_acc:67.47% valid_acc:66.93%\n",
            "\ttrain_f1:0.609 valid_f1:0.609\n",
            "\ttrain_confusion_matrix:\n",
            "[[   9  383  502]\n",
            " [   1 2089  320]\n",
            " [   1  292 1011]]\n",
            "\tvalid_confusion_matrix:\n",
            "[[  4  87 129]\n",
            " [  0 527  92]\n",
            " [  1  75 246]]\n"
          ]
        },
        {
          "name": "stderr",
          "output_type": "stream",
          "text": [
            "  0%|          | 0/36 [00:00<?, ?it/s]/var/folders/3c/71b8pg6d7j5dht_5h_2n4n_c0000gn/T/ipykernel_8755/1114866685.py:147: UserWarning: Implicit dimension choice for log_softmax has been deprecated. Change the call to include dim=X as an argument.\n",
            "  out = torch.nn.functional.log_softmax(out)\n",
            "100%|██████████| 36/36 [00:08<00:00,  4.45it/s]\n",
            "  0%|          | 0/2 [00:00<?, ?it/s]/var/folders/3c/71b8pg6d7j5dht_5h_2n4n_c0000gn/T/ipykernel_8755/1114866685.py:147: UserWarning: Implicit dimension choice for log_softmax has been deprecated. Change the call to include dim=X as an argument.\n",
            "  out = torch.nn.functional.log_softmax(out)\n",
            "100%|██████████| 2/2 [00:00<00:00,  5.45it/s]\n"
          ]
        },
        {
          "name": "stdout",
          "output_type": "stream",
          "text": [
            "\n",
            "epoch 8\n",
            "\ttrain_loss:0.727 valid_loss:0.729\n",
            "\ttrain_acc:68.08% valid_acc:67.96%\n",
            "\ttrain_f1:0.619 valid_f1:0.621\n",
            "\ttrain_confusion_matrix:\n",
            "[[  26  362  509]\n",
            " [   1 2082  320]\n",
            " [   2  277 1029]]\n",
            "\tvalid_confusion_matrix:\n",
            "[[  7  90 123]\n",
            " [  0 536  83]\n",
            " [  2  74 246]]\n"
          ]
        },
        {
          "name": "stderr",
          "output_type": "stream",
          "text": [
            "  0%|          | 0/36 [00:00<?, ?it/s]/var/folders/3c/71b8pg6d7j5dht_5h_2n4n_c0000gn/T/ipykernel_8755/1114866685.py:147: UserWarning: Implicit dimension choice for log_softmax has been deprecated. Change the call to include dim=X as an argument.\n",
            "  out = torch.nn.functional.log_softmax(out)\n",
            "100%|██████████| 36/36 [00:09<00:00,  3.93it/s]\n",
            "  0%|          | 0/2 [00:00<?, ?it/s]/var/folders/3c/71b8pg6d7j5dht_5h_2n4n_c0000gn/T/ipykernel_8755/1114866685.py:147: UserWarning: Implicit dimension choice for log_softmax has been deprecated. Change the call to include dim=X as an argument.\n",
            "  out = torch.nn.functional.log_softmax(out)\n",
            "100%|██████████| 2/2 [00:00<00:00,  4.57it/s]\n"
          ]
        },
        {
          "name": "stdout",
          "output_type": "stream",
          "text": [
            "\n",
            "epoch 9\n",
            "\ttrain_loss:0.708 valid_loss:0.725\n",
            "\ttrain_acc:69.47% valid_acc:68.65%\n",
            "\ttrain_f1:0.640 valid_f1:0.633\n",
            "\ttrain_confusion_matrix:\n",
            "[[  54  379  457]\n",
            " [   8 2104  295]\n",
            " [   8  260 1043]]\n",
            "\tvalid_confusion_matrix:\n",
            "[[ 13  93 114]\n",
            " [  1 546  72]\n",
            " [  3  81 238]]\n"
          ]
        },
        {
          "name": "stderr",
          "output_type": "stream",
          "text": [
            "  0%|          | 0/36 [00:00<?, ?it/s]/var/folders/3c/71b8pg6d7j5dht_5h_2n4n_c0000gn/T/ipykernel_8755/1114866685.py:147: UserWarning: Implicit dimension choice for log_softmax has been deprecated. Change the call to include dim=X as an argument.\n",
            "  out = torch.nn.functional.log_softmax(out)\n",
            "100%|██████████| 36/36 [00:08<00:00,  4.13it/s]\n",
            "  0%|          | 0/2 [00:00<?, ?it/s]/var/folders/3c/71b8pg6d7j5dht_5h_2n4n_c0000gn/T/ipykernel_8755/1114866685.py:147: UserWarning: Implicit dimension choice for log_softmax has been deprecated. Change the call to include dim=X as an argument.\n",
            "  out = torch.nn.functional.log_softmax(out)\n",
            "100%|██████████| 2/2 [00:00<00:00,  6.25it/s]\n"
          ]
        },
        {
          "name": "stdout",
          "output_type": "stream",
          "text": [
            "\n",
            "epoch 10\n",
            "\ttrain_loss:0.697 valid_loss:0.711\n",
            "\ttrain_acc:70.18% valid_acc:69.25%\n",
            "\ttrain_f1:0.656 valid_f1:0.650\n",
            "\ttrain_confusion_matrix:\n",
            "[[  88  326  480]\n",
            " [  24 2086  296]\n",
            " [  19  229 1060]]\n",
            "\tvalid_confusion_matrix:\n",
            "[[ 21  78 121]\n",
            " [  8 523  88]\n",
            " [  4  58 260]]\n"
          ]
        },
        {
          "name": "stderr",
          "output_type": "stream",
          "text": [
            "  0%|          | 0/36 [00:00<?, ?it/s]/var/folders/3c/71b8pg6d7j5dht_5h_2n4n_c0000gn/T/ipykernel_8755/1114866685.py:147: UserWarning: Implicit dimension choice for log_softmax has been deprecated. Change the call to include dim=X as an argument.\n",
            "  out = torch.nn.functional.log_softmax(out)\n",
            "100%|██████████| 36/36 [00:09<00:00,  3.96it/s]\n",
            "  0%|          | 0/2 [00:00<?, ?it/s]/var/folders/3c/71b8pg6d7j5dht_5h_2n4n_c0000gn/T/ipykernel_8755/1114866685.py:147: UserWarning: Implicit dimension choice for log_softmax has been deprecated. Change the call to include dim=X as an argument.\n",
            "  out = torch.nn.functional.log_softmax(out)\n",
            "100%|██████████| 2/2 [00:00<00:00,  6.09it/s]\n"
          ]
        },
        {
          "name": "stdout",
          "output_type": "stream",
          "text": [
            "\n",
            "epoch 11\n",
            "\ttrain_loss:0.682 valid_loss:0.705\n",
            "\ttrain_acc:71.18% valid_acc:69.68%\n",
            "\ttrain_f1:0.673 valid_f1:0.662\n",
            "\ttrain_confusion_matrix:\n",
            "[[ 126  345  419]\n",
            " [  40 2107  261]\n",
            " [  29  234 1047]]\n",
            "\tvalid_confusion_matrix:\n",
            "[[ 35  92  93]\n",
            " [  7 548  64]\n",
            " [ 15  81 226]]\n"
          ]
        },
        {
          "name": "stderr",
          "output_type": "stream",
          "text": [
            "  0%|          | 0/36 [00:00<?, ?it/s]/var/folders/3c/71b8pg6d7j5dht_5h_2n4n_c0000gn/T/ipykernel_8755/1114866685.py:147: UserWarning: Implicit dimension choice for log_softmax has been deprecated. Change the call to include dim=X as an argument.\n",
            "  out = torch.nn.functional.log_softmax(out)\n",
            "100%|██████████| 36/36 [00:10<00:00,  3.57it/s]\n",
            "  0%|          | 0/2 [00:00<?, ?it/s]/var/folders/3c/71b8pg6d7j5dht_5h_2n4n_c0000gn/T/ipykernel_8755/1114866685.py:147: UserWarning: Implicit dimension choice for log_softmax has been deprecated. Change the call to include dim=X as an argument.\n",
            "  out = torch.nn.functional.log_softmax(out)\n",
            "100%|██████████| 2/2 [00:00<00:00,  4.83it/s]\n"
          ]
        },
        {
          "name": "stdout",
          "output_type": "stream",
          "text": [
            "\n",
            "epoch 12\n",
            "\ttrain_loss:0.674 valid_loss:0.703\n",
            "\ttrain_acc:72.42% valid_acc:70.20%\n",
            "\ttrain_f1:0.693 valid_f1:0.672\n",
            "\ttrain_confusion_matrix:\n",
            "[[ 175  349  369]\n",
            " [  50 2134  227]\n",
            " [  55  221 1028]]\n",
            "\tvalid_confusion_matrix:\n",
            "[[ 40  84  96]\n",
            " [  9 538  72]\n",
            " [ 14  71 237]]\n"
          ]
        },
        {
          "name": "stderr",
          "output_type": "stream",
          "text": [
            "  0%|          | 0/36 [00:00<?, ?it/s]/var/folders/3c/71b8pg6d7j5dht_5h_2n4n_c0000gn/T/ipykernel_8755/1114866685.py:147: UserWarning: Implicit dimension choice for log_softmax has been deprecated. Change the call to include dim=X as an argument.\n",
            "  out = torch.nn.functional.log_softmax(out)\n",
            "100%|██████████| 36/36 [00:07<00:00,  4.74it/s]\n",
            "  0%|          | 0/2 [00:00<?, ?it/s]/var/folders/3c/71b8pg6d7j5dht_5h_2n4n_c0000gn/T/ipykernel_8755/1114866685.py:147: UserWarning: Implicit dimension choice for log_softmax has been deprecated. Change the call to include dim=X as an argument.\n",
            "  out = torch.nn.functional.log_softmax(out)\n",
            "100%|██████████| 2/2 [00:00<00:00,  7.15it/s]\n"
          ]
        },
        {
          "name": "stdout",
          "output_type": "stream",
          "text": [
            "\n",
            "epoch 13\n",
            "\ttrain_loss:0.662 valid_loss:0.696\n",
            "\ttrain_acc:72.61% valid_acc:70.54%\n",
            "\ttrain_f1:0.699 valid_f1:0.681\n",
            "\ttrain_confusion_matrix:\n",
            "[[ 198  323  369]\n",
            " [  63 2121  227]\n",
            " [  56  224 1027]]\n",
            "\tvalid_confusion_matrix:\n",
            "[[ 45  74 101]\n",
            " [ 23 524  72]\n",
            " [ 15  57 250]]\n"
          ]
        },
        {
          "name": "stderr",
          "output_type": "stream",
          "text": [
            "  0%|          | 0/36 [00:00<?, ?it/s]/var/folders/3c/71b8pg6d7j5dht_5h_2n4n_c0000gn/T/ipykernel_8755/1114866685.py:147: UserWarning: Implicit dimension choice for log_softmax has been deprecated. Change the call to include dim=X as an argument.\n",
            "  out = torch.nn.functional.log_softmax(out)\n",
            "100%|██████████| 36/36 [00:07<00:00,  4.71it/s]\n",
            "  0%|          | 0/2 [00:00<?, ?it/s]/var/folders/3c/71b8pg6d7j5dht_5h_2n4n_c0000gn/T/ipykernel_8755/1114866685.py:147: UserWarning: Implicit dimension choice for log_softmax has been deprecated. Change the call to include dim=X as an argument.\n",
            "  out = torch.nn.functional.log_softmax(out)\n",
            "100%|██████████| 2/2 [00:00<00:00,  6.27it/s]\n"
          ]
        },
        {
          "name": "stdout",
          "output_type": "stream",
          "text": [
            "\n",
            "epoch 14\n",
            "\ttrain_loss:0.653 valid_loss:0.714\n",
            "\ttrain_acc:73.31% valid_acc:70.80%\n",
            "\ttrain_f1:0.710 valid_f1:0.675\n",
            "\ttrain_confusion_matrix:\n",
            "[[ 230  313  348]\n",
            " [  82 2140  187]\n",
            " [  81  219 1008]]\n",
            "\tvalid_confusion_matrix:\n",
            "[[ 39  94  87]\n",
            " [ 13 555  51]\n",
            " [ 19  75 228]]\n"
          ]
        },
        {
          "name": "stderr",
          "output_type": "stream",
          "text": [
            "  0%|          | 0/36 [00:00<?, ?it/s]/var/folders/3c/71b8pg6d7j5dht_5h_2n4n_c0000gn/T/ipykernel_8755/1114866685.py:147: UserWarning: Implicit dimension choice for log_softmax has been deprecated. Change the call to include dim=X as an argument.\n",
            "  out = torch.nn.functional.log_softmax(out)\n",
            "100%|██████████| 36/36 [00:07<00:00,  4.96it/s]\n",
            "  0%|          | 0/2 [00:00<?, ?it/s]/var/folders/3c/71b8pg6d7j5dht_5h_2n4n_c0000gn/T/ipykernel_8755/1114866685.py:147: UserWarning: Implicit dimension choice for log_softmax has been deprecated. Change the call to include dim=X as an argument.\n",
            "  out = torch.nn.functional.log_softmax(out)\n",
            "100%|██████████| 2/2 [00:00<00:00,  6.71it/s]\n"
          ]
        },
        {
          "name": "stdout",
          "output_type": "stream",
          "text": [
            "\n",
            "epoch 15\n",
            "\ttrain_loss:0.640 valid_loss:0.679\n",
            "\ttrain_acc:73.83% valid_acc:71.06%\n",
            "\ttrain_f1:0.717 valid_f1:0.687\n",
            "\ttrain_confusion_matrix:\n",
            "[[ 238  304  347]\n",
            " [  79 2128  203]\n",
            " [  80  193 1036]]\n",
            "\tvalid_confusion_matrix:\n",
            "[[ 51  80  89]\n",
            " [ 17 540  62]\n",
            " [ 23  65 234]]\n"
          ]
        },
        {
          "name": "stderr",
          "output_type": "stream",
          "text": [
            "  0%|          | 0/36 [00:00<?, ?it/s]/var/folders/3c/71b8pg6d7j5dht_5h_2n4n_c0000gn/T/ipykernel_8755/1114866685.py:147: UserWarning: Implicit dimension choice for log_softmax has been deprecated. Change the call to include dim=X as an argument.\n",
            "  out = torch.nn.functional.log_softmax(out)\n",
            "100%|██████████| 36/36 [00:07<00:00,  4.93it/s]\n",
            "  0%|          | 0/2 [00:00<?, ?it/s]/var/folders/3c/71b8pg6d7j5dht_5h_2n4n_c0000gn/T/ipykernel_8755/1114866685.py:147: UserWarning: Implicit dimension choice for log_softmax has been deprecated. Change the call to include dim=X as an argument.\n",
            "  out = torch.nn.functional.log_softmax(out)\n",
            "100%|██████████| 2/2 [00:00<00:00,  6.67it/s]\n"
          ]
        },
        {
          "name": "stdout",
          "output_type": "stream",
          "text": [
            "\n",
            "epoch 16\n",
            "\ttrain_loss:0.633 valid_loss:0.679\n",
            "\ttrain_acc:73.81% valid_acc:71.49%\n",
            "\ttrain_f1:0.719 valid_f1:0.699\n",
            "\ttrain_confusion_matrix:\n",
            "[[ 256  312  323]\n",
            " [  90 2131  192]\n",
            " [  93  197 1014]]\n",
            "\tvalid_confusion_matrix:\n",
            "[[ 62  74  84]\n",
            " [ 27 533  59]\n",
            " [ 31  56 235]]\n"
          ]
        },
        {
          "name": "stderr",
          "output_type": "stream",
          "text": [
            "  0%|          | 0/36 [00:00<?, ?it/s]/var/folders/3c/71b8pg6d7j5dht_5h_2n4n_c0000gn/T/ipykernel_8755/1114866685.py:147: UserWarning: Implicit dimension choice for log_softmax has been deprecated. Change the call to include dim=X as an argument.\n",
            "  out = torch.nn.functional.log_softmax(out)\n",
            "100%|██████████| 36/36 [00:07<00:00,  4.91it/s]\n",
            "  0%|          | 0/2 [00:00<?, ?it/s]/var/folders/3c/71b8pg6d7j5dht_5h_2n4n_c0000gn/T/ipykernel_8755/1114866685.py:147: UserWarning: Implicit dimension choice for log_softmax has been deprecated. Change the call to include dim=X as an argument.\n",
            "  out = torch.nn.functional.log_softmax(out)\n",
            "100%|██████████| 2/2 [00:00<00:00,  6.87it/s]\n"
          ]
        },
        {
          "name": "stdout",
          "output_type": "stream",
          "text": [
            "\n",
            "epoch 17\n",
            "\ttrain_loss:0.624 valid_loss:0.685\n",
            "\ttrain_acc:74.63% valid_acc:71.15%\n",
            "\ttrain_f1:0.728 valid_f1:0.689\n",
            "\ttrain_confusion_matrix:\n",
            "[[ 268  311  308]\n",
            " [ 100 2142  168]\n",
            " [  97  185 1029]]\n",
            "\tvalid_confusion_matrix:\n",
            "[[ 52  82  86]\n",
            " [ 22 541  56]\n",
            " [ 25  64 233]]\n"
          ]
        },
        {
          "name": "stderr",
          "output_type": "stream",
          "text": [
            "  0%|          | 0/36 [00:00<?, ?it/s]/var/folders/3c/71b8pg6d7j5dht_5h_2n4n_c0000gn/T/ipykernel_8755/1114866685.py:147: UserWarning: Implicit dimension choice for log_softmax has been deprecated. Change the call to include dim=X as an argument.\n",
            "  out = torch.nn.functional.log_softmax(out)\n",
            "100%|██████████| 36/36 [00:07<00:00,  5.04it/s]\n",
            "  0%|          | 0/2 [00:00<?, ?it/s]/var/folders/3c/71b8pg6d7j5dht_5h_2n4n_c0000gn/T/ipykernel_8755/1114866685.py:147: UserWarning: Implicit dimension choice for log_softmax has been deprecated. Change the call to include dim=X as an argument.\n",
            "  out = torch.nn.functional.log_softmax(out)\n",
            "100%|██████████| 2/2 [00:00<00:00,  6.97it/s]\n"
          ]
        },
        {
          "name": "stdout",
          "output_type": "stream",
          "text": [
            "\n",
            "epoch 18\n",
            "\ttrain_loss:0.619 valid_loss:0.690\n",
            "\ttrain_acc:74.72% valid_acc:71.23%\n",
            "\ttrain_f1:0.731 valid_f1:0.690\n",
            "\ttrain_confusion_matrix:\n",
            "[[ 288  297  308]\n",
            " [ 108 2123  175]\n",
            " [  93  184 1032]]\n",
            "\tvalid_confusion_matrix:\n",
            "[[ 49  73  98]\n",
            " [ 25 523  71]\n",
            " [ 19  48 255]]\n"
          ]
        },
        {
          "name": "stderr",
          "output_type": "stream",
          "text": [
            "  0%|          | 0/36 [00:00<?, ?it/s]/var/folders/3c/71b8pg6d7j5dht_5h_2n4n_c0000gn/T/ipykernel_8755/1114866685.py:147: UserWarning: Implicit dimension choice for log_softmax has been deprecated. Change the call to include dim=X as an argument.\n",
            "  out = torch.nn.functional.log_softmax(out)\n",
            "100%|██████████| 36/36 [00:07<00:00,  4.92it/s]\n",
            "  0%|          | 0/2 [00:00<?, ?it/s]/var/folders/3c/71b8pg6d7j5dht_5h_2n4n_c0000gn/T/ipykernel_8755/1114866685.py:147: UserWarning: Implicit dimension choice for log_softmax has been deprecated. Change the call to include dim=X as an argument.\n",
            "  out = torch.nn.functional.log_softmax(out)\n",
            "100%|██████████| 2/2 [00:00<00:00,  7.76it/s]\n"
          ]
        },
        {
          "name": "stdout",
          "output_type": "stream",
          "text": [
            "\n",
            "epoch 19\n",
            "\ttrain_loss:0.612 valid_loss:0.670\n",
            "\ttrain_acc:75.48% valid_acc:72.27%\n",
            "\ttrain_f1:0.739 valid_f1:0.706\n",
            "\ttrain_confusion_matrix:\n",
            "[[ 297  292  303]\n",
            " [ 102 2139  169]\n",
            " [ 104  160 1042]]\n",
            "\tvalid_confusion_matrix:\n",
            "[[ 64  78  78]\n",
            " [ 29 540  50]\n",
            " [ 31  56 235]]\n",
            "Loading saved model from: model_task2.bin\n"
          ]
        },
        {
          "name": "stderr",
          "output_type": "stream",
          "text": [
            "  0%|          | 0/2 [00:00<?, ?it/s]/var/folders/3c/71b8pg6d7j5dht_5h_2n4n_c0000gn/T/ipykernel_8755/1114866685.py:147: UserWarning: Implicit dimension choice for log_softmax has been deprecated. Change the call to include dim=X as an argument.\n",
            "  out = torch.nn.functional.log_softmax(out)\n",
            "100%|██████████| 2/2 [00:00<00:00,  7.57it/s]\n"
          ]
        },
        {
          "name": "stdout",
          "output_type": "stream",
          "text": [
            "              precision    recall  f1-score   support\n",
            "\n",
            "     Neutral       0.52      0.29      0.37       220\n",
            "    Positive       0.80      0.87      0.84       619\n",
            "    Negative       0.64      0.72      0.68       322\n",
            "\n",
            "    accuracy                           0.72      1161\n",
            "   macro avg       0.65      0.63      0.63      1161\n",
            "weighted avg       0.70      0.72      0.70      1161\n",
            "\n",
            "\n",
            "******************************************************************************************\n",
            "Alpha Size: 0.6\n",
            "Window Size: 4\n",
            "******************************************************************************************\n",
            "\n",
            "train samples:4641\n",
            "valid samples:1161\n"
          ]
        },
        {
          "name": "stderr",
          "output_type": "stream",
          "text": [
            "  0%|          | 0/36 [00:00<?, ?it/s]/var/folders/3c/71b8pg6d7j5dht_5h_2n4n_c0000gn/T/ipykernel_8755/1114866685.py:147: UserWarning: Implicit dimension choice for log_softmax has been deprecated. Change the call to include dim=X as an argument.\n",
            "  out = torch.nn.functional.log_softmax(out)\n",
            "100%|██████████| 36/36 [00:07<00:00,  4.65it/s]\n",
            "  0%|          | 0/2 [00:00<?, ?it/s]/var/folders/3c/71b8pg6d7j5dht_5h_2n4n_c0000gn/T/ipykernel_8755/1114866685.py:147: UserWarning: Implicit dimension choice for log_softmax has been deprecated. Change the call to include dim=X as an argument.\n",
            "  out = torch.nn.functional.log_softmax(out)\n",
            "100%|██████████| 2/2 [00:00<00:00,  5.80it/s]\n"
          ]
        },
        {
          "name": "stdout",
          "output_type": "stream",
          "text": [
            "\n",
            "epoch 0\n",
            "\ttrain_loss:1.062 valid_loss:1.023\n",
            "\ttrain_acc:50.63% valid_acc:52.20%\n",
            "\ttrain_f1:0.378 valid_f1:0.359\n",
            "\ttrain_confusion_matrix:\n",
            "[[  72  839    0]\n",
            " [ 158 2261    0]\n",
            " [ 109 1169    0]]\n",
            "\tvalid_confusion_matrix:\n",
            "[[  0 205   0]\n",
            " [  1 606   0]\n",
            " [  0 349   0]]\n"
          ]
        },
        {
          "name": "stderr",
          "output_type": "stream",
          "text": [
            "  0%|          | 0/36 [00:00<?, ?it/s]/var/folders/3c/71b8pg6d7j5dht_5h_2n4n_c0000gn/T/ipykernel_8755/1114866685.py:147: UserWarning: Implicit dimension choice for log_softmax has been deprecated. Change the call to include dim=X as an argument.\n",
            "  out = torch.nn.functional.log_softmax(out)\n",
            "100%|██████████| 36/36 [00:07<00:00,  4.64it/s]\n",
            "  0%|          | 0/2 [00:00<?, ?it/s]/var/folders/3c/71b8pg6d7j5dht_5h_2n4n_c0000gn/T/ipykernel_8755/1114866685.py:147: UserWarning: Implicit dimension choice for log_softmax has been deprecated. Change the call to include dim=X as an argument.\n",
            "  out = torch.nn.functional.log_softmax(out)\n",
            "100%|██████████| 2/2 [00:00<00:00,  5.90it/s]\n"
          ]
        },
        {
          "name": "stdout",
          "output_type": "stream",
          "text": [
            "\n",
            "epoch 1\n",
            "\ttrain_loss:1.002 valid_loss:0.958\n",
            "\ttrain_acc:52.50% valid_acc:52.37%\n",
            "\ttrain_f1:0.362 valid_f1:0.361\n",
            "\ttrain_confusion_matrix:\n",
            "[[   0  909    0]\n",
            " [   0 2418    0]\n",
            " [   4 1276    1]]\n",
            "\tvalid_confusion_matrix:\n",
            "[[  0 205   0]\n",
            " [  0 607   0]\n",
            " [  0 348   1]]\n"
          ]
        },
        {
          "name": "stderr",
          "output_type": "stream",
          "text": [
            "  0%|          | 0/36 [00:00<?, ?it/s]/var/folders/3c/71b8pg6d7j5dht_5h_2n4n_c0000gn/T/ipykernel_8755/1114866685.py:147: UserWarning: Implicit dimension choice for log_softmax has been deprecated. Change the call to include dim=X as an argument.\n",
            "  out = torch.nn.functional.log_softmax(out)\n",
            "100%|██████████| 36/36 [00:07<00:00,  4.96it/s]\n",
            "  0%|          | 0/2 [00:00<?, ?it/s]/var/folders/3c/71b8pg6d7j5dht_5h_2n4n_c0000gn/T/ipykernel_8755/1114866685.py:147: UserWarning: Implicit dimension choice for log_softmax has been deprecated. Change the call to include dim=X as an argument.\n",
            "  out = torch.nn.functional.log_softmax(out)\n",
            "100%|██████████| 2/2 [00:00<00:00,  6.10it/s]\n"
          ]
        },
        {
          "name": "stdout",
          "output_type": "stream",
          "text": [
            "\n",
            "epoch 2\n",
            "\ttrain_loss:0.957 valid_loss:0.897\n",
            "\ttrain_acc:52.91% valid_acc:53.14%\n",
            "\ttrain_f1:0.370 valid_f1:0.380\n",
            "\ttrain_confusion_matrix:\n",
            "[[   0  906    1]\n",
            " [   0 2421    1]\n",
            " [   2 1260   17]]\n",
            "\tvalid_confusion_matrix:\n",
            "[[  0 201   4]\n",
            " [  0 606   1]\n",
            " [  0 338  11]]\n"
          ]
        },
        {
          "name": "stderr",
          "output_type": "stream",
          "text": [
            "  0%|          | 0/36 [00:00<?, ?it/s]/var/folders/3c/71b8pg6d7j5dht_5h_2n4n_c0000gn/T/ipykernel_8755/1114866685.py:147: UserWarning: Implicit dimension choice for log_softmax has been deprecated. Change the call to include dim=X as an argument.\n",
            "  out = torch.nn.functional.log_softmax(out)\n",
            "100%|██████████| 36/36 [00:07<00:00,  4.65it/s]\n",
            "  0%|          | 0/2 [00:00<?, ?it/s]/var/folders/3c/71b8pg6d7j5dht_5h_2n4n_c0000gn/T/ipykernel_8755/1114866685.py:147: UserWarning: Implicit dimension choice for log_softmax has been deprecated. Change the call to include dim=X as an argument.\n",
            "  out = torch.nn.functional.log_softmax(out)\n",
            "100%|██████████| 2/2 [00:00<00:00,  4.87it/s]\n"
          ]
        },
        {
          "name": "stdout",
          "output_type": "stream",
          "text": [
            "\n",
            "epoch 3\n",
            "\ttrain_loss:0.886 valid_loss:0.801\n",
            "\ttrain_acc:58.01% valid_acc:64.34%\n",
            "\ttrain_f1:0.487 valid_f1:0.578\n",
            "\ttrain_confusion_matrix:\n",
            "[[   0  730  176]\n",
            " [   0 2295  125]\n",
            " [   1  903  378]]\n",
            "\tvalid_confusion_matrix:\n",
            "[[  0 117  88]\n",
            " [  0 531  76]\n",
            " [  0 133 216]]\n"
          ]
        },
        {
          "name": "stderr",
          "output_type": "stream",
          "text": [
            "  0%|          | 0/36 [00:00<?, ?it/s]/var/folders/3c/71b8pg6d7j5dht_5h_2n4n_c0000gn/T/ipykernel_8755/1114866685.py:147: UserWarning: Implicit dimension choice for log_softmax has been deprecated. Change the call to include dim=X as an argument.\n",
            "  out = torch.nn.functional.log_softmax(out)\n",
            "100%|██████████| 36/36 [00:08<00:00,  4.29it/s]\n",
            "  0%|          | 0/2 [00:00<?, ?it/s]/var/folders/3c/71b8pg6d7j5dht_5h_2n4n_c0000gn/T/ipykernel_8755/1114866685.py:147: UserWarning: Implicit dimension choice for log_softmax has been deprecated. Change the call to include dim=X as an argument.\n",
            "  out = torch.nn.functional.log_softmax(out)\n",
            "100%|██████████| 2/2 [00:00<00:00,  5.78it/s]\n"
          ]
        },
        {
          "name": "stdout",
          "output_type": "stream",
          "text": [
            "\n",
            "epoch 4\n",
            "\ttrain_loss:0.817 valid_loss:0.769\n",
            "\ttrain_acc:64.02% valid_acc:64.77%\n",
            "\ttrain_f1:0.572 valid_f1:0.593\n",
            "\ttrain_confusion_matrix:\n",
            "[[   0  420  487]\n",
            " [   0 2094  324]\n",
            " [   0  427  856]]\n",
            "\tvalid_confusion_matrix:\n",
            "[[  0  69 136]\n",
            " [  0 472 135]\n",
            " [  0  69 280]]\n"
          ]
        },
        {
          "name": "stderr",
          "output_type": "stream",
          "text": [
            "  0%|          | 0/36 [00:00<?, ?it/s]/var/folders/3c/71b8pg6d7j5dht_5h_2n4n_c0000gn/T/ipykernel_8755/1114866685.py:147: UserWarning: Implicit dimension choice for log_softmax has been deprecated. Change the call to include dim=X as an argument.\n",
            "  out = torch.nn.functional.log_softmax(out)\n",
            "100%|██████████| 36/36 [00:07<00:00,  4.71it/s]\n",
            "  0%|          | 0/2 [00:00<?, ?it/s]/var/folders/3c/71b8pg6d7j5dht_5h_2n4n_c0000gn/T/ipykernel_8755/1114866685.py:147: UserWarning: Implicit dimension choice for log_softmax has been deprecated. Change the call to include dim=X as an argument.\n",
            "  out = torch.nn.functional.log_softmax(out)\n",
            "100%|██████████| 2/2 [00:00<00:00,  6.18it/s]\n"
          ]
        },
        {
          "name": "stdout",
          "output_type": "stream",
          "text": [
            "\n",
            "epoch 5\n",
            "\ttrain_loss:0.779 valid_loss:0.740\n",
            "\ttrain_acc:65.15% valid_acc:67.79%\n",
            "\ttrain_f1:0.587 valid_f1:0.613\n",
            "\ttrain_confusion_matrix:\n",
            "[[   0  345  562]\n",
            " [   0 2016  405]\n",
            " [   0  294  986]]\n",
            "\tvalid_confusion_matrix:\n",
            "[[  0 100 105]\n",
            " [  0 535  72]\n",
            " [  0  97 252]]\n"
          ]
        },
        {
          "name": "stderr",
          "output_type": "stream",
          "text": [
            "  0%|          | 0/36 [00:00<?, ?it/s]/var/folders/3c/71b8pg6d7j5dht_5h_2n4n_c0000gn/T/ipykernel_8755/1114866685.py:147: UserWarning: Implicit dimension choice for log_softmax has been deprecated. Change the call to include dim=X as an argument.\n",
            "  out = torch.nn.functional.log_softmax(out)\n",
            "100%|██████████| 36/36 [00:07<00:00,  4.66it/s]\n",
            "  0%|          | 0/2 [00:00<?, ?it/s]/var/folders/3c/71b8pg6d7j5dht_5h_2n4n_c0000gn/T/ipykernel_8755/1114866685.py:147: UserWarning: Implicit dimension choice for log_softmax has been deprecated. Change the call to include dim=X as an argument.\n",
            "  out = torch.nn.functional.log_softmax(out)\n",
            "100%|██████████| 2/2 [00:00<00:00,  6.22it/s]\n"
          ]
        },
        {
          "name": "stdout",
          "output_type": "stream",
          "text": [
            "\n",
            "epoch 6\n",
            "\ttrain_loss:0.760 valid_loss:0.721\n",
            "\ttrain_acc:66.38% valid_acc:68.13%\n",
            "\ttrain_f1:0.595 valid_f1:0.621\n",
            "\ttrain_confusion_matrix:\n",
            "[[   5  425  481]\n",
            " [   1 2112  306]\n",
            " [   0  336  942]]\n",
            "\tvalid_confusion_matrix:\n",
            "[[  2  89 114]\n",
            " [  0 518  89]\n",
            " [  0  78 271]]\n"
          ]
        },
        {
          "name": "stderr",
          "output_type": "stream",
          "text": [
            "  0%|          | 0/36 [00:00<?, ?it/s]/var/folders/3c/71b8pg6d7j5dht_5h_2n4n_c0000gn/T/ipykernel_8755/1114866685.py:147: UserWarning: Implicit dimension choice for log_softmax has been deprecated. Change the call to include dim=X as an argument.\n",
            "  out = torch.nn.functional.log_softmax(out)\n",
            "100%|██████████| 36/36 [00:07<00:00,  4.62it/s]\n",
            "  0%|          | 0/2 [00:00<?, ?it/s]/var/folders/3c/71b8pg6d7j5dht_5h_2n4n_c0000gn/T/ipykernel_8755/1114866685.py:147: UserWarning: Implicit dimension choice for log_softmax has been deprecated. Change the call to include dim=X as an argument.\n",
            "  out = torch.nn.functional.log_softmax(out)\n",
            "100%|██████████| 2/2 [00:00<00:00,  5.95it/s]\n"
          ]
        },
        {
          "name": "stdout",
          "output_type": "stream",
          "text": [
            "\n",
            "epoch 7\n",
            "\ttrain_loss:0.738 valid_loss:0.718\n",
            "\ttrain_acc:68.01% valid_acc:68.65%\n",
            "\ttrain_f1:0.614 valid_f1:0.627\n",
            "\ttrain_confusion_matrix:\n",
            "[[  12  388  505]\n",
            " [   3 2101  318]\n",
            " [   0  260 1021]]\n",
            "\tvalid_confusion_matrix:\n",
            "[[  6 103  96]\n",
            " [  0 544  63]\n",
            " [  2 100 247]]\n"
          ]
        },
        {
          "name": "stderr",
          "output_type": "stream",
          "text": [
            "  0%|          | 0/36 [00:00<?, ?it/s]/var/folders/3c/71b8pg6d7j5dht_5h_2n4n_c0000gn/T/ipykernel_8755/1114866685.py:147: UserWarning: Implicit dimension choice for log_softmax has been deprecated. Change the call to include dim=X as an argument.\n",
            "  out = torch.nn.functional.log_softmax(out)\n",
            "100%|██████████| 36/36 [00:07<00:00,  4.72it/s]\n",
            "  0%|          | 0/2 [00:00<?, ?it/s]/var/folders/3c/71b8pg6d7j5dht_5h_2n4n_c0000gn/T/ipykernel_8755/1114866685.py:147: UserWarning: Implicit dimension choice for log_softmax has been deprecated. Change the call to include dim=X as an argument.\n",
            "  out = torch.nn.functional.log_softmax(out)\n",
            "100%|██████████| 2/2 [00:00<00:00,  5.86it/s]\n"
          ]
        },
        {
          "name": "stdout",
          "output_type": "stream",
          "text": [
            "\n",
            "epoch 8\n",
            "\ttrain_loss:0.720 valid_loss:0.708\n",
            "\ttrain_acc:68.75% valid_acc:69.34%\n",
            "\ttrain_f1:0.622 valid_f1:0.641\n",
            "\ttrain_confusion_matrix:\n",
            "[[  23  409  478]\n",
            " [   3 2158  254]\n",
            " [   4  292  987]]\n",
            "\tvalid_confusion_matrix:\n",
            "[[ 12  97  96]\n",
            " [  2 535  70]\n",
            " [  1  90 258]]\n"
          ]
        },
        {
          "name": "stderr",
          "output_type": "stream",
          "text": [
            "  0%|          | 0/36 [00:00<?, ?it/s]/var/folders/3c/71b8pg6d7j5dht_5h_2n4n_c0000gn/T/ipykernel_8755/1114866685.py:147: UserWarning: Implicit dimension choice for log_softmax has been deprecated. Change the call to include dim=X as an argument.\n",
            "  out = torch.nn.functional.log_softmax(out)\n",
            "100%|██████████| 36/36 [00:07<00:00,  4.72it/s]\n",
            "  0%|          | 0/2 [00:00<?, ?it/s]/var/folders/3c/71b8pg6d7j5dht_5h_2n4n_c0000gn/T/ipykernel_8755/1114866685.py:147: UserWarning: Implicit dimension choice for log_softmax has been deprecated. Change the call to include dim=X as an argument.\n",
            "  out = torch.nn.functional.log_softmax(out)\n",
            "100%|██████████| 2/2 [00:00<00:00,  6.11it/s]\n"
          ]
        },
        {
          "name": "stdout",
          "output_type": "stream",
          "text": [
            "\n",
            "epoch 9\n",
            "\ttrain_loss:0.703 valid_loss:0.697\n",
            "\ttrain_acc:69.64% valid_acc:69.51%\n",
            "\ttrain_f1:0.636 valid_f1:0.649\n",
            "\ttrain_confusion_matrix:\n",
            "[[  44  404  460]\n",
            " [  11 2157  259]\n",
            " [   3  262 1008]]\n",
            "\tvalid_confusion_matrix:\n",
            "[[ 15  83 107]\n",
            " [  5 510  92]\n",
            " [  1  66 282]]\n"
          ]
        },
        {
          "name": "stderr",
          "output_type": "stream",
          "text": [
            "  0%|          | 0/36 [00:00<?, ?it/s]/var/folders/3c/71b8pg6d7j5dht_5h_2n4n_c0000gn/T/ipykernel_8755/1114866685.py:147: UserWarning: Implicit dimension choice for log_softmax has been deprecated. Change the call to include dim=X as an argument.\n",
            "  out = torch.nn.functional.log_softmax(out)\n",
            "100%|██████████| 36/36 [00:07<00:00,  4.59it/s]\n",
            "  0%|          | 0/2 [00:00<?, ?it/s]/var/folders/3c/71b8pg6d7j5dht_5h_2n4n_c0000gn/T/ipykernel_8755/1114866685.py:147: UserWarning: Implicit dimension choice for log_softmax has been deprecated. Change the call to include dim=X as an argument.\n",
            "  out = torch.nn.functional.log_softmax(out)\n",
            "100%|██████████| 2/2 [00:00<00:00,  5.90it/s]\n"
          ]
        },
        {
          "name": "stdout",
          "output_type": "stream",
          "text": [
            "\n",
            "epoch 10\n",
            "\ttrain_loss:0.693 valid_loss:0.693\n",
            "\ttrain_acc:70.42% valid_acc:69.77%\n",
            "\ttrain_f1:0.653 valid_f1:0.657\n",
            "\ttrain_confusion_matrix:\n",
            "[[  73  395  438]\n",
            " [  33 2147  240]\n",
            " [  19  238 1025]]\n",
            "\tvalid_confusion_matrix:\n",
            "[[ 25 102  78]\n",
            " [  3 549  55]\n",
            " [ 16  97 236]]\n"
          ]
        },
        {
          "name": "stderr",
          "output_type": "stream",
          "text": [
            "  0%|          | 0/36 [00:00<?, ?it/s]/var/folders/3c/71b8pg6d7j5dht_5h_2n4n_c0000gn/T/ipykernel_8755/1114866685.py:147: UserWarning: Implicit dimension choice for log_softmax has been deprecated. Change the call to include dim=X as an argument.\n",
            "  out = torch.nn.functional.log_softmax(out)\n",
            "100%|██████████| 36/36 [00:09<00:00,  3.97it/s]\n",
            "  0%|          | 0/2 [00:00<?, ?it/s]/var/folders/3c/71b8pg6d7j5dht_5h_2n4n_c0000gn/T/ipykernel_8755/1114866685.py:147: UserWarning: Implicit dimension choice for log_softmax has been deprecated. Change the call to include dim=X as an argument.\n",
            "  out = torch.nn.functional.log_softmax(out)\n",
            "100%|██████████| 2/2 [00:00<00:00,  4.88it/s]\n"
          ]
        },
        {
          "name": "stdout",
          "output_type": "stream",
          "text": [
            "\n",
            "epoch 11\n",
            "\ttrain_loss:0.683 valid_loss:0.683\n",
            "\ttrain_acc:70.81% valid_acc:70.80%\n",
            "\ttrain_f1:0.658 valid_f1:0.673\n",
            "\ttrain_confusion_matrix:\n",
            "[[  83  407  416]\n",
            " [  33 2156  232]\n",
            " [  28  229 1024]]\n",
            "\tvalid_confusion_matrix:\n",
            "[[ 29  85  91]\n",
            " [  9 521  77]\n",
            " [  8  69 272]]\n"
          ]
        },
        {
          "name": "stderr",
          "output_type": "stream",
          "text": [
            "  0%|          | 0/36 [00:00<?, ?it/s]/var/folders/3c/71b8pg6d7j5dht_5h_2n4n_c0000gn/T/ipykernel_8755/1114866685.py:147: UserWarning: Implicit dimension choice for log_softmax has been deprecated. Change the call to include dim=X as an argument.\n",
            "  out = torch.nn.functional.log_softmax(out)\n",
            "100%|██████████| 36/36 [00:09<00:00,  3.97it/s]\n",
            "  0%|          | 0/2 [00:00<?, ?it/s]/var/folders/3c/71b8pg6d7j5dht_5h_2n4n_c0000gn/T/ipykernel_8755/1114866685.py:147: UserWarning: Implicit dimension choice for log_softmax has been deprecated. Change the call to include dim=X as an argument.\n",
            "  out = torch.nn.functional.log_softmax(out)\n",
            "100%|██████████| 2/2 [00:00<00:00,  5.48it/s]\n"
          ]
        },
        {
          "name": "stdout",
          "output_type": "stream",
          "text": [
            "\n",
            "epoch 12\n",
            "\ttrain_loss:0.673 valid_loss:0.676\n",
            "\ttrain_acc:71.83% valid_acc:71.83%\n",
            "\ttrain_f1:0.677 valid_f1:0.686\n",
            "\ttrain_confusion_matrix:\n",
            "[[ 124  377  404]\n",
            " [  46 2165  211]\n",
            " [  42  218 1021]]\n",
            "\tvalid_confusion_matrix:\n",
            "[[ 34  84  87]\n",
            " [  7 524  76]\n",
            " [  9  64 276]]\n"
          ]
        },
        {
          "name": "stderr",
          "output_type": "stream",
          "text": [
            "  0%|          | 0/36 [00:00<?, ?it/s]/var/folders/3c/71b8pg6d7j5dht_5h_2n4n_c0000gn/T/ipykernel_8755/1114866685.py:147: UserWarning: Implicit dimension choice for log_softmax has been deprecated. Change the call to include dim=X as an argument.\n",
            "  out = torch.nn.functional.log_softmax(out)\n",
            "100%|██████████| 36/36 [00:08<00:00,  4.02it/s]\n",
            "  0%|          | 0/2 [00:00<?, ?it/s]/var/folders/3c/71b8pg6d7j5dht_5h_2n4n_c0000gn/T/ipykernel_8755/1114866685.py:147: UserWarning: Implicit dimension choice for log_softmax has been deprecated. Change the call to include dim=X as an argument.\n",
            "  out = torch.nn.functional.log_softmax(out)\n",
            "100%|██████████| 2/2 [00:00<00:00,  5.26it/s]\n"
          ]
        },
        {
          "name": "stdout",
          "output_type": "stream",
          "text": [
            "\n",
            "epoch 13\n",
            "\ttrain_loss:0.663 valid_loss:0.673\n",
            "\ttrain_acc:72.33% valid_acc:71.32%\n",
            "\ttrain_f1:0.687 valid_f1:0.685\n",
            "\ttrain_confusion_matrix:\n",
            "[[ 154  366  393]\n",
            " [  56 2158  202]\n",
            " [  45  213 1021]]\n",
            "\tvalid_confusion_matrix:\n",
            "[[ 40  86  79]\n",
            " [ 10 524  73]\n",
            " [ 14  71 264]]\n"
          ]
        },
        {
          "name": "stderr",
          "output_type": "stream",
          "text": [
            "  0%|          | 0/36 [00:00<?, ?it/s]/var/folders/3c/71b8pg6d7j5dht_5h_2n4n_c0000gn/T/ipykernel_8755/1114866685.py:147: UserWarning: Implicit dimension choice for log_softmax has been deprecated. Change the call to include dim=X as an argument.\n",
            "  out = torch.nn.functional.log_softmax(out)\n",
            "100%|██████████| 36/36 [00:08<00:00,  4.28it/s]\n",
            "  0%|          | 0/2 [00:00<?, ?it/s]/var/folders/3c/71b8pg6d7j5dht_5h_2n4n_c0000gn/T/ipykernel_8755/1114866685.py:147: UserWarning: Implicit dimension choice for log_softmax has been deprecated. Change the call to include dim=X as an argument.\n",
            "  out = torch.nn.functional.log_softmax(out)\n",
            "100%|██████████| 2/2 [00:00<00:00,  5.24it/s]\n"
          ]
        },
        {
          "name": "stdout",
          "output_type": "stream",
          "text": [
            "\n",
            "epoch 14\n",
            "\ttrain_loss:0.651 valid_loss:0.671\n",
            "\ttrain_acc:72.55% valid_acc:72.44%\n",
            "\ttrain_f1:0.692 valid_f1:0.706\n",
            "\ttrain_confusion_matrix:\n",
            "[[ 165  357  388]\n",
            " [  73 2159  185]\n",
            " [  57  205 1019]]\n",
            "\tvalid_confusion_matrix:\n",
            "[[ 58  81  66]\n",
            " [ 15 537  55]\n",
            " [ 30  73 246]]\n"
          ]
        },
        {
          "name": "stderr",
          "output_type": "stream",
          "text": [
            "  0%|          | 0/36 [00:00<?, ?it/s]/var/folders/3c/71b8pg6d7j5dht_5h_2n4n_c0000gn/T/ipykernel_8755/1114866685.py:147: UserWarning: Implicit dimension choice for log_softmax has been deprecated. Change the call to include dim=X as an argument.\n",
            "  out = torch.nn.functional.log_softmax(out)\n",
            "100%|██████████| 36/36 [00:08<00:00,  4.26it/s]\n",
            "  0%|          | 0/2 [00:00<?, ?it/s]/var/folders/3c/71b8pg6d7j5dht_5h_2n4n_c0000gn/T/ipykernel_8755/1114866685.py:147: UserWarning: Implicit dimension choice for log_softmax has been deprecated. Change the call to include dim=X as an argument.\n",
            "  out = torch.nn.functional.log_softmax(out)\n",
            "100%|██████████| 2/2 [00:00<00:00,  5.74it/s]\n"
          ]
        },
        {
          "name": "stdout",
          "output_type": "stream",
          "text": [
            "\n",
            "epoch 15\n",
            "\ttrain_loss:0.643 valid_loss:0.667\n",
            "\ttrain_acc:73.20% valid_acc:71.92%\n",
            "\ttrain_f1:0.705 valid_f1:0.701\n",
            "\ttrain_confusion_matrix:\n",
            "[[ 201  348  356]\n",
            " [  87 2166  171]\n",
            " [  78  195 1006]]\n",
            "\tvalid_confusion_matrix:\n",
            "[[ 55  80  70]\n",
            " [ 18 524  65]\n",
            " [ 26  67 256]]\n"
          ]
        },
        {
          "name": "stderr",
          "output_type": "stream",
          "text": [
            "  0%|          | 0/36 [00:00<?, ?it/s]/var/folders/3c/71b8pg6d7j5dht_5h_2n4n_c0000gn/T/ipykernel_8755/1114866685.py:147: UserWarning: Implicit dimension choice for log_softmax has been deprecated. Change the call to include dim=X as an argument.\n",
            "  out = torch.nn.functional.log_softmax(out)\n",
            "100%|██████████| 36/36 [00:09<00:00,  4.00it/s]\n",
            "  0%|          | 0/2 [00:00<?, ?it/s]/var/folders/3c/71b8pg6d7j5dht_5h_2n4n_c0000gn/T/ipykernel_8755/1114866685.py:147: UserWarning: Implicit dimension choice for log_softmax has been deprecated. Change the call to include dim=X as an argument.\n",
            "  out = torch.nn.functional.log_softmax(out)\n",
            "100%|██████████| 2/2 [00:00<00:00,  4.91it/s]\n"
          ]
        },
        {
          "name": "stdout",
          "output_type": "stream",
          "text": [
            "\n",
            "epoch 16\n",
            "\ttrain_loss:0.632 valid_loss:0.650\n",
            "\ttrain_acc:73.63% valid_acc:72.01%\n",
            "\ttrain_f1:0.712 valid_f1:0.699\n",
            "\ttrain_confusion_matrix:\n",
            "[[ 221  343  341]\n",
            " [ 100 2154  168]\n",
            " [  75  188 1018]]\n",
            "\tvalid_confusion_matrix:\n",
            "[[ 52  85  68]\n",
            " [ 16 534  57]\n",
            " [ 27  72 250]]\n"
          ]
        },
        {
          "name": "stderr",
          "output_type": "stream",
          "text": [
            "  0%|          | 0/36 [00:00<?, ?it/s]/var/folders/3c/71b8pg6d7j5dht_5h_2n4n_c0000gn/T/ipykernel_8755/1114866685.py:147: UserWarning: Implicit dimension choice for log_softmax has been deprecated. Change the call to include dim=X as an argument.\n",
            "  out = torch.nn.functional.log_softmax(out)\n",
            "100%|██████████| 36/36 [00:08<00:00,  4.37it/s]\n",
            "  0%|          | 0/2 [00:00<?, ?it/s]/var/folders/3c/71b8pg6d7j5dht_5h_2n4n_c0000gn/T/ipykernel_8755/1114866685.py:147: UserWarning: Implicit dimension choice for log_softmax has been deprecated. Change the call to include dim=X as an argument.\n",
            "  out = torch.nn.functional.log_softmax(out)\n",
            "100%|██████████| 2/2 [00:00<00:00,  5.45it/s]\n"
          ]
        },
        {
          "name": "stdout",
          "output_type": "stream",
          "text": [
            "\n",
            "epoch 17\n",
            "\ttrain_loss:0.628 valid_loss:0.660\n",
            "\ttrain_acc:74.13% valid_acc:72.09%\n",
            "\ttrain_f1:0.719 valid_f1:0.707\n",
            "\ttrain_confusion_matrix:\n",
            "[[ 243  329  336]\n",
            " [ 111 2156  151]\n",
            " [  87  178 1017]]\n",
            "\tvalid_confusion_matrix:\n",
            "[[ 62  71  72]\n",
            " [ 23 510  74]\n",
            " [ 28  56 265]]\n"
          ]
        },
        {
          "name": "stderr",
          "output_type": "stream",
          "text": [
            "  0%|          | 0/36 [00:00<?, ?it/s]/var/folders/3c/71b8pg6d7j5dht_5h_2n4n_c0000gn/T/ipykernel_8755/1114866685.py:147: UserWarning: Implicit dimension choice for log_softmax has been deprecated. Change the call to include dim=X as an argument.\n",
            "  out = torch.nn.functional.log_softmax(out)\n",
            "100%|██████████| 36/36 [00:08<00:00,  4.43it/s]\n",
            "  0%|          | 0/2 [00:00<?, ?it/s]/var/folders/3c/71b8pg6d7j5dht_5h_2n4n_c0000gn/T/ipykernel_8755/1114866685.py:147: UserWarning: Implicit dimension choice for log_softmax has been deprecated. Change the call to include dim=X as an argument.\n",
            "  out = torch.nn.functional.log_softmax(out)\n",
            "100%|██████████| 2/2 [00:00<00:00,  5.87it/s]\n"
          ]
        },
        {
          "name": "stdout",
          "output_type": "stream",
          "text": [
            "\n",
            "epoch 18\n",
            "\ttrain_loss:0.621 valid_loss:0.645\n",
            "\ttrain_acc:74.33% valid_acc:72.78%\n",
            "\ttrain_f1:0.724 valid_f1:0.715\n",
            "\ttrain_confusion_matrix:\n",
            "[[ 265  308  335]\n",
            " [ 104 2155  163]\n",
            " [  96  177 1005]]\n",
            "\tvalid_confusion_matrix:\n",
            "[[ 64  70  71]\n",
            " [ 26 516  65]\n",
            " [ 31  53 265]]\n"
          ]
        },
        {
          "name": "stderr",
          "output_type": "stream",
          "text": [
            "  0%|          | 0/36 [00:00<?, ?it/s]/var/folders/3c/71b8pg6d7j5dht_5h_2n4n_c0000gn/T/ipykernel_8755/1114866685.py:147: UserWarning: Implicit dimension choice for log_softmax has been deprecated. Change the call to include dim=X as an argument.\n",
            "  out = torch.nn.functional.log_softmax(out)\n",
            "100%|██████████| 36/36 [00:07<00:00,  4.62it/s]\n",
            "  0%|          | 0/2 [00:00<?, ?it/s]/var/folders/3c/71b8pg6d7j5dht_5h_2n4n_c0000gn/T/ipykernel_8755/1114866685.py:147: UserWarning: Implicit dimension choice for log_softmax has been deprecated. Change the call to include dim=X as an argument.\n",
            "  out = torch.nn.functional.log_softmax(out)\n",
            "100%|██████████| 2/2 [00:00<00:00,  5.91it/s]\n"
          ]
        },
        {
          "name": "stdout",
          "output_type": "stream",
          "text": [
            "\n",
            "epoch 19\n",
            "\ttrain_loss:0.609 valid_loss:0.659\n",
            "\ttrain_acc:74.74% valid_acc:72.70%\n",
            "\ttrain_f1:0.729 valid_f1:0.720\n",
            "\ttrain_confusion_matrix:\n",
            "[[ 278  324  307]\n",
            " [ 105 2170  145]\n",
            " [ 102  181  996]]\n",
            "\tvalid_confusion_matrix:\n",
            "[[ 77  67  61]\n",
            " [ 36 516  55]\n",
            " [ 46  52 251]]\n",
            "Loading saved model from: model_task2.bin\n"
          ]
        },
        {
          "name": "stderr",
          "output_type": "stream",
          "text": [
            "  0%|          | 0/2 [00:00<?, ?it/s]/var/folders/3c/71b8pg6d7j5dht_5h_2n4n_c0000gn/T/ipykernel_8755/1114866685.py:147: UserWarning: Implicit dimension choice for log_softmax has been deprecated. Change the call to include dim=X as an argument.\n",
            "  out = torch.nn.functional.log_softmax(out)\n",
            "100%|██████████| 2/2 [00:00<00:00,  6.12it/s]\n"
          ]
        },
        {
          "name": "stdout",
          "output_type": "stream",
          "text": [
            "              precision    recall  f1-score   support\n",
            "\n",
            "     Neutral       0.55      0.31      0.39       205\n",
            "    Positive       0.80      0.85      0.83       607\n",
            "    Negative       0.65      0.76      0.70       349\n",
            "\n",
            "    accuracy                           0.73      1161\n",
            "   macro avg       0.67      0.64      0.64      1161\n",
            "weighted avg       0.71      0.73      0.71      1161\n",
            "\n",
            "\n",
            "******************************************************************************************\n",
            "Alpha Size: 0.6\n",
            "Window Size: 8\n",
            "******************************************************************************************\n",
            "\n",
            "train samples:4641\n",
            "valid samples:1161\n"
          ]
        },
        {
          "name": "stderr",
          "output_type": "stream",
          "text": [
            "  0%|          | 0/36 [00:00<?, ?it/s]/var/folders/3c/71b8pg6d7j5dht_5h_2n4n_c0000gn/T/ipykernel_8755/1114866685.py:147: UserWarning: Implicit dimension choice for log_softmax has been deprecated. Change the call to include dim=X as an argument.\n",
            "  out = torch.nn.functional.log_softmax(out)\n",
            "100%|██████████| 36/36 [00:08<00:00,  4.12it/s]\n",
            "  0%|          | 0/2 [00:00<?, ?it/s]/var/folders/3c/71b8pg6d7j5dht_5h_2n4n_c0000gn/T/ipykernel_8755/1114866685.py:147: UserWarning: Implicit dimension choice for log_softmax has been deprecated. Change the call to include dim=X as an argument.\n",
            "  out = torch.nn.functional.log_softmax(out)\n",
            "100%|██████████| 2/2 [00:00<00:00,  5.02it/s]\n"
          ]
        },
        {
          "name": "stdout",
          "output_type": "stream",
          "text": [
            "\n",
            "epoch 0\n",
            "\ttrain_loss:1.061 valid_loss:1.039\n",
            "\ttrain_acc:51.48% valid_acc:53.32%\n",
            "\ttrain_f1:0.386 valid_f1:0.373\n",
            "\ttrain_confusion_matrix:\n",
            "[[  19  843   25]\n",
            " [  48 2290   70]\n",
            " [  37 1213   63]]\n",
            "\tvalid_confusion_matrix:\n",
            "[[  0 223   0]\n",
            " [  0 617   1]\n",
            " [  0 318   2]]\n"
          ]
        },
        {
          "name": "stderr",
          "output_type": "stream",
          "text": [
            "  0%|          | 0/36 [00:00<?, ?it/s]/var/folders/3c/71b8pg6d7j5dht_5h_2n4n_c0000gn/T/ipykernel_8755/1114866685.py:147: UserWarning: Implicit dimension choice for log_softmax has been deprecated. Change the call to include dim=X as an argument.\n",
            "  out = torch.nn.functional.log_softmax(out)\n",
            "100%|██████████| 36/36 [00:08<00:00,  4.07it/s]\n",
            "  0%|          | 0/2 [00:00<?, ?it/s]/var/folders/3c/71b8pg6d7j5dht_5h_2n4n_c0000gn/T/ipykernel_8755/1114866685.py:147: UserWarning: Implicit dimension choice for log_softmax has been deprecated. Change the call to include dim=X as an argument.\n",
            "  out = torch.nn.functional.log_softmax(out)\n",
            "100%|██████████| 2/2 [00:00<00:00,  5.85it/s]\n"
          ]
        },
        {
          "name": "stdout",
          "output_type": "stream",
          "text": [
            "\n",
            "epoch 1\n",
            "\ttrain_loss:1.001 valid_loss:1.001\n",
            "\ttrain_acc:52.32% valid_acc:53.40%\n",
            "\ttrain_f1:0.361 valid_f1:0.375\n",
            "\ttrain_confusion_matrix:\n",
            "[[   0  892    0]\n",
            " [   0 2403    0]\n",
            " [   0 1305    8]]\n",
            "\tvalid_confusion_matrix:\n",
            "[[  0 223   0]\n",
            " [  0 617   1]\n",
            " [  0 317   3]]\n"
          ]
        },
        {
          "name": "stderr",
          "output_type": "stream",
          "text": [
            "  0%|          | 0/36 [00:00<?, ?it/s]/var/folders/3c/71b8pg6d7j5dht_5h_2n4n_c0000gn/T/ipykernel_8755/1114866685.py:147: UserWarning: Implicit dimension choice for log_softmax has been deprecated. Change the call to include dim=X as an argument.\n",
            "  out = torch.nn.functional.log_softmax(out)\n",
            "100%|██████████| 36/36 [00:08<00:00,  4.06it/s]\n",
            "  0%|          | 0/2 [00:00<?, ?it/s]/var/folders/3c/71b8pg6d7j5dht_5h_2n4n_c0000gn/T/ipykernel_8755/1114866685.py:147: UserWarning: Implicit dimension choice for log_softmax has been deprecated. Change the call to include dim=X as an argument.\n",
            "  out = torch.nn.functional.log_softmax(out)\n",
            "100%|██████████| 2/2 [00:00<00:00,  5.10it/s]\n"
          ]
        },
        {
          "name": "stdout",
          "output_type": "stream",
          "text": [
            "\n",
            "epoch 2\n",
            "\ttrain_loss:0.952 valid_loss:0.954\n",
            "\ttrain_acc:52.71% valid_acc:54.69%\n",
            "\ttrain_f1:0.371 valid_f1:0.407\n",
            "\ttrain_confusion_matrix:\n",
            "[[   0  889    2]\n",
            " [   0 2401    3]\n",
            " [   0 1285   28]]\n",
            "\tvalid_confusion_matrix:\n",
            "[[  0 218   5]\n",
            " [  0 614   4]\n",
            " [  0 299  21]]\n"
          ]
        },
        {
          "name": "stderr",
          "output_type": "stream",
          "text": [
            "  0%|          | 0/36 [00:00<?, ?it/s]/var/folders/3c/71b8pg6d7j5dht_5h_2n4n_c0000gn/T/ipykernel_8755/1114866685.py:147: UserWarning: Implicit dimension choice for log_softmax has been deprecated. Change the call to include dim=X as an argument.\n",
            "  out = torch.nn.functional.log_softmax(out)\n",
            "100%|██████████| 36/36 [00:09<00:00,  3.78it/s]\n",
            "  0%|          | 0/2 [00:00<?, ?it/s]/var/folders/3c/71b8pg6d7j5dht_5h_2n4n_c0000gn/T/ipykernel_8755/1114866685.py:147: UserWarning: Implicit dimension choice for log_softmax has been deprecated. Change the call to include dim=X as an argument.\n",
            "  out = torch.nn.functional.log_softmax(out)\n",
            "100%|██████████| 2/2 [00:00<00:00,  5.33it/s]\n"
          ]
        },
        {
          "name": "stdout",
          "output_type": "stream",
          "text": [
            "\n",
            "epoch 3\n",
            "\ttrain_loss:0.873 valid_loss:0.886\n",
            "\ttrain_acc:60.37% valid_acc:60.03%\n",
            "\ttrain_f1:0.522 valid_f1:0.538\n",
            "\ttrain_confusion_matrix:\n",
            "[[   0  653  234]\n",
            " [   0 2254  160]\n",
            " [   0  779  528]]\n",
            "\tvalid_confusion_matrix:\n",
            "[[  0 114 109]\n",
            " [  0 507 111]\n",
            " [  0 130 190]]\n"
          ]
        },
        {
          "name": "stderr",
          "output_type": "stream",
          "text": [
            "  0%|          | 0/36 [00:00<?, ?it/s]/var/folders/3c/71b8pg6d7j5dht_5h_2n4n_c0000gn/T/ipykernel_8755/1114866685.py:147: UserWarning: Implicit dimension choice for log_softmax has been deprecated. Change the call to include dim=X as an argument.\n",
            "  out = torch.nn.functional.log_softmax(out)\n",
            "100%|██████████| 36/36 [00:08<00:00,  4.11it/s]\n",
            "  0%|          | 0/2 [00:00<?, ?it/s]/var/folders/3c/71b8pg6d7j5dht_5h_2n4n_c0000gn/T/ipykernel_8755/1114866685.py:147: UserWarning: Implicit dimension choice for log_softmax has been deprecated. Change the call to include dim=X as an argument.\n",
            "  out = torch.nn.functional.log_softmax(out)\n",
            "100%|██████████| 2/2 [00:00<00:00,  5.71it/s]\n"
          ]
        },
        {
          "name": "stdout",
          "output_type": "stream",
          "text": [
            "\n",
            "epoch 4\n",
            "\ttrain_loss:0.806 valid_loss:0.848\n",
            "\ttrain_acc:64.76% valid_acc:63.31%\n",
            "\ttrain_f1:0.581 valid_f1:0.570\n",
            "\ttrain_confusion_matrix:\n",
            "[[   0  401  492]\n",
            " [   0 2045  355]\n",
            " [   0  376  939]]\n",
            "\tvalid_confusion_matrix:\n",
            "[[  0  97 126]\n",
            " [  0 518 100]\n",
            " [  0 103 217]]\n"
          ]
        },
        {
          "name": "stderr",
          "output_type": "stream",
          "text": [
            "  0%|          | 0/36 [00:00<?, ?it/s]/var/folders/3c/71b8pg6d7j5dht_5h_2n4n_c0000gn/T/ipykernel_8755/1114866685.py:147: UserWarning: Implicit dimension choice for log_softmax has been deprecated. Change the call to include dim=X as an argument.\n",
            "  out = torch.nn.functional.log_softmax(out)\n",
            "100%|██████████| 36/36 [00:09<00:00,  3.93it/s]\n",
            "  0%|          | 0/2 [00:00<?, ?it/s]/var/folders/3c/71b8pg6d7j5dht_5h_2n4n_c0000gn/T/ipykernel_8755/1114866685.py:147: UserWarning: Implicit dimension choice for log_softmax has been deprecated. Change the call to include dim=X as an argument.\n",
            "  out = torch.nn.functional.log_softmax(out)\n",
            "100%|██████████| 2/2 [00:00<00:00,  4.43it/s]\n"
          ]
        },
        {
          "name": "stdout",
          "output_type": "stream",
          "text": [
            "\n",
            "epoch 5\n",
            "\ttrain_loss:0.772 valid_loss:0.827\n",
            "\ttrain_acc:66.45% valid_acc:63.05%\n",
            "\ttrain_f1:0.597 valid_f1:0.570\n",
            "\ttrain_confusion_matrix:\n",
            "[[   0  380  509]\n",
            " [   0 2065  342]\n",
            " [   0  315  997]]\n",
            "\tvalid_confusion_matrix:\n",
            "[[  0  90 133]\n",
            " [  1 499 118]\n",
            " [  0  87 233]]\n"
          ]
        },
        {
          "name": "stderr",
          "output_type": "stream",
          "text": [
            "  0%|          | 0/36 [00:00<?, ?it/s]/var/folders/3c/71b8pg6d7j5dht_5h_2n4n_c0000gn/T/ipykernel_8755/1114866685.py:147: UserWarning: Implicit dimension choice for log_softmax has been deprecated. Change the call to include dim=X as an argument.\n",
            "  out = torch.nn.functional.log_softmax(out)\n",
            "100%|██████████| 36/36 [00:09<00:00,  3.92it/s]\n",
            "  0%|          | 0/2 [00:00<?, ?it/s]/var/folders/3c/71b8pg6d7j5dht_5h_2n4n_c0000gn/T/ipykernel_8755/1114866685.py:147: UserWarning: Implicit dimension choice for log_softmax has been deprecated. Change the call to include dim=X as an argument.\n",
            "  out = torch.nn.functional.log_softmax(out)\n",
            "100%|██████████| 2/2 [00:00<00:00,  5.56it/s]\n"
          ]
        },
        {
          "name": "stdout",
          "output_type": "stream",
          "text": [
            "\n",
            "epoch 6\n",
            "\ttrain_loss:0.745 valid_loss:0.808\n",
            "\ttrain_acc:67.53% valid_acc:64.60%\n",
            "\ttrain_f1:0.610 valid_f1:0.586\n",
            "\ttrain_confusion_matrix:\n",
            "[[   7  366  515]\n",
            " [   2 2074  338]\n",
            " [   1  274 1031]]\n",
            "\tvalid_confusion_matrix:\n",
            "[[  2  91 130]\n",
            " [  1 505 112]\n",
            " [  0  77 243]]\n"
          ]
        },
        {
          "name": "stderr",
          "output_type": "stream",
          "text": [
            "  0%|          | 0/36 [00:00<?, ?it/s]/var/folders/3c/71b8pg6d7j5dht_5h_2n4n_c0000gn/T/ipykernel_8755/1114866685.py:147: UserWarning: Implicit dimension choice for log_softmax has been deprecated. Change the call to include dim=X as an argument.\n",
            "  out = torch.nn.functional.log_softmax(out)\n",
            "100%|██████████| 36/36 [00:08<00:00,  4.13it/s]\n",
            "  0%|          | 0/2 [00:00<?, ?it/s]/var/folders/3c/71b8pg6d7j5dht_5h_2n4n_c0000gn/T/ipykernel_8755/1114866685.py:147: UserWarning: Implicit dimension choice for log_softmax has been deprecated. Change the call to include dim=X as an argument.\n",
            "  out = torch.nn.functional.log_softmax(out)\n",
            "100%|██████████| 2/2 [00:00<00:00,  4.83it/s]\n"
          ]
        },
        {
          "name": "stdout",
          "output_type": "stream",
          "text": [
            "\n",
            "epoch 7\n",
            "\ttrain_loss:0.732 valid_loss:0.803\n",
            "\ttrain_acc:68.82% valid_acc:65.89%\n",
            "\ttrain_f1:0.624 valid_f1:0.607\n",
            "\ttrain_confusion_matrix:\n",
            "[[  22  401  466]\n",
            " [   4 2108  298]\n",
            " [   2  266 1041]]\n",
            "\tvalid_confusion_matrix:\n",
            "[[ 11  97 115]\n",
            " [  6 520  92]\n",
            " [  3  83 234]]\n"
          ]
        },
        {
          "name": "stderr",
          "output_type": "stream",
          "text": [
            "  0%|          | 0/36 [00:00<?, ?it/s]/var/folders/3c/71b8pg6d7j5dht_5h_2n4n_c0000gn/T/ipykernel_8755/1114866685.py:147: UserWarning: Implicit dimension choice for log_softmax has been deprecated. Change the call to include dim=X as an argument.\n",
            "  out = torch.nn.functional.log_softmax(out)\n",
            "100%|██████████| 36/36 [00:08<00:00,  4.19it/s]\n",
            "  0%|          | 0/2 [00:00<?, ?it/s]/var/folders/3c/71b8pg6d7j5dht_5h_2n4n_c0000gn/T/ipykernel_8755/1114866685.py:147: UserWarning: Implicit dimension choice for log_softmax has been deprecated. Change the call to include dim=X as an argument.\n",
            "  out = torch.nn.functional.log_softmax(out)\n",
            "100%|██████████| 2/2 [00:00<00:00,  6.08it/s]\n"
          ]
        },
        {
          "name": "stdout",
          "output_type": "stream",
          "text": [
            "\n",
            "epoch 8\n",
            "\ttrain_loss:0.718 valid_loss:0.785\n",
            "\ttrain_acc:69.21% valid_acc:65.63%\n",
            "\ttrain_f1:0.632 valid_f1:0.610\n",
            "\ttrain_confusion_matrix:\n",
            "[[  36  397  457]\n",
            " [  11 2118  282]\n",
            " [  10  262 1035]]\n",
            "\tvalid_confusion_matrix:\n",
            "[[ 11  75 137]\n",
            " [ 13 494 111]\n",
            " [  2  61 257]]\n"
          ]
        },
        {
          "name": "stderr",
          "output_type": "stream",
          "text": [
            "  0%|          | 0/36 [00:00<?, ?it/s]/var/folders/3c/71b8pg6d7j5dht_5h_2n4n_c0000gn/T/ipykernel_8755/1114866685.py:147: UserWarning: Implicit dimension choice for log_softmax has been deprecated. Change the call to include dim=X as an argument.\n",
            "  out = torch.nn.functional.log_softmax(out)\n",
            "100%|██████████| 36/36 [00:08<00:00,  4.22it/s]\n",
            "  0%|          | 0/2 [00:00<?, ?it/s]/var/folders/3c/71b8pg6d7j5dht_5h_2n4n_c0000gn/T/ipykernel_8755/1114866685.py:147: UserWarning: Implicit dimension choice for log_softmax has been deprecated. Change the call to include dim=X as an argument.\n",
            "  out = torch.nn.functional.log_softmax(out)\n",
            "100%|██████████| 2/2 [00:00<00:00,  5.33it/s]\n"
          ]
        },
        {
          "name": "stdout",
          "output_type": "stream",
          "text": [
            "\n",
            "epoch 9\n",
            "\ttrain_loss:0.705 valid_loss:0.775\n",
            "\ttrain_acc:70.18% valid_acc:65.98%\n",
            "\ttrain_f1:0.652 valid_f1:0.623\n",
            "\ttrain_confusion_matrix:\n",
            "[[  77  391  426]\n",
            " [  21 2113  271]\n",
            " [  19  246 1044]]\n",
            "\tvalid_confusion_matrix:\n",
            "[[ 22  79 122]\n",
            " [ 13 499 106]\n",
            " [  9  66 245]]\n"
          ]
        },
        {
          "name": "stderr",
          "output_type": "stream",
          "text": [
            "  0%|          | 0/36 [00:00<?, ?it/s]/var/folders/3c/71b8pg6d7j5dht_5h_2n4n_c0000gn/T/ipykernel_8755/1114866685.py:147: UserWarning: Implicit dimension choice for log_softmax has been deprecated. Change the call to include dim=X as an argument.\n",
            "  out = torch.nn.functional.log_softmax(out)\n",
            "100%|██████████| 36/36 [00:09<00:00,  3.70it/s]\n",
            "  0%|          | 0/2 [00:00<?, ?it/s]/var/folders/3c/71b8pg6d7j5dht_5h_2n4n_c0000gn/T/ipykernel_8755/1114866685.py:147: UserWarning: Implicit dimension choice for log_softmax has been deprecated. Change the call to include dim=X as an argument.\n",
            "  out = torch.nn.functional.log_softmax(out)\n",
            "100%|██████████| 2/2 [00:00<00:00,  3.76it/s]\n"
          ]
        },
        {
          "name": "stdout",
          "output_type": "stream",
          "text": [
            "\n",
            "epoch 10\n",
            "\ttrain_loss:0.685 valid_loss:0.768\n",
            "\ttrain_acc:71.01% valid_acc:67.53%\n",
            "\ttrain_f1:0.672 valid_f1:0.641\n",
            "\ttrain_confusion_matrix:\n",
            "[[ 128  348  413]\n",
            " [  37 2102  271]\n",
            " [  30  237 1042]]\n",
            "\tvalid_confusion_matrix:\n",
            "[[ 28  87 108]\n",
            " [ 19 514  85]\n",
            " [ 14  64 242]]\n"
          ]
        },
        {
          "name": "stderr",
          "output_type": "stream",
          "text": [
            "  0%|          | 0/36 [00:00<?, ?it/s]/var/folders/3c/71b8pg6d7j5dht_5h_2n4n_c0000gn/T/ipykernel_8755/1114866685.py:147: UserWarning: Implicit dimension choice for log_softmax has been deprecated. Change the call to include dim=X as an argument.\n",
            "  out = torch.nn.functional.log_softmax(out)\n",
            "100%|██████████| 36/36 [00:10<00:00,  3.44it/s]\n",
            "  0%|          | 0/2 [00:00<?, ?it/s]/var/folders/3c/71b8pg6d7j5dht_5h_2n4n_c0000gn/T/ipykernel_8755/1114866685.py:147: UserWarning: Implicit dimension choice for log_softmax has been deprecated. Change the call to include dim=X as an argument.\n",
            "  out = torch.nn.functional.log_softmax(out)\n",
            "100%|██████████| 2/2 [00:00<00:00,  5.87it/s]\n"
          ]
        },
        {
          "name": "stdout",
          "output_type": "stream",
          "text": [
            "\n",
            "epoch 11\n",
            "\ttrain_loss:0.678 valid_loss:0.762\n",
            "\ttrain_acc:71.53% valid_acc:68.39%\n",
            "\ttrain_f1:0.680 valid_f1:0.661\n",
            "\ttrain_confusion_matrix:\n",
            "[[ 146  369  376]\n",
            " [  52 2114  243]\n",
            " [  53  219 1036]]\n",
            "\tvalid_confusion_matrix:\n",
            "[[ 47  88  88]\n",
            " [ 27 519  72]\n",
            " [ 23  69 228]]\n"
          ]
        },
        {
          "name": "stderr",
          "output_type": "stream",
          "text": [
            "  0%|          | 0/36 [00:00<?, ?it/s]/var/folders/3c/71b8pg6d7j5dht_5h_2n4n_c0000gn/T/ipykernel_8755/1114866685.py:147: UserWarning: Implicit dimension choice for log_softmax has been deprecated. Change the call to include dim=X as an argument.\n",
            "  out = torch.nn.functional.log_softmax(out)\n",
            "100%|██████████| 36/36 [00:08<00:00,  4.09it/s]\n",
            "  0%|          | 0/2 [00:00<?, ?it/s]/var/folders/3c/71b8pg6d7j5dht_5h_2n4n_c0000gn/T/ipykernel_8755/1114866685.py:147: UserWarning: Implicit dimension choice for log_softmax has been deprecated. Change the call to include dim=X as an argument.\n",
            "  out = torch.nn.functional.log_softmax(out)\n",
            "100%|██████████| 2/2 [00:00<00:00,  5.46it/s]\n"
          ]
        },
        {
          "name": "stdout",
          "output_type": "stream",
          "text": [
            "\n",
            "epoch 12\n",
            "\ttrain_loss:0.668 valid_loss:0.759\n",
            "\ttrain_acc:72.31% valid_acc:67.87%\n",
            "\ttrain_f1:0.699 valid_f1:0.654\n",
            "\ttrain_confusion_matrix:\n",
            "[[ 212  336  343]\n",
            " [  81 2095  229]\n",
            " [  75  212 1025]]\n",
            "\tvalid_confusion_matrix:\n",
            "[[ 45  94  84]\n",
            " [ 30 520  68]\n",
            " [ 22  75 223]]\n"
          ]
        },
        {
          "name": "stderr",
          "output_type": "stream",
          "text": [
            "  0%|          | 0/36 [00:00<?, ?it/s]/var/folders/3c/71b8pg6d7j5dht_5h_2n4n_c0000gn/T/ipykernel_8755/1114866685.py:147: UserWarning: Implicit dimension choice for log_softmax has been deprecated. Change the call to include dim=X as an argument.\n",
            "  out = torch.nn.functional.log_softmax(out)\n",
            "100%|██████████| 36/36 [00:09<00:00,  3.84it/s]\n",
            "  0%|          | 0/2 [00:00<?, ?it/s]/var/folders/3c/71b8pg6d7j5dht_5h_2n4n_c0000gn/T/ipykernel_8755/1114866685.py:147: UserWarning: Implicit dimension choice for log_softmax has been deprecated. Change the call to include dim=X as an argument.\n",
            "  out = torch.nn.functional.log_softmax(out)\n",
            "100%|██████████| 2/2 [00:00<00:00,  5.29it/s]\n"
          ]
        },
        {
          "name": "stdout",
          "output_type": "stream",
          "text": [
            "\n",
            "epoch 13\n",
            "\ttrain_loss:0.653 valid_loss:0.747\n",
            "\ttrain_acc:72.85% valid_acc:67.96%\n",
            "\ttrain_f1:0.705 valid_f1:0.662\n",
            "\ttrain_confusion_matrix:\n",
            "[[ 214  321  350]\n",
            " [  83 2109  220]\n",
            " [  80  197 1034]]\n",
            "\tvalid_confusion_matrix:\n",
            "[[ 48  62 113]\n",
            " [ 34 486  98]\n",
            " [ 16  49 255]]\n"
          ]
        },
        {
          "name": "stderr",
          "output_type": "stream",
          "text": [
            "  0%|          | 0/36 [00:00<?, ?it/s]/var/folders/3c/71b8pg6d7j5dht_5h_2n4n_c0000gn/T/ipykernel_8755/1114866685.py:147: UserWarning: Implicit dimension choice for log_softmax has been deprecated. Change the call to include dim=X as an argument.\n",
            "  out = torch.nn.functional.log_softmax(out)\n",
            "100%|██████████| 36/36 [00:08<00:00,  4.13it/s]\n",
            "  0%|          | 0/2 [00:00<?, ?it/s]/var/folders/3c/71b8pg6d7j5dht_5h_2n4n_c0000gn/T/ipykernel_8755/1114866685.py:147: UserWarning: Implicit dimension choice for log_softmax has been deprecated. Change the call to include dim=X as an argument.\n",
            "  out = torch.nn.functional.log_softmax(out)\n",
            "100%|██████████| 2/2 [00:00<00:00,  5.75it/s]\n"
          ]
        },
        {
          "name": "stdout",
          "output_type": "stream",
          "text": [
            "\n",
            "epoch 14\n",
            "\ttrain_loss:0.647 valid_loss:0.747\n",
            "\ttrain_acc:73.22% valid_acc:68.73%\n",
            "\ttrain_f1:0.713 valid_f1:0.672\n",
            "\ttrain_confusion_matrix:\n",
            "[[ 243  308  338]\n",
            " [ 109 2087  210]\n",
            " [  82  187 1044]]\n",
            "\tvalid_confusion_matrix:\n",
            "[[ 55  65 103]\n",
            " [ 43 493  82]\n",
            " [ 19  51 250]]\n"
          ]
        },
        {
          "name": "stderr",
          "output_type": "stream",
          "text": [
            "  0%|          | 0/36 [00:00<?, ?it/s]/var/folders/3c/71b8pg6d7j5dht_5h_2n4n_c0000gn/T/ipykernel_8755/1114866685.py:147: UserWarning: Implicit dimension choice for log_softmax has been deprecated. Change the call to include dim=X as an argument.\n",
            "  out = torch.nn.functional.log_softmax(out)\n",
            "100%|██████████| 36/36 [00:08<00:00,  4.05it/s]\n",
            "  0%|          | 0/2 [00:00<?, ?it/s]/var/folders/3c/71b8pg6d7j5dht_5h_2n4n_c0000gn/T/ipykernel_8755/1114866685.py:147: UserWarning: Implicit dimension choice for log_softmax has been deprecated. Change the call to include dim=X as an argument.\n",
            "  out = torch.nn.functional.log_softmax(out)\n",
            "100%|██████████| 2/2 [00:00<00:00,  5.19it/s]\n"
          ]
        },
        {
          "name": "stdout",
          "output_type": "stream",
          "text": [
            "\n",
            "epoch 15\n",
            "\ttrain_loss:0.635 valid_loss:0.746\n",
            "\ttrain_acc:73.33% valid_acc:69.68%\n",
            "\ttrain_f1:0.715 valid_f1:0.683\n",
            "\ttrain_confusion_matrix:\n",
            "[[ 255  304  331]\n",
            " [  96 2094  214]\n",
            " [  99  185 1030]]\n",
            "\tvalid_confusion_matrix:\n",
            "[[ 65  77  81]\n",
            " [ 36 519  63]\n",
            " [ 32  63 225]]\n"
          ]
        },
        {
          "name": "stderr",
          "output_type": "stream",
          "text": [
            "  0%|          | 0/36 [00:00<?, ?it/s]/var/folders/3c/71b8pg6d7j5dht_5h_2n4n_c0000gn/T/ipykernel_8755/1114866685.py:147: UserWarning: Implicit dimension choice for log_softmax has been deprecated. Change the call to include dim=X as an argument.\n",
            "  out = torch.nn.functional.log_softmax(out)\n",
            "100%|██████████| 36/36 [00:08<00:00,  4.09it/s]\n",
            "  0%|          | 0/2 [00:00<?, ?it/s]/var/folders/3c/71b8pg6d7j5dht_5h_2n4n_c0000gn/T/ipykernel_8755/1114866685.py:147: UserWarning: Implicit dimension choice for log_softmax has been deprecated. Change the call to include dim=X as an argument.\n",
            "  out = torch.nn.functional.log_softmax(out)\n",
            "100%|██████████| 2/2 [00:00<00:00,  5.56it/s]\n"
          ]
        },
        {
          "name": "stdout",
          "output_type": "stream",
          "text": [
            "\n",
            "epoch 16\n",
            "\ttrain_loss:0.629 valid_loss:0.734\n",
            "\ttrain_acc:73.91% valid_acc:68.99%\n",
            "\ttrain_f1:0.722 valid_f1:0.680\n",
            "\ttrain_confusion_matrix:\n",
            "[[ 263  302  324]\n",
            " [ 105 2097  206]\n",
            " [  93  172 1046]]\n",
            "\tvalid_confusion_matrix:\n",
            "[[ 67  63  93]\n",
            " [ 46 493  79]\n",
            " [ 26  53 241]]\n"
          ]
        },
        {
          "name": "stderr",
          "output_type": "stream",
          "text": [
            "  0%|          | 0/36 [00:00<?, ?it/s]/var/folders/3c/71b8pg6d7j5dht_5h_2n4n_c0000gn/T/ipykernel_8755/1114866685.py:147: UserWarning: Implicit dimension choice for log_softmax has been deprecated. Change the call to include dim=X as an argument.\n",
            "  out = torch.nn.functional.log_softmax(out)\n",
            "100%|██████████| 36/36 [00:09<00:00,  3.81it/s]\n",
            "  0%|          | 0/2 [00:00<?, ?it/s]/var/folders/3c/71b8pg6d7j5dht_5h_2n4n_c0000gn/T/ipykernel_8755/1114866685.py:147: UserWarning: Implicit dimension choice for log_softmax has been deprecated. Change the call to include dim=X as an argument.\n",
            "  out = torch.nn.functional.log_softmax(out)\n",
            "100%|██████████| 2/2 [00:00<00:00,  5.70it/s]\n"
          ]
        },
        {
          "name": "stdout",
          "output_type": "stream",
          "text": [
            "\n",
            "epoch 17\n",
            "\ttrain_loss:0.624 valid_loss:0.744\n",
            "\ttrain_acc:74.31% valid_acc:70.46%\n",
            "\ttrain_f1:0.729 valid_f1:0.691\n",
            "\ttrain_confusion_matrix:\n",
            "[[ 292  286  308]\n",
            " [ 120 2092  200]\n",
            " [ 107  163 1040]]\n",
            "\tvalid_confusion_matrix:\n",
            "[[ 69  86  68]\n",
            " [ 38 528  52]\n",
            " [ 35  64 221]]\n"
          ]
        },
        {
          "name": "stderr",
          "output_type": "stream",
          "text": [
            "  0%|          | 0/36 [00:00<?, ?it/s]/var/folders/3c/71b8pg6d7j5dht_5h_2n4n_c0000gn/T/ipykernel_8755/1114866685.py:147: UserWarning: Implicit dimension choice for log_softmax has been deprecated. Change the call to include dim=X as an argument.\n",
            "  out = torch.nn.functional.log_softmax(out)\n",
            "100%|██████████| 36/36 [00:08<00:00,  4.02it/s]\n",
            "  0%|          | 0/2 [00:00<?, ?it/s]/var/folders/3c/71b8pg6d7j5dht_5h_2n4n_c0000gn/T/ipykernel_8755/1114866685.py:147: UserWarning: Implicit dimension choice for log_softmax has been deprecated. Change the call to include dim=X as an argument.\n",
            "  out = torch.nn.functional.log_softmax(out)\n",
            "100%|██████████| 2/2 [00:00<00:00,  5.49it/s]\n"
          ]
        },
        {
          "name": "stdout",
          "output_type": "stream",
          "text": [
            "\n",
            "epoch 18\n",
            "\ttrain_loss:0.616 valid_loss:0.722\n",
            "\ttrain_acc:74.59% valid_acc:70.63%\n",
            "\ttrain_f1:0.730 valid_f1:0.700\n",
            "\ttrain_confusion_matrix:\n",
            "[[ 289  291  312]\n",
            " [ 102 2111  192]\n",
            " [ 104  170 1037]]\n",
            "\tvalid_confusion_matrix:\n",
            "[[ 82  65  76]\n",
            " [ 50 504  64]\n",
            " [ 32  54 234]]\n"
          ]
        },
        {
          "name": "stderr",
          "output_type": "stream",
          "text": [
            "  0%|          | 0/36 [00:00<?, ?it/s]/var/folders/3c/71b8pg6d7j5dht_5h_2n4n_c0000gn/T/ipykernel_8755/1114866685.py:147: UserWarning: Implicit dimension choice for log_softmax has been deprecated. Change the call to include dim=X as an argument.\n",
            "  out = torch.nn.functional.log_softmax(out)\n",
            "100%|██████████| 36/36 [00:09<00:00,  3.84it/s]\n",
            "  0%|          | 0/2 [00:00<?, ?it/s]/var/folders/3c/71b8pg6d7j5dht_5h_2n4n_c0000gn/T/ipykernel_8755/1114866685.py:147: UserWarning: Implicit dimension choice for log_softmax has been deprecated. Change the call to include dim=X as an argument.\n",
            "  out = torch.nn.functional.log_softmax(out)\n",
            "100%|██████████| 2/2 [00:00<00:00,  4.42it/s]\n"
          ]
        },
        {
          "name": "stdout",
          "output_type": "stream",
          "text": [
            "\n",
            "epoch 19\n",
            "\ttrain_loss:0.604 valid_loss:0.730\n",
            "\ttrain_acc:75.35% valid_acc:70.28%\n",
            "\ttrain_f1:0.740 valid_f1:0.692\n",
            "\ttrain_confusion_matrix:\n",
            "[[ 312  271  302]\n",
            " [ 108 2109  194]\n",
            " [ 100  161 1051]]\n",
            "\tvalid_confusion_matrix:\n",
            "[[ 71  72  80]\n",
            " [ 42 511  65]\n",
            " [ 32  54 234]]\n",
            "Loading saved model from: model_task2.bin\n"
          ]
        },
        {
          "name": "stderr",
          "output_type": "stream",
          "text": [
            "  0%|          | 0/2 [00:00<?, ?it/s]/var/folders/3c/71b8pg6d7j5dht_5h_2n4n_c0000gn/T/ipykernel_8755/1114866685.py:147: UserWarning: Implicit dimension choice for log_softmax has been deprecated. Change the call to include dim=X as an argument.\n",
            "  out = torch.nn.functional.log_softmax(out)\n",
            "100%|██████████| 2/2 [00:00<00:00,  6.48it/s]\n"
          ]
        },
        {
          "name": "stdout",
          "output_type": "stream",
          "text": [
            "              precision    recall  f1-score   support\n",
            "\n",
            "     Neutral       0.52      0.35      0.42       223\n",
            "    Positive       0.81      0.82      0.81       618\n",
            "    Negative       0.62      0.74      0.68       320\n",
            "\n",
            "    accuracy                           0.71      1161\n",
            "   macro avg       0.65      0.64      0.64      1161\n",
            "weighted avg       0.70      0.71      0.70      1161\n",
            "\n",
            "\n",
            "******************************************************************************************\n",
            "Alpha Size: 0.8\n",
            "Window Size: 2\n",
            "******************************************************************************************\n",
            "\n",
            "train samples:4641\n",
            "valid samples:1161\n"
          ]
        },
        {
          "name": "stderr",
          "output_type": "stream",
          "text": [
            "  0%|          | 0/36 [00:00<?, ?it/s]/var/folders/3c/71b8pg6d7j5dht_5h_2n4n_c0000gn/T/ipykernel_8755/1114866685.py:147: UserWarning: Implicit dimension choice for log_softmax has been deprecated. Change the call to include dim=X as an argument.\n",
            "  out = torch.nn.functional.log_softmax(out)\n",
            "100%|██████████| 36/36 [00:07<00:00,  4.66it/s]\n",
            "  0%|          | 0/2 [00:00<?, ?it/s]/var/folders/3c/71b8pg6d7j5dht_5h_2n4n_c0000gn/T/ipykernel_8755/1114866685.py:147: UserWarning: Implicit dimension choice for log_softmax has been deprecated. Change the call to include dim=X as an argument.\n",
            "  out = torch.nn.functional.log_softmax(out)\n",
            "100%|██████████| 2/2 [00:00<00:00,  6.71it/s]\n"
          ]
        },
        {
          "name": "stdout",
          "output_type": "stream",
          "text": [
            "\n",
            "epoch 0\n",
            "\ttrain_loss:1.075 valid_loss:1.059\n",
            "\ttrain_acc:45.88% valid_acc:51.34%\n",
            "\ttrain_f1:0.393 valid_f1:0.349\n",
            "\ttrain_confusion_matrix:\n",
            "[[ 117  701   50]\n",
            " [ 366 1901  161]\n",
            " [ 174 1042   96]]\n",
            "\tvalid_confusion_matrix:\n",
            "[[  0 245   0]\n",
            " [  0 595   0]\n",
            " [  0 320   1]]\n"
          ]
        },
        {
          "name": "stderr",
          "output_type": "stream",
          "text": [
            "  0%|          | 0/36 [00:00<?, ?it/s]/var/folders/3c/71b8pg6d7j5dht_5h_2n4n_c0000gn/T/ipykernel_8755/1114866685.py:147: UserWarning: Implicit dimension choice for log_softmax has been deprecated. Change the call to include dim=X as an argument.\n",
            "  out = torch.nn.functional.log_softmax(out)\n",
            "100%|██████████| 36/36 [00:07<00:00,  4.86it/s]\n",
            "  0%|          | 0/2 [00:00<?, ?it/s]/var/folders/3c/71b8pg6d7j5dht_5h_2n4n_c0000gn/T/ipykernel_8755/1114866685.py:147: UserWarning: Implicit dimension choice for log_softmax has been deprecated. Change the call to include dim=X as an argument.\n",
            "  out = torch.nn.functional.log_softmax(out)\n",
            "100%|██████████| 2/2 [00:00<00:00,  6.86it/s]\n"
          ]
        },
        {
          "name": "stdout",
          "output_type": "stream",
          "text": [
            "\n",
            "epoch 1\n",
            "\ttrain_loss:1.010 valid_loss:1.040\n",
            "\ttrain_acc:52.80% valid_acc:51.25%\n",
            "\ttrain_f1:0.367 valid_f1:0.347\n",
            "\ttrain_confusion_matrix:\n",
            "[[   0  867    0]\n",
            " [   0 2428    2]\n",
            " [   3 1303    5]]\n",
            "\tvalid_confusion_matrix:\n",
            "[[  0 245   0]\n",
            " [  0 595   0]\n",
            " [  0 321   0]]\n"
          ]
        },
        {
          "name": "stderr",
          "output_type": "stream",
          "text": [
            "  0%|          | 0/36 [00:00<?, ?it/s]/var/folders/3c/71b8pg6d7j5dht_5h_2n4n_c0000gn/T/ipykernel_8755/1114866685.py:147: UserWarning: Implicit dimension choice for log_softmax has been deprecated. Change the call to include dim=X as an argument.\n",
            "  out = torch.nn.functional.log_softmax(out)\n",
            "100%|██████████| 36/36 [00:07<00:00,  5.03it/s]\n",
            "  0%|          | 0/2 [00:00<?, ?it/s]/var/folders/3c/71b8pg6d7j5dht_5h_2n4n_c0000gn/T/ipykernel_8755/1114866685.py:147: UserWarning: Implicit dimension choice for log_softmax has been deprecated. Change the call to include dim=X as an argument.\n",
            "  out = torch.nn.functional.log_softmax(out)\n",
            "100%|██████████| 2/2 [00:00<00:00,  6.37it/s]\n"
          ]
        },
        {
          "name": "stdout",
          "output_type": "stream",
          "text": [
            "\n",
            "epoch 2\n",
            "\ttrain_loss:0.965 valid_loss:0.999\n",
            "\ttrain_acc:52.76% valid_acc:51.42%\n",
            "\ttrain_f1:0.366 valid_f1:0.353\n",
            "\ttrain_confusion_matrix:\n",
            "[[   0  869    0]\n",
            " [   0 2423    1]\n",
            " [   0 1307    8]]\n",
            "\tvalid_confusion_matrix:\n",
            "[[  0 245   0]\n",
            " [  0 594   1]\n",
            " [  0 318   3]]\n"
          ]
        },
        {
          "name": "stderr",
          "output_type": "stream",
          "text": [
            "  0%|          | 0/36 [00:00<?, ?it/s]/var/folders/3c/71b8pg6d7j5dht_5h_2n4n_c0000gn/T/ipykernel_8755/1114866685.py:147: UserWarning: Implicit dimension choice for log_softmax has been deprecated. Change the call to include dim=X as an argument.\n",
            "  out = torch.nn.functional.log_softmax(out)\n",
            "100%|██████████| 36/36 [00:07<00:00,  4.85it/s]\n",
            "  0%|          | 0/2 [00:00<?, ?it/s]/var/folders/3c/71b8pg6d7j5dht_5h_2n4n_c0000gn/T/ipykernel_8755/1114866685.py:147: UserWarning: Implicit dimension choice for log_softmax has been deprecated. Change the call to include dim=X as an argument.\n",
            "  out = torch.nn.functional.log_softmax(out)\n",
            "100%|██████████| 2/2 [00:00<00:00,  6.53it/s]\n"
          ]
        },
        {
          "name": "stdout",
          "output_type": "stream",
          "text": [
            "\n",
            "epoch 3\n",
            "\ttrain_loss:0.906 valid_loss:0.910\n",
            "\ttrain_acc:56.68% valid_acc:61.41%\n",
            "\ttrain_f1:0.453 valid_f1:0.530\n",
            "\ttrain_confusion_matrix:\n",
            "[[   0  791   78]\n",
            " [   0 2387   43]\n",
            " [   0 1084  225]]\n",
            "\tvalid_confusion_matrix:\n",
            "[[  0 174  71]\n",
            " [  0 556  39]\n",
            " [  0 164 157]]\n"
          ]
        },
        {
          "name": "stderr",
          "output_type": "stream",
          "text": [
            "  0%|          | 0/36 [00:00<?, ?it/s]/var/folders/3c/71b8pg6d7j5dht_5h_2n4n_c0000gn/T/ipykernel_8755/1114866685.py:147: UserWarning: Implicit dimension choice for log_softmax has been deprecated. Change the call to include dim=X as an argument.\n",
            "  out = torch.nn.functional.log_softmax(out)\n",
            "100%|██████████| 36/36 [00:07<00:00,  4.77it/s]\n",
            "  0%|          | 0/2 [00:00<?, ?it/s]/var/folders/3c/71b8pg6d7j5dht_5h_2n4n_c0000gn/T/ipykernel_8755/1114866685.py:147: UserWarning: Implicit dimension choice for log_softmax has been deprecated. Change the call to include dim=X as an argument.\n",
            "  out = torch.nn.functional.log_softmax(out)\n",
            "100%|██████████| 2/2 [00:00<00:00,  5.15it/s]\n"
          ]
        },
        {
          "name": "stdout",
          "output_type": "stream",
          "text": [
            "\n",
            "epoch 4\n",
            "\ttrain_loss:0.838 valid_loss:0.839\n",
            "\ttrain_acc:63.98% valid_acc:64.94%\n",
            "\ttrain_f1:0.571 valid_f1:0.577\n",
            "\ttrain_confusion_matrix:\n",
            "[[   0  482  386]\n",
            " [   0 2141  290]\n",
            " [   0  502  807]]\n",
            "\tvalid_confusion_matrix:\n",
            "[[  0 108 137]\n",
            " [  0 510  85]\n",
            " [  0  77 244]]\n"
          ]
        },
        {
          "name": "stderr",
          "output_type": "stream",
          "text": [
            "  0%|          | 0/36 [00:00<?, ?it/s]/var/folders/3c/71b8pg6d7j5dht_5h_2n4n_c0000gn/T/ipykernel_8755/1114866685.py:147: UserWarning: Implicit dimension choice for log_softmax has been deprecated. Change the call to include dim=X as an argument.\n",
            "  out = torch.nn.functional.log_softmax(out)\n",
            "100%|██████████| 36/36 [00:07<00:00,  4.79it/s]\n",
            "  0%|          | 0/2 [00:00<?, ?it/s]/var/folders/3c/71b8pg6d7j5dht_5h_2n4n_c0000gn/T/ipykernel_8755/1114866685.py:147: UserWarning: Implicit dimension choice for log_softmax has been deprecated. Change the call to include dim=X as an argument.\n",
            "  out = torch.nn.functional.log_softmax(out)\n",
            "100%|██████████| 2/2 [00:00<00:00,  4.62it/s]\n"
          ]
        },
        {
          "name": "stdout",
          "output_type": "stream",
          "text": [
            "\n",
            "epoch 5\n",
            "\ttrain_loss:0.799 valid_loss:0.810\n",
            "\ttrain_acc:65.04% valid_acc:65.29%\n",
            "\ttrain_f1:0.587 valid_f1:0.582\n",
            "\ttrain_confusion_matrix:\n",
            "[[   1  381  485]\n",
            " [   0 2054  378]\n",
            " [   0  367  942]]\n",
            "\tvalid_confusion_matrix:\n",
            "[[  0  99 146]\n",
            " [  0 502  93]\n",
            " [  0  65 256]]\n"
          ]
        },
        {
          "name": "stderr",
          "output_type": "stream",
          "text": [
            "  0%|          | 0/36 [00:00<?, ?it/s]/var/folders/3c/71b8pg6d7j5dht_5h_2n4n_c0000gn/T/ipykernel_8755/1114866685.py:147: UserWarning: Implicit dimension choice for log_softmax has been deprecated. Change the call to include dim=X as an argument.\n",
            "  out = torch.nn.functional.log_softmax(out)\n",
            "100%|██████████| 36/36 [00:08<00:00,  4.41it/s]\n",
            "  0%|          | 0/2 [00:00<?, ?it/s]/var/folders/3c/71b8pg6d7j5dht_5h_2n4n_c0000gn/T/ipykernel_8755/1114866685.py:147: UserWarning: Implicit dimension choice for log_softmax has been deprecated. Change the call to include dim=X as an argument.\n",
            "  out = torch.nn.functional.log_softmax(out)\n",
            "100%|██████████| 2/2 [00:00<00:00,  5.28it/s]\n"
          ]
        },
        {
          "name": "stdout",
          "output_type": "stream",
          "text": [
            "\n",
            "epoch 6\n",
            "\ttrain_loss:0.768 valid_loss:0.799\n",
            "\ttrain_acc:66.78% valid_acc:65.98%\n",
            "\ttrain_f1:0.603 valid_f1:0.585\n",
            "\ttrain_confusion_matrix:\n",
            "[[   1  364  503]\n",
            " [   0 2057  375]\n",
            " [   0  289 1019]]\n",
            "\tvalid_confusion_matrix:\n",
            "[[  0 113 132]\n",
            " [  0 515  80]\n",
            " [  0  70 251]]\n"
          ]
        },
        {
          "name": "stderr",
          "output_type": "stream",
          "text": [
            "  0%|          | 0/36 [00:00<?, ?it/s]/var/folders/3c/71b8pg6d7j5dht_5h_2n4n_c0000gn/T/ipykernel_8755/1114866685.py:147: UserWarning: Implicit dimension choice for log_softmax has been deprecated. Change the call to include dim=X as an argument.\n",
            "  out = torch.nn.functional.log_softmax(out)\n",
            "100%|██████████| 36/36 [00:08<00:00,  4.34it/s]\n",
            "  0%|          | 0/2 [00:00<?, ?it/s]/var/folders/3c/71b8pg6d7j5dht_5h_2n4n_c0000gn/T/ipykernel_8755/1114866685.py:147: UserWarning: Implicit dimension choice for log_softmax has been deprecated. Change the call to include dim=X as an argument.\n",
            "  out = torch.nn.functional.log_softmax(out)\n",
            "100%|██████████| 2/2 [00:00<00:00,  5.67it/s]\n"
          ]
        },
        {
          "name": "stdout",
          "output_type": "stream",
          "text": [
            "\n",
            "epoch 7\n",
            "\ttrain_loss:0.754 valid_loss:0.774\n",
            "\ttrain_acc:67.45% valid_acc:66.67%\n",
            "\ttrain_f1:0.611 valid_f1:0.604\n",
            "\ttrain_confusion_matrix:\n",
            "[[  10  395  460]\n",
            " [   2 2095  337]\n",
            " [   0  306 1003]]\n",
            "\tvalid_confusion_matrix:\n",
            "[[  7  92 146]\n",
            " [  1 493 101]\n",
            " [  1  46 274]]\n"
          ]
        },
        {
          "name": "stderr",
          "output_type": "stream",
          "text": [
            "  0%|          | 0/36 [00:00<?, ?it/s]/var/folders/3c/71b8pg6d7j5dht_5h_2n4n_c0000gn/T/ipykernel_8755/1114866685.py:147: UserWarning: Implicit dimension choice for log_softmax has been deprecated. Change the call to include dim=X as an argument.\n",
            "  out = torch.nn.functional.log_softmax(out)\n",
            "100%|██████████| 36/36 [00:08<00:00,  4.44it/s]\n",
            "  0%|          | 0/2 [00:00<?, ?it/s]/var/folders/3c/71b8pg6d7j5dht_5h_2n4n_c0000gn/T/ipykernel_8755/1114866685.py:147: UserWarning: Implicit dimension choice for log_softmax has been deprecated. Change the call to include dim=X as an argument.\n",
            "  out = torch.nn.functional.log_softmax(out)\n",
            "100%|██████████| 2/2 [00:00<00:00,  6.06it/s]\n"
          ]
        },
        {
          "name": "stdout",
          "output_type": "stream",
          "text": [
            "\n",
            "epoch 8\n",
            "\ttrain_loss:0.736 valid_loss:0.769\n",
            "\ttrain_acc:68.27% valid_acc:67.44%\n",
            "\ttrain_f1:0.622 valid_f1:0.603\n",
            "\ttrain_confusion_matrix:\n",
            "[[  24  379  466]\n",
            " [   2 2100  327]\n",
            " [   1  287 1022]]\n",
            "\tvalid_confusion_matrix:\n",
            "[[  5 123 117]\n",
            " [  2 529  64]\n",
            " [  1  71 249]]\n"
          ]
        },
        {
          "name": "stderr",
          "output_type": "stream",
          "text": [
            "  0%|          | 0/36 [00:00<?, ?it/s]/var/folders/3c/71b8pg6d7j5dht_5h_2n4n_c0000gn/T/ipykernel_8755/1114866685.py:147: UserWarning: Implicit dimension choice for log_softmax has been deprecated. Change the call to include dim=X as an argument.\n",
            "  out = torch.nn.functional.log_softmax(out)\n",
            "100%|██████████| 36/36 [00:08<00:00,  4.29it/s]\n",
            "  0%|          | 0/2 [00:00<?, ?it/s]/var/folders/3c/71b8pg6d7j5dht_5h_2n4n_c0000gn/T/ipykernel_8755/1114866685.py:147: UserWarning: Implicit dimension choice for log_softmax has been deprecated. Change the call to include dim=X as an argument.\n",
            "  out = torch.nn.functional.log_softmax(out)\n",
            "100%|██████████| 2/2 [00:00<00:00,  5.53it/s]\n"
          ]
        },
        {
          "name": "stdout",
          "output_type": "stream",
          "text": [
            "\n",
            "epoch 9\n",
            "\ttrain_loss:0.719 valid_loss:0.752\n",
            "\ttrain_acc:69.38% valid_acc:67.53%\n",
            "\ttrain_f1:0.639 valid_f1:0.614\n",
            "\ttrain_confusion_matrix:\n",
            "[[  49  395  421]\n",
            " [   7 2129  298]\n",
            " [   8  282 1019]]\n",
            "\tvalid_confusion_matrix:\n",
            "[[ 12 108 125]\n",
            " [  1 514  80]\n",
            " [  2  61 258]]\n"
          ]
        },
        {
          "name": "stderr",
          "output_type": "stream",
          "text": [
            "  0%|          | 0/36 [00:00<?, ?it/s]/var/folders/3c/71b8pg6d7j5dht_5h_2n4n_c0000gn/T/ipykernel_8755/1114866685.py:147: UserWarning: Implicit dimension choice for log_softmax has been deprecated. Change the call to include dim=X as an argument.\n",
            "  out = torch.nn.functional.log_softmax(out)\n",
            "100%|██████████| 36/36 [00:07<00:00,  4.56it/s]\n",
            "  0%|          | 0/2 [00:00<?, ?it/s]/var/folders/3c/71b8pg6d7j5dht_5h_2n4n_c0000gn/T/ipykernel_8755/1114866685.py:147: UserWarning: Implicit dimension choice for log_softmax has been deprecated. Change the call to include dim=X as an argument.\n",
            "  out = torch.nn.functional.log_softmax(out)\n",
            "100%|██████████| 2/2 [00:00<00:00,  6.09it/s]\n"
          ]
        },
        {
          "name": "stdout",
          "output_type": "stream",
          "text": [
            "\n",
            "epoch 10\n",
            "\ttrain_loss:0.701 valid_loss:0.740\n",
            "\ttrain_acc:70.64% valid_acc:68.48%\n",
            "\ttrain_f1:0.659 valid_f1:0.633\n",
            "\ttrain_confusion_matrix:\n",
            "[[  80  372  413]\n",
            " [  14 2148  275]\n",
            " [  17  262 1027]]\n",
            "\tvalid_confusion_matrix:\n",
            "[[ 22 111 112]\n",
            " [  4 521  70]\n",
            " [ 10  59 252]]\n"
          ]
        },
        {
          "name": "stderr",
          "output_type": "stream",
          "text": [
            "  0%|          | 0/36 [00:00<?, ?it/s]/var/folders/3c/71b8pg6d7j5dht_5h_2n4n_c0000gn/T/ipykernel_8755/1114866685.py:147: UserWarning: Implicit dimension choice for log_softmax has been deprecated. Change the call to include dim=X as an argument.\n",
            "  out = torch.nn.functional.log_softmax(out)\n",
            "100%|██████████| 36/36 [00:08<00:00,  4.44it/s]\n",
            "  0%|          | 0/2 [00:00<?, ?it/s]/var/folders/3c/71b8pg6d7j5dht_5h_2n4n_c0000gn/T/ipykernel_8755/1114866685.py:147: UserWarning: Implicit dimension choice for log_softmax has been deprecated. Change the call to include dim=X as an argument.\n",
            "  out = torch.nn.functional.log_softmax(out)\n",
            "100%|██████████| 2/2 [00:00<00:00,  5.54it/s]\n"
          ]
        },
        {
          "name": "stdout",
          "output_type": "stream",
          "text": [
            "\n",
            "epoch 11\n",
            "\ttrain_loss:0.690 valid_loss:0.725\n",
            "\ttrain_acc:71.29% valid_acc:69.25%\n",
            "\ttrain_f1:0.674 valid_f1:0.656\n",
            "\ttrain_confusion_matrix:\n",
            "[[ 119  366  383]\n",
            " [  29 2145  258]\n",
            " [  32  255 1021]]\n",
            "\tvalid_confusion_matrix:\n",
            "[[ 41 104 100]\n",
            " [ 13 523  59]\n",
            " [ 15  66 240]]\n"
          ]
        },
        {
          "name": "stderr",
          "output_type": "stream",
          "text": [
            "  0%|          | 0/36 [00:00<?, ?it/s]/var/folders/3c/71b8pg6d7j5dht_5h_2n4n_c0000gn/T/ipykernel_8755/1114866685.py:147: UserWarning: Implicit dimension choice for log_softmax has been deprecated. Change the call to include dim=X as an argument.\n",
            "  out = torch.nn.functional.log_softmax(out)\n",
            "100%|██████████| 36/36 [00:08<00:00,  4.40it/s]\n",
            "  0%|          | 0/2 [00:00<?, ?it/s]/var/folders/3c/71b8pg6d7j5dht_5h_2n4n_c0000gn/T/ipykernel_8755/1114866685.py:147: UserWarning: Implicit dimension choice for log_softmax has been deprecated. Change the call to include dim=X as an argument.\n",
            "  out = torch.nn.functional.log_softmax(out)\n",
            "100%|██████████| 2/2 [00:00<00:00,  5.79it/s]\n"
          ]
        },
        {
          "name": "stdout",
          "output_type": "stream",
          "text": [
            "\n",
            "epoch 12\n",
            "\ttrain_loss:0.679 valid_loss:0.729\n",
            "\ttrain_acc:71.53% valid_acc:69.25%\n",
            "\ttrain_f1:0.681 valid_f1:0.656\n",
            "\ttrain_confusion_matrix:\n",
            "[[ 144  367  358]\n",
            " [  49 2156  228]\n",
            " [  48  262  996]]\n",
            "\tvalid_confusion_matrix:\n",
            "[[ 40  93 112]\n",
            " [ 11 511  73]\n",
            " [ 12  56 253]]\n"
          ]
        },
        {
          "name": "stderr",
          "output_type": "stream",
          "text": [
            "  0%|          | 0/36 [00:00<?, ?it/s]/var/folders/3c/71b8pg6d7j5dht_5h_2n4n_c0000gn/T/ipykernel_8755/1114866685.py:147: UserWarning: Implicit dimension choice for log_softmax has been deprecated. Change the call to include dim=X as an argument.\n",
            "  out = torch.nn.functional.log_softmax(out)\n",
            "100%|██████████| 36/36 [00:07<00:00,  4.66it/s]\n",
            "  0%|          | 0/2 [00:00<?, ?it/s]/var/folders/3c/71b8pg6d7j5dht_5h_2n4n_c0000gn/T/ipykernel_8755/1114866685.py:147: UserWarning: Implicit dimension choice for log_softmax has been deprecated. Change the call to include dim=X as an argument.\n",
            "  out = torch.nn.functional.log_softmax(out)\n",
            "100%|██████████| 2/2 [00:00<00:00,  6.57it/s]\n"
          ]
        },
        {
          "name": "stdout",
          "output_type": "stream",
          "text": [
            "\n",
            "epoch 13\n",
            "\ttrain_loss:0.669 valid_loss:0.711\n",
            "\ttrain_acc:72.63% valid_acc:70.63%\n",
            "\ttrain_f1:0.698 valid_f1:0.686\n",
            "\ttrain_confusion_matrix:\n",
            "[[ 180  331  360]\n",
            " [  68 2143  219]\n",
            " [  51  232 1024]]\n",
            "\tvalid_confusion_matrix:\n",
            "[[ 68  86  91]\n",
            " [ 28 510  57]\n",
            " [ 24  55 242]]\n"
          ]
        },
        {
          "name": "stderr",
          "output_type": "stream",
          "text": [
            "  0%|          | 0/36 [00:00<?, ?it/s]/var/folders/3c/71b8pg6d7j5dht_5h_2n4n_c0000gn/T/ipykernel_8755/1114866685.py:147: UserWarning: Implicit dimension choice for log_softmax has been deprecated. Change the call to include dim=X as an argument.\n",
            "  out = torch.nn.functional.log_softmax(out)\n",
            "100%|██████████| 36/36 [00:07<00:00,  4.54it/s]\n",
            "  0%|          | 0/2 [00:00<?, ?it/s]/var/folders/3c/71b8pg6d7j5dht_5h_2n4n_c0000gn/T/ipykernel_8755/1114866685.py:147: UserWarning: Implicit dimension choice for log_softmax has been deprecated. Change the call to include dim=X as an argument.\n",
            "  out = torch.nn.functional.log_softmax(out)\n",
            "100%|██████████| 2/2 [00:00<00:00,  4.43it/s]\n"
          ]
        },
        {
          "name": "stdout",
          "output_type": "stream",
          "text": [
            "\n",
            "epoch 14\n",
            "\ttrain_loss:0.659 valid_loss:0.716\n",
            "\ttrain_acc:72.96% valid_acc:69.25%\n",
            "\ttrain_f1:0.708 valid_f1:0.664\n",
            "\ttrain_confusion_matrix:\n",
            "[[ 225  318  326]\n",
            " [  86 2141  205]\n",
            " [  84  227  996]]\n",
            "\tvalid_confusion_matrix:\n",
            "[[ 50  91 104]\n",
            " [ 22 515  58]\n",
            " [ 25  57 239]]\n"
          ]
        },
        {
          "name": "stderr",
          "output_type": "stream",
          "text": [
            "  0%|          | 0/36 [00:00<?, ?it/s]/var/folders/3c/71b8pg6d7j5dht_5h_2n4n_c0000gn/T/ipykernel_8755/1114866685.py:147: UserWarning: Implicit dimension choice for log_softmax has been deprecated. Change the call to include dim=X as an argument.\n",
            "  out = torch.nn.functional.log_softmax(out)\n",
            "100%|██████████| 36/36 [00:08<00:00,  4.44it/s]\n",
            "  0%|          | 0/2 [00:00<?, ?it/s]/var/folders/3c/71b8pg6d7j5dht_5h_2n4n_c0000gn/T/ipykernel_8755/1114866685.py:147: UserWarning: Implicit dimension choice for log_softmax has been deprecated. Change the call to include dim=X as an argument.\n",
            "  out = torch.nn.functional.log_softmax(out)\n",
            "100%|██████████| 2/2 [00:00<00:00,  5.75it/s]\n"
          ]
        },
        {
          "name": "stdout",
          "output_type": "stream",
          "text": [
            "\n",
            "epoch 15\n",
            "\ttrain_loss:0.652 valid_loss:0.712\n",
            "\ttrain_acc:73.91% valid_acc:70.63%\n",
            "\ttrain_f1:0.719 valid_f1:0.689\n",
            "\ttrain_confusion_matrix:\n",
            "[[ 244  308  319]\n",
            " [  87 2137  207]\n",
            " [  72  209 1025]]\n",
            "\tvalid_confusion_matrix:\n",
            "[[ 76  85  84]\n",
            " [ 28 517  50]\n",
            " [ 35  59 227]]\n"
          ]
        },
        {
          "name": "stderr",
          "output_type": "stream",
          "text": [
            "  0%|          | 0/36 [00:00<?, ?it/s]/var/folders/3c/71b8pg6d7j5dht_5h_2n4n_c0000gn/T/ipykernel_8755/1114866685.py:147: UserWarning: Implicit dimension choice for log_softmax has been deprecated. Change the call to include dim=X as an argument.\n",
            "  out = torch.nn.functional.log_softmax(out)\n",
            "100%|██████████| 36/36 [00:07<00:00,  4.54it/s]\n",
            "  0%|          | 0/2 [00:00<?, ?it/s]/var/folders/3c/71b8pg6d7j5dht_5h_2n4n_c0000gn/T/ipykernel_8755/1114866685.py:147: UserWarning: Implicit dimension choice for log_softmax has been deprecated. Change the call to include dim=X as an argument.\n",
            "  out = torch.nn.functional.log_softmax(out)\n",
            "100%|██████████| 2/2 [00:00<00:00,  6.51it/s]\n"
          ]
        },
        {
          "name": "stdout",
          "output_type": "stream",
          "text": [
            "\n",
            "epoch 16\n",
            "\ttrain_loss:0.642 valid_loss:0.721\n",
            "\ttrain_acc:73.85% valid_acc:70.03%\n",
            "\ttrain_f1:0.720 valid_f1:0.677\n",
            "\ttrain_confusion_matrix:\n",
            "[[ 256  309  306]\n",
            " [  92 2135  203]\n",
            " [  87  208 1012]]\n",
            "\tvalid_confusion_matrix:\n",
            "[[ 61  93  91]\n",
            " [ 24 518  53]\n",
            " [ 27  60 234]]\n"
          ]
        },
        {
          "name": "stderr",
          "output_type": "stream",
          "text": [
            "  0%|          | 0/36 [00:00<?, ?it/s]/var/folders/3c/71b8pg6d7j5dht_5h_2n4n_c0000gn/T/ipykernel_8755/1114866685.py:147: UserWarning: Implicit dimension choice for log_softmax has been deprecated. Change the call to include dim=X as an argument.\n",
            "  out = torch.nn.functional.log_softmax(out)\n",
            "100%|██████████| 36/36 [00:07<00:00,  5.13it/s]\n",
            "  0%|          | 0/2 [00:00<?, ?it/s]/var/folders/3c/71b8pg6d7j5dht_5h_2n4n_c0000gn/T/ipykernel_8755/1114866685.py:147: UserWarning: Implicit dimension choice for log_softmax has been deprecated. Change the call to include dim=X as an argument.\n",
            "  out = torch.nn.functional.log_softmax(out)\n",
            "100%|██████████| 2/2 [00:00<00:00,  6.65it/s]\n"
          ]
        },
        {
          "name": "stdout",
          "output_type": "stream",
          "text": [
            "\n",
            "epoch 17\n",
            "\ttrain_loss:0.633 valid_loss:0.718\n",
            "\ttrain_acc:74.54% valid_acc:70.11%\n",
            "\ttrain_f1:0.729 valid_f1:0.680\n",
            "\ttrain_confusion_matrix:\n",
            "[[ 268  287  310]\n",
            " [  92 2140  201]\n",
            " [  83  200 1027]]\n",
            "\tvalid_confusion_matrix:\n",
            "[[ 66  94  85]\n",
            " [ 27 518  50]\n",
            " [ 30  61 230]]\n"
          ]
        },
        {
          "name": "stderr",
          "output_type": "stream",
          "text": [
            "  0%|          | 0/36 [00:00<?, ?it/s]/var/folders/3c/71b8pg6d7j5dht_5h_2n4n_c0000gn/T/ipykernel_8755/1114866685.py:147: UserWarning: Implicit dimension choice for log_softmax has been deprecated. Change the call to include dim=X as an argument.\n",
            "  out = torch.nn.functional.log_softmax(out)\n",
            "100%|██████████| 36/36 [00:07<00:00,  5.11it/s]\n",
            "  0%|          | 0/2 [00:00<?, ?it/s]/var/folders/3c/71b8pg6d7j5dht_5h_2n4n_c0000gn/T/ipykernel_8755/1114866685.py:147: UserWarning: Implicit dimension choice for log_softmax has been deprecated. Change the call to include dim=X as an argument.\n",
            "  out = torch.nn.functional.log_softmax(out)\n",
            "100%|██████████| 2/2 [00:00<00:00,  6.50it/s]\n"
          ]
        },
        {
          "name": "stdout",
          "output_type": "stream",
          "text": [
            "\n",
            "epoch 18\n",
            "\ttrain_loss:0.625 valid_loss:0.706\n",
            "\ttrain_acc:74.80% valid_acc:70.11%\n",
            "\ttrain_f1:0.734 valid_f1:0.681\n",
            "\ttrain_confusion_matrix:\n",
            "[[ 295  291  280]\n",
            " [ 109 2167  159]\n",
            " [ 119  203  985]]\n",
            "\tvalid_confusion_matrix:\n",
            "[[ 65  82  98]\n",
            " [ 31 503  61]\n",
            " [ 23  52 246]]\n"
          ]
        },
        {
          "name": "stderr",
          "output_type": "stream",
          "text": [
            "  0%|          | 0/36 [00:00<?, ?it/s]/var/folders/3c/71b8pg6d7j5dht_5h_2n4n_c0000gn/T/ipykernel_8755/1114866685.py:147: UserWarning: Implicit dimension choice for log_softmax has been deprecated. Change the call to include dim=X as an argument.\n",
            "  out = torch.nn.functional.log_softmax(out)\n",
            "100%|██████████| 36/36 [00:06<00:00,  5.16it/s]\n",
            "  0%|          | 0/2 [00:00<?, ?it/s]/var/folders/3c/71b8pg6d7j5dht_5h_2n4n_c0000gn/T/ipykernel_8755/1114866685.py:147: UserWarning: Implicit dimension choice for log_softmax has been deprecated. Change the call to include dim=X as an argument.\n",
            "  out = torch.nn.functional.log_softmax(out)\n",
            "100%|██████████| 2/2 [00:00<00:00,  7.74it/s]\n"
          ]
        },
        {
          "name": "stdout",
          "output_type": "stream",
          "text": [
            "\n",
            "epoch 19\n",
            "\ttrain_loss:0.618 valid_loss:0.709\n",
            "\ttrain_acc:75.02% valid_acc:71.23%\n",
            "\ttrain_f1:0.736 valid_f1:0.698\n",
            "\ttrain_confusion_matrix:\n",
            "[[ 292  282  294]\n",
            " [ 107 2141  183]\n",
            " [  90  195 1024]]\n",
            "\tvalid_confusion_matrix:\n",
            "[[ 81  88  76]\n",
            " [ 37 512  46]\n",
            " [ 37  50 234]]\n",
            "Loading saved model from: model_task2.bin\n"
          ]
        },
        {
          "name": "stderr",
          "output_type": "stream",
          "text": [
            "  0%|          | 0/2 [00:00<?, ?it/s]/var/folders/3c/71b8pg6d7j5dht_5h_2n4n_c0000gn/T/ipykernel_8755/1114866685.py:147: UserWarning: Implicit dimension choice for log_softmax has been deprecated. Change the call to include dim=X as an argument.\n",
            "  out = torch.nn.functional.log_softmax(out)\n",
            "100%|██████████| 2/2 [00:00<00:00,  7.53it/s]\n"
          ]
        },
        {
          "name": "stdout",
          "output_type": "stream",
          "text": [
            "              precision    recall  f1-score   support\n",
            "\n",
            "     Neutral       0.53      0.26      0.35       245\n",
            "    Positive       0.79      0.85      0.82       595\n",
            "    Negative       0.60      0.76      0.67       321\n",
            "\n",
            "    accuracy                           0.70      1161\n",
            "   macro avg       0.64      0.62      0.61      1161\n",
            "weighted avg       0.68      0.70      0.68      1161\n",
            "\n",
            "\n",
            "******************************************************************************************\n",
            "Alpha Size: 0.8\n",
            "Window Size: 4\n",
            "******************************************************************************************\n",
            "\n",
            "train samples:4641\n",
            "valid samples:1161\n"
          ]
        },
        {
          "name": "stderr",
          "output_type": "stream",
          "text": [
            "  0%|          | 0/36 [00:00<?, ?it/s]/var/folders/3c/71b8pg6d7j5dht_5h_2n4n_c0000gn/T/ipykernel_8755/1114866685.py:147: UserWarning: Implicit dimension choice for log_softmax has been deprecated. Change the call to include dim=X as an argument.\n",
            "  out = torch.nn.functional.log_softmax(out)\n",
            "100%|██████████| 36/36 [00:07<00:00,  4.56it/s]\n",
            "  0%|          | 0/2 [00:00<?, ?it/s]/var/folders/3c/71b8pg6d7j5dht_5h_2n4n_c0000gn/T/ipykernel_8755/1114866685.py:147: UserWarning: Implicit dimension choice for log_softmax has been deprecated. Change the call to include dim=X as an argument.\n",
            "  out = torch.nn.functional.log_softmax(out)\n",
            "100%|██████████| 2/2 [00:00<00:00,  5.72it/s]\n"
          ]
        },
        {
          "name": "stdout",
          "output_type": "stream",
          "text": [
            "\n",
            "epoch 0\n",
            "\ttrain_loss:1.069 valid_loss:1.020\n",
            "\ttrain_acc:47.53% valid_acc:54.52%\n",
            "\ttrain_f1:0.412 valid_f1:0.389\n",
            "\ttrain_confusion_matrix:\n",
            "[[  56  709  144]\n",
            " [ 113 1899  386]\n",
            " [  58 1008  235]]\n",
            "\tvalid_confusion_matrix:\n",
            "[[  0 204   1]\n",
            " [  0 629   1]\n",
            " [  0 322   4]]\n"
          ]
        },
        {
          "name": "stderr",
          "output_type": "stream",
          "text": [
            "  0%|          | 0/36 [00:00<?, ?it/s]/var/folders/3c/71b8pg6d7j5dht_5h_2n4n_c0000gn/T/ipykernel_8755/1114866685.py:147: UserWarning: Implicit dimension choice for log_softmax has been deprecated. Change the call to include dim=X as an argument.\n",
            "  out = torch.nn.functional.log_softmax(out)\n",
            "100%|██████████| 36/36 [00:07<00:00,  4.77it/s]\n",
            "  0%|          | 0/2 [00:00<?, ?it/s]/var/folders/3c/71b8pg6d7j5dht_5h_2n4n_c0000gn/T/ipykernel_8755/1114866685.py:147: UserWarning: Implicit dimension choice for log_softmax has been deprecated. Change the call to include dim=X as an argument.\n",
            "  out = torch.nn.functional.log_softmax(out)\n",
            "100%|██████████| 2/2 [00:00<00:00,  6.03it/s]\n"
          ]
        },
        {
          "name": "stdout",
          "output_type": "stream",
          "text": [
            "\n",
            "epoch 1\n",
            "\ttrain_loss:1.003 valid_loss:0.957\n",
            "\ttrain_acc:52.32% valid_acc:54.52%\n",
            "\ttrain_f1:0.363 valid_f1:0.389\n",
            "\ttrain_confusion_matrix:\n",
            "[[   0  907    0]\n",
            " [   0 2398    2]\n",
            " [   0 1288   13]]\n",
            "\tvalid_confusion_matrix:\n",
            "[[  0 205   0]\n",
            " [  0 629   1]\n",
            " [  0 322   4]]\n"
          ]
        },
        {
          "name": "stderr",
          "output_type": "stream",
          "text": [
            "  0%|          | 0/36 [00:00<?, ?it/s]/var/folders/3c/71b8pg6d7j5dht_5h_2n4n_c0000gn/T/ipykernel_8755/1114866685.py:147: UserWarning: Implicit dimension choice for log_softmax has been deprecated. Change the call to include dim=X as an argument.\n",
            "  out = torch.nn.functional.log_softmax(out)\n",
            "100%|██████████| 36/36 [00:08<00:00,  4.47it/s]\n",
            "  0%|          | 0/2 [00:00<?, ?it/s]/var/folders/3c/71b8pg6d7j5dht_5h_2n4n_c0000gn/T/ipykernel_8755/1114866685.py:147: UserWarning: Implicit dimension choice for log_softmax has been deprecated. Change the call to include dim=X as an argument.\n",
            "  out = torch.nn.functional.log_softmax(out)\n",
            "100%|██████████| 2/2 [00:00<00:00,  4.61it/s]\n"
          ]
        },
        {
          "name": "stdout",
          "output_type": "stream",
          "text": [
            "\n",
            "epoch 2\n",
            "\ttrain_loss:0.957 valid_loss:0.905\n",
            "\ttrain_acc:52.43% valid_acc:55.04%\n",
            "\ttrain_f1:0.365 valid_f1:0.405\n",
            "\ttrain_confusion_matrix:\n",
            "[[   0  907    1]\n",
            " [   0 2397    2]\n",
            " [   0 1282   19]]\n",
            "\tvalid_confusion_matrix:\n",
            "[[  0 199   6]\n",
            " [  0 626   4]\n",
            " [  0 313  13]]\n"
          ]
        },
        {
          "name": "stderr",
          "output_type": "stream",
          "text": [
            "  0%|          | 0/36 [00:00<?, ?it/s]/var/folders/3c/71b8pg6d7j5dht_5h_2n4n_c0000gn/T/ipykernel_8755/1114866685.py:147: UserWarning: Implicit dimension choice for log_softmax has been deprecated. Change the call to include dim=X as an argument.\n",
            "  out = torch.nn.functional.log_softmax(out)\n",
            "100%|██████████| 36/36 [00:07<00:00,  4.60it/s]\n",
            "  0%|          | 0/2 [00:00<?, ?it/s]/var/folders/3c/71b8pg6d7j5dht_5h_2n4n_c0000gn/T/ipykernel_8755/1114866685.py:147: UserWarning: Implicit dimension choice for log_softmax has been deprecated. Change the call to include dim=X as an argument.\n",
            "  out = torch.nn.functional.log_softmax(out)\n",
            "100%|██████████| 2/2 [00:00<00:00,  5.96it/s]\n"
          ]
        },
        {
          "name": "stdout",
          "output_type": "stream",
          "text": [
            "\n",
            "epoch 3\n",
            "\ttrain_loss:0.888 valid_loss:0.839\n",
            "\ttrain_acc:58.42% valid_acc:64.34%\n",
            "\ttrain_f1:0.493 valid_f1:0.578\n",
            "\ttrain_confusion_matrix:\n",
            "[[   0  714  191]\n",
            " [   0 2275  123]\n",
            " [   0  888  417]]\n",
            "\tvalid_confusion_matrix:\n",
            "[[  0 101 104]\n",
            " [  0 560  70]\n",
            " [  0 139 187]]\n"
          ]
        },
        {
          "name": "stderr",
          "output_type": "stream",
          "text": [
            "  0%|          | 0/36 [00:00<?, ?it/s]/var/folders/3c/71b8pg6d7j5dht_5h_2n4n_c0000gn/T/ipykernel_8755/1114866685.py:147: UserWarning: Implicit dimension choice for log_softmax has been deprecated. Change the call to include dim=X as an argument.\n",
            "  out = torch.nn.functional.log_softmax(out)\n",
            "100%|██████████| 36/36 [00:07<00:00,  4.78it/s]\n",
            "  0%|          | 0/2 [00:00<?, ?it/s]/var/folders/3c/71b8pg6d7j5dht_5h_2n4n_c0000gn/T/ipykernel_8755/1114866685.py:147: UserWarning: Implicit dimension choice for log_softmax has been deprecated. Change the call to include dim=X as an argument.\n",
            "  out = torch.nn.functional.log_softmax(out)\n",
            "100%|██████████| 2/2 [00:00<00:00,  5.86it/s]\n"
          ]
        },
        {
          "name": "stdout",
          "output_type": "stream",
          "text": [
            "\n",
            "epoch 4\n",
            "\ttrain_loss:0.831 valid_loss:0.798\n",
            "\ttrain_acc:63.67% valid_acc:65.63%\n",
            "\ttrain_f1:0.569 valid_f1:0.593\n",
            "\ttrain_confusion_matrix:\n",
            "[[   0  411  497]\n",
            " [   0 2044  355]\n",
            " [   0  411  890]]\n",
            "\tvalid_confusion_matrix:\n",
            "[[  0  91 114]\n",
            " [  0 555  75]\n",
            " [  0 119 207]]\n"
          ]
        },
        {
          "name": "stderr",
          "output_type": "stream",
          "text": [
            "  0%|          | 0/36 [00:00<?, ?it/s]/var/folders/3c/71b8pg6d7j5dht_5h_2n4n_c0000gn/T/ipykernel_8755/1114866685.py:147: UserWarning: Implicit dimension choice for log_softmax has been deprecated. Change the call to include dim=X as an argument.\n",
            "  out = torch.nn.functional.log_softmax(out)\n",
            "100%|██████████| 36/36 [00:07<00:00,  4.79it/s]\n",
            "  0%|          | 0/2 [00:00<?, ?it/s]/var/folders/3c/71b8pg6d7j5dht_5h_2n4n_c0000gn/T/ipykernel_8755/1114866685.py:147: UserWarning: Implicit dimension choice for log_softmax has been deprecated. Change the call to include dim=X as an argument.\n",
            "  out = torch.nn.functional.log_softmax(out)\n",
            "100%|██████████| 2/2 [00:00<00:00,  6.86it/s]\n"
          ]
        },
        {
          "name": "stdout",
          "output_type": "stream",
          "text": [
            "\n",
            "epoch 5\n",
            "\ttrain_loss:0.790 valid_loss:0.769\n",
            "\ttrain_acc:65.36% valid_acc:66.58%\n",
            "\ttrain_f1:0.589 valid_f1:0.607\n",
            "\ttrain_confusion_matrix:\n",
            "[[   5  366  536]\n",
            " [   0 2012  387]\n",
            " [   1  306  995]]\n",
            "\tvalid_confusion_matrix:\n",
            "[[  0  75 130]\n",
            " [  0 531  99]\n",
            " [  0  84 242]]\n"
          ]
        },
        {
          "name": "stderr",
          "output_type": "stream",
          "text": [
            "  0%|          | 0/36 [00:00<?, ?it/s]/var/folders/3c/71b8pg6d7j5dht_5h_2n4n_c0000gn/T/ipykernel_8755/1114866685.py:147: UserWarning: Implicit dimension choice for log_softmax has been deprecated. Change the call to include dim=X as an argument.\n",
            "  out = torch.nn.functional.log_softmax(out)\n",
            "100%|██████████| 36/36 [00:07<00:00,  4.70it/s]\n",
            "  0%|          | 0/2 [00:00<?, ?it/s]/var/folders/3c/71b8pg6d7j5dht_5h_2n4n_c0000gn/T/ipykernel_8755/1114866685.py:147: UserWarning: Implicit dimension choice for log_softmax has been deprecated. Change the call to include dim=X as an argument.\n",
            "  out = torch.nn.functional.log_softmax(out)\n",
            "100%|██████████| 2/2 [00:00<00:00,  6.49it/s]\n"
          ]
        },
        {
          "name": "stdout",
          "output_type": "stream",
          "text": [
            "\n",
            "epoch 6\n",
            "\ttrain_loss:0.762 valid_loss:0.749\n",
            "\ttrain_acc:66.88% valid_acc:67.96%\n",
            "\ttrain_f1:0.603 valid_f1:0.616\n",
            "\ttrain_confusion_matrix:\n",
            "[[  13  403  484]\n",
            " [   1 2083  321]\n",
            " [   1  316  986]]\n",
            "\tvalid_confusion_matrix:\n",
            "[[  1  90 114]\n",
            " [  0 562  68]\n",
            " [  0 100 226]]\n"
          ]
        },
        {
          "name": "stderr",
          "output_type": "stream",
          "text": [
            "  0%|          | 0/36 [00:00<?, ?it/s]/var/folders/3c/71b8pg6d7j5dht_5h_2n4n_c0000gn/T/ipykernel_8755/1114866685.py:147: UserWarning: Implicit dimension choice for log_softmax has been deprecated. Change the call to include dim=X as an argument.\n",
            "  out = torch.nn.functional.log_softmax(out)\n",
            "100%|██████████| 36/36 [00:07<00:00,  4.74it/s]\n",
            "  0%|          | 0/2 [00:00<?, ?it/s]/var/folders/3c/71b8pg6d7j5dht_5h_2n4n_c0000gn/T/ipykernel_8755/1114866685.py:147: UserWarning: Implicit dimension choice for log_softmax has been deprecated. Change the call to include dim=X as an argument.\n",
            "  out = torch.nn.functional.log_softmax(out)\n",
            "100%|██████████| 2/2 [00:00<00:00,  7.00it/s]\n"
          ]
        },
        {
          "name": "stdout",
          "output_type": "stream",
          "text": [
            "\n",
            "epoch 7\n",
            "\ttrain_loss:0.739 valid_loss:0.734\n",
            "\ttrain_acc:68.10% valid_acc:69.42%\n",
            "\ttrain_f1:0.617 valid_f1:0.636\n",
            "\ttrain_confusion_matrix:\n",
            "[[  23  404  482]\n",
            " [   8 2103  286]\n",
            " [   3  287 1012]]\n",
            "\tvalid_confusion_matrix:\n",
            "[[  5  81 119]\n",
            " [  0 559  71]\n",
            " [  0  84 242]]\n"
          ]
        },
        {
          "name": "stderr",
          "output_type": "stream",
          "text": [
            "  0%|          | 0/36 [00:00<?, ?it/s]/var/folders/3c/71b8pg6d7j5dht_5h_2n4n_c0000gn/T/ipykernel_8755/1114866685.py:147: UserWarning: Implicit dimension choice for log_softmax has been deprecated. Change the call to include dim=X as an argument.\n",
            "  out = torch.nn.functional.log_softmax(out)\n",
            "100%|██████████| 36/36 [00:07<00:00,  4.68it/s]\n",
            "  0%|          | 0/2 [00:00<?, ?it/s]/var/folders/3c/71b8pg6d7j5dht_5h_2n4n_c0000gn/T/ipykernel_8755/1114866685.py:147: UserWarning: Implicit dimension choice for log_softmax has been deprecated. Change the call to include dim=X as an argument.\n",
            "  out = torch.nn.functional.log_softmax(out)\n",
            "100%|██████████| 2/2 [00:00<00:00,  6.96it/s]\n"
          ]
        },
        {
          "name": "stdout",
          "output_type": "stream",
          "text": [
            "\n",
            "epoch 8\n",
            "\ttrain_loss:0.725 valid_loss:0.731\n",
            "\ttrain_acc:69.14% valid_acc:69.16%\n",
            "\ttrain_f1:0.632 valid_f1:0.638\n",
            "\ttrain_confusion_matrix:\n",
            "[[  43  410  454]\n",
            " [  13 2112  270]\n",
            " [   3  272 1031]]\n",
            "\tvalid_confusion_matrix:\n",
            "[[  7  73 125]\n",
            " [  1 544  85]\n",
            " [  0  74 252]]\n"
          ]
        },
        {
          "name": "stderr",
          "output_type": "stream",
          "text": [
            "  0%|          | 0/36 [00:00<?, ?it/s]/var/folders/3c/71b8pg6d7j5dht_5h_2n4n_c0000gn/T/ipykernel_8755/1114866685.py:147: UserWarning: Implicit dimension choice for log_softmax has been deprecated. Change the call to include dim=X as an argument.\n",
            "  out = torch.nn.functional.log_softmax(out)\n",
            "100%|██████████| 36/36 [00:07<00:00,  4.76it/s]\n",
            "  0%|          | 0/2 [00:00<?, ?it/s]/var/folders/3c/71b8pg6d7j5dht_5h_2n4n_c0000gn/T/ipykernel_8755/1114866685.py:147: UserWarning: Implicit dimension choice for log_softmax has been deprecated. Change the call to include dim=X as an argument.\n",
            "  out = torch.nn.functional.log_softmax(out)\n",
            "100%|██████████| 2/2 [00:00<00:00,  6.85it/s]\n"
          ]
        },
        {
          "name": "stdout",
          "output_type": "stream",
          "text": [
            "\n",
            "epoch 9\n",
            "\ttrain_loss:0.716 valid_loss:0.719\n",
            "\ttrain_acc:69.62% valid_acc:70.11%\n",
            "\ttrain_f1:0.641 valid_f1:0.652\n",
            "\ttrain_confusion_matrix:\n",
            "[[  62  405  438]\n",
            " [  14 2119  267]\n",
            " [  11  265 1027]]\n",
            "\tvalid_confusion_matrix:\n",
            "[[ 12  69 124]\n",
            " [  1 550  79]\n",
            " [  0  74 252]]\n"
          ]
        },
        {
          "name": "stderr",
          "output_type": "stream",
          "text": [
            "  0%|          | 0/36 [00:00<?, ?it/s]/var/folders/3c/71b8pg6d7j5dht_5h_2n4n_c0000gn/T/ipykernel_8755/1114866685.py:147: UserWarning: Implicit dimension choice for log_softmax has been deprecated. Change the call to include dim=X as an argument.\n",
            "  out = torch.nn.functional.log_softmax(out)\n",
            "100%|██████████| 36/36 [00:07<00:00,  4.75it/s]\n",
            "  0%|          | 0/2 [00:00<?, ?it/s]/var/folders/3c/71b8pg6d7j5dht_5h_2n4n_c0000gn/T/ipykernel_8755/1114866685.py:147: UserWarning: Implicit dimension choice for log_softmax has been deprecated. Change the call to include dim=X as an argument.\n",
            "  out = torch.nn.functional.log_softmax(out)\n",
            "100%|██████████| 2/2 [00:00<00:00,  6.20it/s]\n"
          ]
        },
        {
          "name": "stdout",
          "output_type": "stream",
          "text": [
            "\n",
            "epoch 10\n",
            "\ttrain_loss:0.699 valid_loss:0.714\n",
            "\ttrain_acc:70.27% valid_acc:71.40%\n",
            "\ttrain_f1:0.654 valid_f1:0.672\n",
            "\ttrain_confusion_matrix:\n",
            "[[  85  379  445]\n",
            " [  28 2108  261]\n",
            " [  22  235 1045]]\n",
            "\tvalid_confusion_matrix:\n",
            "[[ 23  77 105]\n",
            " [  4 564  62]\n",
            " [  4  80 242]]\n"
          ]
        },
        {
          "name": "stderr",
          "output_type": "stream",
          "text": [
            "  0%|          | 0/36 [00:00<?, ?it/s]/var/folders/3c/71b8pg6d7j5dht_5h_2n4n_c0000gn/T/ipykernel_8755/1114866685.py:147: UserWarning: Implicit dimension choice for log_softmax has been deprecated. Change the call to include dim=X as an argument.\n",
            "  out = torch.nn.functional.log_softmax(out)\n",
            "100%|██████████| 36/36 [00:07<00:00,  4.84it/s]\n",
            "  0%|          | 0/2 [00:00<?, ?it/s]/var/folders/3c/71b8pg6d7j5dht_5h_2n4n_c0000gn/T/ipykernel_8755/1114866685.py:147: UserWarning: Implicit dimension choice for log_softmax has been deprecated. Change the call to include dim=X as an argument.\n",
            "  out = torch.nn.functional.log_softmax(out)\n",
            "100%|██████████| 2/2 [00:00<00:00,  6.98it/s]\n"
          ]
        },
        {
          "name": "stdout",
          "output_type": "stream",
          "text": [
            "\n",
            "epoch 11\n",
            "\ttrain_loss:0.688 valid_loss:0.703\n",
            "\ttrain_acc:71.01% valid_acc:72.09%\n",
            "\ttrain_f1:0.666 valid_f1:0.683\n",
            "\ttrain_confusion_matrix:\n",
            "[[ 109  379  420]\n",
            " [  44 2118  235]\n",
            " [  26  232 1045]]\n",
            "\tvalid_confusion_matrix:\n",
            "[[ 26  70 109]\n",
            " [  5 562  63]\n",
            " [  7  70 249]]\n"
          ]
        },
        {
          "name": "stderr",
          "output_type": "stream",
          "text": [
            "  0%|          | 0/36 [00:00<?, ?it/s]/var/folders/3c/71b8pg6d7j5dht_5h_2n4n_c0000gn/T/ipykernel_8755/1114866685.py:147: UserWarning: Implicit dimension choice for log_softmax has been deprecated. Change the call to include dim=X as an argument.\n",
            "  out = torch.nn.functional.log_softmax(out)\n",
            "100%|██████████| 36/36 [00:07<00:00,  4.78it/s]\n",
            "  0%|          | 0/2 [00:00<?, ?it/s]/var/folders/3c/71b8pg6d7j5dht_5h_2n4n_c0000gn/T/ipykernel_8755/1114866685.py:147: UserWarning: Implicit dimension choice for log_softmax has been deprecated. Change the call to include dim=X as an argument.\n",
            "  out = torch.nn.functional.log_softmax(out)\n",
            "100%|██████████| 2/2 [00:00<00:00,  6.77it/s]\n"
          ]
        },
        {
          "name": "stdout",
          "output_type": "stream",
          "text": [
            "\n",
            "epoch 12\n",
            "\ttrain_loss:0.681 valid_loss:0.708\n",
            "\ttrain_acc:71.03% valid_acc:71.75%\n",
            "\ttrain_f1:0.671 valid_f1:0.684\n",
            "\ttrain_confusion_matrix:\n",
            "[[ 129  371  405]\n",
            " [  47 2118  235]\n",
            " [  43  234 1026]]\n",
            "\tvalid_confusion_matrix:\n",
            "[[ 28  62 115]\n",
            " [  9 546  75]\n",
            " [  6  61 259]]\n"
          ]
        },
        {
          "name": "stderr",
          "output_type": "stream",
          "text": [
            "  0%|          | 0/36 [00:00<?, ?it/s]/var/folders/3c/71b8pg6d7j5dht_5h_2n4n_c0000gn/T/ipykernel_8755/1114866685.py:147: UserWarning: Implicit dimension choice for log_softmax has been deprecated. Change the call to include dim=X as an argument.\n",
            "  out = torch.nn.functional.log_softmax(out)\n",
            "100%|██████████| 36/36 [00:07<00:00,  4.71it/s]\n",
            "  0%|          | 0/2 [00:00<?, ?it/s]/var/folders/3c/71b8pg6d7j5dht_5h_2n4n_c0000gn/T/ipykernel_8755/1114866685.py:147: UserWarning: Implicit dimension choice for log_softmax has been deprecated. Change the call to include dim=X as an argument.\n",
            "  out = torch.nn.functional.log_softmax(out)\n",
            "100%|██████████| 2/2 [00:00<00:00,  6.80it/s]\n"
          ]
        },
        {
          "name": "stdout",
          "output_type": "stream",
          "text": [
            "\n",
            "epoch 13\n",
            "\ttrain_loss:0.669 valid_loss:0.701\n",
            "\ttrain_acc:71.85% valid_acc:72.35%\n",
            "\ttrain_f1:0.683 valid_f1:0.694\n",
            "\ttrain_confusion_matrix:\n",
            "[[ 154  364  389]\n",
            " [  57 2120  218]\n",
            " [  40  229 1037]]\n",
            "\tvalid_confusion_matrix:\n",
            "[[ 39  77  89]\n",
            " [ 12 568  50]\n",
            " [ 18  75 233]]\n"
          ]
        },
        {
          "name": "stderr",
          "output_type": "stream",
          "text": [
            "  0%|          | 0/36 [00:00<?, ?it/s]/var/folders/3c/71b8pg6d7j5dht_5h_2n4n_c0000gn/T/ipykernel_8755/1114866685.py:147: UserWarning: Implicit dimension choice for log_softmax has been deprecated. Change the call to include dim=X as an argument.\n",
            "  out = torch.nn.functional.log_softmax(out)\n",
            "100%|██████████| 36/36 [00:07<00:00,  4.73it/s]\n",
            "  0%|          | 0/2 [00:00<?, ?it/s]/var/folders/3c/71b8pg6d7j5dht_5h_2n4n_c0000gn/T/ipykernel_8755/1114866685.py:147: UserWarning: Implicit dimension choice for log_softmax has been deprecated. Change the call to include dim=X as an argument.\n",
            "  out = torch.nn.functional.log_softmax(out)\n",
            "100%|██████████| 2/2 [00:00<00:00,  7.02it/s]\n"
          ]
        },
        {
          "name": "stdout",
          "output_type": "stream",
          "text": [
            "\n",
            "epoch 14\n",
            "\ttrain_loss:0.665 valid_loss:0.694\n",
            "\ttrain_acc:71.79% valid_acc:71.66%\n",
            "\ttrain_f1:0.686 valid_f1:0.688\n",
            "\ttrain_confusion_matrix:\n",
            "[[ 175  365  366]\n",
            " [  68 2134  196]\n",
            " [  66  239  999]]\n",
            "\tvalid_confusion_matrix:\n",
            "[[ 42  85  78]\n",
            " [ 11 574  45]\n",
            " [ 22  88 216]]\n"
          ]
        },
        {
          "name": "stderr",
          "output_type": "stream",
          "text": [
            "  0%|          | 0/36 [00:00<?, ?it/s]/var/folders/3c/71b8pg6d7j5dht_5h_2n4n_c0000gn/T/ipykernel_8755/1114866685.py:147: UserWarning: Implicit dimension choice for log_softmax has been deprecated. Change the call to include dim=X as an argument.\n",
            "  out = torch.nn.functional.log_softmax(out)\n",
            "100%|██████████| 36/36 [00:07<00:00,  4.73it/s]\n",
            "  0%|          | 0/2 [00:00<?, ?it/s]/var/folders/3c/71b8pg6d7j5dht_5h_2n4n_c0000gn/T/ipykernel_8755/1114866685.py:147: UserWarning: Implicit dimension choice for log_softmax has been deprecated. Change the call to include dim=X as an argument.\n",
            "  out = torch.nn.functional.log_softmax(out)\n",
            "100%|██████████| 2/2 [00:00<00:00,  7.06it/s]\n"
          ]
        },
        {
          "name": "stdout",
          "output_type": "stream",
          "text": [
            "\n",
            "epoch 15\n",
            "\ttrain_loss:0.654 valid_loss:0.684\n",
            "\ttrain_acc:72.50% valid_acc:72.87%\n",
            "\ttrain_f1:0.697 valid_f1:0.702\n",
            "\ttrain_confusion_matrix:\n",
            "[[ 197  338  369]\n",
            " [  83 2116  195]\n",
            " [  66  216 1028]]\n",
            "\tvalid_confusion_matrix:\n",
            "[[ 43  71  91]\n",
            " [ 14 562  54]\n",
            " [ 11  74 241]]\n"
          ]
        },
        {
          "name": "stderr",
          "output_type": "stream",
          "text": [
            "  0%|          | 0/36 [00:00<?, ?it/s]/var/folders/3c/71b8pg6d7j5dht_5h_2n4n_c0000gn/T/ipykernel_8755/1114866685.py:147: UserWarning: Implicit dimension choice for log_softmax has been deprecated. Change the call to include dim=X as an argument.\n",
            "  out = torch.nn.functional.log_softmax(out)\n",
            "100%|██████████| 36/36 [00:07<00:00,  4.73it/s]\n",
            "  0%|          | 0/2 [00:00<?, ?it/s]/var/folders/3c/71b8pg6d7j5dht_5h_2n4n_c0000gn/T/ipykernel_8755/1114866685.py:147: UserWarning: Implicit dimension choice for log_softmax has been deprecated. Change the call to include dim=X as an argument.\n",
            "  out = torch.nn.functional.log_softmax(out)\n",
            "100%|██████████| 2/2 [00:00<00:00,  7.08it/s]\n"
          ]
        },
        {
          "name": "stdout",
          "output_type": "stream",
          "text": [
            "\n",
            "epoch 16\n",
            "\ttrain_loss:0.643 valid_loss:0.676\n",
            "\ttrain_acc:73.18% valid_acc:73.21%\n",
            "\ttrain_f1:0.705 valid_f1:0.710\n",
            "\ttrain_confusion_matrix:\n",
            "[[ 208  326  376]\n",
            " [  76 2118  198]\n",
            " [  61  199 1046]]\n",
            "\tvalid_confusion_matrix:\n",
            "[[ 52  69  84]\n",
            " [ 17 561  52]\n",
            " [ 16  73 237]]\n"
          ]
        },
        {
          "name": "stderr",
          "output_type": "stream",
          "text": [
            "  0%|          | 0/36 [00:00<?, ?it/s]/var/folders/3c/71b8pg6d7j5dht_5h_2n4n_c0000gn/T/ipykernel_8755/1114866685.py:147: UserWarning: Implicit dimension choice for log_softmax has been deprecated. Change the call to include dim=X as an argument.\n",
            "  out = torch.nn.functional.log_softmax(out)\n",
            "100%|██████████| 36/36 [00:07<00:00,  4.69it/s]\n",
            "  0%|          | 0/2 [00:00<?, ?it/s]/var/folders/3c/71b8pg6d7j5dht_5h_2n4n_c0000gn/T/ipykernel_8755/1114866685.py:147: UserWarning: Implicit dimension choice for log_softmax has been deprecated. Change the call to include dim=X as an argument.\n",
            "  out = torch.nn.functional.log_softmax(out)\n",
            "100%|██████████| 2/2 [00:00<00:00,  6.56it/s]\n"
          ]
        },
        {
          "name": "stdout",
          "output_type": "stream",
          "text": [
            "\n",
            "epoch 17\n",
            "\ttrain_loss:0.639 valid_loss:0.672\n",
            "\ttrain_acc:73.46% valid_acc:73.39%\n",
            "\ttrain_f1:0.712 valid_f1:0.717\n",
            "\ttrain_confusion_matrix:\n",
            "[[ 236  320  350]\n",
            " [  92 2120  184]\n",
            " [  85  192 1029]]\n",
            "\tvalid_confusion_matrix:\n",
            "[[ 60  67  78]\n",
            " [ 21 562  47]\n",
            " [ 26  70 230]]\n"
          ]
        },
        {
          "name": "stderr",
          "output_type": "stream",
          "text": [
            "  0%|          | 0/36 [00:00<?, ?it/s]/var/folders/3c/71b8pg6d7j5dht_5h_2n4n_c0000gn/T/ipykernel_8755/1114866685.py:147: UserWarning: Implicit dimension choice for log_softmax has been deprecated. Change the call to include dim=X as an argument.\n",
            "  out = torch.nn.functional.log_softmax(out)\n",
            "100%|██████████| 36/36 [00:07<00:00,  4.57it/s]\n",
            "  0%|          | 0/2 [00:00<?, ?it/s]/var/folders/3c/71b8pg6d7j5dht_5h_2n4n_c0000gn/T/ipykernel_8755/1114866685.py:147: UserWarning: Implicit dimension choice for log_softmax has been deprecated. Change the call to include dim=X as an argument.\n",
            "  out = torch.nn.functional.log_softmax(out)\n",
            "100%|██████████| 2/2 [00:00<00:00,  7.00it/s]\n"
          ]
        },
        {
          "name": "stdout",
          "output_type": "stream",
          "text": [
            "\n",
            "epoch 18\n",
            "\ttrain_loss:0.624 valid_loss:0.673\n",
            "\ttrain_acc:74.07% valid_acc:73.30%\n",
            "\ttrain_f1:0.721 valid_f1:0.712\n",
            "\ttrain_confusion_matrix:\n",
            "[[ 261  327  319]\n",
            " [  96 2130  172]\n",
            " [  94  187 1022]]\n",
            "\tvalid_confusion_matrix:\n",
            "[[ 56  70  79]\n",
            " [ 17 568  45]\n",
            " [ 20  79 227]]\n"
          ]
        },
        {
          "name": "stderr",
          "output_type": "stream",
          "text": [
            "  0%|          | 0/36 [00:00<?, ?it/s]/var/folders/3c/71b8pg6d7j5dht_5h_2n4n_c0000gn/T/ipykernel_8755/1114866685.py:147: UserWarning: Implicit dimension choice for log_softmax has been deprecated. Change the call to include dim=X as an argument.\n",
            "  out = torch.nn.functional.log_softmax(out)\n",
            "100%|██████████| 36/36 [00:07<00:00,  4.72it/s]\n",
            "  0%|          | 0/2 [00:00<?, ?it/s]/var/folders/3c/71b8pg6d7j5dht_5h_2n4n_c0000gn/T/ipykernel_8755/1114866685.py:147: UserWarning: Implicit dimension choice for log_softmax has been deprecated. Change the call to include dim=X as an argument.\n",
            "  out = torch.nn.functional.log_softmax(out)\n",
            "100%|██████████| 2/2 [00:00<00:00,  7.11it/s]\n"
          ]
        },
        {
          "name": "stdout",
          "output_type": "stream",
          "text": [
            "\n",
            "epoch 19\n",
            "\ttrain_loss:0.624 valid_loss:0.670\n",
            "\ttrain_acc:73.81% valid_acc:73.56%\n",
            "\ttrain_f1:0.717 valid_f1:0.720\n",
            "\ttrain_confusion_matrix:\n",
            "[[ 249  319  339]\n",
            " [ 103 2122  171]\n",
            " [  84  191 1030]]\n",
            "\tvalid_confusion_matrix:\n",
            "[[ 60  57  88]\n",
            " [ 24 546  60]\n",
            " [ 20  58 248]]\n",
            "Loading saved model from: model_task2.bin\n"
          ]
        },
        {
          "name": "stderr",
          "output_type": "stream",
          "text": [
            "  0%|          | 0/2 [00:00<?, ?it/s]/var/folders/3c/71b8pg6d7j5dht_5h_2n4n_c0000gn/T/ipykernel_8755/1114866685.py:147: UserWarning: Implicit dimension choice for log_softmax has been deprecated. Change the call to include dim=X as an argument.\n",
            "  out = torch.nn.functional.log_softmax(out)\n",
            "100%|██████████| 2/2 [00:00<00:00,  7.11it/s]\n"
          ]
        },
        {
          "name": "stdout",
          "output_type": "stream",
          "text": [
            "              precision    recall  f1-score   support\n",
            "\n",
            "     Neutral       0.58      0.30      0.39       205\n",
            "    Positive       0.83      0.86      0.84       630\n",
            "    Negative       0.62      0.76      0.69       326\n",
            "\n",
            "    accuracy                           0.73      1161\n",
            "   macro avg       0.68      0.64      0.64      1161\n",
            "weighted avg       0.72      0.73      0.72      1161\n",
            "\n",
            "\n",
            "******************************************************************************************\n",
            "Alpha Size: 0.8\n",
            "Window Size: 8\n",
            "******************************************************************************************\n",
            "\n",
            "train samples:4641\n",
            "valid samples:1161\n"
          ]
        },
        {
          "name": "stderr",
          "output_type": "stream",
          "text": [
            "  0%|          | 0/36 [00:00<?, ?it/s]/var/folders/3c/71b8pg6d7j5dht_5h_2n4n_c0000gn/T/ipykernel_8755/1114866685.py:147: UserWarning: Implicit dimension choice for log_softmax has been deprecated. Change the call to include dim=X as an argument.\n",
            "  out = torch.nn.functional.log_softmax(out)\n",
            "100%|██████████| 36/36 [00:08<00:00,  4.07it/s]\n",
            "  0%|          | 0/2 [00:00<?, ?it/s]/var/folders/3c/71b8pg6d7j5dht_5h_2n4n_c0000gn/T/ipykernel_8755/1114866685.py:147: UserWarning: Implicit dimension choice for log_softmax has been deprecated. Change the call to include dim=X as an argument.\n",
            "  out = torch.nn.functional.log_softmax(out)\n",
            "100%|██████████| 2/2 [00:00<00:00,  5.86it/s]\n"
          ]
        },
        {
          "name": "stdout",
          "output_type": "stream",
          "text": [
            "\n",
            "epoch 0\n",
            "\ttrain_loss:1.062 valid_loss:1.034\n",
            "\ttrain_acc:49.11% valid_acc:51.51%\n",
            "\ttrain_f1:0.408 valid_f1:0.353\n",
            "\ttrain_confusion_matrix:\n",
            "[[   1  714  150]\n",
            " [   3 2016  410]\n",
            " [   0 1068  246]]\n",
            "\tvalid_confusion_matrix:\n",
            "[[  0 249   0]\n",
            " [  0 596   1]\n",
            " [  0 313   2]]\n"
          ]
        },
        {
          "name": "stderr",
          "output_type": "stream",
          "text": [
            "  0%|          | 0/36 [00:00<?, ?it/s]/var/folders/3c/71b8pg6d7j5dht_5h_2n4n_c0000gn/T/ipykernel_8755/1114866685.py:147: UserWarning: Implicit dimension choice for log_softmax has been deprecated. Change the call to include dim=X as an argument.\n",
            "  out = torch.nn.functional.log_softmax(out)\n",
            "100%|██████████| 36/36 [00:08<00:00,  4.10it/s]\n",
            "  0%|          | 0/2 [00:00<?, ?it/s]/var/folders/3c/71b8pg6d7j5dht_5h_2n4n_c0000gn/T/ipykernel_8755/1114866685.py:147: UserWarning: Implicit dimension choice for log_softmax has been deprecated. Change the call to include dim=X as an argument.\n",
            "  out = torch.nn.functional.log_softmax(out)\n",
            "100%|██████████| 2/2 [00:00<00:00,  5.99it/s]\n"
          ]
        },
        {
          "name": "stdout",
          "output_type": "stream",
          "text": [
            "\n",
            "epoch 1\n",
            "\ttrain_loss:1.002 valid_loss:0.989\n",
            "\ttrain_acc:52.84% valid_acc:51.42%\n",
            "\ttrain_f1:0.369 valid_f1:0.351\n",
            "\ttrain_confusion_matrix:\n",
            "[[   0  864    0]\n",
            " [   0 2423    4]\n",
            " [   0 1305   12]]\n",
            "\tvalid_confusion_matrix:\n",
            "[[  0 249   0]\n",
            " [  0 596   1]\n",
            " [  0 314   1]]\n"
          ]
        },
        {
          "name": "stderr",
          "output_type": "stream",
          "text": [
            "  0%|          | 0/36 [00:00<?, ?it/s]/var/folders/3c/71b8pg6d7j5dht_5h_2n4n_c0000gn/T/ipykernel_8755/1114866685.py:147: UserWarning: Implicit dimension choice for log_softmax has been deprecated. Change the call to include dim=X as an argument.\n",
            "  out = torch.nn.functional.log_softmax(out)\n",
            "100%|██████████| 36/36 [00:08<00:00,  4.14it/s]\n",
            "  0%|          | 0/2 [00:00<?, ?it/s]/var/folders/3c/71b8pg6d7j5dht_5h_2n4n_c0000gn/T/ipykernel_8755/1114866685.py:147: UserWarning: Implicit dimension choice for log_softmax has been deprecated. Change the call to include dim=X as an argument.\n",
            "  out = torch.nn.functional.log_softmax(out)\n",
            "100%|██████████| 2/2 [00:00<00:00,  5.96it/s]\n"
          ]
        },
        {
          "name": "stdout",
          "output_type": "stream",
          "text": [
            "\n",
            "epoch 2\n",
            "\ttrain_loss:0.955 valid_loss:0.939\n",
            "\ttrain_acc:52.99% valid_acc:52.02%\n",
            "\ttrain_f1:0.371 valid_f1:0.364\n",
            "\ttrain_confusion_matrix:\n",
            "[[   0  861    2]\n",
            " [   0 2427    5]\n",
            " [   0 1298   15]]\n",
            "\tvalid_confusion_matrix:\n",
            "[[  0 247   2]\n",
            " [  0 596   1]\n",
            " [  0 307   8]]\n"
          ]
        },
        {
          "name": "stderr",
          "output_type": "stream",
          "text": [
            "  0%|          | 0/36 [00:00<?, ?it/s]/var/folders/3c/71b8pg6d7j5dht_5h_2n4n_c0000gn/T/ipykernel_8755/1114866685.py:147: UserWarning: Implicit dimension choice for log_softmax has been deprecated. Change the call to include dim=X as an argument.\n",
            "  out = torch.nn.functional.log_softmax(out)\n",
            "100%|██████████| 36/36 [00:08<00:00,  4.11it/s]\n",
            "  0%|          | 0/2 [00:00<?, ?it/s]/var/folders/3c/71b8pg6d7j5dht_5h_2n4n_c0000gn/T/ipykernel_8755/1114866685.py:147: UserWarning: Implicit dimension choice for log_softmax has been deprecated. Change the call to include dim=X as an argument.\n",
            "  out = torch.nn.functional.log_softmax(out)\n",
            "100%|██████████| 2/2 [00:00<00:00,  6.08it/s]\n"
          ]
        },
        {
          "name": "stdout",
          "output_type": "stream",
          "text": [
            "\n",
            "epoch 3\n",
            "\ttrain_loss:0.893 valid_loss:0.881\n",
            "\ttrain_acc:57.68% valid_acc:60.21%\n",
            "\ttrain_f1:0.474 valid_f1:0.517\n",
            "\ttrain_confusion_matrix:\n",
            "[[   0  749  114]\n",
            " [   0 2361   66]\n",
            " [   0 1021  297]]\n",
            "\tvalid_confusion_matrix:\n",
            "[[  0 169  80]\n",
            " [  0 555  42]\n",
            " [  0 171 144]]\n"
          ]
        },
        {
          "name": "stderr",
          "output_type": "stream",
          "text": [
            "  0%|          | 0/36 [00:00<?, ?it/s]/var/folders/3c/71b8pg6d7j5dht_5h_2n4n_c0000gn/T/ipykernel_8755/1114866685.py:147: UserWarning: Implicit dimension choice for log_softmax has been deprecated. Change the call to include dim=X as an argument.\n",
            "  out = torch.nn.functional.log_softmax(out)\n",
            "100%|██████████| 36/36 [00:08<00:00,  4.08it/s]\n",
            "  0%|          | 0/2 [00:00<?, ?it/s]/var/folders/3c/71b8pg6d7j5dht_5h_2n4n_c0000gn/T/ipykernel_8755/1114866685.py:147: UserWarning: Implicit dimension choice for log_softmax has been deprecated. Change the call to include dim=X as an argument.\n",
            "  out = torch.nn.functional.log_softmax(out)\n",
            "100%|██████████| 2/2 [00:00<00:00,  6.21it/s]\n"
          ]
        },
        {
          "name": "stdout",
          "output_type": "stream",
          "text": [
            "\n",
            "epoch 4\n",
            "\ttrain_loss:0.830 valid_loss:0.834\n",
            "\ttrain_acc:63.72% valid_acc:62.45%\n",
            "\ttrain_f1:0.570 valid_f1:0.558\n",
            "\ttrain_confusion_matrix:\n",
            "[[   0  448  417]\n",
            " [   0 2102  326]\n",
            " [   0  481  834]]\n",
            "\tvalid_confusion_matrix:\n",
            "[[  0  89 160]\n",
            " [  0 478 119]\n",
            " [  0  68 247]]\n"
          ]
        },
        {
          "name": "stderr",
          "output_type": "stream",
          "text": [
            "  0%|          | 0/36 [00:00<?, ?it/s]/var/folders/3c/71b8pg6d7j5dht_5h_2n4n_c0000gn/T/ipykernel_8755/1114866685.py:147: UserWarning: Implicit dimension choice for log_softmax has been deprecated. Change the call to include dim=X as an argument.\n",
            "  out = torch.nn.functional.log_softmax(out)\n",
            "100%|██████████| 36/36 [00:08<00:00,  4.15it/s]\n",
            "  0%|          | 0/2 [00:00<?, ?it/s]/var/folders/3c/71b8pg6d7j5dht_5h_2n4n_c0000gn/T/ipykernel_8755/1114866685.py:147: UserWarning: Implicit dimension choice for log_softmax has been deprecated. Change the call to include dim=X as an argument.\n",
            "  out = torch.nn.functional.log_softmax(out)\n",
            "100%|██████████| 2/2 [00:00<00:00,  5.37it/s]\n"
          ]
        },
        {
          "name": "stdout",
          "output_type": "stream",
          "text": [
            "\n",
            "epoch 5\n",
            "\ttrain_loss:0.789 valid_loss:0.791\n",
            "\ttrain_acc:65.17% valid_acc:64.77%\n",
            "\ttrain_f1:0.590 valid_f1:0.576\n",
            "\ttrain_confusion_matrix:\n",
            "[[   0  344  518]\n",
            " [   0 2025  408]\n",
            " [   0  335  978]]\n",
            "\tvalid_confusion_matrix:\n",
            "[[  0 100 149]\n",
            " [  0 501  96]\n",
            " [  0  64 251]]\n"
          ]
        },
        {
          "name": "stderr",
          "output_type": "stream",
          "text": [
            "  0%|          | 0/36 [00:00<?, ?it/s]/var/folders/3c/71b8pg6d7j5dht_5h_2n4n_c0000gn/T/ipykernel_8755/1114866685.py:147: UserWarning: Implicit dimension choice for log_softmax has been deprecated. Change the call to include dim=X as an argument.\n",
            "  out = torch.nn.functional.log_softmax(out)\n",
            "100%|██████████| 36/36 [00:08<00:00,  4.11it/s]\n",
            "  0%|          | 0/2 [00:00<?, ?it/s]/var/folders/3c/71b8pg6d7j5dht_5h_2n4n_c0000gn/T/ipykernel_8755/1114866685.py:147: UserWarning: Implicit dimension choice for log_softmax has been deprecated. Change the call to include dim=X as an argument.\n",
            "  out = torch.nn.functional.log_softmax(out)\n",
            "100%|██████████| 2/2 [00:00<00:00,  5.73it/s]\n"
          ]
        },
        {
          "name": "stdout",
          "output_type": "stream",
          "text": [
            "\n",
            "epoch 6\n",
            "\ttrain_loss:0.770 valid_loss:0.767\n",
            "\ttrain_acc:66.75% valid_acc:65.63%\n",
            "\ttrain_f1:0.603 valid_f1:0.582\n",
            "\ttrain_confusion_matrix:\n",
            "[[   4  385  474]\n",
            " [   0 2079  353]\n",
            " [   0  320  993]]\n",
            "\tvalid_confusion_matrix:\n",
            "[[  0 110 139]\n",
            " [  0 516  81]\n",
            " [  0  69 246]]\n"
          ]
        },
        {
          "name": "stderr",
          "output_type": "stream",
          "text": [
            "  0%|          | 0/36 [00:00<?, ?it/s]/var/folders/3c/71b8pg6d7j5dht_5h_2n4n_c0000gn/T/ipykernel_8755/1114866685.py:147: UserWarning: Implicit dimension choice for log_softmax has been deprecated. Change the call to include dim=X as an argument.\n",
            "  out = torch.nn.functional.log_softmax(out)\n",
            "100%|██████████| 36/36 [00:08<00:00,  4.12it/s]\n",
            "  0%|          | 0/2 [00:00<?, ?it/s]/var/folders/3c/71b8pg6d7j5dht_5h_2n4n_c0000gn/T/ipykernel_8755/1114866685.py:147: UserWarning: Implicit dimension choice for log_softmax has been deprecated. Change the call to include dim=X as an argument.\n",
            "  out = torch.nn.functional.log_softmax(out)\n",
            "100%|██████████| 2/2 [00:00<00:00,  6.05it/s]\n"
          ]
        },
        {
          "name": "stdout",
          "output_type": "stream",
          "text": [
            "\n",
            "epoch 7\n",
            "\ttrain_loss:0.749 valid_loss:0.754\n",
            "\ttrain_acc:67.25% valid_acc:65.29%\n",
            "\ttrain_f1:0.609 valid_f1:0.578\n",
            "\ttrain_confusion_matrix:\n",
            "[[   9  380  475]\n",
            " [   0 2075  353]\n",
            " [   0  301 1015]]\n",
            "\tvalid_confusion_matrix:\n",
            "[[  2 128 119]\n",
            " [  0 532  65]\n",
            " [  1  90 224]]\n"
          ]
        },
        {
          "name": "stderr",
          "output_type": "stream",
          "text": [
            "  0%|          | 0/36 [00:00<?, ?it/s]/var/folders/3c/71b8pg6d7j5dht_5h_2n4n_c0000gn/T/ipykernel_8755/1114866685.py:147: UserWarning: Implicit dimension choice for log_softmax has been deprecated. Change the call to include dim=X as an argument.\n",
            "  out = torch.nn.functional.log_softmax(out)\n",
            "100%|██████████| 36/36 [00:08<00:00,  4.08it/s]\n",
            "  0%|          | 0/2 [00:00<?, ?it/s]/var/folders/3c/71b8pg6d7j5dht_5h_2n4n_c0000gn/T/ipykernel_8755/1114866685.py:147: UserWarning: Implicit dimension choice for log_softmax has been deprecated. Change the call to include dim=X as an argument.\n",
            "  out = torch.nn.functional.log_softmax(out)\n",
            "100%|██████████| 2/2 [00:00<00:00,  6.29it/s]\n"
          ]
        },
        {
          "name": "stdout",
          "output_type": "stream",
          "text": [
            "\n",
            "epoch 8\n",
            "\ttrain_loss:0.733 valid_loss:0.742\n",
            "\ttrain_acc:68.21% valid_acc:65.72%\n",
            "\ttrain_f1:0.619 valid_f1:0.581\n",
            "\ttrain_confusion_matrix:\n",
            "[[  16  408  439]\n",
            " [   2 2111  320]\n",
            " [   3  293 1016]]\n",
            "\tvalid_confusion_matrix:\n",
            "[[  0 122 127]\n",
            " [  1 526  70]\n",
            " [  0  78 237]]\n"
          ]
        },
        {
          "name": "stderr",
          "output_type": "stream",
          "text": [
            "  0%|          | 0/36 [00:00<?, ?it/s]/var/folders/3c/71b8pg6d7j5dht_5h_2n4n_c0000gn/T/ipykernel_8755/1114866685.py:147: UserWarning: Implicit dimension choice for log_softmax has been deprecated. Change the call to include dim=X as an argument.\n",
            "  out = torch.nn.functional.log_softmax(out)\n",
            "100%|██████████| 36/36 [00:08<00:00,  4.14it/s]\n",
            "  0%|          | 0/2 [00:00<?, ?it/s]/var/folders/3c/71b8pg6d7j5dht_5h_2n4n_c0000gn/T/ipykernel_8755/1114866685.py:147: UserWarning: Implicit dimension choice for log_softmax has been deprecated. Change the call to include dim=X as an argument.\n",
            "  out = torch.nn.functional.log_softmax(out)\n",
            "100%|██████████| 2/2 [00:00<00:00,  6.13it/s]\n"
          ]
        },
        {
          "name": "stdout",
          "output_type": "stream",
          "text": [
            "\n",
            "epoch 9\n",
            "\ttrain_loss:0.716 valid_loss:0.732\n",
            "\ttrain_acc:69.08% valid_acc:66.06%\n",
            "\ttrain_f1:0.635 valid_f1:0.592\n",
            "\ttrain_confusion_matrix:\n",
            "[[  42  392  429]\n",
            " [   6 2110  314]\n",
            " [   9  275 1031]]\n",
            "\tvalid_confusion_matrix:\n",
            "[[  6 121 122]\n",
            " [  6 530  61]\n",
            " [  4  80 231]]\n"
          ]
        },
        {
          "name": "stderr",
          "output_type": "stream",
          "text": [
            "  0%|          | 0/36 [00:00<?, ?it/s]/var/folders/3c/71b8pg6d7j5dht_5h_2n4n_c0000gn/T/ipykernel_8755/1114866685.py:147: UserWarning: Implicit dimension choice for log_softmax has been deprecated. Change the call to include dim=X as an argument.\n",
            "  out = torch.nn.functional.log_softmax(out)\n",
            "100%|██████████| 36/36 [00:08<00:00,  4.14it/s]\n",
            "  0%|          | 0/2 [00:00<?, ?it/s]/var/folders/3c/71b8pg6d7j5dht_5h_2n4n_c0000gn/T/ipykernel_8755/1114866685.py:147: UserWarning: Implicit dimension choice for log_softmax has been deprecated. Change the call to include dim=X as an argument.\n",
            "  out = torch.nn.functional.log_softmax(out)\n",
            "100%|██████████| 2/2 [00:00<00:00,  5.99it/s]\n"
          ]
        },
        {
          "name": "stdout",
          "output_type": "stream",
          "text": [
            "\n",
            "epoch 10\n",
            "\ttrain_loss:0.710 valid_loss:0.721\n",
            "\ttrain_acc:69.92% valid_acc:67.10%\n",
            "\ttrain_f1:0.652 valid_f1:0.609\n",
            "\ttrain_confusion_matrix:\n",
            "[[  75  369  418]\n",
            " [  20 2115  293]\n",
            " [  14  272 1032]]\n",
            "\tvalid_confusion_matrix:\n",
            "[[ 13 121 115]\n",
            " [  7 536  54]\n",
            " [  7  78 230]]\n"
          ]
        },
        {
          "name": "stderr",
          "output_type": "stream",
          "text": [
            "  0%|          | 0/36 [00:00<?, ?it/s]/var/folders/3c/71b8pg6d7j5dht_5h_2n4n_c0000gn/T/ipykernel_8755/1114866685.py:147: UserWarning: Implicit dimension choice for log_softmax has been deprecated. Change the call to include dim=X as an argument.\n",
            "  out = torch.nn.functional.log_softmax(out)\n",
            "100%|██████████| 36/36 [00:08<00:00,  4.06it/s]\n",
            "  0%|          | 0/2 [00:00<?, ?it/s]/var/folders/3c/71b8pg6d7j5dht_5h_2n4n_c0000gn/T/ipykernel_8755/1114866685.py:147: UserWarning: Implicit dimension choice for log_softmax has been deprecated. Change the call to include dim=X as an argument.\n",
            "  out = torch.nn.functional.log_softmax(out)\n",
            "100%|██████████| 2/2 [00:00<00:00,  6.09it/s]\n"
          ]
        },
        {
          "name": "stdout",
          "output_type": "stream",
          "text": [
            "\n",
            "epoch 11\n",
            "\ttrain_loss:0.691 valid_loss:0.712\n",
            "\ttrain_acc:70.99% valid_acc:67.87%\n",
            "\ttrain_f1:0.668 valid_f1:0.621\n",
            "\ttrain_confusion_matrix:\n",
            "[[ 106  377  379]\n",
            " [  29 2133  271]\n",
            " [  24  257 1032]]\n",
            "\tvalid_confusion_matrix:\n",
            "[[ 17 115 117]\n",
            " [  7 535  55]\n",
            " [ 10  69 236]]\n"
          ]
        },
        {
          "name": "stderr",
          "output_type": "stream",
          "text": [
            "  0%|          | 0/36 [00:00<?, ?it/s]/var/folders/3c/71b8pg6d7j5dht_5h_2n4n_c0000gn/T/ipykernel_8755/1114866685.py:147: UserWarning: Implicit dimension choice for log_softmax has been deprecated. Change the call to include dim=X as an argument.\n",
            "  out = torch.nn.functional.log_softmax(out)\n",
            "100%|██████████| 36/36 [00:08<00:00,  4.10it/s]\n",
            "  0%|          | 0/2 [00:00<?, ?it/s]/var/folders/3c/71b8pg6d7j5dht_5h_2n4n_c0000gn/T/ipykernel_8755/1114866685.py:147: UserWarning: Implicit dimension choice for log_softmax has been deprecated. Change the call to include dim=X as an argument.\n",
            "  out = torch.nn.functional.log_softmax(out)\n",
            "100%|██████████| 2/2 [00:00<00:00,  6.15it/s]\n"
          ]
        },
        {
          "name": "stdout",
          "output_type": "stream",
          "text": [
            "\n",
            "epoch 12\n",
            "\ttrain_loss:0.681 valid_loss:0.706\n",
            "\ttrain_acc:71.53% valid_acc:68.22%\n",
            "\ttrain_f1:0.681 valid_f1:0.635\n",
            "\ttrain_confusion_matrix:\n",
            "[[ 136  345  384]\n",
            " [  46 2126  256]\n",
            " [  47  234 1034]]\n",
            "\tvalid_confusion_matrix:\n",
            "[[ 28 112 109]\n",
            " [ 11 536  50]\n",
            " [ 18  69 228]]\n"
          ]
        },
        {
          "name": "stderr",
          "output_type": "stream",
          "text": [
            "  0%|          | 0/36 [00:00<?, ?it/s]/var/folders/3c/71b8pg6d7j5dht_5h_2n4n_c0000gn/T/ipykernel_8755/1114866685.py:147: UserWarning: Implicit dimension choice for log_softmax has been deprecated. Change the call to include dim=X as an argument.\n",
            "  out = torch.nn.functional.log_softmax(out)\n",
            "100%|██████████| 36/36 [00:08<00:00,  4.11it/s]\n",
            "  0%|          | 0/2 [00:00<?, ?it/s]/var/folders/3c/71b8pg6d7j5dht_5h_2n4n_c0000gn/T/ipykernel_8755/1114866685.py:147: UserWarning: Implicit dimension choice for log_softmax has been deprecated. Change the call to include dim=X as an argument.\n",
            "  out = torch.nn.functional.log_softmax(out)\n",
            "100%|██████████| 2/2 [00:00<00:00,  6.16it/s]\n"
          ]
        },
        {
          "name": "stdout",
          "output_type": "stream",
          "text": [
            "\n",
            "epoch 13\n",
            "\ttrain_loss:0.673 valid_loss:0.716\n",
            "\ttrain_acc:71.74% valid_acc:68.39%\n",
            "\ttrain_f1:0.688 valid_f1:0.646\n",
            "\ttrain_confusion_matrix:\n",
            "[[ 166  342  354]\n",
            " [  67 2121  242]\n",
            " [  57  240 1019]]\n",
            "\tvalid_confusion_matrix:\n",
            "[[ 33  82 134]\n",
            " [ 17 498  82]\n",
            " [ 14  38 263]]\n"
          ]
        },
        {
          "name": "stderr",
          "output_type": "stream",
          "text": [
            "  0%|          | 0/36 [00:00<?, ?it/s]/var/folders/3c/71b8pg6d7j5dht_5h_2n4n_c0000gn/T/ipykernel_8755/1114866685.py:147: UserWarning: Implicit dimension choice for log_softmax has been deprecated. Change the call to include dim=X as an argument.\n",
            "  out = torch.nn.functional.log_softmax(out)\n",
            "100%|██████████| 36/36 [00:08<00:00,  4.09it/s]\n",
            "  0%|          | 0/2 [00:00<?, ?it/s]/var/folders/3c/71b8pg6d7j5dht_5h_2n4n_c0000gn/T/ipykernel_8755/1114866685.py:147: UserWarning: Implicit dimension choice for log_softmax has been deprecated. Change the call to include dim=X as an argument.\n",
            "  out = torch.nn.functional.log_softmax(out)\n",
            "100%|██████████| 2/2 [00:00<00:00,  6.15it/s]\n"
          ]
        },
        {
          "name": "stdout",
          "output_type": "stream",
          "text": [
            "\n",
            "epoch 14\n",
            "\ttrain_loss:0.663 valid_loss:0.703\n",
            "\ttrain_acc:72.61% valid_acc:68.91%\n",
            "\ttrain_f1:0.703 valid_f1:0.659\n",
            "\ttrain_confusion_matrix:\n",
            "[[ 203  311  353]\n",
            " [  83 2102  241]\n",
            " [  68  206 1041]]\n",
            "\tvalid_confusion_matrix:\n",
            "[[ 45  85 119]\n",
            " [ 25 507  65]\n",
            " [ 21  46 248]]\n"
          ]
        },
        {
          "name": "stderr",
          "output_type": "stream",
          "text": [
            "  0%|          | 0/36 [00:00<?, ?it/s]/var/folders/3c/71b8pg6d7j5dht_5h_2n4n_c0000gn/T/ipykernel_8755/1114866685.py:147: UserWarning: Implicit dimension choice for log_softmax has been deprecated. Change the call to include dim=X as an argument.\n",
            "  out = torch.nn.functional.log_softmax(out)\n",
            "100%|██████████| 36/36 [00:08<00:00,  4.12it/s]\n",
            "  0%|          | 0/2 [00:00<?, ?it/s]/var/folders/3c/71b8pg6d7j5dht_5h_2n4n_c0000gn/T/ipykernel_8755/1114866685.py:147: UserWarning: Implicit dimension choice for log_softmax has been deprecated. Change the call to include dim=X as an argument.\n",
            "  out = torch.nn.functional.log_softmax(out)\n",
            "100%|██████████| 2/2 [00:00<00:00,  6.11it/s]\n"
          ]
        },
        {
          "name": "stdout",
          "output_type": "stream",
          "text": [
            "\n",
            "epoch 15\n",
            "\ttrain_loss:0.654 valid_loss:0.705\n",
            "\ttrain_acc:72.74% valid_acc:69.77%\n",
            "\ttrain_f1:0.707 valid_f1:0.659\n",
            "\ttrain_confusion_matrix:\n",
            "[[ 220  299  348]\n",
            " [ 104 2103  226]\n",
            " [  73  206 1029]]\n",
            "\tvalid_confusion_matrix:\n",
            "[[ 41 106 102]\n",
            " [ 16 535  46]\n",
            " [ 18  63 234]]\n"
          ]
        },
        {
          "name": "stderr",
          "output_type": "stream",
          "text": [
            "  0%|          | 0/36 [00:00<?, ?it/s]/var/folders/3c/71b8pg6d7j5dht_5h_2n4n_c0000gn/T/ipykernel_8755/1114866685.py:147: UserWarning: Implicit dimension choice for log_softmax has been deprecated. Change the call to include dim=X as an argument.\n",
            "  out = torch.nn.functional.log_softmax(out)\n",
            "100%|██████████| 36/36 [00:08<00:00,  4.11it/s]\n",
            "  0%|          | 0/2 [00:00<?, ?it/s]/var/folders/3c/71b8pg6d7j5dht_5h_2n4n_c0000gn/T/ipykernel_8755/1114866685.py:147: UserWarning: Implicit dimension choice for log_softmax has been deprecated. Change the call to include dim=X as an argument.\n",
            "  out = torch.nn.functional.log_softmax(out)\n",
            "100%|██████████| 2/2 [00:00<00:00,  6.15it/s]\n"
          ]
        },
        {
          "name": "stdout",
          "output_type": "stream",
          "text": [
            "\n",
            "epoch 16\n",
            "\ttrain_loss:0.648 valid_loss:0.697\n",
            "\ttrain_acc:72.98% valid_acc:68.73%\n",
            "\ttrain_f1:0.709 valid_f1:0.661\n",
            "\ttrain_confusion_matrix:\n",
            "[[ 217  305  343]\n",
            " [  95 2118  219]\n",
            " [  89  194 1028]]\n",
            "\tvalid_confusion_matrix:\n",
            "[[ 49  84 116]\n",
            " [ 30 503  64]\n",
            " [ 23  46 246]]\n"
          ]
        },
        {
          "name": "stderr",
          "output_type": "stream",
          "text": [
            "  0%|          | 0/36 [00:00<?, ?it/s]/var/folders/3c/71b8pg6d7j5dht_5h_2n4n_c0000gn/T/ipykernel_8755/1114866685.py:147: UserWarning: Implicit dimension choice for log_softmax has been deprecated. Change the call to include dim=X as an argument.\n",
            "  out = torch.nn.functional.log_softmax(out)\n",
            "100%|██████████| 36/36 [00:08<00:00,  4.04it/s]\n",
            "  0%|          | 0/2 [00:00<?, ?it/s]/var/folders/3c/71b8pg6d7j5dht_5h_2n4n_c0000gn/T/ipykernel_8755/1114866685.py:147: UserWarning: Implicit dimension choice for log_softmax has been deprecated. Change the call to include dim=X as an argument.\n",
            "  out = torch.nn.functional.log_softmax(out)\n",
            "100%|██████████| 2/2 [00:00<00:00,  6.21it/s]\n"
          ]
        },
        {
          "name": "stdout",
          "output_type": "stream",
          "text": [
            "\n",
            "epoch 17\n",
            "\ttrain_loss:0.635 valid_loss:0.695\n",
            "\ttrain_acc:73.85% valid_acc:69.68%\n",
            "\ttrain_f1:0.720 valid_f1:0.669\n",
            "\ttrain_confusion_matrix:\n",
            "[[ 239  291  333]\n",
            " [  96 2105  228]\n",
            " [  75  182 1059]]\n",
            "\tvalid_confusion_matrix:\n",
            "[[ 57 102  90]\n",
            " [ 22 531  44]\n",
            " [ 27  67 221]]\n"
          ]
        },
        {
          "name": "stderr",
          "output_type": "stream",
          "text": [
            "  0%|          | 0/36 [00:00<?, ?it/s]/var/folders/3c/71b8pg6d7j5dht_5h_2n4n_c0000gn/T/ipykernel_8755/1114866685.py:147: UserWarning: Implicit dimension choice for log_softmax has been deprecated. Change the call to include dim=X as an argument.\n",
            "  out = torch.nn.functional.log_softmax(out)\n",
            "100%|██████████| 36/36 [00:08<00:00,  4.08it/s]\n",
            "  0%|          | 0/2 [00:00<?, ?it/s]/var/folders/3c/71b8pg6d7j5dht_5h_2n4n_c0000gn/T/ipykernel_8755/1114866685.py:147: UserWarning: Implicit dimension choice for log_softmax has been deprecated. Change the call to include dim=X as an argument.\n",
            "  out = torch.nn.functional.log_softmax(out)\n",
            "100%|██████████| 2/2 [00:00<00:00,  6.00it/s]\n"
          ]
        },
        {
          "name": "stdout",
          "output_type": "stream",
          "text": [
            "\n",
            "epoch 18\n",
            "\ttrain_loss:0.633 valid_loss:0.693\n",
            "\ttrain_acc:73.96% valid_acc:69.60%\n",
            "\ttrain_f1:0.723 valid_f1:0.678\n",
            "\ttrain_confusion_matrix:\n",
            "[[ 257  290  318]\n",
            " [ 114 2112  204]\n",
            " [  84  190 1039]]\n",
            "\tvalid_confusion_matrix:\n",
            "[[ 66  83 100]\n",
            " [ 40 499  58]\n",
            " [ 29  43 243]]\n"
          ]
        },
        {
          "name": "stderr",
          "output_type": "stream",
          "text": [
            "  0%|          | 0/36 [00:00<?, ?it/s]/var/folders/3c/71b8pg6d7j5dht_5h_2n4n_c0000gn/T/ipykernel_8755/1114866685.py:147: UserWarning: Implicit dimension choice for log_softmax has been deprecated. Change the call to include dim=X as an argument.\n",
            "  out = torch.nn.functional.log_softmax(out)\n",
            "100%|██████████| 36/36 [00:08<00:00,  4.12it/s]\n",
            "  0%|          | 0/2 [00:00<?, ?it/s]/var/folders/3c/71b8pg6d7j5dht_5h_2n4n_c0000gn/T/ipykernel_8755/1114866685.py:147: UserWarning: Implicit dimension choice for log_softmax has been deprecated. Change the call to include dim=X as an argument.\n",
            "  out = torch.nn.functional.log_softmax(out)\n",
            "100%|██████████| 2/2 [00:00<00:00,  6.18it/s]\n"
          ]
        },
        {
          "name": "stdout",
          "output_type": "stream",
          "text": [
            "\n",
            "epoch 19\n",
            "\ttrain_loss:0.619 valid_loss:0.689\n",
            "\ttrain_acc:74.57% valid_acc:70.28%\n",
            "\ttrain_f1:0.730 valid_f1:0.687\n",
            "\ttrain_confusion_matrix:\n",
            "[[ 270  283  311]\n",
            " [ 107 2122  205]\n",
            " [  85  181 1044]]\n",
            "\tvalid_confusion_matrix:\n",
            "[[ 74  83  92]\n",
            " [ 38 510  49]\n",
            " [ 37  46 232]]\n",
            "Loading saved model from: model_task2.bin\n"
          ]
        },
        {
          "name": "stderr",
          "output_type": "stream",
          "text": [
            "  0%|          | 0/2 [00:00<?, ?it/s]/var/folders/3c/71b8pg6d7j5dht_5h_2n4n_c0000gn/T/ipykernel_8755/1114866685.py:147: UserWarning: Implicit dimension choice for log_softmax has been deprecated. Change the call to include dim=X as an argument.\n",
            "  out = torch.nn.functional.log_softmax(out)\n",
            "100%|██████████| 2/2 [00:00<00:00,  6.28it/s]\n"
          ]
        },
        {
          "name": "stdout",
          "output_type": "stream",
          "text": [
            "              precision    recall  f1-score   support\n",
            "\n",
            "     Neutral       0.49      0.29      0.37       249\n",
            "    Positive       0.79      0.85      0.82       597\n",
            "    Negative       0.62      0.74      0.67       315\n",
            "\n",
            "    accuracy                           0.70      1161\n",
            "   macro avg       0.64      0.63      0.62      1161\n",
            "weighted avg       0.68      0.70      0.68      1161\n",
            "\n",
            "\n",
            "******************************************************************************************\n",
            "Alpha Size: 1\n",
            "Window Size: 2\n",
            "******************************************************************************************\n",
            "\n",
            "train samples:4641\n",
            "valid samples:1161\n"
          ]
        },
        {
          "name": "stderr",
          "output_type": "stream",
          "text": [
            "  0%|          | 0/36 [00:00<?, ?it/s]/var/folders/3c/71b8pg6d7j5dht_5h_2n4n_c0000gn/T/ipykernel_8755/1114866685.py:147: UserWarning: Implicit dimension choice for log_softmax has been deprecated. Change the call to include dim=X as an argument.\n",
            "  out = torch.nn.functional.log_softmax(out)\n",
            "100%|██████████| 36/36 [00:07<00:00,  4.69it/s]\n",
            "  0%|          | 0/2 [00:00<?, ?it/s]/var/folders/3c/71b8pg6d7j5dht_5h_2n4n_c0000gn/T/ipykernel_8755/1114866685.py:147: UserWarning: Implicit dimension choice for log_softmax has been deprecated. Change the call to include dim=X as an argument.\n",
            "  out = torch.nn.functional.log_softmax(out)\n",
            "100%|██████████| 2/2 [00:00<00:00,  7.11it/s]\n"
          ]
        },
        {
          "name": "stdout",
          "output_type": "stream",
          "text": [
            "\n",
            "epoch 0\n",
            "\ttrain_loss:1.061 valid_loss:1.031\n",
            "\ttrain_acc:51.52% valid_acc:52.63%\n",
            "\ttrain_f1:0.368 valid_f1:0.364\n",
            "\ttrain_confusion_matrix:\n",
            "[[  19  831    1]\n",
            " [  66 2349    5]\n",
            " [  37 1294    6]]\n",
            "\tvalid_confusion_matrix:\n",
            "[[  0 263   0]\n",
            " [  0 610   0]\n",
            " [  0 287   1]]\n"
          ]
        },
        {
          "name": "stderr",
          "output_type": "stream",
          "text": [
            "  0%|          | 0/36 [00:00<?, ?it/s]/var/folders/3c/71b8pg6d7j5dht_5h_2n4n_c0000gn/T/ipykernel_8755/1114866685.py:147: UserWarning: Implicit dimension choice for log_softmax has been deprecated. Change the call to include dim=X as an argument.\n",
            "  out = torch.nn.functional.log_softmax(out)\n",
            "100%|██████████| 36/36 [00:07<00:00,  4.70it/s]\n",
            "  0%|          | 0/2 [00:00<?, ?it/s]/var/folders/3c/71b8pg6d7j5dht_5h_2n4n_c0000gn/T/ipykernel_8755/1114866685.py:147: UserWarning: Implicit dimension choice for log_softmax has been deprecated. Change the call to include dim=X as an argument.\n",
            "  out = torch.nn.functional.log_softmax(out)\n",
            "100%|██████████| 2/2 [00:00<00:00,  7.25it/s]\n"
          ]
        },
        {
          "name": "stdout",
          "output_type": "stream",
          "text": [
            "\n",
            "epoch 1\n",
            "\ttrain_loss:1.004 valid_loss:0.988\n",
            "\ttrain_acc:52.52% valid_acc:52.63%\n",
            "\ttrain_f1:0.362 valid_f1:0.364\n",
            "\ttrain_confusion_matrix:\n",
            "[[   0  850    0]\n",
            " [   0 2418    0]\n",
            " [   0 1338    2]]\n",
            "\tvalid_confusion_matrix:\n",
            "[[  0 263   0]\n",
            " [  0 610   0]\n",
            " [  0 287   1]]\n"
          ]
        },
        {
          "name": "stderr",
          "output_type": "stream",
          "text": [
            "  0%|          | 0/36 [00:00<?, ?it/s]/var/folders/3c/71b8pg6d7j5dht_5h_2n4n_c0000gn/T/ipykernel_8755/1114866685.py:147: UserWarning: Implicit dimension choice for log_softmax has been deprecated. Change the call to include dim=X as an argument.\n",
            "  out = torch.nn.functional.log_softmax(out)\n",
            "100%|██████████| 36/36 [00:07<00:00,  4.84it/s]\n",
            "  0%|          | 0/2 [00:00<?, ?it/s]/var/folders/3c/71b8pg6d7j5dht_5h_2n4n_c0000gn/T/ipykernel_8755/1114866685.py:147: UserWarning: Implicit dimension choice for log_softmax has been deprecated. Change the call to include dim=X as an argument.\n",
            "  out = torch.nn.functional.log_softmax(out)\n",
            "100%|██████████| 2/2 [00:00<00:00,  7.41it/s]\n"
          ]
        },
        {
          "name": "stdout",
          "output_type": "stream",
          "text": [
            "\n",
            "epoch 2\n",
            "\ttrain_loss:0.960 valid_loss:0.940\n",
            "\ttrain_acc:52.73% valid_acc:53.32%\n",
            "\ttrain_f1:0.367 valid_f1:0.379\n",
            "\ttrain_confusion_matrix:\n",
            "[[   0  849    2]\n",
            " [   0 2418    0]\n",
            " [   0 1327   12]]\n",
            "\tvalid_confusion_matrix:\n",
            "[[  0 262   1]\n",
            " [  0 610   0]\n",
            " [  0 279   9]]\n"
          ]
        },
        {
          "name": "stderr",
          "output_type": "stream",
          "text": [
            "  0%|          | 0/36 [00:00<?, ?it/s]/var/folders/3c/71b8pg6d7j5dht_5h_2n4n_c0000gn/T/ipykernel_8755/1114866685.py:147: UserWarning: Implicit dimension choice for log_softmax has been deprecated. Change the call to include dim=X as an argument.\n",
            "  out = torch.nn.functional.log_softmax(out)\n",
            "100%|██████████| 36/36 [00:07<00:00,  4.78it/s]\n",
            "  0%|          | 0/2 [00:00<?, ?it/s]/var/folders/3c/71b8pg6d7j5dht_5h_2n4n_c0000gn/T/ipykernel_8755/1114866685.py:147: UserWarning: Implicit dimension choice for log_softmax has been deprecated. Change the call to include dim=X as an argument.\n",
            "  out = torch.nn.functional.log_softmax(out)\n",
            "100%|██████████| 2/2 [00:00<00:00,  7.52it/s]\n"
          ]
        },
        {
          "name": "stdout",
          "output_type": "stream",
          "text": [
            "\n",
            "epoch 3\n",
            "\ttrain_loss:0.888 valid_loss:0.872\n",
            "\ttrain_acc:58.96% valid_acc:60.38%\n",
            "\ttrain_f1:0.500 valid_f1:0.521\n",
            "\ttrain_confusion_matrix:\n",
            "[[   0  682  166]\n",
            " [   0 2304  113]\n",
            " [   0  930  413]]\n",
            "\tvalid_confusion_matrix:\n",
            "[[  0 153 110]\n",
            " [  0 551  59]\n",
            " [  0 138 150]]\n"
          ]
        },
        {
          "name": "stderr",
          "output_type": "stream",
          "text": [
            "  0%|          | 0/36 [00:00<?, ?it/s]/var/folders/3c/71b8pg6d7j5dht_5h_2n4n_c0000gn/T/ipykernel_8755/1114866685.py:147: UserWarning: Implicit dimension choice for log_softmax has been deprecated. Change the call to include dim=X as an argument.\n",
            "  out = torch.nn.functional.log_softmax(out)\n",
            "100%|██████████| 36/36 [00:07<00:00,  4.74it/s]\n",
            "  0%|          | 0/2 [00:00<?, ?it/s]/var/folders/3c/71b8pg6d7j5dht_5h_2n4n_c0000gn/T/ipykernel_8755/1114866685.py:147: UserWarning: Implicit dimension choice for log_softmax has been deprecated. Change the call to include dim=X as an argument.\n",
            "  out = torch.nn.functional.log_softmax(out)\n",
            "100%|██████████| 2/2 [00:00<00:00,  7.33it/s]\n"
          ]
        },
        {
          "name": "stdout",
          "output_type": "stream",
          "text": [
            "\n",
            "epoch 4\n",
            "\ttrain_loss:0.826 valid_loss:0.827\n",
            "\ttrain_acc:64.82% valid_acc:62.45%\n",
            "\ttrain_f1:0.585 valid_f1:0.546\n",
            "\ttrain_confusion_matrix:\n",
            "[[   0  384  468]\n",
            " [   0 2037  375]\n",
            " [   0  394  950]]\n",
            "\tvalid_confusion_matrix:\n",
            "[[  0 128 135]\n",
            " [  0 540  70]\n",
            " [  0 103 185]]\n"
          ]
        },
        {
          "name": "stderr",
          "output_type": "stream",
          "text": [
            "  0%|          | 0/36 [00:00<?, ?it/s]/var/folders/3c/71b8pg6d7j5dht_5h_2n4n_c0000gn/T/ipykernel_8755/1114866685.py:147: UserWarning: Implicit dimension choice for log_softmax has been deprecated. Change the call to include dim=X as an argument.\n",
            "  out = torch.nn.functional.log_softmax(out)\n",
            "100%|██████████| 36/36 [00:08<00:00,  4.50it/s]\n",
            "  0%|          | 0/2 [00:00<?, ?it/s]/var/folders/3c/71b8pg6d7j5dht_5h_2n4n_c0000gn/T/ipykernel_8755/1114866685.py:147: UserWarning: Implicit dimension choice for log_softmax has been deprecated. Change the call to include dim=X as an argument.\n",
            "  out = torch.nn.functional.log_softmax(out)\n",
            "100%|██████████| 2/2 [00:00<00:00,  7.07it/s]\n"
          ]
        },
        {
          "name": "stdout",
          "output_type": "stream",
          "text": [
            "\n",
            "epoch 5\n",
            "\ttrain_loss:0.788 valid_loss:0.795\n",
            "\ttrain_acc:65.84% valid_acc:62.45%\n",
            "\ttrain_f1:0.596 valid_f1:0.551\n",
            "\ttrain_confusion_matrix:\n",
            "[[   1  370  475]\n",
            " [   0 2034  388]\n",
            " [   0  341  999]]\n",
            "\tvalid_confusion_matrix:\n",
            "[[  0 110 153]\n",
            " [  0 518  92]\n",
            " [  0  81 207]]\n"
          ]
        },
        {
          "name": "stderr",
          "output_type": "stream",
          "text": [
            "  0%|          | 0/36 [00:00<?, ?it/s]/var/folders/3c/71b8pg6d7j5dht_5h_2n4n_c0000gn/T/ipykernel_8755/1114866685.py:147: UserWarning: Implicit dimension choice for log_softmax has been deprecated. Change the call to include dim=X as an argument.\n",
            "  out = torch.nn.functional.log_softmax(out)\n",
            "100%|██████████| 36/36 [00:08<00:00,  4.47it/s]\n",
            "  0%|          | 0/2 [00:00<?, ?it/s]/var/folders/3c/71b8pg6d7j5dht_5h_2n4n_c0000gn/T/ipykernel_8755/1114866685.py:147: UserWarning: Implicit dimension choice for log_softmax has been deprecated. Change the call to include dim=X as an argument.\n",
            "  out = torch.nn.functional.log_softmax(out)\n",
            "100%|██████████| 2/2 [00:00<00:00,  7.34it/s]\n"
          ]
        },
        {
          "name": "stdout",
          "output_type": "stream",
          "text": [
            "\n",
            "epoch 6\n",
            "\ttrain_loss:0.767 valid_loss:0.787\n",
            "\ttrain_acc:67.34% valid_acc:63.65%\n",
            "\ttrain_f1:0.609 valid_f1:0.563\n",
            "\ttrain_confusion_matrix:\n",
            "[[   7  406  438]\n",
            " [   0 2089  326]\n",
            " [   0  335 1007]]\n",
            "\tvalid_confusion_matrix:\n",
            "[[  0 105 158]\n",
            " [  0 519  91]\n",
            " [  0  68 220]]\n"
          ]
        },
        {
          "name": "stderr",
          "output_type": "stream",
          "text": [
            "  0%|          | 0/36 [00:00<?, ?it/s]/var/folders/3c/71b8pg6d7j5dht_5h_2n4n_c0000gn/T/ipykernel_8755/1114866685.py:147: UserWarning: Implicit dimension choice for log_softmax has been deprecated. Change the call to include dim=X as an argument.\n",
            "  out = torch.nn.functional.log_softmax(out)\n",
            "100%|██████████| 36/36 [00:07<00:00,  4.67it/s]\n",
            "  0%|          | 0/2 [00:00<?, ?it/s]/var/folders/3c/71b8pg6d7j5dht_5h_2n4n_c0000gn/T/ipykernel_8755/1114866685.py:147: UserWarning: Implicit dimension choice for log_softmax has been deprecated. Change the call to include dim=X as an argument.\n",
            "  out = torch.nn.functional.log_softmax(out)\n",
            "100%|██████████| 2/2 [00:00<00:00,  6.46it/s]\n"
          ]
        },
        {
          "name": "stdout",
          "output_type": "stream",
          "text": [
            "\n",
            "epoch 7\n",
            "\ttrain_loss:0.757 valid_loss:0.764\n",
            "\ttrain_acc:67.84% valid_acc:65.37%\n",
            "\ttrain_f1:0.613 valid_f1:0.581\n",
            "\ttrain_confusion_matrix:\n",
            "[[   6  405  440]\n",
            " [   1 2123  294]\n",
            " [   1  341  997]]\n",
            "\tvalid_confusion_matrix:\n",
            "[[  8 136 119]\n",
            " [  2 549  59]\n",
            " [  1  85 202]]\n"
          ]
        },
        {
          "name": "stderr",
          "output_type": "stream",
          "text": [
            "  0%|          | 0/36 [00:00<?, ?it/s]/var/folders/3c/71b8pg6d7j5dht_5h_2n4n_c0000gn/T/ipykernel_8755/1114866685.py:147: UserWarning: Implicit dimension choice for log_softmax has been deprecated. Change the call to include dim=X as an argument.\n",
            "  out = torch.nn.functional.log_softmax(out)\n",
            "100%|██████████| 36/36 [00:07<00:00,  4.71it/s]\n",
            "  0%|          | 0/2 [00:00<?, ?it/s]/var/folders/3c/71b8pg6d7j5dht_5h_2n4n_c0000gn/T/ipykernel_8755/1114866685.py:147: UserWarning: Implicit dimension choice for log_softmax has been deprecated. Change the call to include dim=X as an argument.\n",
            "  out = torch.nn.functional.log_softmax(out)\n",
            "100%|██████████| 2/2 [00:00<00:00,  7.30it/s]\n"
          ]
        },
        {
          "name": "stdout",
          "output_type": "stream",
          "text": [
            "\n",
            "epoch 8\n",
            "\ttrain_loss:0.734 valid_loss:0.756\n",
            "\ttrain_acc:69.05% valid_acc:65.72%\n",
            "\ttrain_f1:0.629 valid_f1:0.587\n",
            "\ttrain_confusion_matrix:\n",
            "[[  23  403  419]\n",
            " [   0 2143  280]\n",
            " [   5  319 1016]]\n",
            "\tvalid_confusion_matrix:\n",
            "[[  9 128 126]\n",
            " [  1 541  68]\n",
            " [  0  75 213]]\n"
          ]
        },
        {
          "name": "stderr",
          "output_type": "stream",
          "text": [
            "  0%|          | 0/36 [00:00<?, ?it/s]/var/folders/3c/71b8pg6d7j5dht_5h_2n4n_c0000gn/T/ipykernel_8755/1114866685.py:147: UserWarning: Implicit dimension choice for log_softmax has been deprecated. Change the call to include dim=X as an argument.\n",
            "  out = torch.nn.functional.log_softmax(out)\n",
            "100%|██████████| 36/36 [00:07<00:00,  4.86it/s]\n",
            "  0%|          | 0/2 [00:00<?, ?it/s]/var/folders/3c/71b8pg6d7j5dht_5h_2n4n_c0000gn/T/ipykernel_8755/1114866685.py:147: UserWarning: Implicit dimension choice for log_softmax has been deprecated. Change the call to include dim=X as an argument.\n",
            "  out = torch.nn.functional.log_softmax(out)\n",
            "100%|██████████| 2/2 [00:00<00:00,  6.59it/s]\n"
          ]
        },
        {
          "name": "stdout",
          "output_type": "stream",
          "text": [
            "\n",
            "epoch 9\n",
            "\ttrain_loss:0.726 valid_loss:0.751\n",
            "\ttrain_acc:69.10% valid_acc:64.94%\n",
            "\ttrain_f1:0.629 valid_f1:0.578\n",
            "\ttrain_confusion_matrix:\n",
            "[[  20  393  434]\n",
            " [   2 2121  295]\n",
            " [   3  297 1043]]\n",
            "\tvalid_confusion_matrix:\n",
            "[[ 11 147 105]\n",
            " [  2 559  49]\n",
            " [  2 102 184]]\n"
          ]
        },
        {
          "name": "stderr",
          "output_type": "stream",
          "text": [
            "  0%|          | 0/36 [00:00<?, ?it/s]/var/folders/3c/71b8pg6d7j5dht_5h_2n4n_c0000gn/T/ipykernel_8755/1114866685.py:147: UserWarning: Implicit dimension choice for log_softmax has been deprecated. Change the call to include dim=X as an argument.\n",
            "  out = torch.nn.functional.log_softmax(out)\n",
            "100%|██████████| 36/36 [00:07<00:00,  4.81it/s]\n",
            "  0%|          | 0/2 [00:00<?, ?it/s]/var/folders/3c/71b8pg6d7j5dht_5h_2n4n_c0000gn/T/ipykernel_8755/1114866685.py:147: UserWarning: Implicit dimension choice for log_softmax has been deprecated. Change the call to include dim=X as an argument.\n",
            "  out = torch.nn.functional.log_softmax(out)\n",
            "100%|██████████| 2/2 [00:00<00:00,  5.69it/s]\n"
          ]
        },
        {
          "name": "stdout",
          "output_type": "stream",
          "text": [
            "\n",
            "epoch 10\n",
            "\ttrain_loss:0.711 valid_loss:0.735\n",
            "\ttrain_acc:70.03% valid_acc:67.18%\n",
            "\ttrain_f1:0.643 valid_f1:0.611\n",
            "\ttrain_confusion_matrix:\n",
            "[[  38  399  411]\n",
            " [   5 2143  267]\n",
            " [  11  288 1046]]\n",
            "\tvalid_confusion_matrix:\n",
            "[[ 19 128 116]\n",
            " [  4 546  60]\n",
            " [  3  70 215]]\n"
          ]
        },
        {
          "name": "stderr",
          "output_type": "stream",
          "text": [
            "  0%|          | 0/36 [00:00<?, ?it/s]/var/folders/3c/71b8pg6d7j5dht_5h_2n4n_c0000gn/T/ipykernel_8755/1114866685.py:147: UserWarning: Implicit dimension choice for log_softmax has been deprecated. Change the call to include dim=X as an argument.\n",
            "  out = torch.nn.functional.log_softmax(out)\n",
            "100%|██████████| 36/36 [00:07<00:00,  4.77it/s]\n",
            "  0%|          | 0/2 [00:00<?, ?it/s]/var/folders/3c/71b8pg6d7j5dht_5h_2n4n_c0000gn/T/ipykernel_8755/1114866685.py:147: UserWarning: Implicit dimension choice for log_softmax has been deprecated. Change the call to include dim=X as an argument.\n",
            "  out = torch.nn.functional.log_softmax(out)\n",
            "100%|██████████| 2/2 [00:00<00:00,  6.52it/s]\n"
          ]
        },
        {
          "name": "stdout",
          "output_type": "stream",
          "text": [
            "\n",
            "epoch 11\n",
            "\ttrain_loss:0.702 valid_loss:0.727\n",
            "\ttrain_acc:70.66% valid_acc:67.44%\n",
            "\ttrain_f1:0.656 valid_f1:0.618\n",
            "\ttrain_confusion_matrix:\n",
            "[[  65  379  405]\n",
            " [  11 2140  265]\n",
            " [  17  275 1051]]\n",
            "\tvalid_confusion_matrix:\n",
            "[[ 24 133 106]\n",
            " [  7 549  54]\n",
            " [  7  71 210]]\n"
          ]
        },
        {
          "name": "stderr",
          "output_type": "stream",
          "text": [
            "  0%|          | 0/36 [00:00<?, ?it/s]/var/folders/3c/71b8pg6d7j5dht_5h_2n4n_c0000gn/T/ipykernel_8755/1114866685.py:147: UserWarning: Implicit dimension choice for log_softmax has been deprecated. Change the call to include dim=X as an argument.\n",
            "  out = torch.nn.functional.log_softmax(out)\n",
            "100%|██████████| 36/36 [00:07<00:00,  4.95it/s]\n",
            "  0%|          | 0/2 [00:00<?, ?it/s]/var/folders/3c/71b8pg6d7j5dht_5h_2n4n_c0000gn/T/ipykernel_8755/1114866685.py:147: UserWarning: Implicit dimension choice for log_softmax has been deprecated. Change the call to include dim=X as an argument.\n",
            "  out = torch.nn.functional.log_softmax(out)\n",
            "100%|██████████| 2/2 [00:00<00:00,  7.29it/s]\n"
          ]
        },
        {
          "name": "stdout",
          "output_type": "stream",
          "text": [
            "\n",
            "epoch 12\n",
            "\ttrain_loss:0.691 valid_loss:0.725\n",
            "\ttrain_acc:71.42% valid_acc:66.84%\n",
            "\ttrain_f1:0.670 valid_f1:0.617\n",
            "\ttrain_confusion_matrix:\n",
            "[[  95  380  376]\n",
            " [  24 2154  239]\n",
            " [  25  273 1042]]\n",
            "\tvalid_confusion_matrix:\n",
            "[[ 28 124 111]\n",
            " [  6 540  64]\n",
            " [  9  71 208]]\n"
          ]
        },
        {
          "name": "stderr",
          "output_type": "stream",
          "text": [
            "  0%|          | 0/36 [00:00<?, ?it/s]/var/folders/3c/71b8pg6d7j5dht_5h_2n4n_c0000gn/T/ipykernel_8755/1114866685.py:147: UserWarning: Implicit dimension choice for log_softmax has been deprecated. Change the call to include dim=X as an argument.\n",
            "  out = torch.nn.functional.log_softmax(out)\n",
            "100%|██████████| 36/36 [00:07<00:00,  4.74it/s]\n",
            "  0%|          | 0/2 [00:00<?, ?it/s]/var/folders/3c/71b8pg6d7j5dht_5h_2n4n_c0000gn/T/ipykernel_8755/1114866685.py:147: UserWarning: Implicit dimension choice for log_softmax has been deprecated. Change the call to include dim=X as an argument.\n",
            "  out = torch.nn.functional.log_softmax(out)\n",
            "100%|██████████| 2/2 [00:00<00:00,  7.33it/s]\n"
          ]
        },
        {
          "name": "stdout",
          "output_type": "stream",
          "text": [
            "\n",
            "epoch 13\n",
            "\ttrain_loss:0.680 valid_loss:0.717\n",
            "\ttrain_acc:72.24% valid_acc:67.44%\n",
            "\ttrain_f1:0.688 valid_f1:0.623\n",
            "\ttrain_confusion_matrix:\n",
            "[[ 142  352  354]\n",
            " [  30 2139  243]\n",
            " [  41  259 1048]]\n",
            "\tvalid_confusion_matrix:\n",
            "[[ 27 117 119]\n",
            " [ 10 536  64]\n",
            " [  6  62 220]]\n"
          ]
        },
        {
          "name": "stderr",
          "output_type": "stream",
          "text": [
            "  0%|          | 0/36 [00:00<?, ?it/s]/var/folders/3c/71b8pg6d7j5dht_5h_2n4n_c0000gn/T/ipykernel_8755/1114866685.py:147: UserWarning: Implicit dimension choice for log_softmax has been deprecated. Change the call to include dim=X as an argument.\n",
            "  out = torch.nn.functional.log_softmax(out)\n",
            "100%|██████████| 36/36 [00:07<00:00,  4.82it/s]\n",
            "  0%|          | 0/2 [00:00<?, ?it/s]/var/folders/3c/71b8pg6d7j5dht_5h_2n4n_c0000gn/T/ipykernel_8755/1114866685.py:147: UserWarning: Implicit dimension choice for log_softmax has been deprecated. Change the call to include dim=X as an argument.\n",
            "  out = torch.nn.functional.log_softmax(out)\n",
            "100%|██████████| 2/2 [00:00<00:00,  7.41it/s]\n"
          ]
        },
        {
          "name": "stdout",
          "output_type": "stream",
          "text": [
            "\n",
            "epoch 14\n",
            "\ttrain_loss:0.671 valid_loss:0.719\n",
            "\ttrain_acc:72.35% valid_acc:66.84%\n",
            "\ttrain_f1:0.692 valid_f1:0.626\n",
            "\ttrain_confusion_matrix:\n",
            "[[ 154  338  355]\n",
            " [  51 2138  229]\n",
            " [  51  250 1042]]\n",
            "\tvalid_confusion_matrix:\n",
            "[[ 39 123 101]\n",
            " [ 12 542  56]\n",
            " [ 17  76 195]]\n"
          ]
        },
        {
          "name": "stderr",
          "output_type": "stream",
          "text": [
            "  0%|          | 0/36 [00:00<?, ?it/s]/var/folders/3c/71b8pg6d7j5dht_5h_2n4n_c0000gn/T/ipykernel_8755/1114866685.py:147: UserWarning: Implicit dimension choice for log_softmax has been deprecated. Change the call to include dim=X as an argument.\n",
            "  out = torch.nn.functional.log_softmax(out)\n",
            "100%|██████████| 36/36 [00:07<00:00,  4.66it/s]\n",
            "  0%|          | 0/2 [00:00<?, ?it/s]/var/folders/3c/71b8pg6d7j5dht_5h_2n4n_c0000gn/T/ipykernel_8755/1114866685.py:147: UserWarning: Implicit dimension choice for log_softmax has been deprecated. Change the call to include dim=X as an argument.\n",
            "  out = torch.nn.functional.log_softmax(out)\n",
            "100%|██████████| 2/2 [00:00<00:00,  7.49it/s]\n"
          ]
        },
        {
          "name": "stdout",
          "output_type": "stream",
          "text": [
            "\n",
            "epoch 15\n",
            "\ttrain_loss:0.662 valid_loss:0.704\n",
            "\ttrain_acc:73.00% valid_acc:67.61%\n",
            "\ttrain_f1:0.704 valid_f1:0.638\n",
            "\ttrain_confusion_matrix:\n",
            "[[ 193  323  335]\n",
            " [  60 2143  213]\n",
            " [  74  239 1028]]\n",
            "\tvalid_confusion_matrix:\n",
            "[[ 42 108 113]\n",
            " [ 17 527  66]\n",
            " [ 13  59 216]]\n"
          ]
        },
        {
          "name": "stderr",
          "output_type": "stream",
          "text": [
            "  0%|          | 0/36 [00:00<?, ?it/s]/var/folders/3c/71b8pg6d7j5dht_5h_2n4n_c0000gn/T/ipykernel_8755/1114866685.py:147: UserWarning: Implicit dimension choice for log_softmax has been deprecated. Change the call to include dim=X as an argument.\n",
            "  out = torch.nn.functional.log_softmax(out)\n",
            "100%|██████████| 36/36 [00:07<00:00,  4.70it/s]\n",
            "  0%|          | 0/2 [00:00<?, ?it/s]/var/folders/3c/71b8pg6d7j5dht_5h_2n4n_c0000gn/T/ipykernel_8755/1114866685.py:147: UserWarning: Implicit dimension choice for log_softmax has been deprecated. Change the call to include dim=X as an argument.\n",
            "  out = torch.nn.functional.log_softmax(out)\n",
            "100%|██████████| 2/2 [00:00<00:00,  7.44it/s]\n"
          ]
        },
        {
          "name": "stdout",
          "output_type": "stream",
          "text": [
            "\n",
            "epoch 16\n",
            "\ttrain_loss:0.654 valid_loss:0.709\n",
            "\ttrain_acc:73.35% valid_acc:67.18%\n",
            "\ttrain_f1:0.708 valid_f1:0.633\n",
            "\ttrain_confusion_matrix:\n",
            "[[ 193  309  350]\n",
            " [  71 2127  221]\n",
            " [  65  212 1060]]\n",
            "\tvalid_confusion_matrix:\n",
            "[[ 46 128  89]\n",
            " [ 12 544  54]\n",
            " [ 20  78 190]]\n"
          ]
        },
        {
          "name": "stderr",
          "output_type": "stream",
          "text": [
            "  0%|          | 0/36 [00:00<?, ?it/s]/var/folders/3c/71b8pg6d7j5dht_5h_2n4n_c0000gn/T/ipykernel_8755/1114866685.py:147: UserWarning: Implicit dimension choice for log_softmax has been deprecated. Change the call to include dim=X as an argument.\n",
            "  out = torch.nn.functional.log_softmax(out)\n",
            "100%|██████████| 36/36 [00:06<00:00,  5.18it/s]\n",
            "  0%|          | 0/2 [00:00<?, ?it/s]/var/folders/3c/71b8pg6d7j5dht_5h_2n4n_c0000gn/T/ipykernel_8755/1114866685.py:147: UserWarning: Implicit dimension choice for log_softmax has been deprecated. Change the call to include dim=X as an argument.\n",
            "  out = torch.nn.functional.log_softmax(out)\n",
            "100%|██████████| 2/2 [00:00<00:00,  7.71it/s]\n"
          ]
        },
        {
          "name": "stdout",
          "output_type": "stream",
          "text": [
            "\n",
            "epoch 17\n",
            "\ttrain_loss:0.646 valid_loss:0.711\n",
            "\ttrain_acc:74.02% valid_acc:68.04%\n",
            "\ttrain_f1:0.717 valid_f1:0.647\n",
            "\ttrain_confusion_matrix:\n",
            "[[ 210  309  330]\n",
            " [  62 2164  192]\n",
            " [  82  222 1037]]\n",
            "\tvalid_confusion_matrix:\n",
            "[[ 53 118  92]\n",
            " [ 19 539  52]\n",
            " [ 19  71 198]]\n"
          ]
        },
        {
          "name": "stderr",
          "output_type": "stream",
          "text": [
            "  0%|          | 0/36 [00:00<?, ?it/s]/var/folders/3c/71b8pg6d7j5dht_5h_2n4n_c0000gn/T/ipykernel_8755/1114866685.py:147: UserWarning: Implicit dimension choice for log_softmax has been deprecated. Change the call to include dim=X as an argument.\n",
            "  out = torch.nn.functional.log_softmax(out)\n",
            "100%|██████████| 36/36 [00:07<00:00,  5.06it/s]\n",
            "  0%|          | 0/2 [00:00<?, ?it/s]/var/folders/3c/71b8pg6d7j5dht_5h_2n4n_c0000gn/T/ipykernel_8755/1114866685.py:147: UserWarning: Implicit dimension choice for log_softmax has been deprecated. Change the call to include dim=X as an argument.\n",
            "  out = torch.nn.functional.log_softmax(out)\n",
            "100%|██████████| 2/2 [00:00<00:00,  7.66it/s]\n"
          ]
        },
        {
          "name": "stdout",
          "output_type": "stream",
          "text": [
            "\n",
            "epoch 18\n",
            "\ttrain_loss:0.635 valid_loss:0.702\n",
            "\ttrain_acc:74.26% valid_acc:67.18%\n",
            "\ttrain_f1:0.722 valid_f1:0.642\n",
            "\ttrain_confusion_matrix:\n",
            "[[ 229  318  301]\n",
            " [  84 2155  178]\n",
            " [  93  212 1038]]\n",
            "\tvalid_confusion_matrix:\n",
            "[[ 53 106 104]\n",
            " [ 23 522  65]\n",
            " [ 20  63 205]]\n"
          ]
        },
        {
          "name": "stderr",
          "output_type": "stream",
          "text": [
            "  0%|          | 0/36 [00:00<?, ?it/s]/var/folders/3c/71b8pg6d7j5dht_5h_2n4n_c0000gn/T/ipykernel_8755/1114866685.py:147: UserWarning: Implicit dimension choice for log_softmax has been deprecated. Change the call to include dim=X as an argument.\n",
            "  out = torch.nn.functional.log_softmax(out)\n",
            "100%|██████████| 36/36 [00:06<00:00,  5.15it/s]\n",
            "  0%|          | 0/2 [00:00<?, ?it/s]/var/folders/3c/71b8pg6d7j5dht_5h_2n4n_c0000gn/T/ipykernel_8755/1114866685.py:147: UserWarning: Implicit dimension choice for log_softmax has been deprecated. Change the call to include dim=X as an argument.\n",
            "  out = torch.nn.functional.log_softmax(out)\n",
            "100%|██████████| 2/2 [00:00<00:00,  7.64it/s]\n"
          ]
        },
        {
          "name": "stdout",
          "output_type": "stream",
          "text": [
            "\n",
            "epoch 19\n",
            "\ttrain_loss:0.629 valid_loss:0.706\n",
            "\ttrain_acc:74.57% valid_acc:67.44%\n",
            "\ttrain_f1:0.725 valid_f1:0.648\n",
            "\ttrain_confusion_matrix:\n",
            "[[ 235  298  319]\n",
            " [  83 2150  183]\n",
            " [  78  211 1051]]\n",
            "\tvalid_confusion_matrix:\n",
            "[[ 62 113  88]\n",
            " [ 24 534  52]\n",
            " [ 32  69 187]]\n",
            "Loading saved model from: model_task2.bin\n"
          ]
        },
        {
          "name": "stderr",
          "output_type": "stream",
          "text": [
            "  0%|          | 0/2 [00:00<?, ?it/s]/var/folders/3c/71b8pg6d7j5dht_5h_2n4n_c0000gn/T/ipykernel_8755/1114866685.py:147: UserWarning: Implicit dimension choice for log_softmax has been deprecated. Change the call to include dim=X as an argument.\n",
            "  out = torch.nn.functional.log_softmax(out)\n",
            "100%|██████████| 2/2 [00:00<00:00,  7.29it/s]\n"
          ]
        },
        {
          "name": "stdout",
          "output_type": "stream",
          "text": [
            "              precision    recall  f1-score   support\n",
            "\n",
            "     Neutral       0.56      0.19      0.28       263\n",
            "    Positive       0.76      0.86      0.81       610\n",
            "    Negative       0.55      0.72      0.63       288\n",
            "\n",
            "    accuracy                           0.68      1161\n",
            "   macro avg       0.62      0.59      0.57      1161\n",
            "weighted avg       0.66      0.68      0.64      1161\n",
            "\n",
            "\n",
            "******************************************************************************************\n",
            "Alpha Size: 1\n",
            "Window Size: 4\n",
            "******************************************************************************************\n",
            "\n",
            "train samples:4641\n",
            "valid samples:1161\n"
          ]
        },
        {
          "name": "stderr",
          "output_type": "stream",
          "text": [
            "  0%|          | 0/36 [00:00<?, ?it/s]/var/folders/3c/71b8pg6d7j5dht_5h_2n4n_c0000gn/T/ipykernel_8755/1114866685.py:147: UserWarning: Implicit dimension choice for log_softmax has been deprecated. Change the call to include dim=X as an argument.\n",
            "  out = torch.nn.functional.log_softmax(out)\n",
            "100%|██████████| 36/36 [00:08<00:00,  4.44it/s]\n",
            "  0%|          | 0/2 [00:00<?, ?it/s]/var/folders/3c/71b8pg6d7j5dht_5h_2n4n_c0000gn/T/ipykernel_8755/1114866685.py:147: UserWarning: Implicit dimension choice for log_softmax has been deprecated. Change the call to include dim=X as an argument.\n",
            "  out = torch.nn.functional.log_softmax(out)\n",
            "100%|██████████| 2/2 [00:00<00:00,  6.00it/s]\n"
          ]
        },
        {
          "name": "stdout",
          "output_type": "stream",
          "text": [
            "\n",
            "epoch 0\n",
            "\ttrain_loss:1.065 valid_loss:1.037\n",
            "\ttrain_acc:48.85% valid_acc:53.49%\n",
            "\ttrain_f1:0.391 valid_f1:0.373\n",
            "\ttrain_confusion_matrix:\n",
            "[[  14  781   91]\n",
            " [  38 2087  279]\n",
            " [  13 1155  150]]\n",
            "\tvalid_confusion_matrix:\n",
            "[[  0 228   0]\n",
            " [  0 621   0]\n",
            " [  0 312   0]]\n"
          ]
        },
        {
          "name": "stderr",
          "output_type": "stream",
          "text": [
            "  0%|          | 0/36 [00:00<?, ?it/s]/var/folders/3c/71b8pg6d7j5dht_5h_2n4n_c0000gn/T/ipykernel_8755/1114866685.py:147: UserWarning: Implicit dimension choice for log_softmax has been deprecated. Change the call to include dim=X as an argument.\n",
            "  out = torch.nn.functional.log_softmax(out)\n",
            "100%|██████████| 36/36 [00:07<00:00,  4.54it/s]\n",
            "  0%|          | 0/2 [00:00<?, ?it/s]/var/folders/3c/71b8pg6d7j5dht_5h_2n4n_c0000gn/T/ipykernel_8755/1114866685.py:147: UserWarning: Implicit dimension choice for log_softmax has been deprecated. Change the call to include dim=X as an argument.\n",
            "  out = torch.nn.functional.log_softmax(out)\n",
            "100%|██████████| 2/2 [00:00<00:00,  5.53it/s]\n"
          ]
        },
        {
          "name": "stdout",
          "output_type": "stream",
          "text": [
            "\n",
            "epoch 1\n",
            "\ttrain_loss:1.006 valid_loss:0.995\n",
            "\ttrain_acc:52.34% valid_acc:53.57%\n",
            "\ttrain_f1:0.360 valid_f1:0.375\n",
            "\ttrain_confusion_matrix:\n",
            "[[   0  880    0]\n",
            " [   0 2409    0]\n",
            " [   0 1316    3]]\n",
            "\tvalid_confusion_matrix:\n",
            "[[  0 228   0]\n",
            " [  0 621   0]\n",
            " [  0 311   1]]\n"
          ]
        },
        {
          "name": "stderr",
          "output_type": "stream",
          "text": [
            "  0%|          | 0/36 [00:00<?, ?it/s]/var/folders/3c/71b8pg6d7j5dht_5h_2n4n_c0000gn/T/ipykernel_8755/1114866685.py:147: UserWarning: Implicit dimension choice for log_softmax has been deprecated. Change the call to include dim=X as an argument.\n",
            "  out = torch.nn.functional.log_softmax(out)\n",
            "100%|██████████| 36/36 [00:07<00:00,  4.55it/s]\n",
            "  0%|          | 0/2 [00:00<?, ?it/s]/var/folders/3c/71b8pg6d7j5dht_5h_2n4n_c0000gn/T/ipykernel_8755/1114866685.py:147: UserWarning: Implicit dimension choice for log_softmax has been deprecated. Change the call to include dim=X as an argument.\n",
            "  out = torch.nn.functional.log_softmax(out)\n",
            "100%|██████████| 2/2 [00:00<00:00,  6.71it/s]\n"
          ]
        },
        {
          "name": "stdout",
          "output_type": "stream",
          "text": [
            "\n",
            "epoch 2\n",
            "\ttrain_loss:0.966 valid_loss:0.962\n",
            "\ttrain_acc:52.43% valid_acc:53.57%\n",
            "\ttrain_f1:0.363 valid_f1:0.375\n",
            "\ttrain_confusion_matrix:\n",
            "[[   0  880    0]\n",
            " [   0 2408    2]\n",
            " [   0 1310    8]]\n",
            "\tvalid_confusion_matrix:\n",
            "[[  0 228   0]\n",
            " [  0 621   0]\n",
            " [  0 311   1]]\n"
          ]
        },
        {
          "name": "stderr",
          "output_type": "stream",
          "text": [
            "  0%|          | 0/36 [00:00<?, ?it/s]/var/folders/3c/71b8pg6d7j5dht_5h_2n4n_c0000gn/T/ipykernel_8755/1114866685.py:147: UserWarning: Implicit dimension choice for log_softmax has been deprecated. Change the call to include dim=X as an argument.\n",
            "  out = torch.nn.functional.log_softmax(out)\n",
            "100%|██████████| 36/36 [00:08<00:00,  4.48it/s]\n",
            "  0%|          | 0/2 [00:00<?, ?it/s]/var/folders/3c/71b8pg6d7j5dht_5h_2n4n_c0000gn/T/ipykernel_8755/1114866685.py:147: UserWarning: Implicit dimension choice for log_softmax has been deprecated. Change the call to include dim=X as an argument.\n",
            "  out = torch.nn.functional.log_softmax(out)\n",
            "100%|██████████| 2/2 [00:00<00:00,  6.55it/s]\n"
          ]
        },
        {
          "name": "stdout",
          "output_type": "stream",
          "text": [
            "\n",
            "epoch 3\n",
            "\ttrain_loss:0.912 valid_loss:0.890\n",
            "\ttrain_acc:55.60% valid_acc:60.81%\n",
            "\ttrain_f1:0.439 valid_f1:0.526\n",
            "\ttrain_confusion_matrix:\n",
            "[[   0  795   89]\n",
            " [   0 2360   47]\n",
            " [   0 1115  202]]\n",
            "\tvalid_confusion_matrix:\n",
            "[[  0 166  62]\n",
            " [  0 575  46]\n",
            " [  0 181 131]]\n"
          ]
        },
        {
          "name": "stderr",
          "output_type": "stream",
          "text": [
            "  0%|          | 0/36 [00:00<?, ?it/s]/var/folders/3c/71b8pg6d7j5dht_5h_2n4n_c0000gn/T/ipykernel_8755/1114866685.py:147: UserWarning: Implicit dimension choice for log_softmax has been deprecated. Change the call to include dim=X as an argument.\n",
            "  out = torch.nn.functional.log_softmax(out)\n",
            "100%|██████████| 36/36 [00:08<00:00,  4.36it/s]\n",
            "  0%|          | 0/2 [00:00<?, ?it/s]/var/folders/3c/71b8pg6d7j5dht_5h_2n4n_c0000gn/T/ipykernel_8755/1114866685.py:147: UserWarning: Implicit dimension choice for log_softmax has been deprecated. Change the call to include dim=X as an argument.\n",
            "  out = torch.nn.functional.log_softmax(out)\n",
            "100%|██████████| 2/2 [00:00<00:00,  6.25it/s]\n"
          ]
        },
        {
          "name": "stdout",
          "output_type": "stream",
          "text": [
            "\n",
            "epoch 4\n",
            "\ttrain_loss:0.846 valid_loss:0.834\n",
            "\ttrain_acc:63.15% valid_acc:63.74%\n",
            "\ttrain_f1:0.559 valid_f1:0.573\n",
            "\ttrain_confusion_matrix:\n",
            "[[   0  498  388]\n",
            " [   0 2164  246]\n",
            " [   0  566  746]]\n",
            "\tvalid_confusion_matrix:\n",
            "[[  1 106 121]\n",
            " [  0 522  99]\n",
            " [  0  95 217]]\n"
          ]
        },
        {
          "name": "stderr",
          "output_type": "stream",
          "text": [
            "  0%|          | 0/36 [00:00<?, ?it/s]/var/folders/3c/71b8pg6d7j5dht_5h_2n4n_c0000gn/T/ipykernel_8755/1114866685.py:147: UserWarning: Implicit dimension choice for log_softmax has been deprecated. Change the call to include dim=X as an argument.\n",
            "  out = torch.nn.functional.log_softmax(out)\n",
            "100%|██████████| 36/36 [00:07<00:00,  4.64it/s]\n",
            "  0%|          | 0/2 [00:00<?, ?it/s]/var/folders/3c/71b8pg6d7j5dht_5h_2n4n_c0000gn/T/ipykernel_8755/1114866685.py:147: UserWarning: Implicit dimension choice for log_softmax has been deprecated. Change the call to include dim=X as an argument.\n",
            "  out = torch.nn.functional.log_softmax(out)\n",
            "100%|██████████| 2/2 [00:00<00:00,  5.76it/s]\n"
          ]
        },
        {
          "name": "stdout",
          "output_type": "stream",
          "text": [
            "\n",
            "epoch 5\n",
            "\ttrain_loss:0.801 valid_loss:0.806\n",
            "\ttrain_acc:65.65% valid_acc:63.57%\n",
            "\ttrain_f1:0.591 valid_f1:0.578\n",
            "\ttrain_confusion_matrix:\n",
            "[[   0  360  523]\n",
            " [   0 2057  351]\n",
            " [   0  349  968]]\n",
            "\tvalid_confusion_matrix:\n",
            "[[  1  80 147]\n",
            " [  0 486 135]\n",
            " [  0  61 251]]\n"
          ]
        },
        {
          "name": "stderr",
          "output_type": "stream",
          "text": [
            "  0%|          | 0/36 [00:00<?, ?it/s]/var/folders/3c/71b8pg6d7j5dht_5h_2n4n_c0000gn/T/ipykernel_8755/1114866685.py:147: UserWarning: Implicit dimension choice for log_softmax has been deprecated. Change the call to include dim=X as an argument.\n",
            "  out = torch.nn.functional.log_softmax(out)\n",
            "100%|██████████| 36/36 [00:07<00:00,  4.70it/s]\n",
            "  0%|          | 0/2 [00:00<?, ?it/s]/var/folders/3c/71b8pg6d7j5dht_5h_2n4n_c0000gn/T/ipykernel_8755/1114866685.py:147: UserWarning: Implicit dimension choice for log_softmax has been deprecated. Change the call to include dim=X as an argument.\n",
            "  out = torch.nn.functional.log_softmax(out)\n",
            "100%|██████████| 2/2 [00:00<00:00,  6.69it/s]\n"
          ]
        },
        {
          "name": "stdout",
          "output_type": "stream",
          "text": [
            "\n",
            "epoch 6\n",
            "\ttrain_loss:0.775 valid_loss:0.792\n",
            "\ttrain_acc:66.47% valid_acc:65.37%\n",
            "\ttrain_f1:0.599 valid_f1:0.585\n",
            "\ttrain_confusion_matrix:\n",
            "[[   5  364  518]\n",
            " [   0 2066  336]\n",
            " [   0  327  992]]\n",
            "\tvalid_confusion_matrix:\n",
            "[[  0 119 109]\n",
            " [  0 532  89]\n",
            " [  1  84 227]]\n"
          ]
        },
        {
          "name": "stderr",
          "output_type": "stream",
          "text": [
            "  0%|          | 0/36 [00:00<?, ?it/s]/var/folders/3c/71b8pg6d7j5dht_5h_2n4n_c0000gn/T/ipykernel_8755/1114866685.py:147: UserWarning: Implicit dimension choice for log_softmax has been deprecated. Change the call to include dim=X as an argument.\n",
            "  out = torch.nn.functional.log_softmax(out)\n",
            "100%|██████████| 36/36 [00:07<00:00,  4.65it/s]\n",
            "  0%|          | 0/2 [00:00<?, ?it/s]/var/folders/3c/71b8pg6d7j5dht_5h_2n4n_c0000gn/T/ipykernel_8755/1114866685.py:147: UserWarning: Implicit dimension choice for log_softmax has been deprecated. Change the call to include dim=X as an argument.\n",
            "  out = torch.nn.functional.log_softmax(out)\n",
            "100%|██████████| 2/2 [00:00<00:00,  6.63it/s]\n"
          ]
        },
        {
          "name": "stdout",
          "output_type": "stream",
          "text": [
            "\n",
            "epoch 7\n",
            "\ttrain_loss:0.754 valid_loss:0.782\n",
            "\ttrain_acc:67.64% valid_acc:65.98%\n",
            "\ttrain_f1:0.614 valid_f1:0.597\n",
            "\ttrain_confusion_matrix:\n",
            "[[  18  361  510]\n",
            " [   2 2066  335]\n",
            " [   3  280 1033]]\n",
            "\tvalid_confusion_matrix:\n",
            "[[  4 111 113]\n",
            " [  1 534  86]\n",
            " [  3  81 228]]\n"
          ]
        },
        {
          "name": "stderr",
          "output_type": "stream",
          "text": [
            "  0%|          | 0/36 [00:00<?, ?it/s]/var/folders/3c/71b8pg6d7j5dht_5h_2n4n_c0000gn/T/ipykernel_8755/1114866685.py:147: UserWarning: Implicit dimension choice for log_softmax has been deprecated. Change the call to include dim=X as an argument.\n",
            "  out = torch.nn.functional.log_softmax(out)\n",
            "100%|██████████| 36/36 [00:07<00:00,  4.76it/s]\n",
            "  0%|          | 0/2 [00:00<?, ?it/s]/var/folders/3c/71b8pg6d7j5dht_5h_2n4n_c0000gn/T/ipykernel_8755/1114866685.py:147: UserWarning: Implicit dimension choice for log_softmax has been deprecated. Change the call to include dim=X as an argument.\n",
            "  out = torch.nn.functional.log_softmax(out)\n",
            "100%|██████████| 2/2 [00:00<00:00,  6.80it/s]\n"
          ]
        },
        {
          "name": "stdout",
          "output_type": "stream",
          "text": [
            "\n",
            "epoch 8\n",
            "\ttrain_loss:0.737 valid_loss:0.769\n",
            "\ttrain_acc:68.34% valid_acc:66.24%\n",
            "\ttrain_f1:0.622 valid_f1:0.604\n",
            "\ttrain_confusion_matrix:\n",
            "[[  26  389  469]\n",
            " [   4 2111  293]\n",
            " [   7  297 1012]]\n",
            "\tvalid_confusion_matrix:\n",
            "[[  7 102 119]\n",
            " [  1 523  97]\n",
            " [  1  72 239]]\n"
          ]
        },
        {
          "name": "stderr",
          "output_type": "stream",
          "text": [
            "  0%|          | 0/36 [00:00<?, ?it/s]/var/folders/3c/71b8pg6d7j5dht_5h_2n4n_c0000gn/T/ipykernel_8755/1114866685.py:147: UserWarning: Implicit dimension choice for log_softmax has been deprecated. Change the call to include dim=X as an argument.\n",
            "  out = torch.nn.functional.log_softmax(out)\n",
            "100%|██████████| 36/36 [00:08<00:00,  4.46it/s]\n",
            "  0%|          | 0/2 [00:00<?, ?it/s]/var/folders/3c/71b8pg6d7j5dht_5h_2n4n_c0000gn/T/ipykernel_8755/1114866685.py:147: UserWarning: Implicit dimension choice for log_softmax has been deprecated. Change the call to include dim=X as an argument.\n",
            "  out = torch.nn.functional.log_softmax(out)\n",
            "100%|██████████| 2/2 [00:00<00:00,  6.60it/s]\n"
          ]
        },
        {
          "name": "stdout",
          "output_type": "stream",
          "text": [
            "\n",
            "epoch 9\n",
            "\ttrain_loss:0.718 valid_loss:0.758\n",
            "\ttrain_acc:69.64% valid_acc:66.93%\n",
            "\ttrain_f1:0.639 valid_f1:0.612\n",
            "\ttrain_confusion_matrix:\n",
            "[[  43  372  470]\n",
            " [   8 2121  275]\n",
            " [  11  263 1045]]\n",
            "\tvalid_confusion_matrix:\n",
            "[[ 10 107 111]\n",
            " [  3 536  82]\n",
            " [  4  77 231]]\n"
          ]
        },
        {
          "name": "stderr",
          "output_type": "stream",
          "text": [
            "  0%|          | 0/36 [00:00<?, ?it/s]/var/folders/3c/71b8pg6d7j5dht_5h_2n4n_c0000gn/T/ipykernel_8755/1114866685.py:147: UserWarning: Implicit dimension choice for log_softmax has been deprecated. Change the call to include dim=X as an argument.\n",
            "  out = torch.nn.functional.log_softmax(out)\n",
            "100%|██████████| 36/36 [00:07<00:00,  4.75it/s]\n",
            "  0%|          | 0/2 [00:00<?, ?it/s]/var/folders/3c/71b8pg6d7j5dht_5h_2n4n_c0000gn/T/ipykernel_8755/1114866685.py:147: UserWarning: Implicit dimension choice for log_softmax has been deprecated. Change the call to include dim=X as an argument.\n",
            "  out = torch.nn.functional.log_softmax(out)\n",
            "100%|██████████| 2/2 [00:00<00:00,  6.86it/s]\n"
          ]
        },
        {
          "name": "stdout",
          "output_type": "stream",
          "text": [
            "\n",
            "epoch 10\n",
            "\ttrain_loss:0.714 valid_loss:0.769\n",
            "\ttrain_acc:70.07% valid_acc:67.87%\n",
            "\ttrain_f1:0.652 valid_f1:0.629\n",
            "\ttrain_confusion_matrix:\n",
            "[[  77  358  450]\n",
            " [  20 2120  262]\n",
            " [  16  273 1032]]\n",
            "\tvalid_confusion_matrix:\n",
            "[[ 21 131  76]\n",
            " [  7 556  58]\n",
            " [ 10  91 211]]\n"
          ]
        },
        {
          "name": "stderr",
          "output_type": "stream",
          "text": [
            "  0%|          | 0/36 [00:00<?, ?it/s]/var/folders/3c/71b8pg6d7j5dht_5h_2n4n_c0000gn/T/ipykernel_8755/1114866685.py:147: UserWarning: Implicit dimension choice for log_softmax has been deprecated. Change the call to include dim=X as an argument.\n",
            "  out = torch.nn.functional.log_softmax(out)\n",
            "100%|██████████| 36/36 [00:07<00:00,  4.73it/s]\n",
            "  0%|          | 0/2 [00:00<?, ?it/s]/var/folders/3c/71b8pg6d7j5dht_5h_2n4n_c0000gn/T/ipykernel_8755/1114866685.py:147: UserWarning: Implicit dimension choice for log_softmax has been deprecated. Change the call to include dim=X as an argument.\n",
            "  out = torch.nn.functional.log_softmax(out)\n",
            "100%|██████████| 2/2 [00:00<00:00,  6.84it/s]\n"
          ]
        },
        {
          "name": "stdout",
          "output_type": "stream",
          "text": [
            "\n",
            "epoch 11\n",
            "\ttrain_loss:0.703 valid_loss:0.758\n",
            "\ttrain_acc:70.90% valid_acc:68.99%\n",
            "\ttrain_f1:0.667 valid_f1:0.645\n",
            "\ttrain_confusion_matrix:\n",
            "[[ 113  352  421]\n",
            " [  28 2120  252]\n",
            " [  28  260 1034]]\n",
            "\tvalid_confusion_matrix:\n",
            "[[ 27 120  81]\n",
            " [  9 556  56]\n",
            " [  7  87 218]]\n"
          ]
        },
        {
          "name": "stderr",
          "output_type": "stream",
          "text": [
            "  0%|          | 0/36 [00:00<?, ?it/s]/var/folders/3c/71b8pg6d7j5dht_5h_2n4n_c0000gn/T/ipykernel_8755/1114866685.py:147: UserWarning: Implicit dimension choice for log_softmax has been deprecated. Change the call to include dim=X as an argument.\n",
            "  out = torch.nn.functional.log_softmax(out)\n",
            "100%|██████████| 36/36 [00:07<00:00,  4.72it/s]\n",
            "  0%|          | 0/2 [00:00<?, ?it/s]/var/folders/3c/71b8pg6d7j5dht_5h_2n4n_c0000gn/T/ipykernel_8755/1114866685.py:147: UserWarning: Implicit dimension choice for log_softmax has been deprecated. Change the call to include dim=X as an argument.\n",
            "  out = torch.nn.functional.log_softmax(out)\n",
            "100%|██████████| 2/2 [00:00<00:00,  6.86it/s]\n"
          ]
        },
        {
          "name": "stdout",
          "output_type": "stream",
          "text": [
            "\n",
            "epoch 12\n",
            "\ttrain_loss:0.691 valid_loss:0.735\n",
            "\ttrain_acc:70.90% valid_acc:69.16%\n",
            "\ttrain_f1:0.669 valid_f1:0.661\n",
            "\ttrain_confusion_matrix:\n",
            "[[ 119  351  417]\n",
            " [  39 2126  240]\n",
            " [  39  255 1022]]\n",
            "\tvalid_confusion_matrix:\n",
            "[[ 41  92  95]\n",
            " [ 20 532  69]\n",
            " [ 11  71 230]]\n"
          ]
        },
        {
          "name": "stderr",
          "output_type": "stream",
          "text": [
            "  0%|          | 0/36 [00:00<?, ?it/s]/var/folders/3c/71b8pg6d7j5dht_5h_2n4n_c0000gn/T/ipykernel_8755/1114866685.py:147: UserWarning: Implicit dimension choice for log_softmax has been deprecated. Change the call to include dim=X as an argument.\n",
            "  out = torch.nn.functional.log_softmax(out)\n",
            "100%|██████████| 36/36 [00:07<00:00,  4.52it/s]\n",
            "  0%|          | 0/2 [00:00<?, ?it/s]/var/folders/3c/71b8pg6d7j5dht_5h_2n4n_c0000gn/T/ipykernel_8755/1114866685.py:147: UserWarning: Implicit dimension choice for log_softmax has been deprecated. Change the call to include dim=X as an argument.\n",
            "  out = torch.nn.functional.log_softmax(out)\n",
            "100%|██████████| 2/2 [00:00<00:00,  6.80it/s]\n"
          ]
        },
        {
          "name": "stdout",
          "output_type": "stream",
          "text": [
            "\n",
            "epoch 13\n",
            "\ttrain_loss:0.679 valid_loss:0.748\n",
            "\ttrain_acc:72.03% valid_acc:68.48%\n",
            "\ttrain_f1:0.689 valid_f1:0.645\n",
            "\ttrain_confusion_matrix:\n",
            "[[ 164  330  390]\n",
            " [  56 2125  226]\n",
            " [  52  235 1030]]\n",
            "\tvalid_confusion_matrix:\n",
            "[[ 29 109  90]\n",
            " [ 17 541  63]\n",
            " [ 10  77 225]]\n"
          ]
        },
        {
          "name": "stderr",
          "output_type": "stream",
          "text": [
            "  0%|          | 0/36 [00:00<?, ?it/s]/var/folders/3c/71b8pg6d7j5dht_5h_2n4n_c0000gn/T/ipykernel_8755/1114866685.py:147: UserWarning: Implicit dimension choice for log_softmax has been deprecated. Change the call to include dim=X as an argument.\n",
            "  out = torch.nn.functional.log_softmax(out)\n",
            "100%|██████████| 36/36 [00:07<00:00,  4.78it/s]\n",
            "  0%|          | 0/2 [00:00<?, ?it/s]/var/folders/3c/71b8pg6d7j5dht_5h_2n4n_c0000gn/T/ipykernel_8755/1114866685.py:147: UserWarning: Implicit dimension choice for log_softmax has been deprecated. Change the call to include dim=X as an argument.\n",
            "  out = torch.nn.functional.log_softmax(out)\n",
            "100%|██████████| 2/2 [00:00<00:00,  6.92it/s]\n"
          ]
        },
        {
          "name": "stdout",
          "output_type": "stream",
          "text": [
            "\n",
            "epoch 14\n",
            "\ttrain_loss:0.676 valid_loss:0.732\n",
            "\ttrain_acc:72.57% valid_acc:69.60%\n",
            "\ttrain_f1:0.699 valid_f1:0.670\n",
            "\ttrain_confusion_matrix:\n",
            "[[ 197  324  363]\n",
            " [  60 2127  225]\n",
            " [  68  224 1020]]\n",
            "\tvalid_confusion_matrix:\n",
            "[[ 48  91  89]\n",
            " [ 22 523  76]\n",
            " [ 13  62 237]]\n"
          ]
        },
        {
          "name": "stderr",
          "output_type": "stream",
          "text": [
            "  0%|          | 0/36 [00:00<?, ?it/s]/var/folders/3c/71b8pg6d7j5dht_5h_2n4n_c0000gn/T/ipykernel_8755/1114866685.py:147: UserWarning: Implicit dimension choice for log_softmax has been deprecated. Change the call to include dim=X as an argument.\n",
            "  out = torch.nn.functional.log_softmax(out)\n",
            "100%|██████████| 36/36 [00:07<00:00,  4.56it/s]\n",
            "  0%|          | 0/2 [00:00<?, ?it/s]/var/folders/3c/71b8pg6d7j5dht_5h_2n4n_c0000gn/T/ipykernel_8755/1114866685.py:147: UserWarning: Implicit dimension choice for log_softmax has been deprecated. Change the call to include dim=X as an argument.\n",
            "  out = torch.nn.functional.log_softmax(out)\n",
            "100%|██████████| 2/2 [00:00<00:00,  5.59it/s]\n"
          ]
        },
        {
          "name": "stdout",
          "output_type": "stream",
          "text": [
            "\n",
            "epoch 15\n",
            "\ttrain_loss:0.660 valid_loss:0.722\n",
            "\ttrain_acc:73.20% valid_acc:69.34%\n",
            "\ttrain_f1:0.707 valid_f1:0.670\n",
            "\ttrain_confusion_matrix:\n",
            "[[ 212  311  365]\n",
            " [  65 2125  212]\n",
            " [  69  213 1036]]\n",
            "\tvalid_confusion_matrix:\n",
            "[[ 50  91  87]\n",
            " [ 31 526  64]\n",
            " [ 17  66 229]]\n"
          ]
        },
        {
          "name": "stderr",
          "output_type": "stream",
          "text": [
            "  0%|          | 0/36 [00:00<?, ?it/s]/var/folders/3c/71b8pg6d7j5dht_5h_2n4n_c0000gn/T/ipykernel_8755/1114866685.py:147: UserWarning: Implicit dimension choice for log_softmax has been deprecated. Change the call to include dim=X as an argument.\n",
            "  out = torch.nn.functional.log_softmax(out)\n",
            "100%|██████████| 36/36 [00:08<00:00,  4.09it/s]\n",
            "  0%|          | 0/2 [00:00<?, ?it/s]/var/folders/3c/71b8pg6d7j5dht_5h_2n4n_c0000gn/T/ipykernel_8755/1114866685.py:147: UserWarning: Implicit dimension choice for log_softmax has been deprecated. Change the call to include dim=X as an argument.\n",
            "  out = torch.nn.functional.log_softmax(out)\n",
            "100%|██████████| 2/2 [00:00<00:00,  5.88it/s]\n"
          ]
        },
        {
          "name": "stdout",
          "output_type": "stream",
          "text": [
            "\n",
            "epoch 16\n",
            "\ttrain_loss:0.653 valid_loss:0.725\n",
            "\ttrain_acc:73.42% valid_acc:70.03%\n",
            "\ttrain_f1:0.714 valid_f1:0.674\n",
            "\ttrain_confusion_matrix:\n",
            "[[ 245  306  336]\n",
            " [  74 2125  205]\n",
            " [  91  213 1013]]\n",
            "\tvalid_confusion_matrix:\n",
            "[[ 48  90  90]\n",
            " [ 24 533  64]\n",
            " [ 15  65 232]]\n"
          ]
        },
        {
          "name": "stderr",
          "output_type": "stream",
          "text": [
            "  0%|          | 0/36 [00:00<?, ?it/s]/var/folders/3c/71b8pg6d7j5dht_5h_2n4n_c0000gn/T/ipykernel_8755/1114866685.py:147: UserWarning: Implicit dimension choice for log_softmax has been deprecated. Change the call to include dim=X as an argument.\n",
            "  out = torch.nn.functional.log_softmax(out)\n",
            "100%|██████████| 36/36 [00:08<00:00,  4.43it/s]\n",
            "  0%|          | 0/2 [00:00<?, ?it/s]/var/folders/3c/71b8pg6d7j5dht_5h_2n4n_c0000gn/T/ipykernel_8755/1114866685.py:147: UserWarning: Implicit dimension choice for log_softmax has been deprecated. Change the call to include dim=X as an argument.\n",
            "  out = torch.nn.functional.log_softmax(out)\n",
            "100%|██████████| 2/2 [00:00<00:00,  5.49it/s]\n"
          ]
        },
        {
          "name": "stdout",
          "output_type": "stream",
          "text": [
            "\n",
            "epoch 17\n",
            "\ttrain_loss:0.644 valid_loss:0.711\n",
            "\ttrain_acc:73.61% valid_acc:70.37%\n",
            "\ttrain_f1:0.717 valid_f1:0.686\n",
            "\ttrain_confusion_matrix:\n",
            "[[ 248  293  345]\n",
            " [  88 2123  195]\n",
            " [  97  198 1021]]\n",
            "\tvalid_confusion_matrix:\n",
            "[[ 63  92  73]\n",
            " [ 39 530  52]\n",
            " [ 24  64 224]]\n"
          ]
        },
        {
          "name": "stderr",
          "output_type": "stream",
          "text": [
            "  0%|          | 0/36 [00:00<?, ?it/s]/var/folders/3c/71b8pg6d7j5dht_5h_2n4n_c0000gn/T/ipykernel_8755/1114866685.py:147: UserWarning: Implicit dimension choice for log_softmax has been deprecated. Change the call to include dim=X as an argument.\n",
            "  out = torch.nn.functional.log_softmax(out)\n",
            "100%|██████████| 36/36 [00:07<00:00,  4.61it/s]\n",
            "  0%|          | 0/2 [00:00<?, ?it/s]/var/folders/3c/71b8pg6d7j5dht_5h_2n4n_c0000gn/T/ipykernel_8755/1114866685.py:147: UserWarning: Implicit dimension choice for log_softmax has been deprecated. Change the call to include dim=X as an argument.\n",
            "  out = torch.nn.functional.log_softmax(out)\n",
            "100%|██████████| 2/2 [00:00<00:00,  5.95it/s]\n"
          ]
        },
        {
          "name": "stdout",
          "output_type": "stream",
          "text": [
            "\n",
            "epoch 18\n",
            "\ttrain_loss:0.637 valid_loss:0.709\n",
            "\ttrain_acc:73.74% valid_acc:70.46%\n",
            "\ttrain_f1:0.720 valid_f1:0.690\n",
            "\ttrain_confusion_matrix:\n",
            "[[ 262  295  328]\n",
            " [  95 2124  186]\n",
            " [ 108  198 1012]]\n",
            "\tvalid_confusion_matrix:\n",
            "[[ 69  85  74]\n",
            " [ 39 522  60]\n",
            " [ 23  62 227]]\n"
          ]
        },
        {
          "name": "stderr",
          "output_type": "stream",
          "text": [
            "  0%|          | 0/36 [00:00<?, ?it/s]/var/folders/3c/71b8pg6d7j5dht_5h_2n4n_c0000gn/T/ipykernel_8755/1114866685.py:147: UserWarning: Implicit dimension choice for log_softmax has been deprecated. Change the call to include dim=X as an argument.\n",
            "  out = torch.nn.functional.log_softmax(out)\n",
            "100%|██████████| 36/36 [00:08<00:00,  4.44it/s]\n",
            "  0%|          | 0/2 [00:00<?, ?it/s]/var/folders/3c/71b8pg6d7j5dht_5h_2n4n_c0000gn/T/ipykernel_8755/1114866685.py:147: UserWarning: Implicit dimension choice for log_softmax has been deprecated. Change the call to include dim=X as an argument.\n",
            "  out = torch.nn.functional.log_softmax(out)\n",
            "100%|██████████| 2/2 [00:00<00:00,  4.57it/s]\n"
          ]
        },
        {
          "name": "stdout",
          "output_type": "stream",
          "text": [
            "\n",
            "epoch 19\n",
            "\ttrain_loss:0.631 valid_loss:0.714\n",
            "\ttrain_acc:74.07% valid_acc:70.28%\n",
            "\ttrain_f1:0.724 valid_f1:0.683\n",
            "\ttrain_confusion_matrix:\n",
            "[[ 274  291  322]\n",
            " [  84 2135  187]\n",
            " [ 117  194 1004]]\n",
            "\tvalid_confusion_matrix:\n",
            "[[ 58  82  88]\n",
            " [ 35 521  65]\n",
            " [ 16  59 237]]\n",
            "Loading saved model from: model_task2.bin\n"
          ]
        },
        {
          "name": "stderr",
          "output_type": "stream",
          "text": [
            "  0%|          | 0/2 [00:00<?, ?it/s]/var/folders/3c/71b8pg6d7j5dht_5h_2n4n_c0000gn/T/ipykernel_8755/1114866685.py:147: UserWarning: Implicit dimension choice for log_softmax has been deprecated. Change the call to include dim=X as an argument.\n",
            "  out = torch.nn.functional.log_softmax(out)\n",
            "100%|██████████| 2/2 [00:00<00:00,  4.19it/s]\n"
          ]
        },
        {
          "name": "stdout",
          "output_type": "stream",
          "text": [
            "              precision    recall  f1-score   support\n",
            "\n",
            "     Neutral       0.53      0.30      0.39       228\n",
            "    Positive       0.79      0.85      0.82       621\n",
            "    Negative       0.64      0.74      0.68       312\n",
            "\n",
            "    accuracy                           0.71      1161\n",
            "   macro avg       0.65      0.63      0.63      1161\n",
            "weighted avg       0.70      0.71      0.70      1161\n",
            "\n",
            "\n",
            "******************************************************************************************\n",
            "Alpha Size: 1\n",
            "Window Size: 8\n",
            "******************************************************************************************\n",
            "\n",
            "train samples:4641\n",
            "valid samples:1161\n"
          ]
        },
        {
          "name": "stderr",
          "output_type": "stream",
          "text": [
            "  0%|          | 0/36 [00:00<?, ?it/s]/var/folders/3c/71b8pg6d7j5dht_5h_2n4n_c0000gn/T/ipykernel_8755/1114866685.py:147: UserWarning: Implicit dimension choice for log_softmax has been deprecated. Change the call to include dim=X as an argument.\n",
            "  out = torch.nn.functional.log_softmax(out)\n",
            "100%|██████████| 36/36 [00:15<00:00,  2.38it/s]\n",
            "  0%|          | 0/2 [00:00<?, ?it/s]/var/folders/3c/71b8pg6d7j5dht_5h_2n4n_c0000gn/T/ipykernel_8755/1114866685.py:147: UserWarning: Implicit dimension choice for log_softmax has been deprecated. Change the call to include dim=X as an argument.\n",
            "  out = torch.nn.functional.log_softmax(out)\n",
            "100%|██████████| 2/2 [00:00<00:00,  3.74it/s]\n"
          ]
        },
        {
          "name": "stdout",
          "output_type": "stream",
          "text": [
            "\n",
            "epoch 0\n",
            "\ttrain_loss:1.069 valid_loss:1.029\n",
            "\ttrain_acc:49.44% valid_acc:52.54%\n",
            "\ttrain_f1:0.378 valid_f1:0.362\n",
            "\ttrain_confusion_matrix:\n",
            "[[  42  824   27]\n",
            " [ 115 2193  111]\n",
            " [  56 1197   43]]\n",
            "\tvalid_confusion_matrix:\n",
            "[[  0 222   0]\n",
            " [  0 610   0]\n",
            " [  0 329   0]]\n"
          ]
        },
        {
          "name": "stderr",
          "output_type": "stream",
          "text": [
            "  0%|          | 0/36 [00:00<?, ?it/s]/var/folders/3c/71b8pg6d7j5dht_5h_2n4n_c0000gn/T/ipykernel_8755/1114866685.py:147: UserWarning: Implicit dimension choice for log_softmax has been deprecated. Change the call to include dim=X as an argument.\n",
            "  out = torch.nn.functional.log_softmax(out)\n",
            "100%|██████████| 36/36 [00:15<00:00,  2.38it/s]\n",
            "  0%|          | 0/2 [00:00<?, ?it/s]/var/folders/3c/71b8pg6d7j5dht_5h_2n4n_c0000gn/T/ipykernel_8755/1114866685.py:147: UserWarning: Implicit dimension choice for log_softmax has been deprecated. Change the call to include dim=X as an argument.\n",
            "  out = torch.nn.functional.log_softmax(out)\n",
            "100%|██████████| 2/2 [00:00<00:00,  3.30it/s]\n"
          ]
        },
        {
          "name": "stdout",
          "output_type": "stream",
          "text": [
            "\n",
            "epoch 1\n",
            "\ttrain_loss:1.009 valid_loss:0.979\n",
            "\ttrain_acc:52.39% valid_acc:52.54%\n",
            "\ttrain_f1:0.360 valid_f1:0.362\n",
            "\ttrain_confusion_matrix:\n",
            "[[   0  889    0]\n",
            " [   0 2414    0]\n",
            " [   0 1305    0]]\n",
            "\tvalid_confusion_matrix:\n",
            "[[  0 222   0]\n",
            " [  0 610   0]\n",
            " [  1 328   0]]\n"
          ]
        },
        {
          "name": "stderr",
          "output_type": "stream",
          "text": [
            "  0%|          | 0/36 [00:00<?, ?it/s]/var/folders/3c/71b8pg6d7j5dht_5h_2n4n_c0000gn/T/ipykernel_8755/1114866685.py:147: UserWarning: Implicit dimension choice for log_softmax has been deprecated. Change the call to include dim=X as an argument.\n",
            "  out = torch.nn.functional.log_softmax(out)\n",
            "100%|██████████| 36/36 [00:15<00:00,  2.35it/s]\n",
            "  0%|          | 0/2 [00:00<?, ?it/s]/var/folders/3c/71b8pg6d7j5dht_5h_2n4n_c0000gn/T/ipykernel_8755/1114866685.py:147: UserWarning: Implicit dimension choice for log_softmax has been deprecated. Change the call to include dim=X as an argument.\n",
            "  out = torch.nn.functional.log_softmax(out)\n",
            "100%|██████████| 2/2 [00:00<00:00,  3.29it/s]\n"
          ]
        },
        {
          "name": "stdout",
          "output_type": "stream",
          "text": [
            "\n",
            "epoch 2\n",
            "\ttrain_loss:0.971 valid_loss:0.936\n",
            "\ttrain_acc:52.41% valid_acc:52.71%\n",
            "\ttrain_f1:0.361 valid_f1:0.366\n",
            "\ttrain_confusion_matrix:\n",
            "[[   0  889    0]\n",
            " [   0 2414    0]\n",
            " [   0 1304    1]]\n",
            "\tvalid_confusion_matrix:\n",
            "[[  0 222   0]\n",
            " [  0 610   0]\n",
            " [  0 327   2]]\n"
          ]
        },
        {
          "name": "stderr",
          "output_type": "stream",
          "text": [
            "  0%|          | 0/36 [00:00<?, ?it/s]/var/folders/3c/71b8pg6d7j5dht_5h_2n4n_c0000gn/T/ipykernel_8755/1114866685.py:147: UserWarning: Implicit dimension choice for log_softmax has been deprecated. Change the call to include dim=X as an argument.\n",
            "  out = torch.nn.functional.log_softmax(out)\n",
            "100%|██████████| 36/36 [00:14<00:00,  2.50it/s]\n",
            "  0%|          | 0/2 [00:00<?, ?it/s]/var/folders/3c/71b8pg6d7j5dht_5h_2n4n_c0000gn/T/ipykernel_8755/1114866685.py:147: UserWarning: Implicit dimension choice for log_softmax has been deprecated. Change the call to include dim=X as an argument.\n",
            "  out = torch.nn.functional.log_softmax(out)\n",
            "100%|██████████| 2/2 [00:00<00:00,  3.82it/s]\n"
          ]
        },
        {
          "name": "stdout",
          "output_type": "stream",
          "text": [
            "\n",
            "epoch 3\n",
            "\ttrain_loss:0.911 valid_loss:0.853\n",
            "\ttrain_acc:55.51% valid_acc:63.91%\n",
            "\ttrain_f1:0.440 valid_f1:0.563\n",
            "\ttrain_confusion_matrix:\n",
            "[[   0  789  101]\n",
            " [   0 2354   61]\n",
            " [   0 1099  204]]\n",
            "\tvalid_confusion_matrix:\n",
            "[[  0 147  75]\n",
            " [  0 563  47]\n",
            " [  0 150 179]]\n"
          ]
        },
        {
          "name": "stderr",
          "output_type": "stream",
          "text": [
            "  0%|          | 0/36 [00:00<?, ?it/s]/var/folders/3c/71b8pg6d7j5dht_5h_2n4n_c0000gn/T/ipykernel_8755/1114866685.py:147: UserWarning: Implicit dimension choice for log_softmax has been deprecated. Change the call to include dim=X as an argument.\n",
            "  out = torch.nn.functional.log_softmax(out)\n",
            "100%|██████████| 36/36 [00:14<00:00,  2.56it/s]\n",
            "  0%|          | 0/2 [00:00<?, ?it/s]/var/folders/3c/71b8pg6d7j5dht_5h_2n4n_c0000gn/T/ipykernel_8755/1114866685.py:147: UserWarning: Implicit dimension choice for log_softmax has been deprecated. Change the call to include dim=X as an argument.\n",
            "  out = torch.nn.functional.log_softmax(out)\n",
            "100%|██████████| 2/2 [00:00<00:00,  3.74it/s]\n"
          ]
        },
        {
          "name": "stdout",
          "output_type": "stream",
          "text": [
            "\n",
            "epoch 4\n",
            "\ttrain_loss:0.841 valid_loss:0.798\n",
            "\ttrain_acc:63.28% valid_acc:65.12%\n",
            "\ttrain_f1:0.562 valid_f1:0.584\n",
            "\ttrain_confusion_matrix:\n",
            "[[   0  473  419]\n",
            " [   0 2139  281]\n",
            " [   0  519  777]]\n",
            "\tvalid_confusion_matrix:\n",
            "[[  0 111 111]\n",
            " [  0 524  86]\n",
            " [  0  97 232]]\n"
          ]
        },
        {
          "name": "stderr",
          "output_type": "stream",
          "text": [
            "  0%|          | 0/36 [00:00<?, ?it/s]/var/folders/3c/71b8pg6d7j5dht_5h_2n4n_c0000gn/T/ipykernel_8755/1114866685.py:147: UserWarning: Implicit dimension choice for log_softmax has been deprecated. Change the call to include dim=X as an argument.\n",
            "  out = torch.nn.functional.log_softmax(out)\n",
            "100%|██████████| 36/36 [00:14<00:00,  2.51it/s]\n",
            "  0%|          | 0/2 [00:00<?, ?it/s]/var/folders/3c/71b8pg6d7j5dht_5h_2n4n_c0000gn/T/ipykernel_8755/1114866685.py:147: UserWarning: Implicit dimension choice for log_softmax has been deprecated. Change the call to include dim=X as an argument.\n",
            "  out = torch.nn.functional.log_softmax(out)\n",
            "100%|██████████| 2/2 [00:00<00:00,  3.57it/s]\n"
          ]
        },
        {
          "name": "stdout",
          "output_type": "stream",
          "text": [
            "\n",
            "epoch 5\n",
            "\ttrain_loss:0.798 valid_loss:0.770\n",
            "\ttrain_acc:65.23% valid_acc:66.67%\n",
            "\ttrain_f1:0.587 valid_f1:0.602\n",
            "\ttrain_confusion_matrix:\n",
            "[[   1  380  507]\n",
            " [   0 2051  365]\n",
            " [   0  350  954]]\n",
            "\tvalid_confusion_matrix:\n",
            "[[  3 111 108]\n",
            " [  0 522  88]\n",
            " [  0  80 249]]\n"
          ]
        },
        {
          "name": "stderr",
          "output_type": "stream",
          "text": [
            "  0%|          | 0/36 [00:00<?, ?it/s]/var/folders/3c/71b8pg6d7j5dht_5h_2n4n_c0000gn/T/ipykernel_8755/1114866685.py:147: UserWarning: Implicit dimension choice for log_softmax has been deprecated. Change the call to include dim=X as an argument.\n",
            "  out = torch.nn.functional.log_softmax(out)\n",
            "100%|██████████| 36/36 [00:14<00:00,  2.47it/s]\n",
            "  0%|          | 0/2 [00:00<?, ?it/s]/var/folders/3c/71b8pg6d7j5dht_5h_2n4n_c0000gn/T/ipykernel_8755/1114866685.py:147: UserWarning: Implicit dimension choice for log_softmax has been deprecated. Change the call to include dim=X as an argument.\n",
            "  out = torch.nn.functional.log_softmax(out)\n",
            "100%|██████████| 2/2 [00:00<00:00,  3.87it/s]\n"
          ]
        },
        {
          "name": "stdout",
          "output_type": "stream",
          "text": [
            "\n",
            "epoch 6\n",
            "\ttrain_loss:0.774 valid_loss:0.760\n",
            "\ttrain_acc:66.21% valid_acc:66.84%\n",
            "\ttrain_f1:0.597 valid_f1:0.609\n",
            "\ttrain_confusion_matrix:\n",
            "[[   7  380  505]\n",
            " [   2 2059  356]\n",
            " [   1  313  985]]\n",
            "\tvalid_confusion_matrix:\n",
            "[[  6 102 114]\n",
            " [  0 511  99]\n",
            " [  0  70 259]]\n"
          ]
        },
        {
          "name": "stderr",
          "output_type": "stream",
          "text": [
            "  0%|          | 0/36 [00:00<?, ?it/s]/var/folders/3c/71b8pg6d7j5dht_5h_2n4n_c0000gn/T/ipykernel_8755/1114866685.py:147: UserWarning: Implicit dimension choice for log_softmax has been deprecated. Change the call to include dim=X as an argument.\n",
            "  out = torch.nn.functional.log_softmax(out)\n",
            "100%|██████████| 36/36 [00:14<00:00,  2.49it/s]\n",
            "  0%|          | 0/2 [00:00<?, ?it/s]/var/folders/3c/71b8pg6d7j5dht_5h_2n4n_c0000gn/T/ipykernel_8755/1114866685.py:147: UserWarning: Implicit dimension choice for log_softmax has been deprecated. Change the call to include dim=X as an argument.\n",
            "  out = torch.nn.functional.log_softmax(out)\n",
            "100%|██████████| 2/2 [00:00<00:00,  3.72it/s]\n"
          ]
        },
        {
          "name": "stdout",
          "output_type": "stream",
          "text": [
            "\n",
            "epoch 7\n",
            "\ttrain_loss:0.753 valid_loss:0.750\n",
            "\ttrain_acc:67.38% valid_acc:68.73%\n",
            "\ttrain_f1:0.614 valid_f1:0.624\n",
            "\ttrain_confusion_matrix:\n",
            "[[  26  361  503]\n",
            " [   7 2072  338]\n",
            " [   4  290 1007]]\n",
            "\tvalid_confusion_matrix:\n",
            "[[  9 128  85]\n",
            " [  0 553  57]\n",
            " [  0  93 236]]\n"
          ]
        },
        {
          "name": "stderr",
          "output_type": "stream",
          "text": [
            "  0%|          | 0/36 [00:00<?, ?it/s]/var/folders/3c/71b8pg6d7j5dht_5h_2n4n_c0000gn/T/ipykernel_8755/1114866685.py:147: UserWarning: Implicit dimension choice for log_softmax has been deprecated. Change the call to include dim=X as an argument.\n",
            "  out = torch.nn.functional.log_softmax(out)\n",
            "100%|██████████| 36/36 [00:14<00:00,  2.46it/s]\n",
            "  0%|          | 0/2 [00:00<?, ?it/s]/var/folders/3c/71b8pg6d7j5dht_5h_2n4n_c0000gn/T/ipykernel_8755/1114866685.py:147: UserWarning: Implicit dimension choice for log_softmax has been deprecated. Change the call to include dim=X as an argument.\n",
            "  out = torch.nn.functional.log_softmax(out)\n",
            "100%|██████████| 2/2 [00:00<00:00,  3.68it/s]\n"
          ]
        },
        {
          "name": "stdout",
          "output_type": "stream",
          "text": [
            "\n",
            "epoch 8\n",
            "\ttrain_loss:0.739 valid_loss:0.739\n",
            "\ttrain_acc:68.51% valid_acc:68.39%\n",
            "\ttrain_f1:0.628 valid_f1:0.627\n",
            "\ttrain_confusion_matrix:\n",
            "[[  44  388  460]\n",
            " [   8 2099  308]\n",
            " [   6  281 1014]]\n",
            "\tvalid_confusion_matrix:\n",
            "[[ 12 117  93]\n",
            " [  2 533  75]\n",
            " [  1  79 249]]\n"
          ]
        },
        {
          "name": "stderr",
          "output_type": "stream",
          "text": [
            "  0%|          | 0/36 [00:00<?, ?it/s]/var/folders/3c/71b8pg6d7j5dht_5h_2n4n_c0000gn/T/ipykernel_8755/1114866685.py:147: UserWarning: Implicit dimension choice for log_softmax has been deprecated. Change the call to include dim=X as an argument.\n",
            "  out = torch.nn.functional.log_softmax(out)\n",
            "100%|██████████| 36/36 [00:14<00:00,  2.44it/s]\n",
            "  0%|          | 0/2 [00:00<?, ?it/s]/var/folders/3c/71b8pg6d7j5dht_5h_2n4n_c0000gn/T/ipykernel_8755/1114866685.py:147: UserWarning: Implicit dimension choice for log_softmax has been deprecated. Change the call to include dim=X as an argument.\n",
            "  out = torch.nn.functional.log_softmax(out)\n",
            "100%|██████████| 2/2 [00:00<00:00,  3.83it/s]\n"
          ]
        },
        {
          "name": "stdout",
          "output_type": "stream",
          "text": [
            "\n",
            "epoch 9\n",
            "\ttrain_loss:0.723 valid_loss:0.735\n",
            "\ttrain_acc:69.51% valid_acc:68.82%\n",
            "\ttrain_f1:0.647 valid_f1:0.634\n",
            "\ttrain_confusion_matrix:\n",
            "[[  81  357  454]\n",
            " [  19 2111  288]\n",
            " [  18  269 1011]]\n",
            "\tvalid_confusion_matrix:\n",
            "[[ 16 123  83]\n",
            " [  3 541  66]\n",
            " [  2  85 242]]\n"
          ]
        },
        {
          "name": "stderr",
          "output_type": "stream",
          "text": [
            "  0%|          | 0/36 [00:00<?, ?it/s]/var/folders/3c/71b8pg6d7j5dht_5h_2n4n_c0000gn/T/ipykernel_8755/1114866685.py:147: UserWarning: Implicit dimension choice for log_softmax has been deprecated. Change the call to include dim=X as an argument.\n",
            "  out = torch.nn.functional.log_softmax(out)\n",
            "100%|██████████| 36/36 [00:14<00:00,  2.46it/s]\n",
            "  0%|          | 0/2 [00:00<?, ?it/s]/var/folders/3c/71b8pg6d7j5dht_5h_2n4n_c0000gn/T/ipykernel_8755/1114866685.py:147: UserWarning: Implicit dimension choice for log_softmax has been deprecated. Change the call to include dim=X as an argument.\n",
            "  out = torch.nn.functional.log_softmax(out)\n",
            "100%|██████████| 2/2 [00:00<00:00,  3.96it/s]\n"
          ]
        },
        {
          "name": "stdout",
          "output_type": "stream",
          "text": [
            "\n",
            "epoch 10\n",
            "\ttrain_loss:0.711 valid_loss:0.723\n",
            "\ttrain_acc:70.07% valid_acc:69.85%\n",
            "\ttrain_f1:0.654 valid_f1:0.658\n",
            "\ttrain_confusion_matrix:\n",
            "[[  91  377  422]\n",
            " [  25 2135  258]\n",
            " [  23  274 1003]]\n",
            "\tvalid_confusion_matrix:\n",
            "[[ 30 108  84]\n",
            " [  9 528  73]\n",
            " [  4  72 253]]\n"
          ]
        },
        {
          "name": "stderr",
          "output_type": "stream",
          "text": [
            "  0%|          | 0/36 [00:00<?, ?it/s]/var/folders/3c/71b8pg6d7j5dht_5h_2n4n_c0000gn/T/ipykernel_8755/1114866685.py:147: UserWarning: Implicit dimension choice for log_softmax has been deprecated. Change the call to include dim=X as an argument.\n",
            "  out = torch.nn.functional.log_softmax(out)\n",
            "100%|██████████| 36/36 [00:10<00:00,  3.35it/s]\n",
            "  0%|          | 0/2 [00:00<?, ?it/s]/var/folders/3c/71b8pg6d7j5dht_5h_2n4n_c0000gn/T/ipykernel_8755/1114866685.py:147: UserWarning: Implicit dimension choice for log_softmax has been deprecated. Change the call to include dim=X as an argument.\n",
            "  out = torch.nn.functional.log_softmax(out)\n",
            "100%|██████████| 2/2 [00:00<00:00,  5.05it/s]\n"
          ]
        },
        {
          "name": "stdout",
          "output_type": "stream",
          "text": [
            "\n",
            "epoch 11\n",
            "\ttrain_loss:0.698 valid_loss:0.723\n",
            "\ttrain_acc:71.16% valid_acc:70.54%\n",
            "\ttrain_f1:0.675 valid_f1:0.667\n",
            "\ttrain_confusion_matrix:\n",
            "[[ 134  338  414]\n",
            " [  39 2130  249]\n",
            " [  40  249 1015]]\n",
            "\tvalid_confusion_matrix:\n",
            "[[ 32  99  91]\n",
            " [  7 525  78]\n",
            " [  2  65 262]]\n"
          ]
        },
        {
          "name": "stderr",
          "output_type": "stream",
          "text": [
            "  0%|          | 0/36 [00:00<?, ?it/s]/var/folders/3c/71b8pg6d7j5dht_5h_2n4n_c0000gn/T/ipykernel_8755/1114866685.py:147: UserWarning: Implicit dimension choice for log_softmax has been deprecated. Change the call to include dim=X as an argument.\n",
            "  out = torch.nn.functional.log_softmax(out)\n",
            "100%|██████████| 36/36 [00:08<00:00,  4.22it/s]\n",
            "  0%|          | 0/2 [00:00<?, ?it/s]/var/folders/3c/71b8pg6d7j5dht_5h_2n4n_c0000gn/T/ipykernel_8755/1114866685.py:147: UserWarning: Implicit dimension choice for log_softmax has been deprecated. Change the call to include dim=X as an argument.\n",
            "  out = torch.nn.functional.log_softmax(out)\n",
            "100%|██████████| 2/2 [00:00<00:00,  5.19it/s]\n"
          ]
        },
        {
          "name": "stdout",
          "output_type": "stream",
          "text": [
            "\n",
            "epoch 12\n",
            "\ttrain_loss:0.685 valid_loss:0.712\n",
            "\ttrain_acc:71.79% valid_acc:70.46%\n",
            "\ttrain_f1:0.684 valid_f1:0.677\n",
            "\ttrain_confusion_matrix:\n",
            "[[ 150  334  403]\n",
            " [  36 2127  257]\n",
            " [  51  219 1031]]\n",
            "\tvalid_confusion_matrix:\n",
            "[[ 44  85  93]\n",
            " [ 17 514  79]\n",
            " [  8  61 260]]\n"
          ]
        },
        {
          "name": "stderr",
          "output_type": "stream",
          "text": [
            "  0%|          | 0/36 [00:00<?, ?it/s]/var/folders/3c/71b8pg6d7j5dht_5h_2n4n_c0000gn/T/ipykernel_8755/1114866685.py:147: UserWarning: Implicit dimension choice for log_softmax has been deprecated. Change the call to include dim=X as an argument.\n",
            "  out = torch.nn.functional.log_softmax(out)\n",
            "100%|██████████| 36/36 [00:10<00:00,  3.35it/s]\n",
            "  0%|          | 0/2 [00:00<?, ?it/s]/var/folders/3c/71b8pg6d7j5dht_5h_2n4n_c0000gn/T/ipykernel_8755/1114866685.py:147: UserWarning: Implicit dimension choice for log_softmax has been deprecated. Change the call to include dim=X as an argument.\n",
            "  out = torch.nn.functional.log_softmax(out)\n",
            "100%|██████████| 2/2 [00:00<00:00,  3.43it/s]\n"
          ]
        },
        {
          "name": "stdout",
          "output_type": "stream",
          "text": [
            "\n",
            "epoch 13\n",
            "\ttrain_loss:0.679 valid_loss:0.717\n",
            "\ttrain_acc:72.07% valid_acc:70.89%\n",
            "\ttrain_f1:0.693 valid_f1:0.686\n",
            "\ttrain_confusion_matrix:\n",
            "[[ 188  328  378]\n",
            " [  57 2110  248]\n",
            " [  67  209 1023]]\n",
            "\tvalid_confusion_matrix:\n",
            "[[ 55  93  74]\n",
            " [ 23 528  59]\n",
            " [ 19  70 240]]\n"
          ]
        },
        {
          "name": "stderr",
          "output_type": "stream",
          "text": [
            "  0%|          | 0/36 [00:00<?, ?it/s]/var/folders/3c/71b8pg6d7j5dht_5h_2n4n_c0000gn/T/ipykernel_8755/1114866685.py:147: UserWarning: Implicit dimension choice for log_softmax has been deprecated. Change the call to include dim=X as an argument.\n",
            "  out = torch.nn.functional.log_softmax(out)\n",
            "100%|██████████| 36/36 [00:14<00:00,  2.50it/s]\n",
            "  0%|          | 0/2 [00:00<?, ?it/s]/var/folders/3c/71b8pg6d7j5dht_5h_2n4n_c0000gn/T/ipykernel_8755/1114866685.py:147: UserWarning: Implicit dimension choice for log_softmax has been deprecated. Change the call to include dim=X as an argument.\n",
            "  out = torch.nn.functional.log_softmax(out)\n",
            "100%|██████████| 2/2 [00:00<00:00,  3.80it/s]\n"
          ]
        },
        {
          "name": "stdout",
          "output_type": "stream",
          "text": [
            "\n",
            "epoch 14\n",
            "\ttrain_loss:0.670 valid_loss:0.710\n",
            "\ttrain_acc:72.53% valid_acc:70.63%\n",
            "\ttrain_f1:0.700 valid_f1:0.684\n",
            "\ttrain_confusion_matrix:\n",
            "[[ 207  331  349]\n",
            " [  60 2134  228]\n",
            " [  82  216 1001]]\n",
            "\tvalid_confusion_matrix:\n",
            "[[ 49  79  94]\n",
            " [ 25 512  73]\n",
            " [ 20  50 259]]\n"
          ]
        },
        {
          "name": "stderr",
          "output_type": "stream",
          "text": [
            "  0%|          | 0/36 [00:00<?, ?it/s]/var/folders/3c/71b8pg6d7j5dht_5h_2n4n_c0000gn/T/ipykernel_8755/1114866685.py:147: UserWarning: Implicit dimension choice for log_softmax has been deprecated. Change the call to include dim=X as an argument.\n",
            "  out = torch.nn.functional.log_softmax(out)\n",
            "100%|██████████| 36/36 [00:15<00:00,  2.39it/s]\n",
            "  0%|          | 0/2 [00:00<?, ?it/s]/var/folders/3c/71b8pg6d7j5dht_5h_2n4n_c0000gn/T/ipykernel_8755/1114866685.py:147: UserWarning: Implicit dimension choice for log_softmax has been deprecated. Change the call to include dim=X as an argument.\n",
            "  out = torch.nn.functional.log_softmax(out)\n",
            "100%|██████████| 2/2 [00:00<00:00,  3.76it/s]\n"
          ]
        },
        {
          "name": "stdout",
          "output_type": "stream",
          "text": [
            "\n",
            "epoch 15\n",
            "\ttrain_loss:0.660 valid_loss:0.701\n",
            "\ttrain_acc:73.20% valid_acc:71.66%\n",
            "\ttrain_f1:0.709 valid_f1:0.696\n",
            "\ttrain_confusion_matrix:\n",
            "[[ 224  313  355]\n",
            " [  71 2129  221]\n",
            " [  85  190 1020]]\n",
            "\tvalid_confusion_matrix:\n",
            "[[ 58  91  73]\n",
            " [ 25 527  58]\n",
            " [ 23  59 247]]\n"
          ]
        },
        {
          "name": "stderr",
          "output_type": "stream",
          "text": [
            "  0%|          | 0/36 [00:00<?, ?it/s]/var/folders/3c/71b8pg6d7j5dht_5h_2n4n_c0000gn/T/ipykernel_8755/1114866685.py:147: UserWarning: Implicit dimension choice for log_softmax has been deprecated. Change the call to include dim=X as an argument.\n",
            "  out = torch.nn.functional.log_softmax(out)\n",
            "100%|██████████| 36/36 [00:14<00:00,  2.55it/s]\n",
            "  0%|          | 0/2 [00:00<?, ?it/s]/var/folders/3c/71b8pg6d7j5dht_5h_2n4n_c0000gn/T/ipykernel_8755/1114866685.py:147: UserWarning: Implicit dimension choice for log_softmax has been deprecated. Change the call to include dim=X as an argument.\n",
            "  out = torch.nn.functional.log_softmax(out)\n",
            "100%|██████████| 2/2 [00:00<00:00,  3.92it/s]\n"
          ]
        },
        {
          "name": "stdout",
          "output_type": "stream",
          "text": [
            "\n",
            "epoch 16\n",
            "\ttrain_loss:0.652 valid_loss:0.739\n",
            "\ttrain_acc:73.57% valid_acc:71.32%\n",
            "\ttrain_f1:0.716 valid_f1:0.691\n",
            "\ttrain_confusion_matrix:\n",
            "[[ 244  305  340]\n",
            " [  89 2116  212]\n",
            " [  97  175 1030]]\n",
            "\tvalid_confusion_matrix:\n",
            "[[ 58 104  60]\n",
            " [ 27 537  46]\n",
            " [ 21  75 233]]\n"
          ]
        },
        {
          "name": "stderr",
          "output_type": "stream",
          "text": [
            "  0%|          | 0/36 [00:00<?, ?it/s]/var/folders/3c/71b8pg6d7j5dht_5h_2n4n_c0000gn/T/ipykernel_8755/1114866685.py:147: UserWarning: Implicit dimension choice for log_softmax has been deprecated. Change the call to include dim=X as an argument.\n",
            "  out = torch.nn.functional.log_softmax(out)\n",
            "100%|██████████| 36/36 [00:14<00:00,  2.54it/s]\n",
            "  0%|          | 0/2 [00:00<?, ?it/s]/var/folders/3c/71b8pg6d7j5dht_5h_2n4n_c0000gn/T/ipykernel_8755/1114866685.py:147: UserWarning: Implicit dimension choice for log_softmax has been deprecated. Change the call to include dim=X as an argument.\n",
            "  out = torch.nn.functional.log_softmax(out)\n",
            "100%|██████████| 2/2 [00:00<00:00,  3.82it/s]\n"
          ]
        },
        {
          "name": "stdout",
          "output_type": "stream",
          "text": [
            "\n",
            "epoch 17\n",
            "\ttrain_loss:0.643 valid_loss:0.713\n",
            "\ttrain_acc:73.68% valid_acc:70.97%\n",
            "\ttrain_f1:0.717 valid_f1:0.692\n",
            "\ttrain_confusion_matrix:\n",
            "[[ 249  298  343]\n",
            " [  88 2127  204]\n",
            " [  93  187 1019]]\n",
            "\tvalid_confusion_matrix:\n",
            "[[ 62  90  70]\n",
            " [ 35 517  58]\n",
            " [ 21  63 245]]\n"
          ]
        },
        {
          "name": "stderr",
          "output_type": "stream",
          "text": [
            "  0%|          | 0/36 [00:00<?, ?it/s]/var/folders/3c/71b8pg6d7j5dht_5h_2n4n_c0000gn/T/ipykernel_8755/1114866685.py:147: UserWarning: Implicit dimension choice for log_softmax has been deprecated. Change the call to include dim=X as an argument.\n",
            "  out = torch.nn.functional.log_softmax(out)\n",
            "100%|██████████| 36/36 [00:14<00:00,  2.54it/s]\n",
            "  0%|          | 0/2 [00:00<?, ?it/s]/var/folders/3c/71b8pg6d7j5dht_5h_2n4n_c0000gn/T/ipykernel_8755/1114866685.py:147: UserWarning: Implicit dimension choice for log_softmax has been deprecated. Change the call to include dim=X as an argument.\n",
            "  out = torch.nn.functional.log_softmax(out)\n",
            "100%|██████████| 2/2 [00:00<00:00,  3.60it/s]\n"
          ]
        },
        {
          "name": "stdout",
          "output_type": "stream",
          "text": [
            "\n",
            "epoch 18\n",
            "\ttrain_loss:0.631 valid_loss:0.704\n",
            "\ttrain_acc:74.65% valid_acc:72.44%\n",
            "\ttrain_f1:0.728 valid_f1:0.705\n",
            "\ttrain_confusion_matrix:\n",
            "[[ 266  312  316]\n",
            " [  80 2138  197]\n",
            " [ 107  156 1036]]\n",
            "\tvalid_confusion_matrix:\n",
            "[[ 59  80  83]\n",
            " [ 27 515  68]\n",
            " [ 15  47 267]]\n"
          ]
        },
        {
          "name": "stderr",
          "output_type": "stream",
          "text": [
            "  0%|          | 0/36 [00:00<?, ?it/s]/var/folders/3c/71b8pg6d7j5dht_5h_2n4n_c0000gn/T/ipykernel_8755/1114866685.py:147: UserWarning: Implicit dimension choice for log_softmax has been deprecated. Change the call to include dim=X as an argument.\n",
            "  out = torch.nn.functional.log_softmax(out)\n",
            "100%|██████████| 36/36 [00:13<00:00,  2.62it/s]\n",
            "  0%|          | 0/2 [00:00<?, ?it/s]/var/folders/3c/71b8pg6d7j5dht_5h_2n4n_c0000gn/T/ipykernel_8755/1114866685.py:147: UserWarning: Implicit dimension choice for log_softmax has been deprecated. Change the call to include dim=X as an argument.\n",
            "  out = torch.nn.functional.log_softmax(out)\n",
            "100%|██████████| 2/2 [00:00<00:00,  3.64it/s]\n"
          ]
        },
        {
          "name": "stdout",
          "output_type": "stream",
          "text": [
            "\n",
            "epoch 19\n",
            "\ttrain_loss:0.629 valid_loss:0.702\n",
            "\ttrain_acc:74.57% valid_acc:70.71%\n",
            "\ttrain_f1:0.729 valid_f1:0.693\n",
            "\ttrain_confusion_matrix:\n",
            "[[ 274  290  325]\n",
            " [  96 2130  191]\n",
            " [ 105  165 1032]]\n",
            "\tvalid_confusion_matrix:\n",
            "[[ 66  92  64]\n",
            " [ 42 517  51]\n",
            " [ 37  54 238]]\n",
            "Loading saved model from: model_task2.bin\n"
          ]
        },
        {
          "name": "stderr",
          "output_type": "stream",
          "text": [
            "  0%|          | 0/2 [00:00<?, ?it/s]/var/folders/3c/71b8pg6d7j5dht_5h_2n4n_c0000gn/T/ipykernel_8755/1114866685.py:147: UserWarning: Implicit dimension choice for log_softmax has been deprecated. Change the call to include dim=X as an argument.\n",
            "  out = torch.nn.functional.log_softmax(out)\n",
            "100%|██████████| 2/2 [00:00<00:00,  4.07it/s]"
          ]
        },
        {
          "name": "stdout",
          "output_type": "stream",
          "text": [
            "              precision    recall  f1-score   support\n",
            "\n",
            "     Neutral       0.54      0.27      0.36       222\n",
            "    Positive       0.78      0.87      0.82       610\n",
            "    Negative       0.66      0.74      0.70       329\n",
            "\n",
            "    accuracy                           0.72      1161\n",
            "   macro avg       0.66      0.63      0.63      1161\n",
            "weighted avg       0.70      0.72      0.70      1161\n",
            "\n"
          ]
        },
        {
          "name": "stderr",
          "output_type": "stream",
          "text": [
            "\n"
          ]
        }
      ],
      "source": [
        "lst = [0, 0.2, 0.4, 0.6, 0.8, 1]\n",
        "lst = [0.6, 0.8, 1]\n",
        "\n",
        "for alpha_val in lst:\n",
        "    choice = [2, 4, 8]\n",
        "    upsampling = False\n",
        "\n",
        "    for window in choice:\n",
        "\n",
        "        print()\n",
        "        print(\"*\"*90)\n",
        "        print(\"Alpha Size: {}\".format(alpha_val))\n",
        "        print(\"Window Size: {}\".format(window))\n",
        "        print(\"*\"*90)\n",
        "        print()\n",
        "\n",
        "        all_aspect_clusters = []\n",
        "        for i in range(len(sentences)):\n",
        "            all_aspect_clusters.extend(chop(sentences[i], aspect_tags[i], polarity_tags[i], \n",
        "                                            window_size=window))\n",
        "        if upsampling:\n",
        "            all_aspect_clusters = upsample_polarity(all_aspect_clusters)\n",
        "\n",
        "        local_context, global_context, y = create_train_data_restaurant(all_aspect_clusters ,word_indx, sent_len=85)\n",
        "\n",
        "        X_l_train, X_l_valid, X_g_train, X_g_valid,  y_train, y_valid = train_test_split(local_context, global_context, y, test_size=VALID_SIZE)\n",
        "\n",
        "        device = get_default_device()\n",
        "\n",
        "        NUM_EPOCHS = 20\n",
        "        TRAIN_BATCH_SIZE = 128\n",
        "        VALID_BATCH_SIZE = 1024\n",
        "\n",
        "        NUM_POLARITY_TAGS = 3\n",
        "\n",
        "        history = {\n",
        "            \"train_loss\": list(),\n",
        "            \"polarity_train_acc\": list(),\n",
        "            \"valid_loss\": list(),\n",
        "            \"polarity_valid_acc\": list(),\n",
        "        }\n",
        "\n",
        "        best_loss = np.inf\n",
        "\n",
        "        dataset = TensorDataset(torch.Tensor(X_l_train), torch.Tensor(X_g_train), torch.Tensor(y_train))\n",
        "        print(f\"train samples:{len(dataset)}\")\n",
        "        train_loader = DataLoader(dataset, batch_size=TRAIN_BATCH_SIZE, shuffle=True, drop_last=True)\n",
        "\n",
        "        dataset_valid = TensorDataset(torch.Tensor(X_l_valid),  torch.Tensor(X_g_valid), torch.Tensor(y_valid))\n",
        "        print(f\"valid samples:{len(dataset_valid)}\")\n",
        "        test_loader = DataLoader(dataset_valid, batch_size=VALID_BATCH_SIZE)\n",
        "\n",
        "        model = to_device(Model(general_embedding,  num_classes=3, alpha = alpha_val), device)\n",
        "\n",
        "        torch.cuda.empty_cache()\n",
        "\n",
        "        parameters = [p for p in model.parameters() if p.requires_grad]\n",
        "        optimizer = AdamW(parameters, lr=1e-4)\n",
        "\n",
        "\n",
        "        for epoch in range(NUM_EPOCHS):\n",
        "            train_losses = []\n",
        "            train_acc = []\n",
        "            test_loss = []\n",
        "            test_acc = []\n",
        "            train_f1 = []\n",
        "            test_f1 = []\n",
        "\n",
        "            model.train()\n",
        "            preds = []\n",
        "            masks = []\n",
        "            labels = []\n",
        "            for data in tqdm(train_loader, total=len(train_loader)):\n",
        "                for i in range(len(data)):\n",
        "                    data[i] = data[i].to(device)\n",
        "                l_feature, g_feature, label = data\n",
        "                l_feature, g_feature, label = l_feature.long(), g_feature.long(), label.long()\n",
        "\n",
        "                optimizer.zero_grad()\n",
        "                pred_logits = model(l_feature, g_feature)\n",
        "                loss = loss_fn(pred_logits, label, 3)\n",
        "                loss.backward()\n",
        "                optimizer.step()\n",
        "\n",
        "                train_losses.append(loss.item())\n",
        "\n",
        "                pred_tags = pred_logits.max(-1)[1]\n",
        "                preds.append(pred_tags)\n",
        "                labels.append(label)\n",
        "\n",
        "            avg_train_acc, avg_train_f1, train_cm = cal_acc(preds,labels)\n",
        "            avg_train_loss = sum(train_losses) / len(train_losses)\n",
        "\n",
        "            preds = []\n",
        "            masks = []\n",
        "            labels = []\n",
        "            with torch.no_grad():\n",
        "                for data in tqdm(test_loader, total=len(test_loader)):\n",
        "                    for i in range(len(data)):\n",
        "                        data[i] = data[i].to(device)\n",
        "                    l_feature, g_feature, label = data\n",
        "                    l_feature, g_feature, label = l_feature.long(), g_feature.long(), label.long()\n",
        "                    pred_logits = model(l_feature, g_feature)\n",
        "                    loss = loss_fn(pred_logits, label, 3)\n",
        "\n",
        "                    test_loss.append(loss.item())\n",
        "\n",
        "                    pred_tags = pred_logits.max(-1)[1]\n",
        "\n",
        "                    preds.append(pred_tags)\n",
        "                    labels.append(label)\n",
        "\n",
        "            avg_test_acc, avg_test_f1, test_cm = cal_acc(preds,  labels)\n",
        "            avg_test_loss = sum(test_loss) / len(test_loss)\n",
        "\n",
        "            print(f\"\\nepoch {epoch}\")\n",
        "            print(\"\\ttrain_loss:{:.3f} valid_loss:{:.3f}\".format(avg_train_loss, avg_test_loss))\n",
        "            print(\"\\ttrain_acc:{:.2%} valid_acc:{:.2%}\".format(avg_train_acc, avg_test_acc))\n",
        "            print(\"\\ttrain_f1:{:.3f} valid_f1:{:.3f}\".format(avg_train_f1, avg_test_f1))\n",
        "            print(f\"\\ttrain_confusion_matrix:\\n{train_cm}\")\n",
        "            print(f\"\\tvalid_confusion_matrix:\\n{test_cm}\")\n",
        "\n",
        "            if avg_test_loss < best_loss:\n",
        "                torch.save(model.state_dict(), MODEL_PATH)\n",
        "                best_loss = avg_test_loss    \n",
        "                \n",
        "            history['train_loss'].append(avg_train_loss)\n",
        "            history['polarity_train_acc'].append(avg_train_acc.cpu().numpy())\n",
        "            history['valid_loss'].append(avg_test_loss)\n",
        "            history['polarity_valid_acc'].append(avg_test_acc.cpu().numpy())\n",
        "\n",
        "        get_classification_report(test_loader, model, model_path=MODEL_PATH)\n",
        "                \n",
        "            \n"
      ]
    },
    {
      "cell_type": "markdown",
      "metadata": {},
      "source": [
        "## upsampling = True"
      ]
    },
    {
      "cell_type": "code",
      "execution_count": 18,
      "metadata": {},
      "outputs": [
        {
          "name": "stdout",
          "output_type": "stream",
          "text": [
            "\n",
            "******************************************************************************************\n",
            "Alpha Size: 0\n",
            "Window Size: 2\n",
            "******************************************************************************************\n",
            "\n",
            "train samples:7305\n",
            "valid samples:1827\n"
          ]
        },
        {
          "name": "stderr",
          "output_type": "stream",
          "text": [
            "  0%|          | 0/57 [00:00<?, ?it/s]/var/folders/3c/71b8pg6d7j5dht_5h_2n4n_c0000gn/T/ipykernel_8755/1114866685.py:147: UserWarning: Implicit dimension choice for log_softmax has been deprecated. Change the call to include dim=X as an argument.\n",
            "  out = torch.nn.functional.log_softmax(out)\n",
            "100%|██████████| 57/57 [00:12<00:00,  4.72it/s]\n",
            "  0%|          | 0/2 [00:00<?, ?it/s]/var/folders/3c/71b8pg6d7j5dht_5h_2n4n_c0000gn/T/ipykernel_8755/1114866685.py:147: UserWarning: Implicit dimension choice for log_softmax has been deprecated. Change the call to include dim=X as an argument.\n",
            "  out = torch.nn.functional.log_softmax(out)\n",
            "100%|██████████| 2/2 [00:00<00:00,  4.09it/s]\n"
          ]
        },
        {
          "name": "stdout",
          "output_type": "stream",
          "text": [
            "\n",
            "epoch 0\n",
            "\ttrain_loss:1.088 valid_loss:1.075\n",
            "\ttrain_acc:44.59% valid_acc:51.89%\n",
            "\ttrain_f1:0.442 valid_f1:0.507\n",
            "\ttrain_confusion_matrix:\n",
            "[[ 932  319 1166]\n",
            " [ 706  867  867]\n",
            " [ 686  299 1454]]\n",
            "\tvalid_confusion_matrix:\n",
            "[[195 161 269]\n",
            " [ 70 374 155]\n",
            " [ 89 135 379]]\n"
          ]
        },
        {
          "name": "stderr",
          "output_type": "stream",
          "text": [
            "  0%|          | 0/57 [00:00<?, ?it/s]/var/folders/3c/71b8pg6d7j5dht_5h_2n4n_c0000gn/T/ipykernel_8755/1114866685.py:147: UserWarning: Implicit dimension choice for log_softmax has been deprecated. Change the call to include dim=X as an argument.\n",
            "  out = torch.nn.functional.log_softmax(out)\n",
            "100%|██████████| 57/57 [00:11<00:00,  5.08it/s]\n",
            "  0%|          | 0/2 [00:00<?, ?it/s]/var/folders/3c/71b8pg6d7j5dht_5h_2n4n_c0000gn/T/ipykernel_8755/1114866685.py:147: UserWarning: Implicit dimension choice for log_softmax has been deprecated. Change the call to include dim=X as an argument.\n",
            "  out = torch.nn.functional.log_softmax(out)\n",
            "100%|██████████| 2/2 [00:00<00:00,  4.21it/s]\n"
          ]
        },
        {
          "name": "stdout",
          "output_type": "stream",
          "text": [
            "\n",
            "epoch 1\n",
            "\ttrain_loss:1.055 valid_loss:1.028\n",
            "\ttrain_acc:54.03% valid_acc:51.40%\n",
            "\ttrain_f1:0.526 valid_f1:0.484\n",
            "\ttrain_confusion_matrix:\n",
            "[[ 747  736  933]\n",
            " [ 252 1676  512]\n",
            " [ 290  631 1519]]\n",
            "\tvalid_confusion_matrix:\n",
            "[[135 236 254]\n",
            " [ 38 456 105]\n",
            " [ 54 201 348]]\n"
          ]
        },
        {
          "name": "stderr",
          "output_type": "stream",
          "text": [
            "  0%|          | 0/57 [00:00<?, ?it/s]/var/folders/3c/71b8pg6d7j5dht_5h_2n4n_c0000gn/T/ipykernel_8755/1114866685.py:147: UserWarning: Implicit dimension choice for log_softmax has been deprecated. Change the call to include dim=X as an argument.\n",
            "  out = torch.nn.functional.log_softmax(out)\n",
            "100%|██████████| 57/57 [00:11<00:00,  4.98it/s]\n",
            "  0%|          | 0/2 [00:00<?, ?it/s]/var/folders/3c/71b8pg6d7j5dht_5h_2n4n_c0000gn/T/ipykernel_8755/1114866685.py:147: UserWarning: Implicit dimension choice for log_softmax has been deprecated. Change the call to include dim=X as an argument.\n",
            "  out = torch.nn.functional.log_softmax(out)\n",
            "100%|██████████| 2/2 [00:00<00:00,  4.77it/s]\n"
          ]
        },
        {
          "name": "stdout",
          "output_type": "stream",
          "text": [
            "\n",
            "epoch 2\n",
            "\ttrain_loss:0.986 valid_loss:0.936\n",
            "\ttrain_acc:55.00% valid_acc:55.61%\n",
            "\ttrain_f1:0.529 valid_f1:0.541\n",
            "\ttrain_confusion_matrix:\n",
            "[[ 657  750 1011]\n",
            " [ 194 1760  488]\n",
            " [ 226  614 1596]]\n",
            "\tvalid_confusion_matrix:\n",
            "[[202 169 254]\n",
            " [ 47 444 108]\n",
            " [ 79 154 370]]\n"
          ]
        },
        {
          "name": "stderr",
          "output_type": "stream",
          "text": [
            "  0%|          | 0/57 [00:00<?, ?it/s]/var/folders/3c/71b8pg6d7j5dht_5h_2n4n_c0000gn/T/ipykernel_8755/1114866685.py:147: UserWarning: Implicit dimension choice for log_softmax has been deprecated. Change the call to include dim=X as an argument.\n",
            "  out = torch.nn.functional.log_softmax(out)\n",
            "100%|██████████| 57/57 [00:11<00:00,  5.16it/s]\n",
            "  0%|          | 0/2 [00:00<?, ?it/s]/var/folders/3c/71b8pg6d7j5dht_5h_2n4n_c0000gn/T/ipykernel_8755/1114866685.py:147: UserWarning: Implicit dimension choice for log_softmax has been deprecated. Change the call to include dim=X as an argument.\n",
            "  out = torch.nn.functional.log_softmax(out)\n",
            "100%|██████████| 2/2 [00:00<00:00,  4.69it/s]\n"
          ]
        },
        {
          "name": "stdout",
          "output_type": "stream",
          "text": [
            "\n",
            "epoch 3\n",
            "\ttrain_loss:0.899 valid_loss:0.867\n",
            "\ttrain_acc:59.76% valid_acc:60.10%\n",
            "\ttrain_f1:0.592 valid_f1:0.596\n",
            "\ttrain_confusion_matrix:\n",
            "[[1060  542  814]\n",
            " [ 306 1725  409]\n",
            " [ 416  449 1575]]\n",
            "\tvalid_confusion_matrix:\n",
            "[[300 138 187]\n",
            " [ 77 445  77]\n",
            " [129 121 353]]\n"
          ]
        },
        {
          "name": "stderr",
          "output_type": "stream",
          "text": [
            "  0%|          | 0/57 [00:00<?, ?it/s]/var/folders/3c/71b8pg6d7j5dht_5h_2n4n_c0000gn/T/ipykernel_8755/1114866685.py:147: UserWarning: Implicit dimension choice for log_softmax has been deprecated. Change the call to include dim=X as an argument.\n",
            "  out = torch.nn.functional.log_softmax(out)\n",
            "100%|██████████| 57/57 [00:10<00:00,  5.41it/s]\n",
            "  0%|          | 0/2 [00:00<?, ?it/s]/var/folders/3c/71b8pg6d7j5dht_5h_2n4n_c0000gn/T/ipykernel_8755/1114866685.py:147: UserWarning: Implicit dimension choice for log_softmax has been deprecated. Change the call to include dim=X as an argument.\n",
            "  out = torch.nn.functional.log_softmax(out)\n",
            "100%|██████████| 2/2 [00:00<00:00,  5.00it/s]\n"
          ]
        },
        {
          "name": "stdout",
          "output_type": "stream",
          "text": [
            "\n",
            "epoch 4\n",
            "\ttrain_loss:0.848 valid_loss:0.836\n",
            "\ttrain_acc:62.83% valid_acc:61.36%\n",
            "\ttrain_f1:0.628 valid_f1:0.614\n",
            "\ttrain_confusion_matrix:\n",
            "[[1367  390  660]\n",
            " [ 386 1705  349]\n",
            " [ 560  367 1512]]\n",
            "\tvalid_confusion_matrix:\n",
            "[[341  90 194]\n",
            " [ 94 408  97]\n",
            " [148  83 372]]\n"
          ]
        },
        {
          "name": "stderr",
          "output_type": "stream",
          "text": [
            "  0%|          | 0/57 [00:00<?, ?it/s]/var/folders/3c/71b8pg6d7j5dht_5h_2n4n_c0000gn/T/ipykernel_8755/1114866685.py:147: UserWarning: Implicit dimension choice for log_softmax has been deprecated. Change the call to include dim=X as an argument.\n",
            "  out = torch.nn.functional.log_softmax(out)\n",
            "100%|██████████| 57/57 [00:10<00:00,  5.31it/s]\n",
            "  0%|          | 0/2 [00:00<?, ?it/s]/var/folders/3c/71b8pg6d7j5dht_5h_2n4n_c0000gn/T/ipykernel_8755/1114866685.py:147: UserWarning: Implicit dimension choice for log_softmax has been deprecated. Change the call to include dim=X as an argument.\n",
            "  out = torch.nn.functional.log_softmax(out)\n",
            "100%|██████████| 2/2 [00:00<00:00,  4.96it/s]\n"
          ]
        },
        {
          "name": "stdout",
          "output_type": "stream",
          "text": [
            "\n",
            "epoch 5\n",
            "\ttrain_loss:0.822 valid_loss:0.819\n",
            "\ttrain_acc:63.72% valid_acc:63.66%\n",
            "\ttrain_f1:0.638 valid_f1:0.637\n",
            "\ttrain_confusion_matrix:\n",
            "[[1449  352  615]\n",
            " [ 406 1690  347]\n",
            " [ 601  326 1510]]\n",
            "\tvalid_confusion_matrix:\n",
            "[[405  86 134]\n",
            " [105 407  87]\n",
            " [167  85 351]]\n"
          ]
        },
        {
          "name": "stderr",
          "output_type": "stream",
          "text": [
            "  0%|          | 0/57 [00:00<?, ?it/s]/var/folders/3c/71b8pg6d7j5dht_5h_2n4n_c0000gn/T/ipykernel_8755/1114866685.py:147: UserWarning: Implicit dimension choice for log_softmax has been deprecated. Change the call to include dim=X as an argument.\n",
            "  out = torch.nn.functional.log_softmax(out)\n",
            "100%|██████████| 57/57 [00:10<00:00,  5.21it/s]\n",
            "  0%|          | 0/2 [00:00<?, ?it/s]/var/folders/3c/71b8pg6d7j5dht_5h_2n4n_c0000gn/T/ipykernel_8755/1114866685.py:147: UserWarning: Implicit dimension choice for log_softmax has been deprecated. Change the call to include dim=X as an argument.\n",
            "  out = torch.nn.functional.log_softmax(out)\n",
            "100%|██████████| 2/2 [00:00<00:00,  4.80it/s]\n"
          ]
        },
        {
          "name": "stdout",
          "output_type": "stream",
          "text": [
            "\n",
            "epoch 6\n",
            "\ttrain_loss:0.799 valid_loss:0.806\n",
            "\ttrain_acc:65.13% valid_acc:64.42%\n",
            "\ttrain_f1:0.652 valid_f1:0.643\n",
            "\ttrain_confusion_matrix:\n",
            "[[1508  340  568]\n",
            " [ 412 1693  337]\n",
            " [ 595  292 1551]]\n",
            "\tvalid_confusion_matrix:\n",
            "[[421  96 108]\n",
            " [104 426  69]\n",
            " [180  93 330]]\n"
          ]
        },
        {
          "name": "stderr",
          "output_type": "stream",
          "text": [
            "  0%|          | 0/57 [00:00<?, ?it/s]/var/folders/3c/71b8pg6d7j5dht_5h_2n4n_c0000gn/T/ipykernel_8755/1114866685.py:147: UserWarning: Implicit dimension choice for log_softmax has been deprecated. Change the call to include dim=X as an argument.\n",
            "  out = torch.nn.functional.log_softmax(out)\n",
            "100%|██████████| 57/57 [00:10<00:00,  5.19it/s]\n",
            "  0%|          | 0/2 [00:00<?, ?it/s]/var/folders/3c/71b8pg6d7j5dht_5h_2n4n_c0000gn/T/ipykernel_8755/1114866685.py:147: UserWarning: Implicit dimension choice for log_softmax has been deprecated. Change the call to include dim=X as an argument.\n",
            "  out = torch.nn.functional.log_softmax(out)\n",
            "100%|██████████| 2/2 [00:00<00:00,  4.92it/s]\n"
          ]
        },
        {
          "name": "stdout",
          "output_type": "stream",
          "text": [
            "\n",
            "epoch 7\n",
            "\ttrain_loss:0.782 valid_loss:0.795\n",
            "\ttrain_acc:66.31% valid_acc:64.86%\n",
            "\ttrain_f1:0.664 valid_f1:0.649\n",
            "\ttrain_confusion_matrix:\n",
            "[[1575  326  515]\n",
            " [ 418 1711  313]\n",
            " [ 596  290 1552]]\n",
            "\tvalid_confusion_matrix:\n",
            "[[402  90 133]\n",
            " [ 94 415  90]\n",
            " [150  85 368]]\n"
          ]
        },
        {
          "name": "stderr",
          "output_type": "stream",
          "text": [
            "  0%|          | 0/57 [00:00<?, ?it/s]/var/folders/3c/71b8pg6d7j5dht_5h_2n4n_c0000gn/T/ipykernel_8755/1114866685.py:147: UserWarning: Implicit dimension choice for log_softmax has been deprecated. Change the call to include dim=X as an argument.\n",
            "  out = torch.nn.functional.log_softmax(out)\n",
            "100%|██████████| 57/57 [00:11<00:00,  5.00it/s]\n",
            "  0%|          | 0/2 [00:00<?, ?it/s]/var/folders/3c/71b8pg6d7j5dht_5h_2n4n_c0000gn/T/ipykernel_8755/1114866685.py:147: UserWarning: Implicit dimension choice for log_softmax has been deprecated. Change the call to include dim=X as an argument.\n",
            "  out = torch.nn.functional.log_softmax(out)\n",
            "100%|██████████| 2/2 [00:00<00:00,  4.73it/s]\n"
          ]
        },
        {
          "name": "stdout",
          "output_type": "stream",
          "text": [
            "\n",
            "epoch 8\n",
            "\ttrain_loss:0.764 valid_loss:0.785\n",
            "\ttrain_acc:67.34% valid_acc:65.74%\n",
            "\ttrain_f1:0.674 valid_f1:0.657\n",
            "\ttrain_confusion_matrix:\n",
            "[[1592  315  509]\n",
            " [ 416 1716  309]\n",
            " [ 554  280 1605]]\n",
            "\tvalid_confusion_matrix:\n",
            "[[413  86 126]\n",
            " [ 96 420  83]\n",
            " [150  85 368]]\n"
          ]
        },
        {
          "name": "stderr",
          "output_type": "stream",
          "text": [
            "  0%|          | 0/57 [00:00<?, ?it/s]/var/folders/3c/71b8pg6d7j5dht_5h_2n4n_c0000gn/T/ipykernel_8755/1114866685.py:147: UserWarning: Implicit dimension choice for log_softmax has been deprecated. Change the call to include dim=X as an argument.\n",
            "  out = torch.nn.functional.log_softmax(out)\n",
            "100%|██████████| 57/57 [00:11<00:00,  5.16it/s]\n",
            "  0%|          | 0/2 [00:00<?, ?it/s]/var/folders/3c/71b8pg6d7j5dht_5h_2n4n_c0000gn/T/ipykernel_8755/1114866685.py:147: UserWarning: Implicit dimension choice for log_softmax has been deprecated. Change the call to include dim=X as an argument.\n",
            "  out = torch.nn.functional.log_softmax(out)\n",
            "100%|██████████| 2/2 [00:00<00:00,  4.64it/s]\n"
          ]
        },
        {
          "name": "stdout",
          "output_type": "stream",
          "text": [
            "\n",
            "epoch 9\n",
            "\ttrain_loss:0.754 valid_loss:0.780\n",
            "\ttrain_acc:68.02% valid_acc:66.39%\n",
            "\ttrain_f1:0.681 valid_f1:0.664\n",
            "\ttrain_confusion_matrix:\n",
            "[[1630  305  483]\n",
            " [ 420 1707  314]\n",
            " [ 538  273 1626]]\n",
            "\tvalid_confusion_matrix:\n",
            "[[412  85 128]\n",
            " [ 92 421  86]\n",
            " [141  82 380]]\n"
          ]
        },
        {
          "name": "stderr",
          "output_type": "stream",
          "text": [
            "  0%|          | 0/57 [00:00<?, ?it/s]/var/folders/3c/71b8pg6d7j5dht_5h_2n4n_c0000gn/T/ipykernel_8755/1114866685.py:147: UserWarning: Implicit dimension choice for log_softmax has been deprecated. Change the call to include dim=X as an argument.\n",
            "  out = torch.nn.functional.log_softmax(out)\n",
            "100%|██████████| 57/57 [00:10<00:00,  5.58it/s]\n",
            "  0%|          | 0/2 [00:00<?, ?it/s]/var/folders/3c/71b8pg6d7j5dht_5h_2n4n_c0000gn/T/ipykernel_8755/1114866685.py:147: UserWarning: Implicit dimension choice for log_softmax has been deprecated. Change the call to include dim=X as an argument.\n",
            "  out = torch.nn.functional.log_softmax(out)\n",
            "100%|██████████| 2/2 [00:00<00:00,  5.08it/s]\n"
          ]
        },
        {
          "name": "stdout",
          "output_type": "stream",
          "text": [
            "\n",
            "epoch 10\n",
            "\ttrain_loss:0.739 valid_loss:0.781\n",
            "\ttrain_acc:68.49% valid_acc:67.05%\n",
            "\ttrain_f1:0.686 valid_f1:0.669\n",
            "\ttrain_confusion_matrix:\n",
            "[[1633  312  472]\n",
            " [ 418 1727  296]\n",
            " [ 527  274 1637]]\n",
            "\tvalid_confusion_matrix:\n",
            "[[423 111  91]\n",
            " [ 84 447  68]\n",
            " [138 110 355]]\n"
          ]
        },
        {
          "name": "stderr",
          "output_type": "stream",
          "text": [
            "  0%|          | 0/57 [00:00<?, ?it/s]/var/folders/3c/71b8pg6d7j5dht_5h_2n4n_c0000gn/T/ipykernel_8755/1114866685.py:147: UserWarning: Implicit dimension choice for log_softmax has been deprecated. Change the call to include dim=X as an argument.\n",
            "  out = torch.nn.functional.log_softmax(out)\n",
            "100%|██████████| 57/57 [00:10<00:00,  5.24it/s]\n",
            "  0%|          | 0/2 [00:00<?, ?it/s]/var/folders/3c/71b8pg6d7j5dht_5h_2n4n_c0000gn/T/ipykernel_8755/1114866685.py:147: UserWarning: Implicit dimension choice for log_softmax has been deprecated. Change the call to include dim=X as an argument.\n",
            "  out = torch.nn.functional.log_softmax(out)\n",
            "100%|██████████| 2/2 [00:00<00:00,  5.03it/s]\n"
          ]
        },
        {
          "name": "stdout",
          "output_type": "stream",
          "text": [
            "\n",
            "epoch 11\n",
            "\ttrain_loss:0.727 valid_loss:0.765\n",
            "\ttrain_acc:69.20% valid_acc:67.87%\n",
            "\ttrain_f1:0.693 valid_f1:0.678\n",
            "\ttrain_confusion_matrix:\n",
            "[[1644  311  460]\n",
            " [ 413 1730  300]\n",
            " [ 493  270 1675]]\n",
            "\tvalid_confusion_matrix:\n",
            "[[425  91 109]\n",
            " [ 87 433  79]\n",
            " [132  89 382]]\n"
          ]
        },
        {
          "name": "stderr",
          "output_type": "stream",
          "text": [
            "  0%|          | 0/57 [00:00<?, ?it/s]/var/folders/3c/71b8pg6d7j5dht_5h_2n4n_c0000gn/T/ipykernel_8755/1114866685.py:147: UserWarning: Implicit dimension choice for log_softmax has been deprecated. Change the call to include dim=X as an argument.\n",
            "  out = torch.nn.functional.log_softmax(out)\n",
            "100%|██████████| 57/57 [00:10<00:00,  5.26it/s]\n",
            "  0%|          | 0/2 [00:00<?, ?it/s]/var/folders/3c/71b8pg6d7j5dht_5h_2n4n_c0000gn/T/ipykernel_8755/1114866685.py:147: UserWarning: Implicit dimension choice for log_softmax has been deprecated. Change the call to include dim=X as an argument.\n",
            "  out = torch.nn.functional.log_softmax(out)\n",
            "100%|██████████| 2/2 [00:00<00:00,  4.97it/s]\n"
          ]
        },
        {
          "name": "stdout",
          "output_type": "stream",
          "text": [
            "\n",
            "epoch 12\n",
            "\ttrain_loss:0.714 valid_loss:0.763\n",
            "\ttrain_acc:70.34% valid_acc:67.10%\n",
            "\ttrain_f1:0.704 valid_f1:0.670\n",
            "\ttrain_confusion_matrix:\n",
            "[[1714  288  413]\n",
            " [ 415 1741  285]\n",
            " [ 517  246 1677]]\n",
            "\tvalid_confusion_matrix:\n",
            "[[437  93  95]\n",
            " [ 98 437  64]\n",
            " [154  97 352]]\n"
          ]
        },
        {
          "name": "stderr",
          "output_type": "stream",
          "text": [
            "  0%|          | 0/57 [00:00<?, ?it/s]/var/folders/3c/71b8pg6d7j5dht_5h_2n4n_c0000gn/T/ipykernel_8755/1114866685.py:147: UserWarning: Implicit dimension choice for log_softmax has been deprecated. Change the call to include dim=X as an argument.\n",
            "  out = torch.nn.functional.log_softmax(out)\n",
            "100%|██████████| 57/57 [00:11<00:00,  5.16it/s]\n",
            "  0%|          | 0/2 [00:00<?, ?it/s]/var/folders/3c/71b8pg6d7j5dht_5h_2n4n_c0000gn/T/ipykernel_8755/1114866685.py:147: UserWarning: Implicit dimension choice for log_softmax has been deprecated. Change the call to include dim=X as an argument.\n",
            "  out = torch.nn.functional.log_softmax(out)\n",
            "100%|██████████| 2/2 [00:00<00:00,  4.59it/s]\n"
          ]
        },
        {
          "name": "stdout",
          "output_type": "stream",
          "text": [
            "\n",
            "epoch 13\n",
            "\ttrain_loss:0.699 valid_loss:0.761\n",
            "\ttrain_acc:71.23% valid_acc:67.27%\n",
            "\ttrain_f1:0.713 valid_f1:0.671\n",
            "\ttrain_confusion_matrix:\n",
            "[[1728  279  410]\n",
            " [ 400 1763  279]\n",
            " [ 487  244 1706]]\n",
            "\tvalid_confusion_matrix:\n",
            "[[437 106  82]\n",
            " [ 92 442  65]\n",
            " [145 108 350]]\n"
          ]
        },
        {
          "name": "stderr",
          "output_type": "stream",
          "text": [
            "  0%|          | 0/57 [00:00<?, ?it/s]/var/folders/3c/71b8pg6d7j5dht_5h_2n4n_c0000gn/T/ipykernel_8755/1114866685.py:147: UserWarning: Implicit dimension choice for log_softmax has been deprecated. Change the call to include dim=X as an argument.\n",
            "  out = torch.nn.functional.log_softmax(out)\n",
            "100%|██████████| 57/57 [00:11<00:00,  5.13it/s]\n",
            "  0%|          | 0/2 [00:00<?, ?it/s]/var/folders/3c/71b8pg6d7j5dht_5h_2n4n_c0000gn/T/ipykernel_8755/1114866685.py:147: UserWarning: Implicit dimension choice for log_softmax has been deprecated. Change the call to include dim=X as an argument.\n",
            "  out = torch.nn.functional.log_softmax(out)\n",
            "100%|██████████| 2/2 [00:00<00:00,  4.27it/s]\n"
          ]
        },
        {
          "name": "stdout",
          "output_type": "stream",
          "text": [
            "\n",
            "epoch 14\n",
            "\ttrain_loss:0.687 valid_loss:0.751\n",
            "\ttrain_acc:71.86% valid_acc:67.98%\n",
            "\ttrain_f1:0.719 valid_f1:0.678\n",
            "\ttrain_confusion_matrix:\n",
            "[[1751  269  397]\n",
            " [ 394 1759  289]\n",
            " [ 462  242 1733]]\n",
            "\tvalid_confusion_matrix:\n",
            "[[443  97  85]\n",
            " [ 85 444  70]\n",
            " [147 101 355]]\n"
          ]
        },
        {
          "name": "stderr",
          "output_type": "stream",
          "text": [
            "  0%|          | 0/57 [00:00<?, ?it/s]/var/folders/3c/71b8pg6d7j5dht_5h_2n4n_c0000gn/T/ipykernel_8755/1114866685.py:147: UserWarning: Implicit dimension choice for log_softmax has been deprecated. Change the call to include dim=X as an argument.\n",
            "  out = torch.nn.functional.log_softmax(out)\n",
            "100%|██████████| 57/57 [00:10<00:00,  5.41it/s]\n",
            "  0%|          | 0/2 [00:00<?, ?it/s]/var/folders/3c/71b8pg6d7j5dht_5h_2n4n_c0000gn/T/ipykernel_8755/1114866685.py:147: UserWarning: Implicit dimension choice for log_softmax has been deprecated. Change the call to include dim=X as an argument.\n",
            "  out = torch.nn.functional.log_softmax(out)\n",
            "100%|██████████| 2/2 [00:00<00:00,  4.62it/s]\n"
          ]
        },
        {
          "name": "stdout",
          "output_type": "stream",
          "text": [
            "\n",
            "epoch 15\n",
            "\ttrain_loss:0.677 valid_loss:0.751\n",
            "\ttrain_acc:72.18% valid_acc:68.69%\n",
            "\ttrain_f1:0.722 valid_f1:0.685\n",
            "\ttrain_confusion_matrix:\n",
            "[[1783  290  343]\n",
            " [ 404 1768  271]\n",
            " [ 477  245 1715]]\n",
            "\tvalid_confusion_matrix:\n",
            "[[453 100  72]\n",
            " [ 88 450  61]\n",
            " [141 110 352]]\n"
          ]
        },
        {
          "name": "stderr",
          "output_type": "stream",
          "text": [
            "  0%|          | 0/57 [00:00<?, ?it/s]/var/folders/3c/71b8pg6d7j5dht_5h_2n4n_c0000gn/T/ipykernel_8755/1114866685.py:147: UserWarning: Implicit dimension choice for log_softmax has been deprecated. Change the call to include dim=X as an argument.\n",
            "  out = torch.nn.functional.log_softmax(out)\n",
            "100%|██████████| 57/57 [00:10<00:00,  5.44it/s]\n",
            "  0%|          | 0/2 [00:00<?, ?it/s]/var/folders/3c/71b8pg6d7j5dht_5h_2n4n_c0000gn/T/ipykernel_8755/1114866685.py:147: UserWarning: Implicit dimension choice for log_softmax has been deprecated. Change the call to include dim=X as an argument.\n",
            "  out = torch.nn.functional.log_softmax(out)\n",
            "100%|██████████| 2/2 [00:00<00:00,  4.71it/s]\n"
          ]
        },
        {
          "name": "stdout",
          "output_type": "stream",
          "text": [
            "\n",
            "epoch 16\n",
            "\ttrain_loss:0.666 valid_loss:0.738\n",
            "\ttrain_acc:72.94% valid_acc:68.97%\n",
            "\ttrain_f1:0.730 valid_f1:0.690\n",
            "\ttrain_confusion_matrix:\n",
            "[[1816  265  335]\n",
            " [ 403 1773  267]\n",
            " [ 460  244 1733]]\n",
            "\tvalid_confusion_matrix:\n",
            "[[432  88 105]\n",
            " [ 92 428  79]\n",
            " [122  81 400]]\n"
          ]
        },
        {
          "name": "stderr",
          "output_type": "stream",
          "text": [
            "  0%|          | 0/57 [00:00<?, ?it/s]/var/folders/3c/71b8pg6d7j5dht_5h_2n4n_c0000gn/T/ipykernel_8755/1114866685.py:147: UserWarning: Implicit dimension choice for log_softmax has been deprecated. Change the call to include dim=X as an argument.\n",
            "  out = torch.nn.functional.log_softmax(out)\n",
            "100%|██████████| 57/57 [00:10<00:00,  5.28it/s]\n",
            "  0%|          | 0/2 [00:00<?, ?it/s]/var/folders/3c/71b8pg6d7j5dht_5h_2n4n_c0000gn/T/ipykernel_8755/1114866685.py:147: UserWarning: Implicit dimension choice for log_softmax has been deprecated. Change the call to include dim=X as an argument.\n",
            "  out = torch.nn.functional.log_softmax(out)\n",
            "100%|██████████| 2/2 [00:00<00:00,  5.07it/s]\n"
          ]
        },
        {
          "name": "stdout",
          "output_type": "stream",
          "text": [
            "\n",
            "epoch 17\n",
            "\ttrain_loss:0.651 valid_loss:0.734\n",
            "\ttrain_acc:73.34% valid_acc:69.07%\n",
            "\ttrain_f1:0.734 valid_f1:0.690\n",
            "\ttrain_confusion_matrix:\n",
            "[[1818  267  334]\n",
            " [ 385 1784  271]\n",
            " [ 441  247 1749]]\n",
            "\tvalid_confusion_matrix:\n",
            "[[443  91  91]\n",
            " [ 84 432  83]\n",
            " [128  88 387]]\n"
          ]
        },
        {
          "name": "stderr",
          "output_type": "stream",
          "text": [
            "  0%|          | 0/57 [00:00<?, ?it/s]/var/folders/3c/71b8pg6d7j5dht_5h_2n4n_c0000gn/T/ipykernel_8755/1114866685.py:147: UserWarning: Implicit dimension choice for log_softmax has been deprecated. Change the call to include dim=X as an argument.\n",
            "  out = torch.nn.functional.log_softmax(out)\n",
            "100%|██████████| 57/57 [00:10<00:00,  5.30it/s]\n",
            "  0%|          | 0/2 [00:00<?, ?it/s]/var/folders/3c/71b8pg6d7j5dht_5h_2n4n_c0000gn/T/ipykernel_8755/1114866685.py:147: UserWarning: Implicit dimension choice for log_softmax has been deprecated. Change the call to include dim=X as an argument.\n",
            "  out = torch.nn.functional.log_softmax(out)\n",
            "100%|██████████| 2/2 [00:00<00:00,  4.95it/s]\n"
          ]
        },
        {
          "name": "stdout",
          "output_type": "stream",
          "text": [
            "\n",
            "epoch 18\n",
            "\ttrain_loss:0.636 valid_loss:0.740\n",
            "\ttrain_acc:74.37% valid_acc:69.46%\n",
            "\ttrain_f1:0.744 valid_f1:0.693\n",
            "\ttrain_confusion_matrix:\n",
            "[[1856  244  317]\n",
            " [ 386 1786  269]\n",
            " [ 424  230 1784]]\n",
            "\tvalid_confusion_matrix:\n",
            "[[448 110  67]\n",
            " [ 79 467  53]\n",
            " [123 126 354]]\n"
          ]
        },
        {
          "name": "stderr",
          "output_type": "stream",
          "text": [
            "  0%|          | 0/57 [00:00<?, ?it/s]/var/folders/3c/71b8pg6d7j5dht_5h_2n4n_c0000gn/T/ipykernel_8755/1114866685.py:147: UserWarning: Implicit dimension choice for log_softmax has been deprecated. Change the call to include dim=X as an argument.\n",
            "  out = torch.nn.functional.log_softmax(out)\n",
            "100%|██████████| 57/57 [00:10<00:00,  5.32it/s]\n",
            "  0%|          | 0/2 [00:00<?, ?it/s]/var/folders/3c/71b8pg6d7j5dht_5h_2n4n_c0000gn/T/ipykernel_8755/1114866685.py:147: UserWarning: Implicit dimension choice for log_softmax has been deprecated. Change the call to include dim=X as an argument.\n",
            "  out = torch.nn.functional.log_softmax(out)\n",
            "100%|██████████| 2/2 [00:00<00:00,  4.90it/s]\n"
          ]
        },
        {
          "name": "stdout",
          "output_type": "stream",
          "text": [
            "\n",
            "epoch 19\n",
            "\ttrain_loss:0.625 valid_loss:0.721\n",
            "\ttrain_acc:75.25% valid_acc:70.61%\n",
            "\ttrain_f1:0.753 valid_f1:0.706\n",
            "\ttrain_confusion_matrix:\n",
            "[[1866  263  285]\n",
            " [ 356 1824  263]\n",
            " [ 398  241 1800]]\n",
            "\tvalid_confusion_matrix:\n",
            "[[458  89  78]\n",
            " [ 87 440  72]\n",
            " [124  87 392]]\n",
            "Loading saved model from: model_task2.bin\n"
          ]
        },
        {
          "name": "stderr",
          "output_type": "stream",
          "text": [
            "  0%|          | 0/2 [00:00<?, ?it/s]/var/folders/3c/71b8pg6d7j5dht_5h_2n4n_c0000gn/T/ipykernel_8755/1114866685.py:147: UserWarning: Implicit dimension choice for log_softmax has been deprecated. Change the call to include dim=X as an argument.\n",
            "  out = torch.nn.functional.log_softmax(out)\n",
            "100%|██████████| 2/2 [00:00<00:00,  4.99it/s]\n"
          ]
        },
        {
          "name": "stdout",
          "output_type": "stream",
          "text": [
            "              precision    recall  f1-score   support\n",
            "\n",
            "     Neutral       0.69      0.73      0.71       625\n",
            "    Positive       0.71      0.73      0.72       599\n",
            "    Negative       0.73      0.65      0.69       603\n",
            "\n",
            "    accuracy                           0.71      1827\n",
            "   macro avg       0.71      0.71      0.71      1827\n",
            "weighted avg       0.71      0.71      0.71      1827\n",
            "\n",
            "\n",
            "******************************************************************************************\n",
            "Alpha Size: 0\n",
            "Window Size: 4\n",
            "******************************************************************************************\n",
            "\n",
            "train samples:7305\n",
            "valid samples:1827\n"
          ]
        },
        {
          "name": "stderr",
          "output_type": "stream",
          "text": [
            "  0%|          | 0/57 [00:00<?, ?it/s]/var/folders/3c/71b8pg6d7j5dht_5h_2n4n_c0000gn/T/ipykernel_8755/1114866685.py:147: UserWarning: Implicit dimension choice for log_softmax has been deprecated. Change the call to include dim=X as an argument.\n",
            "  out = torch.nn.functional.log_softmax(out)\n",
            "100%|██████████| 57/57 [00:11<00:00,  4.96it/s]\n",
            "  0%|          | 0/2 [00:00<?, ?it/s]/var/folders/3c/71b8pg6d7j5dht_5h_2n4n_c0000gn/T/ipykernel_8755/1114866685.py:147: UserWarning: Implicit dimension choice for log_softmax has been deprecated. Change the call to include dim=X as an argument.\n",
            "  out = torch.nn.functional.log_softmax(out)\n",
            "100%|██████████| 2/2 [00:00<00:00,  4.12it/s]\n"
          ]
        },
        {
          "name": "stdout",
          "output_type": "stream",
          "text": [
            "\n",
            "epoch 0\n",
            "\ttrain_loss:1.088 valid_loss:1.075\n",
            "\ttrain_acc:43.27% valid_acc:53.09%\n",
            "\ttrain_f1:0.413 valid_f1:0.531\n",
            "\ttrain_confusion_matrix:\n",
            "[[1753  158  520]\n",
            " [1360  644  429]\n",
            " [1416  256  760]]\n",
            "\tvalid_confusion_matrix:\n",
            "[[319 119 171]\n",
            " [147 356 106]\n",
            " [166 148 295]]\n"
          ]
        },
        {
          "name": "stderr",
          "output_type": "stream",
          "text": [
            "  0%|          | 0/57 [00:00<?, ?it/s]/var/folders/3c/71b8pg6d7j5dht_5h_2n4n_c0000gn/T/ipykernel_8755/1114866685.py:147: UserWarning: Implicit dimension choice for log_softmax has been deprecated. Change the call to include dim=X as an argument.\n",
            "  out = torch.nn.functional.log_softmax(out)\n",
            "100%|██████████| 57/57 [00:11<00:00,  4.88it/s]\n",
            "  0%|          | 0/2 [00:00<?, ?it/s]/var/folders/3c/71b8pg6d7j5dht_5h_2n4n_c0000gn/T/ipykernel_8755/1114866685.py:147: UserWarning: Implicit dimension choice for log_softmax has been deprecated. Change the call to include dim=X as an argument.\n",
            "  out = torch.nn.functional.log_softmax(out)\n",
            "100%|██████████| 2/2 [00:00<00:00,  4.43it/s]\n"
          ]
        },
        {
          "name": "stdout",
          "output_type": "stream",
          "text": [
            "\n",
            "epoch 1\n",
            "\ttrain_loss:1.049 valid_loss:1.016\n",
            "\ttrain_acc:56.70% valid_acc:55.88%\n",
            "\ttrain_f1:0.565 valid_f1:0.547\n",
            "\ttrain_confusion_matrix:\n",
            "[[1186  509  738]\n",
            " [ 356 1603  473]\n",
            " [ 545  538 1348]]\n",
            "\tvalid_confusion_matrix:\n",
            "[[213 182 214]\n",
            " [ 58 443 108]\n",
            " [ 77 167 365]]\n"
          ]
        },
        {
          "name": "stderr",
          "output_type": "stream",
          "text": [
            "  0%|          | 0/57 [00:00<?, ?it/s]/var/folders/3c/71b8pg6d7j5dht_5h_2n4n_c0000gn/T/ipykernel_8755/1114866685.py:147: UserWarning: Implicit dimension choice for log_softmax has been deprecated. Change the call to include dim=X as an argument.\n",
            "  out = torch.nn.functional.log_softmax(out)\n",
            "100%|██████████| 57/57 [00:11<00:00,  4.87it/s]\n",
            "  0%|          | 0/2 [00:00<?, ?it/s]/var/folders/3c/71b8pg6d7j5dht_5h_2n4n_c0000gn/T/ipykernel_8755/1114866685.py:147: UserWarning: Implicit dimension choice for log_softmax has been deprecated. Change the call to include dim=X as an argument.\n",
            "  out = torch.nn.functional.log_softmax(out)\n",
            "100%|██████████| 2/2 [00:00<00:00,  4.28it/s]\n"
          ]
        },
        {
          "name": "stdout",
          "output_type": "stream",
          "text": [
            "\n",
            "epoch 2\n",
            "\ttrain_loss:0.950 valid_loss:0.894\n",
            "\ttrain_acc:58.11% valid_acc:60.15%\n",
            "\ttrain_f1:0.571 valid_f1:0.598\n",
            "\ttrain_confusion_matrix:\n",
            "[[ 922  626  886]\n",
            " [ 236 1775  423]\n",
            " [ 312  573 1543]]\n",
            "\tvalid_confusion_matrix:\n",
            "[[287 132 190]\n",
            " [ 83 432  94]\n",
            " [133  96 380]]\n"
          ]
        },
        {
          "name": "stderr",
          "output_type": "stream",
          "text": [
            "  0%|          | 0/57 [00:00<?, ?it/s]/var/folders/3c/71b8pg6d7j5dht_5h_2n4n_c0000gn/T/ipykernel_8755/1114866685.py:147: UserWarning: Implicit dimension choice for log_softmax has been deprecated. Change the call to include dim=X as an argument.\n",
            "  out = torch.nn.functional.log_softmax(out)\n",
            "100%|██████████| 57/57 [00:11<00:00,  4.92it/s]\n",
            "  0%|          | 0/2 [00:00<?, ?it/s]/var/folders/3c/71b8pg6d7j5dht_5h_2n4n_c0000gn/T/ipykernel_8755/1114866685.py:147: UserWarning: Implicit dimension choice for log_softmax has been deprecated. Change the call to include dim=X as an argument.\n",
            "  out = torch.nn.functional.log_softmax(out)\n",
            "100%|██████████| 2/2 [00:00<00:00,  4.67it/s]\n"
          ]
        },
        {
          "name": "stdout",
          "output_type": "stream",
          "text": [
            "\n",
            "epoch 3\n",
            "\ttrain_loss:0.854 valid_loss:0.837\n",
            "\ttrain_acc:62.60% valid_acc:64.37%\n",
            "\ttrain_f1:0.624 valid_f1:0.644\n",
            "\ttrain_confusion_matrix:\n",
            "[[1298  443  691]\n",
            " [ 361 1739  333]\n",
            " [ 524  377 1530]]\n",
            "\tvalid_confusion_matrix:\n",
            "[[372  97 140]\n",
            " [104 426  79]\n",
            " [159  72 378]]\n"
          ]
        },
        {
          "name": "stderr",
          "output_type": "stream",
          "text": [
            "  0%|          | 0/57 [00:00<?, ?it/s]/var/folders/3c/71b8pg6d7j5dht_5h_2n4n_c0000gn/T/ipykernel_8755/1114866685.py:147: UserWarning: Implicit dimension choice for log_softmax has been deprecated. Change the call to include dim=X as an argument.\n",
            "  out = torch.nn.functional.log_softmax(out)\n",
            "100%|██████████| 57/57 [00:11<00:00,  4.91it/s]\n",
            "  0%|          | 0/2 [00:00<?, ?it/s]/var/folders/3c/71b8pg6d7j5dht_5h_2n4n_c0000gn/T/ipykernel_8755/1114866685.py:147: UserWarning: Implicit dimension choice for log_softmax has been deprecated. Change the call to include dim=X as an argument.\n",
            "  out = torch.nn.functional.log_softmax(out)\n",
            "100%|██████████| 2/2 [00:00<00:00,  4.29it/s]\n"
          ]
        },
        {
          "name": "stdout",
          "output_type": "stream",
          "text": [
            "\n",
            "epoch 4\n",
            "\ttrain_loss:0.807 valid_loss:0.809\n",
            "\ttrain_acc:65.05% valid_acc:65.85%\n",
            "\ttrain_f1:0.650 valid_f1:0.658\n",
            "\ttrain_confusion_matrix:\n",
            "[[1428  381  623]\n",
            " [ 406 1722  305]\n",
            " [ 542  293 1596]]\n",
            "\tvalid_confusion_matrix:\n",
            "[[343  89 177]\n",
            " [ 99 418  92]\n",
            " [125  42 442]]\n"
          ]
        },
        {
          "name": "stderr",
          "output_type": "stream",
          "text": [
            "  0%|          | 0/57 [00:00<?, ?it/s]/var/folders/3c/71b8pg6d7j5dht_5h_2n4n_c0000gn/T/ipykernel_8755/1114866685.py:147: UserWarning: Implicit dimension choice for log_softmax has been deprecated. Change the call to include dim=X as an argument.\n",
            "  out = torch.nn.functional.log_softmax(out)\n",
            "100%|██████████| 57/57 [00:11<00:00,  5.02it/s]\n",
            "  0%|          | 0/2 [00:00<?, ?it/s]/var/folders/3c/71b8pg6d7j5dht_5h_2n4n_c0000gn/T/ipykernel_8755/1114866685.py:147: UserWarning: Implicit dimension choice for log_softmax has been deprecated. Change the call to include dim=X as an argument.\n",
            "  out = torch.nn.functional.log_softmax(out)\n",
            "100%|██████████| 2/2 [00:00<00:00,  4.48it/s]\n"
          ]
        },
        {
          "name": "stdout",
          "output_type": "stream",
          "text": [
            "\n",
            "epoch 5\n",
            "\ttrain_loss:0.779 valid_loss:0.788\n",
            "\ttrain_acc:66.13% valid_acc:66.39%\n",
            "\ttrain_f1:0.662 valid_f1:0.666\n",
            "\ttrain_confusion_matrix:\n",
            "[[1472  355  607]\n",
            " [ 419 1738  275]\n",
            " [ 551  264 1615]]\n",
            "\tvalid_confusion_matrix:\n",
            "[[387  83 139]\n",
            " [116 419  74]\n",
            " [154  48 407]]\n"
          ]
        },
        {
          "name": "stderr",
          "output_type": "stream",
          "text": [
            "  0%|          | 0/57 [00:00<?, ?it/s]/var/folders/3c/71b8pg6d7j5dht_5h_2n4n_c0000gn/T/ipykernel_8755/1114866685.py:147: UserWarning: Implicit dimension choice for log_softmax has been deprecated. Change the call to include dim=X as an argument.\n",
            "  out = torch.nn.functional.log_softmax(out)\n",
            "100%|██████████| 57/57 [00:11<00:00,  4.77it/s]\n",
            "  0%|          | 0/2 [00:00<?, ?it/s]/var/folders/3c/71b8pg6d7j5dht_5h_2n4n_c0000gn/T/ipykernel_8755/1114866685.py:147: UserWarning: Implicit dimension choice for log_softmax has been deprecated. Change the call to include dim=X as an argument.\n",
            "  out = torch.nn.functional.log_softmax(out)\n",
            "100%|██████████| 2/2 [00:00<00:00,  4.21it/s]\n"
          ]
        },
        {
          "name": "stdout",
          "output_type": "stream",
          "text": [
            "\n",
            "epoch 6\n",
            "\ttrain_loss:0.755 valid_loss:0.777\n",
            "\ttrain_acc:68.04% valid_acc:67.49%\n",
            "\ttrain_f1:0.681 valid_f1:0.675\n",
            "\ttrain_confusion_matrix:\n",
            "[[1530  326  578]\n",
            " [ 399 1765  269]\n",
            " [ 504  256 1669]]\n",
            "\tvalid_confusion_matrix:\n",
            "[[369  93 147]\n",
            " [102 429  78]\n",
            " [130  44 435]]\n"
          ]
        },
        {
          "name": "stderr",
          "output_type": "stream",
          "text": [
            "  0%|          | 0/57 [00:00<?, ?it/s]/var/folders/3c/71b8pg6d7j5dht_5h_2n4n_c0000gn/T/ipykernel_8755/1114866685.py:147: UserWarning: Implicit dimension choice for log_softmax has been deprecated. Change the call to include dim=X as an argument.\n",
            "  out = torch.nn.functional.log_softmax(out)\n",
            "100%|██████████| 57/57 [00:11<00:00,  5.03it/s]\n",
            "  0%|          | 0/2 [00:00<?, ?it/s]/var/folders/3c/71b8pg6d7j5dht_5h_2n4n_c0000gn/T/ipykernel_8755/1114866685.py:147: UserWarning: Implicit dimension choice for log_softmax has been deprecated. Change the call to include dim=X as an argument.\n",
            "  out = torch.nn.functional.log_softmax(out)\n",
            "100%|██████████| 2/2 [00:00<00:00,  4.39it/s]\n"
          ]
        },
        {
          "name": "stdout",
          "output_type": "stream",
          "text": [
            "\n",
            "epoch 7\n",
            "\ttrain_loss:0.733 valid_loss:0.763\n",
            "\ttrain_acc:68.86% valid_acc:68.25%\n",
            "\ttrain_f1:0.689 valid_f1:0.682\n",
            "\ttrain_confusion_matrix:\n",
            "[[1594  315  526]\n",
            " [ 406 1768  257]\n",
            " [ 523  245 1662]]\n",
            "\tvalid_confusion_matrix:\n",
            "[[354  90 165]\n",
            " [ 97 427  85]\n",
            " [103  40 466]]\n"
          ]
        },
        {
          "name": "stderr",
          "output_type": "stream",
          "text": [
            "  0%|          | 0/57 [00:00<?, ?it/s]/var/folders/3c/71b8pg6d7j5dht_5h_2n4n_c0000gn/T/ipykernel_8755/1114866685.py:147: UserWarning: Implicit dimension choice for log_softmax has been deprecated. Change the call to include dim=X as an argument.\n",
            "  out = torch.nn.functional.log_softmax(out)\n",
            "100%|██████████| 57/57 [00:11<00:00,  5.13it/s]\n",
            "  0%|          | 0/2 [00:00<?, ?it/s]/var/folders/3c/71b8pg6d7j5dht_5h_2n4n_c0000gn/T/ipykernel_8755/1114866685.py:147: UserWarning: Implicit dimension choice for log_softmax has been deprecated. Change the call to include dim=X as an argument.\n",
            "  out = torch.nn.functional.log_softmax(out)\n",
            "100%|██████████| 2/2 [00:00<00:00,  3.78it/s]\n"
          ]
        },
        {
          "name": "stdout",
          "output_type": "stream",
          "text": [
            "\n",
            "epoch 8\n",
            "\ttrain_loss:0.714 valid_loss:0.749\n",
            "\ttrain_acc:69.74% valid_acc:69.18%\n",
            "\ttrain_f1:0.698 valid_f1:0.693\n",
            "\ttrain_confusion_matrix:\n",
            "[[1620  302  509]\n",
            " [ 394 1777  262]\n",
            " [ 505  236 1691]]\n",
            "\tvalid_confusion_matrix:\n",
            "[[420  84 105]\n",
            " [117 428  64]\n",
            " [143  50 416]]\n"
          ]
        },
        {
          "name": "stderr",
          "output_type": "stream",
          "text": [
            "  0%|          | 0/57 [00:00<?, ?it/s]/var/folders/3c/71b8pg6d7j5dht_5h_2n4n_c0000gn/T/ipykernel_8755/1114866685.py:147: UserWarning: Implicit dimension choice for log_softmax has been deprecated. Change the call to include dim=X as an argument.\n",
            "  out = torch.nn.functional.log_softmax(out)\n",
            "100%|██████████| 57/57 [00:11<00:00,  5.18it/s]\n",
            "  0%|          | 0/2 [00:00<?, ?it/s]/var/folders/3c/71b8pg6d7j5dht_5h_2n4n_c0000gn/T/ipykernel_8755/1114866685.py:147: UserWarning: Implicit dimension choice for log_softmax has been deprecated. Change the call to include dim=X as an argument.\n",
            "  out = torch.nn.functional.log_softmax(out)\n",
            "100%|██████████| 2/2 [00:00<00:00,  4.43it/s]\n"
          ]
        },
        {
          "name": "stdout",
          "output_type": "stream",
          "text": [
            "\n",
            "epoch 9\n",
            "\ttrain_loss:0.691 valid_loss:0.730\n",
            "\ttrain_acc:71.23% valid_acc:70.17%\n",
            "\ttrain_f1:0.713 valid_f1:0.702\n",
            "\ttrain_confusion_matrix:\n",
            "[[1661  298  472]\n",
            " [ 371 1812  251]\n",
            " [ 473  234 1724]]\n",
            "\tvalid_confusion_matrix:\n",
            "[[404  74 131]\n",
            " [105 426  78]\n",
            " [113  44 452]]\n"
          ]
        },
        {
          "name": "stderr",
          "output_type": "stream",
          "text": [
            "  0%|          | 0/57 [00:00<?, ?it/s]/var/folders/3c/71b8pg6d7j5dht_5h_2n4n_c0000gn/T/ipykernel_8755/1114866685.py:147: UserWarning: Implicit dimension choice for log_softmax has been deprecated. Change the call to include dim=X as an argument.\n",
            "  out = torch.nn.functional.log_softmax(out)\n",
            "100%|██████████| 57/57 [00:11<00:00,  4.84it/s]\n",
            "  0%|          | 0/2 [00:00<?, ?it/s]/var/folders/3c/71b8pg6d7j5dht_5h_2n4n_c0000gn/T/ipykernel_8755/1114866685.py:147: UserWarning: Implicit dimension choice for log_softmax has been deprecated. Change the call to include dim=X as an argument.\n",
            "  out = torch.nn.functional.log_softmax(out)\n",
            "100%|██████████| 2/2 [00:00<00:00,  4.48it/s]\n"
          ]
        },
        {
          "name": "stdout",
          "output_type": "stream",
          "text": [
            "\n",
            "epoch 10\n",
            "\ttrain_loss:0.673 valid_loss:0.724\n",
            "\ttrain_acc:72.08% valid_acc:70.06%\n",
            "\ttrain_f1:0.721 valid_f1:0.701\n",
            "\ttrain_confusion_matrix:\n",
            "[[1710  273  451]\n",
            " [ 369 1799  262]\n",
            " [ 464  218 1750]]\n",
            "\tvalid_confusion_matrix:\n",
            "[[418  91 100]\n",
            " [ 98 442  69]\n",
            " [124  65 420]]\n"
          ]
        },
        {
          "name": "stderr",
          "output_type": "stream",
          "text": [
            "  0%|          | 0/57 [00:00<?, ?it/s]/var/folders/3c/71b8pg6d7j5dht_5h_2n4n_c0000gn/T/ipykernel_8755/1114866685.py:147: UserWarning: Implicit dimension choice for log_softmax has been deprecated. Change the call to include dim=X as an argument.\n",
            "  out = torch.nn.functional.log_softmax(out)\n",
            "100%|██████████| 57/57 [00:11<00:00,  5.02it/s]\n",
            "  0%|          | 0/2 [00:00<?, ?it/s]/var/folders/3c/71b8pg6d7j5dht_5h_2n4n_c0000gn/T/ipykernel_8755/1114866685.py:147: UserWarning: Implicit dimension choice for log_softmax has been deprecated. Change the call to include dim=X as an argument.\n",
            "  out = torch.nn.functional.log_softmax(out)\n",
            "100%|██████████| 2/2 [00:00<00:00,  4.73it/s]\n"
          ]
        },
        {
          "name": "stdout",
          "output_type": "stream",
          "text": [
            "\n",
            "epoch 11\n",
            "\ttrain_loss:0.650 valid_loss:0.708\n",
            "\ttrain_acc:73.26% valid_acc:71.54%\n",
            "\ttrain_f1:0.733 valid_f1:0.716\n",
            "\ttrain_confusion_matrix:\n",
            "[[1762  271  402]\n",
            " [ 358 1827  244]\n",
            " [ 453  223 1756]]\n",
            "\tvalid_confusion_matrix:\n",
            "[[429  73 107]\n",
            " [100 432  77]\n",
            " [114  49 446]]\n"
          ]
        },
        {
          "name": "stderr",
          "output_type": "stream",
          "text": [
            "  0%|          | 0/57 [00:00<?, ?it/s]/var/folders/3c/71b8pg6d7j5dht_5h_2n4n_c0000gn/T/ipykernel_8755/1114866685.py:147: UserWarning: Implicit dimension choice for log_softmax has been deprecated. Change the call to include dim=X as an argument.\n",
            "  out = torch.nn.functional.log_softmax(out)\n",
            "100%|██████████| 57/57 [00:12<00:00,  4.68it/s]\n",
            "  0%|          | 0/2 [00:00<?, ?it/s]/var/folders/3c/71b8pg6d7j5dht_5h_2n4n_c0000gn/T/ipykernel_8755/1114866685.py:147: UserWarning: Implicit dimension choice for log_softmax has been deprecated. Change the call to include dim=X as an argument.\n",
            "  out = torch.nn.functional.log_softmax(out)\n",
            "100%|██████████| 2/2 [00:00<00:00,  4.02it/s]\n"
          ]
        },
        {
          "name": "stdout",
          "output_type": "stream",
          "text": [
            "\n",
            "epoch 12\n",
            "\ttrain_loss:0.631 valid_loss:0.700\n",
            "\ttrain_acc:74.47% valid_acc:71.87%\n",
            "\ttrain_f1:0.745 valid_f1:0.719\n",
            "\ttrain_confusion_matrix:\n",
            "[[1797  276  360]\n",
            " [ 338 1853  241]\n",
            " [ 421  227 1783]]\n",
            "\tvalid_confusion_matrix:\n",
            "[[438  64 107]\n",
            " [101 433  75]\n",
            " [116  51 442]]\n"
          ]
        },
        {
          "name": "stderr",
          "output_type": "stream",
          "text": [
            "  0%|          | 0/57 [00:00<?, ?it/s]/var/folders/3c/71b8pg6d7j5dht_5h_2n4n_c0000gn/T/ipykernel_8755/1114866685.py:147: UserWarning: Implicit dimension choice for log_softmax has been deprecated. Change the call to include dim=X as an argument.\n",
            "  out = torch.nn.functional.log_softmax(out)\n",
            "100%|██████████| 57/57 [00:11<00:00,  5.00it/s]\n",
            "  0%|          | 0/2 [00:00<?, ?it/s]/var/folders/3c/71b8pg6d7j5dht_5h_2n4n_c0000gn/T/ipykernel_8755/1114866685.py:147: UserWarning: Implicit dimension choice for log_softmax has been deprecated. Change the call to include dim=X as an argument.\n",
            "  out = torch.nn.functional.log_softmax(out)\n",
            "100%|██████████| 2/2 [00:00<00:00,  4.34it/s]\n"
          ]
        },
        {
          "name": "stdout",
          "output_type": "stream",
          "text": [
            "\n",
            "epoch 13\n",
            "\ttrain_loss:0.614 valid_loss:0.699\n",
            "\ttrain_acc:75.55% valid_acc:72.03%\n",
            "\ttrain_f1:0.756 valid_f1:0.720\n",
            "\ttrain_confusion_matrix:\n",
            "[[1842  253  337]\n",
            " [ 344 1854  234]\n",
            " [ 404  212 1816]]\n",
            "\tvalid_confusion_matrix:\n",
            "[[400  85 124]\n",
            " [ 82 440  87]\n",
            " [ 78  55 476]]\n"
          ]
        },
        {
          "name": "stderr",
          "output_type": "stream",
          "text": [
            "  0%|          | 0/57 [00:00<?, ?it/s]/var/folders/3c/71b8pg6d7j5dht_5h_2n4n_c0000gn/T/ipykernel_8755/1114866685.py:147: UserWarning: Implicit dimension choice for log_softmax has been deprecated. Change the call to include dim=X as an argument.\n",
            "  out = torch.nn.functional.log_softmax(out)\n",
            "100%|██████████| 57/57 [00:10<00:00,  5.36it/s]\n",
            "  0%|          | 0/2 [00:00<?, ?it/s]/var/folders/3c/71b8pg6d7j5dht_5h_2n4n_c0000gn/T/ipykernel_8755/1114866685.py:147: UserWarning: Implicit dimension choice for log_softmax has been deprecated. Change the call to include dim=X as an argument.\n",
            "  out = torch.nn.functional.log_softmax(out)\n",
            "100%|██████████| 2/2 [00:00<00:00,  4.39it/s]\n"
          ]
        },
        {
          "name": "stdout",
          "output_type": "stream",
          "text": [
            "\n",
            "epoch 14\n",
            "\ttrain_loss:0.590 valid_loss:0.690\n",
            "\ttrain_acc:76.86% valid_acc:72.52%\n",
            "\ttrain_f1:0.769 valid_f1:0.726\n",
            "\ttrain_confusion_matrix:\n",
            "[[1881  239  313]\n",
            " [ 329 1882  221]\n",
            " [ 383  203 1845]]\n",
            "\tvalid_confusion_matrix:\n",
            "[[442  65 102]\n",
            " [ 99 430  80]\n",
            " [110  46 453]]\n"
          ]
        },
        {
          "name": "stderr",
          "output_type": "stream",
          "text": [
            "  0%|          | 0/57 [00:00<?, ?it/s]/var/folders/3c/71b8pg6d7j5dht_5h_2n4n_c0000gn/T/ipykernel_8755/1114866685.py:147: UserWarning: Implicit dimension choice for log_softmax has been deprecated. Change the call to include dim=X as an argument.\n",
            "  out = torch.nn.functional.log_softmax(out)\n",
            "100%|██████████| 57/57 [00:10<00:00,  5.34it/s]\n",
            "  0%|          | 0/2 [00:00<?, ?it/s]/var/folders/3c/71b8pg6d7j5dht_5h_2n4n_c0000gn/T/ipykernel_8755/1114866685.py:147: UserWarning: Implicit dimension choice for log_softmax has been deprecated. Change the call to include dim=X as an argument.\n",
            "  out = torch.nn.functional.log_softmax(out)\n",
            "100%|██████████| 2/2 [00:00<00:00,  4.48it/s]\n"
          ]
        },
        {
          "name": "stdout",
          "output_type": "stream",
          "text": [
            "\n",
            "epoch 15\n",
            "\ttrain_loss:0.573 valid_loss:0.689\n",
            "\ttrain_acc:77.54% valid_acc:73.34%\n",
            "\ttrain_f1:0.776 valid_f1:0.734\n",
            "\ttrain_confusion_matrix:\n",
            "[[1905  241  287]\n",
            " [ 314 1886  231]\n",
            " [ 370  196 1866]]\n",
            "\tvalid_confusion_matrix:\n",
            "[[444  61 104]\n",
            " [ 91 431  87]\n",
            " [102  42 465]]\n"
          ]
        },
        {
          "name": "stderr",
          "output_type": "stream",
          "text": [
            "  0%|          | 0/57 [00:00<?, ?it/s]/var/folders/3c/71b8pg6d7j5dht_5h_2n4n_c0000gn/T/ipykernel_8755/1114866685.py:147: UserWarning: Implicit dimension choice for log_softmax has been deprecated. Change the call to include dim=X as an argument.\n",
            "  out = torch.nn.functional.log_softmax(out)\n",
            "100%|██████████| 57/57 [00:10<00:00,  5.46it/s]\n",
            "  0%|          | 0/2 [00:00<?, ?it/s]/var/folders/3c/71b8pg6d7j5dht_5h_2n4n_c0000gn/T/ipykernel_8755/1114866685.py:147: UserWarning: Implicit dimension choice for log_softmax has been deprecated. Change the call to include dim=X as an argument.\n",
            "  out = torch.nn.functional.log_softmax(out)\n",
            "100%|██████████| 2/2 [00:00<00:00,  4.55it/s]\n"
          ]
        },
        {
          "name": "stdout",
          "output_type": "stream",
          "text": [
            "\n",
            "epoch 16\n",
            "\ttrain_loss:0.553 valid_loss:0.682\n",
            "\ttrain_acc:78.66% valid_acc:72.58%\n",
            "\ttrain_f1:0.787 valid_f1:0.726\n",
            "\ttrain_confusion_matrix:\n",
            "[[1910  253  271]\n",
            " [ 302 1908  222]\n",
            " [ 335  174 1921]]\n",
            "\tvalid_confusion_matrix:\n",
            "[[472  59  78]\n",
            " [114 421  74]\n",
            " [129  47 433]]\n"
          ]
        },
        {
          "name": "stderr",
          "output_type": "stream",
          "text": [
            "  0%|          | 0/57 [00:00<?, ?it/s]/var/folders/3c/71b8pg6d7j5dht_5h_2n4n_c0000gn/T/ipykernel_8755/1114866685.py:147: UserWarning: Implicit dimension choice for log_softmax has been deprecated. Change the call to include dim=X as an argument.\n",
            "  out = torch.nn.functional.log_softmax(out)\n",
            "100%|██████████| 57/57 [00:10<00:00,  5.29it/s]\n",
            "  0%|          | 0/2 [00:00<?, ?it/s]/var/folders/3c/71b8pg6d7j5dht_5h_2n4n_c0000gn/T/ipykernel_8755/1114866685.py:147: UserWarning: Implicit dimension choice for log_softmax has been deprecated. Change the call to include dim=X as an argument.\n",
            "  out = torch.nn.functional.log_softmax(out)\n",
            "100%|██████████| 2/2 [00:00<00:00,  4.73it/s]\n"
          ]
        },
        {
          "name": "stdout",
          "output_type": "stream",
          "text": [
            "\n",
            "epoch 17\n",
            "\ttrain_loss:0.541 valid_loss:0.669\n",
            "\ttrain_acc:79.59% valid_acc:74.66%\n",
            "\ttrain_f1:0.796 valid_f1:0.747\n",
            "\ttrain_confusion_matrix:\n",
            "[[1955  244  233]\n",
            " [ 292 1925  217]\n",
            " [ 334  169 1927]]\n",
            "\tvalid_confusion_matrix:\n",
            "[[473  50  86]\n",
            " [ 94 438  77]\n",
            " [105  51 453]]\n"
          ]
        },
        {
          "name": "stderr",
          "output_type": "stream",
          "text": [
            "  0%|          | 0/57 [00:00<?, ?it/s]/var/folders/3c/71b8pg6d7j5dht_5h_2n4n_c0000gn/T/ipykernel_8755/1114866685.py:147: UserWarning: Implicit dimension choice for log_softmax has been deprecated. Change the call to include dim=X as an argument.\n",
            "  out = torch.nn.functional.log_softmax(out)\n",
            "100%|██████████| 57/57 [00:10<00:00,  5.24it/s]\n",
            "  0%|          | 0/2 [00:00<?, ?it/s]/var/folders/3c/71b8pg6d7j5dht_5h_2n4n_c0000gn/T/ipykernel_8755/1114866685.py:147: UserWarning: Implicit dimension choice for log_softmax has been deprecated. Change the call to include dim=X as an argument.\n",
            "  out = torch.nn.functional.log_softmax(out)\n",
            "100%|██████████| 2/2 [00:00<00:00,  4.65it/s]\n"
          ]
        },
        {
          "name": "stdout",
          "output_type": "stream",
          "text": [
            "\n",
            "epoch 18\n",
            "\ttrain_loss:0.524 valid_loss:0.672\n",
            "\ttrain_acc:80.13% valid_acc:74.60%\n",
            "\ttrain_f1:0.801 valid_f1:0.746\n",
            "\ttrain_confusion_matrix:\n",
            "[[1984  211  237]\n",
            " [ 287 1925  220]\n",
            " [ 319  176 1937]]\n",
            "\tvalid_confusion_matrix:\n",
            "[[478  57  74]\n",
            " [ 95 436  78]\n",
            " [111  49 449]]\n"
          ]
        },
        {
          "name": "stderr",
          "output_type": "stream",
          "text": [
            "  0%|          | 0/57 [00:00<?, ?it/s]/var/folders/3c/71b8pg6d7j5dht_5h_2n4n_c0000gn/T/ipykernel_8755/1114866685.py:147: UserWarning: Implicit dimension choice for log_softmax has been deprecated. Change the call to include dim=X as an argument.\n",
            "  out = torch.nn.functional.log_softmax(out)\n",
            "100%|██████████| 57/57 [00:11<00:00,  5.16it/s]\n",
            "  0%|          | 0/2 [00:00<?, ?it/s]/var/folders/3c/71b8pg6d7j5dht_5h_2n4n_c0000gn/T/ipykernel_8755/1114866685.py:147: UserWarning: Implicit dimension choice for log_softmax has been deprecated. Change the call to include dim=X as an argument.\n",
            "  out = torch.nn.functional.log_softmax(out)\n",
            "100%|██████████| 2/2 [00:00<00:00,  4.59it/s]\n"
          ]
        },
        {
          "name": "stdout",
          "output_type": "stream",
          "text": [
            "\n",
            "epoch 19\n",
            "\ttrain_loss:0.503 valid_loss:0.666\n",
            "\ttrain_acc:81.07% valid_acc:74.11%\n",
            "\ttrain_f1:0.811 valid_f1:0.741\n",
            "\ttrain_confusion_matrix:\n",
            "[[1994  217  222]\n",
            " [ 266 1958  208]\n",
            " [ 292  176 1963]]\n",
            "\tvalid_confusion_matrix:\n",
            "[[475  72  62]\n",
            " [ 91 448  70]\n",
            " [110  68 431]]\n",
            "Loading saved model from: model_task2.bin\n"
          ]
        },
        {
          "name": "stderr",
          "output_type": "stream",
          "text": [
            "  0%|          | 0/2 [00:00<?, ?it/s]/var/folders/3c/71b8pg6d7j5dht_5h_2n4n_c0000gn/T/ipykernel_8755/1114866685.py:147: UserWarning: Implicit dimension choice for log_softmax has been deprecated. Change the call to include dim=X as an argument.\n",
            "  out = torch.nn.functional.log_softmax(out)\n",
            "100%|██████████| 2/2 [00:00<00:00,  4.96it/s]\n"
          ]
        },
        {
          "name": "stdout",
          "output_type": "stream",
          "text": [
            "              precision    recall  f1-score   support\n",
            "\n",
            "     Neutral       0.71      0.80      0.75       609\n",
            "    Positive       0.78      0.74      0.76       609\n",
            "    Negative       0.77      0.71      0.74       609\n",
            "\n",
            "    accuracy                           0.75      1827\n",
            "   macro avg       0.75      0.75      0.75      1827\n",
            "weighted avg       0.75      0.75      0.75      1827\n",
            "\n",
            "\n",
            "******************************************************************************************\n",
            "Alpha Size: 0\n",
            "Window Size: 8\n",
            "******************************************************************************************\n",
            "\n",
            "train samples:7305\n",
            "valid samples:1827\n"
          ]
        },
        {
          "name": "stderr",
          "output_type": "stream",
          "text": [
            "  0%|          | 0/57 [00:00<?, ?it/s]/var/folders/3c/71b8pg6d7j5dht_5h_2n4n_c0000gn/T/ipykernel_8755/1114866685.py:147: UserWarning: Implicit dimension choice for log_softmax has been deprecated. Change the call to include dim=X as an argument.\n",
            "  out = torch.nn.functional.log_softmax(out)\n",
            "100%|██████████| 57/57 [00:12<00:00,  4.51it/s]\n",
            "  0%|          | 0/2 [00:00<?, ?it/s]/var/folders/3c/71b8pg6d7j5dht_5h_2n4n_c0000gn/T/ipykernel_8755/1114866685.py:147: UserWarning: Implicit dimension choice for log_softmax has been deprecated. Change the call to include dim=X as an argument.\n",
            "  out = torch.nn.functional.log_softmax(out)\n",
            "100%|██████████| 2/2 [00:00<00:00,  3.34it/s]\n"
          ]
        },
        {
          "name": "stdout",
          "output_type": "stream",
          "text": [
            "\n",
            "epoch 0\n",
            "\ttrain_loss:1.089 valid_loss:1.075\n",
            "\ttrain_acc:42.16% valid_acc:51.18%\n",
            "\ttrain_f1:0.387 valid_f1:0.507\n",
            "\ttrain_confusion_matrix:\n",
            "[[1847  357  254]\n",
            " [1360  859  204]\n",
            " [1657  388  370]]\n",
            "\tvalid_confusion_matrix:\n",
            "[[364 122  97]\n",
            " [188 348  80]\n",
            " [280 125 223]]\n"
          ]
        },
        {
          "name": "stderr",
          "output_type": "stream",
          "text": [
            "  0%|          | 0/57 [00:00<?, ?it/s]/var/folders/3c/71b8pg6d7j5dht_5h_2n4n_c0000gn/T/ipykernel_8755/1114866685.py:147: UserWarning: Implicit dimension choice for log_softmax has been deprecated. Change the call to include dim=X as an argument.\n",
            "  out = torch.nn.functional.log_softmax(out)\n",
            "100%|██████████| 57/57 [00:12<00:00,  4.54it/s]\n",
            "  0%|          | 0/2 [00:00<?, ?it/s]/var/folders/3c/71b8pg6d7j5dht_5h_2n4n_c0000gn/T/ipykernel_8755/1114866685.py:147: UserWarning: Implicit dimension choice for log_softmax has been deprecated. Change the call to include dim=X as an argument.\n",
            "  out = torch.nn.functional.log_softmax(out)\n",
            "100%|██████████| 2/2 [00:00<00:00,  4.22it/s]\n"
          ]
        },
        {
          "name": "stdout",
          "output_type": "stream",
          "text": [
            "\n",
            "epoch 1\n",
            "\ttrain_loss:1.049 valid_loss:1.005\n",
            "\ttrain_acc:54.96% valid_acc:55.23%\n",
            "\ttrain_f1:0.548 valid_f1:0.547\n",
            "\ttrain_confusion_matrix:\n",
            "[[1228  572  660]\n",
            " [ 489 1574  361]\n",
            " [ 702  502 1208]]\n",
            "\tvalid_confusion_matrix:\n",
            "[[226 150 207]\n",
            " [ 98 397 121]\n",
            " [122 120 386]]\n"
          ]
        },
        {
          "name": "stderr",
          "output_type": "stream",
          "text": [
            "  0%|          | 0/57 [00:00<?, ?it/s]/var/folders/3c/71b8pg6d7j5dht_5h_2n4n_c0000gn/T/ipykernel_8755/1114866685.py:147: UserWarning: Implicit dimension choice for log_softmax has been deprecated. Change the call to include dim=X as an argument.\n",
            "  out = torch.nn.functional.log_softmax(out)\n",
            "100%|██████████| 57/57 [00:12<00:00,  4.62it/s]\n",
            "  0%|          | 0/2 [00:00<?, ?it/s]/var/folders/3c/71b8pg6d7j5dht_5h_2n4n_c0000gn/T/ipykernel_8755/1114866685.py:147: UserWarning: Implicit dimension choice for log_softmax has been deprecated. Change the call to include dim=X as an argument.\n",
            "  out = torch.nn.functional.log_softmax(out)\n",
            "100%|██████████| 2/2 [00:00<00:00,  4.25it/s]\n"
          ]
        },
        {
          "name": "stdout",
          "output_type": "stream",
          "text": [
            "\n",
            "epoch 2\n",
            "\ttrain_loss:0.941 valid_loss:0.912\n",
            "\ttrain_acc:56.78% valid_acc:59.22%\n",
            "\ttrain_f1:0.557 valid_f1:0.589\n",
            "\ttrain_confusion_matrix:\n",
            "[[ 915  691  853]\n",
            " [ 269 1799  355]\n",
            " [ 457  528 1429]]\n",
            "\tvalid_confusion_matrix:\n",
            "[[268 137 178]\n",
            " [ 92 440  84]\n",
            " [154 100 374]]\n"
          ]
        },
        {
          "name": "stderr",
          "output_type": "stream",
          "text": [
            "  0%|          | 0/57 [00:00<?, ?it/s]/var/folders/3c/71b8pg6d7j5dht_5h_2n4n_c0000gn/T/ipykernel_8755/1114866685.py:147: UserWarning: Implicit dimension choice for log_softmax has been deprecated. Change the call to include dim=X as an argument.\n",
            "  out = torch.nn.functional.log_softmax(out)\n",
            "100%|██████████| 57/57 [00:12<00:00,  4.61it/s]\n",
            "  0%|          | 0/2 [00:00<?, ?it/s]/var/folders/3c/71b8pg6d7j5dht_5h_2n4n_c0000gn/T/ipykernel_8755/1114866685.py:147: UserWarning: Implicit dimension choice for log_softmax has been deprecated. Change the call to include dim=X as an argument.\n",
            "  out = torch.nn.functional.log_softmax(out)\n",
            "100%|██████████| 2/2 [00:00<00:00,  4.31it/s]\n"
          ]
        },
        {
          "name": "stdout",
          "output_type": "stream",
          "text": [
            "\n",
            "epoch 3\n",
            "\ttrain_loss:0.867 valid_loss:0.846\n",
            "\ttrain_acc:62.21% valid_acc:63.66%\n",
            "\ttrain_f1:0.618 valid_f1:0.635\n",
            "\ttrain_confusion_matrix:\n",
            "[[1193  537  730]\n",
            " [ 321 1825  279]\n",
            " [ 519  371 1521]]\n",
            "\tvalid_confusion_matrix:\n",
            "[[300 108 175]\n",
            " [ 93 446  77]\n",
            " [131  80 417]]\n"
          ]
        },
        {
          "name": "stderr",
          "output_type": "stream",
          "text": [
            "  0%|          | 0/57 [00:00<?, ?it/s]/var/folders/3c/71b8pg6d7j5dht_5h_2n4n_c0000gn/T/ipykernel_8755/1114866685.py:147: UserWarning: Implicit dimension choice for log_softmax has been deprecated. Change the call to include dim=X as an argument.\n",
            "  out = torch.nn.functional.log_softmax(out)\n",
            "100%|██████████| 57/57 [00:13<00:00,  4.38it/s]\n",
            "  0%|          | 0/2 [00:00<?, ?it/s]/var/folders/3c/71b8pg6d7j5dht_5h_2n4n_c0000gn/T/ipykernel_8755/1114866685.py:147: UserWarning: Implicit dimension choice for log_softmax has been deprecated. Change the call to include dim=X as an argument.\n",
            "  out = torch.nn.functional.log_softmax(out)\n",
            "100%|██████████| 2/2 [00:00<00:00,  4.29it/s]\n"
          ]
        },
        {
          "name": "stdout",
          "output_type": "stream",
          "text": [
            "\n",
            "epoch 4\n",
            "\ttrain_loss:0.817 valid_loss:0.813\n",
            "\ttrain_acc:64.84% valid_acc:64.64%\n",
            "\ttrain_f1:0.648 valid_f1:0.646\n",
            "\ttrain_confusion_matrix:\n",
            "[[1409  433  617]\n",
            " [ 353 1810  261]\n",
            " [ 632  269 1512]]\n",
            "\tvalid_confusion_matrix:\n",
            "[[366 100 117]\n",
            " [109 459  48]\n",
            " [190  82 356]]\n"
          ]
        },
        {
          "name": "stderr",
          "output_type": "stream",
          "text": [
            "  0%|          | 0/57 [00:00<?, ?it/s]/var/folders/3c/71b8pg6d7j5dht_5h_2n4n_c0000gn/T/ipykernel_8755/1114866685.py:147: UserWarning: Implicit dimension choice for log_softmax has been deprecated. Change the call to include dim=X as an argument.\n",
            "  out = torch.nn.functional.log_softmax(out)\n",
            "100%|██████████| 57/57 [00:12<00:00,  4.49it/s]\n",
            "  0%|          | 0/2 [00:00<?, ?it/s]/var/folders/3c/71b8pg6d7j5dht_5h_2n4n_c0000gn/T/ipykernel_8755/1114866685.py:147: UserWarning: Implicit dimension choice for log_softmax has been deprecated. Change the call to include dim=X as an argument.\n",
            "  out = torch.nn.functional.log_softmax(out)\n",
            "100%|██████████| 2/2 [00:00<00:00,  4.21it/s]\n"
          ]
        },
        {
          "name": "stdout",
          "output_type": "stream",
          "text": [
            "\n",
            "epoch 5\n",
            "\ttrain_loss:0.782 valid_loss:0.795\n",
            "\ttrain_acc:66.64% valid_acc:65.02%\n",
            "\ttrain_f1:0.666 valid_f1:0.650\n",
            "\ttrain_confusion_matrix:\n",
            "[[1487  398  572]\n",
            " [ 370 1813  243]\n",
            " [ 605  246 1562]]\n",
            "\tvalid_confusion_matrix:\n",
            "[[357 110 116]\n",
            " [103 467  46]\n",
            " [177  87 364]]\n"
          ]
        },
        {
          "name": "stderr",
          "output_type": "stream",
          "text": [
            "  0%|          | 0/57 [00:00<?, ?it/s]/var/folders/3c/71b8pg6d7j5dht_5h_2n4n_c0000gn/T/ipykernel_8755/1114866685.py:147: UserWarning: Implicit dimension choice for log_softmax has been deprecated. Change the call to include dim=X as an argument.\n",
            "  out = torch.nn.functional.log_softmax(out)\n",
            "100%|██████████| 57/57 [00:13<00:00,  4.36it/s]\n",
            "  0%|          | 0/2 [00:00<?, ?it/s]/var/folders/3c/71b8pg6d7j5dht_5h_2n4n_c0000gn/T/ipykernel_8755/1114866685.py:147: UserWarning: Implicit dimension choice for log_softmax has been deprecated. Change the call to include dim=X as an argument.\n",
            "  out = torch.nn.functional.log_softmax(out)\n",
            "100%|██████████| 2/2 [00:00<00:00,  4.23it/s]\n"
          ]
        },
        {
          "name": "stdout",
          "output_type": "stream",
          "text": [
            "\n",
            "epoch 6\n",
            "\ttrain_loss:0.755 valid_loss:0.769\n",
            "\ttrain_acc:67.53% valid_acc:66.89%\n",
            "\ttrain_f1:0.675 valid_f1:0.671\n",
            "\ttrain_confusion_matrix:\n",
            "[[1497  398  562]\n",
            " [ 365 1825  237]\n",
            " [ 586  221 1605]]\n",
            "\tvalid_confusion_matrix:\n",
            "[[367  73 143]\n",
            " [106 430  80]\n",
            " [153  50 425]]\n"
          ]
        },
        {
          "name": "stderr",
          "output_type": "stream",
          "text": [
            "  0%|          | 0/57 [00:00<?, ?it/s]/var/folders/3c/71b8pg6d7j5dht_5h_2n4n_c0000gn/T/ipykernel_8755/1114866685.py:147: UserWarning: Implicit dimension choice for log_softmax has been deprecated. Change the call to include dim=X as an argument.\n",
            "  out = torch.nn.functional.log_softmax(out)\n",
            "100%|██████████| 57/57 [00:12<00:00,  4.44it/s]\n",
            "  0%|          | 0/2 [00:00<?, ?it/s]/var/folders/3c/71b8pg6d7j5dht_5h_2n4n_c0000gn/T/ipykernel_8755/1114866685.py:147: UserWarning: Implicit dimension choice for log_softmax has been deprecated. Change the call to include dim=X as an argument.\n",
            "  out = torch.nn.functional.log_softmax(out)\n",
            "100%|██████████| 2/2 [00:00<00:00,  4.12it/s]\n"
          ]
        },
        {
          "name": "stdout",
          "output_type": "stream",
          "text": [
            "\n",
            "epoch 7\n",
            "\ttrain_loss:0.733 valid_loss:0.756\n",
            "\ttrain_acc:68.90% valid_acc:68.09%\n",
            "\ttrain_f1:0.689 valid_f1:0.681\n",
            "\ttrain_confusion_matrix:\n",
            "[[1532  373  550]\n",
            " [ 351 1844  232]\n",
            " [ 539  224 1651]]\n",
            "\tvalid_confusion_matrix:\n",
            "[[365  85 133]\n",
            " [100 443  73]\n",
            " [131  61 436]]\n"
          ]
        },
        {
          "name": "stderr",
          "output_type": "stream",
          "text": [
            "  0%|          | 0/57 [00:00<?, ?it/s]/var/folders/3c/71b8pg6d7j5dht_5h_2n4n_c0000gn/T/ipykernel_8755/1114866685.py:147: UserWarning: Implicit dimension choice for log_softmax has been deprecated. Change the call to include dim=X as an argument.\n",
            "  out = torch.nn.functional.log_softmax(out)\n",
            "100%|██████████| 57/57 [00:12<00:00,  4.48it/s]\n",
            "  0%|          | 0/2 [00:00<?, ?it/s]/var/folders/3c/71b8pg6d7j5dht_5h_2n4n_c0000gn/T/ipykernel_8755/1114866685.py:147: UserWarning: Implicit dimension choice for log_softmax has been deprecated. Change the call to include dim=X as an argument.\n",
            "  out = torch.nn.functional.log_softmax(out)\n",
            "100%|██████████| 2/2 [00:00<00:00,  3.67it/s]\n"
          ]
        },
        {
          "name": "stdout",
          "output_type": "stream",
          "text": [
            "\n",
            "epoch 8\n",
            "\ttrain_loss:0.709 valid_loss:0.746\n",
            "\ttrain_acc:70.19% valid_acc:68.31%\n",
            "\ttrain_f1:0.702 valid_f1:0.684\n",
            "\ttrain_confusion_matrix:\n",
            "[[1576  353  529]\n",
            " [ 355 1834  234]\n",
            " [ 503  201 1711]]\n",
            "\tvalid_confusion_matrix:\n",
            "[[355  74 154]\n",
            " [ 95 435  86]\n",
            " [124  46 458]]\n"
          ]
        },
        {
          "name": "stderr",
          "output_type": "stream",
          "text": [
            "  0%|          | 0/57 [00:00<?, ?it/s]/var/folders/3c/71b8pg6d7j5dht_5h_2n4n_c0000gn/T/ipykernel_8755/1114866685.py:147: UserWarning: Implicit dimension choice for log_softmax has been deprecated. Change the call to include dim=X as an argument.\n",
            "  out = torch.nn.functional.log_softmax(out)\n",
            "100%|██████████| 57/57 [00:13<00:00,  4.24it/s]\n",
            "  0%|          | 0/2 [00:00<?, ?it/s]/var/folders/3c/71b8pg6d7j5dht_5h_2n4n_c0000gn/T/ipykernel_8755/1114866685.py:147: UserWarning: Implicit dimension choice for log_softmax has been deprecated. Change the call to include dim=X as an argument.\n",
            "  out = torch.nn.functional.log_softmax(out)\n",
            "100%|██████████| 2/2 [00:00<00:00,  3.93it/s]\n"
          ]
        },
        {
          "name": "stdout",
          "output_type": "stream",
          "text": [
            "\n",
            "epoch 9\n",
            "\ttrain_loss:0.692 valid_loss:0.738\n",
            "\ttrain_acc:71.00% valid_acc:68.97%\n",
            "\ttrain_f1:0.710 valid_f1:0.691\n",
            "\ttrain_confusion_matrix:\n",
            "[[1592  352  514]\n",
            " [ 341 1860  225]\n",
            " [ 490  194 1728]]\n",
            "\tvalid_confusion_matrix:\n",
            "[[376  78 129]\n",
            " [ 96 448  72]\n",
            " [137  55 436]]\n"
          ]
        },
        {
          "name": "stderr",
          "output_type": "stream",
          "text": [
            "  0%|          | 0/57 [00:00<?, ?it/s]/var/folders/3c/71b8pg6d7j5dht_5h_2n4n_c0000gn/T/ipykernel_8755/1114866685.py:147: UserWarning: Implicit dimension choice for log_softmax has been deprecated. Change the call to include dim=X as an argument.\n",
            "  out = torch.nn.functional.log_softmax(out)\n",
            "100%|██████████| 57/57 [00:12<00:00,  4.49it/s]\n",
            "  0%|          | 0/2 [00:00<?, ?it/s]/var/folders/3c/71b8pg6d7j5dht_5h_2n4n_c0000gn/T/ipykernel_8755/1114866685.py:147: UserWarning: Implicit dimension choice for log_softmax has been deprecated. Change the call to include dim=X as an argument.\n",
            "  out = torch.nn.functional.log_softmax(out)\n",
            "100%|██████████| 2/2 [00:00<00:00,  3.62it/s]\n"
          ]
        },
        {
          "name": "stdout",
          "output_type": "stream",
          "text": [
            "\n",
            "epoch 10\n",
            "\ttrain_loss:0.672 valid_loss:0.741\n",
            "\ttrain_acc:71.94% valid_acc:68.58%\n",
            "\ttrain_f1:0.720 valid_f1:0.684\n",
            "\ttrain_confusion_matrix:\n",
            "[[1661  317  479]\n",
            " [ 368 1844  214]\n",
            " [ 485  184 1744]]\n",
            "\tvalid_confusion_matrix:\n",
            "[[344 103 136]\n",
            " [ 80 474  62]\n",
            " [111  82 435]]\n"
          ]
        },
        {
          "name": "stderr",
          "output_type": "stream",
          "text": [
            "  0%|          | 0/57 [00:00<?, ?it/s]/var/folders/3c/71b8pg6d7j5dht_5h_2n4n_c0000gn/T/ipykernel_8755/1114866685.py:147: UserWarning: Implicit dimension choice for log_softmax has been deprecated. Change the call to include dim=X as an argument.\n",
            "  out = torch.nn.functional.log_softmax(out)\n",
            "100%|██████████| 57/57 [00:12<00:00,  4.47it/s]\n",
            "  0%|          | 0/2 [00:00<?, ?it/s]/var/folders/3c/71b8pg6d7j5dht_5h_2n4n_c0000gn/T/ipykernel_8755/1114866685.py:147: UserWarning: Implicit dimension choice for log_softmax has been deprecated. Change the call to include dim=X as an argument.\n",
            "  out = torch.nn.functional.log_softmax(out)\n",
            "100%|██████████| 2/2 [00:00<00:00,  3.97it/s]\n"
          ]
        },
        {
          "name": "stdout",
          "output_type": "stream",
          "text": [
            "\n",
            "epoch 11\n",
            "\ttrain_loss:0.653 valid_loss:0.723\n",
            "\ttrain_acc:73.05% valid_acc:69.90%\n",
            "\ttrain_f1:0.731 valid_f1:0.700\n",
            "\ttrain_confusion_matrix:\n",
            "[[1690  338  431]\n",
            " [ 339 1865  221]\n",
            " [ 469  168 1775]]\n",
            "\tvalid_confusion_matrix:\n",
            "[[371  68 144]\n",
            " [ 87 439  90]\n",
            " [119  42 467]]\n"
          ]
        },
        {
          "name": "stderr",
          "output_type": "stream",
          "text": [
            "  0%|          | 0/57 [00:00<?, ?it/s]/var/folders/3c/71b8pg6d7j5dht_5h_2n4n_c0000gn/T/ipykernel_8755/1114866685.py:147: UserWarning: Implicit dimension choice for log_softmax has been deprecated. Change the call to include dim=X as an argument.\n",
            "  out = torch.nn.functional.log_softmax(out)\n",
            "100%|██████████| 57/57 [00:12<00:00,  4.48it/s]\n",
            "  0%|          | 0/2 [00:00<?, ?it/s]/var/folders/3c/71b8pg6d7j5dht_5h_2n4n_c0000gn/T/ipykernel_8755/1114866685.py:147: UserWarning: Implicit dimension choice for log_softmax has been deprecated. Change the call to include dim=X as an argument.\n",
            "  out = torch.nn.functional.log_softmax(out)\n",
            "100%|██████████| 2/2 [00:00<00:00,  3.73it/s]\n"
          ]
        },
        {
          "name": "stdout",
          "output_type": "stream",
          "text": [
            "\n",
            "epoch 12\n",
            "\ttrain_loss:0.636 valid_loss:0.714\n",
            "\ttrain_acc:73.82% valid_acc:71.59%\n",
            "\ttrain_f1:0.738 valid_f1:0.717\n",
            "\ttrain_confusion_matrix:\n",
            "[[1704  327  428]\n",
            " [ 335 1873  215]\n",
            " [ 441  164 1809]]\n",
            "\tvalid_confusion_matrix:\n",
            "[[408  63 112]\n",
            " [ 88 442  86]\n",
            " [129  41 458]]\n"
          ]
        },
        {
          "name": "stderr",
          "output_type": "stream",
          "text": [
            "  0%|          | 0/57 [00:00<?, ?it/s]/var/folders/3c/71b8pg6d7j5dht_5h_2n4n_c0000gn/T/ipykernel_8755/1114866685.py:147: UserWarning: Implicit dimension choice for log_softmax has been deprecated. Change the call to include dim=X as an argument.\n",
            "  out = torch.nn.functional.log_softmax(out)\n",
            "100%|██████████| 57/57 [00:12<00:00,  4.62it/s]\n",
            "  0%|          | 0/2 [00:00<?, ?it/s]/var/folders/3c/71b8pg6d7j5dht_5h_2n4n_c0000gn/T/ipykernel_8755/1114866685.py:147: UserWarning: Implicit dimension choice for log_softmax has been deprecated. Change the call to include dim=X as an argument.\n",
            "  out = torch.nn.functional.log_softmax(out)\n",
            "100%|██████████| 2/2 [00:00<00:00,  4.03it/s]\n"
          ]
        },
        {
          "name": "stdout",
          "output_type": "stream",
          "text": [
            "\n",
            "epoch 13\n",
            "\ttrain_loss:0.617 valid_loss:0.705\n",
            "\ttrain_acc:75.07% valid_acc:71.10%\n",
            "\ttrain_f1:0.751 valid_f1:0.712\n",
            "\ttrain_confusion_matrix:\n",
            "[[1761  321  377]\n",
            " [ 324 1898  202]\n",
            " [ 429  166 1818]]\n",
            "\tvalid_confusion_matrix:\n",
            "[[384  73 126]\n",
            " [ 80 453  83]\n",
            " [117  49 462]]\n"
          ]
        },
        {
          "name": "stderr",
          "output_type": "stream",
          "text": [
            "  0%|          | 0/57 [00:00<?, ?it/s]/var/folders/3c/71b8pg6d7j5dht_5h_2n4n_c0000gn/T/ipykernel_8755/1114866685.py:147: UserWarning: Implicit dimension choice for log_softmax has been deprecated. Change the call to include dim=X as an argument.\n",
            "  out = torch.nn.functional.log_softmax(out)\n",
            "100%|██████████| 57/57 [00:12<00:00,  4.61it/s]\n",
            "  0%|          | 0/2 [00:00<?, ?it/s]/var/folders/3c/71b8pg6d7j5dht_5h_2n4n_c0000gn/T/ipykernel_8755/1114866685.py:147: UserWarning: Implicit dimension choice for log_softmax has been deprecated. Change the call to include dim=X as an argument.\n",
            "  out = torch.nn.functional.log_softmax(out)\n",
            "100%|██████████| 2/2 [00:00<00:00,  4.08it/s]\n"
          ]
        },
        {
          "name": "stdout",
          "output_type": "stream",
          "text": [
            "\n",
            "epoch 14\n",
            "\ttrain_loss:0.601 valid_loss:0.705\n",
            "\ttrain_acc:75.42% valid_acc:72.30%\n",
            "\ttrain_f1:0.755 valid_f1:0.725\n",
            "\ttrain_confusion_matrix:\n",
            "[[1784  311  362]\n",
            " [ 328 1893  206]\n",
            " [ 436  150 1826]]\n",
            "\tvalid_confusion_matrix:\n",
            "[[434  52  97]\n",
            " [ 94 434  88]\n",
            " [137  38 453]]\n"
          ]
        },
        {
          "name": "stderr",
          "output_type": "stream",
          "text": [
            "  0%|          | 0/57 [00:00<?, ?it/s]/var/folders/3c/71b8pg6d7j5dht_5h_2n4n_c0000gn/T/ipykernel_8755/1114866685.py:147: UserWarning: Implicit dimension choice for log_softmax has been deprecated. Change the call to include dim=X as an argument.\n",
            "  out = torch.nn.functional.log_softmax(out)\n",
            "100%|██████████| 57/57 [00:12<00:00,  4.52it/s]\n",
            "  0%|          | 0/2 [00:00<?, ?it/s]/var/folders/3c/71b8pg6d7j5dht_5h_2n4n_c0000gn/T/ipykernel_8755/1114866685.py:147: UserWarning: Implicit dimension choice for log_softmax has been deprecated. Change the call to include dim=X as an argument.\n",
            "  out = torch.nn.functional.log_softmax(out)\n",
            "100%|██████████| 2/2 [00:00<00:00,  4.22it/s]\n"
          ]
        },
        {
          "name": "stdout",
          "output_type": "stream",
          "text": [
            "\n",
            "epoch 15\n",
            "\ttrain_loss:0.577 valid_loss:0.692\n",
            "\ttrain_acc:76.95% valid_acc:73.45%\n",
            "\ttrain_f1:0.770 valid_f1:0.736\n",
            "\ttrain_confusion_matrix:\n",
            "[[1839  284  335]\n",
            " [ 325 1916  184]\n",
            " [ 400  154 1859]]\n",
            "\tvalid_confusion_matrix:\n",
            "[[443  55  85]\n",
            " [ 92 443  81]\n",
            " [134  38 456]]\n"
          ]
        },
        {
          "name": "stderr",
          "output_type": "stream",
          "text": [
            "  0%|          | 0/57 [00:00<?, ?it/s]/var/folders/3c/71b8pg6d7j5dht_5h_2n4n_c0000gn/T/ipykernel_8755/1114866685.py:147: UserWarning: Implicit dimension choice for log_softmax has been deprecated. Change the call to include dim=X as an argument.\n",
            "  out = torch.nn.functional.log_softmax(out)\n",
            "100%|██████████| 57/57 [00:13<00:00,  4.37it/s]\n",
            "  0%|          | 0/2 [00:00<?, ?it/s]/var/folders/3c/71b8pg6d7j5dht_5h_2n4n_c0000gn/T/ipykernel_8755/1114866685.py:147: UserWarning: Implicit dimension choice for log_softmax has been deprecated. Change the call to include dim=X as an argument.\n",
            "  out = torch.nn.functional.log_softmax(out)\n",
            "100%|██████████| 2/2 [00:00<00:00,  3.89it/s]\n"
          ]
        },
        {
          "name": "stdout",
          "output_type": "stream",
          "text": [
            "\n",
            "epoch 16\n",
            "\ttrain_loss:0.560 valid_loss:0.698\n",
            "\ttrain_acc:78.11% valid_acc:73.51%\n",
            "\ttrain_f1:0.781 valid_f1:0.737\n",
            "\ttrain_confusion_matrix:\n",
            "[[1859  281  317]\n",
            " [ 307 1932  188]\n",
            " [ 373  131 1908]]\n",
            "\tvalid_confusion_matrix:\n",
            "[[461  54  68]\n",
            " [105 444  67]\n",
            " [147  43 438]]\n"
          ]
        },
        {
          "name": "stderr",
          "output_type": "stream",
          "text": [
            "  0%|          | 0/57 [00:00<?, ?it/s]/var/folders/3c/71b8pg6d7j5dht_5h_2n4n_c0000gn/T/ipykernel_8755/1114866685.py:147: UserWarning: Implicit dimension choice for log_softmax has been deprecated. Change the call to include dim=X as an argument.\n",
            "  out = torch.nn.functional.log_softmax(out)\n",
            "100%|██████████| 57/57 [00:13<00:00,  4.31it/s]\n",
            "  0%|          | 0/2 [00:00<?, ?it/s]/var/folders/3c/71b8pg6d7j5dht_5h_2n4n_c0000gn/T/ipykernel_8755/1114866685.py:147: UserWarning: Implicit dimension choice for log_softmax has been deprecated. Change the call to include dim=X as an argument.\n",
            "  out = torch.nn.functional.log_softmax(out)\n",
            "100%|██████████| 2/2 [00:00<00:00,  4.13it/s]\n"
          ]
        },
        {
          "name": "stdout",
          "output_type": "stream",
          "text": [
            "\n",
            "epoch 17\n",
            "\ttrain_loss:0.546 valid_loss:0.671\n",
            "\ttrain_acc:78.33% valid_acc:75.53%\n",
            "\ttrain_f1:0.784 valid_f1:0.756\n",
            "\ttrain_confusion_matrix:\n",
            "[[1871  276  309]\n",
            " [ 307 1932  187]\n",
            " [ 354  148 1912]]\n",
            "\tvalid_confusion_matrix:\n",
            "[[454  56  73]\n",
            " [ 90 457  69]\n",
            " [115  44 469]]\n"
          ]
        },
        {
          "name": "stderr",
          "output_type": "stream",
          "text": [
            "  0%|          | 0/57 [00:00<?, ?it/s]/var/folders/3c/71b8pg6d7j5dht_5h_2n4n_c0000gn/T/ipykernel_8755/1114866685.py:147: UserWarning: Implicit dimension choice for log_softmax has been deprecated. Change the call to include dim=X as an argument.\n",
            "  out = torch.nn.functional.log_softmax(out)\n",
            "100%|██████████| 57/57 [00:13<00:00,  4.35it/s]\n",
            "  0%|          | 0/2 [00:00<?, ?it/s]/var/folders/3c/71b8pg6d7j5dht_5h_2n4n_c0000gn/T/ipykernel_8755/1114866685.py:147: UserWarning: Implicit dimension choice for log_softmax has been deprecated. Change the call to include dim=X as an argument.\n",
            "  out = torch.nn.functional.log_softmax(out)\n",
            "100%|██████████| 2/2 [00:00<00:00,  3.93it/s]\n"
          ]
        },
        {
          "name": "stdout",
          "output_type": "stream",
          "text": [
            "\n",
            "epoch 18\n",
            "\ttrain_loss:0.531 valid_loss:0.672\n",
            "\ttrain_acc:79.19% valid_acc:75.48%\n",
            "\ttrain_f1:0.792 valid_f1:0.756\n",
            "\ttrain_confusion_matrix:\n",
            "[[1895  271  292]\n",
            " [ 293 1947  183]\n",
            " [ 338  141 1936]]\n",
            "\tvalid_confusion_matrix:\n",
            "[[463  45  75]\n",
            " [ 95 440  81]\n",
            " [114  38 476]]\n"
          ]
        },
        {
          "name": "stderr",
          "output_type": "stream",
          "text": [
            "  0%|          | 0/57 [00:00<?, ?it/s]/var/folders/3c/71b8pg6d7j5dht_5h_2n4n_c0000gn/T/ipykernel_8755/1114866685.py:147: UserWarning: Implicit dimension choice for log_softmax has been deprecated. Change the call to include dim=X as an argument.\n",
            "  out = torch.nn.functional.log_softmax(out)\n",
            "100%|██████████| 57/57 [00:12<00:00,  4.56it/s]\n",
            "  0%|          | 0/2 [00:00<?, ?it/s]/var/folders/3c/71b8pg6d7j5dht_5h_2n4n_c0000gn/T/ipykernel_8755/1114866685.py:147: UserWarning: Implicit dimension choice for log_softmax has been deprecated. Change the call to include dim=X as an argument.\n",
            "  out = torch.nn.functional.log_softmax(out)\n",
            "100%|██████████| 2/2 [00:00<00:00,  4.06it/s]\n"
          ]
        },
        {
          "name": "stdout",
          "output_type": "stream",
          "text": [
            "\n",
            "epoch 19\n",
            "\ttrain_loss:0.512 valid_loss:0.674\n",
            "\ttrain_acc:80.36% valid_acc:74.93%\n",
            "\ttrain_f1:0.804 valid_f1:0.751\n",
            "\ttrain_confusion_matrix:\n",
            "[[1928  262  268]\n",
            " [ 281 1966  176]\n",
            " [ 305  141 1969]]\n",
            "\tvalid_confusion_matrix:\n",
            "[[469  47  67]\n",
            " [ 98 449  69]\n",
            " [137  40 451]]\n",
            "Loading saved model from: model_task2.bin\n"
          ]
        },
        {
          "name": "stderr",
          "output_type": "stream",
          "text": [
            "  0%|          | 0/2 [00:00<?, ?it/s]/var/folders/3c/71b8pg6d7j5dht_5h_2n4n_c0000gn/T/ipykernel_8755/1114866685.py:147: UserWarning: Implicit dimension choice for log_softmax has been deprecated. Change the call to include dim=X as an argument.\n",
            "  out = torch.nn.functional.log_softmax(out)\n",
            "100%|██████████| 2/2 [00:00<00:00,  4.30it/s]\n"
          ]
        },
        {
          "name": "stdout",
          "output_type": "stream",
          "text": [
            "              precision    recall  f1-score   support\n",
            "\n",
            "     Neutral       0.69      0.77      0.73       583\n",
            "    Positive       0.83      0.74      0.78       616\n",
            "    Negative       0.76      0.75      0.75       628\n",
            "\n",
            "    accuracy                           0.75      1827\n",
            "   macro avg       0.76      0.75      0.75      1827\n",
            "weighted avg       0.76      0.75      0.75      1827\n",
            "\n",
            "\n",
            "******************************************************************************************\n",
            "Alpha Size: 0.2\n",
            "Window Size: 2\n",
            "******************************************************************************************\n",
            "\n",
            "train samples:7305\n",
            "valid samples:1827\n"
          ]
        },
        {
          "name": "stderr",
          "output_type": "stream",
          "text": [
            "  0%|          | 0/57 [00:00<?, ?it/s]/var/folders/3c/71b8pg6d7j5dht_5h_2n4n_c0000gn/T/ipykernel_8755/1114866685.py:147: UserWarning: Implicit dimension choice for log_softmax has been deprecated. Change the call to include dim=X as an argument.\n",
            "  out = torch.nn.functional.log_softmax(out)\n",
            "100%|██████████| 57/57 [00:11<00:00,  4.87it/s]\n",
            "  0%|          | 0/2 [00:00<?, ?it/s]/var/folders/3c/71b8pg6d7j5dht_5h_2n4n_c0000gn/T/ipykernel_8755/1114866685.py:147: UserWarning: Implicit dimension choice for log_softmax has been deprecated. Change the call to include dim=X as an argument.\n",
            "  out = torch.nn.functional.log_softmax(out)\n",
            "100%|██████████| 2/2 [00:00<00:00,  4.61it/s]\n"
          ]
        },
        {
          "name": "stdout",
          "output_type": "stream",
          "text": [
            "\n",
            "epoch 0\n",
            "\ttrain_loss:1.086 valid_loss:1.073\n",
            "\ttrain_acc:47.31% valid_acc:54.13%\n",
            "\ttrain_f1:0.456 valid_f1:0.541\n",
            "\ttrain_confusion_matrix:\n",
            "[[1560  154  733]\n",
            " [1061  563  768]\n",
            " [1008  120 1329]]\n",
            "\tvalid_confusion_matrix:\n",
            "[[264  90 240]\n",
            " [112 334 203]\n",
            " [113  80 391]]\n"
          ]
        },
        {
          "name": "stderr",
          "output_type": "stream",
          "text": [
            "  0%|          | 0/57 [00:00<?, ?it/s]/var/folders/3c/71b8pg6d7j5dht_5h_2n4n_c0000gn/T/ipykernel_8755/1114866685.py:147: UserWarning: Implicit dimension choice for log_softmax has been deprecated. Change the call to include dim=X as an argument.\n",
            "  out = torch.nn.functional.log_softmax(out)\n",
            "100%|██████████| 57/57 [00:12<00:00,  4.62it/s]\n",
            "  0%|          | 0/2 [00:00<?, ?it/s]/var/folders/3c/71b8pg6d7j5dht_5h_2n4n_c0000gn/T/ipykernel_8755/1114866685.py:147: UserWarning: Implicit dimension choice for log_softmax has been deprecated. Change the call to include dim=X as an argument.\n",
            "  out = torch.nn.functional.log_softmax(out)\n",
            "100%|██████████| 2/2 [00:00<00:00,  4.44it/s]\n"
          ]
        },
        {
          "name": "stdout",
          "output_type": "stream",
          "text": [
            "\n",
            "epoch 1\n",
            "\ttrain_loss:1.052 valid_loss:1.022\n",
            "\ttrain_acc:56.28% valid_acc:57.20%\n",
            "\ttrain_f1:0.552 valid_f1:0.563\n",
            "\ttrain_confusion_matrix:\n",
            "[[ 862  565 1018]\n",
            " [ 236 1539  619]\n",
            " [ 269  483 1705]]\n",
            "\tvalid_confusion_matrix:\n",
            "[[215 132 247]\n",
            " [ 63 417 169]\n",
            " [ 58 113 413]]\n"
          ]
        },
        {
          "name": "stderr",
          "output_type": "stream",
          "text": [
            "  0%|          | 0/57 [00:00<?, ?it/s]/var/folders/3c/71b8pg6d7j5dht_5h_2n4n_c0000gn/T/ipykernel_8755/1114866685.py:147: UserWarning: Implicit dimension choice for log_softmax has been deprecated. Change the call to include dim=X as an argument.\n",
            "  out = torch.nn.functional.log_softmax(out)\n",
            "100%|██████████| 57/57 [00:11<00:00,  4.97it/s]\n",
            "  0%|          | 0/2 [00:00<?, ?it/s]/var/folders/3c/71b8pg6d7j5dht_5h_2n4n_c0000gn/T/ipykernel_8755/1114866685.py:147: UserWarning: Implicit dimension choice for log_softmax has been deprecated. Change the call to include dim=X as an argument.\n",
            "  out = torch.nn.functional.log_softmax(out)\n",
            "100%|██████████| 2/2 [00:00<00:00,  5.02it/s]\n"
          ]
        },
        {
          "name": "stdout",
          "output_type": "stream",
          "text": [
            "\n",
            "epoch 2\n",
            "\ttrain_loss:0.963 valid_loss:0.906\n",
            "\ttrain_acc:57.99% valid_acc:59.99%\n",
            "\ttrain_f1:0.569 valid_f1:0.589\n",
            "\ttrain_confusion_matrix:\n",
            "[[ 893  584  971]\n",
            " [ 203 1666  525]\n",
            " [ 270  512 1672]]\n",
            "\tvalid_confusion_matrix:\n",
            "[[246 182 166]\n",
            " [ 66 515  68]\n",
            " [ 90 159 335]]\n"
          ]
        },
        {
          "name": "stderr",
          "output_type": "stream",
          "text": [
            "  0%|          | 0/57 [00:00<?, ?it/s]/var/folders/3c/71b8pg6d7j5dht_5h_2n4n_c0000gn/T/ipykernel_8755/1114866685.py:147: UserWarning: Implicit dimension choice for log_softmax has been deprecated. Change the call to include dim=X as an argument.\n",
            "  out = torch.nn.functional.log_softmax(out)\n",
            "100%|██████████| 57/57 [00:11<00:00,  4.86it/s]\n",
            "  0%|          | 0/2 [00:00<?, ?it/s]/var/folders/3c/71b8pg6d7j5dht_5h_2n4n_c0000gn/T/ipykernel_8755/1114866685.py:147: UserWarning: Implicit dimension choice for log_softmax has been deprecated. Change the call to include dim=X as an argument.\n",
            "  out = torch.nn.functional.log_softmax(out)\n",
            "100%|██████████| 2/2 [00:00<00:00,  4.98it/s]\n"
          ]
        },
        {
          "name": "stdout",
          "output_type": "stream",
          "text": [
            "\n",
            "epoch 3\n",
            "\ttrain_loss:0.866 valid_loss:0.840\n",
            "\ttrain_acc:62.17% valid_acc:63.49%\n",
            "\ttrain_f1:0.618 valid_f1:0.632\n",
            "\ttrain_confusion_matrix:\n",
            "[[1217  486  743]\n",
            " [ 306 1743  341]\n",
            " [ 458  426 1576]]\n",
            "\tvalid_confusion_matrix:\n",
            "[[306 119 169]\n",
            " [ 74 492  83]\n",
            " [117 105 362]]\n"
          ]
        },
        {
          "name": "stderr",
          "output_type": "stream",
          "text": [
            "  0%|          | 0/57 [00:00<?, ?it/s]/var/folders/3c/71b8pg6d7j5dht_5h_2n4n_c0000gn/T/ipykernel_8755/1114866685.py:147: UserWarning: Implicit dimension choice for log_softmax has been deprecated. Change the call to include dim=X as an argument.\n",
            "  out = torch.nn.functional.log_softmax(out)\n",
            "100%|██████████| 57/57 [00:11<00:00,  4.77it/s]\n",
            "  0%|          | 0/2 [00:00<?, ?it/s]/var/folders/3c/71b8pg6d7j5dht_5h_2n4n_c0000gn/T/ipykernel_8755/1114866685.py:147: UserWarning: Implicit dimension choice for log_softmax has been deprecated. Change the call to include dim=X as an argument.\n",
            "  out = torch.nn.functional.log_softmax(out)\n",
            "100%|██████████| 2/2 [00:00<00:00,  4.79it/s]\n"
          ]
        },
        {
          "name": "stdout",
          "output_type": "stream",
          "text": [
            "\n",
            "epoch 4\n",
            "\ttrain_loss:0.816 valid_loss:0.809\n",
            "\ttrain_acc:63.82% valid_acc:64.86%\n",
            "\ttrain_f1:0.636 valid_f1:0.645\n",
            "\ttrain_confusion_matrix:\n",
            "[[1302  453  690]\n",
            " [ 327 1786  281]\n",
            " [ 520  369 1568]]\n",
            "\tvalid_confusion_matrix:\n",
            "[[308 115 171]\n",
            " [ 74 493  82]\n",
            " [103  97 384]]\n"
          ]
        },
        {
          "name": "stderr",
          "output_type": "stream",
          "text": [
            "  0%|          | 0/57 [00:00<?, ?it/s]/var/folders/3c/71b8pg6d7j5dht_5h_2n4n_c0000gn/T/ipykernel_8755/1114866685.py:147: UserWarning: Implicit dimension choice for log_softmax has been deprecated. Change the call to include dim=X as an argument.\n",
            "  out = torch.nn.functional.log_softmax(out)\n",
            "100%|██████████| 57/57 [00:12<00:00,  4.66it/s]\n",
            "  0%|          | 0/2 [00:00<?, ?it/s]/var/folders/3c/71b8pg6d7j5dht_5h_2n4n_c0000gn/T/ipykernel_8755/1114866685.py:147: UserWarning: Implicit dimension choice for log_softmax has been deprecated. Change the call to include dim=X as an argument.\n",
            "  out = torch.nn.functional.log_softmax(out)\n",
            "100%|██████████| 2/2 [00:00<00:00,  4.86it/s]\n"
          ]
        },
        {
          "name": "stdout",
          "output_type": "stream",
          "text": [
            "\n",
            "epoch 5\n",
            "\ttrain_loss:0.779 valid_loss:0.787\n",
            "\ttrain_acc:65.50% valid_acc:65.79%\n",
            "\ttrain_f1:0.653 valid_f1:0.655\n",
            "\ttrain_confusion_matrix:\n",
            "[[1345  418  684]\n",
            " [ 341 1763  288]\n",
            " [ 485  301 1671]]\n",
            "\tvalid_confusion_matrix:\n",
            "[[311 108 175]\n",
            " [ 85 484  80]\n",
            " [ 98  79 407]]\n"
          ]
        },
        {
          "name": "stderr",
          "output_type": "stream",
          "text": [
            "  0%|          | 0/57 [00:00<?, ?it/s]/var/folders/3c/71b8pg6d7j5dht_5h_2n4n_c0000gn/T/ipykernel_8755/1114866685.py:147: UserWarning: Implicit dimension choice for log_softmax has been deprecated. Change the call to include dim=X as an argument.\n",
            "  out = torch.nn.functional.log_softmax(out)\n",
            "100%|██████████| 57/57 [00:11<00:00,  5.01it/s]\n",
            "  0%|          | 0/2 [00:00<?, ?it/s]/var/folders/3c/71b8pg6d7j5dht_5h_2n4n_c0000gn/T/ipykernel_8755/1114866685.py:147: UserWarning: Implicit dimension choice for log_softmax has been deprecated. Change the call to include dim=X as an argument.\n",
            "  out = torch.nn.functional.log_softmax(out)\n",
            "100%|██████████| 2/2 [00:00<00:00,  5.03it/s]\n"
          ]
        },
        {
          "name": "stdout",
          "output_type": "stream",
          "text": [
            "\n",
            "epoch 6\n",
            "\ttrain_loss:0.750 valid_loss:0.769\n",
            "\ttrain_acc:67.04% valid_acc:66.17%\n",
            "\ttrain_f1:0.669 valid_f1:0.662\n",
            "\ttrain_confusion_matrix:\n",
            "[[1392  374  683]\n",
            " [ 339 1778  273]\n",
            " [ 469  267 1721]]\n",
            "\tvalid_confusion_matrix:\n",
            "[[360  97 137]\n",
            " [102 478  69]\n",
            " [138  75 371]]\n"
          ]
        },
        {
          "name": "stderr",
          "output_type": "stream",
          "text": [
            "  0%|          | 0/57 [00:00<?, ?it/s]/var/folders/3c/71b8pg6d7j5dht_5h_2n4n_c0000gn/T/ipykernel_8755/1114866685.py:147: UserWarning: Implicit dimension choice for log_softmax has been deprecated. Change the call to include dim=X as an argument.\n",
            "  out = torch.nn.functional.log_softmax(out)\n",
            "100%|██████████| 57/57 [00:11<00:00,  4.87it/s]\n",
            "  0%|          | 0/2 [00:00<?, ?it/s]/var/folders/3c/71b8pg6d7j5dht_5h_2n4n_c0000gn/T/ipykernel_8755/1114866685.py:147: UserWarning: Implicit dimension choice for log_softmax has been deprecated. Change the call to include dim=X as an argument.\n",
            "  out = torch.nn.functional.log_softmax(out)\n",
            "100%|██████████| 2/2 [00:00<00:00,  5.02it/s]\n"
          ]
        },
        {
          "name": "stdout",
          "output_type": "stream",
          "text": [
            "\n",
            "epoch 7\n",
            "\ttrain_loss:0.729 valid_loss:0.755\n",
            "\ttrain_acc:68.61% valid_acc:66.78%\n",
            "\ttrain_f1:0.686 valid_f1:0.666\n",
            "\ttrain_confusion_matrix:\n",
            "[[1468  339  640]\n",
            " [ 331 1786  274]\n",
            " [ 468  238 1752]]\n",
            "\tvalid_confusion_matrix:\n",
            "[[334  99 161]\n",
            " [ 87 487  75]\n",
            " [108  77 399]]\n"
          ]
        },
        {
          "name": "stderr",
          "output_type": "stream",
          "text": [
            "  0%|          | 0/57 [00:00<?, ?it/s]/var/folders/3c/71b8pg6d7j5dht_5h_2n4n_c0000gn/T/ipykernel_8755/1114866685.py:147: UserWarning: Implicit dimension choice for log_softmax has been deprecated. Change the call to include dim=X as an argument.\n",
            "  out = torch.nn.functional.log_softmax(out)\n",
            "100%|██████████| 57/57 [00:11<00:00,  5.02it/s]\n",
            "  0%|          | 0/2 [00:00<?, ?it/s]/var/folders/3c/71b8pg6d7j5dht_5h_2n4n_c0000gn/T/ipykernel_8755/1114866685.py:147: UserWarning: Implicit dimension choice for log_softmax has been deprecated. Change the call to include dim=X as an argument.\n",
            "  out = torch.nn.functional.log_softmax(out)\n",
            "100%|██████████| 2/2 [00:00<00:00,  5.06it/s]\n"
          ]
        },
        {
          "name": "stdout",
          "output_type": "stream",
          "text": [
            "\n",
            "epoch 8\n",
            "\ttrain_loss:0.710 valid_loss:0.752\n",
            "\ttrain_acc:69.44% valid_acc:67.05%\n",
            "\ttrain_f1:0.694 valid_f1:0.670\n",
            "\ttrain_confusion_matrix:\n",
            "[[1499  315  634]\n",
            " [ 348 1793  248]\n",
            " [ 445  240 1774]]\n",
            "\tvalid_confusion_matrix:\n",
            "[[341  95 158]\n",
            " [ 89 482  78]\n",
            " [110  72 402]]\n"
          ]
        },
        {
          "name": "stderr",
          "output_type": "stream",
          "text": [
            "  0%|          | 0/57 [00:00<?, ?it/s]/var/folders/3c/71b8pg6d7j5dht_5h_2n4n_c0000gn/T/ipykernel_8755/1114866685.py:147: UserWarning: Implicit dimension choice for log_softmax has been deprecated. Change the call to include dim=X as an argument.\n",
            "  out = torch.nn.functional.log_softmax(out)\n",
            "100%|██████████| 57/57 [00:11<00:00,  4.81it/s]\n",
            "  0%|          | 0/2 [00:00<?, ?it/s]/var/folders/3c/71b8pg6d7j5dht_5h_2n4n_c0000gn/T/ipykernel_8755/1114866685.py:147: UserWarning: Implicit dimension choice for log_softmax has been deprecated. Change the call to include dim=X as an argument.\n",
            "  out = torch.nn.functional.log_softmax(out)\n",
            "100%|██████████| 2/2 [00:00<00:00,  4.82it/s]\n"
          ]
        },
        {
          "name": "stdout",
          "output_type": "stream",
          "text": [
            "\n",
            "epoch 9\n",
            "\ttrain_loss:0.694 valid_loss:0.740\n",
            "\ttrain_acc:70.61% valid_acc:68.04%\n",
            "\ttrain_f1:0.706 valid_f1:0.679\n",
            "\ttrain_confusion_matrix:\n",
            "[[1529  311  609]\n",
            " [ 317 1822  251]\n",
            " [ 427  229 1801]]\n",
            "\tvalid_confusion_matrix:\n",
            "[[351  95 148]\n",
            " [ 87 491  71]\n",
            " [110  73 401]]\n"
          ]
        },
        {
          "name": "stderr",
          "output_type": "stream",
          "text": [
            "  0%|          | 0/57 [00:00<?, ?it/s]/var/folders/3c/71b8pg6d7j5dht_5h_2n4n_c0000gn/T/ipykernel_8755/1114866685.py:147: UserWarning: Implicit dimension choice for log_softmax has been deprecated. Change the call to include dim=X as an argument.\n",
            "  out = torch.nn.functional.log_softmax(out)\n",
            "100%|██████████| 57/57 [00:12<00:00,  4.68it/s]\n",
            "  0%|          | 0/2 [00:00<?, ?it/s]/var/folders/3c/71b8pg6d7j5dht_5h_2n4n_c0000gn/T/ipykernel_8755/1114866685.py:147: UserWarning: Implicit dimension choice for log_softmax has been deprecated. Change the call to include dim=X as an argument.\n",
            "  out = torch.nn.functional.log_softmax(out)\n",
            "100%|██████████| 2/2 [00:00<00:00,  4.80it/s]\n"
          ]
        },
        {
          "name": "stdout",
          "output_type": "stream",
          "text": [
            "\n",
            "epoch 10\n",
            "\ttrain_loss:0.682 valid_loss:0.750\n",
            "\ttrain_acc:71.30% valid_acc:67.43%\n",
            "\ttrain_f1:0.713 valid_f1:0.673\n",
            "\ttrain_confusion_matrix:\n",
            "[[1559  286  601]\n",
            " [ 339 1814  240]\n",
            " [ 427  201 1829]]\n",
            "\tvalid_confusion_matrix:\n",
            "[[312  67 215]\n",
            " [ 84 456 109]\n",
            " [ 68  52 464]]\n"
          ]
        },
        {
          "name": "stderr",
          "output_type": "stream",
          "text": [
            "  0%|          | 0/57 [00:00<?, ?it/s]/var/folders/3c/71b8pg6d7j5dht_5h_2n4n_c0000gn/T/ipykernel_8755/1114866685.py:147: UserWarning: Implicit dimension choice for log_softmax has been deprecated. Change the call to include dim=X as an argument.\n",
            "  out = torch.nn.functional.log_softmax(out)\n",
            "100%|██████████| 57/57 [00:11<00:00,  4.86it/s]\n",
            "  0%|          | 0/2 [00:00<?, ?it/s]/var/folders/3c/71b8pg6d7j5dht_5h_2n4n_c0000gn/T/ipykernel_8755/1114866685.py:147: UserWarning: Implicit dimension choice for log_softmax has been deprecated. Change the call to include dim=X as an argument.\n",
            "  out = torch.nn.functional.log_softmax(out)\n",
            "100%|██████████| 2/2 [00:00<00:00,  4.85it/s]\n"
          ]
        },
        {
          "name": "stdout",
          "output_type": "stream",
          "text": [
            "\n",
            "epoch 11\n",
            "\ttrain_loss:0.666 valid_loss:0.727\n",
            "\ttrain_acc:71.98% valid_acc:68.36%\n",
            "\ttrain_f1:0.719 valid_f1:0.683\n",
            "\ttrain_confusion_matrix:\n",
            "[[1568  296  584]\n",
            " [ 319 1851  223]\n",
            " [ 404  218 1833]]\n",
            "\tvalid_confusion_matrix:\n",
            "[[357  98 139]\n",
            " [ 96 489  64]\n",
            " [111  70 403]]\n"
          ]
        },
        {
          "name": "stderr",
          "output_type": "stream",
          "text": [
            "  0%|          | 0/57 [00:00<?, ?it/s]/var/folders/3c/71b8pg6d7j5dht_5h_2n4n_c0000gn/T/ipykernel_8755/1114866685.py:147: UserWarning: Implicit dimension choice for log_softmax has been deprecated. Change the call to include dim=X as an argument.\n",
            "  out = torch.nn.functional.log_softmax(out)\n",
            "100%|██████████| 57/57 [00:11<00:00,  5.04it/s]\n",
            "  0%|          | 0/2 [00:00<?, ?it/s]/var/folders/3c/71b8pg6d7j5dht_5h_2n4n_c0000gn/T/ipykernel_8755/1114866685.py:147: UserWarning: Implicit dimension choice for log_softmax has been deprecated. Change the call to include dim=X as an argument.\n",
            "  out = torch.nn.functional.log_softmax(out)\n",
            "100%|██████████| 2/2 [00:00<00:00,  5.03it/s]\n"
          ]
        },
        {
          "name": "stdout",
          "output_type": "stream",
          "text": [
            "\n",
            "epoch 12\n",
            "\ttrain_loss:0.650 valid_loss:0.719\n",
            "\ttrain_acc:73.01% valid_acc:69.62%\n",
            "\ttrain_f1:0.730 valid_f1:0.693\n",
            "\ttrain_confusion_matrix:\n",
            "[[1629  270  549]\n",
            " [ 328 1832  232]\n",
            " [ 401  189 1866]]\n",
            "\tvalid_confusion_matrix:\n",
            "[[325 102 167]\n",
            " [ 67 504  78]\n",
            " [ 78  63 443]]\n"
          ]
        },
        {
          "name": "stderr",
          "output_type": "stream",
          "text": [
            "  0%|          | 0/57 [00:00<?, ?it/s]/var/folders/3c/71b8pg6d7j5dht_5h_2n4n_c0000gn/T/ipykernel_8755/1114866685.py:147: UserWarning: Implicit dimension choice for log_softmax has been deprecated. Change the call to include dim=X as an argument.\n",
            "  out = torch.nn.functional.log_softmax(out)\n",
            "100%|██████████| 57/57 [00:11<00:00,  4.99it/s]\n",
            "  0%|          | 0/2 [00:00<?, ?it/s]/var/folders/3c/71b8pg6d7j5dht_5h_2n4n_c0000gn/T/ipykernel_8755/1114866685.py:147: UserWarning: Implicit dimension choice for log_softmax has been deprecated. Change the call to include dim=X as an argument.\n",
            "  out = torch.nn.functional.log_softmax(out)\n",
            "100%|██████████| 2/2 [00:00<00:00,  5.02it/s]\n"
          ]
        },
        {
          "name": "stdout",
          "output_type": "stream",
          "text": [
            "\n",
            "epoch 13\n",
            "\ttrain_loss:0.650 valid_loss:0.719\n",
            "\ttrain_acc:73.16% valid_acc:68.69%\n",
            "\ttrain_f1:0.732 valid_f1:0.686\n",
            "\ttrain_confusion_matrix:\n",
            "[[1652  274  521]\n",
            " [ 332 1841  218]\n",
            " [ 392  221 1845]]\n",
            "\tvalid_confusion_matrix:\n",
            "[[349  90 155]\n",
            " [ 94 484  71]\n",
            " [ 88  74 422]]\n"
          ]
        },
        {
          "name": "stderr",
          "output_type": "stream",
          "text": [
            "  0%|          | 0/57 [00:00<?, ?it/s]/var/folders/3c/71b8pg6d7j5dht_5h_2n4n_c0000gn/T/ipykernel_8755/1114866685.py:147: UserWarning: Implicit dimension choice for log_softmax has been deprecated. Change the call to include dim=X as an argument.\n",
            "  out = torch.nn.functional.log_softmax(out)\n",
            "100%|██████████| 57/57 [00:11<00:00,  4.95it/s]\n",
            "  0%|          | 0/2 [00:00<?, ?it/s]/var/folders/3c/71b8pg6d7j5dht_5h_2n4n_c0000gn/T/ipykernel_8755/1114866685.py:147: UserWarning: Implicit dimension choice for log_softmax has been deprecated. Change the call to include dim=X as an argument.\n",
            "  out = torch.nn.functional.log_softmax(out)\n",
            "100%|██████████| 2/2 [00:00<00:00,  5.00it/s]\n"
          ]
        },
        {
          "name": "stdout",
          "output_type": "stream",
          "text": [
            "\n",
            "epoch 14\n",
            "\ttrain_loss:0.636 valid_loss:0.707\n",
            "\ttrain_acc:73.94% valid_acc:70.72%\n",
            "\ttrain_f1:0.740 valid_f1:0.706\n",
            "\ttrain_confusion_matrix:\n",
            "[[1673  250  523]\n",
            " [ 328 1839  223]\n",
            " [ 377  200 1883]]\n",
            "\tvalid_confusion_matrix:\n",
            "[[363  89 142]\n",
            " [ 86 500  63]\n",
            " [ 88  67 429]]\n"
          ]
        },
        {
          "name": "stderr",
          "output_type": "stream",
          "text": [
            "  0%|          | 0/57 [00:00<?, ?it/s]/var/folders/3c/71b8pg6d7j5dht_5h_2n4n_c0000gn/T/ipykernel_8755/1114866685.py:147: UserWarning: Implicit dimension choice for log_softmax has been deprecated. Change the call to include dim=X as an argument.\n",
            "  out = torch.nn.functional.log_softmax(out)\n",
            "100%|██████████| 57/57 [00:11<00:00,  4.76it/s]\n",
            "  0%|          | 0/2 [00:00<?, ?it/s]/var/folders/3c/71b8pg6d7j5dht_5h_2n4n_c0000gn/T/ipykernel_8755/1114866685.py:147: UserWarning: Implicit dimension choice for log_softmax has been deprecated. Change the call to include dim=X as an argument.\n",
            "  out = torch.nn.functional.log_softmax(out)\n",
            "100%|██████████| 2/2 [00:00<00:00,  4.33it/s]\n"
          ]
        },
        {
          "name": "stdout",
          "output_type": "stream",
          "text": [
            "\n",
            "epoch 15\n",
            "\ttrain_loss:0.620 valid_loss:0.705\n",
            "\ttrain_acc:74.85% valid_acc:70.17%\n",
            "\ttrain_f1:0.749 valid_f1:0.703\n",
            "\ttrain_confusion_matrix:\n",
            "[[1705  233  511]\n",
            " [ 320 1837  233]\n",
            " [ 366  172 1919]]\n",
            "\tvalid_confusion_matrix:\n",
            "[[388  74 132]\n",
            " [118 465  66]\n",
            " [102  53 429]]\n"
          ]
        },
        {
          "name": "stderr",
          "output_type": "stream",
          "text": [
            "  0%|          | 0/57 [00:00<?, ?it/s]/var/folders/3c/71b8pg6d7j5dht_5h_2n4n_c0000gn/T/ipykernel_8755/1114866685.py:147: UserWarning: Implicit dimension choice for log_softmax has been deprecated. Change the call to include dim=X as an argument.\n",
            "  out = torch.nn.functional.log_softmax(out)\n",
            "100%|██████████| 57/57 [00:12<00:00,  4.73it/s]\n",
            "  0%|          | 0/2 [00:00<?, ?it/s]/var/folders/3c/71b8pg6d7j5dht_5h_2n4n_c0000gn/T/ipykernel_8755/1114866685.py:147: UserWarning: Implicit dimension choice for log_softmax has been deprecated. Change the call to include dim=X as an argument.\n",
            "  out = torch.nn.functional.log_softmax(out)\n",
            "100%|██████████| 2/2 [00:00<00:00,  4.84it/s]\n"
          ]
        },
        {
          "name": "stdout",
          "output_type": "stream",
          "text": [
            "\n",
            "epoch 16\n",
            "\ttrain_loss:0.623 valid_loss:0.703\n",
            "\ttrain_acc:74.90% valid_acc:70.50%\n",
            "\ttrain_f1:0.749 valid_f1:0.703\n",
            "\ttrain_confusion_matrix:\n",
            "[[1734  257  457]\n",
            " [ 315 1855  221]\n",
            " [ 386  195 1876]]\n",
            "\tvalid_confusion_matrix:\n",
            "[[338  78 178]\n",
            " [ 84 486  79]\n",
            " [ 68  52 464]]\n"
          ]
        },
        {
          "name": "stderr",
          "output_type": "stream",
          "text": [
            "  0%|          | 0/57 [00:00<?, ?it/s]/var/folders/3c/71b8pg6d7j5dht_5h_2n4n_c0000gn/T/ipykernel_8755/1114866685.py:147: UserWarning: Implicit dimension choice for log_softmax has been deprecated. Change the call to include dim=X as an argument.\n",
            "  out = torch.nn.functional.log_softmax(out)\n",
            "100%|██████████| 57/57 [00:10<00:00,  5.28it/s]\n",
            "  0%|          | 0/2 [00:00<?, ?it/s]/var/folders/3c/71b8pg6d7j5dht_5h_2n4n_c0000gn/T/ipykernel_8755/1114866685.py:147: UserWarning: Implicit dimension choice for log_softmax has been deprecated. Change the call to include dim=X as an argument.\n",
            "  out = torch.nn.functional.log_softmax(out)\n",
            "100%|██████████| 2/2 [00:00<00:00,  5.11it/s]\n"
          ]
        },
        {
          "name": "stdout",
          "output_type": "stream",
          "text": [
            "\n",
            "epoch 17\n",
            "\ttrain_loss:0.614 valid_loss:0.709\n",
            "\ttrain_acc:75.48% valid_acc:70.44%\n",
            "\ttrain_f1:0.755 valid_f1:0.705\n",
            "\ttrain_confusion_matrix:\n",
            "[[1683  232  529]\n",
            " [ 299 1835  261]\n",
            " [ 317  151 1989]]\n",
            "\tvalid_confusion_matrix:\n",
            "[[377  72 145]\n",
            " [ 92 475  82]\n",
            " [ 87  62 435]]\n"
          ]
        },
        {
          "name": "stderr",
          "output_type": "stream",
          "text": [
            "  0%|          | 0/57 [00:00<?, ?it/s]/var/folders/3c/71b8pg6d7j5dht_5h_2n4n_c0000gn/T/ipykernel_8755/1114866685.py:147: UserWarning: Implicit dimension choice for log_softmax has been deprecated. Change the call to include dim=X as an argument.\n",
            "  out = torch.nn.functional.log_softmax(out)\n",
            "100%|██████████| 57/57 [00:11<00:00,  5.08it/s]\n",
            "  0%|          | 0/2 [00:00<?, ?it/s]/var/folders/3c/71b8pg6d7j5dht_5h_2n4n_c0000gn/T/ipykernel_8755/1114866685.py:147: UserWarning: Implicit dimension choice for log_softmax has been deprecated. Change the call to include dim=X as an argument.\n",
            "  out = torch.nn.functional.log_softmax(out)\n",
            "100%|██████████| 2/2 [00:00<00:00,  5.12it/s]\n"
          ]
        },
        {
          "name": "stdout",
          "output_type": "stream",
          "text": [
            "\n",
            "epoch 18\n",
            "\ttrain_loss:0.615 valid_loss:0.696\n",
            "\ttrain_acc:75.51% valid_acc:70.94%\n",
            "\ttrain_f1:0.755 valid_f1:0.709\n",
            "\ttrain_confusion_matrix:\n",
            "[[1783  229  432]\n",
            " [ 299 1884  210]\n",
            " [ 413  204 1842]]\n",
            "\tvalid_confusion_matrix:\n",
            "[[398  85 111]\n",
            " [ 96 492  61]\n",
            " [104  74 406]]\n"
          ]
        },
        {
          "name": "stderr",
          "output_type": "stream",
          "text": [
            "  0%|          | 0/57 [00:00<?, ?it/s]/var/folders/3c/71b8pg6d7j5dht_5h_2n4n_c0000gn/T/ipykernel_8755/1114866685.py:147: UserWarning: Implicit dimension choice for log_softmax has been deprecated. Change the call to include dim=X as an argument.\n",
            "  out = torch.nn.functional.log_softmax(out)\n",
            "100%|██████████| 57/57 [00:11<00:00,  5.08it/s]\n",
            "  0%|          | 0/2 [00:00<?, ?it/s]/var/folders/3c/71b8pg6d7j5dht_5h_2n4n_c0000gn/T/ipykernel_8755/1114866685.py:147: UserWarning: Implicit dimension choice for log_softmax has been deprecated. Change the call to include dim=X as an argument.\n",
            "  out = torch.nn.functional.log_softmax(out)\n",
            "100%|██████████| 2/2 [00:00<00:00,  5.24it/s]\n"
          ]
        },
        {
          "name": "stdout",
          "output_type": "stream",
          "text": [
            "\n",
            "epoch 19\n",
            "\ttrain_loss:0.591 valid_loss:0.688\n",
            "\ttrain_acc:76.66% valid_acc:70.83%\n",
            "\ttrain_f1:0.767 valid_f1:0.709\n",
            "\ttrain_confusion_matrix:\n",
            "[[1755  219  473]\n",
            " [ 298 1867  227]\n",
            " [ 327  159 1971]]\n",
            "\tvalid_confusion_matrix:\n",
            "[[423  67 104]\n",
            " [113 478  58]\n",
            " [115  76 393]]\n",
            "Loading saved model from: model_task2.bin\n"
          ]
        },
        {
          "name": "stderr",
          "output_type": "stream",
          "text": [
            "  0%|          | 0/2 [00:00<?, ?it/s]/var/folders/3c/71b8pg6d7j5dht_5h_2n4n_c0000gn/T/ipykernel_8755/1114866685.py:147: UserWarning: Implicit dimension choice for log_softmax has been deprecated. Change the call to include dim=X as an argument.\n",
            "  out = torch.nn.functional.log_softmax(out)\n",
            "100%|██████████| 2/2 [00:00<00:00,  5.18it/s]\n"
          ]
        },
        {
          "name": "stdout",
          "output_type": "stream",
          "text": [
            "              precision    recall  f1-score   support\n",
            "\n",
            "     Neutral       0.66      0.72      0.69       594\n",
            "    Positive       0.78      0.75      0.76       649\n",
            "    Negative       0.72      0.69      0.71       584\n",
            "\n",
            "    accuracy                           0.72      1827\n",
            "   macro avg       0.72      0.72      0.72      1827\n",
            "weighted avg       0.72      0.72      0.72      1827\n",
            "\n",
            "\n",
            "******************************************************************************************\n",
            "Alpha Size: 0.2\n",
            "Window Size: 4\n",
            "******************************************************************************************\n",
            "\n",
            "train samples:7305\n",
            "valid samples:1827\n"
          ]
        },
        {
          "name": "stderr",
          "output_type": "stream",
          "text": [
            "  0%|          | 0/57 [00:00<?, ?it/s]/var/folders/3c/71b8pg6d7j5dht_5h_2n4n_c0000gn/T/ipykernel_8755/1114866685.py:147: UserWarning: Implicit dimension choice for log_softmax has been deprecated. Change the call to include dim=X as an argument.\n",
            "  out = torch.nn.functional.log_softmax(out)\n",
            "100%|██████████| 57/57 [00:12<00:00,  4.60it/s]\n",
            "  0%|          | 0/2 [00:00<?, ?it/s]/var/folders/3c/71b8pg6d7j5dht_5h_2n4n_c0000gn/T/ipykernel_8755/1114866685.py:147: UserWarning: Implicit dimension choice for log_softmax has been deprecated. Change the call to include dim=X as an argument.\n",
            "  out = torch.nn.functional.log_softmax(out)\n",
            "100%|██████████| 2/2 [00:00<00:00,  4.22it/s]\n"
          ]
        },
        {
          "name": "stdout",
          "output_type": "stream",
          "text": [
            "\n",
            "epoch 0\n",
            "\ttrain_loss:1.086 valid_loss:1.072\n",
            "\ttrain_acc:45.94% valid_acc:54.02%\n",
            "\ttrain_f1:0.447 valid_f1:0.534\n",
            "\ttrain_confusion_matrix:\n",
            "[[ 706  319 1401]\n",
            " [ 508  945  989]\n",
            " [ 461  266 1701]]\n",
            "\tvalid_confusion_matrix:\n",
            "[[249 176 191]\n",
            " [ 96 405  99]\n",
            " [120 158 333]]\n"
          ]
        },
        {
          "name": "stderr",
          "output_type": "stream",
          "text": [
            "  0%|          | 0/57 [00:00<?, ?it/s]/var/folders/3c/71b8pg6d7j5dht_5h_2n4n_c0000gn/T/ipykernel_8755/1114866685.py:147: UserWarning: Implicit dimension choice for log_softmax has been deprecated. Change the call to include dim=X as an argument.\n",
            "  out = torch.nn.functional.log_softmax(out)\n",
            "100%|██████████| 57/57 [00:13<00:00,  4.36it/s]\n",
            "  0%|          | 0/2 [00:00<?, ?it/s]/var/folders/3c/71b8pg6d7j5dht_5h_2n4n_c0000gn/T/ipykernel_8755/1114866685.py:147: UserWarning: Implicit dimension choice for log_softmax has been deprecated. Change the call to include dim=X as an argument.\n",
            "  out = torch.nn.functional.log_softmax(out)\n",
            "100%|██████████| 2/2 [00:00<00:00,  4.20it/s]\n"
          ]
        },
        {
          "name": "stdout",
          "output_type": "stream",
          "text": [
            "\n",
            "epoch 1\n",
            "\ttrain_loss:1.044 valid_loss:0.993\n",
            "\ttrain_acc:55.81% valid_acc:56.38%\n",
            "\ttrain_f1:0.553 valid_f1:0.538\n",
            "\ttrain_confusion_matrix:\n",
            "[[1064  679  683]\n",
            " [ 396 1735  311]\n",
            " [ 531  624 1273]]\n",
            "\tvalid_confusion_matrix:\n",
            "[[159 183 274]\n",
            " [ 34 452 114]\n",
            " [ 44 148 419]]\n"
          ]
        },
        {
          "name": "stderr",
          "output_type": "stream",
          "text": [
            "  0%|          | 0/57 [00:00<?, ?it/s]/var/folders/3c/71b8pg6d7j5dht_5h_2n4n_c0000gn/T/ipykernel_8755/1114866685.py:147: UserWarning: Implicit dimension choice for log_softmax has been deprecated. Change the call to include dim=X as an argument.\n",
            "  out = torch.nn.functional.log_softmax(out)\n",
            "100%|██████████| 57/57 [00:12<00:00,  4.39it/s]\n",
            "  0%|          | 0/2 [00:00<?, ?it/s]/var/folders/3c/71b8pg6d7j5dht_5h_2n4n_c0000gn/T/ipykernel_8755/1114866685.py:147: UserWarning: Implicit dimension choice for log_softmax has been deprecated. Change the call to include dim=X as an argument.\n",
            "  out = torch.nn.functional.log_softmax(out)\n",
            "100%|██████████| 2/2 [00:00<00:00,  4.04it/s]\n"
          ]
        },
        {
          "name": "stdout",
          "output_type": "stream",
          "text": [
            "\n",
            "epoch 2\n",
            "\ttrain_loss:0.927 valid_loss:0.890\n",
            "\ttrain_acc:57.29% valid_acc:59.82%\n",
            "\ttrain_f1:0.546 valid_f1:0.588\n",
            "\ttrain_confusion_matrix:\n",
            "[[ 613  626 1186]\n",
            " [ 162 1806  472]\n",
            " [ 160  510 1761]]\n",
            "\tvalid_confusion_matrix:\n",
            "[[230  99 287]\n",
            " [103 390 107]\n",
            " [ 76  62 473]]\n"
          ]
        },
        {
          "name": "stderr",
          "output_type": "stream",
          "text": [
            "  0%|          | 0/57 [00:00<?, ?it/s]/var/folders/3c/71b8pg6d7j5dht_5h_2n4n_c0000gn/T/ipykernel_8755/1114866685.py:147: UserWarning: Implicit dimension choice for log_softmax has been deprecated. Change the call to include dim=X as an argument.\n",
            "  out = torch.nn.functional.log_softmax(out)\n",
            "100%|██████████| 57/57 [00:12<00:00,  4.58it/s]\n",
            "  0%|          | 0/2 [00:00<?, ?it/s]/var/folders/3c/71b8pg6d7j5dht_5h_2n4n_c0000gn/T/ipykernel_8755/1114866685.py:147: UserWarning: Implicit dimension choice for log_softmax has been deprecated. Change the call to include dim=X as an argument.\n",
            "  out = torch.nn.functional.log_softmax(out)\n",
            "100%|██████████| 2/2 [00:00<00:00,  4.47it/s]\n"
          ]
        },
        {
          "name": "stdout",
          "output_type": "stream",
          "text": [
            "\n",
            "epoch 3\n",
            "\ttrain_loss:0.857 valid_loss:0.833\n",
            "\ttrain_acc:62.08% valid_acc:64.15%\n",
            "\ttrain_f1:0.615 valid_f1:0.636\n",
            "\ttrain_confusion_matrix:\n",
            "[[1078  490  857]\n",
            " [ 345 1784  314]\n",
            " [ 430  331 1667]]\n",
            "\tvalid_confusion_matrix:\n",
            "[[295 148 173]\n",
            " [ 79 468  53]\n",
            " [118  84 409]]\n"
          ]
        },
        {
          "name": "stderr",
          "output_type": "stream",
          "text": [
            "  0%|          | 0/57 [00:00<?, ?it/s]/var/folders/3c/71b8pg6d7j5dht_5h_2n4n_c0000gn/T/ipykernel_8755/1114866685.py:147: UserWarning: Implicit dimension choice for log_softmax has been deprecated. Change the call to include dim=X as an argument.\n",
            "  out = torch.nn.functional.log_softmax(out)\n",
            "100%|██████████| 57/57 [00:12<00:00,  4.64it/s]\n",
            "  0%|          | 0/2 [00:00<?, ?it/s]/var/folders/3c/71b8pg6d7j5dht_5h_2n4n_c0000gn/T/ipykernel_8755/1114866685.py:147: UserWarning: Implicit dimension choice for log_softmax has been deprecated. Change the call to include dim=X as an argument.\n",
            "  out = torch.nn.functional.log_softmax(out)\n",
            "100%|██████████| 2/2 [00:00<00:00,  4.48it/s]\n"
          ]
        },
        {
          "name": "stdout",
          "output_type": "stream",
          "text": [
            "\n",
            "epoch 4\n",
            "\ttrain_loss:0.812 valid_loss:0.792\n",
            "\ttrain_acc:63.54% valid_acc:65.63%\n",
            "\ttrain_f1:0.632 valid_f1:0.651\n",
            "\ttrain_confusion_matrix:\n",
            "[[1182  485  756]\n",
            " [ 355 1798  290]\n",
            " [ 493  281 1656]]\n",
            "\tvalid_confusion_matrix:\n",
            "[[299 116 201]\n",
            " [ 77 448  75]\n",
            " [100  59 452]]\n"
          ]
        },
        {
          "name": "stderr",
          "output_type": "stream",
          "text": [
            "  0%|          | 0/57 [00:00<?, ?it/s]/var/folders/3c/71b8pg6d7j5dht_5h_2n4n_c0000gn/T/ipykernel_8755/1114866685.py:147: UserWarning: Implicit dimension choice for log_softmax has been deprecated. Change the call to include dim=X as an argument.\n",
            "  out = torch.nn.functional.log_softmax(out)\n",
            "100%|██████████| 57/57 [00:12<00:00,  4.51it/s]\n",
            "  0%|          | 0/2 [00:00<?, ?it/s]/var/folders/3c/71b8pg6d7j5dht_5h_2n4n_c0000gn/T/ipykernel_8755/1114866685.py:147: UserWarning: Implicit dimension choice for log_softmax has been deprecated. Change the call to include dim=X as an argument.\n",
            "  out = torch.nn.functional.log_softmax(out)\n",
            "100%|██████████| 2/2 [00:00<00:00,  4.44it/s]\n"
          ]
        },
        {
          "name": "stdout",
          "output_type": "stream",
          "text": [
            "\n",
            "epoch 5\n",
            "\ttrain_loss:0.780 valid_loss:0.766\n",
            "\ttrain_acc:64.94% valid_acc:67.27%\n",
            "\ttrain_f1:0.647 valid_f1:0.669\n",
            "\ttrain_confusion_matrix:\n",
            "[[1229  415  781]\n",
            " [ 326 1806  311]\n",
            " [ 484  241 1703]]\n",
            "\tvalid_confusion_matrix:\n",
            "[[318 104 194]\n",
            " [ 80 444  76]\n",
            " [ 93  51 467]]\n"
          ]
        },
        {
          "name": "stderr",
          "output_type": "stream",
          "text": [
            "  0%|          | 0/57 [00:00<?, ?it/s]/var/folders/3c/71b8pg6d7j5dht_5h_2n4n_c0000gn/T/ipykernel_8755/1114866685.py:147: UserWarning: Implicit dimension choice for log_softmax has been deprecated. Change the call to include dim=X as an argument.\n",
            "  out = torch.nn.functional.log_softmax(out)\n",
            "100%|██████████| 57/57 [00:12<00:00,  4.54it/s]\n",
            "  0%|          | 0/2 [00:00<?, ?it/s]/var/folders/3c/71b8pg6d7j5dht_5h_2n4n_c0000gn/T/ipykernel_8755/1114866685.py:147: UserWarning: Implicit dimension choice for log_softmax has been deprecated. Change the call to include dim=X as an argument.\n",
            "  out = torch.nn.functional.log_softmax(out)\n",
            "100%|██████████| 2/2 [00:00<00:00,  4.43it/s]\n"
          ]
        },
        {
          "name": "stdout",
          "output_type": "stream",
          "text": [
            "\n",
            "epoch 6\n",
            "\ttrain_loss:0.758 valid_loss:0.751\n",
            "\ttrain_acc:66.20% valid_acc:68.36%\n",
            "\ttrain_f1:0.660 valid_f1:0.683\n",
            "\ttrain_confusion_matrix:\n",
            "[[1295  398  733]\n",
            " [ 348 1815  279]\n",
            " [ 480  228 1720]]\n",
            "\tvalid_confusion_matrix:\n",
            "[[368  96 152]\n",
            " [ 90 452  58]\n",
            " [129  53 429]]\n"
          ]
        },
        {
          "name": "stderr",
          "output_type": "stream",
          "text": [
            "  0%|          | 0/57 [00:00<?, ?it/s]/var/folders/3c/71b8pg6d7j5dht_5h_2n4n_c0000gn/T/ipykernel_8755/1114866685.py:147: UserWarning: Implicit dimension choice for log_softmax has been deprecated. Change the call to include dim=X as an argument.\n",
            "  out = torch.nn.functional.log_softmax(out)\n",
            "100%|██████████| 57/57 [00:12<00:00,  4.52it/s]\n",
            "  0%|          | 0/2 [00:00<?, ?it/s]/var/folders/3c/71b8pg6d7j5dht_5h_2n4n_c0000gn/T/ipykernel_8755/1114866685.py:147: UserWarning: Implicit dimension choice for log_softmax has been deprecated. Change the call to include dim=X as an argument.\n",
            "  out = torch.nn.functional.log_softmax(out)\n",
            "100%|██████████| 2/2 [00:00<00:00,  4.25it/s]\n"
          ]
        },
        {
          "name": "stdout",
          "output_type": "stream",
          "text": [
            "\n",
            "epoch 7\n",
            "\ttrain_loss:0.738 valid_loss:0.733\n",
            "\ttrain_acc:67.54% valid_acc:69.68%\n",
            "\ttrain_f1:0.674 valid_f1:0.695\n",
            "\ttrain_confusion_matrix:\n",
            "[[1361  361  704]\n",
            " [ 368 1818  256]\n",
            " [ 487  192 1749]]\n",
            "\tvalid_confusion_matrix:\n",
            "[[366 102 148]\n",
            " [ 77 470  53]\n",
            " [112  62 437]]\n"
          ]
        },
        {
          "name": "stderr",
          "output_type": "stream",
          "text": [
            "  0%|          | 0/57 [00:00<?, ?it/s]/var/folders/3c/71b8pg6d7j5dht_5h_2n4n_c0000gn/T/ipykernel_8755/1114866685.py:147: UserWarning: Implicit dimension choice for log_softmax has been deprecated. Change the call to include dim=X as an argument.\n",
            "  out = torch.nn.functional.log_softmax(out)\n",
            "100%|██████████| 57/57 [00:12<00:00,  4.59it/s]\n",
            "  0%|          | 0/2 [00:00<?, ?it/s]/var/folders/3c/71b8pg6d7j5dht_5h_2n4n_c0000gn/T/ipykernel_8755/1114866685.py:147: UserWarning: Implicit dimension choice for log_softmax has been deprecated. Change the call to include dim=X as an argument.\n",
            "  out = torch.nn.functional.log_softmax(out)\n",
            "100%|██████████| 2/2 [00:00<00:00,  4.24it/s]\n"
          ]
        },
        {
          "name": "stdout",
          "output_type": "stream",
          "text": [
            "\n",
            "epoch 8\n",
            "\ttrain_loss:0.731 valid_loss:0.727\n",
            "\ttrain_acc:68.56% valid_acc:69.57%\n",
            "\ttrain_f1:0.685 valid_f1:0.690\n",
            "\ttrain_confusion_matrix:\n",
            "[[1407  356  662]\n",
            " [ 344 1840  258]\n",
            " [ 456  218 1755]]\n",
            "\tvalid_confusion_matrix:\n",
            "[[327 123 166]\n",
            " [ 53 488  59]\n",
            " [ 85  70 456]]\n"
          ]
        },
        {
          "name": "stderr",
          "output_type": "stream",
          "text": [
            "  0%|          | 0/57 [00:00<?, ?it/s]/var/folders/3c/71b8pg6d7j5dht_5h_2n4n_c0000gn/T/ipykernel_8755/1114866685.py:147: UserWarning: Implicit dimension choice for log_softmax has been deprecated. Change the call to include dim=X as an argument.\n",
            "  out = torch.nn.functional.log_softmax(out)\n",
            "100%|██████████| 57/57 [00:12<00:00,  4.58it/s]\n",
            "  0%|          | 0/2 [00:00<?, ?it/s]/var/folders/3c/71b8pg6d7j5dht_5h_2n4n_c0000gn/T/ipykernel_8755/1114866685.py:147: UserWarning: Implicit dimension choice for log_softmax has been deprecated. Change the call to include dim=X as an argument.\n",
            "  out = torch.nn.functional.log_softmax(out)\n",
            "100%|██████████| 2/2 [00:00<00:00,  4.36it/s]\n"
          ]
        },
        {
          "name": "stdout",
          "output_type": "stream",
          "text": [
            "\n",
            "epoch 9\n",
            "\ttrain_loss:0.706 valid_loss:0.702\n",
            "\ttrain_acc:70.07% valid_acc:70.61%\n",
            "\ttrain_f1:0.699 valid_f1:0.705\n",
            "\ttrain_confusion_matrix:\n",
            "[[1414  347  664]\n",
            " [ 327 1867  245]\n",
            " [ 409  192 1831]]\n",
            "\tvalid_confusion_matrix:\n",
            "[[371  98 147]\n",
            " [ 84 459  57]\n",
            " [107  44 460]]\n"
          ]
        },
        {
          "name": "stderr",
          "output_type": "stream",
          "text": [
            "  0%|          | 0/57 [00:00<?, ?it/s]/var/folders/3c/71b8pg6d7j5dht_5h_2n4n_c0000gn/T/ipykernel_8755/1114866685.py:147: UserWarning: Implicit dimension choice for log_softmax has been deprecated. Change the call to include dim=X as an argument.\n",
            "  out = torch.nn.functional.log_softmax(out)\n",
            "100%|██████████| 57/57 [00:12<00:00,  4.60it/s]\n",
            "  0%|          | 0/2 [00:00<?, ?it/s]/var/folders/3c/71b8pg6d7j5dht_5h_2n4n_c0000gn/T/ipykernel_8755/1114866685.py:147: UserWarning: Implicit dimension choice for log_softmax has been deprecated. Change the call to include dim=X as an argument.\n",
            "  out = torch.nn.functional.log_softmax(out)\n",
            "100%|██████████| 2/2 [00:00<00:00,  4.21it/s]\n"
          ]
        },
        {
          "name": "stdout",
          "output_type": "stream",
          "text": [
            "\n",
            "epoch 10\n",
            "\ttrain_loss:0.696 valid_loss:0.695\n",
            "\ttrain_acc:70.53% valid_acc:71.54%\n",
            "\ttrain_f1:0.704 valid_f1:0.716\n",
            "\ttrain_confusion_matrix:\n",
            "[[1457  316  652]\n",
            " [ 347 1819  275]\n",
            " [ 390  170 1870]]\n",
            "\tvalid_confusion_matrix:\n",
            "[[404  87 125]\n",
            " [ 92 456  52]\n",
            " [119  45 447]]\n"
          ]
        },
        {
          "name": "stderr",
          "output_type": "stream",
          "text": [
            "  0%|          | 0/57 [00:00<?, ?it/s]/var/folders/3c/71b8pg6d7j5dht_5h_2n4n_c0000gn/T/ipykernel_8755/1114866685.py:147: UserWarning: Implicit dimension choice for log_softmax has been deprecated. Change the call to include dim=X as an argument.\n",
            "  out = torch.nn.functional.log_softmax(out)\n",
            "100%|██████████| 57/57 [00:12<00:00,  4.45it/s]\n",
            "  0%|          | 0/2 [00:00<?, ?it/s]/var/folders/3c/71b8pg6d7j5dht_5h_2n4n_c0000gn/T/ipykernel_8755/1114866685.py:147: UserWarning: Implicit dimension choice for log_softmax has been deprecated. Change the call to include dim=X as an argument.\n",
            "  out = torch.nn.functional.log_softmax(out)\n",
            "100%|██████████| 2/2 [00:00<00:00,  4.11it/s]\n"
          ]
        },
        {
          "name": "stdout",
          "output_type": "stream",
          "text": [
            "\n",
            "epoch 11\n",
            "\ttrain_loss:0.680 valid_loss:0.687\n",
            "\ttrain_acc:71.72% valid_acc:71.48%\n",
            "\ttrain_f1:0.717 valid_f1:0.713\n",
            "\ttrain_confusion_matrix:\n",
            "[[1543  307  576]\n",
            " [ 346 1861  234]\n",
            " [ 421  179 1829]]\n",
            "\tvalid_confusion_matrix:\n",
            "[[365  90 161]\n",
            " [ 79 459  62]\n",
            " [ 86  43 482]]\n"
          ]
        },
        {
          "name": "stderr",
          "output_type": "stream",
          "text": [
            "  0%|          | 0/57 [00:00<?, ?it/s]/var/folders/3c/71b8pg6d7j5dht_5h_2n4n_c0000gn/T/ipykernel_8755/1114866685.py:147: UserWarning: Implicit dimension choice for log_softmax has been deprecated. Change the call to include dim=X as an argument.\n",
            "  out = torch.nn.functional.log_softmax(out)\n",
            "100%|██████████| 57/57 [00:12<00:00,  4.63it/s]\n",
            "  0%|          | 0/2 [00:00<?, ?it/s]/var/folders/3c/71b8pg6d7j5dht_5h_2n4n_c0000gn/T/ipykernel_8755/1114866685.py:147: UserWarning: Implicit dimension choice for log_softmax has been deprecated. Change the call to include dim=X as an argument.\n",
            "  out = torch.nn.functional.log_softmax(out)\n",
            "100%|██████████| 2/2 [00:00<00:00,  4.10it/s]\n"
          ]
        },
        {
          "name": "stdout",
          "output_type": "stream",
          "text": [
            "\n",
            "epoch 12\n",
            "\ttrain_loss:0.665 valid_loss:0.680\n",
            "\ttrain_acc:72.70% valid_acc:71.70%\n",
            "\ttrain_f1:0.727 valid_f1:0.716\n",
            "\ttrain_confusion_matrix:\n",
            "[[1554  295  577]\n",
            " [ 332 1868  239]\n",
            " [ 381  168 1882]]\n",
            "\tvalid_confusion_matrix:\n",
            "[[388  80 148]\n",
            " [ 83 456  61]\n",
            " [103  42 466]]\n"
          ]
        },
        {
          "name": "stderr",
          "output_type": "stream",
          "text": [
            "  0%|          | 0/57 [00:00<?, ?it/s]/var/folders/3c/71b8pg6d7j5dht_5h_2n4n_c0000gn/T/ipykernel_8755/1114866685.py:147: UserWarning: Implicit dimension choice for log_softmax has been deprecated. Change the call to include dim=X as an argument.\n",
            "  out = torch.nn.functional.log_softmax(out)\n",
            "100%|██████████| 57/57 [00:13<00:00,  4.35it/s]\n",
            "  0%|          | 0/2 [00:00<?, ?it/s]/var/folders/3c/71b8pg6d7j5dht_5h_2n4n_c0000gn/T/ipykernel_8755/1114866685.py:147: UserWarning: Implicit dimension choice for log_softmax has been deprecated. Change the call to include dim=X as an argument.\n",
            "  out = torch.nn.functional.log_softmax(out)\n",
            "100%|██████████| 2/2 [00:00<00:00,  3.67it/s]\n"
          ]
        },
        {
          "name": "stdout",
          "output_type": "stream",
          "text": [
            "\n",
            "epoch 13\n",
            "\ttrain_loss:0.668 valid_loss:0.670\n",
            "\ttrain_acc:72.29% valid_acc:71.15%\n",
            "\ttrain_f1:0.723 valid_f1:0.711\n",
            "\ttrain_confusion_matrix:\n",
            "[[1600  308  517]\n",
            " [ 348 1846  248]\n",
            " [ 406  195 1828]]\n",
            "\tvalid_confusion_matrix:\n",
            "[[406  89 121]\n",
            " [ 81 460  59]\n",
            " [122  55 434]]\n"
          ]
        },
        {
          "name": "stderr",
          "output_type": "stream",
          "text": [
            "  0%|          | 0/57 [00:00<?, ?it/s]/var/folders/3c/71b8pg6d7j5dht_5h_2n4n_c0000gn/T/ipykernel_8755/1114866685.py:147: UserWarning: Implicit dimension choice for log_softmax has been deprecated. Change the call to include dim=X as an argument.\n",
            "  out = torch.nn.functional.log_softmax(out)\n",
            "100%|██████████| 57/57 [00:12<00:00,  4.48it/s]\n",
            "  0%|          | 0/2 [00:00<?, ?it/s]/var/folders/3c/71b8pg6d7j5dht_5h_2n4n_c0000gn/T/ipykernel_8755/1114866685.py:147: UserWarning: Implicit dimension choice for log_softmax has been deprecated. Change the call to include dim=X as an argument.\n",
            "  out = torch.nn.functional.log_softmax(out)\n",
            "100%|██████████| 2/2 [00:00<00:00,  4.16it/s]\n"
          ]
        },
        {
          "name": "stdout",
          "output_type": "stream",
          "text": [
            "\n",
            "epoch 14\n",
            "\ttrain_loss:0.647 valid_loss:0.668\n",
            "\ttrain_acc:73.40% valid_acc:72.25%\n",
            "\ttrain_f1:0.734 valid_f1:0.724\n",
            "\ttrain_confusion_matrix:\n",
            "[[1609  301  515]\n",
            " [ 332 1871  237]\n",
            " [ 393  163 1875]]\n",
            "\tvalid_confusion_matrix:\n",
            "[[448  73  95]\n",
            " [101 455  44]\n",
            " [147  47 417]]\n"
          ]
        },
        {
          "name": "stderr",
          "output_type": "stream",
          "text": [
            "  0%|          | 0/57 [00:00<?, ?it/s]/var/folders/3c/71b8pg6d7j5dht_5h_2n4n_c0000gn/T/ipykernel_8755/1114866685.py:147: UserWarning: Implicit dimension choice for log_softmax has been deprecated. Change the call to include dim=X as an argument.\n",
            "  out = torch.nn.functional.log_softmax(out)\n",
            "100%|██████████| 57/57 [00:12<00:00,  4.65it/s]\n",
            "  0%|          | 0/2 [00:00<?, ?it/s]/var/folders/3c/71b8pg6d7j5dht_5h_2n4n_c0000gn/T/ipykernel_8755/1114866685.py:147: UserWarning: Implicit dimension choice for log_softmax has been deprecated. Change the call to include dim=X as an argument.\n",
            "  out = torch.nn.functional.log_softmax(out)\n",
            "100%|██████████| 2/2 [00:00<00:00,  4.33it/s]\n"
          ]
        },
        {
          "name": "stdout",
          "output_type": "stream",
          "text": [
            "\n",
            "epoch 15\n",
            "\ttrain_loss:0.630 valid_loss:0.650\n",
            "\ttrain_acc:74.31% valid_acc:73.23%\n",
            "\ttrain_f1:0.743 valid_f1:0.732\n",
            "\ttrain_confusion_matrix:\n",
            "[[1641  280  502]\n",
            " [ 327 1883  233]\n",
            " [ 375  157 1898]]\n",
            "\tvalid_confusion_matrix:\n",
            "[[395  80 141]\n",
            " [ 75 458  67]\n",
            " [ 95  31 485]]\n"
          ]
        },
        {
          "name": "stderr",
          "output_type": "stream",
          "text": [
            "  0%|          | 0/57 [00:00<?, ?it/s]/var/folders/3c/71b8pg6d7j5dht_5h_2n4n_c0000gn/T/ipykernel_8755/1114866685.py:147: UserWarning: Implicit dimension choice for log_softmax has been deprecated. Change the call to include dim=X as an argument.\n",
            "  out = torch.nn.functional.log_softmax(out)\n",
            "100%|██████████| 57/57 [00:11<00:00,  4.76it/s]\n",
            "  0%|          | 0/2 [00:00<?, ?it/s]/var/folders/3c/71b8pg6d7j5dht_5h_2n4n_c0000gn/T/ipykernel_8755/1114866685.py:147: UserWarning: Implicit dimension choice for log_softmax has been deprecated. Change the call to include dim=X as an argument.\n",
            "  out = torch.nn.functional.log_softmax(out)\n",
            "100%|██████████| 2/2 [00:00<00:00,  3.93it/s]\n"
          ]
        },
        {
          "name": "stdout",
          "output_type": "stream",
          "text": [
            "\n",
            "epoch 16\n",
            "\ttrain_loss:0.614 valid_loss:0.642\n",
            "\ttrain_acc:75.27% valid_acc:73.89%\n",
            "\ttrain_f1:0.753 valid_f1:0.738\n",
            "\ttrain_confusion_matrix:\n",
            "[[1698  259  469]\n",
            " [ 317 1891  234]\n",
            " [ 371  154 1903]]\n",
            "\tvalid_confusion_matrix:\n",
            "[[395  73 148]\n",
            " [ 76 454  70]\n",
            " [ 81  29 501]]\n"
          ]
        },
        {
          "name": "stderr",
          "output_type": "stream",
          "text": [
            "  0%|          | 0/57 [00:00<?, ?it/s]/var/folders/3c/71b8pg6d7j5dht_5h_2n4n_c0000gn/T/ipykernel_8755/1114866685.py:147: UserWarning: Implicit dimension choice for log_softmax has been deprecated. Change the call to include dim=X as an argument.\n",
            "  out = torch.nn.functional.log_softmax(out)\n",
            "100%|██████████| 57/57 [00:12<00:00,  4.70it/s]\n",
            "  0%|          | 0/2 [00:00<?, ?it/s]/var/folders/3c/71b8pg6d7j5dht_5h_2n4n_c0000gn/T/ipykernel_8755/1114866685.py:147: UserWarning: Implicit dimension choice for log_softmax has been deprecated. Change the call to include dim=X as an argument.\n",
            "  out = torch.nn.functional.log_softmax(out)\n",
            "100%|██████████| 2/2 [00:00<00:00,  4.61it/s]\n"
          ]
        },
        {
          "name": "stdout",
          "output_type": "stream",
          "text": [
            "\n",
            "epoch 17\n",
            "\ttrain_loss:0.601 valid_loss:0.628\n",
            "\ttrain_acc:76.00% valid_acc:75.53%\n",
            "\ttrain_f1:0.760 valid_f1:0.756\n",
            "\ttrain_confusion_matrix:\n",
            "[[1728  250  445]\n",
            " [ 297 1902  242]\n",
            " [ 348  169 1915]]\n",
            "\tvalid_confusion_matrix:\n",
            "[[454  64  98]\n",
            " [ 91 451  58]\n",
            " [105  31 475]]\n"
          ]
        },
        {
          "name": "stderr",
          "output_type": "stream",
          "text": [
            "  0%|          | 0/57 [00:00<?, ?it/s]/var/folders/3c/71b8pg6d7j5dht_5h_2n4n_c0000gn/T/ipykernel_8755/1114866685.py:147: UserWarning: Implicit dimension choice for log_softmax has been deprecated. Change the call to include dim=X as an argument.\n",
            "  out = torch.nn.functional.log_softmax(out)\n",
            "100%|██████████| 57/57 [00:12<00:00,  4.61it/s]\n",
            "  0%|          | 0/2 [00:00<?, ?it/s]/var/folders/3c/71b8pg6d7j5dht_5h_2n4n_c0000gn/T/ipykernel_8755/1114866685.py:147: UserWarning: Implicit dimension choice for log_softmax has been deprecated. Change the call to include dim=X as an argument.\n",
            "  out = torch.nn.functional.log_softmax(out)\n",
            "100%|██████████| 2/2 [00:00<00:00,  4.25it/s]\n"
          ]
        },
        {
          "name": "stdout",
          "output_type": "stream",
          "text": [
            "\n",
            "epoch 18\n",
            "\ttrain_loss:0.580 valid_loss:0.617\n",
            "\ttrain_acc:77.36% valid_acc:74.99%\n",
            "\ttrain_f1:0.774 valid_f1:0.751\n",
            "\ttrain_confusion_matrix:\n",
            "[[1772  249  403]\n",
            " [ 279 1936  228]\n",
            " [ 332  161 1936]]\n",
            "\tvalid_confusion_matrix:\n",
            "[[448  60 108]\n",
            " [ 95 444  61]\n",
            " [102  31 478]]\n"
          ]
        },
        {
          "name": "stderr",
          "output_type": "stream",
          "text": [
            "  0%|          | 0/57 [00:00<?, ?it/s]/var/folders/3c/71b8pg6d7j5dht_5h_2n4n_c0000gn/T/ipykernel_8755/1114866685.py:147: UserWarning: Implicit dimension choice for log_softmax has been deprecated. Change the call to include dim=X as an argument.\n",
            "  out = torch.nn.functional.log_softmax(out)\n",
            "100%|██████████| 57/57 [00:12<00:00,  4.61it/s]\n",
            "  0%|          | 0/2 [00:00<?, ?it/s]/var/folders/3c/71b8pg6d7j5dht_5h_2n4n_c0000gn/T/ipykernel_8755/1114866685.py:147: UserWarning: Implicit dimension choice for log_softmax has been deprecated. Change the call to include dim=X as an argument.\n",
            "  out = torch.nn.functional.log_softmax(out)\n",
            "100%|██████████| 2/2 [00:00<00:00,  4.27it/s]\n"
          ]
        },
        {
          "name": "stdout",
          "output_type": "stream",
          "text": [
            "\n",
            "epoch 19\n",
            "\ttrain_loss:0.574 valid_loss:0.625\n",
            "\ttrain_acc:77.84% valid_acc:75.21%\n",
            "\ttrain_f1:0.779 valid_f1:0.752\n",
            "\ttrain_confusion_matrix:\n",
            "[[1804  222  398]\n",
            " [ 306 1912  225]\n",
            " [ 318  148 1963]]\n",
            "\tvalid_confusion_matrix:\n",
            "[[438  89  89]\n",
            " [ 70 477  53]\n",
            " [108  44 459]]\n",
            "Loading saved model from: model_task2.bin\n"
          ]
        },
        {
          "name": "stderr",
          "output_type": "stream",
          "text": [
            "  0%|          | 0/2 [00:00<?, ?it/s]/var/folders/3c/71b8pg6d7j5dht_5h_2n4n_c0000gn/T/ipykernel_8755/1114866685.py:147: UserWarning: Implicit dimension choice for log_softmax has been deprecated. Change the call to include dim=X as an argument.\n",
            "  out = torch.nn.functional.log_softmax(out)\n",
            "100%|██████████| 2/2 [00:00<00:00,  4.47it/s]\n"
          ]
        },
        {
          "name": "stdout",
          "output_type": "stream",
          "text": [
            "              precision    recall  f1-score   support\n",
            "\n",
            "     Neutral       0.70      0.73      0.71       616\n",
            "    Positive       0.84      0.74      0.79       600\n",
            "    Negative       0.74      0.79      0.76       611\n",
            "\n",
            "    accuracy                           0.75      1827\n",
            "   macro avg       0.76      0.75      0.75      1827\n",
            "weighted avg       0.76      0.75      0.75      1827\n",
            "\n",
            "\n",
            "******************************************************************************************\n",
            "Alpha Size: 0.2\n",
            "Window Size: 8\n",
            "******************************************************************************************\n",
            "\n",
            "train samples:7305\n",
            "valid samples:1827\n"
          ]
        },
        {
          "name": "stderr",
          "output_type": "stream",
          "text": [
            "  0%|          | 0/57 [00:00<?, ?it/s]/var/folders/3c/71b8pg6d7j5dht_5h_2n4n_c0000gn/T/ipykernel_8755/1114866685.py:147: UserWarning: Implicit dimension choice for log_softmax has been deprecated. Change the call to include dim=X as an argument.\n",
            "  out = torch.nn.functional.log_softmax(out)\n",
            "100%|██████████| 57/57 [00:13<00:00,  4.24it/s]\n",
            "  0%|          | 0/2 [00:00<?, ?it/s]/var/folders/3c/71b8pg6d7j5dht_5h_2n4n_c0000gn/T/ipykernel_8755/1114866685.py:147: UserWarning: Implicit dimension choice for log_softmax has been deprecated. Change the call to include dim=X as an argument.\n",
            "  out = torch.nn.functional.log_softmax(out)\n",
            "100%|██████████| 2/2 [00:00<00:00,  3.79it/s]\n"
          ]
        },
        {
          "name": "stdout",
          "output_type": "stream",
          "text": [
            "\n",
            "epoch 0\n",
            "\ttrain_loss:1.090 valid_loss:1.077\n",
            "\ttrain_acc:43.45% valid_acc:51.89%\n",
            "\ttrain_f1:0.433 valid_f1:0.501\n",
            "\ttrain_confusion_matrix:\n",
            "[[ 962  774  668]\n",
            " [ 700 1283  463]\n",
            " [ 779  742  925]]\n",
            "\tvalid_confusion_matrix:\n",
            "[[171 126 341]\n",
            " [ 80 341 175]\n",
            " [ 63  94 436]]\n"
          ]
        },
        {
          "name": "stderr",
          "output_type": "stream",
          "text": [
            "  0%|          | 0/57 [00:00<?, ?it/s]/var/folders/3c/71b8pg6d7j5dht_5h_2n4n_c0000gn/T/ipykernel_8755/1114866685.py:147: UserWarning: Implicit dimension choice for log_softmax has been deprecated. Change the call to include dim=X as an argument.\n",
            "  out = torch.nn.functional.log_softmax(out)\n",
            "100%|██████████| 57/57 [00:13<00:00,  4.10it/s]\n",
            "  0%|          | 0/2 [00:00<?, ?it/s]/var/folders/3c/71b8pg6d7j5dht_5h_2n4n_c0000gn/T/ipykernel_8755/1114866685.py:147: UserWarning: Implicit dimension choice for log_softmax has been deprecated. Change the call to include dim=X as an argument.\n",
            "  out = torch.nn.functional.log_softmax(out)\n",
            "100%|██████████| 2/2 [00:00<00:00,  3.99it/s]\n"
          ]
        },
        {
          "name": "stdout",
          "output_type": "stream",
          "text": [
            "\n",
            "epoch 1\n",
            "\ttrain_loss:1.050 valid_loss:0.995\n",
            "\ttrain_acc:54.04% valid_acc:55.67%\n",
            "\ttrain_f1:0.525 valid_f1:0.530\n",
            "\ttrain_confusion_matrix:\n",
            "[[ 699  535 1172]\n",
            " [ 280 1514  650]\n",
            " [ 296  420 1730]]\n",
            "\tvalid_confusion_matrix:\n",
            "[[160 168 310]\n",
            " [ 41 436 119]\n",
            " [ 37 135 421]]\n"
          ]
        },
        {
          "name": "stderr",
          "output_type": "stream",
          "text": [
            "  0%|          | 0/57 [00:00<?, ?it/s]/var/folders/3c/71b8pg6d7j5dht_5h_2n4n_c0000gn/T/ipykernel_8755/1114866685.py:147: UserWarning: Implicit dimension choice for log_softmax has been deprecated. Change the call to include dim=X as an argument.\n",
            "  out = torch.nn.functional.log_softmax(out)\n",
            "100%|██████████| 57/57 [00:13<00:00,  4.21it/s]\n",
            "  0%|          | 0/2 [00:00<?, ?it/s]/var/folders/3c/71b8pg6d7j5dht_5h_2n4n_c0000gn/T/ipykernel_8755/1114866685.py:147: UserWarning: Implicit dimension choice for log_softmax has been deprecated. Change the call to include dim=X as an argument.\n",
            "  out = torch.nn.functional.log_softmax(out)\n",
            "100%|██████████| 2/2 [00:00<00:00,  3.56it/s]\n"
          ]
        },
        {
          "name": "stdout",
          "output_type": "stream",
          "text": [
            "\n",
            "epoch 2\n",
            "\ttrain_loss:0.934 valid_loss:0.895\n",
            "\ttrain_acc:57.14% valid_acc:60.21%\n",
            "\ttrain_f1:0.553 valid_f1:0.593\n",
            "\ttrain_confusion_matrix:\n",
            "[[ 719  685 1000]\n",
            " [ 241 1818  385]\n",
            " [ 285  531 1632]]\n",
            "\tvalid_confusion_matrix:\n",
            "[[290 192 156]\n",
            " [ 67 489  40]\n",
            " [123 149 321]]\n"
          ]
        },
        {
          "name": "stderr",
          "output_type": "stream",
          "text": [
            "  0%|          | 0/57 [00:00<?, ?it/s]/var/folders/3c/71b8pg6d7j5dht_5h_2n4n_c0000gn/T/ipykernel_8755/1114866685.py:147: UserWarning: Implicit dimension choice for log_softmax has been deprecated. Change the call to include dim=X as an argument.\n",
            "  out = torch.nn.functional.log_softmax(out)\n",
            "100%|██████████| 57/57 [00:13<00:00,  4.35it/s]\n",
            "  0%|          | 0/2 [00:00<?, ?it/s]/var/folders/3c/71b8pg6d7j5dht_5h_2n4n_c0000gn/T/ipykernel_8755/1114866685.py:147: UserWarning: Implicit dimension choice for log_softmax has been deprecated. Change the call to include dim=X as an argument.\n",
            "  out = torch.nn.functional.log_softmax(out)\n",
            "100%|██████████| 2/2 [00:00<00:00,  4.13it/s]\n"
          ]
        },
        {
          "name": "stdout",
          "output_type": "stream",
          "text": [
            "\n",
            "epoch 3\n",
            "\ttrain_loss:0.860 valid_loss:0.853\n",
            "\ttrain_acc:62.91% valid_acc:63.33%\n",
            "\ttrain_f1:0.622 valid_f1:0.626\n",
            "\ttrain_confusion_matrix:\n",
            "[[1070  521  810]\n",
            " [ 332 1857  258]\n",
            " [ 453  332 1663]]\n",
            "\tvalid_confusion_matrix:\n",
            "[[313 170 155]\n",
            " [ 63 490  43]\n",
            " [135 104 354]]\n"
          ]
        },
        {
          "name": "stderr",
          "output_type": "stream",
          "text": [
            "  0%|          | 0/57 [00:00<?, ?it/s]/var/folders/3c/71b8pg6d7j5dht_5h_2n4n_c0000gn/T/ipykernel_8755/1114866685.py:147: UserWarning: Implicit dimension choice for log_softmax has been deprecated. Change the call to include dim=X as an argument.\n",
            "  out = torch.nn.functional.log_softmax(out)\n",
            "100%|██████████| 57/57 [00:13<00:00,  4.25it/s]\n",
            "  0%|          | 0/2 [00:00<?, ?it/s]/var/folders/3c/71b8pg6d7j5dht_5h_2n4n_c0000gn/T/ipykernel_8755/1114866685.py:147: UserWarning: Implicit dimension choice for log_softmax has been deprecated. Change the call to include dim=X as an argument.\n",
            "  out = torch.nn.functional.log_softmax(out)\n",
            "100%|██████████| 2/2 [00:00<00:00,  3.97it/s]\n"
          ]
        },
        {
          "name": "stdout",
          "output_type": "stream",
          "text": [
            "\n",
            "epoch 4\n",
            "\ttrain_loss:0.815 valid_loss:0.813\n",
            "\ttrain_acc:65.79% valid_acc:65.30%\n",
            "\ttrain_f1:0.656 valid_f1:0.648\n",
            "\ttrain_confusion_matrix:\n",
            "[[1270  446  688]\n",
            " [ 385 1840  220]\n",
            " [ 503  254 1690]]\n",
            "\tvalid_confusion_matrix:\n",
            "[[320 133 185]\n",
            " [ 67 473  56]\n",
            " [117  76 400]]\n"
          ]
        },
        {
          "name": "stderr",
          "output_type": "stream",
          "text": [
            "  0%|          | 0/57 [00:00<?, ?it/s]/var/folders/3c/71b8pg6d7j5dht_5h_2n4n_c0000gn/T/ipykernel_8755/1114866685.py:147: UserWarning: Implicit dimension choice for log_softmax has been deprecated. Change the call to include dim=X as an argument.\n",
            "  out = torch.nn.functional.log_softmax(out)\n",
            "100%|██████████| 57/57 [00:13<00:00,  4.34it/s]\n",
            "  0%|          | 0/2 [00:00<?, ?it/s]/var/folders/3c/71b8pg6d7j5dht_5h_2n4n_c0000gn/T/ipykernel_8755/1114866685.py:147: UserWarning: Implicit dimension choice for log_softmax has been deprecated. Change the call to include dim=X as an argument.\n",
            "  out = torch.nn.functional.log_softmax(out)\n",
            "100%|██████████| 2/2 [00:00<00:00,  4.01it/s]\n"
          ]
        },
        {
          "name": "stdout",
          "output_type": "stream",
          "text": [
            "\n",
            "epoch 5\n",
            "\ttrain_loss:0.787 valid_loss:0.790\n",
            "\ttrain_acc:66.84% valid_acc:66.45%\n",
            "\ttrain_f1:0.668 valid_f1:0.664\n",
            "\ttrain_confusion_matrix:\n",
            "[[1346  383  675]\n",
            " [ 408 1818  220]\n",
            " [ 533  200 1713]]\n",
            "\tvalid_confusion_matrix:\n",
            "[[363 100 175]\n",
            " [ 84 447  65]\n",
            " [141  48 404]]\n"
          ]
        },
        {
          "name": "stderr",
          "output_type": "stream",
          "text": [
            "  0%|          | 0/57 [00:00<?, ?it/s]/var/folders/3c/71b8pg6d7j5dht_5h_2n4n_c0000gn/T/ipykernel_8755/1114866685.py:147: UserWarning: Implicit dimension choice for log_softmax has been deprecated. Change the call to include dim=X as an argument.\n",
            "  out = torch.nn.functional.log_softmax(out)\n",
            "100%|██████████| 57/57 [00:12<00:00,  4.40it/s]\n",
            "  0%|          | 0/2 [00:00<?, ?it/s]/var/folders/3c/71b8pg6d7j5dht_5h_2n4n_c0000gn/T/ipykernel_8755/1114866685.py:147: UserWarning: Implicit dimension choice for log_softmax has been deprecated. Change the call to include dim=X as an argument.\n",
            "  out = torch.nn.functional.log_softmax(out)\n",
            "100%|██████████| 2/2 [00:00<00:00,  4.25it/s]\n"
          ]
        },
        {
          "name": "stdout",
          "output_type": "stream",
          "text": [
            "\n",
            "epoch 6\n",
            "\ttrain_loss:0.767 valid_loss:0.772\n",
            "\ttrain_acc:67.31% valid_acc:66.23%\n",
            "\ttrain_f1:0.673 valid_f1:0.664\n",
            "\ttrain_confusion_matrix:\n",
            "[[1367  364  671]\n",
            " [ 396 1812  239]\n",
            " [ 521  194 1732]]\n",
            "\tvalid_confusion_matrix:\n",
            "[[405  82 151]\n",
            " [114 426  56]\n",
            " [171  43 379]]\n"
          ]
        },
        {
          "name": "stderr",
          "output_type": "stream",
          "text": [
            "  0%|          | 0/57 [00:00<?, ?it/s]/var/folders/3c/71b8pg6d7j5dht_5h_2n4n_c0000gn/T/ipykernel_8755/1114866685.py:147: UserWarning: Implicit dimension choice for log_softmax has been deprecated. Change the call to include dim=X as an argument.\n",
            "  out = torch.nn.functional.log_softmax(out)\n",
            "100%|██████████| 57/57 [00:13<00:00,  4.29it/s]\n",
            "  0%|          | 0/2 [00:00<?, ?it/s]/var/folders/3c/71b8pg6d7j5dht_5h_2n4n_c0000gn/T/ipykernel_8755/1114866685.py:147: UserWarning: Implicit dimension choice for log_softmax has been deprecated. Change the call to include dim=X as an argument.\n",
            "  out = torch.nn.functional.log_softmax(out)\n",
            "100%|██████████| 2/2 [00:00<00:00,  4.12it/s]\n"
          ]
        },
        {
          "name": "stdout",
          "output_type": "stream",
          "text": [
            "\n",
            "epoch 7\n",
            "\ttrain_loss:0.747 valid_loss:0.763\n",
            "\ttrain_acc:68.48% valid_acc:67.16%\n",
            "\ttrain_f1:0.685 valid_f1:0.670\n",
            "\ttrain_confusion_matrix:\n",
            "[[1425  350  627]\n",
            " [ 391 1840  214]\n",
            " [ 525  193 1731]]\n",
            "\tvalid_confusion_matrix:\n",
            "[[344  85 209]\n",
            " [ 87 432  77]\n",
            " [102  40 451]]\n"
          ]
        },
        {
          "name": "stderr",
          "output_type": "stream",
          "text": [
            "  0%|          | 0/57 [00:00<?, ?it/s]/var/folders/3c/71b8pg6d7j5dht_5h_2n4n_c0000gn/T/ipykernel_8755/1114866685.py:147: UserWarning: Implicit dimension choice for log_softmax has been deprecated. Change the call to include dim=X as an argument.\n",
            "  out = torch.nn.functional.log_softmax(out)\n",
            "100%|██████████| 57/57 [00:13<00:00,  4.34it/s]\n",
            "  0%|          | 0/2 [00:00<?, ?it/s]/var/folders/3c/71b8pg6d7j5dht_5h_2n4n_c0000gn/T/ipykernel_8755/1114866685.py:147: UserWarning: Implicit dimension choice for log_softmax has been deprecated. Change the call to include dim=X as an argument.\n",
            "  out = torch.nn.functional.log_softmax(out)\n",
            "100%|██████████| 2/2 [00:00<00:00,  3.87it/s]\n"
          ]
        },
        {
          "name": "stdout",
          "output_type": "stream",
          "text": [
            "\n",
            "epoch 8\n",
            "\ttrain_loss:0.723 valid_loss:0.739\n",
            "\ttrain_acc:69.79% valid_acc:68.47%\n",
            "\ttrain_f1:0.697 valid_f1:0.685\n",
            "\ttrain_confusion_matrix:\n",
            "[[1447  346  610]\n",
            " [ 371 1853  222]\n",
            " [ 470  185 1792]]\n",
            "\tvalid_confusion_matrix:\n",
            "[[403  79 156]\n",
            " [ 99 441  56]\n",
            " [140  46 407]]\n"
          ]
        },
        {
          "name": "stderr",
          "output_type": "stream",
          "text": [
            "  0%|          | 0/57 [00:00<?, ?it/s]/var/folders/3c/71b8pg6d7j5dht_5h_2n4n_c0000gn/T/ipykernel_8755/1114866685.py:147: UserWarning: Implicit dimension choice for log_softmax has been deprecated. Change the call to include dim=X as an argument.\n",
            "  out = torch.nn.functional.log_softmax(out)\n",
            "100%|██████████| 57/57 [00:12<00:00,  4.45it/s]\n",
            "  0%|          | 0/2 [00:00<?, ?it/s]/var/folders/3c/71b8pg6d7j5dht_5h_2n4n_c0000gn/T/ipykernel_8755/1114866685.py:147: UserWarning: Implicit dimension choice for log_softmax has been deprecated. Change the call to include dim=X as an argument.\n",
            "  out = torch.nn.functional.log_softmax(out)\n",
            "100%|██████████| 2/2 [00:00<00:00,  3.97it/s]\n"
          ]
        },
        {
          "name": "stdout",
          "output_type": "stream",
          "text": [
            "\n",
            "epoch 9\n",
            "\ttrain_loss:0.705 valid_loss:0.726\n",
            "\ttrain_acc:70.52% valid_acc:69.40%\n",
            "\ttrain_f1:0.705 valid_f1:0.696\n",
            "\ttrain_confusion_matrix:\n",
            "[[1483  336  583]\n",
            " [ 363 1871  211]\n",
            " [ 475  183 1791]]\n",
            "\tvalid_confusion_matrix:\n",
            "[[409  71 158]\n",
            " [ 99 433  64]\n",
            " [138  29 426]]\n"
          ]
        },
        {
          "name": "stderr",
          "output_type": "stream",
          "text": [
            "  0%|          | 0/57 [00:00<?, ?it/s]/var/folders/3c/71b8pg6d7j5dht_5h_2n4n_c0000gn/T/ipykernel_8755/1114866685.py:147: UserWarning: Implicit dimension choice for log_softmax has been deprecated. Change the call to include dim=X as an argument.\n",
            "  out = torch.nn.functional.log_softmax(out)\n",
            "100%|██████████| 57/57 [00:13<00:00,  4.38it/s]\n",
            "  0%|          | 0/2 [00:00<?, ?it/s]/var/folders/3c/71b8pg6d7j5dht_5h_2n4n_c0000gn/T/ipykernel_8755/1114866685.py:147: UserWarning: Implicit dimension choice for log_softmax has been deprecated. Change the call to include dim=X as an argument.\n",
            "  out = torch.nn.functional.log_softmax(out)\n",
            "100%|██████████| 2/2 [00:00<00:00,  3.90it/s]\n"
          ]
        },
        {
          "name": "stdout",
          "output_type": "stream",
          "text": [
            "\n",
            "epoch 10\n",
            "\ttrain_loss:0.689 valid_loss:0.723\n",
            "\ttrain_acc:71.41% valid_acc:69.73%\n",
            "\ttrain_f1:0.714 valid_f1:0.698\n",
            "\ttrain_confusion_matrix:\n",
            "[[1537  321  546]\n",
            " [ 353 1880  212]\n",
            " [ 476  178 1793]]\n",
            "\tvalid_confusion_matrix:\n",
            "[[417  83 138]\n",
            " [ 97 445  54]\n",
            " [130  51 412]]\n"
          ]
        },
        {
          "name": "stderr",
          "output_type": "stream",
          "text": [
            "  0%|          | 0/57 [00:00<?, ?it/s]/var/folders/3c/71b8pg6d7j5dht_5h_2n4n_c0000gn/T/ipykernel_8755/1114866685.py:147: UserWarning: Implicit dimension choice for log_softmax has been deprecated. Change the call to include dim=X as an argument.\n",
            "  out = torch.nn.functional.log_softmax(out)\n",
            "100%|██████████| 57/57 [00:13<00:00,  4.14it/s]\n",
            "  0%|          | 0/2 [00:00<?, ?it/s]/var/folders/3c/71b8pg6d7j5dht_5h_2n4n_c0000gn/T/ipykernel_8755/1114866685.py:147: UserWarning: Implicit dimension choice for log_softmax has been deprecated. Change the call to include dim=X as an argument.\n",
            "  out = torch.nn.functional.log_softmax(out)\n",
            "100%|██████████| 2/2 [00:00<00:00,  4.01it/s]\n"
          ]
        },
        {
          "name": "stdout",
          "output_type": "stream",
          "text": [
            "\n",
            "epoch 11\n",
            "\ttrain_loss:0.674 valid_loss:0.715\n",
            "\ttrain_acc:72.16% valid_acc:70.83%\n",
            "\ttrain_f1:0.722 valid_f1:0.708\n",
            "\ttrain_confusion_matrix:\n",
            "[[1553  307  543]\n",
            " [ 357 1883  204]\n",
            " [ 447  173 1829]]\n",
            "\tvalid_confusion_matrix:\n",
            "[[413  83 142]\n",
            " [ 84 456  56]\n",
            " [115  53 425]]\n"
          ]
        },
        {
          "name": "stderr",
          "output_type": "stream",
          "text": [
            "  0%|          | 0/57 [00:00<?, ?it/s]/var/folders/3c/71b8pg6d7j5dht_5h_2n4n_c0000gn/T/ipykernel_8755/1114866685.py:147: UserWarning: Implicit dimension choice for log_softmax has been deprecated. Change the call to include dim=X as an argument.\n",
            "  out = torch.nn.functional.log_softmax(out)\n",
            "100%|██████████| 57/57 [00:12<00:00,  4.45it/s]\n",
            "  0%|          | 0/2 [00:00<?, ?it/s]/var/folders/3c/71b8pg6d7j5dht_5h_2n4n_c0000gn/T/ipykernel_8755/1114866685.py:147: UserWarning: Implicit dimension choice for log_softmax has been deprecated. Change the call to include dim=X as an argument.\n",
            "  out = torch.nn.functional.log_softmax(out)\n",
            "100%|██████████| 2/2 [00:00<00:00,  4.26it/s]\n"
          ]
        },
        {
          "name": "stdout",
          "output_type": "stream",
          "text": [
            "\n",
            "epoch 12\n",
            "\ttrain_loss:0.654 valid_loss:0.698\n",
            "\ttrain_acc:73.15% valid_acc:71.54%\n",
            "\ttrain_f1:0.731 valid_f1:0.715\n",
            "\ttrain_confusion_matrix:\n",
            "[[1592  314  497]\n",
            " [ 333 1910  201]\n",
            " [ 441  173 1835]]\n",
            "\tvalid_confusion_matrix:\n",
            "[[408  82 148]\n",
            " [ 77 449  70]\n",
            " [104  39 450]]\n"
          ]
        },
        {
          "name": "stderr",
          "output_type": "stream",
          "text": [
            "  0%|          | 0/57 [00:00<?, ?it/s]/var/folders/3c/71b8pg6d7j5dht_5h_2n4n_c0000gn/T/ipykernel_8755/1114866685.py:147: UserWarning: Implicit dimension choice for log_softmax has been deprecated. Change the call to include dim=X as an argument.\n",
            "  out = torch.nn.functional.log_softmax(out)\n",
            "100%|██████████| 57/57 [00:13<00:00,  4.33it/s]\n",
            "  0%|          | 0/2 [00:00<?, ?it/s]/var/folders/3c/71b8pg6d7j5dht_5h_2n4n_c0000gn/T/ipykernel_8755/1114866685.py:147: UserWarning: Implicit dimension choice for log_softmax has been deprecated. Change the call to include dim=X as an argument.\n",
            "  out = torch.nn.functional.log_softmax(out)\n",
            "100%|██████████| 2/2 [00:00<00:00,  4.10it/s]\n"
          ]
        },
        {
          "name": "stdout",
          "output_type": "stream",
          "text": [
            "\n",
            "epoch 13\n",
            "\ttrain_loss:0.637 valid_loss:0.691\n",
            "\ttrain_acc:74.42% valid_acc:71.76%\n",
            "\ttrain_f1:0.744 valid_f1:0.718\n",
            "\ttrain_confusion_matrix:\n",
            "[[1638  283  483]\n",
            " [ 328 1912  206]\n",
            " [ 414  152 1880]]\n",
            "\tvalid_confusion_matrix:\n",
            "[[433  72 133]\n",
            " [ 92 442  62]\n",
            " [118  39 436]]\n"
          ]
        },
        {
          "name": "stderr",
          "output_type": "stream",
          "text": [
            "  0%|          | 0/57 [00:00<?, ?it/s]/var/folders/3c/71b8pg6d7j5dht_5h_2n4n_c0000gn/T/ipykernel_8755/1114866685.py:147: UserWarning: Implicit dimension choice for log_softmax has been deprecated. Change the call to include dim=X as an argument.\n",
            "  out = torch.nn.functional.log_softmax(out)\n",
            "100%|██████████| 57/57 [00:13<00:00,  4.32it/s]\n",
            "  0%|          | 0/2 [00:00<?, ?it/s]/var/folders/3c/71b8pg6d7j5dht_5h_2n4n_c0000gn/T/ipykernel_8755/1114866685.py:147: UserWarning: Implicit dimension choice for log_softmax has been deprecated. Change the call to include dim=X as an argument.\n",
            "  out = torch.nn.functional.log_softmax(out)\n",
            "100%|██████████| 2/2 [00:00<00:00,  3.75it/s]\n"
          ]
        },
        {
          "name": "stdout",
          "output_type": "stream",
          "text": [
            "\n",
            "epoch 14\n",
            "\ttrain_loss:0.621 valid_loss:0.679\n",
            "\ttrain_acc:74.93% valid_acc:72.63%\n",
            "\ttrain_f1:0.749 valid_f1:0.727\n",
            "\ttrain_confusion_matrix:\n",
            "[[1641  284  478]\n",
            " [ 309 1933  203]\n",
            " [ 401  154 1893]]\n",
            "\tvalid_confusion_matrix:\n",
            "[[433  67 138]\n",
            " [ 88 442  66]\n",
            " [102  39 452]]\n"
          ]
        },
        {
          "name": "stderr",
          "output_type": "stream",
          "text": [
            "  0%|          | 0/57 [00:00<?, ?it/s]/var/folders/3c/71b8pg6d7j5dht_5h_2n4n_c0000gn/T/ipykernel_8755/1114866685.py:147: UserWarning: Implicit dimension choice for log_softmax has been deprecated. Change the call to include dim=X as an argument.\n",
            "  out = torch.nn.functional.log_softmax(out)\n",
            "100%|██████████| 57/57 [00:14<00:00,  4.06it/s]\n",
            "  0%|          | 0/2 [00:00<?, ?it/s]/var/folders/3c/71b8pg6d7j5dht_5h_2n4n_c0000gn/T/ipykernel_8755/1114866685.py:147: UserWarning: Implicit dimension choice for log_softmax has been deprecated. Change the call to include dim=X as an argument.\n",
            "  out = torch.nn.functional.log_softmax(out)\n",
            "100%|██████████| 2/2 [00:00<00:00,  3.34it/s]\n"
          ]
        },
        {
          "name": "stdout",
          "output_type": "stream",
          "text": [
            "\n",
            "epoch 15\n",
            "\ttrain_loss:0.607 valid_loss:0.660\n",
            "\ttrain_acc:76.36% valid_acc:74.49%\n",
            "\ttrain_f1:0.764 valid_f1:0.745\n",
            "\ttrain_confusion_matrix:\n",
            "[[1712  257  432]\n",
            " [ 321 1925  199]\n",
            " [ 363  153 1934]]\n",
            "\tvalid_confusion_matrix:\n",
            "[[449  65 124]\n",
            " [ 81 449  66]\n",
            " [ 93  37 463]]\n"
          ]
        },
        {
          "name": "stderr",
          "output_type": "stream",
          "text": [
            "  0%|          | 0/57 [00:00<?, ?it/s]/var/folders/3c/71b8pg6d7j5dht_5h_2n4n_c0000gn/T/ipykernel_8755/1114866685.py:147: UserWarning: Implicit dimension choice for log_softmax has been deprecated. Change the call to include dim=X as an argument.\n",
            "  out = torch.nn.functional.log_softmax(out)\n",
            "100%|██████████| 57/57 [00:13<00:00,  4.34it/s]\n",
            "  0%|          | 0/2 [00:00<?, ?it/s]/var/folders/3c/71b8pg6d7j5dht_5h_2n4n_c0000gn/T/ipykernel_8755/1114866685.py:147: UserWarning: Implicit dimension choice for log_softmax has been deprecated. Change the call to include dim=X as an argument.\n",
            "  out = torch.nn.functional.log_softmax(out)\n",
            "100%|██████████| 2/2 [00:00<00:00,  4.09it/s]\n"
          ]
        },
        {
          "name": "stdout",
          "output_type": "stream",
          "text": [
            "\n",
            "epoch 16\n",
            "\ttrain_loss:0.584 valid_loss:0.655\n",
            "\ttrain_acc:77.69% valid_acc:74.27%\n",
            "\ttrain_f1:0.777 valid_f1:0.743\n",
            "\ttrain_confusion_matrix:\n",
            "[[1766  250  388]\n",
            " [ 292 1961  191]\n",
            " [ 363  144 1941]]\n",
            "\tvalid_confusion_matrix:\n",
            "[[460  62 116]\n",
            " [ 89 441  66]\n",
            " [ 98  39 456]]\n"
          ]
        },
        {
          "name": "stderr",
          "output_type": "stream",
          "text": [
            "  0%|          | 0/57 [00:00<?, ?it/s]/var/folders/3c/71b8pg6d7j5dht_5h_2n4n_c0000gn/T/ipykernel_8755/1114866685.py:147: UserWarning: Implicit dimension choice for log_softmax has been deprecated. Change the call to include dim=X as an argument.\n",
            "  out = torch.nn.functional.log_softmax(out)\n",
            "100%|██████████| 57/57 [00:12<00:00,  4.46it/s]\n",
            "  0%|          | 0/2 [00:00<?, ?it/s]/var/folders/3c/71b8pg6d7j5dht_5h_2n4n_c0000gn/T/ipykernel_8755/1114866685.py:147: UserWarning: Implicit dimension choice for log_softmax has been deprecated. Change the call to include dim=X as an argument.\n",
            "  out = torch.nn.functional.log_softmax(out)\n",
            "100%|██████████| 2/2 [00:00<00:00,  4.25it/s]\n"
          ]
        },
        {
          "name": "stdout",
          "output_type": "stream",
          "text": [
            "\n",
            "epoch 17\n",
            "\ttrain_loss:0.568 valid_loss:0.645\n",
            "\ttrain_acc:78.07% valid_acc:74.88%\n",
            "\ttrain_f1:0.781 valid_f1:0.749\n",
            "\ttrain_confusion_matrix:\n",
            "[[1789  228  386]\n",
            " [ 282 1980  183]\n",
            " [ 371  150 1927]]\n",
            "\tvalid_confusion_matrix:\n",
            "[[470  70  98]\n",
            " [ 81 457  58]\n",
            " [107  45 441]]\n"
          ]
        },
        {
          "name": "stderr",
          "output_type": "stream",
          "text": [
            "  0%|          | 0/57 [00:00<?, ?it/s]/var/folders/3c/71b8pg6d7j5dht_5h_2n4n_c0000gn/T/ipykernel_8755/1114866685.py:147: UserWarning: Implicit dimension choice for log_softmax has been deprecated. Change the call to include dim=X as an argument.\n",
            "  out = torch.nn.functional.log_softmax(out)\n",
            "100%|██████████| 57/57 [00:12<00:00,  4.43it/s]\n",
            "  0%|          | 0/2 [00:00<?, ?it/s]/var/folders/3c/71b8pg6d7j5dht_5h_2n4n_c0000gn/T/ipykernel_8755/1114866685.py:147: UserWarning: Implicit dimension choice for log_softmax has been deprecated. Change the call to include dim=X as an argument.\n",
            "  out = torch.nn.functional.log_softmax(out)\n",
            "100%|██████████| 2/2 [00:00<00:00,  4.24it/s]\n"
          ]
        },
        {
          "name": "stdout",
          "output_type": "stream",
          "text": [
            "\n",
            "epoch 18\n",
            "\ttrain_loss:0.553 valid_loss:0.634\n",
            "\ttrain_acc:78.85% valid_acc:75.70%\n",
            "\ttrain_f1:0.789 valid_f1:0.757\n",
            "\ttrain_confusion_matrix:\n",
            "[[1796  227  379]\n",
            " [ 278 1973  196]\n",
            " [ 334  129 1984]]\n",
            "\tvalid_confusion_matrix:\n",
            "[[471  66 101]\n",
            " [ 73 460  63]\n",
            " [ 97  44 452]]\n"
          ]
        },
        {
          "name": "stderr",
          "output_type": "stream",
          "text": [
            "  0%|          | 0/57 [00:00<?, ?it/s]/var/folders/3c/71b8pg6d7j5dht_5h_2n4n_c0000gn/T/ipykernel_8755/1114866685.py:147: UserWarning: Implicit dimension choice for log_softmax has been deprecated. Change the call to include dim=X as an argument.\n",
            "  out = torch.nn.functional.log_softmax(out)\n",
            "100%|██████████| 57/57 [00:13<00:00,  4.27it/s]\n",
            "  0%|          | 0/2 [00:00<?, ?it/s]/var/folders/3c/71b8pg6d7j5dht_5h_2n4n_c0000gn/T/ipykernel_8755/1114866685.py:147: UserWarning: Implicit dimension choice for log_softmax has been deprecated. Change the call to include dim=X as an argument.\n",
            "  out = torch.nn.functional.log_softmax(out)\n",
            "100%|██████████| 2/2 [00:00<00:00,  3.89it/s]\n"
          ]
        },
        {
          "name": "stdout",
          "output_type": "stream",
          "text": [
            "\n",
            "epoch 19\n",
            "\ttrain_loss:0.532 valid_loss:0.628\n",
            "\ttrain_acc:80.02% valid_acc:76.79%\n",
            "\ttrain_f1:0.801 valid_f1:0.768\n",
            "\ttrain_confusion_matrix:\n",
            "[[1851  222  331]\n",
            " [ 271 1996  176]\n",
            " [ 335  123 1991]]\n",
            "\tvalid_confusion_matrix:\n",
            "[[486  55  97]\n",
            " [ 79 447  70]\n",
            " [ 86  37 470]]\n",
            "Loading saved model from: model_task2.bin\n"
          ]
        },
        {
          "name": "stderr",
          "output_type": "stream",
          "text": [
            "  0%|          | 0/2 [00:00<?, ?it/s]/var/folders/3c/71b8pg6d7j5dht_5h_2n4n_c0000gn/T/ipykernel_8755/1114866685.py:147: UserWarning: Implicit dimension choice for log_softmax has been deprecated. Change the call to include dim=X as an argument.\n",
            "  out = torch.nn.functional.log_softmax(out)\n",
            "100%|██████████| 2/2 [00:00<00:00,  4.19it/s]\n"
          ]
        },
        {
          "name": "stdout",
          "output_type": "stream",
          "text": [
            "              precision    recall  f1-score   support\n",
            "\n",
            "     Neutral       0.74      0.76      0.75       638\n",
            "    Positive       0.83      0.74      0.78       596\n",
            "    Negative       0.74      0.80      0.77       593\n",
            "\n",
            "    accuracy                           0.77      1827\n",
            "   macro avg       0.77      0.77      0.77      1827\n",
            "weighted avg       0.77      0.77      0.77      1827\n",
            "\n",
            "\n",
            "******************************************************************************************\n",
            "Alpha Size: 0.4\n",
            "Window Size: 2\n",
            "******************************************************************************************\n",
            "\n",
            "train samples:7305\n",
            "valid samples:1827\n"
          ]
        },
        {
          "name": "stderr",
          "output_type": "stream",
          "text": [
            "  0%|          | 0/57 [00:00<?, ?it/s]/var/folders/3c/71b8pg6d7j5dht_5h_2n4n_c0000gn/T/ipykernel_8755/1114866685.py:147: UserWarning: Implicit dimension choice for log_softmax has been deprecated. Change the call to include dim=X as an argument.\n",
            "  out = torch.nn.functional.log_softmax(out)\n",
            "100%|██████████| 57/57 [00:11<00:00,  4.76it/s]\n",
            "  0%|          | 0/2 [00:00<?, ?it/s]/var/folders/3c/71b8pg6d7j5dht_5h_2n4n_c0000gn/T/ipykernel_8755/1114866685.py:147: UserWarning: Implicit dimension choice for log_softmax has been deprecated. Change the call to include dim=X as an argument.\n",
            "  out = torch.nn.functional.log_softmax(out)\n",
            "100%|██████████| 2/2 [00:00<00:00,  4.49it/s]\n"
          ]
        },
        {
          "name": "stdout",
          "output_type": "stream",
          "text": [
            "\n",
            "epoch 0\n",
            "\ttrain_loss:1.088 valid_loss:1.073\n",
            "\ttrain_acc:43.76% valid_acc:53.80%\n",
            "\ttrain_f1:0.425 valid_f1:0.530\n",
            "\ttrain_confusion_matrix:\n",
            "[[1656  304  481]\n",
            " [1348  753  342]\n",
            " [1324  304  784]]\n",
            "\tvalid_confusion_matrix:\n",
            "[[232 184 185]\n",
            " [ 74 420 105]\n",
            " [107 189 331]]\n"
          ]
        },
        {
          "name": "stderr",
          "output_type": "stream",
          "text": [
            "  0%|          | 0/57 [00:00<?, ?it/s]/var/folders/3c/71b8pg6d7j5dht_5h_2n4n_c0000gn/T/ipykernel_8755/1114866685.py:147: UserWarning: Implicit dimension choice for log_softmax has been deprecated. Change the call to include dim=X as an argument.\n",
            "  out = torch.nn.functional.log_softmax(out)\n",
            "100%|██████████| 57/57 [00:11<00:00,  4.81it/s]\n",
            "  0%|          | 0/2 [00:00<?, ?it/s]/var/folders/3c/71b8pg6d7j5dht_5h_2n4n_c0000gn/T/ipykernel_8755/1114866685.py:147: UserWarning: Implicit dimension choice for log_softmax has been deprecated. Change the call to include dim=X as an argument.\n",
            "  out = torch.nn.functional.log_softmax(out)\n",
            "100%|██████████| 2/2 [00:00<00:00,  4.85it/s]\n"
          ]
        },
        {
          "name": "stdout",
          "output_type": "stream",
          "text": [
            "\n",
            "epoch 1\n",
            "\ttrain_loss:1.052 valid_loss:1.013\n",
            "\ttrain_acc:55.37% valid_acc:57.96%\n",
            "\ttrain_f1:0.542 valid_f1:0.567\n",
            "\ttrain_confusion_matrix:\n",
            "[[ 867  780  794]\n",
            " [ 228 1780  432]\n",
            " [ 327  695 1393]]\n",
            "\tvalid_confusion_matrix:\n",
            "[[211 147 243]\n",
            " [ 49 427 123]\n",
            " [ 64 142 421]]\n"
          ]
        },
        {
          "name": "stderr",
          "output_type": "stream",
          "text": [
            "  0%|          | 0/57 [00:00<?, ?it/s]/var/folders/3c/71b8pg6d7j5dht_5h_2n4n_c0000gn/T/ipykernel_8755/1114866685.py:147: UserWarning: Implicit dimension choice for log_softmax has been deprecated. Change the call to include dim=X as an argument.\n",
            "  out = torch.nn.functional.log_softmax(out)\n",
            "100%|██████████| 57/57 [00:11<00:00,  5.01it/s]\n",
            "  0%|          | 0/2 [00:00<?, ?it/s]/var/folders/3c/71b8pg6d7j5dht_5h_2n4n_c0000gn/T/ipykernel_8755/1114866685.py:147: UserWarning: Implicit dimension choice for log_softmax has been deprecated. Change the call to include dim=X as an argument.\n",
            "  out = torch.nn.functional.log_softmax(out)\n",
            "100%|██████████| 2/2 [00:00<00:00,  4.83it/s]\n"
          ]
        },
        {
          "name": "stdout",
          "output_type": "stream",
          "text": [
            "\n",
            "epoch 2\n",
            "\ttrain_loss:0.950 valid_loss:0.878\n",
            "\ttrain_acc:57.25% valid_acc:62.67%\n",
            "\ttrain_f1:0.555 valid_f1:0.623\n",
            "\ttrain_confusion_matrix:\n",
            "[[ 754  645 1042]\n",
            " [ 194 1772  476]\n",
            " [ 219  543 1651]]\n",
            "\tvalid_confusion_matrix:\n",
            "[[291  97 213]\n",
            " [ 81 444  74]\n",
            " [114 103 410]]\n"
          ]
        },
        {
          "name": "stderr",
          "output_type": "stream",
          "text": [
            "  0%|          | 0/57 [00:00<?, ?it/s]/var/folders/3c/71b8pg6d7j5dht_5h_2n4n_c0000gn/T/ipykernel_8755/1114866685.py:147: UserWarning: Implicit dimension choice for log_softmax has been deprecated. Change the call to include dim=X as an argument.\n",
            "  out = torch.nn.functional.log_softmax(out)\n",
            "100%|██████████| 57/57 [00:11<00:00,  4.77it/s]\n",
            "  0%|          | 0/2 [00:00<?, ?it/s]/var/folders/3c/71b8pg6d7j5dht_5h_2n4n_c0000gn/T/ipykernel_8755/1114866685.py:147: UserWarning: Implicit dimension choice for log_softmax has been deprecated. Change the call to include dim=X as an argument.\n",
            "  out = torch.nn.functional.log_softmax(out)\n",
            "100%|██████████| 2/2 [00:00<00:00,  4.44it/s]\n"
          ]
        },
        {
          "name": "stdout",
          "output_type": "stream",
          "text": [
            "\n",
            "epoch 3\n",
            "\ttrain_loss:0.869 valid_loss:0.842\n",
            "\ttrain_acc:61.03% valid_acc:63.55%\n",
            "\ttrain_f1:0.604 valid_f1:0.635\n",
            "\ttrain_confusion_matrix:\n",
            "[[1089  551  800]\n",
            " [ 311 1845  285]\n",
            " [ 461  435 1519]]\n",
            "\tvalid_confusion_matrix:\n",
            "[[321  76 204]\n",
            " [106 407  86]\n",
            " [128  66 433]]\n"
          ]
        },
        {
          "name": "stderr",
          "output_type": "stream",
          "text": [
            "  0%|          | 0/57 [00:00<?, ?it/s]/var/folders/3c/71b8pg6d7j5dht_5h_2n4n_c0000gn/T/ipykernel_8755/1114866685.py:147: UserWarning: Implicit dimension choice for log_softmax has been deprecated. Change the call to include dim=X as an argument.\n",
            "  out = torch.nn.functional.log_softmax(out)\n",
            "100%|██████████| 57/57 [00:11<00:00,  4.86it/s]\n",
            "  0%|          | 0/2 [00:00<?, ?it/s]/var/folders/3c/71b8pg6d7j5dht_5h_2n4n_c0000gn/T/ipykernel_8755/1114866685.py:147: UserWarning: Implicit dimension choice for log_softmax has been deprecated. Change the call to include dim=X as an argument.\n",
            "  out = torch.nn.functional.log_softmax(out)\n",
            "100%|██████████| 2/2 [00:00<00:00,  4.77it/s]\n"
          ]
        },
        {
          "name": "stdout",
          "output_type": "stream",
          "text": [
            "\n",
            "epoch 4\n",
            "\ttrain_loss:0.818 valid_loss:0.773\n",
            "\ttrain_acc:63.69% valid_acc:67.00%\n",
            "\ttrain_f1:0.633 valid_f1:0.669\n",
            "\ttrain_confusion_matrix:\n",
            "[[1187  463  792]\n",
            " [ 349 1831  263]\n",
            " [ 460  322 1629]]\n",
            "\tvalid_confusion_matrix:\n",
            "[[348  94 159]\n",
            " [ 96 452  51]\n",
            " [143  60 424]]\n"
          ]
        },
        {
          "name": "stderr",
          "output_type": "stream",
          "text": [
            "  0%|          | 0/57 [00:00<?, ?it/s]/var/folders/3c/71b8pg6d7j5dht_5h_2n4n_c0000gn/T/ipykernel_8755/1114866685.py:147: UserWarning: Implicit dimension choice for log_softmax has been deprecated. Change the call to include dim=X as an argument.\n",
            "  out = torch.nn.functional.log_softmax(out)\n",
            "100%|██████████| 57/57 [00:11<00:00,  5.01it/s]\n",
            "  0%|          | 0/2 [00:00<?, ?it/s]/var/folders/3c/71b8pg6d7j5dht_5h_2n4n_c0000gn/T/ipykernel_8755/1114866685.py:147: UserWarning: Implicit dimension choice for log_softmax has been deprecated. Change the call to include dim=X as an argument.\n",
            "  out = torch.nn.functional.log_softmax(out)\n",
            "100%|██████████| 2/2 [00:00<00:00,  4.81it/s]\n"
          ]
        },
        {
          "name": "stdout",
          "output_type": "stream",
          "text": [
            "\n",
            "epoch 5\n",
            "\ttrain_loss:0.777 valid_loss:0.757\n",
            "\ttrain_acc:65.83% valid_acc:66.23%\n",
            "\ttrain_f1:0.656 valid_f1:0.659\n",
            "\ttrain_confusion_matrix:\n",
            "[[1305  422  714]\n",
            " [ 359 1818  263]\n",
            " [ 477  258 1680]]\n",
            "\tvalid_confusion_matrix:\n",
            "[[318 118 165]\n",
            " [ 84 463  52]\n",
            " [123  75 429]]\n"
          ]
        },
        {
          "name": "stderr",
          "output_type": "stream",
          "text": [
            "  0%|          | 0/57 [00:00<?, ?it/s]/var/folders/3c/71b8pg6d7j5dht_5h_2n4n_c0000gn/T/ipykernel_8755/1114866685.py:147: UserWarning: Implicit dimension choice for log_softmax has been deprecated. Change the call to include dim=X as an argument.\n",
            "  out = torch.nn.functional.log_softmax(out)\n",
            "100%|██████████| 57/57 [00:11<00:00,  4.85it/s]\n",
            "  0%|          | 0/2 [00:00<?, ?it/s]/var/folders/3c/71b8pg6d7j5dht_5h_2n4n_c0000gn/T/ipykernel_8755/1114866685.py:147: UserWarning: Implicit dimension choice for log_softmax has been deprecated. Change the call to include dim=X as an argument.\n",
            "  out = torch.nn.functional.log_softmax(out)\n",
            "100%|██████████| 2/2 [00:00<00:00,  4.56it/s]\n"
          ]
        },
        {
          "name": "stdout",
          "output_type": "stream",
          "text": [
            "\n",
            "epoch 6\n",
            "\ttrain_loss:0.752 valid_loss:0.741\n",
            "\ttrain_acc:66.83% valid_acc:67.49%\n",
            "\ttrain_f1:0.667 valid_f1:0.673\n",
            "\ttrain_confusion_matrix:\n",
            "[[1355  392  691]\n",
            " [ 369 1830  243]\n",
            " [ 495  230 1691]]\n",
            "\tvalid_confusion_matrix:\n",
            "[[343 111 147]\n",
            " [ 83 459  57]\n",
            " [122  74 431]]\n"
          ]
        },
        {
          "name": "stderr",
          "output_type": "stream",
          "text": [
            "  0%|          | 0/57 [00:00<?, ?it/s]/var/folders/3c/71b8pg6d7j5dht_5h_2n4n_c0000gn/T/ipykernel_8755/1114866685.py:147: UserWarning: Implicit dimension choice for log_softmax has been deprecated. Change the call to include dim=X as an argument.\n",
            "  out = torch.nn.functional.log_softmax(out)\n",
            "100%|██████████| 57/57 [00:11<00:00,  4.91it/s]\n",
            "  0%|          | 0/2 [00:00<?, ?it/s]/var/folders/3c/71b8pg6d7j5dht_5h_2n4n_c0000gn/T/ipykernel_8755/1114866685.py:147: UserWarning: Implicit dimension choice for log_softmax has been deprecated. Change the call to include dim=X as an argument.\n",
            "  out = torch.nn.functional.log_softmax(out)\n",
            "100%|██████████| 2/2 [00:00<00:00,  4.42it/s]\n"
          ]
        },
        {
          "name": "stdout",
          "output_type": "stream",
          "text": [
            "\n",
            "epoch 7\n",
            "\ttrain_loss:0.733 valid_loss:0.720\n",
            "\ttrain_acc:68.42% valid_acc:68.31%\n",
            "\ttrain_f1:0.682 valid_f1:0.681\n",
            "\ttrain_confusion_matrix:\n",
            "[[1383  365  694]\n",
            " [ 338 1863  239]\n",
            " [ 421  247 1746]]\n",
            "\tvalid_confusion_matrix:\n",
            "[[339  92 170]\n",
            " [ 84 449  66]\n",
            " [101  66 460]]\n"
          ]
        },
        {
          "name": "stderr",
          "output_type": "stream",
          "text": [
            "  0%|          | 0/57 [00:00<?, ?it/s]/var/folders/3c/71b8pg6d7j5dht_5h_2n4n_c0000gn/T/ipykernel_8755/1114866685.py:147: UserWarning: Implicit dimension choice for log_softmax has been deprecated. Change the call to include dim=X as an argument.\n",
            "  out = torch.nn.functional.log_softmax(out)\n",
            "100%|██████████| 57/57 [00:11<00:00,  4.90it/s]\n",
            "  0%|          | 0/2 [00:00<?, ?it/s]/var/folders/3c/71b8pg6d7j5dht_5h_2n4n_c0000gn/T/ipykernel_8755/1114866685.py:147: UserWarning: Implicit dimension choice for log_softmax has been deprecated. Change the call to include dim=X as an argument.\n",
            "  out = torch.nn.functional.log_softmax(out)\n",
            "100%|██████████| 2/2 [00:00<00:00,  4.92it/s]\n"
          ]
        },
        {
          "name": "stdout",
          "output_type": "stream",
          "text": [
            "\n",
            "epoch 8\n",
            "\ttrain_loss:0.715 valid_loss:0.722\n",
            "\ttrain_acc:69.50% valid_acc:68.97%\n",
            "\ttrain_f1:0.694 valid_f1:0.688\n",
            "\ttrain_confusion_matrix:\n",
            "[[1424  347  669]\n",
            " [ 343 1861  238]\n",
            " [ 429  199 1786]]\n",
            "\tvalid_confusion_matrix:\n",
            "[[343  84 174]\n",
            " [ 87 443  69]\n",
            " [ 97  56 474]]\n"
          ]
        },
        {
          "name": "stderr",
          "output_type": "stream",
          "text": [
            "  0%|          | 0/57 [00:00<?, ?it/s]/var/folders/3c/71b8pg6d7j5dht_5h_2n4n_c0000gn/T/ipykernel_8755/1114866685.py:147: UserWarning: Implicit dimension choice for log_softmax has been deprecated. Change the call to include dim=X as an argument.\n",
            "  out = torch.nn.functional.log_softmax(out)\n",
            "100%|██████████| 57/57 [00:12<00:00,  4.75it/s]\n",
            "  0%|          | 0/2 [00:00<?, ?it/s]/var/folders/3c/71b8pg6d7j5dht_5h_2n4n_c0000gn/T/ipykernel_8755/1114866685.py:147: UserWarning: Implicit dimension choice for log_softmax has been deprecated. Change the call to include dim=X as an argument.\n",
            "  out = torch.nn.functional.log_softmax(out)\n",
            "100%|██████████| 2/2 [00:00<00:00,  5.01it/s]\n"
          ]
        },
        {
          "name": "stdout",
          "output_type": "stream",
          "text": [
            "\n",
            "epoch 9\n",
            "\ttrain_loss:0.709 valid_loss:0.705\n",
            "\ttrain_acc:69.82% valid_acc:69.57%\n",
            "\ttrain_f1:0.697 valid_f1:0.692\n",
            "\ttrain_confusion_matrix:\n",
            "[[1480  352  608]\n",
            " [ 341 1885  218]\n",
            " [ 446  237 1729]]\n",
            "\tvalid_confusion_matrix:\n",
            "[[331  86 184]\n",
            " [ 79 448  72]\n",
            " [ 80  55 492]]\n"
          ]
        },
        {
          "name": "stderr",
          "output_type": "stream",
          "text": [
            "  0%|          | 0/57 [00:00<?, ?it/s]/var/folders/3c/71b8pg6d7j5dht_5h_2n4n_c0000gn/T/ipykernel_8755/1114866685.py:147: UserWarning: Implicit dimension choice for log_softmax has been deprecated. Change the call to include dim=X as an argument.\n",
            "  out = torch.nn.functional.log_softmax(out)\n",
            "100%|██████████| 57/57 [00:11<00:00,  4.95it/s]\n",
            "  0%|          | 0/2 [00:00<?, ?it/s]/var/folders/3c/71b8pg6d7j5dht_5h_2n4n_c0000gn/T/ipykernel_8755/1114866685.py:147: UserWarning: Implicit dimension choice for log_softmax has been deprecated. Change the call to include dim=X as an argument.\n",
            "  out = torch.nn.functional.log_softmax(out)\n",
            "100%|██████████| 2/2 [00:00<00:00,  4.97it/s]\n"
          ]
        },
        {
          "name": "stdout",
          "output_type": "stream",
          "text": [
            "\n",
            "epoch 10\n",
            "\ttrain_loss:0.692 valid_loss:0.702\n",
            "\ttrain_acc:70.75% valid_acc:70.39%\n",
            "\ttrain_f1:0.706 valid_f1:0.703\n",
            "\ttrain_confusion_matrix:\n",
            "[[1474  331  635]\n",
            " [ 332 1883  227]\n",
            " [ 399  210 1805]]\n",
            "\tvalid_confusion_matrix:\n",
            "[[364  70 167]\n",
            " [ 94 439  66]\n",
            " [ 93  51 483]]\n"
          ]
        },
        {
          "name": "stderr",
          "output_type": "stream",
          "text": [
            "  0%|          | 0/57 [00:00<?, ?it/s]/var/folders/3c/71b8pg6d7j5dht_5h_2n4n_c0000gn/T/ipykernel_8755/1114866685.py:147: UserWarning: Implicit dimension choice for log_softmax has been deprecated. Change the call to include dim=X as an argument.\n",
            "  out = torch.nn.functional.log_softmax(out)\n",
            "100%|██████████| 57/57 [00:11<00:00,  4.80it/s]\n",
            "  0%|          | 0/2 [00:00<?, ?it/s]/var/folders/3c/71b8pg6d7j5dht_5h_2n4n_c0000gn/T/ipykernel_8755/1114866685.py:147: UserWarning: Implicit dimension choice for log_softmax has been deprecated. Change the call to include dim=X as an argument.\n",
            "  out = torch.nn.functional.log_softmax(out)\n",
            "100%|██████████| 2/2 [00:00<00:00,  4.88it/s]\n"
          ]
        },
        {
          "name": "stdout",
          "output_type": "stream",
          "text": [
            "\n",
            "epoch 11\n",
            "\ttrain_loss:0.678 valid_loss:0.687\n",
            "\ttrain_acc:71.61% valid_acc:71.43%\n",
            "\ttrain_f1:0.716 valid_f1:0.714\n",
            "\ttrain_confusion_matrix:\n",
            "[[1530  317  593]\n",
            " [ 336 1894  212]\n",
            " [ 430  183 1801]]\n",
            "\tvalid_confusion_matrix:\n",
            "[[395  83 123]\n",
            " [ 86 464  49]\n",
            " [122  59 446]]\n"
          ]
        },
        {
          "name": "stderr",
          "output_type": "stream",
          "text": [
            "  0%|          | 0/57 [00:00<?, ?it/s]/var/folders/3c/71b8pg6d7j5dht_5h_2n4n_c0000gn/T/ipykernel_8755/1114866685.py:147: UserWarning: Implicit dimension choice for log_softmax has been deprecated. Change the call to include dim=X as an argument.\n",
            "  out = torch.nn.functional.log_softmax(out)\n",
            "100%|██████████| 57/57 [00:11<00:00,  4.92it/s]\n",
            "  0%|          | 0/2 [00:00<?, ?it/s]/var/folders/3c/71b8pg6d7j5dht_5h_2n4n_c0000gn/T/ipykernel_8755/1114866685.py:147: UserWarning: Implicit dimension choice for log_softmax has been deprecated. Change the call to include dim=X as an argument.\n",
            "  out = torch.nn.functional.log_softmax(out)\n",
            "100%|██████████| 2/2 [00:00<00:00,  4.96it/s]\n"
          ]
        },
        {
          "name": "stdout",
          "output_type": "stream",
          "text": [
            "\n",
            "epoch 12\n",
            "\ttrain_loss:0.665 valid_loss:0.677\n",
            "\ttrain_acc:72.71% valid_acc:71.65%\n",
            "\ttrain_f1:0.726 valid_f1:0.715\n",
            "\ttrain_confusion_matrix:\n",
            "[[1560  335  543]\n",
            " [ 316 1910  216]\n",
            " [ 405  176 1835]]\n",
            "\tvalid_confusion_matrix:\n",
            "[[380  93 128]\n",
            " [ 78 465  56]\n",
            " [103  60 464]]\n"
          ]
        },
        {
          "name": "stderr",
          "output_type": "stream",
          "text": [
            "  0%|          | 0/57 [00:00<?, ?it/s]/var/folders/3c/71b8pg6d7j5dht_5h_2n4n_c0000gn/T/ipykernel_8755/1114866685.py:147: UserWarning: Implicit dimension choice for log_softmax has been deprecated. Change the call to include dim=X as an argument.\n",
            "  out = torch.nn.functional.log_softmax(out)\n",
            "100%|██████████| 57/57 [00:11<00:00,  4.84it/s]\n",
            "  0%|          | 0/2 [00:00<?, ?it/s]/var/folders/3c/71b8pg6d7j5dht_5h_2n4n_c0000gn/T/ipykernel_8755/1114866685.py:147: UserWarning: Implicit dimension choice for log_softmax has been deprecated. Change the call to include dim=X as an argument.\n",
            "  out = torch.nn.functional.log_softmax(out)\n",
            "100%|██████████| 2/2 [00:00<00:00,  5.01it/s]\n"
          ]
        },
        {
          "name": "stdout",
          "output_type": "stream",
          "text": [
            "\n",
            "epoch 13\n",
            "\ttrain_loss:0.647 valid_loss:0.663\n",
            "\ttrain_acc:73.57% valid_acc:73.02%\n",
            "\ttrain_f1:0.735 valid_f1:0.730\n",
            "\ttrain_confusion_matrix:\n",
            "[[1602  299  538]\n",
            " [ 328 1910  204]\n",
            " [ 385  174 1856]]\n",
            "\tvalid_confusion_matrix:\n",
            "[[395  63 143]\n",
            " [ 92 444  63]\n",
            " [ 85  47 495]]\n"
          ]
        },
        {
          "name": "stderr",
          "output_type": "stream",
          "text": [
            "  0%|          | 0/57 [00:00<?, ?it/s]/var/folders/3c/71b8pg6d7j5dht_5h_2n4n_c0000gn/T/ipykernel_8755/1114866685.py:147: UserWarning: Implicit dimension choice for log_softmax has been deprecated. Change the call to include dim=X as an argument.\n",
            "  out = torch.nn.functional.log_softmax(out)\n",
            "100%|██████████| 57/57 [00:11<00:00,  5.13it/s]\n",
            "  0%|          | 0/2 [00:00<?, ?it/s]/var/folders/3c/71b8pg6d7j5dht_5h_2n4n_c0000gn/T/ipykernel_8755/1114866685.py:147: UserWarning: Implicit dimension choice for log_softmax has been deprecated. Change the call to include dim=X as an argument.\n",
            "  out = torch.nn.functional.log_softmax(out)\n",
            "100%|██████████| 2/2 [00:00<00:00,  4.87it/s]\n"
          ]
        },
        {
          "name": "stdout",
          "output_type": "stream",
          "text": [
            "\n",
            "epoch 14\n",
            "\ttrain_loss:0.639 valid_loss:0.660\n",
            "\ttrain_acc:74.31% valid_acc:72.19%\n",
            "\ttrain_f1:0.743 valid_f1:0.720\n",
            "\ttrain_confusion_matrix:\n",
            "[[1653  284  504]\n",
            " [ 317 1923  203]\n",
            " [ 399  167 1846]]\n",
            "\tvalid_confusion_matrix:\n",
            "[[364  98 139]\n",
            " [ 72 460  67]\n",
            " [ 73  59 495]]\n"
          ]
        },
        {
          "name": "stderr",
          "output_type": "stream",
          "text": [
            "  0%|          | 0/57 [00:00<?, ?it/s]/var/folders/3c/71b8pg6d7j5dht_5h_2n4n_c0000gn/T/ipykernel_8755/1114866685.py:147: UserWarning: Implicit dimension choice for log_softmax has been deprecated. Change the call to include dim=X as an argument.\n",
            "  out = torch.nn.functional.log_softmax(out)\n",
            "100%|██████████| 57/57 [00:11<00:00,  5.06it/s]\n",
            "  0%|          | 0/2 [00:00<?, ?it/s]/var/folders/3c/71b8pg6d7j5dht_5h_2n4n_c0000gn/T/ipykernel_8755/1114866685.py:147: UserWarning: Implicit dimension choice for log_softmax has been deprecated. Change the call to include dim=X as an argument.\n",
            "  out = torch.nn.functional.log_softmax(out)\n",
            "100%|██████████| 2/2 [00:00<00:00,  4.66it/s]\n"
          ]
        },
        {
          "name": "stdout",
          "output_type": "stream",
          "text": [
            "\n",
            "epoch 15\n",
            "\ttrain_loss:0.627 valid_loss:0.650\n",
            "\ttrain_acc:74.81% valid_acc:73.45%\n",
            "\ttrain_f1:0.748 valid_f1:0.734\n",
            "\ttrain_confusion_matrix:\n",
            "[[1651  291  499]\n",
            " [ 308 1936  199]\n",
            " [ 368  173 1871]]\n",
            "\tvalid_confusion_matrix:\n",
            "[[401  69 131]\n",
            " [ 84 455  60]\n",
            " [ 87  54 486]]\n"
          ]
        },
        {
          "name": "stderr",
          "output_type": "stream",
          "text": [
            "  0%|          | 0/57 [00:00<?, ?it/s]/var/folders/3c/71b8pg6d7j5dht_5h_2n4n_c0000gn/T/ipykernel_8755/1114866685.py:147: UserWarning: Implicit dimension choice for log_softmax has been deprecated. Change the call to include dim=X as an argument.\n",
            "  out = torch.nn.functional.log_softmax(out)\n",
            "100%|██████████| 57/57 [00:11<00:00,  4.95it/s]\n",
            "  0%|          | 0/2 [00:00<?, ?it/s]/var/folders/3c/71b8pg6d7j5dht_5h_2n4n_c0000gn/T/ipykernel_8755/1114866685.py:147: UserWarning: Implicit dimension choice for log_softmax has been deprecated. Change the call to include dim=X as an argument.\n",
            "  out = torch.nn.functional.log_softmax(out)\n",
            "100%|██████████| 2/2 [00:00<00:00,  4.65it/s]\n"
          ]
        },
        {
          "name": "stdout",
          "output_type": "stream",
          "text": [
            "\n",
            "epoch 16\n",
            "\ttrain_loss:0.615 valid_loss:0.638\n",
            "\ttrain_acc:75.49% valid_acc:73.67%\n",
            "\ttrain_f1:0.755 valid_f1:0.737\n",
            "\ttrain_confusion_matrix:\n",
            "[[1675  271  496]\n",
            " [ 305 1932  202]\n",
            " [ 367  147 1901]]\n",
            "\tvalid_confusion_matrix:\n",
            "[[419  65 117]\n",
            " [ 93 452  54]\n",
            " [107  45 475]]\n"
          ]
        },
        {
          "name": "stderr",
          "output_type": "stream",
          "text": [
            "  0%|          | 0/57 [00:00<?, ?it/s]/var/folders/3c/71b8pg6d7j5dht_5h_2n4n_c0000gn/T/ipykernel_8755/1114866685.py:147: UserWarning: Implicit dimension choice for log_softmax has been deprecated. Change the call to include dim=X as an argument.\n",
            "  out = torch.nn.functional.log_softmax(out)\n",
            "100%|██████████| 57/57 [00:11<00:00,  4.95it/s]\n",
            "  0%|          | 0/2 [00:00<?, ?it/s]/var/folders/3c/71b8pg6d7j5dht_5h_2n4n_c0000gn/T/ipykernel_8755/1114866685.py:147: UserWarning: Implicit dimension choice for log_softmax has been deprecated. Change the call to include dim=X as an argument.\n",
            "  out = torch.nn.functional.log_softmax(out)\n",
            "100%|██████████| 2/2 [00:00<00:00,  4.86it/s]\n"
          ]
        },
        {
          "name": "stdout",
          "output_type": "stream",
          "text": [
            "\n",
            "epoch 17\n",
            "\ttrain_loss:0.605 valid_loss:0.631\n",
            "\ttrain_acc:75.69% valid_acc:74.06%\n",
            "\ttrain_f1:0.757 valid_f1:0.738\n",
            "\ttrain_confusion_matrix:\n",
            "[[1696  272  474]\n",
            " [ 297 1946  200]\n",
            " [ 372  159 1880]]\n",
            "\tvalid_confusion_matrix:\n",
            "[[378  85 138]\n",
            " [ 74 462  63]\n",
            " [ 61  53 513]]\n"
          ]
        },
        {
          "name": "stderr",
          "output_type": "stream",
          "text": [
            "  0%|          | 0/57 [00:00<?, ?it/s]/var/folders/3c/71b8pg6d7j5dht_5h_2n4n_c0000gn/T/ipykernel_8755/1114866685.py:147: UserWarning: Implicit dimension choice for log_softmax has been deprecated. Change the call to include dim=X as an argument.\n",
            "  out = torch.nn.functional.log_softmax(out)\n",
            "100%|██████████| 57/57 [00:11<00:00,  5.00it/s]\n",
            "  0%|          | 0/2 [00:00<?, ?it/s]/var/folders/3c/71b8pg6d7j5dht_5h_2n4n_c0000gn/T/ipykernel_8755/1114866685.py:147: UserWarning: Implicit dimension choice for log_softmax has been deprecated. Change the call to include dim=X as an argument.\n",
            "  out = torch.nn.functional.log_softmax(out)\n",
            "100%|██████████| 2/2 [00:00<00:00,  4.90it/s]\n"
          ]
        },
        {
          "name": "stdout",
          "output_type": "stream",
          "text": [
            "\n",
            "epoch 18\n",
            "\ttrain_loss:0.592 valid_loss:0.631\n",
            "\ttrain_acc:76.34% valid_acc:73.51%\n",
            "\ttrain_f1:0.763 valid_f1:0.735\n",
            "\ttrain_confusion_matrix:\n",
            "[[1709  261  470]\n",
            " [ 282 1962  200]\n",
            " [ 355  158 1899]]\n",
            "\tvalid_confusion_matrix:\n",
            "[[397  71 133]\n",
            " [ 89 449  61]\n",
            " [ 83  47 497]]\n"
          ]
        },
        {
          "name": "stderr",
          "output_type": "stream",
          "text": [
            "  0%|          | 0/57 [00:00<?, ?it/s]/var/folders/3c/71b8pg6d7j5dht_5h_2n4n_c0000gn/T/ipykernel_8755/1114866685.py:147: UserWarning: Implicit dimension choice for log_softmax has been deprecated. Change the call to include dim=X as an argument.\n",
            "  out = torch.nn.functional.log_softmax(out)\n",
            "100%|██████████| 57/57 [00:11<00:00,  4.89it/s]\n",
            "  0%|          | 0/2 [00:00<?, ?it/s]/var/folders/3c/71b8pg6d7j5dht_5h_2n4n_c0000gn/T/ipykernel_8755/1114866685.py:147: UserWarning: Implicit dimension choice for log_softmax has been deprecated. Change the call to include dim=X as an argument.\n",
            "  out = torch.nn.functional.log_softmax(out)\n",
            "100%|██████████| 2/2 [00:00<00:00,  4.90it/s]\n"
          ]
        },
        {
          "name": "stdout",
          "output_type": "stream",
          "text": [
            "\n",
            "epoch 19\n",
            "\ttrain_loss:0.583 valid_loss:0.628\n",
            "\ttrain_acc:76.95% valid_acc:73.89%\n",
            "\ttrain_f1:0.770 valid_f1:0.737\n",
            "\ttrain_confusion_matrix:\n",
            "[[1743  246  451]\n",
            " [ 283 1968  192]\n",
            " [ 364  146 1903]]\n",
            "\tvalid_confusion_matrix:\n",
            "[[385  87 129]\n",
            " [ 78 463  58]\n",
            " [ 71  54 502]]\n",
            "Loading saved model from: model_task2.bin\n"
          ]
        },
        {
          "name": "stderr",
          "output_type": "stream",
          "text": [
            "  0%|          | 0/2 [00:00<?, ?it/s]/var/folders/3c/71b8pg6d7j5dht_5h_2n4n_c0000gn/T/ipykernel_8755/1114866685.py:147: UserWarning: Implicit dimension choice for log_softmax has been deprecated. Change the call to include dim=X as an argument.\n",
            "  out = torch.nn.functional.log_softmax(out)\n",
            "100%|██████████| 2/2 [00:00<00:00,  4.20it/s]\n"
          ]
        },
        {
          "name": "stdout",
          "output_type": "stream",
          "text": [
            "              precision    recall  f1-score   support\n",
            "\n",
            "     Neutral       0.72      0.64      0.68       601\n",
            "    Positive       0.76      0.77      0.76       599\n",
            "    Negative       0.73      0.79      0.76       627\n",
            "\n",
            "    accuracy                           0.74      1827\n",
            "   macro avg       0.74      0.73      0.73      1827\n",
            "weighted avg       0.74      0.74      0.73      1827\n",
            "\n",
            "\n",
            "******************************************************************************************\n",
            "Alpha Size: 0.4\n",
            "Window Size: 4\n",
            "******************************************************************************************\n",
            "\n",
            "train samples:7305\n",
            "valid samples:1827\n"
          ]
        },
        {
          "name": "stderr",
          "output_type": "stream",
          "text": [
            "  0%|          | 0/57 [00:00<?, ?it/s]/var/folders/3c/71b8pg6d7j5dht_5h_2n4n_c0000gn/T/ipykernel_8755/1114866685.py:147: UserWarning: Implicit dimension choice for log_softmax has been deprecated. Change the call to include dim=X as an argument.\n",
            "  out = torch.nn.functional.log_softmax(out)\n",
            "100%|██████████| 57/57 [00:12<00:00,  4.64it/s]\n",
            "  0%|          | 0/2 [00:00<?, ?it/s]/var/folders/3c/71b8pg6d7j5dht_5h_2n4n_c0000gn/T/ipykernel_8755/1114866685.py:147: UserWarning: Implicit dimension choice for log_softmax has been deprecated. Change the call to include dim=X as an argument.\n",
            "  out = torch.nn.functional.log_softmax(out)\n",
            "100%|██████████| 2/2 [00:00<00:00,  4.15it/s]\n"
          ]
        },
        {
          "name": "stdout",
          "output_type": "stream",
          "text": [
            "\n",
            "epoch 0\n",
            "\ttrain_loss:1.087 valid_loss:1.075\n",
            "\ttrain_acc:44.45% valid_acc:50.19%\n",
            "\ttrain_f1:0.438 valid_f1:0.495\n",
            "\ttrain_confusion_matrix:\n",
            "[[1467  432  548]\n",
            " [ 965 1037  441]\n",
            " [1207  460  739]]\n",
            "\tvalid_confusion_matrix:\n",
            "[[281 183 131]\n",
            " [139 398  60]\n",
            " [207 190 238]]\n"
          ]
        },
        {
          "name": "stderr",
          "output_type": "stream",
          "text": [
            "  0%|          | 0/57 [00:00<?, ?it/s]/var/folders/3c/71b8pg6d7j5dht_5h_2n4n_c0000gn/T/ipykernel_8755/1114866685.py:147: UserWarning: Implicit dimension choice for log_softmax has been deprecated. Change the call to include dim=X as an argument.\n",
            "  out = torch.nn.functional.log_softmax(out)\n",
            "100%|██████████| 57/57 [00:12<00:00,  4.44it/s]\n",
            "  0%|          | 0/2 [00:00<?, ?it/s]/var/folders/3c/71b8pg6d7j5dht_5h_2n4n_c0000gn/T/ipykernel_8755/1114866685.py:147: UserWarning: Implicit dimension choice for log_softmax has been deprecated. Change the call to include dim=X as an argument.\n",
            "  out = torch.nn.functional.log_softmax(out)\n",
            "100%|██████████| 2/2 [00:00<00:00,  4.15it/s]\n"
          ]
        },
        {
          "name": "stdout",
          "output_type": "stream",
          "text": [
            "\n",
            "epoch 1\n",
            "\ttrain_loss:1.042 valid_loss:0.994\n",
            "\ttrain_acc:54.65% valid_acc:54.57%\n",
            "\ttrain_f1:0.536 valid_f1:0.528\n",
            "\ttrain_confusion_matrix:\n",
            "[[ 880  782  782]\n",
            " [ 307 1776  362]\n",
            " [ 427  649 1331]]\n",
            "\tvalid_confusion_matrix:\n",
            "[[170 175 250]\n",
            " [ 58 420 119]\n",
            " [ 71 157 407]]\n"
          ]
        },
        {
          "name": "stderr",
          "output_type": "stream",
          "text": [
            "  0%|          | 0/57 [00:00<?, ?it/s]/var/folders/3c/71b8pg6d7j5dht_5h_2n4n_c0000gn/T/ipykernel_8755/1114866685.py:147: UserWarning: Implicit dimension choice for log_softmax has been deprecated. Change the call to include dim=X as an argument.\n",
            "  out = torch.nn.functional.log_softmax(out)\n",
            "100%|██████████| 57/57 [00:12<00:00,  4.53it/s]\n",
            "  0%|          | 0/2 [00:00<?, ?it/s]/var/folders/3c/71b8pg6d7j5dht_5h_2n4n_c0000gn/T/ipykernel_8755/1114866685.py:147: UserWarning: Implicit dimension choice for log_softmax has been deprecated. Change the call to include dim=X as an argument.\n",
            "  out = torch.nn.functional.log_softmax(out)\n",
            "100%|██████████| 2/2 [00:00<00:00,  4.23it/s]\n"
          ]
        },
        {
          "name": "stdout",
          "output_type": "stream",
          "text": [
            "\n",
            "epoch 2\n",
            "\ttrain_loss:0.922 valid_loss:0.885\n",
            "\ttrain_acc:57.51% valid_acc:58.24%\n",
            "\ttrain_f1:0.552 valid_f1:0.561\n",
            "\ttrain_confusion_matrix:\n",
            "[[ 680  676 1088]\n",
            " [ 204 1821  419]\n",
            " [ 213  500 1695]]\n",
            "\tvalid_confusion_matrix:\n",
            "[[167 147 281]\n",
            " [ 49 449  99]\n",
            " [ 79 108 448]]\n"
          ]
        },
        {
          "name": "stderr",
          "output_type": "stream",
          "text": [
            "  0%|          | 0/57 [00:00<?, ?it/s]/var/folders/3c/71b8pg6d7j5dht_5h_2n4n_c0000gn/T/ipykernel_8755/1114866685.py:147: UserWarning: Implicit dimension choice for log_softmax has been deprecated. Change the call to include dim=X as an argument.\n",
            "  out = torch.nn.functional.log_softmax(out)\n",
            "100%|██████████| 57/57 [00:12<00:00,  4.46it/s]\n",
            "  0%|          | 0/2 [00:00<?, ?it/s]/var/folders/3c/71b8pg6d7j5dht_5h_2n4n_c0000gn/T/ipykernel_8755/1114866685.py:147: UserWarning: Implicit dimension choice for log_softmax has been deprecated. Change the call to include dim=X as an argument.\n",
            "  out = torch.nn.functional.log_softmax(out)\n",
            "100%|██████████| 2/2 [00:00<00:00,  4.27it/s]\n"
          ]
        },
        {
          "name": "stdout",
          "output_type": "stream",
          "text": [
            "\n",
            "epoch 3\n",
            "\ttrain_loss:0.851 valid_loss:0.839\n",
            "\ttrain_acc:62.79% valid_acc:63.33%\n",
            "\ttrain_f1:0.618 valid_f1:0.628\n",
            "\ttrain_confusion_matrix:\n",
            "[[1020  543  883]\n",
            " [ 296 1878  271]\n",
            " [ 382  340 1683]]\n",
            "\tvalid_confusion_matrix:\n",
            "[[266 107 222]\n",
            " [ 73 435  89]\n",
            " [119  60 456]]\n"
          ]
        },
        {
          "name": "stderr",
          "output_type": "stream",
          "text": [
            "  0%|          | 0/57 [00:00<?, ?it/s]/var/folders/3c/71b8pg6d7j5dht_5h_2n4n_c0000gn/T/ipykernel_8755/1114866685.py:147: UserWarning: Implicit dimension choice for log_softmax has been deprecated. Change the call to include dim=X as an argument.\n",
            "  out = torch.nn.functional.log_softmax(out)\n",
            "100%|██████████| 57/57 [00:12<00:00,  4.52it/s]\n",
            "  0%|          | 0/2 [00:00<?, ?it/s]/var/folders/3c/71b8pg6d7j5dht_5h_2n4n_c0000gn/T/ipykernel_8755/1114866685.py:147: UserWarning: Implicit dimension choice for log_softmax has been deprecated. Change the call to include dim=X as an argument.\n",
            "  out = torch.nn.functional.log_softmax(out)\n",
            "100%|██████████| 2/2 [00:00<00:00,  4.23it/s]\n"
          ]
        },
        {
          "name": "stdout",
          "output_type": "stream",
          "text": [
            "\n",
            "epoch 4\n",
            "\ttrain_loss:0.804 valid_loss:0.813\n",
            "\ttrain_acc:64.61% valid_acc:64.53%\n",
            "\ttrain_f1:0.642 valid_f1:0.645\n",
            "\ttrain_confusion_matrix:\n",
            "[[1202  431  812]\n",
            " [ 363 1854  227]\n",
            " [ 496  253 1658]]\n",
            "\tvalid_confusion_matrix:\n",
            "[[317  79 199]\n",
            " [107 410  80]\n",
            " [138  45 452]]\n"
          ]
        },
        {
          "name": "stderr",
          "output_type": "stream",
          "text": [
            "  0%|          | 0/57 [00:00<?, ?it/s]/var/folders/3c/71b8pg6d7j5dht_5h_2n4n_c0000gn/T/ipykernel_8755/1114866685.py:147: UserWarning: Implicit dimension choice for log_softmax has been deprecated. Change the call to include dim=X as an argument.\n",
            "  out = torch.nn.functional.log_softmax(out)\n",
            "100%|██████████| 57/57 [00:12<00:00,  4.40it/s]\n",
            "  0%|          | 0/2 [00:00<?, ?it/s]/var/folders/3c/71b8pg6d7j5dht_5h_2n4n_c0000gn/T/ipykernel_8755/1114866685.py:147: UserWarning: Implicit dimension choice for log_softmax has been deprecated. Change the call to include dim=X as an argument.\n",
            "  out = torch.nn.functional.log_softmax(out)\n",
            "100%|██████████| 2/2 [00:00<00:00,  4.41it/s]\n"
          ]
        },
        {
          "name": "stdout",
          "output_type": "stream",
          "text": [
            "\n",
            "epoch 5\n",
            "\ttrain_loss:0.774 valid_loss:0.790\n",
            "\ttrain_acc:66.34% valid_acc:64.20%\n",
            "\ttrain_f1:0.661 valid_f1:0.637\n",
            "\ttrain_confusion_matrix:\n",
            "[[1298  398  750]\n",
            " [ 350 1866  226]\n",
            " [ 498  234 1676]]\n",
            "\tvalid_confusion_matrix:\n",
            "[[279 106 210]\n",
            " [ 77 434  86]\n",
            " [113  62 460]]\n"
          ]
        },
        {
          "name": "stderr",
          "output_type": "stream",
          "text": [
            "  0%|          | 0/57 [00:00<?, ?it/s]/var/folders/3c/71b8pg6d7j5dht_5h_2n4n_c0000gn/T/ipykernel_8755/1114866685.py:147: UserWarning: Implicit dimension choice for log_softmax has been deprecated. Change the call to include dim=X as an argument.\n",
            "  out = torch.nn.functional.log_softmax(out)\n",
            "100%|██████████| 57/57 [00:12<00:00,  4.43it/s]\n",
            "  0%|          | 0/2 [00:00<?, ?it/s]/var/folders/3c/71b8pg6d7j5dht_5h_2n4n_c0000gn/T/ipykernel_8755/1114866685.py:147: UserWarning: Implicit dimension choice for log_softmax has been deprecated. Change the call to include dim=X as an argument.\n",
            "  out = torch.nn.functional.log_softmax(out)\n",
            "100%|██████████| 2/2 [00:00<00:00,  4.05it/s]\n"
          ]
        },
        {
          "name": "stdout",
          "output_type": "stream",
          "text": [
            "\n",
            "epoch 6\n",
            "\ttrain_loss:0.744 valid_loss:0.778\n",
            "\ttrain_acc:68.31% valid_acc:66.39%\n",
            "\ttrain_f1:0.681 valid_f1:0.664\n",
            "\ttrain_confusion_matrix:\n",
            "[[1345  357  745]\n",
            " [ 338 1877  227]\n",
            " [ 441  204 1762]]\n",
            "\tvalid_confusion_matrix:\n",
            "[[348  91 156]\n",
            " [ 88 434  75]\n",
            " [143  61 431]]\n"
          ]
        },
        {
          "name": "stderr",
          "output_type": "stream",
          "text": [
            "  0%|          | 0/57 [00:00<?, ?it/s]/var/folders/3c/71b8pg6d7j5dht_5h_2n4n_c0000gn/T/ipykernel_8755/1114866685.py:147: UserWarning: Implicit dimension choice for log_softmax has been deprecated. Change the call to include dim=X as an argument.\n",
            "  out = torch.nn.functional.log_softmax(out)\n",
            "100%|██████████| 57/57 [00:12<00:00,  4.45it/s]\n",
            "  0%|          | 0/2 [00:00<?, ?it/s]/var/folders/3c/71b8pg6d7j5dht_5h_2n4n_c0000gn/T/ipykernel_8755/1114866685.py:147: UserWarning: Implicit dimension choice for log_softmax has been deprecated. Change the call to include dim=X as an argument.\n",
            "  out = torch.nn.functional.log_softmax(out)\n",
            "100%|██████████| 2/2 [00:00<00:00,  4.36it/s]\n"
          ]
        },
        {
          "name": "stdout",
          "output_type": "stream",
          "text": [
            "\n",
            "epoch 7\n",
            "\ttrain_loss:0.735 valid_loss:0.781\n",
            "\ttrain_acc:68.33% valid_acc:65.90%\n",
            "\ttrain_f1:0.681 valid_f1:0.655\n",
            "\ttrain_confusion_matrix:\n",
            "[[1371  362  712]\n",
            " [ 332 1897  214]\n",
            " [ 464  227 1717]]\n",
            "\tvalid_confusion_matrix:\n",
            "[[292  88 215]\n",
            " [ 87 427  83]\n",
            " [ 90  60 485]]\n"
          ]
        },
        {
          "name": "stderr",
          "output_type": "stream",
          "text": [
            "  0%|          | 0/57 [00:00<?, ?it/s]/var/folders/3c/71b8pg6d7j5dht_5h_2n4n_c0000gn/T/ipykernel_8755/1114866685.py:147: UserWarning: Implicit dimension choice for log_softmax has been deprecated. Change the call to include dim=X as an argument.\n",
            "  out = torch.nn.functional.log_softmax(out)\n",
            "100%|██████████| 57/57 [00:12<00:00,  4.43it/s]\n",
            "  0%|          | 0/2 [00:00<?, ?it/s]/var/folders/3c/71b8pg6d7j5dht_5h_2n4n_c0000gn/T/ipykernel_8755/1114866685.py:147: UserWarning: Implicit dimension choice for log_softmax has been deprecated. Change the call to include dim=X as an argument.\n",
            "  out = torch.nn.functional.log_softmax(out)\n",
            "100%|██████████| 2/2 [00:00<00:00,  4.32it/s]\n"
          ]
        },
        {
          "name": "stdout",
          "output_type": "stream",
          "text": [
            "\n",
            "epoch 8\n",
            "\ttrain_loss:0.718 valid_loss:0.757\n",
            "\ttrain_acc:69.70% valid_acc:68.42%\n",
            "\ttrain_f1:0.696 valid_f1:0.682\n",
            "\ttrain_confusion_matrix:\n",
            "[[1450  310  684]\n",
            " [ 362 1870  214]\n",
            " [ 425  216 1765]]\n",
            "\tvalid_confusion_matrix:\n",
            "[[345 105 145]\n",
            " [ 72 463  62]\n",
            " [124  69 442]]\n"
          ]
        },
        {
          "name": "stderr",
          "output_type": "stream",
          "text": [
            "  0%|          | 0/57 [00:00<?, ?it/s]/var/folders/3c/71b8pg6d7j5dht_5h_2n4n_c0000gn/T/ipykernel_8755/1114866685.py:147: UserWarning: Implicit dimension choice for log_softmax has been deprecated. Change the call to include dim=X as an argument.\n",
            "  out = torch.nn.functional.log_softmax(out)\n",
            "100%|██████████| 57/57 [00:12<00:00,  4.46it/s]\n",
            "  0%|          | 0/2 [00:00<?, ?it/s]/var/folders/3c/71b8pg6d7j5dht_5h_2n4n_c0000gn/T/ipykernel_8755/1114866685.py:147: UserWarning: Implicit dimension choice for log_softmax has been deprecated. Change the call to include dim=X as an argument.\n",
            "  out = torch.nn.functional.log_softmax(out)\n",
            "100%|██████████| 2/2 [00:00<00:00,  4.37it/s]\n"
          ]
        },
        {
          "name": "stdout",
          "output_type": "stream",
          "text": [
            "\n",
            "epoch 9\n",
            "\ttrain_loss:0.691 valid_loss:0.744\n",
            "\ttrain_acc:70.93% valid_acc:68.14%\n",
            "\ttrain_f1:0.709 valid_f1:0.681\n",
            "\ttrain_confusion_matrix:\n",
            "[[1501  311  636]\n",
            " [ 329 1885  230]\n",
            " [ 420  195 1789]]\n",
            "\tvalid_confusion_matrix:\n",
            "[[345  73 177]\n",
            " [ 87 418  92]\n",
            " [106  47 482]]\n"
          ]
        },
        {
          "name": "stderr",
          "output_type": "stream",
          "text": [
            "  0%|          | 0/57 [00:00<?, ?it/s]/var/folders/3c/71b8pg6d7j5dht_5h_2n4n_c0000gn/T/ipykernel_8755/1114866685.py:147: UserWarning: Implicit dimension choice for log_softmax has been deprecated. Change the call to include dim=X as an argument.\n",
            "  out = torch.nn.functional.log_softmax(out)\n",
            "100%|██████████| 57/57 [00:12<00:00,  4.53it/s]\n",
            "  0%|          | 0/2 [00:00<?, ?it/s]/var/folders/3c/71b8pg6d7j5dht_5h_2n4n_c0000gn/T/ipykernel_8755/1114866685.py:147: UserWarning: Implicit dimension choice for log_softmax has been deprecated. Change the call to include dim=X as an argument.\n",
            "  out = torch.nn.functional.log_softmax(out)\n",
            "100%|██████████| 2/2 [00:00<00:00,  4.49it/s]\n"
          ]
        },
        {
          "name": "stdout",
          "output_type": "stream",
          "text": [
            "\n",
            "epoch 10\n",
            "\ttrain_loss:0.672 valid_loss:0.725\n",
            "\ttrain_acc:72.16% valid_acc:69.35%\n",
            "\ttrain_f1:0.721 valid_f1:0.693\n",
            "\ttrain_confusion_matrix:\n",
            "[[1525  304  616]\n",
            " [ 309 1905  231]\n",
            " [ 389  182 1835]]\n",
            "\tvalid_confusion_matrix:\n",
            "[[361  75 159]\n",
            " [ 82 428  87]\n",
            " [111  46 478]]\n"
          ]
        },
        {
          "name": "stderr",
          "output_type": "stream",
          "text": [
            "  0%|          | 0/57 [00:00<?, ?it/s]/var/folders/3c/71b8pg6d7j5dht_5h_2n4n_c0000gn/T/ipykernel_8755/1114866685.py:147: UserWarning: Implicit dimension choice for log_softmax has been deprecated. Change the call to include dim=X as an argument.\n",
            "  out = torch.nn.functional.log_softmax(out)\n",
            "100%|██████████| 57/57 [00:12<00:00,  4.46it/s]\n",
            "  0%|          | 0/2 [00:00<?, ?it/s]/var/folders/3c/71b8pg6d7j5dht_5h_2n4n_c0000gn/T/ipykernel_8755/1114866685.py:147: UserWarning: Implicit dimension choice for log_softmax has been deprecated. Change the call to include dim=X as an argument.\n",
            "  out = torch.nn.functional.log_softmax(out)\n",
            "100%|██████████| 2/2 [00:00<00:00,  4.29it/s]\n"
          ]
        },
        {
          "name": "stdout",
          "output_type": "stream",
          "text": [
            "\n",
            "epoch 11\n",
            "\ttrain_loss:0.657 valid_loss:0.734\n",
            "\ttrain_acc:72.78% valid_acc:69.18%\n",
            "\ttrain_f1:0.727 valid_f1:0.692\n",
            "\ttrain_confusion_matrix:\n",
            "[[1562  307  578]\n",
            " [ 321 1904  219]\n",
            " [ 378  183 1844]]\n",
            "\tvalid_confusion_matrix:\n",
            "[[371  53 171]\n",
            " [ 95 400 102]\n",
            " [106  36 493]]\n"
          ]
        },
        {
          "name": "stderr",
          "output_type": "stream",
          "text": [
            "  0%|          | 0/57 [00:00<?, ?it/s]/var/folders/3c/71b8pg6d7j5dht_5h_2n4n_c0000gn/T/ipykernel_8755/1114866685.py:147: UserWarning: Implicit dimension choice for log_softmax has been deprecated. Change the call to include dim=X as an argument.\n",
            "  out = torch.nn.functional.log_softmax(out)\n",
            "100%|██████████| 57/57 [00:13<00:00,  4.34it/s]\n",
            "  0%|          | 0/2 [00:00<?, ?it/s]/var/folders/3c/71b8pg6d7j5dht_5h_2n4n_c0000gn/T/ipykernel_8755/1114866685.py:147: UserWarning: Implicit dimension choice for log_softmax has been deprecated. Change the call to include dim=X as an argument.\n",
            "  out = torch.nn.functional.log_softmax(out)\n",
            "100%|██████████| 2/2 [00:00<00:00,  4.22it/s]\n"
          ]
        },
        {
          "name": "stdout",
          "output_type": "stream",
          "text": [
            "\n",
            "epoch 12\n",
            "\ttrain_loss:0.642 valid_loss:0.715\n",
            "\ttrain_acc:74.07% valid_acc:70.06%\n",
            "\ttrain_f1:0.741 valid_f1:0.700\n",
            "\ttrain_confusion_matrix:\n",
            "[[1647  273  526]\n",
            " [ 315 1916  212]\n",
            " [ 395  171 1841]]\n",
            "\tvalid_confusion_matrix:\n",
            "[[368  74 153]\n",
            " [ 73 431  93]\n",
            " [111  43 481]]\n"
          ]
        },
        {
          "name": "stderr",
          "output_type": "stream",
          "text": [
            "  0%|          | 0/57 [00:00<?, ?it/s]/var/folders/3c/71b8pg6d7j5dht_5h_2n4n_c0000gn/T/ipykernel_8755/1114866685.py:147: UserWarning: Implicit dimension choice for log_softmax has been deprecated. Change the call to include dim=X as an argument.\n",
            "  out = torch.nn.functional.log_softmax(out)\n",
            "100%|██████████| 57/57 [00:13<00:00,  4.27it/s]\n",
            "  0%|          | 0/2 [00:00<?, ?it/s]/var/folders/3c/71b8pg6d7j5dht_5h_2n4n_c0000gn/T/ipykernel_8755/1114866685.py:147: UserWarning: Implicit dimension choice for log_softmax has been deprecated. Change the call to include dim=X as an argument.\n",
            "  out = torch.nn.functional.log_softmax(out)\n",
            "100%|██████████| 2/2 [00:00<00:00,  4.34it/s]\n"
          ]
        },
        {
          "name": "stdout",
          "output_type": "stream",
          "text": [
            "\n",
            "epoch 13\n",
            "\ttrain_loss:0.631 valid_loss:0.698\n",
            "\ttrain_acc:74.03% valid_acc:71.26%\n",
            "\ttrain_f1:0.740 valid_f1:0.713\n",
            "\ttrain_confusion_matrix:\n",
            "[[1622  281  542]\n",
            " [ 310 1921  214]\n",
            " [ 376  172 1858]]\n",
            "\tvalid_confusion_matrix:\n",
            "[[398  75 122]\n",
            " [ 80 431  86]\n",
            " [118  44 473]]\n"
          ]
        },
        {
          "name": "stderr",
          "output_type": "stream",
          "text": [
            "  0%|          | 0/57 [00:00<?, ?it/s]/var/folders/3c/71b8pg6d7j5dht_5h_2n4n_c0000gn/T/ipykernel_8755/1114866685.py:147: UserWarning: Implicit dimension choice for log_softmax has been deprecated. Change the call to include dim=X as an argument.\n",
            "  out = torch.nn.functional.log_softmax(out)\n",
            "100%|██████████| 57/57 [00:13<00:00,  4.33it/s]\n",
            "  0%|          | 0/2 [00:00<?, ?it/s]/var/folders/3c/71b8pg6d7j5dht_5h_2n4n_c0000gn/T/ipykernel_8755/1114866685.py:147: UserWarning: Implicit dimension choice for log_softmax has been deprecated. Change the call to include dim=X as an argument.\n",
            "  out = torch.nn.functional.log_softmax(out)\n",
            "100%|██████████| 2/2 [00:00<00:00,  4.33it/s]\n"
          ]
        },
        {
          "name": "stdout",
          "output_type": "stream",
          "text": [
            "\n",
            "epoch 14\n",
            "\ttrain_loss:0.609 valid_loss:0.687\n",
            "\ttrain_acc:75.45% valid_acc:71.92%\n",
            "\ttrain_f1:0.755 valid_f1:0.719\n",
            "\ttrain_confusion_matrix:\n",
            "[[1702  271  472]\n",
            " [ 316 1931  198]\n",
            " [ 376  158 1872]]\n",
            "\tvalid_confusion_matrix:\n",
            "[[390  71 134]\n",
            " [ 76 439  82]\n",
            " [104  46 485]]\n"
          ]
        },
        {
          "name": "stderr",
          "output_type": "stream",
          "text": [
            "  0%|          | 0/57 [00:00<?, ?it/s]/var/folders/3c/71b8pg6d7j5dht_5h_2n4n_c0000gn/T/ipykernel_8755/1114866685.py:147: UserWarning: Implicit dimension choice for log_softmax has been deprecated. Change the call to include dim=X as an argument.\n",
            "  out = torch.nn.functional.log_softmax(out)\n",
            "100%|██████████| 57/57 [00:12<00:00,  4.43it/s]\n",
            "  0%|          | 0/2 [00:00<?, ?it/s]/var/folders/3c/71b8pg6d7j5dht_5h_2n4n_c0000gn/T/ipykernel_8755/1114866685.py:147: UserWarning: Implicit dimension choice for log_softmax has been deprecated. Change the call to include dim=X as an argument.\n",
            "  out = torch.nn.functional.log_softmax(out)\n",
            "100%|██████████| 2/2 [00:00<00:00,  4.43it/s]\n"
          ]
        },
        {
          "name": "stdout",
          "output_type": "stream",
          "text": [
            "\n",
            "epoch 15\n",
            "\ttrain_loss:0.594 valid_loss:0.689\n",
            "\ttrain_acc:76.27% valid_acc:71.26%\n",
            "\ttrain_f1:0.763 valid_f1:0.711\n",
            "\ttrain_confusion_matrix:\n",
            "[[1740  264  441]\n",
            " [ 322 1922  200]\n",
            " [ 357  147 1903]]\n",
            "\tvalid_confusion_matrix:\n",
            "[[363 107 125]\n",
            " [ 60 456  81]\n",
            " [ 91  61 483]]\n"
          ]
        },
        {
          "name": "stderr",
          "output_type": "stream",
          "text": [
            "  0%|          | 0/57 [00:00<?, ?it/s]/var/folders/3c/71b8pg6d7j5dht_5h_2n4n_c0000gn/T/ipykernel_8755/1114866685.py:147: UserWarning: Implicit dimension choice for log_softmax has been deprecated. Change the call to include dim=X as an argument.\n",
            "  out = torch.nn.functional.log_softmax(out)\n",
            "100%|██████████| 57/57 [00:12<00:00,  4.40it/s]\n",
            "  0%|          | 0/2 [00:00<?, ?it/s]/var/folders/3c/71b8pg6d7j5dht_5h_2n4n_c0000gn/T/ipykernel_8755/1114866685.py:147: UserWarning: Implicit dimension choice for log_softmax has been deprecated. Change the call to include dim=X as an argument.\n",
            "  out = torch.nn.functional.log_softmax(out)\n",
            "100%|██████████| 2/2 [00:00<00:00,  4.26it/s]\n"
          ]
        },
        {
          "name": "stdout",
          "output_type": "stream",
          "text": [
            "\n",
            "epoch 16\n",
            "\ttrain_loss:0.582 valid_loss:0.680\n",
            "\ttrain_acc:77.06% valid_acc:72.47%\n",
            "\ttrain_f1:0.770 valid_f1:0.724\n",
            "\ttrain_confusion_matrix:\n",
            "[[1738  282  425]\n",
            " [ 291 1949  204]\n",
            " [ 319  153 1935]]\n",
            "\tvalid_confusion_matrix:\n",
            "[[378  75 142]\n",
            " [ 68 434  95]\n",
            " [ 82  41 512]]\n"
          ]
        },
        {
          "name": "stderr",
          "output_type": "stream",
          "text": [
            "  0%|          | 0/57 [00:00<?, ?it/s]/var/folders/3c/71b8pg6d7j5dht_5h_2n4n_c0000gn/T/ipykernel_8755/1114866685.py:147: UserWarning: Implicit dimension choice for log_softmax has been deprecated. Change the call to include dim=X as an argument.\n",
            "  out = torch.nn.functional.log_softmax(out)\n",
            "100%|██████████| 57/57 [00:12<00:00,  4.63it/s]\n",
            "  0%|          | 0/2 [00:00<?, ?it/s]/var/folders/3c/71b8pg6d7j5dht_5h_2n4n_c0000gn/T/ipykernel_8755/1114866685.py:147: UserWarning: Implicit dimension choice for log_softmax has been deprecated. Change the call to include dim=X as an argument.\n",
            "  out = torch.nn.functional.log_softmax(out)\n",
            "100%|██████████| 2/2 [00:00<00:00,  3.97it/s]\n"
          ]
        },
        {
          "name": "stdout",
          "output_type": "stream",
          "text": [
            "\n",
            "epoch 17\n",
            "\ttrain_loss:0.562 valid_loss:0.669\n",
            "\ttrain_acc:78.26% valid_acc:73.67%\n",
            "\ttrain_f1:0.783 valid_f1:0.736\n",
            "\ttrain_confusion_matrix:\n",
            "[[1804  248  395]\n",
            " [ 301 1956  186]\n",
            " [ 326  130 1950]]\n",
            "\tvalid_confusion_matrix:\n",
            "[[400  82 113]\n",
            " [ 62 450  85]\n",
            " [ 89  50 496]]\n"
          ]
        },
        {
          "name": "stderr",
          "output_type": "stream",
          "text": [
            "  0%|          | 0/57 [00:00<?, ?it/s]/var/folders/3c/71b8pg6d7j5dht_5h_2n4n_c0000gn/T/ipykernel_8755/1114866685.py:147: UserWarning: Implicit dimension choice for log_softmax has been deprecated. Change the call to include dim=X as an argument.\n",
            "  out = torch.nn.functional.log_softmax(out)\n",
            "100%|██████████| 57/57 [00:12<00:00,  4.53it/s]\n",
            "  0%|          | 0/2 [00:00<?, ?it/s]/var/folders/3c/71b8pg6d7j5dht_5h_2n4n_c0000gn/T/ipykernel_8755/1114866685.py:147: UserWarning: Implicit dimension choice for log_softmax has been deprecated. Change the call to include dim=X as an argument.\n",
            "  out = torch.nn.functional.log_softmax(out)\n",
            "100%|██████████| 2/2 [00:00<00:00,  4.26it/s]\n"
          ]
        },
        {
          "name": "stdout",
          "output_type": "stream",
          "text": [
            "\n",
            "epoch 18\n",
            "\ttrain_loss:0.550 valid_loss:0.662\n",
            "\ttrain_acc:78.92% valid_acc:74.06%\n",
            "\ttrain_f1:0.789 valid_f1:0.741\n",
            "\ttrain_confusion_matrix:\n",
            "[[1832  237  378]\n",
            " [ 299 1958  188]\n",
            " [ 301  135 1968]]\n",
            "\tvalid_confusion_matrix:\n",
            "[[441  60  94]\n",
            " [ 85 435  77]\n",
            " [116  42 477]]\n"
          ]
        },
        {
          "name": "stderr",
          "output_type": "stream",
          "text": [
            "  0%|          | 0/57 [00:00<?, ?it/s]/var/folders/3c/71b8pg6d7j5dht_5h_2n4n_c0000gn/T/ipykernel_8755/1114866685.py:147: UserWarning: Implicit dimension choice for log_softmax has been deprecated. Change the call to include dim=X as an argument.\n",
            "  out = torch.nn.functional.log_softmax(out)\n",
            "100%|██████████| 57/57 [00:13<00:00,  4.34it/s]\n",
            "  0%|          | 0/2 [00:00<?, ?it/s]/var/folders/3c/71b8pg6d7j5dht_5h_2n4n_c0000gn/T/ipykernel_8755/1114866685.py:147: UserWarning: Implicit dimension choice for log_softmax has been deprecated. Change the call to include dim=X as an argument.\n",
            "  out = torch.nn.functional.log_softmax(out)\n",
            "100%|██████████| 2/2 [00:00<00:00,  3.94it/s]\n"
          ]
        },
        {
          "name": "stdout",
          "output_type": "stream",
          "text": [
            "\n",
            "epoch 19\n",
            "\ttrain_loss:0.541 valid_loss:0.658\n",
            "\ttrain_acc:79.26% valid_acc:74.11%\n",
            "\ttrain_f1:0.793 valid_f1:0.741\n",
            "\ttrain_confusion_matrix:\n",
            "[[1854  232  360]\n",
            " [ 284 1983  177]\n",
            " [ 335  125 1946]]\n",
            "\tvalid_confusion_matrix:\n",
            "[[426  74  95]\n",
            " [ 69 448  80]\n",
            " [104  51 480]]\n",
            "Loading saved model from: model_task2.bin\n"
          ]
        },
        {
          "name": "stderr",
          "output_type": "stream",
          "text": [
            "  0%|          | 0/2 [00:00<?, ?it/s]/var/folders/3c/71b8pg6d7j5dht_5h_2n4n_c0000gn/T/ipykernel_8755/1114866685.py:147: UserWarning: Implicit dimension choice for log_softmax has been deprecated. Change the call to include dim=X as an argument.\n",
            "  out = torch.nn.functional.log_softmax(out)\n",
            "100%|██████████| 2/2 [00:00<00:00,  3.79it/s]\n"
          ]
        },
        {
          "name": "stdout",
          "output_type": "stream",
          "text": [
            "              precision    recall  f1-score   support\n",
            "\n",
            "     Neutral       0.72      0.72      0.72       595\n",
            "    Positive       0.79      0.76      0.77       597\n",
            "    Negative       0.74      0.76      0.75       635\n",
            "\n",
            "    accuracy                           0.75      1827\n",
            "   macro avg       0.75      0.75      0.75      1827\n",
            "weighted avg       0.75      0.75      0.75      1827\n",
            "\n",
            "\n",
            "******************************************************************************************\n",
            "Alpha Size: 0.4\n",
            "Window Size: 8\n",
            "******************************************************************************************\n",
            "\n",
            "train samples:7305\n",
            "valid samples:1827\n"
          ]
        },
        {
          "name": "stderr",
          "output_type": "stream",
          "text": [
            "  0%|          | 0/57 [00:00<?, ?it/s]/var/folders/3c/71b8pg6d7j5dht_5h_2n4n_c0000gn/T/ipykernel_8755/1114866685.py:147: UserWarning: Implicit dimension choice for log_softmax has been deprecated. Change the call to include dim=X as an argument.\n",
            "  out = torch.nn.functional.log_softmax(out)\n",
            "100%|██████████| 57/57 [00:13<00:00,  4.24it/s]\n",
            "  0%|          | 0/2 [00:00<?, ?it/s]/var/folders/3c/71b8pg6d7j5dht_5h_2n4n_c0000gn/T/ipykernel_8755/1114866685.py:147: UserWarning: Implicit dimension choice for log_softmax has been deprecated. Change the call to include dim=X as an argument.\n",
            "  out = torch.nn.functional.log_softmax(out)\n",
            "100%|██████████| 2/2 [00:00<00:00,  3.80it/s]\n"
          ]
        },
        {
          "name": "stdout",
          "output_type": "stream",
          "text": [
            "\n",
            "epoch 0\n",
            "\ttrain_loss:1.087 valid_loss:1.074\n",
            "\ttrain_acc:41.67% valid_acc:50.79%\n",
            "\ttrain_f1:0.377 valid_f1:0.508\n",
            "\ttrain_confusion_matrix:\n",
            "[[1997  131  311]\n",
            " [1617  529  278]\n",
            " [1809  110  514]]\n",
            "\tvalid_confusion_matrix:\n",
            "[[324 122 155]\n",
            " [180 343  94]\n",
            " [227 121 261]]\n"
          ]
        },
        {
          "name": "stderr",
          "output_type": "stream",
          "text": [
            "  0%|          | 0/57 [00:00<?, ?it/s]/var/folders/3c/71b8pg6d7j5dht_5h_2n4n_c0000gn/T/ipykernel_8755/1114866685.py:147: UserWarning: Implicit dimension choice for log_softmax has been deprecated. Change the call to include dim=X as an argument.\n",
            "  out = torch.nn.functional.log_softmax(out)\n",
            "100%|██████████| 57/57 [00:13<00:00,  4.18it/s]\n",
            "  0%|          | 0/2 [00:00<?, ?it/s]/var/folders/3c/71b8pg6d7j5dht_5h_2n4n_c0000gn/T/ipykernel_8755/1114866685.py:147: UserWarning: Implicit dimension choice for log_softmax has been deprecated. Change the call to include dim=X as an argument.\n",
            "  out = torch.nn.functional.log_softmax(out)\n",
            "100%|██████████| 2/2 [00:00<00:00,  4.23it/s]\n"
          ]
        },
        {
          "name": "stdout",
          "output_type": "stream",
          "text": [
            "\n",
            "epoch 1\n",
            "\ttrain_loss:1.044 valid_loss:0.991\n",
            "\ttrain_acc:54.47% valid_acc:53.59%\n",
            "\ttrain_f1:0.540 valid_f1:0.500\n",
            "\ttrain_confusion_matrix:\n",
            "[[ 979  561  901]\n",
            " [ 414 1517  493]\n",
            " [ 492  461 1478]]\n",
            "\tvalid_confusion_matrix:\n",
            "[[114 201 286]\n",
            " [ 41 457 119]\n",
            " [ 40 161 408]]\n"
          ]
        },
        {
          "name": "stderr",
          "output_type": "stream",
          "text": [
            "  0%|          | 0/57 [00:00<?, ?it/s]/var/folders/3c/71b8pg6d7j5dht_5h_2n4n_c0000gn/T/ipykernel_8755/1114866685.py:147: UserWarning: Implicit dimension choice for log_softmax has been deprecated. Change the call to include dim=X as an argument.\n",
            "  out = torch.nn.functional.log_softmax(out)\n",
            "100%|██████████| 57/57 [00:13<00:00,  4.31it/s]\n",
            "  0%|          | 0/2 [00:00<?, ?it/s]/var/folders/3c/71b8pg6d7j5dht_5h_2n4n_c0000gn/T/ipykernel_8755/1114866685.py:147: UserWarning: Implicit dimension choice for log_softmax has been deprecated. Change the call to include dim=X as an argument.\n",
            "  out = torch.nn.functional.log_softmax(out)\n",
            "100%|██████████| 2/2 [00:00<00:00,  4.20it/s]\n"
          ]
        },
        {
          "name": "stdout",
          "output_type": "stream",
          "text": [
            "\n",
            "epoch 2\n",
            "\ttrain_loss:0.929 valid_loss:0.899\n",
            "\ttrain_acc:56.81% valid_acc:59.44%\n",
            "\ttrain_f1:0.545 valid_f1:0.581\n",
            "\ttrain_confusion_matrix:\n",
            "[[ 661  700 1079]\n",
            " [ 211 1823  391]\n",
            " [ 254  516 1661]]\n",
            "\tvalid_confusion_matrix:\n",
            "[[215 162 224]\n",
            " [ 76 468  73]\n",
            " [ 88 118 403]]\n"
          ]
        },
        {
          "name": "stderr",
          "output_type": "stream",
          "text": [
            "  0%|          | 0/57 [00:00<?, ?it/s]/var/folders/3c/71b8pg6d7j5dht_5h_2n4n_c0000gn/T/ipykernel_8755/1114866685.py:147: UserWarning: Implicit dimension choice for log_softmax has been deprecated. Change the call to include dim=X as an argument.\n",
            "  out = torch.nn.functional.log_softmax(out)\n",
            "100%|██████████| 57/57 [00:13<00:00,  4.25it/s]\n",
            "  0%|          | 0/2 [00:00<?, ?it/s]/var/folders/3c/71b8pg6d7j5dht_5h_2n4n_c0000gn/T/ipykernel_8755/1114866685.py:147: UserWarning: Implicit dimension choice for log_softmax has been deprecated. Change the call to include dim=X as an argument.\n",
            "  out = torch.nn.functional.log_softmax(out)\n",
            "100%|██████████| 2/2 [00:00<00:00,  4.07it/s]\n"
          ]
        },
        {
          "name": "stdout",
          "output_type": "stream",
          "text": [
            "\n",
            "epoch 3\n",
            "\ttrain_loss:0.858 valid_loss:0.854\n",
            "\ttrain_acc:61.76% valid_acc:61.80%\n",
            "\ttrain_f1:0.610 valid_f1:0.607\n",
            "\ttrain_confusion_matrix:\n",
            "[[1026  539  873]\n",
            " [ 355 1802  268]\n",
            " [ 451  304 1678]]\n",
            "\tvalid_confusion_matrix:\n",
            "[[233 154 214]\n",
            " [ 73 472  72]\n",
            " [103  82 424]]\n"
          ]
        },
        {
          "name": "stderr",
          "output_type": "stream",
          "text": [
            "  0%|          | 0/57 [00:00<?, ?it/s]/var/folders/3c/71b8pg6d7j5dht_5h_2n4n_c0000gn/T/ipykernel_8755/1114866685.py:147: UserWarning: Implicit dimension choice for log_softmax has been deprecated. Change the call to include dim=X as an argument.\n",
            "  out = torch.nn.functional.log_softmax(out)\n",
            "100%|██████████| 57/57 [00:13<00:00,  4.25it/s]\n",
            "  0%|          | 0/2 [00:00<?, ?it/s]/var/folders/3c/71b8pg6d7j5dht_5h_2n4n_c0000gn/T/ipykernel_8755/1114866685.py:147: UserWarning: Implicit dimension choice for log_softmax has been deprecated. Change the call to include dim=X as an argument.\n",
            "  out = torch.nn.functional.log_softmax(out)\n",
            "100%|██████████| 2/2 [00:00<00:00,  4.22it/s]\n"
          ]
        },
        {
          "name": "stdout",
          "output_type": "stream",
          "text": [
            "\n",
            "epoch 4\n",
            "\ttrain_loss:0.813 valid_loss:0.822\n",
            "\ttrain_acc:64.21% valid_acc:62.84%\n",
            "\ttrain_f1:0.637 valid_f1:0.623\n",
            "\ttrain_confusion_matrix:\n",
            "[[1173  509  760]\n",
            " [ 342 1835  245]\n",
            " [ 479  276 1677]]\n",
            "\tvalid_confusion_matrix:\n",
            "[[281 154 166]\n",
            " [ 87 477  53]\n",
            " [145  74 390]]\n"
          ]
        },
        {
          "name": "stderr",
          "output_type": "stream",
          "text": [
            "  0%|          | 0/57 [00:00<?, ?it/s]/var/folders/3c/71b8pg6d7j5dht_5h_2n4n_c0000gn/T/ipykernel_8755/1114866685.py:147: UserWarning: Implicit dimension choice for log_softmax has been deprecated. Change the call to include dim=X as an argument.\n",
            "  out = torch.nn.functional.log_softmax(out)\n",
            "100%|██████████| 57/57 [00:13<00:00,  4.32it/s]\n",
            "  0%|          | 0/2 [00:00<?, ?it/s]/var/folders/3c/71b8pg6d7j5dht_5h_2n4n_c0000gn/T/ipykernel_8755/1114866685.py:147: UserWarning: Implicit dimension choice for log_softmax has been deprecated. Change the call to include dim=X as an argument.\n",
            "  out = torch.nn.functional.log_softmax(out)\n",
            "100%|██████████| 2/2 [00:00<00:00,  4.24it/s]\n"
          ]
        },
        {
          "name": "stdout",
          "output_type": "stream",
          "text": [
            "\n",
            "epoch 5\n",
            "\ttrain_loss:0.780 valid_loss:0.806\n",
            "\ttrain_acc:65.57% valid_acc:63.88%\n",
            "\ttrain_f1:0.654 valid_f1:0.636\n",
            "\ttrain_confusion_matrix:\n",
            "[[1326  427  689]\n",
            " [ 382 1803  237]\n",
            " [ 561  216 1655]]\n",
            "\tvalid_confusion_matrix:\n",
            "[[295 125 181]\n",
            " [100 455  62]\n",
            " [131  61 417]]\n"
          ]
        },
        {
          "name": "stderr",
          "output_type": "stream",
          "text": [
            "  0%|          | 0/57 [00:00<?, ?it/s]/var/folders/3c/71b8pg6d7j5dht_5h_2n4n_c0000gn/T/ipykernel_8755/1114866685.py:147: UserWarning: Implicit dimension choice for log_softmax has been deprecated. Change the call to include dim=X as an argument.\n",
            "  out = torch.nn.functional.log_softmax(out)\n",
            "100%|██████████| 57/57 [00:13<00:00,  4.36it/s]\n",
            "  0%|          | 0/2 [00:00<?, ?it/s]/var/folders/3c/71b8pg6d7j5dht_5h_2n4n_c0000gn/T/ipykernel_8755/1114866685.py:147: UserWarning: Implicit dimension choice for log_softmax has been deprecated. Change the call to include dim=X as an argument.\n",
            "  out = torch.nn.functional.log_softmax(out)\n",
            "100%|██████████| 2/2 [00:00<00:00,  4.26it/s]\n"
          ]
        },
        {
          "name": "stdout",
          "output_type": "stream",
          "text": [
            "\n",
            "epoch 6\n",
            "\ttrain_loss:0.754 valid_loss:0.781\n",
            "\ttrain_acc:67.58% valid_acc:65.19%\n",
            "\ttrain_f1:0.675 valid_f1:0.649\n",
            "\ttrain_confusion_matrix:\n",
            "[[1403  394  642]\n",
            " [ 375 1824  227]\n",
            " [ 521  206 1704]]\n",
            "\tvalid_confusion_matrix:\n",
            "[[308 123 170]\n",
            " [ 93 468  56]\n",
            " [133  61 415]]\n"
          ]
        },
        {
          "name": "stderr",
          "output_type": "stream",
          "text": [
            "  0%|          | 0/57 [00:00<?, ?it/s]/var/folders/3c/71b8pg6d7j5dht_5h_2n4n_c0000gn/T/ipykernel_8755/1114866685.py:147: UserWarning: Implicit dimension choice for log_softmax has been deprecated. Change the call to include dim=X as an argument.\n",
            "  out = torch.nn.functional.log_softmax(out)\n",
            "100%|██████████| 57/57 [00:13<00:00,  4.33it/s]\n",
            "  0%|          | 0/2 [00:00<?, ?it/s]/var/folders/3c/71b8pg6d7j5dht_5h_2n4n_c0000gn/T/ipykernel_8755/1114866685.py:147: UserWarning: Implicit dimension choice for log_softmax has been deprecated. Change the call to include dim=X as an argument.\n",
            "  out = torch.nn.functional.log_softmax(out)\n",
            "100%|██████████| 2/2 [00:00<00:00,  4.23it/s]\n"
          ]
        },
        {
          "name": "stdout",
          "output_type": "stream",
          "text": [
            "\n",
            "epoch 7\n",
            "\ttrain_loss:0.733 valid_loss:0.770\n",
            "\ttrain_acc:68.52% valid_acc:66.56%\n",
            "\ttrain_f1:0.684 valid_f1:0.660\n",
            "\ttrain_confusion_matrix:\n",
            "[[1405  395  637]\n",
            " [ 361 1843  221]\n",
            " [ 472  211 1751]]\n",
            "\tvalid_confusion_matrix:\n",
            "[[291 114 196]\n",
            " [ 74 468  75]\n",
            " [ 94  58 457]]\n"
          ]
        },
        {
          "name": "stderr",
          "output_type": "stream",
          "text": [
            "  0%|          | 0/57 [00:00<?, ?it/s]/var/folders/3c/71b8pg6d7j5dht_5h_2n4n_c0000gn/T/ipykernel_8755/1114866685.py:147: UserWarning: Implicit dimension choice for log_softmax has been deprecated. Change the call to include dim=X as an argument.\n",
            "  out = torch.nn.functional.log_softmax(out)\n",
            "100%|██████████| 57/57 [00:13<00:00,  4.31it/s]\n",
            "  0%|          | 0/2 [00:00<?, ?it/s]/var/folders/3c/71b8pg6d7j5dht_5h_2n4n_c0000gn/T/ipykernel_8755/1114866685.py:147: UserWarning: Implicit dimension choice for log_softmax has been deprecated. Change the call to include dim=X as an argument.\n",
            "  out = torch.nn.functional.log_softmax(out)\n",
            "100%|██████████| 2/2 [00:00<00:00,  4.17it/s]\n"
          ]
        },
        {
          "name": "stdout",
          "output_type": "stream",
          "text": [
            "\n",
            "epoch 8\n",
            "\ttrain_loss:0.719 valid_loss:0.757\n",
            "\ttrain_acc:69.20% valid_acc:66.56%\n",
            "\ttrain_f1:0.691 valid_f1:0.661\n",
            "\ttrain_confusion_matrix:\n",
            "[[1417  388  637]\n",
            " [ 359 1845  222]\n",
            " [ 462  179 1787]]\n",
            "\tvalid_confusion_matrix:\n",
            "[[307 123 171]\n",
            " [ 78 474  65]\n",
            " [114  60 435]]\n"
          ]
        },
        {
          "name": "stderr",
          "output_type": "stream",
          "text": [
            "  0%|          | 0/57 [00:00<?, ?it/s]/var/folders/3c/71b8pg6d7j5dht_5h_2n4n_c0000gn/T/ipykernel_8755/1114866685.py:147: UserWarning: Implicit dimension choice for log_softmax has been deprecated. Change the call to include dim=X as an argument.\n",
            "  out = torch.nn.functional.log_softmax(out)\n",
            "100%|██████████| 57/57 [00:13<00:00,  4.27it/s]\n",
            "  0%|          | 0/2 [00:00<?, ?it/s]/var/folders/3c/71b8pg6d7j5dht_5h_2n4n_c0000gn/T/ipykernel_8755/1114866685.py:147: UserWarning: Implicit dimension choice for log_softmax has been deprecated. Change the call to include dim=X as an argument.\n",
            "  out = torch.nn.functional.log_softmax(out)\n",
            "100%|██████████| 2/2 [00:00<00:00,  4.21it/s]\n"
          ]
        },
        {
          "name": "stdout",
          "output_type": "stream",
          "text": [
            "\n",
            "epoch 9\n",
            "\ttrain_loss:0.698 valid_loss:0.741\n",
            "\ttrain_acc:70.60% valid_acc:68.47%\n",
            "\ttrain_f1:0.705 valid_f1:0.683\n",
            "\ttrain_confusion_matrix:\n",
            "[[1483  349  605]\n",
            " [ 352 1833  241]\n",
            " [ 427  171 1835]]\n",
            "\tvalid_confusion_matrix:\n",
            "[[341 109 151]\n",
            " [ 85 480  52]\n",
            " [123  56 430]]\n"
          ]
        },
        {
          "name": "stderr",
          "output_type": "stream",
          "text": [
            "  0%|          | 0/57 [00:00<?, ?it/s]/var/folders/3c/71b8pg6d7j5dht_5h_2n4n_c0000gn/T/ipykernel_8755/1114866685.py:147: UserWarning: Implicit dimension choice for log_softmax has been deprecated. Change the call to include dim=X as an argument.\n",
            "  out = torch.nn.functional.log_softmax(out)\n",
            "100%|██████████| 57/57 [00:13<00:00,  4.27it/s]\n",
            "  0%|          | 0/2 [00:00<?, ?it/s]/var/folders/3c/71b8pg6d7j5dht_5h_2n4n_c0000gn/T/ipykernel_8755/1114866685.py:147: UserWarning: Implicit dimension choice for log_softmax has been deprecated. Change the call to include dim=X as an argument.\n",
            "  out = torch.nn.functional.log_softmax(out)\n",
            "100%|██████████| 2/2 [00:00<00:00,  4.23it/s]\n"
          ]
        },
        {
          "name": "stdout",
          "output_type": "stream",
          "text": [
            "\n",
            "epoch 10\n",
            "\ttrain_loss:0.676 valid_loss:0.735\n",
            "\ttrain_acc:71.60% valid_acc:68.69%\n",
            "\ttrain_f1:0.715 valid_f1:0.686\n",
            "\ttrain_confusion_matrix:\n",
            "[[1535  364  539]\n",
            " [ 337 1872  216]\n",
            " [ 435  181 1817]]\n",
            "\tvalid_confusion_matrix:\n",
            "[[346  91 164]\n",
            " [ 89 457  71]\n",
            " [107  50 452]]\n"
          ]
        },
        {
          "name": "stderr",
          "output_type": "stream",
          "text": [
            "  0%|          | 0/57 [00:00<?, ?it/s]/var/folders/3c/71b8pg6d7j5dht_5h_2n4n_c0000gn/T/ipykernel_8755/1114866685.py:147: UserWarning: Implicit dimension choice for log_softmax has been deprecated. Change the call to include dim=X as an argument.\n",
            "  out = torch.nn.functional.log_softmax(out)\n",
            "100%|██████████| 57/57 [00:13<00:00,  4.26it/s]\n",
            "  0%|          | 0/2 [00:00<?, ?it/s]/var/folders/3c/71b8pg6d7j5dht_5h_2n4n_c0000gn/T/ipykernel_8755/1114866685.py:147: UserWarning: Implicit dimension choice for log_softmax has been deprecated. Change the call to include dim=X as an argument.\n",
            "  out = torch.nn.functional.log_softmax(out)\n",
            "100%|██████████| 2/2 [00:00<00:00,  4.20it/s]\n"
          ]
        },
        {
          "name": "stdout",
          "output_type": "stream",
          "text": [
            "\n",
            "epoch 11\n",
            "\ttrain_loss:0.661 valid_loss:0.722\n",
            "\ttrain_acc:72.70% valid_acc:68.86%\n",
            "\ttrain_f1:0.727 valid_f1:0.686\n",
            "\ttrain_confusion_matrix:\n",
            "[[1589  328  522]\n",
            " [ 353 1862  211]\n",
            " [ 416  162 1853]]\n",
            "\tvalid_confusion_matrix:\n",
            "[[342 105 154]\n",
            " [ 79 473  65]\n",
            " [109  57 443]]\n"
          ]
        },
        {
          "name": "stderr",
          "output_type": "stream",
          "text": [
            "  0%|          | 0/57 [00:00<?, ?it/s]/var/folders/3c/71b8pg6d7j5dht_5h_2n4n_c0000gn/T/ipykernel_8755/1114866685.py:147: UserWarning: Implicit dimension choice for log_softmax has been deprecated. Change the call to include dim=X as an argument.\n",
            "  out = torch.nn.functional.log_softmax(out)\n",
            "100%|██████████| 57/57 [00:13<00:00,  4.30it/s]\n",
            "  0%|          | 0/2 [00:00<?, ?it/s]/var/folders/3c/71b8pg6d7j5dht_5h_2n4n_c0000gn/T/ipykernel_8755/1114866685.py:147: UserWarning: Implicit dimension choice for log_softmax has been deprecated. Change the call to include dim=X as an argument.\n",
            "  out = torch.nn.functional.log_softmax(out)\n",
            "100%|██████████| 2/2 [00:00<00:00,  4.26it/s]\n"
          ]
        },
        {
          "name": "stdout",
          "output_type": "stream",
          "text": [
            "\n",
            "epoch 12\n",
            "\ttrain_loss:0.659 valid_loss:0.713\n",
            "\ttrain_acc:72.56% valid_acc:69.62%\n",
            "\ttrain_f1:0.725 valid_f1:0.695\n",
            "\ttrain_confusion_matrix:\n",
            "[[1601  340  497]\n",
            " [ 356 1870  200]\n",
            " [ 432  177 1823]]\n",
            "\tvalid_confusion_matrix:\n",
            "[[354  85 162]\n",
            " [ 87 469  61]\n",
            " [106  54 449]]\n"
          ]
        },
        {
          "name": "stderr",
          "output_type": "stream",
          "text": [
            "  0%|          | 0/57 [00:00<?, ?it/s]/var/folders/3c/71b8pg6d7j5dht_5h_2n4n_c0000gn/T/ipykernel_8755/1114866685.py:147: UserWarning: Implicit dimension choice for log_softmax has been deprecated. Change the call to include dim=X as an argument.\n",
            "  out = torch.nn.functional.log_softmax(out)\n",
            "100%|██████████| 57/57 [00:13<00:00,  4.26it/s]\n",
            "  0%|          | 0/2 [00:00<?, ?it/s]/var/folders/3c/71b8pg6d7j5dht_5h_2n4n_c0000gn/T/ipykernel_8755/1114866685.py:147: UserWarning: Implicit dimension choice for log_softmax has been deprecated. Change the call to include dim=X as an argument.\n",
            "  out = torch.nn.functional.log_softmax(out)\n",
            "100%|██████████| 2/2 [00:00<00:00,  4.15it/s]\n"
          ]
        },
        {
          "name": "stdout",
          "output_type": "stream",
          "text": [
            "\n",
            "epoch 13\n",
            "\ttrain_loss:0.654 valid_loss:0.741\n",
            "\ttrain_acc:73.37% valid_acc:68.09%\n",
            "\ttrain_f1:0.734 valid_f1:0.680\n",
            "\ttrain_confusion_matrix:\n",
            "[[1677  307  455]\n",
            " [ 385 1842  197]\n",
            " [ 467  132 1834]]\n",
            "\tvalid_confusion_matrix:\n",
            "[[344  82 175]\n",
            " [110 442  65]\n",
            " [107  44 458]]\n"
          ]
        },
        {
          "name": "stderr",
          "output_type": "stream",
          "text": [
            "  0%|          | 0/57 [00:00<?, ?it/s]/var/folders/3c/71b8pg6d7j5dht_5h_2n4n_c0000gn/T/ipykernel_8755/1114866685.py:147: UserWarning: Implicit dimension choice for log_softmax has been deprecated. Change the call to include dim=X as an argument.\n",
            "  out = torch.nn.functional.log_softmax(out)\n",
            "100%|██████████| 57/57 [00:13<00:00,  4.32it/s]\n",
            "  0%|          | 0/2 [00:00<?, ?it/s]/var/folders/3c/71b8pg6d7j5dht_5h_2n4n_c0000gn/T/ipykernel_8755/1114866685.py:147: UserWarning: Implicit dimension choice for log_softmax has been deprecated. Change the call to include dim=X as an argument.\n",
            "  out = torch.nn.functional.log_softmax(out)\n",
            "100%|██████████| 2/2 [00:00<00:00,  4.23it/s]\n"
          ]
        },
        {
          "name": "stdout",
          "output_type": "stream",
          "text": [
            "\n",
            "epoch 14\n",
            "\ttrain_loss:0.663 valid_loss:0.726\n",
            "\ttrain_acc:72.55% valid_acc:68.86%\n",
            "\ttrain_f1:0.726 valid_f1:0.681\n",
            "\ttrain_confusion_matrix:\n",
            "[[1606  295  540]\n",
            " [ 376 1833  213]\n",
            " [ 439  140 1854]]\n",
            "\tvalid_confusion_matrix:\n",
            "[[297 128 176]\n",
            " [ 57 496  64]\n",
            " [ 84  60 465]]\n"
          ]
        },
        {
          "name": "stderr",
          "output_type": "stream",
          "text": [
            "  0%|          | 0/57 [00:00<?, ?it/s]/var/folders/3c/71b8pg6d7j5dht_5h_2n4n_c0000gn/T/ipykernel_8755/1114866685.py:147: UserWarning: Implicit dimension choice for log_softmax has been deprecated. Change the call to include dim=X as an argument.\n",
            "  out = torch.nn.functional.log_softmax(out)\n",
            "100%|██████████| 57/57 [00:13<00:00,  4.26it/s]\n",
            "  0%|          | 0/2 [00:00<?, ?it/s]/var/folders/3c/71b8pg6d7j5dht_5h_2n4n_c0000gn/T/ipykernel_8755/1114866685.py:147: UserWarning: Implicit dimension choice for log_softmax has been deprecated. Change the call to include dim=X as an argument.\n",
            "  out = torch.nn.functional.log_softmax(out)\n",
            "100%|██████████| 2/2 [00:00<00:00,  4.01it/s]\n"
          ]
        },
        {
          "name": "stdout",
          "output_type": "stream",
          "text": [
            "\n",
            "epoch 15\n",
            "\ttrain_loss:0.629 valid_loss:0.695\n",
            "\ttrain_acc:74.29% valid_acc:70.11%\n",
            "\ttrain_f1:0.742 valid_f1:0.701\n",
            "\ttrain_confusion_matrix:\n",
            "[[1620  316  500]\n",
            " [ 329 1901  197]\n",
            " [ 369  165 1899]]\n",
            "\tvalid_confusion_matrix:\n",
            "[[369  84 148]\n",
            " [ 91 461  65]\n",
            " [106  52 451]]\n"
          ]
        },
        {
          "name": "stderr",
          "output_type": "stream",
          "text": [
            "  0%|          | 0/57 [00:00<?, ?it/s]/var/folders/3c/71b8pg6d7j5dht_5h_2n4n_c0000gn/T/ipykernel_8755/1114866685.py:147: UserWarning: Implicit dimension choice for log_softmax has been deprecated. Change the call to include dim=X as an argument.\n",
            "  out = torch.nn.functional.log_softmax(out)\n",
            "100%|██████████| 57/57 [00:13<00:00,  4.34it/s]\n",
            "  0%|          | 0/2 [00:00<?, ?it/s]/var/folders/3c/71b8pg6d7j5dht_5h_2n4n_c0000gn/T/ipykernel_8755/1114866685.py:147: UserWarning: Implicit dimension choice for log_softmax has been deprecated. Change the call to include dim=X as an argument.\n",
            "  out = torch.nn.functional.log_softmax(out)\n",
            "100%|██████████| 2/2 [00:00<00:00,  4.25it/s]\n"
          ]
        },
        {
          "name": "stdout",
          "output_type": "stream",
          "text": [
            "\n",
            "epoch 16\n",
            "\ttrain_loss:0.618 valid_loss:0.703\n",
            "\ttrain_acc:74.99% valid_acc:69.18%\n",
            "\ttrain_f1:0.750 valid_f1:0.693\n",
            "\ttrain_confusion_matrix:\n",
            "[[1676  265  501]\n",
            " [ 340 1863  219]\n",
            " [ 371  129 1932]]\n",
            "\tvalid_confusion_matrix:\n",
            "[[398  94 109]\n",
            " [ 99 461  57]\n",
            " [149  55 405]]\n"
          ]
        },
        {
          "name": "stderr",
          "output_type": "stream",
          "text": [
            "  0%|          | 0/57 [00:00<?, ?it/s]/var/folders/3c/71b8pg6d7j5dht_5h_2n4n_c0000gn/T/ipykernel_8755/1114866685.py:147: UserWarning: Implicit dimension choice for log_softmax has been deprecated. Change the call to include dim=X as an argument.\n",
            "  out = torch.nn.functional.log_softmax(out)\n",
            "100%|██████████| 57/57 [00:13<00:00,  4.31it/s]\n",
            "  0%|          | 0/2 [00:00<?, ?it/s]/var/folders/3c/71b8pg6d7j5dht_5h_2n4n_c0000gn/T/ipykernel_8755/1114866685.py:147: UserWarning: Implicit dimension choice for log_softmax has been deprecated. Change the call to include dim=X as an argument.\n",
            "  out = torch.nn.functional.log_softmax(out)\n",
            "100%|██████████| 2/2 [00:00<00:00,  4.21it/s]\n"
          ]
        },
        {
          "name": "stdout",
          "output_type": "stream",
          "text": [
            "\n",
            "epoch 17\n",
            "\ttrain_loss:0.599 valid_loss:0.688\n",
            "\ttrain_acc:76.34% valid_acc:69.62%\n",
            "\ttrain_f1:0.763 valid_f1:0.695\n",
            "\ttrain_confusion_matrix:\n",
            "[[1714  272  452]\n",
            " [ 314 1924  188]\n",
            " [ 363  137 1932]]\n",
            "\tvalid_confusion_matrix:\n",
            "[[354  99 148]\n",
            " [ 77 465  75]\n",
            " [107  49 453]]\n"
          ]
        },
        {
          "name": "stderr",
          "output_type": "stream",
          "text": [
            "  0%|          | 0/57 [00:00<?, ?it/s]/var/folders/3c/71b8pg6d7j5dht_5h_2n4n_c0000gn/T/ipykernel_8755/1114866685.py:147: UserWarning: Implicit dimension choice for log_softmax has been deprecated. Change the call to include dim=X as an argument.\n",
            "  out = torch.nn.functional.log_softmax(out)\n",
            "100%|██████████| 57/57 [00:13<00:00,  4.25it/s]\n",
            "  0%|          | 0/2 [00:00<?, ?it/s]/var/folders/3c/71b8pg6d7j5dht_5h_2n4n_c0000gn/T/ipykernel_8755/1114866685.py:147: UserWarning: Implicit dimension choice for log_softmax has been deprecated. Change the call to include dim=X as an argument.\n",
            "  out = torch.nn.functional.log_softmax(out)\n",
            "100%|██████████| 2/2 [00:00<00:00,  3.84it/s]\n"
          ]
        },
        {
          "name": "stdout",
          "output_type": "stream",
          "text": [
            "\n",
            "epoch 18\n",
            "\ttrain_loss:0.588 valid_loss:0.689\n",
            "\ttrain_acc:76.77% valid_acc:71.10%\n",
            "\ttrain_f1:0.768 valid_f1:0.710\n",
            "\ttrain_confusion_matrix:\n",
            "[[1722  275  442]\n",
            " [ 305 1928  192]\n",
            " [ 340  141 1951]]\n",
            "\tvalid_confusion_matrix:\n",
            "[[364  71 166]\n",
            " [ 78 452  87]\n",
            " [ 83  43 483]]\n"
          ]
        },
        {
          "name": "stderr",
          "output_type": "stream",
          "text": [
            "  0%|          | 0/57 [00:00<?, ?it/s]/var/folders/3c/71b8pg6d7j5dht_5h_2n4n_c0000gn/T/ipykernel_8755/1114866685.py:147: UserWarning: Implicit dimension choice for log_softmax has been deprecated. Change the call to include dim=X as an argument.\n",
            "  out = torch.nn.functional.log_softmax(out)\n",
            "100%|██████████| 57/57 [00:12<00:00,  4.41it/s]\n",
            "  0%|          | 0/2 [00:00<?, ?it/s]/var/folders/3c/71b8pg6d7j5dht_5h_2n4n_c0000gn/T/ipykernel_8755/1114866685.py:147: UserWarning: Implicit dimension choice for log_softmax has been deprecated. Change the call to include dim=X as an argument.\n",
            "  out = torch.nn.functional.log_softmax(out)\n",
            "100%|██████████| 2/2 [00:00<00:00,  4.28it/s]\n"
          ]
        },
        {
          "name": "stdout",
          "output_type": "stream",
          "text": [
            "\n",
            "epoch 19\n",
            "\ttrain_loss:0.569 valid_loss:0.670\n",
            "\ttrain_acc:77.66% valid_acc:71.54%\n",
            "\ttrain_f1:0.777 valid_f1:0.715\n",
            "\ttrain_confusion_matrix:\n",
            "[[1766  253  420]\n",
            " [ 325 1914  183]\n",
            " [ 331  118 1986]]\n",
            "\tvalid_confusion_matrix:\n",
            "[[398  84 119]\n",
            " [ 89 474  54]\n",
            " [116  58 435]]\n",
            "Loading saved model from: model_task2.bin\n"
          ]
        },
        {
          "name": "stderr",
          "output_type": "stream",
          "text": [
            "  0%|          | 0/2 [00:00<?, ?it/s]/var/folders/3c/71b8pg6d7j5dht_5h_2n4n_c0000gn/T/ipykernel_8755/1114866685.py:147: UserWarning: Implicit dimension choice for log_softmax has been deprecated. Change the call to include dim=X as an argument.\n",
            "  out = torch.nn.functional.log_softmax(out)\n",
            "100%|██████████| 2/2 [00:00<00:00,  4.34it/s]"
          ]
        },
        {
          "name": "stdout",
          "output_type": "stream",
          "text": [
            "              precision    recall  f1-score   support\n",
            "\n",
            "     Neutral       0.66      0.67      0.67       601\n",
            "    Positive       0.77      0.77      0.77       617\n",
            "    Negative       0.72      0.72      0.72       609\n",
            "\n",
            "    accuracy                           0.72      1827\n",
            "   macro avg       0.72      0.72      0.72      1827\n",
            "weighted avg       0.72      0.72      0.72      1827\n",
            "\n"
          ]
        },
        {
          "name": "stderr",
          "output_type": "stream",
          "text": [
            "\n"
          ]
        }
      ],
      "source": [
        "import random\n",
        "lst = [0, 0.2, 0.4]\n",
        "#[0.6, 0.8, 1]\n",
        "\n",
        "for alpha_val in lst:\n",
        "    choice = [2, 4, 8]\n",
        "    upsampling = True\n",
        "\n",
        "    for window in choice:\n",
        "\n",
        "        print()\n",
        "        print(\"*\"*90)\n",
        "        print(\"Alpha Size: {}\".format(alpha_val))\n",
        "        print(\"Window Size: {}\".format(window))\n",
        "        print(\"*\"*90)\n",
        "        print()\n",
        "\n",
        "        all_aspect_clusters = []\n",
        "        for i in range(len(sentences)):\n",
        "            all_aspect_clusters.extend(chop(sentences[i], aspect_tags[i], polarity_tags[i], \n",
        "                                            window_size=window))\n",
        "        if upsampling:\n",
        "            all_aspect_clusters = upsample_polarity(all_aspect_clusters)\n",
        "\n",
        "        local_context, global_context, y = create_train_data_restaurant(all_aspect_clusters ,word_indx, sent_len=85)\n",
        "\n",
        "        X_l_train, X_l_valid, X_g_train, X_g_valid,  y_train, y_valid = train_test_split(local_context, global_context, y, test_size=VALID_SIZE)\n",
        "\n",
        "        device = get_default_device()\n",
        "\n",
        "        NUM_EPOCHS = 20\n",
        "        TRAIN_BATCH_SIZE = 128\n",
        "        VALID_BATCH_SIZE = 1024\n",
        "\n",
        "        NUM_POLARITY_TAGS = 3\n",
        "\n",
        "        history = {\n",
        "            \"train_loss\": list(),\n",
        "            \"polarity_train_acc\": list(),\n",
        "            \"valid_loss\": list(),\n",
        "            \"polarity_valid_acc\": list(),\n",
        "        }\n",
        "\n",
        "        best_loss = np.inf\n",
        "\n",
        "        dataset = TensorDataset(torch.Tensor(X_l_train), torch.Tensor(X_g_train), torch.Tensor(y_train))\n",
        "        print(f\"train samples:{len(dataset)}\")\n",
        "        train_loader = DataLoader(dataset, batch_size=TRAIN_BATCH_SIZE, shuffle=True, drop_last=True)\n",
        "\n",
        "        dataset_valid = TensorDataset(torch.Tensor(X_l_valid),  torch.Tensor(X_g_valid), torch.Tensor(y_valid))\n",
        "        print(f\"valid samples:{len(dataset_valid)}\")\n",
        "        test_loader = DataLoader(dataset_valid, batch_size=VALID_BATCH_SIZE)\n",
        "\n",
        "        model = to_device(Model(general_embedding,  num_classes=3, alpha = alpha_val), device)\n",
        "\n",
        "        torch.cuda.empty_cache()\n",
        "\n",
        "        parameters = [p for p in model.parameters() if p.requires_grad]\n",
        "        optimizer = AdamW(parameters, lr=1e-4)\n",
        "\n",
        "\n",
        "        for epoch in range(NUM_EPOCHS):\n",
        "            train_losses = []\n",
        "            train_acc = []\n",
        "            test_loss = []\n",
        "            test_acc = []\n",
        "            train_f1 = []\n",
        "            test_f1 = []\n",
        "\n",
        "            model.train()\n",
        "            preds = []\n",
        "            masks = []\n",
        "            labels = []\n",
        "            for data in tqdm(train_loader, total=len(train_loader)):\n",
        "                for i in range(len(data)):\n",
        "                    data[i] = data[i].to(device)\n",
        "                l_feature, g_feature, label = data\n",
        "                l_feature, g_feature, label = l_feature.long(), g_feature.long(), label.long()\n",
        "\n",
        "                optimizer.zero_grad()\n",
        "                pred_logits = model(l_feature, g_feature)\n",
        "                loss = loss_fn(pred_logits, label, 3)\n",
        "                loss.backward()\n",
        "                optimizer.step()\n",
        "\n",
        "                train_losses.append(loss.item())\n",
        "\n",
        "                pred_tags = pred_logits.max(-1)[1]\n",
        "                preds.append(pred_tags)\n",
        "                labels.append(label)\n",
        "\n",
        "            avg_train_acc, avg_train_f1, train_cm = cal_acc(preds,labels)\n",
        "            avg_train_loss = sum(train_losses) / len(train_losses)\n",
        "\n",
        "            preds = []\n",
        "            masks = []\n",
        "            labels = []\n",
        "            with torch.no_grad():\n",
        "                for data in tqdm(test_loader, total=len(test_loader)):\n",
        "                    for i in range(len(data)):\n",
        "                        data[i] = data[i].to(device)\n",
        "                    l_feature, g_feature, label = data\n",
        "                    l_feature, g_feature, label = l_feature.long(), g_feature.long(), label.long()\n",
        "                    pred_logits = model(l_feature, g_feature)\n",
        "                    loss = loss_fn(pred_logits, label, 3)\n",
        "\n",
        "                    test_loss.append(loss.item())\n",
        "\n",
        "                    pred_tags = pred_logits.max(-1)[1]\n",
        "\n",
        "                    preds.append(pred_tags)\n",
        "                    labels.append(label)\n",
        "\n",
        "            avg_test_acc, avg_test_f1, test_cm = cal_acc(preds,  labels)\n",
        "            avg_test_loss = sum(test_loss) / len(test_loss)\n",
        "\n",
        "            print(f\"\\nepoch {epoch}\")\n",
        "            print(\"\\ttrain_loss:{:.3f} valid_loss:{:.3f}\".format(avg_train_loss, avg_test_loss))\n",
        "            print(\"\\ttrain_acc:{:.2%} valid_acc:{:.2%}\".format(avg_train_acc, avg_test_acc))\n",
        "            print(\"\\ttrain_f1:{:.3f} valid_f1:{:.3f}\".format(avg_train_f1, avg_test_f1))\n",
        "            print(f\"\\ttrain_confusion_matrix:\\n{train_cm}\")\n",
        "            print(f\"\\tvalid_confusion_matrix:\\n{test_cm}\")\n",
        "\n",
        "            if avg_test_loss < best_loss:\n",
        "                torch.save(model.state_dict(), MODEL_PATH)\n",
        "                best_loss = avg_test_loss    \n",
        "                \n",
        "            history['train_loss'].append(avg_train_loss)\n",
        "            history['polarity_train_acc'].append(avg_train_acc.cpu().numpy())\n",
        "            history['valid_loss'].append(avg_test_loss)\n",
        "            history['polarity_valid_acc'].append(avg_test_acc.cpu().numpy())\n",
        "\n",
        "        get_classification_report(test_loader, model, model_path=MODEL_PATH)\n",
        "                \n",
        "            \n"
      ]
    },
    {
      "cell_type": "code",
      "execution_count": 19,
      "metadata": {},
      "outputs": [
        {
          "name": "stdout",
          "output_type": "stream",
          "text": [
            "\n",
            "******************************************************************************************\n",
            "Alpha Size: 0.6\n",
            "Window Size: 2\n",
            "******************************************************************************************\n",
            "\n",
            "train samples:7305\n",
            "valid samples:1827\n"
          ]
        },
        {
          "name": "stderr",
          "output_type": "stream",
          "text": [
            "  0%|          | 0/57 [00:00<?, ?it/s]/var/folders/3c/71b8pg6d7j5dht_5h_2n4n_c0000gn/T/ipykernel_8755/1114866685.py:147: UserWarning: Implicit dimension choice for log_softmax has been deprecated. Change the call to include dim=X as an argument.\n",
            "  out = torch.nn.functional.log_softmax(out)\n",
            "100%|██████████| 57/57 [00:10<00:00,  5.28it/s]\n",
            "  0%|          | 0/2 [00:00<?, ?it/s]/var/folders/3c/71b8pg6d7j5dht_5h_2n4n_c0000gn/T/ipykernel_8755/1114866685.py:147: UserWarning: Implicit dimension choice for log_softmax has been deprecated. Change the call to include dim=X as an argument.\n",
            "  out = torch.nn.functional.log_softmax(out)\n",
            "100%|██████████| 2/2 [00:00<00:00,  4.21it/s]\n"
          ]
        },
        {
          "name": "stdout",
          "output_type": "stream",
          "text": [
            "\n",
            "epoch 0\n",
            "\ttrain_loss:1.086 valid_loss:1.071\n",
            "\ttrain_acc:47.52% valid_acc:54.19%\n",
            "\ttrain_f1:0.456 valid_f1:0.535\n",
            "\ttrain_confusion_matrix:\n",
            "[[ 563  707 1154]\n",
            " [ 295 1313  833]\n",
            " [ 264  576 1591]]\n",
            "\tvalid_confusion_matrix:\n",
            "[[234 168 215]\n",
            " [ 96 377 126]\n",
            " [107 125 379]]\n"
          ]
        },
        {
          "name": "stderr",
          "output_type": "stream",
          "text": [
            "  0%|          | 0/57 [00:00<?, ?it/s]/var/folders/3c/71b8pg6d7j5dht_5h_2n4n_c0000gn/T/ipykernel_8755/1114866685.py:147: UserWarning: Implicit dimension choice for log_softmax has been deprecated. Change the call to include dim=X as an argument.\n",
            "  out = torch.nn.functional.log_softmax(out)\n",
            "100%|██████████| 57/57 [00:10<00:00,  5.52it/s]\n",
            "  0%|          | 0/2 [00:00<?, ?it/s]/var/folders/3c/71b8pg6d7j5dht_5h_2n4n_c0000gn/T/ipykernel_8755/1114866685.py:147: UserWarning: Implicit dimension choice for log_softmax has been deprecated. Change the call to include dim=X as an argument.\n",
            "  out = torch.nn.functional.log_softmax(out)\n",
            "100%|██████████| 2/2 [00:00<00:00,  4.40it/s]\n"
          ]
        },
        {
          "name": "stdout",
          "output_type": "stream",
          "text": [
            "\n",
            "epoch 1\n",
            "\ttrain_loss:1.044 valid_loss:0.990\n",
            "\ttrain_acc:54.99% valid_acc:55.88%\n",
            "\ttrain_f1:0.546 valid_f1:0.535\n",
            "\ttrain_confusion_matrix:\n",
            "[[1013  592  820]\n",
            " [ 415 1551  476]\n",
            " [ 454  527 1448]]\n",
            "\tvalid_confusion_matrix:\n",
            "[[162 169 286]\n",
            " [ 39 414 146]\n",
            " [ 39 127 445]]\n"
          ]
        },
        {
          "name": "stderr",
          "output_type": "stream",
          "text": [
            "  0%|          | 0/57 [00:00<?, ?it/s]/var/folders/3c/71b8pg6d7j5dht_5h_2n4n_c0000gn/T/ipykernel_8755/1114866685.py:147: UserWarning: Implicit dimension choice for log_softmax has been deprecated. Change the call to include dim=X as an argument.\n",
            "  out = torch.nn.functional.log_softmax(out)\n",
            "100%|██████████| 57/57 [00:10<00:00,  5.61it/s]\n",
            "  0%|          | 0/2 [00:00<?, ?it/s]/var/folders/3c/71b8pg6d7j5dht_5h_2n4n_c0000gn/T/ipykernel_8755/1114866685.py:147: UserWarning: Implicit dimension choice for log_softmax has been deprecated. Change the call to include dim=X as an argument.\n",
            "  out = torch.nn.functional.log_softmax(out)\n",
            "100%|██████████| 2/2 [00:00<00:00,  4.82it/s]\n"
          ]
        },
        {
          "name": "stdout",
          "output_type": "stream",
          "text": [
            "\n",
            "epoch 2\n",
            "\ttrain_loss:0.925 valid_loss:0.887\n",
            "\ttrain_acc:57.74% valid_acc:59.61%\n",
            "\ttrain_f1:0.562 valid_f1:0.591\n",
            "\ttrain_confusion_matrix:\n",
            "[[ 784  571 1069]\n",
            " [ 236 1779  428]\n",
            " [ 257  522 1650]]\n",
            "\tvalid_confusion_matrix:\n",
            "[[289 137 191]\n",
            " [ 90 448  61]\n",
            " [131 128 352]]\n"
          ]
        },
        {
          "name": "stderr",
          "output_type": "stream",
          "text": [
            "  0%|          | 0/57 [00:00<?, ?it/s]/var/folders/3c/71b8pg6d7j5dht_5h_2n4n_c0000gn/T/ipykernel_8755/1114866685.py:147: UserWarning: Implicit dimension choice for log_softmax has been deprecated. Change the call to include dim=X as an argument.\n",
            "  out = torch.nn.functional.log_softmax(out)\n",
            "100%|██████████| 57/57 [00:10<00:00,  5.57it/s]\n",
            "  0%|          | 0/2 [00:00<?, ?it/s]/var/folders/3c/71b8pg6d7j5dht_5h_2n4n_c0000gn/T/ipykernel_8755/1114866685.py:147: UserWarning: Implicit dimension choice for log_softmax has been deprecated. Change the call to include dim=X as an argument.\n",
            "  out = torch.nn.functional.log_softmax(out)\n",
            "100%|██████████| 2/2 [00:00<00:00,  4.75it/s]\n"
          ]
        },
        {
          "name": "stdout",
          "output_type": "stream",
          "text": [
            "\n",
            "epoch 3\n",
            "\ttrain_loss:0.850 valid_loss:0.840\n",
            "\ttrain_acc:61.90% valid_acc:62.45%\n",
            "\ttrain_f1:0.614 valid_f1:0.618\n",
            "\ttrain_confusion_matrix:\n",
            "[[1103  494  827]\n",
            " [ 339 1821  282]\n",
            " [ 475  363 1592]]\n",
            "\tvalid_confusion_matrix:\n",
            "[[281 138 198]\n",
            " [ 71 453  75]\n",
            " [123  81 407]]\n"
          ]
        },
        {
          "name": "stderr",
          "output_type": "stream",
          "text": [
            "  0%|          | 0/57 [00:00<?, ?it/s]/var/folders/3c/71b8pg6d7j5dht_5h_2n4n_c0000gn/T/ipykernel_8755/1114866685.py:147: UserWarning: Implicit dimension choice for log_softmax has been deprecated. Change the call to include dim=X as an argument.\n",
            "  out = torch.nn.functional.log_softmax(out)\n",
            "100%|██████████| 57/57 [00:09<00:00,  5.73it/s]\n",
            "  0%|          | 0/2 [00:00<?, ?it/s]/var/folders/3c/71b8pg6d7j5dht_5h_2n4n_c0000gn/T/ipykernel_8755/1114866685.py:147: UserWarning: Implicit dimension choice for log_softmax has been deprecated. Change the call to include dim=X as an argument.\n",
            "  out = torch.nn.functional.log_softmax(out)\n",
            "100%|██████████| 2/2 [00:00<00:00,  4.82it/s]\n"
          ]
        },
        {
          "name": "stdout",
          "output_type": "stream",
          "text": [
            "\n",
            "epoch 4\n",
            "\ttrain_loss:0.803 valid_loss:0.807\n",
            "\ttrain_acc:63.76% valid_acc:63.71%\n",
            "\ttrain_f1:0.635 valid_f1:0.635\n",
            "\ttrain_confusion_matrix:\n",
            "[[1205  422  797]\n",
            " [ 366 1802  273]\n",
            " [ 500  286 1645]]\n",
            "\tvalid_confusion_matrix:\n",
            "[[331 127 159]\n",
            " [ 86 456  57]\n",
            " [165  69 377]]\n"
          ]
        },
        {
          "name": "stderr",
          "output_type": "stream",
          "text": [
            "  0%|          | 0/57 [00:00<?, ?it/s]/var/folders/3c/71b8pg6d7j5dht_5h_2n4n_c0000gn/T/ipykernel_8755/1114866685.py:147: UserWarning: Implicit dimension choice for log_softmax has been deprecated. Change the call to include dim=X as an argument.\n",
            "  out = torch.nn.functional.log_softmax(out)\n",
            "100%|██████████| 57/57 [00:10<00:00,  5.59it/s]\n",
            "  0%|          | 0/2 [00:00<?, ?it/s]/var/folders/3c/71b8pg6d7j5dht_5h_2n4n_c0000gn/T/ipykernel_8755/1114866685.py:147: UserWarning: Implicit dimension choice for log_softmax has been deprecated. Change the call to include dim=X as an argument.\n",
            "  out = torch.nn.functional.log_softmax(out)\n",
            "100%|██████████| 2/2 [00:00<00:00,  4.25it/s]\n"
          ]
        },
        {
          "name": "stdout",
          "output_type": "stream",
          "text": [
            "\n",
            "epoch 5\n",
            "\ttrain_loss:0.774 valid_loss:0.784\n",
            "\ttrain_acc:65.42% valid_acc:64.64%\n",
            "\ttrain_f1:0.650 valid_f1:0.643\n",
            "\ttrain_confusion_matrix:\n",
            "[[1209  429  784]\n",
            " [ 333 1862  249]\n",
            " [ 461  267 1702]]\n",
            "\tvalid_confusion_matrix:\n",
            "[[315 130 172]\n",
            " [ 85 453  61]\n",
            " [131  67 413]]\n"
          ]
        },
        {
          "name": "stderr",
          "output_type": "stream",
          "text": [
            "  0%|          | 0/57 [00:00<?, ?it/s]/var/folders/3c/71b8pg6d7j5dht_5h_2n4n_c0000gn/T/ipykernel_8755/1114866685.py:147: UserWarning: Implicit dimension choice for log_softmax has been deprecated. Change the call to include dim=X as an argument.\n",
            "  out = torch.nn.functional.log_softmax(out)\n",
            "100%|██████████| 57/57 [00:10<00:00,  5.56it/s]\n",
            "  0%|          | 0/2 [00:00<?, ?it/s]/var/folders/3c/71b8pg6d7j5dht_5h_2n4n_c0000gn/T/ipykernel_8755/1114866685.py:147: UserWarning: Implicit dimension choice for log_softmax has been deprecated. Change the call to include dim=X as an argument.\n",
            "  out = torch.nn.functional.log_softmax(out)\n",
            "100%|██████████| 2/2 [00:00<00:00,  4.98it/s]\n"
          ]
        },
        {
          "name": "stdout",
          "output_type": "stream",
          "text": [
            "\n",
            "epoch 6\n",
            "\ttrain_loss:0.752 valid_loss:0.792\n",
            "\ttrain_acc:67.00% valid_acc:65.24%\n",
            "\ttrain_f1:0.668 valid_f1:0.652\n",
            "\ttrain_confusion_matrix:\n",
            "[[1301  382  742]\n",
            " [ 358 1844  239]\n",
            " [ 445  242 1743]]\n",
            "\tvalid_confusion_matrix:\n",
            "[[354  58 205]\n",
            " [138 362  99]\n",
            " [ 99  36 476]]\n"
          ]
        },
        {
          "name": "stderr",
          "output_type": "stream",
          "text": [
            "  0%|          | 0/57 [00:00<?, ?it/s]/var/folders/3c/71b8pg6d7j5dht_5h_2n4n_c0000gn/T/ipykernel_8755/1114866685.py:147: UserWarning: Implicit dimension choice for log_softmax has been deprecated. Change the call to include dim=X as an argument.\n",
            "  out = torch.nn.functional.log_softmax(out)\n",
            "100%|██████████| 57/57 [00:10<00:00,  5.51it/s]\n",
            "  0%|          | 0/2 [00:00<?, ?it/s]/var/folders/3c/71b8pg6d7j5dht_5h_2n4n_c0000gn/T/ipykernel_8755/1114866685.py:147: UserWarning: Implicit dimension choice for log_softmax has been deprecated. Change the call to include dim=X as an argument.\n",
            "  out = torch.nn.functional.log_softmax(out)\n",
            "100%|██████████| 2/2 [00:00<00:00,  4.76it/s]\n"
          ]
        },
        {
          "name": "stdout",
          "output_type": "stream",
          "text": [
            "\n",
            "epoch 7\n",
            "\ttrain_loss:0.729 valid_loss:0.747\n",
            "\ttrain_acc:68.80% valid_acc:67.87%\n",
            "\ttrain_f1:0.687 valid_f1:0.675\n",
            "\ttrain_confusion_matrix:\n",
            "[[1383  334  704]\n",
            " [ 357 1838  247]\n",
            " [ 402  232 1799]]\n",
            "\tvalid_confusion_matrix:\n",
            "[[330  98 189]\n",
            " [ 87 433  79]\n",
            " [ 84  50 477]]\n"
          ]
        },
        {
          "name": "stderr",
          "output_type": "stream",
          "text": [
            "  0%|          | 0/57 [00:00<?, ?it/s]/var/folders/3c/71b8pg6d7j5dht_5h_2n4n_c0000gn/T/ipykernel_8755/1114866685.py:147: UserWarning: Implicit dimension choice for log_softmax has been deprecated. Change the call to include dim=X as an argument.\n",
            "  out = torch.nn.functional.log_softmax(out)\n",
            "100%|██████████| 57/57 [00:10<00:00,  5.62it/s]\n",
            "  0%|          | 0/2 [00:00<?, ?it/s]/var/folders/3c/71b8pg6d7j5dht_5h_2n4n_c0000gn/T/ipykernel_8755/1114866685.py:147: UserWarning: Implicit dimension choice for log_softmax has been deprecated. Change the call to include dim=X as an argument.\n",
            "  out = torch.nn.functional.log_softmax(out)\n",
            "100%|██████████| 2/2 [00:00<00:00,  4.98it/s]\n"
          ]
        },
        {
          "name": "stdout",
          "output_type": "stream",
          "text": [
            "\n",
            "epoch 8\n",
            "\ttrain_loss:0.701 valid_loss:0.733\n",
            "\ttrain_acc:70.71% valid_acc:68.91%\n",
            "\ttrain_f1:0.705 valid_f1:0.689\n",
            "\ttrain_confusion_matrix:\n",
            "[[1423  334  666]\n",
            " [ 329 1880  234]\n",
            " [ 370  204 1856]]\n",
            "\tvalid_confusion_matrix:\n",
            "[[380  83 154]\n",
            " [117 422  60]\n",
            " [111  43 457]]\n"
          ]
        },
        {
          "name": "stderr",
          "output_type": "stream",
          "text": [
            "  0%|          | 0/57 [00:00<?, ?it/s]/var/folders/3c/71b8pg6d7j5dht_5h_2n4n_c0000gn/T/ipykernel_8755/1114866685.py:147: UserWarning: Implicit dimension choice for log_softmax has been deprecated. Change the call to include dim=X as an argument.\n",
            "  out = torch.nn.functional.log_softmax(out)\n",
            "100%|██████████| 57/57 [00:10<00:00,  5.54it/s]\n",
            "  0%|          | 0/2 [00:00<?, ?it/s]/var/folders/3c/71b8pg6d7j5dht_5h_2n4n_c0000gn/T/ipykernel_8755/1114866685.py:147: UserWarning: Implicit dimension choice for log_softmax has been deprecated. Change the call to include dim=X as an argument.\n",
            "  out = torch.nn.functional.log_softmax(out)\n",
            "100%|██████████| 2/2 [00:00<00:00,  4.92it/s]\n"
          ]
        },
        {
          "name": "stdout",
          "output_type": "stream",
          "text": [
            "\n",
            "epoch 9\n",
            "\ttrain_loss:0.725 valid_loss:0.744\n",
            "\ttrain_acc:69.05% valid_acc:67.49%\n",
            "\ttrain_f1:0.690 valid_f1:0.674\n",
            "\ttrain_confusion_matrix:\n",
            "[[1455  302  666]\n",
            " [ 373 1793  277]\n",
            " [ 431  209 1790]]\n",
            "\tvalid_confusion_matrix:\n",
            "[[364 114 139]\n",
            " [ 96 446  57]\n",
            " [129  59 423]]\n"
          ]
        },
        {
          "name": "stderr",
          "output_type": "stream",
          "text": [
            "  0%|          | 0/57 [00:00<?, ?it/s]/var/folders/3c/71b8pg6d7j5dht_5h_2n4n_c0000gn/T/ipykernel_8755/1114866685.py:147: UserWarning: Implicit dimension choice for log_softmax has been deprecated. Change the call to include dim=X as an argument.\n",
            "  out = torch.nn.functional.log_softmax(out)\n",
            "100%|██████████| 57/57 [00:10<00:00,  5.60it/s]\n",
            "  0%|          | 0/2 [00:00<?, ?it/s]/var/folders/3c/71b8pg6d7j5dht_5h_2n4n_c0000gn/T/ipykernel_8755/1114866685.py:147: UserWarning: Implicit dimension choice for log_softmax has been deprecated. Change the call to include dim=X as an argument.\n",
            "  out = torch.nn.functional.log_softmax(out)\n",
            "100%|██████████| 2/2 [00:00<00:00,  4.96it/s]\n"
          ]
        },
        {
          "name": "stdout",
          "output_type": "stream",
          "text": [
            "\n",
            "epoch 10\n",
            "\ttrain_loss:0.705 valid_loss:0.726\n",
            "\ttrain_acc:70.09% valid_acc:68.64%\n",
            "\ttrain_f1:0.700 valid_f1:0.682\n",
            "\ttrain_confusion_matrix:\n",
            "[[1473  330  619]\n",
            " [ 353 1821  269]\n",
            " [ 411  200 1820]]\n",
            "\tvalid_confusion_matrix:\n",
            "[[333 128 156]\n",
            " [ 72 458  69]\n",
            " [ 90  58 463]]\n"
          ]
        },
        {
          "name": "stderr",
          "output_type": "stream",
          "text": [
            "  0%|          | 0/57 [00:00<?, ?it/s]/var/folders/3c/71b8pg6d7j5dht_5h_2n4n_c0000gn/T/ipykernel_8755/1114866685.py:147: UserWarning: Implicit dimension choice for log_softmax has been deprecated. Change the call to include dim=X as an argument.\n",
            "  out = torch.nn.functional.log_softmax(out)\n",
            "100%|██████████| 57/57 [00:10<00:00,  5.50it/s]\n",
            "  0%|          | 0/2 [00:00<?, ?it/s]/var/folders/3c/71b8pg6d7j5dht_5h_2n4n_c0000gn/T/ipykernel_8755/1114866685.py:147: UserWarning: Implicit dimension choice for log_softmax has been deprecated. Change the call to include dim=X as an argument.\n",
            "  out = torch.nn.functional.log_softmax(out)\n",
            "100%|██████████| 2/2 [00:00<00:00,  4.91it/s]\n"
          ]
        },
        {
          "name": "stdout",
          "output_type": "stream",
          "text": [
            "\n",
            "epoch 11\n",
            "\ttrain_loss:0.682 valid_loss:0.718\n",
            "\ttrain_acc:71.48% valid_acc:69.24%\n",
            "\ttrain_f1:0.713 valid_f1:0.691\n",
            "\ttrain_confusion_matrix:\n",
            "[[1475  325  624]\n",
            " [ 328 1870  244]\n",
            " [ 351  209 1870]]\n",
            "\tvalid_confusion_matrix:\n",
            "[[370  98 149]\n",
            " [ 93 436  70]\n",
            " [107  45 459]]\n"
          ]
        },
        {
          "name": "stderr",
          "output_type": "stream",
          "text": [
            "  0%|          | 0/57 [00:00<?, ?it/s]/var/folders/3c/71b8pg6d7j5dht_5h_2n4n_c0000gn/T/ipykernel_8755/1114866685.py:147: UserWarning: Implicit dimension choice for log_softmax has been deprecated. Change the call to include dim=X as an argument.\n",
            "  out = torch.nn.functional.log_softmax(out)\n",
            "100%|██████████| 57/57 [00:10<00:00,  5.51it/s]\n",
            "  0%|          | 0/2 [00:00<?, ?it/s]/var/folders/3c/71b8pg6d7j5dht_5h_2n4n_c0000gn/T/ipykernel_8755/1114866685.py:147: UserWarning: Implicit dimension choice for log_softmax has been deprecated. Change the call to include dim=X as an argument.\n",
            "  out = torch.nn.functional.log_softmax(out)\n",
            "100%|██████████| 2/2 [00:00<00:00,  4.90it/s]\n"
          ]
        },
        {
          "name": "stdout",
          "output_type": "stream",
          "text": [
            "\n",
            "epoch 12\n",
            "\ttrain_loss:0.665 valid_loss:0.724\n",
            "\ttrain_acc:72.60% valid_acc:69.90%\n",
            "\ttrain_f1:0.725 valid_f1:0.698\n",
            "\ttrain_confusion_matrix:\n",
            "[[1540  305  579]\n",
            " [ 341 1873  229]\n",
            " [ 354  191 1884]]\n",
            "\tvalid_confusion_matrix:\n",
            "[[384  65 168]\n",
            " [109 390 100]\n",
            " [ 78  30 503]]\n"
          ]
        },
        {
          "name": "stderr",
          "output_type": "stream",
          "text": [
            "  0%|          | 0/57 [00:00<?, ?it/s]/var/folders/3c/71b8pg6d7j5dht_5h_2n4n_c0000gn/T/ipykernel_8755/1114866685.py:147: UserWarning: Implicit dimension choice for log_softmax has been deprecated. Change the call to include dim=X as an argument.\n",
            "  out = torch.nn.functional.log_softmax(out)\n",
            "100%|██████████| 57/57 [00:10<00:00,  5.52it/s]\n",
            "  0%|          | 0/2 [00:00<?, ?it/s]/var/folders/3c/71b8pg6d7j5dht_5h_2n4n_c0000gn/T/ipykernel_8755/1114866685.py:147: UserWarning: Implicit dimension choice for log_softmax has been deprecated. Change the call to include dim=X as an argument.\n",
            "  out = torch.nn.functional.log_softmax(out)\n",
            "100%|██████████| 2/2 [00:00<00:00,  4.93it/s]\n"
          ]
        },
        {
          "name": "stdout",
          "output_type": "stream",
          "text": [
            "\n",
            "epoch 13\n",
            "\ttrain_loss:0.656 valid_loss:0.703\n",
            "\ttrain_acc:72.83% valid_acc:70.44%\n",
            "\ttrain_f1:0.727 valid_f1:0.703\n",
            "\ttrain_confusion_matrix:\n",
            "[[1531  302  589]\n",
            " [ 325 1894  223]\n",
            " [ 337  206 1889]]\n",
            "\tvalid_confusion_matrix:\n",
            "[[373  82 162]\n",
            " [ 98 416  85]\n",
            " [ 78  35 498]]\n"
          ]
        },
        {
          "name": "stderr",
          "output_type": "stream",
          "text": [
            "  0%|          | 0/57 [00:00<?, ?it/s]/var/folders/3c/71b8pg6d7j5dht_5h_2n4n_c0000gn/T/ipykernel_8755/1114866685.py:147: UserWarning: Implicit dimension choice for log_softmax has been deprecated. Change the call to include dim=X as an argument.\n",
            "  out = torch.nn.functional.log_softmax(out)\n",
            "100%|██████████| 57/57 [00:10<00:00,  5.48it/s]\n",
            "  0%|          | 0/2 [00:00<?, ?it/s]/var/folders/3c/71b8pg6d7j5dht_5h_2n4n_c0000gn/T/ipykernel_8755/1114866685.py:147: UserWarning: Implicit dimension choice for log_softmax has been deprecated. Change the call to include dim=X as an argument.\n",
            "  out = torch.nn.functional.log_softmax(out)\n",
            "100%|██████████| 2/2 [00:00<00:00,  4.93it/s]\n"
          ]
        },
        {
          "name": "stdout",
          "output_type": "stream",
          "text": [
            "\n",
            "epoch 14\n",
            "\ttrain_loss:0.635 valid_loss:0.690\n",
            "\ttrain_acc:73.90% valid_acc:71.10%\n",
            "\ttrain_f1:0.738 valid_f1:0.710\n",
            "\ttrain_confusion_matrix:\n",
            "[[1575  275  575]\n",
            " [ 314 1896  231]\n",
            " [ 337  172 1921]]\n",
            "\tvalid_confusion_matrix:\n",
            "[[393  89 135]\n",
            " [100 434  65]\n",
            " [ 98  41 472]]\n"
          ]
        },
        {
          "name": "stderr",
          "output_type": "stream",
          "text": [
            "  0%|          | 0/57 [00:00<?, ?it/s]/var/folders/3c/71b8pg6d7j5dht_5h_2n4n_c0000gn/T/ipykernel_8755/1114866685.py:147: UserWarning: Implicit dimension choice for log_softmax has been deprecated. Change the call to include dim=X as an argument.\n",
            "  out = torch.nn.functional.log_softmax(out)\n",
            "100%|██████████| 57/57 [00:10<00:00,  5.54it/s]\n",
            "  0%|          | 0/2 [00:00<?, ?it/s]/var/folders/3c/71b8pg6d7j5dht_5h_2n4n_c0000gn/T/ipykernel_8755/1114866685.py:147: UserWarning: Implicit dimension choice for log_softmax has been deprecated. Change the call to include dim=X as an argument.\n",
            "  out = torch.nn.functional.log_softmax(out)\n",
            "100%|██████████| 2/2 [00:00<00:00,  4.97it/s]\n"
          ]
        },
        {
          "name": "stdout",
          "output_type": "stream",
          "text": [
            "\n",
            "epoch 15\n",
            "\ttrain_loss:0.620 valid_loss:0.687\n",
            "\ttrain_acc:74.95% valid_acc:71.21%\n",
            "\ttrain_f1:0.749 valid_f1:0.712\n",
            "\ttrain_confusion_matrix:\n",
            "[[1592  282  549]\n",
            " [ 296 1922  224]\n",
            " [ 305  172 1954]]\n",
            "\tvalid_confusion_matrix:\n",
            "[[409  83 125]\n",
            " [103 435  61]\n",
            " [107  47 457]]\n"
          ]
        },
        {
          "name": "stderr",
          "output_type": "stream",
          "text": [
            "  0%|          | 0/57 [00:00<?, ?it/s]/var/folders/3c/71b8pg6d7j5dht_5h_2n4n_c0000gn/T/ipykernel_8755/1114866685.py:147: UserWarning: Implicit dimension choice for log_softmax has been deprecated. Change the call to include dim=X as an argument.\n",
            "  out = torch.nn.functional.log_softmax(out)\n",
            "100%|██████████| 57/57 [00:10<00:00,  5.52it/s]\n",
            "  0%|          | 0/2 [00:00<?, ?it/s]/var/folders/3c/71b8pg6d7j5dht_5h_2n4n_c0000gn/T/ipykernel_8755/1114866685.py:147: UserWarning: Implicit dimension choice for log_softmax has been deprecated. Change the call to include dim=X as an argument.\n",
            "  out = torch.nn.functional.log_softmax(out)\n",
            "100%|██████████| 2/2 [00:00<00:00,  4.88it/s]\n"
          ]
        },
        {
          "name": "stdout",
          "output_type": "stream",
          "text": [
            "\n",
            "epoch 16\n",
            "\ttrain_loss:0.606 valid_loss:0.679\n",
            "\ttrain_acc:75.88% valid_acc:71.26%\n",
            "\ttrain_f1:0.758 valid_f1:0.712\n",
            "\ttrain_confusion_matrix:\n",
            "[[1638  253  535]\n",
            " [ 306 1928  204]\n",
            " [ 306  156 1970]]\n",
            "\tvalid_confusion_matrix:\n",
            "[[391  99 127]\n",
            " [ 88 452  59]\n",
            " [ 98  54 459]]\n"
          ]
        },
        {
          "name": "stderr",
          "output_type": "stream",
          "text": [
            "  0%|          | 0/57 [00:00<?, ?it/s]/var/folders/3c/71b8pg6d7j5dht_5h_2n4n_c0000gn/T/ipykernel_8755/1114866685.py:147: UserWarning: Implicit dimension choice for log_softmax has been deprecated. Change the call to include dim=X as an argument.\n",
            "  out = torch.nn.functional.log_softmax(out)\n",
            "100%|██████████| 57/57 [00:10<00:00,  5.57it/s]\n",
            "  0%|          | 0/2 [00:00<?, ?it/s]/var/folders/3c/71b8pg6d7j5dht_5h_2n4n_c0000gn/T/ipykernel_8755/1114866685.py:147: UserWarning: Implicit dimension choice for log_softmax has been deprecated. Change the call to include dim=X as an argument.\n",
            "  out = torch.nn.functional.log_softmax(out)\n",
            "100%|██████████| 2/2 [00:00<00:00,  4.98it/s]\n"
          ]
        },
        {
          "name": "stdout",
          "output_type": "stream",
          "text": [
            "\n",
            "epoch 17\n",
            "\ttrain_loss:0.599 valid_loss:0.667\n",
            "\ttrain_acc:75.52% valid_acc:73.07%\n",
            "\ttrain_f1:0.755 valid_f1:0.729\n",
            "\ttrain_confusion_matrix:\n",
            "[[1641  253  530]\n",
            " [ 314 1914  212]\n",
            " [ 307  170 1955]]\n",
            "\tvalid_confusion_matrix:\n",
            "[[389  88 140]\n",
            " [ 86 447  66]\n",
            " [ 71  41 499]]\n"
          ]
        },
        {
          "name": "stderr",
          "output_type": "stream",
          "text": [
            "  0%|          | 0/57 [00:00<?, ?it/s]/var/folders/3c/71b8pg6d7j5dht_5h_2n4n_c0000gn/T/ipykernel_8755/1114866685.py:147: UserWarning: Implicit dimension choice for log_softmax has been deprecated. Change the call to include dim=X as an argument.\n",
            "  out = torch.nn.functional.log_softmax(out)\n",
            "100%|██████████| 57/57 [00:10<00:00,  5.53it/s]\n",
            "  0%|          | 0/2 [00:00<?, ?it/s]/var/folders/3c/71b8pg6d7j5dht_5h_2n4n_c0000gn/T/ipykernel_8755/1114866685.py:147: UserWarning: Implicit dimension choice for log_softmax has been deprecated. Change the call to include dim=X as an argument.\n",
            "  out = torch.nn.functional.log_softmax(out)\n",
            "100%|██████████| 2/2 [00:00<00:00,  4.98it/s]\n"
          ]
        },
        {
          "name": "stdout",
          "output_type": "stream",
          "text": [
            "\n",
            "epoch 18\n",
            "\ttrain_loss:0.591 valid_loss:0.670\n",
            "\ttrain_acc:76.17% valid_acc:72.74%\n",
            "\ttrain_f1:0.761 valid_f1:0.725\n",
            "\ttrain_confusion_matrix:\n",
            "[[1656  253  517]\n",
            " [ 302 1939  199]\n",
            " [ 300  168 1962]]\n",
            "\tvalid_confusion_matrix:\n",
            "[[376 115 126]\n",
            " [ 62 484  53]\n",
            " [ 79  63 469]]\n"
          ]
        },
        {
          "name": "stderr",
          "output_type": "stream",
          "text": [
            "  0%|          | 0/57 [00:00<?, ?it/s]/var/folders/3c/71b8pg6d7j5dht_5h_2n4n_c0000gn/T/ipykernel_8755/1114866685.py:147: UserWarning: Implicit dimension choice for log_softmax has been deprecated. Change the call to include dim=X as an argument.\n",
            "  out = torch.nn.functional.log_softmax(out)\n",
            "100%|██████████| 57/57 [00:10<00:00,  5.62it/s]\n",
            "  0%|          | 0/2 [00:00<?, ?it/s]/var/folders/3c/71b8pg6d7j5dht_5h_2n4n_c0000gn/T/ipykernel_8755/1114866685.py:147: UserWarning: Implicit dimension choice for log_softmax has been deprecated. Change the call to include dim=X as an argument.\n",
            "  out = torch.nn.functional.log_softmax(out)\n",
            "100%|██████████| 2/2 [00:00<00:00,  4.94it/s]\n"
          ]
        },
        {
          "name": "stdout",
          "output_type": "stream",
          "text": [
            "\n",
            "epoch 19\n",
            "\ttrain_loss:0.578 valid_loss:0.655\n",
            "\ttrain_acc:76.89% valid_acc:73.73%\n",
            "\ttrain_f1:0.769 valid_f1:0.736\n",
            "\ttrain_confusion_matrix:\n",
            "[[1691  241  492]\n",
            " [ 290 1950  200]\n",
            " [ 304  159 1969]]\n",
            "\tvalid_confusion_matrix:\n",
            "[[404  73 140]\n",
            " [ 90 442  67]\n",
            " [ 67  43 501]]\n",
            "Loading saved model from: model_task2.bin\n"
          ]
        },
        {
          "name": "stderr",
          "output_type": "stream",
          "text": [
            "  0%|          | 0/2 [00:00<?, ?it/s]/var/folders/3c/71b8pg6d7j5dht_5h_2n4n_c0000gn/T/ipykernel_8755/1114866685.py:147: UserWarning: Implicit dimension choice for log_softmax has been deprecated. Change the call to include dim=X as an argument.\n",
            "  out = torch.nn.functional.log_softmax(out)\n",
            "100%|██████████| 2/2 [00:00<00:00,  4.96it/s]\n"
          ]
        },
        {
          "name": "stdout",
          "output_type": "stream",
          "text": [
            "              precision    recall  f1-score   support\n",
            "\n",
            "     Neutral       0.71      0.65      0.68       617\n",
            "    Positive       0.79      0.73      0.76       599\n",
            "    Negative       0.71      0.82      0.76       611\n",
            "\n",
            "    accuracy                           0.73      1827\n",
            "   macro avg       0.74      0.73      0.73      1827\n",
            "weighted avg       0.74      0.73      0.73      1827\n",
            "\n",
            "\n",
            "******************************************************************************************\n",
            "Alpha Size: 0.6\n",
            "Window Size: 4\n",
            "******************************************************************************************\n",
            "\n",
            "train samples:7305\n",
            "valid samples:1827\n"
          ]
        },
        {
          "name": "stderr",
          "output_type": "stream",
          "text": [
            "  0%|          | 0/57 [00:00<?, ?it/s]/var/folders/3c/71b8pg6d7j5dht_5h_2n4n_c0000gn/T/ipykernel_8755/1114866685.py:147: UserWarning: Implicit dimension choice for log_softmax has been deprecated. Change the call to include dim=X as an argument.\n",
            "  out = torch.nn.functional.log_softmax(out)\n",
            "100%|██████████| 57/57 [00:12<00:00,  4.54it/s]\n",
            "  0%|          | 0/2 [00:00<?, ?it/s]/var/folders/3c/71b8pg6d7j5dht_5h_2n4n_c0000gn/T/ipykernel_8755/1114866685.py:147: UserWarning: Implicit dimension choice for log_softmax has been deprecated. Change the call to include dim=X as an argument.\n",
            "  out = torch.nn.functional.log_softmax(out)\n",
            "100%|██████████| 2/2 [00:00<00:00,  4.20it/s]\n"
          ]
        },
        {
          "name": "stdout",
          "output_type": "stream",
          "text": [
            "\n",
            "epoch 0\n",
            "\ttrain_loss:1.086 valid_loss:1.073\n",
            "\ttrain_acc:46.89% valid_acc:53.04%\n",
            "\ttrain_f1:0.456 valid_f1:0.524\n",
            "\ttrain_confusion_matrix:\n",
            "[[ 705  362 1342]\n",
            " [ 414  974 1044]\n",
            " [ 380  333 1742]]\n",
            "\tvalid_confusion_matrix:\n",
            "[[231 110 291]\n",
            " [ 90 333 187]\n",
            " [ 87  93 405]]\n"
          ]
        },
        {
          "name": "stderr",
          "output_type": "stream",
          "text": [
            "  0%|          | 0/57 [00:00<?, ?it/s]/var/folders/3c/71b8pg6d7j5dht_5h_2n4n_c0000gn/T/ipykernel_8755/1114866685.py:147: UserWarning: Implicit dimension choice for log_softmax has been deprecated. Change the call to include dim=X as an argument.\n",
            "  out = torch.nn.functional.log_softmax(out)\n",
            "100%|██████████| 57/57 [00:12<00:00,  4.57it/s]\n",
            "  0%|          | 0/2 [00:00<?, ?it/s]/var/folders/3c/71b8pg6d7j5dht_5h_2n4n_c0000gn/T/ipykernel_8755/1114866685.py:147: UserWarning: Implicit dimension choice for log_softmax has been deprecated. Change the call to include dim=X as an argument.\n",
            "  out = torch.nn.functional.log_softmax(out)\n",
            "100%|██████████| 2/2 [00:00<00:00,  4.39it/s]\n"
          ]
        },
        {
          "name": "stdout",
          "output_type": "stream",
          "text": [
            "\n",
            "epoch 1\n",
            "\ttrain_loss:1.041 valid_loss:0.991\n",
            "\ttrain_acc:55.08% valid_acc:52.44%\n",
            "\ttrain_f1:0.544 valid_f1:0.493\n",
            "\ttrain_confusion_matrix:\n",
            "[[ 899  453 1057]\n",
            " [ 391 1461  578]\n",
            " [ 340  458 1659]]\n",
            "\tvalid_confusion_matrix:\n",
            "[[128 178 326]\n",
            " [ 26 424 160]\n",
            " [ 38 141 406]]\n"
          ]
        },
        {
          "name": "stderr",
          "output_type": "stream",
          "text": [
            "  0%|          | 0/57 [00:00<?, ?it/s]/var/folders/3c/71b8pg6d7j5dht_5h_2n4n_c0000gn/T/ipykernel_8755/1114866685.py:147: UserWarning: Implicit dimension choice for log_softmax has been deprecated. Change the call to include dim=X as an argument.\n",
            "  out = torch.nn.functional.log_softmax(out)\n",
            "100%|██████████| 57/57 [00:12<00:00,  4.60it/s]\n",
            "  0%|          | 0/2 [00:00<?, ?it/s]/var/folders/3c/71b8pg6d7j5dht_5h_2n4n_c0000gn/T/ipykernel_8755/1114866685.py:147: UserWarning: Implicit dimension choice for log_softmax has been deprecated. Change the call to include dim=X as an argument.\n",
            "  out = torch.nn.functional.log_softmax(out)\n",
            "100%|██████████| 2/2 [00:00<00:00,  4.53it/s]\n"
          ]
        },
        {
          "name": "stdout",
          "output_type": "stream",
          "text": [
            "\n",
            "epoch 2\n",
            "\ttrain_loss:0.919 valid_loss:0.885\n",
            "\ttrain_acc:57.69% valid_acc:61.03%\n",
            "\ttrain_f1:0.555 valid_f1:0.605\n",
            "\ttrain_confusion_matrix:\n",
            "[[ 676  606 1126]\n",
            " [ 186 1814  432]\n",
            " [ 231  506 1719]]\n",
            "\tvalid_confusion_matrix:\n",
            "[[275  98 259]\n",
            " [ 86 406 118]\n",
            " [ 87  64 434]]\n"
          ]
        },
        {
          "name": "stderr",
          "output_type": "stream",
          "text": [
            "  0%|          | 0/57 [00:00<?, ?it/s]/var/folders/3c/71b8pg6d7j5dht_5h_2n4n_c0000gn/T/ipykernel_8755/1114866685.py:147: UserWarning: Implicit dimension choice for log_softmax has been deprecated. Change the call to include dim=X as an argument.\n",
            "  out = torch.nn.functional.log_softmax(out)\n",
            "100%|██████████| 57/57 [00:12<00:00,  4.68it/s]\n",
            "  0%|          | 0/2 [00:00<?, ?it/s]/var/folders/3c/71b8pg6d7j5dht_5h_2n4n_c0000gn/T/ipykernel_8755/1114866685.py:147: UserWarning: Implicit dimension choice for log_softmax has been deprecated. Change the call to include dim=X as an argument.\n",
            "  out = torch.nn.functional.log_softmax(out)\n",
            "100%|██████████| 2/2 [00:00<00:00,  4.50it/s]\n"
          ]
        },
        {
          "name": "stdout",
          "output_type": "stream",
          "text": [
            "\n",
            "epoch 3\n",
            "\ttrain_loss:0.837 valid_loss:0.830\n",
            "\ttrain_acc:63.23% valid_acc:62.23%\n",
            "\ttrain_f1:0.626 valid_f1:0.614\n",
            "\ttrain_confusion_matrix:\n",
            "[[1079  497  831]\n",
            " [ 349 1809  274]\n",
            " [ 433  299 1725]]\n",
            "\tvalid_confusion_matrix:\n",
            "[[257 116 259]\n",
            " [ 63 442 105]\n",
            " [ 87  60 438]]\n"
          ]
        },
        {
          "name": "stderr",
          "output_type": "stream",
          "text": [
            "  0%|          | 0/57 [00:00<?, ?it/s]/var/folders/3c/71b8pg6d7j5dht_5h_2n4n_c0000gn/T/ipykernel_8755/1114866685.py:147: UserWarning: Implicit dimension choice for log_softmax has been deprecated. Change the call to include dim=X as an argument.\n",
            "  out = torch.nn.functional.log_softmax(out)\n",
            "100%|██████████| 57/57 [00:12<00:00,  4.63it/s]\n",
            "  0%|          | 0/2 [00:00<?, ?it/s]/var/folders/3c/71b8pg6d7j5dht_5h_2n4n_c0000gn/T/ipykernel_8755/1114866685.py:147: UserWarning: Implicit dimension choice for log_softmax has been deprecated. Change the call to include dim=X as an argument.\n",
            "  out = torch.nn.functional.log_softmax(out)\n",
            "100%|██████████| 2/2 [00:00<00:00,  4.51it/s]\n"
          ]
        },
        {
          "name": "stdout",
          "output_type": "stream",
          "text": [
            "\n",
            "epoch 4\n",
            "\ttrain_loss:0.786 valid_loss:0.795\n",
            "\ttrain_acc:65.31% valid_acc:64.48%\n",
            "\ttrain_f1:0.648 valid_f1:0.646\n",
            "\ttrain_confusion_matrix:\n",
            "[[1173  467  770]\n",
            " [ 349 1833  248]\n",
            " [ 441  256 1759]]\n",
            "\tvalid_confusion_matrix:\n",
            "[[372  80 180]\n",
            " [134 400  76]\n",
            " [129  50 406]]\n"
          ]
        },
        {
          "name": "stderr",
          "output_type": "stream",
          "text": [
            "  0%|          | 0/57 [00:00<?, ?it/s]/var/folders/3c/71b8pg6d7j5dht_5h_2n4n_c0000gn/T/ipykernel_8755/1114866685.py:147: UserWarning: Implicit dimension choice for log_softmax has been deprecated. Change the call to include dim=X as an argument.\n",
            "  out = torch.nn.functional.log_softmax(out)\n",
            "100%|██████████| 57/57 [00:12<00:00,  4.64it/s]\n",
            "  0%|          | 0/2 [00:00<?, ?it/s]/var/folders/3c/71b8pg6d7j5dht_5h_2n4n_c0000gn/T/ipykernel_8755/1114866685.py:147: UserWarning: Implicit dimension choice for log_softmax has been deprecated. Change the call to include dim=X as an argument.\n",
            "  out = torch.nn.functional.log_softmax(out)\n",
            "100%|██████████| 2/2 [00:00<00:00,  4.49it/s]\n"
          ]
        },
        {
          "name": "stdout",
          "output_type": "stream",
          "text": [
            "\n",
            "epoch 5\n",
            "\ttrain_loss:0.760 valid_loss:0.775\n",
            "\ttrain_acc:67.15% valid_acc:65.79%\n",
            "\ttrain_f1:0.668 valid_f1:0.656\n",
            "\ttrain_confusion_matrix:\n",
            "[[1266  406  736]\n",
            " [ 349 1836  246]\n",
            " [ 418  242 1797]]\n",
            "\tvalid_confusion_matrix:\n",
            "[[342  94 196]\n",
            " [ 93 430  87]\n",
            " [ 95  60 430]]\n"
          ]
        },
        {
          "name": "stderr",
          "output_type": "stream",
          "text": [
            "  0%|          | 0/57 [00:00<?, ?it/s]/var/folders/3c/71b8pg6d7j5dht_5h_2n4n_c0000gn/T/ipykernel_8755/1114866685.py:147: UserWarning: Implicit dimension choice for log_softmax has been deprecated. Change the call to include dim=X as an argument.\n",
            "  out = torch.nn.functional.log_softmax(out)\n",
            "100%|██████████| 57/57 [00:12<00:00,  4.61it/s]\n",
            "  0%|          | 0/2 [00:00<?, ?it/s]/var/folders/3c/71b8pg6d7j5dht_5h_2n4n_c0000gn/T/ipykernel_8755/1114866685.py:147: UserWarning: Implicit dimension choice for log_softmax has been deprecated. Change the call to include dim=X as an argument.\n",
            "  out = torch.nn.functional.log_softmax(out)\n",
            "100%|██████████| 2/2 [00:00<00:00,  4.51it/s]\n"
          ]
        },
        {
          "name": "stdout",
          "output_type": "stream",
          "text": [
            "\n",
            "epoch 6\n",
            "\ttrain_loss:0.736 valid_loss:0.761\n",
            "\ttrain_acc:68.53% valid_acc:66.89%\n",
            "\ttrain_f1:0.683 valid_f1:0.666\n",
            "\ttrain_confusion_matrix:\n",
            "[[1347  357  703]\n",
            " [ 370 1826  236]\n",
            " [ 410  220 1827]]\n",
            "\tvalid_confusion_matrix:\n",
            "[[342 112 178]\n",
            " [ 71 464  75]\n",
            " [100  69 416]]\n"
          ]
        },
        {
          "name": "stderr",
          "output_type": "stream",
          "text": [
            "  0%|          | 0/57 [00:00<?, ?it/s]/var/folders/3c/71b8pg6d7j5dht_5h_2n4n_c0000gn/T/ipykernel_8755/1114866685.py:147: UserWarning: Implicit dimension choice for log_softmax has been deprecated. Change the call to include dim=X as an argument.\n",
            "  out = torch.nn.functional.log_softmax(out)\n",
            "100%|██████████| 57/57 [00:11<00:00,  4.76it/s]\n",
            "  0%|          | 0/2 [00:00<?, ?it/s]/var/folders/3c/71b8pg6d7j5dht_5h_2n4n_c0000gn/T/ipykernel_8755/1114866685.py:147: UserWarning: Implicit dimension choice for log_softmax has been deprecated. Change the call to include dim=X as an argument.\n",
            "  out = torch.nn.functional.log_softmax(out)\n",
            "100%|██████████| 2/2 [00:00<00:00,  4.50it/s]\n"
          ]
        },
        {
          "name": "stdout",
          "output_type": "stream",
          "text": [
            "\n",
            "epoch 7\n",
            "\ttrain_loss:0.712 valid_loss:0.750\n",
            "\ttrain_acc:70.09% valid_acc:67.49%\n",
            "\ttrain_f1:0.699 valid_f1:0.669\n",
            "\ttrain_confusion_matrix:\n",
            "[[1393  342  675]\n",
            " [ 348 1853  230]\n",
            " [ 376  211 1868]]\n",
            "\tvalid_confusion_matrix:\n",
            "[[316 127 189]\n",
            " [ 62 477  71]\n",
            " [ 80  65 440]]\n"
          ]
        },
        {
          "name": "stderr",
          "output_type": "stream",
          "text": [
            "  0%|          | 0/57 [00:00<?, ?it/s]/var/folders/3c/71b8pg6d7j5dht_5h_2n4n_c0000gn/T/ipykernel_8755/1114866685.py:147: UserWarning: Implicit dimension choice for log_softmax has been deprecated. Change the call to include dim=X as an argument.\n",
            "  out = torch.nn.functional.log_softmax(out)\n",
            "100%|██████████| 57/57 [00:11<00:00,  4.96it/s]\n",
            "  0%|          | 0/2 [00:00<?, ?it/s]/var/folders/3c/71b8pg6d7j5dht_5h_2n4n_c0000gn/T/ipykernel_8755/1114866685.py:147: UserWarning: Implicit dimension choice for log_softmax has been deprecated. Change the call to include dim=X as an argument.\n",
            "  out = torch.nn.functional.log_softmax(out)\n",
            "100%|██████████| 2/2 [00:00<00:00,  4.51it/s]\n"
          ]
        },
        {
          "name": "stdout",
          "output_type": "stream",
          "text": [
            "\n",
            "epoch 8\n",
            "\ttrain_loss:0.694 valid_loss:0.742\n",
            "\ttrain_acc:70.67% valid_acc:68.58%\n",
            "\ttrain_f1:0.705 valid_f1:0.680\n",
            "\ttrain_confusion_matrix:\n",
            "[[1408  322  677]\n",
            " [ 337 1867  228]\n",
            " [ 383  193 1881]]\n",
            "\tvalid_confusion_matrix:\n",
            "[[317 113 202]\n",
            " [ 54 475  81]\n",
            " [ 62  62 461]]\n"
          ]
        },
        {
          "name": "stderr",
          "output_type": "stream",
          "text": [
            "  0%|          | 0/57 [00:00<?, ?it/s]/var/folders/3c/71b8pg6d7j5dht_5h_2n4n_c0000gn/T/ipykernel_8755/1114866685.py:147: UserWarning: Implicit dimension choice for log_softmax has been deprecated. Change the call to include dim=X as an argument.\n",
            "  out = torch.nn.functional.log_softmax(out)\n",
            "100%|██████████| 57/57 [00:11<00:00,  4.92it/s]\n",
            "  0%|          | 0/2 [00:00<?, ?it/s]/var/folders/3c/71b8pg6d7j5dht_5h_2n4n_c0000gn/T/ipykernel_8755/1114866685.py:147: UserWarning: Implicit dimension choice for log_softmax has been deprecated. Change the call to include dim=X as an argument.\n",
            "  out = torch.nn.functional.log_softmax(out)\n",
            "100%|██████████| 2/2 [00:00<00:00,  4.63it/s]\n"
          ]
        },
        {
          "name": "stdout",
          "output_type": "stream",
          "text": [
            "\n",
            "epoch 9\n",
            "\ttrain_loss:0.686 valid_loss:0.721\n",
            "\ttrain_acc:71.26% valid_acc:69.51%\n",
            "\ttrain_f1:0.711 valid_f1:0.695\n",
            "\ttrain_confusion_matrix:\n",
            "[[1438  315  654]\n",
            " [ 334 1871  228]\n",
            " [ 364  202 1890]]\n",
            "\tvalid_confusion_matrix:\n",
            "[[397  95 140]\n",
            " [ 87 463  60]\n",
            " [113  62 410]]\n"
          ]
        },
        {
          "name": "stderr",
          "output_type": "stream",
          "text": [
            "  0%|          | 0/57 [00:00<?, ?it/s]/var/folders/3c/71b8pg6d7j5dht_5h_2n4n_c0000gn/T/ipykernel_8755/1114866685.py:147: UserWarning: Implicit dimension choice for log_softmax has been deprecated. Change the call to include dim=X as an argument.\n",
            "  out = torch.nn.functional.log_softmax(out)\n",
            "100%|██████████| 57/57 [00:11<00:00,  4.92it/s]\n",
            "  0%|          | 0/2 [00:00<?, ?it/s]/var/folders/3c/71b8pg6d7j5dht_5h_2n4n_c0000gn/T/ipykernel_8755/1114866685.py:147: UserWarning: Implicit dimension choice for log_softmax has been deprecated. Change the call to include dim=X as an argument.\n",
            "  out = torch.nn.functional.log_softmax(out)\n",
            "100%|██████████| 2/2 [00:00<00:00,  4.59it/s]\n"
          ]
        },
        {
          "name": "stdout",
          "output_type": "stream",
          "text": [
            "\n",
            "epoch 10\n",
            "\ttrain_loss:0.665 valid_loss:0.712\n",
            "\ttrain_acc:72.41% valid_acc:69.46%\n",
            "\ttrain_f1:0.723 valid_f1:0.694\n",
            "\ttrain_confusion_matrix:\n",
            "[[1478  297  636]\n",
            " [ 327 1883  219]\n",
            " [ 352  182 1922]]\n",
            "\tvalid_confusion_matrix:\n",
            "[[401  92 139]\n",
            " [ 97 455  58]\n",
            " [114  58 413]]\n"
          ]
        },
        {
          "name": "stderr",
          "output_type": "stream",
          "text": [
            "  0%|          | 0/57 [00:00<?, ?it/s]/var/folders/3c/71b8pg6d7j5dht_5h_2n4n_c0000gn/T/ipykernel_8755/1114866685.py:147: UserWarning: Implicit dimension choice for log_softmax has been deprecated. Change the call to include dim=X as an argument.\n",
            "  out = torch.nn.functional.log_softmax(out)\n",
            "100%|██████████| 57/57 [00:11<00:00,  4.87it/s]\n",
            "  0%|          | 0/2 [00:00<?, ?it/s]/var/folders/3c/71b8pg6d7j5dht_5h_2n4n_c0000gn/T/ipykernel_8755/1114866685.py:147: UserWarning: Implicit dimension choice for log_softmax has been deprecated. Change the call to include dim=X as an argument.\n",
            "  out = torch.nn.functional.log_softmax(out)\n",
            "100%|██████████| 2/2 [00:00<00:00,  4.56it/s]\n"
          ]
        },
        {
          "name": "stdout",
          "output_type": "stream",
          "text": [
            "\n",
            "epoch 11\n",
            "\ttrain_loss:0.648 valid_loss:0.703\n",
            "\ttrain_acc:73.44% valid_acc:70.88%\n",
            "\ttrain_f1:0.733 valid_f1:0.706\n",
            "\ttrain_confusion_matrix:\n",
            "[[1519  270  622]\n",
            " [ 315 1901  213]\n",
            " [ 332  186 1938]]\n",
            "\tvalid_confusion_matrix:\n",
            "[[354  88 190]\n",
            " [ 63 464  83]\n",
            " [ 58  50 477]]\n"
          ]
        },
        {
          "name": "stderr",
          "output_type": "stream",
          "text": [
            "  0%|          | 0/57 [00:00<?, ?it/s]/var/folders/3c/71b8pg6d7j5dht_5h_2n4n_c0000gn/T/ipykernel_8755/1114866685.py:147: UserWarning: Implicit dimension choice for log_softmax has been deprecated. Change the call to include dim=X as an argument.\n",
            "  out = torch.nn.functional.log_softmax(out)\n",
            "100%|██████████| 57/57 [00:12<00:00,  4.71it/s]\n",
            "  0%|          | 0/2 [00:00<?, ?it/s]/var/folders/3c/71b8pg6d7j5dht_5h_2n4n_c0000gn/T/ipykernel_8755/1114866685.py:147: UserWarning: Implicit dimension choice for log_softmax has been deprecated. Change the call to include dim=X as an argument.\n",
            "  out = torch.nn.functional.log_softmax(out)\n",
            "100%|██████████| 2/2 [00:00<00:00,  4.52it/s]\n"
          ]
        },
        {
          "name": "stdout",
          "output_type": "stream",
          "text": [
            "\n",
            "epoch 12\n",
            "\ttrain_loss:0.636 valid_loss:0.689\n",
            "\ttrain_acc:74.11% valid_acc:71.48%\n",
            "\ttrain_f1:0.740 valid_f1:0.714\n",
            "\ttrain_confusion_matrix:\n",
            "[[1507  271  631]\n",
            " [ 312 1920  200]\n",
            " [ 292  183 1980]]\n",
            "\tvalid_confusion_matrix:\n",
            "[[403  92 137]\n",
            " [ 80 469  61]\n",
            " [ 95  56 434]]\n"
          ]
        },
        {
          "name": "stderr",
          "output_type": "stream",
          "text": [
            "  0%|          | 0/57 [00:00<?, ?it/s]/var/folders/3c/71b8pg6d7j5dht_5h_2n4n_c0000gn/T/ipykernel_8755/1114866685.py:147: UserWarning: Implicit dimension choice for log_softmax has been deprecated. Change the call to include dim=X as an argument.\n",
            "  out = torch.nn.functional.log_softmax(out)\n",
            "100%|██████████| 57/57 [00:11<00:00,  4.91it/s]\n",
            "  0%|          | 0/2 [00:00<?, ?it/s]/var/folders/3c/71b8pg6d7j5dht_5h_2n4n_c0000gn/T/ipykernel_8755/1114866685.py:147: UserWarning: Implicit dimension choice for log_softmax has been deprecated. Change the call to include dim=X as an argument.\n",
            "  out = torch.nn.functional.log_softmax(out)\n",
            "100%|██████████| 2/2 [00:00<00:00,  4.71it/s]\n"
          ]
        },
        {
          "name": "stdout",
          "output_type": "stream",
          "text": [
            "\n",
            "epoch 13\n",
            "\ttrain_loss:0.629 valid_loss:0.691\n",
            "\ttrain_acc:74.16% valid_acc:71.48%\n",
            "\ttrain_f1:0.741 valid_f1:0.713\n",
            "\ttrain_confusion_matrix:\n",
            "[[1567  264  579]\n",
            " [ 306 1918  207]\n",
            " [ 338  191 1926]]\n",
            "\tvalid_confusion_matrix:\n",
            "[[387 101 144]\n",
            " [ 66 485  59]\n",
            " [ 86  65 434]]\n"
          ]
        },
        {
          "name": "stderr",
          "output_type": "stream",
          "text": [
            "  0%|          | 0/57 [00:00<?, ?it/s]/var/folders/3c/71b8pg6d7j5dht_5h_2n4n_c0000gn/T/ipykernel_8755/1114866685.py:147: UserWarning: Implicit dimension choice for log_softmax has been deprecated. Change the call to include dim=X as an argument.\n",
            "  out = torch.nn.functional.log_softmax(out)\n",
            "100%|██████████| 57/57 [00:11<00:00,  4.93it/s]\n",
            "  0%|          | 0/2 [00:00<?, ?it/s]/var/folders/3c/71b8pg6d7j5dht_5h_2n4n_c0000gn/T/ipykernel_8755/1114866685.py:147: UserWarning: Implicit dimension choice for log_softmax has been deprecated. Change the call to include dim=X as an argument.\n",
            "  out = torch.nn.functional.log_softmax(out)\n",
            "100%|██████████| 2/2 [00:00<00:00,  4.60it/s]\n"
          ]
        },
        {
          "name": "stdout",
          "output_type": "stream",
          "text": [
            "\n",
            "epoch 14\n",
            "\ttrain_loss:0.618 valid_loss:0.678\n",
            "\ttrain_acc:75.67% valid_acc:73.07%\n",
            "\ttrain_f1:0.757 valid_f1:0.729\n",
            "\ttrain_confusion_matrix:\n",
            "[[1660  224  524]\n",
            " [ 321 1907  203]\n",
            " [ 332  171 1954]]\n",
            "\tvalid_confusion_matrix:\n",
            "[[391  71 170]\n",
            " [ 69 463  78]\n",
            " [ 60  44 481]]\n"
          ]
        },
        {
          "name": "stderr",
          "output_type": "stream",
          "text": [
            "  0%|          | 0/57 [00:00<?, ?it/s]/var/folders/3c/71b8pg6d7j5dht_5h_2n4n_c0000gn/T/ipykernel_8755/1114866685.py:147: UserWarning: Implicit dimension choice for log_softmax has been deprecated. Change the call to include dim=X as an argument.\n",
            "  out = torch.nn.functional.log_softmax(out)\n",
            "100%|██████████| 57/57 [00:11<00:00,  4.79it/s]\n",
            "  0%|          | 0/2 [00:00<?, ?it/s]/var/folders/3c/71b8pg6d7j5dht_5h_2n4n_c0000gn/T/ipykernel_8755/1114866685.py:147: UserWarning: Implicit dimension choice for log_softmax has been deprecated. Change the call to include dim=X as an argument.\n",
            "  out = torch.nn.functional.log_softmax(out)\n",
            "100%|██████████| 2/2 [00:00<00:00,  4.50it/s]\n"
          ]
        },
        {
          "name": "stdout",
          "output_type": "stream",
          "text": [
            "\n",
            "epoch 15\n",
            "\ttrain_loss:0.612 valid_loss:0.684\n",
            "\ttrain_acc:75.73% valid_acc:71.15%\n",
            "\ttrain_f1:0.757 valid_f1:0.709\n",
            "\ttrain_confusion_matrix:\n",
            "[[1615  228  564]\n",
            " [ 317 1894  220]\n",
            " [ 276  166 2016]]\n",
            "\tvalid_confusion_matrix:\n",
            "[[377 123 132]\n",
            " [ 60 498  52]\n",
            " [ 89  71 425]]\n"
          ]
        },
        {
          "name": "stderr",
          "output_type": "stream",
          "text": [
            "  0%|          | 0/57 [00:00<?, ?it/s]/var/folders/3c/71b8pg6d7j5dht_5h_2n4n_c0000gn/T/ipykernel_8755/1114866685.py:147: UserWarning: Implicit dimension choice for log_softmax has been deprecated. Change the call to include dim=X as an argument.\n",
            "  out = torch.nn.functional.log_softmax(out)\n",
            "100%|██████████| 57/57 [00:12<00:00,  4.61it/s]\n",
            "  0%|          | 0/2 [00:00<?, ?it/s]/var/folders/3c/71b8pg6d7j5dht_5h_2n4n_c0000gn/T/ipykernel_8755/1114866685.py:147: UserWarning: Implicit dimension choice for log_softmax has been deprecated. Change the call to include dim=X as an argument.\n",
            "  out = torch.nn.functional.log_softmax(out)\n",
            "100%|██████████| 2/2 [00:00<00:00,  4.52it/s]\n"
          ]
        },
        {
          "name": "stdout",
          "output_type": "stream",
          "text": [
            "\n",
            "epoch 16\n",
            "\ttrain_loss:0.596 valid_loss:0.662\n",
            "\ttrain_acc:76.19% valid_acc:73.84%\n",
            "\ttrain_f1:0.762 valid_f1:0.738\n",
            "\ttrain_confusion_matrix:\n",
            "[[1653  230  525]\n",
            " [ 324 1906  201]\n",
            " [ 289  168 2000]]\n",
            "\tvalid_confusion_matrix:\n",
            "[[437  74 121]\n",
            " [ 80 473  57]\n",
            " [ 99  47 439]]\n"
          ]
        },
        {
          "name": "stderr",
          "output_type": "stream",
          "text": [
            "  0%|          | 0/57 [00:00<?, ?it/s]/var/folders/3c/71b8pg6d7j5dht_5h_2n4n_c0000gn/T/ipykernel_8755/1114866685.py:147: UserWarning: Implicit dimension choice for log_softmax has been deprecated. Change the call to include dim=X as an argument.\n",
            "  out = torch.nn.functional.log_softmax(out)\n",
            "100%|██████████| 57/57 [00:12<00:00,  4.57it/s]\n",
            "  0%|          | 0/2 [00:00<?, ?it/s]/var/folders/3c/71b8pg6d7j5dht_5h_2n4n_c0000gn/T/ipykernel_8755/1114866685.py:147: UserWarning: Implicit dimension choice for log_softmax has been deprecated. Change the call to include dim=X as an argument.\n",
            "  out = torch.nn.functional.log_softmax(out)\n",
            "100%|██████████| 2/2 [00:00<00:00,  4.58it/s]\n"
          ]
        },
        {
          "name": "stdout",
          "output_type": "stream",
          "text": [
            "\n",
            "epoch 17\n",
            "\ttrain_loss:0.570 valid_loss:0.653\n",
            "\ttrain_acc:77.97% valid_acc:74.66%\n",
            "\ttrain_f1:0.779 valid_f1:0.746\n",
            "\ttrain_confusion_matrix:\n",
            "[[1706  223  479]\n",
            " [ 275 1949  209]\n",
            " [ 275  146 2034]]\n",
            "\tvalid_confusion_matrix:\n",
            "[[422  71 139]\n",
            " [ 69 468  73]\n",
            " [ 71  40 474]]\n"
          ]
        },
        {
          "name": "stderr",
          "output_type": "stream",
          "text": [
            "  0%|          | 0/57 [00:00<?, ?it/s]/var/folders/3c/71b8pg6d7j5dht_5h_2n4n_c0000gn/T/ipykernel_8755/1114866685.py:147: UserWarning: Implicit dimension choice for log_softmax has been deprecated. Change the call to include dim=X as an argument.\n",
            "  out = torch.nn.functional.log_softmax(out)\n",
            "100%|██████████| 57/57 [00:12<00:00,  4.60it/s]\n",
            "  0%|          | 0/2 [00:00<?, ?it/s]/var/folders/3c/71b8pg6d7j5dht_5h_2n4n_c0000gn/T/ipykernel_8755/1114866685.py:147: UserWarning: Implicit dimension choice for log_softmax has been deprecated. Change the call to include dim=X as an argument.\n",
            "  out = torch.nn.functional.log_softmax(out)\n",
            "100%|██████████| 2/2 [00:00<00:00,  4.48it/s]\n"
          ]
        },
        {
          "name": "stdout",
          "output_type": "stream",
          "text": [
            "\n",
            "epoch 18\n",
            "\ttrain_loss:0.556 valid_loss:0.645\n",
            "\ttrain_acc:79.07% valid_acc:75.97%\n",
            "\ttrain_f1:0.791 valid_f1:0.759\n",
            "\ttrain_confusion_matrix:\n",
            "[[1779  201  430]\n",
            " [ 285 1955  190]\n",
            " [ 285  136 2035]]\n",
            "\tvalid_confusion_matrix:\n",
            "[[434  75 123]\n",
            " [ 66 480  64]\n",
            " [ 69  42 474]]\n"
          ]
        },
        {
          "name": "stderr",
          "output_type": "stream",
          "text": [
            "  0%|          | 0/57 [00:00<?, ?it/s]/var/folders/3c/71b8pg6d7j5dht_5h_2n4n_c0000gn/T/ipykernel_8755/1114866685.py:147: UserWarning: Implicit dimension choice for log_softmax has been deprecated. Change the call to include dim=X as an argument.\n",
            "  out = torch.nn.functional.log_softmax(out)\n",
            "100%|██████████| 57/57 [00:12<00:00,  4.63it/s]\n",
            "  0%|          | 0/2 [00:00<?, ?it/s]/var/folders/3c/71b8pg6d7j5dht_5h_2n4n_c0000gn/T/ipykernel_8755/1114866685.py:147: UserWarning: Implicit dimension choice for log_softmax has been deprecated. Change the call to include dim=X as an argument.\n",
            "  out = torch.nn.functional.log_softmax(out)\n",
            "100%|██████████| 2/2 [00:00<00:00,  4.52it/s]\n"
          ]
        },
        {
          "name": "stdout",
          "output_type": "stream",
          "text": [
            "\n",
            "epoch 19\n",
            "\ttrain_loss:0.537 valid_loss:0.658\n",
            "\ttrain_acc:79.67% valid_acc:74.55%\n",
            "\ttrain_f1:0.797 valid_f1:0.744\n",
            "\ttrain_confusion_matrix:\n",
            "[[1788  186  432]\n",
            " [ 263 1969  201]\n",
            " [ 257  144 2056]]\n",
            "\tvalid_confusion_matrix:\n",
            "[[409 107 116]\n",
            " [ 59 494  57]\n",
            " [ 75  51 459]]\n",
            "Loading saved model from: model_task2.bin\n"
          ]
        },
        {
          "name": "stderr",
          "output_type": "stream",
          "text": [
            "  0%|          | 0/2 [00:00<?, ?it/s]/var/folders/3c/71b8pg6d7j5dht_5h_2n4n_c0000gn/T/ipykernel_8755/1114866685.py:147: UserWarning: Implicit dimension choice for log_softmax has been deprecated. Change the call to include dim=X as an argument.\n",
            "  out = torch.nn.functional.log_softmax(out)\n",
            "100%|██████████| 2/2 [00:00<00:00,  4.44it/s]\n"
          ]
        },
        {
          "name": "stdout",
          "output_type": "stream",
          "text": [
            "              precision    recall  f1-score   support\n",
            "\n",
            "     Neutral       0.75      0.69      0.72       632\n",
            "    Positive       0.80      0.79      0.79       610\n",
            "    Negative       0.72      0.80      0.75       585\n",
            "\n",
            "    accuracy                           0.76      1827\n",
            "   macro avg       0.76      0.76      0.76      1827\n",
            "weighted avg       0.76      0.76      0.75      1827\n",
            "\n",
            "\n",
            "******************************************************************************************\n",
            "Alpha Size: 0.6\n",
            "Window Size: 8\n",
            "******************************************************************************************\n",
            "\n",
            "train samples:7305\n",
            "valid samples:1827\n"
          ]
        },
        {
          "name": "stderr",
          "output_type": "stream",
          "text": [
            "  0%|          | 0/57 [00:00<?, ?it/s]/var/folders/3c/71b8pg6d7j5dht_5h_2n4n_c0000gn/T/ipykernel_8755/1114866685.py:147: UserWarning: Implicit dimension choice for log_softmax has been deprecated. Change the call to include dim=X as an argument.\n",
            "  out = torch.nn.functional.log_softmax(out)\n",
            "100%|██████████| 57/57 [00:13<00:00,  4.16it/s]\n",
            "  0%|          | 0/2 [00:00<?, ?it/s]/var/folders/3c/71b8pg6d7j5dht_5h_2n4n_c0000gn/T/ipykernel_8755/1114866685.py:147: UserWarning: Implicit dimension choice for log_softmax has been deprecated. Change the call to include dim=X as an argument.\n",
            "  out = torch.nn.functional.log_softmax(out)\n",
            "100%|██████████| 2/2 [00:00<00:00,  3.80it/s]\n"
          ]
        },
        {
          "name": "stdout",
          "output_type": "stream",
          "text": [
            "\n",
            "epoch 0\n",
            "\ttrain_loss:1.086 valid_loss:1.073\n",
            "\ttrain_acc:45.97% valid_acc:54.02%\n",
            "\ttrain_f1:0.452 valid_f1:0.540\n",
            "\ttrain_confusion_matrix:\n",
            "[[1365  619  453]\n",
            " [ 812 1286  343]\n",
            " [1118  597  703]]\n",
            "\tvalid_confusion_matrix:\n",
            "[[326 109 167]\n",
            " [154 351  96]\n",
            " [180 134 310]]\n"
          ]
        },
        {
          "name": "stderr",
          "output_type": "stream",
          "text": [
            "  0%|          | 0/57 [00:00<?, ?it/s]/var/folders/3c/71b8pg6d7j5dht_5h_2n4n_c0000gn/T/ipykernel_8755/1114866685.py:147: UserWarning: Implicit dimension choice for log_softmax has been deprecated. Change the call to include dim=X as an argument.\n",
            "  out = torch.nn.functional.log_softmax(out)\n",
            "100%|██████████| 57/57 [00:13<00:00,  4.20it/s]\n",
            "  0%|          | 0/2 [00:00<?, ?it/s]/var/folders/3c/71b8pg6d7j5dht_5h_2n4n_c0000gn/T/ipykernel_8755/1114866685.py:147: UserWarning: Implicit dimension choice for log_softmax has been deprecated. Change the call to include dim=X as an argument.\n",
            "  out = torch.nn.functional.log_softmax(out)\n",
            "100%|██████████| 2/2 [00:00<00:00,  3.92it/s]\n"
          ]
        },
        {
          "name": "stdout",
          "output_type": "stream",
          "text": [
            "\n",
            "epoch 1\n",
            "\ttrain_loss:1.042 valid_loss:0.992\n",
            "\ttrain_acc:54.91% valid_acc:56.70%\n",
            "\ttrain_f1:0.549 valid_f1:0.562\n",
            "\ttrain_confusion_matrix:\n",
            "[[1197  497  744]\n",
            " [ 576 1436  428]\n",
            " [ 632  413 1373]]\n",
            "\tvalid_confusion_matrix:\n",
            "[[247 108 247]\n",
            " [117 371 113]\n",
            " [106 100 418]]\n"
          ]
        },
        {
          "name": "stderr",
          "output_type": "stream",
          "text": [
            "  0%|          | 0/57 [00:00<?, ?it/s]/var/folders/3c/71b8pg6d7j5dht_5h_2n4n_c0000gn/T/ipykernel_8755/1114866685.py:147: UserWarning: Implicit dimension choice for log_softmax has been deprecated. Change the call to include dim=X as an argument.\n",
            "  out = torch.nn.functional.log_softmax(out)\n",
            "100%|██████████| 57/57 [00:13<00:00,  4.18it/s]\n",
            "  0%|          | 0/2 [00:00<?, ?it/s]/var/folders/3c/71b8pg6d7j5dht_5h_2n4n_c0000gn/T/ipykernel_8755/1114866685.py:147: UserWarning: Implicit dimension choice for log_softmax has been deprecated. Change the call to include dim=X as an argument.\n",
            "  out = torch.nn.functional.log_softmax(out)\n",
            "100%|██████████| 2/2 [00:00<00:00,  4.08it/s]\n"
          ]
        },
        {
          "name": "stdout",
          "output_type": "stream",
          "text": [
            "\n",
            "epoch 2\n",
            "\ttrain_loss:0.923 valid_loss:0.900\n",
            "\ttrain_acc:58.17% valid_acc:59.17%\n",
            "\ttrain_f1:0.569 valid_f1:0.582\n",
            "\ttrain_confusion_matrix:\n",
            "[[ 874  661  902]\n",
            " [ 284 1847  310]\n",
            " [ 342  553 1523]]\n",
            "\tvalid_confusion_matrix:\n",
            "[[255 185 162]\n",
            " [ 74 481  46]\n",
            " [127 152 345]]\n"
          ]
        },
        {
          "name": "stderr",
          "output_type": "stream",
          "text": [
            "  0%|          | 0/57 [00:00<?, ?it/s]/var/folders/3c/71b8pg6d7j5dht_5h_2n4n_c0000gn/T/ipykernel_8755/1114866685.py:147: UserWarning: Implicit dimension choice for log_softmax has been deprecated. Change the call to include dim=X as an argument.\n",
            "  out = torch.nn.functional.log_softmax(out)\n",
            "100%|██████████| 57/57 [00:13<00:00,  4.29it/s]\n",
            "  0%|          | 0/2 [00:00<?, ?it/s]/var/folders/3c/71b8pg6d7j5dht_5h_2n4n_c0000gn/T/ipykernel_8755/1114866685.py:147: UserWarning: Implicit dimension choice for log_softmax has been deprecated. Change the call to include dim=X as an argument.\n",
            "  out = torch.nn.functional.log_softmax(out)\n",
            "100%|██████████| 2/2 [00:00<00:00,  4.02it/s]\n"
          ]
        },
        {
          "name": "stdout",
          "output_type": "stream",
          "text": [
            "\n",
            "epoch 3\n",
            "\ttrain_loss:0.848 valid_loss:0.843\n",
            "\ttrain_acc:62.73% valid_acc:63.71%\n",
            "\ttrain_f1:0.624 valid_f1:0.638\n",
            "\ttrain_confusion_matrix:\n",
            "[[1205  492  742]\n",
            " [ 410 1834  196]\n",
            " [ 511  368 1538]]\n",
            "\tvalid_confusion_matrix:\n",
            "[[339  92 171]\n",
            " [132 417  52]\n",
            " [139  77 408]]\n"
          ]
        },
        {
          "name": "stderr",
          "output_type": "stream",
          "text": [
            "  0%|          | 0/57 [00:00<?, ?it/s]/var/folders/3c/71b8pg6d7j5dht_5h_2n4n_c0000gn/T/ipykernel_8755/1114866685.py:147: UserWarning: Implicit dimension choice for log_softmax has been deprecated. Change the call to include dim=X as an argument.\n",
            "  out = torch.nn.functional.log_softmax(out)\n",
            "100%|██████████| 57/57 [00:13<00:00,  4.25it/s]\n",
            "  0%|          | 0/2 [00:00<?, ?it/s]/var/folders/3c/71b8pg6d7j5dht_5h_2n4n_c0000gn/T/ipykernel_8755/1114866685.py:147: UserWarning: Implicit dimension choice for log_softmax has been deprecated. Change the call to include dim=X as an argument.\n",
            "  out = torch.nn.functional.log_softmax(out)\n",
            "100%|██████████| 2/2 [00:00<00:00,  4.06it/s]\n"
          ]
        },
        {
          "name": "stdout",
          "output_type": "stream",
          "text": [
            "\n",
            "epoch 4\n",
            "\ttrain_loss:0.794 valid_loss:0.812\n",
            "\ttrain_acc:65.41% valid_acc:64.31%\n",
            "\ttrain_f1:0.652 valid_f1:0.644\n",
            "\ttrain_confusion_matrix:\n",
            "[[1285  402  752]\n",
            " [ 386 1838  217]\n",
            " [ 493  274 1649]]\n",
            "\tvalid_confusion_matrix:\n",
            "[[361  80 161]\n",
            " [127 420  54]\n",
            " [151  79 394]]\n"
          ]
        },
        {
          "name": "stderr",
          "output_type": "stream",
          "text": [
            "  0%|          | 0/57 [00:00<?, ?it/s]/var/folders/3c/71b8pg6d7j5dht_5h_2n4n_c0000gn/T/ipykernel_8755/1114866685.py:147: UserWarning: Implicit dimension choice for log_softmax has been deprecated. Change the call to include dim=X as an argument.\n",
            "  out = torch.nn.functional.log_softmax(out)\n",
            "100%|██████████| 57/57 [00:13<00:00,  4.26it/s]\n",
            "  0%|          | 0/2 [00:00<?, ?it/s]/var/folders/3c/71b8pg6d7j5dht_5h_2n4n_c0000gn/T/ipykernel_8755/1114866685.py:147: UserWarning: Implicit dimension choice for log_softmax has been deprecated. Change the call to include dim=X as an argument.\n",
            "  out = torch.nn.functional.log_softmax(out)\n",
            "100%|██████████| 2/2 [00:00<00:00,  4.08it/s]\n"
          ]
        },
        {
          "name": "stdout",
          "output_type": "stream",
          "text": [
            "\n",
            "epoch 5\n",
            "\ttrain_loss:0.762 valid_loss:0.797\n",
            "\ttrain_acc:66.52% valid_acc:65.68%\n",
            "\ttrain_f1:0.664 valid_f1:0.656\n",
            "\ttrain_confusion_matrix:\n",
            "[[1377  370  691]\n",
            " [ 389 1836  216]\n",
            " [ 519  258 1640]]\n",
            "\tvalid_confusion_matrix:\n",
            "[[323  62 217]\n",
            " [112 402  87]\n",
            " [ 96  53 475]]\n"
          ]
        },
        {
          "name": "stderr",
          "output_type": "stream",
          "text": [
            "  0%|          | 0/57 [00:00<?, ?it/s]/var/folders/3c/71b8pg6d7j5dht_5h_2n4n_c0000gn/T/ipykernel_8755/1114866685.py:147: UserWarning: Implicit dimension choice for log_softmax has been deprecated. Change the call to include dim=X as an argument.\n",
            "  out = torch.nn.functional.log_softmax(out)\n",
            "100%|██████████| 57/57 [00:13<00:00,  4.20it/s]\n",
            "  0%|          | 0/2 [00:00<?, ?it/s]/var/folders/3c/71b8pg6d7j5dht_5h_2n4n_c0000gn/T/ipykernel_8755/1114866685.py:147: UserWarning: Implicit dimension choice for log_softmax has been deprecated. Change the call to include dim=X as an argument.\n",
            "  out = torch.nn.functional.log_softmax(out)\n",
            "100%|██████████| 2/2 [00:00<00:00,  3.90it/s]\n"
          ]
        },
        {
          "name": "stdout",
          "output_type": "stream",
          "text": [
            "\n",
            "epoch 6\n",
            "\ttrain_loss:0.735 valid_loss:0.773\n",
            "\ttrain_acc:68.11% valid_acc:65.68%\n",
            "\ttrain_f1:0.680 valid_f1:0.652\n",
            "\ttrain_confusion_matrix:\n",
            "[[1404  361  674]\n",
            " [ 384 1826  232]\n",
            " [ 436  240 1739]]\n",
            "\tvalid_confusion_matrix:\n",
            "[[300 105 197]\n",
            " [ 85 450  66]\n",
            " [ 84  90 450]]\n"
          ]
        },
        {
          "name": "stderr",
          "output_type": "stream",
          "text": [
            "  0%|          | 0/57 [00:00<?, ?it/s]/var/folders/3c/71b8pg6d7j5dht_5h_2n4n_c0000gn/T/ipykernel_8755/1114866685.py:147: UserWarning: Implicit dimension choice for log_softmax has been deprecated. Change the call to include dim=X as an argument.\n",
            "  out = torch.nn.functional.log_softmax(out)\n",
            "100%|██████████| 57/57 [00:13<00:00,  4.25it/s]\n",
            "  0%|          | 0/2 [00:00<?, ?it/s]/var/folders/3c/71b8pg6d7j5dht_5h_2n4n_c0000gn/T/ipykernel_8755/1114866685.py:147: UserWarning: Implicit dimension choice for log_softmax has been deprecated. Change the call to include dim=X as an argument.\n",
            "  out = torch.nn.functional.log_softmax(out)\n",
            "100%|██████████| 2/2 [00:00<00:00,  4.06it/s]\n"
          ]
        },
        {
          "name": "stdout",
          "output_type": "stream",
          "text": [
            "\n",
            "epoch 7\n",
            "\ttrain_loss:0.710 valid_loss:0.760\n",
            "\ttrain_acc:69.41% valid_acc:67.10%\n",
            "\ttrain_f1:0.693 valid_f1:0.664\n",
            "\ttrain_confusion_matrix:\n",
            "[[1458  362  618]\n",
            " [ 365 1864  213]\n",
            " [ 436  238 1742]]\n",
            "\tvalid_confusion_matrix:\n",
            "[[286 101 215]\n",
            " [ 70 448  83]\n",
            " [ 58  74 492]]\n"
          ]
        },
        {
          "name": "stderr",
          "output_type": "stream",
          "text": [
            "  0%|          | 0/57 [00:00<?, ?it/s]/var/folders/3c/71b8pg6d7j5dht_5h_2n4n_c0000gn/T/ipykernel_8755/1114866685.py:147: UserWarning: Implicit dimension choice for log_softmax has been deprecated. Change the call to include dim=X as an argument.\n",
            "  out = torch.nn.functional.log_softmax(out)\n",
            "100%|██████████| 57/57 [00:13<00:00,  4.29it/s]\n",
            "  0%|          | 0/2 [00:00<?, ?it/s]/var/folders/3c/71b8pg6d7j5dht_5h_2n4n_c0000gn/T/ipykernel_8755/1114866685.py:147: UserWarning: Implicit dimension choice for log_softmax has been deprecated. Change the call to include dim=X as an argument.\n",
            "  out = torch.nn.functional.log_softmax(out)\n",
            "100%|██████████| 2/2 [00:00<00:00,  4.09it/s]\n"
          ]
        },
        {
          "name": "stdout",
          "output_type": "stream",
          "text": [
            "\n",
            "epoch 8\n",
            "\ttrain_loss:0.689 valid_loss:0.736\n",
            "\ttrain_acc:70.46% valid_acc:67.98%\n",
            "\ttrain_f1:0.704 valid_f1:0.677\n",
            "\ttrain_confusion_matrix:\n",
            "[[1504  321  613]\n",
            " [ 368 1863  210]\n",
            " [ 402  241 1774]]\n",
            "\tvalid_confusion_matrix:\n",
            "[[336  94 172]\n",
            " [ 85 447  69]\n",
            " [ 87  78 459]]\n"
          ]
        },
        {
          "name": "stderr",
          "output_type": "stream",
          "text": [
            "  0%|          | 0/57 [00:00<?, ?it/s]/var/folders/3c/71b8pg6d7j5dht_5h_2n4n_c0000gn/T/ipykernel_8755/1114866685.py:147: UserWarning: Implicit dimension choice for log_softmax has been deprecated. Change the call to include dim=X as an argument.\n",
            "  out = torch.nn.functional.log_softmax(out)\n",
            "100%|██████████| 57/57 [00:13<00:00,  4.24it/s]\n",
            "  0%|          | 0/2 [00:00<?, ?it/s]/var/folders/3c/71b8pg6d7j5dht_5h_2n4n_c0000gn/T/ipykernel_8755/1114866685.py:147: UserWarning: Implicit dimension choice for log_softmax has been deprecated. Change the call to include dim=X as an argument.\n",
            "  out = torch.nn.functional.log_softmax(out)\n",
            "100%|██████████| 2/2 [00:00<00:00,  4.04it/s]\n"
          ]
        },
        {
          "name": "stdout",
          "output_type": "stream",
          "text": [
            "\n",
            "epoch 9\n",
            "\ttrain_loss:0.667 valid_loss:0.731\n",
            "\ttrain_acc:72.26% valid_acc:68.97%\n",
            "\ttrain_f1:0.722 valid_f1:0.687\n",
            "\ttrain_confusion_matrix:\n",
            "[[1562  320  554]\n",
            " [ 341 1901  200]\n",
            " [ 380  229 1809]]\n",
            "\tvalid_confusion_matrix:\n",
            "[[339  75 188]\n",
            " [ 89 437  75]\n",
            " [ 77  63 484]]\n"
          ]
        },
        {
          "name": "stderr",
          "output_type": "stream",
          "text": [
            "  0%|          | 0/57 [00:00<?, ?it/s]/var/folders/3c/71b8pg6d7j5dht_5h_2n4n_c0000gn/T/ipykernel_8755/1114866685.py:147: UserWarning: Implicit dimension choice for log_softmax has been deprecated. Change the call to include dim=X as an argument.\n",
            "  out = torch.nn.functional.log_softmax(out)\n",
            "100%|██████████| 57/57 [00:13<00:00,  4.23it/s]\n",
            "  0%|          | 0/2 [00:00<?, ?it/s]/var/folders/3c/71b8pg6d7j5dht_5h_2n4n_c0000gn/T/ipykernel_8755/1114866685.py:147: UserWarning: Implicit dimension choice for log_softmax has been deprecated. Change the call to include dim=X as an argument.\n",
            "  out = torch.nn.functional.log_softmax(out)\n",
            "100%|██████████| 2/2 [00:00<00:00,  3.76it/s]\n"
          ]
        },
        {
          "name": "stdout",
          "output_type": "stream",
          "text": [
            "\n",
            "epoch 10\n",
            "\ttrain_loss:0.643 valid_loss:0.707\n",
            "\ttrain_acc:73.60% valid_acc:70.01%\n",
            "\ttrain_f1:0.736 valid_f1:0.700\n",
            "\ttrain_confusion_matrix:\n",
            "[[1615  302  523]\n",
            " [ 338 1901  200]\n",
            " [ 353  210 1854]]\n",
            "\tvalid_confusion_matrix:\n",
            "[[376  77 149]\n",
            " [ 94 443  64]\n",
            " [ 95  69 460]]\n"
          ]
        },
        {
          "name": "stderr",
          "output_type": "stream",
          "text": [
            "  0%|          | 0/57 [00:00<?, ?it/s]/var/folders/3c/71b8pg6d7j5dht_5h_2n4n_c0000gn/T/ipykernel_8755/1114866685.py:147: UserWarning: Implicit dimension choice for log_softmax has been deprecated. Change the call to include dim=X as an argument.\n",
            "  out = torch.nn.functional.log_softmax(out)\n",
            "100%|██████████| 57/57 [00:13<00:00,  4.21it/s]\n",
            "  0%|          | 0/2 [00:00<?, ?it/s]/var/folders/3c/71b8pg6d7j5dht_5h_2n4n_c0000gn/T/ipykernel_8755/1114866685.py:147: UserWarning: Implicit dimension choice for log_softmax has been deprecated. Change the call to include dim=X as an argument.\n",
            "  out = torch.nn.functional.log_softmax(out)\n",
            "100%|██████████| 2/2 [00:00<00:00,  4.05it/s]\n"
          ]
        },
        {
          "name": "stdout",
          "output_type": "stream",
          "text": [
            "\n",
            "epoch 11\n",
            "\ttrain_loss:0.630 valid_loss:0.700\n",
            "\ttrain_acc:74.58% valid_acc:71.37%\n",
            "\ttrain_f1:0.745 valid_f1:0.713\n",
            "\ttrain_confusion_matrix:\n",
            "[[1663  288  489]\n",
            " [ 327 1902  210]\n",
            " [ 345  196 1876]]\n",
            "\tvalid_confusion_matrix:\n",
            "[[389  80 133]\n",
            " [ 91 452  58]\n",
            " [ 89  72 463]]\n"
          ]
        },
        {
          "name": "stderr",
          "output_type": "stream",
          "text": [
            "  0%|          | 0/57 [00:00<?, ?it/s]/var/folders/3c/71b8pg6d7j5dht_5h_2n4n_c0000gn/T/ipykernel_8755/1114866685.py:147: UserWarning: Implicit dimension choice for log_softmax has been deprecated. Change the call to include dim=X as an argument.\n",
            "  out = torch.nn.functional.log_softmax(out)\n",
            "100%|██████████| 57/57 [00:13<00:00,  4.24it/s]\n",
            "  0%|          | 0/2 [00:00<?, ?it/s]/var/folders/3c/71b8pg6d7j5dht_5h_2n4n_c0000gn/T/ipykernel_8755/1114866685.py:147: UserWarning: Implicit dimension choice for log_softmax has been deprecated. Change the call to include dim=X as an argument.\n",
            "  out = torch.nn.functional.log_softmax(out)\n",
            "100%|██████████| 2/2 [00:00<00:00,  4.04it/s]\n"
          ]
        },
        {
          "name": "stdout",
          "output_type": "stream",
          "text": [
            "\n",
            "epoch 12\n",
            "\ttrain_loss:0.611 valid_loss:0.686\n",
            "\ttrain_acc:75.75% valid_acc:72.74%\n",
            "\ttrain_f1:0.757 valid_f1:0.727\n",
            "\ttrain_confusion_matrix:\n",
            "[[1711  273  457]\n",
            " [ 321 1922  197]\n",
            " [ 328  193 1894]]\n",
            "\tvalid_confusion_matrix:\n",
            "[[413  60 129]\n",
            " [102 433  66]\n",
            " [ 78  63 483]]\n"
          ]
        },
        {
          "name": "stderr",
          "output_type": "stream",
          "text": [
            "  0%|          | 0/57 [00:00<?, ?it/s]/var/folders/3c/71b8pg6d7j5dht_5h_2n4n_c0000gn/T/ipykernel_8755/1114866685.py:147: UserWarning: Implicit dimension choice for log_softmax has been deprecated. Change the call to include dim=X as an argument.\n",
            "  out = torch.nn.functional.log_softmax(out)\n",
            "100%|██████████| 57/57 [00:13<00:00,  4.20it/s]\n",
            "  0%|          | 0/2 [00:00<?, ?it/s]/var/folders/3c/71b8pg6d7j5dht_5h_2n4n_c0000gn/T/ipykernel_8755/1114866685.py:147: UserWarning: Implicit dimension choice for log_softmax has been deprecated. Change the call to include dim=X as an argument.\n",
            "  out = torch.nn.functional.log_softmax(out)\n",
            "100%|██████████| 2/2 [00:00<00:00,  4.00it/s]\n"
          ]
        },
        {
          "name": "stdout",
          "output_type": "stream",
          "text": [
            "\n",
            "epoch 13\n",
            "\ttrain_loss:0.596 valid_loss:0.672\n",
            "\ttrain_acc:76.37% valid_acc:73.34%\n",
            "\ttrain_f1:0.764 valid_f1:0.733\n",
            "\ttrain_confusion_matrix:\n",
            "[[1748  259  432]\n",
            " [ 314 1930  194]\n",
            " [ 332  193 1894]]\n",
            "\tvalid_confusion_matrix:\n",
            "[[414  66 122]\n",
            " [ 96 442  63]\n",
            " [ 75  65 484]]\n"
          ]
        },
        {
          "name": "stderr",
          "output_type": "stream",
          "text": [
            "  0%|          | 0/57 [00:00<?, ?it/s]/var/folders/3c/71b8pg6d7j5dht_5h_2n4n_c0000gn/T/ipykernel_8755/1114866685.py:147: UserWarning: Implicit dimension choice for log_softmax has been deprecated. Change the call to include dim=X as an argument.\n",
            "  out = torch.nn.functional.log_softmax(out)\n",
            "100%|██████████| 57/57 [00:13<00:00,  4.22it/s]\n",
            "  0%|          | 0/2 [00:00<?, ?it/s]/var/folders/3c/71b8pg6d7j5dht_5h_2n4n_c0000gn/T/ipykernel_8755/1114866685.py:147: UserWarning: Implicit dimension choice for log_softmax has been deprecated. Change the call to include dim=X as an argument.\n",
            "  out = torch.nn.functional.log_softmax(out)\n",
            "100%|██████████| 2/2 [00:00<00:00,  4.12it/s]\n"
          ]
        },
        {
          "name": "stdout",
          "output_type": "stream",
          "text": [
            "\n",
            "epoch 14\n",
            "\ttrain_loss:0.578 valid_loss:0.676\n",
            "\ttrain_acc:77.44% valid_acc:71.26%\n",
            "\ttrain_f1:0.775 valid_f1:0.713\n",
            "\ttrain_confusion_matrix:\n",
            "[[1794  242  403]\n",
            " [ 320 1927  191]\n",
            " [ 317  173 1929]]\n",
            "\tvalid_confusion_matrix:\n",
            "[[415  81 106]\n",
            " [ 94 462  45]\n",
            " [118  81 425]]\n"
          ]
        },
        {
          "name": "stderr",
          "output_type": "stream",
          "text": [
            "  0%|          | 0/57 [00:00<?, ?it/s]/var/folders/3c/71b8pg6d7j5dht_5h_2n4n_c0000gn/T/ipykernel_8755/1114866685.py:147: UserWarning: Implicit dimension choice for log_softmax has been deprecated. Change the call to include dim=X as an argument.\n",
            "  out = torch.nn.functional.log_softmax(out)\n",
            "100%|██████████| 57/57 [00:13<00:00,  4.19it/s]\n",
            "  0%|          | 0/2 [00:00<?, ?it/s]/var/folders/3c/71b8pg6d7j5dht_5h_2n4n_c0000gn/T/ipykernel_8755/1114866685.py:147: UserWarning: Implicit dimension choice for log_softmax has been deprecated. Change the call to include dim=X as an argument.\n",
            "  out = torch.nn.functional.log_softmax(out)\n",
            "100%|██████████| 2/2 [00:00<00:00,  4.09it/s]\n"
          ]
        },
        {
          "name": "stdout",
          "output_type": "stream",
          "text": [
            "\n",
            "epoch 15\n",
            "\ttrain_loss:0.562 valid_loss:0.654\n",
            "\ttrain_acc:78.17% valid_acc:73.84%\n",
            "\ttrain_f1:0.782 valid_f1:0.739\n",
            "\ttrain_confusion_matrix:\n",
            "[[1810  241  386]\n",
            " [ 287 1965  190]\n",
            " [ 310  179 1928]]\n",
            "\tvalid_confusion_matrix:\n",
            "[[436  70  96]\n",
            " [ 97 443  61]\n",
            " [ 92  62 470]]\n"
          ]
        },
        {
          "name": "stderr",
          "output_type": "stream",
          "text": [
            "  0%|          | 0/57 [00:00<?, ?it/s]/var/folders/3c/71b8pg6d7j5dht_5h_2n4n_c0000gn/T/ipykernel_8755/1114866685.py:147: UserWarning: Implicit dimension choice for log_softmax has been deprecated. Change the call to include dim=X as an argument.\n",
            "  out = torch.nn.functional.log_softmax(out)\n",
            "100%|██████████| 57/57 [00:13<00:00,  4.19it/s]\n",
            "  0%|          | 0/2 [00:00<?, ?it/s]/var/folders/3c/71b8pg6d7j5dht_5h_2n4n_c0000gn/T/ipykernel_8755/1114866685.py:147: UserWarning: Implicit dimension choice for log_softmax has been deprecated. Change the call to include dim=X as an argument.\n",
            "  out = torch.nn.functional.log_softmax(out)\n",
            "100%|██████████| 2/2 [00:00<00:00,  4.07it/s]\n"
          ]
        },
        {
          "name": "stdout",
          "output_type": "stream",
          "text": [
            "\n",
            "epoch 16\n",
            "\ttrain_loss:0.548 valid_loss:0.645\n",
            "\ttrain_acc:78.77% valid_acc:74.71%\n",
            "\ttrain_f1:0.788 valid_f1:0.747\n",
            "\ttrain_confusion_matrix:\n",
            "[[1822  232  385]\n",
            " [ 294 1953  193]\n",
            " [ 272  173 1972]]\n",
            "\tvalid_confusion_matrix:\n",
            "[[448  63  91]\n",
            " [ 94 453  54]\n",
            " [ 95  65 464]]\n"
          ]
        },
        {
          "name": "stderr",
          "output_type": "stream",
          "text": [
            "  0%|          | 0/57 [00:00<?, ?it/s]/var/folders/3c/71b8pg6d7j5dht_5h_2n4n_c0000gn/T/ipykernel_8755/1114866685.py:147: UserWarning: Implicit dimension choice for log_softmax has been deprecated. Change the call to include dim=X as an argument.\n",
            "  out = torch.nn.functional.log_softmax(out)\n",
            "100%|██████████| 57/57 [00:13<00:00,  4.20it/s]\n",
            "  0%|          | 0/2 [00:00<?, ?it/s]/var/folders/3c/71b8pg6d7j5dht_5h_2n4n_c0000gn/T/ipykernel_8755/1114866685.py:147: UserWarning: Implicit dimension choice for log_softmax has been deprecated. Change the call to include dim=X as an argument.\n",
            "  out = torch.nn.functional.log_softmax(out)\n",
            "100%|██████████| 2/2 [00:00<00:00,  4.03it/s]\n"
          ]
        },
        {
          "name": "stdout",
          "output_type": "stream",
          "text": [
            "\n",
            "epoch 17\n",
            "\ttrain_loss:0.532 valid_loss:0.646\n",
            "\ttrain_acc:79.77% valid_acc:76.25%\n",
            "\ttrain_f1:0.798 valid_f1:0.762\n",
            "\ttrain_confusion_matrix:\n",
            "[[1866  230  343]\n",
            " [ 278 1977  184]\n",
            " [ 273  168 1977]]\n",
            "\tvalid_confusion_matrix:\n",
            "[[431  46 125]\n",
            " [ 84 435  82]\n",
            " [ 49  48 527]]\n"
          ]
        },
        {
          "name": "stderr",
          "output_type": "stream",
          "text": [
            "  0%|          | 0/57 [00:00<?, ?it/s]/var/folders/3c/71b8pg6d7j5dht_5h_2n4n_c0000gn/T/ipykernel_8755/1114866685.py:147: UserWarning: Implicit dimension choice for log_softmax has been deprecated. Change the call to include dim=X as an argument.\n",
            "  out = torch.nn.functional.log_softmax(out)\n",
            "100%|██████████| 57/57 [00:13<00:00,  4.18it/s]\n",
            "  0%|          | 0/2 [00:00<?, ?it/s]/var/folders/3c/71b8pg6d7j5dht_5h_2n4n_c0000gn/T/ipykernel_8755/1114866685.py:147: UserWarning: Implicit dimension choice for log_softmax has been deprecated. Change the call to include dim=X as an argument.\n",
            "  out = torch.nn.functional.log_softmax(out)\n",
            "100%|██████████| 2/2 [00:00<00:00,  3.73it/s]\n"
          ]
        },
        {
          "name": "stdout",
          "output_type": "stream",
          "text": [
            "\n",
            "epoch 18\n",
            "\ttrain_loss:0.519 valid_loss:0.625\n",
            "\ttrain_acc:80.32% valid_acc:76.35%\n",
            "\ttrain_f1:0.803 valid_f1:0.763\n",
            "\ttrain_confusion_matrix:\n",
            "[[1882  234  324]\n",
            " [ 275 1984  180]\n",
            " [ 256  167 1994]]\n",
            "\tvalid_confusion_matrix:\n",
            "[[437  55 110]\n",
            " [ 81 450  70]\n",
            " [ 54  62 508]]\n"
          ]
        },
        {
          "name": "stderr",
          "output_type": "stream",
          "text": [
            "  0%|          | 0/57 [00:00<?, ?it/s]/var/folders/3c/71b8pg6d7j5dht_5h_2n4n_c0000gn/T/ipykernel_8755/1114866685.py:147: UserWarning: Implicit dimension choice for log_softmax has been deprecated. Change the call to include dim=X as an argument.\n",
            "  out = torch.nn.functional.log_softmax(out)\n",
            "100%|██████████| 57/57 [00:13<00:00,  4.17it/s]\n",
            "  0%|          | 0/2 [00:00<?, ?it/s]/var/folders/3c/71b8pg6d7j5dht_5h_2n4n_c0000gn/T/ipykernel_8755/1114866685.py:147: UserWarning: Implicit dimension choice for log_softmax has been deprecated. Change the call to include dim=X as an argument.\n",
            "  out = torch.nn.functional.log_softmax(out)\n",
            "100%|██████████| 2/2 [00:00<00:00,  4.06it/s]\n"
          ]
        },
        {
          "name": "stdout",
          "output_type": "stream",
          "text": [
            "\n",
            "epoch 19\n",
            "\ttrain_loss:0.521 valid_loss:0.636\n",
            "\ttrain_acc:80.02% valid_acc:74.22%\n",
            "\ttrain_f1:0.800 valid_f1:0.743\n",
            "\ttrain_confusion_matrix:\n",
            "[[1899  222  317]\n",
            " [ 264 1982  195]\n",
            " [ 274  186 1957]]\n",
            "\tvalid_confusion_matrix:\n",
            "[[464  58  80]\n",
            " [ 97 451  53]\n",
            " [116  67 441]]\n",
            "Loading saved model from: model_task2.bin\n"
          ]
        },
        {
          "name": "stderr",
          "output_type": "stream",
          "text": [
            "  0%|          | 0/2 [00:00<?, ?it/s]/var/folders/3c/71b8pg6d7j5dht_5h_2n4n_c0000gn/T/ipykernel_8755/1114866685.py:147: UserWarning: Implicit dimension choice for log_softmax has been deprecated. Change the call to include dim=X as an argument.\n",
            "  out = torch.nn.functional.log_softmax(out)\n",
            "100%|██████████| 2/2 [00:00<00:00,  4.13it/s]\n"
          ]
        },
        {
          "name": "stdout",
          "output_type": "stream",
          "text": [
            "              precision    recall  f1-score   support\n",
            "\n",
            "     Neutral       0.76      0.73      0.74       602\n",
            "    Positive       0.78      0.75      0.76       601\n",
            "    Negative       0.75      0.81      0.78       624\n",
            "\n",
            "    accuracy                           0.76      1827\n",
            "   macro avg       0.76      0.76      0.76      1827\n",
            "weighted avg       0.76      0.76      0.76      1827\n",
            "\n",
            "\n",
            "******************************************************************************************\n",
            "Alpha Size: 0.8\n",
            "Window Size: 2\n",
            "******************************************************************************************\n",
            "\n",
            "train samples:7305\n",
            "valid samples:1827\n"
          ]
        },
        {
          "name": "stderr",
          "output_type": "stream",
          "text": [
            "  0%|          | 0/57 [00:00<?, ?it/s]/var/folders/3c/71b8pg6d7j5dht_5h_2n4n_c0000gn/T/ipykernel_8755/1114866685.py:147: UserWarning: Implicit dimension choice for log_softmax has been deprecated. Change the call to include dim=X as an argument.\n",
            "  out = torch.nn.functional.log_softmax(out)\n",
            "100%|██████████| 57/57 [00:12<00:00,  4.47it/s]\n",
            "  0%|          | 0/2 [00:00<?, ?it/s]/var/folders/3c/71b8pg6d7j5dht_5h_2n4n_c0000gn/T/ipykernel_8755/1114866685.py:147: UserWarning: Implicit dimension choice for log_softmax has been deprecated. Change the call to include dim=X as an argument.\n",
            "  out = torch.nn.functional.log_softmax(out)\n",
            "100%|██████████| 2/2 [00:00<00:00,  4.57it/s]\n"
          ]
        },
        {
          "name": "stdout",
          "output_type": "stream",
          "text": [
            "\n",
            "epoch 0\n",
            "\ttrain_loss:1.090 valid_loss:1.079\n",
            "\ttrain_acc:41.98% valid_acc:48.39%\n",
            "\ttrain_f1:0.390 valid_f1:0.484\n",
            "\ttrain_confusion_matrix:\n",
            "[[ 687 1449  302]\n",
            " [ 383 1831  201]\n",
            " [ 533 1365  545]]\n",
            "\tvalid_confusion_matrix:\n",
            "[[300 139 165]\n",
            " [165 327 134]\n",
            " [214 126 257]]\n"
          ]
        },
        {
          "name": "stderr",
          "output_type": "stream",
          "text": [
            "  0%|          | 0/57 [00:00<?, ?it/s]/var/folders/3c/71b8pg6d7j5dht_5h_2n4n_c0000gn/T/ipykernel_8755/1114866685.py:147: UserWarning: Implicit dimension choice for log_softmax has been deprecated. Change the call to include dim=X as an argument.\n",
            "  out = torch.nn.functional.log_softmax(out)\n",
            "100%|██████████| 57/57 [00:12<00:00,  4.57it/s]\n",
            "  0%|          | 0/2 [00:00<?, ?it/s]/var/folders/3c/71b8pg6d7j5dht_5h_2n4n_c0000gn/T/ipykernel_8755/1114866685.py:147: UserWarning: Implicit dimension choice for log_softmax has been deprecated. Change the call to include dim=X as an argument.\n",
            "  out = torch.nn.functional.log_softmax(out)\n",
            "100%|██████████| 2/2 [00:00<00:00,  4.80it/s]\n"
          ]
        },
        {
          "name": "stdout",
          "output_type": "stream",
          "text": [
            "\n",
            "epoch 1\n",
            "\ttrain_loss:1.055 valid_loss:1.021\n",
            "\ttrain_acc:52.96% valid_acc:52.76%\n",
            "\ttrain_f1:0.530 valid_f1:0.523\n",
            "\ttrain_confusion_matrix:\n",
            "[[1134  506  798]\n",
            " [ 546 1346  522]\n",
            " [ 652  408 1384]]\n",
            "\tvalid_confusion_matrix:\n",
            "[[234 125 245]\n",
            " [124 328 174]\n",
            " [110  85 402]]\n"
          ]
        },
        {
          "name": "stderr",
          "output_type": "stream",
          "text": [
            "  0%|          | 0/57 [00:00<?, ?it/s]/var/folders/3c/71b8pg6d7j5dht_5h_2n4n_c0000gn/T/ipykernel_8755/1114866685.py:147: UserWarning: Implicit dimension choice for log_softmax has been deprecated. Change the call to include dim=X as an argument.\n",
            "  out = torch.nn.functional.log_softmax(out)\n",
            "100%|██████████| 57/57 [00:12<00:00,  4.61it/s]\n",
            "  0%|          | 0/2 [00:00<?, ?it/s]/var/folders/3c/71b8pg6d7j5dht_5h_2n4n_c0000gn/T/ipykernel_8755/1114866685.py:147: UserWarning: Implicit dimension choice for log_softmax has been deprecated. Change the call to include dim=X as an argument.\n",
            "  out = torch.nn.functional.log_softmax(out)\n",
            "100%|██████████| 2/2 [00:00<00:00,  4.88it/s]\n"
          ]
        },
        {
          "name": "stdout",
          "output_type": "stream",
          "text": [
            "\n",
            "epoch 2\n",
            "\ttrain_loss:0.954 valid_loss:0.909\n",
            "\ttrain_acc:56.22% valid_acc:58.51%\n",
            "\ttrain_f1:0.553 valid_f1:0.578\n",
            "\ttrain_confusion_matrix:\n",
            "[[ 902  635  899]\n",
            " [ 363 1695  357]\n",
            " [ 421  519 1505]]\n",
            "\tvalid_confusion_matrix:\n",
            "[[239 129 236]\n",
            " [109 432  85]\n",
            " [ 99 100 398]]\n"
          ]
        },
        {
          "name": "stderr",
          "output_type": "stream",
          "text": [
            "  0%|          | 0/57 [00:00<?, ?it/s]/var/folders/3c/71b8pg6d7j5dht_5h_2n4n_c0000gn/T/ipykernel_8755/1114866685.py:147: UserWarning: Implicit dimension choice for log_softmax has been deprecated. Change the call to include dim=X as an argument.\n",
            "  out = torch.nn.functional.log_softmax(out)\n",
            "100%|██████████| 57/57 [00:12<00:00,  4.62it/s]\n",
            "  0%|          | 0/2 [00:00<?, ?it/s]/var/folders/3c/71b8pg6d7j5dht_5h_2n4n_c0000gn/T/ipykernel_8755/1114866685.py:147: UserWarning: Implicit dimension choice for log_softmax has been deprecated. Change the call to include dim=X as an argument.\n",
            "  out = torch.nn.functional.log_softmax(out)\n",
            "100%|██████████| 2/2 [00:00<00:00,  4.85it/s]\n"
          ]
        },
        {
          "name": "stdout",
          "output_type": "stream",
          "text": [
            "\n",
            "epoch 3\n",
            "\ttrain_loss:0.879 valid_loss:0.868\n",
            "\ttrain_acc:60.29% valid_acc:60.10%\n",
            "\ttrain_f1:0.594 valid_f1:0.594\n",
            "\ttrain_confusion_matrix:\n",
            "[[ 975  543  921]\n",
            " [ 364 1779  275]\n",
            " [ 424  370 1645]]\n",
            "\tvalid_confusion_matrix:\n",
            "[[247 114 243]\n",
            " [111 436  79]\n",
            " [ 97  85 415]]\n"
          ]
        },
        {
          "name": "stderr",
          "output_type": "stream",
          "text": [
            "  0%|          | 0/57 [00:00<?, ?it/s]/var/folders/3c/71b8pg6d7j5dht_5h_2n4n_c0000gn/T/ipykernel_8755/1114866685.py:147: UserWarning: Implicit dimension choice for log_softmax has been deprecated. Change the call to include dim=X as an argument.\n",
            "  out = torch.nn.functional.log_softmax(out)\n",
            "100%|██████████| 57/57 [00:12<00:00,  4.61it/s]\n",
            "  0%|          | 0/2 [00:00<?, ?it/s]/var/folders/3c/71b8pg6d7j5dht_5h_2n4n_c0000gn/T/ipykernel_8755/1114866685.py:147: UserWarning: Implicit dimension choice for log_softmax has been deprecated. Change the call to include dim=X as an argument.\n",
            "  out = torch.nn.functional.log_softmax(out)\n",
            "100%|██████████| 2/2 [00:00<00:00,  4.89it/s]\n"
          ]
        },
        {
          "name": "stdout",
          "output_type": "stream",
          "text": [
            "\n",
            "epoch 4\n",
            "\ttrain_loss:0.838 valid_loss:0.829\n",
            "\ttrain_acc:62.87% valid_acc:63.16%\n",
            "\ttrain_f1:0.625 valid_f1:0.628\n",
            "\ttrain_confusion_matrix:\n",
            "[[1179  466  794]\n",
            " [ 428 1764  222]\n",
            " [ 492  307 1644]]\n",
            "\tvalid_confusion_matrix:\n",
            "[[292 109 203]\n",
            " [113 445  68]\n",
            " [106  74 417]]\n"
          ]
        },
        {
          "name": "stderr",
          "output_type": "stream",
          "text": [
            "  0%|          | 0/57 [00:00<?, ?it/s]/var/folders/3c/71b8pg6d7j5dht_5h_2n4n_c0000gn/T/ipykernel_8755/1114866685.py:147: UserWarning: Implicit dimension choice for log_softmax has been deprecated. Change the call to include dim=X as an argument.\n",
            "  out = torch.nn.functional.log_softmax(out)\n",
            "100%|██████████| 57/57 [00:12<00:00,  4.63it/s]\n",
            "  0%|          | 0/2 [00:00<?, ?it/s]/var/folders/3c/71b8pg6d7j5dht_5h_2n4n_c0000gn/T/ipykernel_8755/1114866685.py:147: UserWarning: Implicit dimension choice for log_softmax has been deprecated. Change the call to include dim=X as an argument.\n",
            "  out = torch.nn.functional.log_softmax(out)\n",
            "100%|██████████| 2/2 [00:00<00:00,  4.95it/s]\n"
          ]
        },
        {
          "name": "stdout",
          "output_type": "stream",
          "text": [
            "\n",
            "epoch 5\n",
            "\ttrain_loss:0.804 valid_loss:0.810\n",
            "\ttrain_acc:64.53% valid_acc:63.49%\n",
            "\ttrain_f1:0.642 valid_f1:0.635\n",
            "\ttrain_confusion_matrix:\n",
            "[[1224  451  762]\n",
            " [ 395 1792  230]\n",
            " [ 455  295 1692]]\n",
            "\tvalid_confusion_matrix:\n",
            "[[323  91 190]\n",
            " [131 418  77]\n",
            " [121  57 419]]\n"
          ]
        },
        {
          "name": "stderr",
          "output_type": "stream",
          "text": [
            "  0%|          | 0/57 [00:00<?, ?it/s]/var/folders/3c/71b8pg6d7j5dht_5h_2n4n_c0000gn/T/ipykernel_8755/1114866685.py:147: UserWarning: Implicit dimension choice for log_softmax has been deprecated. Change the call to include dim=X as an argument.\n",
            "  out = torch.nn.functional.log_softmax(out)\n",
            "100%|██████████| 57/57 [00:12<00:00,  4.65it/s]\n",
            "  0%|          | 0/2 [00:00<?, ?it/s]/var/folders/3c/71b8pg6d7j5dht_5h_2n4n_c0000gn/T/ipykernel_8755/1114866685.py:147: UserWarning: Implicit dimension choice for log_softmax has been deprecated. Change the call to include dim=X as an argument.\n",
            "  out = torch.nn.functional.log_softmax(out)\n",
            "100%|██████████| 2/2 [00:00<00:00,  4.90it/s]\n"
          ]
        },
        {
          "name": "stdout",
          "output_type": "stream",
          "text": [
            "\n",
            "epoch 6\n",
            "\ttrain_loss:0.775 valid_loss:0.783\n",
            "\ttrain_acc:66.30% valid_acc:65.24%\n",
            "\ttrain_f1:0.661 valid_f1:0.647\n",
            "\ttrain_confusion_matrix:\n",
            "[[1319  424  695]\n",
            " [ 381 1811  222]\n",
            " [ 471  266 1707]]\n",
            "\tvalid_confusion_matrix:\n",
            "[[299 120 185]\n",
            " [ 86 477  63]\n",
            " [ 84  97 416]]\n"
          ]
        },
        {
          "name": "stderr",
          "output_type": "stream",
          "text": [
            "  0%|          | 0/57 [00:00<?, ?it/s]/var/folders/3c/71b8pg6d7j5dht_5h_2n4n_c0000gn/T/ipykernel_8755/1114866685.py:147: UserWarning: Implicit dimension choice for log_softmax has been deprecated. Change the call to include dim=X as an argument.\n",
            "  out = torch.nn.functional.log_softmax(out)\n",
            "100%|██████████| 57/57 [00:12<00:00,  4.64it/s]\n",
            "  0%|          | 0/2 [00:00<?, ?it/s]/var/folders/3c/71b8pg6d7j5dht_5h_2n4n_c0000gn/T/ipykernel_8755/1114866685.py:147: UserWarning: Implicit dimension choice for log_softmax has been deprecated. Change the call to include dim=X as an argument.\n",
            "  out = torch.nn.functional.log_softmax(out)\n",
            "100%|██████████| 2/2 [00:00<00:00,  4.94it/s]\n"
          ]
        },
        {
          "name": "stdout",
          "output_type": "stream",
          "text": [
            "\n",
            "epoch 7\n",
            "\ttrain_loss:0.755 valid_loss:0.779\n",
            "\ttrain_acc:67.35% valid_acc:65.08%\n",
            "\ttrain_f1:0.671 valid_f1:0.650\n",
            "\ttrain_confusion_matrix:\n",
            "[[1323  429  686]\n",
            " [ 363 1838  214]\n",
            " [ 408  282 1753]]\n",
            "\tvalid_confusion_matrix:\n",
            "[[337  93 174]\n",
            " [120 429  77]\n",
            " [113  61 423]]\n"
          ]
        },
        {
          "name": "stderr",
          "output_type": "stream",
          "text": [
            "  0%|          | 0/57 [00:00<?, ?it/s]/var/folders/3c/71b8pg6d7j5dht_5h_2n4n_c0000gn/T/ipykernel_8755/1114866685.py:147: UserWarning: Implicit dimension choice for log_softmax has been deprecated. Change the call to include dim=X as an argument.\n",
            "  out = torch.nn.functional.log_softmax(out)\n",
            "100%|██████████| 57/57 [00:12<00:00,  4.73it/s]\n",
            "  0%|          | 0/2 [00:00<?, ?it/s]/var/folders/3c/71b8pg6d7j5dht_5h_2n4n_c0000gn/T/ipykernel_8755/1114866685.py:147: UserWarning: Implicit dimension choice for log_softmax has been deprecated. Change the call to include dim=X as an argument.\n",
            "  out = torch.nn.functional.log_softmax(out)\n",
            "100%|██████████| 2/2 [00:00<00:00,  4.94it/s]\n"
          ]
        },
        {
          "name": "stdout",
          "output_type": "stream",
          "text": [
            "\n",
            "epoch 8\n",
            "\ttrain_loss:0.731 valid_loss:0.764\n",
            "\ttrain_acc:69.00% valid_acc:65.19%\n",
            "\ttrain_f1:0.688 valid_f1:0.652\n",
            "\ttrain_confusion_matrix:\n",
            "[[1408  396  632]\n",
            " [ 363 1846  206]\n",
            " [ 403  262 1780]]\n",
            "\tvalid_confusion_matrix:\n",
            "[[346  94 164]\n",
            " [129 436  61]\n",
            " [118  70 409]]\n"
          ]
        },
        {
          "name": "stderr",
          "output_type": "stream",
          "text": [
            "  0%|          | 0/57 [00:00<?, ?it/s]/var/folders/3c/71b8pg6d7j5dht_5h_2n4n_c0000gn/T/ipykernel_8755/1114866685.py:147: UserWarning: Implicit dimension choice for log_softmax has been deprecated. Change the call to include dim=X as an argument.\n",
            "  out = torch.nn.functional.log_softmax(out)\n",
            "100%|██████████| 57/57 [00:12<00:00,  4.73it/s]\n",
            "  0%|          | 0/2 [00:00<?, ?it/s]/var/folders/3c/71b8pg6d7j5dht_5h_2n4n_c0000gn/T/ipykernel_8755/1114866685.py:147: UserWarning: Implicit dimension choice for log_softmax has been deprecated. Change the call to include dim=X as an argument.\n",
            "  out = torch.nn.functional.log_softmax(out)\n",
            "100%|██████████| 2/2 [00:00<00:00,  4.92it/s]\n"
          ]
        },
        {
          "name": "stdout",
          "output_type": "stream",
          "text": [
            "\n",
            "epoch 9\n",
            "\ttrain_loss:0.719 valid_loss:0.753\n",
            "\ttrain_acc:69.71% valid_acc:66.23%\n",
            "\ttrain_f1:0.695 valid_f1:0.659\n",
            "\ttrain_confusion_matrix:\n",
            "[[1446  379  613]\n",
            " [ 349 1855  209]\n",
            " [ 381  279 1785]]\n",
            "\tvalid_confusion_matrix:\n",
            "[[316 115 173]\n",
            " [ 92 465  69]\n",
            " [ 85  83 429]]\n"
          ]
        },
        {
          "name": "stderr",
          "output_type": "stream",
          "text": [
            "  0%|          | 0/57 [00:00<?, ?it/s]/var/folders/3c/71b8pg6d7j5dht_5h_2n4n_c0000gn/T/ipykernel_8755/1114866685.py:147: UserWarning: Implicit dimension choice for log_softmax has been deprecated. Change the call to include dim=X as an argument.\n",
            "  out = torch.nn.functional.log_softmax(out)\n",
            "100%|██████████| 57/57 [00:12<00:00,  4.70it/s]\n",
            "  0%|          | 0/2 [00:00<?, ?it/s]/var/folders/3c/71b8pg6d7j5dht_5h_2n4n_c0000gn/T/ipykernel_8755/1114866685.py:147: UserWarning: Implicit dimension choice for log_softmax has been deprecated. Change the call to include dim=X as an argument.\n",
            "  out = torch.nn.functional.log_softmax(out)\n",
            "100%|██████████| 2/2 [00:00<00:00,  4.91it/s]\n"
          ]
        },
        {
          "name": "stdout",
          "output_type": "stream",
          "text": [
            "\n",
            "epoch 10\n",
            "\ttrain_loss:0.696 valid_loss:0.746\n",
            "\ttrain_acc:70.87% valid_acc:66.39%\n",
            "\ttrain_f1:0.707 valid_f1:0.662\n",
            "\ttrain_confusion_matrix:\n",
            "[[1450  379  609]\n",
            " [ 341 1874  199]\n",
            " [ 330  267 1847]]\n",
            "\tvalid_confusion_matrix:\n",
            "[[325  91 188]\n",
            " [110 448  68]\n",
            " [ 90  67 440]]\n"
          ]
        },
        {
          "name": "stderr",
          "output_type": "stream",
          "text": [
            "  0%|          | 0/57 [00:00<?, ?it/s]/var/folders/3c/71b8pg6d7j5dht_5h_2n4n_c0000gn/T/ipykernel_8755/1114866685.py:147: UserWarning: Implicit dimension choice for log_softmax has been deprecated. Change the call to include dim=X as an argument.\n",
            "  out = torch.nn.functional.log_softmax(out)\n",
            "100%|██████████| 57/57 [00:12<00:00,  4.64it/s]\n",
            "  0%|          | 0/2 [00:00<?, ?it/s]/var/folders/3c/71b8pg6d7j5dht_5h_2n4n_c0000gn/T/ipykernel_8755/1114866685.py:147: UserWarning: Implicit dimension choice for log_softmax has been deprecated. Change the call to include dim=X as an argument.\n",
            "  out = torch.nn.functional.log_softmax(out)\n",
            "100%|██████████| 2/2 [00:00<00:00,  4.94it/s]\n"
          ]
        },
        {
          "name": "stdout",
          "output_type": "stream",
          "text": [
            "\n",
            "epoch 11\n",
            "\ttrain_loss:0.679 valid_loss:0.744\n",
            "\ttrain_acc:71.71% valid_acc:67.49%\n",
            "\ttrain_f1:0.715 valid_f1:0.674\n",
            "\ttrain_confusion_matrix:\n",
            "[[1490  369  577]\n",
            " [ 335 1886  194]\n",
            " [ 319  270 1856]]\n",
            "\tvalid_confusion_matrix:\n",
            "[[349  80 175]\n",
            " [114 437  75]\n",
            " [ 84  66 447]]\n"
          ]
        },
        {
          "name": "stderr",
          "output_type": "stream",
          "text": [
            "  0%|          | 0/57 [00:00<?, ?it/s]/var/folders/3c/71b8pg6d7j5dht_5h_2n4n_c0000gn/T/ipykernel_8755/1114866685.py:147: UserWarning: Implicit dimension choice for log_softmax has been deprecated. Change the call to include dim=X as an argument.\n",
            "  out = torch.nn.functional.log_softmax(out)\n",
            "100%|██████████| 57/57 [00:12<00:00,  4.73it/s]\n",
            "  0%|          | 0/2 [00:00<?, ?it/s]/var/folders/3c/71b8pg6d7j5dht_5h_2n4n_c0000gn/T/ipykernel_8755/1114866685.py:147: UserWarning: Implicit dimension choice for log_softmax has been deprecated. Change the call to include dim=X as an argument.\n",
            "  out = torch.nn.functional.log_softmax(out)\n",
            "100%|██████████| 2/2 [00:00<00:00,  4.87it/s]\n"
          ]
        },
        {
          "name": "stdout",
          "output_type": "stream",
          "text": [
            "\n",
            "epoch 12\n",
            "\ttrain_loss:0.662 valid_loss:0.724\n",
            "\ttrain_acc:72.99% valid_acc:68.69%\n",
            "\ttrain_f1:0.729 valid_f1:0.686\n",
            "\ttrain_confusion_matrix:\n",
            "[[1554  332  553]\n",
            " [ 325 1899  189]\n",
            " [ 327  245 1872]]\n",
            "\tvalid_confusion_matrix:\n",
            "[[358  87 159]\n",
            " [102 460  64]\n",
            " [ 89  71 437]]\n"
          ]
        },
        {
          "name": "stderr",
          "output_type": "stream",
          "text": [
            "  0%|          | 0/57 [00:00<?, ?it/s]/var/folders/3c/71b8pg6d7j5dht_5h_2n4n_c0000gn/T/ipykernel_8755/1114866685.py:147: UserWarning: Implicit dimension choice for log_softmax has been deprecated. Change the call to include dim=X as an argument.\n",
            "  out = torch.nn.functional.log_softmax(out)\n",
            "100%|██████████| 57/57 [00:12<00:00,  4.69it/s]\n",
            "  0%|          | 0/2 [00:00<?, ?it/s]/var/folders/3c/71b8pg6d7j5dht_5h_2n4n_c0000gn/T/ipykernel_8755/1114866685.py:147: UserWarning: Implicit dimension choice for log_softmax has been deprecated. Change the call to include dim=X as an argument.\n",
            "  out = torch.nn.functional.log_softmax(out)\n",
            "100%|██████████| 2/2 [00:00<00:00,  4.95it/s]\n"
          ]
        },
        {
          "name": "stdout",
          "output_type": "stream",
          "text": [
            "\n",
            "epoch 13\n",
            "\ttrain_loss:0.648 valid_loss:0.724\n",
            "\ttrain_acc:73.81% valid_acc:68.80%\n",
            "\ttrain_f1:0.737 valid_f1:0.688\n",
            "\ttrain_confusion_matrix:\n",
            "[[1584  330  523]\n",
            " [ 327 1904  184]\n",
            " [ 292  255 1897]]\n",
            "\tvalid_confusion_matrix:\n",
            "[[370  78 156]\n",
            " [121 442  63]\n",
            " [ 95  57 445]]\n"
          ]
        },
        {
          "name": "stderr",
          "output_type": "stream",
          "text": [
            "  0%|          | 0/57 [00:00<?, ?it/s]/var/folders/3c/71b8pg6d7j5dht_5h_2n4n_c0000gn/T/ipykernel_8755/1114866685.py:147: UserWarning: Implicit dimension choice for log_softmax has been deprecated. Change the call to include dim=X as an argument.\n",
            "  out = torch.nn.functional.log_softmax(out)\n",
            "100%|██████████| 57/57 [00:12<00:00,  4.71it/s]\n",
            "  0%|          | 0/2 [00:00<?, ?it/s]/var/folders/3c/71b8pg6d7j5dht_5h_2n4n_c0000gn/T/ipykernel_8755/1114866685.py:147: UserWarning: Implicit dimension choice for log_softmax has been deprecated. Change the call to include dim=X as an argument.\n",
            "  out = torch.nn.functional.log_softmax(out)\n",
            "100%|██████████| 2/2 [00:00<00:00,  4.94it/s]\n"
          ]
        },
        {
          "name": "stdout",
          "output_type": "stream",
          "text": [
            "\n",
            "epoch 14\n",
            "\ttrain_loss:0.634 valid_loss:0.715\n",
            "\ttrain_acc:74.03% valid_acc:69.35%\n",
            "\ttrain_f1:0.739 valid_f1:0.692\n",
            "\ttrain_confusion_matrix:\n",
            "[[1609  323  505]\n",
            " [ 336 1889  189]\n",
            " [ 302  240 1903]]\n",
            "\tvalid_confusion_matrix:\n",
            "[[363  88 153]\n",
            " [107 458  61]\n",
            " [ 82  69 446]]\n"
          ]
        },
        {
          "name": "stderr",
          "output_type": "stream",
          "text": [
            "  0%|          | 0/57 [00:00<?, ?it/s]/var/folders/3c/71b8pg6d7j5dht_5h_2n4n_c0000gn/T/ipykernel_8755/1114866685.py:147: UserWarning: Implicit dimension choice for log_softmax has been deprecated. Change the call to include dim=X as an argument.\n",
            "  out = torch.nn.functional.log_softmax(out)\n",
            "100%|██████████| 57/57 [00:12<00:00,  4.75it/s]\n",
            "  0%|          | 0/2 [00:00<?, ?it/s]/var/folders/3c/71b8pg6d7j5dht_5h_2n4n_c0000gn/T/ipykernel_8755/1114866685.py:147: UserWarning: Implicit dimension choice for log_softmax has been deprecated. Change the call to include dim=X as an argument.\n",
            "  out = torch.nn.functional.log_softmax(out)\n",
            "100%|██████████| 2/2 [00:00<00:00,  4.91it/s]\n"
          ]
        },
        {
          "name": "stdout",
          "output_type": "stream",
          "text": [
            "\n",
            "epoch 15\n",
            "\ttrain_loss:0.618 valid_loss:0.713\n",
            "\ttrain_acc:75.38% valid_acc:70.33%\n",
            "\ttrain_f1:0.753 valid_f1:0.702\n",
            "\ttrain_confusion_matrix:\n",
            "[[1660  296  480]\n",
            " [ 326 1907  183]\n",
            " [ 285  226 1933]]\n",
            "\tvalid_confusion_matrix:\n",
            "[[379 106 119]\n",
            " [ 92 482  52]\n",
            " [100  73 424]]\n"
          ]
        },
        {
          "name": "stderr",
          "output_type": "stream",
          "text": [
            "  0%|          | 0/57 [00:00<?, ?it/s]/var/folders/3c/71b8pg6d7j5dht_5h_2n4n_c0000gn/T/ipykernel_8755/1114866685.py:147: UserWarning: Implicit dimension choice for log_softmax has been deprecated. Change the call to include dim=X as an argument.\n",
            "  out = torch.nn.functional.log_softmax(out)\n",
            "100%|██████████| 57/57 [00:12<00:00,  4.74it/s]\n",
            "  0%|          | 0/2 [00:00<?, ?it/s]/var/folders/3c/71b8pg6d7j5dht_5h_2n4n_c0000gn/T/ipykernel_8755/1114866685.py:147: UserWarning: Implicit dimension choice for log_softmax has been deprecated. Change the call to include dim=X as an argument.\n",
            "  out = torch.nn.functional.log_softmax(out)\n",
            "100%|██████████| 2/2 [00:00<00:00,  4.93it/s]\n"
          ]
        },
        {
          "name": "stdout",
          "output_type": "stream",
          "text": [
            "\n",
            "epoch 16\n",
            "\ttrain_loss:0.599 valid_loss:0.699\n",
            "\ttrain_acc:76.06% valid_acc:70.17%\n",
            "\ttrain_f1:0.760 valid_f1:0.701\n",
            "\ttrain_confusion_matrix:\n",
            "[[1687  306  445]\n",
            " [ 305 1933  176]\n",
            " [ 288  227 1929]]\n",
            "\tvalid_confusion_matrix:\n",
            "[[369  89 146]\n",
            " [ 95 462  69]\n",
            " [ 80  66 451]]\n"
          ]
        },
        {
          "name": "stderr",
          "output_type": "stream",
          "text": [
            "  0%|          | 0/57 [00:00<?, ?it/s]/var/folders/3c/71b8pg6d7j5dht_5h_2n4n_c0000gn/T/ipykernel_8755/1114866685.py:147: UserWarning: Implicit dimension choice for log_softmax has been deprecated. Change the call to include dim=X as an argument.\n",
            "  out = torch.nn.functional.log_softmax(out)\n",
            "100%|██████████| 57/57 [00:12<00:00,  4.73it/s]\n",
            "  0%|          | 0/2 [00:00<?, ?it/s]/var/folders/3c/71b8pg6d7j5dht_5h_2n4n_c0000gn/T/ipykernel_8755/1114866685.py:147: UserWarning: Implicit dimension choice for log_softmax has been deprecated. Change the call to include dim=X as an argument.\n",
            "  out = torch.nn.functional.log_softmax(out)\n",
            "100%|██████████| 2/2 [00:00<00:00,  5.00it/s]\n"
          ]
        },
        {
          "name": "stdout",
          "output_type": "stream",
          "text": [
            "\n",
            "epoch 17\n",
            "\ttrain_loss:0.585 valid_loss:0.696\n",
            "\ttrain_acc:76.49% valid_acc:71.26%\n",
            "\ttrain_f1:0.764 valid_f1:0.712\n",
            "\ttrain_confusion_matrix:\n",
            "[[1700  283  452]\n",
            " [ 303 1929  185]\n",
            " [ 272  220 1952]]\n",
            "\tvalid_confusion_matrix:\n",
            "[[390  84 130]\n",
            " [108 455  63]\n",
            " [ 78  62 457]]\n"
          ]
        },
        {
          "name": "stderr",
          "output_type": "stream",
          "text": [
            "  0%|          | 0/57 [00:00<?, ?it/s]/var/folders/3c/71b8pg6d7j5dht_5h_2n4n_c0000gn/T/ipykernel_8755/1114866685.py:147: UserWarning: Implicit dimension choice for log_softmax has been deprecated. Change the call to include dim=X as an argument.\n",
            "  out = torch.nn.functional.log_softmax(out)\n",
            "100%|██████████| 57/57 [00:12<00:00,  4.74it/s]\n",
            "  0%|          | 0/2 [00:00<?, ?it/s]/var/folders/3c/71b8pg6d7j5dht_5h_2n4n_c0000gn/T/ipykernel_8755/1114866685.py:147: UserWarning: Implicit dimension choice for log_softmax has been deprecated. Change the call to include dim=X as an argument.\n",
            "  out = torch.nn.functional.log_softmax(out)\n",
            "100%|██████████| 2/2 [00:00<00:00,  4.98it/s]\n"
          ]
        },
        {
          "name": "stdout",
          "output_type": "stream",
          "text": [
            "\n",
            "epoch 18\n",
            "\ttrain_loss:0.574 valid_loss:0.680\n",
            "\ttrain_acc:77.01% valid_acc:71.48%\n",
            "\ttrain_f1:0.770 valid_f1:0.715\n",
            "\ttrain_confusion_matrix:\n",
            "[[1732  263  441]\n",
            " [ 310 1920  187]\n",
            " [ 264  212 1967]]\n",
            "\tvalid_confusion_matrix:\n",
            "[[395  72 137]\n",
            " [102 460  64]\n",
            " [ 81  65 451]]\n"
          ]
        },
        {
          "name": "stderr",
          "output_type": "stream",
          "text": [
            "  0%|          | 0/57 [00:00<?, ?it/s]/var/folders/3c/71b8pg6d7j5dht_5h_2n4n_c0000gn/T/ipykernel_8755/1114866685.py:147: UserWarning: Implicit dimension choice for log_softmax has been deprecated. Change the call to include dim=X as an argument.\n",
            "  out = torch.nn.functional.log_softmax(out)\n",
            "100%|██████████| 57/57 [00:11<00:00,  4.83it/s]\n",
            "  0%|          | 0/2 [00:00<?, ?it/s]/var/folders/3c/71b8pg6d7j5dht_5h_2n4n_c0000gn/T/ipykernel_8755/1114866685.py:147: UserWarning: Implicit dimension choice for log_softmax has been deprecated. Change the call to include dim=X as an argument.\n",
            "  out = torch.nn.functional.log_softmax(out)\n",
            "100%|██████████| 2/2 [00:00<00:00,  4.94it/s]\n"
          ]
        },
        {
          "name": "stdout",
          "output_type": "stream",
          "text": [
            "\n",
            "epoch 19\n",
            "\ttrain_loss:0.561 valid_loss:0.689\n",
            "\ttrain_acc:77.86% valid_acc:71.21%\n",
            "\ttrain_f1:0.778 valid_f1:0.712\n",
            "\ttrain_confusion_matrix:\n",
            "[[1754  266  415]\n",
            " [ 304 1934  178]\n",
            " [ 255  197 1993]]\n",
            "\tvalid_confusion_matrix:\n",
            "[[423  79 102]\n",
            " [ 96 471  59]\n",
            " [109  81 407]]\n",
            "Loading saved model from: model_task2.bin\n"
          ]
        },
        {
          "name": "stderr",
          "output_type": "stream",
          "text": [
            "  0%|          | 0/2 [00:00<?, ?it/s]/var/folders/3c/71b8pg6d7j5dht_5h_2n4n_c0000gn/T/ipykernel_8755/1114866685.py:147: UserWarning: Implicit dimension choice for log_softmax has been deprecated. Change the call to include dim=X as an argument.\n",
            "  out = torch.nn.functional.log_softmax(out)\n",
            "100%|██████████| 2/2 [00:00<00:00,  4.85it/s]\n"
          ]
        },
        {
          "name": "stdout",
          "output_type": "stream",
          "text": [
            "              precision    recall  f1-score   support\n",
            "\n",
            "     Neutral       0.69      0.66      0.68       604\n",
            "    Positive       0.77      0.73      0.75       626\n",
            "    Negative       0.70      0.77      0.74       597\n",
            "\n",
            "    accuracy                           0.72      1827\n",
            "   macro avg       0.72      0.72      0.72      1827\n",
            "weighted avg       0.72      0.72      0.72      1827\n",
            "\n",
            "\n",
            "******************************************************************************************\n",
            "Alpha Size: 0.8\n",
            "Window Size: 4\n",
            "******************************************************************************************\n",
            "\n",
            "train samples:7305\n",
            "valid samples:1827\n"
          ]
        },
        {
          "name": "stderr",
          "output_type": "stream",
          "text": [
            "  0%|          | 0/57 [00:00<?, ?it/s]/var/folders/3c/71b8pg6d7j5dht_5h_2n4n_c0000gn/T/ipykernel_8755/1114866685.py:147: UserWarning: Implicit dimension choice for log_softmax has been deprecated. Change the call to include dim=X as an argument.\n",
            "  out = torch.nn.functional.log_softmax(out)\n",
            "100%|██████████| 57/57 [00:12<00:00,  4.45it/s]\n",
            "  0%|          | 0/2 [00:00<?, ?it/s]/var/folders/3c/71b8pg6d7j5dht_5h_2n4n_c0000gn/T/ipykernel_8755/1114866685.py:147: UserWarning: Implicit dimension choice for log_softmax has been deprecated. Change the call to include dim=X as an argument.\n",
            "  out = torch.nn.functional.log_softmax(out)\n",
            "100%|██████████| 2/2 [00:00<00:00,  4.19it/s]\n"
          ]
        },
        {
          "name": "stdout",
          "output_type": "stream",
          "text": [
            "\n",
            "epoch 0\n",
            "\ttrain_loss:1.088 valid_loss:1.076\n",
            "\ttrain_acc:44.64% valid_acc:49.48%\n",
            "\ttrain_f1:0.429 valid_f1:0.489\n",
            "\ttrain_confusion_matrix:\n",
            "[[ 586 1088  776]\n",
            " [ 270 1606  573]\n",
            " [ 428  904 1065]]\n",
            "\tvalid_confusion_matrix:\n",
            "[[243 180 167]\n",
            " [105 388  99]\n",
            " [185 187 273]]\n"
          ]
        },
        {
          "name": "stderr",
          "output_type": "stream",
          "text": [
            "  0%|          | 0/57 [00:00<?, ?it/s]/var/folders/3c/71b8pg6d7j5dht_5h_2n4n_c0000gn/T/ipykernel_8755/1114866685.py:147: UserWarning: Implicit dimension choice for log_softmax has been deprecated. Change the call to include dim=X as an argument.\n",
            "  out = torch.nn.functional.log_softmax(out)\n",
            "100%|██████████| 57/57 [00:12<00:00,  4.48it/s]\n",
            "  0%|          | 0/2 [00:00<?, ?it/s]/var/folders/3c/71b8pg6d7j5dht_5h_2n4n_c0000gn/T/ipykernel_8755/1114866685.py:147: UserWarning: Implicit dimension choice for log_softmax has been deprecated. Change the call to include dim=X as an argument.\n",
            "  out = torch.nn.functional.log_softmax(out)\n",
            "100%|██████████| 2/2 [00:00<00:00,  4.30it/s]\n"
          ]
        },
        {
          "name": "stdout",
          "output_type": "stream",
          "text": [
            "\n",
            "epoch 1\n",
            "\ttrain_loss:1.041 valid_loss:0.992\n",
            "\ttrain_acc:54.07% valid_acc:52.76%\n",
            "\ttrain_f1:0.538 valid_f1:0.522\n",
            "\ttrain_confusion_matrix:\n",
            "[[1119  622  711]\n",
            " [ 426 1620  402]\n",
            " [ 650  540 1206]]\n",
            "\tvalid_confusion_matrix:\n",
            "[[243 180 167]\n",
            " [102 407  83]\n",
            " [158 173 314]]\n"
          ]
        },
        {
          "name": "stderr",
          "output_type": "stream",
          "text": [
            "  0%|          | 0/57 [00:00<?, ?it/s]/var/folders/3c/71b8pg6d7j5dht_5h_2n4n_c0000gn/T/ipykernel_8755/1114866685.py:147: UserWarning: Implicit dimension choice for log_softmax has been deprecated. Change the call to include dim=X as an argument.\n",
            "  out = torch.nn.functional.log_softmax(out)\n",
            "100%|██████████| 57/57 [00:12<00:00,  4.49it/s]\n",
            "  0%|          | 0/2 [00:00<?, ?it/s]/var/folders/3c/71b8pg6d7j5dht_5h_2n4n_c0000gn/T/ipykernel_8755/1114866685.py:147: UserWarning: Implicit dimension choice for log_softmax has been deprecated. Change the call to include dim=X as an argument.\n",
            "  out = torch.nn.functional.log_softmax(out)\n",
            "100%|██████████| 2/2 [00:00<00:00,  4.45it/s]\n"
          ]
        },
        {
          "name": "stdout",
          "output_type": "stream",
          "text": [
            "\n",
            "epoch 2\n",
            "\ttrain_loss:0.935 valid_loss:0.916\n",
            "\ttrain_acc:57.26% valid_acc:58.51%\n",
            "\ttrain_f1:0.567 valid_f1:0.578\n",
            "\ttrain_confusion_matrix:\n",
            "[[1065  607  780]\n",
            " [ 368 1783  297]\n",
            " [ 523  543 1330]]\n",
            "\tvalid_confusion_matrix:\n",
            "[[238 143 209]\n",
            " [ 91 437  64]\n",
            " [129 122 394]]\n"
          ]
        },
        {
          "name": "stderr",
          "output_type": "stream",
          "text": [
            "  0%|          | 0/57 [00:00<?, ?it/s]/var/folders/3c/71b8pg6d7j5dht_5h_2n4n_c0000gn/T/ipykernel_8755/1114866685.py:147: UserWarning: Implicit dimension choice for log_softmax has been deprecated. Change the call to include dim=X as an argument.\n",
            "  out = torch.nn.functional.log_softmax(out)\n",
            "100%|██████████| 57/57 [00:12<00:00,  4.49it/s]\n",
            "  0%|          | 0/2 [00:00<?, ?it/s]/var/folders/3c/71b8pg6d7j5dht_5h_2n4n_c0000gn/T/ipykernel_8755/1114866685.py:147: UserWarning: Implicit dimension choice for log_softmax has been deprecated. Change the call to include dim=X as an argument.\n",
            "  out = torch.nn.functional.log_softmax(out)\n",
            "100%|██████████| 2/2 [00:00<00:00,  4.49it/s]\n"
          ]
        },
        {
          "name": "stdout",
          "output_type": "stream",
          "text": [
            "\n",
            "epoch 3\n",
            "\ttrain_loss:0.869 valid_loss:0.874\n",
            "\ttrain_acc:60.68% valid_acc:59.66%\n",
            "\ttrain_f1:0.597 valid_f1:0.597\n",
            "\ttrain_confusion_matrix:\n",
            "[[ 975  560  916]\n",
            " [ 322 1851  277]\n",
            " [ 360  434 1601]]\n",
            "\tvalid_confusion_matrix:\n",
            "[[313 116 161]\n",
            " [118 423  51]\n",
            " [208  83 354]]\n"
          ]
        },
        {
          "name": "stderr",
          "output_type": "stream",
          "text": [
            "  0%|          | 0/57 [00:00<?, ?it/s]/var/folders/3c/71b8pg6d7j5dht_5h_2n4n_c0000gn/T/ipykernel_8755/1114866685.py:147: UserWarning: Implicit dimension choice for log_softmax has been deprecated. Change the call to include dim=X as an argument.\n",
            "  out = torch.nn.functional.log_softmax(out)\n",
            "100%|██████████| 57/57 [00:12<00:00,  4.48it/s]\n",
            "  0%|          | 0/2 [00:00<?, ?it/s]/var/folders/3c/71b8pg6d7j5dht_5h_2n4n_c0000gn/T/ipykernel_8755/1114866685.py:147: UserWarning: Implicit dimension choice for log_softmax has been deprecated. Change the call to include dim=X as an argument.\n",
            "  out = torch.nn.functional.log_softmax(out)\n",
            "100%|██████████| 2/2 [00:00<00:00,  4.57it/s]\n"
          ]
        },
        {
          "name": "stdout",
          "output_type": "stream",
          "text": [
            "\n",
            "epoch 4\n",
            "\ttrain_loss:0.824 valid_loss:0.835\n",
            "\ttrain_acc:63.79% valid_acc:61.63%\n",
            "\ttrain_f1:0.634 valid_f1:0.613\n",
            "\ttrain_confusion_matrix:\n",
            "[[1231  452  769]\n",
            " [ 358 1847  246]\n",
            " [ 493  324 1576]]\n",
            "\tvalid_confusion_matrix:\n",
            "[[280 116 194]\n",
            " [106 437  49]\n",
            " [141  95 409]]\n"
          ]
        },
        {
          "name": "stderr",
          "output_type": "stream",
          "text": [
            "  0%|          | 0/57 [00:00<?, ?it/s]/var/folders/3c/71b8pg6d7j5dht_5h_2n4n_c0000gn/T/ipykernel_8755/1114866685.py:147: UserWarning: Implicit dimension choice for log_softmax has been deprecated. Change the call to include dim=X as an argument.\n",
            "  out = torch.nn.functional.log_softmax(out)\n",
            "100%|██████████| 57/57 [00:12<00:00,  4.54it/s]\n",
            "  0%|          | 0/2 [00:00<?, ?it/s]/var/folders/3c/71b8pg6d7j5dht_5h_2n4n_c0000gn/T/ipykernel_8755/1114866685.py:147: UserWarning: Implicit dimension choice for log_softmax has been deprecated. Change the call to include dim=X as an argument.\n",
            "  out = torch.nn.functional.log_softmax(out)\n",
            "100%|██████████| 2/2 [00:00<00:00,  4.53it/s]\n"
          ]
        },
        {
          "name": "stdout",
          "output_type": "stream",
          "text": [
            "\n",
            "epoch 5\n",
            "\ttrain_loss:0.790 valid_loss:0.821\n",
            "\ttrain_acc:65.84% valid_acc:62.40%\n",
            "\ttrain_f1:0.655 valid_f1:0.622\n",
            "\ttrain_confusion_matrix:\n",
            "[[1272  412  768]\n",
            " [ 366 1843  240]\n",
            " [ 394  312 1689]]\n",
            "\tvalid_confusion_matrix:\n",
            "[[306  96 188]\n",
            " [108 429  55]\n",
            " [142  98 405]]\n"
          ]
        },
        {
          "name": "stderr",
          "output_type": "stream",
          "text": [
            "  0%|          | 0/57 [00:00<?, ?it/s]/var/folders/3c/71b8pg6d7j5dht_5h_2n4n_c0000gn/T/ipykernel_8755/1114866685.py:147: UserWarning: Implicit dimension choice for log_softmax has been deprecated. Change the call to include dim=X as an argument.\n",
            "  out = torch.nn.functional.log_softmax(out)\n",
            "100%|██████████| 57/57 [00:12<00:00,  4.54it/s]\n",
            "  0%|          | 0/2 [00:00<?, ?it/s]/var/folders/3c/71b8pg6d7j5dht_5h_2n4n_c0000gn/T/ipykernel_8755/1114866685.py:147: UserWarning: Implicit dimension choice for log_softmax has been deprecated. Change the call to include dim=X as an argument.\n",
            "  out = torch.nn.functional.log_softmax(out)\n",
            "100%|██████████| 2/2 [00:00<00:00,  4.47it/s]\n"
          ]
        },
        {
          "name": "stdout",
          "output_type": "stream",
          "text": [
            "\n",
            "epoch 6\n",
            "\ttrain_loss:0.766 valid_loss:0.798\n",
            "\ttrain_acc:66.87% valid_acc:64.04%\n",
            "\ttrain_f1:0.665 valid_f1:0.638\n",
            "\ttrain_confusion_matrix:\n",
            "[[1282  382  787]\n",
            " [ 355 1838  256]\n",
            " [ 368  269 1759]]\n",
            "\tvalid_confusion_matrix:\n",
            "[[304  96 190]\n",
            " [ 98 443  51]\n",
            " [134  88 423]]\n"
          ]
        },
        {
          "name": "stderr",
          "output_type": "stream",
          "text": [
            "  0%|          | 0/57 [00:00<?, ?it/s]/var/folders/3c/71b8pg6d7j5dht_5h_2n4n_c0000gn/T/ipykernel_8755/1114866685.py:147: UserWarning: Implicit dimension choice for log_softmax has been deprecated. Change the call to include dim=X as an argument.\n",
            "  out = torch.nn.functional.log_softmax(out)\n",
            "100%|██████████| 57/57 [00:12<00:00,  4.54it/s]\n",
            "  0%|          | 0/2 [00:00<?, ?it/s]/var/folders/3c/71b8pg6d7j5dht_5h_2n4n_c0000gn/T/ipykernel_8755/1114866685.py:147: UserWarning: Implicit dimension choice for log_softmax has been deprecated. Change the call to include dim=X as an argument.\n",
            "  out = torch.nn.functional.log_softmax(out)\n",
            "100%|██████████| 2/2 [00:00<00:00,  4.05it/s]\n"
          ]
        },
        {
          "name": "stdout",
          "output_type": "stream",
          "text": [
            "\n",
            "epoch 7\n",
            "\ttrain_loss:0.744 valid_loss:0.779\n",
            "\ttrain_acc:68.35% valid_acc:65.46%\n",
            "\ttrain_f1:0.681 valid_f1:0.650\n",
            "\ttrain_confusion_matrix:\n",
            "[[1365  358  729]\n",
            " [ 356 1841  253]\n",
            " [ 357  256 1781]]\n",
            "\tvalid_confusion_matrix:\n",
            "[[286  88 216]\n",
            " [ 91 430  71]\n",
            " [ 90  75 480]]\n"
          ]
        },
        {
          "name": "stderr",
          "output_type": "stream",
          "text": [
            "  0%|          | 0/57 [00:00<?, ?it/s]/var/folders/3c/71b8pg6d7j5dht_5h_2n4n_c0000gn/T/ipykernel_8755/1114866685.py:147: UserWarning: Implicit dimension choice for log_softmax has been deprecated. Change the call to include dim=X as an argument.\n",
            "  out = torch.nn.functional.log_softmax(out)\n",
            "100%|██████████| 57/57 [00:12<00:00,  4.55it/s]\n",
            "  0%|          | 0/2 [00:00<?, ?it/s]/var/folders/3c/71b8pg6d7j5dht_5h_2n4n_c0000gn/T/ipykernel_8755/1114866685.py:147: UserWarning: Implicit dimension choice for log_softmax has been deprecated. Change the call to include dim=X as an argument.\n",
            "  out = torch.nn.functional.log_softmax(out)\n",
            "100%|██████████| 2/2 [00:00<00:00,  4.62it/s]\n"
          ]
        },
        {
          "name": "stdout",
          "output_type": "stream",
          "text": [
            "\n",
            "epoch 8\n",
            "\ttrain_loss:0.722 valid_loss:0.765\n",
            "\ttrain_acc:68.85% valid_acc:65.41%\n",
            "\ttrain_f1:0.685 valid_f1:0.651\n",
            "\ttrain_confusion_matrix:\n",
            "[[1340  370  739]\n",
            " [ 320 1877  254]\n",
            " [ 326  264 1806]]\n",
            "\tvalid_confusion_matrix:\n",
            "[[308 109 173]\n",
            " [ 79 452  61]\n",
            " [119  91 435]]\n"
          ]
        },
        {
          "name": "stderr",
          "output_type": "stream",
          "text": [
            "  0%|          | 0/57 [00:00<?, ?it/s]/var/folders/3c/71b8pg6d7j5dht_5h_2n4n_c0000gn/T/ipykernel_8755/1114866685.py:147: UserWarning: Implicit dimension choice for log_softmax has been deprecated. Change the call to include dim=X as an argument.\n",
            "  out = torch.nn.functional.log_softmax(out)\n",
            "100%|██████████| 57/57 [00:12<00:00,  4.56it/s]\n",
            "  0%|          | 0/2 [00:00<?, ?it/s]/var/folders/3c/71b8pg6d7j5dht_5h_2n4n_c0000gn/T/ipykernel_8755/1114866685.py:147: UserWarning: Implicit dimension choice for log_softmax has been deprecated. Change the call to include dim=X as an argument.\n",
            "  out = torch.nn.functional.log_softmax(out)\n",
            "100%|██████████| 2/2 [00:00<00:00,  4.54it/s]\n"
          ]
        },
        {
          "name": "stdout",
          "output_type": "stream",
          "text": [
            "\n",
            "epoch 9\n",
            "\ttrain_loss:0.701 valid_loss:0.754\n",
            "\ttrain_acc:70.49% valid_acc:67.16%\n",
            "\ttrain_f1:0.703 valid_f1:0.668\n",
            "\ttrain_confusion_matrix:\n",
            "[[1426  340  684]\n",
            " [ 307 1886  254]\n",
            " [ 309  259 1831]]\n",
            "\tvalid_confusion_matrix:\n",
            "[[317  99 174]\n",
            " [ 76 459  57]\n",
            " [ 98  96 451]]\n"
          ]
        },
        {
          "name": "stderr",
          "output_type": "stream",
          "text": [
            "  0%|          | 0/57 [00:00<?, ?it/s]/var/folders/3c/71b8pg6d7j5dht_5h_2n4n_c0000gn/T/ipykernel_8755/1114866685.py:147: UserWarning: Implicit dimension choice for log_softmax has been deprecated. Change the call to include dim=X as an argument.\n",
            "  out = torch.nn.functional.log_softmax(out)\n",
            "100%|██████████| 57/57 [00:12<00:00,  4.51it/s]\n",
            "  0%|          | 0/2 [00:00<?, ?it/s]/var/folders/3c/71b8pg6d7j5dht_5h_2n4n_c0000gn/T/ipykernel_8755/1114866685.py:147: UserWarning: Implicit dimension choice for log_softmax has been deprecated. Change the call to include dim=X as an argument.\n",
            "  out = torch.nn.functional.log_softmax(out)\n",
            "100%|██████████| 2/2 [00:00<00:00,  4.50it/s]\n"
          ]
        },
        {
          "name": "stdout",
          "output_type": "stream",
          "text": [
            "\n",
            "epoch 10\n",
            "\ttrain_loss:0.682 valid_loss:0.727\n",
            "\ttrain_acc:71.63% valid_acc:68.91%\n",
            "\ttrain_f1:0.715 valid_f1:0.685\n",
            "\ttrain_confusion_matrix:\n",
            "[[1492  299  659]\n",
            " [ 330 1884  236]\n",
            " [ 298  248 1850]]\n",
            "\tvalid_confusion_matrix:\n",
            "[[315  85 190]\n",
            " [ 72 445  75]\n",
            " [ 79  67 499]]\n"
          ]
        },
        {
          "name": "stderr",
          "output_type": "stream",
          "text": [
            "  0%|          | 0/57 [00:00<?, ?it/s]/var/folders/3c/71b8pg6d7j5dht_5h_2n4n_c0000gn/T/ipykernel_8755/1114866685.py:147: UserWarning: Implicit dimension choice for log_softmax has been deprecated. Change the call to include dim=X as an argument.\n",
            "  out = torch.nn.functional.log_softmax(out)\n",
            "100%|██████████| 57/57 [00:12<00:00,  4.48it/s]\n",
            "  0%|          | 0/2 [00:00<?, ?it/s]/var/folders/3c/71b8pg6d7j5dht_5h_2n4n_c0000gn/T/ipykernel_8755/1114866685.py:147: UserWarning: Implicit dimension choice for log_softmax has been deprecated. Change the call to include dim=X as an argument.\n",
            "  out = torch.nn.functional.log_softmax(out)\n",
            "100%|██████████| 2/2 [00:00<00:00,  4.45it/s]\n"
          ]
        },
        {
          "name": "stdout",
          "output_type": "stream",
          "text": [
            "\n",
            "epoch 11\n",
            "\ttrain_loss:0.664 valid_loss:0.718\n",
            "\ttrain_acc:72.59% valid_acc:69.73%\n",
            "\ttrain_f1:0.724 valid_f1:0.696\n",
            "\ttrain_confusion_matrix:\n",
            "[[1503  305  643]\n",
            " [ 310 1892  248]\n",
            " [ 274  220 1901]]\n",
            "\tvalid_confusion_matrix:\n",
            "[[348  83 159]\n",
            " [ 75 454  63]\n",
            " [ 96  77 472]]\n"
          ]
        },
        {
          "name": "stderr",
          "output_type": "stream",
          "text": [
            "  0%|          | 0/57 [00:00<?, ?it/s]/var/folders/3c/71b8pg6d7j5dht_5h_2n4n_c0000gn/T/ipykernel_8755/1114866685.py:147: UserWarning: Implicit dimension choice for log_softmax has been deprecated. Change the call to include dim=X as an argument.\n",
            "  out = torch.nn.functional.log_softmax(out)\n",
            "100%|██████████| 57/57 [00:12<00:00,  4.46it/s]\n",
            "  0%|          | 0/2 [00:00<?, ?it/s]/var/folders/3c/71b8pg6d7j5dht_5h_2n4n_c0000gn/T/ipykernel_8755/1114866685.py:147: UserWarning: Implicit dimension choice for log_softmax has been deprecated. Change the call to include dim=X as an argument.\n",
            "  out = torch.nn.functional.log_softmax(out)\n",
            "100%|██████████| 2/2 [00:00<00:00,  4.52it/s]\n"
          ]
        },
        {
          "name": "stdout",
          "output_type": "stream",
          "text": [
            "\n",
            "epoch 12\n",
            "\ttrain_loss:0.644 valid_loss:0.713\n",
            "\ttrain_acc:74.03% valid_acc:70.01%\n",
            "\ttrain_f1:0.739 valid_f1:0.695\n",
            "\ttrain_confusion_matrix:\n",
            "[[1567  286  598]\n",
            " [ 295 1908  247]\n",
            " [ 258  211 1926]]\n",
            "\tvalid_confusion_matrix:\n",
            "[[315  85 190]\n",
            " [ 69 448  75]\n",
            " [ 65  64 516]]\n"
          ]
        },
        {
          "name": "stderr",
          "output_type": "stream",
          "text": [
            "  0%|          | 0/57 [00:00<?, ?it/s]/var/folders/3c/71b8pg6d7j5dht_5h_2n4n_c0000gn/T/ipykernel_8755/1114866685.py:147: UserWarning: Implicit dimension choice for log_softmax has been deprecated. Change the call to include dim=X as an argument.\n",
            "  out = torch.nn.functional.log_softmax(out)\n",
            "100%|██████████| 57/57 [00:12<00:00,  4.49it/s]\n",
            "  0%|          | 0/2 [00:00<?, ?it/s]/var/folders/3c/71b8pg6d7j5dht_5h_2n4n_c0000gn/T/ipykernel_8755/1114866685.py:147: UserWarning: Implicit dimension choice for log_softmax has been deprecated. Change the call to include dim=X as an argument.\n",
            "  out = torch.nn.functional.log_softmax(out)\n",
            "100%|██████████| 2/2 [00:00<00:00,  4.48it/s]\n"
          ]
        },
        {
          "name": "stdout",
          "output_type": "stream",
          "text": [
            "\n",
            "epoch 13\n",
            "\ttrain_loss:0.633 valid_loss:0.717\n",
            "\ttrain_acc:73.99% valid_acc:69.40%\n",
            "\ttrain_f1:0.739 valid_f1:0.689\n",
            "\ttrain_confusion_matrix:\n",
            "[[1570  295  588]\n",
            " [ 306 1908  237]\n",
            " [ 265  207 1920]]\n",
            "\tvalid_confusion_matrix:\n",
            "[[304  96 190]\n",
            " [ 62 449  81]\n",
            " [ 68  62 515]]\n"
          ]
        },
        {
          "name": "stderr",
          "output_type": "stream",
          "text": [
            "  0%|          | 0/57 [00:00<?, ?it/s]/var/folders/3c/71b8pg6d7j5dht_5h_2n4n_c0000gn/T/ipykernel_8755/1114866685.py:147: UserWarning: Implicit dimension choice for log_softmax has been deprecated. Change the call to include dim=X as an argument.\n",
            "  out = torch.nn.functional.log_softmax(out)\n",
            "100%|██████████| 57/57 [00:12<00:00,  4.47it/s]\n",
            "  0%|          | 0/2 [00:00<?, ?it/s]/var/folders/3c/71b8pg6d7j5dht_5h_2n4n_c0000gn/T/ipykernel_8755/1114866685.py:147: UserWarning: Implicit dimension choice for log_softmax has been deprecated. Change the call to include dim=X as an argument.\n",
            "  out = torch.nn.functional.log_softmax(out)\n",
            "100%|██████████| 2/2 [00:00<00:00,  4.50it/s]\n"
          ]
        },
        {
          "name": "stdout",
          "output_type": "stream",
          "text": [
            "\n",
            "epoch 14\n",
            "\ttrain_loss:0.615 valid_loss:0.690\n",
            "\ttrain_acc:75.42% valid_acc:72.41%\n",
            "\ttrain_f1:0.753 valid_f1:0.724\n",
            "\ttrain_confusion_matrix:\n",
            "[[1635  264  551]\n",
            " [ 281 1935  233]\n",
            " [ 247  217 1933]]\n",
            "\tvalid_confusion_matrix:\n",
            "[[397  89 104]\n",
            " [ 77 455  60]\n",
            " [109  65 471]]\n"
          ]
        },
        {
          "name": "stderr",
          "output_type": "stream",
          "text": [
            "  0%|          | 0/57 [00:00<?, ?it/s]/var/folders/3c/71b8pg6d7j5dht_5h_2n4n_c0000gn/T/ipykernel_8755/1114866685.py:147: UserWarning: Implicit dimension choice for log_softmax has been deprecated. Change the call to include dim=X as an argument.\n",
            "  out = torch.nn.functional.log_softmax(out)\n",
            "100%|██████████| 57/57 [00:12<00:00,  4.47it/s]\n",
            "  0%|          | 0/2 [00:00<?, ?it/s]/var/folders/3c/71b8pg6d7j5dht_5h_2n4n_c0000gn/T/ipykernel_8755/1114866685.py:147: UserWarning: Implicit dimension choice for log_softmax has been deprecated. Change the call to include dim=X as an argument.\n",
            "  out = torch.nn.functional.log_softmax(out)\n",
            "100%|██████████| 2/2 [00:00<00:00,  4.43it/s]\n"
          ]
        },
        {
          "name": "stdout",
          "output_type": "stream",
          "text": [
            "\n",
            "epoch 15\n",
            "\ttrain_loss:0.595 valid_loss:0.686\n",
            "\ttrain_acc:76.75% valid_acc:71.92%\n",
            "\ttrain_f1:0.767 valid_f1:0.719\n",
            "\ttrain_confusion_matrix:\n",
            "[[1682  255  513]\n",
            " [ 285 1940  224]\n",
            " [ 239  180 1978]]\n",
            "\tvalid_confusion_matrix:\n",
            "[[397  77 116]\n",
            " [ 85 447  60]\n",
            " [106  69 470]]\n"
          ]
        },
        {
          "name": "stderr",
          "output_type": "stream",
          "text": [
            "  0%|          | 0/57 [00:00<?, ?it/s]/var/folders/3c/71b8pg6d7j5dht_5h_2n4n_c0000gn/T/ipykernel_8755/1114866685.py:147: UserWarning: Implicit dimension choice for log_softmax has been deprecated. Change the call to include dim=X as an argument.\n",
            "  out = torch.nn.functional.log_softmax(out)\n",
            "100%|██████████| 57/57 [00:12<00:00,  4.58it/s]\n",
            "  0%|          | 0/2 [00:00<?, ?it/s]/var/folders/3c/71b8pg6d7j5dht_5h_2n4n_c0000gn/T/ipykernel_8755/1114866685.py:147: UserWarning: Implicit dimension choice for log_softmax has been deprecated. Change the call to include dim=X as an argument.\n",
            "  out = torch.nn.functional.log_softmax(out)\n",
            "100%|██████████| 2/2 [00:00<00:00,  4.50it/s]\n"
          ]
        },
        {
          "name": "stdout",
          "output_type": "stream",
          "text": [
            "\n",
            "epoch 16\n",
            "\ttrain_loss:0.582 valid_loss:0.673\n",
            "\ttrain_acc:77.47% valid_acc:73.62%\n",
            "\ttrain_f1:0.774 valid_f1:0.736\n",
            "\ttrain_confusion_matrix:\n",
            "[[1727  249  473]\n",
            " [ 286 1940  223]\n",
            " [ 231  182 1985]]\n",
            "\tvalid_confusion_matrix:\n",
            "[[407  84  99]\n",
            " [ 73 464  55]\n",
            " [102  69 474]]\n"
          ]
        },
        {
          "name": "stderr",
          "output_type": "stream",
          "text": [
            "  0%|          | 0/57 [00:00<?, ?it/s]/var/folders/3c/71b8pg6d7j5dht_5h_2n4n_c0000gn/T/ipykernel_8755/1114866685.py:147: UserWarning: Implicit dimension choice for log_softmax has been deprecated. Change the call to include dim=X as an argument.\n",
            "  out = torch.nn.functional.log_softmax(out)\n",
            "100%|██████████| 57/57 [00:12<00:00,  4.64it/s]\n",
            "  0%|          | 0/2 [00:00<?, ?it/s]/var/folders/3c/71b8pg6d7j5dht_5h_2n4n_c0000gn/T/ipykernel_8755/1114866685.py:147: UserWarning: Implicit dimension choice for log_softmax has been deprecated. Change the call to include dim=X as an argument.\n",
            "  out = torch.nn.functional.log_softmax(out)\n",
            "100%|██████████| 2/2 [00:00<00:00,  4.49it/s]\n"
          ]
        },
        {
          "name": "stdout",
          "output_type": "stream",
          "text": [
            "\n",
            "epoch 17\n",
            "\ttrain_loss:0.568 valid_loss:0.661\n",
            "\ttrain_acc:77.91% valid_acc:73.29%\n",
            "\ttrain_f1:0.779 valid_f1:0.732\n",
            "\ttrain_confusion_matrix:\n",
            "[[1770  253  429]\n",
            " [ 275 1962  212]\n",
            " [ 239  204 1952]]\n",
            "\tvalid_confusion_matrix:\n",
            "[[384  77 129]\n",
            " [ 70 445  77]\n",
            " [ 80  55 510]]\n"
          ]
        },
        {
          "name": "stderr",
          "output_type": "stream",
          "text": [
            "  0%|          | 0/57 [00:00<?, ?it/s]/var/folders/3c/71b8pg6d7j5dht_5h_2n4n_c0000gn/T/ipykernel_8755/1114866685.py:147: UserWarning: Implicit dimension choice for log_softmax has been deprecated. Change the call to include dim=X as an argument.\n",
            "  out = torch.nn.functional.log_softmax(out)\n",
            "100%|██████████| 57/57 [00:12<00:00,  4.53it/s]\n",
            "  0%|          | 0/2 [00:00<?, ?it/s]/var/folders/3c/71b8pg6d7j5dht_5h_2n4n_c0000gn/T/ipykernel_8755/1114866685.py:147: UserWarning: Implicit dimension choice for log_softmax has been deprecated. Change the call to include dim=X as an argument.\n",
            "  out = torch.nn.functional.log_softmax(out)\n",
            "100%|██████████| 2/2 [00:00<00:00,  4.54it/s]\n"
          ]
        },
        {
          "name": "stdout",
          "output_type": "stream",
          "text": [
            "\n",
            "epoch 18\n",
            "\ttrain_loss:0.554 valid_loss:0.657\n",
            "\ttrain_acc:78.32% valid_acc:73.51%\n",
            "\ttrain_f1:0.783 valid_f1:0.736\n",
            "\ttrain_confusion_matrix:\n",
            "[[1780  248  421]\n",
            " [ 269 1953  228]\n",
            " [ 232  184 1981]]\n",
            "\tvalid_confusion_matrix:\n",
            "[[419  74  97]\n",
            " [ 83 451  58]\n",
            " [115  57 473]]\n"
          ]
        },
        {
          "name": "stderr",
          "output_type": "stream",
          "text": [
            "  0%|          | 0/57 [00:00<?, ?it/s]/var/folders/3c/71b8pg6d7j5dht_5h_2n4n_c0000gn/T/ipykernel_8755/1114866685.py:147: UserWarning: Implicit dimension choice for log_softmax has been deprecated. Change the call to include dim=X as an argument.\n",
            "  out = torch.nn.functional.log_softmax(out)\n",
            "100%|██████████| 57/57 [00:12<00:00,  4.52it/s]\n",
            "  0%|          | 0/2 [00:00<?, ?it/s]/var/folders/3c/71b8pg6d7j5dht_5h_2n4n_c0000gn/T/ipykernel_8755/1114866685.py:147: UserWarning: Implicit dimension choice for log_softmax has been deprecated. Change the call to include dim=X as an argument.\n",
            "  out = torch.nn.functional.log_softmax(out)\n",
            "100%|██████████| 2/2 [00:00<00:00,  4.54it/s]\n"
          ]
        },
        {
          "name": "stdout",
          "output_type": "stream",
          "text": [
            "\n",
            "epoch 19\n",
            "\ttrain_loss:0.546 valid_loss:0.651\n",
            "\ttrain_acc:79.04% valid_acc:73.84%\n",
            "\ttrain_f1:0.790 valid_f1:0.737\n",
            "\ttrain_confusion_matrix:\n",
            "[[1817  225  406]\n",
            " [ 270 1965  216]\n",
            " [ 247  165 1985]]\n",
            "\tvalid_confusion_matrix:\n",
            "[[381  84 125]\n",
            " [ 70 449  73]\n",
            " [ 73  53 519]]\n",
            "Loading saved model from: model_task2.bin\n"
          ]
        },
        {
          "name": "stderr",
          "output_type": "stream",
          "text": [
            "  0%|          | 0/2 [00:00<?, ?it/s]/var/folders/3c/71b8pg6d7j5dht_5h_2n4n_c0000gn/T/ipykernel_8755/1114866685.py:147: UserWarning: Implicit dimension choice for log_softmax has been deprecated. Change the call to include dim=X as an argument.\n",
            "  out = torch.nn.functional.log_softmax(out)\n",
            "100%|██████████| 2/2 [00:00<00:00,  4.49it/s]\n"
          ]
        },
        {
          "name": "stdout",
          "output_type": "stream",
          "text": [
            "              precision    recall  f1-score   support\n",
            "\n",
            "     Neutral       0.73      0.65      0.69       590\n",
            "    Positive       0.76      0.75      0.76       592\n",
            "    Negative       0.73      0.80      0.76       645\n",
            "\n",
            "    accuracy                           0.74      1827\n",
            "   macro avg       0.74      0.74      0.74      1827\n",
            "weighted avg       0.74      0.74      0.74      1827\n",
            "\n",
            "\n",
            "******************************************************************************************\n",
            "Alpha Size: 0.8\n",
            "Window Size: 8\n",
            "******************************************************************************************\n",
            "\n",
            "train samples:7305\n",
            "valid samples:1827\n"
          ]
        },
        {
          "name": "stderr",
          "output_type": "stream",
          "text": [
            "  0%|          | 0/57 [00:00<?, ?it/s]/var/folders/3c/71b8pg6d7j5dht_5h_2n4n_c0000gn/T/ipykernel_8755/1114866685.py:147: UserWarning: Implicit dimension choice for log_softmax has been deprecated. Change the call to include dim=X as an argument.\n",
            "  out = torch.nn.functional.log_softmax(out)\n",
            "100%|██████████| 57/57 [00:12<00:00,  4.55it/s]\n",
            "  0%|          | 0/2 [00:00<?, ?it/s]/var/folders/3c/71b8pg6d7j5dht_5h_2n4n_c0000gn/T/ipykernel_8755/1114866685.py:147: UserWarning: Implicit dimension choice for log_softmax has been deprecated. Change the call to include dim=X as an argument.\n",
            "  out = torch.nn.functional.log_softmax(out)\n",
            "100%|██████████| 2/2 [00:00<00:00,  3.61it/s]\n"
          ]
        },
        {
          "name": "stdout",
          "output_type": "stream",
          "text": [
            "\n",
            "epoch 0\n",
            "\ttrain_loss:1.083 valid_loss:1.067\n",
            "\ttrain_acc:45.18% valid_acc:52.71%\n",
            "\ttrain_f1:0.426 valid_f1:0.526\n",
            "\ttrain_confusion_matrix:\n",
            "[[1770  404  266]\n",
            " [1106 1063  247]\n",
            " [1497  480  463]]\n",
            "\tvalid_confusion_matrix:\n",
            "[[324 131 147]\n",
            " [158 366 101]\n",
            " [191 136 273]]\n"
          ]
        },
        {
          "name": "stderr",
          "output_type": "stream",
          "text": [
            "  0%|          | 0/57 [00:00<?, ?it/s]/var/folders/3c/71b8pg6d7j5dht_5h_2n4n_c0000gn/T/ipykernel_8755/1114866685.py:147: UserWarning: Implicit dimension choice for log_softmax has been deprecated. Change the call to include dim=X as an argument.\n",
            "  out = torch.nn.functional.log_softmax(out)\n",
            "100%|██████████| 57/57 [00:13<00:00,  4.23it/s]\n",
            "  0%|          | 0/2 [00:00<?, ?it/s]/var/folders/3c/71b8pg6d7j5dht_5h_2n4n_c0000gn/T/ipykernel_8755/1114866685.py:147: UserWarning: Implicit dimension choice for log_softmax has been deprecated. Change the call to include dim=X as an argument.\n",
            "  out = torch.nn.functional.log_softmax(out)\n",
            "100%|██████████| 2/2 [00:00<00:00,  3.99it/s]\n"
          ]
        },
        {
          "name": "stdout",
          "output_type": "stream",
          "text": [
            "\n",
            "epoch 1\n",
            "\ttrain_loss:1.035 valid_loss:0.976\n",
            "\ttrain_acc:53.55% valid_acc:56.21%\n",
            "\ttrain_f1:0.532 valid_f1:0.556\n",
            "\ttrain_confusion_matrix:\n",
            "[[1310  567  561]\n",
            " [ 534 1553  329]\n",
            " [ 803  595 1044]]\n",
            "\tvalid_confusion_matrix:\n",
            "[[284 175 143]\n",
            " [ 95 455  75]\n",
            " [145 167 288]]\n"
          ]
        },
        {
          "name": "stderr",
          "output_type": "stream",
          "text": [
            "  0%|          | 0/57 [00:00<?, ?it/s]/var/folders/3c/71b8pg6d7j5dht_5h_2n4n_c0000gn/T/ipykernel_8755/1114866685.py:147: UserWarning: Implicit dimension choice for log_softmax has been deprecated. Change the call to include dim=X as an argument.\n",
            "  out = torch.nn.functional.log_softmax(out)\n",
            "100%|██████████| 57/57 [00:13<00:00,  4.20it/s]\n",
            "  0%|          | 0/2 [00:00<?, ?it/s]/var/folders/3c/71b8pg6d7j5dht_5h_2n4n_c0000gn/T/ipykernel_8755/1114866685.py:147: UserWarning: Implicit dimension choice for log_softmax has been deprecated. Change the call to include dim=X as an argument.\n",
            "  out = torch.nn.functional.log_softmax(out)\n",
            "100%|██████████| 2/2 [00:00<00:00,  4.06it/s]\n"
          ]
        },
        {
          "name": "stdout",
          "output_type": "stream",
          "text": [
            "\n",
            "epoch 2\n",
            "\ttrain_loss:0.918 valid_loss:0.891\n",
            "\ttrain_acc:58.55% valid_acc:61.85%\n",
            "\ttrain_f1:0.577 valid_f1:0.614\n",
            "\ttrain_confusion_matrix:\n",
            "[[ 971  592  877]\n",
            " [ 298 1790  329]\n",
            " [ 401  527 1511]]\n",
            "\tvalid_confusion_matrix:\n",
            "[[277 122 203]\n",
            " [108 454  63]\n",
            " [ 99 102 399]]\n"
          ]
        },
        {
          "name": "stderr",
          "output_type": "stream",
          "text": [
            "  0%|          | 0/57 [00:00<?, ?it/s]/var/folders/3c/71b8pg6d7j5dht_5h_2n4n_c0000gn/T/ipykernel_8755/1114866685.py:147: UserWarning: Implicit dimension choice for log_softmax has been deprecated. Change the call to include dim=X as an argument.\n",
            "  out = torch.nn.functional.log_softmax(out)\n",
            "100%|██████████| 57/57 [00:13<00:00,  4.28it/s]\n",
            "  0%|          | 0/2 [00:00<?, ?it/s]/var/folders/3c/71b8pg6d7j5dht_5h_2n4n_c0000gn/T/ipykernel_8755/1114866685.py:147: UserWarning: Implicit dimension choice for log_softmax has been deprecated. Change the call to include dim=X as an argument.\n",
            "  out = torch.nn.functional.log_softmax(out)\n",
            "100%|██████████| 2/2 [00:00<00:00,  3.92it/s]\n"
          ]
        },
        {
          "name": "stdout",
          "output_type": "stream",
          "text": [
            "\n",
            "epoch 3\n",
            "\ttrain_loss:0.853 valid_loss:0.844\n",
            "\ttrain_acc:62.13% valid_acc:64.04%\n",
            "\ttrain_f1:0.616 valid_f1:0.637\n",
            "\ttrain_confusion_matrix:\n",
            "[[1107  510  820]\n",
            " [ 358 1804  255]\n",
            " [ 479  341 1622]]\n",
            "\tvalid_confusion_matrix:\n",
            "[[301 124 177]\n",
            " [109 461  55]\n",
            " [107  85 408]]\n"
          ]
        },
        {
          "name": "stderr",
          "output_type": "stream",
          "text": [
            "  0%|          | 0/57 [00:00<?, ?it/s]/var/folders/3c/71b8pg6d7j5dht_5h_2n4n_c0000gn/T/ipykernel_8755/1114866685.py:147: UserWarning: Implicit dimension choice for log_softmax has been deprecated. Change the call to include dim=X as an argument.\n",
            "  out = torch.nn.functional.log_softmax(out)\n",
            "100%|██████████| 57/57 [00:13<00:00,  4.37it/s]\n",
            "  0%|          | 0/2 [00:00<?, ?it/s]/var/folders/3c/71b8pg6d7j5dht_5h_2n4n_c0000gn/T/ipykernel_8755/1114866685.py:147: UserWarning: Implicit dimension choice for log_softmax has been deprecated. Change the call to include dim=X as an argument.\n",
            "  out = torch.nn.functional.log_softmax(out)\n",
            "100%|██████████| 2/2 [00:00<00:00,  4.08it/s]\n"
          ]
        },
        {
          "name": "stdout",
          "output_type": "stream",
          "text": [
            "\n",
            "epoch 4\n",
            "\ttrain_loss:0.808 valid_loss:0.815\n",
            "\ttrain_acc:64.39% valid_acc:64.64%\n",
            "\ttrain_f1:0.641 valid_f1:0.641\n",
            "\ttrain_confusion_matrix:\n",
            "[[1217  428  793]\n",
            " [ 384 1770  261]\n",
            " [ 465  267 1711]]\n",
            "\tvalid_confusion_matrix:\n",
            "[[283 101 218]\n",
            " [108 451  66]\n",
            " [ 80  73 447]]\n"
          ]
        },
        {
          "name": "stderr",
          "output_type": "stream",
          "text": [
            "  0%|          | 0/57 [00:00<?, ?it/s]/var/folders/3c/71b8pg6d7j5dht_5h_2n4n_c0000gn/T/ipykernel_8755/1114866685.py:147: UserWarning: Implicit dimension choice for log_softmax has been deprecated. Change the call to include dim=X as an argument.\n",
            "  out = torch.nn.functional.log_softmax(out)\n",
            "100%|██████████| 57/57 [00:13<00:00,  4.30it/s]\n",
            "  0%|          | 0/2 [00:00<?, ?it/s]/var/folders/3c/71b8pg6d7j5dht_5h_2n4n_c0000gn/T/ipykernel_8755/1114866685.py:147: UserWarning: Implicit dimension choice for log_softmax has been deprecated. Change the call to include dim=X as an argument.\n",
            "  out = torch.nn.functional.log_softmax(out)\n",
            "100%|██████████| 2/2 [00:00<00:00,  4.04it/s]\n"
          ]
        },
        {
          "name": "stdout",
          "output_type": "stream",
          "text": [
            "\n",
            "epoch 5\n",
            "\ttrain_loss:0.776 valid_loss:0.795\n",
            "\ttrain_acc:66.15% valid_acc:65.13%\n",
            "\ttrain_f1:0.658 valid_f1:0.647\n",
            "\ttrain_confusion_matrix:\n",
            "[[1275  429  735]\n",
            " [ 351 1808  256]\n",
            " [ 451  248 1743]]\n",
            "\tvalid_confusion_matrix:\n",
            "[[302 139 161]\n",
            " [ 90 486  49]\n",
            " [105  93 402]]\n"
          ]
        },
        {
          "name": "stderr",
          "output_type": "stream",
          "text": [
            "  0%|          | 0/57 [00:00<?, ?it/s]/var/folders/3c/71b8pg6d7j5dht_5h_2n4n_c0000gn/T/ipykernel_8755/1114866685.py:147: UserWarning: Implicit dimension choice for log_softmax has been deprecated. Change the call to include dim=X as an argument.\n",
            "  out = torch.nn.functional.log_softmax(out)\n",
            "100%|██████████| 57/57 [00:13<00:00,  4.25it/s]\n",
            "  0%|          | 0/2 [00:00<?, ?it/s]/var/folders/3c/71b8pg6d7j5dht_5h_2n4n_c0000gn/T/ipykernel_8755/1114866685.py:147: UserWarning: Implicit dimension choice for log_softmax has been deprecated. Change the call to include dim=X as an argument.\n",
            "  out = torch.nn.functional.log_softmax(out)\n",
            "100%|██████████| 2/2 [00:00<00:00,  4.09it/s]\n"
          ]
        },
        {
          "name": "stdout",
          "output_type": "stream",
          "text": [
            "\n",
            "epoch 6\n",
            "\ttrain_loss:0.747 valid_loss:0.768\n",
            "\ttrain_acc:67.26% valid_acc:67.00%\n",
            "\ttrain_f1:0.670 valid_f1:0.669\n",
            "\ttrain_confusion_matrix:\n",
            "[[1319  408  714]\n",
            " [ 357 1807  250]\n",
            " [ 404  256 1781]]\n",
            "\tvalid_confusion_matrix:\n",
            "[[336  92 174]\n",
            " [113 449  63]\n",
            " [ 97  64 439]]\n"
          ]
        },
        {
          "name": "stderr",
          "output_type": "stream",
          "text": [
            "  0%|          | 0/57 [00:00<?, ?it/s]/var/folders/3c/71b8pg6d7j5dht_5h_2n4n_c0000gn/T/ipykernel_8755/1114866685.py:147: UserWarning: Implicit dimension choice for log_softmax has been deprecated. Change the call to include dim=X as an argument.\n",
            "  out = torch.nn.functional.log_softmax(out)\n",
            "100%|██████████| 57/57 [00:13<00:00,  4.33it/s]\n",
            "  0%|          | 0/2 [00:00<?, ?it/s]/var/folders/3c/71b8pg6d7j5dht_5h_2n4n_c0000gn/T/ipykernel_8755/1114866685.py:147: UserWarning: Implicit dimension choice for log_softmax has been deprecated. Change the call to include dim=X as an argument.\n",
            "  out = torch.nn.functional.log_softmax(out)\n",
            "100%|██████████| 2/2 [00:00<00:00,  4.16it/s]\n"
          ]
        },
        {
          "name": "stdout",
          "output_type": "stream",
          "text": [
            "\n",
            "epoch 7\n",
            "\ttrain_loss:0.721 valid_loss:0.766\n",
            "\ttrain_acc:69.45% valid_acc:67.82%\n",
            "\ttrain_f1:0.692 valid_f1:0.676\n",
            "\ttrain_confusion_matrix:\n",
            "[[1387  374  680]\n",
            " [ 331 1835  249]\n",
            " [ 375  220 1845]]\n",
            "\tvalid_confusion_matrix:\n",
            "[[341  97 164]\n",
            " [119 445  61]\n",
            " [ 82  65 453]]\n"
          ]
        },
        {
          "name": "stderr",
          "output_type": "stream",
          "text": [
            "  0%|          | 0/57 [00:00<?, ?it/s]/var/folders/3c/71b8pg6d7j5dht_5h_2n4n_c0000gn/T/ipykernel_8755/1114866685.py:147: UserWarning: Implicit dimension choice for log_softmax has been deprecated. Change the call to include dim=X as an argument.\n",
            "  out = torch.nn.functional.log_softmax(out)\n",
            "100%|██████████| 57/57 [00:13<00:00,  4.33it/s]\n",
            "  0%|          | 0/2 [00:00<?, ?it/s]/var/folders/3c/71b8pg6d7j5dht_5h_2n4n_c0000gn/T/ipykernel_8755/1114866685.py:147: UserWarning: Implicit dimension choice for log_softmax has been deprecated. Change the call to include dim=X as an argument.\n",
            "  out = torch.nn.functional.log_softmax(out)\n",
            "100%|██████████| 2/2 [00:00<00:00,  4.14it/s]\n"
          ]
        },
        {
          "name": "stdout",
          "output_type": "stream",
          "text": [
            "\n",
            "epoch 8\n",
            "\ttrain_loss:0.701 valid_loss:0.775\n",
            "\ttrain_acc:70.19% valid_acc:66.67%\n",
            "\ttrain_f1:0.700 valid_f1:0.668\n",
            "\ttrain_confusion_matrix:\n",
            "[[1410  362  667]\n",
            " [ 327 1854  236]\n",
            " [ 383  200 1857]]\n",
            "\tvalid_confusion_matrix:\n",
            "[[413  98  91]\n",
            " [134 452  39]\n",
            " [178  69 353]]\n"
          ]
        },
        {
          "name": "stderr",
          "output_type": "stream",
          "text": [
            "  0%|          | 0/57 [00:00<?, ?it/s]/var/folders/3c/71b8pg6d7j5dht_5h_2n4n_c0000gn/T/ipykernel_8755/1114866685.py:147: UserWarning: Implicit dimension choice for log_softmax has been deprecated. Change the call to include dim=X as an argument.\n",
            "  out = torch.nn.functional.log_softmax(out)\n",
            "100%|██████████| 57/57 [00:13<00:00,  4.36it/s]\n",
            "  0%|          | 0/2 [00:00<?, ?it/s]/var/folders/3c/71b8pg6d7j5dht_5h_2n4n_c0000gn/T/ipykernel_8755/1114866685.py:147: UserWarning: Implicit dimension choice for log_softmax has been deprecated. Change the call to include dim=X as an argument.\n",
            "  out = torch.nn.functional.log_softmax(out)\n",
            "100%|██████████| 2/2 [00:00<00:00,  4.14it/s]\n"
          ]
        },
        {
          "name": "stdout",
          "output_type": "stream",
          "text": [
            "\n",
            "epoch 9\n",
            "\ttrain_loss:0.688 valid_loss:0.739\n",
            "\ttrain_acc:71.35% valid_acc:69.02%\n",
            "\ttrain_f1:0.712 valid_f1:0.686\n",
            "\ttrain_confusion_matrix:\n",
            "[[1472  338  629]\n",
            " [ 334 1852  231]\n",
            " [ 360  198 1882]]\n",
            "\tvalid_confusion_matrix:\n",
            "[[325 109 168]\n",
            " [ 93 469  63]\n",
            " [ 65  68 467]]\n"
          ]
        },
        {
          "name": "stderr",
          "output_type": "stream",
          "text": [
            "  0%|          | 0/57 [00:00<?, ?it/s]/var/folders/3c/71b8pg6d7j5dht_5h_2n4n_c0000gn/T/ipykernel_8755/1114866685.py:147: UserWarning: Implicit dimension choice for log_softmax has been deprecated. Change the call to include dim=X as an argument.\n",
            "  out = torch.nn.functional.log_softmax(out)\n",
            "100%|██████████| 57/57 [00:13<00:00,  4.26it/s]\n",
            "  0%|          | 0/2 [00:00<?, ?it/s]/var/folders/3c/71b8pg6d7j5dht_5h_2n4n_c0000gn/T/ipykernel_8755/1114866685.py:147: UserWarning: Implicit dimension choice for log_softmax has been deprecated. Change the call to include dim=X as an argument.\n",
            "  out = torch.nn.functional.log_softmax(out)\n",
            "100%|██████████| 2/2 [00:00<00:00,  4.06it/s]\n"
          ]
        },
        {
          "name": "stdout",
          "output_type": "stream",
          "text": [
            "\n",
            "epoch 10\n",
            "\ttrain_loss:0.662 valid_loss:0.735\n",
            "\ttrain_acc:72.85% valid_acc:69.57%\n",
            "\ttrain_f1:0.727 valid_f1:0.691\n",
            "\ttrain_confusion_matrix:\n",
            "[[1505  323  611]\n",
            " [ 292 1887  237]\n",
            " [ 338  180 1923]]\n",
            "\tvalid_confusion_matrix:\n",
            "[[326 118 158]\n",
            " [ 93 470  62]\n",
            " [ 54  71 475]]\n"
          ]
        },
        {
          "name": "stderr",
          "output_type": "stream",
          "text": [
            "  0%|          | 0/57 [00:00<?, ?it/s]/var/folders/3c/71b8pg6d7j5dht_5h_2n4n_c0000gn/T/ipykernel_8755/1114866685.py:147: UserWarning: Implicit dimension choice for log_softmax has been deprecated. Change the call to include dim=X as an argument.\n",
            "  out = torch.nn.functional.log_softmax(out)\n",
            "100%|██████████| 57/57 [00:13<00:00,  4.37it/s]\n",
            "  0%|          | 0/2 [00:00<?, ?it/s]/var/folders/3c/71b8pg6d7j5dht_5h_2n4n_c0000gn/T/ipykernel_8755/1114866685.py:147: UserWarning: Implicit dimension choice for log_softmax has been deprecated. Change the call to include dim=X as an argument.\n",
            "  out = torch.nn.functional.log_softmax(out)\n",
            "100%|██████████| 2/2 [00:00<00:00,  4.10it/s]\n"
          ]
        },
        {
          "name": "stdout",
          "output_type": "stream",
          "text": [
            "\n",
            "epoch 11\n",
            "\ttrain_loss:0.657 valid_loss:0.720\n",
            "\ttrain_acc:73.01% valid_acc:70.66%\n",
            "\ttrain_f1:0.729 valid_f1:0.703\n",
            "\ttrain_confusion_matrix:\n",
            "[[1535  311  594]\n",
            " [ 319 1861  235]\n",
            " [ 340  170 1931]]\n",
            "\tvalid_confusion_matrix:\n",
            "[[342 101 159]\n",
            " [ 92 465  68]\n",
            " [ 56  60 484]]\n"
          ]
        },
        {
          "name": "stderr",
          "output_type": "stream",
          "text": [
            "  0%|          | 0/57 [00:00<?, ?it/s]/var/folders/3c/71b8pg6d7j5dht_5h_2n4n_c0000gn/T/ipykernel_8755/1114866685.py:147: UserWarning: Implicit dimension choice for log_softmax has been deprecated. Change the call to include dim=X as an argument.\n",
            "  out = torch.nn.functional.log_softmax(out)\n",
            "100%|██████████| 57/57 [00:13<00:00,  4.30it/s]\n",
            "  0%|          | 0/2 [00:00<?, ?it/s]/var/folders/3c/71b8pg6d7j5dht_5h_2n4n_c0000gn/T/ipykernel_8755/1114866685.py:147: UserWarning: Implicit dimension choice for log_softmax has been deprecated. Change the call to include dim=X as an argument.\n",
            "  out = torch.nn.functional.log_softmax(out)\n",
            "100%|██████████| 2/2 [00:00<00:00,  4.13it/s]\n"
          ]
        },
        {
          "name": "stdout",
          "output_type": "stream",
          "text": [
            "\n",
            "epoch 12\n",
            "\ttrain_loss:0.637 valid_loss:0.711\n",
            "\ttrain_acc:73.97% valid_acc:70.99%\n",
            "\ttrain_f1:0.738 valid_f1:0.709\n",
            "\ttrain_confusion_matrix:\n",
            "[[1564  323  551]\n",
            " [ 294 1889  233]\n",
            " [ 327  171 1944]]\n",
            "\tvalid_confusion_matrix:\n",
            "[[379  88 135]\n",
            " [120 448  57]\n",
            " [ 76  54 470]]\n"
          ]
        },
        {
          "name": "stderr",
          "output_type": "stream",
          "text": [
            "  0%|          | 0/57 [00:00<?, ?it/s]/var/folders/3c/71b8pg6d7j5dht_5h_2n4n_c0000gn/T/ipykernel_8755/1114866685.py:147: UserWarning: Implicit dimension choice for log_softmax has been deprecated. Change the call to include dim=X as an argument.\n",
            "  out = torch.nn.functional.log_softmax(out)\n",
            "100%|██████████| 57/57 [00:13<00:00,  4.30it/s]\n",
            "  0%|          | 0/2 [00:00<?, ?it/s]/var/folders/3c/71b8pg6d7j5dht_5h_2n4n_c0000gn/T/ipykernel_8755/1114866685.py:147: UserWarning: Implicit dimension choice for log_softmax has been deprecated. Change the call to include dim=X as an argument.\n",
            "  out = torch.nn.functional.log_softmax(out)\n",
            "100%|██████████| 2/2 [00:00<00:00,  4.19it/s]\n"
          ]
        },
        {
          "name": "stdout",
          "output_type": "stream",
          "text": [
            "\n",
            "epoch 13\n",
            "\ttrain_loss:0.617 valid_loss:0.720\n",
            "\ttrain_acc:75.22% valid_acc:70.99%\n",
            "\ttrain_f1:0.751 valid_f1:0.708\n",
            "\ttrain_confusion_matrix:\n",
            "[[1599  294  546]\n",
            " [ 292 1910  213]\n",
            " [ 302  161 1979]]\n",
            "\tvalid_confusion_matrix:\n",
            "[[366  69 167]\n",
            " [116 432  77]\n",
            " [ 55  46 499]]\n"
          ]
        },
        {
          "name": "stderr",
          "output_type": "stream",
          "text": [
            "  0%|          | 0/57 [00:00<?, ?it/s]/var/folders/3c/71b8pg6d7j5dht_5h_2n4n_c0000gn/T/ipykernel_8755/1114866685.py:147: UserWarning: Implicit dimension choice for log_softmax has been deprecated. Change the call to include dim=X as an argument.\n",
            "  out = torch.nn.functional.log_softmax(out)\n",
            "100%|██████████| 57/57 [00:13<00:00,  4.29it/s]\n",
            "  0%|          | 0/2 [00:00<?, ?it/s]/var/folders/3c/71b8pg6d7j5dht_5h_2n4n_c0000gn/T/ipykernel_8755/1114866685.py:147: UserWarning: Implicit dimension choice for log_softmax has been deprecated. Change the call to include dim=X as an argument.\n",
            "  out = torch.nn.functional.log_softmax(out)\n",
            "100%|██████████| 2/2 [00:00<00:00,  4.03it/s]\n"
          ]
        },
        {
          "name": "stdout",
          "output_type": "stream",
          "text": [
            "\n",
            "epoch 14\n",
            "\ttrain_loss:0.605 valid_loss:0.698\n",
            "\ttrain_acc:76.12% valid_acc:72.09%\n",
            "\ttrain_f1:0.760 valid_f1:0.718\n",
            "\ttrain_confusion_matrix:\n",
            "[[1642  276  522]\n",
            " [ 288 1916  211]\n",
            " [ 302  143 1996]]\n",
            "\tvalid_confusion_matrix:\n",
            "[[362 113 127]\n",
            " [ 95 479  51]\n",
            " [ 55  69 476]]\n"
          ]
        },
        {
          "name": "stderr",
          "output_type": "stream",
          "text": [
            "  0%|          | 0/57 [00:00<?, ?it/s]/var/folders/3c/71b8pg6d7j5dht_5h_2n4n_c0000gn/T/ipykernel_8755/1114866685.py:147: UserWarning: Implicit dimension choice for log_softmax has been deprecated. Change the call to include dim=X as an argument.\n",
            "  out = torch.nn.functional.log_softmax(out)\n",
            "100%|██████████| 57/57 [00:13<00:00,  4.13it/s]\n",
            "  0%|          | 0/2 [00:00<?, ?it/s]/var/folders/3c/71b8pg6d7j5dht_5h_2n4n_c0000gn/T/ipykernel_8755/1114866685.py:147: UserWarning: Implicit dimension choice for log_softmax has been deprecated. Change the call to include dim=X as an argument.\n",
            "  out = torch.nn.functional.log_softmax(out)\n",
            "100%|██████████| 2/2 [00:00<00:00,  3.88it/s]\n"
          ]
        },
        {
          "name": "stdout",
          "output_type": "stream",
          "text": [
            "\n",
            "epoch 15\n",
            "\ttrain_loss:0.594 valid_loss:0.693\n",
            "\ttrain_acc:76.32% valid_acc:72.63%\n",
            "\ttrain_f1:0.762 valid_f1:0.726\n",
            "\ttrain_confusion_matrix:\n",
            "[[1639  287  510]\n",
            " [ 275 1934  208]\n",
            " [ 306  142 1995]]\n",
            "\tvalid_confusion_matrix:\n",
            "[[406  78 118]\n",
            " [121 450  54]\n",
            " [ 76  53 471]]\n"
          ]
        },
        {
          "name": "stderr",
          "output_type": "stream",
          "text": [
            "  0%|          | 0/57 [00:00<?, ?it/s]/var/folders/3c/71b8pg6d7j5dht_5h_2n4n_c0000gn/T/ipykernel_8755/1114866685.py:147: UserWarning: Implicit dimension choice for log_softmax has been deprecated. Change the call to include dim=X as an argument.\n",
            "  out = torch.nn.functional.log_softmax(out)\n",
            "100%|██████████| 57/57 [00:13<00:00,  4.11it/s]\n",
            "  0%|          | 0/2 [00:00<?, ?it/s]/var/folders/3c/71b8pg6d7j5dht_5h_2n4n_c0000gn/T/ipykernel_8755/1114866685.py:147: UserWarning: Implicit dimension choice for log_softmax has been deprecated. Change the call to include dim=X as an argument.\n",
            "  out = torch.nn.functional.log_softmax(out)\n",
            "100%|██████████| 2/2 [00:00<00:00,  3.90it/s]\n"
          ]
        },
        {
          "name": "stdout",
          "output_type": "stream",
          "text": [
            "\n",
            "epoch 16\n",
            "\ttrain_loss:0.577 valid_loss:0.687\n",
            "\ttrain_acc:77.40% valid_acc:73.02%\n",
            "\ttrain_f1:0.773 valid_f1:0.728\n",
            "\ttrain_confusion_matrix:\n",
            "[[1689  272  475]\n",
            " [ 281 1939  197]\n",
            " [ 281  143 2019]]\n",
            "\tvalid_confusion_matrix:\n",
            "[[370  96 136]\n",
            " [ 92 472  61]\n",
            " [ 51  57 492]]\n"
          ]
        },
        {
          "name": "stderr",
          "output_type": "stream",
          "text": [
            "  0%|          | 0/57 [00:00<?, ?it/s]/var/folders/3c/71b8pg6d7j5dht_5h_2n4n_c0000gn/T/ipykernel_8755/1114866685.py:147: UserWarning: Implicit dimension choice for log_softmax has been deprecated. Change the call to include dim=X as an argument.\n",
            "  out = torch.nn.functional.log_softmax(out)\n",
            "100%|██████████| 57/57 [00:13<00:00,  4.10it/s]\n",
            "  0%|          | 0/2 [00:00<?, ?it/s]/var/folders/3c/71b8pg6d7j5dht_5h_2n4n_c0000gn/T/ipykernel_8755/1114866685.py:147: UserWarning: Implicit dimension choice for log_softmax has been deprecated. Change the call to include dim=X as an argument.\n",
            "  out = torch.nn.functional.log_softmax(out)\n",
            "100%|██████████| 2/2 [00:00<00:00,  3.59it/s]\n"
          ]
        },
        {
          "name": "stdout",
          "output_type": "stream",
          "text": [
            "\n",
            "epoch 17\n",
            "\ttrain_loss:0.561 valid_loss:0.683\n",
            "\ttrain_acc:78.26% valid_acc:73.23%\n",
            "\ttrain_f1:0.782 valid_f1:0.732\n",
            "\ttrain_confusion_matrix:\n",
            "[[1705  248  483]\n",
            " [ 258 1955  204]\n",
            " [ 269  124 2050]]\n",
            "\tvalid_confusion_matrix:\n",
            "[[398 105  99]\n",
            " [ 99 481  45]\n",
            " [ 72  69 459]]\n"
          ]
        },
        {
          "name": "stderr",
          "output_type": "stream",
          "text": [
            "  0%|          | 0/57 [00:00<?, ?it/s]/var/folders/3c/71b8pg6d7j5dht_5h_2n4n_c0000gn/T/ipykernel_8755/1114866685.py:147: UserWarning: Implicit dimension choice for log_softmax has been deprecated. Change the call to include dim=X as an argument.\n",
            "  out = torch.nn.functional.log_softmax(out)\n",
            "100%|██████████| 57/57 [00:13<00:00,  4.25it/s]\n",
            "  0%|          | 0/2 [00:00<?, ?it/s]/var/folders/3c/71b8pg6d7j5dht_5h_2n4n_c0000gn/T/ipykernel_8755/1114866685.py:147: UserWarning: Implicit dimension choice for log_softmax has been deprecated. Change the call to include dim=X as an argument.\n",
            "  out = torch.nn.functional.log_softmax(out)\n",
            "100%|██████████| 2/2 [00:00<00:00,  3.75it/s]\n"
          ]
        },
        {
          "name": "stdout",
          "output_type": "stream",
          "text": [
            "\n",
            "epoch 18\n",
            "\ttrain_loss:0.548 valid_loss:0.687\n",
            "\ttrain_acc:78.67% valid_acc:71.81%\n",
            "\ttrain_f1:0.786 valid_f1:0.717\n",
            "\ttrain_confusion_matrix:\n",
            "[[1741  242  457]\n",
            " [ 260 1957  199]\n",
            " [ 258  140 2042]]\n",
            "\tvalid_confusion_matrix:\n",
            "[[387  68 147]\n",
            " [125 424  76]\n",
            " [ 55  44 501]]\n"
          ]
        },
        {
          "name": "stderr",
          "output_type": "stream",
          "text": [
            "  0%|          | 0/57 [00:00<?, ?it/s]/var/folders/3c/71b8pg6d7j5dht_5h_2n4n_c0000gn/T/ipykernel_8755/1114866685.py:147: UserWarning: Implicit dimension choice for log_softmax has been deprecated. Change the call to include dim=X as an argument.\n",
            "  out = torch.nn.functional.log_softmax(out)\n",
            "100%|██████████| 57/57 [00:13<00:00,  4.21it/s]\n",
            "  0%|          | 0/2 [00:00<?, ?it/s]/var/folders/3c/71b8pg6d7j5dht_5h_2n4n_c0000gn/T/ipykernel_8755/1114866685.py:147: UserWarning: Implicit dimension choice for log_softmax has been deprecated. Change the call to include dim=X as an argument.\n",
            "  out = torch.nn.functional.log_softmax(out)\n",
            "100%|██████████| 2/2 [00:00<00:00,  3.75it/s]\n"
          ]
        },
        {
          "name": "stdout",
          "output_type": "stream",
          "text": [
            "\n",
            "epoch 19\n",
            "\ttrain_loss:0.550 valid_loss:0.674\n",
            "\ttrain_acc:78.34% valid_acc:73.45%\n",
            "\ttrain_f1:0.783 valid_f1:0.735\n",
            "\ttrain_confusion_matrix:\n",
            "[[1740  253  446]\n",
            " [ 276 1952  189]\n",
            " [ 266  150 2024]]\n",
            "\tvalid_confusion_matrix:\n",
            "[[426  89  87]\n",
            " [112 470  43]\n",
            " [ 87  67 446]]\n",
            "Loading saved model from: model_task2.bin\n"
          ]
        },
        {
          "name": "stderr",
          "output_type": "stream",
          "text": [
            "  0%|          | 0/2 [00:00<?, ?it/s]/var/folders/3c/71b8pg6d7j5dht_5h_2n4n_c0000gn/T/ipykernel_8755/1114866685.py:147: UserWarning: Implicit dimension choice for log_softmax has been deprecated. Change the call to include dim=X as an argument.\n",
            "  out = torch.nn.functional.log_softmax(out)\n",
            "100%|██████████| 2/2 [00:00<00:00,  3.70it/s]\n"
          ]
        },
        {
          "name": "stdout",
          "output_type": "stream",
          "text": [
            "              precision    recall  f1-score   support\n",
            "\n",
            "     Neutral       0.68      0.70      0.69       602\n",
            "    Positive       0.75      0.76      0.76       625\n",
            "    Negative       0.77      0.74      0.76       600\n",
            "\n",
            "    accuracy                           0.74      1827\n",
            "   macro avg       0.74      0.73      0.74      1827\n",
            "weighted avg       0.74      0.74      0.74      1827\n",
            "\n",
            "\n",
            "******************************************************************************************\n",
            "Alpha Size: 1\n",
            "Window Size: 2\n",
            "******************************************************************************************\n",
            "\n",
            "train samples:7305\n",
            "valid samples:1827\n"
          ]
        },
        {
          "name": "stderr",
          "output_type": "stream",
          "text": [
            "  0%|          | 0/57 [00:00<?, ?it/s]/var/folders/3c/71b8pg6d7j5dht_5h_2n4n_c0000gn/T/ipykernel_8755/1114866685.py:147: UserWarning: Implicit dimension choice for log_softmax has been deprecated. Change the call to include dim=X as an argument.\n",
            "  out = torch.nn.functional.log_softmax(out)\n",
            "100%|██████████| 57/57 [00:11<00:00,  4.91it/s]\n",
            "  0%|          | 0/2 [00:00<?, ?it/s]/var/folders/3c/71b8pg6d7j5dht_5h_2n4n_c0000gn/T/ipykernel_8755/1114866685.py:147: UserWarning: Implicit dimension choice for log_softmax has been deprecated. Change the call to include dim=X as an argument.\n",
            "  out = torch.nn.functional.log_softmax(out)\n",
            "100%|██████████| 2/2 [00:00<00:00,  4.36it/s]\n"
          ]
        },
        {
          "name": "stdout",
          "output_type": "stream",
          "text": [
            "\n",
            "epoch 0\n",
            "\ttrain_loss:1.090 valid_loss:1.078\n",
            "\ttrain_acc:40.98% valid_acc:49.75%\n",
            "\ttrain_f1:0.392 valid_f1:0.499\n",
            "\ttrain_confusion_matrix:\n",
            "[[1010  172 1262]\n",
            " [ 754  476 1147]\n",
            " [ 841  130 1504]]\n",
            "\tvalid_confusion_matrix:\n",
            "[[320  75 202]\n",
            " [196 271 197]\n",
            " [198  50 318]]\n"
          ]
        },
        {
          "name": "stderr",
          "output_type": "stream",
          "text": [
            "  0%|          | 0/57 [00:00<?, ?it/s]/var/folders/3c/71b8pg6d7j5dht_5h_2n4n_c0000gn/T/ipykernel_8755/1114866685.py:147: UserWarning: Implicit dimension choice for log_softmax has been deprecated. Change the call to include dim=X as an argument.\n",
            "  out = torch.nn.functional.log_softmax(out)\n",
            "100%|██████████| 57/57 [00:12<00:00,  4.54it/s]\n",
            "  0%|          | 0/2 [00:00<?, ?it/s]/var/folders/3c/71b8pg6d7j5dht_5h_2n4n_c0000gn/T/ipykernel_8755/1114866685.py:147: UserWarning: Implicit dimension choice for log_softmax has been deprecated. Change the call to include dim=X as an argument.\n",
            "  out = torch.nn.functional.log_softmax(out)\n",
            "100%|██████████| 2/2 [00:00<00:00,  4.32it/s]\n"
          ]
        },
        {
          "name": "stdout",
          "output_type": "stream",
          "text": [
            "\n",
            "epoch 1\n",
            "\ttrain_loss:1.057 valid_loss:1.017\n",
            "\ttrain_acc:51.56% valid_acc:54.30%\n",
            "\ttrain_f1:0.516 valid_f1:0.532\n",
            "\ttrain_confusion_matrix:\n",
            "[[1161  491  793]\n",
            " [ 575 1216  586]\n",
            " [ 720  369 1385]]\n",
            "\tvalid_confusion_matrix:\n",
            "[[187 134 276]\n",
            " [ 75 409 180]\n",
            " [ 77  93 396]]\n"
          ]
        },
        {
          "name": "stderr",
          "output_type": "stream",
          "text": [
            "  0%|          | 0/57 [00:00<?, ?it/s]/var/folders/3c/71b8pg6d7j5dht_5h_2n4n_c0000gn/T/ipykernel_8755/1114866685.py:147: UserWarning: Implicit dimension choice for log_softmax has been deprecated. Change the call to include dim=X as an argument.\n",
            "  out = torch.nn.functional.log_softmax(out)\n",
            "100%|██████████| 57/57 [00:12<00:00,  4.55it/s]\n",
            "  0%|          | 0/2 [00:00<?, ?it/s]/var/folders/3c/71b8pg6d7j5dht_5h_2n4n_c0000gn/T/ipykernel_8755/1114866685.py:147: UserWarning: Implicit dimension choice for log_softmax has been deprecated. Change the call to include dim=X as an argument.\n",
            "  out = torch.nn.functional.log_softmax(out)\n",
            "100%|██████████| 2/2 [00:00<00:00,  4.06it/s]\n"
          ]
        },
        {
          "name": "stdout",
          "output_type": "stream",
          "text": [
            "\n",
            "epoch 2\n",
            "\ttrain_loss:0.949 valid_loss:0.893\n",
            "\ttrain_acc:55.83% valid_acc:61.90%\n",
            "\ttrain_f1:0.545 valid_f1:0.620\n",
            "\ttrain_confusion_matrix:\n",
            "[[ 809  656  978]\n",
            " [ 351 1660  368]\n",
            " [ 371  499 1604]]\n",
            "\tvalid_confusion_matrix:\n",
            "[[325 111 161]\n",
            " [154 445  65]\n",
            " [123  82 361]]\n"
          ]
        },
        {
          "name": "stderr",
          "output_type": "stream",
          "text": [
            "  0%|          | 0/57 [00:00<?, ?it/s]/var/folders/3c/71b8pg6d7j5dht_5h_2n4n_c0000gn/T/ipykernel_8755/1114866685.py:147: UserWarning: Implicit dimension choice for log_softmax has been deprecated. Change the call to include dim=X as an argument.\n",
            "  out = torch.nn.functional.log_softmax(out)\n",
            "100%|██████████| 57/57 [00:11<00:00,  4.90it/s]\n",
            "  0%|          | 0/2 [00:00<?, ?it/s]/var/folders/3c/71b8pg6d7j5dht_5h_2n4n_c0000gn/T/ipykernel_8755/1114866685.py:147: UserWarning: Implicit dimension choice for log_softmax has been deprecated. Change the call to include dim=X as an argument.\n",
            "  out = torch.nn.functional.log_softmax(out)\n",
            "100%|██████████| 2/2 [00:00<00:00,  4.72it/s]\n"
          ]
        },
        {
          "name": "stdout",
          "output_type": "stream",
          "text": [
            "\n",
            "epoch 3\n",
            "\ttrain_loss:0.871 valid_loss:0.840\n",
            "\ttrain_acc:60.66% valid_acc:63.98%\n",
            "\ttrain_f1:0.602 valid_f1:0.637\n",
            "\ttrain_confusion_matrix:\n",
            "[[1094  516  835]\n",
            " [ 467 1683  227]\n",
            " [ 483  342 1649]]\n",
            "\tvalid_confusion_matrix:\n",
            "[[302 135 160]\n",
            " [106 489  69]\n",
            " [110  78 378]]\n"
          ]
        },
        {
          "name": "stderr",
          "output_type": "stream",
          "text": [
            "  0%|          | 0/57 [00:00<?, ?it/s]/var/folders/3c/71b8pg6d7j5dht_5h_2n4n_c0000gn/T/ipykernel_8755/1114866685.py:147: UserWarning: Implicit dimension choice for log_softmax has been deprecated. Change the call to include dim=X as an argument.\n",
            "  out = torch.nn.functional.log_softmax(out)\n",
            "100%|██████████| 57/57 [00:11<00:00,  4.86it/s]\n",
            "  0%|          | 0/2 [00:00<?, ?it/s]/var/folders/3c/71b8pg6d7j5dht_5h_2n4n_c0000gn/T/ipykernel_8755/1114866685.py:147: UserWarning: Implicit dimension choice for log_softmax has been deprecated. Change the call to include dim=X as an argument.\n",
            "  out = torch.nn.functional.log_softmax(out)\n",
            "100%|██████████| 2/2 [00:00<00:00,  4.72it/s]\n"
          ]
        },
        {
          "name": "stdout",
          "output_type": "stream",
          "text": [
            "\n",
            "epoch 4\n",
            "\ttrain_loss:0.831 valid_loss:0.825\n",
            "\ttrain_acc:62.53% valid_acc:63.49%\n",
            "\ttrain_f1:0.621 valid_f1:0.632\n",
            "\ttrain_confusion_matrix:\n",
            "[[1163  501  782]\n",
            " [ 435 1726  215]\n",
            " [ 504  297 1673]]\n",
            "\tvalid_confusion_matrix:\n",
            "[[331 152 114]\n",
            " [103 512  49]\n",
            " [155  94 317]]\n"
          ]
        },
        {
          "name": "stderr",
          "output_type": "stream",
          "text": [
            "  0%|          | 0/57 [00:00<?, ?it/s]/var/folders/3c/71b8pg6d7j5dht_5h_2n4n_c0000gn/T/ipykernel_8755/1114866685.py:147: UserWarning: Implicit dimension choice for log_softmax has been deprecated. Change the call to include dim=X as an argument.\n",
            "  out = torch.nn.functional.log_softmax(out)\n",
            "100%|██████████| 57/57 [00:11<00:00,  4.80it/s]\n",
            "  0%|          | 0/2 [00:00<?, ?it/s]/var/folders/3c/71b8pg6d7j5dht_5h_2n4n_c0000gn/T/ipykernel_8755/1114866685.py:147: UserWarning: Implicit dimension choice for log_softmax has been deprecated. Change the call to include dim=X as an argument.\n",
            "  out = torch.nn.functional.log_softmax(out)\n",
            "100%|██████████| 2/2 [00:00<00:00,  4.81it/s]\n"
          ]
        },
        {
          "name": "stdout",
          "output_type": "stream",
          "text": [
            "\n",
            "epoch 5\n",
            "\ttrain_loss:0.810 valid_loss:0.801\n",
            "\ttrain_acc:63.12% valid_acc:64.59%\n",
            "\ttrain_f1:0.630 valid_f1:0.646\n",
            "\ttrain_confusion_matrix:\n",
            "[[1257  454  734]\n",
            " [ 467 1685  222]\n",
            " [ 541  273 1663]]\n",
            "\tvalid_confusion_matrix:\n",
            "[[332  82 183]\n",
            " [151 432  81]\n",
            " [ 98  52 416]]\n"
          ]
        },
        {
          "name": "stderr",
          "output_type": "stream",
          "text": [
            "  0%|          | 0/57 [00:00<?, ?it/s]/var/folders/3c/71b8pg6d7j5dht_5h_2n4n_c0000gn/T/ipykernel_8755/1114866685.py:147: UserWarning: Implicit dimension choice for log_softmax has been deprecated. Change the call to include dim=X as an argument.\n",
            "  out = torch.nn.functional.log_softmax(out)\n",
            "100%|██████████| 57/57 [00:12<00:00,  4.68it/s]\n",
            "  0%|          | 0/2 [00:00<?, ?it/s]/var/folders/3c/71b8pg6d7j5dht_5h_2n4n_c0000gn/T/ipykernel_8755/1114866685.py:147: UserWarning: Implicit dimension choice for log_softmax has been deprecated. Change the call to include dim=X as an argument.\n",
            "  out = torch.nn.functional.log_softmax(out)\n",
            "100%|██████████| 2/2 [00:00<00:00,  4.58it/s]\n"
          ]
        },
        {
          "name": "stdout",
          "output_type": "stream",
          "text": [
            "\n",
            "epoch 6\n",
            "\ttrain_loss:0.781 valid_loss:0.776\n",
            "\ttrain_acc:65.13% valid_acc:67.00%\n",
            "\ttrain_f1:0.648 valid_f1:0.671\n",
            "\ttrain_confusion_matrix:\n",
            "[[1244  413  785]\n",
            " [ 436 1716  225]\n",
            " [ 452  233 1792]]\n",
            "\tvalid_confusion_matrix:\n",
            "[[374  81 142]\n",
            " [137 459  68]\n",
            " [112  63 391]]\n"
          ]
        },
        {
          "name": "stderr",
          "output_type": "stream",
          "text": [
            "  0%|          | 0/57 [00:00<?, ?it/s]/var/folders/3c/71b8pg6d7j5dht_5h_2n4n_c0000gn/T/ipykernel_8755/1114866685.py:147: UserWarning: Implicit dimension choice for log_softmax has been deprecated. Change the call to include dim=X as an argument.\n",
            "  out = torch.nn.functional.log_softmax(out)\n",
            "100%|██████████| 57/57 [00:11<00:00,  4.89it/s]\n",
            "  0%|          | 0/2 [00:00<?, ?it/s]/var/folders/3c/71b8pg6d7j5dht_5h_2n4n_c0000gn/T/ipykernel_8755/1114866685.py:147: UserWarning: Implicit dimension choice for log_softmax has been deprecated. Change the call to include dim=X as an argument.\n",
            "  out = torch.nn.functional.log_softmax(out)\n",
            "100%|██████████| 2/2 [00:00<00:00,  4.88it/s]\n"
          ]
        },
        {
          "name": "stdout",
          "output_type": "stream",
          "text": [
            "\n",
            "epoch 7\n",
            "\ttrain_loss:0.758 valid_loss:0.762\n",
            "\ttrain_acc:66.35% valid_acc:66.61%\n",
            "\ttrain_f1:0.662 valid_f1:0.665\n",
            "\ttrain_confusion_matrix:\n",
            "[[1362  380  702]\n",
            " [ 444 1717  216]\n",
            " [ 479  234 1762]]\n",
            "\tvalid_confusion_matrix:\n",
            "[[338 120 139]\n",
            " [113 485  66]\n",
            " [100  72 394]]\n"
          ]
        },
        {
          "name": "stderr",
          "output_type": "stream",
          "text": [
            "  0%|          | 0/57 [00:00<?, ?it/s]/var/folders/3c/71b8pg6d7j5dht_5h_2n4n_c0000gn/T/ipykernel_8755/1114866685.py:147: UserWarning: Implicit dimension choice for log_softmax has been deprecated. Change the call to include dim=X as an argument.\n",
            "  out = torch.nn.functional.log_softmax(out)\n",
            "100%|██████████| 57/57 [00:11<00:00,  4.93it/s]\n",
            "  0%|          | 0/2 [00:00<?, ?it/s]/var/folders/3c/71b8pg6d7j5dht_5h_2n4n_c0000gn/T/ipykernel_8755/1114866685.py:147: UserWarning: Implicit dimension choice for log_softmax has been deprecated. Change the call to include dim=X as an argument.\n",
            "  out = torch.nn.functional.log_softmax(out)\n",
            "100%|██████████| 2/2 [00:00<00:00,  4.91it/s]\n"
          ]
        },
        {
          "name": "stdout",
          "output_type": "stream",
          "text": [
            "\n",
            "epoch 8\n",
            "\ttrain_loss:0.739 valid_loss:0.758\n",
            "\ttrain_acc:67.74% valid_acc:67.82%\n",
            "\ttrain_f1:0.676 valid_f1:0.675\n",
            "\ttrain_confusion_matrix:\n",
            "[[1388  346  712]\n",
            " [ 429 1732  214]\n",
            " [ 428  225 1822]]\n",
            "\tvalid_confusion_matrix:\n",
            "[[316 100 181]\n",
            " [ 95 483  86]\n",
            " [ 68  58 440]]\n"
          ]
        },
        {
          "name": "stderr",
          "output_type": "stream",
          "text": [
            "  0%|          | 0/57 [00:00<?, ?it/s]/var/folders/3c/71b8pg6d7j5dht_5h_2n4n_c0000gn/T/ipykernel_8755/1114866685.py:147: UserWarning: Implicit dimension choice for log_softmax has been deprecated. Change the call to include dim=X as an argument.\n",
            "  out = torch.nn.functional.log_softmax(out)\n",
            "100%|██████████| 57/57 [00:11<00:00,  4.92it/s]\n",
            "  0%|          | 0/2 [00:00<?, ?it/s]/var/folders/3c/71b8pg6d7j5dht_5h_2n4n_c0000gn/T/ipykernel_8755/1114866685.py:147: UserWarning: Implicit dimension choice for log_softmax has been deprecated. Change the call to include dim=X as an argument.\n",
            "  out = torch.nn.functional.log_softmax(out)\n",
            "100%|██████████| 2/2 [00:00<00:00,  4.76it/s]\n"
          ]
        },
        {
          "name": "stdout",
          "output_type": "stream",
          "text": [
            "\n",
            "epoch 9\n",
            "\ttrain_loss:0.723 valid_loss:0.741\n",
            "\ttrain_acc:68.63% valid_acc:69.18%\n",
            "\ttrain_f1:0.685 valid_f1:0.693\n",
            "\ttrain_confusion_matrix:\n",
            "[[1428  361  657]\n",
            " [ 389 1782  205]\n",
            " [ 457  220 1797]]\n",
            "\tvalid_confusion_matrix:\n",
            "[[392  75 130]\n",
            " [138 453  73]\n",
            " [ 88  59 419]]\n"
          ]
        },
        {
          "name": "stderr",
          "output_type": "stream",
          "text": [
            "  0%|          | 0/57 [00:00<?, ?it/s]/var/folders/3c/71b8pg6d7j5dht_5h_2n4n_c0000gn/T/ipykernel_8755/1114866685.py:147: UserWarning: Implicit dimension choice for log_softmax has been deprecated. Change the call to include dim=X as an argument.\n",
            "  out = torch.nn.functional.log_softmax(out)\n",
            "100%|██████████| 57/57 [00:11<00:00,  4.96it/s]\n",
            "  0%|          | 0/2 [00:00<?, ?it/s]/var/folders/3c/71b8pg6d7j5dht_5h_2n4n_c0000gn/T/ipykernel_8755/1114866685.py:147: UserWarning: Implicit dimension choice for log_softmax has been deprecated. Change the call to include dim=X as an argument.\n",
            "  out = torch.nn.functional.log_softmax(out)\n",
            "100%|██████████| 2/2 [00:00<00:00,  4.87it/s]\n"
          ]
        },
        {
          "name": "stdout",
          "output_type": "stream",
          "text": [
            "\n",
            "epoch 10\n",
            "\ttrain_loss:0.701 valid_loss:0.723\n",
            "\ttrain_acc:69.81% valid_acc:71.15%\n",
            "\ttrain_f1:0.697 valid_f1:0.711\n",
            "\ttrain_confusion_matrix:\n",
            "[[1484  318  641]\n",
            " [ 403 1759  217]\n",
            " [ 409  215 1850]]\n",
            "\tvalid_confusion_matrix:\n",
            "[[380  84 133]\n",
            " [109 480  75]\n",
            " [ 73  53 440]]\n"
          ]
        },
        {
          "name": "stderr",
          "output_type": "stream",
          "text": [
            "  0%|          | 0/57 [00:00<?, ?it/s]/var/folders/3c/71b8pg6d7j5dht_5h_2n4n_c0000gn/T/ipykernel_8755/1114866685.py:147: UserWarning: Implicit dimension choice for log_softmax has been deprecated. Change the call to include dim=X as an argument.\n",
            "  out = torch.nn.functional.log_softmax(out)\n",
            "100%|██████████| 57/57 [00:11<00:00,  4.88it/s]\n",
            "  0%|          | 0/2 [00:00<?, ?it/s]/var/folders/3c/71b8pg6d7j5dht_5h_2n4n_c0000gn/T/ipykernel_8755/1114866685.py:147: UserWarning: Implicit dimension choice for log_softmax has been deprecated. Change the call to include dim=X as an argument.\n",
            "  out = torch.nn.functional.log_softmax(out)\n",
            "100%|██████████| 2/2 [00:00<00:00,  4.85it/s]\n"
          ]
        },
        {
          "name": "stdout",
          "output_type": "stream",
          "text": [
            "\n",
            "epoch 11\n",
            "\ttrain_loss:0.685 valid_loss:0.713\n",
            "\ttrain_acc:71.27% valid_acc:71.26%\n",
            "\ttrain_f1:0.712 valid_f1:0.712\n",
            "\ttrain_confusion_matrix:\n",
            "[[1522  302  621]\n",
            " [ 357 1802  217]\n",
            " [ 391  208 1876]]\n",
            "\tvalid_confusion_matrix:\n",
            "[[384  75 138]\n",
            " [110 470  84]\n",
            " [ 69  49 448]]\n"
          ]
        },
        {
          "name": "stderr",
          "output_type": "stream",
          "text": [
            "  0%|          | 0/57 [00:00<?, ?it/s]/var/folders/3c/71b8pg6d7j5dht_5h_2n4n_c0000gn/T/ipykernel_8755/1114866685.py:147: UserWarning: Implicit dimension choice for log_softmax has been deprecated. Change the call to include dim=X as an argument.\n",
            "  out = torch.nn.functional.log_softmax(out)\n",
            "100%|██████████| 57/57 [00:11<00:00,  4.87it/s]\n",
            "  0%|          | 0/2 [00:00<?, ?it/s]/var/folders/3c/71b8pg6d7j5dht_5h_2n4n_c0000gn/T/ipykernel_8755/1114866685.py:147: UserWarning: Implicit dimension choice for log_softmax has been deprecated. Change the call to include dim=X as an argument.\n",
            "  out = torch.nn.functional.log_softmax(out)\n",
            "100%|██████████| 2/2 [00:00<00:00,  4.81it/s]\n"
          ]
        },
        {
          "name": "stdout",
          "output_type": "stream",
          "text": [
            "\n",
            "epoch 12\n",
            "\ttrain_loss:0.667 valid_loss:0.726\n",
            "\ttrain_acc:72.01% valid_acc:70.22%\n",
            "\ttrain_f1:0.720 valid_f1:0.704\n",
            "\ttrain_confusion_matrix:\n",
            "[[1584  286  577]\n",
            " [ 362 1803  210]\n",
            " [ 418  189 1867]]\n",
            "\tvalid_confusion_matrix:\n",
            "[[414  52 131]\n",
            " [142 436  86]\n",
            " [ 92  41 433]]\n"
          ]
        },
        {
          "name": "stderr",
          "output_type": "stream",
          "text": [
            "  0%|          | 0/57 [00:00<?, ?it/s]/var/folders/3c/71b8pg6d7j5dht_5h_2n4n_c0000gn/T/ipykernel_8755/1114866685.py:147: UserWarning: Implicit dimension choice for log_softmax has been deprecated. Change the call to include dim=X as an argument.\n",
            "  out = torch.nn.functional.log_softmax(out)\n",
            "100%|██████████| 57/57 [00:11<00:00,  4.78it/s]\n",
            "  0%|          | 0/2 [00:00<?, ?it/s]/var/folders/3c/71b8pg6d7j5dht_5h_2n4n_c0000gn/T/ipykernel_8755/1114866685.py:147: UserWarning: Implicit dimension choice for log_softmax has been deprecated. Change the call to include dim=X as an argument.\n",
            "  out = torch.nn.functional.log_softmax(out)\n",
            "100%|██████████| 2/2 [00:00<00:00,  4.75it/s]\n"
          ]
        },
        {
          "name": "stdout",
          "output_type": "stream",
          "text": [
            "\n",
            "epoch 13\n",
            "\ttrain_loss:0.655 valid_loss:0.692\n",
            "\ttrain_acc:72.51% valid_acc:72.09%\n",
            "\ttrain_f1:0.725 valid_f1:0.721\n",
            "\ttrain_confusion_matrix:\n",
            "[[1593  293  557]\n",
            " [ 354 1804  220]\n",
            " [ 361  221 1893]]\n",
            "\tvalid_confusion_matrix:\n",
            "[[403  78 116]\n",
            " [107 477  80]\n",
            " [ 78  51 437]]\n"
          ]
        },
        {
          "name": "stderr",
          "output_type": "stream",
          "text": [
            "  0%|          | 0/57 [00:00<?, ?it/s]/var/folders/3c/71b8pg6d7j5dht_5h_2n4n_c0000gn/T/ipykernel_8755/1114866685.py:147: UserWarning: Implicit dimension choice for log_softmax has been deprecated. Change the call to include dim=X as an argument.\n",
            "  out = torch.nn.functional.log_softmax(out)\n",
            "100%|██████████| 57/57 [00:11<00:00,  4.86it/s]\n",
            "  0%|          | 0/2 [00:00<?, ?it/s]/var/folders/3c/71b8pg6d7j5dht_5h_2n4n_c0000gn/T/ipykernel_8755/1114866685.py:147: UserWarning: Implicit dimension choice for log_softmax has been deprecated. Change the call to include dim=X as an argument.\n",
            "  out = torch.nn.functional.log_softmax(out)\n",
            "100%|██████████| 2/2 [00:00<00:00,  4.86it/s]\n"
          ]
        },
        {
          "name": "stdout",
          "output_type": "stream",
          "text": [
            "\n",
            "epoch 14\n",
            "\ttrain_loss:0.627 valid_loss:0.681\n",
            "\ttrain_acc:73.94% valid_acc:72.30%\n",
            "\ttrain_f1:0.739 valid_f1:0.723\n",
            "\ttrain_confusion_matrix:\n",
            "[[1621  279  542]\n",
            " [ 338 1813  225]\n",
            " [ 323  194 1961]]\n",
            "\tvalid_confusion_matrix:\n",
            "[[410  76 111]\n",
            " [112 483  69]\n",
            " [ 81  57 428]]\n"
          ]
        },
        {
          "name": "stderr",
          "output_type": "stream",
          "text": [
            "  0%|          | 0/57 [00:00<?, ?it/s]/var/folders/3c/71b8pg6d7j5dht_5h_2n4n_c0000gn/T/ipykernel_8755/1114866685.py:147: UserWarning: Implicit dimension choice for log_softmax has been deprecated. Change the call to include dim=X as an argument.\n",
            "  out = torch.nn.functional.log_softmax(out)\n",
            "100%|██████████| 57/57 [00:11<00:00,  4.75it/s]\n",
            "  0%|          | 0/2 [00:00<?, ?it/s]/var/folders/3c/71b8pg6d7j5dht_5h_2n4n_c0000gn/T/ipykernel_8755/1114866685.py:147: UserWarning: Implicit dimension choice for log_softmax has been deprecated. Change the call to include dim=X as an argument.\n",
            "  out = torch.nn.functional.log_softmax(out)\n",
            "100%|██████████| 2/2 [00:00<00:00,  4.85it/s]\n"
          ]
        },
        {
          "name": "stdout",
          "output_type": "stream",
          "text": [
            "\n",
            "epoch 15\n",
            "\ttrain_loss:0.616 valid_loss:0.687\n",
            "\ttrain_acc:75.08% valid_acc:72.25%\n",
            "\ttrain_f1:0.750 valid_f1:0.724\n",
            "\ttrain_confusion_matrix:\n",
            "[[1688  281  476]\n",
            " [ 325 1836  215]\n",
            " [ 323  198 1954]]\n",
            "\tvalid_confusion_matrix:\n",
            "[[451  56  90]\n",
            " [157 451  56]\n",
            " [ 91  57 418]]\n"
          ]
        },
        {
          "name": "stderr",
          "output_type": "stream",
          "text": [
            "  0%|          | 0/57 [00:00<?, ?it/s]/var/folders/3c/71b8pg6d7j5dht_5h_2n4n_c0000gn/T/ipykernel_8755/1114866685.py:147: UserWarning: Implicit dimension choice for log_softmax has been deprecated. Change the call to include dim=X as an argument.\n",
            "  out = torch.nn.functional.log_softmax(out)\n",
            "100%|██████████| 57/57 [00:11<00:00,  4.87it/s]\n",
            "  0%|          | 0/2 [00:00<?, ?it/s]/var/folders/3c/71b8pg6d7j5dht_5h_2n4n_c0000gn/T/ipykernel_8755/1114866685.py:147: UserWarning: Implicit dimension choice for log_softmax has been deprecated. Change the call to include dim=X as an argument.\n",
            "  out = torch.nn.functional.log_softmax(out)\n",
            "100%|██████████| 2/2 [00:00<00:00,  4.18it/s]\n"
          ]
        },
        {
          "name": "stdout",
          "output_type": "stream",
          "text": [
            "\n",
            "epoch 16\n",
            "\ttrain_loss:0.600 valid_loss:0.663\n",
            "\ttrain_acc:75.77% valid_acc:73.45%\n",
            "\ttrain_f1:0.757 valid_f1:0.734\n",
            "\ttrain_confusion_matrix:\n",
            "[[1707  279  458]\n",
            " [ 340 1839  198]\n",
            " [ 302  191 1982]]\n",
            "\tvalid_confusion_matrix:\n",
            "[[388  83 126]\n",
            " [ 87 492  85]\n",
            " [ 50  54 462]]\n"
          ]
        },
        {
          "name": "stderr",
          "output_type": "stream",
          "text": [
            "  0%|          | 0/57 [00:00<?, ?it/s]/var/folders/3c/71b8pg6d7j5dht_5h_2n4n_c0000gn/T/ipykernel_8755/1114866685.py:147: UserWarning: Implicit dimension choice for log_softmax has been deprecated. Change the call to include dim=X as an argument.\n",
            "  out = torch.nn.functional.log_softmax(out)\n",
            "100%|██████████| 57/57 [00:11<00:00,  4.82it/s]\n",
            "  0%|          | 0/2 [00:00<?, ?it/s]/var/folders/3c/71b8pg6d7j5dht_5h_2n4n_c0000gn/T/ipykernel_8755/1114866685.py:147: UserWarning: Implicit dimension choice for log_softmax has been deprecated. Change the call to include dim=X as an argument.\n",
            "  out = torch.nn.functional.log_softmax(out)\n",
            "100%|██████████| 2/2 [00:00<00:00,  4.83it/s]\n"
          ]
        },
        {
          "name": "stdout",
          "output_type": "stream",
          "text": [
            "\n",
            "epoch 17\n",
            "\ttrain_loss:0.578 valid_loss:0.659\n",
            "\ttrain_acc:76.67% valid_acc:74.60%\n",
            "\ttrain_f1:0.766 valid_f1:0.746\n",
            "\ttrain_confusion_matrix:\n",
            "[[1727  260  457]\n",
            " [ 303 1869  208]\n",
            " [ 289  185 1998]]\n",
            "\tvalid_confusion_matrix:\n",
            "[[445  66  86]\n",
            " [111 490  63]\n",
            " [ 76  62 428]]\n"
          ]
        },
        {
          "name": "stderr",
          "output_type": "stream",
          "text": [
            "  0%|          | 0/57 [00:00<?, ?it/s]/var/folders/3c/71b8pg6d7j5dht_5h_2n4n_c0000gn/T/ipykernel_8755/1114866685.py:147: UserWarning: Implicit dimension choice for log_softmax has been deprecated. Change the call to include dim=X as an argument.\n",
            "  out = torch.nn.functional.log_softmax(out)\n",
            "100%|██████████| 57/57 [00:11<00:00,  4.81it/s]\n",
            "  0%|          | 0/2 [00:00<?, ?it/s]/var/folders/3c/71b8pg6d7j5dht_5h_2n4n_c0000gn/T/ipykernel_8755/1114866685.py:147: UserWarning: Implicit dimension choice for log_softmax has been deprecated. Change the call to include dim=X as an argument.\n",
            "  out = torch.nn.functional.log_softmax(out)\n",
            "100%|██████████| 2/2 [00:00<00:00,  4.86it/s]\n"
          ]
        },
        {
          "name": "stdout",
          "output_type": "stream",
          "text": [
            "\n",
            "epoch 18\n",
            "\ttrain_loss:0.565 valid_loss:0.655\n",
            "\ttrain_acc:77.54% valid_acc:74.77%\n",
            "\ttrain_f1:0.775 valid_f1:0.748\n",
            "\ttrain_confusion_matrix:\n",
            "[[1764  262  419]\n",
            " [ 309 1878  189]\n",
            " [ 270  190 2015]]\n",
            "\tvalid_confusion_matrix:\n",
            "[[453  54  90]\n",
            " [129 466  69]\n",
            " [ 70  49 447]]\n"
          ]
        },
        {
          "name": "stderr",
          "output_type": "stream",
          "text": [
            "  0%|          | 0/57 [00:00<?, ?it/s]/var/folders/3c/71b8pg6d7j5dht_5h_2n4n_c0000gn/T/ipykernel_8755/1114866685.py:147: UserWarning: Implicit dimension choice for log_softmax has been deprecated. Change the call to include dim=X as an argument.\n",
            "  out = torch.nn.functional.log_softmax(out)\n",
            "100%|██████████| 57/57 [00:11<00:00,  4.76it/s]\n",
            "  0%|          | 0/2 [00:00<?, ?it/s]/var/folders/3c/71b8pg6d7j5dht_5h_2n4n_c0000gn/T/ipykernel_8755/1114866685.py:147: UserWarning: Implicit dimension choice for log_softmax has been deprecated. Change the call to include dim=X as an argument.\n",
            "  out = torch.nn.functional.log_softmax(out)\n",
            "100%|██████████| 2/2 [00:00<00:00,  4.83it/s]\n"
          ]
        },
        {
          "name": "stdout",
          "output_type": "stream",
          "text": [
            "\n",
            "epoch 19\n",
            "\ttrain_loss:0.560 valid_loss:0.641\n",
            "\ttrain_acc:77.85% valid_acc:74.71%\n",
            "\ttrain_f1:0.778 valid_f1:0.747\n",
            "\ttrain_confusion_matrix:\n",
            "[[1794  237  413]\n",
            " [ 303 1865  209]\n",
            " [ 287  167 2021]]\n",
            "\tvalid_confusion_matrix:\n",
            "[[430  60 107]\n",
            " [110 473  81]\n",
            " [ 54  50 462]]\n",
            "Loading saved model from: model_task2.bin\n"
          ]
        },
        {
          "name": "stderr",
          "output_type": "stream",
          "text": [
            "  0%|          | 0/2 [00:00<?, ?it/s]/var/folders/3c/71b8pg6d7j5dht_5h_2n4n_c0000gn/T/ipykernel_8755/1114866685.py:147: UserWarning: Implicit dimension choice for log_softmax has been deprecated. Change the call to include dim=X as an argument.\n",
            "  out = torch.nn.functional.log_softmax(out)\n",
            "100%|██████████| 2/2 [00:00<00:00,  4.89it/s]\n"
          ]
        },
        {
          "name": "stdout",
          "output_type": "stream",
          "text": [
            "              precision    recall  f1-score   support\n",
            "\n",
            "     Neutral       0.72      0.73      0.72       597\n",
            "    Positive       0.81      0.72      0.76       664\n",
            "    Negative       0.72      0.81      0.76       566\n",
            "\n",
            "    accuracy                           0.75      1827\n",
            "   macro avg       0.75      0.75      0.75      1827\n",
            "weighted avg       0.75      0.75      0.75      1827\n",
            "\n",
            "\n",
            "******************************************************************************************\n",
            "Alpha Size: 1\n",
            "Window Size: 4\n",
            "******************************************************************************************\n",
            "\n",
            "train samples:7305\n",
            "valid samples:1827\n"
          ]
        },
        {
          "name": "stderr",
          "output_type": "stream",
          "text": [
            "  0%|          | 0/57 [00:00<?, ?it/s]/var/folders/3c/71b8pg6d7j5dht_5h_2n4n_c0000gn/T/ipykernel_8755/1114866685.py:147: UserWarning: Implicit dimension choice for log_softmax has been deprecated. Change the call to include dim=X as an argument.\n",
            "  out = torch.nn.functional.log_softmax(out)\n",
            "100%|██████████| 57/57 [00:12<00:00,  4.59it/s]\n",
            "  0%|          | 0/2 [00:00<?, ?it/s]/var/folders/3c/71b8pg6d7j5dht_5h_2n4n_c0000gn/T/ipykernel_8755/1114866685.py:147: UserWarning: Implicit dimension choice for log_softmax has been deprecated. Change the call to include dim=X as an argument.\n",
            "  out = torch.nn.functional.log_softmax(out)\n",
            "100%|██████████| 2/2 [00:00<00:00,  4.31it/s]\n"
          ]
        },
        {
          "name": "stdout",
          "output_type": "stream",
          "text": [
            "\n",
            "epoch 0\n",
            "\ttrain_loss:1.088 valid_loss:1.076\n",
            "\ttrain_acc:43.96% valid_acc:50.96%\n",
            "\ttrain_f1:0.416 valid_f1:0.506\n",
            "\ttrain_confusion_matrix:\n",
            "[[ 799 1259  371]\n",
            " [ 431 1812  211]\n",
            " [ 595 1222  596]]\n",
            "\tvalid_confusion_matrix:\n",
            "[[257 193 159]\n",
            " [119 379  91]\n",
            " [167 167 295]]\n"
          ]
        },
        {
          "name": "stderr",
          "output_type": "stream",
          "text": [
            "  0%|          | 0/57 [00:00<?, ?it/s]/var/folders/3c/71b8pg6d7j5dht_5h_2n4n_c0000gn/T/ipykernel_8755/1114866685.py:147: UserWarning: Implicit dimension choice for log_softmax has been deprecated. Change the call to include dim=X as an argument.\n",
            "  out = torch.nn.functional.log_softmax(out)\n",
            "100%|██████████| 57/57 [00:13<00:00,  4.36it/s]\n",
            "  0%|          | 0/2 [00:00<?, ?it/s]/var/folders/3c/71b8pg6d7j5dht_5h_2n4n_c0000gn/T/ipykernel_8755/1114866685.py:147: UserWarning: Implicit dimension choice for log_softmax has been deprecated. Change the call to include dim=X as an argument.\n",
            "  out = torch.nn.functional.log_softmax(out)\n",
            "100%|██████████| 2/2 [00:00<00:00,  3.85it/s]\n"
          ]
        },
        {
          "name": "stdout",
          "output_type": "stream",
          "text": [
            "\n",
            "epoch 1\n",
            "\ttrain_loss:1.049 valid_loss:0.998\n",
            "\ttrain_acc:53.74% valid_acc:54.57%\n",
            "\ttrain_f1:0.534 valid_f1:0.533\n",
            "\ttrain_confusion_matrix:\n",
            "[[1005  564  864]\n",
            " [ 461 1530  459]\n",
            " [ 504  523 1386]]\n",
            "\tvalid_confusion_matrix:\n",
            "[[194 152 263]\n",
            " [ 85 396 108]\n",
            " [ 97 125 407]]\n"
          ]
        },
        {
          "name": "stderr",
          "output_type": "stream",
          "text": [
            "  0%|          | 0/57 [00:00<?, ?it/s]/var/folders/3c/71b8pg6d7j5dht_5h_2n4n_c0000gn/T/ipykernel_8755/1114866685.py:147: UserWarning: Implicit dimension choice for log_softmax has been deprecated. Change the call to include dim=X as an argument.\n",
            "  out = torch.nn.functional.log_softmax(out)\n",
            "100%|██████████| 57/57 [00:13<00:00,  4.29it/s]\n",
            "  0%|          | 0/2 [00:00<?, ?it/s]/var/folders/3c/71b8pg6d7j5dht_5h_2n4n_c0000gn/T/ipykernel_8755/1114866685.py:147: UserWarning: Implicit dimension choice for log_softmax has been deprecated. Change the call to include dim=X as an argument.\n",
            "  out = torch.nn.functional.log_softmax(out)\n",
            "100%|██████████| 2/2 [00:00<00:00,  4.00it/s]\n"
          ]
        },
        {
          "name": "stdout",
          "output_type": "stream",
          "text": [
            "\n",
            "epoch 2\n",
            "\ttrain_loss:0.935 valid_loss:0.901\n",
            "\ttrain_acc:57.15% valid_acc:59.44%\n",
            "\ttrain_f1:0.556 valid_f1:0.591\n",
            "\ttrain_confusion_matrix:\n",
            "[[ 786  656  991]\n",
            " [ 281 1820  351]\n",
            " [ 323  524 1564]]\n",
            "\tvalid_confusion_matrix:\n",
            "[[293 141 175]\n",
            " [103 434  52]\n",
            " [172  98 359]]\n"
          ]
        },
        {
          "name": "stderr",
          "output_type": "stream",
          "text": [
            "  0%|          | 0/57 [00:00<?, ?it/s]/var/folders/3c/71b8pg6d7j5dht_5h_2n4n_c0000gn/T/ipykernel_8755/1114866685.py:147: UserWarning: Implicit dimension choice for log_softmax has been deprecated. Change the call to include dim=X as an argument.\n",
            "  out = torch.nn.functional.log_softmax(out)\n",
            "100%|██████████| 57/57 [00:13<00:00,  4.38it/s]\n",
            "  0%|          | 0/2 [00:00<?, ?it/s]/var/folders/3c/71b8pg6d7j5dht_5h_2n4n_c0000gn/T/ipykernel_8755/1114866685.py:147: UserWarning: Implicit dimension choice for log_softmax has been deprecated. Change the call to include dim=X as an argument.\n",
            "  out = torch.nn.functional.log_softmax(out)\n",
            "100%|██████████| 2/2 [00:00<00:00,  3.64it/s]\n"
          ]
        },
        {
          "name": "stdout",
          "output_type": "stream",
          "text": [
            "\n",
            "epoch 3\n",
            "\ttrain_loss:0.859 valid_loss:0.847\n",
            "\ttrain_acc:61.51% valid_acc:63.77%\n",
            "\ttrain_f1:0.612 valid_f1:0.632\n",
            "\ttrain_confusion_matrix:\n",
            "[[1157  489  786]\n",
            " [ 450 1774  227]\n",
            " [ 508  348 1557]]\n",
            "\tvalid_confusion_matrix:\n",
            "[[284 141 184]\n",
            " [ 73 442  74]\n",
            " [112  78 439]]\n"
          ]
        },
        {
          "name": "stderr",
          "output_type": "stream",
          "text": [
            "  0%|          | 0/57 [00:00<?, ?it/s]/var/folders/3c/71b8pg6d7j5dht_5h_2n4n_c0000gn/T/ipykernel_8755/1114866685.py:147: UserWarning: Implicit dimension choice for log_softmax has been deprecated. Change the call to include dim=X as an argument.\n",
            "  out = torch.nn.functional.log_softmax(out)\n",
            "100%|██████████| 57/57 [00:12<00:00,  4.56it/s]\n",
            "  0%|          | 0/2 [00:00<?, ?it/s]/var/folders/3c/71b8pg6d7j5dht_5h_2n4n_c0000gn/T/ipykernel_8755/1114866685.py:147: UserWarning: Implicit dimension choice for log_softmax has been deprecated. Change the call to include dim=X as an argument.\n",
            "  out = torch.nn.functional.log_softmax(out)\n",
            "100%|██████████| 2/2 [00:00<00:00,  4.21it/s]\n"
          ]
        },
        {
          "name": "stdout",
          "output_type": "stream",
          "text": [
            "\n",
            "epoch 4\n",
            "\ttrain_loss:0.813 valid_loss:0.835\n",
            "\ttrain_acc:64.05% valid_acc:63.00%\n",
            "\ttrain_f1:0.638 valid_f1:0.629\n",
            "\ttrain_confusion_matrix:\n",
            "[[1227  451  754]\n",
            " [ 384 1816  252]\n",
            " [ 510  272 1630]]\n",
            "\tvalid_confusion_matrix:\n",
            "[[360 129 120]\n",
            " [104 445  40]\n",
            " [201  82 346]]\n"
          ]
        },
        {
          "name": "stderr",
          "output_type": "stream",
          "text": [
            "  0%|          | 0/57 [00:00<?, ?it/s]/var/folders/3c/71b8pg6d7j5dht_5h_2n4n_c0000gn/T/ipykernel_8755/1114866685.py:147: UserWarning: Implicit dimension choice for log_softmax has been deprecated. Change the call to include dim=X as an argument.\n",
            "  out = torch.nn.functional.log_softmax(out)\n",
            "100%|██████████| 57/57 [00:12<00:00,  4.64it/s]\n",
            "  0%|          | 0/2 [00:00<?, ?it/s]/var/folders/3c/71b8pg6d7j5dht_5h_2n4n_c0000gn/T/ipykernel_8755/1114866685.py:147: UserWarning: Implicit dimension choice for log_softmax has been deprecated. Change the call to include dim=X as an argument.\n",
            "  out = torch.nn.functional.log_softmax(out)\n",
            "100%|██████████| 2/2 [00:00<00:00,  4.53it/s]\n"
          ]
        },
        {
          "name": "stdout",
          "output_type": "stream",
          "text": [
            "\n",
            "epoch 5\n",
            "\ttrain_loss:0.786 valid_loss:0.806\n",
            "\ttrain_acc:65.01% valid_acc:65.52%\n",
            "\ttrain_f1:0.648 valid_f1:0.654\n",
            "\ttrain_confusion_matrix:\n",
            "[[1272  440  718]\n",
            " [ 405 1793  256]\n",
            " [ 482  252 1678]]\n",
            "\tvalid_confusion_matrix:\n",
            "[[352 119 138]\n",
            " [ 90 438  61]\n",
            " [154  68 407]]\n"
          ]
        },
        {
          "name": "stderr",
          "output_type": "stream",
          "text": [
            "  0%|          | 0/57 [00:00<?, ?it/s]/var/folders/3c/71b8pg6d7j5dht_5h_2n4n_c0000gn/T/ipykernel_8755/1114866685.py:147: UserWarning: Implicit dimension choice for log_softmax has been deprecated. Change the call to include dim=X as an argument.\n",
            "  out = torch.nn.functional.log_softmax(out)\n",
            "100%|██████████| 57/57 [00:12<00:00,  4.63it/s]\n",
            "  0%|          | 0/2 [00:00<?, ?it/s]/var/folders/3c/71b8pg6d7j5dht_5h_2n4n_c0000gn/T/ipykernel_8755/1114866685.py:147: UserWarning: Implicit dimension choice for log_softmax has been deprecated. Change the call to include dim=X as an argument.\n",
            "  out = torch.nn.functional.log_softmax(out)\n",
            "100%|██████████| 2/2 [00:00<00:00,  4.35it/s]\n"
          ]
        },
        {
          "name": "stdout",
          "output_type": "stream",
          "text": [
            "\n",
            "epoch 6\n",
            "\ttrain_loss:0.762 valid_loss:0.798\n",
            "\ttrain_acc:66.61% valid_acc:65.96%\n",
            "\ttrain_f1:0.664 valid_f1:0.660\n",
            "\ttrain_confusion_matrix:\n",
            "[[1327  417  686]\n",
            " [ 391 1808  253]\n",
            " [ 451  238 1725]]\n",
            "\tvalid_confusion_matrix:\n",
            "[[367  86 156]\n",
            " [108 411  70]\n",
            " [149  53 427]]\n"
          ]
        },
        {
          "name": "stderr",
          "output_type": "stream",
          "text": [
            "  0%|          | 0/57 [00:00<?, ?it/s]/var/folders/3c/71b8pg6d7j5dht_5h_2n4n_c0000gn/T/ipykernel_8755/1114866685.py:147: UserWarning: Implicit dimension choice for log_softmax has been deprecated. Change the call to include dim=X as an argument.\n",
            "  out = torch.nn.functional.log_softmax(out)\n",
            "100%|██████████| 57/57 [00:12<00:00,  4.61it/s]\n",
            "  0%|          | 0/2 [00:00<?, ?it/s]/var/folders/3c/71b8pg6d7j5dht_5h_2n4n_c0000gn/T/ipykernel_8755/1114866685.py:147: UserWarning: Implicit dimension choice for log_softmax has been deprecated. Change the call to include dim=X as an argument.\n",
            "  out = torch.nn.functional.log_softmax(out)\n",
            "100%|██████████| 2/2 [00:00<00:00,  4.42it/s]\n"
          ]
        },
        {
          "name": "stdout",
          "output_type": "stream",
          "text": [
            "\n",
            "epoch 7\n",
            "\ttrain_loss:0.747 valid_loss:0.789\n",
            "\ttrain_acc:67.86% valid_acc:66.28%\n",
            "\ttrain_f1:0.678 valid_f1:0.660\n",
            "\ttrain_confusion_matrix:\n",
            "[[1399  372  659]\n",
            " [ 402 1807  245]\n",
            " [ 437  230 1745]]\n",
            "\tvalid_confusion_matrix:\n",
            "[[336 144 129]\n",
            " [ 76 467  46]\n",
            " [129  92 408]]\n"
          ]
        },
        {
          "name": "stderr",
          "output_type": "stream",
          "text": [
            "  0%|          | 0/57 [00:00<?, ?it/s]/var/folders/3c/71b8pg6d7j5dht_5h_2n4n_c0000gn/T/ipykernel_8755/1114866685.py:147: UserWarning: Implicit dimension choice for log_softmax has been deprecated. Change the call to include dim=X as an argument.\n",
            "  out = torch.nn.functional.log_softmax(out)\n",
            "100%|██████████| 57/57 [00:12<00:00,  4.53it/s]\n",
            "  0%|          | 0/2 [00:00<?, ?it/s]/var/folders/3c/71b8pg6d7j5dht_5h_2n4n_c0000gn/T/ipykernel_8755/1114866685.py:147: UserWarning: Implicit dimension choice for log_softmax has been deprecated. Change the call to include dim=X as an argument.\n",
            "  out = torch.nn.functional.log_softmax(out)\n",
            "100%|██████████| 2/2 [00:00<00:00,  4.49it/s]\n"
          ]
        },
        {
          "name": "stdout",
          "output_type": "stream",
          "text": [
            "\n",
            "epoch 8\n",
            "\ttrain_loss:0.727 valid_loss:0.769\n",
            "\ttrain_acc:68.70% valid_acc:67.16%\n",
            "\ttrain_f1:0.686 valid_f1:0.669\n",
            "\ttrain_confusion_matrix:\n",
            "[[1415  372  644]\n",
            " [ 400 1810  240]\n",
            " [ 397  231 1787]]\n",
            "\tvalid_confusion_matrix:\n",
            "[[353 125 131]\n",
            " [ 78 460  51]\n",
            " [126  89 414]]\n"
          ]
        },
        {
          "name": "stderr",
          "output_type": "stream",
          "text": [
            "  0%|          | 0/57 [00:00<?, ?it/s]/var/folders/3c/71b8pg6d7j5dht_5h_2n4n_c0000gn/T/ipykernel_8755/1114866685.py:147: UserWarning: Implicit dimension choice for log_softmax has been deprecated. Change the call to include dim=X as an argument.\n",
            "  out = torch.nn.functional.log_softmax(out)\n",
            "100%|██████████| 57/57 [00:12<00:00,  4.52it/s]\n",
            "  0%|          | 0/2 [00:00<?, ?it/s]/var/folders/3c/71b8pg6d7j5dht_5h_2n4n_c0000gn/T/ipykernel_8755/1114866685.py:147: UserWarning: Implicit dimension choice for log_softmax has been deprecated. Change the call to include dim=X as an argument.\n",
            "  out = torch.nn.functional.log_softmax(out)\n",
            "100%|██████████| 2/2 [00:00<00:00,  4.32it/s]\n"
          ]
        },
        {
          "name": "stdout",
          "output_type": "stream",
          "text": [
            "\n",
            "epoch 9\n",
            "\ttrain_loss:0.710 valid_loss:0.747\n",
            "\ttrain_acc:69.97% valid_acc:68.36%\n",
            "\ttrain_f1:0.698 valid_f1:0.683\n",
            "\ttrain_confusion_matrix:\n",
            "[[1438  365  629]\n",
            " [ 356 1861  233]\n",
            " [ 380  228 1806]]\n",
            "\tvalid_confusion_matrix:\n",
            "[[357  79 173]\n",
            " [ 91 408  90]\n",
            " [106  39 484]]\n"
          ]
        },
        {
          "name": "stderr",
          "output_type": "stream",
          "text": [
            "  0%|          | 0/57 [00:00<?, ?it/s]/var/folders/3c/71b8pg6d7j5dht_5h_2n4n_c0000gn/T/ipykernel_8755/1114866685.py:147: UserWarning: Implicit dimension choice for log_softmax has been deprecated. Change the call to include dim=X as an argument.\n",
            "  out = torch.nn.functional.log_softmax(out)\n",
            "100%|██████████| 57/57 [00:12<00:00,  4.66it/s]\n",
            "  0%|          | 0/2 [00:00<?, ?it/s]/var/folders/3c/71b8pg6d7j5dht_5h_2n4n_c0000gn/T/ipykernel_8755/1114866685.py:147: UserWarning: Implicit dimension choice for log_softmax has been deprecated. Change the call to include dim=X as an argument.\n",
            "  out = torch.nn.functional.log_softmax(out)\n",
            "100%|██████████| 2/2 [00:00<00:00,  4.51it/s]\n"
          ]
        },
        {
          "name": "stdout",
          "output_type": "stream",
          "text": [
            "\n",
            "epoch 10\n",
            "\ttrain_loss:0.700 valid_loss:0.765\n",
            "\ttrain_acc:70.26% valid_acc:67.87%\n",
            "\ttrain_f1:0.701 valid_f1:0.680\n",
            "\ttrain_confusion_matrix:\n",
            "[[1435  363  631]\n",
            " [ 355 1853  246]\n",
            " [ 361  214 1838]]\n",
            "\tvalid_confusion_matrix:\n",
            "[[433  80  96]\n",
            " [124 418  47]\n",
            " [182  58 389]]\n"
          ]
        },
        {
          "name": "stderr",
          "output_type": "stream",
          "text": [
            "  0%|          | 0/57 [00:00<?, ?it/s]/var/folders/3c/71b8pg6d7j5dht_5h_2n4n_c0000gn/T/ipykernel_8755/1114866685.py:147: UserWarning: Implicit dimension choice for log_softmax has been deprecated. Change the call to include dim=X as an argument.\n",
            "  out = torch.nn.functional.log_softmax(out)\n",
            "100%|██████████| 57/57 [00:12<00:00,  4.63it/s]\n",
            "  0%|          | 0/2 [00:00<?, ?it/s]/var/folders/3c/71b8pg6d7j5dht_5h_2n4n_c0000gn/T/ipykernel_8755/1114866685.py:147: UserWarning: Implicit dimension choice for log_softmax has been deprecated. Change the call to include dim=X as an argument.\n",
            "  out = torch.nn.functional.log_softmax(out)\n",
            "100%|██████████| 2/2 [00:00<00:00,  4.29it/s]\n"
          ]
        },
        {
          "name": "stdout",
          "output_type": "stream",
          "text": [
            "\n",
            "epoch 11\n",
            "\ttrain_loss:0.679 valid_loss:0.725\n",
            "\ttrain_acc:71.68% valid_acc:69.62%\n",
            "\ttrain_f1:0.716 valid_f1:0.694\n",
            "\ttrain_confusion_matrix:\n",
            "[[1532  327  572]\n",
            " [ 356 1857  241]\n",
            " [ 374  196 1841]]\n",
            "\tvalid_confusion_matrix:\n",
            "[[353 121 135]\n",
            " [ 66 461  62]\n",
            " [ 92  79 458]]\n"
          ]
        },
        {
          "name": "stderr",
          "output_type": "stream",
          "text": [
            "  0%|          | 0/57 [00:00<?, ?it/s]/var/folders/3c/71b8pg6d7j5dht_5h_2n4n_c0000gn/T/ipykernel_8755/1114866685.py:147: UserWarning: Implicit dimension choice for log_softmax has been deprecated. Change the call to include dim=X as an argument.\n",
            "  out = torch.nn.functional.log_softmax(out)\n",
            "100%|██████████| 57/57 [00:12<00:00,  4.65it/s]\n",
            "  0%|          | 0/2 [00:00<?, ?it/s]/var/folders/3c/71b8pg6d7j5dht_5h_2n4n_c0000gn/T/ipykernel_8755/1114866685.py:147: UserWarning: Implicit dimension choice for log_softmax has been deprecated. Change the call to include dim=X as an argument.\n",
            "  out = torch.nn.functional.log_softmax(out)\n",
            "100%|██████████| 2/2 [00:00<00:00,  4.51it/s]\n"
          ]
        },
        {
          "name": "stdout",
          "output_type": "stream",
          "text": [
            "\n",
            "epoch 12\n",
            "\ttrain_loss:0.659 valid_loss:0.724\n",
            "\ttrain_acc:72.62% valid_acc:68.64%\n",
            "\ttrain_f1:0.725 valid_f1:0.688\n",
            "\ttrain_confusion_matrix:\n",
            "[[1537  344  549]\n",
            " [ 337 1880  237]\n",
            " [ 314  217 1881]]\n",
            "\tvalid_confusion_matrix:\n",
            "[[416  77 116]\n",
            " [124 404  61]\n",
            " [138  57 434]]\n"
          ]
        },
        {
          "name": "stderr",
          "output_type": "stream",
          "text": [
            "  0%|          | 0/57 [00:00<?, ?it/s]/var/folders/3c/71b8pg6d7j5dht_5h_2n4n_c0000gn/T/ipykernel_8755/1114866685.py:147: UserWarning: Implicit dimension choice for log_softmax has been deprecated. Change the call to include dim=X as an argument.\n",
            "  out = torch.nn.functional.log_softmax(out)\n",
            "100%|██████████| 57/57 [00:12<00:00,  4.61it/s]\n",
            "  0%|          | 0/2 [00:00<?, ?it/s]/var/folders/3c/71b8pg6d7j5dht_5h_2n4n_c0000gn/T/ipykernel_8755/1114866685.py:147: UserWarning: Implicit dimension choice for log_softmax has been deprecated. Change the call to include dim=X as an argument.\n",
            "  out = torch.nn.functional.log_softmax(out)\n",
            "100%|██████████| 2/2 [00:00<00:00,  4.48it/s]\n"
          ]
        },
        {
          "name": "stdout",
          "output_type": "stream",
          "text": [
            "\n",
            "epoch 13\n",
            "\ttrain_loss:0.641 valid_loss:0.720\n",
            "\ttrain_acc:73.70% valid_acc:69.79%\n",
            "\ttrain_f1:0.736 valid_f1:0.698\n",
            "\ttrain_confusion_matrix:\n",
            "[[1560  329  544]\n",
            " [ 327 1888  237]\n",
            " [ 295  187 1929]]\n",
            "\tvalid_confusion_matrix:\n",
            "[[405  93 111]\n",
            " [101 434  54]\n",
            " [134  59 436]]\n"
          ]
        },
        {
          "name": "stderr",
          "output_type": "stream",
          "text": [
            "  0%|          | 0/57 [00:00<?, ?it/s]/var/folders/3c/71b8pg6d7j5dht_5h_2n4n_c0000gn/T/ipykernel_8755/1114866685.py:147: UserWarning: Implicit dimension choice for log_softmax has been deprecated. Change the call to include dim=X as an argument.\n",
            "  out = torch.nn.functional.log_softmax(out)\n",
            "100%|██████████| 57/57 [00:12<00:00,  4.58it/s]\n",
            "  0%|          | 0/2 [00:00<?, ?it/s]/var/folders/3c/71b8pg6d7j5dht_5h_2n4n_c0000gn/T/ipykernel_8755/1114866685.py:147: UserWarning: Implicit dimension choice for log_softmax has been deprecated. Change the call to include dim=X as an argument.\n",
            "  out = torch.nn.functional.log_softmax(out)\n",
            "100%|██████████| 2/2 [00:00<00:00,  4.36it/s]\n"
          ]
        },
        {
          "name": "stdout",
          "output_type": "stream",
          "text": [
            "\n",
            "epoch 14\n",
            "\ttrain_loss:0.628 valid_loss:0.705\n",
            "\ttrain_acc:74.70% valid_acc:70.06%\n",
            "\ttrain_f1:0.746 valid_f1:0.699\n",
            "\ttrain_confusion_matrix:\n",
            "[[1620  304  508]\n",
            " [ 331 1897  223]\n",
            " [ 296  184 1933]]\n",
            "\tvalid_confusion_matrix:\n",
            "[[376 112 121]\n",
            " [ 76 457  56]\n",
            " [109  73 447]]\n"
          ]
        },
        {
          "name": "stderr",
          "output_type": "stream",
          "text": [
            "  0%|          | 0/57 [00:00<?, ?it/s]/var/folders/3c/71b8pg6d7j5dht_5h_2n4n_c0000gn/T/ipykernel_8755/1114866685.py:147: UserWarning: Implicit dimension choice for log_softmax has been deprecated. Change the call to include dim=X as an argument.\n",
            "  out = torch.nn.functional.log_softmax(out)\n",
            "100%|██████████| 57/57 [00:12<00:00,  4.61it/s]\n",
            "  0%|          | 0/2 [00:00<?, ?it/s]/var/folders/3c/71b8pg6d7j5dht_5h_2n4n_c0000gn/T/ipykernel_8755/1114866685.py:147: UserWarning: Implicit dimension choice for log_softmax has been deprecated. Change the call to include dim=X as an argument.\n",
            "  out = torch.nn.functional.log_softmax(out)\n",
            "100%|██████████| 2/2 [00:00<00:00,  4.56it/s]\n"
          ]
        },
        {
          "name": "stdout",
          "output_type": "stream",
          "text": [
            "\n",
            "epoch 15\n",
            "\ttrain_loss:0.610 valid_loss:0.695\n",
            "\ttrain_acc:75.79% valid_acc:70.88%\n",
            "\ttrain_f1:0.757 valid_f1:0.706\n",
            "\ttrain_confusion_matrix:\n",
            "[[1675  280  476]\n",
            " [ 318 1905  230]\n",
            " [ 276  186 1950]]\n",
            "\tvalid_confusion_matrix:\n",
            "[[353 100 156]\n",
            " [ 67 444  78]\n",
            " [ 73  58 498]]\n"
          ]
        },
        {
          "name": "stderr",
          "output_type": "stream",
          "text": [
            "  0%|          | 0/57 [00:00<?, ?it/s]/var/folders/3c/71b8pg6d7j5dht_5h_2n4n_c0000gn/T/ipykernel_8755/1114866685.py:147: UserWarning: Implicit dimension choice for log_softmax has been deprecated. Change the call to include dim=X as an argument.\n",
            "  out = torch.nn.functional.log_softmax(out)\n",
            "100%|██████████| 57/57 [00:12<00:00,  4.57it/s]\n",
            "  0%|          | 0/2 [00:00<?, ?it/s]/var/folders/3c/71b8pg6d7j5dht_5h_2n4n_c0000gn/T/ipykernel_8755/1114866685.py:147: UserWarning: Implicit dimension choice for log_softmax has been deprecated. Change the call to include dim=X as an argument.\n",
            "  out = torch.nn.functional.log_softmax(out)\n",
            "100%|██████████| 2/2 [00:00<00:00,  4.45it/s]\n"
          ]
        },
        {
          "name": "stdout",
          "output_type": "stream",
          "text": [
            "\n",
            "epoch 16\n",
            "\ttrain_loss:0.607 valid_loss:0.675\n",
            "\ttrain_acc:75.40% valid_acc:72.41%\n",
            "\ttrain_f1:0.753 valid_f1:0.724\n",
            "\ttrain_confusion_matrix:\n",
            "[[1632  296  503]\n",
            " [ 300 1928  226]\n",
            " [ 286  184 1941]]\n",
            "\tvalid_confusion_matrix:\n",
            "[[400  86 123]\n",
            " [ 88 436  65]\n",
            " [ 97  45 487]]\n"
          ]
        },
        {
          "name": "stderr",
          "output_type": "stream",
          "text": [
            "  0%|          | 0/57 [00:00<?, ?it/s]/var/folders/3c/71b8pg6d7j5dht_5h_2n4n_c0000gn/T/ipykernel_8755/1114866685.py:147: UserWarning: Implicit dimension choice for log_softmax has been deprecated. Change the call to include dim=X as an argument.\n",
            "  out = torch.nn.functional.log_softmax(out)\n",
            "100%|██████████| 57/57 [00:12<00:00,  4.53it/s]\n",
            "  0%|          | 0/2 [00:00<?, ?it/s]/var/folders/3c/71b8pg6d7j5dht_5h_2n4n_c0000gn/T/ipykernel_8755/1114866685.py:147: UserWarning: Implicit dimension choice for log_softmax has been deprecated. Change the call to include dim=X as an argument.\n",
            "  out = torch.nn.functional.log_softmax(out)\n",
            "100%|██████████| 2/2 [00:00<00:00,  4.50it/s]\n"
          ]
        },
        {
          "name": "stdout",
          "output_type": "stream",
          "text": [
            "\n",
            "epoch 17\n",
            "\ttrain_loss:0.591 valid_loss:0.693\n",
            "\ttrain_acc:76.59% valid_acc:71.54%\n",
            "\ttrain_f1:0.765 valid_f1:0.714\n",
            "\ttrain_confusion_matrix:\n",
            "[[1693  272  465]\n",
            " [ 308 1901  243]\n",
            " [ 248  172 1994]]\n",
            "\tvalid_confusion_matrix:\n",
            "[[394 122  93]\n",
            " [ 68 469  52]\n",
            " [108  77 444]]\n"
          ]
        },
        {
          "name": "stderr",
          "output_type": "stream",
          "text": [
            "  0%|          | 0/57 [00:00<?, ?it/s]/var/folders/3c/71b8pg6d7j5dht_5h_2n4n_c0000gn/T/ipykernel_8755/1114866685.py:147: UserWarning: Implicit dimension choice for log_softmax has been deprecated. Change the call to include dim=X as an argument.\n",
            "  out = torch.nn.functional.log_softmax(out)\n",
            "100%|██████████| 57/57 [00:12<00:00,  4.55it/s]\n",
            "  0%|          | 0/2 [00:00<?, ?it/s]/var/folders/3c/71b8pg6d7j5dht_5h_2n4n_c0000gn/T/ipykernel_8755/1114866685.py:147: UserWarning: Implicit dimension choice for log_softmax has been deprecated. Change the call to include dim=X as an argument.\n",
            "  out = torch.nn.functional.log_softmax(out)\n",
            "100%|██████████| 2/2 [00:00<00:00,  4.51it/s]\n"
          ]
        },
        {
          "name": "stdout",
          "output_type": "stream",
          "text": [
            "\n",
            "epoch 18\n",
            "\ttrain_loss:0.573 valid_loss:0.683\n",
            "\ttrain_acc:77.04% valid_acc:72.25%\n",
            "\ttrain_f1:0.770 valid_f1:0.722\n",
            "\ttrain_confusion_matrix:\n",
            "[[1713  261  456]\n",
            " [ 290 1934  228]\n",
            " [ 258  182 1974]]\n",
            "\tvalid_confusion_matrix:\n",
            "[[418  72 119]\n",
            " [ 94 411  84]\n",
            " [ 84  54 491]]\n"
          ]
        },
        {
          "name": "stderr",
          "output_type": "stream",
          "text": [
            "  0%|          | 0/57 [00:00<?, ?it/s]/var/folders/3c/71b8pg6d7j5dht_5h_2n4n_c0000gn/T/ipykernel_8755/1114866685.py:147: UserWarning: Implicit dimension choice for log_softmax has been deprecated. Change the call to include dim=X as an argument.\n",
            "  out = torch.nn.functional.log_softmax(out)\n",
            "100%|██████████| 57/57 [00:12<00:00,  4.50it/s]\n",
            "  0%|          | 0/2 [00:00<?, ?it/s]/var/folders/3c/71b8pg6d7j5dht_5h_2n4n_c0000gn/T/ipykernel_8755/1114866685.py:147: UserWarning: Implicit dimension choice for log_softmax has been deprecated. Change the call to include dim=X as an argument.\n",
            "  out = torch.nn.functional.log_softmax(out)\n",
            "100%|██████████| 2/2 [00:00<00:00,  4.52it/s]\n"
          ]
        },
        {
          "name": "stdout",
          "output_type": "stream",
          "text": [
            "\n",
            "epoch 19\n",
            "\ttrain_loss:0.559 valid_loss:0.673\n",
            "\ttrain_acc:78.28% valid_acc:72.91%\n",
            "\ttrain_f1:0.782 valid_f1:0.729\n",
            "\ttrain_confusion_matrix:\n",
            "[[1758  243  432]\n",
            " [ 271 1953  227]\n",
            " [ 236  176 2000]]\n",
            "\tvalid_confusion_matrix:\n",
            "[[420  86 103]\n",
            " [ 88 441  60]\n",
            " [106  52 471]]\n",
            "Loading saved model from: model_task2.bin\n"
          ]
        },
        {
          "name": "stderr",
          "output_type": "stream",
          "text": [
            "  0%|          | 0/2 [00:00<?, ?it/s]/var/folders/3c/71b8pg6d7j5dht_5h_2n4n_c0000gn/T/ipykernel_8755/1114866685.py:147: UserWarning: Implicit dimension choice for log_softmax has been deprecated. Change the call to include dim=X as an argument.\n",
            "  out = torch.nn.functional.log_softmax(out)\n",
            "100%|██████████| 2/2 [00:00<00:00,  4.58it/s]\n"
          ]
        },
        {
          "name": "stdout",
          "output_type": "stream",
          "text": [
            "              precision    recall  f1-score   support\n",
            "\n",
            "     Neutral       0.68      0.68      0.68       609\n",
            "    Positive       0.76      0.75      0.75       589\n",
            "    Negative       0.74      0.75      0.75       629\n",
            "\n",
            "    accuracy                           0.73      1827\n",
            "   macro avg       0.73      0.73      0.73      1827\n",
            "weighted avg       0.73      0.73      0.73      1827\n",
            "\n",
            "\n",
            "******************************************************************************************\n",
            "Alpha Size: 1\n",
            "Window Size: 8\n",
            "******************************************************************************************\n",
            "\n",
            "train samples:7305\n",
            "valid samples:1827\n"
          ]
        },
        {
          "name": "stderr",
          "output_type": "stream",
          "text": [
            "  0%|          | 0/57 [00:00<?, ?it/s]/var/folders/3c/71b8pg6d7j5dht_5h_2n4n_c0000gn/T/ipykernel_8755/1114866685.py:147: UserWarning: Implicit dimension choice for log_softmax has been deprecated. Change the call to include dim=X as an argument.\n",
            "  out = torch.nn.functional.log_softmax(out)\n",
            "100%|██████████| 57/57 [00:13<00:00,  4.11it/s]\n",
            "  0%|          | 0/2 [00:00<?, ?it/s]/var/folders/3c/71b8pg6d7j5dht_5h_2n4n_c0000gn/T/ipykernel_8755/1114866685.py:147: UserWarning: Implicit dimension choice for log_softmax has been deprecated. Change the call to include dim=X as an argument.\n",
            "  out = torch.nn.functional.log_softmax(out)\n",
            "100%|██████████| 2/2 [00:00<00:00,  3.85it/s]\n"
          ]
        },
        {
          "name": "stdout",
          "output_type": "stream",
          "text": [
            "\n",
            "epoch 0\n",
            "\ttrain_loss:1.087 valid_loss:1.077\n",
            "\ttrain_acc:43.02% valid_acc:48.77%\n",
            "\ttrain_f1:0.409 valid_f1:0.486\n",
            "\ttrain_confusion_matrix:\n",
            "[[1035 1100  309]\n",
            " [ 612 1608  216]\n",
            " [ 859 1061  496]]\n",
            "\tvalid_confusion_matrix:\n",
            "[[293 161 143]\n",
            " [165 349  93]\n",
            " [214 160 249]]\n"
          ]
        },
        {
          "name": "stderr",
          "output_type": "stream",
          "text": [
            "  0%|          | 0/57 [00:00<?, ?it/s]/var/folders/3c/71b8pg6d7j5dht_5h_2n4n_c0000gn/T/ipykernel_8755/1114866685.py:147: UserWarning: Implicit dimension choice for log_softmax has been deprecated. Change the call to include dim=X as an argument.\n",
            "  out = torch.nn.functional.log_softmax(out)\n",
            "100%|██████████| 57/57 [00:13<00:00,  4.19it/s]\n",
            "  0%|          | 0/2 [00:00<?, ?it/s]/var/folders/3c/71b8pg6d7j5dht_5h_2n4n_c0000gn/T/ipykernel_8755/1114866685.py:147: UserWarning: Implicit dimension choice for log_softmax has been deprecated. Change the call to include dim=X as an argument.\n",
            "  out = torch.nn.functional.log_softmax(out)\n",
            "100%|██████████| 2/2 [00:00<00:00,  3.95it/s]\n"
          ]
        },
        {
          "name": "stdout",
          "output_type": "stream",
          "text": [
            "\n",
            "epoch 1\n",
            "\ttrain_loss:1.049 valid_loss:1.001\n",
            "\ttrain_acc:52.75% valid_acc:53.37%\n",
            "\ttrain_f1:0.526 valid_f1:0.521\n",
            "\ttrain_confusion_matrix:\n",
            "[[1145  633  666]\n",
            " [ 554 1497  385]\n",
            " [ 609  600 1207]]\n",
            "\tvalid_confusion_matrix:\n",
            "[[189 186 222]\n",
            " [ 78 416 113]\n",
            " [110 143 370]]\n"
          ]
        },
        {
          "name": "stderr",
          "output_type": "stream",
          "text": [
            "  0%|          | 0/57 [00:00<?, ?it/s]/var/folders/3c/71b8pg6d7j5dht_5h_2n4n_c0000gn/T/ipykernel_8755/1114866685.py:147: UserWarning: Implicit dimension choice for log_softmax has been deprecated. Change the call to include dim=X as an argument.\n",
            "  out = torch.nn.functional.log_softmax(out)\n",
            "100%|██████████| 57/57 [00:13<00:00,  4.21it/s]\n",
            "  0%|          | 0/2 [00:00<?, ?it/s]/var/folders/3c/71b8pg6d7j5dht_5h_2n4n_c0000gn/T/ipykernel_8755/1114866685.py:147: UserWarning: Implicit dimension choice for log_softmax has been deprecated. Change the call to include dim=X as an argument.\n",
            "  out = torch.nn.functional.log_softmax(out)\n",
            "100%|██████████| 2/2 [00:00<00:00,  4.07it/s]\n"
          ]
        },
        {
          "name": "stdout",
          "output_type": "stream",
          "text": [
            "\n",
            "epoch 2\n",
            "\ttrain_loss:0.939 valid_loss:0.898\n",
            "\ttrain_acc:56.46% valid_acc:58.89%\n",
            "\ttrain_f1:0.551 valid_f1:0.572\n",
            "\ttrain_confusion_matrix:\n",
            "[[ 813  663  969]\n",
            " [ 352 1709  372]\n",
            " [ 335  486 1597]]\n",
            "\tvalid_confusion_matrix:\n",
            "[[186 133 278]\n",
            " [ 90 417 100]\n",
            " [ 70  80 473]]\n"
          ]
        },
        {
          "name": "stderr",
          "output_type": "stream",
          "text": [
            "  0%|          | 0/57 [00:00<?, ?it/s]/var/folders/3c/71b8pg6d7j5dht_5h_2n4n_c0000gn/T/ipykernel_8755/1114866685.py:147: UserWarning: Implicit dimension choice for log_softmax has been deprecated. Change the call to include dim=X as an argument.\n",
            "  out = torch.nn.functional.log_softmax(out)\n",
            "100%|██████████| 57/57 [00:13<00:00,  4.20it/s]\n",
            "  0%|          | 0/2 [00:00<?, ?it/s]/var/folders/3c/71b8pg6d7j5dht_5h_2n4n_c0000gn/T/ipykernel_8755/1114866685.py:147: UserWarning: Implicit dimension choice for log_softmax has been deprecated. Change the call to include dim=X as an argument.\n",
            "  out = torch.nn.functional.log_softmax(out)\n",
            "100%|██████████| 2/2 [00:00<00:00,  4.07it/s]\n"
          ]
        },
        {
          "name": "stdout",
          "output_type": "stream",
          "text": [
            "\n",
            "epoch 3\n",
            "\ttrain_loss:0.861 valid_loss:0.851\n",
            "\ttrain_acc:62.47% valid_acc:61.41%\n",
            "\ttrain_f1:0.620 valid_f1:0.611\n",
            "\ttrain_confusion_matrix:\n",
            "[[1159  537  750]\n",
            " [ 444 1753  235]\n",
            " [ 444  328 1646]]\n",
            "\tvalid_confusion_matrix:\n",
            "[[277 124 196]\n",
            " [123 414  70]\n",
            " [126  66 431]]\n"
          ]
        },
        {
          "name": "stderr",
          "output_type": "stream",
          "text": [
            "  0%|          | 0/57 [00:00<?, ?it/s]/var/folders/3c/71b8pg6d7j5dht_5h_2n4n_c0000gn/T/ipykernel_8755/1114866685.py:147: UserWarning: Implicit dimension choice for log_softmax has been deprecated. Change the call to include dim=X as an argument.\n",
            "  out = torch.nn.functional.log_softmax(out)\n",
            "100%|██████████| 57/57 [00:13<00:00,  4.24it/s]\n",
            "  0%|          | 0/2 [00:00<?, ?it/s]/var/folders/3c/71b8pg6d7j5dht_5h_2n4n_c0000gn/T/ipykernel_8755/1114866685.py:147: UserWarning: Implicit dimension choice for log_softmax has been deprecated. Change the call to include dim=X as an argument.\n",
            "  out = torch.nn.functional.log_softmax(out)\n",
            "100%|██████████| 2/2 [00:00<00:00,  4.10it/s]\n"
          ]
        },
        {
          "name": "stdout",
          "output_type": "stream",
          "text": [
            "\n",
            "epoch 4\n",
            "\ttrain_loss:0.815 valid_loss:0.820\n",
            "\ttrain_acc:64.19% valid_acc:63.60%\n",
            "\ttrain_f1:0.641 valid_f1:0.629\n",
            "\ttrain_confusion_matrix:\n",
            "[[1302  425  717]\n",
            " [ 493 1723  219]\n",
            " [ 514  245 1658]]\n",
            "\tvalid_confusion_matrix:\n",
            "[[264 132 201]\n",
            " [ 86 448  73]\n",
            " [101  72 450]]\n"
          ]
        },
        {
          "name": "stderr",
          "output_type": "stream",
          "text": [
            "  0%|          | 0/57 [00:00<?, ?it/s]/var/folders/3c/71b8pg6d7j5dht_5h_2n4n_c0000gn/T/ipykernel_8755/1114866685.py:147: UserWarning: Implicit dimension choice for log_softmax has been deprecated. Change the call to include dim=X as an argument.\n",
            "  out = torch.nn.functional.log_softmax(out)\n",
            "100%|██████████| 57/57 [00:13<00:00,  4.20it/s]\n",
            "  0%|          | 0/2 [00:00<?, ?it/s]/var/folders/3c/71b8pg6d7j5dht_5h_2n4n_c0000gn/T/ipykernel_8755/1114866685.py:147: UserWarning: Implicit dimension choice for log_softmax has been deprecated. Change the call to include dim=X as an argument.\n",
            "  out = torch.nn.functional.log_softmax(out)\n",
            "100%|██████████| 2/2 [00:00<00:00,  4.12it/s]\n"
          ]
        },
        {
          "name": "stdout",
          "output_type": "stream",
          "text": [
            "\n",
            "epoch 5\n",
            "\ttrain_loss:0.784 valid_loss:0.808\n",
            "\ttrain_acc:66.02% valid_acc:65.57%\n",
            "\ttrain_f1:0.658 valid_f1:0.651\n",
            "\ttrain_confusion_matrix:\n",
            "[[1321  436  689]\n",
            " [ 425 1793  216]\n",
            " [ 483  230 1703]]\n",
            "\tvalid_confusion_matrix:\n",
            "[[289 109 199]\n",
            " [ 85 443  79]\n",
            " [ 91  66 466]]\n"
          ]
        },
        {
          "name": "stderr",
          "output_type": "stream",
          "text": [
            "  0%|          | 0/57 [00:00<?, ?it/s]/var/folders/3c/71b8pg6d7j5dht_5h_2n4n_c0000gn/T/ipykernel_8755/1114866685.py:147: UserWarning: Implicit dimension choice for log_softmax has been deprecated. Change the call to include dim=X as an argument.\n",
            "  out = torch.nn.functional.log_softmax(out)\n",
            "100%|██████████| 57/57 [00:13<00:00,  4.23it/s]\n",
            "  0%|          | 0/2 [00:00<?, ?it/s]/var/folders/3c/71b8pg6d7j5dht_5h_2n4n_c0000gn/T/ipykernel_8755/1114866685.py:147: UserWarning: Implicit dimension choice for log_softmax has been deprecated. Change the call to include dim=X as an argument.\n",
            "  out = torch.nn.functional.log_softmax(out)\n",
            "100%|██████████| 2/2 [00:00<00:00,  4.13it/s]\n"
          ]
        },
        {
          "name": "stdout",
          "output_type": "stream",
          "text": [
            "\n",
            "epoch 6\n",
            "\ttrain_loss:0.759 valid_loss:0.800\n",
            "\ttrain_acc:67.87% valid_acc:65.30%\n",
            "\ttrain_f1:0.677 valid_f1:0.649\n",
            "\ttrain_confusion_matrix:\n",
            "[[1373  401  669]\n",
            " [ 413 1811  209]\n",
            " [ 434  218 1768]]\n",
            "\tvalid_confusion_matrix:\n",
            "[[304 115 178]\n",
            " [ 83 450  74]\n",
            " [108  76 439]]\n"
          ]
        },
        {
          "name": "stderr",
          "output_type": "stream",
          "text": [
            "  0%|          | 0/57 [00:00<?, ?it/s]/var/folders/3c/71b8pg6d7j5dht_5h_2n4n_c0000gn/T/ipykernel_8755/1114866685.py:147: UserWarning: Implicit dimension choice for log_softmax has been deprecated. Change the call to include dim=X as an argument.\n",
            "  out = torch.nn.functional.log_softmax(out)\n",
            "100%|██████████| 57/57 [00:13<00:00,  4.21it/s]\n",
            "  0%|          | 0/2 [00:00<?, ?it/s]/var/folders/3c/71b8pg6d7j5dht_5h_2n4n_c0000gn/T/ipykernel_8755/1114866685.py:147: UserWarning: Implicit dimension choice for log_softmax has been deprecated. Change the call to include dim=X as an argument.\n",
            "  out = torch.nn.functional.log_softmax(out)\n",
            "100%|██████████| 2/2 [00:00<00:00,  4.10it/s]\n"
          ]
        },
        {
          "name": "stdout",
          "output_type": "stream",
          "text": [
            "\n",
            "epoch 7\n",
            "\ttrain_loss:0.738 valid_loss:0.790\n",
            "\ttrain_acc:68.70% valid_acc:65.85%\n",
            "\ttrain_f1:0.685 valid_f1:0.659\n",
            "\ttrain_confusion_matrix:\n",
            "[[1392  396  653]\n",
            " [ 386 1846  204]\n",
            " [ 409  236 1774]]\n",
            "\tvalid_confusion_matrix:\n",
            "[[346  54 197]\n",
            " [134 388  85]\n",
            " [107  47 469]]\n"
          ]
        },
        {
          "name": "stderr",
          "output_type": "stream",
          "text": [
            "  0%|          | 0/57 [00:00<?, ?it/s]/var/folders/3c/71b8pg6d7j5dht_5h_2n4n_c0000gn/T/ipykernel_8755/1114866685.py:147: UserWarning: Implicit dimension choice for log_softmax has been deprecated. Change the call to include dim=X as an argument.\n",
            "  out = torch.nn.functional.log_softmax(out)\n",
            "100%|██████████| 57/57 [00:13<00:00,  4.19it/s]\n",
            "  0%|          | 0/2 [00:00<?, ?it/s]/var/folders/3c/71b8pg6d7j5dht_5h_2n4n_c0000gn/T/ipykernel_8755/1114866685.py:147: UserWarning: Implicit dimension choice for log_softmax has been deprecated. Change the call to include dim=X as an argument.\n",
            "  out = torch.nn.functional.log_softmax(out)\n",
            "100%|██████████| 2/2 [00:00<00:00,  4.12it/s]\n"
          ]
        },
        {
          "name": "stdout",
          "output_type": "stream",
          "text": [
            "\n",
            "epoch 8\n",
            "\ttrain_loss:0.725 valid_loss:0.775\n",
            "\ttrain_acc:69.27% valid_acc:66.94%\n",
            "\ttrain_f1:0.691 valid_f1:0.668\n",
            "\ttrain_confusion_matrix:\n",
            "[[1421  399  625]\n",
            " [ 381 1855  196]\n",
            " [ 417  224 1778]]\n",
            "\tvalid_confusion_matrix:\n",
            "[[331  79 187]\n",
            " [104 422  81]\n",
            " [ 98  55 470]]\n"
          ]
        },
        {
          "name": "stderr",
          "output_type": "stream",
          "text": [
            "  0%|          | 0/57 [00:00<?, ?it/s]/var/folders/3c/71b8pg6d7j5dht_5h_2n4n_c0000gn/T/ipykernel_8755/1114866685.py:147: UserWarning: Implicit dimension choice for log_softmax has been deprecated. Change the call to include dim=X as an argument.\n",
            "  out = torch.nn.functional.log_softmax(out)\n",
            "100%|██████████| 57/57 [00:13<00:00,  4.13it/s]\n",
            "  0%|          | 0/2 [00:00<?, ?it/s]/var/folders/3c/71b8pg6d7j5dht_5h_2n4n_c0000gn/T/ipykernel_8755/1114866685.py:147: UserWarning: Implicit dimension choice for log_softmax has been deprecated. Change the call to include dim=X as an argument.\n",
            "  out = torch.nn.functional.log_softmax(out)\n",
            "100%|██████████| 2/2 [00:00<00:00,  4.17it/s]\n"
          ]
        },
        {
          "name": "stdout",
          "output_type": "stream",
          "text": [
            "\n",
            "epoch 9\n",
            "\ttrain_loss:0.704 valid_loss:0.760\n",
            "\ttrain_acc:70.87% valid_acc:67.54%\n",
            "\ttrain_f1:0.708 valid_f1:0.675\n",
            "\ttrain_confusion_matrix:\n",
            "[[1485  342  616]\n",
            " [ 369 1859  206]\n",
            " [ 374  218 1827]]\n",
            "\tvalid_confusion_matrix:\n",
            "[[344  82 171]\n",
            " [100 440  67]\n",
            " [112  61 450]]\n"
          ]
        },
        {
          "name": "stderr",
          "output_type": "stream",
          "text": [
            "  0%|          | 0/57 [00:00<?, ?it/s]/var/folders/3c/71b8pg6d7j5dht_5h_2n4n_c0000gn/T/ipykernel_8755/1114866685.py:147: UserWarning: Implicit dimension choice for log_softmax has been deprecated. Change the call to include dim=X as an argument.\n",
            "  out = torch.nn.functional.log_softmax(out)\n",
            "100%|██████████| 57/57 [00:13<00:00,  4.16it/s]\n",
            "  0%|          | 0/2 [00:00<?, ?it/s]/var/folders/3c/71b8pg6d7j5dht_5h_2n4n_c0000gn/T/ipykernel_8755/1114866685.py:147: UserWarning: Implicit dimension choice for log_softmax has been deprecated. Change the call to include dim=X as an argument.\n",
            "  out = torch.nn.functional.log_softmax(out)\n",
            "100%|██████████| 2/2 [00:00<00:00,  4.13it/s]\n"
          ]
        },
        {
          "name": "stdout",
          "output_type": "stream",
          "text": [
            "\n",
            "epoch 10\n",
            "\ttrain_loss:0.688 valid_loss:0.760\n",
            "\ttrain_acc:71.63% valid_acc:67.87%\n",
            "\ttrain_f1:0.715 valid_f1:0.672\n",
            "\ttrain_confusion_matrix:\n",
            "[[1515  335  595]\n",
            " [ 345 1895  195]\n",
            " [ 393  207 1816]]\n",
            "\tvalid_confusion_matrix:\n",
            "[[292 105 200]\n",
            " [ 69 458  80]\n",
            " [ 69  64 490]]\n"
          ]
        },
        {
          "name": "stderr",
          "output_type": "stream",
          "text": [
            "  0%|          | 0/57 [00:00<?, ?it/s]/var/folders/3c/71b8pg6d7j5dht_5h_2n4n_c0000gn/T/ipykernel_8755/1114866685.py:147: UserWarning: Implicit dimension choice for log_softmax has been deprecated. Change the call to include dim=X as an argument.\n",
            "  out = torch.nn.functional.log_softmax(out)\n",
            "100%|██████████| 57/57 [00:13<00:00,  4.18it/s]\n",
            "  0%|          | 0/2 [00:00<?, ?it/s]/var/folders/3c/71b8pg6d7j5dht_5h_2n4n_c0000gn/T/ipykernel_8755/1114866685.py:147: UserWarning: Implicit dimension choice for log_softmax has been deprecated. Change the call to include dim=X as an argument.\n",
            "  out = torch.nn.functional.log_softmax(out)\n",
            "100%|██████████| 2/2 [00:00<00:00,  4.07it/s]\n"
          ]
        },
        {
          "name": "stdout",
          "output_type": "stream",
          "text": [
            "\n",
            "epoch 11\n",
            "\ttrain_loss:0.676 valid_loss:0.745\n",
            "\ttrain_acc:72.09% valid_acc:69.13%\n",
            "\ttrain_f1:0.720 valid_f1:0.692\n",
            "\ttrain_confusion_matrix:\n",
            "[[1507  351  585]\n",
            " [ 362 1887  185]\n",
            " [ 351  202 1866]]\n",
            "\tvalid_confusion_matrix:\n",
            "[[371  69 157]\n",
            " [105 440  62]\n",
            " [112  59 452]]\n"
          ]
        },
        {
          "name": "stderr",
          "output_type": "stream",
          "text": [
            "  0%|          | 0/57 [00:00<?, ?it/s]/var/folders/3c/71b8pg6d7j5dht_5h_2n4n_c0000gn/T/ipykernel_8755/1114866685.py:147: UserWarning: Implicit dimension choice for log_softmax has been deprecated. Change the call to include dim=X as an argument.\n",
            "  out = torch.nn.functional.log_softmax(out)\n",
            "100%|██████████| 57/57 [00:13<00:00,  4.19it/s]\n",
            "  0%|          | 0/2 [00:00<?, ?it/s]/var/folders/3c/71b8pg6d7j5dht_5h_2n4n_c0000gn/T/ipykernel_8755/1114866685.py:147: UserWarning: Implicit dimension choice for log_softmax has been deprecated. Change the call to include dim=X as an argument.\n",
            "  out = torch.nn.functional.log_softmax(out)\n",
            "100%|██████████| 2/2 [00:00<00:00,  4.11it/s]\n"
          ]
        },
        {
          "name": "stdout",
          "output_type": "stream",
          "text": [
            "\n",
            "epoch 12\n",
            "\ttrain_loss:0.658 valid_loss:0.740\n",
            "\ttrain_acc:73.23% valid_acc:69.73%\n",
            "\ttrain_f1:0.732 valid_f1:0.698\n",
            "\ttrain_confusion_matrix:\n",
            "[[1574  303  567]\n",
            " [ 342 1904  189]\n",
            " [ 361  191 1865]]\n",
            "\tvalid_confusion_matrix:\n",
            "[[386  68 143]\n",
            " [105 439  63]\n",
            " [117  57 449]]\n"
          ]
        },
        {
          "name": "stderr",
          "output_type": "stream",
          "text": [
            "  0%|          | 0/57 [00:00<?, ?it/s]/var/folders/3c/71b8pg6d7j5dht_5h_2n4n_c0000gn/T/ipykernel_8755/1114866685.py:147: UserWarning: Implicit dimension choice for log_softmax has been deprecated. Change the call to include dim=X as an argument.\n",
            "  out = torch.nn.functional.log_softmax(out)\n",
            "100%|██████████| 57/57 [00:13<00:00,  4.19it/s]\n",
            "  0%|          | 0/2 [00:00<?, ?it/s]/var/folders/3c/71b8pg6d7j5dht_5h_2n4n_c0000gn/T/ipykernel_8755/1114866685.py:147: UserWarning: Implicit dimension choice for log_softmax has been deprecated. Change the call to include dim=X as an argument.\n",
            "  out = torch.nn.functional.log_softmax(out)\n",
            "100%|██████████| 2/2 [00:00<00:00,  4.16it/s]\n"
          ]
        },
        {
          "name": "stdout",
          "output_type": "stream",
          "text": [
            "\n",
            "epoch 13\n",
            "\ttrain_loss:0.646 valid_loss:0.744\n",
            "\ttrain_acc:73.99% valid_acc:68.36%\n",
            "\ttrain_f1:0.739 valid_f1:0.685\n",
            "\ttrain_confusion_matrix:\n",
            "[[1575  317  551]\n",
            " [ 318 1935  180]\n",
            " [ 325  207 1888]]\n",
            "\tvalid_confusion_matrix:\n",
            "[[411  62 124]\n",
            " [112 439  56]\n",
            " [167  57 399]]\n"
          ]
        },
        {
          "name": "stderr",
          "output_type": "stream",
          "text": [
            "  0%|          | 0/57 [00:00<?, ?it/s]/var/folders/3c/71b8pg6d7j5dht_5h_2n4n_c0000gn/T/ipykernel_8755/1114866685.py:147: UserWarning: Implicit dimension choice for log_softmax has been deprecated. Change the call to include dim=X as an argument.\n",
            "  out = torch.nn.functional.log_softmax(out)\n",
            "100%|██████████| 57/57 [00:13<00:00,  4.19it/s]\n",
            "  0%|          | 0/2 [00:00<?, ?it/s]/var/folders/3c/71b8pg6d7j5dht_5h_2n4n_c0000gn/T/ipykernel_8755/1114866685.py:147: UserWarning: Implicit dimension choice for log_softmax has been deprecated. Change the call to include dim=X as an argument.\n",
            "  out = torch.nn.functional.log_softmax(out)\n",
            "100%|██████████| 2/2 [00:00<00:00,  4.05it/s]\n"
          ]
        },
        {
          "name": "stdout",
          "output_type": "stream",
          "text": [
            "\n",
            "epoch 14\n",
            "\ttrain_loss:0.644 valid_loss:0.731\n",
            "\ttrain_acc:74.00% valid_acc:70.83%\n",
            "\ttrain_f1:0.740 valid_f1:0.708\n",
            "\ttrain_confusion_matrix:\n",
            "[[1619  291  535]\n",
            " [ 333 1915  185]\n",
            " [ 372  181 1865]]\n",
            "\tvalid_confusion_matrix:\n",
            "[[380  53 164]\n",
            " [102 427  78]\n",
            " [ 88  48 487]]\n"
          ]
        },
        {
          "name": "stderr",
          "output_type": "stream",
          "text": [
            "  0%|          | 0/57 [00:00<?, ?it/s]/var/folders/3c/71b8pg6d7j5dht_5h_2n4n_c0000gn/T/ipykernel_8755/1114866685.py:147: UserWarning: Implicit dimension choice for log_softmax has been deprecated. Change the call to include dim=X as an argument.\n",
            "  out = torch.nn.functional.log_softmax(out)\n",
            "100%|██████████| 57/57 [00:13<00:00,  4.20it/s]\n",
            "  0%|          | 0/2 [00:00<?, ?it/s]/var/folders/3c/71b8pg6d7j5dht_5h_2n4n_c0000gn/T/ipykernel_8755/1114866685.py:147: UserWarning: Implicit dimension choice for log_softmax has been deprecated. Change the call to include dim=X as an argument.\n",
            "  out = torch.nn.functional.log_softmax(out)\n",
            "100%|██████████| 2/2 [00:00<00:00,  4.17it/s]\n"
          ]
        },
        {
          "name": "stdout",
          "output_type": "stream",
          "text": [
            "\n",
            "epoch 15\n",
            "\ttrain_loss:0.617 valid_loss:0.719\n",
            "\ttrain_acc:75.08% valid_acc:71.21%\n",
            "\ttrain_f1:0.750 valid_f1:0.712\n",
            "\ttrain_confusion_matrix:\n",
            "[[1622  302  521]\n",
            " [ 306 1945  181]\n",
            " [ 322  186 1911]]\n",
            "\tvalid_confusion_matrix:\n",
            "[[373  58 166]\n",
            " [ 93 440  74]\n",
            " [ 87  48 488]]\n"
          ]
        },
        {
          "name": "stderr",
          "output_type": "stream",
          "text": [
            "  0%|          | 0/57 [00:00<?, ?it/s]/var/folders/3c/71b8pg6d7j5dht_5h_2n4n_c0000gn/T/ipykernel_8755/1114866685.py:147: UserWarning: Implicit dimension choice for log_softmax has been deprecated. Change the call to include dim=X as an argument.\n",
            "  out = torch.nn.functional.log_softmax(out)\n",
            "100%|██████████| 57/57 [00:13<00:00,  4.25it/s]\n",
            "  0%|          | 0/2 [00:00<?, ?it/s]/var/folders/3c/71b8pg6d7j5dht_5h_2n4n_c0000gn/T/ipykernel_8755/1114866685.py:147: UserWarning: Implicit dimension choice for log_softmax has been deprecated. Change the call to include dim=X as an argument.\n",
            "  out = torch.nn.functional.log_softmax(out)\n",
            "100%|██████████| 2/2 [00:00<00:00,  4.08it/s]\n"
          ]
        },
        {
          "name": "stdout",
          "output_type": "stream",
          "text": [
            "\n",
            "epoch 16\n",
            "\ttrain_loss:0.611 valid_loss:0.727\n",
            "\ttrain_acc:75.14% valid_acc:70.17%\n",
            "\ttrain_f1:0.751 valid_f1:0.700\n",
            "\ttrain_confusion_matrix:\n",
            "[[1638  289  518]\n",
            " [ 296 1955  183]\n",
            " [ 348  180 1889]]\n",
            "\tvalid_confusion_matrix:\n",
            "[[342  60 195]\n",
            " [ 81 441  85]\n",
            " [ 77  47 499]]\n"
          ]
        },
        {
          "name": "stderr",
          "output_type": "stream",
          "text": [
            "  0%|          | 0/57 [00:00<?, ?it/s]/var/folders/3c/71b8pg6d7j5dht_5h_2n4n_c0000gn/T/ipykernel_8755/1114866685.py:147: UserWarning: Implicit dimension choice for log_softmax has been deprecated. Change the call to include dim=X as an argument.\n",
            "  out = torch.nn.functional.log_softmax(out)\n",
            "100%|██████████| 57/57 [00:13<00:00,  4.13it/s]\n",
            "  0%|          | 0/2 [00:00<?, ?it/s]/var/folders/3c/71b8pg6d7j5dht_5h_2n4n_c0000gn/T/ipykernel_8755/1114866685.py:147: UserWarning: Implicit dimension choice for log_softmax has been deprecated. Change the call to include dim=X as an argument.\n",
            "  out = torch.nn.functional.log_softmax(out)\n",
            "100%|██████████| 2/2 [00:00<00:00,  4.06it/s]\n"
          ]
        },
        {
          "name": "stdout",
          "output_type": "stream",
          "text": [
            "\n",
            "epoch 17\n",
            "\ttrain_loss:0.596 valid_loss:0.705\n",
            "\ttrain_acc:76.21% valid_acc:71.15%\n",
            "\ttrain_f1:0.762 valid_f1:0.712\n",
            "\ttrain_confusion_matrix:\n",
            "[[1698  266  480]\n",
            " [ 319 1943  171]\n",
            " [ 328  172 1919]]\n",
            "\tvalid_confusion_matrix:\n",
            "[[387  68 142]\n",
            " [ 95 450  62]\n",
            " [102  58 463]]\n"
          ]
        },
        {
          "name": "stderr",
          "output_type": "stream",
          "text": [
            "  0%|          | 0/57 [00:00<?, ?it/s]/var/folders/3c/71b8pg6d7j5dht_5h_2n4n_c0000gn/T/ipykernel_8755/1114866685.py:147: UserWarning: Implicit dimension choice for log_softmax has been deprecated. Change the call to include dim=X as an argument.\n",
            "  out = torch.nn.functional.log_softmax(out)\n",
            "100%|██████████| 57/57 [00:13<00:00,  4.23it/s]\n",
            "  0%|          | 0/2 [00:00<?, ?it/s]/var/folders/3c/71b8pg6d7j5dht_5h_2n4n_c0000gn/T/ipykernel_8755/1114866685.py:147: UserWarning: Implicit dimension choice for log_softmax has been deprecated. Change the call to include dim=X as an argument.\n",
            "  out = torch.nn.functional.log_softmax(out)\n",
            "100%|██████████| 2/2 [00:00<00:00,  4.05it/s]\n"
          ]
        },
        {
          "name": "stdout",
          "output_type": "stream",
          "text": [
            "\n",
            "epoch 18\n",
            "\ttrain_loss:0.587 valid_loss:0.706\n",
            "\ttrain_acc:76.34% valid_acc:71.21%\n",
            "\ttrain_f1:0.763 valid_f1:0.712\n",
            "\ttrain_confusion_matrix:\n",
            "[[1677  276  489]\n",
            " [ 297 1956  182]\n",
            " [ 322  160 1937]]\n",
            "\tvalid_confusion_matrix:\n",
            "[[367  55 175]\n",
            " [ 85 440  82]\n",
            " [ 86  43 494]]\n"
          ]
        },
        {
          "name": "stderr",
          "output_type": "stream",
          "text": [
            "  0%|          | 0/57 [00:00<?, ?it/s]/var/folders/3c/71b8pg6d7j5dht_5h_2n4n_c0000gn/T/ipykernel_8755/1114866685.py:147: UserWarning: Implicit dimension choice for log_softmax has been deprecated. Change the call to include dim=X as an argument.\n",
            "  out = torch.nn.functional.log_softmax(out)\n",
            "100%|██████████| 57/57 [00:13<00:00,  4.15it/s]\n",
            "  0%|          | 0/2 [00:00<?, ?it/s]/var/folders/3c/71b8pg6d7j5dht_5h_2n4n_c0000gn/T/ipykernel_8755/1114866685.py:147: UserWarning: Implicit dimension choice for log_softmax has been deprecated. Change the call to include dim=X as an argument.\n",
            "  out = torch.nn.functional.log_softmax(out)\n",
            "100%|██████████| 2/2 [00:00<00:00,  4.13it/s]\n"
          ]
        },
        {
          "name": "stdout",
          "output_type": "stream",
          "text": [
            "\n",
            "epoch 19\n",
            "\ttrain_loss:0.575 valid_loss:0.699\n",
            "\ttrain_acc:77.26% valid_acc:72.52%\n",
            "\ttrain_f1:0.772 valid_f1:0.726\n",
            "\ttrain_confusion_matrix:\n",
            "[[1728  260  457]\n",
            " [ 282 1974  179]\n",
            " [ 313  168 1935]]\n",
            "\tvalid_confusion_matrix:\n",
            "[[413  44 140]\n",
            " [112 428  67]\n",
            " [ 98  41 484]]\n",
            "Loading saved model from: model_task2.bin\n"
          ]
        },
        {
          "name": "stderr",
          "output_type": "stream",
          "text": [
            "  0%|          | 0/2 [00:00<?, ?it/s]/var/folders/3c/71b8pg6d7j5dht_5h_2n4n_c0000gn/T/ipykernel_8755/1114866685.py:147: UserWarning: Implicit dimension choice for log_softmax has been deprecated. Change the call to include dim=X as an argument.\n",
            "  out = torch.nn.functional.log_softmax(out)\n",
            "100%|██████████| 2/2 [00:00<00:00,  4.18it/s]"
          ]
        },
        {
          "name": "stdout",
          "output_type": "stream",
          "text": [
            "              precision    recall  f1-score   support\n",
            "\n",
            "     Neutral       0.67      0.69      0.68       597\n",
            "    Positive       0.83      0.71      0.77       607\n",
            "    Negative       0.69      0.77      0.73       623\n",
            "\n",
            "    accuracy                           0.72      1827\n",
            "   macro avg       0.73      0.72      0.72      1827\n",
            "weighted avg       0.73      0.72      0.72      1827\n",
            "\n"
          ]
        },
        {
          "name": "stderr",
          "output_type": "stream",
          "text": [
            "\n"
          ]
        }
      ],
      "source": [
        "import random\n",
        "lst = [0.6, 0.8, 1]\n",
        "\n",
        "for alpha_val in lst:\n",
        "    choice = [2, 4, 8]\n",
        "    upsampling = True\n",
        "\n",
        "    for window in choice:\n",
        "\n",
        "        print()\n",
        "        print(\"*\"*90)\n",
        "        print(\"Alpha Size: {}\".format(alpha_val))\n",
        "        print(\"Window Size: {}\".format(window))\n",
        "        print(\"*\"*90)\n",
        "        print()\n",
        "\n",
        "        all_aspect_clusters = []\n",
        "        for i in range(len(sentences)):\n",
        "            all_aspect_clusters.extend(chop(sentences[i], aspect_tags[i], polarity_tags[i], \n",
        "                                            window_size=window))\n",
        "        if upsampling:\n",
        "            all_aspect_clusters = upsample_polarity(all_aspect_clusters)\n",
        "\n",
        "        local_context, global_context, y = create_train_data_restaurant(all_aspect_clusters ,word_indx, sent_len=85)\n",
        "\n",
        "        X_l_train, X_l_valid, X_g_train, X_g_valid,  y_train, y_valid = train_test_split(local_context, global_context, y, test_size=VALID_SIZE)\n",
        "\n",
        "        device = get_default_device()\n",
        "\n",
        "        NUM_EPOCHS = 20\n",
        "        TRAIN_BATCH_SIZE = 128\n",
        "        VALID_BATCH_SIZE = 1024\n",
        "\n",
        "        NUM_POLARITY_TAGS = 3\n",
        "\n",
        "        history = {\n",
        "            \"train_loss\": list(),\n",
        "            \"polarity_train_acc\": list(),\n",
        "            \"valid_loss\": list(),\n",
        "            \"polarity_valid_acc\": list(),\n",
        "        }\n",
        "\n",
        "        best_loss = np.inf\n",
        "\n",
        "        dataset = TensorDataset(torch.Tensor(X_l_train), torch.Tensor(X_g_train), torch.Tensor(y_train))\n",
        "        print(f\"train samples:{len(dataset)}\")\n",
        "        train_loader = DataLoader(dataset, batch_size=TRAIN_BATCH_SIZE, shuffle=True, drop_last=True)\n",
        "\n",
        "        dataset_valid = TensorDataset(torch.Tensor(X_l_valid),  torch.Tensor(X_g_valid), torch.Tensor(y_valid))\n",
        "        print(f\"valid samples:{len(dataset_valid)}\")\n",
        "        test_loader = DataLoader(dataset_valid, batch_size=VALID_BATCH_SIZE)\n",
        "\n",
        "        model = to_device(Model(general_embedding,  num_classes=3, alpha = alpha_val), device)\n",
        "\n",
        "        torch.cuda.empty_cache()\n",
        "\n",
        "        parameters = [p for p in model.parameters() if p.requires_grad]\n",
        "        optimizer = AdamW(parameters, lr=1e-4)\n",
        "\n",
        "\n",
        "        for epoch in range(NUM_EPOCHS):\n",
        "            train_losses = []\n",
        "            train_acc = []\n",
        "            test_loss = []\n",
        "            test_acc = []\n",
        "            train_f1 = []\n",
        "            test_f1 = []\n",
        "\n",
        "            model.train()\n",
        "            preds = []\n",
        "            masks = []\n",
        "            labels = []\n",
        "            for data in tqdm(train_loader, total=len(train_loader)):\n",
        "                for i in range(len(data)):\n",
        "                    data[i] = data[i].to(device)\n",
        "                l_feature, g_feature, label = data\n",
        "                l_feature, g_feature, label = l_feature.long(), g_feature.long(), label.long()\n",
        "\n",
        "                optimizer.zero_grad()\n",
        "                pred_logits = model(l_feature, g_feature)\n",
        "                loss = loss_fn(pred_logits, label, 3)\n",
        "                loss.backward()\n",
        "                optimizer.step()\n",
        "\n",
        "                train_losses.append(loss.item())\n",
        "\n",
        "                pred_tags = pred_logits.max(-1)[1]\n",
        "                preds.append(pred_tags)\n",
        "                labels.append(label)\n",
        "\n",
        "            avg_train_acc, avg_train_f1, train_cm = cal_acc(preds,labels)\n",
        "            avg_train_loss = sum(train_losses) / len(train_losses)\n",
        "\n",
        "            preds = []\n",
        "            masks = []\n",
        "            labels = []\n",
        "            with torch.no_grad():\n",
        "                for data in tqdm(test_loader, total=len(test_loader)):\n",
        "                    for i in range(len(data)):\n",
        "                        data[i] = data[i].to(device)\n",
        "                    l_feature, g_feature, label = data\n",
        "                    l_feature, g_feature, label = l_feature.long(), g_feature.long(), label.long()\n",
        "                    pred_logits = model(l_feature, g_feature)\n",
        "                    loss = loss_fn(pred_logits, label, 3)\n",
        "\n",
        "                    test_loss.append(loss.item())\n",
        "\n",
        "                    pred_tags = pred_logits.max(-1)[1]\n",
        "\n",
        "                    preds.append(pred_tags)\n",
        "                    labels.append(label)\n",
        "\n",
        "            avg_test_acc, avg_test_f1, test_cm = cal_acc(preds,  labels)\n",
        "            avg_test_loss = sum(test_loss) / len(test_loss)\n",
        "\n",
        "            print(f\"\\nepoch {epoch}\")\n",
        "            print(\"\\ttrain_loss:{:.3f} valid_loss:{:.3f}\".format(avg_train_loss, avg_test_loss))\n",
        "            print(\"\\ttrain_acc:{:.2%} valid_acc:{:.2%}\".format(avg_train_acc, avg_test_acc))\n",
        "            print(\"\\ttrain_f1:{:.3f} valid_f1:{:.3f}\".format(avg_train_f1, avg_test_f1))\n",
        "            print(f\"\\ttrain_confusion_matrix:\\n{train_cm}\")\n",
        "            print(f\"\\tvalid_confusion_matrix:\\n{test_cm}\")\n",
        "\n",
        "            if avg_test_loss < best_loss:\n",
        "                torch.save(model.state_dict(), MODEL_PATH)\n",
        "                best_loss = avg_test_loss    \n",
        "                \n",
        "            history['train_loss'].append(avg_train_loss)\n",
        "            history['polarity_train_acc'].append(avg_train_acc.cpu().numpy())\n",
        "            history['valid_loss'].append(avg_test_loss)\n",
        "            history['polarity_valid_acc'].append(avg_test_acc.cpu().numpy())\n",
        "\n",
        "        get_classification_report(test_loader, model, model_path=MODEL_PATH)\n",
        "                \n",
        "            \n"
      ]
    },
    {
      "cell_type": "code",
      "execution_count": null,
      "metadata": {},
      "outputs": [],
      "source": [
        "import matplotlib.pyplot as plt\n",
        "plt.plot(history['polarity_train_acc'], label='train accuracy')\n",
        "plt.plot(history['polarity_valid_acc'], label='validation accuracy')\n",
        "plt.title('Training history')\n",
        "plt.ylabel('Accuracy')\n",
        "plt.xlabel('Epoch')\n",
        "plt.legend()\n",
        "plt.ylim([0.4, 0.9])"
      ]
    }
  ],
  "metadata": {
    "colab": {
      "collapsed_sections": [],
      "name": "task2_lstm.ipynb",
      "provenance": []
    },
    "kernelspec": {
      "display_name": "Python 3",
      "name": "python3"
    },
    "language_info": {
      "codemirror_mode": {
        "name": "ipython",
        "version": 3
      },
      "file_extension": ".py",
      "mimetype": "text/x-python",
      "name": "python",
      "nbconvert_exporter": "python",
      "pygments_lexer": "ipython3",
      "version": "3.10.0"
    }
  },
  "nbformat": 4,
  "nbformat_minor": 0
}
