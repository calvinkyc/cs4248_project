{
  "cells": [
    {
      "cell_type": "code",
      "execution_count": 28,
      "metadata": {
        "colab": {
          "base_uri": "https://localhost:8080/"
        },
        "id": "VVlBRwsjo3A9",
        "outputId": "c73353d2-d0e0-46ab-cb7b-742f72aa0104"
      },
      "outputs": [],
      "source": [
        "#!pip install fasttext\n",
        "#!pip install transformers\n",
        "#import nltk\n",
        "#nltk.download('punkt')\n",
        "#!pip3 install torch torchvision torchaudio"
      ]
    },
    {
      "cell_type": "code",
      "execution_count": null,
      "metadata": {},
      "outputs": [
        {
          "name": "stdout",
          "output_type": "stream",
          "text": [
            "Archive:  glove.840B.300d.zip\n",
            "  inflating: ./data/glove.840B.300d.txt  \n"
          ]
        }
      ],
      "source": [
        "# download word embeddings file (Pre-trained Vectors) for GloVe\n",
        "import os\n",
        "import urllib.request\n",
        "import urllib.request\n",
        "import ssl\n",
        "ssl._create_default_https_context = ssl._create_unverified_context\n",
        "urllib.request.urlretrieve('https://nlp.stanford.edu/data/glove.840B.300d.zip','glove.840B.300d.zip')\n",
        "!unzip \"glove.840B.300d.zip\" -d \"./data/\"\n",
        "\n",
        "# or directly download 'glove.840B.300d.zip' from https://nlp.stanford.edu/projects/glove/ and move to the 'data' folder\n",
        "# note: this might take about 8 minutes"
      ]
    },
    {
      "cell_type": "code",
      "execution_count": 29,
      "metadata": {
        "colab": {
          "base_uri": "https://localhost:8080/"
        },
        "id": "Q2Pp-VjL_5Xw",
        "outputId": "a043786f-12ea-4b95-f6bb-4f7c9288537a"
      },
      "outputs": [],
      "source": [
        "DATA_DIR = \"./data/\"\n",
        "VALID_SIZE = .2\n",
        "MODEL_PATH = \"model_task2.bin\""
      ]
    },
    {
      "cell_type": "code",
      "execution_count": 30,
      "metadata": {
        "id": "f_ihgOgKQQ5e"
      },
      "outputs": [],
      "source": [
        "import pandas as pd\n",
        "import numpy as np\n",
        "import scipy\n",
        "import nltk\n",
        "import re\n",
        "import os\n",
        "from nltk.corpus import stopwords\n",
        "from nltk.tokenize import word_tokenize\n",
        "from torch.optim import AdamW\n",
        "from fasttext import load_model\n",
        "import torch\n",
        "import torch.nn as nn\n",
        "from torch.utils.data import Dataset, DataLoader, TensorDataset\n",
        "from tqdm import tqdm\n",
        "from sklearn.metrics import f1_score, confusion_matrix\n",
        "from sklearn.model_selection import train_test_split\n",
        "from sklearn import preprocessing, model_selection\n",
        "from torch import LongTensor\n",
        "from sklearn.metrics import f1_score, confusion_matrix, classification_report"
      ]
    },
    {
      "cell_type": "markdown",
      "metadata": {},
      "source": [
        "---"
      ]
    },
    {
      "cell_type": "code",
      "execution_count": 31,
      "metadata": {},
      "outputs": [],
      "source": [
        "df = pd.read_csv('../Dataset/data/restaurants_laptop_train_with_pos_task2_cleaned.csv')"
      ]
    },
    {
      "cell_type": "code",
      "execution_count": 32,
      "metadata": {},
      "outputs": [
        {
          "name": "stdout",
          "output_type": "stream",
          "text": [
            "num of aspect tags: 2\n",
            "num of polarity tags: 4\n"
          ]
        },
        {
          "data": {
            "text/plain": [
              "0"
            ]
          },
          "execution_count": 32,
          "metadata": {},
          "output_type": "execute_result"
        }
      ],
      "source": [
        "df.polarity = df.polarity.replace(-1,2)\n",
        "\n",
        "encoder = preprocessing.LabelEncoder()\n",
        "df.loc[:, \"aspect_tag\"] = encoder.fit_transform(df[\"aspect_tag\"])\n",
        "\n",
        "sentences = df.groupby(\"num\")[\"text\"].apply(list).values\n",
        "aspect_tags = df.groupby(\"num\")[\"aspect_tag\"].apply(list).values\n",
        "polarity_tags = df.groupby(\"num\")[\"polarity\"].apply(list).values\n",
        "\n",
        "polarity_unique_values = df.polarity.unique()\n",
        "\n",
        "print('num of aspect tags: {}'.format(len(encoder.classes_)))\n",
        "print('num of polarity tags: {}'.format(len(polarity_unique_values)))\n",
        "\n",
        "np.where(encoder.classes_ == \"AT\")[0].item()"
      ]
    },
    {
      "cell_type": "code",
      "execution_count": 33,
      "metadata": {},
      "outputs": [
        {
          "name": "stdout",
          "output_type": "stream",
          "text": [
            "['I', 'charge', 'it', 'at', 'night', 'and', 'skip', 'taking', 'the', 'cord', 'with', 'me', 'because', 'of', 'the', 'good', 'battery', 'life']\n",
            "[1, 1, 1, 1, 1, 1, 1, 1, 1, 0, 1, 1, 1, 1, 1, 1, 0, 0]\n",
            "[0, 0, 0, 0, 0, 0, 0, 0, 0, 0, 0, 0, 0, 0, 0, 0, 1, 1]\n"
          ]
        }
      ],
      "source": [
        "idx = 0\n",
        "print(sentences[idx])\n",
        "print(aspect_tags[idx])\n",
        "print(polarity_tags[idx])"
      ]
    },
    {
      "cell_type": "markdown",
      "metadata": {},
      "source": [
        "---"
      ]
    },
    {
      "cell_type": "code",
      "execution_count": 34,
      "id": "2448bddb",
      "metadata": {},
      "outputs": [],
      "source": [
        "def get_new_aspect_cluster(left, right, aspect_term, polarity, sentence, window_size=5):\n",
        "    left = left[-window_size:]\n",
        "    right = right[:window_size]\n",
        "\n",
        "    if len(polarity) == 0:\n",
        "        polarity = 0\n",
        "    else:\n",
        "        polarity = int(sum(polarity)/len(polarity))\n",
        "   \n",
        "    left.extend(aspect_term)\n",
        "    left.extend(right)\n",
        "    return {\n",
        "        \"local_context\":left,\n",
        "        \"global_context\":sentence,\n",
        "        \"aspect_term\":aspect_term,\n",
        "        \"polarity\":polarity,\n",
        "    }\n",
        "\n",
        "def chop(sentence, aspect_tag, polarity_tag, window_size=5):\n",
        "    ret_aspect_clusters = []\n",
        "#     ret_aspect_clusters = {\n",
        "#         \"context\":list(),\n",
        "#         \"aspect_term\":list(),\n",
        "#         \"polarity\":list(),\n",
        "#     }\n",
        "    left = []\n",
        "    right = []\n",
        "    aspect_term = []\n",
        "    polarity = []\n",
        "    doing_left = True\n",
        "    doing_right = False\n",
        "    doing_aspect = False\n",
        "    for i in range(len(sentence)):\n",
        "        # check if the current token is an aspect term\n",
        "        if aspect_tag[i] == 0:\n",
        "            if doing_left:\n",
        "                doing_aspect = True\n",
        "                doing_left = False\n",
        "            elif doing_right:\n",
        "                doing_right = False\n",
        "                doing_aspect = True\n",
        "                # Now, need to save the previous aspect term cluster\n",
        "                ret_aspect_clusters.append(get_new_aspect_cluster(\n",
        "                    left, right, aspect_term, polarity, sentence, window_size=window_size))\n",
        "                left = right\n",
        "                right = []\n",
        "                aspect_term = []\n",
        "                polarity = []\n",
        "            aspect_term.append(sentence[i])\n",
        "            polarity.append(polarity_tag[i])\n",
        "        else:\n",
        "            if doing_left:\n",
        "                left.append(sentence[i])\n",
        "            elif doing_right:\n",
        "                right.append(sentence[i])\n",
        "            else:\n",
        "                doing_aspect = False\n",
        "                doing_right = True\n",
        "                right.append(sentence[i])\n",
        "                \n",
        "    ret_aspect_clusters.append(get_new_aspect_cluster(\n",
        "        left, right, aspect_term, polarity, sentence, window_size=window_size))\n",
        "    \n",
        "    return ret_aspect_clusters"
      ]
    },
    {
      "cell_type": "code",
      "execution_count": 35,
      "id": "ee3e84f1",
      "metadata": {},
      "outputs": [],
      "source": [
        "def upsample_polarity(all_aspect_clusters):\n",
        "    neg_list = []\n",
        "    neu_list = []\n",
        "    pos_list = []\n",
        "\n",
        "    for item in all_aspect_clusters:\n",
        "        if item['polarity'] == 2:\n",
        "            neg_list.append(item)\n",
        "        elif item['polarity'] == 0:\n",
        "            neu_list.append(item)\n",
        "        else:\n",
        "            pos_list.append(item)\n",
        "\n",
        "    num_to_add = len(pos_list) - len(neg_list)\n",
        "    for i in range(num_to_add):\n",
        "        idx = random.randint(0, len(neg_list)-1)\n",
        "        neg_list.append(neg_list[idx])\n",
        "\n",
        "    num_to_add = len(pos_list) - len(neu_list)\n",
        "    for i in range(num_to_add):\n",
        "        idx = random.randint(0, len(neu_list)-1)\n",
        "        neu_list.append(neu_list[idx])    \n",
        "\n",
        "    all_aspect_clusters = neg_list\n",
        "    all_aspect_clusters.extend(neu_list)\n",
        "    all_aspect_clusters.extend(pos_list)  \n",
        "\n",
        "    return all_aspect_clusters"
      ]
    },
    {
      "cell_type": "code",
      "execution_count": 36,
      "metadata": {
        "id": "MIElcOeLQVR0"
      },
      "outputs": [],
      "source": [
        "# generate word_index list\n",
        "def build_vocab(df):\n",
        "    word_idx = {}\n",
        "    for idx, word in enumerate(sorted(set(df.text.values))):\n",
        "        word_idx[word] = idx + 1\n",
        "    return word_idx\n",
        "\n",
        "def gen_np_embedding(fn, word_idx, dim=100, emb=False):\n",
        "    if emb:\n",
        "        model = load_model(fn + \".bin\")\n",
        "    embedding = np.zeros((len(word_idx) + 2, dim))\n",
        "\n",
        "    with open(fn, encoding=\"utf8\") as f:\n",
        "        for l in f:\n",
        "            # for each line, get the word and its vector\n",
        "            rec = l.rstrip().split(' ')\n",
        "            if len(rec) == 2:  # skip the first line.\n",
        "                continue\n",
        "                # if the word in word_idx, fill the embedding\n",
        "            if rec[0] in word_idx:\n",
        "                embedding[word_idx[rec[0]]] = np.array([float(r) for r in rec[1:]])\n",
        "    for w in word_idx:\n",
        "        if embedding[word_idx[w]].sum() == 0.:\n",
        "            if emb:\n",
        "                embedding[word_idx[w]] = model.get_word_vector(w)\n",
        "    return embedding\n",
        "\n",
        "def create_train_data_restaurant(all_aspect_clusters,  word_idx, sent_len=83):\n",
        "\n",
        "    train_X_local = np.zeros((len(all_aspect_clusters), sent_len), np.int16)\n",
        "    train_X_global = np.zeros((len(all_aspect_clusters), sent_len), np.int16)\n",
        "\n",
        "    train_y = np.zeros(len(all_aspect_clusters), np.int16)\n",
        "\n",
        "    # iterate the asoect\n",
        "    for sx, sent in enumerate(all_aspect_clusters):\n",
        "        train_y[sx] = sent['polarity']\n",
        "        global_sentence = sent['global_context']\n",
        "        local_sentence = sent['local_context']\n",
        "        try:\n",
        "            for wx, word in enumerate(global_sentence):\n",
        "                train_X_global[sx, wx] = word_idx[word]\n",
        "\n",
        "            for wx, word in enumerate(local_sentence):\n",
        "                train_X_local[sx, wx] = word_idx[word]\n",
        "\n",
        "        except KeyError:\n",
        "            continue\n",
        "\n",
        "    return train_X_local, train_X_global, train_y\n",
        "\n",
        "\n",
        "def get_default_device():\n",
        "    \"\"\"Pick GPU if available, else CPU\"\"\"\n",
        "    if torch.cuda.is_available():\n",
        "        return torch.device('cuda')\n",
        "    else:\n",
        "        return torch.device('cpu')\n",
        "\n",
        "\n",
        "def to_device(data, device):\n",
        "    \"\"\"Move tensor(s) to chosen device\"\"\"\n",
        "    if isinstance(data, (list, tuple)):\n",
        "        return [to_device(x, device) for x in data]\n",
        "    elif isinstance(data, dict):\n",
        "        for k, v in data.items():\n",
        "            data[k] = v.to(device)\n",
        "        return data\n",
        "    return data.to(device, non_blocking=True)\n",
        "\n",
        "\n",
        "class DeviceDataLoader():\n",
        "    \"\"\"Wrap a dataloader to move data to a device\"\"\"\n",
        "\n",
        "    def __init__(self, dl, device):\n",
        "        self.dl = dl\n",
        "        self.device = device\n",
        "\n",
        "    def __iter__(self):\n",
        "        \"\"\"Yield a batch of data after moving it to device\"\"\"\n",
        "        for b in self.dl:\n",
        "            yield to_device(b, self.device)\n",
        "\n",
        "    def __len__(self):\n",
        "        \"\"\"Number of batches\"\"\"\n",
        "        return len(self.dl)\n",
        "\n",
        "\n",
        "def loss_fn(pred, label, num_label):\n",
        "    pred = pred.view(-1,num_label)\n",
        "    label = label.view(-1)\n",
        "    loss = torch.nn.functional.cross_entropy(pred, label)\n",
        "    return loss\n",
        "\n",
        "\n",
        "def cal_acc(pred_tags, true_tags):\n",
        "    if isinstance(pred_tags, list):\n",
        "        pred_tags = torch.cat(pred_tags, 0)\n",
        "        true_tags = torch.cat(true_tags, 0)\n",
        "    acc = (pred_tags == true_tags).sum() / pred_tags.numel()\n",
        "    f1 = f1_score(true_tags.cpu().numpy(), pred_tags.cpu().numpy(), labels=[0, 1, 2], average='weighted')\n",
        "    cm = confusion_matrix(true_tags.cpu().numpy(), pred_tags.cpu().numpy())\n",
        "    return acc, f1, cm\n",
        "\n",
        "\n",
        "class Model(torch.nn.Module):\n",
        "    def __init__(self, gen_emb, num_classes=3, alpha = 0.6):\n",
        "        super(Model, self).__init__()\n",
        "  \n",
        "        self.embed = nn.Embedding.from_pretrained(torch.tensor(gen_emb, dtype=torch.float))\n",
        "\n",
        "        self.lstm = nn.LSTM(gen_emb.shape[1], hidden_size=150, num_layers=1, bidirectional=True, batch_first=True)\n",
        "        self.dense = nn.Linear(150*2, num_classes)\n",
        "\n",
        "        self.alpha = alpha\n",
        "        self.dropout = nn.Dropout(0.3)\n",
        "\n",
        "\n",
        "    def forward(self, x_train_local, x_train_global):\n",
        "        x_local = self.embed(x_train_local)\n",
        "        \n",
        "        local_seq_lengths = np.sum(np.array(x_train_local) !=0, axis=1)\n",
        "   \n",
        "        x_emb_l = torch.nn.utils.rnn.pack_padded_sequence(x_local, local_seq_lengths, batch_first=True, enforce_sorted=False)\n",
        "\n",
        "        _, (h_n, _) = self.lstm(x_emb_l.float())\n",
        "\n",
        "        h_n = torch.cat([h_n[-2,:,:], h_n[-1,:,:]], dim=1)\n",
        "\n",
        "        x_global = self.embed(x_train_global)\n",
        "\n",
        "\n",
        "        global_seq_lengths = np.sum(np.array(x_train_global) !=0, axis=1)\n",
        "\n",
        "        x_emb_g = torch.nn.utils.rnn.pack_padded_sequence(x_global, global_seq_lengths, batch_first=True, enforce_sorted=False)\n",
        "\n",
        "        _, (h_n_g,_) = self.lstm(x_emb_g.float())\n",
        "\n",
        "        h_n_g = torch.cat([h_n_g[-2,:,:], h_n_g[-1,:,:]], dim=1)\n",
        "\n",
        "        avg_pool = torch.div(torch.add(h_n * (1 - self.alpha), h_n_g * self.alpha), 2)\n",
        "        out = self.dropout(avg_pool)\n",
        "\n",
        "        out = self.dense(out)\n",
        "\n",
        "        final_out = torch.nn.functional.softmax(out)\n",
        "\n",
        "        return final_out, out"
      ]
    },
    {
      "cell_type": "code",
      "execution_count": 37,
      "metadata": {},
      "outputs": [],
      "source": [
        "word_indx = build_vocab(df)\n",
        "    \n",
        "fn = DATA_DIR + 'glove.840B.300d.txt'\n",
        "general_embedding = gen_np_embedding(fn, word_indx, dim=300, emb=False)"
      ]
    },
    {
      "cell_type": "code",
      "execution_count": 38,
      "metadata": {},
      "outputs": [],
      "source": [
        "def get_classification_report(test_loader, model, model_path=None):\n",
        "    if model_path is not None: # load the saved model\n",
        "        print('Loading saved model from: {}'.format(model_path))\n",
        "        model.load_state_dict(torch.load(model_path))\n",
        "    model = to_device(model, device)   \n",
        "    \n",
        "    model.eval()\n",
        "    final_pred_polarity_tags = []\n",
        "    final_true_polarity_tags = []\n",
        "\n",
        "\n",
        "    with torch.no_grad():\n",
        "        for data in tqdm(test_loader, total=len(test_loader)):\n",
        "            for i in range(len(data)):\n",
        "                data[i] = data[i].to(device)\n",
        "\n",
        "            l_feature, g_feature, label = data\n",
        "            l_feature, g_feature, label = l_feature.long(), g_feature.long(), label.long()\n",
        "            pred_logits, logits = model(l_feature, g_feature)\n",
        "\n",
        "            pred_tags = pred_logits.max(-1)[1]\n",
        "\n",
        "            final_pred_polarity_tags.extend(pred_tags)\n",
        "            final_true_polarity_tags.extend(label)\n",
        "\n",
        "    final_pred_polarity_tags = torch.stack(final_pred_polarity_tags).cpu()\n",
        "    final_true_polarity_tags = torch.stack(final_true_polarity_tags).cpu()\n",
        "        \n",
        "    print(classification_report(final_true_polarity_tags, final_pred_polarity_tags, \n",
        "                                target_names=[\"Neutral\", \"Positive\", \"Negative\"]))"
      ]
    },
    {
      "cell_type": "markdown",
      "metadata": {},
      "source": [
        "## upsampling = False"
      ]
    },
    {
      "cell_type": "code",
      "execution_count": 41,
      "metadata": {},
      "outputs": [
        {
          "name": "stdout",
          "output_type": "stream",
          "text": [
            "\n",
            "******************************************************************************************\n",
            "Alpha Size: 0.6\n",
            "Window Size: 2\n",
            "******************************************************************************************\n",
            "\n",
            "train samples:4641\n",
            "valid samples:1161\n"
          ]
        },
        {
          "name": "stderr",
          "output_type": "stream",
          "text": [
            "  0%|          | 0/36 [00:00<?, ?it/s]/var/folders/3c/71b8pg6d7j5dht_5h_2n4n_c0000gn/T/ipykernel_10911/1044936714.py:147: UserWarning: Implicit dimension choice for softmax has been deprecated. Change the call to include dim=X as an argument.\n",
            "  final_out = torch.nn.functional.softmax(out)\n",
            "100%|██████████| 36/36 [00:06<00:00,  5.41it/s]\n",
            "  0%|          | 0/2 [00:00<?, ?it/s]/var/folders/3c/71b8pg6d7j5dht_5h_2n4n_c0000gn/T/ipykernel_10911/1044936714.py:147: UserWarning: Implicit dimension choice for softmax has been deprecated. Change the call to include dim=X as an argument.\n",
            "  final_out = torch.nn.functional.softmax(out)\n",
            "100%|██████████| 2/2 [00:00<00:00,  6.28it/s]\n"
          ]
        },
        {
          "name": "stdout",
          "output_type": "stream",
          "text": [
            "\n",
            "epoch 0\n",
            "\ttrain_loss:1.065 valid_loss:1.017\n",
            "\ttrain_acc:50.35% valid_acc:54.78%\n",
            "\ttrain_f1:0.370 valid_f1:0.388\n",
            "\ttrain_confusion_matrix:\n",
            "[[  26  865   10]\n",
            " [  87 2267   41]\n",
            " [  61 1224   27]]\n",
            "\tvalid_confusion_matrix:\n",
            "[[  0 211   0]\n",
            " [  0 636   0]\n",
            " [  0 314   0]]\n"
          ]
        },
        {
          "name": "stderr",
          "output_type": "stream",
          "text": [
            "  0%|          | 0/36 [00:00<?, ?it/s]/var/folders/3c/71b8pg6d7j5dht_5h_2n4n_c0000gn/T/ipykernel_10911/1044936714.py:147: UserWarning: Implicit dimension choice for softmax has been deprecated. Change the call to include dim=X as an argument.\n",
            "  final_out = torch.nn.functional.softmax(out)\n",
            "100%|██████████| 36/36 [00:06<00:00,  5.81it/s]\n",
            "  0%|          | 0/2 [00:00<?, ?it/s]/var/folders/3c/71b8pg6d7j5dht_5h_2n4n_c0000gn/T/ipykernel_10911/1044936714.py:147: UserWarning: Implicit dimension choice for softmax has been deprecated. Change the call to include dim=X as an argument.\n",
            "  final_out = torch.nn.functional.softmax(out)\n",
            "100%|██████████| 2/2 [00:00<00:00,  5.90it/s]\n"
          ]
        },
        {
          "name": "stdout",
          "output_type": "stream",
          "text": [
            "\n",
            "epoch 1\n",
            "\ttrain_loss:1.005 valid_loss:0.950\n",
            "\ttrain_acc:52.00% valid_acc:54.78%\n",
            "\ttrain_f1:0.358 valid_f1:0.388\n",
            "\ttrain_confusion_matrix:\n",
            "[[   0  903    0]\n",
            " [   1 2387    1]\n",
            " [   4 1303    9]]\n",
            "\tvalid_confusion_matrix:\n",
            "[[  0 211   0]\n",
            " [  0 636   0]\n",
            " [  0 314   0]]\n"
          ]
        },
        {
          "name": "stderr",
          "output_type": "stream",
          "text": [
            "  0%|          | 0/36 [00:00<?, ?it/s]/var/folders/3c/71b8pg6d7j5dht_5h_2n4n_c0000gn/T/ipykernel_10911/1044936714.py:147: UserWarning: Implicit dimension choice for softmax has been deprecated. Change the call to include dim=X as an argument.\n",
            "  final_out = torch.nn.functional.softmax(out)\n",
            "100%|██████████| 36/36 [00:06<00:00,  5.82it/s]\n",
            "  0%|          | 0/2 [00:00<?, ?it/s]/var/folders/3c/71b8pg6d7j5dht_5h_2n4n_c0000gn/T/ipykernel_10911/1044936714.py:147: UserWarning: Implicit dimension choice for softmax has been deprecated. Change the call to include dim=X as an argument.\n",
            "  final_out = torch.nn.functional.softmax(out)\n",
            "100%|██████████| 2/2 [00:00<00:00,  5.14it/s]\n"
          ]
        },
        {
          "name": "stdout",
          "output_type": "stream",
          "text": [
            "\n",
            "epoch 2\n",
            "\ttrain_loss:0.962 valid_loss:0.908\n",
            "\ttrain_acc:52.17% valid_acc:54.95%\n",
            "\ttrain_f1:0.362 valid_f1:0.395\n",
            "\ttrain_confusion_matrix:\n",
            "[[   0  899    0]\n",
            " [   0 2387    3]\n",
            " [   1 1301   17]]\n",
            "\tvalid_confusion_matrix:\n",
            "[[  0 209   2]\n",
            " [  0 634   2]\n",
            " [  0 310   4]]\n"
          ]
        },
        {
          "name": "stderr",
          "output_type": "stream",
          "text": [
            "  0%|          | 0/36 [00:00<?, ?it/s]/var/folders/3c/71b8pg6d7j5dht_5h_2n4n_c0000gn/T/ipykernel_10911/1044936714.py:147: UserWarning: Implicit dimension choice for softmax has been deprecated. Change the call to include dim=X as an argument.\n",
            "  final_out = torch.nn.functional.softmax(out)\n",
            "100%|██████████| 36/36 [00:05<00:00,  6.00it/s]\n",
            "  0%|          | 0/2 [00:00<?, ?it/s]/var/folders/3c/71b8pg6d7j5dht_5h_2n4n_c0000gn/T/ipykernel_10911/1044936714.py:147: UserWarning: Implicit dimension choice for softmax has been deprecated. Change the call to include dim=X as an argument.\n",
            "  final_out = torch.nn.functional.softmax(out)\n",
            "100%|██████████| 2/2 [00:00<00:00,  6.69it/s]\n"
          ]
        },
        {
          "name": "stdout",
          "output_type": "stream",
          "text": [
            "\n",
            "epoch 3\n",
            "\ttrain_loss:0.902 valid_loss:0.841\n",
            "\ttrain_acc:57.23% valid_acc:62.62%\n",
            "\ttrain_f1:0.473 valid_f1:0.551\n",
            "\ttrain_confusion_matrix:\n",
            "[[   0  748  157]\n",
            " [   0 2300   93]\n",
            " [   0  973  337]]\n",
            "\tvalid_confusion_matrix:\n",
            "[[  0 143  68]\n",
            " [  0 585  51]\n",
            " [  0 172 142]]\n"
          ]
        },
        {
          "name": "stderr",
          "output_type": "stream",
          "text": [
            "  0%|          | 0/36 [00:00<?, ?it/s]/var/folders/3c/71b8pg6d7j5dht_5h_2n4n_c0000gn/T/ipykernel_10911/1044936714.py:147: UserWarning: Implicit dimension choice for softmax has been deprecated. Change the call to include dim=X as an argument.\n",
            "  final_out = torch.nn.functional.softmax(out)\n",
            "100%|██████████| 36/36 [00:05<00:00,  6.18it/s]\n",
            "  0%|          | 0/2 [00:00<?, ?it/s]/var/folders/3c/71b8pg6d7j5dht_5h_2n4n_c0000gn/T/ipykernel_10911/1044936714.py:147: UserWarning: Implicit dimension choice for softmax has been deprecated. Change the call to include dim=X as an argument.\n",
            "  final_out = torch.nn.functional.softmax(out)\n",
            "100%|██████████| 2/2 [00:00<00:00,  6.25it/s]\n"
          ]
        },
        {
          "name": "stdout",
          "output_type": "stream",
          "text": [
            "\n",
            "epoch 4\n",
            "\ttrain_loss:0.832 valid_loss:0.792\n",
            "\ttrain_acc:63.24% valid_acc:63.05%\n",
            "\ttrain_f1:0.564 valid_f1:0.575\n",
            "\ttrain_confusion_matrix:\n",
            "[[   0  440  464]\n",
            " [   0 2068  324]\n",
            " [   0  466  846]]\n",
            "\tvalid_confusion_matrix:\n",
            "[[  0  84 127]\n",
            " [  0 513 123]\n",
            " [  0  95 219]]\n"
          ]
        },
        {
          "name": "stderr",
          "output_type": "stream",
          "text": [
            "  0%|          | 0/36 [00:00<?, ?it/s]/var/folders/3c/71b8pg6d7j5dht_5h_2n4n_c0000gn/T/ipykernel_10911/1044936714.py:147: UserWarning: Implicit dimension choice for softmax has been deprecated. Change the call to include dim=X as an argument.\n",
            "  final_out = torch.nn.functional.softmax(out)\n",
            "100%|██████████| 36/36 [00:05<00:00,  6.21it/s]\n",
            "  0%|          | 0/2 [00:00<?, ?it/s]/var/folders/3c/71b8pg6d7j5dht_5h_2n4n_c0000gn/T/ipykernel_10911/1044936714.py:147: UserWarning: Implicit dimension choice for softmax has been deprecated. Change the call to include dim=X as an argument.\n",
            "  final_out = torch.nn.functional.softmax(out)\n",
            "100%|██████████| 2/2 [00:00<00:00,  5.86it/s]\n"
          ]
        },
        {
          "name": "stdout",
          "output_type": "stream",
          "text": [
            "\n",
            "epoch 5\n",
            "\ttrain_loss:0.789 valid_loss:0.771\n",
            "\ttrain_acc:65.41% valid_acc:63.74%\n",
            "\ttrain_f1:0.588 valid_f1:0.582\n",
            "\ttrain_confusion_matrix:\n",
            "[[   1  354  542]\n",
            " [   0 2033  361]\n",
            " [   0  337  980]]\n",
            "\tvalid_confusion_matrix:\n",
            "[[  0  78 133]\n",
            " [  0 507 129]\n",
            " [  0  81 233]]\n"
          ]
        },
        {
          "name": "stderr",
          "output_type": "stream",
          "text": [
            "  0%|          | 0/36 [00:00<?, ?it/s]/var/folders/3c/71b8pg6d7j5dht_5h_2n4n_c0000gn/T/ipykernel_10911/1044936714.py:147: UserWarning: Implicit dimension choice for softmax has been deprecated. Change the call to include dim=X as an argument.\n",
            "  final_out = torch.nn.functional.softmax(out)\n",
            "100%|██████████| 36/36 [00:06<00:00,  5.93it/s]\n",
            "  0%|          | 0/2 [00:00<?, ?it/s]/var/folders/3c/71b8pg6d7j5dht_5h_2n4n_c0000gn/T/ipykernel_10911/1044936714.py:147: UserWarning: Implicit dimension choice for softmax has been deprecated. Change the call to include dim=X as an argument.\n",
            "  final_out = torch.nn.functional.softmax(out)\n",
            "100%|██████████| 2/2 [00:00<00:00,  6.63it/s]\n"
          ]
        },
        {
          "name": "stdout",
          "output_type": "stream",
          "text": [
            "\n",
            "epoch 6\n",
            "\ttrain_loss:0.765 valid_loss:0.735\n",
            "\ttrain_acc:66.69% valid_acc:66.75%\n",
            "\ttrain_f1:0.599 valid_f1:0.607\n",
            "\ttrain_confusion_matrix:\n",
            "[[   4  362  537]\n",
            " [   0 2070  319]\n",
            " [   1  316  999]]\n",
            "\tvalid_confusion_matrix:\n",
            "[[  1  89 121]\n",
            " [  0 538  98]\n",
            " [  0  78 236]]\n"
          ]
        },
        {
          "name": "stderr",
          "output_type": "stream",
          "text": [
            "  0%|          | 0/36 [00:00<?, ?it/s]/var/folders/3c/71b8pg6d7j5dht_5h_2n4n_c0000gn/T/ipykernel_10911/1044936714.py:147: UserWarning: Implicit dimension choice for softmax has been deprecated. Change the call to include dim=X as an argument.\n",
            "  final_out = torch.nn.functional.softmax(out)\n",
            "100%|██████████| 36/36 [00:06<00:00,  5.53it/s]\n",
            "  0%|          | 0/2 [00:00<?, ?it/s]/var/folders/3c/71b8pg6d7j5dht_5h_2n4n_c0000gn/T/ipykernel_10911/1044936714.py:147: UserWarning: Implicit dimension choice for softmax has been deprecated. Change the call to include dim=X as an argument.\n",
            "  final_out = torch.nn.functional.softmax(out)\n",
            "100%|██████████| 2/2 [00:00<00:00,  3.69it/s]\n"
          ]
        },
        {
          "name": "stdout",
          "output_type": "stream",
          "text": [
            "\n",
            "epoch 7\n",
            "\ttrain_loss:0.742 valid_loss:0.717\n",
            "\ttrain_acc:68.08% valid_acc:66.58%\n",
            "\ttrain_f1:0.616 valid_f1:0.608\n",
            "\ttrain_confusion_matrix:\n",
            "[[  15  360  524]\n",
            " [   2 2088  302]\n",
            " [   2  281 1034]]\n",
            "\tvalid_confusion_matrix:\n",
            "[[  2  88 121]\n",
            " [  0 527 109]\n",
            " [  0  70 244]]\n"
          ]
        },
        {
          "name": "stderr",
          "output_type": "stream",
          "text": [
            "  0%|          | 0/36 [00:00<?, ?it/s]/var/folders/3c/71b8pg6d7j5dht_5h_2n4n_c0000gn/T/ipykernel_10911/1044936714.py:147: UserWarning: Implicit dimension choice for softmax has been deprecated. Change the call to include dim=X as an argument.\n",
            "  final_out = torch.nn.functional.softmax(out)\n",
            "100%|██████████| 36/36 [00:06<00:00,  5.69it/s]\n",
            "  0%|          | 0/2 [00:00<?, ?it/s]/var/folders/3c/71b8pg6d7j5dht_5h_2n4n_c0000gn/T/ipykernel_10911/1044936714.py:147: UserWarning: Implicit dimension choice for softmax has been deprecated. Change the call to include dim=X as an argument.\n",
            "  final_out = torch.nn.functional.softmax(out)\n",
            "100%|██████████| 2/2 [00:00<00:00,  6.86it/s]\n"
          ]
        },
        {
          "name": "stdout",
          "output_type": "stream",
          "text": [
            "\n",
            "epoch 8\n",
            "\ttrain_loss:0.729 valid_loss:0.702\n",
            "\ttrain_acc:68.73% valid_acc:67.96%\n",
            "\ttrain_f1:0.626 valid_f1:0.627\n",
            "\ttrain_confusion_matrix:\n",
            "[[  33  375  493]\n",
            " [   8 2107  279]\n",
            " [   2  284 1027]]\n",
            "\tvalid_confusion_matrix:\n",
            "[[  8  86 117]\n",
            " [  2 535  99]\n",
            " [  1  67 246]]\n"
          ]
        },
        {
          "name": "stderr",
          "output_type": "stream",
          "text": [
            "  0%|          | 0/36 [00:00<?, ?it/s]/var/folders/3c/71b8pg6d7j5dht_5h_2n4n_c0000gn/T/ipykernel_10911/1044936714.py:147: UserWarning: Implicit dimension choice for softmax has been deprecated. Change the call to include dim=X as an argument.\n",
            "  final_out = torch.nn.functional.softmax(out)\n",
            "100%|██████████| 36/36 [00:05<00:00,  6.07it/s]\n",
            "  0%|          | 0/2 [00:00<?, ?it/s]/var/folders/3c/71b8pg6d7j5dht_5h_2n4n_c0000gn/T/ipykernel_10911/1044936714.py:147: UserWarning: Implicit dimension choice for softmax has been deprecated. Change the call to include dim=X as an argument.\n",
            "  final_out = torch.nn.functional.softmax(out)\n",
            "100%|██████████| 2/2 [00:00<00:00,  6.25it/s]\n"
          ]
        },
        {
          "name": "stdout",
          "output_type": "stream",
          "text": [
            "\n",
            "epoch 9\n",
            "\ttrain_loss:0.709 valid_loss:0.705\n",
            "\ttrain_acc:69.66% valid_acc:67.70%\n",
            "\ttrain_f1:0.638 valid_f1:0.629\n",
            "\ttrain_confusion_matrix:\n",
            "[[  44  361  495]\n",
            " [  14 2106  274]\n",
            " [   6  248 1060]]\n",
            "\tvalid_confusion_matrix:\n",
            "[[ 10  79 122]\n",
            " [  3 527 106]\n",
            " [  1  64 249]]\n"
          ]
        },
        {
          "name": "stderr",
          "output_type": "stream",
          "text": [
            "  0%|          | 0/36 [00:00<?, ?it/s]/var/folders/3c/71b8pg6d7j5dht_5h_2n4n_c0000gn/T/ipykernel_10911/1044936714.py:147: UserWarning: Implicit dimension choice for softmax has been deprecated. Change the call to include dim=X as an argument.\n",
            "  final_out = torch.nn.functional.softmax(out)\n",
            "100%|██████████| 36/36 [00:05<00:00,  6.21it/s]\n",
            "  0%|          | 0/2 [00:00<?, ?it/s]/var/folders/3c/71b8pg6d7j5dht_5h_2n4n_c0000gn/T/ipykernel_10911/1044936714.py:147: UserWarning: Implicit dimension choice for softmax has been deprecated. Change the call to include dim=X as an argument.\n",
            "  final_out = torch.nn.functional.softmax(out)\n",
            "100%|██████████| 2/2 [00:00<00:00,  6.73it/s]\n"
          ]
        },
        {
          "name": "stdout",
          "output_type": "stream",
          "text": [
            "\n",
            "epoch 10\n",
            "\ttrain_loss:0.698 valid_loss:0.689\n",
            "\ttrain_acc:69.99% valid_acc:69.34%\n",
            "\ttrain_f1:0.645 valid_f1:0.644\n",
            "\ttrain_confusion_matrix:\n",
            "[[  58  362  485]\n",
            " [  15 2115  263]\n",
            " [   9  249 1052]]\n",
            "\tvalid_confusion_matrix:\n",
            "[[ 12  88 111]\n",
            " [  7 551  78]\n",
            " [  3  69 242]]\n"
          ]
        },
        {
          "name": "stderr",
          "output_type": "stream",
          "text": [
            "  0%|          | 0/36 [00:00<?, ?it/s]/var/folders/3c/71b8pg6d7j5dht_5h_2n4n_c0000gn/T/ipykernel_10911/1044936714.py:147: UserWarning: Implicit dimension choice for softmax has been deprecated. Change the call to include dim=X as an argument.\n",
            "  final_out = torch.nn.functional.softmax(out)\n",
            "100%|██████████| 36/36 [00:05<00:00,  6.17it/s]\n",
            "  0%|          | 0/2 [00:00<?, ?it/s]/var/folders/3c/71b8pg6d7j5dht_5h_2n4n_c0000gn/T/ipykernel_10911/1044936714.py:147: UserWarning: Implicit dimension choice for softmax has been deprecated. Change the call to include dim=X as an argument.\n",
            "  final_out = torch.nn.functional.softmax(out)\n",
            "100%|██████████| 2/2 [00:00<00:00,  6.82it/s]\n"
          ]
        },
        {
          "name": "stdout",
          "output_type": "stream",
          "text": [
            "\n",
            "epoch 11\n",
            "\ttrain_loss:0.686 valid_loss:0.689\n",
            "\ttrain_acc:70.94% valid_acc:68.65%\n",
            "\ttrain_f1:0.659 valid_f1:0.647\n",
            "\ttrain_confusion_matrix:\n",
            "[[  80  359  462]\n",
            " [  21 2136  237]\n",
            " [  16  244 1053]]\n",
            "\tvalid_confusion_matrix:\n",
            "[[ 18  76 117]\n",
            " [ 14 524  98]\n",
            " [  2  57 255]]\n"
          ]
        },
        {
          "name": "stderr",
          "output_type": "stream",
          "text": [
            "  0%|          | 0/36 [00:00<?, ?it/s]/var/folders/3c/71b8pg6d7j5dht_5h_2n4n_c0000gn/T/ipykernel_10911/1044936714.py:147: UserWarning: Implicit dimension choice for softmax has been deprecated. Change the call to include dim=X as an argument.\n",
            "  final_out = torch.nn.functional.softmax(out)\n",
            "100%|██████████| 36/36 [00:05<00:00,  6.30it/s]\n",
            "  0%|          | 0/2 [00:00<?, ?it/s]/var/folders/3c/71b8pg6d7j5dht_5h_2n4n_c0000gn/T/ipykernel_10911/1044936714.py:147: UserWarning: Implicit dimension choice for softmax has been deprecated. Change the call to include dim=X as an argument.\n",
            "  final_out = torch.nn.functional.softmax(out)\n",
            "100%|██████████| 2/2 [00:00<00:00,  7.20it/s]\n"
          ]
        },
        {
          "name": "stdout",
          "output_type": "stream",
          "text": [
            "\n",
            "epoch 12\n",
            "\ttrain_loss:0.678 valid_loss:0.676\n",
            "\ttrain_acc:71.74% valid_acc:70.11%\n",
            "\ttrain_f1:0.673 valid_f1:0.659\n",
            "\ttrain_confusion_matrix:\n",
            "[[ 112  359  433]\n",
            " [  23 2142  225]\n",
            " [  26  236 1052]]\n",
            "\tvalid_confusion_matrix:\n",
            "[[ 22  87 102]\n",
            " [ 10 558  68]\n",
            " [  4  76 234]]\n"
          ]
        },
        {
          "name": "stderr",
          "output_type": "stream",
          "text": [
            "  0%|          | 0/36 [00:00<?, ?it/s]/var/folders/3c/71b8pg6d7j5dht_5h_2n4n_c0000gn/T/ipykernel_10911/1044936714.py:147: UserWarning: Implicit dimension choice for softmax has been deprecated. Change the call to include dim=X as an argument.\n",
            "  final_out = torch.nn.functional.softmax(out)\n",
            "100%|██████████| 36/36 [00:05<00:00,  6.40it/s]\n",
            "  0%|          | 0/2 [00:00<?, ?it/s]/var/folders/3c/71b8pg6d7j5dht_5h_2n4n_c0000gn/T/ipykernel_10911/1044936714.py:147: UserWarning: Implicit dimension choice for softmax has been deprecated. Change the call to include dim=X as an argument.\n",
            "  final_out = torch.nn.functional.softmax(out)\n",
            "100%|██████████| 2/2 [00:00<00:00,  6.67it/s]\n"
          ]
        },
        {
          "name": "stdout",
          "output_type": "stream",
          "text": [
            "\n",
            "epoch 13\n",
            "\ttrain_loss:0.666 valid_loss:0.663\n",
            "\ttrain_acc:72.20% valid_acc:70.63%\n",
            "\ttrain_f1:0.683 valid_f1:0.667\n",
            "\ttrain_confusion_matrix:\n",
            "[[ 133  335  434]\n",
            " [  37 2139  219]\n",
            " [  35  221 1055]]\n",
            "\tvalid_confusion_matrix:\n",
            "[[ 24  86 101]\n",
            " [ 17 547  72]\n",
            " [  3  62 249]]\n"
          ]
        },
        {
          "name": "stderr",
          "output_type": "stream",
          "text": [
            "  0%|          | 0/36 [00:00<?, ?it/s]/var/folders/3c/71b8pg6d7j5dht_5h_2n4n_c0000gn/T/ipykernel_10911/1044936714.py:147: UserWarning: Implicit dimension choice for softmax has been deprecated. Change the call to include dim=X as an argument.\n",
            "  final_out = torch.nn.functional.softmax(out)\n",
            "100%|██████████| 36/36 [00:05<00:00,  6.17it/s]\n",
            "  0%|          | 0/2 [00:00<?, ?it/s]/var/folders/3c/71b8pg6d7j5dht_5h_2n4n_c0000gn/T/ipykernel_10911/1044936714.py:147: UserWarning: Implicit dimension choice for softmax has been deprecated. Change the call to include dim=X as an argument.\n",
            "  final_out = torch.nn.functional.softmax(out)\n",
            "100%|██████████| 2/2 [00:00<00:00,  7.09it/s]\n"
          ]
        },
        {
          "name": "stdout",
          "output_type": "stream",
          "text": [
            "\n",
            "epoch 14\n",
            "\ttrain_loss:0.656 valid_loss:0.678\n",
            "\ttrain_acc:72.94% valid_acc:69.51%\n",
            "\ttrain_f1:0.695 valid_f1:0.659\n",
            "\ttrain_confusion_matrix:\n",
            "[[ 163  321  413]\n",
            " [  34 2136  223]\n",
            " [  39  217 1062]]\n",
            "\tvalid_confusion_matrix:\n",
            "[[ 24  79 108]\n",
            " [ 17 526  93]\n",
            " [  3  54 257]]\n"
          ]
        },
        {
          "name": "stderr",
          "output_type": "stream",
          "text": [
            "  0%|          | 0/36 [00:00<?, ?it/s]/var/folders/3c/71b8pg6d7j5dht_5h_2n4n_c0000gn/T/ipykernel_10911/1044936714.py:147: UserWarning: Implicit dimension choice for softmax has been deprecated. Change the call to include dim=X as an argument.\n",
            "  final_out = torch.nn.functional.softmax(out)\n",
            "100%|██████████| 36/36 [00:05<00:00,  6.03it/s]\n",
            "  0%|          | 0/2 [00:00<?, ?it/s]/var/folders/3c/71b8pg6d7j5dht_5h_2n4n_c0000gn/T/ipykernel_10911/1044936714.py:147: UserWarning: Implicit dimension choice for softmax has been deprecated. Change the call to include dim=X as an argument.\n",
            "  final_out = torch.nn.functional.softmax(out)\n",
            "100%|██████████| 2/2 [00:00<00:00,  7.20it/s]\n"
          ]
        },
        {
          "name": "stdout",
          "output_type": "stream",
          "text": [
            "\n",
            "epoch 15\n",
            "\ttrain_loss:0.647 valid_loss:0.654\n",
            "\ttrain_acc:73.11% valid_acc:71.15%\n",
            "\ttrain_f1:0.701 valid_f1:0.682\n",
            "\ttrain_confusion_matrix:\n",
            "[[ 186  315  399]\n",
            " [  41 2140  211]\n",
            " [  51  222 1043]]\n",
            "\tvalid_confusion_matrix:\n",
            "[[ 36  85  90]\n",
            " [ 23 543  70]\n",
            " [  8  59 247]]\n"
          ]
        },
        {
          "name": "stderr",
          "output_type": "stream",
          "text": [
            "  0%|          | 0/36 [00:00<?, ?it/s]/var/folders/3c/71b8pg6d7j5dht_5h_2n4n_c0000gn/T/ipykernel_10911/1044936714.py:147: UserWarning: Implicit dimension choice for softmax has been deprecated. Change the call to include dim=X as an argument.\n",
            "  final_out = torch.nn.functional.softmax(out)\n",
            "100%|██████████| 36/36 [00:05<00:00,  6.04it/s]\n",
            "  0%|          | 0/2 [00:00<?, ?it/s]/var/folders/3c/71b8pg6d7j5dht_5h_2n4n_c0000gn/T/ipykernel_10911/1044936714.py:147: UserWarning: Implicit dimension choice for softmax has been deprecated. Change the call to include dim=X as an argument.\n",
            "  final_out = torch.nn.functional.softmax(out)\n",
            "100%|██████████| 2/2 [00:00<00:00,  5.59it/s]\n"
          ]
        },
        {
          "name": "stdout",
          "output_type": "stream",
          "text": [
            "\n",
            "epoch 16\n",
            "\ttrain_loss:0.639 valid_loss:0.651\n",
            "\ttrain_acc:73.72% valid_acc:71.75%\n",
            "\ttrain_f1:0.711 valid_f1:0.689\n",
            "\ttrain_confusion_matrix:\n",
            "[[ 216  312  374]\n",
            " [  58 2138  194]\n",
            " [  68  205 1043]]\n",
            "\tvalid_confusion_matrix:\n",
            "[[ 40  84  87]\n",
            " [ 22 553  61]\n",
            " [ 10  64 240]]\n"
          ]
        },
        {
          "name": "stderr",
          "output_type": "stream",
          "text": [
            "  0%|          | 0/36 [00:00<?, ?it/s]/var/folders/3c/71b8pg6d7j5dht_5h_2n4n_c0000gn/T/ipykernel_10911/1044936714.py:147: UserWarning: Implicit dimension choice for softmax has been deprecated. Change the call to include dim=X as an argument.\n",
            "  final_out = torch.nn.functional.softmax(out)\n",
            "100%|██████████| 36/36 [00:06<00:00,  5.73it/s]\n",
            "  0%|          | 0/2 [00:00<?, ?it/s]/var/folders/3c/71b8pg6d7j5dht_5h_2n4n_c0000gn/T/ipykernel_10911/1044936714.py:147: UserWarning: Implicit dimension choice for softmax has been deprecated. Change the call to include dim=X as an argument.\n",
            "  final_out = torch.nn.functional.softmax(out)\n",
            "100%|██████████| 2/2 [00:00<00:00,  5.97it/s]\n"
          ]
        },
        {
          "name": "stdout",
          "output_type": "stream",
          "text": [
            "\n",
            "epoch 17\n",
            "\ttrain_loss:0.631 valid_loss:0.650\n",
            "\ttrain_acc:74.09% valid_acc:71.32%\n",
            "\ttrain_f1:0.716 valid_f1:0.692\n",
            "\ttrain_confusion_matrix:\n",
            "[[ 228  284  392]\n",
            " [  60 2133  194]\n",
            " [  65  199 1053]]\n",
            "\tvalid_confusion_matrix:\n",
            "[[ 49  80  82]\n",
            " [ 27 537  72]\n",
            " [ 13  59 242]]\n"
          ]
        },
        {
          "name": "stderr",
          "output_type": "stream",
          "text": [
            "  0%|          | 0/36 [00:00<?, ?it/s]/var/folders/3c/71b8pg6d7j5dht_5h_2n4n_c0000gn/T/ipykernel_10911/1044936714.py:147: UserWarning: Implicit dimension choice for softmax has been deprecated. Change the call to include dim=X as an argument.\n",
            "  final_out = torch.nn.functional.softmax(out)\n",
            "100%|██████████| 36/36 [00:05<00:00,  6.27it/s]\n",
            "  0%|          | 0/2 [00:00<?, ?it/s]/var/folders/3c/71b8pg6d7j5dht_5h_2n4n_c0000gn/T/ipykernel_10911/1044936714.py:147: UserWarning: Implicit dimension choice for softmax has been deprecated. Change the call to include dim=X as an argument.\n",
            "  final_out = torch.nn.functional.softmax(out)\n",
            "100%|██████████| 2/2 [00:00<00:00,  6.66it/s]\n"
          ]
        },
        {
          "name": "stdout",
          "output_type": "stream",
          "text": [
            "\n",
            "epoch 18\n",
            "\ttrain_loss:0.623 valid_loss:0.661\n",
            "\ttrain_acc:74.46% valid_acc:71.15%\n",
            "\ttrain_f1:0.724 valid_f1:0.690\n",
            "\ttrain_confusion_matrix:\n",
            "[[ 259  296  350]\n",
            " [  77 2129  182]\n",
            " [  80  192 1043]]\n",
            "\tvalid_confusion_matrix:\n",
            "[[ 47  75  89]\n",
            " [ 31 526  79]\n",
            " [  8  53 253]]\n"
          ]
        },
        {
          "name": "stderr",
          "output_type": "stream",
          "text": [
            "  0%|          | 0/36 [00:00<?, ?it/s]/var/folders/3c/71b8pg6d7j5dht_5h_2n4n_c0000gn/T/ipykernel_10911/1044936714.py:147: UserWarning: Implicit dimension choice for softmax has been deprecated. Change the call to include dim=X as an argument.\n",
            "  final_out = torch.nn.functional.softmax(out)\n",
            "100%|██████████| 36/36 [00:05<00:00,  6.23it/s]\n",
            "  0%|          | 0/2 [00:00<?, ?it/s]/var/folders/3c/71b8pg6d7j5dht_5h_2n4n_c0000gn/T/ipykernel_10911/1044936714.py:147: UserWarning: Implicit dimension choice for softmax has been deprecated. Change the call to include dim=X as an argument.\n",
            "  final_out = torch.nn.functional.softmax(out)\n",
            "100%|██████████| 2/2 [00:00<00:00,  6.67it/s]\n"
          ]
        },
        {
          "name": "stdout",
          "output_type": "stream",
          "text": [
            "\n",
            "epoch 19\n",
            "\ttrain_loss:0.618 valid_loss:0.650\n",
            "\ttrain_acc:74.78% valid_acc:71.40%\n",
            "\ttrain_f1:0.730 valid_f1:0.699\n",
            "\ttrain_confusion_matrix:\n",
            "[[ 278  281  341]\n",
            " [  81 2129  184]\n",
            " [  83  192 1039]]\n",
            "\tvalid_confusion_matrix:\n",
            "[[ 57  73  81]\n",
            " [ 35 530  71]\n",
            " [ 19  53 242]]\n",
            "Loading saved model from: model_task2.bin\n"
          ]
        },
        {
          "name": "stderr",
          "output_type": "stream",
          "text": [
            "  0%|          | 0/2 [00:00<?, ?it/s]/var/folders/3c/71b8pg6d7j5dht_5h_2n4n_c0000gn/T/ipykernel_10911/1044936714.py:147: UserWarning: Implicit dimension choice for softmax has been deprecated. Change the call to include dim=X as an argument.\n",
            "  final_out = torch.nn.functional.softmax(out)\n",
            "100%|██████████| 2/2 [00:00<00:00,  7.49it/s]\n"
          ]
        },
        {
          "name": "stdout",
          "output_type": "stream",
          "text": [
            "              precision    recall  f1-score   support\n",
            "\n",
            "     Neutral       0.51      0.27      0.35       211\n",
            "    Positive       0.81      0.84      0.82       636\n",
            "    Negative       0.62      0.78      0.69       314\n",
            "\n",
            "    accuracy                           0.72      1161\n",
            "   macro avg       0.65      0.63      0.62      1161\n",
            "weighted avg       0.70      0.72      0.70      1161\n",
            "\n",
            "\n",
            "******************************************************************************************\n",
            "Alpha Size: 0.6\n",
            "Window Size: 4\n",
            "******************************************************************************************\n",
            "\n",
            "train samples:4641\n",
            "valid samples:1161\n"
          ]
        },
        {
          "name": "stderr",
          "output_type": "stream",
          "text": [
            "  0%|          | 0/36 [00:00<?, ?it/s]/var/folders/3c/71b8pg6d7j5dht_5h_2n4n_c0000gn/T/ipykernel_10911/1044936714.py:147: UserWarning: Implicit dimension choice for softmax has been deprecated. Change the call to include dim=X as an argument.\n",
            "  final_out = torch.nn.functional.softmax(out)\n",
            "100%|██████████| 36/36 [00:06<00:00,  5.37it/s]\n",
            "  0%|          | 0/2 [00:00<?, ?it/s]/var/folders/3c/71b8pg6d7j5dht_5h_2n4n_c0000gn/T/ipykernel_10911/1044936714.py:147: UserWarning: Implicit dimension choice for softmax has been deprecated. Change the call to include dim=X as an argument.\n",
            "  final_out = torch.nn.functional.softmax(out)\n",
            "100%|██████████| 2/2 [00:00<00:00,  5.74it/s]\n"
          ]
        },
        {
          "name": "stdout",
          "output_type": "stream",
          "text": [
            "\n",
            "epoch 0\n",
            "\ttrain_loss:1.067 valid_loss:1.023\n",
            "\ttrain_acc:49.26% valid_acc:53.66%\n",
            "\ttrain_f1:0.377 valid_f1:0.377\n",
            "\ttrain_confusion_matrix:\n",
            "[[  72  816    7]\n",
            " [ 202 2175   24]\n",
            " [ 127 1162   23]]\n",
            "\tvalid_confusion_matrix:\n",
            "[[  0 218   0]\n",
            " [  0 621   0]\n",
            " [  0 320   2]]\n"
          ]
        },
        {
          "name": "stderr",
          "output_type": "stream",
          "text": [
            "  0%|          | 0/36 [00:00<?, ?it/s]/var/folders/3c/71b8pg6d7j5dht_5h_2n4n_c0000gn/T/ipykernel_10911/1044936714.py:147: UserWarning: Implicit dimension choice for softmax has been deprecated. Change the call to include dim=X as an argument.\n",
            "  final_out = torch.nn.functional.softmax(out)\n",
            "100%|██████████| 36/36 [00:06<00:00,  5.42it/s]\n",
            "  0%|          | 0/2 [00:00<?, ?it/s]/var/folders/3c/71b8pg6d7j5dht_5h_2n4n_c0000gn/T/ipykernel_10911/1044936714.py:147: UserWarning: Implicit dimension choice for softmax has been deprecated. Change the call to include dim=X as an argument.\n",
            "  final_out = torch.nn.functional.softmax(out)\n",
            "100%|██████████| 2/2 [00:00<00:00,  6.12it/s]\n"
          ]
        },
        {
          "name": "stdout",
          "output_type": "stream",
          "text": [
            "\n",
            "epoch 1\n",
            "\ttrain_loss:1.003 valid_loss:0.965\n",
            "\ttrain_acc:52.32% valid_acc:53.57%\n",
            "\ttrain_f1:0.363 valid_f1:0.375\n",
            "\ttrain_confusion_matrix:\n",
            "[[   0  894    0]\n",
            " [   0 2399    3]\n",
            " [   0 1300   12]]\n",
            "\tvalid_confusion_matrix:\n",
            "[[  0 218   0]\n",
            " [  0 621   0]\n",
            " [  0 321   1]]\n"
          ]
        },
        {
          "name": "stderr",
          "output_type": "stream",
          "text": [
            "  0%|          | 0/36 [00:00<?, ?it/s]/var/folders/3c/71b8pg6d7j5dht_5h_2n4n_c0000gn/T/ipykernel_10911/1044936714.py:147: UserWarning: Implicit dimension choice for softmax has been deprecated. Change the call to include dim=X as an argument.\n",
            "  final_out = torch.nn.functional.softmax(out)\n",
            "100%|██████████| 36/36 [00:06<00:00,  5.61it/s]\n",
            "  0%|          | 0/2 [00:00<?, ?it/s]/var/folders/3c/71b8pg6d7j5dht_5h_2n4n_c0000gn/T/ipykernel_10911/1044936714.py:147: UserWarning: Implicit dimension choice for softmax has been deprecated. Change the call to include dim=X as an argument.\n",
            "  final_out = torch.nn.functional.softmax(out)\n",
            "100%|██████████| 2/2 [00:00<00:00,  5.76it/s]\n"
          ]
        },
        {
          "name": "stdout",
          "output_type": "stream",
          "text": [
            "\n",
            "epoch 2\n",
            "\ttrain_loss:0.960 valid_loss:0.915\n",
            "\ttrain_acc:52.41% valid_acc:53.83%\n",
            "\ttrain_f1:0.365 valid_f1:0.381\n",
            "\ttrain_confusion_matrix:\n",
            "[[   0  894    2]\n",
            " [   0 2400    6]\n",
            " [   0 1291   15]]\n",
            "\tvalid_confusion_matrix:\n",
            "[[  0 214   4]\n",
            " [  0 621   0]\n",
            " [  0 318   4]]\n"
          ]
        },
        {
          "name": "stderr",
          "output_type": "stream",
          "text": [
            "  0%|          | 0/36 [00:00<?, ?it/s]/var/folders/3c/71b8pg6d7j5dht_5h_2n4n_c0000gn/T/ipykernel_10911/1044936714.py:147: UserWarning: Implicit dimension choice for softmax has been deprecated. Change the call to include dim=X as an argument.\n",
            "  final_out = torch.nn.functional.softmax(out)\n",
            "100%|██████████| 36/36 [00:06<00:00,  5.46it/s]\n",
            "  0%|          | 0/2 [00:00<?, ?it/s]/var/folders/3c/71b8pg6d7j5dht_5h_2n4n_c0000gn/T/ipykernel_10911/1044936714.py:147: UserWarning: Implicit dimension choice for softmax has been deprecated. Change the call to include dim=X as an argument.\n",
            "  final_out = torch.nn.functional.softmax(out)\n",
            "100%|██████████| 2/2 [00:00<00:00,  5.86it/s]\n"
          ]
        },
        {
          "name": "stdout",
          "output_type": "stream",
          "text": [
            "\n",
            "epoch 3\n",
            "\ttrain_loss:0.896 valid_loss:0.834\n",
            "\ttrain_acc:57.03% valid_acc:63.57%\n",
            "\ttrain_f1:0.466 valid_f1:0.564\n",
            "\ttrain_confusion_matrix:\n",
            "[[   0  773  121]\n",
            " [   0 2335   71]\n",
            " [   0 1015  293]]\n",
            "\tvalid_confusion_matrix:\n",
            "[[  0 129  89]\n",
            " [  0 561  60]\n",
            " [  0 145 177]]\n"
          ]
        },
        {
          "name": "stderr",
          "output_type": "stream",
          "text": [
            "  0%|          | 0/36 [00:00<?, ?it/s]/var/folders/3c/71b8pg6d7j5dht_5h_2n4n_c0000gn/T/ipykernel_10911/1044936714.py:147: UserWarning: Implicit dimension choice for softmax has been deprecated. Change the call to include dim=X as an argument.\n",
            "  final_out = torch.nn.functional.softmax(out)\n",
            "100%|██████████| 36/36 [00:06<00:00,  5.61it/s]\n",
            "  0%|          | 0/2 [00:00<?, ?it/s]/var/folders/3c/71b8pg6d7j5dht_5h_2n4n_c0000gn/T/ipykernel_10911/1044936714.py:147: UserWarning: Implicit dimension choice for softmax has been deprecated. Change the call to include dim=X as an argument.\n",
            "  final_out = torch.nn.functional.softmax(out)\n",
            "100%|██████████| 2/2 [00:00<00:00,  6.36it/s]\n"
          ]
        },
        {
          "name": "stdout",
          "output_type": "stream",
          "text": [
            "\n",
            "epoch 4\n",
            "\ttrain_loss:0.833 valid_loss:0.778\n",
            "\ttrain_acc:62.93% valid_acc:66.06%\n",
            "\ttrain_f1:0.562 valid_f1:0.590\n",
            "\ttrain_confusion_matrix:\n",
            "[[   0  432  458]\n",
            " [   0 2070  342]\n",
            " [   0  476  830]]\n",
            "\tvalid_confusion_matrix:\n",
            "[[  0 113 105]\n",
            " [  0 560  61]\n",
            " [  0 115 207]]\n"
          ]
        },
        {
          "name": "stderr",
          "output_type": "stream",
          "text": [
            "  0%|          | 0/36 [00:00<?, ?it/s]/var/folders/3c/71b8pg6d7j5dht_5h_2n4n_c0000gn/T/ipykernel_10911/1044936714.py:147: UserWarning: Implicit dimension choice for softmax has been deprecated. Change the call to include dim=X as an argument.\n",
            "  final_out = torch.nn.functional.softmax(out)\n",
            "100%|██████████| 36/36 [00:06<00:00,  5.52it/s]\n",
            "  0%|          | 0/2 [00:00<?, ?it/s]/var/folders/3c/71b8pg6d7j5dht_5h_2n4n_c0000gn/T/ipykernel_10911/1044936714.py:147: UserWarning: Implicit dimension choice for softmax has been deprecated. Change the call to include dim=X as an argument.\n",
            "  final_out = torch.nn.functional.softmax(out)\n",
            "100%|██████████| 2/2 [00:00<00:00,  6.03it/s]\n"
          ]
        },
        {
          "name": "stdout",
          "output_type": "stream",
          "text": [
            "\n",
            "epoch 5\n",
            "\ttrain_loss:0.791 valid_loss:0.737\n",
            "\ttrain_acc:64.78% valid_acc:68.04%\n",
            "\ttrain_f1:0.582 valid_f1:0.612\n",
            "\ttrain_confusion_matrix:\n",
            "[[   1  383  513]\n",
            " [   1 2051  355]\n",
            " [   1  370  933]]\n",
            "\tvalid_confusion_matrix:\n",
            "[[  0 102 116]\n",
            " [  0 547  74]\n",
            " [  0  79 243]]\n"
          ]
        },
        {
          "name": "stderr",
          "output_type": "stream",
          "text": [
            "  0%|          | 0/36 [00:00<?, ?it/s]/var/folders/3c/71b8pg6d7j5dht_5h_2n4n_c0000gn/T/ipykernel_10911/1044936714.py:147: UserWarning: Implicit dimension choice for softmax has been deprecated. Change the call to include dim=X as an argument.\n",
            "  final_out = torch.nn.functional.softmax(out)\n",
            "100%|██████████| 36/36 [00:06<00:00,  5.76it/s]\n",
            "  0%|          | 0/2 [00:00<?, ?it/s]/var/folders/3c/71b8pg6d7j5dht_5h_2n4n_c0000gn/T/ipykernel_10911/1044936714.py:147: UserWarning: Implicit dimension choice for softmax has been deprecated. Change the call to include dim=X as an argument.\n",
            "  final_out = torch.nn.functional.softmax(out)\n",
            "100%|██████████| 2/2 [00:00<00:00,  6.25it/s]\n"
          ]
        },
        {
          "name": "stdout",
          "output_type": "stream",
          "text": [
            "\n",
            "epoch 6\n",
            "\ttrain_loss:0.760 valid_loss:0.716\n",
            "\ttrain_acc:66.54% valid_acc:68.99%\n",
            "\ttrain_f1:0.598 valid_f1:0.621\n",
            "\ttrain_confusion_matrix:\n",
            "[[   4  385  508]\n",
            " [   1 2083  320]\n",
            " [   1  327  979]]\n",
            "\tvalid_confusion_matrix:\n",
            "[[  1 105 112]\n",
            " [  1 560  60]\n",
            " [  0  82 240]]\n"
          ]
        },
        {
          "name": "stderr",
          "output_type": "stream",
          "text": [
            "  0%|          | 0/36 [00:00<?, ?it/s]/var/folders/3c/71b8pg6d7j5dht_5h_2n4n_c0000gn/T/ipykernel_10911/1044936714.py:147: UserWarning: Implicit dimension choice for softmax has been deprecated. Change the call to include dim=X as an argument.\n",
            "  final_out = torch.nn.functional.softmax(out)\n",
            "100%|██████████| 36/36 [00:06<00:00,  5.73it/s]\n",
            "  0%|          | 0/2 [00:00<?, ?it/s]/var/folders/3c/71b8pg6d7j5dht_5h_2n4n_c0000gn/T/ipykernel_10911/1044936714.py:147: UserWarning: Implicit dimension choice for softmax has been deprecated. Change the call to include dim=X as an argument.\n",
            "  final_out = torch.nn.functional.softmax(out)\n",
            "100%|██████████| 2/2 [00:00<00:00,  5.52it/s]\n"
          ]
        },
        {
          "name": "stdout",
          "output_type": "stream",
          "text": [
            "\n",
            "epoch 7\n",
            "\ttrain_loss:0.737 valid_loss:0.707\n",
            "\ttrain_acc:67.86% valid_acc:69.42%\n",
            "\ttrain_f1:0.614 valid_f1:0.633\n",
            "\ttrain_confusion_matrix:\n",
            "[[  16  370  506]\n",
            " [   4 2106  296]\n",
            " [   1  304 1005]]\n",
            "\tvalid_confusion_matrix:\n",
            "[[  8 103 107]\n",
            " [  0 562  59]\n",
            " [  1  85 236]]\n"
          ]
        },
        {
          "name": "stderr",
          "output_type": "stream",
          "text": [
            "  0%|          | 0/36 [00:00<?, ?it/s]/var/folders/3c/71b8pg6d7j5dht_5h_2n4n_c0000gn/T/ipykernel_10911/1044936714.py:147: UserWarning: Implicit dimension choice for softmax has been deprecated. Change the call to include dim=X as an argument.\n",
            "  final_out = torch.nn.functional.softmax(out)\n",
            "100%|██████████| 36/36 [00:06<00:00,  5.71it/s]\n",
            "  0%|          | 0/2 [00:00<?, ?it/s]/var/folders/3c/71b8pg6d7j5dht_5h_2n4n_c0000gn/T/ipykernel_10911/1044936714.py:147: UserWarning: Implicit dimension choice for softmax has been deprecated. Change the call to include dim=X as an argument.\n",
            "  final_out = torch.nn.functional.softmax(out)\n",
            "100%|██████████| 2/2 [00:00<00:00,  5.75it/s]\n"
          ]
        },
        {
          "name": "stdout",
          "output_type": "stream",
          "text": [
            "\n",
            "epoch 8\n",
            "\ttrain_loss:0.720 valid_loss:0.694\n",
            "\ttrain_acc:68.58% valid_acc:70.11%\n",
            "\ttrain_f1:0.624 valid_f1:0.647\n",
            "\ttrain_confusion_matrix:\n",
            "[[  26  367  501]\n",
            " [  10 2097  296]\n",
            " [   4  270 1037]]\n",
            "\tvalid_confusion_matrix:\n",
            "[[ 14 100 104]\n",
            " [  6 553  62]\n",
            " [  2  73 247]]\n"
          ]
        },
        {
          "name": "stderr",
          "output_type": "stream",
          "text": [
            "  0%|          | 0/36 [00:00<?, ?it/s]/var/folders/3c/71b8pg6d7j5dht_5h_2n4n_c0000gn/T/ipykernel_10911/1044936714.py:147: UserWarning: Implicit dimension choice for softmax has been deprecated. Change the call to include dim=X as an argument.\n",
            "  final_out = torch.nn.functional.softmax(out)\n",
            "100%|██████████| 36/36 [00:06<00:00,  5.56it/s]\n",
            "  0%|          | 0/2 [00:00<?, ?it/s]/var/folders/3c/71b8pg6d7j5dht_5h_2n4n_c0000gn/T/ipykernel_10911/1044936714.py:147: UserWarning: Implicit dimension choice for softmax has been deprecated. Change the call to include dim=X as an argument.\n",
            "  final_out = torch.nn.functional.softmax(out)\n",
            "100%|██████████| 2/2 [00:00<00:00,  6.13it/s]\n"
          ]
        },
        {
          "name": "stdout",
          "output_type": "stream",
          "text": [
            "\n",
            "epoch 9\n",
            "\ttrain_loss:0.704 valid_loss:0.684\n",
            "\ttrain_acc:69.88% valid_acc:70.89%\n",
            "\ttrain_f1:0.647 valid_f1:0.659\n",
            "\ttrain_confusion_matrix:\n",
            "[[  64  351  479]\n",
            " [  23 2111  273]\n",
            " [   8  254 1045]]\n",
            "\tvalid_confusion_matrix:\n",
            "[[ 20 100  98]\n",
            " [  5 560  56]\n",
            " [  1  78 243]]\n"
          ]
        },
        {
          "name": "stderr",
          "output_type": "stream",
          "text": [
            "  0%|          | 0/36 [00:00<?, ?it/s]/var/folders/3c/71b8pg6d7j5dht_5h_2n4n_c0000gn/T/ipykernel_10911/1044936714.py:147: UserWarning: Implicit dimension choice for softmax has been deprecated. Change the call to include dim=X as an argument.\n",
            "  final_out = torch.nn.functional.softmax(out)\n",
            "100%|██████████| 36/36 [00:06<00:00,  5.78it/s]\n",
            "  0%|          | 0/2 [00:00<?, ?it/s]/var/folders/3c/71b8pg6d7j5dht_5h_2n4n_c0000gn/T/ipykernel_10911/1044936714.py:147: UserWarning: Implicit dimension choice for softmax has been deprecated. Change the call to include dim=X as an argument.\n",
            "  final_out = torch.nn.functional.softmax(out)\n",
            "100%|██████████| 2/2 [00:00<00:00,  6.28it/s]\n"
          ]
        },
        {
          "name": "stdout",
          "output_type": "stream",
          "text": [
            "\n",
            "epoch 10\n",
            "\ttrain_loss:0.696 valid_loss:0.675\n",
            "\ttrain_acc:70.29% valid_acc:71.40%\n",
            "\ttrain_f1:0.653 valid_f1:0.675\n",
            "\ttrain_confusion_matrix:\n",
            "[[  73  344  479]\n",
            " [  25 2114  264]\n",
            " [  12  245 1052]]\n",
            "\tvalid_confusion_matrix:\n",
            "[[ 32  94  92]\n",
            " [  9 557  55]\n",
            " [  6  76 240]]\n"
          ]
        },
        {
          "name": "stderr",
          "output_type": "stream",
          "text": [
            "  0%|          | 0/36 [00:00<?, ?it/s]/var/folders/3c/71b8pg6d7j5dht_5h_2n4n_c0000gn/T/ipykernel_10911/1044936714.py:147: UserWarning: Implicit dimension choice for softmax has been deprecated. Change the call to include dim=X as an argument.\n",
            "  final_out = torch.nn.functional.softmax(out)\n",
            "100%|██████████| 36/36 [00:06<00:00,  5.38it/s]\n",
            "  0%|          | 0/2 [00:00<?, ?it/s]/var/folders/3c/71b8pg6d7j5dht_5h_2n4n_c0000gn/T/ipykernel_10911/1044936714.py:147: UserWarning: Implicit dimension choice for softmax has been deprecated. Change the call to include dim=X as an argument.\n",
            "  final_out = torch.nn.functional.softmax(out)\n",
            "100%|██████████| 2/2 [00:00<00:00,  5.94it/s]\n"
          ]
        },
        {
          "name": "stdout",
          "output_type": "stream",
          "text": [
            "\n",
            "epoch 11\n",
            "\ttrain_loss:0.680 valid_loss:0.665\n",
            "\ttrain_acc:71.57% valid_acc:71.66%\n",
            "\ttrain_f1:0.675 valid_f1:0.678\n",
            "\ttrain_confusion_matrix:\n",
            "[[ 124  360  412]\n",
            " [  39 2125  239]\n",
            " [  27  233 1049]]\n",
            "\tvalid_confusion_matrix:\n",
            "[[ 32  97  89]\n",
            " [ 12 563  46]\n",
            " [ 10  75 237]]\n"
          ]
        },
        {
          "name": "stderr",
          "output_type": "stream",
          "text": [
            "  0%|          | 0/36 [00:00<?, ?it/s]/var/folders/3c/71b8pg6d7j5dht_5h_2n4n_c0000gn/T/ipykernel_10911/1044936714.py:147: UserWarning: Implicit dimension choice for softmax has been deprecated. Change the call to include dim=X as an argument.\n",
            "  final_out = torch.nn.functional.softmax(out)\n",
            "100%|██████████| 36/36 [00:06<00:00,  5.28it/s]\n",
            "  0%|          | 0/2 [00:00<?, ?it/s]/var/folders/3c/71b8pg6d7j5dht_5h_2n4n_c0000gn/T/ipykernel_10911/1044936714.py:147: UserWarning: Implicit dimension choice for softmax has been deprecated. Change the call to include dim=X as an argument.\n",
            "  final_out = torch.nn.functional.softmax(out)\n",
            "100%|██████████| 2/2 [00:00<00:00,  6.30it/s]\n"
          ]
        },
        {
          "name": "stdout",
          "output_type": "stream",
          "text": [
            "\n",
            "epoch 12\n",
            "\ttrain_loss:0.668 valid_loss:0.661\n",
            "\ttrain_acc:71.90% valid_acc:72.44%\n",
            "\ttrain_f1:0.683 valid_f1:0.695\n",
            "\ttrain_confusion_matrix:\n",
            "[[ 140  345  411]\n",
            " [  56 2116  230]\n",
            " [  43  210 1057]]\n",
            "\tvalid_confusion_matrix:\n",
            "[[ 43  79  96]\n",
            " [ 15 547  59]\n",
            " [ 11  60 251]]\n"
          ]
        },
        {
          "name": "stderr",
          "output_type": "stream",
          "text": [
            "  0%|          | 0/36 [00:00<?, ?it/s]/var/folders/3c/71b8pg6d7j5dht_5h_2n4n_c0000gn/T/ipykernel_10911/1044936714.py:147: UserWarning: Implicit dimension choice for softmax has been deprecated. Change the call to include dim=X as an argument.\n",
            "  final_out = torch.nn.functional.softmax(out)\n",
            "100%|██████████| 36/36 [00:06<00:00,  5.46it/s]\n",
            "  0%|          | 0/2 [00:00<?, ?it/s]/var/folders/3c/71b8pg6d7j5dht_5h_2n4n_c0000gn/T/ipykernel_10911/1044936714.py:147: UserWarning: Implicit dimension choice for softmax has been deprecated. Change the call to include dim=X as an argument.\n",
            "  final_out = torch.nn.functional.softmax(out)\n",
            "100%|██████████| 2/2 [00:00<00:00,  6.39it/s]\n"
          ]
        },
        {
          "name": "stdout",
          "output_type": "stream",
          "text": [
            "\n",
            "epoch 13\n",
            "\ttrain_loss:0.659 valid_loss:0.647\n",
            "\ttrain_acc:72.74% valid_acc:72.70%\n",
            "\ttrain_f1:0.701 valid_f1:0.698\n",
            "\ttrain_confusion_matrix:\n",
            "[[ 201  314  379]\n",
            " [  76 2115  216]\n",
            " [  65  206 1036]]\n",
            "\tvalid_confusion_matrix:\n",
            "[[ 44  86  88]\n",
            " [ 17 553  51]\n",
            " [ 15  60 247]]\n"
          ]
        },
        {
          "name": "stderr",
          "output_type": "stream",
          "text": [
            "  0%|          | 0/36 [00:00<?, ?it/s]/var/folders/3c/71b8pg6d7j5dht_5h_2n4n_c0000gn/T/ipykernel_10911/1044936714.py:147: UserWarning: Implicit dimension choice for softmax has been deprecated. Change the call to include dim=X as an argument.\n",
            "  final_out = torch.nn.functional.softmax(out)\n",
            "100%|██████████| 36/36 [00:06<00:00,  5.30it/s]\n",
            "  0%|          | 0/2 [00:00<?, ?it/s]/var/folders/3c/71b8pg6d7j5dht_5h_2n4n_c0000gn/T/ipykernel_10911/1044936714.py:147: UserWarning: Implicit dimension choice for softmax has been deprecated. Change the call to include dim=X as an argument.\n",
            "  final_out = torch.nn.functional.softmax(out)\n",
            "100%|██████████| 2/2 [00:00<00:00,  5.76it/s]\n"
          ]
        },
        {
          "name": "stdout",
          "output_type": "stream",
          "text": [
            "\n",
            "epoch 14\n",
            "\ttrain_loss:0.649 valid_loss:0.652\n",
            "\ttrain_acc:73.07% valid_acc:72.78%\n",
            "\ttrain_f1:0.706 valid_f1:0.705\n",
            "\ttrain_confusion_matrix:\n",
            "[[ 214  319  362]\n",
            " [  77 2120  208]\n",
            " [  68  207 1033]]\n",
            "\tvalid_confusion_matrix:\n",
            "[[ 54  85  79]\n",
            " [ 21 552  48]\n",
            " [ 25  58 239]]\n"
          ]
        },
        {
          "name": "stderr",
          "output_type": "stream",
          "text": [
            "  0%|          | 0/36 [00:00<?, ?it/s]/var/folders/3c/71b8pg6d7j5dht_5h_2n4n_c0000gn/T/ipykernel_10911/1044936714.py:147: UserWarning: Implicit dimension choice for softmax has been deprecated. Change the call to include dim=X as an argument.\n",
            "  final_out = torch.nn.functional.softmax(out)\n",
            "100%|██████████| 36/36 [00:06<00:00,  5.72it/s]\n",
            "  0%|          | 0/2 [00:00<?, ?it/s]/var/folders/3c/71b8pg6d7j5dht_5h_2n4n_c0000gn/T/ipykernel_10911/1044936714.py:147: UserWarning: Implicit dimension choice for softmax has been deprecated. Change the call to include dim=X as an argument.\n",
            "  final_out = torch.nn.functional.softmax(out)\n",
            "100%|██████████| 2/2 [00:00<00:00,  5.53it/s]\n"
          ]
        },
        {
          "name": "stdout",
          "output_type": "stream",
          "text": [
            "\n",
            "epoch 15\n",
            "\ttrain_loss:0.640 valid_loss:0.639\n",
            "\ttrain_acc:73.44% valid_acc:72.95%\n",
            "\ttrain_f1:0.713 valid_f1:0.708\n",
            "\ttrain_confusion_matrix:\n",
            "[[ 235  303  355]\n",
            " [  91 2112  202]\n",
            " [  82  191 1037]]\n",
            "\tvalid_confusion_matrix:\n",
            "[[ 58  84  76]\n",
            " [ 19 553  49]\n",
            " [ 26  60 236]]\n"
          ]
        },
        {
          "name": "stderr",
          "output_type": "stream",
          "text": [
            "  0%|          | 0/36 [00:00<?, ?it/s]/var/folders/3c/71b8pg6d7j5dht_5h_2n4n_c0000gn/T/ipykernel_10911/1044936714.py:147: UserWarning: Implicit dimension choice for softmax has been deprecated. Change the call to include dim=X as an argument.\n",
            "  final_out = torch.nn.functional.softmax(out)\n",
            "100%|██████████| 36/36 [00:06<00:00,  5.74it/s]\n",
            "  0%|          | 0/2 [00:00<?, ?it/s]/var/folders/3c/71b8pg6d7j5dht_5h_2n4n_c0000gn/T/ipykernel_10911/1044936714.py:147: UserWarning: Implicit dimension choice for softmax has been deprecated. Change the call to include dim=X as an argument.\n",
            "  final_out = torch.nn.functional.softmax(out)\n",
            "100%|██████████| 2/2 [00:00<00:00,  6.63it/s]\n"
          ]
        },
        {
          "name": "stdout",
          "output_type": "stream",
          "text": [
            "\n",
            "epoch 16\n",
            "\ttrain_loss:0.630 valid_loss:0.644\n",
            "\ttrain_acc:73.81% valid_acc:72.61%\n",
            "\ttrain_f1:0.719 valid_f1:0.711\n",
            "\ttrain_confusion_matrix:\n",
            "[[ 261  314  322]\n",
            " [  86 2126  191]\n",
            " [  90  204 1014]]\n",
            "\tvalid_confusion_matrix:\n",
            "[[ 65  78  75]\n",
            " [ 29 545  47]\n",
            " [ 40  49 233]]\n"
          ]
        },
        {
          "name": "stderr",
          "output_type": "stream",
          "text": [
            "  0%|          | 0/36 [00:00<?, ?it/s]/var/folders/3c/71b8pg6d7j5dht_5h_2n4n_c0000gn/T/ipykernel_10911/1044936714.py:147: UserWarning: Implicit dimension choice for softmax has been deprecated. Change the call to include dim=X as an argument.\n",
            "  final_out = torch.nn.functional.softmax(out)\n",
            "100%|██████████| 36/36 [00:06<00:00,  5.54it/s]\n",
            "  0%|          | 0/2 [00:00<?, ?it/s]/var/folders/3c/71b8pg6d7j5dht_5h_2n4n_c0000gn/T/ipykernel_10911/1044936714.py:147: UserWarning: Implicit dimension choice for softmax has been deprecated. Change the call to include dim=X as an argument.\n",
            "  final_out = torch.nn.functional.softmax(out)\n",
            "100%|██████████| 2/2 [00:00<00:00,  6.71it/s]\n"
          ]
        },
        {
          "name": "stdout",
          "output_type": "stream",
          "text": [
            "\n",
            "epoch 17\n",
            "\ttrain_loss:0.625 valid_loss:0.637\n",
            "\ttrain_acc:74.07% valid_acc:72.61%\n",
            "\ttrain_f1:0.724 valid_f1:0.704\n",
            "\ttrain_confusion_matrix:\n",
            "[[ 280  288  330]\n",
            " [  97 2100  204]\n",
            " [  87  189 1033]]\n",
            "\tvalid_confusion_matrix:\n",
            "[[ 55  89  74]\n",
            " [ 22 552  47]\n",
            " [ 28  58 236]]\n"
          ]
        },
        {
          "name": "stderr",
          "output_type": "stream",
          "text": [
            "  0%|          | 0/36 [00:00<?, ?it/s]/var/folders/3c/71b8pg6d7j5dht_5h_2n4n_c0000gn/T/ipykernel_10911/1044936714.py:147: UserWarning: Implicit dimension choice for softmax has been deprecated. Change the call to include dim=X as an argument.\n",
            "  final_out = torch.nn.functional.softmax(out)\n",
            "100%|██████████| 36/36 [00:06<00:00,  5.15it/s]\n",
            "  0%|          | 0/2 [00:00<?, ?it/s]/var/folders/3c/71b8pg6d7j5dht_5h_2n4n_c0000gn/T/ipykernel_10911/1044936714.py:147: UserWarning: Implicit dimension choice for softmax has been deprecated. Change the call to include dim=X as an argument.\n",
            "  final_out = torch.nn.functional.softmax(out)\n",
            "100%|██████████| 2/2 [00:00<00:00,  5.03it/s]\n"
          ]
        },
        {
          "name": "stdout",
          "output_type": "stream",
          "text": [
            "\n",
            "epoch 18\n",
            "\ttrain_loss:0.617 valid_loss:0.638\n",
            "\ttrain_acc:74.57% valid_acc:73.39%\n",
            "\ttrain_f1:0.730 valid_f1:0.717\n",
            "\ttrain_confusion_matrix:\n",
            "[[ 287  287  320]\n",
            " [ 106 2111  189]\n",
            " [  92  178 1038]]\n",
            "\tvalid_confusion_matrix:\n",
            "[[ 65  82  71]\n",
            " [ 27 552  42]\n",
            " [ 34  53 235]]\n"
          ]
        },
        {
          "name": "stderr",
          "output_type": "stream",
          "text": [
            "  0%|          | 0/36 [00:00<?, ?it/s]/var/folders/3c/71b8pg6d7j5dht_5h_2n4n_c0000gn/T/ipykernel_10911/1044936714.py:147: UserWarning: Implicit dimension choice for softmax has been deprecated. Change the call to include dim=X as an argument.\n",
            "  final_out = torch.nn.functional.softmax(out)\n",
            "100%|██████████| 36/36 [00:06<00:00,  5.41it/s]\n",
            "  0%|          | 0/2 [00:00<?, ?it/s]/var/folders/3c/71b8pg6d7j5dht_5h_2n4n_c0000gn/T/ipykernel_10911/1044936714.py:147: UserWarning: Implicit dimension choice for softmax has been deprecated. Change the call to include dim=X as an argument.\n",
            "  final_out = torch.nn.functional.softmax(out)\n",
            "100%|██████████| 2/2 [00:00<00:00,  6.55it/s]\n"
          ]
        },
        {
          "name": "stdout",
          "output_type": "stream",
          "text": [
            "\n",
            "epoch 19\n",
            "\ttrain_loss:0.612 valid_loss:0.641\n",
            "\ttrain_acc:74.96% valid_acc:72.35%\n",
            "\ttrain_f1:0.734 valid_f1:0.709\n",
            "\ttrain_confusion_matrix:\n",
            "[[ 302  288  306]\n",
            " [  99 2129  173]\n",
            " [  97  191 1023]]\n",
            "\tvalid_confusion_matrix:\n",
            "[[ 64  77  77]\n",
            " [ 30 534  57]\n",
            " [ 35  45 242]]\n",
            "Loading saved model from: model_task2.bin\n"
          ]
        },
        {
          "name": "stderr",
          "output_type": "stream",
          "text": [
            "  0%|          | 0/2 [00:00<?, ?it/s]/var/folders/3c/71b8pg6d7j5dht_5h_2n4n_c0000gn/T/ipykernel_10911/1044936714.py:147: UserWarning: Implicit dimension choice for softmax has been deprecated. Change the call to include dim=X as an argument.\n",
            "  final_out = torch.nn.functional.softmax(out)\n",
            "100%|██████████| 2/2 [00:00<00:00,  7.22it/s]\n"
          ]
        },
        {
          "name": "stdout",
          "output_type": "stream",
          "text": [
            "              precision    recall  f1-score   support\n",
            "\n",
            "     Neutral       0.53      0.26      0.35       218\n",
            "    Positive       0.79      0.90      0.84       621\n",
            "    Negative       0.67      0.74      0.70       322\n",
            "\n",
            "    accuracy                           0.73      1161\n",
            "   macro avg       0.66      0.63      0.63      1161\n",
            "weighted avg       0.71      0.73      0.71      1161\n",
            "\n",
            "\n",
            "******************************************************************************************\n",
            "Alpha Size: 0.6\n",
            "Window Size: 8\n",
            "******************************************************************************************\n",
            "\n",
            "train samples:4641\n",
            "valid samples:1161\n"
          ]
        },
        {
          "name": "stderr",
          "output_type": "stream",
          "text": [
            "  0%|          | 0/36 [00:00<?, ?it/s]/var/folders/3c/71b8pg6d7j5dht_5h_2n4n_c0000gn/T/ipykernel_10911/1044936714.py:147: UserWarning: Implicit dimension choice for softmax has been deprecated. Change the call to include dim=X as an argument.\n",
            "  final_out = torch.nn.functional.softmax(out)\n",
            "100%|██████████| 36/36 [00:07<00:00,  4.74it/s]\n",
            "  0%|          | 0/2 [00:00<?, ?it/s]/var/folders/3c/71b8pg6d7j5dht_5h_2n4n_c0000gn/T/ipykernel_10911/1044936714.py:147: UserWarning: Implicit dimension choice for softmax has been deprecated. Change the call to include dim=X as an argument.\n",
            "  final_out = torch.nn.functional.softmax(out)\n",
            "100%|██████████| 2/2 [00:00<00:00,  4.92it/s]\n"
          ]
        },
        {
          "name": "stdout",
          "output_type": "stream",
          "text": [
            "\n",
            "epoch 0\n",
            "\ttrain_loss:1.056 valid_loss:1.026\n",
            "\ttrain_acc:51.02% valid_acc:52.20%\n",
            "\ttrain_f1:0.391 valid_f1:0.359\n",
            "\ttrain_confusion_matrix:\n",
            "[[   0  829   64]\n",
            " [   0 2237  185]\n",
            " [   1 1178  114]]\n",
            "\tvalid_confusion_matrix:\n",
            "[[  0 217   0]\n",
            " [  0 605   0]\n",
            " [  0 338   1]]\n"
          ]
        },
        {
          "name": "stderr",
          "output_type": "stream",
          "text": [
            "  0%|          | 0/36 [00:00<?, ?it/s]/var/folders/3c/71b8pg6d7j5dht_5h_2n4n_c0000gn/T/ipykernel_10911/1044936714.py:147: UserWarning: Implicit dimension choice for softmax has been deprecated. Change the call to include dim=X as an argument.\n",
            "  final_out = torch.nn.functional.softmax(out)\n",
            "100%|██████████| 36/36 [00:07<00:00,  4.82it/s]\n",
            "  0%|          | 0/2 [00:00<?, ?it/s]/var/folders/3c/71b8pg6d7j5dht_5h_2n4n_c0000gn/T/ipykernel_10911/1044936714.py:147: UserWarning: Implicit dimension choice for softmax has been deprecated. Change the call to include dim=X as an argument.\n",
            "  final_out = torch.nn.functional.softmax(out)\n",
            "100%|██████████| 2/2 [00:00<00:00,  5.89it/s]\n"
          ]
        },
        {
          "name": "stdout",
          "output_type": "stream",
          "text": [
            "\n",
            "epoch 1\n",
            "\ttrain_loss:1.000 valid_loss:0.982\n",
            "\ttrain_acc:52.69% valid_acc:52.20%\n",
            "\ttrain_f1:0.365 valid_f1:0.359\n",
            "\ttrain_confusion_matrix:\n",
            "[[   0  895    0]\n",
            " [   0 2423    1]\n",
            " [   0 1284    5]]\n",
            "\tvalid_confusion_matrix:\n",
            "[[  0 217   0]\n",
            " [  0 605   0]\n",
            " [  0 338   1]]\n"
          ]
        },
        {
          "name": "stderr",
          "output_type": "stream",
          "text": [
            "  0%|          | 0/36 [00:00<?, ?it/s]/var/folders/3c/71b8pg6d7j5dht_5h_2n4n_c0000gn/T/ipykernel_10911/1044936714.py:147: UserWarning: Implicit dimension choice for softmax has been deprecated. Change the call to include dim=X as an argument.\n",
            "  final_out = torch.nn.functional.softmax(out)\n",
            "100%|██████████| 36/36 [00:07<00:00,  4.78it/s]\n",
            "  0%|          | 0/2 [00:00<?, ?it/s]/var/folders/3c/71b8pg6d7j5dht_5h_2n4n_c0000gn/T/ipykernel_10911/1044936714.py:147: UserWarning: Implicit dimension choice for softmax has been deprecated. Change the call to include dim=X as an argument.\n",
            "  final_out = torch.nn.functional.softmax(out)\n",
            "100%|██████████| 2/2 [00:00<00:00,  4.48it/s]\n"
          ]
        },
        {
          "name": "stdout",
          "output_type": "stream",
          "text": [
            "\n",
            "epoch 2\n",
            "\ttrain_loss:0.957 valid_loss:0.925\n",
            "\ttrain_acc:52.80% valid_acc:52.37%\n",
            "\ttrain_f1:0.368 valid_f1:0.364\n",
            "\ttrain_confusion_matrix:\n",
            "[[   0  893    0]\n",
            " [   0 2420    3]\n",
            " [   0 1279   13]]\n",
            "\tvalid_confusion_matrix:\n",
            "[[  0 217   0]\n",
            " [  0 604   1]\n",
            " [  0 335   4]]\n"
          ]
        },
        {
          "name": "stderr",
          "output_type": "stream",
          "text": [
            "  0%|          | 0/36 [00:00<?, ?it/s]/var/folders/3c/71b8pg6d7j5dht_5h_2n4n_c0000gn/T/ipykernel_10911/1044936714.py:147: UserWarning: Implicit dimension choice for softmax has been deprecated. Change the call to include dim=X as an argument.\n",
            "  final_out = torch.nn.functional.softmax(out)\n",
            "100%|██████████| 36/36 [00:07<00:00,  4.89it/s]\n",
            "  0%|          | 0/2 [00:00<?, ?it/s]/var/folders/3c/71b8pg6d7j5dht_5h_2n4n_c0000gn/T/ipykernel_10911/1044936714.py:147: UserWarning: Implicit dimension choice for softmax has been deprecated. Change the call to include dim=X as an argument.\n",
            "  final_out = torch.nn.functional.softmax(out)\n",
            "100%|██████████| 2/2 [00:00<00:00,  5.65it/s]\n"
          ]
        },
        {
          "name": "stdout",
          "output_type": "stream",
          "text": [
            "\n",
            "epoch 3\n",
            "\ttrain_loss:0.883 valid_loss:0.843\n",
            "\ttrain_acc:58.29% valid_acc:63.14%\n",
            "\ttrain_f1:0.486 valid_f1:0.561\n",
            "\ttrain_confusion_matrix:\n",
            "[[   0  737  156]\n",
            " [   0 2331   90]\n",
            " [   0  939  355]]\n",
            "\tvalid_confusion_matrix:\n",
            "[[  0 119  98]\n",
            " [  0 543  62]\n",
            " [  0 149 190]]\n"
          ]
        },
        {
          "name": "stderr",
          "output_type": "stream",
          "text": [
            "  0%|          | 0/36 [00:00<?, ?it/s]/var/folders/3c/71b8pg6d7j5dht_5h_2n4n_c0000gn/T/ipykernel_10911/1044936714.py:147: UserWarning: Implicit dimension choice for softmax has been deprecated. Change the call to include dim=X as an argument.\n",
            "  final_out = torch.nn.functional.softmax(out)\n",
            "100%|██████████| 36/36 [00:07<00:00,  4.85it/s]\n",
            "  0%|          | 0/2 [00:00<?, ?it/s]/var/folders/3c/71b8pg6d7j5dht_5h_2n4n_c0000gn/T/ipykernel_10911/1044936714.py:147: UserWarning: Implicit dimension choice for softmax has been deprecated. Change the call to include dim=X as an argument.\n",
            "  final_out = torch.nn.functional.softmax(out)\n",
            "100%|██████████| 2/2 [00:00<00:00,  5.91it/s]\n"
          ]
        },
        {
          "name": "stdout",
          "output_type": "stream",
          "text": [
            "\n",
            "epoch 4\n",
            "\ttrain_loss:0.818 valid_loss:0.800\n",
            "\ttrain_acc:64.43% valid_acc:66.41%\n",
            "\ttrain_f1:0.576 valid_f1:0.595\n",
            "\ttrain_confusion_matrix:\n",
            "[[   0  433  460]\n",
            " [   0 2113  315]\n",
            " [   0  431  856]]\n",
            "\tvalid_confusion_matrix:\n",
            "[[  0 110 107]\n",
            " [  0 540  65]\n",
            " [  0 108 231]]\n"
          ]
        },
        {
          "name": "stderr",
          "output_type": "stream",
          "text": [
            "  0%|          | 0/36 [00:00<?, ?it/s]/var/folders/3c/71b8pg6d7j5dht_5h_2n4n_c0000gn/T/ipykernel_10911/1044936714.py:147: UserWarning: Implicit dimension choice for softmax has been deprecated. Change the call to include dim=X as an argument.\n",
            "  final_out = torch.nn.functional.softmax(out)\n",
            "100%|██████████| 36/36 [00:07<00:00,  4.79it/s]\n",
            "  0%|          | 0/2 [00:00<?, ?it/s]/var/folders/3c/71b8pg6d7j5dht_5h_2n4n_c0000gn/T/ipykernel_10911/1044936714.py:147: UserWarning: Implicit dimension choice for softmax has been deprecated. Change the call to include dim=X as an argument.\n",
            "  final_out = torch.nn.functional.softmax(out)\n",
            "100%|██████████| 2/2 [00:00<00:00,  5.91it/s]\n"
          ]
        },
        {
          "name": "stdout",
          "output_type": "stream",
          "text": [
            "\n",
            "epoch 5\n",
            "\ttrain_loss:0.776 valid_loss:0.763\n",
            "\ttrain_acc:66.17% valid_acc:67.44%\n",
            "\ttrain_f1:0.593 valid_f1:0.606\n",
            "\ttrain_confusion_matrix:\n",
            "[[   0  396  498]\n",
            " [   0 2105  316]\n",
            " [   0  349  944]]\n",
            "\tvalid_confusion_matrix:\n",
            "[[  0 101 116]\n",
            " [  0 531  74]\n",
            " [  0  87 252]]\n"
          ]
        },
        {
          "name": "stderr",
          "output_type": "stream",
          "text": [
            "  0%|          | 0/36 [00:00<?, ?it/s]/var/folders/3c/71b8pg6d7j5dht_5h_2n4n_c0000gn/T/ipykernel_10911/1044936714.py:147: UserWarning: Implicit dimension choice for softmax has been deprecated. Change the call to include dim=X as an argument.\n",
            "  final_out = torch.nn.functional.softmax(out)\n",
            "100%|██████████| 36/36 [00:07<00:00,  4.98it/s]\n",
            "  0%|          | 0/2 [00:00<?, ?it/s]/var/folders/3c/71b8pg6d7j5dht_5h_2n4n_c0000gn/T/ipykernel_10911/1044936714.py:147: UserWarning: Implicit dimension choice for softmax has been deprecated. Change the call to include dim=X as an argument.\n",
            "  final_out = torch.nn.functional.softmax(out)\n",
            "100%|██████████| 2/2 [00:00<00:00,  5.72it/s]\n"
          ]
        },
        {
          "name": "stdout",
          "output_type": "stream",
          "text": [
            "\n",
            "epoch 6\n",
            "\ttrain_loss:0.745 valid_loss:0.745\n",
            "\ttrain_acc:67.95% valid_acc:67.79%\n",
            "\ttrain_f1:0.610 valid_f1:0.611\n",
            "\ttrain_confusion_matrix:\n",
            "[[   3  412  477]\n",
            " [   0 2132  286]\n",
            " [   0  302  996]]\n",
            "\tvalid_confusion_matrix:\n",
            "[[  2 115 100]\n",
            " [  0 536  69]\n",
            " [  0  90 249]]\n"
          ]
        },
        {
          "name": "stderr",
          "output_type": "stream",
          "text": [
            "  0%|          | 0/36 [00:00<?, ?it/s]/var/folders/3c/71b8pg6d7j5dht_5h_2n4n_c0000gn/T/ipykernel_10911/1044936714.py:147: UserWarning: Implicit dimension choice for softmax has been deprecated. Change the call to include dim=X as an argument.\n",
            "  final_out = torch.nn.functional.softmax(out)\n",
            "100%|██████████| 36/36 [00:07<00:00,  4.99it/s]\n",
            "  0%|          | 0/2 [00:00<?, ?it/s]/var/folders/3c/71b8pg6d7j5dht_5h_2n4n_c0000gn/T/ipykernel_10911/1044936714.py:147: UserWarning: Implicit dimension choice for softmax has been deprecated. Change the call to include dim=X as an argument.\n",
            "  final_out = torch.nn.functional.softmax(out)\n",
            "100%|██████████| 2/2 [00:00<00:00,  5.97it/s]\n"
          ]
        },
        {
          "name": "stdout",
          "output_type": "stream",
          "text": [
            "\n",
            "epoch 7\n",
            "\ttrain_loss:0.725 valid_loss:0.741\n",
            "\ttrain_acc:68.49% valid_acc:69.25%\n",
            "\ttrain_f1:0.618 valid_f1:0.628\n",
            "\ttrain_confusion_matrix:\n",
            "[[  16  411  469]\n",
            " [   4 2156  261]\n",
            " [   1  306  984]]\n",
            "\tvalid_confusion_matrix:\n",
            "[[  3 100 114]\n",
            " [  0 515  90]\n",
            " [  0  53 286]]\n"
          ]
        },
        {
          "name": "stderr",
          "output_type": "stream",
          "text": [
            "  0%|          | 0/36 [00:00<?, ?it/s]/var/folders/3c/71b8pg6d7j5dht_5h_2n4n_c0000gn/T/ipykernel_10911/1044936714.py:147: UserWarning: Implicit dimension choice for softmax has been deprecated. Change the call to include dim=X as an argument.\n",
            "  final_out = torch.nn.functional.softmax(out)\n",
            "100%|██████████| 36/36 [00:07<00:00,  5.01it/s]\n",
            "  0%|          | 0/2 [00:00<?, ?it/s]/var/folders/3c/71b8pg6d7j5dht_5h_2n4n_c0000gn/T/ipykernel_10911/1044936714.py:147: UserWarning: Implicit dimension choice for softmax has been deprecated. Change the call to include dim=X as an argument.\n",
            "  final_out = torch.nn.functional.softmax(out)\n",
            "100%|██████████| 2/2 [00:00<00:00,  5.85it/s]\n"
          ]
        },
        {
          "name": "stdout",
          "output_type": "stream",
          "text": [
            "\n",
            "epoch 8\n",
            "\ttrain_loss:0.708 valid_loss:0.728\n",
            "\ttrain_acc:69.75% valid_acc:69.68%\n",
            "\ttrain_f1:0.638 valid_f1:0.642\n",
            "\ttrain_confusion_matrix:\n",
            "[[  40  373  488]\n",
            " [   7 2145  265]\n",
            " [   8  253 1029]]\n",
            "\tvalid_confusion_matrix:\n",
            "[[ 12 108  97]\n",
            " [  6 535  64]\n",
            " [  4  73 262]]\n"
          ]
        },
        {
          "name": "stderr",
          "output_type": "stream",
          "text": [
            "  0%|          | 0/36 [00:00<?, ?it/s]/var/folders/3c/71b8pg6d7j5dht_5h_2n4n_c0000gn/T/ipykernel_10911/1044936714.py:147: UserWarning: Implicit dimension choice for softmax has been deprecated. Change the call to include dim=X as an argument.\n",
            "  final_out = torch.nn.functional.softmax(out)\n",
            "100%|██████████| 36/36 [00:07<00:00,  5.03it/s]\n",
            "  0%|          | 0/2 [00:00<?, ?it/s]/var/folders/3c/71b8pg6d7j5dht_5h_2n4n_c0000gn/T/ipykernel_10911/1044936714.py:147: UserWarning: Implicit dimension choice for softmax has been deprecated. Change the call to include dim=X as an argument.\n",
            "  final_out = torch.nn.functional.softmax(out)\n",
            "100%|██████████| 2/2 [00:00<00:00,  5.93it/s]\n"
          ]
        },
        {
          "name": "stdout",
          "output_type": "stream",
          "text": [
            "\n",
            "epoch 9\n",
            "\ttrain_loss:0.693 valid_loss:0.715\n",
            "\ttrain_acc:70.44% valid_acc:70.63%\n",
            "\ttrain_f1:0.650 valid_f1:0.662\n",
            "\ttrain_confusion_matrix:\n",
            "[[  61  388  446]\n",
            " [  19 2164  237]\n",
            " [  22  250 1021]]\n",
            "\tvalid_confusion_matrix:\n",
            "[[ 22 102  93]\n",
            " [ 13 528  64]\n",
            " [  6  63 270]]\n"
          ]
        },
        {
          "name": "stderr",
          "output_type": "stream",
          "text": [
            "  0%|          | 0/36 [00:00<?, ?it/s]/var/folders/3c/71b8pg6d7j5dht_5h_2n4n_c0000gn/T/ipykernel_10911/1044936714.py:147: UserWarning: Implicit dimension choice for softmax has been deprecated. Change the call to include dim=X as an argument.\n",
            "  final_out = torch.nn.functional.softmax(out)\n",
            "100%|██████████| 36/36 [00:07<00:00,  5.09it/s]\n",
            "  0%|          | 0/2 [00:00<?, ?it/s]/var/folders/3c/71b8pg6d7j5dht_5h_2n4n_c0000gn/T/ipykernel_10911/1044936714.py:147: UserWarning: Implicit dimension choice for softmax has been deprecated. Change the call to include dim=X as an argument.\n",
            "  final_out = torch.nn.functional.softmax(out)\n",
            "100%|██████████| 2/2 [00:00<00:00,  6.15it/s]\n"
          ]
        },
        {
          "name": "stdout",
          "output_type": "stream",
          "text": [
            "\n",
            "epoch 10\n",
            "\ttrain_loss:0.684 valid_loss:0.711\n",
            "\ttrain_acc:70.64% valid_acc:71.40%\n",
            "\ttrain_f1:0.661 valid_f1:0.674\n",
            "\ttrain_confusion_matrix:\n",
            "[[  95  361  439]\n",
            " [  30 2135  255]\n",
            " [  31  237 1025]]\n",
            "\tvalid_confusion_matrix:\n",
            "[[ 27  93  97]\n",
            " [ 12 523  70]\n",
            " [  6  54 279]]\n"
          ]
        },
        {
          "name": "stderr",
          "output_type": "stream",
          "text": [
            "  0%|          | 0/36 [00:00<?, ?it/s]/var/folders/3c/71b8pg6d7j5dht_5h_2n4n_c0000gn/T/ipykernel_10911/1044936714.py:147: UserWarning: Implicit dimension choice for softmax has been deprecated. Change the call to include dim=X as an argument.\n",
            "  final_out = torch.nn.functional.softmax(out)\n",
            "100%|██████████| 36/36 [00:06<00:00,  5.23it/s]\n",
            "  0%|          | 0/2 [00:00<?, ?it/s]/var/folders/3c/71b8pg6d7j5dht_5h_2n4n_c0000gn/T/ipykernel_10911/1044936714.py:147: UserWarning: Implicit dimension choice for softmax has been deprecated. Change the call to include dim=X as an argument.\n",
            "  final_out = torch.nn.functional.softmax(out)\n",
            "100%|██████████| 2/2 [00:00<00:00,  5.87it/s]\n"
          ]
        },
        {
          "name": "stdout",
          "output_type": "stream",
          "text": [
            "\n",
            "epoch 11\n",
            "\ttrain_loss:0.671 valid_loss:0.695\n",
            "\ttrain_acc:71.59% valid_acc:72.09%\n",
            "\ttrain_f1:0.678 valid_f1:0.690\n",
            "\ttrain_confusion_matrix:\n",
            "[[ 129  349  415]\n",
            " [  42 2155  227]\n",
            " [  53  223 1015]]\n",
            "\tvalid_confusion_matrix:\n",
            "[[ 41  96  80]\n",
            " [ 17 528  60]\n",
            " [ 11  60 268]]\n"
          ]
        },
        {
          "name": "stderr",
          "output_type": "stream",
          "text": [
            "  0%|          | 0/36 [00:00<?, ?it/s]/var/folders/3c/71b8pg6d7j5dht_5h_2n4n_c0000gn/T/ipykernel_10911/1044936714.py:147: UserWarning: Implicit dimension choice for softmax has been deprecated. Change the call to include dim=X as an argument.\n",
            "  final_out = torch.nn.functional.softmax(out)\n",
            "100%|██████████| 36/36 [00:07<00:00,  5.05it/s]\n",
            "  0%|          | 0/2 [00:00<?, ?it/s]/var/folders/3c/71b8pg6d7j5dht_5h_2n4n_c0000gn/T/ipykernel_10911/1044936714.py:147: UserWarning: Implicit dimension choice for softmax has been deprecated. Change the call to include dim=X as an argument.\n",
            "  final_out = torch.nn.functional.softmax(out)\n",
            "100%|██████████| 2/2 [00:00<00:00,  5.98it/s]\n"
          ]
        },
        {
          "name": "stdout",
          "output_type": "stream",
          "text": [
            "\n",
            "epoch 12\n",
            "\ttrain_loss:0.658 valid_loss:0.693\n",
            "\ttrain_acc:72.44% valid_acc:72.01%\n",
            "\ttrain_f1:0.691 valid_f1:0.695\n",
            "\ttrain_confusion_matrix:\n",
            "[[ 156  327  411]\n",
            " [  55 2143  227]\n",
            " [  42  208 1039]]\n",
            "\tvalid_confusion_matrix:\n",
            "[[ 49  97  71]\n",
            " [ 24 529  52]\n",
            " [ 19  62 258]]\n"
          ]
        },
        {
          "name": "stderr",
          "output_type": "stream",
          "text": [
            "  0%|          | 0/36 [00:00<?, ?it/s]/var/folders/3c/71b8pg6d7j5dht_5h_2n4n_c0000gn/T/ipykernel_10911/1044936714.py:147: UserWarning: Implicit dimension choice for softmax has been deprecated. Change the call to include dim=X as an argument.\n",
            "  final_out = torch.nn.functional.softmax(out)\n",
            "100%|██████████| 36/36 [00:06<00:00,  5.17it/s]\n",
            "  0%|          | 0/2 [00:00<?, ?it/s]/var/folders/3c/71b8pg6d7j5dht_5h_2n4n_c0000gn/T/ipykernel_10911/1044936714.py:147: UserWarning: Implicit dimension choice for softmax has been deprecated. Change the call to include dim=X as an argument.\n",
            "  final_out = torch.nn.functional.softmax(out)\n",
            "100%|██████████| 2/2 [00:00<00:00,  6.02it/s]\n"
          ]
        },
        {
          "name": "stdout",
          "output_type": "stream",
          "text": [
            "\n",
            "epoch 13\n",
            "\ttrain_loss:0.653 valid_loss:0.689\n",
            "\ttrain_acc:73.22% valid_acc:71.66%\n",
            "\ttrain_f1:0.707 valid_f1:0.689\n",
            "\ttrain_confusion_matrix:\n",
            "[[ 212  322  363]\n",
            " [  74 2148  200]\n",
            " [  78  197 1014]]\n",
            "\tvalid_confusion_matrix:\n",
            "[[ 43  93  81]\n",
            " [ 23 525  57]\n",
            " [ 16  59 264]]\n"
          ]
        },
        {
          "name": "stderr",
          "output_type": "stream",
          "text": [
            "  0%|          | 0/36 [00:00<?, ?it/s]/var/folders/3c/71b8pg6d7j5dht_5h_2n4n_c0000gn/T/ipykernel_10911/1044936714.py:147: UserWarning: Implicit dimension choice for softmax has been deprecated. Change the call to include dim=X as an argument.\n",
            "  final_out = torch.nn.functional.softmax(out)\n",
            "100%|██████████| 36/36 [00:07<00:00,  4.90it/s]\n",
            "  0%|          | 0/2 [00:00<?, ?it/s]/var/folders/3c/71b8pg6d7j5dht_5h_2n4n_c0000gn/T/ipykernel_10911/1044936714.py:147: UserWarning: Implicit dimension choice for softmax has been deprecated. Change the call to include dim=X as an argument.\n",
            "  final_out = torch.nn.functional.softmax(out)\n",
            "100%|██████████| 2/2 [00:00<00:00,  6.17it/s]\n"
          ]
        },
        {
          "name": "stdout",
          "output_type": "stream",
          "text": [
            "\n",
            "epoch 14\n",
            "\ttrain_loss:0.640 valid_loss:0.676\n",
            "\ttrain_acc:73.91% valid_acc:72.35%\n",
            "\ttrain_f1:0.716 valid_f1:0.698\n",
            "\ttrain_confusion_matrix:\n",
            "[[ 228  320  345]\n",
            " [  73 2168  183]\n",
            " [  89  192 1010]]\n",
            "\tvalid_confusion_matrix:\n",
            "[[ 48  93  76]\n",
            " [ 24 527  54]\n",
            " [ 18  56 265]]\n"
          ]
        },
        {
          "name": "stderr",
          "output_type": "stream",
          "text": [
            "  0%|          | 0/36 [00:00<?, ?it/s]/var/folders/3c/71b8pg6d7j5dht_5h_2n4n_c0000gn/T/ipykernel_10911/1044936714.py:147: UserWarning: Implicit dimension choice for softmax has been deprecated. Change the call to include dim=X as an argument.\n",
            "  final_out = torch.nn.functional.softmax(out)\n",
            "100%|██████████| 36/36 [00:08<00:00,  4.41it/s]\n",
            "  0%|          | 0/2 [00:00<?, ?it/s]/var/folders/3c/71b8pg6d7j5dht_5h_2n4n_c0000gn/T/ipykernel_10911/1044936714.py:147: UserWarning: Implicit dimension choice for softmax has been deprecated. Change the call to include dim=X as an argument.\n",
            "  final_out = torch.nn.functional.softmax(out)\n",
            "100%|██████████| 2/2 [00:00<00:00,  5.55it/s]\n"
          ]
        },
        {
          "name": "stdout",
          "output_type": "stream",
          "text": [
            "\n",
            "epoch 15\n",
            "\ttrain_loss:0.634 valid_loss:0.673\n",
            "\ttrain_acc:74.31% valid_acc:72.95%\n",
            "\ttrain_f1:0.723 valid_f1:0.709\n",
            "\ttrain_confusion_matrix:\n",
            "[[ 254  290  350]\n",
            " [  98 2143  179]\n",
            " [  83  184 1027]]\n",
            "\tvalid_confusion_matrix:\n",
            "[[ 59  95  63]\n",
            " [ 25 529  51]\n",
            " [ 21  59 259]]\n"
          ]
        },
        {
          "name": "stderr",
          "output_type": "stream",
          "text": [
            "  0%|          | 0/36 [00:00<?, ?it/s]/var/folders/3c/71b8pg6d7j5dht_5h_2n4n_c0000gn/T/ipykernel_10911/1044936714.py:147: UserWarning: Implicit dimension choice for softmax has been deprecated. Change the call to include dim=X as an argument.\n",
            "  final_out = torch.nn.functional.softmax(out)\n",
            "100%|██████████| 36/36 [00:07<00:00,  5.06it/s]\n",
            "  0%|          | 0/2 [00:00<?, ?it/s]/var/folders/3c/71b8pg6d7j5dht_5h_2n4n_c0000gn/T/ipykernel_10911/1044936714.py:147: UserWarning: Implicit dimension choice for softmax has been deprecated. Change the call to include dim=X as an argument.\n",
            "  final_out = torch.nn.functional.softmax(out)\n",
            "100%|██████████| 2/2 [00:00<00:00,  5.63it/s]\n"
          ]
        },
        {
          "name": "stdout",
          "output_type": "stream",
          "text": [
            "\n",
            "epoch 16\n",
            "\ttrain_loss:0.623 valid_loss:0.670\n",
            "\ttrain_acc:74.22% valid_acc:73.73%\n",
            "\ttrain_f1:0.724 valid_f1:0.721\n",
            "\ttrain_confusion_matrix:\n",
            "[[ 265  291  337]\n",
            " [ 100 2151  176]\n",
            " [  93  191 1004]]\n",
            "\tvalid_confusion_matrix:\n",
            "[[ 66  82  69]\n",
            " [ 29 524  52]\n",
            " [ 22  51 266]]\n"
          ]
        },
        {
          "name": "stderr",
          "output_type": "stream",
          "text": [
            "  0%|          | 0/36 [00:00<?, ?it/s]/var/folders/3c/71b8pg6d7j5dht_5h_2n4n_c0000gn/T/ipykernel_10911/1044936714.py:147: UserWarning: Implicit dimension choice for softmax has been deprecated. Change the call to include dim=X as an argument.\n",
            "  final_out = torch.nn.functional.softmax(out)\n",
            "100%|██████████| 36/36 [00:06<00:00,  5.15it/s]\n",
            "  0%|          | 0/2 [00:00<?, ?it/s]/var/folders/3c/71b8pg6d7j5dht_5h_2n4n_c0000gn/T/ipykernel_10911/1044936714.py:147: UserWarning: Implicit dimension choice for softmax has been deprecated. Change the call to include dim=X as an argument.\n",
            "  final_out = torch.nn.functional.softmax(out)\n",
            "100%|██████████| 2/2 [00:00<00:00,  6.32it/s]\n"
          ]
        },
        {
          "name": "stdout",
          "output_type": "stream",
          "text": [
            "\n",
            "epoch 17\n",
            "\ttrain_loss:0.616 valid_loss:0.666\n",
            "\ttrain_acc:74.83% valid_acc:73.64%\n",
            "\ttrain_f1:0.733 valid_f1:0.720\n",
            "\ttrain_confusion_matrix:\n",
            "[[ 297  285  313]\n",
            " [  98 2146  177]\n",
            " [ 112  175 1005]]\n",
            "\tvalid_confusion_matrix:\n",
            "[[ 67  85  65]\n",
            " [ 30 524  51]\n",
            " [ 25  50 264]]\n"
          ]
        },
        {
          "name": "stderr",
          "output_type": "stream",
          "text": [
            "  0%|          | 0/36 [00:00<?, ?it/s]/var/folders/3c/71b8pg6d7j5dht_5h_2n4n_c0000gn/T/ipykernel_10911/1044936714.py:147: UserWarning: Implicit dimension choice for softmax has been deprecated. Change the call to include dim=X as an argument.\n",
            "  final_out = torch.nn.functional.softmax(out)\n",
            "100%|██████████| 36/36 [00:07<00:00,  4.97it/s]\n",
            "  0%|          | 0/2 [00:00<?, ?it/s]/var/folders/3c/71b8pg6d7j5dht_5h_2n4n_c0000gn/T/ipykernel_10911/1044936714.py:147: UserWarning: Implicit dimension choice for softmax has been deprecated. Change the call to include dim=X as an argument.\n",
            "  final_out = torch.nn.functional.softmax(out)\n",
            "100%|██████████| 2/2 [00:00<00:00,  5.85it/s]\n"
          ]
        },
        {
          "name": "stdout",
          "output_type": "stream",
          "text": [
            "\n",
            "epoch 18\n",
            "\ttrain_loss:0.604 valid_loss:0.655\n",
            "\ttrain_acc:74.98% valid_acc:72.70%\n",
            "\ttrain_f1:0.731 valid_f1:0.711\n",
            "\ttrain_confusion_matrix:\n",
            "[[ 269  293  331]\n",
            " [  87 2169  173]\n",
            " [ 102  167 1017]]\n",
            "\tvalid_confusion_matrix:\n",
            "[[ 61  75  81]\n",
            " [ 36 508  61]\n",
            " [ 21  43 275]]\n"
          ]
        },
        {
          "name": "stderr",
          "output_type": "stream",
          "text": [
            "  0%|          | 0/36 [00:00<?, ?it/s]/var/folders/3c/71b8pg6d7j5dht_5h_2n4n_c0000gn/T/ipykernel_10911/1044936714.py:147: UserWarning: Implicit dimension choice for softmax has been deprecated. Change the call to include dim=X as an argument.\n",
            "  final_out = torch.nn.functional.softmax(out)\n",
            "100%|██████████| 36/36 [00:07<00:00,  5.08it/s]\n",
            "  0%|          | 0/2 [00:00<?, ?it/s]/var/folders/3c/71b8pg6d7j5dht_5h_2n4n_c0000gn/T/ipykernel_10911/1044936714.py:147: UserWarning: Implicit dimension choice for softmax has been deprecated. Change the call to include dim=X as an argument.\n",
            "  final_out = torch.nn.functional.softmax(out)\n",
            "100%|██████████| 2/2 [00:00<00:00,  5.69it/s]\n"
          ]
        },
        {
          "name": "stdout",
          "output_type": "stream",
          "text": [
            "\n",
            "epoch 19\n",
            "\ttrain_loss:0.599 valid_loss:0.669\n",
            "\ttrain_acc:75.56% valid_acc:71.92%\n",
            "\ttrain_f1:0.741 valid_f1:0.703\n",
            "\ttrain_confusion_matrix:\n",
            "[[ 306  282  306]\n",
            " [  96 2159  168]\n",
            " [ 110  164 1017]]\n",
            "\tvalid_confusion_matrix:\n",
            "[[ 58  66  93]\n",
            " [ 41 494  70]\n",
            " [ 18  38 283]]\n",
            "Loading saved model from: model_task2.bin\n"
          ]
        },
        {
          "name": "stderr",
          "output_type": "stream",
          "text": [
            "  0%|          | 0/2 [00:00<?, ?it/s]/var/folders/3c/71b8pg6d7j5dht_5h_2n4n_c0000gn/T/ipykernel_10911/1044936714.py:147: UserWarning: Implicit dimension choice for softmax has been deprecated. Change the call to include dim=X as an argument.\n",
            "  final_out = torch.nn.functional.softmax(out)\n",
            "100%|██████████| 2/2 [00:00<00:00,  5.36it/s]\n"
          ]
        },
        {
          "name": "stdout",
          "output_type": "stream",
          "text": [
            "              precision    recall  f1-score   support\n",
            "\n",
            "     Neutral       0.53      0.29      0.37       217\n",
            "    Positive       0.82      0.85      0.83       605\n",
            "    Negative       0.67      0.82      0.73       339\n",
            "\n",
            "    accuracy                           0.73      1161\n",
            "   macro avg       0.67      0.65      0.65      1161\n",
            "weighted avg       0.72      0.73      0.72      1161\n",
            "\n",
            "\n",
            "******************************************************************************************\n",
            "Alpha Size: 0.8\n",
            "Window Size: 2\n",
            "******************************************************************************************\n",
            "\n",
            "train samples:4641\n",
            "valid samples:1161\n"
          ]
        },
        {
          "name": "stderr",
          "output_type": "stream",
          "text": [
            "  0%|          | 0/36 [00:00<?, ?it/s]/var/folders/3c/71b8pg6d7j5dht_5h_2n4n_c0000gn/T/ipykernel_10911/1044936714.py:147: UserWarning: Implicit dimension choice for softmax has been deprecated. Change the call to include dim=X as an argument.\n",
            "  final_out = torch.nn.functional.softmax(out)\n",
            "100%|██████████| 36/36 [00:06<00:00,  5.20it/s]\n",
            "  0%|          | 0/2 [00:00<?, ?it/s]/var/folders/3c/71b8pg6d7j5dht_5h_2n4n_c0000gn/T/ipykernel_10911/1044936714.py:147: UserWarning: Implicit dimension choice for softmax has been deprecated. Change the call to include dim=X as an argument.\n",
            "  final_out = torch.nn.functional.softmax(out)\n",
            "100%|██████████| 2/2 [00:00<00:00,  5.97it/s]\n"
          ]
        },
        {
          "name": "stdout",
          "output_type": "stream",
          "text": [
            "\n",
            "epoch 0\n",
            "\ttrain_loss:1.077 valid_loss:1.036\n",
            "\ttrain_acc:45.27% valid_acc:53.14%\n",
            "\ttrain_f1:0.416 valid_f1:0.371\n",
            "\ttrain_confusion_matrix:\n",
            "[[  35  562  288]\n",
            " [ 107 1625  684]\n",
            " [  63  818  426]]\n",
            "\tvalid_confusion_matrix:\n",
            "[[  0 228   0]\n",
            " [  0 615   0]\n",
            " [  3 313   2]]\n"
          ]
        },
        {
          "name": "stderr",
          "output_type": "stream",
          "text": [
            "  0%|          | 0/36 [00:00<?, ?it/s]/var/folders/3c/71b8pg6d7j5dht_5h_2n4n_c0000gn/T/ipykernel_10911/1044936714.py:147: UserWarning: Implicit dimension choice for softmax has been deprecated. Change the call to include dim=X as an argument.\n",
            "  final_out = torch.nn.functional.softmax(out)\n",
            "100%|██████████| 36/36 [00:06<00:00,  5.49it/s]\n",
            "  0%|          | 0/2 [00:00<?, ?it/s]/var/folders/3c/71b8pg6d7j5dht_5h_2n4n_c0000gn/T/ipykernel_10911/1044936714.py:147: UserWarning: Implicit dimension choice for softmax has been deprecated. Change the call to include dim=X as an argument.\n",
            "  final_out = torch.nn.functional.softmax(out)\n",
            "100%|██████████| 2/2 [00:00<00:00,  6.92it/s]\n"
          ]
        },
        {
          "name": "stdout",
          "output_type": "stream",
          "text": [
            "\n",
            "epoch 1\n",
            "\ttrain_loss:1.012 valid_loss:0.966\n",
            "\ttrain_acc:52.47% valid_acc:53.14%\n",
            "\ttrain_f1:0.364 valid_f1:0.371\n",
            "\ttrain_confusion_matrix:\n",
            "[[   0  885    0]\n",
            " [   2 2410    1]\n",
            " [   6 1296    8]]\n",
            "\tvalid_confusion_matrix:\n",
            "[[  0 228   0]\n",
            " [  0 615   0]\n",
            " [  1 315   2]]\n"
          ]
        },
        {
          "name": "stderr",
          "output_type": "stream",
          "text": [
            "  0%|          | 0/36 [00:00<?, ?it/s]/var/folders/3c/71b8pg6d7j5dht_5h_2n4n_c0000gn/T/ipykernel_10911/1044936714.py:147: UserWarning: Implicit dimension choice for softmax has been deprecated. Change the call to include dim=X as an argument.\n",
            "  final_out = torch.nn.functional.softmax(out)\n",
            "100%|██████████| 36/36 [00:06<00:00,  5.60it/s]\n",
            "  0%|          | 0/2 [00:00<?, ?it/s]/var/folders/3c/71b8pg6d7j5dht_5h_2n4n_c0000gn/T/ipykernel_10911/1044936714.py:147: UserWarning: Implicit dimension choice for softmax has been deprecated. Change the call to include dim=X as an argument.\n",
            "  final_out = torch.nn.functional.softmax(out)\n",
            "100%|██████████| 2/2 [00:00<00:00,  6.87it/s]\n"
          ]
        },
        {
          "name": "stdout",
          "output_type": "stream",
          "text": [
            "\n",
            "epoch 2\n",
            "\ttrain_loss:0.968 valid_loss:0.918\n",
            "\ttrain_acc:52.60% valid_acc:53.57%\n",
            "\ttrain_f1:0.367 valid_f1:0.380\n",
            "\ttrain_confusion_matrix:\n",
            "[[   0  882    1]\n",
            " [   1 2408    3]\n",
            " [   0 1297   16]]\n",
            "\tvalid_confusion_matrix:\n",
            "[[  0 228   0]\n",
            " [  0 615   0]\n",
            " [  1 310   7]]\n"
          ]
        },
        {
          "name": "stderr",
          "output_type": "stream",
          "text": [
            "  0%|          | 0/36 [00:00<?, ?it/s]/var/folders/3c/71b8pg6d7j5dht_5h_2n4n_c0000gn/T/ipykernel_10911/1044936714.py:147: UserWarning: Implicit dimension choice for softmax has been deprecated. Change the call to include dim=X as an argument.\n",
            "  final_out = torch.nn.functional.softmax(out)\n",
            "100%|██████████| 36/36 [00:06<00:00,  5.47it/s]\n",
            "  0%|          | 0/2 [00:00<?, ?it/s]/var/folders/3c/71b8pg6d7j5dht_5h_2n4n_c0000gn/T/ipykernel_10911/1044936714.py:147: UserWarning: Implicit dimension choice for softmax has been deprecated. Change the call to include dim=X as an argument.\n",
            "  final_out = torch.nn.functional.softmax(out)\n",
            "100%|██████████| 2/2 [00:00<00:00,  6.45it/s]\n"
          ]
        },
        {
          "name": "stdout",
          "output_type": "stream",
          "text": [
            "\n",
            "epoch 3\n",
            "\ttrain_loss:0.906 valid_loss:0.837\n",
            "\ttrain_acc:56.27% valid_acc:63.74%\n",
            "\ttrain_f1:0.445 valid_f1:0.554\n",
            "\ttrain_confusion_matrix:\n",
            "[[   0  794   86]\n",
            " [   0 2386   30]\n",
            " [   0 1105  207]]\n",
            "\tvalid_confusion_matrix:\n",
            "[[  0 169  59]\n",
            " [  0 590  25]\n",
            " [  1 167 150]]\n"
          ]
        },
        {
          "name": "stderr",
          "output_type": "stream",
          "text": [
            "  0%|          | 0/36 [00:00<?, ?it/s]/var/folders/3c/71b8pg6d7j5dht_5h_2n4n_c0000gn/T/ipykernel_10911/1044936714.py:147: UserWarning: Implicit dimension choice for softmax has been deprecated. Change the call to include dim=X as an argument.\n",
            "  final_out = torch.nn.functional.softmax(out)\n",
            "100%|██████████| 36/36 [00:06<00:00,  5.60it/s]\n",
            "  0%|          | 0/2 [00:00<?, ?it/s]/var/folders/3c/71b8pg6d7j5dht_5h_2n4n_c0000gn/T/ipykernel_10911/1044936714.py:147: UserWarning: Implicit dimension choice for softmax has been deprecated. Change the call to include dim=X as an argument.\n",
            "  final_out = torch.nn.functional.softmax(out)\n",
            "100%|██████████| 2/2 [00:00<00:00,  6.44it/s]\n"
          ]
        },
        {
          "name": "stdout",
          "output_type": "stream",
          "text": [
            "\n",
            "epoch 4\n",
            "\ttrain_loss:0.843 valid_loss:0.787\n",
            "\ttrain_acc:63.06% valid_acc:65.81%\n",
            "\ttrain_f1:0.561 valid_f1:0.590\n",
            "\ttrain_confusion_matrix:\n",
            "[[   0  466  418]\n",
            " [   1 2123  289]\n",
            " [   0  528  783]]\n",
            "\tvalid_confusion_matrix:\n",
            "[[  0 105 123]\n",
            " [  0 528  87]\n",
            " [  0  82 236]]\n"
          ]
        },
        {
          "name": "stderr",
          "output_type": "stream",
          "text": [
            "  0%|          | 0/36 [00:00<?, ?it/s]/var/folders/3c/71b8pg6d7j5dht_5h_2n4n_c0000gn/T/ipykernel_10911/1044936714.py:147: UserWarning: Implicit dimension choice for softmax has been deprecated. Change the call to include dim=X as an argument.\n",
            "  final_out = torch.nn.functional.softmax(out)\n",
            "100%|██████████| 36/36 [00:06<00:00,  5.73it/s]\n",
            "  0%|          | 0/2 [00:00<?, ?it/s]/var/folders/3c/71b8pg6d7j5dht_5h_2n4n_c0000gn/T/ipykernel_10911/1044936714.py:147: UserWarning: Implicit dimension choice for softmax has been deprecated. Change the call to include dim=X as an argument.\n",
            "  final_out = torch.nn.functional.softmax(out)\n",
            "100%|██████████| 2/2 [00:00<00:00,  6.74it/s]\n"
          ]
        },
        {
          "name": "stdout",
          "output_type": "stream",
          "text": [
            "\n",
            "epoch 5\n",
            "\ttrain_loss:0.802 valid_loss:0.766\n",
            "\ttrain_acc:64.54% valid_acc:66.93%\n",
            "\ttrain_f1:0.580 valid_f1:0.603\n",
            "\ttrain_confusion_matrix:\n",
            "[[   0  372  515]\n",
            " [   0 2033  377]\n",
            " [   0  370  941]]\n",
            "\tvalid_confusion_matrix:\n",
            "[[  0  89 139]\n",
            " [  0 517  98]\n",
            " [  0  58 260]]\n"
          ]
        },
        {
          "name": "stderr",
          "output_type": "stream",
          "text": [
            "  0%|          | 0/36 [00:00<?, ?it/s]/var/folders/3c/71b8pg6d7j5dht_5h_2n4n_c0000gn/T/ipykernel_10911/1044936714.py:147: UserWarning: Implicit dimension choice for softmax has been deprecated. Change the call to include dim=X as an argument.\n",
            "  final_out = torch.nn.functional.softmax(out)\n",
            "100%|██████████| 36/36 [00:06<00:00,  5.94it/s]\n",
            "  0%|          | 0/2 [00:00<?, ?it/s]/var/folders/3c/71b8pg6d7j5dht_5h_2n4n_c0000gn/T/ipykernel_10911/1044936714.py:147: UserWarning: Implicit dimension choice for softmax has been deprecated. Change the call to include dim=X as an argument.\n",
            "  final_out = torch.nn.functional.softmax(out)\n",
            "100%|██████████| 2/2 [00:00<00:00,  6.70it/s]\n"
          ]
        },
        {
          "name": "stdout",
          "output_type": "stream",
          "text": [
            "\n",
            "epoch 6\n",
            "\ttrain_loss:0.773 valid_loss:0.737\n",
            "\ttrain_acc:66.41% valid_acc:67.36%\n",
            "\ttrain_f1:0.598 valid_f1:0.600\n",
            "\ttrain_confusion_matrix:\n",
            "[[   1  362  523]\n",
            " [   0 2061  350]\n",
            " [   0  313  998]]\n",
            "\tvalid_confusion_matrix:\n",
            "[[  1 126 101]\n",
            " [  0 562  53]\n",
            " [  0  99 219]]\n"
          ]
        },
        {
          "name": "stderr",
          "output_type": "stream",
          "text": [
            "  0%|          | 0/36 [00:00<?, ?it/s]/var/folders/3c/71b8pg6d7j5dht_5h_2n4n_c0000gn/T/ipykernel_10911/1044936714.py:147: UserWarning: Implicit dimension choice for softmax has been deprecated. Change the call to include dim=X as an argument.\n",
            "  final_out = torch.nn.functional.softmax(out)\n",
            "100%|██████████| 36/36 [00:06<00:00,  5.68it/s]\n",
            "  0%|          | 0/2 [00:00<?, ?it/s]/var/folders/3c/71b8pg6d7j5dht_5h_2n4n_c0000gn/T/ipykernel_10911/1044936714.py:147: UserWarning: Implicit dimension choice for softmax has been deprecated. Change the call to include dim=X as an argument.\n",
            "  final_out = torch.nn.functional.softmax(out)\n",
            "100%|██████████| 2/2 [00:00<00:00,  5.51it/s]\n"
          ]
        },
        {
          "name": "stdout",
          "output_type": "stream",
          "text": [
            "\n",
            "epoch 7\n",
            "\ttrain_loss:0.753 valid_loss:0.718\n",
            "\ttrain_acc:67.36% valid_acc:68.22%\n",
            "\ttrain_f1:0.607 valid_f1:0.608\n",
            "\ttrain_confusion_matrix:\n",
            "[[   4  383  496]\n",
            " [   0 2090  325]\n",
            " [   0  300 1010]]\n",
            "\tvalid_confusion_matrix:\n",
            "[[  1 130  97]\n",
            " [  0 564  51]\n",
            " [  0  91 227]]\n"
          ]
        },
        {
          "name": "stderr",
          "output_type": "stream",
          "text": [
            "  0%|          | 0/36 [00:00<?, ?it/s]/var/folders/3c/71b8pg6d7j5dht_5h_2n4n_c0000gn/T/ipykernel_10911/1044936714.py:147: UserWarning: Implicit dimension choice for softmax has been deprecated. Change the call to include dim=X as an argument.\n",
            "  final_out = torch.nn.functional.softmax(out)\n",
            "100%|██████████| 36/36 [00:06<00:00,  5.80it/s]\n",
            "  0%|          | 0/2 [00:00<?, ?it/s]/var/folders/3c/71b8pg6d7j5dht_5h_2n4n_c0000gn/T/ipykernel_10911/1044936714.py:147: UserWarning: Implicit dimension choice for softmax has been deprecated. Change the call to include dim=X as an argument.\n",
            "  final_out = torch.nn.functional.softmax(out)\n",
            "100%|██████████| 2/2 [00:00<00:00,  6.73it/s]\n"
          ]
        },
        {
          "name": "stdout",
          "output_type": "stream",
          "text": [
            "\n",
            "epoch 8\n",
            "\ttrain_loss:0.733 valid_loss:0.698\n",
            "\ttrain_acc:68.25% valid_acc:69.16%\n",
            "\ttrain_f1:0.614 valid_f1:0.624\n",
            "\ttrain_confusion_matrix:\n",
            "[[   6  409  470]\n",
            " [   0 2138  271]\n",
            " [   1  312 1001]]\n",
            "\tvalid_confusion_matrix:\n",
            "[[  3 102 123]\n",
            " [  0 542  73]\n",
            " [  0  60 258]]\n"
          ]
        },
        {
          "name": "stderr",
          "output_type": "stream",
          "text": [
            "  0%|          | 0/36 [00:00<?, ?it/s]/var/folders/3c/71b8pg6d7j5dht_5h_2n4n_c0000gn/T/ipykernel_10911/1044936714.py:147: UserWarning: Implicit dimension choice for softmax has been deprecated. Change the call to include dim=X as an argument.\n",
            "  final_out = torch.nn.functional.softmax(out)\n",
            "100%|██████████| 36/36 [00:06<00:00,  5.55it/s]\n",
            "  0%|          | 0/2 [00:00<?, ?it/s]/var/folders/3c/71b8pg6d7j5dht_5h_2n4n_c0000gn/T/ipykernel_10911/1044936714.py:147: UserWarning: Implicit dimension choice for softmax has been deprecated. Change the call to include dim=X as an argument.\n",
            "  final_out = torch.nn.functional.softmax(out)\n",
            "100%|██████████| 2/2 [00:00<00:00,  6.70it/s]\n"
          ]
        },
        {
          "name": "stdout",
          "output_type": "stream",
          "text": [
            "\n",
            "epoch 9\n",
            "\ttrain_loss:0.722 valid_loss:0.684\n",
            "\ttrain_acc:68.82% valid_acc:69.16%\n",
            "\ttrain_f1:0.621 valid_f1:0.627\n",
            "\ttrain_confusion_matrix:\n",
            "[[  14  411  461]\n",
            " [   2 2144  267]\n",
            " [   0  296 1013]]\n",
            "\tvalid_confusion_matrix:\n",
            "[[  6 101 121]\n",
            " [  0 537  78]\n",
            " [  0  58 260]]\n"
          ]
        },
        {
          "name": "stderr",
          "output_type": "stream",
          "text": [
            "  0%|          | 0/36 [00:00<?, ?it/s]/var/folders/3c/71b8pg6d7j5dht_5h_2n4n_c0000gn/T/ipykernel_10911/1044936714.py:147: UserWarning: Implicit dimension choice for softmax has been deprecated. Change the call to include dim=X as an argument.\n",
            "  final_out = torch.nn.functional.softmax(out)\n",
            "100%|██████████| 36/36 [00:06<00:00,  5.47it/s]\n",
            "  0%|          | 0/2 [00:00<?, ?it/s]/var/folders/3c/71b8pg6d7j5dht_5h_2n4n_c0000gn/T/ipykernel_10911/1044936714.py:147: UserWarning: Implicit dimension choice for softmax has been deprecated. Change the call to include dim=X as an argument.\n",
            "  final_out = torch.nn.functional.softmax(out)\n",
            "100%|██████████| 2/2 [00:00<00:00,  6.51it/s]\n"
          ]
        },
        {
          "name": "stdout",
          "output_type": "stream",
          "text": [
            "\n",
            "epoch 10\n",
            "\ttrain_loss:0.708 valid_loss:0.681\n",
            "\ttrain_acc:69.55% valid_acc:69.08%\n",
            "\ttrain_f1:0.633 valid_f1:0.628\n",
            "\ttrain_confusion_matrix:\n",
            "[[  30  399  459]\n",
            " [   3 2134  272]\n",
            " [   5  265 1041]]\n",
            "\tvalid_confusion_matrix:\n",
            "[[ 12 132  84]\n",
            " [  4 574  37]\n",
            " [  3  99 216]]\n"
          ]
        },
        {
          "name": "stderr",
          "output_type": "stream",
          "text": [
            "  0%|          | 0/36 [00:00<?, ?it/s]/var/folders/3c/71b8pg6d7j5dht_5h_2n4n_c0000gn/T/ipykernel_10911/1044936714.py:147: UserWarning: Implicit dimension choice for softmax has been deprecated. Change the call to include dim=X as an argument.\n",
            "  final_out = torch.nn.functional.softmax(out)\n",
            "100%|██████████| 36/36 [00:06<00:00,  5.67it/s]\n",
            "  0%|          | 0/2 [00:00<?, ?it/s]/var/folders/3c/71b8pg6d7j5dht_5h_2n4n_c0000gn/T/ipykernel_10911/1044936714.py:147: UserWarning: Implicit dimension choice for softmax has been deprecated. Change the call to include dim=X as an argument.\n",
            "  final_out = torch.nn.functional.softmax(out)\n",
            "100%|██████████| 2/2 [00:00<00:00,  6.72it/s]\n"
          ]
        },
        {
          "name": "stdout",
          "output_type": "stream",
          "text": [
            "\n",
            "epoch 11\n",
            "\ttrain_loss:0.700 valid_loss:0.676\n",
            "\ttrain_acc:70.14% valid_acc:69.16%\n",
            "\ttrain_f1:0.648 valid_f1:0.630\n",
            "\ttrain_confusion_matrix:\n",
            "[[  64  392  431]\n",
            " [  14 2141  256]\n",
            " [  13  270 1027]]\n",
            "\tvalid_confusion_matrix:\n",
            "[[ 12 135  81]\n",
            " [  4 569  42]\n",
            " [  5  91 222]]\n"
          ]
        },
        {
          "name": "stderr",
          "output_type": "stream",
          "text": [
            "  0%|          | 0/36 [00:00<?, ?it/s]/var/folders/3c/71b8pg6d7j5dht_5h_2n4n_c0000gn/T/ipykernel_10911/1044936714.py:147: UserWarning: Implicit dimension choice for softmax has been deprecated. Change the call to include dim=X as an argument.\n",
            "  final_out = torch.nn.functional.softmax(out)\n",
            "100%|██████████| 36/36 [00:06<00:00,  5.69it/s]\n",
            "  0%|          | 0/2 [00:00<?, ?it/s]/var/folders/3c/71b8pg6d7j5dht_5h_2n4n_c0000gn/T/ipykernel_10911/1044936714.py:147: UserWarning: Implicit dimension choice for softmax has been deprecated. Change the call to include dim=X as an argument.\n",
            "  final_out = torch.nn.functional.softmax(out)\n",
            "100%|██████████| 2/2 [00:00<00:00,  6.90it/s]\n"
          ]
        },
        {
          "name": "stdout",
          "output_type": "stream",
          "text": [
            "\n",
            "epoch 12\n",
            "\ttrain_loss:0.691 valid_loss:0.662\n",
            "\ttrain_acc:70.68% valid_acc:70.80%\n",
            "\ttrain_f1:0.655 valid_f1:0.653\n",
            "\ttrain_confusion_matrix:\n",
            "[[  68  389  431]\n",
            " [  19 2156  237]\n",
            " [  26  249 1033]]\n",
            "\tvalid_confusion_matrix:\n",
            "[[ 16 108 104]\n",
            " [  6 549  60]\n",
            " [  5  56 257]]\n"
          ]
        },
        {
          "name": "stderr",
          "output_type": "stream",
          "text": [
            "  0%|          | 0/36 [00:00<?, ?it/s]/var/folders/3c/71b8pg6d7j5dht_5h_2n4n_c0000gn/T/ipykernel_10911/1044936714.py:147: UserWarning: Implicit dimension choice for softmax has been deprecated. Change the call to include dim=X as an argument.\n",
            "  final_out = torch.nn.functional.softmax(out)\n",
            "100%|██████████| 36/36 [00:06<00:00,  5.69it/s]\n",
            "  0%|          | 0/2 [00:00<?, ?it/s]/var/folders/3c/71b8pg6d7j5dht_5h_2n4n_c0000gn/T/ipykernel_10911/1044936714.py:147: UserWarning: Implicit dimension choice for softmax has been deprecated. Change the call to include dim=X as an argument.\n",
            "  final_out = torch.nn.functional.softmax(out)\n",
            "100%|██████████| 2/2 [00:00<00:00,  6.83it/s]\n"
          ]
        },
        {
          "name": "stdout",
          "output_type": "stream",
          "text": [
            "\n",
            "epoch 13\n",
            "\ttrain_loss:0.682 valid_loss:0.670\n",
            "\ttrain_acc:71.27% valid_acc:69.85%\n",
            "\ttrain_f1:0.663 valid_f1:0.651\n",
            "\ttrain_confusion_matrix:\n",
            "[[  81  378  425]\n",
            " [  19 2149  239]\n",
            " [  18  245 1054]]\n",
            "\tvalid_confusion_matrix:\n",
            "[[ 24 118  86]\n",
            " [  9 557  49]\n",
            " [ 12  76 230]]\n"
          ]
        },
        {
          "name": "stderr",
          "output_type": "stream",
          "text": [
            "  0%|          | 0/36 [00:00<?, ?it/s]/var/folders/3c/71b8pg6d7j5dht_5h_2n4n_c0000gn/T/ipykernel_10911/1044936714.py:147: UserWarning: Implicit dimension choice for softmax has been deprecated. Change the call to include dim=X as an argument.\n",
            "  final_out = torch.nn.functional.softmax(out)\n",
            "100%|██████████| 36/36 [00:06<00:00,  5.59it/s]\n",
            "  0%|          | 0/2 [00:00<?, ?it/s]/var/folders/3c/71b8pg6d7j5dht_5h_2n4n_c0000gn/T/ipykernel_10911/1044936714.py:147: UserWarning: Implicit dimension choice for softmax has been deprecated. Change the call to include dim=X as an argument.\n",
            "  final_out = torch.nn.functional.softmax(out)\n",
            "100%|██████████| 2/2 [00:00<00:00,  6.41it/s]\n"
          ]
        },
        {
          "name": "stdout",
          "output_type": "stream",
          "text": [
            "\n",
            "epoch 14\n",
            "\ttrain_loss:0.670 valid_loss:0.659\n",
            "\ttrain_acc:72.14% valid_acc:71.23%\n",
            "\ttrain_f1:0.681 valid_f1:0.675\n",
            "\ttrain_confusion_matrix:\n",
            "[[ 126  356  403]\n",
            " [  36 2159  218]\n",
            " [  32  239 1039]]\n",
            "\tvalid_confusion_matrix:\n",
            "[[ 36 103  89]\n",
            " [  9 550  56]\n",
            " [ 19  58 241]]\n"
          ]
        },
        {
          "name": "stderr",
          "output_type": "stream",
          "text": [
            "  0%|          | 0/36 [00:00<?, ?it/s]/var/folders/3c/71b8pg6d7j5dht_5h_2n4n_c0000gn/T/ipykernel_10911/1044936714.py:147: UserWarning: Implicit dimension choice for softmax has been deprecated. Change the call to include dim=X as an argument.\n",
            "  final_out = torch.nn.functional.softmax(out)\n",
            "100%|██████████| 36/36 [00:06<00:00,  5.71it/s]\n",
            "  0%|          | 0/2 [00:00<?, ?it/s]/var/folders/3c/71b8pg6d7j5dht_5h_2n4n_c0000gn/T/ipykernel_10911/1044936714.py:147: UserWarning: Implicit dimension choice for softmax has been deprecated. Change the call to include dim=X as an argument.\n",
            "  final_out = torch.nn.functional.softmax(out)\n",
            "100%|██████████| 2/2 [00:00<00:00,  6.92it/s]\n"
          ]
        },
        {
          "name": "stdout",
          "output_type": "stream",
          "text": [
            "\n",
            "epoch 15\n",
            "\ttrain_loss:0.666 valid_loss:0.658\n",
            "\ttrain_acc:72.37% valid_acc:71.15%\n",
            "\ttrain_f1:0.687 valid_f1:0.677\n",
            "\ttrain_confusion_matrix:\n",
            "[[ 141  354  391]\n",
            " [  47 2142  218]\n",
            " [  40  223 1052]]\n",
            "\tvalid_confusion_matrix:\n",
            "[[ 40 109  79]\n",
            " [ 12 554  49]\n",
            " [ 20  66 232]]\n"
          ]
        },
        {
          "name": "stderr",
          "output_type": "stream",
          "text": [
            "  0%|          | 0/36 [00:00<?, ?it/s]/var/folders/3c/71b8pg6d7j5dht_5h_2n4n_c0000gn/T/ipykernel_10911/1044936714.py:147: UserWarning: Implicit dimension choice for softmax has been deprecated. Change the call to include dim=X as an argument.\n",
            "  final_out = torch.nn.functional.softmax(out)\n",
            "100%|██████████| 36/36 [00:06<00:00,  5.80it/s]\n",
            "  0%|          | 0/2 [00:00<?, ?it/s]/var/folders/3c/71b8pg6d7j5dht_5h_2n4n_c0000gn/T/ipykernel_10911/1044936714.py:147: UserWarning: Implicit dimension choice for softmax has been deprecated. Change the call to include dim=X as an argument.\n",
            "  final_out = torch.nn.functional.softmax(out)\n",
            "100%|██████████| 2/2 [00:00<00:00,  6.99it/s]\n"
          ]
        },
        {
          "name": "stdout",
          "output_type": "stream",
          "text": [
            "\n",
            "epoch 16\n",
            "\ttrain_loss:0.656 valid_loss:0.663\n",
            "\ttrain_acc:72.92% valid_acc:69.25%\n",
            "\ttrain_f1:0.699 valid_f1:0.654\n",
            "\ttrain_confusion_matrix:\n",
            "[[ 179  324  382]\n",
            " [  62 2139  210]\n",
            " [  51  219 1042]]\n",
            "\tvalid_confusion_matrix:\n",
            "[[ 38 121  69]\n",
            " [ 11 566  38]\n",
            " [ 18 100 200]]\n"
          ]
        },
        {
          "name": "stderr",
          "output_type": "stream",
          "text": [
            "  0%|          | 0/36 [00:00<?, ?it/s]/var/folders/3c/71b8pg6d7j5dht_5h_2n4n_c0000gn/T/ipykernel_10911/1044936714.py:147: UserWarning: Implicit dimension choice for softmax has been deprecated. Change the call to include dim=X as an argument.\n",
            "  final_out = torch.nn.functional.softmax(out)\n",
            "100%|██████████| 36/36 [00:06<00:00,  5.56it/s]\n",
            "  0%|          | 0/2 [00:00<?, ?it/s]/var/folders/3c/71b8pg6d7j5dht_5h_2n4n_c0000gn/T/ipykernel_10911/1044936714.py:147: UserWarning: Implicit dimension choice for softmax has been deprecated. Change the call to include dim=X as an argument.\n",
            "  final_out = torch.nn.functional.softmax(out)\n",
            "100%|██████████| 2/2 [00:00<00:00,  6.68it/s]\n"
          ]
        },
        {
          "name": "stdout",
          "output_type": "stream",
          "text": [
            "\n",
            "epoch 17\n",
            "\ttrain_loss:0.649 valid_loss:0.642\n",
            "\ttrain_acc:73.24% valid_acc:72.44%\n",
            "\ttrain_f1:0.703 valid_f1:0.692\n",
            "\ttrain_confusion_matrix:\n",
            "[[ 184  330  372]\n",
            " [  60 2161  191]\n",
            " [  56  224 1030]]\n",
            "\tvalid_confusion_matrix:\n",
            "[[ 45 100  83]\n",
            " [ 10 554  51]\n",
            " [ 18  58 242]]\n"
          ]
        },
        {
          "name": "stderr",
          "output_type": "stream",
          "text": [
            "  0%|          | 0/36 [00:00<?, ?it/s]/var/folders/3c/71b8pg6d7j5dht_5h_2n4n_c0000gn/T/ipykernel_10911/1044936714.py:147: UserWarning: Implicit dimension choice for softmax has been deprecated. Change the call to include dim=X as an argument.\n",
            "  final_out = torch.nn.functional.softmax(out)\n",
            "100%|██████████| 36/36 [00:06<00:00,  5.45it/s]\n",
            "  0%|          | 0/2 [00:00<?, ?it/s]/var/folders/3c/71b8pg6d7j5dht_5h_2n4n_c0000gn/T/ipykernel_10911/1044936714.py:147: UserWarning: Implicit dimension choice for softmax has been deprecated. Change the call to include dim=X as an argument.\n",
            "  final_out = torch.nn.functional.softmax(out)\n",
            "100%|██████████| 2/2 [00:00<00:00,  5.70it/s]\n"
          ]
        },
        {
          "name": "stdout",
          "output_type": "stream",
          "text": [
            "\n",
            "epoch 18\n",
            "\ttrain_loss:0.637 valid_loss:0.638\n",
            "\ttrain_acc:74.20% valid_acc:72.35%\n",
            "\ttrain_f1:0.719 valid_f1:0.697\n",
            "\ttrain_confusion_matrix:\n",
            "[[ 233  305  348]\n",
            " [  72 2152  183]\n",
            " [  75  206 1034]]\n",
            "\tvalid_confusion_matrix:\n",
            "[[ 53  92  83]\n",
            " [ 16 548  51]\n",
            " [ 22  57 239]]\n"
          ]
        },
        {
          "name": "stderr",
          "output_type": "stream",
          "text": [
            "  0%|          | 0/36 [00:00<?, ?it/s]/var/folders/3c/71b8pg6d7j5dht_5h_2n4n_c0000gn/T/ipykernel_10911/1044936714.py:147: UserWarning: Implicit dimension choice for softmax has been deprecated. Change the call to include dim=X as an argument.\n",
            "  final_out = torch.nn.functional.softmax(out)\n",
            "100%|██████████| 36/36 [00:06<00:00,  5.33it/s]\n",
            "  0%|          | 0/2 [00:00<?, ?it/s]/var/folders/3c/71b8pg6d7j5dht_5h_2n4n_c0000gn/T/ipykernel_10911/1044936714.py:147: UserWarning: Implicit dimension choice for softmax has been deprecated. Change the call to include dim=X as an argument.\n",
            "  final_out = torch.nn.functional.softmax(out)\n",
            "100%|██████████| 2/2 [00:00<00:00,  6.73it/s]\n"
          ]
        },
        {
          "name": "stdout",
          "output_type": "stream",
          "text": [
            "\n",
            "epoch 19\n",
            "\ttrain_loss:0.629 valid_loss:0.644\n",
            "\ttrain_acc:74.39% valid_acc:71.58%\n",
            "\ttrain_f1:0.723 valid_f1:0.693\n",
            "\ttrain_confusion_matrix:\n",
            "[[ 244  289  353]\n",
            " [  84 2136  189]\n",
            " [  70  195 1048]]\n",
            "\tvalid_confusion_matrix:\n",
            "[[ 58  99  71]\n",
            " [ 25 548  42]\n",
            " [ 32  61 225]]\n",
            "Loading saved model from: model_task2.bin\n"
          ]
        },
        {
          "name": "stderr",
          "output_type": "stream",
          "text": [
            "  0%|          | 0/2 [00:00<?, ?it/s]/var/folders/3c/71b8pg6d7j5dht_5h_2n4n_c0000gn/T/ipykernel_10911/1044936714.py:147: UserWarning: Implicit dimension choice for softmax has been deprecated. Change the call to include dim=X as an argument.\n",
            "  final_out = torch.nn.functional.softmax(out)\n",
            "100%|██████████| 2/2 [00:00<00:00,  7.71it/s]\n"
          ]
        },
        {
          "name": "stdout",
          "output_type": "stream",
          "text": [
            "              precision    recall  f1-score   support\n",
            "\n",
            "     Neutral       0.61      0.24      0.35       228\n",
            "    Positive       0.78      0.89      0.83       615\n",
            "    Negative       0.65      0.76      0.70       318\n",
            "\n",
            "    accuracy                           0.73      1161\n",
            "   macro avg       0.68      0.63      0.63      1161\n",
            "weighted avg       0.71      0.73      0.70      1161\n",
            "\n",
            "\n",
            "******************************************************************************************\n",
            "Alpha Size: 0.8\n",
            "Window Size: 4\n",
            "******************************************************************************************\n",
            "\n",
            "train samples:4641\n",
            "valid samples:1161\n"
          ]
        },
        {
          "name": "stderr",
          "output_type": "stream",
          "text": [
            "  0%|          | 0/36 [00:00<?, ?it/s]/var/folders/3c/71b8pg6d7j5dht_5h_2n4n_c0000gn/T/ipykernel_10911/1044936714.py:147: UserWarning: Implicit dimension choice for softmax has been deprecated. Change the call to include dim=X as an argument.\n",
            "  final_out = torch.nn.functional.softmax(out)\n",
            "100%|██████████| 36/36 [00:06<00:00,  5.40it/s]\n",
            "  0%|          | 0/2 [00:00<?, ?it/s]/var/folders/3c/71b8pg6d7j5dht_5h_2n4n_c0000gn/T/ipykernel_10911/1044936714.py:147: UserWarning: Implicit dimension choice for softmax has been deprecated. Change the call to include dim=X as an argument.\n",
            "  final_out = torch.nn.functional.softmax(out)\n",
            "100%|██████████| 2/2 [00:00<00:00,  6.22it/s]\n"
          ]
        },
        {
          "name": "stdout",
          "output_type": "stream",
          "text": [
            "\n",
            "epoch 0\n",
            "\ttrain_loss:1.088 valid_loss:1.037\n",
            "\ttrain_acc:40.73% valid_acc:55.04%\n",
            "\ttrain_f1:0.390 valid_f1:0.393\n",
            "\ttrain_confusion_matrix:\n",
            "[[ 303  525   74]\n",
            " [ 783 1426  184]\n",
            " [ 440  725  148]]\n",
            "\tvalid_confusion_matrix:\n",
            "[[  0 213   0]\n",
            " [  0 637   0]\n",
            " [  0 309   2]]\n"
          ]
        },
        {
          "name": "stderr",
          "output_type": "stream",
          "text": [
            "  0%|          | 0/36 [00:00<?, ?it/s]/var/folders/3c/71b8pg6d7j5dht_5h_2n4n_c0000gn/T/ipykernel_10911/1044936714.py:147: UserWarning: Implicit dimension choice for softmax has been deprecated. Change the call to include dim=X as an argument.\n",
            "  final_out = torch.nn.functional.softmax(out)\n",
            "100%|██████████| 36/36 [00:06<00:00,  5.49it/s]\n",
            "  0%|          | 0/2 [00:00<?, ?it/s]/var/folders/3c/71b8pg6d7j5dht_5h_2n4n_c0000gn/T/ipykernel_10911/1044936714.py:147: UserWarning: Implicit dimension choice for softmax has been deprecated. Change the call to include dim=X as an argument.\n",
            "  final_out = torch.nn.functional.softmax(out)\n",
            "100%|██████████| 2/2 [00:00<00:00,  6.07it/s]\n"
          ]
        },
        {
          "name": "stdout",
          "output_type": "stream",
          "text": [
            "\n",
            "epoch 1\n",
            "\ttrain_loss:1.015 valid_loss:0.951\n",
            "\ttrain_acc:52.17% valid_acc:55.04%\n",
            "\ttrain_f1:0.361 valid_f1:0.393\n",
            "\ttrain_confusion_matrix:\n",
            "[[   0  897    0]\n",
            " [   0 2391    1]\n",
            " [   1 1305   13]]\n",
            "\tvalid_confusion_matrix:\n",
            "[[  0 213   0]\n",
            " [  0 637   0]\n",
            " [  0 309   2]]\n"
          ]
        },
        {
          "name": "stderr",
          "output_type": "stream",
          "text": [
            "  0%|          | 0/36 [00:00<?, ?it/s]/var/folders/3c/71b8pg6d7j5dht_5h_2n4n_c0000gn/T/ipykernel_10911/1044936714.py:147: UserWarning: Implicit dimension choice for softmax has been deprecated. Change the call to include dim=X as an argument.\n",
            "  final_out = torch.nn.functional.softmax(out)\n",
            "100%|██████████| 36/36 [00:06<00:00,  5.55it/s]\n",
            "  0%|          | 0/2 [00:00<?, ?it/s]/var/folders/3c/71b8pg6d7j5dht_5h_2n4n_c0000gn/T/ipykernel_10911/1044936714.py:147: UserWarning: Implicit dimension choice for softmax has been deprecated. Change the call to include dim=X as an argument.\n",
            "  final_out = torch.nn.functional.softmax(out)\n",
            "100%|██████████| 2/2 [00:00<00:00,  6.26it/s]\n"
          ]
        },
        {
          "name": "stdout",
          "output_type": "stream",
          "text": [
            "\n",
            "epoch 2\n",
            "\ttrain_loss:0.971 valid_loss:0.905\n",
            "\ttrain_acc:52.06% valid_acc:55.21%\n",
            "\ttrain_f1:0.362 valid_f1:0.396\n",
            "\ttrain_confusion_matrix:\n",
            "[[   0  901    1]\n",
            " [   0 2380    4]\n",
            " [   0 1303   19]]\n",
            "\tvalid_confusion_matrix:\n",
            "[[  0 213   0]\n",
            " [  0 637   0]\n",
            " [  0 307   4]]\n"
          ]
        },
        {
          "name": "stderr",
          "output_type": "stream",
          "text": [
            "  0%|          | 0/36 [00:00<?, ?it/s]/var/folders/3c/71b8pg6d7j5dht_5h_2n4n_c0000gn/T/ipykernel_10911/1044936714.py:147: UserWarning: Implicit dimension choice for softmax has been deprecated. Change the call to include dim=X as an argument.\n",
            "  final_out = torch.nn.functional.softmax(out)\n",
            "100%|██████████| 36/36 [00:06<00:00,  5.62it/s]\n",
            "  0%|          | 0/2 [00:00<?, ?it/s]/var/folders/3c/71b8pg6d7j5dht_5h_2n4n_c0000gn/T/ipykernel_10911/1044936714.py:147: UserWarning: Implicit dimension choice for softmax has been deprecated. Change the call to include dim=X as an argument.\n",
            "  final_out = torch.nn.functional.softmax(out)\n",
            "100%|██████████| 2/2 [00:00<00:00,  6.40it/s]\n"
          ]
        },
        {
          "name": "stdout",
          "output_type": "stream",
          "text": [
            "\n",
            "epoch 3\n",
            "\ttrain_loss:0.908 valid_loss:0.842\n",
            "\ttrain_acc:55.97% valid_acc:64.00%\n",
            "\ttrain_f1:0.448 valid_f1:0.562\n",
            "\ttrain_confusion_matrix:\n",
            "[[   0  795  101]\n",
            " [   0 2340   53]\n",
            " [   0 1080  239]]\n",
            "\tvalid_confusion_matrix:\n",
            "[[  0 147  66]\n",
            " [  0 599  38]\n",
            " [  0 167 144]]\n"
          ]
        },
        {
          "name": "stderr",
          "output_type": "stream",
          "text": [
            "  0%|          | 0/36 [00:00<?, ?it/s]/var/folders/3c/71b8pg6d7j5dht_5h_2n4n_c0000gn/T/ipykernel_10911/1044936714.py:147: UserWarning: Implicit dimension choice for softmax has been deprecated. Change the call to include dim=X as an argument.\n",
            "  final_out = torch.nn.functional.softmax(out)\n",
            "100%|██████████| 36/36 [00:06<00:00,  5.63it/s]\n",
            "  0%|          | 0/2 [00:00<?, ?it/s]/var/folders/3c/71b8pg6d7j5dht_5h_2n4n_c0000gn/T/ipykernel_10911/1044936714.py:147: UserWarning: Implicit dimension choice for softmax has been deprecated. Change the call to include dim=X as an argument.\n",
            "  final_out = torch.nn.functional.softmax(out)\n",
            "100%|██████████| 2/2 [00:00<00:00,  5.79it/s]\n"
          ]
        },
        {
          "name": "stdout",
          "output_type": "stream",
          "text": [
            "\n",
            "epoch 4\n",
            "\ttrain_loss:0.841 valid_loss:0.790\n",
            "\ttrain_acc:63.06% valid_acc:66.67%\n",
            "\ttrain_f1:0.561 valid_f1:0.602\n",
            "\ttrain_confusion_matrix:\n",
            "[[   0  471  431]\n",
            " [   0 2091  300]\n",
            " [   0  500  815]]\n",
            "\tvalid_confusion_matrix:\n",
            "[[  0 103 110]\n",
            " [  0 551  86]\n",
            " [  0  88 223]]\n"
          ]
        },
        {
          "name": "stderr",
          "output_type": "stream",
          "text": [
            "  0%|          | 0/36 [00:00<?, ?it/s]/var/folders/3c/71b8pg6d7j5dht_5h_2n4n_c0000gn/T/ipykernel_10911/1044936714.py:147: UserWarning: Implicit dimension choice for softmax has been deprecated. Change the call to include dim=X as an argument.\n",
            "  final_out = torch.nn.functional.softmax(out)\n",
            "100%|██████████| 36/36 [00:06<00:00,  5.80it/s]\n",
            "  0%|          | 0/2 [00:00<?, ?it/s]/var/folders/3c/71b8pg6d7j5dht_5h_2n4n_c0000gn/T/ipykernel_10911/1044936714.py:147: UserWarning: Implicit dimension choice for softmax has been deprecated. Change the call to include dim=X as an argument.\n",
            "  final_out = torch.nn.functional.softmax(out)\n",
            "100%|██████████| 2/2 [00:00<00:00,  6.22it/s]\n"
          ]
        },
        {
          "name": "stdout",
          "output_type": "stream",
          "text": [
            "\n",
            "epoch 5\n",
            "\ttrain_loss:0.796 valid_loss:0.778\n",
            "\ttrain_acc:65.00% valid_acc:65.46%\n",
            "\ttrain_f1:0.584 valid_f1:0.599\n",
            "\ttrain_confusion_matrix:\n",
            "[[   0  363  535]\n",
            " [   0 2018  376]\n",
            " [   0  339  977]]\n",
            "\tvalid_confusion_matrix:\n",
            "[[  0  77 136]\n",
            " [  1 497 139]\n",
            " [  0  48 263]]\n"
          ]
        },
        {
          "name": "stderr",
          "output_type": "stream",
          "text": [
            "  0%|          | 0/36 [00:00<?, ?it/s]/var/folders/3c/71b8pg6d7j5dht_5h_2n4n_c0000gn/T/ipykernel_10911/1044936714.py:147: UserWarning: Implicit dimension choice for softmax has been deprecated. Change the call to include dim=X as an argument.\n",
            "  final_out = torch.nn.functional.softmax(out)\n",
            "100%|██████████| 36/36 [00:06<00:00,  5.76it/s]\n",
            "  0%|          | 0/2 [00:00<?, ?it/s]/var/folders/3c/71b8pg6d7j5dht_5h_2n4n_c0000gn/T/ipykernel_10911/1044936714.py:147: UserWarning: Implicit dimension choice for softmax has been deprecated. Change the call to include dim=X as an argument.\n",
            "  final_out = torch.nn.functional.softmax(out)\n",
            "100%|██████████| 2/2 [00:00<00:00,  5.80it/s]\n"
          ]
        },
        {
          "name": "stdout",
          "output_type": "stream",
          "text": [
            "\n",
            "epoch 6\n",
            "\ttrain_loss:0.777 valid_loss:0.741\n",
            "\ttrain_acc:66.06% valid_acc:67.79%\n",
            "\ttrain_f1:0.595 valid_f1:0.615\n",
            "\ttrain_confusion_matrix:\n",
            "[[   5  379  516]\n",
            " [   0 2031  361]\n",
            " [   0  308 1008]]\n",
            "\tvalid_confusion_matrix:\n",
            "[[  0  96 117]\n",
            " [  1 543  93]\n",
            " [  0  67 244]]\n"
          ]
        },
        {
          "name": "stderr",
          "output_type": "stream",
          "text": [
            "  0%|          | 0/36 [00:00<?, ?it/s]/var/folders/3c/71b8pg6d7j5dht_5h_2n4n_c0000gn/T/ipykernel_10911/1044936714.py:147: UserWarning: Implicit dimension choice for softmax has been deprecated. Change the call to include dim=X as an argument.\n",
            "  final_out = torch.nn.functional.softmax(out)\n",
            "100%|██████████| 36/36 [00:06<00:00,  5.73it/s]\n",
            "  0%|          | 0/2 [00:00<?, ?it/s]/var/folders/3c/71b8pg6d7j5dht_5h_2n4n_c0000gn/T/ipykernel_10911/1044936714.py:147: UserWarning: Implicit dimension choice for softmax has been deprecated. Change the call to include dim=X as an argument.\n",
            "  final_out = torch.nn.functional.softmax(out)\n",
            "100%|██████████| 2/2 [00:00<00:00,  5.46it/s]\n"
          ]
        },
        {
          "name": "stdout",
          "output_type": "stream",
          "text": [
            "\n",
            "epoch 7\n",
            "\ttrain_loss:0.755 valid_loss:0.727\n",
            "\ttrain_acc:67.08% valid_acc:68.82%\n",
            "\ttrain_f1:0.606 valid_f1:0.625\n",
            "\ttrain_confusion_matrix:\n",
            "[[  14  366  518]\n",
            " [   1 2062  328]\n",
            " [   1  303 1015]]\n",
            "\tvalid_confusion_matrix:\n",
            "[[  2 102 109]\n",
            " [  2 553  82]\n",
            " [  1  66 244]]\n"
          ]
        },
        {
          "name": "stderr",
          "output_type": "stream",
          "text": [
            "  0%|          | 0/36 [00:00<?, ?it/s]/var/folders/3c/71b8pg6d7j5dht_5h_2n4n_c0000gn/T/ipykernel_10911/1044936714.py:147: UserWarning: Implicit dimension choice for softmax has been deprecated. Change the call to include dim=X as an argument.\n",
            "  final_out = torch.nn.functional.softmax(out)\n",
            "100%|██████████| 36/36 [00:06<00:00,  5.71it/s]\n",
            "  0%|          | 0/2 [00:00<?, ?it/s]/var/folders/3c/71b8pg6d7j5dht_5h_2n4n_c0000gn/T/ipykernel_10911/1044936714.py:147: UserWarning: Implicit dimension choice for softmax has been deprecated. Change the call to include dim=X as an argument.\n",
            "  final_out = torch.nn.functional.softmax(out)\n",
            "100%|██████████| 2/2 [00:00<00:00,  6.29it/s]\n"
          ]
        },
        {
          "name": "stdout",
          "output_type": "stream",
          "text": [
            "\n",
            "epoch 8\n",
            "\ttrain_loss:0.739 valid_loss:0.720\n",
            "\ttrain_acc:68.36% valid_acc:69.77%\n",
            "\ttrain_f1:0.622 valid_f1:0.641\n",
            "\ttrain_confusion_matrix:\n",
            "[[  30  373  497]\n",
            " [   2 2083  308]\n",
            " [   6  272 1037]]\n",
            "\tvalid_confusion_matrix:\n",
            "[[  9 106  98]\n",
            " [  4 557  76]\n",
            " [  1  66 244]]\n"
          ]
        },
        {
          "name": "stderr",
          "output_type": "stream",
          "text": [
            "  0%|          | 0/36 [00:00<?, ?it/s]/var/folders/3c/71b8pg6d7j5dht_5h_2n4n_c0000gn/T/ipykernel_10911/1044936714.py:147: UserWarning: Implicit dimension choice for softmax has been deprecated. Change the call to include dim=X as an argument.\n",
            "  final_out = torch.nn.functional.softmax(out)\n",
            "100%|██████████| 36/36 [00:06<00:00,  5.73it/s]\n",
            "  0%|          | 0/2 [00:00<?, ?it/s]/var/folders/3c/71b8pg6d7j5dht_5h_2n4n_c0000gn/T/ipykernel_10911/1044936714.py:147: UserWarning: Implicit dimension choice for softmax has been deprecated. Change the call to include dim=X as an argument.\n",
            "  final_out = torch.nn.functional.softmax(out)\n",
            "100%|██████████| 2/2 [00:00<00:00,  6.35it/s]\n"
          ]
        },
        {
          "name": "stdout",
          "output_type": "stream",
          "text": [
            "\n",
            "epoch 9\n",
            "\ttrain_loss:0.725 valid_loss:0.712\n",
            "\ttrain_acc:68.68% valid_acc:69.68%\n",
            "\ttrain_f1:0.627 valid_f1:0.638\n",
            "\ttrain_confusion_matrix:\n",
            "[[  35  360  503]\n",
            " [   5 2083  301]\n",
            " [   9  265 1047]]\n",
            "\tvalid_confusion_matrix:\n",
            "[[  7 110  96]\n",
            " [  6 564  67]\n",
            " [  3  70 238]]\n"
          ]
        },
        {
          "name": "stderr",
          "output_type": "stream",
          "text": [
            "  0%|          | 0/36 [00:00<?, ?it/s]/var/folders/3c/71b8pg6d7j5dht_5h_2n4n_c0000gn/T/ipykernel_10911/1044936714.py:147: UserWarning: Implicit dimension choice for softmax has been deprecated. Change the call to include dim=X as an argument.\n",
            "  final_out = torch.nn.functional.softmax(out)\n",
            "100%|██████████| 36/36 [00:06<00:00,  5.74it/s]\n",
            "  0%|          | 0/2 [00:00<?, ?it/s]/var/folders/3c/71b8pg6d7j5dht_5h_2n4n_c0000gn/T/ipykernel_10911/1044936714.py:147: UserWarning: Implicit dimension choice for softmax has been deprecated. Change the call to include dim=X as an argument.\n",
            "  final_out = torch.nn.functional.softmax(out)\n",
            "100%|██████████| 2/2 [00:00<00:00,  6.38it/s]\n"
          ]
        },
        {
          "name": "stdout",
          "output_type": "stream",
          "text": [
            "\n",
            "epoch 10\n",
            "\ttrain_loss:0.714 valid_loss:0.708\n",
            "\ttrain_acc:69.53% valid_acc:69.42%\n",
            "\ttrain_f1:0.640 valid_f1:0.644\n",
            "\ttrain_confusion_matrix:\n",
            "[[  56  357  488]\n",
            " [   9 2089  294]\n",
            " [   7  249 1059]]\n",
            "\tvalid_confusion_matrix:\n",
            "[[ 11  87 115]\n",
            " [  7 539  91]\n",
            " [  3  52 256]]\n"
          ]
        },
        {
          "name": "stderr",
          "output_type": "stream",
          "text": [
            "  0%|          | 0/36 [00:00<?, ?it/s]/var/folders/3c/71b8pg6d7j5dht_5h_2n4n_c0000gn/T/ipykernel_10911/1044936714.py:147: UserWarning: Implicit dimension choice for softmax has been deprecated. Change the call to include dim=X as an argument.\n",
            "  final_out = torch.nn.functional.softmax(out)\n",
            "100%|██████████| 36/36 [00:06<00:00,  5.64it/s]\n",
            "  0%|          | 0/2 [00:00<?, ?it/s]/var/folders/3c/71b8pg6d7j5dht_5h_2n4n_c0000gn/T/ipykernel_10911/1044936714.py:147: UserWarning: Implicit dimension choice for softmax has been deprecated. Change the call to include dim=X as an argument.\n",
            "  final_out = torch.nn.functional.softmax(out)\n",
            "100%|██████████| 2/2 [00:00<00:00,  6.08it/s]\n"
          ]
        },
        {
          "name": "stdout",
          "output_type": "stream",
          "text": [
            "\n",
            "epoch 11\n",
            "\ttrain_loss:0.701 valid_loss:0.697\n",
            "\ttrain_acc:70.88% valid_acc:70.63%\n",
            "\ttrain_f1:0.667 valid_f1:0.656\n",
            "\ttrain_confusion_matrix:\n",
            "[[ 117  347  432]\n",
            " [  31 2101  258]\n",
            " [  22  252 1048]]\n",
            "\tvalid_confusion_matrix:\n",
            "[[ 14 104  95]\n",
            " [  8 561  68]\n",
            " [  7  59 245]]\n"
          ]
        },
        {
          "name": "stderr",
          "output_type": "stream",
          "text": [
            "  0%|          | 0/36 [00:00<?, ?it/s]/var/folders/3c/71b8pg6d7j5dht_5h_2n4n_c0000gn/T/ipykernel_10911/1044936714.py:147: UserWarning: Implicit dimension choice for softmax has been deprecated. Change the call to include dim=X as an argument.\n",
            "  final_out = torch.nn.functional.softmax(out)\n",
            "100%|██████████| 36/36 [00:06<00:00,  5.44it/s]\n",
            "  0%|          | 0/2 [00:00<?, ?it/s]/var/folders/3c/71b8pg6d7j5dht_5h_2n4n_c0000gn/T/ipykernel_10911/1044936714.py:147: UserWarning: Implicit dimension choice for softmax has been deprecated. Change the call to include dim=X as an argument.\n",
            "  final_out = torch.nn.functional.softmax(out)\n",
            "100%|██████████| 2/2 [00:00<00:00,  5.66it/s]\n"
          ]
        },
        {
          "name": "stdout",
          "output_type": "stream",
          "text": [
            "\n",
            "epoch 12\n",
            "\ttrain_loss:0.688 valid_loss:0.690\n",
            "\ttrain_acc:71.57% valid_acc:71.58%\n",
            "\ttrain_f1:0.678 valid_f1:0.677\n",
            "\ttrain_confusion_matrix:\n",
            "[[ 139  346  414]\n",
            " [  29 2101  264]\n",
            " [  31  226 1058]]\n",
            "\tvalid_confusion_matrix:\n",
            "[[ 28 107  78]\n",
            " [ 14 570  53]\n",
            " [ 13  65 233]]\n"
          ]
        },
        {
          "name": "stderr",
          "output_type": "stream",
          "text": [
            "  0%|          | 0/36 [00:00<?, ?it/s]/var/folders/3c/71b8pg6d7j5dht_5h_2n4n_c0000gn/T/ipykernel_10911/1044936714.py:147: UserWarning: Implicit dimension choice for softmax has been deprecated. Change the call to include dim=X as an argument.\n",
            "  final_out = torch.nn.functional.softmax(out)\n",
            "100%|██████████| 36/36 [00:06<00:00,  5.72it/s]\n",
            "  0%|          | 0/2 [00:00<?, ?it/s]/var/folders/3c/71b8pg6d7j5dht_5h_2n4n_c0000gn/T/ipykernel_10911/1044936714.py:147: UserWarning: Implicit dimension choice for softmax has been deprecated. Change the call to include dim=X as an argument.\n",
            "  final_out = torch.nn.functional.softmax(out)\n",
            "100%|██████████| 2/2 [00:00<00:00,  6.22it/s]\n"
          ]
        },
        {
          "name": "stdout",
          "output_type": "stream",
          "text": [
            "\n",
            "epoch 13\n",
            "\ttrain_loss:0.678 valid_loss:0.684\n",
            "\ttrain_acc:72.05% valid_acc:70.20%\n",
            "\ttrain_f1:0.688 valid_f1:0.672\n",
            "\ttrain_confusion_matrix:\n",
            "[[ 167  334  396]\n",
            " [  47 2110  236]\n",
            " [  48  227 1043]]\n",
            "\tvalid_confusion_matrix:\n",
            "[[ 32  85  96]\n",
            " [ 19 537  81]\n",
            " [ 17  48 246]]\n"
          ]
        },
        {
          "name": "stderr",
          "output_type": "stream",
          "text": [
            "  0%|          | 0/36 [00:00<?, ?it/s]/var/folders/3c/71b8pg6d7j5dht_5h_2n4n_c0000gn/T/ipykernel_10911/1044936714.py:147: UserWarning: Implicit dimension choice for softmax has been deprecated. Change the call to include dim=X as an argument.\n",
            "  final_out = torch.nn.functional.softmax(out)\n",
            "100%|██████████| 36/36 [00:06<00:00,  5.93it/s]\n",
            "  0%|          | 0/2 [00:00<?, ?it/s]/var/folders/3c/71b8pg6d7j5dht_5h_2n4n_c0000gn/T/ipykernel_10911/1044936714.py:147: UserWarning: Implicit dimension choice for softmax has been deprecated. Change the call to include dim=X as an argument.\n",
            "  final_out = torch.nn.functional.softmax(out)\n",
            "100%|██████████| 2/2 [00:00<00:00,  6.59it/s]\n"
          ]
        },
        {
          "name": "stdout",
          "output_type": "stream",
          "text": [
            "\n",
            "epoch 14\n",
            "\ttrain_loss:0.666 valid_loss:0.677\n",
            "\ttrain_acc:72.92% valid_acc:71.06%\n",
            "\ttrain_f1:0.700 valid_f1:0.677\n",
            "\ttrain_confusion_matrix:\n",
            "[[ 189  319  388]\n",
            " [  55 2115  226]\n",
            " [  53  207 1056]]\n",
            "\tvalid_confusion_matrix:\n",
            "[[ 32 101  80]\n",
            " [ 23 565  49]\n",
            " [ 17  66 228]]\n"
          ]
        },
        {
          "name": "stderr",
          "output_type": "stream",
          "text": [
            "  0%|          | 0/36 [00:00<?, ?it/s]/var/folders/3c/71b8pg6d7j5dht_5h_2n4n_c0000gn/T/ipykernel_10911/1044936714.py:147: UserWarning: Implicit dimension choice for softmax has been deprecated. Change the call to include dim=X as an argument.\n",
            "  final_out = torch.nn.functional.softmax(out)\n",
            "100%|██████████| 36/36 [00:06<00:00,  5.94it/s]\n",
            "  0%|          | 0/2 [00:00<?, ?it/s]/var/folders/3c/71b8pg6d7j5dht_5h_2n4n_c0000gn/T/ipykernel_10911/1044936714.py:147: UserWarning: Implicit dimension choice for softmax has been deprecated. Change the call to include dim=X as an argument.\n",
            "  final_out = torch.nn.functional.softmax(out)\n",
            "100%|██████████| 2/2 [00:00<00:00,  6.69it/s]\n"
          ]
        },
        {
          "name": "stdout",
          "output_type": "stream",
          "text": [
            "\n",
            "epoch 15\n",
            "\ttrain_loss:0.656 valid_loss:0.675\n",
            "\ttrain_acc:72.89% valid_acc:70.89%\n",
            "\ttrain_f1:0.704 valid_f1:0.685\n",
            "\ttrain_confusion_matrix:\n",
            "[[ 218  312  370]\n",
            " [  74 2099  219]\n",
            " [  61  213 1042]]\n",
            "\tvalid_confusion_matrix:\n",
            "[[ 43  87  83]\n",
            " [ 28 547  62]\n",
            " [ 23  55 233]]\n"
          ]
        },
        {
          "name": "stderr",
          "output_type": "stream",
          "text": [
            "  0%|          | 0/36 [00:00<?, ?it/s]/var/folders/3c/71b8pg6d7j5dht_5h_2n4n_c0000gn/T/ipykernel_10911/1044936714.py:147: UserWarning: Implicit dimension choice for softmax has been deprecated. Change the call to include dim=X as an argument.\n",
            "  final_out = torch.nn.functional.softmax(out)\n",
            "100%|██████████| 36/36 [00:06<00:00,  5.90it/s]\n",
            "  0%|          | 0/2 [00:00<?, ?it/s]/var/folders/3c/71b8pg6d7j5dht_5h_2n4n_c0000gn/T/ipykernel_10911/1044936714.py:147: UserWarning: Implicit dimension choice for softmax has been deprecated. Change the call to include dim=X as an argument.\n",
            "  final_out = torch.nn.functional.softmax(out)\n",
            "100%|██████████| 2/2 [00:00<00:00,  6.83it/s]\n"
          ]
        },
        {
          "name": "stdout",
          "output_type": "stream",
          "text": [
            "\n",
            "epoch 16\n",
            "\ttrain_loss:0.647 valid_loss:0.671\n",
            "\ttrain_acc:73.37% valid_acc:72.18%\n",
            "\ttrain_f1:0.712 valid_f1:0.699\n",
            "\ttrain_confusion_matrix:\n",
            "[[ 240  311  349]\n",
            " [  83 2107  197]\n",
            " [  86  201 1034]]\n",
            "\tvalid_confusion_matrix:\n",
            "[[ 48  89  76]\n",
            " [ 27 556  54]\n",
            " [ 25  52 234]]\n"
          ]
        },
        {
          "name": "stderr",
          "output_type": "stream",
          "text": [
            "  0%|          | 0/36 [00:00<?, ?it/s]/var/folders/3c/71b8pg6d7j5dht_5h_2n4n_c0000gn/T/ipykernel_10911/1044936714.py:147: UserWarning: Implicit dimension choice for softmax has been deprecated. Change the call to include dim=X as an argument.\n",
            "  final_out = torch.nn.functional.softmax(out)\n",
            "100%|██████████| 36/36 [00:06<00:00,  5.94it/s]\n",
            "  0%|          | 0/2 [00:00<?, ?it/s]/var/folders/3c/71b8pg6d7j5dht_5h_2n4n_c0000gn/T/ipykernel_10911/1044936714.py:147: UserWarning: Implicit dimension choice for softmax has been deprecated. Change the call to include dim=X as an argument.\n",
            "  final_out = torch.nn.functional.softmax(out)\n",
            "100%|██████████| 2/2 [00:00<00:00,  6.56it/s]\n"
          ]
        },
        {
          "name": "stdout",
          "output_type": "stream",
          "text": [
            "\n",
            "epoch 17\n",
            "\ttrain_loss:0.632 valid_loss:0.671\n",
            "\ttrain_acc:74.39% valid_acc:71.15%\n",
            "\ttrain_f1:0.725 valid_f1:0.696\n",
            "\ttrain_confusion_matrix:\n",
            "[[ 265  299  333]\n",
            " [  84 2118  190]\n",
            " [  82  192 1045]]\n",
            "\tvalid_confusion_matrix:\n",
            "[[ 53  81  79]\n",
            " [ 39 540  58]\n",
            " [ 33  45 233]]\n"
          ]
        },
        {
          "name": "stderr",
          "output_type": "stream",
          "text": [
            "  0%|          | 0/36 [00:00<?, ?it/s]/var/folders/3c/71b8pg6d7j5dht_5h_2n4n_c0000gn/T/ipykernel_10911/1044936714.py:147: UserWarning: Implicit dimension choice for softmax has been deprecated. Change the call to include dim=X as an argument.\n",
            "  final_out = torch.nn.functional.softmax(out)\n",
            "100%|██████████| 36/36 [00:05<00:00,  6.04it/s]\n",
            "  0%|          | 0/2 [00:00<?, ?it/s]/var/folders/3c/71b8pg6d7j5dht_5h_2n4n_c0000gn/T/ipykernel_10911/1044936714.py:147: UserWarning: Implicit dimension choice for softmax has been deprecated. Change the call to include dim=X as an argument.\n",
            "  final_out = torch.nn.functional.softmax(out)\n",
            "100%|██████████| 2/2 [00:00<00:00,  6.67it/s]\n"
          ]
        },
        {
          "name": "stdout",
          "output_type": "stream",
          "text": [
            "\n",
            "epoch 18\n",
            "\ttrain_loss:0.629 valid_loss:0.681\n",
            "\ttrain_acc:74.31% valid_acc:71.58%\n",
            "\ttrain_f1:0.727 valid_f1:0.707\n",
            "\ttrain_confusion_matrix:\n",
            "[[ 287  287  327]\n",
            " [ 100 2096  194]\n",
            " [ 105  171 1041]]\n",
            "\tvalid_confusion_matrix:\n",
            "[[ 65  69  79]\n",
            " [ 48 522  67]\n",
            " [ 32  35 244]]\n"
          ]
        },
        {
          "name": "stderr",
          "output_type": "stream",
          "text": [
            "  0%|          | 0/36 [00:00<?, ?it/s]/var/folders/3c/71b8pg6d7j5dht_5h_2n4n_c0000gn/T/ipykernel_10911/1044936714.py:147: UserWarning: Implicit dimension choice for softmax has been deprecated. Change the call to include dim=X as an argument.\n",
            "  final_out = torch.nn.functional.softmax(out)\n",
            "100%|██████████| 36/36 [00:06<00:00,  5.76it/s]\n",
            "  0%|          | 0/2 [00:00<?, ?it/s]/var/folders/3c/71b8pg6d7j5dht_5h_2n4n_c0000gn/T/ipykernel_10911/1044936714.py:147: UserWarning: Implicit dimension choice for softmax has been deprecated. Change the call to include dim=X as an argument.\n",
            "  final_out = torch.nn.functional.softmax(out)\n",
            "100%|██████████| 2/2 [00:00<00:00,  6.61it/s]\n"
          ]
        },
        {
          "name": "stdout",
          "output_type": "stream",
          "text": [
            "\n",
            "epoch 19\n",
            "\ttrain_loss:0.621 valid_loss:0.667\n",
            "\ttrain_acc:74.57% valid_acc:72.52%\n",
            "\ttrain_f1:0.730 valid_f1:0.707\n",
            "\ttrain_confusion_matrix:\n",
            "[[ 287  282  323]\n",
            " [ 107 2098  192]\n",
            " [  88  180 1051]]\n",
            "\tvalid_confusion_matrix:\n",
            "[[ 57  90  66]\n",
            " [ 32 560  45]\n",
            " [ 33  53 225]]\n",
            "Loading saved model from: model_task2.bin\n"
          ]
        },
        {
          "name": "stderr",
          "output_type": "stream",
          "text": [
            "  0%|          | 0/2 [00:00<?, ?it/s]/var/folders/3c/71b8pg6d7j5dht_5h_2n4n_c0000gn/T/ipykernel_10911/1044936714.py:147: UserWarning: Implicit dimension choice for softmax has been deprecated. Change the call to include dim=X as an argument.\n",
            "  final_out = torch.nn.functional.softmax(out)\n",
            "100%|██████████| 2/2 [00:00<00:00,  6.52it/s]\n"
          ]
        },
        {
          "name": "stdout",
          "output_type": "stream",
          "text": [
            "              precision    recall  f1-score   support\n",
            "\n",
            "     Neutral       0.46      0.26      0.33       213\n",
            "    Positive       0.80      0.88      0.84       637\n",
            "    Negative       0.67      0.72      0.69       311\n",
            "\n",
            "    accuracy                           0.72      1161\n",
            "   macro avg       0.64      0.62      0.62      1161\n",
            "weighted avg       0.70      0.72      0.71      1161\n",
            "\n",
            "\n",
            "******************************************************************************************\n",
            "Alpha Size: 0.8\n",
            "Window Size: 8\n",
            "******************************************************************************************\n",
            "\n",
            "train samples:4641\n",
            "valid samples:1161\n"
          ]
        },
        {
          "name": "stderr",
          "output_type": "stream",
          "text": [
            "  0%|          | 0/36 [00:00<?, ?it/s]/var/folders/3c/71b8pg6d7j5dht_5h_2n4n_c0000gn/T/ipykernel_10911/1044936714.py:147: UserWarning: Implicit dimension choice for softmax has been deprecated. Change the call to include dim=X as an argument.\n",
            "  final_out = torch.nn.functional.softmax(out)\n",
            "100%|██████████| 36/36 [00:07<00:00,  4.93it/s]\n",
            "  0%|          | 0/2 [00:00<?, ?it/s]/var/folders/3c/71b8pg6d7j5dht_5h_2n4n_c0000gn/T/ipykernel_10911/1044936714.py:147: UserWarning: Implicit dimension choice for softmax has been deprecated. Change the call to include dim=X as an argument.\n",
            "  final_out = torch.nn.functional.softmax(out)\n",
            "100%|██████████| 2/2 [00:00<00:00,  5.34it/s]\n"
          ]
        },
        {
          "name": "stdout",
          "output_type": "stream",
          "text": [
            "\n",
            "epoch 0\n",
            "\ttrain_loss:1.053 valid_loss:1.028\n",
            "\ttrain_acc:52.60% valid_acc:51.34%\n",
            "\ttrain_f1:0.363 valid_f1:0.348\n",
            "\ttrain_confusion_matrix:\n",
            "[[   0  901    1]\n",
            " [   1 2424    1]\n",
            " [   0 1280    0]]\n",
            "\tvalid_confusion_matrix:\n",
            "[[  0 211   0]\n",
            " [  0 596   0]\n",
            " [  0 354   0]]\n"
          ]
        },
        {
          "name": "stderr",
          "output_type": "stream",
          "text": [
            "  0%|          | 0/36 [00:00<?, ?it/s]/var/folders/3c/71b8pg6d7j5dht_5h_2n4n_c0000gn/T/ipykernel_10911/1044936714.py:147: UserWarning: Implicit dimension choice for softmax has been deprecated. Change the call to include dim=X as an argument.\n",
            "  final_out = torch.nn.functional.softmax(out)\n",
            "100%|██████████| 36/36 [00:07<00:00,  4.90it/s]\n",
            "  0%|          | 0/2 [00:00<?, ?it/s]/var/folders/3c/71b8pg6d7j5dht_5h_2n4n_c0000gn/T/ipykernel_10911/1044936714.py:147: UserWarning: Implicit dimension choice for softmax has been deprecated. Change the call to include dim=X as an argument.\n",
            "  final_out = torch.nn.functional.softmax(out)\n",
            "100%|██████████| 2/2 [00:00<00:00,  5.60it/s]\n"
          ]
        },
        {
          "name": "stdout",
          "output_type": "stream",
          "text": [
            "\n",
            "epoch 1\n",
            "\ttrain_loss:1.003 valid_loss:0.987\n",
            "\ttrain_acc:52.76% valid_acc:51.34%\n",
            "\ttrain_f1:0.364 valid_f1:0.348\n",
            "\ttrain_confusion_matrix:\n",
            "[[   0  902    0]\n",
            " [   0 2431    0]\n",
            " [   0 1275    0]]\n",
            "\tvalid_confusion_matrix:\n",
            "[[  0 211   0]\n",
            " [  0 596   0]\n",
            " [  0 354   0]]\n"
          ]
        },
        {
          "name": "stderr",
          "output_type": "stream",
          "text": [
            "  0%|          | 0/36 [00:00<?, ?it/s]/var/folders/3c/71b8pg6d7j5dht_5h_2n4n_c0000gn/T/ipykernel_10911/1044936714.py:147: UserWarning: Implicit dimension choice for softmax has been deprecated. Change the call to include dim=X as an argument.\n",
            "  final_out = torch.nn.functional.softmax(out)\n",
            "100%|██████████| 36/36 [00:07<00:00,  5.05it/s]\n",
            "  0%|          | 0/2 [00:00<?, ?it/s]/var/folders/3c/71b8pg6d7j5dht_5h_2n4n_c0000gn/T/ipykernel_10911/1044936714.py:147: UserWarning: Implicit dimension choice for softmax has been deprecated. Change the call to include dim=X as an argument.\n",
            "  final_out = torch.nn.functional.softmax(out)\n",
            "100%|██████████| 2/2 [00:00<00:00,  5.02it/s]\n"
          ]
        },
        {
          "name": "stdout",
          "output_type": "stream",
          "text": [
            "\n",
            "epoch 2\n",
            "\ttrain_loss:0.963 valid_loss:0.934\n",
            "\ttrain_acc:52.71% valid_acc:51.42%\n",
            "\ttrain_f1:0.364 valid_f1:0.350\n",
            "\ttrain_confusion_matrix:\n",
            "[[   0  900    0]\n",
            " [   0 2429    0]\n",
            " [   0 1279    0]]\n",
            "\tvalid_confusion_matrix:\n",
            "[[  0 211   0]\n",
            " [  0 596   0]\n",
            " [  0 353   1]]\n"
          ]
        },
        {
          "name": "stderr",
          "output_type": "stream",
          "text": [
            "  0%|          | 0/36 [00:00<?, ?it/s]/var/folders/3c/71b8pg6d7j5dht_5h_2n4n_c0000gn/T/ipykernel_10911/1044936714.py:147: UserWarning: Implicit dimension choice for softmax has been deprecated. Change the call to include dim=X as an argument.\n",
            "  final_out = torch.nn.functional.softmax(out)\n",
            "100%|██████████| 36/36 [00:07<00:00,  4.87it/s]\n",
            "  0%|          | 0/2 [00:00<?, ?it/s]/var/folders/3c/71b8pg6d7j5dht_5h_2n4n_c0000gn/T/ipykernel_10911/1044936714.py:147: UserWarning: Implicit dimension choice for softmax has been deprecated. Change the call to include dim=X as an argument.\n",
            "  final_out = torch.nn.functional.softmax(out)\n",
            "100%|██████████| 2/2 [00:00<00:00,  5.61it/s]\n"
          ]
        },
        {
          "name": "stdout",
          "output_type": "stream",
          "text": [
            "\n",
            "epoch 3\n",
            "\ttrain_loss:0.896 valid_loss:0.854\n",
            "\ttrain_acc:57.03% valid_acc:62.53%\n",
            "\ttrain_f1:0.459 valid_f1:0.553\n",
            "\ttrain_confusion_matrix:\n",
            "[[   0  806   98]\n",
            " [   0 2383   47]\n",
            " [   0 1029  245]]\n",
            "\tvalid_confusion_matrix:\n",
            "[[  0 133  78]\n",
            " [  0 546  50]\n",
            " [  0 174 180]]\n"
          ]
        },
        {
          "name": "stderr",
          "output_type": "stream",
          "text": [
            "  0%|          | 0/36 [00:00<?, ?it/s]/var/folders/3c/71b8pg6d7j5dht_5h_2n4n_c0000gn/T/ipykernel_10911/1044936714.py:147: UserWarning: Implicit dimension choice for softmax has been deprecated. Change the call to include dim=X as an argument.\n",
            "  final_out = torch.nn.functional.softmax(out)\n",
            "100%|██████████| 36/36 [00:07<00:00,  5.14it/s]\n",
            "  0%|          | 0/2 [00:00<?, ?it/s]/var/folders/3c/71b8pg6d7j5dht_5h_2n4n_c0000gn/T/ipykernel_10911/1044936714.py:147: UserWarning: Implicit dimension choice for softmax has been deprecated. Change the call to include dim=X as an argument.\n",
            "  final_out = torch.nn.functional.softmax(out)\n",
            "100%|██████████| 2/2 [00:00<00:00,  5.69it/s]\n"
          ]
        },
        {
          "name": "stdout",
          "output_type": "stream",
          "text": [
            "\n",
            "epoch 4\n",
            "\ttrain_loss:0.834 valid_loss:0.802\n",
            "\ttrain_acc:63.39% valid_acc:66.32%\n",
            "\ttrain_f1:0.565 valid_f1:0.595\n",
            "\ttrain_confusion_matrix:\n",
            "[[   0  457  448]\n",
            " [   0 2108  318]\n",
            " [   0  464  813]]\n",
            "\tvalid_confusion_matrix:\n",
            "[[  0 104 107]\n",
            " [  0 535  61]\n",
            " [  0 119 235]]\n"
          ]
        },
        {
          "name": "stderr",
          "output_type": "stream",
          "text": [
            "  0%|          | 0/36 [00:00<?, ?it/s]/var/folders/3c/71b8pg6d7j5dht_5h_2n4n_c0000gn/T/ipykernel_10911/1044936714.py:147: UserWarning: Implicit dimension choice for softmax has been deprecated. Change the call to include dim=X as an argument.\n",
            "  final_out = torch.nn.functional.softmax(out)\n",
            "100%|██████████| 36/36 [00:07<00:00,  4.90it/s]\n",
            "  0%|          | 0/2 [00:00<?, ?it/s]/var/folders/3c/71b8pg6d7j5dht_5h_2n4n_c0000gn/T/ipykernel_10911/1044936714.py:147: UserWarning: Implicit dimension choice for softmax has been deprecated. Change the call to include dim=X as an argument.\n",
            "  final_out = torch.nn.functional.softmax(out)\n",
            "100%|██████████| 2/2 [00:00<00:00,  4.86it/s]\n"
          ]
        },
        {
          "name": "stdout",
          "output_type": "stream",
          "text": [
            "\n",
            "epoch 5\n",
            "\ttrain_loss:0.787 valid_loss:0.781\n",
            "\ttrain_acc:65.28% valid_acc:67.10%\n",
            "\ttrain_f1:0.585 valid_f1:0.608\n",
            "\ttrain_confusion_matrix:\n",
            "[[   0  407  495]\n",
            " [   0 2099  333]\n",
            " [   0  365  909]]\n",
            "\tvalid_confusion_matrix:\n",
            "[[  0  80 131]\n",
            " [  0 500  96]\n",
            " [  0  75 279]]\n"
          ]
        },
        {
          "name": "stderr",
          "output_type": "stream",
          "text": [
            "  0%|          | 0/36 [00:00<?, ?it/s]/var/folders/3c/71b8pg6d7j5dht_5h_2n4n_c0000gn/T/ipykernel_10911/1044936714.py:147: UserWarning: Implicit dimension choice for softmax has been deprecated. Change the call to include dim=X as an argument.\n",
            "  final_out = torch.nn.functional.softmax(out)\n",
            "100%|██████████| 36/36 [00:07<00:00,  5.13it/s]\n",
            "  0%|          | 0/2 [00:00<?, ?it/s]/var/folders/3c/71b8pg6d7j5dht_5h_2n4n_c0000gn/T/ipykernel_10911/1044936714.py:147: UserWarning: Implicit dimension choice for softmax has been deprecated. Change the call to include dim=X as an argument.\n",
            "  final_out = torch.nn.functional.softmax(out)\n",
            "100%|██████████| 2/2 [00:00<00:00,  5.41it/s]\n"
          ]
        },
        {
          "name": "stdout",
          "output_type": "stream",
          "text": [
            "\n",
            "epoch 6\n",
            "\ttrain_loss:0.761 valid_loss:0.755\n",
            "\ttrain_acc:66.69% valid_acc:68.73%\n",
            "\ttrain_f1:0.601 valid_f1:0.619\n",
            "\ttrain_confusion_matrix:\n",
            "[[   5  378  515]\n",
            " [   1 2084  346]\n",
            " [   0  295  984]]\n",
            "\tvalid_confusion_matrix:\n",
            "[[  0  92 119]\n",
            " [  0 533  63]\n",
            " [  0  89 265]]\n"
          ]
        },
        {
          "name": "stderr",
          "output_type": "stream",
          "text": [
            "  0%|          | 0/36 [00:00<?, ?it/s]/var/folders/3c/71b8pg6d7j5dht_5h_2n4n_c0000gn/T/ipykernel_10911/1044936714.py:147: UserWarning: Implicit dimension choice for softmax has been deprecated. Change the call to include dim=X as an argument.\n",
            "  final_out = torch.nn.functional.softmax(out)\n",
            "100%|██████████| 36/36 [00:06<00:00,  5.24it/s]\n",
            "  0%|          | 0/2 [00:00<?, ?it/s]/var/folders/3c/71b8pg6d7j5dht_5h_2n4n_c0000gn/T/ipykernel_10911/1044936714.py:147: UserWarning: Implicit dimension choice for softmax has been deprecated. Change the call to include dim=X as an argument.\n",
            "  final_out = torch.nn.functional.softmax(out)\n",
            "100%|██████████| 2/2 [00:00<00:00,  5.05it/s]\n"
          ]
        },
        {
          "name": "stdout",
          "output_type": "stream",
          "text": [
            "\n",
            "epoch 7\n",
            "\ttrain_loss:0.737 valid_loss:0.747\n",
            "\ttrain_acc:67.86% valid_acc:69.16%\n",
            "\ttrain_f1:0.613 valid_f1:0.634\n",
            "\ttrain_confusion_matrix:\n",
            "[[  12  396  491]\n",
            " [   2 2114  315]\n",
            " [   1  276 1001]]\n",
            "\tvalid_confusion_matrix:\n",
            "[[  7  87 117]\n",
            " [  1 516  79]\n",
            " [  1  73 280]]\n"
          ]
        },
        {
          "name": "stderr",
          "output_type": "stream",
          "text": [
            "  0%|          | 0/36 [00:00<?, ?it/s]/var/folders/3c/71b8pg6d7j5dht_5h_2n4n_c0000gn/T/ipykernel_10911/1044936714.py:147: UserWarning: Implicit dimension choice for softmax has been deprecated. Change the call to include dim=X as an argument.\n",
            "  final_out = torch.nn.functional.softmax(out)\n",
            "100%|██████████| 36/36 [00:06<00:00,  5.26it/s]\n",
            "  0%|          | 0/2 [00:00<?, ?it/s]/var/folders/3c/71b8pg6d7j5dht_5h_2n4n_c0000gn/T/ipykernel_10911/1044936714.py:147: UserWarning: Implicit dimension choice for softmax has been deprecated. Change the call to include dim=X as an argument.\n",
            "  final_out = torch.nn.functional.softmax(out)\n",
            "100%|██████████| 2/2 [00:00<00:00,  5.93it/s]\n"
          ]
        },
        {
          "name": "stdout",
          "output_type": "stream",
          "text": [
            "\n",
            "epoch 8\n",
            "\ttrain_loss:0.721 valid_loss:0.743\n",
            "\ttrain_acc:69.31% valid_acc:69.16%\n",
            "\ttrain_f1:0.633 valid_f1:0.632\n",
            "\ttrain_confusion_matrix:\n",
            "[[  40  408  456]\n",
            " [   9 2154  267]\n",
            " [   5  269 1000]]\n",
            "\tvalid_confusion_matrix:\n",
            "[[  9 106  96]\n",
            " [  1 545  50]\n",
            " [  4 101 249]]\n"
          ]
        },
        {
          "name": "stderr",
          "output_type": "stream",
          "text": [
            "  0%|          | 0/36 [00:00<?, ?it/s]/var/folders/3c/71b8pg6d7j5dht_5h_2n4n_c0000gn/T/ipykernel_10911/1044936714.py:147: UserWarning: Implicit dimension choice for softmax has been deprecated. Change the call to include dim=X as an argument.\n",
            "  final_out = torch.nn.functional.softmax(out)\n",
            "100%|██████████| 36/36 [00:07<00:00,  5.08it/s]\n",
            "  0%|          | 0/2 [00:00<?, ?it/s]/var/folders/3c/71b8pg6d7j5dht_5h_2n4n_c0000gn/T/ipykernel_10911/1044936714.py:147: UserWarning: Implicit dimension choice for softmax has been deprecated. Change the call to include dim=X as an argument.\n",
            "  final_out = torch.nn.functional.softmax(out)\n",
            "100%|██████████| 2/2 [00:00<00:00,  5.90it/s]\n"
          ]
        },
        {
          "name": "stdout",
          "output_type": "stream",
          "text": [
            "\n",
            "epoch 9\n",
            "\ttrain_loss:0.708 valid_loss:0.725\n",
            "\ttrain_acc:69.60% valid_acc:70.71%\n",
            "\ttrain_f1:0.635 valid_f1:0.663\n",
            "\ttrain_confusion_matrix:\n",
            "[[  40  418  446]\n",
            " [  12 2175  245]\n",
            " [  13  267  992]]\n",
            "\tvalid_confusion_matrix:\n",
            "[[ 22 100  89]\n",
            " [  8 532  56]\n",
            " [  9  78 267]]\n"
          ]
        },
        {
          "name": "stderr",
          "output_type": "stream",
          "text": [
            "  0%|          | 0/36 [00:00<?, ?it/s]/var/folders/3c/71b8pg6d7j5dht_5h_2n4n_c0000gn/T/ipykernel_10911/1044936714.py:147: UserWarning: Implicit dimension choice for softmax has been deprecated. Change the call to include dim=X as an argument.\n",
            "  final_out = torch.nn.functional.softmax(out)\n",
            "100%|██████████| 36/36 [00:06<00:00,  5.41it/s]\n",
            "  0%|          | 0/2 [00:00<?, ?it/s]/var/folders/3c/71b8pg6d7j5dht_5h_2n4n_c0000gn/T/ipykernel_10911/1044936714.py:147: UserWarning: Implicit dimension choice for softmax has been deprecated. Change the call to include dim=X as an argument.\n",
            "  final_out = torch.nn.functional.softmax(out)\n",
            "100%|██████████| 2/2 [00:00<00:00,  5.95it/s]\n"
          ]
        },
        {
          "name": "stdout",
          "output_type": "stream",
          "text": [
            "\n",
            "epoch 10\n",
            "\ttrain_loss:0.695 valid_loss:0.725\n",
            "\ttrain_acc:70.77% valid_acc:70.80%\n",
            "\ttrain_f1:0.655 valid_f1:0.668\n",
            "\ttrain_confusion_matrix:\n",
            "[[  74  404  424]\n",
            " [  26 2175  229]\n",
            " [  18  246 1012]]\n",
            "\tvalid_confusion_matrix:\n",
            "[[ 27  94  90]\n",
            " [ 10 531  55]\n",
            " [ 10  80 264]]\n"
          ]
        },
        {
          "name": "stderr",
          "output_type": "stream",
          "text": [
            "  0%|          | 0/36 [00:00<?, ?it/s]/var/folders/3c/71b8pg6d7j5dht_5h_2n4n_c0000gn/T/ipykernel_10911/1044936714.py:147: UserWarning: Implicit dimension choice for softmax has been deprecated. Change the call to include dim=X as an argument.\n",
            "  final_out = torch.nn.functional.softmax(out)\n",
            "100%|██████████| 36/36 [00:06<00:00,  5.30it/s]\n",
            "  0%|          | 0/2 [00:00<?, ?it/s]/var/folders/3c/71b8pg6d7j5dht_5h_2n4n_c0000gn/T/ipykernel_10911/1044936714.py:147: UserWarning: Implicit dimension choice for softmax has been deprecated. Change the call to include dim=X as an argument.\n",
            "  final_out = torch.nn.functional.softmax(out)\n",
            "100%|██████████| 2/2 [00:00<00:00,  5.40it/s]\n"
          ]
        },
        {
          "name": "stdout",
          "output_type": "stream",
          "text": [
            "\n",
            "epoch 11\n",
            "\ttrain_loss:0.684 valid_loss:0.716\n",
            "\ttrain_acc:71.01% valid_acc:71.32%\n",
            "\ttrain_f1:0.663 valid_f1:0.677\n",
            "\ttrain_confusion_matrix:\n",
            "[[  93  385  422]\n",
            " [  32 2162  238]\n",
            " [  28  231 1017]]\n",
            "\tvalid_confusion_matrix:\n",
            "[[ 30  86  95]\n",
            " [ 13 522  61]\n",
            " [ 12  66 276]]\n"
          ]
        },
        {
          "name": "stderr",
          "output_type": "stream",
          "text": [
            "  0%|          | 0/36 [00:00<?, ?it/s]/var/folders/3c/71b8pg6d7j5dht_5h_2n4n_c0000gn/T/ipykernel_10911/1044936714.py:147: UserWarning: Implicit dimension choice for softmax has been deprecated. Change the call to include dim=X as an argument.\n",
            "  final_out = torch.nn.functional.softmax(out)\n",
            "100%|██████████| 36/36 [00:06<00:00,  5.38it/s]\n",
            "  0%|          | 0/2 [00:00<?, ?it/s]/var/folders/3c/71b8pg6d7j5dht_5h_2n4n_c0000gn/T/ipykernel_10911/1044936714.py:147: UserWarning: Implicit dimension choice for softmax has been deprecated. Change the call to include dim=X as an argument.\n",
            "  final_out = torch.nn.functional.softmax(out)\n",
            "100%|██████████| 2/2 [00:00<00:00,  5.80it/s]\n"
          ]
        },
        {
          "name": "stdout",
          "output_type": "stream",
          "text": [
            "\n",
            "epoch 12\n",
            "\ttrain_loss:0.669 valid_loss:0.711\n",
            "\ttrain_acc:71.81% valid_acc:71.83%\n",
            "\ttrain_f1:0.676 valid_f1:0.687\n",
            "\ttrain_confusion_matrix:\n",
            "[[ 118  367  413]\n",
            " [  40 2182  212]\n",
            " [  39  228 1009]]\n",
            "\tvalid_confusion_matrix:\n",
            "[[ 38  88  85]\n",
            " [ 15 524  57]\n",
            " [ 12  70 272]]\n"
          ]
        },
        {
          "name": "stderr",
          "output_type": "stream",
          "text": [
            "  0%|          | 0/36 [00:00<?, ?it/s]/var/folders/3c/71b8pg6d7j5dht_5h_2n4n_c0000gn/T/ipykernel_10911/1044936714.py:147: UserWarning: Implicit dimension choice for softmax has been deprecated. Change the call to include dim=X as an argument.\n",
            "  final_out = torch.nn.functional.softmax(out)\n",
            "100%|██████████| 36/36 [00:06<00:00,  5.36it/s]\n",
            "  0%|          | 0/2 [00:00<?, ?it/s]/var/folders/3c/71b8pg6d7j5dht_5h_2n4n_c0000gn/T/ipykernel_10911/1044936714.py:147: UserWarning: Implicit dimension choice for softmax has been deprecated. Change the call to include dim=X as an argument.\n",
            "  final_out = torch.nn.functional.softmax(out)\n",
            "100%|██████████| 2/2 [00:00<00:00,  6.05it/s]\n"
          ]
        },
        {
          "name": "stdout",
          "output_type": "stream",
          "text": [
            "\n",
            "epoch 13\n",
            "\ttrain_loss:0.656 valid_loss:0.717\n",
            "\ttrain_acc:72.29% valid_acc:70.71%\n",
            "\ttrain_f1:0.690 valid_f1:0.681\n",
            "\ttrain_confusion_matrix:\n",
            "[[ 167  352  383]\n",
            " [  60 2172  200]\n",
            " [  63  219  992]]\n",
            "\tvalid_confusion_matrix:\n",
            "[[ 46  98  67]\n",
            " [ 17 530  49]\n",
            " [ 28  81 245]]\n"
          ]
        },
        {
          "name": "stderr",
          "output_type": "stream",
          "text": [
            "  0%|          | 0/36 [00:00<?, ?it/s]/var/folders/3c/71b8pg6d7j5dht_5h_2n4n_c0000gn/T/ipykernel_10911/1044936714.py:147: UserWarning: Implicit dimension choice for softmax has been deprecated. Change the call to include dim=X as an argument.\n",
            "  final_out = torch.nn.functional.softmax(out)\n",
            "100%|██████████| 36/36 [00:06<00:00,  5.20it/s]\n",
            "  0%|          | 0/2 [00:00<?, ?it/s]/var/folders/3c/71b8pg6d7j5dht_5h_2n4n_c0000gn/T/ipykernel_10911/1044936714.py:147: UserWarning: Implicit dimension choice for softmax has been deprecated. Change the call to include dim=X as an argument.\n",
            "  final_out = torch.nn.functional.softmax(out)\n",
            "100%|██████████| 2/2 [00:00<00:00,  6.47it/s]\n"
          ]
        },
        {
          "name": "stdout",
          "output_type": "stream",
          "text": [
            "\n",
            "epoch 14\n",
            "\ttrain_loss:0.654 valid_loss:0.709\n",
            "\ttrain_acc:72.87% valid_acc:71.32%\n",
            "\ttrain_f1:0.700 valid_f1:0.692\n",
            "\ttrain_confusion_matrix:\n",
            "[[ 198  346  358]\n",
            " [  64 2177  188]\n",
            " [  71  223  983]]\n",
            "\tvalid_confusion_matrix:\n",
            "[[ 48  76  87]\n",
            " [ 29 505  62]\n",
            " [ 19  60 275]]\n"
          ]
        },
        {
          "name": "stderr",
          "output_type": "stream",
          "text": [
            "  0%|          | 0/36 [00:00<?, ?it/s]/var/folders/3c/71b8pg6d7j5dht_5h_2n4n_c0000gn/T/ipykernel_10911/1044936714.py:147: UserWarning: Implicit dimension choice for softmax has been deprecated. Change the call to include dim=X as an argument.\n",
            "  final_out = torch.nn.functional.softmax(out)\n",
            "100%|██████████| 36/36 [00:06<00:00,  5.27it/s]\n",
            "  0%|          | 0/2 [00:00<?, ?it/s]/var/folders/3c/71b8pg6d7j5dht_5h_2n4n_c0000gn/T/ipykernel_10911/1044936714.py:147: UserWarning: Implicit dimension choice for softmax has been deprecated. Change the call to include dim=X as an argument.\n",
            "  final_out = torch.nn.functional.softmax(out)\n",
            "100%|██████████| 2/2 [00:00<00:00,  5.60it/s]\n"
          ]
        },
        {
          "name": "stdout",
          "output_type": "stream",
          "text": [
            "\n",
            "epoch 15\n",
            "\ttrain_loss:0.637 valid_loss:0.706\n",
            "\ttrain_acc:73.63% valid_acc:72.27%\n",
            "\ttrain_f1:0.714 valid_f1:0.705\n",
            "\ttrain_confusion_matrix:\n",
            "[[ 239  326  338]\n",
            " [  90 2163  178]\n",
            " [  93  190  991]]\n",
            "\tvalid_confusion_matrix:\n",
            "[[ 57  75  79]\n",
            " [ 30 505  61]\n",
            " [ 21  56 277]]\n"
          ]
        },
        {
          "name": "stderr",
          "output_type": "stream",
          "text": [
            "  0%|          | 0/36 [00:00<?, ?it/s]/var/folders/3c/71b8pg6d7j5dht_5h_2n4n_c0000gn/T/ipykernel_10911/1044936714.py:147: UserWarning: Implicit dimension choice for softmax has been deprecated. Change the call to include dim=X as an argument.\n",
            "  final_out = torch.nn.functional.softmax(out)\n",
            "100%|██████████| 36/36 [00:06<00:00,  5.34it/s]\n",
            "  0%|          | 0/2 [00:00<?, ?it/s]/var/folders/3c/71b8pg6d7j5dht_5h_2n4n_c0000gn/T/ipykernel_10911/1044936714.py:147: UserWarning: Implicit dimension choice for softmax has been deprecated. Change the call to include dim=X as an argument.\n",
            "  final_out = torch.nn.functional.softmax(out)\n",
            "100%|██████████| 2/2 [00:00<00:00,  6.50it/s]\n"
          ]
        },
        {
          "name": "stdout",
          "output_type": "stream",
          "text": [
            "\n",
            "epoch 16\n",
            "\ttrain_loss:0.629 valid_loss:0.705\n",
            "\ttrain_acc:73.74% valid_acc:72.27%\n",
            "\ttrain_f1:0.714 valid_f1:0.707\n",
            "\ttrain_confusion_matrix:\n",
            "[[ 227  333  340]\n",
            " [  84 2174  177]\n",
            " [  86  190  997]]\n",
            "\tvalid_confusion_matrix:\n",
            "[[ 63  74  74]\n",
            " [ 24 512  60]\n",
            " [ 31  59 264]]\n"
          ]
        },
        {
          "name": "stderr",
          "output_type": "stream",
          "text": [
            "  0%|          | 0/36 [00:00<?, ?it/s]/var/folders/3c/71b8pg6d7j5dht_5h_2n4n_c0000gn/T/ipykernel_10911/1044936714.py:147: UserWarning: Implicit dimension choice for softmax has been deprecated. Change the call to include dim=X as an argument.\n",
            "  final_out = torch.nn.functional.softmax(out)\n",
            "100%|██████████| 36/36 [00:06<00:00,  5.24it/s]\n",
            "  0%|          | 0/2 [00:00<?, ?it/s]/var/folders/3c/71b8pg6d7j5dht_5h_2n4n_c0000gn/T/ipykernel_10911/1044936714.py:147: UserWarning: Implicit dimension choice for softmax has been deprecated. Change the call to include dim=X as an argument.\n",
            "  final_out = torch.nn.functional.softmax(out)\n",
            "100%|██████████| 2/2 [00:00<00:00,  6.13it/s]\n"
          ]
        },
        {
          "name": "stdout",
          "output_type": "stream",
          "text": [
            "\n",
            "epoch 17\n",
            "\ttrain_loss:0.625 valid_loss:0.711\n",
            "\ttrain_acc:74.02% valid_acc:70.63%\n",
            "\ttrain_f1:0.722 valid_f1:0.690\n",
            "\ttrain_confusion_matrix:\n",
            "[[ 267  309  323]\n",
            " [ 105 2159  166]\n",
            " [ 112  182  985]]\n",
            "\tvalid_confusion_matrix:\n",
            "[[ 60  85  66]\n",
            " [ 25 517  54]\n",
            " [ 41  70 243]]\n"
          ]
        },
        {
          "name": "stderr",
          "output_type": "stream",
          "text": [
            "  0%|          | 0/36 [00:00<?, ?it/s]/var/folders/3c/71b8pg6d7j5dht_5h_2n4n_c0000gn/T/ipykernel_10911/1044936714.py:147: UserWarning: Implicit dimension choice for softmax has been deprecated. Change the call to include dim=X as an argument.\n",
            "  final_out = torch.nn.functional.softmax(out)\n",
            "100%|██████████| 36/36 [00:06<00:00,  5.24it/s]\n",
            "  0%|          | 0/2 [00:00<?, ?it/s]/var/folders/3c/71b8pg6d7j5dht_5h_2n4n_c0000gn/T/ipykernel_10911/1044936714.py:147: UserWarning: Implicit dimension choice for softmax has been deprecated. Change the call to include dim=X as an argument.\n",
            "  final_out = torch.nn.functional.softmax(out)\n",
            "100%|██████████| 2/2 [00:00<00:00,  5.87it/s]\n"
          ]
        },
        {
          "name": "stdout",
          "output_type": "stream",
          "text": [
            "\n",
            "epoch 18\n",
            "\ttrain_loss:0.613 valid_loss:0.699\n",
            "\ttrain_acc:74.85% valid_acc:71.58%\n",
            "\ttrain_f1:0.731 valid_f1:0.702\n",
            "\ttrain_confusion_matrix:\n",
            "[[ 286  302  311]\n",
            " [  96 2173  162]\n",
            " [ 104  184  990]]\n",
            "\tvalid_confusion_matrix:\n",
            "[[ 66  85  60]\n",
            " [ 29 516  51]\n",
            " [ 41  64 249]]\n"
          ]
        },
        {
          "name": "stderr",
          "output_type": "stream",
          "text": [
            "  0%|          | 0/36 [00:00<?, ?it/s]/var/folders/3c/71b8pg6d7j5dht_5h_2n4n_c0000gn/T/ipykernel_10911/1044936714.py:147: UserWarning: Implicit dimension choice for softmax has been deprecated. Change the call to include dim=X as an argument.\n",
            "  final_out = torch.nn.functional.softmax(out)\n",
            "100%|██████████| 36/36 [00:06<00:00,  5.39it/s]\n",
            "  0%|          | 0/2 [00:00<?, ?it/s]/var/folders/3c/71b8pg6d7j5dht_5h_2n4n_c0000gn/T/ipykernel_10911/1044936714.py:147: UserWarning: Implicit dimension choice for softmax has been deprecated. Change the call to include dim=X as an argument.\n",
            "  final_out = torch.nn.functional.softmax(out)\n",
            "100%|██████████| 2/2 [00:00<00:00,  6.02it/s]\n"
          ]
        },
        {
          "name": "stdout",
          "output_type": "stream",
          "text": [
            "\n",
            "epoch 19\n",
            "\ttrain_loss:0.605 valid_loss:0.708\n",
            "\ttrain_acc:74.80% valid_acc:71.49%\n",
            "\ttrain_f1:0.731 valid_f1:0.700\n",
            "\ttrain_confusion_matrix:\n",
            "[[ 291  299  315]\n",
            " [ 105 2169  153]\n",
            " [ 111  178  987]]\n",
            "\tvalid_confusion_matrix:\n",
            "[[ 63  87  61]\n",
            " [ 27 521  48]\n",
            " [ 42  66 246]]\n",
            "Loading saved model from: model_task2.bin\n"
          ]
        },
        {
          "name": "stderr",
          "output_type": "stream",
          "text": [
            "  0%|          | 0/2 [00:00<?, ?it/s]/var/folders/3c/71b8pg6d7j5dht_5h_2n4n_c0000gn/T/ipykernel_10911/1044936714.py:147: UserWarning: Implicit dimension choice for softmax has been deprecated. Change the call to include dim=X as an argument.\n",
            "  final_out = torch.nn.functional.softmax(out)\n",
            "100%|██████████| 2/2 [00:00<00:00,  6.64it/s]\n"
          ]
        },
        {
          "name": "stdout",
          "output_type": "stream",
          "text": [
            "              precision    recall  f1-score   support\n",
            "\n",
            "     Neutral       0.50      0.32      0.39       211\n",
            "    Positive       0.78      0.87      0.82       596\n",
            "    Negative       0.69      0.70      0.69       354\n",
            "\n",
            "    accuracy                           0.72      1161\n",
            "   macro avg       0.65      0.63      0.63      1161\n",
            "weighted avg       0.70      0.72      0.70      1161\n",
            "\n",
            "\n",
            "******************************************************************************************\n",
            "Alpha Size: 1\n",
            "Window Size: 2\n",
            "******************************************************************************************\n",
            "\n",
            "train samples:4641\n",
            "valid samples:1161\n"
          ]
        },
        {
          "name": "stderr",
          "output_type": "stream",
          "text": [
            "  0%|          | 0/36 [00:00<?, ?it/s]/var/folders/3c/71b8pg6d7j5dht_5h_2n4n_c0000gn/T/ipykernel_10911/1044936714.py:147: UserWarning: Implicit dimension choice for softmax has been deprecated. Change the call to include dim=X as an argument.\n",
            "  final_out = torch.nn.functional.softmax(out)\n",
            "100%|██████████| 36/36 [00:05<00:00,  6.05it/s]\n",
            "  0%|          | 0/2 [00:00<?, ?it/s]/var/folders/3c/71b8pg6d7j5dht_5h_2n4n_c0000gn/T/ipykernel_10911/1044936714.py:147: UserWarning: Implicit dimension choice for softmax has been deprecated. Change the call to include dim=X as an argument.\n",
            "  final_out = torch.nn.functional.softmax(out)\n",
            "100%|██████████| 2/2 [00:00<00:00,  6.35it/s]\n"
          ]
        },
        {
          "name": "stdout",
          "output_type": "stream",
          "text": [
            "\n",
            "epoch 0\n",
            "\ttrain_loss:1.054 valid_loss:1.016\n",
            "\ttrain_acc:52.37% valid_acc:52.45%\n",
            "\ttrain_f1:0.366 valid_f1:0.361\n",
            "\ttrain_confusion_matrix:\n",
            "[[  11  882    0]\n",
            " [  16 2402    1]\n",
            " [  15 1281    0]]\n",
            "\tvalid_confusion_matrix:\n",
            "[[  0 222   0]\n",
            " [  0 609   0]\n",
            " [  0 330   0]]\n"
          ]
        },
        {
          "name": "stderr",
          "output_type": "stream",
          "text": [
            "  0%|          | 0/36 [00:00<?, ?it/s]/var/folders/3c/71b8pg6d7j5dht_5h_2n4n_c0000gn/T/ipykernel_10911/1044936714.py:147: UserWarning: Implicit dimension choice for softmax has been deprecated. Change the call to include dim=X as an argument.\n",
            "  final_out = torch.nn.functional.softmax(out)\n",
            "100%|██████████| 36/36 [00:05<00:00,  6.31it/s]\n",
            "  0%|          | 0/2 [00:00<?, ?it/s]/var/folders/3c/71b8pg6d7j5dht_5h_2n4n_c0000gn/T/ipykernel_10911/1044936714.py:147: UserWarning: Implicit dimension choice for softmax has been deprecated. Change the call to include dim=X as an argument.\n",
            "  final_out = torch.nn.functional.softmax(out)\n",
            "100%|██████████| 2/2 [00:00<00:00,  6.73it/s]\n"
          ]
        },
        {
          "name": "stdout",
          "output_type": "stream",
          "text": [
            "\n",
            "epoch 1\n",
            "\ttrain_loss:1.000 valid_loss:0.970\n",
            "\ttrain_acc:52.54% valid_acc:52.45%\n",
            "\ttrain_f1:0.362 valid_f1:0.361\n",
            "\ttrain_confusion_matrix:\n",
            "[[   0  886    0]\n",
            " [   0 2421    0]\n",
            " [   0 1301    0]]\n",
            "\tvalid_confusion_matrix:\n",
            "[[  0 222   0]\n",
            " [  0 609   0]\n",
            " [  0 330   0]]\n"
          ]
        },
        {
          "name": "stderr",
          "output_type": "stream",
          "text": [
            "  0%|          | 0/36 [00:00<?, ?it/s]/var/folders/3c/71b8pg6d7j5dht_5h_2n4n_c0000gn/T/ipykernel_10911/1044936714.py:147: UserWarning: Implicit dimension choice for softmax has been deprecated. Change the call to include dim=X as an argument.\n",
            "  final_out = torch.nn.functional.softmax(out)\n",
            "100%|██████████| 36/36 [00:05<00:00,  6.16it/s]\n",
            "  0%|          | 0/2 [00:00<?, ?it/s]/var/folders/3c/71b8pg6d7j5dht_5h_2n4n_c0000gn/T/ipykernel_10911/1044936714.py:147: UserWarning: Implicit dimension choice for softmax has been deprecated. Change the call to include dim=X as an argument.\n",
            "  final_out = torch.nn.functional.softmax(out)\n",
            "100%|██████████| 2/2 [00:00<00:00,  6.71it/s]\n"
          ]
        },
        {
          "name": "stdout",
          "output_type": "stream",
          "text": [
            "\n",
            "epoch 2\n",
            "\ttrain_loss:0.962 valid_loss:0.923\n",
            "\ttrain_acc:52.52% valid_acc:52.80%\n",
            "\ttrain_f1:0.364 valid_f1:0.370\n",
            "\ttrain_confusion_matrix:\n",
            "[[   0  889    1]\n",
            " [   0 2411    1]\n",
            " [   0 1297    9]]\n",
            "\tvalid_confusion_matrix:\n",
            "[[  0 220   2]\n",
            " [  0 608   1]\n",
            " [  0 325   5]]\n"
          ]
        },
        {
          "name": "stderr",
          "output_type": "stream",
          "text": [
            "  0%|          | 0/36 [00:00<?, ?it/s]/var/folders/3c/71b8pg6d7j5dht_5h_2n4n_c0000gn/T/ipykernel_10911/1044936714.py:147: UserWarning: Implicit dimension choice for softmax has been deprecated. Change the call to include dim=X as an argument.\n",
            "  final_out = torch.nn.functional.softmax(out)\n",
            "100%|██████████| 36/36 [00:05<00:00,  6.27it/s]\n",
            "  0%|          | 0/2 [00:00<?, ?it/s]/var/folders/3c/71b8pg6d7j5dht_5h_2n4n_c0000gn/T/ipykernel_10911/1044936714.py:147: UserWarning: Implicit dimension choice for softmax has been deprecated. Change the call to include dim=X as an argument.\n",
            "  final_out = torch.nn.functional.softmax(out)\n",
            "100%|██████████| 2/2 [00:00<00:00,  5.52it/s]\n"
          ]
        },
        {
          "name": "stdout",
          "output_type": "stream",
          "text": [
            "\n",
            "epoch 3\n",
            "\ttrain_loss:0.893 valid_loss:0.857\n",
            "\ttrain_acc:58.59% valid_acc:62.79%\n",
            "\ttrain_f1:0.497 valid_f1:0.558\n",
            "\ttrain_confusion_matrix:\n",
            "[[   0  688  204]\n",
            " [   0 2271  138]\n",
            " [   0  878  429]]\n",
            "\tvalid_confusion_matrix:\n",
            "[[  0 126  96]\n",
            " [  0 538  71]\n",
            " [  0 139 191]]\n"
          ]
        },
        {
          "name": "stderr",
          "output_type": "stream",
          "text": [
            "  0%|          | 0/36 [00:00<?, ?it/s]/var/folders/3c/71b8pg6d7j5dht_5h_2n4n_c0000gn/T/ipykernel_10911/1044936714.py:147: UserWarning: Implicit dimension choice for softmax has been deprecated. Change the call to include dim=X as an argument.\n",
            "  final_out = torch.nn.functional.softmax(out)\n",
            "100%|██████████| 36/36 [00:05<00:00,  6.39it/s]\n",
            "  0%|          | 0/2 [00:00<?, ?it/s]/var/folders/3c/71b8pg6d7j5dht_5h_2n4n_c0000gn/T/ipykernel_10911/1044936714.py:147: UserWarning: Implicit dimension choice for softmax has been deprecated. Change the call to include dim=X as an argument.\n",
            "  final_out = torch.nn.functional.softmax(out)\n",
            "100%|██████████| 2/2 [00:00<00:00,  6.93it/s]\n"
          ]
        },
        {
          "name": "stdout",
          "output_type": "stream",
          "text": [
            "\n",
            "epoch 4\n",
            "\ttrain_loss:0.835 valid_loss:0.829\n",
            "\ttrain_acc:63.80% valid_acc:65.12%\n",
            "\ttrain_f1:0.571 valid_f1:0.586\n",
            "\ttrain_confusion_matrix:\n",
            "[[   0  428  461]\n",
            " [   0 2080  338]\n",
            " [   0  441  860]]\n",
            "\tvalid_confusion_matrix:\n",
            "[[  0  93 129]\n",
            " [  0 514  95]\n",
            " [  0  88 242]]\n"
          ]
        },
        {
          "name": "stderr",
          "output_type": "stream",
          "text": [
            "  0%|          | 0/36 [00:00<?, ?it/s]/var/folders/3c/71b8pg6d7j5dht_5h_2n4n_c0000gn/T/ipykernel_10911/1044936714.py:147: UserWarning: Implicit dimension choice for softmax has been deprecated. Change the call to include dim=X as an argument.\n",
            "  final_out = torch.nn.functional.softmax(out)\n",
            "100%|██████████| 36/36 [00:05<00:00,  6.21it/s]\n",
            "  0%|          | 0/2 [00:00<?, ?it/s]/var/folders/3c/71b8pg6d7j5dht_5h_2n4n_c0000gn/T/ipykernel_10911/1044936714.py:147: UserWarning: Implicit dimension choice for softmax has been deprecated. Change the call to include dim=X as an argument.\n",
            "  final_out = torch.nn.functional.softmax(out)\n",
            "100%|██████████| 2/2 [00:00<00:00,  7.38it/s]\n"
          ]
        },
        {
          "name": "stdout",
          "output_type": "stream",
          "text": [
            "\n",
            "epoch 5\n",
            "\ttrain_loss:0.795 valid_loss:0.811\n",
            "\ttrain_acc:65.76% valid_acc:65.46%\n",
            "\ttrain_f1:0.590 valid_f1:0.591\n",
            "\ttrain_confusion_matrix:\n",
            "[[   0  398  490]\n",
            " [   0 2078  338]\n",
            " [   0  352  952]]\n",
            "\tvalid_confusion_matrix:\n",
            "[[  0  90 132]\n",
            " [  0 503 106]\n",
            " [  0  73 257]]\n"
          ]
        },
        {
          "name": "stderr",
          "output_type": "stream",
          "text": [
            "  0%|          | 0/36 [00:00<?, ?it/s]/var/folders/3c/71b8pg6d7j5dht_5h_2n4n_c0000gn/T/ipykernel_10911/1044936714.py:147: UserWarning: Implicit dimension choice for softmax has been deprecated. Change the call to include dim=X as an argument.\n",
            "  final_out = torch.nn.functional.softmax(out)\n",
            "100%|██████████| 36/36 [00:05<00:00,  6.18it/s]\n",
            "  0%|          | 0/2 [00:00<?, ?it/s]/var/folders/3c/71b8pg6d7j5dht_5h_2n4n_c0000gn/T/ipykernel_10911/1044936714.py:147: UserWarning: Implicit dimension choice for softmax has been deprecated. Change the call to include dim=X as an argument.\n",
            "  final_out = torch.nn.functional.softmax(out)\n",
            "100%|██████████| 2/2 [00:00<00:00,  7.33it/s]\n"
          ]
        },
        {
          "name": "stdout",
          "output_type": "stream",
          "text": [
            "\n",
            "epoch 6\n",
            "\ttrain_loss:0.768 valid_loss:0.786\n",
            "\ttrain_acc:67.23% valid_acc:67.01%\n",
            "\ttrain_f1:0.604 valid_f1:0.606\n",
            "\ttrain_confusion_matrix:\n",
            "[[   3  393  496]\n",
            " [   0 2099  315]\n",
            " [   1  305  996]]\n",
            "\tvalid_confusion_matrix:\n",
            "[[  3 104 115]\n",
            " [  0 523  86]\n",
            " [  0  78 252]]\n"
          ]
        },
        {
          "name": "stderr",
          "output_type": "stream",
          "text": [
            "  0%|          | 0/36 [00:00<?, ?it/s]/var/folders/3c/71b8pg6d7j5dht_5h_2n4n_c0000gn/T/ipykernel_10911/1044936714.py:147: UserWarning: Implicit dimension choice for softmax has been deprecated. Change the call to include dim=X as an argument.\n",
            "  final_out = torch.nn.functional.softmax(out)\n",
            "100%|██████████| 36/36 [00:05<00:00,  6.19it/s]\n",
            "  0%|          | 0/2 [00:00<?, ?it/s]/var/folders/3c/71b8pg6d7j5dht_5h_2n4n_c0000gn/T/ipykernel_10911/1044936714.py:147: UserWarning: Implicit dimension choice for softmax has been deprecated. Change the call to include dim=X as an argument.\n",
            "  final_out = torch.nn.functional.softmax(out)\n",
            "100%|██████████| 2/2 [00:00<00:00,  6.75it/s]\n"
          ]
        },
        {
          "name": "stdout",
          "output_type": "stream",
          "text": [
            "\n",
            "epoch 7\n",
            "\ttrain_loss:0.749 valid_loss:0.774\n",
            "\ttrain_acc:67.77% valid_acc:67.53%\n",
            "\ttrain_f1:0.613 valid_f1:0.615\n",
            "\ttrain_confusion_matrix:\n",
            "[[  17  402  468]\n",
            " [   1 2115  305]\n",
            " [   2  307  991]]\n",
            "\tvalid_confusion_matrix:\n",
            "[[  7  98 117]\n",
            " [  0 525  84]\n",
            " [  1  77 252]]\n"
          ]
        },
        {
          "name": "stderr",
          "output_type": "stream",
          "text": [
            "  0%|          | 0/36 [00:00<?, ?it/s]/var/folders/3c/71b8pg6d7j5dht_5h_2n4n_c0000gn/T/ipykernel_10911/1044936714.py:147: UserWarning: Implicit dimension choice for softmax has been deprecated. Change the call to include dim=X as an argument.\n",
            "  final_out = torch.nn.functional.softmax(out)\n",
            "100%|██████████| 36/36 [00:05<00:00,  6.23it/s]\n",
            "  0%|          | 0/2 [00:00<?, ?it/s]/var/folders/3c/71b8pg6d7j5dht_5h_2n4n_c0000gn/T/ipykernel_10911/1044936714.py:147: UserWarning: Implicit dimension choice for softmax has been deprecated. Change the call to include dim=X as an argument.\n",
            "  final_out = torch.nn.functional.softmax(out)\n",
            "100%|██████████| 2/2 [00:00<00:00,  6.88it/s]\n"
          ]
        },
        {
          "name": "stdout",
          "output_type": "stream",
          "text": [
            "\n",
            "epoch 8\n",
            "\ttrain_loss:0.732 valid_loss:0.772\n",
            "\ttrain_acc:68.58% valid_acc:67.96%\n",
            "\ttrain_f1:0.626 valid_f1:0.623\n",
            "\ttrain_confusion_matrix:\n",
            "[[  34  401  452]\n",
            " [   3 2130  290]\n",
            " [   6  296  996]]\n",
            "\tvalid_confusion_matrix:\n",
            "[[  9  94 119]\n",
            " [  2 519  88]\n",
            " [  2  67 261]]\n"
          ]
        },
        {
          "name": "stderr",
          "output_type": "stream",
          "text": [
            "  0%|          | 0/36 [00:00<?, ?it/s]/var/folders/3c/71b8pg6d7j5dht_5h_2n4n_c0000gn/T/ipykernel_10911/1044936714.py:147: UserWarning: Implicit dimension choice for softmax has been deprecated. Change the call to include dim=X as an argument.\n",
            "  final_out = torch.nn.functional.softmax(out)\n",
            "100%|██████████| 36/36 [00:05<00:00,  6.31it/s]\n",
            "  0%|          | 0/2 [00:00<?, ?it/s]/var/folders/3c/71b8pg6d7j5dht_5h_2n4n_c0000gn/T/ipykernel_10911/1044936714.py:147: UserWarning: Implicit dimension choice for softmax has been deprecated. Change the call to include dim=X as an argument.\n",
            "  final_out = torch.nn.functional.softmax(out)\n",
            "100%|██████████| 2/2 [00:00<00:00,  6.84it/s]\n"
          ]
        },
        {
          "name": "stdout",
          "output_type": "stream",
          "text": [
            "\n",
            "epoch 9\n",
            "\ttrain_loss:0.724 valid_loss:0.770\n",
            "\ttrain_acc:69.75% valid_acc:67.10%\n",
            "\ttrain_f1:0.641 valid_f1:0.620\n",
            "\ttrain_confusion_matrix:\n",
            "[[  54  407  432]\n",
            " [   9 2144  262]\n",
            " [   3  281 1016]]\n",
            "\tvalid_confusion_matrix:\n",
            "[[ 14 104 104]\n",
            " [  6 518  85]\n",
            " [  3  80 247]]\n"
          ]
        },
        {
          "name": "stderr",
          "output_type": "stream",
          "text": [
            "  0%|          | 0/36 [00:00<?, ?it/s]/var/folders/3c/71b8pg6d7j5dht_5h_2n4n_c0000gn/T/ipykernel_10911/1044936714.py:147: UserWarning: Implicit dimension choice for softmax has been deprecated. Change the call to include dim=X as an argument.\n",
            "  final_out = torch.nn.functional.softmax(out)\n",
            "100%|██████████| 36/36 [00:05<00:00,  6.38it/s]\n",
            "  0%|          | 0/2 [00:00<?, ?it/s]/var/folders/3c/71b8pg6d7j5dht_5h_2n4n_c0000gn/T/ipykernel_10911/1044936714.py:147: UserWarning: Implicit dimension choice for softmax has been deprecated. Change the call to include dim=X as an argument.\n",
            "  final_out = torch.nn.functional.softmax(out)\n",
            "100%|██████████| 2/2 [00:00<00:00,  6.89it/s]\n"
          ]
        },
        {
          "name": "stdout",
          "output_type": "stream",
          "text": [
            "\n",
            "epoch 10\n",
            "\ttrain_loss:0.711 valid_loss:0.755\n",
            "\ttrain_acc:70.25% valid_acc:68.56%\n",
            "\ttrain_f1:0.655 valid_f1:0.639\n",
            "\ttrain_confusion_matrix:\n",
            "[[  90  397  404]\n",
            " [  16 2155  249]\n",
            " [  21  284  992]]\n",
            "\tvalid_confusion_matrix:\n",
            "[[ 19  90 113]\n",
            " [  8 523  78]\n",
            " [  4  72 254]]\n"
          ]
        },
        {
          "name": "stderr",
          "output_type": "stream",
          "text": [
            "  0%|          | 0/36 [00:00<?, ?it/s]/var/folders/3c/71b8pg6d7j5dht_5h_2n4n_c0000gn/T/ipykernel_10911/1044936714.py:147: UserWarning: Implicit dimension choice for softmax has been deprecated. Change the call to include dim=X as an argument.\n",
            "  final_out = torch.nn.functional.softmax(out)\n",
            "100%|██████████| 36/36 [00:05<00:00,  6.33it/s]\n",
            "  0%|          | 0/2 [00:00<?, ?it/s]/var/folders/3c/71b8pg6d7j5dht_5h_2n4n_c0000gn/T/ipykernel_10911/1044936714.py:147: UserWarning: Implicit dimension choice for softmax has been deprecated. Change the call to include dim=X as an argument.\n",
            "  final_out = torch.nn.functional.softmax(out)\n",
            "100%|██████████| 2/2 [00:00<00:00,  6.45it/s]\n"
          ]
        },
        {
          "name": "stdout",
          "output_type": "stream",
          "text": [
            "\n",
            "epoch 11\n",
            "\ttrain_loss:0.699 valid_loss:0.753\n",
            "\ttrain_acc:71.07% valid_acc:69.16%\n",
            "\ttrain_f1:0.670 valid_f1:0.661\n",
            "\ttrain_confusion_matrix:\n",
            "[[ 123  374  395]\n",
            " [  28 2149  236]\n",
            " [  35  265 1003]]\n",
            "\tvalid_confusion_matrix:\n",
            "[[ 39  91  92]\n",
            " [ 16 524  69]\n",
            " [ 17  73 240]]\n"
          ]
        },
        {
          "name": "stderr",
          "output_type": "stream",
          "text": [
            "  0%|          | 0/36 [00:00<?, ?it/s]/var/folders/3c/71b8pg6d7j5dht_5h_2n4n_c0000gn/T/ipykernel_10911/1044936714.py:147: UserWarning: Implicit dimension choice for softmax has been deprecated. Change the call to include dim=X as an argument.\n",
            "  final_out = torch.nn.functional.softmax(out)\n",
            "100%|██████████| 36/36 [00:05<00:00,  6.43it/s]\n",
            "  0%|          | 0/2 [00:00<?, ?it/s]/var/folders/3c/71b8pg6d7j5dht_5h_2n4n_c0000gn/T/ipykernel_10911/1044936714.py:147: UserWarning: Implicit dimension choice for softmax has been deprecated. Change the call to include dim=X as an argument.\n",
            "  final_out = torch.nn.functional.softmax(out)\n",
            "100%|██████████| 2/2 [00:00<00:00,  6.61it/s]\n"
          ]
        },
        {
          "name": "stdout",
          "output_type": "stream",
          "text": [
            "\n",
            "epoch 12\n",
            "\ttrain_loss:0.688 valid_loss:0.751\n",
            "\ttrain_acc:71.66% valid_acc:68.56%\n",
            "\ttrain_f1:0.684 valid_f1:0.668\n",
            "\ttrain_confusion_matrix:\n",
            "[[ 166  350  377]\n",
            " [  44 2135  237]\n",
            " [  52  246 1001]]\n",
            "\tvalid_confusion_matrix:\n",
            "[[ 52  76  94]\n",
            " [ 33 502  74]\n",
            " [ 30  58 242]]\n"
          ]
        },
        {
          "name": "stderr",
          "output_type": "stream",
          "text": [
            "  0%|          | 0/36 [00:00<?, ?it/s]/var/folders/3c/71b8pg6d7j5dht_5h_2n4n_c0000gn/T/ipykernel_10911/1044936714.py:147: UserWarning: Implicit dimension choice for softmax has been deprecated. Change the call to include dim=X as an argument.\n",
            "  final_out = torch.nn.functional.softmax(out)\n",
            "100%|██████████| 36/36 [00:06<00:00,  5.98it/s]\n",
            "  0%|          | 0/2 [00:00<?, ?it/s]/var/folders/3c/71b8pg6d7j5dht_5h_2n4n_c0000gn/T/ipykernel_10911/1044936714.py:147: UserWarning: Implicit dimension choice for softmax has been deprecated. Change the call to include dim=X as an argument.\n",
            "  final_out = torch.nn.functional.softmax(out)\n",
            "100%|██████████| 2/2 [00:00<00:00,  6.63it/s]\n"
          ]
        },
        {
          "name": "stdout",
          "output_type": "stream",
          "text": [
            "\n",
            "epoch 13\n",
            "\ttrain_loss:0.680 valid_loss:0.748\n",
            "\ttrain_acc:71.77% valid_acc:69.42%\n",
            "\ttrain_f1:0.692 valid_f1:0.668\n",
            "\ttrain_confusion_matrix:\n",
            "[[ 205  349  337]\n",
            " [  72 2124  222]\n",
            " [  70  251  978]]\n",
            "\tvalid_confusion_matrix:\n",
            "[[ 44  86  92]\n",
            " [ 21 523  65]\n",
            " [ 21  70 239]]\n"
          ]
        },
        {
          "name": "stderr",
          "output_type": "stream",
          "text": [
            "  0%|          | 0/36 [00:00<?, ?it/s]/var/folders/3c/71b8pg6d7j5dht_5h_2n4n_c0000gn/T/ipykernel_10911/1044936714.py:147: UserWarning: Implicit dimension choice for softmax has been deprecated. Change the call to include dim=X as an argument.\n",
            "  final_out = torch.nn.functional.softmax(out)\n",
            "100%|██████████| 36/36 [00:05<00:00,  6.34it/s]\n",
            "  0%|          | 0/2 [00:00<?, ?it/s]/var/folders/3c/71b8pg6d7j5dht_5h_2n4n_c0000gn/T/ipykernel_10911/1044936714.py:147: UserWarning: Implicit dimension choice for softmax has been deprecated. Change the call to include dim=X as an argument.\n",
            "  final_out = torch.nn.functional.softmax(out)\n",
            "100%|██████████| 2/2 [00:00<00:00,  6.90it/s]\n"
          ]
        },
        {
          "name": "stdout",
          "output_type": "stream",
          "text": [
            "\n",
            "epoch 14\n",
            "\ttrain_loss:0.667 valid_loss:0.747\n",
            "\ttrain_acc:72.53% valid_acc:69.85%\n",
            "\ttrain_f1:0.702 valid_f1:0.684\n",
            "\ttrain_confusion_matrix:\n",
            "[[ 224  328  338]\n",
            " [  66 2137  216]\n",
            " [  82  236  981]]\n",
            "\tvalid_confusion_matrix:\n",
            "[[ 66  79  77]\n",
            " [ 36 514  59]\n",
            " [ 33  66 231]]\n"
          ]
        },
        {
          "name": "stderr",
          "output_type": "stream",
          "text": [
            "  0%|          | 0/36 [00:00<?, ?it/s]/var/folders/3c/71b8pg6d7j5dht_5h_2n4n_c0000gn/T/ipykernel_10911/1044936714.py:147: UserWarning: Implicit dimension choice for softmax has been deprecated. Change the call to include dim=X as an argument.\n",
            "  final_out = torch.nn.functional.softmax(out)\n",
            "100%|██████████| 36/36 [00:05<00:00,  6.27it/s]\n",
            "  0%|          | 0/2 [00:00<?, ?it/s]/var/folders/3c/71b8pg6d7j5dht_5h_2n4n_c0000gn/T/ipykernel_10911/1044936714.py:147: UserWarning: Implicit dimension choice for softmax has been deprecated. Change the call to include dim=X as an argument.\n",
            "  final_out = torch.nn.functional.softmax(out)\n",
            "100%|██████████| 2/2 [00:00<00:00,  6.97it/s]\n"
          ]
        },
        {
          "name": "stdout",
          "output_type": "stream",
          "text": [
            "\n",
            "epoch 15\n",
            "\ttrain_loss:0.664 valid_loss:0.742\n",
            "\ttrain_acc:72.24% valid_acc:69.34%\n",
            "\ttrain_f1:0.705 valid_f1:0.680\n",
            "\ttrain_confusion_matrix:\n",
            "[[ 259  311  324]\n",
            " [ 113 2105  197]\n",
            " [ 109  225  965]]\n",
            "\tvalid_confusion_matrix:\n",
            "[[ 69  80  73]\n",
            " [ 35 515  59]\n",
            " [ 39  70 221]]\n"
          ]
        },
        {
          "name": "stderr",
          "output_type": "stream",
          "text": [
            "  0%|          | 0/36 [00:00<?, ?it/s]/var/folders/3c/71b8pg6d7j5dht_5h_2n4n_c0000gn/T/ipykernel_10911/1044936714.py:147: UserWarning: Implicit dimension choice for softmax has been deprecated. Change the call to include dim=X as an argument.\n",
            "  final_out = torch.nn.functional.softmax(out)\n",
            "100%|██████████| 36/36 [00:05<00:00,  6.38it/s]\n",
            "  0%|          | 0/2 [00:00<?, ?it/s]/var/folders/3c/71b8pg6d7j5dht_5h_2n4n_c0000gn/T/ipykernel_10911/1044936714.py:147: UserWarning: Implicit dimension choice for softmax has been deprecated. Change the call to include dim=X as an argument.\n",
            "  final_out = torch.nn.functional.softmax(out)\n",
            "100%|██████████| 2/2 [00:00<00:00,  6.87it/s]\n"
          ]
        },
        {
          "name": "stdout",
          "output_type": "stream",
          "text": [
            "\n",
            "epoch 16\n",
            "\ttrain_loss:0.648 valid_loss:0.749\n",
            "\ttrain_acc:73.29% valid_acc:68.65%\n",
            "\ttrain_f1:0.714 valid_f1:0.674\n",
            "\ttrain_confusion_matrix:\n",
            "[[ 252  309  329]\n",
            " [ 102 2124  190]\n",
            " [  95  206 1001]]\n",
            "\tvalid_confusion_matrix:\n",
            "[[ 60  69  93]\n",
            " [ 40 497  72]\n",
            " [ 36  54 240]]\n"
          ]
        },
        {
          "name": "stderr",
          "output_type": "stream",
          "text": [
            "  0%|          | 0/36 [00:00<?, ?it/s]/var/folders/3c/71b8pg6d7j5dht_5h_2n4n_c0000gn/T/ipykernel_10911/1044936714.py:147: UserWarning: Implicit dimension choice for softmax has been deprecated. Change the call to include dim=X as an argument.\n",
            "  final_out = torch.nn.functional.softmax(out)\n",
            "100%|██████████| 36/36 [00:05<00:00,  6.27it/s]\n",
            "  0%|          | 0/2 [00:00<?, ?it/s]/var/folders/3c/71b8pg6d7j5dht_5h_2n4n_c0000gn/T/ipykernel_10911/1044936714.py:147: UserWarning: Implicit dimension choice for softmax has been deprecated. Change the call to include dim=X as an argument.\n",
            "  final_out = torch.nn.functional.softmax(out)\n",
            "100%|██████████| 2/2 [00:00<00:00,  6.86it/s]\n"
          ]
        },
        {
          "name": "stdout",
          "output_type": "stream",
          "text": [
            "\n",
            "epoch 17\n",
            "\ttrain_loss:0.646 valid_loss:0.749\n",
            "\ttrain_acc:73.61% valid_acc:69.51%\n",
            "\ttrain_f1:0.719 valid_f1:0.679\n",
            "\ttrain_confusion_matrix:\n",
            "[[ 275  311  306]\n",
            " [ 100 2128  185]\n",
            " [ 100  214  989]]\n",
            "\tvalid_confusion_matrix:\n",
            "[[ 63  92  67]\n",
            " [ 35 521  53]\n",
            " [ 38  69 223]]\n"
          ]
        },
        {
          "name": "stderr",
          "output_type": "stream",
          "text": [
            "  0%|          | 0/36 [00:00<?, ?it/s]/var/folders/3c/71b8pg6d7j5dht_5h_2n4n_c0000gn/T/ipykernel_10911/1044936714.py:147: UserWarning: Implicit dimension choice for softmax has been deprecated. Change the call to include dim=X as an argument.\n",
            "  final_out = torch.nn.functional.softmax(out)\n",
            "100%|██████████| 36/36 [00:05<00:00,  6.33it/s]\n",
            "  0%|          | 0/2 [00:00<?, ?it/s]/var/folders/3c/71b8pg6d7j5dht_5h_2n4n_c0000gn/T/ipykernel_10911/1044936714.py:147: UserWarning: Implicit dimension choice for softmax has been deprecated. Change the call to include dim=X as an argument.\n",
            "  final_out = torch.nn.functional.softmax(out)\n",
            "100%|██████████| 2/2 [00:00<00:00,  7.09it/s]\n"
          ]
        },
        {
          "name": "stdout",
          "output_type": "stream",
          "text": [
            "\n",
            "epoch 18\n",
            "\ttrain_loss:0.634 valid_loss:0.751\n",
            "\ttrain_acc:73.98% valid_acc:69.34%\n",
            "\ttrain_f1:0.723 valid_f1:0.676\n",
            "\ttrain_confusion_matrix:\n",
            "[[ 276  299  314]\n",
            " [ 105 2134  179]\n",
            " [ 106  196  999]]\n",
            "\tvalid_confusion_matrix:\n",
            "[[ 52  69 101]\n",
            " [ 32 498  79]\n",
            " [ 28  47 255]]\n"
          ]
        },
        {
          "name": "stderr",
          "output_type": "stream",
          "text": [
            "  0%|          | 0/36 [00:00<?, ?it/s]/var/folders/3c/71b8pg6d7j5dht_5h_2n4n_c0000gn/T/ipykernel_10911/1044936714.py:147: UserWarning: Implicit dimension choice for softmax has been deprecated. Change the call to include dim=X as an argument.\n",
            "  final_out = torch.nn.functional.softmax(out)\n",
            "100%|██████████| 36/36 [00:05<00:00,  6.49it/s]\n",
            "  0%|          | 0/2 [00:00<?, ?it/s]/var/folders/3c/71b8pg6d7j5dht_5h_2n4n_c0000gn/T/ipykernel_10911/1044936714.py:147: UserWarning: Implicit dimension choice for softmax has been deprecated. Change the call to include dim=X as an argument.\n",
            "  final_out = torch.nn.functional.softmax(out)\n",
            "100%|██████████| 2/2 [00:00<00:00,  7.15it/s]\n"
          ]
        },
        {
          "name": "stdout",
          "output_type": "stream",
          "text": [
            "\n",
            "epoch 19\n",
            "\ttrain_loss:0.631 valid_loss:0.744\n",
            "\ttrain_acc:74.20% valid_acc:68.99%\n",
            "\ttrain_f1:0.726 valid_f1:0.670\n",
            "\ttrain_confusion_matrix:\n",
            "[[ 290  307  294]\n",
            " [ 103 2140  184]\n",
            " [ 109  192  989]]\n",
            "\tvalid_confusion_matrix:\n",
            "[[ 54  93  75]\n",
            " [ 31 529  49]\n",
            " [ 44  68 218]]\n",
            "Loading saved model from: model_task2.bin\n"
          ]
        },
        {
          "name": "stderr",
          "output_type": "stream",
          "text": [
            "  0%|          | 0/2 [00:00<?, ?it/s]/var/folders/3c/71b8pg6d7j5dht_5h_2n4n_c0000gn/T/ipykernel_10911/1044936714.py:147: UserWarning: Implicit dimension choice for softmax has been deprecated. Change the call to include dim=X as an argument.\n",
            "  final_out = torch.nn.functional.softmax(out)\n",
            "100%|██████████| 2/2 [00:00<00:00,  7.66it/s]\n"
          ]
        },
        {
          "name": "stdout",
          "output_type": "stream",
          "text": [
            "              precision    recall  f1-score   support\n",
            "\n",
            "     Neutral       0.48      0.30      0.37       222\n",
            "    Positive       0.78      0.86      0.81       609\n",
            "    Negative       0.64      0.68      0.65       330\n",
            "\n",
            "    accuracy                           0.70      1161\n",
            "   macro avg       0.63      0.61      0.61      1161\n",
            "weighted avg       0.68      0.70      0.68      1161\n",
            "\n",
            "\n",
            "******************************************************************************************\n",
            "Alpha Size: 1\n",
            "Window Size: 4\n",
            "******************************************************************************************\n",
            "\n",
            "train samples:4641\n",
            "valid samples:1161\n"
          ]
        },
        {
          "name": "stderr",
          "output_type": "stream",
          "text": [
            "  0%|          | 0/36 [00:00<?, ?it/s]/var/folders/3c/71b8pg6d7j5dht_5h_2n4n_c0000gn/T/ipykernel_10911/1044936714.py:147: UserWarning: Implicit dimension choice for softmax has been deprecated. Change the call to include dim=X as an argument.\n",
            "  final_out = torch.nn.functional.softmax(out)\n",
            "100%|██████████| 36/36 [00:06<00:00,  5.91it/s]\n",
            "  0%|          | 0/2 [00:00<?, ?it/s]/var/folders/3c/71b8pg6d7j5dht_5h_2n4n_c0000gn/T/ipykernel_10911/1044936714.py:147: UserWarning: Implicit dimension choice for softmax has been deprecated. Change the call to include dim=X as an argument.\n",
            "  final_out = torch.nn.functional.softmax(out)\n",
            "100%|██████████| 2/2 [00:00<00:00,  6.17it/s]\n"
          ]
        },
        {
          "name": "stdout",
          "output_type": "stream",
          "text": [
            "\n",
            "epoch 0\n",
            "\ttrain_loss:1.057 valid_loss:1.031\n",
            "\ttrain_acc:51.22% valid_acc:51.77%\n",
            "\ttrain_f1:0.392 valid_f1:0.355\n",
            "\ttrain_confusion_matrix:\n",
            "[[   0  809   68]\n",
            " [   4 2251  166]\n",
            " [   6 1195  109]]\n",
            "\tvalid_confusion_matrix:\n",
            "[[  0 236   0]\n",
            " [  0 600   1]\n",
            " [  0 323   1]]\n"
          ]
        },
        {
          "name": "stderr",
          "output_type": "stream",
          "text": [
            "  0%|          | 0/36 [00:00<?, ?it/s]/var/folders/3c/71b8pg6d7j5dht_5h_2n4n_c0000gn/T/ipykernel_10911/1044936714.py:147: UserWarning: Implicit dimension choice for softmax has been deprecated. Change the call to include dim=X as an argument.\n",
            "  final_out = torch.nn.functional.softmax(out)\n",
            "100%|██████████| 36/36 [00:06<00:00,  5.82it/s]\n",
            "  0%|          | 0/2 [00:00<?, ?it/s]/var/folders/3c/71b8pg6d7j5dht_5h_2n4n_c0000gn/T/ipykernel_10911/1044936714.py:147: UserWarning: Implicit dimension choice for softmax has been deprecated. Change the call to include dim=X as an argument.\n",
            "  final_out = torch.nn.functional.softmax(out)\n",
            "100%|██████████| 2/2 [00:00<00:00,  6.31it/s]\n"
          ]
        },
        {
          "name": "stdout",
          "output_type": "stream",
          "text": [
            "\n",
            "epoch 1\n",
            "\ttrain_loss:1.000 valid_loss:0.996\n",
            "\ttrain_acc:52.63% valid_acc:51.85%\n",
            "\ttrain_f1:0.366 valid_f1:0.357\n",
            "\ttrain_confusion_matrix:\n",
            "[[   0  880    0]\n",
            " [   0 2414    3]\n",
            " [   0 1300   11]]\n",
            "\tvalid_confusion_matrix:\n",
            "[[  0 236   0]\n",
            " [  0 600   1]\n",
            " [  0 322   2]]\n"
          ]
        },
        {
          "name": "stderr",
          "output_type": "stream",
          "text": [
            "  0%|          | 0/36 [00:00<?, ?it/s]/var/folders/3c/71b8pg6d7j5dht_5h_2n4n_c0000gn/T/ipykernel_10911/1044936714.py:147: UserWarning: Implicit dimension choice for softmax has been deprecated. Change the call to include dim=X as an argument.\n",
            "  final_out = torch.nn.functional.softmax(out)\n",
            "100%|██████████| 36/36 [00:06<00:00,  5.81it/s]\n",
            "  0%|          | 0/2 [00:00<?, ?it/s]/var/folders/3c/71b8pg6d7j5dht_5h_2n4n_c0000gn/T/ipykernel_10911/1044936714.py:147: UserWarning: Implicit dimension choice for softmax has been deprecated. Change the call to include dim=X as an argument.\n",
            "  final_out = torch.nn.functional.softmax(out)\n",
            "100%|██████████| 2/2 [00:00<00:00,  6.72it/s]\n"
          ]
        },
        {
          "name": "stdout",
          "output_type": "stream",
          "text": [
            "\n",
            "epoch 2\n",
            "\ttrain_loss:0.964 valid_loss:0.952\n",
            "\ttrain_acc:52.78% valid_acc:51.94%\n",
            "\ttrain_f1:0.369 valid_f1:0.358\n",
            "\ttrain_confusion_matrix:\n",
            "[[   0  879    1]\n",
            " [   0 2418    6]\n",
            " [   0 1290   14]]\n",
            "\tvalid_confusion_matrix:\n",
            "[[  0 236   0]\n",
            " [  0 600   1]\n",
            " [  0 321   3]]\n"
          ]
        },
        {
          "name": "stderr",
          "output_type": "stream",
          "text": [
            "  0%|          | 0/36 [00:00<?, ?it/s]/var/folders/3c/71b8pg6d7j5dht_5h_2n4n_c0000gn/T/ipykernel_10911/1044936714.py:147: UserWarning: Implicit dimension choice for softmax has been deprecated. Change the call to include dim=X as an argument.\n",
            "  final_out = torch.nn.functional.softmax(out)\n",
            "100%|██████████| 36/36 [00:07<00:00,  5.07it/s]\n",
            "  0%|          | 0/2 [00:00<?, ?it/s]/var/folders/3c/71b8pg6d7j5dht_5h_2n4n_c0000gn/T/ipykernel_10911/1044936714.py:147: UserWarning: Implicit dimension choice for softmax has been deprecated. Change the call to include dim=X as an argument.\n",
            "  final_out = torch.nn.functional.softmax(out)\n",
            "100%|██████████| 2/2 [00:00<00:00,  4.79it/s]\n"
          ]
        },
        {
          "name": "stdout",
          "output_type": "stream",
          "text": [
            "\n",
            "epoch 3\n",
            "\ttrain_loss:0.900 valid_loss:0.873\n",
            "\ttrain_acc:57.36% valid_acc:62.36%\n",
            "\ttrain_f1:0.469 valid_f1:0.549\n",
            "\ttrain_confusion_matrix:\n",
            "[[   0  758  118]\n",
            " [   0 2361   63]\n",
            " [   0 1026  282]]\n",
            "\tvalid_confusion_matrix:\n",
            "[[  0 128 108]\n",
            " [  0 536  65]\n",
            " [  0 136 188]]\n"
          ]
        },
        {
          "name": "stderr",
          "output_type": "stream",
          "text": [
            "  0%|          | 0/36 [00:00<?, ?it/s]/var/folders/3c/71b8pg6d7j5dht_5h_2n4n_c0000gn/T/ipykernel_10911/1044936714.py:147: UserWarning: Implicit dimension choice for softmax has been deprecated. Change the call to include dim=X as an argument.\n",
            "  final_out = torch.nn.functional.softmax(out)\n",
            "100%|██████████| 36/36 [00:06<00:00,  5.73it/s]\n",
            "  0%|          | 0/2 [00:00<?, ?it/s]/var/folders/3c/71b8pg6d7j5dht_5h_2n4n_c0000gn/T/ipykernel_10911/1044936714.py:147: UserWarning: Implicit dimension choice for softmax has been deprecated. Change the call to include dim=X as an argument.\n",
            "  final_out = torch.nn.functional.softmax(out)\n",
            "100%|██████████| 2/2 [00:00<00:00,  5.91it/s]\n"
          ]
        },
        {
          "name": "stdout",
          "output_type": "stream",
          "text": [
            "\n",
            "epoch 4\n",
            "\ttrain_loss:0.839 valid_loss:0.820\n",
            "\ttrain_acc:63.04% valid_acc:64.25%\n",
            "\ttrain_f1:0.563 valid_f1:0.576\n",
            "\ttrain_confusion_matrix:\n",
            "[[   0  450  429]\n",
            " [   0 2092  330]\n",
            " [   0  494  813]]\n",
            "\tvalid_confusion_matrix:\n",
            "[[  0  88 148]\n",
            " [  0 502  99]\n",
            " [  0  80 244]]\n"
          ]
        },
        {
          "name": "stderr",
          "output_type": "stream",
          "text": [
            "  0%|          | 0/36 [00:00<?, ?it/s]/var/folders/3c/71b8pg6d7j5dht_5h_2n4n_c0000gn/T/ipykernel_10911/1044936714.py:147: UserWarning: Implicit dimension choice for softmax has been deprecated. Change the call to include dim=X as an argument.\n",
            "  final_out = torch.nn.functional.softmax(out)\n",
            "100%|██████████| 36/36 [00:06<00:00,  5.80it/s]\n",
            "  0%|          | 0/2 [00:00<?, ?it/s]/var/folders/3c/71b8pg6d7j5dht_5h_2n4n_c0000gn/T/ipykernel_10911/1044936714.py:147: UserWarning: Implicit dimension choice for softmax has been deprecated. Change the call to include dim=X as an argument.\n",
            "  final_out = torch.nn.functional.softmax(out)\n",
            "100%|██████████| 2/2 [00:00<00:00,  6.23it/s]\n"
          ]
        },
        {
          "name": "stdout",
          "output_type": "stream",
          "text": [
            "\n",
            "epoch 5\n",
            "\ttrain_loss:0.801 valid_loss:0.796\n",
            "\ttrain_acc:65.28% valid_acc:65.12%\n",
            "\ttrain_f1:0.589 valid_f1:0.579\n",
            "\ttrain_confusion_matrix:\n",
            "[[   0  355  519]\n",
            " [   0 2028  396]\n",
            " [   0  330  980]]\n",
            "\tvalid_confusion_matrix:\n",
            "[[  0 109 127]\n",
            " [  0 530  71]\n",
            " [  0  98 226]]\n"
          ]
        },
        {
          "name": "stderr",
          "output_type": "stream",
          "text": [
            "  0%|          | 0/36 [00:00<?, ?it/s]/var/folders/3c/71b8pg6d7j5dht_5h_2n4n_c0000gn/T/ipykernel_10911/1044936714.py:147: UserWarning: Implicit dimension choice for softmax has been deprecated. Change the call to include dim=X as an argument.\n",
            "  final_out = torch.nn.functional.softmax(out)\n",
            "100%|██████████| 36/36 [00:06<00:00,  5.97it/s]\n",
            "  0%|          | 0/2 [00:00<?, ?it/s]/var/folders/3c/71b8pg6d7j5dht_5h_2n4n_c0000gn/T/ipykernel_10911/1044936714.py:147: UserWarning: Implicit dimension choice for softmax has been deprecated. Change the call to include dim=X as an argument.\n",
            "  final_out = torch.nn.functional.softmax(out)\n",
            "100%|██████████| 2/2 [00:00<00:00,  6.16it/s]\n"
          ]
        },
        {
          "name": "stdout",
          "output_type": "stream",
          "text": [
            "\n",
            "epoch 6\n",
            "\ttrain_loss:0.771 valid_loss:0.782\n",
            "\ttrain_acc:66.49% valid_acc:65.72%\n",
            "\ttrain_f1:0.599 valid_f1:0.586\n",
            "\ttrain_confusion_matrix:\n",
            "[[   0  366  512]\n",
            " [   0 2075  349]\n",
            " [   0  317  989]]\n",
            "\tvalid_confusion_matrix:\n",
            "[[  1 112 123]\n",
            " [  0 526  75]\n",
            " [  0  88 236]]\n"
          ]
        },
        {
          "name": "stderr",
          "output_type": "stream",
          "text": [
            "  0%|          | 0/36 [00:00<?, ?it/s]/var/folders/3c/71b8pg6d7j5dht_5h_2n4n_c0000gn/T/ipykernel_10911/1044936714.py:147: UserWarning: Implicit dimension choice for softmax has been deprecated. Change the call to include dim=X as an argument.\n",
            "  final_out = torch.nn.functional.softmax(out)\n",
            "100%|██████████| 36/36 [00:06<00:00,  5.95it/s]\n",
            "  0%|          | 0/2 [00:00<?, ?it/s]/var/folders/3c/71b8pg6d7j5dht_5h_2n4n_c0000gn/T/ipykernel_10911/1044936714.py:147: UserWarning: Implicit dimension choice for softmax has been deprecated. Change the call to include dim=X as an argument.\n",
            "  final_out = torch.nn.functional.softmax(out)\n",
            "100%|██████████| 2/2 [00:00<00:00,  6.32it/s]\n"
          ]
        },
        {
          "name": "stdout",
          "output_type": "stream",
          "text": [
            "\n",
            "epoch 7\n",
            "\ttrain_loss:0.752 valid_loss:0.775\n",
            "\ttrain_acc:67.14% valid_acc:66.58%\n",
            "\ttrain_f1:0.606 valid_f1:0.599\n",
            "\ttrain_confusion_matrix:\n",
            "[[   3  371  502]\n",
            " [   0 2082  341]\n",
            " [   0  300 1009]]\n",
            "\tvalid_confusion_matrix:\n",
            "[[  4 100 132]\n",
            " [  0 516  85]\n",
            " [  0  71 253]]\n"
          ]
        },
        {
          "name": "stderr",
          "output_type": "stream",
          "text": [
            "  0%|          | 0/36 [00:00<?, ?it/s]/var/folders/3c/71b8pg6d7j5dht_5h_2n4n_c0000gn/T/ipykernel_10911/1044936714.py:147: UserWarning: Implicit dimension choice for softmax has been deprecated. Change the call to include dim=X as an argument.\n",
            "  final_out = torch.nn.functional.softmax(out)\n",
            "100%|██████████| 36/36 [00:06<00:00,  5.84it/s]\n",
            "  0%|          | 0/2 [00:00<?, ?it/s]/var/folders/3c/71b8pg6d7j5dht_5h_2n4n_c0000gn/T/ipykernel_10911/1044936714.py:147: UserWarning: Implicit dimension choice for softmax has been deprecated. Change the call to include dim=X as an argument.\n",
            "  final_out = torch.nn.functional.softmax(out)\n",
            "100%|██████████| 2/2 [00:00<00:00,  6.53it/s]\n"
          ]
        },
        {
          "name": "stdout",
          "output_type": "stream",
          "text": [
            "\n",
            "epoch 8\n",
            "\ttrain_loss:0.735 valid_loss:0.774\n",
            "\ttrain_acc:68.03% valid_acc:66.58%\n",
            "\ttrain_f1:0.616 valid_f1:0.604\n",
            "\ttrain_confusion_matrix:\n",
            "[[  13  384  483]\n",
            " [   2 2122  299]\n",
            " [   2  303 1000]]\n",
            "\tvalid_confusion_matrix:\n",
            "[[  8 103 125]\n",
            " [  1 513  87]\n",
            " [  1  71 252]]\n"
          ]
        },
        {
          "name": "stderr",
          "output_type": "stream",
          "text": [
            "  0%|          | 0/36 [00:00<?, ?it/s]/var/folders/3c/71b8pg6d7j5dht_5h_2n4n_c0000gn/T/ipykernel_10911/1044936714.py:147: UserWarning: Implicit dimension choice for softmax has been deprecated. Change the call to include dim=X as an argument.\n",
            "  final_out = torch.nn.functional.softmax(out)\n",
            "100%|██████████| 36/36 [00:06<00:00,  5.90it/s]\n",
            "  0%|          | 0/2 [00:00<?, ?it/s]/var/folders/3c/71b8pg6d7j5dht_5h_2n4n_c0000gn/T/ipykernel_10911/1044936714.py:147: UserWarning: Implicit dimension choice for softmax has been deprecated. Change the call to include dim=X as an argument.\n",
            "  final_out = torch.nn.functional.softmax(out)\n",
            "100%|██████████| 2/2 [00:00<00:00,  6.20it/s]\n"
          ]
        },
        {
          "name": "stdout",
          "output_type": "stream",
          "text": [
            "\n",
            "epoch 9\n",
            "\ttrain_loss:0.724 valid_loss:0.777\n",
            "\ttrain_acc:68.66% valid_acc:66.06%\n",
            "\ttrain_f1:0.626 valid_f1:0.608\n",
            "\ttrain_confusion_matrix:\n",
            "[[  28  379  471]\n",
            " [  10 2125  293]\n",
            " [   6  285 1011]]\n",
            "\tvalid_confusion_matrix:\n",
            "[[ 13  87 136]\n",
            " [  2 488 111]\n",
            " [  0  58 266]]\n"
          ]
        },
        {
          "name": "stderr",
          "output_type": "stream",
          "text": [
            "  0%|          | 0/36 [00:00<?, ?it/s]/var/folders/3c/71b8pg6d7j5dht_5h_2n4n_c0000gn/T/ipykernel_10911/1044936714.py:147: UserWarning: Implicit dimension choice for softmax has been deprecated. Change the call to include dim=X as an argument.\n",
            "  final_out = torch.nn.functional.softmax(out)\n",
            "100%|██████████| 36/36 [00:06<00:00,  5.88it/s]\n",
            "  0%|          | 0/2 [00:00<?, ?it/s]/var/folders/3c/71b8pg6d7j5dht_5h_2n4n_c0000gn/T/ipykernel_10911/1044936714.py:147: UserWarning: Implicit dimension choice for softmax has been deprecated. Change the call to include dim=X as an argument.\n",
            "  final_out = torch.nn.functional.softmax(out)\n",
            "100%|██████████| 2/2 [00:00<00:00,  6.30it/s]\n"
          ]
        },
        {
          "name": "stdout",
          "output_type": "stream",
          "text": [
            "\n",
            "epoch 10\n",
            "\ttrain_loss:0.712 valid_loss:0.759\n",
            "\ttrain_acc:69.70% valid_acc:67.18%\n",
            "\ttrain_f1:0.642 valid_f1:0.621\n",
            "\ttrain_confusion_matrix:\n",
            "[[  50  363  468]\n",
            " [  11 2131  282]\n",
            " [   8  264 1031]]\n",
            "\tvalid_confusion_matrix:\n",
            "[[ 19 109 108]\n",
            " [  7 518  76]\n",
            " [  5  76 243]]\n"
          ]
        },
        {
          "name": "stderr",
          "output_type": "stream",
          "text": [
            "  0%|          | 0/36 [00:00<?, ?it/s]/var/folders/3c/71b8pg6d7j5dht_5h_2n4n_c0000gn/T/ipykernel_10911/1044936714.py:147: UserWarning: Implicit dimension choice for softmax has been deprecated. Change the call to include dim=X as an argument.\n",
            "  final_out = torch.nn.functional.softmax(out)\n",
            "100%|██████████| 36/36 [00:06<00:00,  5.79it/s]\n",
            "  0%|          | 0/2 [00:00<?, ?it/s]/var/folders/3c/71b8pg6d7j5dht_5h_2n4n_c0000gn/T/ipykernel_10911/1044936714.py:147: UserWarning: Implicit dimension choice for softmax has been deprecated. Change the call to include dim=X as an argument.\n",
            "  final_out = torch.nn.functional.softmax(out)\n",
            "100%|██████████| 2/2 [00:00<00:00,  6.01it/s]\n"
          ]
        },
        {
          "name": "stdout",
          "output_type": "stream",
          "text": [
            "\n",
            "epoch 11\n",
            "\ttrain_loss:0.696 valid_loss:0.760\n",
            "\ttrain_acc:70.42% valid_acc:67.36%\n",
            "\ttrain_f1:0.655 valid_f1:0.631\n",
            "\ttrain_confusion_matrix:\n",
            "[[  71  355  448]\n",
            " [  21 2146  264]\n",
            " [  17  258 1028]]\n",
            "\tvalid_confusion_matrix:\n",
            "[[ 28 113  95]\n",
            " [ 11 518  72]\n",
            " [ 10  78 236]]\n"
          ]
        },
        {
          "name": "stderr",
          "output_type": "stream",
          "text": [
            "  0%|          | 0/36 [00:00<?, ?it/s]/var/folders/3c/71b8pg6d7j5dht_5h_2n4n_c0000gn/T/ipykernel_10911/1044936714.py:147: UserWarning: Implicit dimension choice for softmax has been deprecated. Change the call to include dim=X as an argument.\n",
            "  final_out = torch.nn.functional.softmax(out)\n",
            "100%|██████████| 36/36 [00:06<00:00,  5.61it/s]\n",
            "  0%|          | 0/2 [00:00<?, ?it/s]/var/folders/3c/71b8pg6d7j5dht_5h_2n4n_c0000gn/T/ipykernel_10911/1044936714.py:147: UserWarning: Implicit dimension choice for softmax has been deprecated. Change the call to include dim=X as an argument.\n",
            "  final_out = torch.nn.functional.softmax(out)\n",
            "100%|██████████| 2/2 [00:00<00:00,  5.32it/s]\n"
          ]
        },
        {
          "name": "stdout",
          "output_type": "stream",
          "text": [
            "\n",
            "epoch 12\n",
            "\ttrain_loss:0.687 valid_loss:0.768\n",
            "\ttrain_acc:71.48% valid_acc:67.87%\n",
            "\ttrain_f1:0.676 valid_f1:0.636\n",
            "\ttrain_confusion_matrix:\n",
            "[[ 122  359  393]\n",
            " [  39 2152  237]\n",
            " [  33  253 1020]]\n",
            "\tvalid_confusion_matrix:\n",
            "[[ 29 116  91]\n",
            " [ 14 531  56]\n",
            " [ 15  81 228]]\n"
          ]
        },
        {
          "name": "stderr",
          "output_type": "stream",
          "text": [
            "  0%|          | 0/36 [00:00<?, ?it/s]/var/folders/3c/71b8pg6d7j5dht_5h_2n4n_c0000gn/T/ipykernel_10911/1044936714.py:147: UserWarning: Implicit dimension choice for softmax has been deprecated. Change the call to include dim=X as an argument.\n",
            "  final_out = torch.nn.functional.softmax(out)\n",
            "100%|██████████| 36/36 [00:07<00:00,  5.13it/s]\n",
            "  0%|          | 0/2 [00:00<?, ?it/s]/var/folders/3c/71b8pg6d7j5dht_5h_2n4n_c0000gn/T/ipykernel_10911/1044936714.py:147: UserWarning: Implicit dimension choice for softmax has been deprecated. Change the call to include dim=X as an argument.\n",
            "  final_out = torch.nn.functional.softmax(out)\n",
            "100%|██████████| 2/2 [00:00<00:00,  6.02it/s]\n"
          ]
        },
        {
          "name": "stdout",
          "output_type": "stream",
          "text": [
            "\n",
            "epoch 13\n",
            "\ttrain_loss:0.678 valid_loss:0.760\n",
            "\ttrain_acc:72.18% valid_acc:68.82%\n",
            "\ttrain_f1:0.689 valid_f1:0.658\n",
            "\ttrain_confusion_matrix:\n",
            "[[ 155  331  391]\n",
            " [  43 2137  244]\n",
            " [  47  226 1034]]\n",
            "\tvalid_confusion_matrix:\n",
            "[[ 46 100  90]\n",
            " [ 18 520  63]\n",
            " [ 19  72 233]]\n"
          ]
        },
        {
          "name": "stderr",
          "output_type": "stream",
          "text": [
            "  0%|          | 0/36 [00:00<?, ?it/s]/var/folders/3c/71b8pg6d7j5dht_5h_2n4n_c0000gn/T/ipykernel_10911/1044936714.py:147: UserWarning: Implicit dimension choice for softmax has been deprecated. Change the call to include dim=X as an argument.\n",
            "  final_out = torch.nn.functional.softmax(out)\n",
            "100%|██████████| 36/36 [00:06<00:00,  5.71it/s]\n",
            "  0%|          | 0/2 [00:00<?, ?it/s]/var/folders/3c/71b8pg6d7j5dht_5h_2n4n_c0000gn/T/ipykernel_10911/1044936714.py:147: UserWarning: Implicit dimension choice for softmax has been deprecated. Change the call to include dim=X as an argument.\n",
            "  final_out = torch.nn.functional.softmax(out)\n",
            "100%|██████████| 2/2 [00:00<00:00,  5.58it/s]\n"
          ]
        },
        {
          "name": "stdout",
          "output_type": "stream",
          "text": [
            "\n",
            "epoch 14\n",
            "\ttrain_loss:0.667 valid_loss:0.766\n",
            "\ttrain_acc:72.98% valid_acc:68.73%\n",
            "\ttrain_f1:0.704 valid_f1:0.658\n",
            "\ttrain_confusion_matrix:\n",
            "[[ 200  317  361]\n",
            " [  59 2151  213]\n",
            " [  70  225 1012]]\n",
            "\tvalid_confusion_matrix:\n",
            "[[ 48 101  87]\n",
            " [ 19 524  58]\n",
            " [ 19  79 226]]\n"
          ]
        },
        {
          "name": "stderr",
          "output_type": "stream",
          "text": [
            "  0%|          | 0/36 [00:00<?, ?it/s]/var/folders/3c/71b8pg6d7j5dht_5h_2n4n_c0000gn/T/ipykernel_10911/1044936714.py:147: UserWarning: Implicit dimension choice for softmax has been deprecated. Change the call to include dim=X as an argument.\n",
            "  final_out = torch.nn.functional.softmax(out)\n",
            "100%|██████████| 36/36 [00:06<00:00,  5.66it/s]\n",
            "  0%|          | 0/2 [00:00<?, ?it/s]/var/folders/3c/71b8pg6d7j5dht_5h_2n4n_c0000gn/T/ipykernel_10911/1044936714.py:147: UserWarning: Implicit dimension choice for softmax has been deprecated. Change the call to include dim=X as an argument.\n",
            "  final_out = torch.nn.functional.softmax(out)\n",
            "100%|██████████| 2/2 [00:00<00:00,  5.84it/s]\n"
          ]
        },
        {
          "name": "stdout",
          "output_type": "stream",
          "text": [
            "\n",
            "epoch 15\n",
            "\ttrain_loss:0.660 valid_loss:0.753\n",
            "\ttrain_acc:72.44% valid_acc:68.48%\n",
            "\ttrain_f1:0.701 valid_f1:0.669\n",
            "\ttrain_confusion_matrix:\n",
            "[[ 211  319  347]\n",
            " [  78 2128  220]\n",
            " [  88  218  999]]\n",
            "\tvalid_confusion_matrix:\n",
            "[[ 64  83  89]\n",
            " [ 37 506  58]\n",
            " [ 41  58 225]]\n"
          ]
        },
        {
          "name": "stderr",
          "output_type": "stream",
          "text": [
            "  0%|          | 0/36 [00:00<?, ?it/s]/var/folders/3c/71b8pg6d7j5dht_5h_2n4n_c0000gn/T/ipykernel_10911/1044936714.py:147: UserWarning: Implicit dimension choice for softmax has been deprecated. Change the call to include dim=X as an argument.\n",
            "  final_out = torch.nn.functional.softmax(out)\n",
            "100%|██████████| 36/36 [00:06<00:00,  5.58it/s]\n",
            "  0%|          | 0/2 [00:00<?, ?it/s]/var/folders/3c/71b8pg6d7j5dht_5h_2n4n_c0000gn/T/ipykernel_10911/1044936714.py:147: UserWarning: Implicit dimension choice for softmax has been deprecated. Change the call to include dim=X as an argument.\n",
            "  final_out = torch.nn.functional.softmax(out)\n",
            "100%|██████████| 2/2 [00:00<00:00,  6.12it/s]\n"
          ]
        },
        {
          "name": "stdout",
          "output_type": "stream",
          "text": [
            "\n",
            "epoch 16\n",
            "\ttrain_loss:0.646 valid_loss:0.754\n",
            "\ttrain_acc:73.48% valid_acc:68.56%\n",
            "\ttrain_f1:0.714 valid_f1:0.668\n",
            "\ttrain_confusion_matrix:\n",
            "[[ 230  292  352]\n",
            " [  87 2140  199]\n",
            " [  91  201 1016]]\n",
            "\tvalid_confusion_matrix:\n",
            "[[ 64  87  85]\n",
            " [ 31 507  63]\n",
            " [ 37  62 225]]\n"
          ]
        },
        {
          "name": "stderr",
          "output_type": "stream",
          "text": [
            "  0%|          | 0/36 [00:00<?, ?it/s]/var/folders/3c/71b8pg6d7j5dht_5h_2n4n_c0000gn/T/ipykernel_10911/1044936714.py:147: UserWarning: Implicit dimension choice for softmax has been deprecated. Change the call to include dim=X as an argument.\n",
            "  final_out = torch.nn.functional.softmax(out)\n",
            "100%|██████████| 36/36 [00:06<00:00,  5.39it/s]\n",
            "  0%|          | 0/2 [00:00<?, ?it/s]/var/folders/3c/71b8pg6d7j5dht_5h_2n4n_c0000gn/T/ipykernel_10911/1044936714.py:147: UserWarning: Implicit dimension choice for softmax has been deprecated. Change the call to include dim=X as an argument.\n",
            "  final_out = torch.nn.functional.softmax(out)\n",
            "100%|██████████| 2/2 [00:00<00:00,  5.39it/s]\n"
          ]
        },
        {
          "name": "stdout",
          "output_type": "stream",
          "text": [
            "\n",
            "epoch 17\n",
            "\ttrain_loss:0.643 valid_loss:0.758\n",
            "\ttrain_acc:73.20% valid_acc:69.25%\n",
            "\ttrain_f1:0.715 valid_f1:0.679\n",
            "\ttrain_confusion_matrix:\n",
            "[[ 252  270  357]\n",
            " [  89 2087  243]\n",
            " [  91  185 1034]]\n",
            "\tvalid_confusion_matrix:\n",
            "[[ 76  87  73]\n",
            " [ 36 513  52]\n",
            " [ 43  66 215]]\n"
          ]
        },
        {
          "name": "stderr",
          "output_type": "stream",
          "text": [
            "  0%|          | 0/36 [00:00<?, ?it/s]/var/folders/3c/71b8pg6d7j5dht_5h_2n4n_c0000gn/T/ipykernel_10911/1044936714.py:147: UserWarning: Implicit dimension choice for softmax has been deprecated. Change the call to include dim=X as an argument.\n",
            "  final_out = torch.nn.functional.softmax(out)\n",
            "100%|██████████| 36/36 [00:06<00:00,  5.52it/s]\n",
            "  0%|          | 0/2 [00:00<?, ?it/s]/var/folders/3c/71b8pg6d7j5dht_5h_2n4n_c0000gn/T/ipykernel_10911/1044936714.py:147: UserWarning: Implicit dimension choice for softmax has been deprecated. Change the call to include dim=X as an argument.\n",
            "  final_out = torch.nn.functional.softmax(out)\n",
            "100%|██████████| 2/2 [00:00<00:00,  5.87it/s]\n"
          ]
        },
        {
          "name": "stdout",
          "output_type": "stream",
          "text": [
            "\n",
            "epoch 18\n",
            "\ttrain_loss:0.633 valid_loss:0.742\n",
            "\ttrain_acc:73.48% valid_acc:68.91%\n",
            "\ttrain_f1:0.718 valid_f1:0.668\n",
            "\ttrain_confusion_matrix:\n",
            "[[ 260  302  316]\n",
            " [ 106 2141  178]\n",
            " [ 116  204  985]]\n",
            "\tvalid_confusion_matrix:\n",
            "[[ 55  83  98]\n",
            " [ 26 501  74]\n",
            " [ 24  56 244]]\n"
          ]
        },
        {
          "name": "stderr",
          "output_type": "stream",
          "text": [
            "  0%|          | 0/36 [00:00<?, ?it/s]/var/folders/3c/71b8pg6d7j5dht_5h_2n4n_c0000gn/T/ipykernel_10911/1044936714.py:147: UserWarning: Implicit dimension choice for softmax has been deprecated. Change the call to include dim=X as an argument.\n",
            "  final_out = torch.nn.functional.softmax(out)\n",
            "100%|██████████| 36/36 [00:06<00:00,  5.74it/s]\n",
            "  0%|          | 0/2 [00:00<?, ?it/s]/var/folders/3c/71b8pg6d7j5dht_5h_2n4n_c0000gn/T/ipykernel_10911/1044936714.py:147: UserWarning: Implicit dimension choice for softmax has been deprecated. Change the call to include dim=X as an argument.\n",
            "  final_out = torch.nn.functional.softmax(out)\n",
            "100%|██████████| 2/2 [00:00<00:00,  5.85it/s]\n"
          ]
        },
        {
          "name": "stdout",
          "output_type": "stream",
          "text": [
            "\n",
            "epoch 19\n",
            "\ttrain_loss:0.620 valid_loss:0.749\n",
            "\ttrain_acc:74.07% valid_acc:69.08%\n",
            "\ttrain_f1:0.724 valid_f1:0.677\n",
            "\ttrain_confusion_matrix:\n",
            "[[ 266  284  327]\n",
            " [  93 2125  206]\n",
            " [ 108  177 1022]]\n",
            "\tvalid_confusion_matrix:\n",
            "[[ 70  84  82]\n",
            " [ 41 497  63]\n",
            " [ 35  54 235]]\n",
            "Loading saved model from: model_task2.bin\n"
          ]
        },
        {
          "name": "stderr",
          "output_type": "stream",
          "text": [
            "  0%|          | 0/2 [00:00<?, ?it/s]/var/folders/3c/71b8pg6d7j5dht_5h_2n4n_c0000gn/T/ipykernel_10911/1044936714.py:147: UserWarning: Implicit dimension choice for softmax has been deprecated. Change the call to include dim=X as an argument.\n",
            "  final_out = torch.nn.functional.softmax(out)\n",
            "100%|██████████| 2/2 [00:00<00:00,  6.01it/s]\n"
          ]
        },
        {
          "name": "stdout",
          "output_type": "stream",
          "text": [
            "              precision    recall  f1-score   support\n",
            "\n",
            "     Neutral       0.50      0.22      0.31       236\n",
            "    Positive       0.78      0.83      0.80       601\n",
            "    Negative       0.59      0.75      0.66       324\n",
            "\n",
            "    accuracy                           0.68      1161\n",
            "   macro avg       0.62      0.60      0.59      1161\n",
            "weighted avg       0.67      0.68      0.66      1161\n",
            "\n",
            "\n",
            "******************************************************************************************\n",
            "Alpha Size: 1\n",
            "Window Size: 8\n",
            "******************************************************************************************\n",
            "\n",
            "train samples:4641\n",
            "valid samples:1161\n"
          ]
        },
        {
          "name": "stderr",
          "output_type": "stream",
          "text": [
            "  0%|          | 0/36 [00:00<?, ?it/s]/var/folders/3c/71b8pg6d7j5dht_5h_2n4n_c0000gn/T/ipykernel_10911/1044936714.py:147: UserWarning: Implicit dimension choice for softmax has been deprecated. Change the call to include dim=X as an argument.\n",
            "  final_out = torch.nn.functional.softmax(out)\n",
            "100%|██████████| 36/36 [00:07<00:00,  5.04it/s]\n",
            "  0%|          | 0/2 [00:00<?, ?it/s]/var/folders/3c/71b8pg6d7j5dht_5h_2n4n_c0000gn/T/ipykernel_10911/1044936714.py:147: UserWarning: Implicit dimension choice for softmax has been deprecated. Change the call to include dim=X as an argument.\n",
            "  final_out = torch.nn.functional.softmax(out)\n",
            "100%|██████████| 2/2 [00:00<00:00,  5.42it/s]\n"
          ]
        },
        {
          "name": "stdout",
          "output_type": "stream",
          "text": [
            "\n",
            "epoch 0\n",
            "\ttrain_loss:1.058 valid_loss:1.022\n",
            "\ttrain_acc:52.26% valid_acc:52.71%\n",
            "\ttrain_f1:0.369 valid_f1:0.364\n",
            "\ttrain_confusion_matrix:\n",
            "[[  16  871    1]\n",
            " [  28 2387    0]\n",
            " [  24 1276    5]]\n",
            "\tvalid_confusion_matrix:\n",
            "[[  0 221   0]\n",
            " [  0 612   0]\n",
            " [  0 328   0]]\n"
          ]
        },
        {
          "name": "stderr",
          "output_type": "stream",
          "text": [
            "  0%|          | 0/36 [00:00<?, ?it/s]/var/folders/3c/71b8pg6d7j5dht_5h_2n4n_c0000gn/T/ipykernel_10911/1044936714.py:147: UserWarning: Implicit dimension choice for softmax has been deprecated. Change the call to include dim=X as an argument.\n",
            "  final_out = torch.nn.functional.softmax(out)\n",
            "100%|██████████| 36/36 [00:07<00:00,  4.75it/s]\n",
            "  0%|          | 0/2 [00:00<?, ?it/s]/var/folders/3c/71b8pg6d7j5dht_5h_2n4n_c0000gn/T/ipykernel_10911/1044936714.py:147: UserWarning: Implicit dimension choice for softmax has been deprecated. Change the call to include dim=X as an argument.\n",
            "  final_out = torch.nn.functional.softmax(out)\n",
            "100%|██████████| 2/2 [00:00<00:00,  5.56it/s]\n"
          ]
        },
        {
          "name": "stdout",
          "output_type": "stream",
          "text": [
            "\n",
            "epoch 1\n",
            "\ttrain_loss:1.004 valid_loss:0.970\n",
            "\ttrain_acc:52.47% valid_acc:52.71%\n",
            "\ttrain_f1:0.361 valid_f1:0.364\n",
            "\ttrain_confusion_matrix:\n",
            "[[   0  889    0]\n",
            " [   0 2417    0]\n",
            " [   0 1301    1]]\n",
            "\tvalid_confusion_matrix:\n",
            "[[  0 221   0]\n",
            " [  0 612   0]\n",
            " [  0 328   0]]\n"
          ]
        },
        {
          "name": "stderr",
          "output_type": "stream",
          "text": [
            "  0%|          | 0/36 [00:00<?, ?it/s]/var/folders/3c/71b8pg6d7j5dht_5h_2n4n_c0000gn/T/ipykernel_10911/1044936714.py:147: UserWarning: Implicit dimension choice for softmax has been deprecated. Change the call to include dim=X as an argument.\n",
            "  final_out = torch.nn.functional.softmax(out)\n",
            "100%|██████████| 36/36 [00:07<00:00,  5.00it/s]\n",
            "  0%|          | 0/2 [00:00<?, ?it/s]/var/folders/3c/71b8pg6d7j5dht_5h_2n4n_c0000gn/T/ipykernel_10911/1044936714.py:147: UserWarning: Implicit dimension choice for softmax has been deprecated. Change the call to include dim=X as an argument.\n",
            "  final_out = torch.nn.functional.softmax(out)\n",
            "100%|██████████| 2/2 [00:00<00:00,  5.21it/s]\n"
          ]
        },
        {
          "name": "stdout",
          "output_type": "stream",
          "text": [
            "\n",
            "epoch 2\n",
            "\ttrain_loss:0.958 valid_loss:0.914\n",
            "\ttrain_acc:52.60% valid_acc:54.09%\n",
            "\ttrain_f1:0.365 valid_f1:0.396\n",
            "\ttrain_confusion_matrix:\n",
            "[[   0  890    0]\n",
            " [   0 2416    1]\n",
            " [   0 1293    8]]\n",
            "\tvalid_confusion_matrix:\n",
            "[[  0 219   2]\n",
            " [  0 610   2]\n",
            " [  0 310  18]]\n"
          ]
        },
        {
          "name": "stderr",
          "output_type": "stream",
          "text": [
            "  0%|          | 0/36 [00:00<?, ?it/s]/var/folders/3c/71b8pg6d7j5dht_5h_2n4n_c0000gn/T/ipykernel_10911/1044936714.py:147: UserWarning: Implicit dimension choice for softmax has been deprecated. Change the call to include dim=X as an argument.\n",
            "  final_out = torch.nn.functional.softmax(out)\n",
            "100%|██████████| 36/36 [00:07<00:00,  5.12it/s]\n",
            "  0%|          | 0/2 [00:00<?, ?it/s]/var/folders/3c/71b8pg6d7j5dht_5h_2n4n_c0000gn/T/ipykernel_10911/1044936714.py:147: UserWarning: Implicit dimension choice for softmax has been deprecated. Change the call to include dim=X as an argument.\n",
            "  final_out = torch.nn.functional.softmax(out)\n",
            "100%|██████████| 2/2 [00:00<00:00,  5.61it/s]\n"
          ]
        },
        {
          "name": "stdout",
          "output_type": "stream",
          "text": [
            "\n",
            "epoch 3\n",
            "\ttrain_loss:0.889 valid_loss:0.842\n",
            "\ttrain_acc:58.85% valid_acc:59.78%\n",
            "\ttrain_f1:0.501 valid_f1:0.534\n",
            "\ttrain_confusion_matrix:\n",
            "[[   0  680  213]\n",
            " [   0 2269  141]\n",
            " [   0  862  443]]\n",
            "\tvalid_confusion_matrix:\n",
            "[[  0 113 108]\n",
            " [  0 509 103]\n",
            " [  0 143 185]]\n"
          ]
        },
        {
          "name": "stderr",
          "output_type": "stream",
          "text": [
            "  0%|          | 0/36 [00:00<?, ?it/s]/var/folders/3c/71b8pg6d7j5dht_5h_2n4n_c0000gn/T/ipykernel_10911/1044936714.py:147: UserWarning: Implicit dimension choice for softmax has been deprecated. Change the call to include dim=X as an argument.\n",
            "  final_out = torch.nn.functional.softmax(out)\n",
            "100%|██████████| 36/36 [00:06<00:00,  5.17it/s]\n",
            "  0%|          | 0/2 [00:00<?, ?it/s]/var/folders/3c/71b8pg6d7j5dht_5h_2n4n_c0000gn/T/ipykernel_10911/1044936714.py:147: UserWarning: Implicit dimension choice for softmax has been deprecated. Change the call to include dim=X as an argument.\n",
            "  final_out = torch.nn.functional.softmax(out)\n",
            "100%|██████████| 2/2 [00:00<00:00,  5.80it/s]\n"
          ]
        },
        {
          "name": "stdout",
          "output_type": "stream",
          "text": [
            "\n",
            "epoch 4\n",
            "\ttrain_loss:0.817 valid_loss:0.796\n",
            "\ttrain_acc:64.13% valid_acc:62.70%\n",
            "\ttrain_f1:0.575 valid_f1:0.565\n",
            "\ttrain_confusion_matrix:\n",
            "[[   1  421  467]\n",
            " [   0 2050  369]\n",
            " [   0  396  904]]\n",
            "\tvalid_confusion_matrix:\n",
            "[[  0  98 123]\n",
            " [  0 504 108]\n",
            " [  0 104 224]]\n"
          ]
        },
        {
          "name": "stderr",
          "output_type": "stream",
          "text": [
            "  0%|          | 0/36 [00:00<?, ?it/s]/var/folders/3c/71b8pg6d7j5dht_5h_2n4n_c0000gn/T/ipykernel_10911/1044936714.py:147: UserWarning: Implicit dimension choice for softmax has been deprecated. Change the call to include dim=X as an argument.\n",
            "  final_out = torch.nn.functional.softmax(out)\n",
            "100%|██████████| 36/36 [00:07<00:00,  5.07it/s]\n",
            "  0%|          | 0/2 [00:00<?, ?it/s]/var/folders/3c/71b8pg6d7j5dht_5h_2n4n_c0000gn/T/ipykernel_10911/1044936714.py:147: UserWarning: Implicit dimension choice for softmax has been deprecated. Change the call to include dim=X as an argument.\n",
            "  final_out = torch.nn.functional.softmax(out)\n",
            "100%|██████████| 2/2 [00:00<00:00,  5.72it/s]\n"
          ]
        },
        {
          "name": "stdout",
          "output_type": "stream",
          "text": [
            "\n",
            "epoch 5\n",
            "\ttrain_loss:0.780 valid_loss:0.788\n",
            "\ttrain_acc:65.82% valid_acc:64.43%\n",
            "\ttrain_f1:0.592 valid_f1:0.577\n",
            "\ttrain_confusion_matrix:\n",
            "[[   5  400  486]\n",
            " [   0 2072  349]\n",
            " [   1  339  956]]\n",
            "\tvalid_confusion_matrix:\n",
            "[[  2 132  87]\n",
            " [  1 538  73]\n",
            " [  0 120 208]]\n"
          ]
        },
        {
          "name": "stderr",
          "output_type": "stream",
          "text": [
            "  0%|          | 0/36 [00:00<?, ?it/s]/var/folders/3c/71b8pg6d7j5dht_5h_2n4n_c0000gn/T/ipykernel_10911/1044936714.py:147: UserWarning: Implicit dimension choice for softmax has been deprecated. Change the call to include dim=X as an argument.\n",
            "  final_out = torch.nn.functional.softmax(out)\n",
            "100%|██████████| 36/36 [00:07<00:00,  5.08it/s]\n",
            "  0%|          | 0/2 [00:00<?, ?it/s]/var/folders/3c/71b8pg6d7j5dht_5h_2n4n_c0000gn/T/ipykernel_10911/1044936714.py:147: UserWarning: Implicit dimension choice for softmax has been deprecated. Change the call to include dim=X as an argument.\n",
            "  final_out = torch.nn.functional.softmax(out)\n",
            "100%|██████████| 2/2 [00:00<00:00,  4.39it/s]\n"
          ]
        },
        {
          "name": "stdout",
          "output_type": "stream",
          "text": [
            "\n",
            "epoch 6\n",
            "\ttrain_loss:0.758 valid_loss:0.766\n",
            "\ttrain_acc:66.84% valid_acc:65.46%\n",
            "\ttrain_f1:0.603 valid_f1:0.594\n",
            "\ttrain_confusion_matrix:\n",
            "[[  15  442  432]\n",
            " [   3 2109  309]\n",
            " [   3  339  956]]\n",
            "\tvalid_confusion_matrix:\n",
            "[[  7 117  97]\n",
            " [  2 535  75]\n",
            " [  0 110 218]]\n"
          ]
        },
        {
          "name": "stderr",
          "output_type": "stream",
          "text": [
            "  0%|          | 0/36 [00:00<?, ?it/s]/var/folders/3c/71b8pg6d7j5dht_5h_2n4n_c0000gn/T/ipykernel_10911/1044936714.py:147: UserWarning: Implicit dimension choice for softmax has been deprecated. Change the call to include dim=X as an argument.\n",
            "  final_out = torch.nn.functional.softmax(out)\n",
            "100%|██████████| 36/36 [00:07<00:00,  5.04it/s]\n",
            "  0%|          | 0/2 [00:00<?, ?it/s]/var/folders/3c/71b8pg6d7j5dht_5h_2n4n_c0000gn/T/ipykernel_10911/1044936714.py:147: UserWarning: Implicit dimension choice for softmax has been deprecated. Change the call to include dim=X as an argument.\n",
            "  final_out = torch.nn.functional.softmax(out)\n",
            "100%|██████████| 2/2 [00:00<00:00,  6.08it/s]\n"
          ]
        },
        {
          "name": "stdout",
          "output_type": "stream",
          "text": [
            "\n",
            "epoch 7\n",
            "\ttrain_loss:0.741 valid_loss:0.752\n",
            "\ttrain_acc:68.51% valid_acc:66.49%\n",
            "\ttrain_f1:0.623 valid_f1:0.608\n",
            "\ttrain_confusion_matrix:\n",
            "[[  27  418  444]\n",
            " [   5 2116  295]\n",
            " [   4  285 1014]]\n",
            "\tvalid_confusion_matrix:\n",
            "[[ 10 115  96]\n",
            " [  3 538  71]\n",
            " [  5  99 224]]\n"
          ]
        },
        {
          "name": "stderr",
          "output_type": "stream",
          "text": [
            "  0%|          | 0/36 [00:00<?, ?it/s]/var/folders/3c/71b8pg6d7j5dht_5h_2n4n_c0000gn/T/ipykernel_10911/1044936714.py:147: UserWarning: Implicit dimension choice for softmax has been deprecated. Change the call to include dim=X as an argument.\n",
            "  final_out = torch.nn.functional.softmax(out)\n",
            "100%|██████████| 36/36 [00:07<00:00,  4.98it/s]\n",
            "  0%|          | 0/2 [00:00<?, ?it/s]/var/folders/3c/71b8pg6d7j5dht_5h_2n4n_c0000gn/T/ipykernel_10911/1044936714.py:147: UserWarning: Implicit dimension choice for softmax has been deprecated. Change the call to include dim=X as an argument.\n",
            "  final_out = torch.nn.functional.softmax(out)\n",
            "100%|██████████| 2/2 [00:00<00:00,  5.65it/s]\n"
          ]
        },
        {
          "name": "stdout",
          "output_type": "stream",
          "text": [
            "\n",
            "epoch 8\n",
            "\ttrain_loss:0.727 valid_loss:0.747\n",
            "\ttrain_acc:69.08% valid_acc:67.44%\n",
            "\ttrain_f1:0.635 valid_f1:0.632\n",
            "\ttrain_confusion_matrix:\n",
            "[[  50  404  441]\n",
            " [  18 2108  288]\n",
            " [   9  265 1025]]\n",
            "\tvalid_confusion_matrix:\n",
            "[[ 22  94 105]\n",
            " [  8 520  84]\n",
            " [  6  81 241]]\n"
          ]
        },
        {
          "name": "stderr",
          "output_type": "stream",
          "text": [
            "  0%|          | 0/36 [00:00<?, ?it/s]/var/folders/3c/71b8pg6d7j5dht_5h_2n4n_c0000gn/T/ipykernel_10911/1044936714.py:147: UserWarning: Implicit dimension choice for softmax has been deprecated. Change the call to include dim=X as an argument.\n",
            "  final_out = torch.nn.functional.softmax(out)\n",
            "100%|██████████| 36/36 [00:07<00:00,  5.01it/s]\n",
            "  0%|          | 0/2 [00:00<?, ?it/s]/var/folders/3c/71b8pg6d7j5dht_5h_2n4n_c0000gn/T/ipykernel_10911/1044936714.py:147: UserWarning: Implicit dimension choice for softmax has been deprecated. Change the call to include dim=X as an argument.\n",
            "  final_out = torch.nn.functional.softmax(out)\n",
            "100%|██████████| 2/2 [00:00<00:00,  5.39it/s]\n"
          ]
        },
        {
          "name": "stdout",
          "output_type": "stream",
          "text": [
            "\n",
            "epoch 9\n",
            "\ttrain_loss:0.713 valid_loss:0.739\n",
            "\ttrain_acc:69.94% valid_acc:68.39%\n",
            "\ttrain_f1:0.647 valid_f1:0.637\n",
            "\ttrain_confusion_matrix:\n",
            "[[  65  418  409]\n",
            " [  23 2144  253]\n",
            " [  20  262 1014]]\n",
            "\tvalid_confusion_matrix:\n",
            "[[ 21 110  90]\n",
            " [  8 542  62]\n",
            " [  7  90 231]]\n"
          ]
        },
        {
          "name": "stderr",
          "output_type": "stream",
          "text": [
            "  0%|          | 0/36 [00:00<?, ?it/s]/var/folders/3c/71b8pg6d7j5dht_5h_2n4n_c0000gn/T/ipykernel_10911/1044936714.py:147: UserWarning: Implicit dimension choice for softmax has been deprecated. Change the call to include dim=X as an argument.\n",
            "  final_out = torch.nn.functional.softmax(out)\n",
            "100%|██████████| 36/36 [00:07<00:00,  4.91it/s]\n",
            "  0%|          | 0/2 [00:00<?, ?it/s]/var/folders/3c/71b8pg6d7j5dht_5h_2n4n_c0000gn/T/ipykernel_10911/1044936714.py:147: UserWarning: Implicit dimension choice for softmax has been deprecated. Change the call to include dim=X as an argument.\n",
            "  final_out = torch.nn.functional.softmax(out)\n",
            "100%|██████████| 2/2 [00:00<00:00,  5.63it/s]\n"
          ]
        },
        {
          "name": "stdout",
          "output_type": "stream",
          "text": [
            "\n",
            "epoch 10\n",
            "\ttrain_loss:0.705 valid_loss:0.744\n",
            "\ttrain_acc:70.53% valid_acc:68.30%\n",
            "\ttrain_f1:0.660 valid_f1:0.652\n",
            "\ttrain_confusion_matrix:\n",
            "[[  97  399  394]\n",
            " [  37 2130  248]\n",
            " [  32  248 1023]]\n",
            "\tvalid_confusion_matrix:\n",
            "[[ 35  75 111]\n",
            " [ 11 505  96]\n",
            " [  5  70 253]]\n"
          ]
        },
        {
          "name": "stderr",
          "output_type": "stream",
          "text": [
            "  0%|          | 0/36 [00:00<?, ?it/s]/var/folders/3c/71b8pg6d7j5dht_5h_2n4n_c0000gn/T/ipykernel_10911/1044936714.py:147: UserWarning: Implicit dimension choice for softmax has been deprecated. Change the call to include dim=X as an argument.\n",
            "  final_out = torch.nn.functional.softmax(out)\n",
            "100%|██████████| 36/36 [00:06<00:00,  5.25it/s]\n",
            "  0%|          | 0/2 [00:00<?, ?it/s]/var/folders/3c/71b8pg6d7j5dht_5h_2n4n_c0000gn/T/ipykernel_10911/1044936714.py:147: UserWarning: Implicit dimension choice for softmax has been deprecated. Change the call to include dim=X as an argument.\n",
            "  final_out = torch.nn.functional.softmax(out)\n",
            "100%|██████████| 2/2 [00:00<00:00,  5.07it/s]\n"
          ]
        },
        {
          "name": "stdout",
          "output_type": "stream",
          "text": [
            "\n",
            "epoch 11\n",
            "\ttrain_loss:0.698 valid_loss:0.748\n",
            "\ttrain_acc:70.75% valid_acc:67.61%\n",
            "\ttrain_f1:0.663 valid_f1:0.653\n",
            "\ttrain_confusion_matrix:\n",
            "[[  96  382  413]\n",
            " [  40 2132  240]\n",
            " [  40  233 1032]]\n",
            "\tvalid_confusion_matrix:\n",
            "[[ 43  66 112]\n",
            " [ 19 486 107]\n",
            " [  6  66 256]]\n"
          ]
        },
        {
          "name": "stderr",
          "output_type": "stream",
          "text": [
            "  0%|          | 0/36 [00:00<?, ?it/s]/var/folders/3c/71b8pg6d7j5dht_5h_2n4n_c0000gn/T/ipykernel_10911/1044936714.py:147: UserWarning: Implicit dimension choice for softmax has been deprecated. Change the call to include dim=X as an argument.\n",
            "  final_out = torch.nn.functional.softmax(out)\n",
            "100%|██████████| 36/36 [00:06<00:00,  5.19it/s]\n",
            "  0%|          | 0/2 [00:00<?, ?it/s]/var/folders/3c/71b8pg6d7j5dht_5h_2n4n_c0000gn/T/ipykernel_10911/1044936714.py:147: UserWarning: Implicit dimension choice for softmax has been deprecated. Change the call to include dim=X as an argument.\n",
            "  final_out = torch.nn.functional.softmax(out)\n",
            "100%|██████████| 2/2 [00:00<00:00,  6.00it/s]\n"
          ]
        },
        {
          "name": "stdout",
          "output_type": "stream",
          "text": [
            "\n",
            "epoch 12\n",
            "\ttrain_loss:0.688 valid_loss:0.722\n",
            "\ttrain_acc:71.29% valid_acc:70.03%\n",
            "\ttrain_f1:0.672 valid_f1:0.673\n",
            "\ttrain_confusion_matrix:\n",
            "[[ 114  377  397]\n",
            " [  54 2133  231]\n",
            " [  31  233 1038]]\n",
            "\tvalid_confusion_matrix:\n",
            "[[ 45  95  81]\n",
            " [ 22 534  56]\n",
            " [ 18  76 234]]\n"
          ]
        },
        {
          "name": "stderr",
          "output_type": "stream",
          "text": [
            "  0%|          | 0/36 [00:00<?, ?it/s]/var/folders/3c/71b8pg6d7j5dht_5h_2n4n_c0000gn/T/ipykernel_10911/1044936714.py:147: UserWarning: Implicit dimension choice for softmax has been deprecated. Change the call to include dim=X as an argument.\n",
            "  final_out = torch.nn.functional.softmax(out)\n",
            "100%|██████████| 36/36 [00:06<00:00,  5.26it/s]\n",
            "  0%|          | 0/2 [00:00<?, ?it/s]/var/folders/3c/71b8pg6d7j5dht_5h_2n4n_c0000gn/T/ipykernel_10911/1044936714.py:147: UserWarning: Implicit dimension choice for softmax has been deprecated. Change the call to include dim=X as an argument.\n",
            "  final_out = torch.nn.functional.softmax(out)\n",
            "100%|██████████| 2/2 [00:00<00:00,  5.82it/s]\n"
          ]
        },
        {
          "name": "stdout",
          "output_type": "stream",
          "text": [
            "\n",
            "epoch 13\n",
            "\ttrain_loss:0.679 valid_loss:0.725\n",
            "\ttrain_acc:71.96% valid_acc:69.77%\n",
            "\ttrain_f1:0.686 valid_f1:0.668\n",
            "\ttrain_confusion_matrix:\n",
            "[[ 148  354  383]\n",
            " [  57 2128  233]\n",
            " [  54  211 1040]]\n",
            "\tvalid_confusion_matrix:\n",
            "[[ 42  95  84]\n",
            " [ 21 537  54]\n",
            " [ 15  82 231]]\n"
          ]
        },
        {
          "name": "stderr",
          "output_type": "stream",
          "text": [
            "  0%|          | 0/36 [00:00<?, ?it/s]/var/folders/3c/71b8pg6d7j5dht_5h_2n4n_c0000gn/T/ipykernel_10911/1044936714.py:147: UserWarning: Implicit dimension choice for softmax has been deprecated. Change the call to include dim=X as an argument.\n",
            "  final_out = torch.nn.functional.softmax(out)\n",
            "100%|██████████| 36/36 [00:06<00:00,  5.53it/s]\n",
            "  0%|          | 0/2 [00:00<?, ?it/s]/var/folders/3c/71b8pg6d7j5dht_5h_2n4n_c0000gn/T/ipykernel_10911/1044936714.py:147: UserWarning: Implicit dimension choice for softmax has been deprecated. Change the call to include dim=X as an argument.\n",
            "  final_out = torch.nn.functional.softmax(out)\n",
            "100%|██████████| 2/2 [00:00<00:00,  5.82it/s]\n"
          ]
        },
        {
          "name": "stdout",
          "output_type": "stream",
          "text": [
            "\n",
            "epoch 14\n",
            "\ttrain_loss:0.671 valid_loss:0.723\n",
            "\ttrain_acc:72.20% valid_acc:70.11%\n",
            "\ttrain_f1:0.688 valid_f1:0.682\n",
            "\ttrain_confusion_matrix:\n",
            "[[ 156  359  377]\n",
            " [  62 2126  224]\n",
            " [  46  213 1045]]\n",
            "\tvalid_confusion_matrix:\n",
            "[[ 56  76  89]\n",
            " [ 31 515  66]\n",
            " [ 19  66 243]]\n"
          ]
        },
        {
          "name": "stderr",
          "output_type": "stream",
          "text": [
            "  0%|          | 0/36 [00:00<?, ?it/s]/var/folders/3c/71b8pg6d7j5dht_5h_2n4n_c0000gn/T/ipykernel_10911/1044936714.py:147: UserWarning: Implicit dimension choice for softmax has been deprecated. Change the call to include dim=X as an argument.\n",
            "  final_out = torch.nn.functional.softmax(out)\n",
            "100%|██████████| 36/36 [00:07<00:00,  5.01it/s]\n",
            "  0%|          | 0/2 [00:00<?, ?it/s]/var/folders/3c/71b8pg6d7j5dht_5h_2n4n_c0000gn/T/ipykernel_10911/1044936714.py:147: UserWarning: Implicit dimension choice for softmax has been deprecated. Change the call to include dim=X as an argument.\n",
            "  final_out = torch.nn.functional.softmax(out)\n",
            "100%|██████████| 2/2 [00:00<00:00,  5.38it/s]\n"
          ]
        },
        {
          "name": "stdout",
          "output_type": "stream",
          "text": [
            "\n",
            "epoch 15\n",
            "\ttrain_loss:0.658 valid_loss:0.723\n",
            "\ttrain_acc:72.76% valid_acc:70.11%\n",
            "\ttrain_f1:0.698 valid_f1:0.686\n",
            "\ttrain_confusion_matrix:\n",
            "[[ 182  349  360]\n",
            " [  64 2142  211]\n",
            " [  53  218 1029]]\n",
            "\tvalid_confusion_matrix:\n",
            "[[ 62  72  87]\n",
            " [ 35 508  69]\n",
            " [ 21  63 244]]\n"
          ]
        },
        {
          "name": "stderr",
          "output_type": "stream",
          "text": [
            "  0%|          | 0/36 [00:00<?, ?it/s]/var/folders/3c/71b8pg6d7j5dht_5h_2n4n_c0000gn/T/ipykernel_10911/1044936714.py:147: UserWarning: Implicit dimension choice for softmax has been deprecated. Change the call to include dim=X as an argument.\n",
            "  final_out = torch.nn.functional.softmax(out)\n",
            "100%|██████████| 36/36 [00:06<00:00,  5.35it/s]\n",
            "  0%|          | 0/2 [00:00<?, ?it/s]/var/folders/3c/71b8pg6d7j5dht_5h_2n4n_c0000gn/T/ipykernel_10911/1044936714.py:147: UserWarning: Implicit dimension choice for softmax has been deprecated. Change the call to include dim=X as an argument.\n",
            "  final_out = torch.nn.functional.softmax(out)\n",
            "100%|██████████| 2/2 [00:00<00:00,  5.93it/s]\n"
          ]
        },
        {
          "name": "stdout",
          "output_type": "stream",
          "text": [
            "\n",
            "epoch 16\n",
            "\ttrain_loss:0.649 valid_loss:0.720\n",
            "\ttrain_acc:72.92% valid_acc:71.32%\n",
            "\ttrain_f1:0.703 valid_f1:0.699\n",
            "\ttrain_confusion_matrix:\n",
            "[[ 204  333  354]\n",
            " [  79 2126  212]\n",
            " [  66  204 1030]]\n",
            "\tvalid_confusion_matrix:\n",
            "[[ 71  75  75]\n",
            " [ 34 522  56]\n",
            " [ 23  70 235]]\n"
          ]
        },
        {
          "name": "stderr",
          "output_type": "stream",
          "text": [
            "  0%|          | 0/36 [00:00<?, ?it/s]/var/folders/3c/71b8pg6d7j5dht_5h_2n4n_c0000gn/T/ipykernel_10911/1044936714.py:147: UserWarning: Implicit dimension choice for softmax has been deprecated. Change the call to include dim=X as an argument.\n",
            "  final_out = torch.nn.functional.softmax(out)\n",
            "100%|██████████| 36/36 [00:06<00:00,  5.23it/s]\n",
            "  0%|          | 0/2 [00:00<?, ?it/s]/var/folders/3c/71b8pg6d7j5dht_5h_2n4n_c0000gn/T/ipykernel_10911/1044936714.py:147: UserWarning: Implicit dimension choice for softmax has been deprecated. Change the call to include dim=X as an argument.\n",
            "  final_out = torch.nn.functional.softmax(out)\n",
            "100%|██████████| 2/2 [00:00<00:00,  5.83it/s]\n"
          ]
        },
        {
          "name": "stdout",
          "output_type": "stream",
          "text": [
            "\n",
            "epoch 17\n",
            "\ttrain_loss:0.647 valid_loss:0.710\n",
            "\ttrain_acc:73.33% valid_acc:70.03%\n",
            "\ttrain_f1:0.710 valid_f1:0.687\n",
            "\ttrain_confusion_matrix:\n",
            "[[ 223  328  340]\n",
            " [  80 2129  205]\n",
            " [  76  200 1027]]\n",
            "\tvalid_confusion_matrix:\n",
            "[[ 70  73  78]\n",
            " [ 38 519  55]\n",
            " [ 27  77 224]]\n"
          ]
        },
        {
          "name": "stderr",
          "output_type": "stream",
          "text": [
            "  0%|          | 0/36 [00:00<?, ?it/s]/var/folders/3c/71b8pg6d7j5dht_5h_2n4n_c0000gn/T/ipykernel_10911/1044936714.py:147: UserWarning: Implicit dimension choice for softmax has been deprecated. Change the call to include dim=X as an argument.\n",
            "  final_out = torch.nn.functional.softmax(out)\n",
            "100%|██████████| 36/36 [00:06<00:00,  5.36it/s]\n",
            "  0%|          | 0/2 [00:00<?, ?it/s]/var/folders/3c/71b8pg6d7j5dht_5h_2n4n_c0000gn/T/ipykernel_10911/1044936714.py:147: UserWarning: Implicit dimension choice for softmax has been deprecated. Change the call to include dim=X as an argument.\n",
            "  final_out = torch.nn.functional.softmax(out)\n",
            "100%|██████████| 2/2 [00:00<00:00,  5.94it/s]\n"
          ]
        },
        {
          "name": "stdout",
          "output_type": "stream",
          "text": [
            "\n",
            "epoch 18\n",
            "\ttrain_loss:0.635 valid_loss:0.706\n",
            "\ttrain_acc:73.91% valid_acc:70.63%\n",
            "\ttrain_f1:0.717 valid_f1:0.697\n",
            "\ttrain_confusion_matrix:\n",
            "[[ 237  320  333]\n",
            " [  84 2127  203]\n",
            " [  78  184 1042]]\n",
            "\tvalid_confusion_matrix:\n",
            "[[ 80  69  72]\n",
            " [ 46 516  50]\n",
            " [ 33  71 224]]\n"
          ]
        },
        {
          "name": "stderr",
          "output_type": "stream",
          "text": [
            "  0%|          | 0/36 [00:00<?, ?it/s]/var/folders/3c/71b8pg6d7j5dht_5h_2n4n_c0000gn/T/ipykernel_10911/1044936714.py:147: UserWarning: Implicit dimension choice for softmax has been deprecated. Change the call to include dim=X as an argument.\n",
            "  final_out = torch.nn.functional.softmax(out)\n",
            "100%|██████████| 36/36 [00:06<00:00,  5.33it/s]\n",
            "  0%|          | 0/2 [00:00<?, ?it/s]/var/folders/3c/71b8pg6d7j5dht_5h_2n4n_c0000gn/T/ipykernel_10911/1044936714.py:147: UserWarning: Implicit dimension choice for softmax has been deprecated. Change the call to include dim=X as an argument.\n",
            "  final_out = torch.nn.functional.softmax(out)\n",
            "100%|██████████| 2/2 [00:00<00:00,  5.72it/s]\n"
          ]
        },
        {
          "name": "stdout",
          "output_type": "stream",
          "text": [
            "\n",
            "epoch 19\n",
            "\ttrain_loss:0.626 valid_loss:0.713\n",
            "\ttrain_acc:74.26% valid_acc:71.15%\n",
            "\ttrain_f1:0.724 valid_f1:0.694\n",
            "\ttrain_confusion_matrix:\n",
            "[[ 266  316  313]\n",
            " [  96 2136  180]\n",
            " [ 102  179 1020]]\n",
            "\tvalid_confusion_matrix:\n",
            "[[ 64  73  84]\n",
            " [ 26 523  63]\n",
            " [ 17  72 239]]\n",
            "Loading saved model from: model_task2.bin\n"
          ]
        },
        {
          "name": "stderr",
          "output_type": "stream",
          "text": [
            "  0%|          | 0/2 [00:00<?, ?it/s]/var/folders/3c/71b8pg6d7j5dht_5h_2n4n_c0000gn/T/ipykernel_10911/1044936714.py:147: UserWarning: Implicit dimension choice for softmax has been deprecated. Change the call to include dim=X as an argument.\n",
            "  final_out = torch.nn.functional.softmax(out)\n",
            "100%|██████████| 2/2 [00:00<00:00,  5.83it/s]"
          ]
        },
        {
          "name": "stdout",
          "output_type": "stream",
          "text": [
            "              precision    recall  f1-score   support\n",
            "\n",
            "     Neutral       0.51      0.37      0.43       221\n",
            "    Positive       0.78      0.84      0.81       612\n",
            "    Negative       0.65      0.68      0.67       328\n",
            "\n",
            "    accuracy                           0.71      1161\n",
            "   macro avg       0.65      0.63      0.64      1161\n",
            "weighted avg       0.69      0.71      0.70      1161\n",
            "\n"
          ]
        },
        {
          "name": "stderr",
          "output_type": "stream",
          "text": [
            "\n"
          ]
        }
      ],
      "source": [
        "lst = [0, 0.2, 0.4]\n",
        "lst = [0.6, 0.8, 1]\n",
        "\n",
        "for alpha_val in lst:\n",
        "    choice = [2, 4, 8]\n",
        "    upsampling = False\n",
        "\n",
        "    for window in choice:\n",
        "\n",
        "        print()\n",
        "        print(\"*\"*90)\n",
        "        print(\"Alpha Size: {}\".format(alpha_val))\n",
        "        print(\"Window Size: {}\".format(window))\n",
        "        print(\"*\"*90)\n",
        "        print()\n",
        "\n",
        "        all_aspect_clusters = []\n",
        "        for i in range(len(sentences)):\n",
        "            all_aspect_clusters.extend(chop(sentences[i], aspect_tags[i], polarity_tags[i], \n",
        "                                            window_size=window))\n",
        "\n",
        "        local_context, global_context, y = create_train_data_restaurant(all_aspect_clusters ,word_indx, sent_len=85)\n",
        "\n",
        "        X_l_train, X_l_valid, X_g_train, X_g_valid,  y_train, y_valid = train_test_split(local_context, global_context, y, test_size=VALID_SIZE)\n",
        "\n",
        "        device = get_default_device()\n",
        "\n",
        "        NUM_EPOCHS = 20\n",
        "        TRAIN_BATCH_SIZE = 128\n",
        "        VALID_BATCH_SIZE = 1024\n",
        "\n",
        "        NUM_POLARITY_TAGS = 3\n",
        "\n",
        "        history = {\n",
        "            \"train_loss\": list(),\n",
        "            \"polarity_train_acc\": list(),\n",
        "            \"valid_loss\": list(),\n",
        "            \"polarity_valid_acc\": list(),\n",
        "        }\n",
        "\n",
        "        best_loss = np.inf\n",
        "\n",
        "        dataset = TensorDataset(torch.Tensor(X_l_train), torch.Tensor(X_g_train), torch.Tensor(y_train))\n",
        "        print(f\"train samples:{len(dataset)}\")\n",
        "        train_loader = DataLoader(dataset, batch_size=TRAIN_BATCH_SIZE, shuffle=True, drop_last=True)\n",
        "\n",
        "        dataset_valid = TensorDataset(torch.Tensor(X_l_valid),  torch.Tensor(X_g_valid), torch.Tensor(y_valid))\n",
        "        print(f\"valid samples:{len(dataset_valid)}\")\n",
        "        test_loader = DataLoader(dataset_valid, batch_size=VALID_BATCH_SIZE)\n",
        "\n",
        "        model = to_device(Model(general_embedding,  num_classes=3, alpha = alpha_val), device)\n",
        "\n",
        "        torch.cuda.empty_cache()\n",
        "\n",
        "        parameters = [p for p in model.parameters() if p.requires_grad]\n",
        "        optimizer = AdamW(parameters, lr=1e-4)\n",
        "\n",
        "\n",
        "        for epoch in range(NUM_EPOCHS):\n",
        "            train_losses = []\n",
        "            train_acc = []\n",
        "            test_loss = []\n",
        "            test_acc = []\n",
        "            train_f1 = []\n",
        "            test_f1 = []\n",
        "\n",
        "            model.train()\n",
        "            preds = []\n",
        "            masks = []\n",
        "            labels = []\n",
        "            for data in tqdm(train_loader, total=len(train_loader)):\n",
        "                for i in range(len(data)):\n",
        "                    data[i] = data[i].to(device)\n",
        "                l_feature, g_feature, label = data\n",
        "                l_feature, g_feature, label = l_feature.long(), g_feature.long(), label.long()\n",
        "\n",
        "                optimizer.zero_grad()\n",
        "                pred_logits, logits = model(l_feature, g_feature)\n",
        "                loss = loss_fn(logits, label, 3) #w/o softmax\n",
        "                loss.backward()\n",
        "                optimizer.step()\n",
        "\n",
        "                train_losses.append(loss.item())\n",
        "\n",
        "                pred_tags = pred_logits.max(-1)[1] #with softmax\n",
        "                preds.append(pred_tags)\n",
        "                labels.append(label)\n",
        "\n",
        "            avg_train_acc, avg_train_f1, train_cm = cal_acc(preds,labels)\n",
        "            avg_train_loss = sum(train_losses) / len(train_losses)\n",
        "\n",
        "            preds = []\n",
        "            masks = []\n",
        "            labels = []\n",
        "            with torch.no_grad():\n",
        "                for data in tqdm(test_loader, total=len(test_loader)):\n",
        "                    for i in range(len(data)):\n",
        "                        data[i] = data[i].to(device)\n",
        "                    l_feature, g_feature, label = data\n",
        "                    l_feature, g_feature, label = l_feature.long(), g_feature.long(), label.long()\n",
        "                    pred_logits, logits = model(l_feature, g_feature)\n",
        "                    loss = loss_fn(logits, label, 3) #w/o softmax\n",
        "\n",
        "                    test_loss.append(loss.item())\n",
        "\n",
        "                    pred_tags = pred_logits.max(-1)[1] #with softmax\n",
        "\n",
        "                    preds.append(pred_tags)\n",
        "                    labels.append(label)\n",
        "\n",
        "            avg_test_acc, avg_test_f1, test_cm = cal_acc(preds,  labels)\n",
        "            avg_test_loss = sum(test_loss) / len(test_loss)\n",
        "\n",
        "            print(f\"\\nepoch {epoch}\")\n",
        "            print(\"\\ttrain_loss:{:.3f} valid_loss:{:.3f}\".format(avg_train_loss, avg_test_loss))\n",
        "            print(\"\\ttrain_acc:{:.2%} valid_acc:{:.2%}\".format(avg_train_acc, avg_test_acc))\n",
        "            print(\"\\ttrain_f1:{:.3f} valid_f1:{:.3f}\".format(avg_train_f1, avg_test_f1))\n",
        "            print(f\"\\ttrain_confusion_matrix:\\n{train_cm}\")\n",
        "            print(f\"\\tvalid_confusion_matrix:\\n{test_cm}\")\n",
        "\n",
        "            if avg_test_loss < best_loss:\n",
        "                torch.save(model.state_dict(), MODEL_PATH)\n",
        "                best_loss = avg_test_loss    \n",
        "                \n",
        "            history['train_loss'].append(avg_train_loss)\n",
        "            history['polarity_train_acc'].append(avg_train_acc.cpu().numpy())\n",
        "            history['valid_loss'].append(avg_test_loss)\n",
        "            history['polarity_valid_acc'].append(avg_test_acc.cpu().numpy())\n",
        "\n",
        "        get_classification_report(test_loader, model, model_path=MODEL_PATH)\n",
        "                \n",
        "            \n"
      ]
    },
    {
      "cell_type": "markdown",
      "metadata": {},
      "source": [
        "## upsampling = True"
      ]
    },
    {
      "cell_type": "code",
      "execution_count": 42,
      "metadata": {},
      "outputs": [
        {
          "name": "stdout",
          "output_type": "stream",
          "text": [
            "\n",
            "******************************************************************************************\n",
            "Alpha Size: 0\n",
            "Window Size: 2\n",
            "******************************************************************************************\n",
            "\n",
            "train samples:7311\n",
            "valid samples:1161\n"
          ]
        },
        {
          "name": "stderr",
          "output_type": "stream",
          "text": [
            "  0%|          | 0/57 [00:00<?, ?it/s]/var/folders/3c/71b8pg6d7j5dht_5h_2n4n_c0000gn/T/ipykernel_10911/1044936714.py:147: UserWarning: Implicit dimension choice for softmax has been deprecated. Change the call to include dim=X as an argument.\n",
            "  final_out = torch.nn.functional.softmax(out)\n",
            "100%|██████████| 57/57 [00:10<00:00,  5.40it/s]\n",
            "  0%|          | 0/2 [00:00<?, ?it/s]/var/folders/3c/71b8pg6d7j5dht_5h_2n4n_c0000gn/T/ipykernel_10911/1044936714.py:147: UserWarning: Implicit dimension choice for softmax has been deprecated. Change the call to include dim=X as an argument.\n",
            "  final_out = torch.nn.functional.softmax(out)\n",
            "100%|██████████| 2/2 [00:00<00:00,  5.92it/s]\n"
          ]
        },
        {
          "name": "stdout",
          "output_type": "stream",
          "text": [
            "\n",
            "epoch 0\n",
            "\ttrain_loss:1.086 valid_loss:1.065\n",
            "\ttrain_acc:43.50% valid_acc:57.88%\n",
            "\ttrain_f1:0.385 valid_f1:0.578\n",
            "\ttrain_confusion_matrix:\n",
            "[[ 780 1515  135]\n",
            " [ 293 2060   81]\n",
            " [ 558 1540  334]]\n",
            "\tvalid_confusion_matrix:\n",
            "[[ 75  73  80]\n",
            " [ 77 428 102]\n",
            " [ 57 100 169]]\n"
          ]
        },
        {
          "name": "stderr",
          "output_type": "stream",
          "text": [
            "  0%|          | 0/57 [00:00<?, ?it/s]/var/folders/3c/71b8pg6d7j5dht_5h_2n4n_c0000gn/T/ipykernel_10911/1044936714.py:147: UserWarning: Implicit dimension choice for softmax has been deprecated. Change the call to include dim=X as an argument.\n",
            "  final_out = torch.nn.functional.softmax(out)\n",
            "100%|██████████| 57/57 [00:10<00:00,  5.45it/s]\n",
            "  0%|          | 0/2 [00:00<?, ?it/s]/var/folders/3c/71b8pg6d7j5dht_5h_2n4n_c0000gn/T/ipykernel_10911/1044936714.py:147: UserWarning: Implicit dimension choice for softmax has been deprecated. Change the call to include dim=X as an argument.\n",
            "  final_out = torch.nn.functional.softmax(out)\n",
            "100%|██████████| 2/2 [00:00<00:00,  6.37it/s]\n"
          ]
        },
        {
          "name": "stdout",
          "output_type": "stream",
          "text": [
            "\n",
            "epoch 1\n",
            "\ttrain_loss:1.051 valid_loss:1.005\n",
            "\ttrain_acc:55.44% valid_acc:58.48%\n",
            "\ttrain_f1:0.543 valid_f1:0.581\n",
            "\ttrain_confusion_matrix:\n",
            "[[ 846  714  874]\n",
            " [ 239 1667  525]\n",
            " [ 319  580 1532]]\n",
            "\tvalid_confusion_matrix:\n",
            "[[ 58  67 103]\n",
            " [ 52 403 152]\n",
            " [ 35  73 218]]\n"
          ]
        },
        {
          "name": "stderr",
          "output_type": "stream",
          "text": [
            "  0%|          | 0/57 [00:00<?, ?it/s]/var/folders/3c/71b8pg6d7j5dht_5h_2n4n_c0000gn/T/ipykernel_10911/1044936714.py:147: UserWarning: Implicit dimension choice for softmax has been deprecated. Change the call to include dim=X as an argument.\n",
            "  final_out = torch.nn.functional.softmax(out)\n",
            "100%|██████████| 57/57 [00:09<00:00,  5.82it/s]\n",
            "  0%|          | 0/2 [00:00<?, ?it/s]/var/folders/3c/71b8pg6d7j5dht_5h_2n4n_c0000gn/T/ipykernel_10911/1044936714.py:147: UserWarning: Implicit dimension choice for softmax has been deprecated. Change the call to include dim=X as an argument.\n",
            "  final_out = torch.nn.functional.softmax(out)\n",
            "100%|██████████| 2/2 [00:00<00:00,  6.45it/s]\n"
          ]
        },
        {
          "name": "stdout",
          "output_type": "stream",
          "text": [
            "\n",
            "epoch 2\n",
            "\ttrain_loss:0.979 valid_loss:0.883\n",
            "\ttrain_acc:56.54% valid_acc:60.81%\n",
            "\ttrain_f1:0.553 valid_f1:0.607\n",
            "\ttrain_confusion_matrix:\n",
            "[[ 834  641  960]\n",
            " [ 204 1646  582]\n",
            " [ 275  509 1645]]\n",
            "\tvalid_confusion_matrix:\n",
            "[[ 75  69  84]\n",
            " [ 72 438  97]\n",
            " [ 51  82 193]]\n"
          ]
        },
        {
          "name": "stderr",
          "output_type": "stream",
          "text": [
            "  0%|          | 0/57 [00:00<?, ?it/s]/var/folders/3c/71b8pg6d7j5dht_5h_2n4n_c0000gn/T/ipykernel_10911/1044936714.py:147: UserWarning: Implicit dimension choice for softmax has been deprecated. Change the call to include dim=X as an argument.\n",
            "  final_out = torch.nn.functional.softmax(out)\n",
            "100%|██████████| 57/57 [00:09<00:00,  5.89it/s]\n",
            "  0%|          | 0/2 [00:00<?, ?it/s]/var/folders/3c/71b8pg6d7j5dht_5h_2n4n_c0000gn/T/ipykernel_10911/1044936714.py:147: UserWarning: Implicit dimension choice for softmax has been deprecated. Change the call to include dim=X as an argument.\n",
            "  final_out = torch.nn.functional.softmax(out)\n",
            "100%|██████████| 2/2 [00:00<00:00,  4.95it/s]\n"
          ]
        },
        {
          "name": "stdout",
          "output_type": "stream",
          "text": [
            "\n",
            "epoch 3\n",
            "\ttrain_loss:0.891 valid_loss:0.818\n",
            "\ttrain_acc:59.47% valid_acc:61.84%\n",
            "\ttrain_f1:0.593 valid_f1:0.626\n",
            "\ttrain_confusion_matrix:\n",
            "[[1210  521  702]\n",
            " [ 364 1655  413]\n",
            " [ 500  457 1474]]\n",
            "\tvalid_confusion_matrix:\n",
            "[[ 98  56  74]\n",
            " [ 94 429  84]\n",
            " [ 72  63 191]]\n"
          ]
        },
        {
          "name": "stderr",
          "output_type": "stream",
          "text": [
            "  0%|          | 0/57 [00:00<?, ?it/s]/var/folders/3c/71b8pg6d7j5dht_5h_2n4n_c0000gn/T/ipykernel_10911/1044936714.py:147: UserWarning: Implicit dimension choice for softmax has been deprecated. Change the call to include dim=X as an argument.\n",
            "  final_out = torch.nn.functional.softmax(out)\n",
            "100%|██████████| 57/57 [00:09<00:00,  5.94it/s]\n",
            "  0%|          | 0/2 [00:00<?, ?it/s]/var/folders/3c/71b8pg6d7j5dht_5h_2n4n_c0000gn/T/ipykernel_10911/1044936714.py:147: UserWarning: Implicit dimension choice for softmax has been deprecated. Change the call to include dim=X as an argument.\n",
            "  final_out = torch.nn.functional.softmax(out)\n",
            "100%|██████████| 2/2 [00:00<00:00,  6.31it/s]\n"
          ]
        },
        {
          "name": "stdout",
          "output_type": "stream",
          "text": [
            "\n",
            "epoch 4\n",
            "\ttrain_loss:0.837 valid_loss:0.804\n",
            "\ttrain_acc:62.29% valid_acc:62.53%\n",
            "\ttrain_f1:0.623 valid_f1:0.633\n",
            "\ttrain_confusion_matrix:\n",
            "[[1428  395  608]\n",
            " [ 423 1645  365]\n",
            " [ 620  340 1472]]\n",
            "\tvalid_confusion_matrix:\n",
            "[[ 96  49  83]\n",
            " [ 88 415 104]\n",
            " [ 65  46 215]]\n"
          ]
        },
        {
          "name": "stderr",
          "output_type": "stream",
          "text": [
            "  0%|          | 0/57 [00:00<?, ?it/s]/var/folders/3c/71b8pg6d7j5dht_5h_2n4n_c0000gn/T/ipykernel_10911/1044936714.py:147: UserWarning: Implicit dimension choice for softmax has been deprecated. Change the call to include dim=X as an argument.\n",
            "  final_out = torch.nn.functional.softmax(out)\n",
            "100%|██████████| 57/57 [00:09<00:00,  5.88it/s]\n",
            "  0%|          | 0/2 [00:00<?, ?it/s]/var/folders/3c/71b8pg6d7j5dht_5h_2n4n_c0000gn/T/ipykernel_10911/1044936714.py:147: UserWarning: Implicit dimension choice for softmax has been deprecated. Change the call to include dim=X as an argument.\n",
            "  final_out = torch.nn.functional.softmax(out)\n",
            "100%|██████████| 2/2 [00:00<00:00,  6.49it/s]\n"
          ]
        },
        {
          "name": "stdout",
          "output_type": "stream",
          "text": [
            "\n",
            "epoch 5\n",
            "\ttrain_loss:0.807 valid_loss:0.805\n",
            "\ttrain_acc:64.01% valid_acc:63.31%\n",
            "\ttrain_f1:0.641 valid_f1:0.644\n",
            "\ttrain_confusion_matrix:\n",
            "[[1485  359  586]\n",
            " [ 417 1655  359]\n",
            " [ 601  304 1530]]\n",
            "\tvalid_confusion_matrix:\n",
            "[[118  39  71]\n",
            " [102 406  99]\n",
            " [ 72  43 211]]\n"
          ]
        },
        {
          "name": "stderr",
          "output_type": "stream",
          "text": [
            "  0%|          | 0/57 [00:00<?, ?it/s]/var/folders/3c/71b8pg6d7j5dht_5h_2n4n_c0000gn/T/ipykernel_10911/1044936714.py:147: UserWarning: Implicit dimension choice for softmax has been deprecated. Change the call to include dim=X as an argument.\n",
            "  final_out = torch.nn.functional.softmax(out)\n",
            "100%|██████████| 57/57 [00:09<00:00,  5.84it/s]\n",
            "  0%|          | 0/2 [00:00<?, ?it/s]/var/folders/3c/71b8pg6d7j5dht_5h_2n4n_c0000gn/T/ipykernel_10911/1044936714.py:147: UserWarning: Implicit dimension choice for softmax has been deprecated. Change the call to include dim=X as an argument.\n",
            "  final_out = torch.nn.functional.softmax(out)\n",
            "100%|██████████| 2/2 [00:00<00:00,  6.39it/s]\n"
          ]
        },
        {
          "name": "stdout",
          "output_type": "stream",
          "text": [
            "\n",
            "epoch 6\n",
            "\ttrain_loss:0.784 valid_loss:0.803\n",
            "\ttrain_acc:65.98% valid_acc:62.62%\n",
            "\ttrain_f1:0.660 valid_f1:0.637\n",
            "\ttrain_confusion_matrix:\n",
            "[[1553  334  543]\n",
            " [ 399 1701  333]\n",
            " [ 570  303 1560]]\n",
            "\tvalid_confusion_matrix:\n",
            "[[112  38  78]\n",
            " [102 400 105]\n",
            " [ 68  43 215]]\n"
          ]
        },
        {
          "name": "stderr",
          "output_type": "stream",
          "text": [
            "  0%|          | 0/57 [00:00<?, ?it/s]/var/folders/3c/71b8pg6d7j5dht_5h_2n4n_c0000gn/T/ipykernel_10911/1044936714.py:147: UserWarning: Implicit dimension choice for softmax has been deprecated. Change the call to include dim=X as an argument.\n",
            "  final_out = torch.nn.functional.softmax(out)\n",
            "100%|██████████| 57/57 [00:09<00:00,  5.79it/s]\n",
            "  0%|          | 0/2 [00:00<?, ?it/s]/var/folders/3c/71b8pg6d7j5dht_5h_2n4n_c0000gn/T/ipykernel_10911/1044936714.py:147: UserWarning: Implicit dimension choice for softmax has been deprecated. Change the call to include dim=X as an argument.\n",
            "  final_out = torch.nn.functional.softmax(out)\n",
            "100%|██████████| 2/2 [00:00<00:00,  6.69it/s]\n"
          ]
        },
        {
          "name": "stdout",
          "output_type": "stream",
          "text": [
            "\n",
            "epoch 7\n",
            "\ttrain_loss:0.764 valid_loss:0.798\n",
            "\ttrain_acc:67.12% valid_acc:62.70%\n",
            "\ttrain_f1:0.672 valid_f1:0.639\n",
            "\ttrain_confusion_matrix:\n",
            "[[1613  306  509]\n",
            " [ 401 1685  347]\n",
            " [ 572  264 1599]]\n",
            "\tvalid_confusion_matrix:\n",
            "[[120  40  68]\n",
            " [113 401  93]\n",
            " [ 75  44 207]]\n"
          ]
        },
        {
          "name": "stderr",
          "output_type": "stream",
          "text": [
            "  0%|          | 0/57 [00:00<?, ?it/s]/var/folders/3c/71b8pg6d7j5dht_5h_2n4n_c0000gn/T/ipykernel_10911/1044936714.py:147: UserWarning: Implicit dimension choice for softmax has been deprecated. Change the call to include dim=X as an argument.\n",
            "  final_out = torch.nn.functional.softmax(out)\n",
            "100%|██████████| 57/57 [00:09<00:00,  5.87it/s]\n",
            "  0%|          | 0/2 [00:00<?, ?it/s]/var/folders/3c/71b8pg6d7j5dht_5h_2n4n_c0000gn/T/ipykernel_10911/1044936714.py:147: UserWarning: Implicit dimension choice for softmax has been deprecated. Change the call to include dim=X as an argument.\n",
            "  final_out = torch.nn.functional.softmax(out)\n",
            "100%|██████████| 2/2 [00:00<00:00,  6.37it/s]\n"
          ]
        },
        {
          "name": "stdout",
          "output_type": "stream",
          "text": [
            "\n",
            "epoch 8\n",
            "\ttrain_loss:0.744 valid_loss:0.807\n",
            "\ttrain_acc:68.43% valid_acc:63.31%\n",
            "\ttrain_f1:0.685 valid_f1:0.647\n",
            "\ttrain_confusion_matrix:\n",
            "[[1662  304  468]\n",
            " [ 395 1701  332]\n",
            " [ 538  266 1630]]\n",
            "\tvalid_confusion_matrix:\n",
            "[[129  33  66]\n",
            " [121 402  84]\n",
            " [ 81  41 204]]\n"
          ]
        },
        {
          "name": "stderr",
          "output_type": "stream",
          "text": [
            "  0%|          | 0/57 [00:00<?, ?it/s]/var/folders/3c/71b8pg6d7j5dht_5h_2n4n_c0000gn/T/ipykernel_10911/1044936714.py:147: UserWarning: Implicit dimension choice for softmax has been deprecated. Change the call to include dim=X as an argument.\n",
            "  final_out = torch.nn.functional.softmax(out)\n",
            "100%|██████████| 57/57 [00:09<00:00,  5.80it/s]\n",
            "  0%|          | 0/2 [00:00<?, ?it/s]/var/folders/3c/71b8pg6d7j5dht_5h_2n4n_c0000gn/T/ipykernel_10911/1044936714.py:147: UserWarning: Implicit dimension choice for softmax has been deprecated. Change the call to include dim=X as an argument.\n",
            "  final_out = torch.nn.functional.softmax(out)\n",
            "100%|██████████| 2/2 [00:00<00:00,  5.88it/s]\n"
          ]
        },
        {
          "name": "stdout",
          "output_type": "stream",
          "text": [
            "\n",
            "epoch 9\n",
            "\ttrain_loss:0.730 valid_loss:0.795\n",
            "\ttrain_acc:69.63% valid_acc:62.70%\n",
            "\ttrain_f1:0.697 valid_f1:0.639\n",
            "\ttrain_confusion_matrix:\n",
            "[[1689  265  477]\n",
            " [ 370 1734  329]\n",
            " [ 510  265 1657]]\n",
            "\tvalid_confusion_matrix:\n",
            "[[116  39  73]\n",
            " [111 411  85]\n",
            " [ 77  48 201]]\n"
          ]
        },
        {
          "name": "stderr",
          "output_type": "stream",
          "text": [
            "  0%|          | 0/57 [00:00<?, ?it/s]/var/folders/3c/71b8pg6d7j5dht_5h_2n4n_c0000gn/T/ipykernel_10911/1044936714.py:147: UserWarning: Implicit dimension choice for softmax has been deprecated. Change the call to include dim=X as an argument.\n",
            "  final_out = torch.nn.functional.softmax(out)\n",
            "100%|██████████| 57/57 [00:09<00:00,  5.89it/s]\n",
            "  0%|          | 0/2 [00:00<?, ?it/s]/var/folders/3c/71b8pg6d7j5dht_5h_2n4n_c0000gn/T/ipykernel_10911/1044936714.py:147: UserWarning: Implicit dimension choice for softmax has been deprecated. Change the call to include dim=X as an argument.\n",
            "  final_out = torch.nn.functional.softmax(out)\n",
            "100%|██████████| 2/2 [00:00<00:00,  6.18it/s]\n"
          ]
        },
        {
          "name": "stdout",
          "output_type": "stream",
          "text": [
            "\n",
            "epoch 10\n",
            "\ttrain_loss:0.711 valid_loss:0.814\n",
            "\ttrain_acc:70.76% valid_acc:62.45%\n",
            "\ttrain_f1:0.708 valid_f1:0.638\n",
            "\ttrain_confusion_matrix:\n",
            "[[1758  263  411]\n",
            " [ 366 1737  329]\n",
            " [ 504  260 1668]]\n",
            "\tvalid_confusion_matrix:\n",
            "[[121  38  69]\n",
            " [120 401  86]\n",
            " [ 78  45 203]]\n"
          ]
        },
        {
          "name": "stderr",
          "output_type": "stream",
          "text": [
            "  0%|          | 0/57 [00:00<?, ?it/s]/var/folders/3c/71b8pg6d7j5dht_5h_2n4n_c0000gn/T/ipykernel_10911/1044936714.py:147: UserWarning: Implicit dimension choice for softmax has been deprecated. Change the call to include dim=X as an argument.\n",
            "  final_out = torch.nn.functional.softmax(out)\n",
            "100%|██████████| 57/57 [00:09<00:00,  5.93it/s]\n",
            "  0%|          | 0/2 [00:00<?, ?it/s]/var/folders/3c/71b8pg6d7j5dht_5h_2n4n_c0000gn/T/ipykernel_10911/1044936714.py:147: UserWarning: Implicit dimension choice for softmax has been deprecated. Change the call to include dim=X as an argument.\n",
            "  final_out = torch.nn.functional.softmax(out)\n",
            "100%|██████████| 2/2 [00:00<00:00,  6.78it/s]\n"
          ]
        },
        {
          "name": "stdout",
          "output_type": "stream",
          "text": [
            "\n",
            "epoch 11\n",
            "\ttrain_loss:0.697 valid_loss:0.803\n",
            "\ttrain_acc:71.01% valid_acc:63.22%\n",
            "\ttrain_f1:0.711 valid_f1:0.643\n",
            "\ttrain_confusion_matrix:\n",
            "[[1790  246  398]\n",
            " [ 380 1730  324]\n",
            " [ 489  278 1661]]\n",
            "\tvalid_confusion_matrix:\n",
            "[[117  40  71]\n",
            " [112 414  81]\n",
            " [ 70  53 203]]\n"
          ]
        },
        {
          "name": "stderr",
          "output_type": "stream",
          "text": [
            "  0%|          | 0/57 [00:00<?, ?it/s]/var/folders/3c/71b8pg6d7j5dht_5h_2n4n_c0000gn/T/ipykernel_10911/1044936714.py:147: UserWarning: Implicit dimension choice for softmax has been deprecated. Change the call to include dim=X as an argument.\n",
            "  final_out = torch.nn.functional.softmax(out)\n",
            "100%|██████████| 57/57 [00:09<00:00,  5.86it/s]\n",
            "  0%|          | 0/2 [00:00<?, ?it/s]/var/folders/3c/71b8pg6d7j5dht_5h_2n4n_c0000gn/T/ipykernel_10911/1044936714.py:147: UserWarning: Implicit dimension choice for softmax has been deprecated. Change the call to include dim=X as an argument.\n",
            "  final_out = torch.nn.functional.softmax(out)\n",
            "100%|██████████| 2/2 [00:00<00:00,  6.68it/s]\n"
          ]
        },
        {
          "name": "stdout",
          "output_type": "stream",
          "text": [
            "\n",
            "epoch 12\n",
            "\ttrain_loss:0.682 valid_loss:0.808\n",
            "\ttrain_acc:72.04% valid_acc:63.22%\n",
            "\ttrain_f1:0.721 valid_f1:0.644\n",
            "\ttrain_confusion_matrix:\n",
            "[[1801  236  393]\n",
            " [ 371 1716  345]\n",
            " [ 474  221 1739]]\n",
            "\tvalid_confusion_matrix:\n",
            "[[128  41  59]\n",
            " [121 411  75]\n",
            " [ 75  56 195]]\n"
          ]
        },
        {
          "name": "stderr",
          "output_type": "stream",
          "text": [
            "  0%|          | 0/57 [00:00<?, ?it/s]/var/folders/3c/71b8pg6d7j5dht_5h_2n4n_c0000gn/T/ipykernel_10911/1044936714.py:147: UserWarning: Implicit dimension choice for softmax has been deprecated. Change the call to include dim=X as an argument.\n",
            "  final_out = torch.nn.functional.softmax(out)\n",
            "100%|██████████| 57/57 [00:09<00:00,  5.86it/s]\n",
            "  0%|          | 0/2 [00:00<?, ?it/s]/var/folders/3c/71b8pg6d7j5dht_5h_2n4n_c0000gn/T/ipykernel_10911/1044936714.py:147: UserWarning: Implicit dimension choice for softmax has been deprecated. Change the call to include dim=X as an argument.\n",
            "  final_out = torch.nn.functional.softmax(out)\n",
            "100%|██████████| 2/2 [00:00<00:00,  6.80it/s]\n"
          ]
        },
        {
          "name": "stdout",
          "output_type": "stream",
          "text": [
            "\n",
            "epoch 13\n",
            "\ttrain_loss:0.666 valid_loss:0.803\n",
            "\ttrain_acc:73.01% valid_acc:63.82%\n",
            "\ttrain_f1:0.730 valid_f1:0.648\n",
            "\ttrain_confusion_matrix:\n",
            "[[1864  231  339]\n",
            " [ 374 1756  302]\n",
            " [ 478  245 1707]]\n",
            "\tvalid_confusion_matrix:\n",
            "[[120  45  63]\n",
            " [105 426  76]\n",
            " [ 74  57 195]]\n"
          ]
        },
        {
          "name": "stderr",
          "output_type": "stream",
          "text": [
            "  0%|          | 0/57 [00:00<?, ?it/s]/var/folders/3c/71b8pg6d7j5dht_5h_2n4n_c0000gn/T/ipykernel_10911/1044936714.py:147: UserWarning: Implicit dimension choice for softmax has been deprecated. Change the call to include dim=X as an argument.\n",
            "  final_out = torch.nn.functional.softmax(out)\n",
            "100%|██████████| 57/57 [00:09<00:00,  5.78it/s]\n",
            "  0%|          | 0/2 [00:00<?, ?it/s]/var/folders/3c/71b8pg6d7j5dht_5h_2n4n_c0000gn/T/ipykernel_10911/1044936714.py:147: UserWarning: Implicit dimension choice for softmax has been deprecated. Change the call to include dim=X as an argument.\n",
            "  final_out = torch.nn.functional.softmax(out)\n",
            "100%|██████████| 2/2 [00:00<00:00,  6.27it/s]\n"
          ]
        },
        {
          "name": "stdout",
          "output_type": "stream",
          "text": [
            "\n",
            "epoch 14\n",
            "\ttrain_loss:0.651 valid_loss:0.815\n",
            "\ttrain_acc:74.10% valid_acc:63.39%\n",
            "\ttrain_f1:0.741 valid_f1:0.646\n",
            "\ttrain_confusion_matrix:\n",
            "[[1889  222  319]\n",
            " [ 349 1780  304]\n",
            " [ 453  243 1737]]\n",
            "\tvalid_confusion_matrix:\n",
            "[[124  41  63]\n",
            " [118 415  74]\n",
            " [ 78  51 197]]\n"
          ]
        },
        {
          "name": "stderr",
          "output_type": "stream",
          "text": [
            "  0%|          | 0/57 [00:00<?, ?it/s]/var/folders/3c/71b8pg6d7j5dht_5h_2n4n_c0000gn/T/ipykernel_10911/1044936714.py:147: UserWarning: Implicit dimension choice for softmax has been deprecated. Change the call to include dim=X as an argument.\n",
            "  final_out = torch.nn.functional.softmax(out)\n",
            "100%|██████████| 57/57 [00:09<00:00,  5.93it/s]\n",
            "  0%|          | 0/2 [00:00<?, ?it/s]/var/folders/3c/71b8pg6d7j5dht_5h_2n4n_c0000gn/T/ipykernel_10911/1044936714.py:147: UserWarning: Implicit dimension choice for softmax has been deprecated. Change the call to include dim=X as an argument.\n",
            "  final_out = torch.nn.functional.softmax(out)\n",
            "100%|██████████| 2/2 [00:00<00:00,  6.75it/s]\n"
          ]
        },
        {
          "name": "stdout",
          "output_type": "stream",
          "text": [
            "\n",
            "epoch 15\n",
            "\ttrain_loss:0.633 valid_loss:0.834\n",
            "\ttrain_acc:74.68% valid_acc:61.67%\n",
            "\ttrain_f1:0.747 valid_f1:0.630\n",
            "\ttrain_confusion_matrix:\n",
            "[[1892  208  332]\n",
            " [ 345 1780  308]\n",
            " [ 423  231 1777]]\n",
            "\tvalid_confusion_matrix:\n",
            "[[126  40  62]\n",
            " [125 397  85]\n",
            " [ 84  49 193]]\n"
          ]
        },
        {
          "name": "stderr",
          "output_type": "stream",
          "text": [
            "  0%|          | 0/57 [00:00<?, ?it/s]/var/folders/3c/71b8pg6d7j5dht_5h_2n4n_c0000gn/T/ipykernel_10911/1044936714.py:147: UserWarning: Implicit dimension choice for softmax has been deprecated. Change the call to include dim=X as an argument.\n",
            "  final_out = torch.nn.functional.softmax(out)\n",
            "100%|██████████| 57/57 [00:09<00:00,  5.90it/s]\n",
            "  0%|          | 0/2 [00:00<?, ?it/s]/var/folders/3c/71b8pg6d7j5dht_5h_2n4n_c0000gn/T/ipykernel_10911/1044936714.py:147: UserWarning: Implicit dimension choice for softmax has been deprecated. Change the call to include dim=X as an argument.\n",
            "  final_out = torch.nn.functional.softmax(out)\n",
            "100%|██████████| 2/2 [00:00<00:00,  6.71it/s]\n"
          ]
        },
        {
          "name": "stdout",
          "output_type": "stream",
          "text": [
            "\n",
            "epoch 16\n",
            "\ttrain_loss:0.623 valid_loss:0.822\n",
            "\ttrain_acc:75.92% valid_acc:63.82%\n",
            "\ttrain_f1:0.759 valid_f1:0.649\n",
            "\ttrain_confusion_matrix:\n",
            "[[1937  201  295]\n",
            " [ 337 1805  290]\n",
            " [ 412  222 1797]]\n",
            "\tvalid_confusion_matrix:\n",
            "[[127  49  52]\n",
            " [116 431  60]\n",
            " [ 84  59 183]]\n"
          ]
        },
        {
          "name": "stderr",
          "output_type": "stream",
          "text": [
            "  0%|          | 0/57 [00:00<?, ?it/s]/var/folders/3c/71b8pg6d7j5dht_5h_2n4n_c0000gn/T/ipykernel_10911/1044936714.py:147: UserWarning: Implicit dimension choice for softmax has been deprecated. Change the call to include dim=X as an argument.\n",
            "  final_out = torch.nn.functional.softmax(out)\n",
            "100%|██████████| 57/57 [00:09<00:00,  5.91it/s]\n",
            "  0%|          | 0/2 [00:00<?, ?it/s]/var/folders/3c/71b8pg6d7j5dht_5h_2n4n_c0000gn/T/ipykernel_10911/1044936714.py:147: UserWarning: Implicit dimension choice for softmax has been deprecated. Change the call to include dim=X as an argument.\n",
            "  final_out = torch.nn.functional.softmax(out)\n",
            "100%|██████████| 2/2 [00:00<00:00,  6.49it/s]\n"
          ]
        },
        {
          "name": "stdout",
          "output_type": "stream",
          "text": [
            "\n",
            "epoch 17\n",
            "\ttrain_loss:0.606 valid_loss:0.820\n",
            "\ttrain_acc:76.06% valid_acc:64.51%\n",
            "\ttrain_f1:0.761 valid_f1:0.653\n",
            "\ttrain_confusion_matrix:\n",
            "[[1949  200  286]\n",
            " [ 330 1813  290]\n",
            " [ 414  227 1787]]\n",
            "\tvalid_confusion_matrix:\n",
            "[[124  52  52]\n",
            " [101 439  67]\n",
            " [ 76  64 186]]\n"
          ]
        },
        {
          "name": "stderr",
          "output_type": "stream",
          "text": [
            "  0%|          | 0/57 [00:00<?, ?it/s]/var/folders/3c/71b8pg6d7j5dht_5h_2n4n_c0000gn/T/ipykernel_10911/1044936714.py:147: UserWarning: Implicit dimension choice for softmax has been deprecated. Change the call to include dim=X as an argument.\n",
            "  final_out = torch.nn.functional.softmax(out)\n",
            "100%|██████████| 57/57 [00:09<00:00,  5.82it/s]\n",
            "  0%|          | 0/2 [00:00<?, ?it/s]/var/folders/3c/71b8pg6d7j5dht_5h_2n4n_c0000gn/T/ipykernel_10911/1044936714.py:147: UserWarning: Implicit dimension choice for softmax has been deprecated. Change the call to include dim=X as an argument.\n",
            "  final_out = torch.nn.functional.softmax(out)\n",
            "100%|██████████| 2/2 [00:00<00:00,  6.33it/s]\n"
          ]
        },
        {
          "name": "stdout",
          "output_type": "stream",
          "text": [
            "\n",
            "epoch 18\n",
            "\ttrain_loss:0.589 valid_loss:0.846\n",
            "\ttrain_acc:77.03% valid_acc:63.22%\n",
            "\ttrain_f1:0.770 valid_f1:0.642\n",
            "\ttrain_confusion_matrix:\n",
            "[[1982  201  249]\n",
            " [ 324 1824  283]\n",
            " [ 394  225 1814]]\n",
            "\tvalid_confusion_matrix:\n",
            "[[121  41  66]\n",
            " [103 416  88]\n",
            " [ 70  59 197]]\n"
          ]
        },
        {
          "name": "stderr",
          "output_type": "stream",
          "text": [
            "  0%|          | 0/57 [00:00<?, ?it/s]/var/folders/3c/71b8pg6d7j5dht_5h_2n4n_c0000gn/T/ipykernel_10911/1044936714.py:147: UserWarning: Implicit dimension choice for softmax has been deprecated. Change the call to include dim=X as an argument.\n",
            "  final_out = torch.nn.functional.softmax(out)\n",
            "100%|██████████| 57/57 [00:09<00:00,  5.93it/s]\n",
            "  0%|          | 0/2 [00:00<?, ?it/s]/var/folders/3c/71b8pg6d7j5dht_5h_2n4n_c0000gn/T/ipykernel_10911/1044936714.py:147: UserWarning: Implicit dimension choice for softmax has been deprecated. Change the call to include dim=X as an argument.\n",
            "  final_out = torch.nn.functional.softmax(out)\n",
            "100%|██████████| 2/2 [00:00<00:00,  6.98it/s]\n"
          ]
        },
        {
          "name": "stdout",
          "output_type": "stream",
          "text": [
            "\n",
            "epoch 19\n",
            "\ttrain_loss:0.581 valid_loss:0.832\n",
            "\ttrain_acc:77.33% valid_acc:63.39%\n",
            "\ttrain_f1:0.773 valid_f1:0.641\n",
            "\ttrain_confusion_matrix:\n",
            "[[1974  193  264]\n",
            " [ 312 1825  296]\n",
            " [ 374  215 1843]]\n",
            "\tvalid_confusion_matrix:\n",
            "[[122  52  54]\n",
            " [104 430  73]\n",
            " [ 73  69 184]]\n",
            "Loading saved model from: model_task2.bin\n"
          ]
        },
        {
          "name": "stderr",
          "output_type": "stream",
          "text": [
            "  0%|          | 0/2 [00:00<?, ?it/s]/var/folders/3c/71b8pg6d7j5dht_5h_2n4n_c0000gn/T/ipykernel_10911/1044936714.py:147: UserWarning: Implicit dimension choice for softmax has been deprecated. Change the call to include dim=X as an argument.\n",
            "  final_out = torch.nn.functional.softmax(out)\n",
            "100%|██████████| 2/2 [00:00<00:00,  7.35it/s]\n"
          ]
        },
        {
          "name": "stdout",
          "output_type": "stream",
          "text": [
            "              precision    recall  f1-score   support\n",
            "\n",
            "     Neutral       0.39      0.53      0.45       228\n",
            "    Positive       0.82      0.67      0.74       607\n",
            "    Negative       0.56      0.61      0.59       326\n",
            "\n",
            "    accuracy                           0.63      1161\n",
            "   macro avg       0.59      0.60      0.59      1161\n",
            "weighted avg       0.66      0.63      0.64      1161\n",
            "\n",
            "\n",
            "******************************************************************************************\n",
            "Alpha Size: 0\n",
            "Window Size: 4\n",
            "******************************************************************************************\n",
            "\n",
            "train samples:7311\n",
            "valid samples:1161\n"
          ]
        },
        {
          "name": "stderr",
          "output_type": "stream",
          "text": [
            "  0%|          | 0/57 [00:00<?, ?it/s]/var/folders/3c/71b8pg6d7j5dht_5h_2n4n_c0000gn/T/ipykernel_10911/1044936714.py:147: UserWarning: Implicit dimension choice for softmax has been deprecated. Change the call to include dim=X as an argument.\n",
            "  final_out = torch.nn.functional.softmax(out)\n",
            "100%|██████████| 57/57 [00:11<00:00,  5.05it/s]\n",
            "  0%|          | 0/2 [00:00<?, ?it/s]/var/folders/3c/71b8pg6d7j5dht_5h_2n4n_c0000gn/T/ipykernel_10911/1044936714.py:147: UserWarning: Implicit dimension choice for softmax has been deprecated. Change the call to include dim=X as an argument.\n",
            "  final_out = torch.nn.functional.softmax(out)\n",
            "100%|██████████| 2/2 [00:00<00:00,  5.61it/s]\n"
          ]
        },
        {
          "name": "stdout",
          "output_type": "stream",
          "text": [
            "\n",
            "epoch 0\n",
            "\ttrain_loss:1.087 valid_loss:1.067\n",
            "\ttrain_acc:43.06% valid_acc:56.76%\n",
            "\ttrain_f1:0.386 valid_f1:0.571\n",
            "\ttrain_confusion_matrix:\n",
            "[[ 545 1547  337]\n",
            " [ 211 2067  158]\n",
            " [ 375 1526  530]]\n",
            "\tvalid_confusion_matrix:\n",
            "[[ 82  58  88]\n",
            " [ 81 415 111]\n",
            " [ 67  97 162]]\n"
          ]
        },
        {
          "name": "stderr",
          "output_type": "stream",
          "text": [
            "  0%|          | 0/57 [00:00<?, ?it/s]/var/folders/3c/71b8pg6d7j5dht_5h_2n4n_c0000gn/T/ipykernel_10911/1044936714.py:147: UserWarning: Implicit dimension choice for softmax has been deprecated. Change the call to include dim=X as an argument.\n",
            "  final_out = torch.nn.functional.softmax(out)\n",
            "100%|██████████| 57/57 [00:11<00:00,  5.12it/s]\n",
            "  0%|          | 0/2 [00:00<?, ?it/s]/var/folders/3c/71b8pg6d7j5dht_5h_2n4n_c0000gn/T/ipykernel_10911/1044936714.py:147: UserWarning: Implicit dimension choice for softmax has been deprecated. Change the call to include dim=X as an argument.\n",
            "  final_out = torch.nn.functional.softmax(out)\n",
            "100%|██████████| 2/2 [00:00<00:00,  6.01it/s]\n"
          ]
        },
        {
          "name": "stdout",
          "output_type": "stream",
          "text": [
            "\n",
            "epoch 1\n",
            "\ttrain_loss:1.047 valid_loss:0.996\n",
            "\ttrain_acc:54.87% valid_acc:60.03%\n",
            "\ttrain_f1:0.542 valid_f1:0.600\n",
            "\ttrain_confusion_matrix:\n",
            "[[ 935  653  845]\n",
            " [ 328 1650  452]\n",
            " [ 429  586 1418]]\n",
            "\tvalid_confusion_matrix:\n",
            "[[ 72  57  99]\n",
            " [ 59 402 146]\n",
            " [ 35  68 223]]\n"
          ]
        },
        {
          "name": "stderr",
          "output_type": "stream",
          "text": [
            "  0%|          | 0/57 [00:00<?, ?it/s]/var/folders/3c/71b8pg6d7j5dht_5h_2n4n_c0000gn/T/ipykernel_10911/1044936714.py:147: UserWarning: Implicit dimension choice for softmax has been deprecated. Change the call to include dim=X as an argument.\n",
            "  final_out = torch.nn.functional.softmax(out)\n",
            "100%|██████████| 57/57 [00:11<00:00,  5.18it/s]\n",
            "  0%|          | 0/2 [00:00<?, ?it/s]/var/folders/3c/71b8pg6d7j5dht_5h_2n4n_c0000gn/T/ipykernel_10911/1044936714.py:147: UserWarning: Implicit dimension choice for softmax has been deprecated. Change the call to include dim=X as an argument.\n",
            "  final_out = torch.nn.functional.softmax(out)\n",
            "100%|██████████| 2/2 [00:00<00:00,  6.09it/s]\n"
          ]
        },
        {
          "name": "stdout",
          "output_type": "stream",
          "text": [
            "\n",
            "epoch 2\n",
            "\ttrain_loss:0.944 valid_loss:0.863\n",
            "\ttrain_acc:58.07% valid_acc:62.96%\n",
            "\ttrain_f1:0.570 valid_f1:0.630\n",
            "\ttrain_confusion_matrix:\n",
            "[[ 893  654  884]\n",
            " [ 243 1757  432]\n",
            " [ 296  550 1587]]\n",
            "\tvalid_confusion_matrix:\n",
            "[[ 76  47 105]\n",
            " [ 59 421 127]\n",
            " [ 36  56 234]]\n"
          ]
        },
        {
          "name": "stderr",
          "output_type": "stream",
          "text": [
            "  0%|          | 0/57 [00:00<?, ?it/s]/var/folders/3c/71b8pg6d7j5dht_5h_2n4n_c0000gn/T/ipykernel_10911/1044936714.py:147: UserWarning: Implicit dimension choice for softmax has been deprecated. Change the call to include dim=X as an argument.\n",
            "  final_out = torch.nn.functional.softmax(out)\n",
            "100%|██████████| 57/57 [00:11<00:00,  4.88it/s]\n",
            "  0%|          | 0/2 [00:00<?, ?it/s]/var/folders/3c/71b8pg6d7j5dht_5h_2n4n_c0000gn/T/ipykernel_10911/1044936714.py:147: UserWarning: Implicit dimension choice for softmax has been deprecated. Change the call to include dim=X as an argument.\n",
            "  final_out = torch.nn.functional.softmax(out)\n",
            "100%|██████████| 2/2 [00:00<00:00,  5.85it/s]\n"
          ]
        },
        {
          "name": "stdout",
          "output_type": "stream",
          "text": [
            "\n",
            "epoch 3\n",
            "\ttrain_loss:0.857 valid_loss:0.795\n",
            "\ttrain_acc:62.01% valid_acc:64.43%\n",
            "\ttrain_f1:0.617 valid_f1:0.655\n",
            "\ttrain_confusion_matrix:\n",
            "[[1233  495  700]\n",
            " [ 352 1755  326]\n",
            " [ 515  384 1536]]\n",
            "\tvalid_confusion_matrix:\n",
            "[[115  41  72]\n",
            " [109 429  69]\n",
            " [ 74  48 204]]\n"
          ]
        },
        {
          "name": "stderr",
          "output_type": "stream",
          "text": [
            "  0%|          | 0/57 [00:00<?, ?it/s]/var/folders/3c/71b8pg6d7j5dht_5h_2n4n_c0000gn/T/ipykernel_10911/1044936714.py:147: UserWarning: Implicit dimension choice for softmax has been deprecated. Change the call to include dim=X as an argument.\n",
            "  final_out = torch.nn.functional.softmax(out)\n",
            "100%|██████████| 57/57 [00:11<00:00,  5.15it/s]\n",
            "  0%|          | 0/2 [00:00<?, ?it/s]/var/folders/3c/71b8pg6d7j5dht_5h_2n4n_c0000gn/T/ipykernel_10911/1044936714.py:147: UserWarning: Implicit dimension choice for softmax has been deprecated. Change the call to include dim=X as an argument.\n",
            "  final_out = torch.nn.functional.softmax(out)\n",
            "100%|██████████| 2/2 [00:00<00:00,  6.08it/s]\n"
          ]
        },
        {
          "name": "stdout",
          "output_type": "stream",
          "text": [
            "\n",
            "epoch 4\n",
            "\ttrain_loss:0.804 valid_loss:0.781\n",
            "\ttrain_acc:65.04% valid_acc:65.20%\n",
            "\ttrain_f1:0.651 valid_f1:0.665\n",
            "\ttrain_confusion_matrix:\n",
            "[[1468  381  585]\n",
            " [ 411 1748  274]\n",
            " [ 602  298 1529]]\n",
            "\tvalid_confusion_matrix:\n",
            "[[119  38  71]\n",
            " [114 433  60]\n",
            " [ 82  39 205]]\n"
          ]
        },
        {
          "name": "stderr",
          "output_type": "stream",
          "text": [
            "  0%|          | 0/57 [00:00<?, ?it/s]/var/folders/3c/71b8pg6d7j5dht_5h_2n4n_c0000gn/T/ipykernel_10911/1044936714.py:147: UserWarning: Implicit dimension choice for softmax has been deprecated. Change the call to include dim=X as an argument.\n",
            "  final_out = torch.nn.functional.softmax(out)\n",
            "100%|██████████| 57/57 [00:11<00:00,  4.96it/s]\n",
            "  0%|          | 0/2 [00:00<?, ?it/s]/var/folders/3c/71b8pg6d7j5dht_5h_2n4n_c0000gn/T/ipykernel_10911/1044936714.py:147: UserWarning: Implicit dimension choice for softmax has been deprecated. Change the call to include dim=X as an argument.\n",
            "  final_out = torch.nn.functional.softmax(out)\n",
            "100%|██████████| 2/2 [00:00<00:00,  6.10it/s]\n"
          ]
        },
        {
          "name": "stdout",
          "output_type": "stream",
          "text": [
            "\n",
            "epoch 5\n",
            "\ttrain_loss:0.770 valid_loss:0.771\n",
            "\ttrain_acc:67.75% valid_acc:65.29%\n",
            "\ttrain_f1:0.678 valid_f1:0.668\n",
            "\ttrain_confusion_matrix:\n",
            "[[1612  311  505]\n",
            " [ 421 1743  272]\n",
            " [ 585  259 1588]]\n",
            "\tvalid_confusion_matrix:\n",
            "[[133  35  60]\n",
            " [117 428  62]\n",
            " [ 95  34 197]]\n"
          ]
        },
        {
          "name": "stderr",
          "output_type": "stream",
          "text": [
            "  0%|          | 0/57 [00:00<?, ?it/s]/var/folders/3c/71b8pg6d7j5dht_5h_2n4n_c0000gn/T/ipykernel_10911/1044936714.py:147: UserWarning: Implicit dimension choice for softmax has been deprecated. Change the call to include dim=X as an argument.\n",
            "  final_out = torch.nn.functional.softmax(out)\n",
            "100%|██████████| 57/57 [00:11<00:00,  5.02it/s]\n",
            "  0%|          | 0/2 [00:00<?, ?it/s]/var/folders/3c/71b8pg6d7j5dht_5h_2n4n_c0000gn/T/ipykernel_10911/1044936714.py:147: UserWarning: Implicit dimension choice for softmax has been deprecated. Change the call to include dim=X as an argument.\n",
            "  final_out = torch.nn.functional.softmax(out)\n",
            "100%|██████████| 2/2 [00:00<00:00,  6.40it/s]\n"
          ]
        },
        {
          "name": "stdout",
          "output_type": "stream",
          "text": [
            "\n",
            "epoch 6\n",
            "\ttrain_loss:0.743 valid_loss:0.753\n",
            "\ttrain_acc:68.64% valid_acc:66.49%\n",
            "\ttrain_f1:0.687 valid_f1:0.677\n",
            "\ttrain_confusion_matrix:\n",
            "[[1673  303  457]\n",
            " [ 419 1745  266]\n",
            " [ 579  264 1590]]\n",
            "\tvalid_confusion_matrix:\n",
            "[[128  43  57]\n",
            " [106 446  55]\n",
            " [ 88  40 198]]\n"
          ]
        },
        {
          "name": "stderr",
          "output_type": "stream",
          "text": [
            "  0%|          | 0/57 [00:00<?, ?it/s]/var/folders/3c/71b8pg6d7j5dht_5h_2n4n_c0000gn/T/ipykernel_10911/1044936714.py:147: UserWarning: Implicit dimension choice for softmax has been deprecated. Change the call to include dim=X as an argument.\n",
            "  final_out = torch.nn.functional.softmax(out)\n",
            "100%|██████████| 57/57 [00:11<00:00,  5.08it/s]\n",
            "  0%|          | 0/2 [00:00<?, ?it/s]/var/folders/3c/71b8pg6d7j5dht_5h_2n4n_c0000gn/T/ipykernel_10911/1044936714.py:147: UserWarning: Implicit dimension choice for softmax has been deprecated. Change the call to include dim=X as an argument.\n",
            "  final_out = torch.nn.functional.softmax(out)\n",
            "100%|██████████| 2/2 [00:00<00:00,  6.21it/s]\n"
          ]
        },
        {
          "name": "stdout",
          "output_type": "stream",
          "text": [
            "\n",
            "epoch 7\n",
            "\ttrain_loss:0.722 valid_loss:0.769\n",
            "\ttrain_acc:70.01% valid_acc:66.49%\n",
            "\ttrain_f1:0.701 valid_f1:0.678\n",
            "\ttrain_confusion_matrix:\n",
            "[[1719  290  426]\n",
            " [ 416 1756  258]\n",
            " [ 567  231 1633]]\n",
            "\tvalid_confusion_matrix:\n",
            "[[125  30  73]\n",
            " [ 99 423  85]\n",
            " [ 78  24 224]]\n"
          ]
        },
        {
          "name": "stderr",
          "output_type": "stream",
          "text": [
            "  0%|          | 0/57 [00:00<?, ?it/s]/var/folders/3c/71b8pg6d7j5dht_5h_2n4n_c0000gn/T/ipykernel_10911/1044936714.py:147: UserWarning: Implicit dimension choice for softmax has been deprecated. Change the call to include dim=X as an argument.\n",
            "  final_out = torch.nn.functional.softmax(out)\n",
            "100%|██████████| 57/57 [00:11<00:00,  5.16it/s]\n",
            "  0%|          | 0/2 [00:00<?, ?it/s]/var/folders/3c/71b8pg6d7j5dht_5h_2n4n_c0000gn/T/ipykernel_10911/1044936714.py:147: UserWarning: Implicit dimension choice for softmax has been deprecated. Change the call to include dim=X as an argument.\n",
            "  final_out = torch.nn.functional.softmax(out)\n",
            "100%|██████████| 2/2 [00:00<00:00,  6.06it/s]\n"
          ]
        },
        {
          "name": "stdout",
          "output_type": "stream",
          "text": [
            "\n",
            "epoch 8\n",
            "\ttrain_loss:0.705 valid_loss:0.768\n",
            "\ttrain_acc:70.82% valid_acc:66.15%\n",
            "\ttrain_f1:0.709 valid_f1:0.673\n",
            "\ttrain_confusion_matrix:\n",
            "[[1735  270  425]\n",
            " [ 413 1752  268]\n",
            " [ 531  222 1680]]\n",
            "\tvalid_confusion_matrix:\n",
            "[[121  34  73]\n",
            " [ 90 432  85]\n",
            " [ 77  34 215]]\n"
          ]
        },
        {
          "name": "stderr",
          "output_type": "stream",
          "text": [
            "  0%|          | 0/57 [00:00<?, ?it/s]/var/folders/3c/71b8pg6d7j5dht_5h_2n4n_c0000gn/T/ipykernel_10911/1044936714.py:147: UserWarning: Implicit dimension choice for softmax has been deprecated. Change the call to include dim=X as an argument.\n",
            "  final_out = torch.nn.functional.softmax(out)\n",
            "100%|██████████| 57/57 [00:10<00:00,  5.24it/s]\n",
            "  0%|          | 0/2 [00:00<?, ?it/s]/var/folders/3c/71b8pg6d7j5dht_5h_2n4n_c0000gn/T/ipykernel_10911/1044936714.py:147: UserWarning: Implicit dimension choice for softmax has been deprecated. Change the call to include dim=X as an argument.\n",
            "  final_out = torch.nn.functional.softmax(out)\n",
            "100%|██████████| 2/2 [00:00<00:00,  5.86it/s]\n"
          ]
        },
        {
          "name": "stdout",
          "output_type": "stream",
          "text": [
            "\n",
            "epoch 9\n",
            "\ttrain_loss:0.681 valid_loss:0.766\n",
            "\ttrain_acc:72.15% valid_acc:66.67%\n",
            "\ttrain_f1:0.722 valid_f1:0.680\n",
            "\ttrain_confusion_matrix:\n",
            "[[1768  268  395]\n",
            " [ 397 1791  246]\n",
            " [ 499  227 1705]]\n",
            "\tvalid_confusion_matrix:\n",
            "[[137  38  53]\n",
            " [111 432  64]\n",
            " [ 90  31 205]]\n"
          ]
        },
        {
          "name": "stderr",
          "output_type": "stream",
          "text": [
            "  0%|          | 0/57 [00:00<?, ?it/s]/var/folders/3c/71b8pg6d7j5dht_5h_2n4n_c0000gn/T/ipykernel_10911/1044936714.py:147: UserWarning: Implicit dimension choice for softmax has been deprecated. Change the call to include dim=X as an argument.\n",
            "  final_out = torch.nn.functional.softmax(out)\n",
            "100%|██████████| 57/57 [00:11<00:00,  5.10it/s]\n",
            "  0%|          | 0/2 [00:00<?, ?it/s]/var/folders/3c/71b8pg6d7j5dht_5h_2n4n_c0000gn/T/ipykernel_10911/1044936714.py:147: UserWarning: Implicit dimension choice for softmax has been deprecated. Change the call to include dim=X as an argument.\n",
            "  final_out = torch.nn.functional.softmax(out)\n",
            "100%|██████████| 2/2 [00:00<00:00,  5.74it/s]\n"
          ]
        },
        {
          "name": "stdout",
          "output_type": "stream",
          "text": [
            "\n",
            "epoch 10\n",
            "\ttrain_loss:0.665 valid_loss:0.769\n",
            "\ttrain_acc:73.12% valid_acc:66.32%\n",
            "\ttrain_f1:0.732 valid_f1:0.674\n",
            "\ttrain_confusion_matrix:\n",
            "[[1798  248  388]\n",
            " [ 395 1783  252]\n",
            " [ 467  211 1754]]\n",
            "\tvalid_confusion_matrix:\n",
            "[[128  45  55]\n",
            " [ 97 441  69]\n",
            " [ 85  40 201]]\n"
          ]
        },
        {
          "name": "stderr",
          "output_type": "stream",
          "text": [
            "  0%|          | 0/57 [00:00<?, ?it/s]/var/folders/3c/71b8pg6d7j5dht_5h_2n4n_c0000gn/T/ipykernel_10911/1044936714.py:147: UserWarning: Implicit dimension choice for softmax has been deprecated. Change the call to include dim=X as an argument.\n",
            "  final_out = torch.nn.functional.softmax(out)\n",
            "100%|██████████| 57/57 [00:11<00:00,  5.10it/s]\n",
            "  0%|          | 0/2 [00:00<?, ?it/s]/var/folders/3c/71b8pg6d7j5dht_5h_2n4n_c0000gn/T/ipykernel_10911/1044936714.py:147: UserWarning: Implicit dimension choice for softmax has been deprecated. Change the call to include dim=X as an argument.\n",
            "  final_out = torch.nn.functional.softmax(out)\n",
            "100%|██████████| 2/2 [00:00<00:00,  5.93it/s]\n"
          ]
        },
        {
          "name": "stdout",
          "output_type": "stream",
          "text": [
            "\n",
            "epoch 11\n",
            "\ttrain_loss:0.652 valid_loss:0.780\n",
            "\ttrain_acc:73.71% valid_acc:65.81%\n",
            "\ttrain_f1:0.738 valid_f1:0.672\n",
            "\ttrain_confusion_matrix:\n",
            "[[1819  253  362]\n",
            " [ 373 1809  247]\n",
            " [ 469  214 1750]]\n",
            "\tvalid_confusion_matrix:\n",
            "[[137  38  53]\n",
            " [115 429  63]\n",
            " [ 94  34 198]]\n"
          ]
        },
        {
          "name": "stderr",
          "output_type": "stream",
          "text": [
            "  0%|          | 0/57 [00:00<?, ?it/s]/var/folders/3c/71b8pg6d7j5dht_5h_2n4n_c0000gn/T/ipykernel_10911/1044936714.py:147: UserWarning: Implicit dimension choice for softmax has been deprecated. Change the call to include dim=X as an argument.\n",
            "  final_out = torch.nn.functional.softmax(out)\n",
            "100%|██████████| 57/57 [00:11<00:00,  5.15it/s]\n",
            "  0%|          | 0/2 [00:00<?, ?it/s]/var/folders/3c/71b8pg6d7j5dht_5h_2n4n_c0000gn/T/ipykernel_10911/1044936714.py:147: UserWarning: Implicit dimension choice for softmax has been deprecated. Change the call to include dim=X as an argument.\n",
            "  final_out = torch.nn.functional.softmax(out)\n",
            "100%|██████████| 2/2 [00:00<00:00,  5.53it/s]\n"
          ]
        },
        {
          "name": "stdout",
          "output_type": "stream",
          "text": [
            "\n",
            "epoch 12\n",
            "\ttrain_loss:0.630 valid_loss:0.772\n",
            "\ttrain_acc:74.58% valid_acc:66.93%\n",
            "\ttrain_f1:0.746 valid_f1:0.680\n",
            "\ttrain_confusion_matrix:\n",
            "[[1849  245  339]\n",
            " [ 374 1816  240]\n",
            " [ 458  199 1776]]\n",
            "\tvalid_confusion_matrix:\n",
            "[[131  38  59]\n",
            " [ 93 439  75]\n",
            " [ 80  39 207]]\n"
          ]
        },
        {
          "name": "stderr",
          "output_type": "stream",
          "text": [
            "  0%|          | 0/57 [00:00<?, ?it/s]/var/folders/3c/71b8pg6d7j5dht_5h_2n4n_c0000gn/T/ipykernel_10911/1044936714.py:147: UserWarning: Implicit dimension choice for softmax has been deprecated. Change the call to include dim=X as an argument.\n",
            "  final_out = torch.nn.functional.softmax(out)\n",
            "100%|██████████| 57/57 [00:10<00:00,  5.22it/s]\n",
            "  0%|          | 0/2 [00:00<?, ?it/s]/var/folders/3c/71b8pg6d7j5dht_5h_2n4n_c0000gn/T/ipykernel_10911/1044936714.py:147: UserWarning: Implicit dimension choice for softmax has been deprecated. Change the call to include dim=X as an argument.\n",
            "  final_out = torch.nn.functional.softmax(out)\n",
            "100%|██████████| 2/2 [00:00<00:00,  6.33it/s]\n"
          ]
        },
        {
          "name": "stdout",
          "output_type": "stream",
          "text": [
            "\n",
            "epoch 13\n",
            "\ttrain_loss:0.611 valid_loss:0.778\n",
            "\ttrain_acc:75.27% valid_acc:67.53%\n",
            "\ttrain_f1:0.753 valid_f1:0.685\n",
            "\ttrain_confusion_matrix:\n",
            "[[1862  244  325]\n",
            " [ 365 1832  235]\n",
            " [ 441  194 1798]]\n",
            "\tvalid_confusion_matrix:\n",
            "[[134  42  52]\n",
            " [ 92 446  69]\n",
            " [ 80  42 204]]\n"
          ]
        },
        {
          "name": "stderr",
          "output_type": "stream",
          "text": [
            "  0%|          | 0/57 [00:00<?, ?it/s]/var/folders/3c/71b8pg6d7j5dht_5h_2n4n_c0000gn/T/ipykernel_10911/1044936714.py:147: UserWarning: Implicit dimension choice for softmax has been deprecated. Change the call to include dim=X as an argument.\n",
            "  final_out = torch.nn.functional.softmax(out)\n",
            "100%|██████████| 57/57 [00:10<00:00,  5.21it/s]\n",
            "  0%|          | 0/2 [00:00<?, ?it/s]/var/folders/3c/71b8pg6d7j5dht_5h_2n4n_c0000gn/T/ipykernel_10911/1044936714.py:147: UserWarning: Implicit dimension choice for softmax has been deprecated. Change the call to include dim=X as an argument.\n",
            "  final_out = torch.nn.functional.softmax(out)\n",
            "100%|██████████| 2/2 [00:00<00:00,  5.48it/s]\n"
          ]
        },
        {
          "name": "stdout",
          "output_type": "stream",
          "text": [
            "\n",
            "epoch 14\n",
            "\ttrain_loss:0.595 valid_loss:0.788\n",
            "\ttrain_acc:76.14% valid_acc:67.27%\n",
            "\ttrain_f1:0.762 valid_f1:0.683\n",
            "\ttrain_confusion_matrix:\n",
            "[[1876  246  308]\n",
            " [ 347 1858  227]\n",
            " [ 420  193 1821]]\n",
            "\tvalid_confusion_matrix:\n",
            "[[128  38  62]\n",
            " [ 88 434  85]\n",
            " [ 73  34 219]]\n"
          ]
        },
        {
          "name": "stderr",
          "output_type": "stream",
          "text": [
            "  0%|          | 0/57 [00:00<?, ?it/s]/var/folders/3c/71b8pg6d7j5dht_5h_2n4n_c0000gn/T/ipykernel_10911/1044936714.py:147: UserWarning: Implicit dimension choice for softmax has been deprecated. Change the call to include dim=X as an argument.\n",
            "  final_out = torch.nn.functional.softmax(out)\n",
            "100%|██████████| 57/57 [00:10<00:00,  5.24it/s]\n",
            "  0%|          | 0/2 [00:00<?, ?it/s]/var/folders/3c/71b8pg6d7j5dht_5h_2n4n_c0000gn/T/ipykernel_10911/1044936714.py:147: UserWarning: Implicit dimension choice for softmax has been deprecated. Change the call to include dim=X as an argument.\n",
            "  final_out = torch.nn.functional.softmax(out)\n",
            "100%|██████████| 2/2 [00:00<00:00,  6.23it/s]\n"
          ]
        },
        {
          "name": "stdout",
          "output_type": "stream",
          "text": [
            "\n",
            "epoch 15\n",
            "\ttrain_loss:0.583 valid_loss:0.799\n",
            "\ttrain_acc:77.22% valid_acc:67.36%\n",
            "\ttrain_f1:0.773 valid_f1:0.683\n",
            "\ttrain_confusion_matrix:\n",
            "[[1896  234  301]\n",
            " [ 326 1878  230]\n",
            " [ 382  189 1860]]\n",
            "\tvalid_confusion_matrix:\n",
            "[[129  40  59]\n",
            " [ 92 443  72]\n",
            " [ 76  40 210]]\n"
          ]
        },
        {
          "name": "stderr",
          "output_type": "stream",
          "text": [
            "  0%|          | 0/57 [00:00<?, ?it/s]/var/folders/3c/71b8pg6d7j5dht_5h_2n4n_c0000gn/T/ipykernel_10911/1044936714.py:147: UserWarning: Implicit dimension choice for softmax has been deprecated. Change the call to include dim=X as an argument.\n",
            "  final_out = torch.nn.functional.softmax(out)\n",
            "100%|██████████| 57/57 [00:11<00:00,  5.05it/s]\n",
            "  0%|          | 0/2 [00:00<?, ?it/s]/var/folders/3c/71b8pg6d7j5dht_5h_2n4n_c0000gn/T/ipykernel_10911/1044936714.py:147: UserWarning: Implicit dimension choice for softmax has been deprecated. Change the call to include dim=X as an argument.\n",
            "  final_out = torch.nn.functional.softmax(out)\n",
            "100%|██████████| 2/2 [00:00<00:00,  5.55it/s]\n"
          ]
        },
        {
          "name": "stdout",
          "output_type": "stream",
          "text": [
            "\n",
            "epoch 16\n",
            "\ttrain_loss:0.566 valid_loss:0.813\n",
            "\ttrain_acc:77.84% valid_acc:65.72%\n",
            "\ttrain_f1:0.779 valid_f1:0.668\n",
            "\ttrain_confusion_matrix:\n",
            "[[1920  227  285]\n",
            " [ 327 1883  221]\n",
            " [ 360  197 1876]]\n",
            "\tvalid_confusion_matrix:\n",
            "[[136  43  49]\n",
            " [ 99 450  58]\n",
            " [104  45 177]]\n"
          ]
        },
        {
          "name": "stderr",
          "output_type": "stream",
          "text": [
            "  0%|          | 0/57 [00:00<?, ?it/s]/var/folders/3c/71b8pg6d7j5dht_5h_2n4n_c0000gn/T/ipykernel_10911/1044936714.py:147: UserWarning: Implicit dimension choice for softmax has been deprecated. Change the call to include dim=X as an argument.\n",
            "  final_out = torch.nn.functional.softmax(out)\n",
            "100%|██████████| 57/57 [00:10<00:00,  5.26it/s]\n",
            "  0%|          | 0/2 [00:00<?, ?it/s]/var/folders/3c/71b8pg6d7j5dht_5h_2n4n_c0000gn/T/ipykernel_10911/1044936714.py:147: UserWarning: Implicit dimension choice for softmax has been deprecated. Change the call to include dim=X as an argument.\n",
            "  final_out = torch.nn.functional.softmax(out)\n",
            "100%|██████████| 2/2 [00:00<00:00,  6.29it/s]\n"
          ]
        },
        {
          "name": "stdout",
          "output_type": "stream",
          "text": [
            "\n",
            "epoch 17\n",
            "\ttrain_loss:0.548 valid_loss:0.813\n",
            "\ttrain_acc:78.52% valid_acc:67.87%\n",
            "\ttrain_f1:0.786 valid_f1:0.687\n",
            "\ttrain_confusion_matrix:\n",
            "[[1958  222  252]\n",
            " [ 338 1873  222]\n",
            " [ 357  176 1898]]\n",
            "\tvalid_confusion_matrix:\n",
            "[[127  39  62]\n",
            " [ 83 446  78]\n",
            " [ 71  40 215]]\n"
          ]
        },
        {
          "name": "stderr",
          "output_type": "stream",
          "text": [
            "  0%|          | 0/57 [00:00<?, ?it/s]/var/folders/3c/71b8pg6d7j5dht_5h_2n4n_c0000gn/T/ipykernel_10911/1044936714.py:147: UserWarning: Implicit dimension choice for softmax has been deprecated. Change the call to include dim=X as an argument.\n",
            "  final_out = torch.nn.functional.softmax(out)\n",
            "100%|██████████| 57/57 [00:11<00:00,  5.14it/s]\n",
            "  0%|          | 0/2 [00:00<?, ?it/s]/var/folders/3c/71b8pg6d7j5dht_5h_2n4n_c0000gn/T/ipykernel_10911/1044936714.py:147: UserWarning: Implicit dimension choice for softmax has been deprecated. Change the call to include dim=X as an argument.\n",
            "  final_out = torch.nn.functional.softmax(out)\n",
            "100%|██████████| 2/2 [00:00<00:00,  5.91it/s]\n"
          ]
        },
        {
          "name": "stdout",
          "output_type": "stream",
          "text": [
            "\n",
            "epoch 18\n",
            "\ttrain_loss:0.531 valid_loss:0.805\n",
            "\ttrain_acc:79.18% valid_acc:66.49%\n",
            "\ttrain_f1:0.792 valid_f1:0.672\n",
            "\ttrain_confusion_matrix:\n",
            "[[1980  212  241]\n",
            " [ 319 1904  210]\n",
            " [ 347  190 1893]]\n",
            "\tvalid_confusion_matrix:\n",
            "[[115  45  68]\n",
            " [ 78 444  85]\n",
            " [ 68  45 213]]\n"
          ]
        },
        {
          "name": "stderr",
          "output_type": "stream",
          "text": [
            "  0%|          | 0/57 [00:00<?, ?it/s]/var/folders/3c/71b8pg6d7j5dht_5h_2n4n_c0000gn/T/ipykernel_10911/1044936714.py:147: UserWarning: Implicit dimension choice for softmax has been deprecated. Change the call to include dim=X as an argument.\n",
            "  final_out = torch.nn.functional.softmax(out)\n",
            "100%|██████████| 57/57 [00:11<00:00,  5.18it/s]\n",
            "  0%|          | 0/2 [00:00<?, ?it/s]/var/folders/3c/71b8pg6d7j5dht_5h_2n4n_c0000gn/T/ipykernel_10911/1044936714.py:147: UserWarning: Implicit dimension choice for softmax has been deprecated. Change the call to include dim=X as an argument.\n",
            "  final_out = torch.nn.functional.softmax(out)\n",
            "100%|██████████| 2/2 [00:00<00:00,  6.28it/s]\n"
          ]
        },
        {
          "name": "stdout",
          "output_type": "stream",
          "text": [
            "\n",
            "epoch 19\n",
            "\ttrain_loss:0.512 valid_loss:0.824\n",
            "\ttrain_acc:80.28% valid_acc:66.32%\n",
            "\ttrain_f1:0.803 valid_f1:0.673\n",
            "\ttrain_confusion_matrix:\n",
            "[[1973  214  243]\n",
            " [ 289 1939  206]\n",
            " [ 315  172 1945]]\n",
            "\tvalid_confusion_matrix:\n",
            "[[133  43  52]\n",
            " [ 91 444  72]\n",
            " [ 86  47 193]]\n",
            "Loading saved model from: model_task2.bin\n"
          ]
        },
        {
          "name": "stderr",
          "output_type": "stream",
          "text": [
            "  0%|          | 0/2 [00:00<?, ?it/s]/var/folders/3c/71b8pg6d7j5dht_5h_2n4n_c0000gn/T/ipykernel_10911/1044936714.py:147: UserWarning: Implicit dimension choice for softmax has been deprecated. Change the call to include dim=X as an argument.\n",
            "  final_out = torch.nn.functional.softmax(out)\n",
            "100%|██████████| 2/2 [00:00<00:00,  7.23it/s]\n"
          ]
        },
        {
          "name": "stdout",
          "output_type": "stream",
          "text": [
            "              precision    recall  f1-score   support\n",
            "\n",
            "     Neutral       0.41      0.55      0.47       228\n",
            "    Positive       0.84      0.74      0.79       607\n",
            "    Negative       0.63      0.62      0.62       326\n",
            "\n",
            "    accuracy                           0.67      1161\n",
            "   macro avg       0.63      0.64      0.63      1161\n",
            "weighted avg       0.70      0.67      0.68      1161\n",
            "\n",
            "\n",
            "******************************************************************************************\n",
            "Alpha Size: 0\n",
            "Window Size: 8\n",
            "******************************************************************************************\n",
            "\n",
            "train samples:7311\n",
            "valid samples:1161\n"
          ]
        },
        {
          "name": "stderr",
          "output_type": "stream",
          "text": [
            "  0%|          | 0/57 [00:00<?, ?it/s]/var/folders/3c/71b8pg6d7j5dht_5h_2n4n_c0000gn/T/ipykernel_10911/1044936714.py:147: UserWarning: Implicit dimension choice for softmax has been deprecated. Change the call to include dim=X as an argument.\n",
            "  final_out = torch.nn.functional.softmax(out)\n",
            "100%|██████████| 57/57 [00:11<00:00,  4.84it/s]\n",
            "  0%|          | 0/2 [00:00<?, ?it/s]/var/folders/3c/71b8pg6d7j5dht_5h_2n4n_c0000gn/T/ipykernel_10911/1044936714.py:147: UserWarning: Implicit dimension choice for softmax has been deprecated. Change the call to include dim=X as an argument.\n",
            "  final_out = torch.nn.functional.softmax(out)\n",
            "100%|██████████| 2/2 [00:00<00:00,  4.60it/s]\n"
          ]
        },
        {
          "name": "stdout",
          "output_type": "stream",
          "text": [
            "\n",
            "epoch 0\n",
            "\ttrain_loss:1.086 valid_loss:1.071\n",
            "\ttrain_acc:45.50% valid_acc:55.73%\n",
            "\ttrain_f1:0.449 valid_f1:0.569\n",
            "\ttrain_confusion_matrix:\n",
            "[[1204  262  966]\n",
            " [ 785  738  909]\n",
            " [ 868  186 1378]]\n",
            "\tvalid_confusion_matrix:\n",
            "[[ 99  46  83]\n",
            " [105 348 154]\n",
            " [ 73  53 200]]\n"
          ]
        },
        {
          "name": "stderr",
          "output_type": "stream",
          "text": [
            "  0%|          | 0/57 [00:00<?, ?it/s]/var/folders/3c/71b8pg6d7j5dht_5h_2n4n_c0000gn/T/ipykernel_10911/1044936714.py:147: UserWarning: Implicit dimension choice for softmax has been deprecated. Change the call to include dim=X as an argument.\n",
            "  final_out = torch.nn.functional.softmax(out)\n",
            "100%|██████████| 57/57 [00:11<00:00,  4.88it/s]\n",
            "  0%|          | 0/2 [00:00<?, ?it/s]/var/folders/3c/71b8pg6d7j5dht_5h_2n4n_c0000gn/T/ipykernel_10911/1044936714.py:147: UserWarning: Implicit dimension choice for softmax has been deprecated. Change the call to include dim=X as an argument.\n",
            "  final_out = torch.nn.functional.softmax(out)\n",
            "100%|██████████| 2/2 [00:00<00:00,  5.42it/s]\n"
          ]
        },
        {
          "name": "stdout",
          "output_type": "stream",
          "text": [
            "\n",
            "epoch 1\n",
            "\ttrain_loss:1.040 valid_loss:0.977\n",
            "\ttrain_acc:55.47% valid_acc:60.55%\n",
            "\ttrain_f1:0.544 valid_f1:0.608\n",
            "\ttrain_confusion_matrix:\n",
            "[[ 828  619  982]\n",
            " [ 287 1600  547]\n",
            " [ 316  498 1619]]\n",
            "\tvalid_confusion_matrix:\n",
            "[[ 74  49 105]\n",
            " [ 59 408 140]\n",
            " [ 45  60 221]]\n"
          ]
        },
        {
          "name": "stderr",
          "output_type": "stream",
          "text": [
            "  0%|          | 0/57 [00:00<?, ?it/s]/var/folders/3c/71b8pg6d7j5dht_5h_2n4n_c0000gn/T/ipykernel_10911/1044936714.py:147: UserWarning: Implicit dimension choice for softmax has been deprecated. Change the call to include dim=X as an argument.\n",
            "  final_out = torch.nn.functional.softmax(out)\n",
            "100%|██████████| 57/57 [00:11<00:00,  4.82it/s]\n",
            "  0%|          | 0/2 [00:00<?, ?it/s]/var/folders/3c/71b8pg6d7j5dht_5h_2n4n_c0000gn/T/ipykernel_10911/1044936714.py:147: UserWarning: Implicit dimension choice for softmax has been deprecated. Change the call to include dim=X as an argument.\n",
            "  final_out = torch.nn.functional.softmax(out)\n",
            "100%|██████████| 2/2 [00:00<00:00,  5.52it/s]\n"
          ]
        },
        {
          "name": "stdout",
          "output_type": "stream",
          "text": [
            "\n",
            "epoch 2\n",
            "\ttrain_loss:0.933 valid_loss:0.855\n",
            "\ttrain_acc:57.63% valid_acc:65.89%\n",
            "\ttrain_f1:0.559 valid_f1:0.658\n",
            "\ttrain_confusion_matrix:\n",
            "[[ 762  716  953]\n",
            " [ 239 1813  380]\n",
            " [ 267  536 1630]]\n",
            "\tvalid_confusion_matrix:\n",
            "[[ 91  61  76]\n",
            " [ 62 477  68]\n",
            " [ 61  68 197]]\n"
          ]
        },
        {
          "name": "stderr",
          "output_type": "stream",
          "text": [
            "  0%|          | 0/57 [00:00<?, ?it/s]/var/folders/3c/71b8pg6d7j5dht_5h_2n4n_c0000gn/T/ipykernel_10911/1044936714.py:147: UserWarning: Implicit dimension choice for softmax has been deprecated. Change the call to include dim=X as an argument.\n",
            "  final_out = torch.nn.functional.softmax(out)\n",
            "100%|██████████| 57/57 [00:11<00:00,  4.99it/s]\n",
            "  0%|          | 0/2 [00:00<?, ?it/s]/var/folders/3c/71b8pg6d7j5dht_5h_2n4n_c0000gn/T/ipykernel_10911/1044936714.py:147: UserWarning: Implicit dimension choice for softmax has been deprecated. Change the call to include dim=X as an argument.\n",
            "  final_out = torch.nn.functional.softmax(out)\n",
            "100%|██████████| 2/2 [00:00<00:00,  5.31it/s]\n"
          ]
        },
        {
          "name": "stdout",
          "output_type": "stream",
          "text": [
            "\n",
            "epoch 3\n",
            "\ttrain_loss:0.861 valid_loss:0.815\n",
            "\ttrain_acc:62.53% valid_acc:65.20%\n",
            "\ttrain_f1:0.620 valid_f1:0.663\n",
            "\ttrain_confusion_matrix:\n",
            "[[1128  536  767]\n",
            " [ 348 1804  281]\n",
            " [ 451  351 1630]]\n",
            "\tvalid_confusion_matrix:\n",
            "[[117  46  65]\n",
            " [ 93 445  69]\n",
            " [ 89  42 195]]\n"
          ]
        },
        {
          "name": "stderr",
          "output_type": "stream",
          "text": [
            "  0%|          | 0/57 [00:00<?, ?it/s]/var/folders/3c/71b8pg6d7j5dht_5h_2n4n_c0000gn/T/ipykernel_10911/1044936714.py:147: UserWarning: Implicit dimension choice for softmax has been deprecated. Change the call to include dim=X as an argument.\n",
            "  final_out = torch.nn.functional.softmax(out)\n",
            "100%|██████████| 57/57 [00:11<00:00,  5.02it/s]\n",
            "  0%|          | 0/2 [00:00<?, ?it/s]/var/folders/3c/71b8pg6d7j5dht_5h_2n4n_c0000gn/T/ipykernel_10911/1044936714.py:147: UserWarning: Implicit dimension choice for softmax has been deprecated. Change the call to include dim=X as an argument.\n",
            "  final_out = torch.nn.functional.softmax(out)\n",
            "100%|██████████| 2/2 [00:00<00:00,  5.80it/s]\n"
          ]
        },
        {
          "name": "stdout",
          "output_type": "stream",
          "text": [
            "\n",
            "epoch 4\n",
            "\ttrain_loss:0.810 valid_loss:0.797\n",
            "\ttrain_acc:65.16% valid_acc:66.58%\n",
            "\ttrain_f1:0.651 valid_f1:0.676\n",
            "\ttrain_confusion_matrix:\n",
            "[[1366  430  638]\n",
            " [ 406 1771  254]\n",
            " [ 562  252 1617]]\n",
            "\tvalid_confusion_matrix:\n",
            "[[121  40  67]\n",
            " [ 93 442  72]\n",
            " [ 78  38 210]]\n"
          ]
        },
        {
          "name": "stderr",
          "output_type": "stream",
          "text": [
            "  0%|          | 0/57 [00:00<?, ?it/s]/var/folders/3c/71b8pg6d7j5dht_5h_2n4n_c0000gn/T/ipykernel_10911/1044936714.py:147: UserWarning: Implicit dimension choice for softmax has been deprecated. Change the call to include dim=X as an argument.\n",
            "  final_out = torch.nn.functional.softmax(out)\n",
            "100%|██████████| 57/57 [00:11<00:00,  5.03it/s]\n",
            "  0%|          | 0/2 [00:00<?, ?it/s]/var/folders/3c/71b8pg6d7j5dht_5h_2n4n_c0000gn/T/ipykernel_10911/1044936714.py:147: UserWarning: Implicit dimension choice for softmax has been deprecated. Change the call to include dim=X as an argument.\n",
            "  final_out = torch.nn.functional.softmax(out)\n",
            "100%|██████████| 2/2 [00:00<00:00,  5.73it/s]\n"
          ]
        },
        {
          "name": "stdout",
          "output_type": "stream",
          "text": [
            "\n",
            "epoch 5\n",
            "\ttrain_loss:0.780 valid_loss:0.789\n",
            "\ttrain_acc:66.01% valid_acc:66.49%\n",
            "\ttrain_f1:0.660 valid_f1:0.673\n",
            "\ttrain_confusion_matrix:\n",
            "[[1427  378  628]\n",
            " [ 431 1748  252]\n",
            " [ 569  222 1641]]\n",
            "\tvalid_confusion_matrix:\n",
            "[[104  37  87]\n",
            " [ 84 427  96]\n",
            " [ 54  31 241]]\n"
          ]
        },
        {
          "name": "stderr",
          "output_type": "stream",
          "text": [
            "  0%|          | 0/57 [00:00<?, ?it/s]/var/folders/3c/71b8pg6d7j5dht_5h_2n4n_c0000gn/T/ipykernel_10911/1044936714.py:147: UserWarning: Implicit dimension choice for softmax has been deprecated. Change the call to include dim=X as an argument.\n",
            "  final_out = torch.nn.functional.softmax(out)\n",
            "100%|██████████| 57/57 [00:11<00:00,  4.92it/s]\n",
            "  0%|          | 0/2 [00:00<?, ?it/s]/var/folders/3c/71b8pg6d7j5dht_5h_2n4n_c0000gn/T/ipykernel_10911/1044936714.py:147: UserWarning: Implicit dimension choice for softmax has been deprecated. Change the call to include dim=X as an argument.\n",
            "  final_out = torch.nn.functional.softmax(out)\n",
            "100%|██████████| 2/2 [00:00<00:00,  5.74it/s]\n"
          ]
        },
        {
          "name": "stdout",
          "output_type": "stream",
          "text": [
            "\n",
            "epoch 6\n",
            "\ttrain_loss:0.755 valid_loss:0.767\n",
            "\ttrain_acc:67.53% valid_acc:67.27%\n",
            "\ttrain_f1:0.675 valid_f1:0.682\n",
            "\ttrain_confusion_matrix:\n",
            "[[1473  370  591]\n",
            " [ 410 1772  249]\n",
            " [ 529  220 1682]]\n",
            "\tvalid_confusion_matrix:\n",
            "[[122  41  65]\n",
            " [ 87 439  81]\n",
            " [ 71  35 220]]\n"
          ]
        },
        {
          "name": "stderr",
          "output_type": "stream",
          "text": [
            "  0%|          | 0/57 [00:00<?, ?it/s]/var/folders/3c/71b8pg6d7j5dht_5h_2n4n_c0000gn/T/ipykernel_10911/1044936714.py:147: UserWarning: Implicit dimension choice for softmax has been deprecated. Change the call to include dim=X as an argument.\n",
            "  final_out = torch.nn.functional.softmax(out)\n",
            "100%|██████████| 57/57 [00:11<00:00,  5.08it/s]\n",
            "  0%|          | 0/2 [00:00<?, ?it/s]/var/folders/3c/71b8pg6d7j5dht_5h_2n4n_c0000gn/T/ipykernel_10911/1044936714.py:147: UserWarning: Implicit dimension choice for softmax has been deprecated. Change the call to include dim=X as an argument.\n",
            "  final_out = torch.nn.functional.softmax(out)\n",
            "100%|██████████| 2/2 [00:00<00:00,  5.37it/s]\n"
          ]
        },
        {
          "name": "stdout",
          "output_type": "stream",
          "text": [
            "\n",
            "epoch 7\n",
            "\ttrain_loss:0.727 valid_loss:0.760\n",
            "\ttrain_acc:69.31% valid_acc:68.04%\n",
            "\ttrain_f1:0.693 valid_f1:0.691\n",
            "\ttrain_confusion_matrix:\n",
            "[[1544  349  539]\n",
            " [ 405 1773  252]\n",
            " [ 493  201 1740]]\n",
            "\tvalid_confusion_matrix:\n",
            "[[137  39  52]\n",
            " [ 99 438  70]\n",
            " [ 76  35 215]]\n"
          ]
        },
        {
          "name": "stderr",
          "output_type": "stream",
          "text": [
            "  0%|          | 0/57 [00:00<?, ?it/s]/var/folders/3c/71b8pg6d7j5dht_5h_2n4n_c0000gn/T/ipykernel_10911/1044936714.py:147: UserWarning: Implicit dimension choice for softmax has been deprecated. Change the call to include dim=X as an argument.\n",
            "  final_out = torch.nn.functional.softmax(out)\n",
            "100%|██████████| 57/57 [00:11<00:00,  5.09it/s]\n",
            "  0%|          | 0/2 [00:00<?, ?it/s]/var/folders/3c/71b8pg6d7j5dht_5h_2n4n_c0000gn/T/ipykernel_10911/1044936714.py:147: UserWarning: Implicit dimension choice for softmax has been deprecated. Change the call to include dim=X as an argument.\n",
            "  final_out = torch.nn.functional.softmax(out)\n",
            "100%|██████████| 2/2 [00:00<00:00,  5.95it/s]\n"
          ]
        },
        {
          "name": "stdout",
          "output_type": "stream",
          "text": [
            "\n",
            "epoch 8\n",
            "\ttrain_loss:0.702 valid_loss:0.763\n",
            "\ttrain_acc:71.07% valid_acc:68.22%\n",
            "\ttrain_f1:0.711 valid_f1:0.693\n",
            "\ttrain_confusion_matrix:\n",
            "[[1632  314  484]\n",
            " [ 394 1800  238]\n",
            " [ 497  184 1753]]\n",
            "\tvalid_confusion_matrix:\n",
            "[[136  37  55]\n",
            " [ 97 436  74]\n",
            " [ 73  33 220]]\n"
          ]
        },
        {
          "name": "stderr",
          "output_type": "stream",
          "text": [
            "  0%|          | 0/57 [00:00<?, ?it/s]/var/folders/3c/71b8pg6d7j5dht_5h_2n4n_c0000gn/T/ipykernel_10911/1044936714.py:147: UserWarning: Implicit dimension choice for softmax has been deprecated. Change the call to include dim=X as an argument.\n",
            "  final_out = torch.nn.functional.softmax(out)\n",
            "100%|██████████| 57/57 [00:11<00:00,  5.06it/s]\n",
            "  0%|          | 0/2 [00:00<?, ?it/s]/var/folders/3c/71b8pg6d7j5dht_5h_2n4n_c0000gn/T/ipykernel_10911/1044936714.py:147: UserWarning: Implicit dimension choice for softmax has been deprecated. Change the call to include dim=X as an argument.\n",
            "  final_out = torch.nn.functional.softmax(out)\n",
            "100%|██████████| 2/2 [00:00<00:00,  5.75it/s]\n"
          ]
        },
        {
          "name": "stdout",
          "output_type": "stream",
          "text": [
            "\n",
            "epoch 9\n",
            "\ttrain_loss:0.680 valid_loss:0.805\n",
            "\ttrain_acc:71.94% valid_acc:65.63%\n",
            "\ttrain_f1:0.720 valid_f1:0.672\n",
            "\ttrain_confusion_matrix:\n",
            "[[1649  324  462]\n",
            " [ 384 1823  224]\n",
            " [ 459  194 1777]]\n",
            "\tvalid_confusion_matrix:\n",
            "[[148  31  49]\n",
            " [123 411  73]\n",
            " [ 96  27 203]]\n"
          ]
        },
        {
          "name": "stderr",
          "output_type": "stream",
          "text": [
            "  0%|          | 0/57 [00:00<?, ?it/s]/var/folders/3c/71b8pg6d7j5dht_5h_2n4n_c0000gn/T/ipykernel_10911/1044936714.py:147: UserWarning: Implicit dimension choice for softmax has been deprecated. Change the call to include dim=X as an argument.\n",
            "  final_out = torch.nn.functional.softmax(out)\n",
            "100%|██████████| 57/57 [00:11<00:00,  5.02it/s]\n",
            "  0%|          | 0/2 [00:00<?, ?it/s]/var/folders/3c/71b8pg6d7j5dht_5h_2n4n_c0000gn/T/ipykernel_10911/1044936714.py:147: UserWarning: Implicit dimension choice for softmax has been deprecated. Change the call to include dim=X as an argument.\n",
            "  final_out = torch.nn.functional.softmax(out)\n",
            "100%|██████████| 2/2 [00:00<00:00,  5.68it/s]\n"
          ]
        },
        {
          "name": "stdout",
          "output_type": "stream",
          "text": [
            "\n",
            "epoch 10\n",
            "\ttrain_loss:0.662 valid_loss:0.763\n",
            "\ttrain_acc:72.90% valid_acc:67.53%\n",
            "\ttrain_f1:0.730 valid_f1:0.684\n",
            "\ttrain_confusion_matrix:\n",
            "[[1716  300  417]\n",
            " [ 404 1812  218]\n",
            " [ 454  184 1791]]\n",
            "\tvalid_confusion_matrix:\n",
            "[[121  41  66]\n",
            " [ 76 443  88]\n",
            " [ 71  35 220]]\n"
          ]
        },
        {
          "name": "stderr",
          "output_type": "stream",
          "text": [
            "  0%|          | 0/57 [00:00<?, ?it/s]/var/folders/3c/71b8pg6d7j5dht_5h_2n4n_c0000gn/T/ipykernel_10911/1044936714.py:147: UserWarning: Implicit dimension choice for softmax has been deprecated. Change the call to include dim=X as an argument.\n",
            "  final_out = torch.nn.functional.softmax(out)\n",
            "100%|██████████| 57/57 [00:11<00:00,  5.13it/s]\n",
            "  0%|          | 0/2 [00:00<?, ?it/s]/var/folders/3c/71b8pg6d7j5dht_5h_2n4n_c0000gn/T/ipykernel_10911/1044936714.py:147: UserWarning: Implicit dimension choice for softmax has been deprecated. Change the call to include dim=X as an argument.\n",
            "  final_out = torch.nn.functional.softmax(out)\n",
            "100%|██████████| 2/2 [00:00<00:00,  5.49it/s]\n"
          ]
        },
        {
          "name": "stdout",
          "output_type": "stream",
          "text": [
            "\n",
            "epoch 11\n",
            "\ttrain_loss:0.639 valid_loss:0.782\n",
            "\ttrain_acc:74.15% valid_acc:66.84%\n",
            "\ttrain_f1:0.742 valid_f1:0.681\n",
            "\ttrain_confusion_matrix:\n",
            "[[1727  305  401]\n",
            " [ 362 1850  219]\n",
            " [ 414  185 1833]]\n",
            "\tvalid_confusion_matrix:\n",
            "[[138  38  52]\n",
            " [ 99 434  74]\n",
            " [ 92  30 204]]\n"
          ]
        },
        {
          "name": "stderr",
          "output_type": "stream",
          "text": [
            "  0%|          | 0/57 [00:00<?, ?it/s]/var/folders/3c/71b8pg6d7j5dht_5h_2n4n_c0000gn/T/ipykernel_10911/1044936714.py:147: UserWarning: Implicit dimension choice for softmax has been deprecated. Change the call to include dim=X as an argument.\n",
            "  final_out = torch.nn.functional.softmax(out)\n",
            "100%|██████████| 57/57 [00:11<00:00,  4.85it/s]\n",
            "  0%|          | 0/2 [00:00<?, ?it/s]/var/folders/3c/71b8pg6d7j5dht_5h_2n4n_c0000gn/T/ipykernel_10911/1044936714.py:147: UserWarning: Implicit dimension choice for softmax has been deprecated. Change the call to include dim=X as an argument.\n",
            "  final_out = torch.nn.functional.softmax(out)\n",
            "100%|██████████| 2/2 [00:00<00:00,  5.80it/s]\n"
          ]
        },
        {
          "name": "stdout",
          "output_type": "stream",
          "text": [
            "\n",
            "epoch 12\n",
            "\ttrain_loss:0.617 valid_loss:0.788\n",
            "\ttrain_acc:75.18% valid_acc:67.61%\n",
            "\ttrain_f1:0.752 valid_f1:0.688\n",
            "\ttrain_confusion_matrix:\n",
            "[[1779  297  358]\n",
            " [ 349 1848  234]\n",
            " [ 397  176 1858]]\n",
            "\tvalid_confusion_matrix:\n",
            "[[142  39  47]\n",
            " [ 95 438  74]\n",
            " [ 89  32 205]]\n"
          ]
        },
        {
          "name": "stderr",
          "output_type": "stream",
          "text": [
            "  0%|          | 0/57 [00:00<?, ?it/s]/var/folders/3c/71b8pg6d7j5dht_5h_2n4n_c0000gn/T/ipykernel_10911/1044936714.py:147: UserWarning: Implicit dimension choice for softmax has been deprecated. Change the call to include dim=X as an argument.\n",
            "  final_out = torch.nn.functional.softmax(out)\n",
            "100%|██████████| 57/57 [00:11<00:00,  4.95it/s]\n",
            "  0%|          | 0/2 [00:00<?, ?it/s]/var/folders/3c/71b8pg6d7j5dht_5h_2n4n_c0000gn/T/ipykernel_10911/1044936714.py:147: UserWarning: Implicit dimension choice for softmax has been deprecated. Change the call to include dim=X as an argument.\n",
            "  final_out = torch.nn.functional.softmax(out)\n",
            "100%|██████████| 2/2 [00:00<00:00,  5.48it/s]\n"
          ]
        },
        {
          "name": "stdout",
          "output_type": "stream",
          "text": [
            "\n",
            "epoch 13\n",
            "\ttrain_loss:0.594 valid_loss:0.794\n",
            "\ttrain_acc:76.43% valid_acc:67.79%\n",
            "\ttrain_f1:0.765 valid_f1:0.688\n",
            "\ttrain_confusion_matrix:\n",
            "[[1822  279  332]\n",
            " [ 347 1869  215]\n",
            " [ 379  168 1885]]\n",
            "\tvalid_confusion_matrix:\n",
            "[[141  44  43]\n",
            " [ 92 447  68]\n",
            " [ 90  37 199]]\n"
          ]
        },
        {
          "name": "stderr",
          "output_type": "stream",
          "text": [
            "  0%|          | 0/57 [00:00<?, ?it/s]/var/folders/3c/71b8pg6d7j5dht_5h_2n4n_c0000gn/T/ipykernel_10911/1044936714.py:147: UserWarning: Implicit dimension choice for softmax has been deprecated. Change the call to include dim=X as an argument.\n",
            "  final_out = torch.nn.functional.softmax(out)\n",
            "100%|██████████| 57/57 [00:11<00:00,  4.96it/s]\n",
            "  0%|          | 0/2 [00:00<?, ?it/s]/var/folders/3c/71b8pg6d7j5dht_5h_2n4n_c0000gn/T/ipykernel_10911/1044936714.py:147: UserWarning: Implicit dimension choice for softmax has been deprecated. Change the call to include dim=X as an argument.\n",
            "  final_out = torch.nn.functional.softmax(out)\n",
            "100%|██████████| 2/2 [00:00<00:00,  5.76it/s]\n"
          ]
        },
        {
          "name": "stdout",
          "output_type": "stream",
          "text": [
            "\n",
            "epoch 14\n",
            "\ttrain_loss:0.577 valid_loss:0.797\n",
            "\ttrain_acc:77.65% valid_acc:67.36%\n",
            "\ttrain_f1:0.777 valid_f1:0.684\n",
            "\ttrain_confusion_matrix:\n",
            "[[1866  250  315]\n",
            " [ 341 1874  220]\n",
            " [ 356  149 1925]]\n",
            "\tvalid_confusion_matrix:\n",
            "[[135  41  52]\n",
            " [ 93 439  75]\n",
            " [ 83  35 208]]\n"
          ]
        },
        {
          "name": "stderr",
          "output_type": "stream",
          "text": [
            "  0%|          | 0/57 [00:00<?, ?it/s]/var/folders/3c/71b8pg6d7j5dht_5h_2n4n_c0000gn/T/ipykernel_10911/1044936714.py:147: UserWarning: Implicit dimension choice for softmax has been deprecated. Change the call to include dim=X as an argument.\n",
            "  final_out = torch.nn.functional.softmax(out)\n",
            "100%|██████████| 57/57 [00:11<00:00,  4.85it/s]\n",
            "  0%|          | 0/2 [00:00<?, ?it/s]/var/folders/3c/71b8pg6d7j5dht_5h_2n4n_c0000gn/T/ipykernel_10911/1044936714.py:147: UserWarning: Implicit dimension choice for softmax has been deprecated. Change the call to include dim=X as an argument.\n",
            "  final_out = torch.nn.functional.softmax(out)\n",
            "100%|██████████| 2/2 [00:00<00:00,  5.19it/s]\n"
          ]
        },
        {
          "name": "stdout",
          "output_type": "stream",
          "text": [
            "\n",
            "epoch 15\n",
            "\ttrain_loss:0.555 valid_loss:0.787\n",
            "\ttrain_acc:78.76% valid_acc:67.61%\n",
            "\ttrain_f1:0.788 valid_f1:0.683\n",
            "\ttrain_confusion_matrix:\n",
            "[[1876  266  289]\n",
            " [ 305 1922  205]\n",
            " [ 321  164 1948]]\n",
            "\tvalid_confusion_matrix:\n",
            "[[121  48  59]\n",
            " [ 76 452  79]\n",
            " [ 71  43 212]]\n"
          ]
        },
        {
          "name": "stderr",
          "output_type": "stream",
          "text": [
            "  0%|          | 0/57 [00:00<?, ?it/s]/var/folders/3c/71b8pg6d7j5dht_5h_2n4n_c0000gn/T/ipykernel_10911/1044936714.py:147: UserWarning: Implicit dimension choice for softmax has been deprecated. Change the call to include dim=X as an argument.\n",
            "  final_out = torch.nn.functional.softmax(out)\n",
            "100%|██████████| 57/57 [00:11<00:00,  4.84it/s]\n",
            "  0%|          | 0/2 [00:00<?, ?it/s]/var/folders/3c/71b8pg6d7j5dht_5h_2n4n_c0000gn/T/ipykernel_10911/1044936714.py:147: UserWarning: Implicit dimension choice for softmax has been deprecated. Change the call to include dim=X as an argument.\n",
            "  final_out = torch.nn.functional.softmax(out)\n",
            "100%|██████████| 2/2 [00:00<00:00,  4.51it/s]\n"
          ]
        },
        {
          "name": "stdout",
          "output_type": "stream",
          "text": [
            "\n",
            "epoch 16\n",
            "\ttrain_loss:0.536 valid_loss:0.828\n",
            "\ttrain_acc:79.93% valid_acc:67.27%\n",
            "\ttrain_f1:0.800 valid_f1:0.680\n",
            "\ttrain_confusion_matrix:\n",
            "[[1942  239  248]\n",
            " [ 312 1914  208]\n",
            " [ 303  154 1976]]\n",
            "\tvalid_confusion_matrix:\n",
            "[[113  42  73]\n",
            " [ 75 434  98]\n",
            " [ 59  33 234]]\n"
          ]
        },
        {
          "name": "stderr",
          "output_type": "stream",
          "text": [
            "  0%|          | 0/57 [00:00<?, ?it/s]/var/folders/3c/71b8pg6d7j5dht_5h_2n4n_c0000gn/T/ipykernel_10911/1044936714.py:147: UserWarning: Implicit dimension choice for softmax has been deprecated. Change the call to include dim=X as an argument.\n",
            "  final_out = torch.nn.functional.softmax(out)\n",
            "100%|██████████| 57/57 [00:11<00:00,  4.89it/s]\n",
            "  0%|          | 0/2 [00:00<?, ?it/s]/var/folders/3c/71b8pg6d7j5dht_5h_2n4n_c0000gn/T/ipykernel_10911/1044936714.py:147: UserWarning: Implicit dimension choice for softmax has been deprecated. Change the call to include dim=X as an argument.\n",
            "  final_out = torch.nn.functional.softmax(out)\n",
            "100%|██████████| 2/2 [00:00<00:00,  5.37it/s]\n"
          ]
        },
        {
          "name": "stdout",
          "output_type": "stream",
          "text": [
            "\n",
            "epoch 17\n",
            "\ttrain_loss:0.514 valid_loss:0.828\n",
            "\ttrain_acc:80.67% valid_acc:67.44%\n",
            "\ttrain_f1:0.807 valid_f1:0.682\n",
            "\ttrain_confusion_matrix:\n",
            "[[1966  215  253]\n",
            " [ 322 1908  201]\n",
            " [ 279  140 2012]]\n",
            "\tvalid_confusion_matrix:\n",
            "[[125  47  56]\n",
            " [ 83 450  74]\n",
            " [ 76  42 208]]\n"
          ]
        },
        {
          "name": "stderr",
          "output_type": "stream",
          "text": [
            "  0%|          | 0/57 [00:00<?, ?it/s]/var/folders/3c/71b8pg6d7j5dht_5h_2n4n_c0000gn/T/ipykernel_10911/1044936714.py:147: UserWarning: Implicit dimension choice for softmax has been deprecated. Change the call to include dim=X as an argument.\n",
            "  final_out = torch.nn.functional.softmax(out)\n",
            "100%|██████████| 57/57 [00:11<00:00,  4.84it/s]\n",
            "  0%|          | 0/2 [00:00<?, ?it/s]/var/folders/3c/71b8pg6d7j5dht_5h_2n4n_c0000gn/T/ipykernel_10911/1044936714.py:147: UserWarning: Implicit dimension choice for softmax has been deprecated. Change the call to include dim=X as an argument.\n",
            "  final_out = torch.nn.functional.softmax(out)\n",
            "100%|██████████| 2/2 [00:00<00:00,  5.59it/s]\n"
          ]
        },
        {
          "name": "stdout",
          "output_type": "stream",
          "text": [
            "\n",
            "epoch 18\n",
            "\ttrain_loss:0.495 valid_loss:0.862\n",
            "\ttrain_acc:81.39% valid_acc:67.53%\n",
            "\ttrain_f1:0.814 valid_f1:0.682\n",
            "\ttrain_confusion_matrix:\n",
            "[[1993  207  236]\n",
            " [ 306 1929  195]\n",
            " [ 265  149 2016]]\n",
            "\tvalid_confusion_matrix:\n",
            "[[109  42  77]\n",
            " [ 74 436  97]\n",
            " [ 59  28 239]]\n"
          ]
        },
        {
          "name": "stderr",
          "output_type": "stream",
          "text": [
            "  0%|          | 0/57 [00:00<?, ?it/s]/var/folders/3c/71b8pg6d7j5dht_5h_2n4n_c0000gn/T/ipykernel_10911/1044936714.py:147: UserWarning: Implicit dimension choice for softmax has been deprecated. Change the call to include dim=X as an argument.\n",
            "  final_out = torch.nn.functional.softmax(out)\n",
            "100%|██████████| 57/57 [00:12<00:00,  4.60it/s]\n",
            "  0%|          | 0/2 [00:00<?, ?it/s]/var/folders/3c/71b8pg6d7j5dht_5h_2n4n_c0000gn/T/ipykernel_10911/1044936714.py:147: UserWarning: Implicit dimension choice for softmax has been deprecated. Change the call to include dim=X as an argument.\n",
            "  final_out = torch.nn.functional.softmax(out)\n",
            "100%|██████████| 2/2 [00:00<00:00,  5.76it/s]\n"
          ]
        },
        {
          "name": "stdout",
          "output_type": "stream",
          "text": [
            "\n",
            "epoch 19\n",
            "\ttrain_loss:0.476 valid_loss:0.840\n",
            "\ttrain_acc:82.65% valid_acc:67.96%\n",
            "\ttrain_f1:0.827 valid_f1:0.688\n",
            "\ttrain_confusion_matrix:\n",
            "[[2014  213  204]\n",
            " [ 280 1967  185]\n",
            " [ 242  142 2049]]\n",
            "\tvalid_confusion_matrix:\n",
            "[[128  49  51]\n",
            " [ 85 453  69]\n",
            " [ 78  40 208]]\n",
            "Loading saved model from: model_task2.bin\n"
          ]
        },
        {
          "name": "stderr",
          "output_type": "stream",
          "text": [
            "  0%|          | 0/2 [00:00<?, ?it/s]/var/folders/3c/71b8pg6d7j5dht_5h_2n4n_c0000gn/T/ipykernel_10911/1044936714.py:147: UserWarning: Implicit dimension choice for softmax has been deprecated. Change the call to include dim=X as an argument.\n",
            "  final_out = torch.nn.functional.softmax(out)\n",
            "100%|██████████| 2/2 [00:00<00:00,  5.49it/s]\n"
          ]
        },
        {
          "name": "stdout",
          "output_type": "stream",
          "text": [
            "              precision    recall  f1-score   support\n",
            "\n",
            "     Neutral       0.44      0.58      0.50       228\n",
            "    Positive       0.85      0.73      0.79       607\n",
            "    Negative       0.63      0.66      0.64       326\n",
            "\n",
            "    accuracy                           0.68      1161\n",
            "   macro avg       0.64      0.66      0.64      1161\n",
            "weighted avg       0.71      0.68      0.69      1161\n",
            "\n",
            "\n",
            "******************************************************************************************\n",
            "Alpha Size: 0.2\n",
            "Window Size: 2\n",
            "******************************************************************************************\n",
            "\n",
            "train samples:7311\n",
            "valid samples:1161\n"
          ]
        },
        {
          "name": "stderr",
          "output_type": "stream",
          "text": [
            "  0%|          | 0/57 [00:00<?, ?it/s]/var/folders/3c/71b8pg6d7j5dht_5h_2n4n_c0000gn/T/ipykernel_10911/1044936714.py:147: UserWarning: Implicit dimension choice for softmax has been deprecated. Change the call to include dim=X as an argument.\n",
            "  final_out = torch.nn.functional.softmax(out)\n",
            "100%|██████████| 57/57 [00:10<00:00,  5.61it/s]\n",
            "  0%|          | 0/2 [00:00<?, ?it/s]/var/folders/3c/71b8pg6d7j5dht_5h_2n4n_c0000gn/T/ipykernel_10911/1044936714.py:147: UserWarning: Implicit dimension choice for softmax has been deprecated. Change the call to include dim=X as an argument.\n",
            "  final_out = torch.nn.functional.softmax(out)\n",
            "100%|██████████| 2/2 [00:00<00:00,  6.29it/s]\n"
          ]
        },
        {
          "name": "stdout",
          "output_type": "stream",
          "text": [
            "\n",
            "epoch 0\n",
            "\ttrain_loss:1.085 valid_loss:1.061\n",
            "\ttrain_acc:48.49% valid_acc:58.48%\n",
            "\ttrain_f1:0.484 valid_f1:0.590\n",
            "\ttrain_confusion_matrix:\n",
            "[[1043  682  706]\n",
            " [ 534 1335  563]\n",
            " [ 621  652 1160]]\n",
            "\tvalid_confusion_matrix:\n",
            "[[ 90  57  81]\n",
            " [ 93 405 109]\n",
            " [ 55  87 184]]\n"
          ]
        },
        {
          "name": "stderr",
          "output_type": "stream",
          "text": [
            "  0%|          | 0/57 [00:00<?, ?it/s]/var/folders/3c/71b8pg6d7j5dht_5h_2n4n_c0000gn/T/ipykernel_10911/1044936714.py:147: UserWarning: Implicit dimension choice for softmax has been deprecated. Change the call to include dim=X as an argument.\n",
            "  final_out = torch.nn.functional.softmax(out)\n",
            "100%|██████████| 57/57 [00:10<00:00,  5.68it/s]\n",
            "  0%|          | 0/2 [00:00<?, ?it/s]/var/folders/3c/71b8pg6d7j5dht_5h_2n4n_c0000gn/T/ipykernel_10911/1044936714.py:147: UserWarning: Implicit dimension choice for softmax has been deprecated. Change the call to include dim=X as an argument.\n",
            "  final_out = torch.nn.functional.softmax(out)\n",
            "100%|██████████| 2/2 [00:00<00:00,  5.88it/s]\n"
          ]
        },
        {
          "name": "stdout",
          "output_type": "stream",
          "text": [
            "\n",
            "epoch 1\n",
            "\ttrain_loss:1.045 valid_loss:0.989\n",
            "\ttrain_acc:55.10% valid_acc:62.36%\n",
            "\ttrain_f1:0.533 valid_f1:0.620\n",
            "\ttrain_confusion_matrix:\n",
            "[[ 723  837  875]\n",
            " [ 182 1817  435]\n",
            " [ 267  680 1480]]\n",
            "\tvalid_confusion_matrix:\n",
            "[[ 71  58  99]\n",
            " [ 52 430 125]\n",
            " [ 27  76 223]]\n"
          ]
        },
        {
          "name": "stderr",
          "output_type": "stream",
          "text": [
            "  0%|          | 0/57 [00:00<?, ?it/s]/var/folders/3c/71b8pg6d7j5dht_5h_2n4n_c0000gn/T/ipykernel_10911/1044936714.py:147: UserWarning: Implicit dimension choice for softmax has been deprecated. Change the call to include dim=X as an argument.\n",
            "  final_out = torch.nn.functional.softmax(out)\n",
            "100%|██████████| 57/57 [00:11<00:00,  5.11it/s]\n",
            "  0%|          | 0/2 [00:00<?, ?it/s]/var/folders/3c/71b8pg6d7j5dht_5h_2n4n_c0000gn/T/ipykernel_10911/1044936714.py:147: UserWarning: Implicit dimension choice for softmax has been deprecated. Change the call to include dim=X as an argument.\n",
            "  final_out = torch.nn.functional.softmax(out)\n",
            "100%|██████████| 2/2 [00:00<00:00,  5.63it/s]\n"
          ]
        },
        {
          "name": "stdout",
          "output_type": "stream",
          "text": [
            "\n",
            "epoch 2\n",
            "\ttrain_loss:0.947 valid_loss:0.848\n",
            "\ttrain_acc:58.26% valid_acc:65.72%\n",
            "\ttrain_f1:0.570 valid_f1:0.658\n",
            "\ttrain_confusion_matrix:\n",
            "[[ 854  612  963]\n",
            " [ 226 1735  471]\n",
            " [ 306  467 1662]]\n",
            "\tvalid_confusion_matrix:\n",
            "[[103  52  73]\n",
            " [ 71 464  72]\n",
            " [ 54  76 196]]\n"
          ]
        },
        {
          "name": "stderr",
          "output_type": "stream",
          "text": [
            "  0%|          | 0/57 [00:00<?, ?it/s]/var/folders/3c/71b8pg6d7j5dht_5h_2n4n_c0000gn/T/ipykernel_10911/1044936714.py:147: UserWarning: Implicit dimension choice for softmax has been deprecated. Change the call to include dim=X as an argument.\n",
            "  final_out = torch.nn.functional.softmax(out)\n",
            "100%|██████████| 57/57 [00:10<00:00,  5.46it/s]\n",
            "  0%|          | 0/2 [00:00<?, ?it/s]/var/folders/3c/71b8pg6d7j5dht_5h_2n4n_c0000gn/T/ipykernel_10911/1044936714.py:147: UserWarning: Implicit dimension choice for softmax has been deprecated. Change the call to include dim=X as an argument.\n",
            "  final_out = torch.nn.functional.softmax(out)\n",
            "100%|██████████| 2/2 [00:00<00:00,  6.02it/s]\n"
          ]
        },
        {
          "name": "stdout",
          "output_type": "stream",
          "text": [
            "\n",
            "epoch 3\n",
            "\ttrain_loss:0.857 valid_loss:0.787\n",
            "\ttrain_acc:62.12% valid_acc:65.98%\n",
            "\ttrain_f1:0.615 valid_f1:0.663\n",
            "\ttrain_confusion_matrix:\n",
            "[[1110  563  758]\n",
            " [ 313 1804  313]\n",
            " [ 428  389 1618]]\n",
            "\tvalid_confusion_matrix:\n",
            "[[100  51  77]\n",
            " [ 73 466  68]\n",
            " [ 64  62 200]]\n"
          ]
        },
        {
          "name": "stderr",
          "output_type": "stream",
          "text": [
            "  0%|          | 0/57 [00:00<?, ?it/s]/var/folders/3c/71b8pg6d7j5dht_5h_2n4n_c0000gn/T/ipykernel_10911/1044936714.py:147: UserWarning: Implicit dimension choice for softmax has been deprecated. Change the call to include dim=X as an argument.\n",
            "  final_out = torch.nn.functional.softmax(out)\n",
            "100%|██████████| 57/57 [00:09<00:00,  5.79it/s]\n",
            "  0%|          | 0/2 [00:00<?, ?it/s]/var/folders/3c/71b8pg6d7j5dht_5h_2n4n_c0000gn/T/ipykernel_10911/1044936714.py:147: UserWarning: Implicit dimension choice for softmax has been deprecated. Change the call to include dim=X as an argument.\n",
            "  final_out = torch.nn.functional.softmax(out)\n",
            "100%|██████████| 2/2 [00:00<00:00,  6.38it/s]\n"
          ]
        },
        {
          "name": "stdout",
          "output_type": "stream",
          "text": [
            "\n",
            "epoch 4\n",
            "\ttrain_loss:0.808 valid_loss:0.765\n",
            "\ttrain_acc:64.39% valid_acc:67.53%\n",
            "\ttrain_f1:0.641 valid_f1:0.681\n",
            "\ttrain_confusion_matrix:\n",
            "[[1271  489  673]\n",
            " [ 319 1820  292]\n",
            " [ 503  322 1607]]\n",
            "\tvalid_confusion_matrix:\n",
            "[[109  43  76]\n",
            " [ 76 442  89]\n",
            " [ 52  41 233]]\n"
          ]
        },
        {
          "name": "stderr",
          "output_type": "stream",
          "text": [
            "  0%|          | 0/57 [00:00<?, ?it/s]/var/folders/3c/71b8pg6d7j5dht_5h_2n4n_c0000gn/T/ipykernel_10911/1044936714.py:147: UserWarning: Implicit dimension choice for softmax has been deprecated. Change the call to include dim=X as an argument.\n",
            "  final_out = torch.nn.functional.softmax(out)\n",
            "100%|██████████| 57/57 [00:09<00:00,  5.74it/s]\n",
            "  0%|          | 0/2 [00:00<?, ?it/s]/var/folders/3c/71b8pg6d7j5dht_5h_2n4n_c0000gn/T/ipykernel_10911/1044936714.py:147: UserWarning: Implicit dimension choice for softmax has been deprecated. Change the call to include dim=X as an argument.\n",
            "  final_out = torch.nn.functional.softmax(out)\n",
            "100%|██████████| 2/2 [00:00<00:00,  6.32it/s]\n"
          ]
        },
        {
          "name": "stdout",
          "output_type": "stream",
          "text": [
            "\n",
            "epoch 5\n",
            "\ttrain_loss:0.780 valid_loss:0.766\n",
            "\ttrain_acc:65.61% valid_acc:66.93%\n",
            "\ttrain_f1:0.655 valid_f1:0.679\n",
            "\ttrain_confusion_matrix:\n",
            "[[1366  433  633]\n",
            " [ 356 1811  263]\n",
            " [ 547  277 1610]]\n",
            "\tvalid_confusion_matrix:\n",
            "[[123  39  66]\n",
            " [ 95 426  86]\n",
            " [ 63  35 228]]\n"
          ]
        },
        {
          "name": "stderr",
          "output_type": "stream",
          "text": [
            "  0%|          | 0/57 [00:00<?, ?it/s]/var/folders/3c/71b8pg6d7j5dht_5h_2n4n_c0000gn/T/ipykernel_10911/1044936714.py:147: UserWarning: Implicit dimension choice for softmax has been deprecated. Change the call to include dim=X as an argument.\n",
            "  final_out = torch.nn.functional.softmax(out)\n",
            "100%|██████████| 57/57 [00:10<00:00,  5.68it/s]\n",
            "  0%|          | 0/2 [00:00<?, ?it/s]/var/folders/3c/71b8pg6d7j5dht_5h_2n4n_c0000gn/T/ipykernel_10911/1044936714.py:147: UserWarning: Implicit dimension choice for softmax has been deprecated. Change the call to include dim=X as an argument.\n",
            "  final_out = torch.nn.functional.softmax(out)\n",
            "100%|██████████| 2/2 [00:00<00:00,  6.41it/s]\n"
          ]
        },
        {
          "name": "stdout",
          "output_type": "stream",
          "text": [
            "\n",
            "epoch 6\n",
            "\ttrain_loss:0.751 valid_loss:0.732\n",
            "\ttrain_acc:67.57% valid_acc:67.96%\n",
            "\ttrain_f1:0.675 valid_f1:0.686\n",
            "\ttrain_confusion_matrix:\n",
            "[[1407  376  648]\n",
            " [ 362 1813  258]\n",
            " [ 486  236 1710]]\n",
            "\tvalid_confusion_matrix:\n",
            "[[119  41  68]\n",
            " [ 88 444  75]\n",
            " [ 55  45 226]]\n"
          ]
        },
        {
          "name": "stderr",
          "output_type": "stream",
          "text": [
            "  0%|          | 0/57 [00:00<?, ?it/s]/var/folders/3c/71b8pg6d7j5dht_5h_2n4n_c0000gn/T/ipykernel_10911/1044936714.py:147: UserWarning: Implicit dimension choice for softmax has been deprecated. Change the call to include dim=X as an argument.\n",
            "  final_out = torch.nn.functional.softmax(out)\n",
            "100%|██████████| 57/57 [00:10<00:00,  5.63it/s]\n",
            "  0%|          | 0/2 [00:00<?, ?it/s]/var/folders/3c/71b8pg6d7j5dht_5h_2n4n_c0000gn/T/ipykernel_10911/1044936714.py:147: UserWarning: Implicit dimension choice for softmax has been deprecated. Change the call to include dim=X as an argument.\n",
            "  final_out = torch.nn.functional.softmax(out)\n",
            "100%|██████████| 2/2 [00:00<00:00,  6.40it/s]\n"
          ]
        },
        {
          "name": "stdout",
          "output_type": "stream",
          "text": [
            "\n",
            "epoch 7\n",
            "\ttrain_loss:0.733 valid_loss:0.720\n",
            "\ttrain_acc:68.00% valid_acc:68.22%\n",
            "\ttrain_f1:0.679 valid_f1:0.689\n",
            "\ttrain_confusion_matrix:\n",
            "[[1441  393  599]\n",
            " [ 368 1834  232]\n",
            " [ 502  241 1686]]\n",
            "\tvalid_confusion_matrix:\n",
            "[[119  40  69]\n",
            " [ 85 449  73]\n",
            " [ 60  42 224]]\n"
          ]
        },
        {
          "name": "stderr",
          "output_type": "stream",
          "text": [
            "  0%|          | 0/57 [00:00<?, ?it/s]/var/folders/3c/71b8pg6d7j5dht_5h_2n4n_c0000gn/T/ipykernel_10911/1044936714.py:147: UserWarning: Implicit dimension choice for softmax has been deprecated. Change the call to include dim=X as an argument.\n",
            "  final_out = torch.nn.functional.softmax(out)\n",
            "100%|██████████| 57/57 [00:09<00:00,  5.93it/s]\n",
            "  0%|          | 0/2 [00:00<?, ?it/s]/var/folders/3c/71b8pg6d7j5dht_5h_2n4n_c0000gn/T/ipykernel_10911/1044936714.py:147: UserWarning: Implicit dimension choice for softmax has been deprecated. Change the call to include dim=X as an argument.\n",
            "  final_out = torch.nn.functional.softmax(out)\n",
            "100%|██████████| 2/2 [00:00<00:00,  6.87it/s]\n"
          ]
        },
        {
          "name": "stdout",
          "output_type": "stream",
          "text": [
            "\n",
            "epoch 8\n",
            "\ttrain_loss:0.714 valid_loss:0.713\n",
            "\ttrain_acc:69.19% valid_acc:67.79%\n",
            "\ttrain_f1:0.691 valid_f1:0.686\n",
            "\ttrain_confusion_matrix:\n",
            "[[1471  350  610]\n",
            " [ 365 1816  249]\n",
            " [ 452  222 1761]]\n",
            "\tvalid_confusion_matrix:\n",
            "[[120  41  67]\n",
            " [ 86 444  77]\n",
            " [ 63  40 223]]\n"
          ]
        },
        {
          "name": "stderr",
          "output_type": "stream",
          "text": [
            "  0%|          | 0/57 [00:00<?, ?it/s]/var/folders/3c/71b8pg6d7j5dht_5h_2n4n_c0000gn/T/ipykernel_10911/1044936714.py:147: UserWarning: Implicit dimension choice for softmax has been deprecated. Change the call to include dim=X as an argument.\n",
            "  final_out = torch.nn.functional.softmax(out)\n",
            "100%|██████████| 57/57 [00:09<00:00,  6.01it/s]\n",
            "  0%|          | 0/2 [00:00<?, ?it/s]/var/folders/3c/71b8pg6d7j5dht_5h_2n4n_c0000gn/T/ipykernel_10911/1044936714.py:147: UserWarning: Implicit dimension choice for softmax has been deprecated. Change the call to include dim=X as an argument.\n",
            "  final_out = torch.nn.functional.softmax(out)\n",
            "100%|██████████| 2/2 [00:00<00:00,  6.71it/s]\n"
          ]
        },
        {
          "name": "stdout",
          "output_type": "stream",
          "text": [
            "\n",
            "epoch 9\n",
            "\ttrain_loss:0.697 valid_loss:0.723\n",
            "\ttrain_acc:70.04% valid_acc:68.13%\n",
            "\ttrain_f1:0.700 valid_f1:0.689\n",
            "\ttrain_confusion_matrix:\n",
            "[[1500  356  580]\n",
            " [ 351 1842  238]\n",
            " [ 454  207 1768]]\n",
            "\tvalid_confusion_matrix:\n",
            "[[123  41  64]\n",
            " [ 90 445  72]\n",
            " [ 62  41 223]]\n"
          ]
        },
        {
          "name": "stderr",
          "output_type": "stream",
          "text": [
            "  0%|          | 0/57 [00:00<?, ?it/s]/var/folders/3c/71b8pg6d7j5dht_5h_2n4n_c0000gn/T/ipykernel_10911/1044936714.py:147: UserWarning: Implicit dimension choice for softmax has been deprecated. Change the call to include dim=X as an argument.\n",
            "  final_out = torch.nn.functional.softmax(out)\n",
            "100%|██████████| 57/57 [00:09<00:00,  6.04it/s]\n",
            "  0%|          | 0/2 [00:00<?, ?it/s]/var/folders/3c/71b8pg6d7j5dht_5h_2n4n_c0000gn/T/ipykernel_10911/1044936714.py:147: UserWarning: Implicit dimension choice for softmax has been deprecated. Change the call to include dim=X as an argument.\n",
            "  final_out = torch.nn.functional.softmax(out)\n",
            "100%|██████████| 2/2 [00:00<00:00,  6.86it/s]\n"
          ]
        },
        {
          "name": "stdout",
          "output_type": "stream",
          "text": [
            "\n",
            "epoch 10\n",
            "\ttrain_loss:0.678 valid_loss:0.730\n",
            "\ttrain_acc:71.77% valid_acc:66.58%\n",
            "\ttrain_f1:0.717 valid_f1:0.677\n",
            "\ttrain_confusion_matrix:\n",
            "[[1555  336  542]\n",
            " [ 346 1858  224]\n",
            " [ 415  197 1823]]\n",
            "\tvalid_confusion_matrix:\n",
            "[[128  38  62]\n",
            " [112 416  79]\n",
            " [ 62  35 229]]\n"
          ]
        },
        {
          "name": "stderr",
          "output_type": "stream",
          "text": [
            "  0%|          | 0/57 [00:00<?, ?it/s]/var/folders/3c/71b8pg6d7j5dht_5h_2n4n_c0000gn/T/ipykernel_10911/1044936714.py:147: UserWarning: Implicit dimension choice for softmax has been deprecated. Change the call to include dim=X as an argument.\n",
            "  final_out = torch.nn.functional.softmax(out)\n",
            "100%|██████████| 57/57 [00:09<00:00,  5.88it/s]\n",
            "  0%|          | 0/2 [00:00<?, ?it/s]/var/folders/3c/71b8pg6d7j5dht_5h_2n4n_c0000gn/T/ipykernel_10911/1044936714.py:147: UserWarning: Implicit dimension choice for softmax has been deprecated. Change the call to include dim=X as an argument.\n",
            "  final_out = torch.nn.functional.softmax(out)\n",
            "100%|██████████| 2/2 [00:00<00:00,  6.72it/s]\n"
          ]
        },
        {
          "name": "stdout",
          "output_type": "stream",
          "text": [
            "\n",
            "epoch 11\n",
            "\ttrain_loss:0.666 valid_loss:0.749\n",
            "\ttrain_acc:72.14% valid_acc:65.81%\n",
            "\ttrain_f1:0.721 valid_f1:0.670\n",
            "\ttrain_confusion_matrix:\n",
            "[[1557  332  540]\n",
            " [ 338 1872  224]\n",
            " [ 399  200 1834]]\n",
            "\tvalid_confusion_matrix:\n",
            "[[126  35  67]\n",
            " [114 407  86]\n",
            " [ 67  28 231]]\n"
          ]
        },
        {
          "name": "stderr",
          "output_type": "stream",
          "text": [
            "  0%|          | 0/57 [00:00<?, ?it/s]/var/folders/3c/71b8pg6d7j5dht_5h_2n4n_c0000gn/T/ipykernel_10911/1044936714.py:147: UserWarning: Implicit dimension choice for softmax has been deprecated. Change the call to include dim=X as an argument.\n",
            "  final_out = torch.nn.functional.softmax(out)\n",
            "100%|██████████| 57/57 [00:09<00:00,  6.01it/s]\n",
            "  0%|          | 0/2 [00:00<?, ?it/s]/var/folders/3c/71b8pg6d7j5dht_5h_2n4n_c0000gn/T/ipykernel_10911/1044936714.py:147: UserWarning: Implicit dimension choice for softmax has been deprecated. Change the call to include dim=X as an argument.\n",
            "  final_out = torch.nn.functional.softmax(out)\n",
            "100%|██████████| 2/2 [00:00<00:00,  6.06it/s]\n"
          ]
        },
        {
          "name": "stdout",
          "output_type": "stream",
          "text": [
            "\n",
            "epoch 12\n",
            "\ttrain_loss:0.655 valid_loss:0.718\n",
            "\ttrain_acc:72.94% valid_acc:67.79%\n",
            "\ttrain_f1:0.730 valid_f1:0.687\n",
            "\ttrain_confusion_matrix:\n",
            "[[1632  293  508]\n",
            " [ 350 1850  230]\n",
            " [ 402  191 1840]]\n",
            "\tvalid_confusion_matrix:\n",
            "[[129  37  62]\n",
            " [ 97 436  74]\n",
            " [ 63  41 222]]\n"
          ]
        },
        {
          "name": "stderr",
          "output_type": "stream",
          "text": [
            "  0%|          | 0/57 [00:00<?, ?it/s]/var/folders/3c/71b8pg6d7j5dht_5h_2n4n_c0000gn/T/ipykernel_10911/1044936714.py:147: UserWarning: Implicit dimension choice for softmax has been deprecated. Change the call to include dim=X as an argument.\n",
            "  final_out = torch.nn.functional.softmax(out)\n",
            "100%|██████████| 57/57 [00:09<00:00,  5.98it/s]\n",
            "  0%|          | 0/2 [00:00<?, ?it/s]/var/folders/3c/71b8pg6d7j5dht_5h_2n4n_c0000gn/T/ipykernel_10911/1044936714.py:147: UserWarning: Implicit dimension choice for softmax has been deprecated. Change the call to include dim=X as an argument.\n",
            "  final_out = torch.nn.functional.softmax(out)\n",
            "100%|██████████| 2/2 [00:00<00:00,  6.86it/s]\n"
          ]
        },
        {
          "name": "stdout",
          "output_type": "stream",
          "text": [
            "\n",
            "epoch 13\n",
            "\ttrain_loss:0.642 valid_loss:0.703\n",
            "\ttrain_acc:73.48% valid_acc:68.99%\n",
            "\ttrain_f1:0.734 valid_f1:0.692\n",
            "\ttrain_confusion_matrix:\n",
            "[[1611  315  507]\n",
            " [ 318 1894  219]\n",
            " [ 380  196 1856]]\n",
            "\tvalid_confusion_matrix:\n",
            "[[112  50  66]\n",
            " [ 74 463  70]\n",
            " [ 46  54 226]]\n"
          ]
        },
        {
          "name": "stderr",
          "output_type": "stream",
          "text": [
            "  0%|          | 0/57 [00:00<?, ?it/s]/var/folders/3c/71b8pg6d7j5dht_5h_2n4n_c0000gn/T/ipykernel_10911/1044936714.py:147: UserWarning: Implicit dimension choice for softmax has been deprecated. Change the call to include dim=X as an argument.\n",
            "  final_out = torch.nn.functional.softmax(out)\n",
            "100%|██████████| 57/57 [00:09<00:00,  5.97it/s]\n",
            "  0%|          | 0/2 [00:00<?, ?it/s]/var/folders/3c/71b8pg6d7j5dht_5h_2n4n_c0000gn/T/ipykernel_10911/1044936714.py:147: UserWarning: Implicit dimension choice for softmax has been deprecated. Change the call to include dim=X as an argument.\n",
            "  final_out = torch.nn.functional.softmax(out)\n",
            "100%|██████████| 2/2 [00:00<00:00,  6.62it/s]\n"
          ]
        },
        {
          "name": "stdout",
          "output_type": "stream",
          "text": [
            "\n",
            "epoch 14\n",
            "\ttrain_loss:0.634 valid_loss:0.729\n",
            "\ttrain_acc:73.93% valid_acc:67.36%\n",
            "\ttrain_f1:0.739 valid_f1:0.683\n",
            "\ttrain_confusion_matrix:\n",
            "[[1631  286  515]\n",
            " [ 327 1900  207]\n",
            " [ 366  201 1863]]\n",
            "\tvalid_confusion_matrix:\n",
            "[[139  45  44]\n",
            " [101 449  57]\n",
            " [ 87  45 194]]\n"
          ]
        },
        {
          "name": "stderr",
          "output_type": "stream",
          "text": [
            "  0%|          | 0/57 [00:00<?, ?it/s]/var/folders/3c/71b8pg6d7j5dht_5h_2n4n_c0000gn/T/ipykernel_10911/1044936714.py:147: UserWarning: Implicit dimension choice for softmax has been deprecated. Change the call to include dim=X as an argument.\n",
            "  final_out = torch.nn.functional.softmax(out)\n",
            "100%|██████████| 57/57 [00:09<00:00,  6.13it/s]\n",
            "  0%|          | 0/2 [00:00<?, ?it/s]/var/folders/3c/71b8pg6d7j5dht_5h_2n4n_c0000gn/T/ipykernel_10911/1044936714.py:147: UserWarning: Implicit dimension choice for softmax has been deprecated. Change the call to include dim=X as an argument.\n",
            "  final_out = torch.nn.functional.softmax(out)\n",
            "100%|██████████| 2/2 [00:00<00:00,  6.21it/s]\n"
          ]
        },
        {
          "name": "stdout",
          "output_type": "stream",
          "text": [
            "\n",
            "epoch 15\n",
            "\ttrain_loss:0.630 valid_loss:0.750\n",
            "\ttrain_acc:73.49% valid_acc:67.01%\n",
            "\ttrain_f1:0.735 valid_f1:0.683\n",
            "\ttrain_confusion_matrix:\n",
            "[[1654  277  504]\n",
            " [ 333 1870  226]\n",
            " [ 426  168 1838]]\n",
            "\tvalid_confusion_matrix:\n",
            "[[141  31  56]\n",
            " [120 412  75]\n",
            " [ 71  30 225]]\n"
          ]
        },
        {
          "name": "stderr",
          "output_type": "stream",
          "text": [
            "  0%|          | 0/57 [00:00<?, ?it/s]/var/folders/3c/71b8pg6d7j5dht_5h_2n4n_c0000gn/T/ipykernel_10911/1044936714.py:147: UserWarning: Implicit dimension choice for softmax has been deprecated. Change the call to include dim=X as an argument.\n",
            "  final_out = torch.nn.functional.softmax(out)\n",
            "100%|██████████| 57/57 [00:09<00:00,  6.01it/s]\n",
            "  0%|          | 0/2 [00:00<?, ?it/s]/var/folders/3c/71b8pg6d7j5dht_5h_2n4n_c0000gn/T/ipykernel_10911/1044936714.py:147: UserWarning: Implicit dimension choice for softmax has been deprecated. Change the call to include dim=X as an argument.\n",
            "  final_out = torch.nn.functional.softmax(out)\n",
            "100%|██████████| 2/2 [00:00<00:00,  6.96it/s]\n"
          ]
        },
        {
          "name": "stdout",
          "output_type": "stream",
          "text": [
            "\n",
            "epoch 16\n",
            "\ttrain_loss:0.610 valid_loss:0.738\n",
            "\ttrain_acc:75.16% valid_acc:68.73%\n",
            "\ttrain_f1:0.751 valid_f1:0.696\n",
            "\ttrain_confusion_matrix:\n",
            "[[1686  293  455]\n",
            " [ 309 1925  195]\n",
            " [ 364  196 1873]]\n",
            "\tvalid_confusion_matrix:\n",
            "[[137  34  57]\n",
            " [101 427  79]\n",
            " [ 56  36 234]]\n"
          ]
        },
        {
          "name": "stderr",
          "output_type": "stream",
          "text": [
            "  0%|          | 0/57 [00:00<?, ?it/s]/var/folders/3c/71b8pg6d7j5dht_5h_2n4n_c0000gn/T/ipykernel_10911/1044936714.py:147: UserWarning: Implicit dimension choice for softmax has been deprecated. Change the call to include dim=X as an argument.\n",
            "  final_out = torch.nn.functional.softmax(out)\n",
            "100%|██████████| 57/57 [00:09<00:00,  6.03it/s]\n",
            "  0%|          | 0/2 [00:00<?, ?it/s]/var/folders/3c/71b8pg6d7j5dht_5h_2n4n_c0000gn/T/ipykernel_10911/1044936714.py:147: UserWarning: Implicit dimension choice for softmax has been deprecated. Change the call to include dim=X as an argument.\n",
            "  final_out = torch.nn.functional.softmax(out)\n",
            "100%|██████████| 2/2 [00:00<00:00,  6.79it/s]\n"
          ]
        },
        {
          "name": "stdout",
          "output_type": "stream",
          "text": [
            "\n",
            "epoch 17\n",
            "\ttrain_loss:0.616 valid_loss:0.726\n",
            "\ttrain_acc:75.25% valid_acc:67.36%\n",
            "\ttrain_f1:0.753 valid_f1:0.683\n",
            "\ttrain_confusion_matrix:\n",
            "[[1773  232  426]\n",
            " [ 347 1882  202]\n",
            " [ 398  201 1835]]\n",
            "\tvalid_confusion_matrix:\n",
            "[[124  36  68]\n",
            " [ 95 426  86]\n",
            " [ 60  34 232]]\n"
          ]
        },
        {
          "name": "stderr",
          "output_type": "stream",
          "text": [
            "  0%|          | 0/57 [00:00<?, ?it/s]/var/folders/3c/71b8pg6d7j5dht_5h_2n4n_c0000gn/T/ipykernel_10911/1044936714.py:147: UserWarning: Implicit dimension choice for softmax has been deprecated. Change the call to include dim=X as an argument.\n",
            "  final_out = torch.nn.functional.softmax(out)\n",
            "100%|██████████| 57/57 [00:09<00:00,  5.92it/s]\n",
            "  0%|          | 0/2 [00:00<?, ?it/s]/var/folders/3c/71b8pg6d7j5dht_5h_2n4n_c0000gn/T/ipykernel_10911/1044936714.py:147: UserWarning: Implicit dimension choice for softmax has been deprecated. Change the call to include dim=X as an argument.\n",
            "  final_out = torch.nn.functional.softmax(out)\n",
            "100%|██████████| 2/2 [00:00<00:00,  6.75it/s]\n"
          ]
        },
        {
          "name": "stdout",
          "output_type": "stream",
          "text": [
            "\n",
            "epoch 18\n",
            "\ttrain_loss:0.597 valid_loss:0.731\n",
            "\ttrain_acc:75.90% valid_acc:67.79%\n",
            "\ttrain_f1:0.759 valid_f1:0.686\n",
            "\ttrain_confusion_matrix:\n",
            "[[1681  240  508]\n",
            " [ 285 1911  239]\n",
            " [ 325  161 1946]]\n",
            "\tvalid_confusion_matrix:\n",
            "[[129  41  58]\n",
            " [ 93 449  65]\n",
            " [ 69  48 209]]\n"
          ]
        },
        {
          "name": "stderr",
          "output_type": "stream",
          "text": [
            "  0%|          | 0/57 [00:00<?, ?it/s]/var/folders/3c/71b8pg6d7j5dht_5h_2n4n_c0000gn/T/ipykernel_10911/1044936714.py:147: UserWarning: Implicit dimension choice for softmax has been deprecated. Change the call to include dim=X as an argument.\n",
            "  final_out = torch.nn.functional.softmax(out)\n",
            "100%|██████████| 57/57 [00:09<00:00,  5.87it/s]\n",
            "  0%|          | 0/2 [00:00<?, ?it/s]/var/folders/3c/71b8pg6d7j5dht_5h_2n4n_c0000gn/T/ipykernel_10911/1044936714.py:147: UserWarning: Implicit dimension choice for softmax has been deprecated. Change the call to include dim=X as an argument.\n",
            "  final_out = torch.nn.functional.softmax(out)\n",
            "100%|██████████| 2/2 [00:00<00:00,  5.70it/s]\n"
          ]
        },
        {
          "name": "stdout",
          "output_type": "stream",
          "text": [
            "\n",
            "epoch 19\n",
            "\ttrain_loss:0.587 valid_loss:0.716\n",
            "\ttrain_acc:76.75% valid_acc:69.25%\n",
            "\ttrain_f1:0.767 valid_f1:0.698\n",
            "\ttrain_confusion_matrix:\n",
            "[[1734  274  423]\n",
            " [ 287 1962  184]\n",
            " [ 333  195 1904]]\n",
            "\tvalid_confusion_matrix:\n",
            "[[118  50  60]\n",
            " [ 81 458  68]\n",
            " [ 59  39 228]]\n",
            "Loading saved model from: model_task2.bin\n"
          ]
        },
        {
          "name": "stderr",
          "output_type": "stream",
          "text": [
            "  0%|          | 0/2 [00:00<?, ?it/s]/var/folders/3c/71b8pg6d7j5dht_5h_2n4n_c0000gn/T/ipykernel_10911/1044936714.py:147: UserWarning: Implicit dimension choice for softmax has been deprecated. Change the call to include dim=X as an argument.\n",
            "  final_out = torch.nn.functional.softmax(out)\n",
            "100%|██████████| 2/2 [00:00<00:00,  6.63it/s]\n"
          ]
        },
        {
          "name": "stdout",
          "output_type": "stream",
          "text": [
            "              precision    recall  f1-score   support\n",
            "\n",
            "     Neutral       0.50      0.50      0.50       228\n",
            "    Positive       0.82      0.77      0.80       607\n",
            "    Negative       0.63      0.71      0.67       326\n",
            "\n",
            "    accuracy                           0.70      1161\n",
            "   macro avg       0.65      0.66      0.65      1161\n",
            "weighted avg       0.71      0.70      0.70      1161\n",
            "\n",
            "\n",
            "******************************************************************************************\n",
            "Alpha Size: 0.2\n",
            "Window Size: 4\n",
            "******************************************************************************************\n",
            "\n",
            "train samples:7311\n",
            "valid samples:1161\n"
          ]
        },
        {
          "name": "stderr",
          "output_type": "stream",
          "text": [
            "  0%|          | 0/57 [00:00<?, ?it/s]/var/folders/3c/71b8pg6d7j5dht_5h_2n4n_c0000gn/T/ipykernel_10911/1044936714.py:147: UserWarning: Implicit dimension choice for softmax has been deprecated. Change the call to include dim=X as an argument.\n",
            "  final_out = torch.nn.functional.softmax(out)\n",
            "100%|██████████| 57/57 [00:11<00:00,  5.09it/s]\n",
            "  0%|          | 0/2 [00:00<?, ?it/s]/var/folders/3c/71b8pg6d7j5dht_5h_2n4n_c0000gn/T/ipykernel_10911/1044936714.py:147: UserWarning: Implicit dimension choice for softmax has been deprecated. Change the call to include dim=X as an argument.\n",
            "  final_out = torch.nn.functional.softmax(out)\n",
            "100%|██████████| 2/2 [00:00<00:00,  4.53it/s]\n"
          ]
        },
        {
          "name": "stdout",
          "output_type": "stream",
          "text": [
            "\n",
            "epoch 0\n",
            "\ttrain_loss:1.086 valid_loss:1.070\n",
            "\ttrain_acc:43.98% valid_acc:59.09%\n",
            "\ttrain_f1:0.433 valid_f1:0.596\n",
            "\ttrain_confusion_matrix:\n",
            "[[1208  195 1027]\n",
            " [1087  659  684]\n",
            " [ 958  136 1342]]\n",
            "\tvalid_confusion_matrix:\n",
            "[[ 86  53  89]\n",
            " [ 86 388 133]\n",
            " [ 45  69 212]]\n"
          ]
        },
        {
          "name": "stderr",
          "output_type": "stream",
          "text": [
            "  0%|          | 0/57 [00:00<?, ?it/s]/var/folders/3c/71b8pg6d7j5dht_5h_2n4n_c0000gn/T/ipykernel_10911/1044936714.py:147: UserWarning: Implicit dimension choice for softmax has been deprecated. Change the call to include dim=X as an argument.\n",
            "  final_out = torch.nn.functional.softmax(out)\n",
            "100%|██████████| 57/57 [00:11<00:00,  5.00it/s]\n",
            "  0%|          | 0/2 [00:00<?, ?it/s]/var/folders/3c/71b8pg6d7j5dht_5h_2n4n_c0000gn/T/ipykernel_10911/1044936714.py:147: UserWarning: Implicit dimension choice for softmax has been deprecated. Change the call to include dim=X as an argument.\n",
            "  final_out = torch.nn.functional.softmax(out)\n",
            "100%|██████████| 2/2 [00:00<00:00,  5.18it/s]\n"
          ]
        },
        {
          "name": "stdout",
          "output_type": "stream",
          "text": [
            "\n",
            "epoch 1\n",
            "\ttrain_loss:1.045 valid_loss:0.985\n",
            "\ttrain_acc:55.62% valid_acc:61.84%\n",
            "\ttrain_f1:0.543 valid_f1:0.608\n",
            "\ttrain_confusion_matrix:\n",
            "[[ 818  718  894]\n",
            " [ 283 1778  372]\n",
            " [ 362  609 1462]]\n",
            "\tvalid_confusion_matrix:\n",
            "[[ 50  53 125]\n",
            " [ 42 422 143]\n",
            " [ 19  61 246]]\n"
          ]
        },
        {
          "name": "stderr",
          "output_type": "stream",
          "text": [
            "  0%|          | 0/57 [00:00<?, ?it/s]/var/folders/3c/71b8pg6d7j5dht_5h_2n4n_c0000gn/T/ipykernel_10911/1044936714.py:147: UserWarning: Implicit dimension choice for softmax has been deprecated. Change the call to include dim=X as an argument.\n",
            "  final_out = torch.nn.functional.softmax(out)\n",
            "100%|██████████| 57/57 [00:10<00:00,  5.25it/s]\n",
            "  0%|          | 0/2 [00:00<?, ?it/s]/var/folders/3c/71b8pg6d7j5dht_5h_2n4n_c0000gn/T/ipykernel_10911/1044936714.py:147: UserWarning: Implicit dimension choice for softmax has been deprecated. Change the call to include dim=X as an argument.\n",
            "  final_out = torch.nn.functional.softmax(out)\n",
            "100%|██████████| 2/2 [00:00<00:00,  6.24it/s]\n"
          ]
        },
        {
          "name": "stdout",
          "output_type": "stream",
          "text": [
            "\n",
            "epoch 2\n",
            "\ttrain_loss:0.931 valid_loss:0.850\n",
            "\ttrain_acc:57.00% valid_acc:65.03%\n",
            "\ttrain_f1:0.543 valid_f1:0.656\n",
            "\ttrain_confusion_matrix:\n",
            "[[ 610  647 1178]\n",
            " [ 178 1802  452]\n",
            " [ 195  487 1747]]\n",
            "\tvalid_confusion_matrix:\n",
            "[[ 95  46  87]\n",
            " [ 77 452  78]\n",
            " [ 66  52 208]]\n"
          ]
        },
        {
          "name": "stderr",
          "output_type": "stream",
          "text": [
            "  0%|          | 0/57 [00:00<?, ?it/s]/var/folders/3c/71b8pg6d7j5dht_5h_2n4n_c0000gn/T/ipykernel_10911/1044936714.py:147: UserWarning: Implicit dimension choice for softmax has been deprecated. Change the call to include dim=X as an argument.\n",
            "  final_out = torch.nn.functional.softmax(out)\n",
            "100%|██████████| 57/57 [00:10<00:00,  5.36it/s]\n",
            "  0%|          | 0/2 [00:00<?, ?it/s]/var/folders/3c/71b8pg6d7j5dht_5h_2n4n_c0000gn/T/ipykernel_10911/1044936714.py:147: UserWarning: Implicit dimension choice for softmax has been deprecated. Change the call to include dim=X as an argument.\n",
            "  final_out = torch.nn.functional.softmax(out)\n",
            "100%|██████████| 2/2 [00:00<00:00,  5.95it/s]\n"
          ]
        },
        {
          "name": "stdout",
          "output_type": "stream",
          "text": [
            "\n",
            "epoch 3\n",
            "\ttrain_loss:0.846 valid_loss:0.820\n",
            "\ttrain_acc:63.61% valid_acc:65.37%\n",
            "\ttrain_f1:0.630 valid_f1:0.664\n",
            "\ttrain_confusion_matrix:\n",
            "[[1103  480  848]\n",
            " [ 319 1823  292]\n",
            " [ 401  315 1715]]\n",
            "\tvalid_confusion_matrix:\n",
            "[[105  32  91]\n",
            " [ 97 408 102]\n",
            " [ 55  25 246]]\n"
          ]
        },
        {
          "name": "stderr",
          "output_type": "stream",
          "text": [
            "  0%|          | 0/57 [00:00<?, ?it/s]/var/folders/3c/71b8pg6d7j5dht_5h_2n4n_c0000gn/T/ipykernel_10911/1044936714.py:147: UserWarning: Implicit dimension choice for softmax has been deprecated. Change the call to include dim=X as an argument.\n",
            "  final_out = torch.nn.functional.softmax(out)\n",
            "100%|██████████| 57/57 [00:10<00:00,  5.46it/s]\n",
            "  0%|          | 0/2 [00:00<?, ?it/s]/var/folders/3c/71b8pg6d7j5dht_5h_2n4n_c0000gn/T/ipykernel_10911/1044936714.py:147: UserWarning: Implicit dimension choice for softmax has been deprecated. Change the call to include dim=X as an argument.\n",
            "  final_out = torch.nn.functional.softmax(out)\n",
            "100%|██████████| 2/2 [00:00<00:00,  6.18it/s]\n"
          ]
        },
        {
          "name": "stdout",
          "output_type": "stream",
          "text": [
            "\n",
            "epoch 4\n",
            "\ttrain_loss:0.800 valid_loss:0.761\n",
            "\ttrain_acc:65.71% valid_acc:67.18%\n",
            "\ttrain_f1:0.655 valid_f1:0.681\n",
            "\ttrain_confusion_matrix:\n",
            "[[1305  441  689]\n",
            " [ 345 1852  235]\n",
            " [ 518  274 1637]]\n",
            "\tvalid_confusion_matrix:\n",
            "[[108  35  85]\n",
            " [ 81 439  87]\n",
            " [ 64  29 233]]\n"
          ]
        },
        {
          "name": "stderr",
          "output_type": "stream",
          "text": [
            "  0%|          | 0/57 [00:00<?, ?it/s]/var/folders/3c/71b8pg6d7j5dht_5h_2n4n_c0000gn/T/ipykernel_10911/1044936714.py:147: UserWarning: Implicit dimension choice for softmax has been deprecated. Change the call to include dim=X as an argument.\n",
            "  final_out = torch.nn.functional.softmax(out)\n",
            "100%|██████████| 57/57 [00:10<00:00,  5.28it/s]\n",
            "  0%|          | 0/2 [00:00<?, ?it/s]/var/folders/3c/71b8pg6d7j5dht_5h_2n4n_c0000gn/T/ipykernel_10911/1044936714.py:147: UserWarning: Implicit dimension choice for softmax has been deprecated. Change the call to include dim=X as an argument.\n",
            "  final_out = torch.nn.functional.softmax(out)\n",
            "100%|██████████| 2/2 [00:00<00:00,  5.95it/s]\n"
          ]
        },
        {
          "name": "stdout",
          "output_type": "stream",
          "text": [
            "\n",
            "epoch 5\n",
            "\ttrain_loss:0.763 valid_loss:0.736\n",
            "\ttrain_acc:67.19% valid_acc:69.34%\n",
            "\ttrain_f1:0.670 valid_f1:0.701\n",
            "\ttrain_confusion_matrix:\n",
            "[[1371  385  678]\n",
            " [ 341 1856  231]\n",
            " [ 524  235 1675]]\n",
            "\tvalid_confusion_matrix:\n",
            "[[123  43  62]\n",
            " [ 88 462  57]\n",
            " [ 69  37 220]]\n"
          ]
        },
        {
          "name": "stderr",
          "output_type": "stream",
          "text": [
            "  0%|          | 0/57 [00:00<?, ?it/s]/var/folders/3c/71b8pg6d7j5dht_5h_2n4n_c0000gn/T/ipykernel_10911/1044936714.py:147: UserWarning: Implicit dimension choice for softmax has been deprecated. Change the call to include dim=X as an argument.\n",
            "  final_out = torch.nn.functional.softmax(out)\n",
            "100%|██████████| 57/57 [00:10<00:00,  5.38it/s]\n",
            "  0%|          | 0/2 [00:00<?, ?it/s]/var/folders/3c/71b8pg6d7j5dht_5h_2n4n_c0000gn/T/ipykernel_10911/1044936714.py:147: UserWarning: Implicit dimension choice for softmax has been deprecated. Change the call to include dim=X as an argument.\n",
            "  final_out = torch.nn.functional.softmax(out)\n",
            "100%|██████████| 2/2 [00:00<00:00,  6.23it/s]\n"
          ]
        },
        {
          "name": "stdout",
          "output_type": "stream",
          "text": [
            "\n",
            "epoch 6\n",
            "\ttrain_loss:0.739 valid_loss:0.736\n",
            "\ttrain_acc:68.82% valid_acc:68.82%\n",
            "\ttrain_f1:0.688 valid_f1:0.697\n",
            "\ttrain_confusion_matrix:\n",
            "[[1455  342  638]\n",
            " [ 353 1841  235]\n",
            " [ 486  221 1725]]\n",
            "\tvalid_confusion_matrix:\n",
            "[[121  38  69]\n",
            " [ 90 441  76]\n",
            " [ 60  29 237]]\n"
          ]
        },
        {
          "name": "stderr",
          "output_type": "stream",
          "text": [
            "  0%|          | 0/57 [00:00<?, ?it/s]/var/folders/3c/71b8pg6d7j5dht_5h_2n4n_c0000gn/T/ipykernel_10911/1044936714.py:147: UserWarning: Implicit dimension choice for softmax has been deprecated. Change the call to include dim=X as an argument.\n",
            "  final_out = torch.nn.functional.softmax(out)\n",
            "100%|██████████| 57/57 [00:10<00:00,  5.42it/s]\n",
            "  0%|          | 0/2 [00:00<?, ?it/s]/var/folders/3c/71b8pg6d7j5dht_5h_2n4n_c0000gn/T/ipykernel_10911/1044936714.py:147: UserWarning: Implicit dimension choice for softmax has been deprecated. Change the call to include dim=X as an argument.\n",
            "  final_out = torch.nn.functional.softmax(out)\n",
            "100%|██████████| 2/2 [00:00<00:00,  6.02it/s]\n"
          ]
        },
        {
          "name": "stdout",
          "output_type": "stream",
          "text": [
            "\n",
            "epoch 7\n",
            "\ttrain_loss:0.719 valid_loss:0.711\n",
            "\ttrain_acc:70.23% valid_acc:70.20%\n",
            "\ttrain_f1:0.702 valid_f1:0.709\n",
            "\ttrain_confusion_matrix:\n",
            "[[1503  302  627]\n",
            " [ 348 1844  238]\n",
            " [ 455  202 1777]]\n",
            "\tvalid_confusion_matrix:\n",
            "[[117  42  69]\n",
            " [ 81 461  65]\n",
            " [ 59  30 237]]\n"
          ]
        },
        {
          "name": "stderr",
          "output_type": "stream",
          "text": [
            "  0%|          | 0/57 [00:00<?, ?it/s]/var/folders/3c/71b8pg6d7j5dht_5h_2n4n_c0000gn/T/ipykernel_10911/1044936714.py:147: UserWarning: Implicit dimension choice for softmax has been deprecated. Change the call to include dim=X as an argument.\n",
            "  final_out = torch.nn.functional.softmax(out)\n",
            "100%|██████████| 57/57 [00:10<00:00,  5.34it/s]\n",
            "  0%|          | 0/2 [00:00<?, ?it/s]/var/folders/3c/71b8pg6d7j5dht_5h_2n4n_c0000gn/T/ipykernel_10911/1044936714.py:147: UserWarning: Implicit dimension choice for softmax has been deprecated. Change the call to include dim=X as an argument.\n",
            "  final_out = torch.nn.functional.softmax(out)\n",
            "100%|██████████| 2/2 [00:00<00:00,  6.31it/s]\n"
          ]
        },
        {
          "name": "stdout",
          "output_type": "stream",
          "text": [
            "\n",
            "epoch 8\n",
            "\ttrain_loss:0.696 valid_loss:0.721\n",
            "\ttrain_acc:71.27% valid_acc:69.77%\n",
            "\ttrain_f1:0.713 valid_f1:0.708\n",
            "\ttrain_confusion_matrix:\n",
            "[[1539  300  592]\n",
            " [ 348 1876  210]\n",
            " [ 447  199 1785]]\n",
            "\tvalid_confusion_matrix:\n",
            "[[131  36  61]\n",
            " [ 88 460  59]\n",
            " [ 80  27 219]]\n"
          ]
        },
        {
          "name": "stderr",
          "output_type": "stream",
          "text": [
            "  0%|          | 0/57 [00:00<?, ?it/s]/var/folders/3c/71b8pg6d7j5dht_5h_2n4n_c0000gn/T/ipykernel_10911/1044936714.py:147: UserWarning: Implicit dimension choice for softmax has been deprecated. Change the call to include dim=X as an argument.\n",
            "  final_out = torch.nn.functional.softmax(out)\n",
            "100%|██████████| 57/57 [00:11<00:00,  5.10it/s]\n",
            "  0%|          | 0/2 [00:00<?, ?it/s]/var/folders/3c/71b8pg6d7j5dht_5h_2n4n_c0000gn/T/ipykernel_10911/1044936714.py:147: UserWarning: Implicit dimension choice for softmax has been deprecated. Change the call to include dim=X as an argument.\n",
            "  final_out = torch.nn.functional.softmax(out)\n",
            "100%|██████████| 2/2 [00:00<00:00,  5.77it/s]\n"
          ]
        },
        {
          "name": "stdout",
          "output_type": "stream",
          "text": [
            "\n",
            "epoch 9\n",
            "\ttrain_loss:0.681 valid_loss:0.716\n",
            "\ttrain_acc:72.59% valid_acc:70.63%\n",
            "\ttrain_f1:0.726 valid_f1:0.712\n",
            "\ttrain_confusion_matrix:\n",
            "[[1587  288  560]\n",
            " [ 314 1895  223]\n",
            " [ 423  192 1814]]\n",
            "\tvalid_confusion_matrix:\n",
            "[[116  43  69]\n",
            " [ 77 469  61]\n",
            " [ 58  33 235]]\n"
          ]
        },
        {
          "name": "stderr",
          "output_type": "stream",
          "text": [
            "  0%|          | 0/57 [00:00<?, ?it/s]/var/folders/3c/71b8pg6d7j5dht_5h_2n4n_c0000gn/T/ipykernel_10911/1044936714.py:147: UserWarning: Implicit dimension choice for softmax has been deprecated. Change the call to include dim=X as an argument.\n",
            "  final_out = torch.nn.functional.softmax(out)\n",
            "100%|██████████| 57/57 [00:10<00:00,  5.26it/s]\n",
            "  0%|          | 0/2 [00:00<?, ?it/s]/var/folders/3c/71b8pg6d7j5dht_5h_2n4n_c0000gn/T/ipykernel_10911/1044936714.py:147: UserWarning: Implicit dimension choice for softmax has been deprecated. Change the call to include dim=X as an argument.\n",
            "  final_out = torch.nn.functional.softmax(out)\n",
            "100%|██████████| 2/2 [00:00<00:00,  6.27it/s]\n"
          ]
        },
        {
          "name": "stdout",
          "output_type": "stream",
          "text": [
            "\n",
            "epoch 10\n",
            "\ttrain_loss:0.666 valid_loss:0.728\n",
            "\ttrain_acc:73.08% valid_acc:69.94%\n",
            "\ttrain_f1:0.731 valid_f1:0.710\n",
            "\ttrain_confusion_matrix:\n",
            "[[1602  272  559]\n",
            " [ 320 1877  234]\n",
            " [ 411  168 1853]]\n",
            "\tvalid_confusion_matrix:\n",
            "[[131  30  67]\n",
            " [ 91 446  70]\n",
            " [ 65  26 235]]\n"
          ]
        },
        {
          "name": "stderr",
          "output_type": "stream",
          "text": [
            "  0%|          | 0/57 [00:00<?, ?it/s]/var/folders/3c/71b8pg6d7j5dht_5h_2n4n_c0000gn/T/ipykernel_10911/1044936714.py:147: UserWarning: Implicit dimension choice for softmax has been deprecated. Change the call to include dim=X as an argument.\n",
            "  final_out = torch.nn.functional.softmax(out)\n",
            "100%|██████████| 57/57 [00:10<00:00,  5.38it/s]\n",
            "  0%|          | 0/2 [00:00<?, ?it/s]/var/folders/3c/71b8pg6d7j5dht_5h_2n4n_c0000gn/T/ipykernel_10911/1044936714.py:147: UserWarning: Implicit dimension choice for softmax has been deprecated. Change the call to include dim=X as an argument.\n",
            "  final_out = torch.nn.functional.softmax(out)\n",
            "100%|██████████| 2/2 [00:00<00:00,  5.49it/s]\n"
          ]
        },
        {
          "name": "stdout",
          "output_type": "stream",
          "text": [
            "\n",
            "epoch 11\n",
            "\ttrain_loss:0.646 valid_loss:0.716\n",
            "\ttrain_acc:74.14% valid_acc:70.37%\n",
            "\ttrain_f1:0.742 valid_f1:0.711\n",
            "\ttrain_confusion_matrix:\n",
            "[[1668  269  494]\n",
            " [ 336 1906  192]\n",
            " [ 419  177 1835]]\n",
            "\tvalid_confusion_matrix:\n",
            "[[117  38  73]\n",
            " [ 81 455  71]\n",
            " [ 56  25 245]]\n"
          ]
        },
        {
          "name": "stderr",
          "output_type": "stream",
          "text": [
            "  0%|          | 0/57 [00:00<?, ?it/s]/var/folders/3c/71b8pg6d7j5dht_5h_2n4n_c0000gn/T/ipykernel_10911/1044936714.py:147: UserWarning: Implicit dimension choice for softmax has been deprecated. Change the call to include dim=X as an argument.\n",
            "  final_out = torch.nn.functional.softmax(out)\n",
            "100%|██████████| 57/57 [00:10<00:00,  5.21it/s]\n",
            "  0%|          | 0/2 [00:00<?, ?it/s]/var/folders/3c/71b8pg6d7j5dht_5h_2n4n_c0000gn/T/ipykernel_10911/1044936714.py:147: UserWarning: Implicit dimension choice for softmax has been deprecated. Change the call to include dim=X as an argument.\n",
            "  final_out = torch.nn.functional.softmax(out)\n",
            "100%|██████████| 2/2 [00:00<00:00,  6.55it/s]\n"
          ]
        },
        {
          "name": "stdout",
          "output_type": "stream",
          "text": [
            "\n",
            "epoch 12\n",
            "\ttrain_loss:0.633 valid_loss:0.726\n",
            "\ttrain_acc:74.95% valid_acc:69.16%\n",
            "\ttrain_f1:0.750 valid_f1:0.703\n",
            "\ttrain_confusion_matrix:\n",
            "[[1689  260  485]\n",
            " [ 324 1888  222]\n",
            " [ 382  155 1891]]\n",
            "\tvalid_confusion_matrix:\n",
            "[[137  39  52]\n",
            " [ 99 457  51]\n",
            " [ 87  30 209]]\n"
          ]
        },
        {
          "name": "stderr",
          "output_type": "stream",
          "text": [
            "  0%|          | 0/57 [00:00<?, ?it/s]/var/folders/3c/71b8pg6d7j5dht_5h_2n4n_c0000gn/T/ipykernel_10911/1044936714.py:147: UserWarning: Implicit dimension choice for softmax has been deprecated. Change the call to include dim=X as an argument.\n",
            "  final_out = torch.nn.functional.softmax(out)\n",
            "100%|██████████| 57/57 [00:10<00:00,  5.36it/s]\n",
            "  0%|          | 0/2 [00:00<?, ?it/s]/var/folders/3c/71b8pg6d7j5dht_5h_2n4n_c0000gn/T/ipykernel_10911/1044936714.py:147: UserWarning: Implicit dimension choice for softmax has been deprecated. Change the call to include dim=X as an argument.\n",
            "  final_out = torch.nn.functional.softmax(out)\n",
            "100%|██████████| 2/2 [00:00<00:00,  5.97it/s]\n"
          ]
        },
        {
          "name": "stdout",
          "output_type": "stream",
          "text": [
            "\n",
            "epoch 13\n",
            "\ttrain_loss:0.612 valid_loss:0.718\n",
            "\ttrain_acc:75.84% valid_acc:70.37%\n",
            "\ttrain_f1:0.759 valid_f1:0.711\n",
            "\ttrain_confusion_matrix:\n",
            "[[1739  249  443]\n",
            " [ 318 1905  210]\n",
            " [ 387  156 1889]]\n",
            "\tvalid_confusion_matrix:\n",
            "[[121  35  72]\n",
            " [ 85 445  77]\n",
            " [ 52  23 251]]\n"
          ]
        },
        {
          "name": "stderr",
          "output_type": "stream",
          "text": [
            "  0%|          | 0/57 [00:00<?, ?it/s]/var/folders/3c/71b8pg6d7j5dht_5h_2n4n_c0000gn/T/ipykernel_10911/1044936714.py:147: UserWarning: Implicit dimension choice for softmax has been deprecated. Change the call to include dim=X as an argument.\n",
            "  final_out = torch.nn.functional.softmax(out)\n",
            "100%|██████████| 57/57 [00:10<00:00,  5.32it/s]\n",
            "  0%|          | 0/2 [00:00<?, ?it/s]/var/folders/3c/71b8pg6d7j5dht_5h_2n4n_c0000gn/T/ipykernel_10911/1044936714.py:147: UserWarning: Implicit dimension choice for softmax has been deprecated. Change the call to include dim=X as an argument.\n",
            "  final_out = torch.nn.functional.softmax(out)\n",
            "100%|██████████| 2/2 [00:00<00:00,  4.79it/s]\n"
          ]
        },
        {
          "name": "stdout",
          "output_type": "stream",
          "text": [
            "\n",
            "epoch 14\n",
            "\ttrain_loss:0.597 valid_loss:0.716\n",
            "\ttrain_acc:76.56% valid_acc:70.11%\n",
            "\ttrain_f1:0.766 valid_f1:0.711\n",
            "\ttrain_confusion_matrix:\n",
            "[[1753  255  425]\n",
            " [ 313 1914  205]\n",
            " [ 360  152 1919]]\n",
            "\tvalid_confusion_matrix:\n",
            "[[137  33  58]\n",
            " [ 94 449  64]\n",
            " [ 69  29 228]]\n"
          ]
        },
        {
          "name": "stderr",
          "output_type": "stream",
          "text": [
            "  0%|          | 0/57 [00:00<?, ?it/s]/var/folders/3c/71b8pg6d7j5dht_5h_2n4n_c0000gn/T/ipykernel_10911/1044936714.py:147: UserWarning: Implicit dimension choice for softmax has been deprecated. Change the call to include dim=X as an argument.\n",
            "  final_out = torch.nn.functional.softmax(out)\n",
            "100%|██████████| 57/57 [00:10<00:00,  5.30it/s]\n",
            "  0%|          | 0/2 [00:00<?, ?it/s]/var/folders/3c/71b8pg6d7j5dht_5h_2n4n_c0000gn/T/ipykernel_10911/1044936714.py:147: UserWarning: Implicit dimension choice for softmax has been deprecated. Change the call to include dim=X as an argument.\n",
            "  final_out = torch.nn.functional.softmax(out)\n",
            "100%|██████████| 2/2 [00:00<00:00,  6.05it/s]\n"
          ]
        },
        {
          "name": "stdout",
          "output_type": "stream",
          "text": [
            "\n",
            "epoch 15\n",
            "\ttrain_loss:0.581 valid_loss:0.727\n",
            "\ttrain_acc:77.51% valid_acc:70.20%\n",
            "\ttrain_f1:0.775 valid_f1:0.712\n",
            "\ttrain_confusion_matrix:\n",
            "[[1807  237  388]\n",
            " [ 312 1914  206]\n",
            " [ 355  143 1934]]\n",
            "\tvalid_confusion_matrix:\n",
            "[[135  37  56]\n",
            " [ 85 457  65]\n",
            " [ 75  28 223]]\n"
          ]
        },
        {
          "name": "stderr",
          "output_type": "stream",
          "text": [
            "  0%|          | 0/57 [00:00<?, ?it/s]/var/folders/3c/71b8pg6d7j5dht_5h_2n4n_c0000gn/T/ipykernel_10911/1044936714.py:147: UserWarning: Implicit dimension choice for softmax has been deprecated. Change the call to include dim=X as an argument.\n",
            "  final_out = torch.nn.functional.softmax(out)\n",
            "100%|██████████| 57/57 [00:10<00:00,  5.40it/s]\n",
            "  0%|          | 0/2 [00:00<?, ?it/s]/var/folders/3c/71b8pg6d7j5dht_5h_2n4n_c0000gn/T/ipykernel_10911/1044936714.py:147: UserWarning: Implicit dimension choice for softmax has been deprecated. Change the call to include dim=X as an argument.\n",
            "  final_out = torch.nn.functional.softmax(out)\n",
            "100%|██████████| 2/2 [00:00<00:00,  6.33it/s]\n"
          ]
        },
        {
          "name": "stdout",
          "output_type": "stream",
          "text": [
            "\n",
            "epoch 16\n",
            "\ttrain_loss:0.561 valid_loss:0.716\n",
            "\ttrain_acc:78.45% valid_acc:70.71%\n",
            "\ttrain_f1:0.785 valid_f1:0.712\n",
            "\ttrain_confusion_matrix:\n",
            "[[1861  217  353]\n",
            " [ 308 1910  213]\n",
            " [ 344  137 1953]]\n",
            "\tvalid_confusion_matrix:\n",
            "[[118  39  71]\n",
            " [ 72 454  81]\n",
            " [ 48  29 249]]\n"
          ]
        },
        {
          "name": "stderr",
          "output_type": "stream",
          "text": [
            "  0%|          | 0/57 [00:00<?, ?it/s]/var/folders/3c/71b8pg6d7j5dht_5h_2n4n_c0000gn/T/ipykernel_10911/1044936714.py:147: UserWarning: Implicit dimension choice for softmax has been deprecated. Change the call to include dim=X as an argument.\n",
            "  final_out = torch.nn.functional.softmax(out)\n",
            "100%|██████████| 57/57 [00:10<00:00,  5.50it/s]\n",
            "  0%|          | 0/2 [00:00<?, ?it/s]/var/folders/3c/71b8pg6d7j5dht_5h_2n4n_c0000gn/T/ipykernel_10911/1044936714.py:147: UserWarning: Implicit dimension choice for softmax has been deprecated. Change the call to include dim=X as an argument.\n",
            "  final_out = torch.nn.functional.softmax(out)\n",
            "100%|██████████| 2/2 [00:00<00:00,  6.11it/s]\n"
          ]
        },
        {
          "name": "stdout",
          "output_type": "stream",
          "text": [
            "\n",
            "epoch 17\n",
            "\ttrain_loss:0.544 valid_loss:0.737\n",
            "\ttrain_acc:78.97% valid_acc:70.28%\n",
            "\ttrain_f1:0.790 valid_f1:0.712\n",
            "\ttrain_confusion_matrix:\n",
            "[[1848  227  358]\n",
            " [ 293 1940  202]\n",
            " [ 306  148 1974]]\n",
            "\tvalid_confusion_matrix:\n",
            "[[134  31  63]\n",
            " [ 91 442  74]\n",
            " [ 58  28 240]]\n"
          ]
        },
        {
          "name": "stderr",
          "output_type": "stream",
          "text": [
            "  0%|          | 0/57 [00:00<?, ?it/s]/var/folders/3c/71b8pg6d7j5dht_5h_2n4n_c0000gn/T/ipykernel_10911/1044936714.py:147: UserWarning: Implicit dimension choice for softmax has been deprecated. Change the call to include dim=X as an argument.\n",
            "  final_out = torch.nn.functional.softmax(out)\n",
            "100%|██████████| 57/57 [00:10<00:00,  5.49it/s]\n",
            "  0%|          | 0/2 [00:00<?, ?it/s]/var/folders/3c/71b8pg6d7j5dht_5h_2n4n_c0000gn/T/ipykernel_10911/1044936714.py:147: UserWarning: Implicit dimension choice for softmax has been deprecated. Change the call to include dim=X as an argument.\n",
            "  final_out = torch.nn.functional.softmax(out)\n",
            "100%|██████████| 2/2 [00:00<00:00,  6.40it/s]\n"
          ]
        },
        {
          "name": "stdout",
          "output_type": "stream",
          "text": [
            "\n",
            "epoch 18\n",
            "\ttrain_loss:0.608 valid_loss:0.718\n",
            "\ttrain_acc:75.74% valid_acc:68.48%\n",
            "\ttrain_f1:0.758 valid_f1:0.695\n",
            "\ttrain_confusion_matrix:\n",
            "[[1857  236  340]\n",
            " [ 467 1749  215]\n",
            " [ 377  135 1920]]\n",
            "\tvalid_confusion_matrix:\n",
            "[[134  36  58]\n",
            " [ 99 447  61]\n",
            " [ 73  39 214]]\n"
          ]
        },
        {
          "name": "stderr",
          "output_type": "stream",
          "text": [
            "  0%|          | 0/57 [00:00<?, ?it/s]/var/folders/3c/71b8pg6d7j5dht_5h_2n4n_c0000gn/T/ipykernel_10911/1044936714.py:147: UserWarning: Implicit dimension choice for softmax has been deprecated. Change the call to include dim=X as an argument.\n",
            "  final_out = torch.nn.functional.softmax(out)\n",
            "100%|██████████| 57/57 [00:10<00:00,  5.28it/s]\n",
            "  0%|          | 0/2 [00:00<?, ?it/s]/var/folders/3c/71b8pg6d7j5dht_5h_2n4n_c0000gn/T/ipykernel_10911/1044936714.py:147: UserWarning: Implicit dimension choice for softmax has been deprecated. Change the call to include dim=X as an argument.\n",
            "  final_out = torch.nn.functional.softmax(out)\n",
            "100%|██████████| 2/2 [00:00<00:00,  6.29it/s]\n"
          ]
        },
        {
          "name": "stdout",
          "output_type": "stream",
          "text": [
            "\n",
            "epoch 19\n",
            "\ttrain_loss:0.563 valid_loss:0.712\n",
            "\ttrain_acc:77.36% valid_acc:70.46%\n",
            "\ttrain_f1:0.774 valid_f1:0.714\n",
            "\ttrain_confusion_matrix:\n",
            "[[1823  267  344]\n",
            " [ 363 1873  195]\n",
            " [ 319  164 1948]]\n",
            "\tvalid_confusion_matrix:\n",
            "[[143  36  49]\n",
            " [ 85 457  65]\n",
            " [ 76  32 218]]\n",
            "Loading saved model from: model_task2.bin\n"
          ]
        },
        {
          "name": "stderr",
          "output_type": "stream",
          "text": [
            "  0%|          | 0/2 [00:00<?, ?it/s]/var/folders/3c/71b8pg6d7j5dht_5h_2n4n_c0000gn/T/ipykernel_10911/1044936714.py:147: UserWarning: Implicit dimension choice for softmax has been deprecated. Change the call to include dim=X as an argument.\n",
            "  final_out = torch.nn.functional.softmax(out)\n",
            "100%|██████████| 2/2 [00:00<00:00,  7.13it/s]\n"
          ]
        },
        {
          "name": "stdout",
          "output_type": "stream",
          "text": [
            "              precision    recall  f1-score   support\n",
            "\n",
            "     Neutral       0.46      0.51      0.48       228\n",
            "    Positive       0.86      0.76      0.81       607\n",
            "    Negative       0.64      0.72      0.68       326\n",
            "\n",
            "    accuracy                           0.70      1161\n",
            "   macro avg       0.65      0.67      0.66      1161\n",
            "weighted avg       0.72      0.70      0.71      1161\n",
            "\n",
            "\n",
            "******************************************************************************************\n",
            "Alpha Size: 0.2\n",
            "Window Size: 8\n",
            "******************************************************************************************\n",
            "\n",
            "train samples:7311\n",
            "valid samples:1161\n"
          ]
        },
        {
          "name": "stderr",
          "output_type": "stream",
          "text": [
            "  0%|          | 0/57 [00:00<?, ?it/s]/var/folders/3c/71b8pg6d7j5dht_5h_2n4n_c0000gn/T/ipykernel_10911/1044936714.py:147: UserWarning: Implicit dimension choice for softmax has been deprecated. Change the call to include dim=X as an argument.\n",
            "  final_out = torch.nn.functional.softmax(out)\n",
            "100%|██████████| 57/57 [00:12<00:00,  4.45it/s]\n",
            "  0%|          | 0/2 [00:00<?, ?it/s]/var/folders/3c/71b8pg6d7j5dht_5h_2n4n_c0000gn/T/ipykernel_10911/1044936714.py:147: UserWarning: Implicit dimension choice for softmax has been deprecated. Change the call to include dim=X as an argument.\n",
            "  final_out = torch.nn.functional.softmax(out)\n",
            "100%|██████████| 2/2 [00:00<00:00,  5.01it/s]\n"
          ]
        },
        {
          "name": "stdout",
          "output_type": "stream",
          "text": [
            "\n",
            "epoch 0\n",
            "\ttrain_loss:1.087 valid_loss:1.074\n",
            "\ttrain_acc:44.30% valid_acc:53.23%\n",
            "\ttrain_f1:0.435 valid_f1:0.548\n",
            "\ttrain_confusion_matrix:\n",
            "[[1411  258  762]\n",
            " [1207  653  573]\n",
            " [1087  177 1168]]\n",
            "\tvalid_confusion_matrix:\n",
            "[[107  35  86]\n",
            " [150 316 141]\n",
            " [ 78  53 195]]\n"
          ]
        },
        {
          "name": "stderr",
          "output_type": "stream",
          "text": [
            "  0%|          | 0/57 [00:00<?, ?it/s]/var/folders/3c/71b8pg6d7j5dht_5h_2n4n_c0000gn/T/ipykernel_10911/1044936714.py:147: UserWarning: Implicit dimension choice for softmax has been deprecated. Change the call to include dim=X as an argument.\n",
            "  final_out = torch.nn.functional.softmax(out)\n",
            "100%|██████████| 57/57 [00:12<00:00,  4.71it/s]\n",
            "  0%|          | 0/2 [00:00<?, ?it/s]/var/folders/3c/71b8pg6d7j5dht_5h_2n4n_c0000gn/T/ipykernel_10911/1044936714.py:147: UserWarning: Implicit dimension choice for softmax has been deprecated. Change the call to include dim=X as an argument.\n",
            "  final_out = torch.nn.functional.softmax(out)\n",
            "100%|██████████| 2/2 [00:00<00:00,  5.56it/s]\n"
          ]
        },
        {
          "name": "stdout",
          "output_type": "stream",
          "text": [
            "\n",
            "epoch 1\n",
            "\ttrain_loss:1.044 valid_loss:0.975\n",
            "\ttrain_acc:55.25% valid_acc:60.90%\n",
            "\ttrain_f1:0.548 valid_f1:0.602\n",
            "\ttrain_confusion_matrix:\n",
            "[[ 989  502  940]\n",
            " [ 524 1380  529]\n",
            " [ 441  329 1662]]\n",
            "\tvalid_confusion_matrix:\n",
            "[[ 55  61 112]\n",
            " [ 51 432 124]\n",
            " [ 31  75 220]]\n"
          ]
        },
        {
          "name": "stderr",
          "output_type": "stream",
          "text": [
            "  0%|          | 0/57 [00:00<?, ?it/s]/var/folders/3c/71b8pg6d7j5dht_5h_2n4n_c0000gn/T/ipykernel_10911/1044936714.py:147: UserWarning: Implicit dimension choice for softmax has been deprecated. Change the call to include dim=X as an argument.\n",
            "  final_out = torch.nn.functional.softmax(out)\n",
            "100%|██████████| 57/57 [00:12<00:00,  4.73it/s]\n",
            "  0%|          | 0/2 [00:00<?, ?it/s]/var/folders/3c/71b8pg6d7j5dht_5h_2n4n_c0000gn/T/ipykernel_10911/1044936714.py:147: UserWarning: Implicit dimension choice for softmax has been deprecated. Change the call to include dim=X as an argument.\n",
            "  final_out = torch.nn.functional.softmax(out)\n",
            "100%|██████████| 2/2 [00:00<00:00,  5.41it/s]\n"
          ]
        },
        {
          "name": "stdout",
          "output_type": "stream",
          "text": [
            "\n",
            "epoch 2\n",
            "\ttrain_loss:0.924 valid_loss:0.850\n",
            "\ttrain_acc:57.83% valid_acc:67.10%\n",
            "\ttrain_f1:0.558 valid_f1:0.668\n",
            "\ttrain_confusion_matrix:\n",
            "[[ 724  762  944]\n",
            " [ 228 1841  366]\n",
            " [ 281  496 1654]]\n",
            "\tvalid_confusion_matrix:\n",
            "[[ 80  50  98]\n",
            " [ 52 471  84]\n",
            " [ 41  57 228]]\n"
          ]
        },
        {
          "name": "stderr",
          "output_type": "stream",
          "text": [
            "  0%|          | 0/57 [00:00<?, ?it/s]/var/folders/3c/71b8pg6d7j5dht_5h_2n4n_c0000gn/T/ipykernel_10911/1044936714.py:147: UserWarning: Implicit dimension choice for softmax has been deprecated. Change the call to include dim=X as an argument.\n",
            "  final_out = torch.nn.functional.softmax(out)\n",
            "100%|██████████| 57/57 [00:11<00:00,  4.83it/s]\n",
            "  0%|          | 0/2 [00:00<?, ?it/s]/var/folders/3c/71b8pg6d7j5dht_5h_2n4n_c0000gn/T/ipykernel_10911/1044936714.py:147: UserWarning: Implicit dimension choice for softmax has been deprecated. Change the call to include dim=X as an argument.\n",
            "  final_out = torch.nn.functional.softmax(out)\n",
            "100%|██████████| 2/2 [00:00<00:00,  5.48it/s]\n"
          ]
        },
        {
          "name": "stdout",
          "output_type": "stream",
          "text": [
            "\n",
            "epoch 3\n",
            "\ttrain_loss:0.838 valid_loss:0.799\n",
            "\ttrain_acc:63.49% valid_acc:67.10%\n",
            "\ttrain_f1:0.629 valid_f1:0.678\n",
            "\ttrain_confusion_matrix:\n",
            "[[1106  562  760]\n",
            " [ 347 1813  275]\n",
            " [ 450  270 1713]]\n",
            "\tvalid_confusion_matrix:\n",
            "[[110  46  72]\n",
            " [ 85 448  74]\n",
            " [ 65  40 221]]\n"
          ]
        },
        {
          "name": "stderr",
          "output_type": "stream",
          "text": [
            "  0%|          | 0/57 [00:00<?, ?it/s]/var/folders/3c/71b8pg6d7j5dht_5h_2n4n_c0000gn/T/ipykernel_10911/1044936714.py:147: UserWarning: Implicit dimension choice for softmax has been deprecated. Change the call to include dim=X as an argument.\n",
            "  final_out = torch.nn.functional.softmax(out)\n",
            "100%|██████████| 57/57 [00:11<00:00,  4.83it/s]\n",
            "  0%|          | 0/2 [00:00<?, ?it/s]/var/folders/3c/71b8pg6d7j5dht_5h_2n4n_c0000gn/T/ipykernel_10911/1044936714.py:147: UserWarning: Implicit dimension choice for softmax has been deprecated. Change the call to include dim=X as an argument.\n",
            "  final_out = torch.nn.functional.softmax(out)\n",
            "100%|██████████| 2/2 [00:00<00:00,  5.40it/s]\n"
          ]
        },
        {
          "name": "stdout",
          "output_type": "stream",
          "text": [
            "\n",
            "epoch 4\n",
            "\ttrain_loss:0.786 valid_loss:0.786\n",
            "\ttrain_acc:66.79% valid_acc:67.53%\n",
            "\ttrain_f1:0.666 valid_f1:0.687\n",
            "\ttrain_confusion_matrix:\n",
            "[[1352  455  623]\n",
            " [ 408 1813  210]\n",
            " [ 507  220 1708]]\n",
            "\tvalid_confusion_matrix:\n",
            "[[120  30  78]\n",
            " [ 99 428  80]\n",
            " [ 65  25 236]]\n"
          ]
        },
        {
          "name": "stderr",
          "output_type": "stream",
          "text": [
            "  0%|          | 0/57 [00:00<?, ?it/s]/var/folders/3c/71b8pg6d7j5dht_5h_2n4n_c0000gn/T/ipykernel_10911/1044936714.py:147: UserWarning: Implicit dimension choice for softmax has been deprecated. Change the call to include dim=X as an argument.\n",
            "  final_out = torch.nn.functional.softmax(out)\n",
            "100%|██████████| 57/57 [00:11<00:00,  4.91it/s]\n",
            "  0%|          | 0/2 [00:00<?, ?it/s]/var/folders/3c/71b8pg6d7j5dht_5h_2n4n_c0000gn/T/ipykernel_10911/1044936714.py:147: UserWarning: Implicit dimension choice for softmax has been deprecated. Change the call to include dim=X as an argument.\n",
            "  final_out = torch.nn.functional.softmax(out)\n",
            "100%|██████████| 2/2 [00:00<00:00,  5.92it/s]\n"
          ]
        },
        {
          "name": "stdout",
          "output_type": "stream",
          "text": [
            "\n",
            "epoch 5\n",
            "\ttrain_loss:0.753 valid_loss:0.771\n",
            "\ttrain_acc:67.91% valid_acc:66.84%\n",
            "\ttrain_f1:0.678 valid_f1:0.681\n",
            "\ttrain_confusion_matrix:\n",
            "[[1389  421  623]\n",
            " [ 388 1825  217]\n",
            " [ 487  205 1741]]\n",
            "\tvalid_confusion_matrix:\n",
            "[[143  40  45]\n",
            " [104 447  56]\n",
            " [103  37 186]]\n"
          ]
        },
        {
          "name": "stderr",
          "output_type": "stream",
          "text": [
            "  0%|          | 0/57 [00:00<?, ?it/s]/var/folders/3c/71b8pg6d7j5dht_5h_2n4n_c0000gn/T/ipykernel_10911/1044936714.py:147: UserWarning: Implicit dimension choice for softmax has been deprecated. Change the call to include dim=X as an argument.\n",
            "  final_out = torch.nn.functional.softmax(out)\n",
            "100%|██████████| 57/57 [00:11<00:00,  4.88it/s]\n",
            "  0%|          | 0/2 [00:00<?, ?it/s]/var/folders/3c/71b8pg6d7j5dht_5h_2n4n_c0000gn/T/ipykernel_10911/1044936714.py:147: UserWarning: Implicit dimension choice for softmax has been deprecated. Change the call to include dim=X as an argument.\n",
            "  final_out = torch.nn.functional.softmax(out)\n",
            "100%|██████████| 2/2 [00:00<00:00,  5.43it/s]\n"
          ]
        },
        {
          "name": "stdout",
          "output_type": "stream",
          "text": [
            "\n",
            "epoch 6\n",
            "\ttrain_loss:0.734 valid_loss:0.755\n",
            "\ttrain_acc:69.16% valid_acc:69.51%\n",
            "\ttrain_f1:0.691 valid_f1:0.702\n",
            "\ttrain_confusion_matrix:\n",
            "[[1489  393  550]\n",
            " [ 390 1839  204]\n",
            " [ 509  204 1718]]\n",
            "\tvalid_confusion_matrix:\n",
            "[[114  38  76]\n",
            " [ 85 445  77]\n",
            " [ 50  28 248]]\n"
          ]
        },
        {
          "name": "stderr",
          "output_type": "stream",
          "text": [
            "  0%|          | 0/57 [00:00<?, ?it/s]/var/folders/3c/71b8pg6d7j5dht_5h_2n4n_c0000gn/T/ipykernel_10911/1044936714.py:147: UserWarning: Implicit dimension choice for softmax has been deprecated. Change the call to include dim=X as an argument.\n",
            "  final_out = torch.nn.functional.softmax(out)\n",
            "100%|██████████| 57/57 [00:11<00:00,  4.91it/s]\n",
            "  0%|          | 0/2 [00:00<?, ?it/s]/var/folders/3c/71b8pg6d7j5dht_5h_2n4n_c0000gn/T/ipykernel_10911/1044936714.py:147: UserWarning: Implicit dimension choice for softmax has been deprecated. Change the call to include dim=X as an argument.\n",
            "  final_out = torch.nn.functional.softmax(out)\n",
            "100%|██████████| 2/2 [00:00<00:00,  5.96it/s]\n"
          ]
        },
        {
          "name": "stdout",
          "output_type": "stream",
          "text": [
            "\n",
            "epoch 7\n",
            "\ttrain_loss:0.710 valid_loss:0.766\n",
            "\ttrain_acc:70.48% valid_acc:68.73%\n",
            "\ttrain_f1:0.704 valid_f1:0.698\n",
            "\ttrain_confusion_matrix:\n",
            "[[1519  377  538]\n",
            " [ 388 1828  212]\n",
            " [ 441  198 1795]]\n",
            "\tvalid_confusion_matrix:\n",
            "[[128  29  71]\n",
            " [107 425  75]\n",
            " [ 56  25 245]]\n"
          ]
        },
        {
          "name": "stderr",
          "output_type": "stream",
          "text": [
            "  0%|          | 0/57 [00:00<?, ?it/s]/var/folders/3c/71b8pg6d7j5dht_5h_2n4n_c0000gn/T/ipykernel_10911/1044936714.py:147: UserWarning: Implicit dimension choice for softmax has been deprecated. Change the call to include dim=X as an argument.\n",
            "  final_out = torch.nn.functional.softmax(out)\n",
            "100%|██████████| 57/57 [00:11<00:00,  4.80it/s]\n",
            "  0%|          | 0/2 [00:00<?, ?it/s]/var/folders/3c/71b8pg6d7j5dht_5h_2n4n_c0000gn/T/ipykernel_10911/1044936714.py:147: UserWarning: Implicit dimension choice for softmax has been deprecated. Change the call to include dim=X as an argument.\n",
            "  final_out = torch.nn.functional.softmax(out)\n",
            "100%|██████████| 2/2 [00:00<00:00,  5.42it/s]\n"
          ]
        },
        {
          "name": "stdout",
          "output_type": "stream",
          "text": [
            "\n",
            "epoch 8\n",
            "\ttrain_loss:0.691 valid_loss:0.723\n",
            "\ttrain_acc:71.71% valid_acc:69.77%\n",
            "\ttrain_f1:0.717 valid_f1:0.705\n",
            "\ttrain_confusion_matrix:\n",
            "[[1591  332  509]\n",
            " [ 396 1835  201]\n",
            " [ 446  180 1806]]\n",
            "\tvalid_confusion_matrix:\n",
            "[[123  46  59]\n",
            " [ 85 458  64]\n",
            " [ 63  34 229]]\n"
          ]
        },
        {
          "name": "stderr",
          "output_type": "stream",
          "text": [
            "  0%|          | 0/57 [00:00<?, ?it/s]/var/folders/3c/71b8pg6d7j5dht_5h_2n4n_c0000gn/T/ipykernel_10911/1044936714.py:147: UserWarning: Implicit dimension choice for softmax has been deprecated. Change the call to include dim=X as an argument.\n",
            "  final_out = torch.nn.functional.softmax(out)\n",
            "100%|██████████| 57/57 [00:11<00:00,  4.83it/s]\n",
            "  0%|          | 0/2 [00:00<?, ?it/s]/var/folders/3c/71b8pg6d7j5dht_5h_2n4n_c0000gn/T/ipykernel_10911/1044936714.py:147: UserWarning: Implicit dimension choice for softmax has been deprecated. Change the call to include dim=X as an argument.\n",
            "  final_out = torch.nn.functional.softmax(out)\n",
            "100%|██████████| 2/2 [00:00<00:00,  5.86it/s]\n"
          ]
        },
        {
          "name": "stdout",
          "output_type": "stream",
          "text": [
            "\n",
            "epoch 9\n",
            "\ttrain_loss:0.675 valid_loss:0.759\n",
            "\ttrain_acc:72.31% valid_acc:68.82%\n",
            "\ttrain_f1:0.723 valid_f1:0.699\n",
            "\ttrain_confusion_matrix:\n",
            "[[1612  326  493]\n",
            " [ 377 1835  218]\n",
            " [ 439  167 1829]]\n",
            "\tvalid_confusion_matrix:\n",
            "[[129  34  65]\n",
            " [ 98 436  73]\n",
            " [ 67  25 234]]\n"
          ]
        },
        {
          "name": "stderr",
          "output_type": "stream",
          "text": [
            "  0%|          | 0/57 [00:00<?, ?it/s]/var/folders/3c/71b8pg6d7j5dht_5h_2n4n_c0000gn/T/ipykernel_10911/1044936714.py:147: UserWarning: Implicit dimension choice for softmax has been deprecated. Change the call to include dim=X as an argument.\n",
            "  final_out = torch.nn.functional.softmax(out)\n",
            "100%|██████████| 57/57 [00:11<00:00,  4.85it/s]\n",
            "  0%|          | 0/2 [00:00<?, ?it/s]/var/folders/3c/71b8pg6d7j5dht_5h_2n4n_c0000gn/T/ipykernel_10911/1044936714.py:147: UserWarning: Implicit dimension choice for softmax has been deprecated. Change the call to include dim=X as an argument.\n",
            "  final_out = torch.nn.functional.softmax(out)\n",
            "100%|██████████| 2/2 [00:00<00:00,  5.49it/s]\n"
          ]
        },
        {
          "name": "stdout",
          "output_type": "stream",
          "text": [
            "\n",
            "epoch 10\n",
            "\ttrain_loss:0.655 valid_loss:0.742\n",
            "\ttrain_acc:73.81% valid_acc:69.51%\n",
            "\ttrain_f1:0.738 valid_f1:0.700\n",
            "\ttrain_confusion_matrix:\n",
            "[[1648  328  455]\n",
            " [ 355 1885  193]\n",
            " [ 420  160 1852]]\n",
            "\tvalid_confusion_matrix:\n",
            "[[116  49  63]\n",
            " [ 74 466  67]\n",
            " [ 61  40 225]]\n"
          ]
        },
        {
          "name": "stderr",
          "output_type": "stream",
          "text": [
            "  0%|          | 0/57 [00:00<?, ?it/s]/var/folders/3c/71b8pg6d7j5dht_5h_2n4n_c0000gn/T/ipykernel_10911/1044936714.py:147: UserWarning: Implicit dimension choice for softmax has been deprecated. Change the call to include dim=X as an argument.\n",
            "  final_out = torch.nn.functional.softmax(out)\n",
            "100%|██████████| 57/57 [00:11<00:00,  4.88it/s]\n",
            "  0%|          | 0/2 [00:00<?, ?it/s]/var/folders/3c/71b8pg6d7j5dht_5h_2n4n_c0000gn/T/ipykernel_10911/1044936714.py:147: UserWarning: Implicit dimension choice for softmax has been deprecated. Change the call to include dim=X as an argument.\n",
            "  final_out = torch.nn.functional.softmax(out)\n",
            "100%|██████████| 2/2 [00:00<00:00,  5.69it/s]\n"
          ]
        },
        {
          "name": "stdout",
          "output_type": "stream",
          "text": [
            "\n",
            "epoch 11\n",
            "\ttrain_loss:0.636 valid_loss:0.770\n",
            "\ttrain_acc:74.49% valid_acc:67.70%\n",
            "\ttrain_f1:0.745 valid_f1:0.689\n",
            "\ttrain_confusion_matrix:\n",
            "[[1678  316  439]\n",
            " [ 361 1887  187]\n",
            " [ 398  160 1870]]\n",
            "\tvalid_confusion_matrix:\n",
            "[[126  33  69]\n",
            " [105 426  76]\n",
            " [ 66  26 234]]\n"
          ]
        },
        {
          "name": "stderr",
          "output_type": "stream",
          "text": [
            "  0%|          | 0/57 [00:00<?, ?it/s]/var/folders/3c/71b8pg6d7j5dht_5h_2n4n_c0000gn/T/ipykernel_10911/1044936714.py:147: UserWarning: Implicit dimension choice for softmax has been deprecated. Change the call to include dim=X as an argument.\n",
            "  final_out = torch.nn.functional.softmax(out)\n",
            "100%|██████████| 57/57 [00:11<00:00,  4.98it/s]\n",
            "  0%|          | 0/2 [00:00<?, ?it/s]/var/folders/3c/71b8pg6d7j5dht_5h_2n4n_c0000gn/T/ipykernel_10911/1044936714.py:147: UserWarning: Implicit dimension choice for softmax has been deprecated. Change the call to include dim=X as an argument.\n",
            "  final_out = torch.nn.functional.softmax(out)\n",
            "100%|██████████| 2/2 [00:00<00:00,  5.49it/s]\n"
          ]
        },
        {
          "name": "stdout",
          "output_type": "stream",
          "text": [
            "\n",
            "epoch 12\n",
            "\ttrain_loss:0.616 valid_loss:0.738\n",
            "\ttrain_acc:75.92% valid_acc:69.51%\n",
            "\ttrain_f1:0.759 valid_f1:0.702\n",
            "\ttrain_confusion_matrix:\n",
            "[[1738  279  413]\n",
            " [ 351 1887  194]\n",
            " [ 370  150 1914]]\n",
            "\tvalid_confusion_matrix:\n",
            "[[122  45  61]\n",
            " [ 80 461  66]\n",
            " [ 67  35 224]]\n"
          ]
        },
        {
          "name": "stderr",
          "output_type": "stream",
          "text": [
            "  0%|          | 0/57 [00:00<?, ?it/s]/var/folders/3c/71b8pg6d7j5dht_5h_2n4n_c0000gn/T/ipykernel_10911/1044936714.py:147: UserWarning: Implicit dimension choice for softmax has been deprecated. Change the call to include dim=X as an argument.\n",
            "  final_out = torch.nn.functional.softmax(out)\n",
            "100%|██████████| 57/57 [00:11<00:00,  5.05it/s]\n",
            "  0%|          | 0/2 [00:00<?, ?it/s]/var/folders/3c/71b8pg6d7j5dht_5h_2n4n_c0000gn/T/ipykernel_10911/1044936714.py:147: UserWarning: Implicit dimension choice for softmax has been deprecated. Change the call to include dim=X as an argument.\n",
            "  final_out = torch.nn.functional.softmax(out)\n",
            "100%|██████████| 2/2 [00:00<00:00,  6.18it/s]\n"
          ]
        },
        {
          "name": "stdout",
          "output_type": "stream",
          "text": [
            "\n",
            "epoch 13\n",
            "\ttrain_loss:0.599 valid_loss:0.759\n",
            "\ttrain_acc:76.55% valid_acc:68.73%\n",
            "\ttrain_f1:0.766 valid_f1:0.699\n",
            "\ttrain_confusion_matrix:\n",
            "[[1743  286  401]\n",
            " [ 330 1919  182]\n",
            " [ 348  164 1923]]\n",
            "\tvalid_confusion_matrix:\n",
            "[[144  34  50]\n",
            " [106 437  64]\n",
            " [ 79  30 217]]\n"
          ]
        },
        {
          "name": "stderr",
          "output_type": "stream",
          "text": [
            "  0%|          | 0/57 [00:00<?, ?it/s]/var/folders/3c/71b8pg6d7j5dht_5h_2n4n_c0000gn/T/ipykernel_10911/1044936714.py:147: UserWarning: Implicit dimension choice for softmax has been deprecated. Change the call to include dim=X as an argument.\n",
            "  final_out = torch.nn.functional.softmax(out)\n",
            "100%|██████████| 57/57 [00:11<00:00,  5.01it/s]\n",
            "  0%|          | 0/2 [00:00<?, ?it/s]/var/folders/3c/71b8pg6d7j5dht_5h_2n4n_c0000gn/T/ipykernel_10911/1044936714.py:147: UserWarning: Implicit dimension choice for softmax has been deprecated. Change the call to include dim=X as an argument.\n",
            "  final_out = torch.nn.functional.softmax(out)\n",
            "100%|██████████| 2/2 [00:00<00:00,  6.21it/s]\n"
          ]
        },
        {
          "name": "stdout",
          "output_type": "stream",
          "text": [
            "\n",
            "epoch 14\n",
            "\ttrain_loss:0.582 valid_loss:0.766\n",
            "\ttrain_acc:77.17% valid_acc:68.73%\n",
            "\ttrain_f1:0.772 valid_f1:0.696\n",
            "\ttrain_confusion_matrix:\n",
            "[[1799  267  365]\n",
            " [ 343 1905  183]\n",
            " [ 357  151 1926]]\n",
            "\tvalid_confusion_matrix:\n",
            "[[135  45  48]\n",
            " [ 88 461  58]\n",
            " [ 86  38 202]]\n"
          ]
        },
        {
          "name": "stderr",
          "output_type": "stream",
          "text": [
            "  0%|          | 0/57 [00:00<?, ?it/s]/var/folders/3c/71b8pg6d7j5dht_5h_2n4n_c0000gn/T/ipykernel_10911/1044936714.py:147: UserWarning: Implicit dimension choice for softmax has been deprecated. Change the call to include dim=X as an argument.\n",
            "  final_out = torch.nn.functional.softmax(out)\n",
            "100%|██████████| 57/57 [00:11<00:00,  4.92it/s]\n",
            "  0%|          | 0/2 [00:00<?, ?it/s]/var/folders/3c/71b8pg6d7j5dht_5h_2n4n_c0000gn/T/ipykernel_10911/1044936714.py:147: UserWarning: Implicit dimension choice for softmax has been deprecated. Change the call to include dim=X as an argument.\n",
            "  final_out = torch.nn.functional.softmax(out)\n",
            "100%|██████████| 2/2 [00:00<00:00,  6.32it/s]\n"
          ]
        },
        {
          "name": "stdout",
          "output_type": "stream",
          "text": [
            "\n",
            "epoch 15\n",
            "\ttrain_loss:0.691 valid_loss:0.785\n",
            "\ttrain_acc:72.00% valid_acc:66.41%\n",
            "\ttrain_f1:0.720 valid_f1:0.673\n",
            "\ttrain_confusion_matrix:\n",
            "[[1769  354  310]\n",
            " [ 339 1869  221]\n",
            " [ 490  329 1615]]\n",
            "\tvalid_confusion_matrix:\n",
            "[[121  36  71]\n",
            " [ 86 418 103]\n",
            " [ 59  35 232]]\n"
          ]
        },
        {
          "name": "stderr",
          "output_type": "stream",
          "text": [
            "  0%|          | 0/57 [00:00<?, ?it/s]/var/folders/3c/71b8pg6d7j5dht_5h_2n4n_c0000gn/T/ipykernel_10911/1044936714.py:147: UserWarning: Implicit dimension choice for softmax has been deprecated. Change the call to include dim=X as an argument.\n",
            "  final_out = torch.nn.functional.softmax(out)\n",
            "100%|██████████| 57/57 [00:11<00:00,  5.08it/s]\n",
            "  0%|          | 0/2 [00:00<?, ?it/s]/var/folders/3c/71b8pg6d7j5dht_5h_2n4n_c0000gn/T/ipykernel_10911/1044936714.py:147: UserWarning: Implicit dimension choice for softmax has been deprecated. Change the call to include dim=X as an argument.\n",
            "  final_out = torch.nn.functional.softmax(out)\n",
            "100%|██████████| 2/2 [00:00<00:00,  6.03it/s]\n"
          ]
        },
        {
          "name": "stdout",
          "output_type": "stream",
          "text": [
            "\n",
            "epoch 16\n",
            "\ttrain_loss:0.634 valid_loss:0.785\n",
            "\ttrain_acc:75.38% valid_acc:66.58%\n",
            "\ttrain_f1:0.754 valid_f1:0.678\n",
            "\ttrain_confusion_matrix:\n",
            "[[1755  292  384]\n",
            " [ 323 1860  249]\n",
            " [ 347  201 1885]]\n",
            "\tvalid_confusion_matrix:\n",
            "[[129  37  62]\n",
            " [106 416  85]\n",
            " [ 71  27 228]]\n"
          ]
        },
        {
          "name": "stderr",
          "output_type": "stream",
          "text": [
            "  0%|          | 0/57 [00:00<?, ?it/s]/var/folders/3c/71b8pg6d7j5dht_5h_2n4n_c0000gn/T/ipykernel_10911/1044936714.py:147: UserWarning: Implicit dimension choice for softmax has been deprecated. Change the call to include dim=X as an argument.\n",
            "  final_out = torch.nn.functional.softmax(out)\n",
            "100%|██████████| 57/57 [00:11<00:00,  5.09it/s]\n",
            "  0%|          | 0/2 [00:00<?, ?it/s]/var/folders/3c/71b8pg6d7j5dht_5h_2n4n_c0000gn/T/ipykernel_10911/1044936714.py:147: UserWarning: Implicit dimension choice for softmax has been deprecated. Change the call to include dim=X as an argument.\n",
            "  final_out = torch.nn.functional.softmax(out)\n",
            "100%|██████████| 2/2 [00:00<00:00,  5.84it/s]\n"
          ]
        },
        {
          "name": "stdout",
          "output_type": "stream",
          "text": [
            "\n",
            "epoch 17\n",
            "\ttrain_loss:0.603 valid_loss:0.787\n",
            "\ttrain_acc:76.70% valid_acc:67.96%\n",
            "\ttrain_f1:0.767 valid_f1:0.689\n",
            "\ttrain_confusion_matrix:\n",
            "[[1803  290  338]\n",
            " [ 324 1888  224]\n",
            " [ 335  189 1905]]\n",
            "\tvalid_confusion_matrix:\n",
            "[[127  42  59]\n",
            " [ 92 439  76]\n",
            " [ 72  31 223]]\n"
          ]
        },
        {
          "name": "stderr",
          "output_type": "stream",
          "text": [
            "  0%|          | 0/57 [00:00<?, ?it/s]/var/folders/3c/71b8pg6d7j5dht_5h_2n4n_c0000gn/T/ipykernel_10911/1044936714.py:147: UserWarning: Implicit dimension choice for softmax has been deprecated. Change the call to include dim=X as an argument.\n",
            "  final_out = torch.nn.functional.softmax(out)\n",
            "100%|██████████| 57/57 [00:11<00:00,  5.03it/s]\n",
            "  0%|          | 0/2 [00:00<?, ?it/s]/var/folders/3c/71b8pg6d7j5dht_5h_2n4n_c0000gn/T/ipykernel_10911/1044936714.py:147: UserWarning: Implicit dimension choice for softmax has been deprecated. Change the call to include dim=X as an argument.\n",
            "  final_out = torch.nn.functional.softmax(out)\n",
            "100%|██████████| 2/2 [00:00<00:00,  5.57it/s]\n"
          ]
        },
        {
          "name": "stdout",
          "output_type": "stream",
          "text": [
            "\n",
            "epoch 18\n",
            "\ttrain_loss:0.584 valid_loss:0.791\n",
            "\ttrain_acc:78.10% valid_acc:68.65%\n",
            "\ttrain_f1:0.781 valid_f1:0.694\n",
            "\ttrain_confusion_matrix:\n",
            "[[1831  268  335]\n",
            " [ 304 1903  225]\n",
            " [ 312  154 1964]]\n",
            "\tvalid_confusion_matrix:\n",
            "[[120  39  69]\n",
            " [ 80 431  96]\n",
            " [ 55  25 246]]\n"
          ]
        },
        {
          "name": "stderr",
          "output_type": "stream",
          "text": [
            "  0%|          | 0/57 [00:00<?, ?it/s]/var/folders/3c/71b8pg6d7j5dht_5h_2n4n_c0000gn/T/ipykernel_10911/1044936714.py:147: UserWarning: Implicit dimension choice for softmax has been deprecated. Change the call to include dim=X as an argument.\n",
            "  final_out = torch.nn.functional.softmax(out)\n",
            "100%|██████████| 57/57 [00:11<00:00,  5.02it/s]\n",
            "  0%|          | 0/2 [00:00<?, ?it/s]/var/folders/3c/71b8pg6d7j5dht_5h_2n4n_c0000gn/T/ipykernel_10911/1044936714.py:147: UserWarning: Implicit dimension choice for softmax has been deprecated. Change the call to include dim=X as an argument.\n",
            "  final_out = torch.nn.functional.softmax(out)\n",
            "100%|██████████| 2/2 [00:00<00:00,  6.23it/s]\n"
          ]
        },
        {
          "name": "stdout",
          "output_type": "stream",
          "text": [
            "\n",
            "epoch 19\n",
            "\ttrain_loss:0.564 valid_loss:0.794\n",
            "\ttrain_acc:79.07% valid_acc:67.96%\n",
            "\ttrain_f1:0.791 valid_f1:0.691\n",
            "\ttrain_confusion_matrix:\n",
            "[[1869  253  310]\n",
            " [ 309 1909  211]\n",
            " [ 292  152 1991]]\n",
            "\tvalid_confusion_matrix:\n",
            "[[131  37  60]\n",
            " [100 435  72]\n",
            " [ 74  29 223]]\n",
            "Loading saved model from: model_task2.bin\n"
          ]
        },
        {
          "name": "stderr",
          "output_type": "stream",
          "text": [
            "  0%|          | 0/2 [00:00<?, ?it/s]/var/folders/3c/71b8pg6d7j5dht_5h_2n4n_c0000gn/T/ipykernel_10911/1044936714.py:147: UserWarning: Implicit dimension choice for softmax has been deprecated. Change the call to include dim=X as an argument.\n",
            "  final_out = torch.nn.functional.softmax(out)\n",
            "100%|██████████| 2/2 [00:00<00:00,  5.99it/s]\n"
          ]
        },
        {
          "name": "stdout",
          "output_type": "stream",
          "text": [
            "              precision    recall  f1-score   support\n",
            "\n",
            "     Neutral       0.46      0.55      0.50       228\n",
            "    Positive       0.86      0.76      0.81       607\n",
            "    Negative       0.65      0.70      0.67       326\n",
            "\n",
            "    accuracy                           0.70      1161\n",
            "   macro avg       0.66      0.67      0.66      1161\n",
            "weighted avg       0.72      0.70      0.71      1161\n",
            "\n",
            "\n",
            "******************************************************************************************\n",
            "Alpha Size: 0.4\n",
            "Window Size: 2\n",
            "******************************************************************************************\n",
            "\n",
            "train samples:7311\n",
            "valid samples:1161\n"
          ]
        },
        {
          "name": "stderr",
          "output_type": "stream",
          "text": [
            "  0%|          | 0/57 [00:00<?, ?it/s]/var/folders/3c/71b8pg6d7j5dht_5h_2n4n_c0000gn/T/ipykernel_10911/1044936714.py:147: UserWarning: Implicit dimension choice for softmax has been deprecated. Change the call to include dim=X as an argument.\n",
            "  final_out = torch.nn.functional.softmax(out)\n",
            "100%|██████████| 57/57 [00:09<00:00,  5.89it/s]\n",
            "  0%|          | 0/2 [00:00<?, ?it/s]/var/folders/3c/71b8pg6d7j5dht_5h_2n4n_c0000gn/T/ipykernel_10911/1044936714.py:147: UserWarning: Implicit dimension choice for softmax has been deprecated. Change the call to include dim=X as an argument.\n",
            "  final_out = torch.nn.functional.softmax(out)\n",
            "100%|██████████| 2/2 [00:00<00:00,  5.50it/s]\n"
          ]
        },
        {
          "name": "stdout",
          "output_type": "stream",
          "text": [
            "\n",
            "epoch 0\n",
            "\ttrain_loss:1.088 valid_loss:1.070\n",
            "\ttrain_acc:44.82% valid_acc:56.33%\n",
            "\ttrain_f1:0.437 valid_f1:0.574\n",
            "\ttrain_confusion_matrix:\n",
            "[[ 777  285 1369]\n",
            " [ 372  818 1245]\n",
            " [ 491  264 1675]]\n",
            "\tvalid_confusion_matrix:\n",
            "[[ 99  47  82]\n",
            " [ 99 374 134]\n",
            " [ 74  71 181]]\n"
          ]
        },
        {
          "name": "stderr",
          "output_type": "stream",
          "text": [
            "  0%|          | 0/57 [00:00<?, ?it/s]/var/folders/3c/71b8pg6d7j5dht_5h_2n4n_c0000gn/T/ipykernel_10911/1044936714.py:147: UserWarning: Implicit dimension choice for softmax has been deprecated. Change the call to include dim=X as an argument.\n",
            "  final_out = torch.nn.functional.softmax(out)\n",
            "100%|██████████| 57/57 [00:09<00:00,  6.03it/s]\n",
            "  0%|          | 0/2 [00:00<?, ?it/s]/var/folders/3c/71b8pg6d7j5dht_5h_2n4n_c0000gn/T/ipykernel_10911/1044936714.py:147: UserWarning: Implicit dimension choice for softmax has been deprecated. Change the call to include dim=X as an argument.\n",
            "  final_out = torch.nn.functional.softmax(out)\n",
            "100%|██████████| 2/2 [00:00<00:00,  6.74it/s]\n"
          ]
        },
        {
          "name": "stdout",
          "output_type": "stream",
          "text": [
            "\n",
            "epoch 1\n",
            "\ttrain_loss:1.048 valid_loss:0.995\n",
            "\ttrain_acc:56.11% valid_acc:60.03%\n",
            "\ttrain_f1:0.553 valid_f1:0.608\n",
            "\ttrain_confusion_matrix:\n",
            "[[ 949  718  766]\n",
            " [ 249 1733  454]\n",
            " [ 413  602 1412]]\n",
            "\tvalid_confusion_matrix:\n",
            "[[ 91  38  99]\n",
            " [ 78 401 128]\n",
            " [ 53  68 205]]\n"
          ]
        },
        {
          "name": "stderr",
          "output_type": "stream",
          "text": [
            "  0%|          | 0/57 [00:00<?, ?it/s]/var/folders/3c/71b8pg6d7j5dht_5h_2n4n_c0000gn/T/ipykernel_10911/1044936714.py:147: UserWarning: Implicit dimension choice for softmax has been deprecated. Change the call to include dim=X as an argument.\n",
            "  final_out = torch.nn.functional.softmax(out)\n",
            "100%|██████████| 57/57 [00:09<00:00,  6.01it/s]\n",
            "  0%|          | 0/2 [00:00<?, ?it/s]/var/folders/3c/71b8pg6d7j5dht_5h_2n4n_c0000gn/T/ipykernel_10911/1044936714.py:147: UserWarning: Implicit dimension choice for softmax has been deprecated. Change the call to include dim=X as an argument.\n",
            "  final_out = torch.nn.functional.softmax(out)\n",
            "100%|██████████| 2/2 [00:00<00:00,  6.67it/s]\n"
          ]
        },
        {
          "name": "stdout",
          "output_type": "stream",
          "text": [
            "\n",
            "epoch 2\n",
            "\ttrain_loss:0.937 valid_loss:0.864\n",
            "\ttrain_acc:58.94% valid_acc:65.55%\n",
            "\ttrain_f1:0.581 valid_f1:0.654\n",
            "\ttrain_confusion_matrix:\n",
            "[[ 997  606  828]\n",
            " [ 277 1774  381]\n",
            " [ 369  535 1529]]\n",
            "\tvalid_confusion_matrix:\n",
            "[[ 80  41 107]\n",
            " [ 57 459  91]\n",
            " [ 35  69 222]]\n"
          ]
        },
        {
          "name": "stderr",
          "output_type": "stream",
          "text": [
            "  0%|          | 0/57 [00:00<?, ?it/s]/var/folders/3c/71b8pg6d7j5dht_5h_2n4n_c0000gn/T/ipykernel_10911/1044936714.py:147: UserWarning: Implicit dimension choice for softmax has been deprecated. Change the call to include dim=X as an argument.\n",
            "  final_out = torch.nn.functional.softmax(out)\n",
            "100%|██████████| 57/57 [00:09<00:00,  6.06it/s]\n",
            "  0%|          | 0/2 [00:00<?, ?it/s]/var/folders/3c/71b8pg6d7j5dht_5h_2n4n_c0000gn/T/ipykernel_10911/1044936714.py:147: UserWarning: Implicit dimension choice for softmax has been deprecated. Change the call to include dim=X as an argument.\n",
            "  final_out = torch.nn.functional.softmax(out)\n",
            "100%|██████████| 2/2 [00:00<00:00,  6.80it/s]\n"
          ]
        },
        {
          "name": "stdout",
          "output_type": "stream",
          "text": [
            "\n",
            "epoch 3\n",
            "\ttrain_loss:0.864 valid_loss:0.824\n",
            "\ttrain_acc:61.90% valid_acc:65.72%\n",
            "\ttrain_f1:0.612 valid_f1:0.657\n",
            "\ttrain_confusion_matrix:\n",
            "[[1072  496  861]\n",
            " [ 335 1809  287]\n",
            " [ 371  430 1635]]\n",
            "\tvalid_confusion_matrix:\n",
            "[[ 79  43 106]\n",
            " [ 76 441  90]\n",
            " [ 33  50 243]]\n"
          ]
        },
        {
          "name": "stderr",
          "output_type": "stream",
          "text": [
            "  0%|          | 0/57 [00:00<?, ?it/s]/var/folders/3c/71b8pg6d7j5dht_5h_2n4n_c0000gn/T/ipykernel_10911/1044936714.py:147: UserWarning: Implicit dimension choice for softmax has been deprecated. Change the call to include dim=X as an argument.\n",
            "  final_out = torch.nn.functional.softmax(out)\n",
            "100%|██████████| 57/57 [00:09<00:00,  6.15it/s]\n",
            "  0%|          | 0/2 [00:00<?, ?it/s]/var/folders/3c/71b8pg6d7j5dht_5h_2n4n_c0000gn/T/ipykernel_10911/1044936714.py:147: UserWarning: Implicit dimension choice for softmax has been deprecated. Change the call to include dim=X as an argument.\n",
            "  final_out = torch.nn.functional.softmax(out)\n",
            "100%|██████████| 2/2 [00:00<00:00,  6.88it/s]\n"
          ]
        },
        {
          "name": "stdout",
          "output_type": "stream",
          "text": [
            "\n",
            "epoch 4\n",
            "\ttrain_loss:0.818 valid_loss:0.777\n",
            "\ttrain_acc:63.82% valid_acc:67.96%\n",
            "\ttrain_f1:0.633 valid_f1:0.681\n",
            "\ttrain_confusion_matrix:\n",
            "[[1161  482  787]\n",
            " [ 333 1842  257]\n",
            " [ 384  397 1653]]\n",
            "\tvalid_confusion_matrix:\n",
            "[[ 93  45  90]\n",
            " [ 70 448  89]\n",
            " [ 38  40 248]]\n"
          ]
        },
        {
          "name": "stderr",
          "output_type": "stream",
          "text": [
            "  0%|          | 0/57 [00:00<?, ?it/s]/var/folders/3c/71b8pg6d7j5dht_5h_2n4n_c0000gn/T/ipykernel_10911/1044936714.py:147: UserWarning: Implicit dimension choice for softmax has been deprecated. Change the call to include dim=X as an argument.\n",
            "  final_out = torch.nn.functional.softmax(out)\n",
            "100%|██████████| 57/57 [00:09<00:00,  6.13it/s]\n",
            "  0%|          | 0/2 [00:00<?, ?it/s]/var/folders/3c/71b8pg6d7j5dht_5h_2n4n_c0000gn/T/ipykernel_10911/1044936714.py:147: UserWarning: Implicit dimension choice for softmax has been deprecated. Change the call to include dim=X as an argument.\n",
            "  final_out = torch.nn.functional.softmax(out)\n",
            "100%|██████████| 2/2 [00:00<00:00,  6.56it/s]\n"
          ]
        },
        {
          "name": "stdout",
          "output_type": "stream",
          "text": [
            "\n",
            "epoch 5\n",
            "\ttrain_loss:0.792 valid_loss:0.757\n",
            "\ttrain_acc:64.73% valid_acc:68.04%\n",
            "\ttrain_f1:0.645 valid_f1:0.683\n",
            "\ttrain_confusion_matrix:\n",
            "[[1254  413  769]\n",
            " [ 346 1771  311]\n",
            " [ 445  289 1698]]\n",
            "\tvalid_confusion_matrix:\n",
            "[[104  46  78]\n",
            " [ 77 463  67]\n",
            " [ 47  56 223]]\n"
          ]
        },
        {
          "name": "stderr",
          "output_type": "stream",
          "text": [
            "  0%|          | 0/57 [00:00<?, ?it/s]/var/folders/3c/71b8pg6d7j5dht_5h_2n4n_c0000gn/T/ipykernel_10911/1044936714.py:147: UserWarning: Implicit dimension choice for softmax has been deprecated. Change the call to include dim=X as an argument.\n",
            "  final_out = torch.nn.functional.softmax(out)\n",
            "100%|██████████| 57/57 [00:09<00:00,  6.11it/s]\n",
            "  0%|          | 0/2 [00:00<?, ?it/s]/var/folders/3c/71b8pg6d7j5dht_5h_2n4n_c0000gn/T/ipykernel_10911/1044936714.py:147: UserWarning: Implicit dimension choice for softmax has been deprecated. Change the call to include dim=X as an argument.\n",
            "  final_out = torch.nn.functional.softmax(out)\n",
            "100%|██████████| 2/2 [00:00<00:00,  6.30it/s]\n"
          ]
        },
        {
          "name": "stdout",
          "output_type": "stream",
          "text": [
            "\n",
            "epoch 6\n",
            "\ttrain_loss:0.756 valid_loss:0.745\n",
            "\ttrain_acc:66.74% valid_acc:68.30%\n",
            "\ttrain_f1:0.664 valid_f1:0.686\n",
            "\ttrain_confusion_matrix:\n",
            "[[1307  427  698]\n",
            " [ 354 1843  235]\n",
            " [ 422  291 1719]]\n",
            "\tvalid_confusion_matrix:\n",
            "[[102  42  84]\n",
            " [ 81 454  72]\n",
            " [ 39  50 237]]\n"
          ]
        },
        {
          "name": "stderr",
          "output_type": "stream",
          "text": [
            "  0%|          | 0/57 [00:00<?, ?it/s]/var/folders/3c/71b8pg6d7j5dht_5h_2n4n_c0000gn/T/ipykernel_10911/1044936714.py:147: UserWarning: Implicit dimension choice for softmax has been deprecated. Change the call to include dim=X as an argument.\n",
            "  final_out = torch.nn.functional.softmax(out)\n",
            "100%|██████████| 57/57 [00:09<00:00,  6.04it/s]\n",
            "  0%|          | 0/2 [00:00<?, ?it/s]/var/folders/3c/71b8pg6d7j5dht_5h_2n4n_c0000gn/T/ipykernel_10911/1044936714.py:147: UserWarning: Implicit dimension choice for softmax has been deprecated. Change the call to include dim=X as an argument.\n",
            "  final_out = torch.nn.functional.softmax(out)\n",
            "100%|██████████| 2/2 [00:00<00:00,  7.10it/s]\n"
          ]
        },
        {
          "name": "stdout",
          "output_type": "stream",
          "text": [
            "\n",
            "epoch 7\n",
            "\ttrain_loss:0.733 valid_loss:0.722\n",
            "\ttrain_acc:68.26% valid_acc:68.65%\n",
            "\ttrain_f1:0.681 valid_f1:0.692\n",
            "\ttrain_confusion_matrix:\n",
            "[[1405  356  672]\n",
            " [ 379 1831  223]\n",
            " [ 430  256 1744]]\n",
            "\tvalid_confusion_matrix:\n",
            "[[110  39  79]\n",
            " [ 86 443  78]\n",
            " [ 47  35 244]]\n"
          ]
        },
        {
          "name": "stderr",
          "output_type": "stream",
          "text": [
            "  0%|          | 0/57 [00:00<?, ?it/s]/var/folders/3c/71b8pg6d7j5dht_5h_2n4n_c0000gn/T/ipykernel_10911/1044936714.py:147: UserWarning: Implicit dimension choice for softmax has been deprecated. Change the call to include dim=X as an argument.\n",
            "  final_out = torch.nn.functional.softmax(out)\n",
            "100%|██████████| 57/57 [00:09<00:00,  6.06it/s]\n",
            "  0%|          | 0/2 [00:00<?, ?it/s]/var/folders/3c/71b8pg6d7j5dht_5h_2n4n_c0000gn/T/ipykernel_10911/1044936714.py:147: UserWarning: Implicit dimension choice for softmax has been deprecated. Change the call to include dim=X as an argument.\n",
            "  final_out = torch.nn.functional.softmax(out)\n",
            "100%|██████████| 2/2 [00:00<00:00,  6.96it/s]\n"
          ]
        },
        {
          "name": "stdout",
          "output_type": "stream",
          "text": [
            "\n",
            "epoch 8\n",
            "\ttrain_loss:0.713 valid_loss:0.696\n",
            "\ttrain_acc:68.57% valid_acc:70.03%\n",
            "\ttrain_f1:0.684 valid_f1:0.704\n",
            "\ttrain_confusion_matrix:\n",
            "[[1403  368  658]\n",
            " [ 352 1845  239]\n",
            " [ 437  239 1755]]\n",
            "\tvalid_confusion_matrix:\n",
            "[[108  39  81]\n",
            " [ 78 454  75]\n",
            " [ 39  36 251]]\n"
          ]
        },
        {
          "name": "stderr",
          "output_type": "stream",
          "text": [
            "  0%|          | 0/57 [00:00<?, ?it/s]/var/folders/3c/71b8pg6d7j5dht_5h_2n4n_c0000gn/T/ipykernel_10911/1044936714.py:147: UserWarning: Implicit dimension choice for softmax has been deprecated. Change the call to include dim=X as an argument.\n",
            "  final_out = torch.nn.functional.softmax(out)\n",
            "100%|██████████| 57/57 [00:09<00:00,  6.06it/s]\n",
            "  0%|          | 0/2 [00:00<?, ?it/s]/var/folders/3c/71b8pg6d7j5dht_5h_2n4n_c0000gn/T/ipykernel_10911/1044936714.py:147: UserWarning: Implicit dimension choice for softmax has been deprecated. Change the call to include dim=X as an argument.\n",
            "  final_out = torch.nn.functional.softmax(out)\n",
            "100%|██████████| 2/2 [00:00<00:00,  6.75it/s]\n"
          ]
        },
        {
          "name": "stdout",
          "output_type": "stream",
          "text": [
            "\n",
            "epoch 9\n",
            "\ttrain_loss:0.694 valid_loss:0.700\n",
            "\ttrain_acc:70.24% valid_acc:69.94%\n",
            "\ttrain_f1:0.701 valid_f1:0.704\n",
            "\ttrain_confusion_matrix:\n",
            "[[1438  340  653]\n",
            " [ 337 1877  218]\n",
            " [ 377  246 1810]]\n",
            "\tvalid_confusion_matrix:\n",
            "[[110  35  83]\n",
            " [ 80 449  78]\n",
            " [ 39  34 253]]\n"
          ]
        },
        {
          "name": "stderr",
          "output_type": "stream",
          "text": [
            "  0%|          | 0/57 [00:00<?, ?it/s]/var/folders/3c/71b8pg6d7j5dht_5h_2n4n_c0000gn/T/ipykernel_10911/1044936714.py:147: UserWarning: Implicit dimension choice for softmax has been deprecated. Change the call to include dim=X as an argument.\n",
            "  final_out = torch.nn.functional.softmax(out)\n",
            "100%|██████████| 57/57 [00:09<00:00,  6.22it/s]\n",
            "  0%|          | 0/2 [00:00<?, ?it/s]/var/folders/3c/71b8pg6d7j5dht_5h_2n4n_c0000gn/T/ipykernel_10911/1044936714.py:147: UserWarning: Implicit dimension choice for softmax has been deprecated. Change the call to include dim=X as an argument.\n",
            "  final_out = torch.nn.functional.softmax(out)\n",
            "100%|██████████| 2/2 [00:00<00:00,  6.75it/s]\n"
          ]
        },
        {
          "name": "stdout",
          "output_type": "stream",
          "text": [
            "\n",
            "epoch 10\n",
            "\ttrain_loss:0.674 valid_loss:0.701\n",
            "\ttrain_acc:71.33% valid_acc:69.85%\n",
            "\ttrain_f1:0.712 valid_f1:0.703\n",
            "\ttrain_confusion_matrix:\n",
            "[[1504  319  608]\n",
            " [ 337 1888  208]\n",
            " [ 372  248 1812]]\n",
            "\tvalid_confusion_matrix:\n",
            "[[107  32  89]\n",
            " [ 79 445  83]\n",
            " [ 36  31 259]]\n"
          ]
        },
        {
          "name": "stderr",
          "output_type": "stream",
          "text": [
            "  0%|          | 0/57 [00:00<?, ?it/s]/var/folders/3c/71b8pg6d7j5dht_5h_2n4n_c0000gn/T/ipykernel_10911/1044936714.py:147: UserWarning: Implicit dimension choice for softmax has been deprecated. Change the call to include dim=X as an argument.\n",
            "  final_out = torch.nn.functional.softmax(out)\n",
            "100%|██████████| 57/57 [00:09<00:00,  6.03it/s]\n",
            "  0%|          | 0/2 [00:00<?, ?it/s]/var/folders/3c/71b8pg6d7j5dht_5h_2n4n_c0000gn/T/ipykernel_10911/1044936714.py:147: UserWarning: Implicit dimension choice for softmax has been deprecated. Change the call to include dim=X as an argument.\n",
            "  final_out = torch.nn.functional.softmax(out)\n",
            "100%|██████████| 2/2 [00:00<00:00,  6.84it/s]\n"
          ]
        },
        {
          "name": "stdout",
          "output_type": "stream",
          "text": [
            "\n",
            "epoch 11\n",
            "\ttrain_loss:0.659 valid_loss:0.698\n",
            "\ttrain_acc:72.40% valid_acc:69.42%\n",
            "\ttrain_f1:0.723 valid_f1:0.704\n",
            "\ttrain_confusion_matrix:\n",
            "[[1543  296  594]\n",
            " [ 332 1892  209]\n",
            " [ 361  222 1847]]\n",
            "\tvalid_confusion_matrix:\n",
            "[[130  30  68]\n",
            " [101 449  57]\n",
            " [ 61  38 227]]\n"
          ]
        },
        {
          "name": "stderr",
          "output_type": "stream",
          "text": [
            "  0%|          | 0/57 [00:00<?, ?it/s]/var/folders/3c/71b8pg6d7j5dht_5h_2n4n_c0000gn/T/ipykernel_10911/1044936714.py:147: UserWarning: Implicit dimension choice for softmax has been deprecated. Change the call to include dim=X as an argument.\n",
            "  final_out = torch.nn.functional.softmax(out)\n",
            "100%|██████████| 57/57 [00:09<00:00,  6.01it/s]\n",
            "  0%|          | 0/2 [00:00<?, ?it/s]/var/folders/3c/71b8pg6d7j5dht_5h_2n4n_c0000gn/T/ipykernel_10911/1044936714.py:147: UserWarning: Implicit dimension choice for softmax has been deprecated. Change the call to include dim=X as an argument.\n",
            "  final_out = torch.nn.functional.softmax(out)\n",
            "100%|██████████| 2/2 [00:00<00:00,  5.73it/s]\n"
          ]
        },
        {
          "name": "stdout",
          "output_type": "stream",
          "text": [
            "\n",
            "epoch 12\n",
            "\ttrain_loss:0.641 valid_loss:0.687\n",
            "\ttrain_acc:73.45% valid_acc:69.51%\n",
            "\ttrain_f1:0.734 valid_f1:0.699\n",
            "\ttrain_confusion_matrix:\n",
            "[[1578  283  569]\n",
            " [ 330 1910  194]\n",
            " [ 359  202 1871]]\n",
            "\tvalid_confusion_matrix:\n",
            "[[106  35  87]\n",
            " [ 80 457  70]\n",
            " [ 43  39 244]]\n"
          ]
        },
        {
          "name": "stderr",
          "output_type": "stream",
          "text": [
            "  0%|          | 0/57 [00:00<?, ?it/s]/var/folders/3c/71b8pg6d7j5dht_5h_2n4n_c0000gn/T/ipykernel_10911/1044936714.py:147: UserWarning: Implicit dimension choice for softmax has been deprecated. Change the call to include dim=X as an argument.\n",
            "  final_out = torch.nn.functional.softmax(out)\n",
            "100%|██████████| 57/57 [00:09<00:00,  5.95it/s]\n",
            "  0%|          | 0/2 [00:00<?, ?it/s]/var/folders/3c/71b8pg6d7j5dht_5h_2n4n_c0000gn/T/ipykernel_10911/1044936714.py:147: UserWarning: Implicit dimension choice for softmax has been deprecated. Change the call to include dim=X as an argument.\n",
            "  final_out = torch.nn.functional.softmax(out)\n",
            "100%|██████████| 2/2 [00:00<00:00,  6.94it/s]\n"
          ]
        },
        {
          "name": "stdout",
          "output_type": "stream",
          "text": [
            "\n",
            "epoch 13\n",
            "\ttrain_loss:0.634 valid_loss:0.683\n",
            "\ttrain_acc:74.03% valid_acc:70.03%\n",
            "\ttrain_f1:0.740 valid_f1:0.705\n",
            "\ttrain_confusion_matrix:\n",
            "[[1634  250  549]\n",
            " [ 336 1889  205]\n",
            " [ 339  216 1878]]\n",
            "\tvalid_confusion_matrix:\n",
            "[[116  43  69]\n",
            " [ 77 471  59]\n",
            " [ 55  45 226]]\n"
          ]
        },
        {
          "name": "stderr",
          "output_type": "stream",
          "text": [
            "  0%|          | 0/57 [00:00<?, ?it/s]/var/folders/3c/71b8pg6d7j5dht_5h_2n4n_c0000gn/T/ipykernel_10911/1044936714.py:147: UserWarning: Implicit dimension choice for softmax has been deprecated. Change the call to include dim=X as an argument.\n",
            "  final_out = torch.nn.functional.softmax(out)\n",
            "100%|██████████| 57/57 [00:09<00:00,  5.93it/s]\n",
            "  0%|          | 0/2 [00:00<?, ?it/s]/var/folders/3c/71b8pg6d7j5dht_5h_2n4n_c0000gn/T/ipykernel_10911/1044936714.py:147: UserWarning: Implicit dimension choice for softmax has been deprecated. Change the call to include dim=X as an argument.\n",
            "  final_out = torch.nn.functional.softmax(out)\n",
            "100%|██████████| 2/2 [00:00<00:00,  6.94it/s]\n"
          ]
        },
        {
          "name": "stdout",
          "output_type": "stream",
          "text": [
            "\n",
            "epoch 14\n",
            "\ttrain_loss:0.614 valid_loss:0.686\n",
            "\ttrain_acc:75.56% valid_acc:69.16%\n",
            "\ttrain_f1:0.756 valid_f1:0.700\n",
            "\ttrain_confusion_matrix:\n",
            "[[1685  224  522]\n",
            " [ 321 1910  201]\n",
            " [ 327  188 1918]]\n",
            "\tvalid_confusion_matrix:\n",
            "[[128  39  61]\n",
            " [ 90 467  50]\n",
            " [ 77  41 208]]\n"
          ]
        },
        {
          "name": "stderr",
          "output_type": "stream",
          "text": [
            "  0%|          | 0/57 [00:00<?, ?it/s]/var/folders/3c/71b8pg6d7j5dht_5h_2n4n_c0000gn/T/ipykernel_10911/1044936714.py:147: UserWarning: Implicit dimension choice for softmax has been deprecated. Change the call to include dim=X as an argument.\n",
            "  final_out = torch.nn.functional.softmax(out)\n",
            "100%|██████████| 57/57 [00:09<00:00,  6.02it/s]\n",
            "  0%|          | 0/2 [00:00<?, ?it/s]/var/folders/3c/71b8pg6d7j5dht_5h_2n4n_c0000gn/T/ipykernel_10911/1044936714.py:147: UserWarning: Implicit dimension choice for softmax has been deprecated. Change the call to include dim=X as an argument.\n",
            "  final_out = torch.nn.functional.softmax(out)\n",
            "100%|██████████| 2/2 [00:00<00:00,  6.20it/s]\n"
          ]
        },
        {
          "name": "stdout",
          "output_type": "stream",
          "text": [
            "\n",
            "epoch 15\n",
            "\ttrain_loss:0.600 valid_loss:0.701\n",
            "\ttrain_acc:76.26% valid_acc:69.51%\n",
            "\ttrain_f1:0.763 valid_f1:0.704\n",
            "\ttrain_confusion_matrix:\n",
            "[[1711  215  509]\n",
            " [ 320 1910  202]\n",
            " [ 304  182 1943]]\n",
            "\tvalid_confusion_matrix:\n",
            "[[121  33  74]\n",
            " [ 84 456  67]\n",
            " [ 65  31 230]]\n"
          ]
        },
        {
          "name": "stderr",
          "output_type": "stream",
          "text": [
            "  0%|          | 0/57 [00:00<?, ?it/s]/var/folders/3c/71b8pg6d7j5dht_5h_2n4n_c0000gn/T/ipykernel_10911/1044936714.py:147: UserWarning: Implicit dimension choice for softmax has been deprecated. Change the call to include dim=X as an argument.\n",
            "  final_out = torch.nn.functional.softmax(out)\n",
            "100%|██████████| 57/57 [00:09<00:00,  5.74it/s]\n",
            "  0%|          | 0/2 [00:00<?, ?it/s]/var/folders/3c/71b8pg6d7j5dht_5h_2n4n_c0000gn/T/ipykernel_10911/1044936714.py:147: UserWarning: Implicit dimension choice for softmax has been deprecated. Change the call to include dim=X as an argument.\n",
            "  final_out = torch.nn.functional.softmax(out)\n",
            "100%|██████████| 2/2 [00:00<00:00,  6.30it/s]\n"
          ]
        },
        {
          "name": "stdout",
          "output_type": "stream",
          "text": [
            "\n",
            "epoch 16\n",
            "\ttrain_loss:0.577 valid_loss:0.688\n",
            "\ttrain_acc:77.55% valid_acc:69.94%\n",
            "\ttrain_f1:0.776 valid_f1:0.706\n",
            "\ttrain_confusion_matrix:\n",
            "[[1753  204  476]\n",
            " [ 291 1938  200]\n",
            " [ 297  170 1967]]\n",
            "\tvalid_confusion_matrix:\n",
            "[[121  36  71]\n",
            " [ 82 463  62]\n",
            " [ 59  39 228]]\n"
          ]
        },
        {
          "name": "stderr",
          "output_type": "stream",
          "text": [
            "  0%|          | 0/57 [00:00<?, ?it/s]/var/folders/3c/71b8pg6d7j5dht_5h_2n4n_c0000gn/T/ipykernel_10911/1044936714.py:147: UserWarning: Implicit dimension choice for softmax has been deprecated. Change the call to include dim=X as an argument.\n",
            "  final_out = torch.nn.functional.softmax(out)\n",
            "100%|██████████| 57/57 [00:09<00:00,  5.71it/s]\n",
            "  0%|          | 0/2 [00:00<?, ?it/s]/var/folders/3c/71b8pg6d7j5dht_5h_2n4n_c0000gn/T/ipykernel_10911/1044936714.py:147: UserWarning: Implicit dimension choice for softmax has been deprecated. Change the call to include dim=X as an argument.\n",
            "  final_out = torch.nn.functional.softmax(out)\n",
            "100%|██████████| 2/2 [00:00<00:00,  6.75it/s]\n"
          ]
        },
        {
          "name": "stdout",
          "output_type": "stream",
          "text": [
            "\n",
            "epoch 17\n",
            "\ttrain_loss:0.565 valid_loss:0.713\n",
            "\ttrain_acc:78.34% valid_acc:69.08%\n",
            "\ttrain_f1:0.784 valid_f1:0.704\n",
            "\ttrain_confusion_matrix:\n",
            "[[1784  185  463]\n",
            " [ 288 1952  189]\n",
            " [ 279  176 1980]]\n",
            "\tvalid_confusion_matrix:\n",
            "[[134  29  65]\n",
            " [112 437  58]\n",
            " [ 71  24 231]]\n"
          ]
        },
        {
          "name": "stderr",
          "output_type": "stream",
          "text": [
            "  0%|          | 0/57 [00:00<?, ?it/s]/var/folders/3c/71b8pg6d7j5dht_5h_2n4n_c0000gn/T/ipykernel_10911/1044936714.py:147: UserWarning: Implicit dimension choice for softmax has been deprecated. Change the call to include dim=X as an argument.\n",
            "  final_out = torch.nn.functional.softmax(out)\n",
            "100%|██████████| 57/57 [00:10<00:00,  5.63it/s]\n",
            "  0%|          | 0/2 [00:00<?, ?it/s]/var/folders/3c/71b8pg6d7j5dht_5h_2n4n_c0000gn/T/ipykernel_10911/1044936714.py:147: UserWarning: Implicit dimension choice for softmax has been deprecated. Change the call to include dim=X as an argument.\n",
            "  final_out = torch.nn.functional.softmax(out)\n",
            "100%|██████████| 2/2 [00:00<00:00,  5.90it/s]\n"
          ]
        },
        {
          "name": "stdout",
          "output_type": "stream",
          "text": [
            "\n",
            "epoch 18\n",
            "\ttrain_loss:0.549 valid_loss:0.695\n",
            "\ttrain_acc:79.17% valid_acc:70.71%\n",
            "\ttrain_f1:0.792 valid_f1:0.714\n",
            "\ttrain_confusion_matrix:\n",
            "[[1833  170  433]\n",
            " [ 297 1949  186]\n",
            " [ 270  164 1994]]\n",
            "\tvalid_confusion_matrix:\n",
            "[[131  42  55]\n",
            " [ 79 473  55]\n",
            " [ 70  39 217]]\n"
          ]
        },
        {
          "name": "stderr",
          "output_type": "stream",
          "text": [
            "  0%|          | 0/57 [00:00<?, ?it/s]/var/folders/3c/71b8pg6d7j5dht_5h_2n4n_c0000gn/T/ipykernel_10911/1044936714.py:147: UserWarning: Implicit dimension choice for softmax has been deprecated. Change the call to include dim=X as an argument.\n",
            "  final_out = torch.nn.functional.softmax(out)\n",
            "100%|██████████| 57/57 [00:10<00:00,  5.60it/s]\n",
            "  0%|          | 0/2 [00:00<?, ?it/s]/var/folders/3c/71b8pg6d7j5dht_5h_2n4n_c0000gn/T/ipykernel_10911/1044936714.py:147: UserWarning: Implicit dimension choice for softmax has been deprecated. Change the call to include dim=X as an argument.\n",
            "  final_out = torch.nn.functional.softmax(out)\n",
            "100%|██████████| 2/2 [00:00<00:00,  6.40it/s]\n"
          ]
        },
        {
          "name": "stdout",
          "output_type": "stream",
          "text": [
            "\n",
            "epoch 19\n",
            "\ttrain_loss:0.549 valid_loss:0.829\n",
            "\ttrain_acc:78.77% valid_acc:65.12%\n",
            "\ttrain_f1:0.788 valid_f1:0.664\n",
            "\ttrain_confusion_matrix:\n",
            "[[1809  169  452]\n",
            " [ 274 1944  217]\n",
            " [ 276  161 1994]]\n",
            "\tvalid_confusion_matrix:\n",
            "[[120  25  83]\n",
            " [102 389 116]\n",
            " [ 62  17 247]]\n",
            "Loading saved model from: model_task2.bin\n"
          ]
        },
        {
          "name": "stderr",
          "output_type": "stream",
          "text": [
            "  0%|          | 0/2 [00:00<?, ?it/s]/var/folders/3c/71b8pg6d7j5dht_5h_2n4n_c0000gn/T/ipykernel_10911/1044936714.py:147: UserWarning: Implicit dimension choice for softmax has been deprecated. Change the call to include dim=X as an argument.\n",
            "  final_out = torch.nn.functional.softmax(out)\n",
            "100%|██████████| 2/2 [00:00<00:00,  7.00it/s]\n"
          ]
        },
        {
          "name": "stdout",
          "output_type": "stream",
          "text": [
            "              precision    recall  f1-score   support\n",
            "\n",
            "     Neutral       0.48      0.52      0.50       228\n",
            "    Positive       0.84      0.78      0.81       607\n",
            "    Negative       0.64      0.70      0.67       326\n",
            "\n",
            "    accuracy                           0.71      1161\n",
            "   macro avg       0.66      0.67      0.66      1161\n",
            "weighted avg       0.72      0.71      0.71      1161\n",
            "\n",
            "\n",
            "******************************************************************************************\n",
            "Alpha Size: 0.4\n",
            "Window Size: 4\n",
            "******************************************************************************************\n",
            "\n",
            "train samples:7311\n",
            "valid samples:1161\n"
          ]
        },
        {
          "name": "stderr",
          "output_type": "stream",
          "text": [
            "  0%|          | 0/57 [00:00<?, ?it/s]/var/folders/3c/71b8pg6d7j5dht_5h_2n4n_c0000gn/T/ipykernel_10911/1044936714.py:147: UserWarning: Implicit dimension choice for softmax has been deprecated. Change the call to include dim=X as an argument.\n",
            "  final_out = torch.nn.functional.softmax(out)\n",
            "100%|██████████| 57/57 [00:10<00:00,  5.38it/s]\n",
            "  0%|          | 0/2 [00:00<?, ?it/s]/var/folders/3c/71b8pg6d7j5dht_5h_2n4n_c0000gn/T/ipykernel_10911/1044936714.py:147: UserWarning: Implicit dimension choice for softmax has been deprecated. Change the call to include dim=X as an argument.\n",
            "  final_out = torch.nn.functional.softmax(out)\n",
            "100%|██████████| 2/2 [00:00<00:00,  5.79it/s]\n"
          ]
        },
        {
          "name": "stdout",
          "output_type": "stream",
          "text": [
            "\n",
            "epoch 0\n",
            "\ttrain_loss:1.090 valid_loss:1.071\n",
            "\ttrain_acc:43.67% valid_acc:55.21%\n",
            "\ttrain_f1:0.424 valid_f1:0.557\n",
            "\ttrain_confusion_matrix:\n",
            "[[ 845 1059  525]\n",
            " [ 449 1593  393]\n",
            " [ 663 1021  748]]\n",
            "\tvalid_confusion_matrix:\n",
            "[[ 94  67  67]\n",
            " [107 412  88]\n",
            " [ 87 104 135]]\n"
          ]
        },
        {
          "name": "stderr",
          "output_type": "stream",
          "text": [
            "  0%|          | 0/57 [00:00<?, ?it/s]/var/folders/3c/71b8pg6d7j5dht_5h_2n4n_c0000gn/T/ipykernel_10911/1044936714.py:147: UserWarning: Implicit dimension choice for softmax has been deprecated. Change the call to include dim=X as an argument.\n",
            "  final_out = torch.nn.functional.softmax(out)\n",
            "100%|██████████| 57/57 [00:10<00:00,  5.42it/s]\n",
            "  0%|          | 0/2 [00:00<?, ?it/s]/var/folders/3c/71b8pg6d7j5dht_5h_2n4n_c0000gn/T/ipykernel_10911/1044936714.py:147: UserWarning: Implicit dimension choice for softmax has been deprecated. Change the call to include dim=X as an argument.\n",
            "  final_out = torch.nn.functional.softmax(out)\n",
            "100%|██████████| 2/2 [00:00<00:00,  5.53it/s]\n"
          ]
        },
        {
          "name": "stdout",
          "output_type": "stream",
          "text": [
            "\n",
            "epoch 1\n",
            "\ttrain_loss:1.053 valid_loss:0.997\n",
            "\ttrain_acc:54.45% valid_acc:59.95%\n",
            "\ttrain_f1:0.541 valid_f1:0.604\n",
            "\ttrain_confusion_matrix:\n",
            "[[1017  573  844]\n",
            " [ 411 1559  463]\n",
            " [ 550  482 1397]]\n",
            "\tvalid_confusion_matrix:\n",
            "[[ 92  58  78]\n",
            " [ 89 423  95]\n",
            " [ 62  83 181]]\n"
          ]
        },
        {
          "name": "stderr",
          "output_type": "stream",
          "text": [
            "  0%|          | 0/57 [00:00<?, ?it/s]/var/folders/3c/71b8pg6d7j5dht_5h_2n4n_c0000gn/T/ipykernel_10911/1044936714.py:147: UserWarning: Implicit dimension choice for softmax has been deprecated. Change the call to include dim=X as an argument.\n",
            "  final_out = torch.nn.functional.softmax(out)\n",
            "100%|██████████| 57/57 [00:10<00:00,  5.41it/s]\n",
            "  0%|          | 0/2 [00:00<?, ?it/s]/var/folders/3c/71b8pg6d7j5dht_5h_2n4n_c0000gn/T/ipykernel_10911/1044936714.py:147: UserWarning: Implicit dimension choice for softmax has been deprecated. Change the call to include dim=X as an argument.\n",
            "  final_out = torch.nn.functional.softmax(out)\n",
            "100%|██████████| 2/2 [00:00<00:00,  6.28it/s]\n"
          ]
        },
        {
          "name": "stdout",
          "output_type": "stream",
          "text": [
            "\n",
            "epoch 2\n",
            "\ttrain_loss:0.944 valid_loss:0.863\n",
            "\ttrain_acc:56.30% valid_acc:66.32%\n",
            "\ttrain_f1:0.548 valid_f1:0.666\n",
            "\ttrain_confusion_matrix:\n",
            "[[ 783  658  989]\n",
            " [ 282 1733  416]\n",
            " [ 321  522 1592]]\n",
            "\tvalid_confusion_matrix:\n",
            "[[ 96  47  85]\n",
            " [ 71 449  87]\n",
            " [ 46  55 225]]\n"
          ]
        },
        {
          "name": "stderr",
          "output_type": "stream",
          "text": [
            "  0%|          | 0/57 [00:00<?, ?it/s]/var/folders/3c/71b8pg6d7j5dht_5h_2n4n_c0000gn/T/ipykernel_10911/1044936714.py:147: UserWarning: Implicit dimension choice for softmax has been deprecated. Change the call to include dim=X as an argument.\n",
            "  final_out = torch.nn.functional.softmax(out)\n",
            "100%|██████████| 57/57 [00:10<00:00,  5.30it/s]\n",
            "  0%|          | 0/2 [00:00<?, ?it/s]/var/folders/3c/71b8pg6d7j5dht_5h_2n4n_c0000gn/T/ipykernel_10911/1044936714.py:147: UserWarning: Implicit dimension choice for softmax has been deprecated. Change the call to include dim=X as an argument.\n",
            "  final_out = torch.nn.functional.softmax(out)\n",
            "100%|██████████| 2/2 [00:00<00:00,  6.14it/s]\n"
          ]
        },
        {
          "name": "stdout",
          "output_type": "stream",
          "text": [
            "\n",
            "epoch 3\n",
            "\ttrain_loss:0.850 valid_loss:0.800\n",
            "\ttrain_acc:61.72% valid_acc:67.10%\n",
            "\ttrain_f1:0.610 valid_f1:0.675\n",
            "\ttrain_confusion_matrix:\n",
            "[[1027  540  866]\n",
            " [ 340 1782  312]\n",
            " [ 419  316 1694]]\n",
            "\tvalid_confusion_matrix:\n",
            "[[ 95  43  90]\n",
            " [ 68 440  99]\n",
            " [ 49  33 244]]\n"
          ]
        },
        {
          "name": "stderr",
          "output_type": "stream",
          "text": [
            "  0%|          | 0/57 [00:00<?, ?it/s]/var/folders/3c/71b8pg6d7j5dht_5h_2n4n_c0000gn/T/ipykernel_10911/1044936714.py:147: UserWarning: Implicit dimension choice for softmax has been deprecated. Change the call to include dim=X as an argument.\n",
            "  final_out = torch.nn.functional.softmax(out)\n",
            "100%|██████████| 57/57 [00:10<00:00,  5.26it/s]\n",
            "  0%|          | 0/2 [00:00<?, ?it/s]/var/folders/3c/71b8pg6d7j5dht_5h_2n4n_c0000gn/T/ipykernel_10911/1044936714.py:147: UserWarning: Implicit dimension choice for softmax has been deprecated. Change the call to include dim=X as an argument.\n",
            "  final_out = torch.nn.functional.softmax(out)\n",
            "100%|██████████| 2/2 [00:00<00:00,  5.28it/s]\n"
          ]
        },
        {
          "name": "stdout",
          "output_type": "stream",
          "text": [
            "\n",
            "epoch 4\n",
            "\ttrain_loss:0.794 valid_loss:0.774\n",
            "\ttrain_acc:64.61% valid_acc:65.98%\n",
            "\ttrain_f1:0.643 valid_f1:0.673\n",
            "\ttrain_confusion_matrix:\n",
            "[[1193  401  837]\n",
            " [ 363 1812  257]\n",
            " [ 463  261 1709]]\n",
            "\tvalid_confusion_matrix:\n",
            "[[120  36  72]\n",
            " [113 434  60]\n",
            " [ 81  33 212]]\n"
          ]
        },
        {
          "name": "stderr",
          "output_type": "stream",
          "text": [
            "  0%|          | 0/57 [00:00<?, ?it/s]/var/folders/3c/71b8pg6d7j5dht_5h_2n4n_c0000gn/T/ipykernel_10911/1044936714.py:147: UserWarning: Implicit dimension choice for softmax has been deprecated. Change the call to include dim=X as an argument.\n",
            "  final_out = torch.nn.functional.softmax(out)\n",
            "100%|██████████| 57/57 [00:10<00:00,  5.30it/s]\n",
            "  0%|          | 0/2 [00:00<?, ?it/s]/var/folders/3c/71b8pg6d7j5dht_5h_2n4n_c0000gn/T/ipykernel_10911/1044936714.py:147: UserWarning: Implicit dimension choice for softmax has been deprecated. Change the call to include dim=X as an argument.\n",
            "  final_out = torch.nn.functional.softmax(out)\n",
            "100%|██████████| 2/2 [00:00<00:00,  4.84it/s]\n"
          ]
        },
        {
          "name": "stdout",
          "output_type": "stream",
          "text": [
            "\n",
            "epoch 5\n",
            "\ttrain_loss:0.758 valid_loss:0.732\n",
            "\ttrain_acc:66.21% valid_acc:69.34%\n",
            "\ttrain_f1:0.660 valid_f1:0.698\n",
            "\ttrain_confusion_matrix:\n",
            "[[1264  369  797]\n",
            " [ 359 1825  249]\n",
            " [ 449  242 1742]]\n",
            "\tvalid_confusion_matrix:\n",
            "[[106  44  78]\n",
            " [ 69 471  67]\n",
            " [ 61  37 228]]\n"
          ]
        },
        {
          "name": "stderr",
          "output_type": "stream",
          "text": [
            "  0%|          | 0/57 [00:00<?, ?it/s]/var/folders/3c/71b8pg6d7j5dht_5h_2n4n_c0000gn/T/ipykernel_10911/1044936714.py:147: UserWarning: Implicit dimension choice for softmax has been deprecated. Change the call to include dim=X as an argument.\n",
            "  final_out = torch.nn.functional.softmax(out)\n",
            "100%|██████████| 57/57 [00:11<00:00,  5.13it/s]\n",
            "  0%|          | 0/2 [00:00<?, ?it/s]/var/folders/3c/71b8pg6d7j5dht_5h_2n4n_c0000gn/T/ipykernel_10911/1044936714.py:147: UserWarning: Implicit dimension choice for softmax has been deprecated. Change the call to include dim=X as an argument.\n",
            "  final_out = torch.nn.functional.softmax(out)\n",
            "100%|██████████| 2/2 [00:00<00:00,  5.86it/s]\n"
          ]
        },
        {
          "name": "stdout",
          "output_type": "stream",
          "text": [
            "\n",
            "epoch 6\n",
            "\ttrain_loss:0.739 valid_loss:0.725\n",
            "\ttrain_acc:67.76% valid_acc:68.39%\n",
            "\ttrain_f1:0.675 valid_f1:0.694\n",
            "\ttrain_confusion_matrix:\n",
            "[[1334  369  727]\n",
            " [ 343 1839  251]\n",
            " [ 417  245 1771]]\n",
            "\tvalid_confusion_matrix:\n",
            "[[122  36  70]\n",
            " [ 91 452  64]\n",
            " [ 74  32 220]]\n"
          ]
        },
        {
          "name": "stderr",
          "output_type": "stream",
          "text": [
            "  0%|          | 0/57 [00:00<?, ?it/s]/var/folders/3c/71b8pg6d7j5dht_5h_2n4n_c0000gn/T/ipykernel_10911/1044936714.py:147: UserWarning: Implicit dimension choice for softmax has been deprecated. Change the call to include dim=X as an argument.\n",
            "  final_out = torch.nn.functional.softmax(out)\n",
            "100%|██████████| 57/57 [00:10<00:00,  5.59it/s]\n",
            "  0%|          | 0/2 [00:00<?, ?it/s]/var/folders/3c/71b8pg6d7j5dht_5h_2n4n_c0000gn/T/ipykernel_10911/1044936714.py:147: UserWarning: Implicit dimension choice for softmax has been deprecated. Change the call to include dim=X as an argument.\n",
            "  final_out = torch.nn.functional.softmax(out)\n",
            "100%|██████████| 2/2 [00:00<00:00,  6.60it/s]\n"
          ]
        },
        {
          "name": "stdout",
          "output_type": "stream",
          "text": [
            "\n",
            "epoch 7\n",
            "\ttrain_loss:0.715 valid_loss:0.735\n",
            "\ttrain_acc:69.61% valid_acc:67.70%\n",
            "\ttrain_f1:0.696 valid_f1:0.687\n",
            "\ttrain_confusion_matrix:\n",
            "[[1477  299  657]\n",
            " [ 362 1845  224]\n",
            " [ 439  236 1757]]\n",
            "\tvalid_confusion_matrix:\n",
            "[[135  41  52]\n",
            " [ 92 457  58]\n",
            " [ 92  40 194]]\n"
          ]
        },
        {
          "name": "stderr",
          "output_type": "stream",
          "text": [
            "  0%|          | 0/57 [00:00<?, ?it/s]/var/folders/3c/71b8pg6d7j5dht_5h_2n4n_c0000gn/T/ipykernel_10911/1044936714.py:147: UserWarning: Implicit dimension choice for softmax has been deprecated. Change the call to include dim=X as an argument.\n",
            "  final_out = torch.nn.functional.softmax(out)\n",
            "100%|██████████| 57/57 [00:10<00:00,  5.58it/s]\n",
            "  0%|          | 0/2 [00:00<?, ?it/s]/var/folders/3c/71b8pg6d7j5dht_5h_2n4n_c0000gn/T/ipykernel_10911/1044936714.py:147: UserWarning: Implicit dimension choice for softmax has been deprecated. Change the call to include dim=X as an argument.\n",
            "  final_out = torch.nn.functional.softmax(out)\n",
            "100%|██████████| 2/2 [00:00<00:00,  6.53it/s]\n"
          ]
        },
        {
          "name": "stdout",
          "output_type": "stream",
          "text": [
            "\n",
            "epoch 8\n",
            "\ttrain_loss:0.708 valid_loss:0.719\n",
            "\ttrain_acc:69.78% valid_acc:70.20%\n",
            "\ttrain_f1:0.697 valid_f1:0.707\n",
            "\ttrain_confusion_matrix:\n",
            "[[1451  322  659]\n",
            " [ 343 1857  234]\n",
            " [ 445  202 1783]]\n",
            "\tvalid_confusion_matrix:\n",
            "[[108  34  86]\n",
            " [ 75 442  90]\n",
            " [ 39  22 265]]\n"
          ]
        },
        {
          "name": "stderr",
          "output_type": "stream",
          "text": [
            "  0%|          | 0/57 [00:00<?, ?it/s]/var/folders/3c/71b8pg6d7j5dht_5h_2n4n_c0000gn/T/ipykernel_10911/1044936714.py:147: UserWarning: Implicit dimension choice for softmax has been deprecated. Change the call to include dim=X as an argument.\n",
            "  final_out = torch.nn.functional.softmax(out)\n",
            "100%|██████████| 57/57 [00:10<00:00,  5.46it/s]\n",
            "  0%|          | 0/2 [00:00<?, ?it/s]/var/folders/3c/71b8pg6d7j5dht_5h_2n4n_c0000gn/T/ipykernel_10911/1044936714.py:147: UserWarning: Implicit dimension choice for softmax has been deprecated. Change the call to include dim=X as an argument.\n",
            "  final_out = torch.nn.functional.softmax(out)\n",
            "100%|██████████| 2/2 [00:00<00:00,  5.76it/s]\n"
          ]
        },
        {
          "name": "stdout",
          "output_type": "stream",
          "text": [
            "\n",
            "epoch 9\n",
            "\ttrain_loss:0.686 valid_loss:0.719\n",
            "\ttrain_acc:71.20% valid_acc:70.11%\n",
            "\ttrain_f1:0.711 valid_f1:0.709\n",
            "\ttrain_confusion_matrix:\n",
            "[[1505  284  643]\n",
            " [ 340 1864  228]\n",
            " [ 389  217 1826]]\n",
            "\tvalid_confusion_matrix:\n",
            "[[123  35  70]\n",
            " [ 84 447  76]\n",
            " [ 56  26 244]]\n"
          ]
        },
        {
          "name": "stderr",
          "output_type": "stream",
          "text": [
            "  0%|          | 0/57 [00:00<?, ?it/s]/var/folders/3c/71b8pg6d7j5dht_5h_2n4n_c0000gn/T/ipykernel_10911/1044936714.py:147: UserWarning: Implicit dimension choice for softmax has been deprecated. Change the call to include dim=X as an argument.\n",
            "  final_out = torch.nn.functional.softmax(out)\n",
            "100%|██████████| 57/57 [00:10<00:00,  5.45it/s]\n",
            "  0%|          | 0/2 [00:00<?, ?it/s]/var/folders/3c/71b8pg6d7j5dht_5h_2n4n_c0000gn/T/ipykernel_10911/1044936714.py:147: UserWarning: Implicit dimension choice for softmax has been deprecated. Change the call to include dim=X as an argument.\n",
            "  final_out = torch.nn.functional.softmax(out)\n",
            "100%|██████████| 2/2 [00:00<00:00,  6.45it/s]\n"
          ]
        },
        {
          "name": "stdout",
          "output_type": "stream",
          "text": [
            "\n",
            "epoch 10\n",
            "\ttrain_loss:0.673 valid_loss:0.735\n",
            "\ttrain_acc:71.61% valid_acc:69.25%\n",
            "\ttrain_f1:0.716 valid_f1:0.700\n",
            "\ttrain_confusion_matrix:\n",
            "[[1545  281  607]\n",
            " [ 332 1861  239]\n",
            " [ 404  208 1819]]\n",
            "\tvalid_confusion_matrix:\n",
            "[[130  42  56]\n",
            " [ 91 462  54]\n",
            " [ 70  44 212]]\n"
          ]
        },
        {
          "name": "stderr",
          "output_type": "stream",
          "text": [
            "  0%|          | 0/57 [00:00<?, ?it/s]/var/folders/3c/71b8pg6d7j5dht_5h_2n4n_c0000gn/T/ipykernel_10911/1044936714.py:147: UserWarning: Implicit dimension choice for softmax has been deprecated. Change the call to include dim=X as an argument.\n",
            "  final_out = torch.nn.functional.softmax(out)\n",
            "100%|██████████| 57/57 [00:10<00:00,  5.50it/s]\n",
            "  0%|          | 0/2 [00:00<?, ?it/s]/var/folders/3c/71b8pg6d7j5dht_5h_2n4n_c0000gn/T/ipykernel_10911/1044936714.py:147: UserWarning: Implicit dimension choice for softmax has been deprecated. Change the call to include dim=X as an argument.\n",
            "  final_out = torch.nn.functional.softmax(out)\n",
            "100%|██████████| 2/2 [00:00<00:00,  5.98it/s]\n"
          ]
        },
        {
          "name": "stdout",
          "output_type": "stream",
          "text": [
            "\n",
            "epoch 11\n",
            "\ttrain_loss:0.659 valid_loss:0.722\n",
            "\ttrain_acc:72.82% valid_acc:70.20%\n",
            "\ttrain_f1:0.728 valid_f1:0.710\n",
            "\ttrain_confusion_matrix:\n",
            "[[1594  264  574]\n",
            " [ 322 1866  245]\n",
            " [ 404  174 1853]]\n",
            "\tvalid_confusion_matrix:\n",
            "[[132  43  53]\n",
            " [ 79 471  57]\n",
            " [ 78  36 212]]\n"
          ]
        },
        {
          "name": "stderr",
          "output_type": "stream",
          "text": [
            "  0%|          | 0/57 [00:00<?, ?it/s]/var/folders/3c/71b8pg6d7j5dht_5h_2n4n_c0000gn/T/ipykernel_10911/1044936714.py:147: UserWarning: Implicit dimension choice for softmax has been deprecated. Change the call to include dim=X as an argument.\n",
            "  final_out = torch.nn.functional.softmax(out)\n",
            "100%|██████████| 57/57 [00:10<00:00,  5.50it/s]\n",
            "  0%|          | 0/2 [00:00<?, ?it/s]/var/folders/3c/71b8pg6d7j5dht_5h_2n4n_c0000gn/T/ipykernel_10911/1044936714.py:147: UserWarning: Implicit dimension choice for softmax has been deprecated. Change the call to include dim=X as an argument.\n",
            "  final_out = torch.nn.functional.softmax(out)\n",
            "100%|██████████| 2/2 [00:00<00:00,  6.37it/s]\n"
          ]
        },
        {
          "name": "stdout",
          "output_type": "stream",
          "text": [
            "\n",
            "epoch 12\n",
            "\ttrain_loss:0.640 valid_loss:0.714\n",
            "\ttrain_acc:73.49% valid_acc:69.68%\n",
            "\ttrain_f1:0.735 valid_f1:0.703\n",
            "\ttrain_confusion_matrix:\n",
            "[[1614  270  552]\n",
            " [ 299 1900  232]\n",
            " [ 385  196 1848]]\n",
            "\tvalid_confusion_matrix:\n",
            "[[112  40  76]\n",
            " [ 76 453  78]\n",
            " [ 57  25 244]]\n"
          ]
        },
        {
          "name": "stderr",
          "output_type": "stream",
          "text": [
            "  0%|          | 0/57 [00:00<?, ?it/s]/var/folders/3c/71b8pg6d7j5dht_5h_2n4n_c0000gn/T/ipykernel_10911/1044936714.py:147: UserWarning: Implicit dimension choice for softmax has been deprecated. Change the call to include dim=X as an argument.\n",
            "  final_out = torch.nn.functional.softmax(out)\n",
            "100%|██████████| 57/57 [00:10<00:00,  5.52it/s]\n",
            "  0%|          | 0/2 [00:00<?, ?it/s]/var/folders/3c/71b8pg6d7j5dht_5h_2n4n_c0000gn/T/ipykernel_10911/1044936714.py:147: UserWarning: Implicit dimension choice for softmax has been deprecated. Change the call to include dim=X as an argument.\n",
            "  final_out = torch.nn.functional.softmax(out)\n",
            "100%|██████████| 2/2 [00:00<00:00,  6.04it/s]\n"
          ]
        },
        {
          "name": "stdout",
          "output_type": "stream",
          "text": [
            "\n",
            "epoch 13\n",
            "\ttrain_loss:0.624 valid_loss:0.721\n",
            "\ttrain_acc:74.64% valid_acc:70.28%\n",
            "\ttrain_f1:0.747 valid_f1:0.710\n",
            "\ttrain_confusion_matrix:\n",
            "[[1689  232  512]\n",
            " [ 318 1889  225]\n",
            " [ 377  186 1868]]\n",
            "\tvalid_confusion_matrix:\n",
            "[[118  39  71]\n",
            " [ 77 453  77]\n",
            " [ 56  25 245]]\n"
          ]
        },
        {
          "name": "stderr",
          "output_type": "stream",
          "text": [
            "  0%|          | 0/57 [00:00<?, ?it/s]/var/folders/3c/71b8pg6d7j5dht_5h_2n4n_c0000gn/T/ipykernel_10911/1044936714.py:147: UserWarning: Implicit dimension choice for softmax has been deprecated. Change the call to include dim=X as an argument.\n",
            "  final_out = torch.nn.functional.softmax(out)\n",
            "100%|██████████| 57/57 [00:10<00:00,  5.58it/s]\n",
            "  0%|          | 0/2 [00:00<?, ?it/s]/var/folders/3c/71b8pg6d7j5dht_5h_2n4n_c0000gn/T/ipykernel_10911/1044936714.py:147: UserWarning: Implicit dimension choice for softmax has been deprecated. Change the call to include dim=X as an argument.\n",
            "  final_out = torch.nn.functional.softmax(out)\n",
            "100%|██████████| 2/2 [00:00<00:00,  5.95it/s]\n"
          ]
        },
        {
          "name": "stdout",
          "output_type": "stream",
          "text": [
            "\n",
            "epoch 14\n",
            "\ttrain_loss:0.604 valid_loss:0.716\n",
            "\ttrain_acc:75.90% valid_acc:69.94%\n",
            "\ttrain_f1:0.759 valid_f1:0.708\n",
            "\ttrain_confusion_matrix:\n",
            "[[1726  242  464]\n",
            " [ 300 1918  216]\n",
            " [ 357  179 1894]]\n",
            "\tvalid_confusion_matrix:\n",
            "[[126  38  64]\n",
            " [ 81 454  72]\n",
            " [ 67  27 232]]\n"
          ]
        },
        {
          "name": "stderr",
          "output_type": "stream",
          "text": [
            "  0%|          | 0/57 [00:00<?, ?it/s]/var/folders/3c/71b8pg6d7j5dht_5h_2n4n_c0000gn/T/ipykernel_10911/1044936714.py:147: UserWarning: Implicit dimension choice for softmax has been deprecated. Change the call to include dim=X as an argument.\n",
            "  final_out = torch.nn.functional.softmax(out)\n",
            "100%|██████████| 57/57 [00:10<00:00,  5.43it/s]\n",
            "  0%|          | 0/2 [00:00<?, ?it/s]/var/folders/3c/71b8pg6d7j5dht_5h_2n4n_c0000gn/T/ipykernel_10911/1044936714.py:147: UserWarning: Implicit dimension choice for softmax has been deprecated. Change the call to include dim=X as an argument.\n",
            "  final_out = torch.nn.functional.softmax(out)\n",
            "100%|██████████| 2/2 [00:00<00:00,  5.97it/s]\n"
          ]
        },
        {
          "name": "stdout",
          "output_type": "stream",
          "text": [
            "\n",
            "epoch 15\n",
            "\ttrain_loss:0.592 valid_loss:0.713\n",
            "\ttrain_acc:76.29% valid_acc:70.11%\n",
            "\ttrain_f1:0.763 valid_f1:0.706\n",
            "\ttrain_confusion_matrix:\n",
            "[[1760  244  427]\n",
            " [ 303 1912  215]\n",
            " [ 364  177 1894]]\n",
            "\tvalid_confusion_matrix:\n",
            "[[109  43  76]\n",
            " [ 69 457  81]\n",
            " [ 53  25 248]]\n"
          ]
        },
        {
          "name": "stderr",
          "output_type": "stream",
          "text": [
            "  0%|          | 0/57 [00:00<?, ?it/s]/var/folders/3c/71b8pg6d7j5dht_5h_2n4n_c0000gn/T/ipykernel_10911/1044936714.py:147: UserWarning: Implicit dimension choice for softmax has been deprecated. Change the call to include dim=X as an argument.\n",
            "  final_out = torch.nn.functional.softmax(out)\n",
            "100%|██████████| 57/57 [00:10<00:00,  5.44it/s]\n",
            "  0%|          | 0/2 [00:00<?, ?it/s]/var/folders/3c/71b8pg6d7j5dht_5h_2n4n_c0000gn/T/ipykernel_10911/1044936714.py:147: UserWarning: Implicit dimension choice for softmax has been deprecated. Change the call to include dim=X as an argument.\n",
            "  final_out = torch.nn.functional.softmax(out)\n",
            "100%|██████████| 2/2 [00:00<00:00,  6.27it/s]\n"
          ]
        },
        {
          "name": "stdout",
          "output_type": "stream",
          "text": [
            "\n",
            "epoch 16\n",
            "\ttrain_loss:0.574 valid_loss:0.705\n",
            "\ttrain_acc:77.12% valid_acc:70.97%\n",
            "\ttrain_f1:0.772 valid_f1:0.715\n",
            "\ttrain_confusion_matrix:\n",
            "[[1792  222  417]\n",
            " [ 308 1916  212]\n",
            " [ 348  162 1919]]\n",
            "\tvalid_confusion_matrix:\n",
            "[[119  43  66]\n",
            " [ 72 460  75]\n",
            " [ 54  27 245]]\n"
          ]
        },
        {
          "name": "stderr",
          "output_type": "stream",
          "text": [
            "  0%|          | 0/57 [00:00<?, ?it/s]/var/folders/3c/71b8pg6d7j5dht_5h_2n4n_c0000gn/T/ipykernel_10911/1044936714.py:147: UserWarning: Implicit dimension choice for softmax has been deprecated. Change the call to include dim=X as an argument.\n",
            "  final_out = torch.nn.functional.softmax(out)\n",
            "100%|██████████| 57/57 [00:10<00:00,  5.51it/s]\n",
            "  0%|          | 0/2 [00:00<?, ?it/s]/var/folders/3c/71b8pg6d7j5dht_5h_2n4n_c0000gn/T/ipykernel_10911/1044936714.py:147: UserWarning: Implicit dimension choice for softmax has been deprecated. Change the call to include dim=X as an argument.\n",
            "  final_out = torch.nn.functional.softmax(out)\n",
            "100%|██████████| 2/2 [00:00<00:00,  6.47it/s]\n"
          ]
        },
        {
          "name": "stdout",
          "output_type": "stream",
          "text": [
            "\n",
            "epoch 17\n",
            "\ttrain_loss:0.557 valid_loss:0.736\n",
            "\ttrain_acc:78.30% valid_acc:70.03%\n",
            "\ttrain_f1:0.783 valid_f1:0.711\n",
            "\ttrain_confusion_matrix:\n",
            "[[1822  213  396]\n",
            " [ 292 1941  200]\n",
            " [ 329  153 1950]]\n",
            "\tvalid_confusion_matrix:\n",
            "[[141  37  50]\n",
            " [ 87 459  61]\n",
            " [ 88  25 213]]\n"
          ]
        },
        {
          "name": "stderr",
          "output_type": "stream",
          "text": [
            "  0%|          | 0/57 [00:00<?, ?it/s]/var/folders/3c/71b8pg6d7j5dht_5h_2n4n_c0000gn/T/ipykernel_10911/1044936714.py:147: UserWarning: Implicit dimension choice for softmax has been deprecated. Change the call to include dim=X as an argument.\n",
            "  final_out = torch.nn.functional.softmax(out)\n",
            "100%|██████████| 57/57 [00:10<00:00,  5.55it/s]\n",
            "  0%|          | 0/2 [00:00<?, ?it/s]/var/folders/3c/71b8pg6d7j5dht_5h_2n4n_c0000gn/T/ipykernel_10911/1044936714.py:147: UserWarning: Implicit dimension choice for softmax has been deprecated. Change the call to include dim=X as an argument.\n",
            "  final_out = torch.nn.functional.softmax(out)\n",
            "100%|██████████| 2/2 [00:00<00:00,  6.28it/s]\n"
          ]
        },
        {
          "name": "stdout",
          "output_type": "stream",
          "text": [
            "\n",
            "epoch 18\n",
            "\ttrain_loss:0.542 valid_loss:0.755\n",
            "\ttrain_acc:79.11% valid_acc:69.60%\n",
            "\ttrain_f1:0.792 valid_f1:0.705\n",
            "\ttrain_confusion_matrix:\n",
            "[[1877  204  354]\n",
            " [ 290 1936  205]\n",
            " [ 333  138 1959]]\n",
            "\tvalid_confusion_matrix:\n",
            "[[124  36  68]\n",
            " [ 86 443  78]\n",
            " [ 64  21 241]]\n"
          ]
        },
        {
          "name": "stderr",
          "output_type": "stream",
          "text": [
            "  0%|          | 0/57 [00:00<?, ?it/s]/var/folders/3c/71b8pg6d7j5dht_5h_2n4n_c0000gn/T/ipykernel_10911/1044936714.py:147: UserWarning: Implicit dimension choice for softmax has been deprecated. Change the call to include dim=X as an argument.\n",
            "  final_out = torch.nn.functional.softmax(out)\n",
            "100%|██████████| 57/57 [00:10<00:00,  5.62it/s]\n",
            "  0%|          | 0/2 [00:00<?, ?it/s]/var/folders/3c/71b8pg6d7j5dht_5h_2n4n_c0000gn/T/ipykernel_10911/1044936714.py:147: UserWarning: Implicit dimension choice for softmax has been deprecated. Change the call to include dim=X as an argument.\n",
            "  final_out = torch.nn.functional.softmax(out)\n",
            "100%|██████████| 2/2 [00:00<00:00,  6.51it/s]\n"
          ]
        },
        {
          "name": "stdout",
          "output_type": "stream",
          "text": [
            "\n",
            "epoch 19\n",
            "\ttrain_loss:0.531 valid_loss:0.728\n",
            "\ttrain_acc:79.50% valid_acc:71.40%\n",
            "\ttrain_f1:0.795 valid_f1:0.715\n",
            "\ttrain_confusion_matrix:\n",
            "[[1875  202  358]\n",
            " [ 284 1958  187]\n",
            " [ 302  163 1967]]\n",
            "\tvalid_confusion_matrix:\n",
            "[[107  52  69]\n",
            " [ 56 477  74]\n",
            " [ 49  32 245]]\n",
            "Loading saved model from: model_task2.bin\n"
          ]
        },
        {
          "name": "stderr",
          "output_type": "stream",
          "text": [
            "  0%|          | 0/2 [00:00<?, ?it/s]/var/folders/3c/71b8pg6d7j5dht_5h_2n4n_c0000gn/T/ipykernel_10911/1044936714.py:147: UserWarning: Implicit dimension choice for softmax has been deprecated. Change the call to include dim=X as an argument.\n",
            "  final_out = torch.nn.functional.softmax(out)\n",
            "100%|██████████| 2/2 [00:00<00:00,  6.89it/s]\n"
          ]
        },
        {
          "name": "stdout",
          "output_type": "stream",
          "text": [
            "              precision    recall  f1-score   support\n",
            "\n",
            "     Neutral       0.49      0.53      0.51       228\n",
            "    Positive       0.86      0.76      0.81       607\n",
            "    Negative       0.64      0.74      0.69       326\n",
            "\n",
            "    accuracy                           0.71      1161\n",
            "   macro avg       0.66      0.68      0.67      1161\n",
            "weighted avg       0.73      0.71      0.72      1161\n",
            "\n",
            "\n",
            "******************************************************************************************\n",
            "Alpha Size: 0.4\n",
            "Window Size: 8\n",
            "******************************************************************************************\n",
            "\n",
            "train samples:7311\n",
            "valid samples:1161\n"
          ]
        },
        {
          "name": "stderr",
          "output_type": "stream",
          "text": [
            "  0%|          | 0/57 [00:00<?, ?it/s]/var/folders/3c/71b8pg6d7j5dht_5h_2n4n_c0000gn/T/ipykernel_10911/1044936714.py:147: UserWarning: Implicit dimension choice for softmax has been deprecated. Change the call to include dim=X as an argument.\n",
            "  final_out = torch.nn.functional.softmax(out)\n",
            "100%|██████████| 57/57 [00:11<00:00,  4.91it/s]\n",
            "  0%|          | 0/2 [00:00<?, ?it/s]/var/folders/3c/71b8pg6d7j5dht_5h_2n4n_c0000gn/T/ipykernel_10911/1044936714.py:147: UserWarning: Implicit dimension choice for softmax has been deprecated. Change the call to include dim=X as an argument.\n",
            "  final_out = torch.nn.functional.softmax(out)\n",
            "100%|██████████| 2/2 [00:00<00:00,  5.20it/s]\n"
          ]
        },
        {
          "name": "stdout",
          "output_type": "stream",
          "text": [
            "\n",
            "epoch 0\n",
            "\ttrain_loss:1.089 valid_loss:1.074\n",
            "\ttrain_acc:43.64% valid_acc:55.81%\n",
            "\ttrain_f1:0.431 valid_f1:0.569\n",
            "\ttrain_confusion_matrix:\n",
            "[[1419  453  559]\n",
            " [1038  964  430]\n",
            " [1137  495  801]]\n",
            "\tvalid_confusion_matrix:\n",
            "[[108  51  69]\n",
            " [113 364 130]\n",
            " [ 75  75 176]]\n"
          ]
        },
        {
          "name": "stderr",
          "output_type": "stream",
          "text": [
            "  0%|          | 0/57 [00:00<?, ?it/s]/var/folders/3c/71b8pg6d7j5dht_5h_2n4n_c0000gn/T/ipykernel_10911/1044936714.py:147: UserWarning: Implicit dimension choice for softmax has been deprecated. Change the call to include dim=X as an argument.\n",
            "  final_out = torch.nn.functional.softmax(out)\n",
            "100%|██████████| 57/57 [00:11<00:00,  4.97it/s]\n",
            "  0%|          | 0/2 [00:00<?, ?it/s]/var/folders/3c/71b8pg6d7j5dht_5h_2n4n_c0000gn/T/ipykernel_10911/1044936714.py:147: UserWarning: Implicit dimension choice for softmax has been deprecated. Change the call to include dim=X as an argument.\n",
            "  final_out = torch.nn.functional.softmax(out)\n",
            "100%|██████████| 2/2 [00:00<00:00,  5.76it/s]\n"
          ]
        },
        {
          "name": "stdout",
          "output_type": "stream",
          "text": [
            "\n",
            "epoch 1\n",
            "\ttrain_loss:1.052 valid_loss:0.998\n",
            "\ttrain_acc:55.84% valid_acc:60.21%\n",
            "\ttrain_f1:0.551 valid_f1:0.604\n",
            "\ttrain_confusion_matrix:\n",
            "[[ 915  571  947]\n",
            " [ 353 1579  500]\n",
            " [ 392  459 1580]]\n",
            "\tvalid_confusion_matrix:\n",
            "[[ 81  56  91]\n",
            " [ 79 409 119]\n",
            " [ 41  76 209]]\n"
          ]
        },
        {
          "name": "stderr",
          "output_type": "stream",
          "text": [
            "  0%|          | 0/57 [00:00<?, ?it/s]/var/folders/3c/71b8pg6d7j5dht_5h_2n4n_c0000gn/T/ipykernel_10911/1044936714.py:147: UserWarning: Implicit dimension choice for softmax has been deprecated. Change the call to include dim=X as an argument.\n",
            "  final_out = torch.nn.functional.softmax(out)\n",
            "100%|██████████| 57/57 [00:11<00:00,  4.91it/s]\n",
            "  0%|          | 0/2 [00:00<?, ?it/s]/var/folders/3c/71b8pg6d7j5dht_5h_2n4n_c0000gn/T/ipykernel_10911/1044936714.py:147: UserWarning: Implicit dimension choice for softmax has been deprecated. Change the call to include dim=X as an argument.\n",
            "  final_out = torch.nn.functional.softmax(out)\n",
            "100%|██████████| 2/2 [00:00<00:00,  5.38it/s]\n"
          ]
        },
        {
          "name": "stdout",
          "output_type": "stream",
          "text": [
            "\n",
            "epoch 2\n",
            "\ttrain_loss:0.930 valid_loss:0.862\n",
            "\ttrain_acc:57.70% valid_acc:64.51%\n",
            "\ttrain_f1:0.563 valid_f1:0.647\n",
            "\ttrain_confusion_matrix:\n",
            "[[ 827  662  942]\n",
            " [ 278 1831  324]\n",
            " [ 309  571 1552]]\n",
            "\tvalid_confusion_matrix:\n",
            "[[ 85  53  90]\n",
            " [ 84 452  71]\n",
            " [ 50  64 212]]\n"
          ]
        },
        {
          "name": "stderr",
          "output_type": "stream",
          "text": [
            "  0%|          | 0/57 [00:00<?, ?it/s]/var/folders/3c/71b8pg6d7j5dht_5h_2n4n_c0000gn/T/ipykernel_10911/1044936714.py:147: UserWarning: Implicit dimension choice for softmax has been deprecated. Change the call to include dim=X as an argument.\n",
            "  final_out = torch.nn.functional.softmax(out)\n",
            "100%|██████████| 57/57 [00:11<00:00,  5.06it/s]\n",
            "  0%|          | 0/2 [00:00<?, ?it/s]/var/folders/3c/71b8pg6d7j5dht_5h_2n4n_c0000gn/T/ipykernel_10911/1044936714.py:147: UserWarning: Implicit dimension choice for softmax has been deprecated. Change the call to include dim=X as an argument.\n",
            "  final_out = torch.nn.functional.softmax(out)\n",
            "100%|██████████| 2/2 [00:00<00:00,  5.96it/s]\n"
          ]
        },
        {
          "name": "stdout",
          "output_type": "stream",
          "text": [
            "\n",
            "epoch 3\n",
            "\ttrain_loss:0.846 valid_loss:0.797\n",
            "\ttrain_acc:62.65% valid_acc:66.49%\n",
            "\ttrain_f1:0.618 valid_f1:0.676\n",
            "\ttrain_confusion_matrix:\n",
            "[[1047  536  848]\n",
            " [ 321 1875  238]\n",
            " [ 409  373 1649]]\n",
            "\tvalid_confusion_matrix:\n",
            "[[119  44  65]\n",
            " [100 449  58]\n",
            " [ 82  40 204]]\n"
          ]
        },
        {
          "name": "stderr",
          "output_type": "stream",
          "text": [
            "  0%|          | 0/57 [00:00<?, ?it/s]/var/folders/3c/71b8pg6d7j5dht_5h_2n4n_c0000gn/T/ipykernel_10911/1044936714.py:147: UserWarning: Implicit dimension choice for softmax has been deprecated. Change the call to include dim=X as an argument.\n",
            "  final_out = torch.nn.functional.softmax(out)\n",
            "100%|██████████| 57/57 [00:11<00:00,  5.04it/s]\n",
            "  0%|          | 0/2 [00:00<?, ?it/s]/var/folders/3c/71b8pg6d7j5dht_5h_2n4n_c0000gn/T/ipykernel_10911/1044936714.py:147: UserWarning: Implicit dimension choice for softmax has been deprecated. Change the call to include dim=X as an argument.\n",
            "  final_out = torch.nn.functional.softmax(out)\n",
            "100%|██████████| 2/2 [00:00<00:00,  5.62it/s]\n"
          ]
        },
        {
          "name": "stdout",
          "output_type": "stream",
          "text": [
            "\n",
            "epoch 4\n",
            "\ttrain_loss:0.794 valid_loss:0.773\n",
            "\ttrain_acc:64.94% valid_acc:67.10%\n",
            "\ttrain_f1:0.647 valid_f1:0.680\n",
            "\ttrain_confusion_matrix:\n",
            "[[1235  427  769]\n",
            " [ 378 1834  219]\n",
            " [ 510  255 1669]]\n",
            "\tvalid_confusion_matrix:\n",
            "[[117  40  71]\n",
            " [ 96 444  67]\n",
            " [ 68  40 218]]\n"
          ]
        },
        {
          "name": "stderr",
          "output_type": "stream",
          "text": [
            "  0%|          | 0/57 [00:00<?, ?it/s]/var/folders/3c/71b8pg6d7j5dht_5h_2n4n_c0000gn/T/ipykernel_10911/1044936714.py:147: UserWarning: Implicit dimension choice for softmax has been deprecated. Change the call to include dim=X as an argument.\n",
            "  final_out = torch.nn.functional.softmax(out)\n",
            "100%|██████████| 57/57 [00:11<00:00,  5.03it/s]\n",
            "  0%|          | 0/2 [00:00<?, ?it/s]/var/folders/3c/71b8pg6d7j5dht_5h_2n4n_c0000gn/T/ipykernel_10911/1044936714.py:147: UserWarning: Implicit dimension choice for softmax has been deprecated. Change the call to include dim=X as an argument.\n",
            "  final_out = torch.nn.functional.softmax(out)\n",
            "100%|██████████| 2/2 [00:00<00:00,  5.77it/s]\n"
          ]
        },
        {
          "name": "stdout",
          "output_type": "stream",
          "text": [
            "\n",
            "epoch 5\n",
            "\ttrain_loss:0.759 valid_loss:0.767\n",
            "\ttrain_acc:66.56% valid_acc:67.70%\n",
            "\ttrain_f1:0.664 valid_f1:0.688\n",
            "\ttrain_confusion_matrix:\n",
            "[[1318  369  746]\n",
            " [ 410 1809  214]\n",
            " [ 489  212 1729]]\n",
            "\tvalid_confusion_matrix:\n",
            "[[127  38  63]\n",
            " [ 98 451  58]\n",
            " [ 80  38 208]]\n"
          ]
        },
        {
          "name": "stderr",
          "output_type": "stream",
          "text": [
            "  0%|          | 0/57 [00:00<?, ?it/s]/var/folders/3c/71b8pg6d7j5dht_5h_2n4n_c0000gn/T/ipykernel_10911/1044936714.py:147: UserWarning: Implicit dimension choice for softmax has been deprecated. Change the call to include dim=X as an argument.\n",
            "  final_out = torch.nn.functional.softmax(out)\n",
            "100%|██████████| 57/57 [00:11<00:00,  4.89it/s]\n",
            "  0%|          | 0/2 [00:00<?, ?it/s]/var/folders/3c/71b8pg6d7j5dht_5h_2n4n_c0000gn/T/ipykernel_10911/1044936714.py:147: UserWarning: Implicit dimension choice for softmax has been deprecated. Change the call to include dim=X as an argument.\n",
            "  final_out = torch.nn.functional.softmax(out)\n",
            "100%|██████████| 2/2 [00:00<00:00,  4.89it/s]\n"
          ]
        },
        {
          "name": "stdout",
          "output_type": "stream",
          "text": [
            "\n",
            "epoch 6\n",
            "\ttrain_loss:0.743 valid_loss:0.755\n",
            "\ttrain_acc:67.21% valid_acc:68.82%\n",
            "\ttrain_f1:0.671 valid_f1:0.697\n",
            "\ttrain_confusion_matrix:\n",
            "[[1347  376  712]\n",
            " [ 391 1835  203]\n",
            " [ 482  228 1722]]\n",
            "\tvalid_confusion_matrix:\n",
            "[[123  36  69]\n",
            " [ 91 445  71]\n",
            " [ 61  34 231]]\n"
          ]
        },
        {
          "name": "stderr",
          "output_type": "stream",
          "text": [
            "  0%|          | 0/57 [00:00<?, ?it/s]/var/folders/3c/71b8pg6d7j5dht_5h_2n4n_c0000gn/T/ipykernel_10911/1044936714.py:147: UserWarning: Implicit dimension choice for softmax has been deprecated. Change the call to include dim=X as an argument.\n",
            "  final_out = torch.nn.functional.softmax(out)\n",
            "100%|██████████| 57/57 [00:11<00:00,  4.81it/s]\n",
            "  0%|          | 0/2 [00:00<?, ?it/s]/var/folders/3c/71b8pg6d7j5dht_5h_2n4n_c0000gn/T/ipykernel_10911/1044936714.py:147: UserWarning: Implicit dimension choice for softmax has been deprecated. Change the call to include dim=X as an argument.\n",
            "  final_out = torch.nn.functional.softmax(out)\n",
            "100%|██████████| 2/2 [00:00<00:00,  5.33it/s]\n"
          ]
        },
        {
          "name": "stdout",
          "output_type": "stream",
          "text": [
            "\n",
            "epoch 7\n",
            "\ttrain_loss:0.718 valid_loss:0.762\n",
            "\ttrain_acc:68.93% valid_acc:67.61%\n",
            "\ttrain_f1:0.688 valid_f1:0.687\n",
            "\ttrain_confusion_matrix:\n",
            "[[1379  344  711]\n",
            " [ 386 1843  200]\n",
            " [ 428  198 1807]]\n",
            "\tvalid_confusion_matrix:\n",
            "[[131  34  63]\n",
            " [ 93 448  66]\n",
            " [ 82  38 206]]\n"
          ]
        },
        {
          "name": "stderr",
          "output_type": "stream",
          "text": [
            "  0%|          | 0/57 [00:00<?, ?it/s]/var/folders/3c/71b8pg6d7j5dht_5h_2n4n_c0000gn/T/ipykernel_10911/1044936714.py:147: UserWarning: Implicit dimension choice for softmax has been deprecated. Change the call to include dim=X as an argument.\n",
            "  final_out = torch.nn.functional.softmax(out)\n",
            "100%|██████████| 57/57 [00:11<00:00,  4.76it/s]\n",
            "  0%|          | 0/2 [00:00<?, ?it/s]/var/folders/3c/71b8pg6d7j5dht_5h_2n4n_c0000gn/T/ipykernel_10911/1044936714.py:147: UserWarning: Implicit dimension choice for softmax has been deprecated. Change the call to include dim=X as an argument.\n",
            "  final_out = torch.nn.functional.softmax(out)\n",
            "100%|██████████| 2/2 [00:00<00:00,  5.24it/s]\n"
          ]
        },
        {
          "name": "stdout",
          "output_type": "stream",
          "text": [
            "\n",
            "epoch 8\n",
            "\ttrain_loss:0.702 valid_loss:0.764\n",
            "\ttrain_acc:69.96% valid_acc:68.65%\n",
            "\ttrain_f1:0.698 valid_f1:0.694\n",
            "\ttrain_confusion_matrix:\n",
            "[[1467  370  596]\n",
            " [ 361 1874  195]\n",
            " [ 437  233 1763]]\n",
            "\tvalid_confusion_matrix:\n",
            "[[116  31  81]\n",
            " [ 92 429  86]\n",
            " [ 46  28 252]]\n"
          ]
        },
        {
          "name": "stderr",
          "output_type": "stream",
          "text": [
            "  0%|          | 0/57 [00:00<?, ?it/s]/var/folders/3c/71b8pg6d7j5dht_5h_2n4n_c0000gn/T/ipykernel_10911/1044936714.py:147: UserWarning: Implicit dimension choice for softmax has been deprecated. Change the call to include dim=X as an argument.\n",
            "  final_out = torch.nn.functional.softmax(out)\n",
            "100%|██████████| 57/57 [00:11<00:00,  4.79it/s]\n",
            "  0%|          | 0/2 [00:00<?, ?it/s]/var/folders/3c/71b8pg6d7j5dht_5h_2n4n_c0000gn/T/ipykernel_10911/1044936714.py:147: UserWarning: Implicit dimension choice for softmax has been deprecated. Change the call to include dim=X as an argument.\n",
            "  final_out = torch.nn.functional.softmax(out)\n",
            "100%|██████████| 2/2 [00:00<00:00,  5.66it/s]\n"
          ]
        },
        {
          "name": "stdout",
          "output_type": "stream",
          "text": [
            "\n",
            "epoch 9\n",
            "\ttrain_loss:0.677 valid_loss:0.763\n",
            "\ttrain_acc:71.42% valid_acc:68.30%\n",
            "\ttrain_f1:0.714 valid_f1:0.696\n",
            "\ttrain_confusion_matrix:\n",
            "[[1528  315  590]\n",
            " [ 361 1865  206]\n",
            " [ 426  187 1818]]\n",
            "\tvalid_confusion_matrix:\n",
            "[[139  31  58]\n",
            " [113 426  68]\n",
            " [ 71  27 228]]\n"
          ]
        },
        {
          "name": "stderr",
          "output_type": "stream",
          "text": [
            "  0%|          | 0/57 [00:00<?, ?it/s]/var/folders/3c/71b8pg6d7j5dht_5h_2n4n_c0000gn/T/ipykernel_10911/1044936714.py:147: UserWarning: Implicit dimension choice for softmax has been deprecated. Change the call to include dim=X as an argument.\n",
            "  final_out = torch.nn.functional.softmax(out)\n",
            "100%|██████████| 57/57 [00:11<00:00,  5.03it/s]\n",
            "  0%|          | 0/2 [00:00<?, ?it/s]/var/folders/3c/71b8pg6d7j5dht_5h_2n4n_c0000gn/T/ipykernel_10911/1044936714.py:147: UserWarning: Implicit dimension choice for softmax has been deprecated. Change the call to include dim=X as an argument.\n",
            "  final_out = torch.nn.functional.softmax(out)\n",
            "100%|██████████| 2/2 [00:00<00:00,  5.62it/s]\n"
          ]
        },
        {
          "name": "stdout",
          "output_type": "stream",
          "text": [
            "\n",
            "epoch 10\n",
            "\ttrain_loss:0.663 valid_loss:0.743\n",
            "\ttrain_acc:72.41% valid_acc:69.60%\n",
            "\ttrain_f1:0.724 valid_f1:0.703\n",
            "\ttrain_confusion_matrix:\n",
            "[[1569  290  569]\n",
            " [ 356 1879  201]\n",
            " [ 412  185 1835]]\n",
            "\tvalid_confusion_matrix:\n",
            "[[118  35  75]\n",
            " [ 79 445  83]\n",
            " [ 52  29 245]]\n"
          ]
        },
        {
          "name": "stderr",
          "output_type": "stream",
          "text": [
            "  0%|          | 0/57 [00:00<?, ?it/s]/var/folders/3c/71b8pg6d7j5dht_5h_2n4n_c0000gn/T/ipykernel_10911/1044936714.py:147: UserWarning: Implicit dimension choice for softmax has been deprecated. Change the call to include dim=X as an argument.\n",
            "  final_out = torch.nn.functional.softmax(out)\n",
            "100%|██████████| 57/57 [00:11<00:00,  4.86it/s]\n",
            "  0%|          | 0/2 [00:00<?, ?it/s]/var/folders/3c/71b8pg6d7j5dht_5h_2n4n_c0000gn/T/ipykernel_10911/1044936714.py:147: UserWarning: Implicit dimension choice for softmax has been deprecated. Change the call to include dim=X as an argument.\n",
            "  final_out = torch.nn.functional.softmax(out)\n",
            "100%|██████████| 2/2 [00:00<00:00,  5.57it/s]\n"
          ]
        },
        {
          "name": "stdout",
          "output_type": "stream",
          "text": [
            "\n",
            "epoch 11\n",
            "\ttrain_loss:0.644 valid_loss:0.752\n",
            "\ttrain_acc:73.60% valid_acc:69.34%\n",
            "\ttrain_f1:0.736 valid_f1:0.701\n",
            "\ttrain_confusion_matrix:\n",
            "[[1646  267  517]\n",
            " [ 365 1869  197]\n",
            " [ 411  169 1855]]\n",
            "\tvalid_confusion_matrix:\n",
            "[[119  35  74]\n",
            " [ 84 440  83]\n",
            " [ 53  27 246]]\n"
          ]
        },
        {
          "name": "stderr",
          "output_type": "stream",
          "text": [
            "  0%|          | 0/57 [00:00<?, ?it/s]/var/folders/3c/71b8pg6d7j5dht_5h_2n4n_c0000gn/T/ipykernel_10911/1044936714.py:147: UserWarning: Implicit dimension choice for softmax has been deprecated. Change the call to include dim=X as an argument.\n",
            "  final_out = torch.nn.functional.softmax(out)\n",
            "100%|██████████| 57/57 [00:11<00:00,  4.84it/s]\n",
            "  0%|          | 0/2 [00:00<?, ?it/s]/var/folders/3c/71b8pg6d7j5dht_5h_2n4n_c0000gn/T/ipykernel_10911/1044936714.py:147: UserWarning: Implicit dimension choice for softmax has been deprecated. Change the call to include dim=X as an argument.\n",
            "  final_out = torch.nn.functional.softmax(out)\n",
            "100%|██████████| 2/2 [00:00<00:00,  4.75it/s]\n"
          ]
        },
        {
          "name": "stdout",
          "output_type": "stream",
          "text": [
            "\n",
            "epoch 12\n",
            "\ttrain_loss:0.628 valid_loss:0.739\n",
            "\ttrain_acc:74.48% valid_acc:69.68%\n",
            "\ttrain_f1:0.745 valid_f1:0.705\n",
            "\ttrain_confusion_matrix:\n",
            "[[1677  262  495]\n",
            " [ 334 1896  204]\n",
            " [ 391  176 1861]]\n",
            "\tvalid_confusion_matrix:\n",
            "[[132  41  55]\n",
            " [ 86 457  64]\n",
            " [ 69  37 220]]\n"
          ]
        },
        {
          "name": "stderr",
          "output_type": "stream",
          "text": [
            "  0%|          | 0/57 [00:00<?, ?it/s]/var/folders/3c/71b8pg6d7j5dht_5h_2n4n_c0000gn/T/ipykernel_10911/1044936714.py:147: UserWarning: Implicit dimension choice for softmax has been deprecated. Change the call to include dim=X as an argument.\n",
            "  final_out = torch.nn.functional.softmax(out)\n",
            "100%|██████████| 57/57 [00:11<00:00,  5.03it/s]\n",
            "  0%|          | 0/2 [00:00<?, ?it/s]/var/folders/3c/71b8pg6d7j5dht_5h_2n4n_c0000gn/T/ipykernel_10911/1044936714.py:147: UserWarning: Implicit dimension choice for softmax has been deprecated. Change the call to include dim=X as an argument.\n",
            "  final_out = torch.nn.functional.softmax(out)\n",
            "100%|██████████| 2/2 [00:00<00:00,  5.21it/s]\n"
          ]
        },
        {
          "name": "stdout",
          "output_type": "stream",
          "text": [
            "\n",
            "epoch 13\n",
            "\ttrain_loss:0.609 valid_loss:0.740\n",
            "\ttrain_acc:75.67% valid_acc:68.82%\n",
            "\ttrain_f1:0.757 valid_f1:0.700\n",
            "\ttrain_confusion_matrix:\n",
            "[[1744  246  440]\n",
            " [ 346 1899  189]\n",
            " [ 394  160 1878]]\n",
            "\tvalid_confusion_matrix:\n",
            "[[137  33  58]\n",
            " [103 435  69]\n",
            " [ 74  25 227]]\n"
          ]
        },
        {
          "name": "stderr",
          "output_type": "stream",
          "text": [
            "  0%|          | 0/57 [00:00<?, ?it/s]/var/folders/3c/71b8pg6d7j5dht_5h_2n4n_c0000gn/T/ipykernel_10911/1044936714.py:147: UserWarning: Implicit dimension choice for softmax has been deprecated. Change the call to include dim=X as an argument.\n",
            "  final_out = torch.nn.functional.softmax(out)\n",
            "100%|██████████| 57/57 [00:11<00:00,  4.86it/s]\n",
            "  0%|          | 0/2 [00:00<?, ?it/s]/var/folders/3c/71b8pg6d7j5dht_5h_2n4n_c0000gn/T/ipykernel_10911/1044936714.py:147: UserWarning: Implicit dimension choice for softmax has been deprecated. Change the call to include dim=X as an argument.\n",
            "  final_out = torch.nn.functional.softmax(out)\n",
            "100%|██████████| 2/2 [00:00<00:00,  5.70it/s]\n"
          ]
        },
        {
          "name": "stdout",
          "output_type": "stream",
          "text": [
            "\n",
            "epoch 14\n",
            "\ttrain_loss:0.622 valid_loss:0.752\n",
            "\ttrain_acc:75.14% valid_acc:69.16%\n",
            "\ttrain_f1:0.752 valid_f1:0.701\n",
            "\ttrain_confusion_matrix:\n",
            "[[1749  259  425]\n",
            " [ 336 1873  220]\n",
            " [ 388  186 1860]]\n",
            "\tvalid_confusion_matrix:\n",
            "[[124  32  72]\n",
            " [ 84 438  85]\n",
            " [ 61  24 241]]\n"
          ]
        },
        {
          "name": "stderr",
          "output_type": "stream",
          "text": [
            "  0%|          | 0/57 [00:00<?, ?it/s]/var/folders/3c/71b8pg6d7j5dht_5h_2n4n_c0000gn/T/ipykernel_10911/1044936714.py:147: UserWarning: Implicit dimension choice for softmax has been deprecated. Change the call to include dim=X as an argument.\n",
            "  final_out = torch.nn.functional.softmax(out)\n",
            "100%|██████████| 57/57 [00:11<00:00,  5.00it/s]\n",
            "  0%|          | 0/2 [00:00<?, ?it/s]/var/folders/3c/71b8pg6d7j5dht_5h_2n4n_c0000gn/T/ipykernel_10911/1044936714.py:147: UserWarning: Implicit dimension choice for softmax has been deprecated. Change the call to include dim=X as an argument.\n",
            "  final_out = torch.nn.functional.softmax(out)\n",
            "100%|██████████| 2/2 [00:00<00:00,  5.66it/s]\n"
          ]
        },
        {
          "name": "stdout",
          "output_type": "stream",
          "text": [
            "\n",
            "epoch 15\n",
            "\ttrain_loss:0.593 valid_loss:0.774\n",
            "\ttrain_acc:76.41% valid_acc:66.93%\n",
            "\ttrain_f1:0.765 valid_f1:0.685\n",
            "\ttrain_confusion_matrix:\n",
            "[[1770  230  433]\n",
            " [ 327 1906  199]\n",
            " [ 366  166 1899]]\n",
            "\tvalid_confusion_matrix:\n",
            "[[142  34  52]\n",
            " [108 442  57]\n",
            " [110  23 193]]\n"
          ]
        },
        {
          "name": "stderr",
          "output_type": "stream",
          "text": [
            "  0%|          | 0/57 [00:00<?, ?it/s]/var/folders/3c/71b8pg6d7j5dht_5h_2n4n_c0000gn/T/ipykernel_10911/1044936714.py:147: UserWarning: Implicit dimension choice for softmax has been deprecated. Change the call to include dim=X as an argument.\n",
            "  final_out = torch.nn.functional.softmax(out)\n",
            "100%|██████████| 57/57 [00:11<00:00,  4.94it/s]\n",
            "  0%|          | 0/2 [00:00<?, ?it/s]/var/folders/3c/71b8pg6d7j5dht_5h_2n4n_c0000gn/T/ipykernel_10911/1044936714.py:147: UserWarning: Implicit dimension choice for softmax has been deprecated. Change the call to include dim=X as an argument.\n",
            "  final_out = torch.nn.functional.softmax(out)\n",
            "100%|██████████| 2/2 [00:00<00:00,  5.99it/s]\n"
          ]
        },
        {
          "name": "stdout",
          "output_type": "stream",
          "text": [
            "\n",
            "epoch 16\n",
            "\ttrain_loss:0.564 valid_loss:0.746\n",
            "\ttrain_acc:78.14% valid_acc:69.85%\n",
            "\ttrain_f1:0.782 valid_f1:0.706\n",
            "\ttrain_confusion_matrix:\n",
            "[[1838  211  380]\n",
            " [ 327 1923  183]\n",
            " [ 326  168 1940]]\n",
            "\tvalid_confusion_matrix:\n",
            "[[127  37  64]\n",
            " [ 82 445  80]\n",
            " [ 59  28 239]]\n"
          ]
        },
        {
          "name": "stderr",
          "output_type": "stream",
          "text": [
            "  0%|          | 0/57 [00:00<?, ?it/s]/var/folders/3c/71b8pg6d7j5dht_5h_2n4n_c0000gn/T/ipykernel_10911/1044936714.py:147: UserWarning: Implicit dimension choice for softmax has been deprecated. Change the call to include dim=X as an argument.\n",
            "  final_out = torch.nn.functional.softmax(out)\n",
            "100%|██████████| 57/57 [00:12<00:00,  4.71it/s]\n",
            "  0%|          | 0/2 [00:00<?, ?it/s]/var/folders/3c/71b8pg6d7j5dht_5h_2n4n_c0000gn/T/ipykernel_10911/1044936714.py:147: UserWarning: Implicit dimension choice for softmax has been deprecated. Change the call to include dim=X as an argument.\n",
            "  final_out = torch.nn.functional.softmax(out)\n",
            "100%|██████████| 2/2 [00:00<00:00,  4.97it/s]\n"
          ]
        },
        {
          "name": "stdout",
          "output_type": "stream",
          "text": [
            "\n",
            "epoch 17\n",
            "\ttrain_loss:0.546 valid_loss:0.749\n",
            "\ttrain_acc:79.24% valid_acc:69.94%\n",
            "\ttrain_f1:0.793 valid_f1:0.707\n",
            "\ttrain_confusion_matrix:\n",
            "[[1882  205  344]\n",
            " [ 308 1936  188]\n",
            " [ 308  162 1963]]\n",
            "\tvalid_confusion_matrix:\n",
            "[[130  39  59]\n",
            " [ 78 454  75]\n",
            " [ 67  31 228]]\n"
          ]
        },
        {
          "name": "stderr",
          "output_type": "stream",
          "text": [
            "  0%|          | 0/57 [00:00<?, ?it/s]/var/folders/3c/71b8pg6d7j5dht_5h_2n4n_c0000gn/T/ipykernel_10911/1044936714.py:147: UserWarning: Implicit dimension choice for softmax has been deprecated. Change the call to include dim=X as an argument.\n",
            "  final_out = torch.nn.functional.softmax(out)\n",
            "100%|██████████| 57/57 [00:11<00:00,  4.91it/s]\n",
            "  0%|          | 0/2 [00:00<?, ?it/s]/var/folders/3c/71b8pg6d7j5dht_5h_2n4n_c0000gn/T/ipykernel_10911/1044936714.py:147: UserWarning: Implicit dimension choice for softmax has been deprecated. Change the call to include dim=X as an argument.\n",
            "  final_out = torch.nn.functional.softmax(out)\n",
            "100%|██████████| 2/2 [00:00<00:00,  5.74it/s]\n"
          ]
        },
        {
          "name": "stdout",
          "output_type": "stream",
          "text": [
            "\n",
            "epoch 18\n",
            "\ttrain_loss:0.533 valid_loss:0.746\n",
            "\ttrain_acc:79.88% valid_acc:70.20%\n",
            "\ttrain_f1:0.799 valid_f1:0.711\n",
            "\ttrain_confusion_matrix:\n",
            "[[1882  203  346]\n",
            " [ 319 1944  169]\n",
            " [ 282  149 2002]]\n",
            "\tvalid_confusion_matrix:\n",
            "[[130  36  62]\n",
            " [ 77 450  80]\n",
            " [ 67  24 235]]\n"
          ]
        },
        {
          "name": "stderr",
          "output_type": "stream",
          "text": [
            "  0%|          | 0/57 [00:00<?, ?it/s]/var/folders/3c/71b8pg6d7j5dht_5h_2n4n_c0000gn/T/ipykernel_10911/1044936714.py:147: UserWarning: Implicit dimension choice for softmax has been deprecated. Change the call to include dim=X as an argument.\n",
            "  final_out = torch.nn.functional.softmax(out)\n",
            "100%|██████████| 57/57 [00:11<00:00,  4.82it/s]\n",
            "  0%|          | 0/2 [00:00<?, ?it/s]/var/folders/3c/71b8pg6d7j5dht_5h_2n4n_c0000gn/T/ipykernel_10911/1044936714.py:147: UserWarning: Implicit dimension choice for softmax has been deprecated. Change the call to include dim=X as an argument.\n",
            "  final_out = torch.nn.functional.softmax(out)\n",
            "100%|██████████| 2/2 [00:00<00:00,  5.73it/s]\n"
          ]
        },
        {
          "name": "stdout",
          "output_type": "stream",
          "text": [
            "\n",
            "epoch 19\n",
            "\ttrain_loss:0.517 valid_loss:0.779\n",
            "\ttrain_acc:80.63% valid_acc:69.77%\n",
            "\ttrain_f1:0.807 valid_f1:0.705\n",
            "\ttrain_confusion_matrix:\n",
            "[[1912  192  326]\n",
            " [ 300 1960  173]\n",
            " [ 274  148 2011]]\n",
            "\tvalid_confusion_matrix:\n",
            "[[119  31  78]\n",
            " [ 74 441  92]\n",
            " [ 54  22 250]]\n",
            "Loading saved model from: model_task2.bin\n"
          ]
        },
        {
          "name": "stderr",
          "output_type": "stream",
          "text": [
            "  0%|          | 0/2 [00:00<?, ?it/s]/var/folders/3c/71b8pg6d7j5dht_5h_2n4n_c0000gn/T/ipykernel_10911/1044936714.py:147: UserWarning: Implicit dimension choice for softmax has been deprecated. Change the call to include dim=X as an argument.\n",
            "  final_out = torch.nn.functional.softmax(out)\n",
            "100%|██████████| 2/2 [00:00<00:00,  5.69it/s]"
          ]
        },
        {
          "name": "stdout",
          "output_type": "stream",
          "text": [
            "              precision    recall  f1-score   support\n",
            "\n",
            "     Neutral       0.46      0.57      0.51       228\n",
            "    Positive       0.86      0.76      0.80       607\n",
            "    Negative       0.64      0.68      0.66       326\n",
            "\n",
            "    accuracy                           0.70      1161\n",
            "   macro avg       0.65      0.67      0.66      1161\n",
            "weighted avg       0.72      0.70      0.71      1161\n",
            "\n"
          ]
        },
        {
          "name": "stderr",
          "output_type": "stream",
          "text": [
            "\n"
          ]
        }
      ],
      "source": [
        "import random\n",
        "lst = [0, 0.2, 0.4]\n",
        "#[0.6, 0.8, 1]\n",
        "\n",
        "for alpha_val in lst:\n",
        "    choice = [2, 4, 8]\n",
        "    upsampling = True\n",
        "\n",
        "    for window in choice:\n",
        "\n",
        "        print()\n",
        "        print(\"*\"*90)\n",
        "        print(\"Alpha Size: {}\".format(alpha_val))\n",
        "        print(\"Window Size: {}\".format(window))\n",
        "        print(\"*\"*90)\n",
        "        print()\n",
        "\n",
        "        all_aspect_clusters = []\n",
        "        for i in range(len(sentences)):\n",
        "            all_aspect_clusters.extend(chop(sentences[i], aspect_tags[i], polarity_tags[i], \n",
        "                                            window_size=window))\n",
        "        #if upsampling:\n",
        "        #    all_aspect_clusters = upsample_polarity(all_aspect_clusters)\n",
        "\n",
        "        #local_context, global_context, y = create_train_data_restaurant(all_aspect_clusters ,word_indx, sent_len=85)\n",
        "\n",
        "        #X_l_train, X_l_valid, X_g_train, X_g_valid,  y_train, y_valid = train_test_split(local_context, global_context, y, test_size=VALID_SIZE)\n",
        "\n",
        "        train_aspect_clusters, test_aspect_clusters = train_test_split(all_aspect_clusters, random_state=42, test_size=VALID_SIZE)\n",
        "        \n",
        "        if upsampling:\n",
        "            train_aspect_clusters = upsample_polarity(train_aspect_clusters)\n",
        "\n",
        "        X_l_train, X_g_train, y_train = create_train_data_restaurant(train_aspect_clusters ,word_indx, sent_len=85)\n",
        "\n",
        "        X_l_valid, X_g_valid, y_valid = create_train_data_restaurant(test_aspect_clusters ,word_indx, sent_len=85)\n",
        "\n",
        "        device = get_default_device()\n",
        "\n",
        "        NUM_EPOCHS = 20\n",
        "        TRAIN_BATCH_SIZE = 128\n",
        "        VALID_BATCH_SIZE = 1024\n",
        "\n",
        "        NUM_POLARITY_TAGS = 3\n",
        "\n",
        "        history = {\n",
        "            \"train_loss\": list(),\n",
        "            \"polarity_train_acc\": list(),\n",
        "            \"valid_loss\": list(),\n",
        "            \"polarity_valid_acc\": list(),\n",
        "        }\n",
        "\n",
        "        best_loss = np.inf\n",
        "\n",
        "        dataset = TensorDataset(torch.Tensor(X_l_train), torch.Tensor(X_g_train), torch.Tensor(y_train))\n",
        "        print(f\"train samples:{len(dataset)}\")\n",
        "        train_loader = DataLoader(dataset, batch_size=TRAIN_BATCH_SIZE, shuffle=True, drop_last=True)\n",
        "\n",
        "        dataset_valid = TensorDataset(torch.Tensor(X_l_valid),  torch.Tensor(X_g_valid), torch.Tensor(y_valid))\n",
        "        print(f\"valid samples:{len(dataset_valid)}\")\n",
        "        test_loader = DataLoader(dataset_valid, batch_size=VALID_BATCH_SIZE)\n",
        "\n",
        "        model = to_device(Model(general_embedding,  num_classes=3, alpha = alpha_val), device)\n",
        "\n",
        "        torch.cuda.empty_cache()\n",
        "\n",
        "        parameters = [p for p in model.parameters() if p.requires_grad]\n",
        "        optimizer = AdamW(parameters, lr=1e-4)\n",
        "\n",
        "\n",
        "        for epoch in range(NUM_EPOCHS):\n",
        "            train_losses = []\n",
        "            train_acc = []\n",
        "            test_loss = []\n",
        "            test_acc = []\n",
        "            train_f1 = []\n",
        "            test_f1 = []\n",
        "\n",
        "            model.train()\n",
        "            preds = []\n",
        "            masks = []\n",
        "            labels = []\n",
        "            for data in tqdm(train_loader, total=len(train_loader)):\n",
        "                for i in range(len(data)):\n",
        "                    data[i] = data[i].to(device)\n",
        "                l_feature, g_feature, label = data\n",
        "                l_feature, g_feature, label = l_feature.long(), g_feature.long(), label.long()\n",
        "\n",
        "                optimizer.zero_grad()\n",
        "                pred_logits, logits = model(l_feature, g_feature)\n",
        "                loss = loss_fn(logits, label, 3) #w/o softmax\n",
        "                loss.backward()\n",
        "                optimizer.step()\n",
        "\n",
        "                train_losses.append(loss.item())\n",
        "\n",
        "                pred_tags = pred_logits.max(-1)[1] #with softmax\n",
        "                preds.append(pred_tags)\n",
        "                labels.append(label)\n",
        "\n",
        "            avg_train_acc, avg_train_f1, train_cm = cal_acc(preds,labels)\n",
        "            avg_train_loss = sum(train_losses) / len(train_losses)\n",
        "\n",
        "            preds = []\n",
        "            masks = []\n",
        "            labels = []\n",
        "            with torch.no_grad():\n",
        "                for data in tqdm(test_loader, total=len(test_loader)):\n",
        "                    for i in range(len(data)):\n",
        "                        data[i] = data[i].to(device)\n",
        "                    l_feature, g_feature, label = data\n",
        "                    l_feature, g_feature, label = l_feature.long(), g_feature.long(), label.long()\n",
        "                    pred_logits, logits = model(l_feature, g_feature)\n",
        "                    loss = loss_fn(logits, label, 3) #w/o softmax\n",
        "\n",
        "                    test_loss.append(loss.item())\n",
        "\n",
        "                    pred_tags = pred_logits.max(-1)[1] #with softmax\n",
        "\n",
        "                    preds.append(pred_tags)\n",
        "                    labels.append(label)\n",
        "\n",
        "            avg_test_acc, avg_test_f1, test_cm = cal_acc(preds,  labels)\n",
        "            avg_test_loss = sum(test_loss) / len(test_loss)\n",
        "\n",
        "            print(f\"\\nepoch {epoch}\")\n",
        "            print(\"\\ttrain_loss:{:.3f} valid_loss:{:.3f}\".format(avg_train_loss, avg_test_loss))\n",
        "            print(\"\\ttrain_acc:{:.2%} valid_acc:{:.2%}\".format(avg_train_acc, avg_test_acc))\n",
        "            print(\"\\ttrain_f1:{:.3f} valid_f1:{:.3f}\".format(avg_train_f1, avg_test_f1))\n",
        "            print(f\"\\ttrain_confusion_matrix:\\n{train_cm}\")\n",
        "            print(f\"\\tvalid_confusion_matrix:\\n{test_cm}\")\n",
        "\n",
        "            if avg_test_loss < best_loss:\n",
        "                torch.save(model.state_dict(), MODEL_PATH)\n",
        "                best_loss = avg_test_loss    \n",
        "                \n",
        "            history['train_loss'].append(avg_train_loss)\n",
        "            history['polarity_train_acc'].append(avg_train_acc.cpu().numpy())\n",
        "            history['valid_loss'].append(avg_test_loss)\n",
        "            history['polarity_valid_acc'].append(avg_test_acc.cpu().numpy())\n",
        "\n",
        "        get_classification_report(test_loader, model, model_path=MODEL_PATH)\n",
        "                \n",
        "            \n"
      ]
    },
    {
      "cell_type": "code",
      "execution_count": 43,
      "metadata": {},
      "outputs": [
        {
          "name": "stdout",
          "output_type": "stream",
          "text": [
            "\n",
            "******************************************************************************************\n",
            "Alpha Size: 0.6\n",
            "Window Size: 2\n",
            "******************************************************************************************\n",
            "\n",
            "train samples:7311\n",
            "valid samples:1161\n"
          ]
        },
        {
          "name": "stderr",
          "output_type": "stream",
          "text": [
            "  0%|          | 0/57 [00:00<?, ?it/s]/var/folders/3c/71b8pg6d7j5dht_5h_2n4n_c0000gn/T/ipykernel_10911/1044936714.py:147: UserWarning: Implicit dimension choice for softmax has been deprecated. Change the call to include dim=X as an argument.\n",
            "  final_out = torch.nn.functional.softmax(out)\n",
            "100%|██████████| 57/57 [00:10<00:00,  5.28it/s]\n",
            "  0%|          | 0/2 [00:00<?, ?it/s]/var/folders/3c/71b8pg6d7j5dht_5h_2n4n_c0000gn/T/ipykernel_10911/1044936714.py:147: UserWarning: Implicit dimension choice for softmax has been deprecated. Change the call to include dim=X as an argument.\n",
            "  final_out = torch.nn.functional.softmax(out)\n",
            "100%|██████████| 2/2 [00:00<00:00,  6.45it/s]\n"
          ]
        },
        {
          "name": "stdout",
          "output_type": "stream",
          "text": [
            "\n",
            "epoch 0\n",
            "\ttrain_loss:1.085 valid_loss:1.068\n",
            "\ttrain_acc:45.13% valid_acc:58.14%\n",
            "\ttrain_f1:0.439 valid_f1:0.587\n",
            "\ttrain_confusion_matrix:\n",
            "[[ 698  365 1368]\n",
            " [ 420  923 1091]\n",
            " [ 460  299 1672]]\n",
            "\tvalid_confusion_matrix:\n",
            "[[ 81  51  96]\n",
            " [ 84 399 124]\n",
            " [ 56  75 195]]\n"
          ]
        },
        {
          "name": "stderr",
          "output_type": "stream",
          "text": [
            "  0%|          | 0/57 [00:00<?, ?it/s]/var/folders/3c/71b8pg6d7j5dht_5h_2n4n_c0000gn/T/ipykernel_10911/1044936714.py:147: UserWarning: Implicit dimension choice for softmax has been deprecated. Change the call to include dim=X as an argument.\n",
            "  final_out = torch.nn.functional.softmax(out)\n",
            "100%|██████████| 57/57 [00:10<00:00,  5.57it/s]\n",
            "  0%|          | 0/2 [00:00<?, ?it/s]/var/folders/3c/71b8pg6d7j5dht_5h_2n4n_c0000gn/T/ipykernel_10911/1044936714.py:147: UserWarning: Implicit dimension choice for softmax has been deprecated. Change the call to include dim=X as an argument.\n",
            "  final_out = torch.nn.functional.softmax(out)\n",
            "100%|██████████| 2/2 [00:00<00:00,  6.43it/s]\n"
          ]
        },
        {
          "name": "stdout",
          "output_type": "stream",
          "text": [
            "\n",
            "epoch 1\n",
            "\ttrain_loss:1.043 valid_loss:0.974\n",
            "\ttrain_acc:54.59% valid_acc:60.12%\n",
            "\ttrain_f1:0.536 valid_f1:0.604\n",
            "\ttrain_confusion_matrix:\n",
            "[[ 845  687  900]\n",
            " [ 269 1689  476]\n",
            " [ 417  564 1449]]\n",
            "\tvalid_confusion_matrix:\n",
            "[[ 73  52 103]\n",
            " [ 70 419 118]\n",
            " [ 54  66 206]]\n"
          ]
        },
        {
          "name": "stderr",
          "output_type": "stream",
          "text": [
            "  0%|          | 0/57 [00:00<?, ?it/s]/var/folders/3c/71b8pg6d7j5dht_5h_2n4n_c0000gn/T/ipykernel_10911/1044936714.py:147: UserWarning: Implicit dimension choice for softmax has been deprecated. Change the call to include dim=X as an argument.\n",
            "  final_out = torch.nn.functional.softmax(out)\n",
            "100%|██████████| 57/57 [00:09<00:00,  5.81it/s]\n",
            "  0%|          | 0/2 [00:00<?, ?it/s]/var/folders/3c/71b8pg6d7j5dht_5h_2n4n_c0000gn/T/ipykernel_10911/1044936714.py:147: UserWarning: Implicit dimension choice for softmax has been deprecated. Change the call to include dim=X as an argument.\n",
            "  final_out = torch.nn.functional.softmax(out)\n",
            "100%|██████████| 2/2 [00:00<00:00,  6.39it/s]\n"
          ]
        },
        {
          "name": "stdout",
          "output_type": "stream",
          "text": [
            "\n",
            "epoch 2\n",
            "\ttrain_loss:0.929 valid_loss:0.890\n",
            "\ttrain_acc:57.18% valid_acc:63.82%\n",
            "\ttrain_f1:0.556 valid_f1:0.641\n",
            "\ttrain_confusion_matrix:\n",
            "[[ 781  596 1055]\n",
            " [ 243 1793  392]\n",
            " [ 348  490 1598]]\n",
            "\tvalid_confusion_matrix:\n",
            "[[ 82  43 103]\n",
            " [ 81 431  95]\n",
            " [ 41  57 228]]\n"
          ]
        },
        {
          "name": "stderr",
          "output_type": "stream",
          "text": [
            "  0%|          | 0/57 [00:00<?, ?it/s]/var/folders/3c/71b8pg6d7j5dht_5h_2n4n_c0000gn/T/ipykernel_10911/1044936714.py:147: UserWarning: Implicit dimension choice for softmax has been deprecated. Change the call to include dim=X as an argument.\n",
            "  final_out = torch.nn.functional.softmax(out)\n",
            "100%|██████████| 57/57 [00:10<00:00,  5.43it/s]\n",
            "  0%|          | 0/2 [00:00<?, ?it/s]/var/folders/3c/71b8pg6d7j5dht_5h_2n4n_c0000gn/T/ipykernel_10911/1044936714.py:147: UserWarning: Implicit dimension choice for softmax has been deprecated. Change the call to include dim=X as an argument.\n",
            "  final_out = torch.nn.functional.softmax(out)\n",
            "100%|██████████| 2/2 [00:00<00:00,  4.71it/s]\n"
          ]
        },
        {
          "name": "stdout",
          "output_type": "stream",
          "text": [
            "\n",
            "epoch 3\n",
            "\ttrain_loss:0.868 valid_loss:0.833\n",
            "\ttrain_acc:60.21% valid_acc:65.81%\n",
            "\ttrain_f1:0.588 valid_f1:0.666\n",
            "\ttrain_confusion_matrix:\n",
            "[[ 857  559 1016]\n",
            " [ 264 1879  290]\n",
            " [ 357  417 1657]]\n",
            "\tvalid_confusion_matrix:\n",
            "[[103  45  80]\n",
            " [105 441  61]\n",
            " [ 61  45 220]]\n"
          ]
        },
        {
          "name": "stderr",
          "output_type": "stream",
          "text": [
            "  0%|          | 0/57 [00:00<?, ?it/s]/var/folders/3c/71b8pg6d7j5dht_5h_2n4n_c0000gn/T/ipykernel_10911/1044936714.py:147: UserWarning: Implicit dimension choice for softmax has been deprecated. Change the call to include dim=X as an argument.\n",
            "  final_out = torch.nn.functional.softmax(out)\n",
            "100%|██████████| 57/57 [00:10<00:00,  5.53it/s]\n",
            "  0%|          | 0/2 [00:00<?, ?it/s]/var/folders/3c/71b8pg6d7j5dht_5h_2n4n_c0000gn/T/ipykernel_10911/1044936714.py:147: UserWarning: Implicit dimension choice for softmax has been deprecated. Change the call to include dim=X as an argument.\n",
            "  final_out = torch.nn.functional.softmax(out)\n",
            "100%|██████████| 2/2 [00:00<00:00,  6.20it/s]\n"
          ]
        },
        {
          "name": "stdout",
          "output_type": "stream",
          "text": [
            "\n",
            "epoch 4\n",
            "\ttrain_loss:0.834 valid_loss:0.792\n",
            "\ttrain_acc:63.19% valid_acc:68.65%\n",
            "\ttrain_f1:0.622 valid_f1:0.693\n",
            "\ttrain_confusion_matrix:\n",
            "[[ 990  456  986]\n",
            " [ 306 1840  286]\n",
            " [ 351  301 1780]]\n",
            "\tvalid_confusion_matrix:\n",
            "[[113  43  72]\n",
            " [ 91 451  65]\n",
            " [ 52  41 233]]\n"
          ]
        },
        {
          "name": "stderr",
          "output_type": "stream",
          "text": [
            "  0%|          | 0/57 [00:00<?, ?it/s]/var/folders/3c/71b8pg6d7j5dht_5h_2n4n_c0000gn/T/ipykernel_10911/1044936714.py:147: UserWarning: Implicit dimension choice for softmax has been deprecated. Change the call to include dim=X as an argument.\n",
            "  final_out = torch.nn.functional.softmax(out)\n",
            "100%|██████████| 57/57 [00:10<00:00,  5.69it/s]\n",
            "  0%|          | 0/2 [00:00<?, ?it/s]/var/folders/3c/71b8pg6d7j5dht_5h_2n4n_c0000gn/T/ipykernel_10911/1044936714.py:147: UserWarning: Implicit dimension choice for softmax has been deprecated. Change the call to include dim=X as an argument.\n",
            "  final_out = torch.nn.functional.softmax(out)\n",
            "100%|██████████| 2/2 [00:00<00:00,  6.94it/s]\n"
          ]
        },
        {
          "name": "stdout",
          "output_type": "stream",
          "text": [
            "\n",
            "epoch 5\n",
            "\ttrain_loss:0.803 valid_loss:0.786\n",
            "\ttrain_acc:63.73% valid_acc:68.30%\n",
            "\ttrain_f1:0.634 valid_f1:0.686\n",
            "\ttrain_confusion_matrix:\n",
            "[[1167  431  834]\n",
            " [ 377 1828  225]\n",
            " [ 514  265 1655]]\n",
            "\tvalid_confusion_matrix:\n",
            "[[ 98  39  91]\n",
            " [ 81 434  92]\n",
            " [ 32  33 261]]\n"
          ]
        },
        {
          "name": "stderr",
          "output_type": "stream",
          "text": [
            "  0%|          | 0/57 [00:00<?, ?it/s]/var/folders/3c/71b8pg6d7j5dht_5h_2n4n_c0000gn/T/ipykernel_10911/1044936714.py:147: UserWarning: Implicit dimension choice for softmax has been deprecated. Change the call to include dim=X as an argument.\n",
            "  final_out = torch.nn.functional.softmax(out)\n",
            "100%|██████████| 57/57 [00:10<00:00,  5.55it/s]\n",
            "  0%|          | 0/2 [00:00<?, ?it/s]/var/folders/3c/71b8pg6d7j5dht_5h_2n4n_c0000gn/T/ipykernel_10911/1044936714.py:147: UserWarning: Implicit dimension choice for softmax has been deprecated. Change the call to include dim=X as an argument.\n",
            "  final_out = torch.nn.functional.softmax(out)\n",
            "100%|██████████| 2/2 [00:00<00:00,  6.36it/s]\n"
          ]
        },
        {
          "name": "stdout",
          "output_type": "stream",
          "text": [
            "\n",
            "epoch 6\n",
            "\ttrain_loss:0.778 valid_loss:0.748\n",
            "\ttrain_acc:65.31% valid_acc:69.60%\n",
            "\ttrain_f1:0.648 valid_f1:0.698\n",
            "\ttrain_confusion_matrix:\n",
            "[[1163  393  873]\n",
            " [ 340 1847  246]\n",
            " [ 423  256 1755]]\n",
            "\tvalid_confusion_matrix:\n",
            "[[ 99  41  88]\n",
            " [ 78 448  81]\n",
            " [ 32  33 261]]\n"
          ]
        },
        {
          "name": "stderr",
          "output_type": "stream",
          "text": [
            "  0%|          | 0/57 [00:00<?, ?it/s]/var/folders/3c/71b8pg6d7j5dht_5h_2n4n_c0000gn/T/ipykernel_10911/1044936714.py:147: UserWarning: Implicit dimension choice for softmax has been deprecated. Change the call to include dim=X as an argument.\n",
            "  final_out = torch.nn.functional.softmax(out)\n",
            "100%|██████████| 57/57 [00:10<00:00,  5.56it/s]\n",
            "  0%|          | 0/2 [00:00<?, ?it/s]/var/folders/3c/71b8pg6d7j5dht_5h_2n4n_c0000gn/T/ipykernel_10911/1044936714.py:147: UserWarning: Implicit dimension choice for softmax has been deprecated. Change the call to include dim=X as an argument.\n",
            "  final_out = torch.nn.functional.softmax(out)\n",
            "100%|██████████| 2/2 [00:00<00:00,  6.73it/s]\n"
          ]
        },
        {
          "name": "stdout",
          "output_type": "stream",
          "text": [
            "\n",
            "epoch 7\n",
            "\ttrain_loss:0.756 valid_loss:0.729\n",
            "\ttrain_acc:65.91% valid_acc:69.94%\n",
            "\ttrain_f1:0.656 valid_f1:0.700\n",
            "\ttrain_confusion_matrix:\n",
            "[[1236  391  808]\n",
            " [ 348 1844  238]\n",
            " [ 455  247 1729]]\n",
            "\tvalid_confusion_matrix:\n",
            "[[ 96  44  88]\n",
            " [ 65 460  82]\n",
            " [ 34  36 256]]\n"
          ]
        },
        {
          "name": "stderr",
          "output_type": "stream",
          "text": [
            "  0%|          | 0/57 [00:00<?, ?it/s]/var/folders/3c/71b8pg6d7j5dht_5h_2n4n_c0000gn/T/ipykernel_10911/1044936714.py:147: UserWarning: Implicit dimension choice for softmax has been deprecated. Change the call to include dim=X as an argument.\n",
            "  final_out = torch.nn.functional.softmax(out)\n",
            "100%|██████████| 57/57 [00:09<00:00,  5.74it/s]\n",
            "  0%|          | 0/2 [00:00<?, ?it/s]/var/folders/3c/71b8pg6d7j5dht_5h_2n4n_c0000gn/T/ipykernel_10911/1044936714.py:147: UserWarning: Implicit dimension choice for softmax has been deprecated. Change the call to include dim=X as an argument.\n",
            "  final_out = torch.nn.functional.softmax(out)\n",
            "100%|██████████| 2/2 [00:00<00:00,  6.73it/s]\n"
          ]
        },
        {
          "name": "stdout",
          "output_type": "stream",
          "text": [
            "\n",
            "epoch 8\n",
            "\ttrain_loss:0.736 valid_loss:0.742\n",
            "\ttrain_acc:67.23% valid_acc:69.42%\n",
            "\ttrain_f1:0.670 valid_f1:0.701\n",
            "\ttrain_confusion_matrix:\n",
            "[[1307  348  779]\n",
            " [ 359 1850  223]\n",
            " [ 444  238 1748]]\n",
            "\tvalid_confusion_matrix:\n",
            "[[116  27  85]\n",
            " [ 92 428  87]\n",
            " [ 37  27 262]]\n"
          ]
        },
        {
          "name": "stderr",
          "output_type": "stream",
          "text": [
            "  0%|          | 0/57 [00:00<?, ?it/s]/var/folders/3c/71b8pg6d7j5dht_5h_2n4n_c0000gn/T/ipykernel_10911/1044936714.py:147: UserWarning: Implicit dimension choice for softmax has been deprecated. Change the call to include dim=X as an argument.\n",
            "  final_out = torch.nn.functional.softmax(out)\n",
            "100%|██████████| 57/57 [00:09<00:00,  5.79it/s]\n",
            "  0%|          | 0/2 [00:00<?, ?it/s]/var/folders/3c/71b8pg6d7j5dht_5h_2n4n_c0000gn/T/ipykernel_10911/1044936714.py:147: UserWarning: Implicit dimension choice for softmax has been deprecated. Change the call to include dim=X as an argument.\n",
            "  final_out = torch.nn.functional.softmax(out)\n",
            "100%|██████████| 2/2 [00:00<00:00,  6.66it/s]\n"
          ]
        },
        {
          "name": "stdout",
          "output_type": "stream",
          "text": [
            "\n",
            "epoch 9\n",
            "\ttrain_loss:0.713 valid_loss:0.727\n",
            "\ttrain_acc:68.68% valid_acc:70.03%\n",
            "\ttrain_f1:0.684 valid_f1:0.706\n",
            "\ttrain_confusion_matrix:\n",
            "[[1338  337  758]\n",
            " [ 335 1869  229]\n",
            " [ 396  230 1804]]\n",
            "\tvalid_confusion_matrix:\n",
            "[[117  33  78]\n",
            " [ 86 437  84]\n",
            " [ 39  28 259]]\n"
          ]
        },
        {
          "name": "stderr",
          "output_type": "stream",
          "text": [
            "  0%|          | 0/57 [00:00<?, ?it/s]/var/folders/3c/71b8pg6d7j5dht_5h_2n4n_c0000gn/T/ipykernel_10911/1044936714.py:147: UserWarning: Implicit dimension choice for softmax has been deprecated. Change the call to include dim=X as an argument.\n",
            "  final_out = torch.nn.functional.softmax(out)\n",
            "100%|██████████| 57/57 [00:09<00:00,  5.77it/s]\n",
            "  0%|          | 0/2 [00:00<?, ?it/s]/var/folders/3c/71b8pg6d7j5dht_5h_2n4n_c0000gn/T/ipykernel_10911/1044936714.py:147: UserWarning: Implicit dimension choice for softmax has been deprecated. Change the call to include dim=X as an argument.\n",
            "  final_out = torch.nn.functional.softmax(out)\n",
            "100%|██████████| 2/2 [00:00<00:00,  5.61it/s]\n"
          ]
        },
        {
          "name": "stdout",
          "output_type": "stream",
          "text": [
            "\n",
            "epoch 10\n",
            "\ttrain_loss:0.695 valid_loss:0.723\n",
            "\ttrain_acc:70.01% valid_acc:69.42%\n",
            "\ttrain_f1:0.699 valid_f1:0.704\n",
            "\ttrain_confusion_matrix:\n",
            "[[1403  292  735]\n",
            " [ 332 1875  226]\n",
            " [ 392  211 1830]]\n",
            "\tvalid_confusion_matrix:\n",
            "[[123  31  74]\n",
            " [104 439  64]\n",
            " [ 56  26 244]]\n"
          ]
        },
        {
          "name": "stderr",
          "output_type": "stream",
          "text": [
            "  0%|          | 0/57 [00:00<?, ?it/s]/var/folders/3c/71b8pg6d7j5dht_5h_2n4n_c0000gn/T/ipykernel_10911/1044936714.py:147: UserWarning: Implicit dimension choice for softmax has been deprecated. Change the call to include dim=X as an argument.\n",
            "  final_out = torch.nn.functional.softmax(out)\n",
            "100%|██████████| 57/57 [00:10<00:00,  5.68it/s]\n",
            "  0%|          | 0/2 [00:00<?, ?it/s]/var/folders/3c/71b8pg6d7j5dht_5h_2n4n_c0000gn/T/ipykernel_10911/1044936714.py:147: UserWarning: Implicit dimension choice for softmax has been deprecated. Change the call to include dim=X as an argument.\n",
            "  final_out = torch.nn.functional.softmax(out)\n",
            "100%|██████████| 2/2 [00:00<00:00,  6.75it/s]\n"
          ]
        },
        {
          "name": "stdout",
          "output_type": "stream",
          "text": [
            "\n",
            "epoch 11\n",
            "\ttrain_loss:0.674 valid_loss:0.697\n",
            "\ttrain_acc:71.33% valid_acc:71.15%\n",
            "\ttrain_f1:0.712 valid_f1:0.714\n",
            "\ttrain_confusion_matrix:\n",
            "[[1447  276  707]\n",
            " [ 322 1890  220]\n",
            " [ 374  193 1867]]\n",
            "\tvalid_confusion_matrix:\n",
            "[[108  44  76]\n",
            " [ 69 470  68]\n",
            " [ 42  36 248]]\n"
          ]
        },
        {
          "name": "stderr",
          "output_type": "stream",
          "text": [
            "  0%|          | 0/57 [00:00<?, ?it/s]/var/folders/3c/71b8pg6d7j5dht_5h_2n4n_c0000gn/T/ipykernel_10911/1044936714.py:147: UserWarning: Implicit dimension choice for softmax has been deprecated. Change the call to include dim=X as an argument.\n",
            "  final_out = torch.nn.functional.softmax(out)\n",
            "100%|██████████| 57/57 [00:10<00:00,  5.64it/s]\n",
            "  0%|          | 0/2 [00:00<?, ?it/s]/var/folders/3c/71b8pg6d7j5dht_5h_2n4n_c0000gn/T/ipykernel_10911/1044936714.py:147: UserWarning: Implicit dimension choice for softmax has been deprecated. Change the call to include dim=X as an argument.\n",
            "  final_out = torch.nn.functional.softmax(out)\n",
            "100%|██████████| 2/2 [00:00<00:00,  6.59it/s]\n"
          ]
        },
        {
          "name": "stdout",
          "output_type": "stream",
          "text": [
            "\n",
            "epoch 12\n",
            "\ttrain_loss:0.657 valid_loss:0.713\n",
            "\ttrain_acc:72.52% valid_acc:69.68%\n",
            "\ttrain_f1:0.724 valid_f1:0.705\n",
            "\ttrain_confusion_matrix:\n",
            "[[1486  272  674]\n",
            " [ 311 1908  214]\n",
            " [ 351  183 1897]]\n",
            "\tvalid_confusion_matrix:\n",
            "[[120  31  77]\n",
            " [ 91 439  77]\n",
            " [ 52  24 250]]\n"
          ]
        },
        {
          "name": "stderr",
          "output_type": "stream",
          "text": [
            "  0%|          | 0/57 [00:00<?, ?it/s]/var/folders/3c/71b8pg6d7j5dht_5h_2n4n_c0000gn/T/ipykernel_10911/1044936714.py:147: UserWarning: Implicit dimension choice for softmax has been deprecated. Change the call to include dim=X as an argument.\n",
            "  final_out = torch.nn.functional.softmax(out)\n",
            "100%|██████████| 57/57 [00:10<00:00,  5.31it/s]\n",
            "  0%|          | 0/2 [00:00<?, ?it/s]/var/folders/3c/71b8pg6d7j5dht_5h_2n4n_c0000gn/T/ipykernel_10911/1044936714.py:147: UserWarning: Implicit dimension choice for softmax has been deprecated. Change the call to include dim=X as an argument.\n",
            "  final_out = torch.nn.functional.softmax(out)\n",
            "100%|██████████| 2/2 [00:00<00:00,  4.88it/s]\n"
          ]
        },
        {
          "name": "stdout",
          "output_type": "stream",
          "text": [
            "\n",
            "epoch 13\n",
            "\ttrain_loss:0.640 valid_loss:0.703\n",
            "\ttrain_acc:73.42% valid_acc:69.85%\n",
            "\ttrain_f1:0.733 valid_f1:0.704\n",
            "\ttrain_confusion_matrix:\n",
            "[[1524  269  636]\n",
            " [ 323 1900  209]\n",
            " [ 321  181 1933]]\n",
            "\tvalid_confusion_matrix:\n",
            "[[110  43  75]\n",
            " [ 80 460  67]\n",
            " [ 53  32 241]]\n"
          ]
        },
        {
          "name": "stderr",
          "output_type": "stream",
          "text": [
            "  0%|          | 0/57 [00:00<?, ?it/s]/var/folders/3c/71b8pg6d7j5dht_5h_2n4n_c0000gn/T/ipykernel_10911/1044936714.py:147: UserWarning: Implicit dimension choice for softmax has been deprecated. Change the call to include dim=X as an argument.\n",
            "  final_out = torch.nn.functional.softmax(out)\n",
            "100%|██████████| 57/57 [00:11<00:00,  4.94it/s]\n",
            "  0%|          | 0/2 [00:00<?, ?it/s]/var/folders/3c/71b8pg6d7j5dht_5h_2n4n_c0000gn/T/ipykernel_10911/1044936714.py:147: UserWarning: Implicit dimension choice for softmax has been deprecated. Change the call to include dim=X as an argument.\n",
            "  final_out = torch.nn.functional.softmax(out)\n",
            "100%|██████████| 2/2 [00:00<00:00,  5.21it/s]\n"
          ]
        },
        {
          "name": "stdout",
          "output_type": "stream",
          "text": [
            "\n",
            "epoch 14\n",
            "\ttrain_loss:0.616 valid_loss:0.688\n",
            "\ttrain_acc:75.03% valid_acc:71.58%\n",
            "\ttrain_f1:0.749 valid_f1:0.712\n",
            "\ttrain_confusion_matrix:\n",
            "[[1578  253  599]\n",
            " [ 294 1927  209]\n",
            " [ 312  155 1969]]\n",
            "\tvalid_confusion_matrix:\n",
            "[[ 94  54  80]\n",
            " [ 46 480  81]\n",
            " [ 33  36 257]]\n"
          ]
        },
        {
          "name": "stderr",
          "output_type": "stream",
          "text": [
            "  0%|          | 0/57 [00:00<?, ?it/s]/var/folders/3c/71b8pg6d7j5dht_5h_2n4n_c0000gn/T/ipykernel_10911/1044936714.py:147: UserWarning: Implicit dimension choice for softmax has been deprecated. Change the call to include dim=X as an argument.\n",
            "  final_out = torch.nn.functional.softmax(out)\n",
            "100%|██████████| 57/57 [00:10<00:00,  5.19it/s]\n",
            "  0%|          | 0/2 [00:00<?, ?it/s]/var/folders/3c/71b8pg6d7j5dht_5h_2n4n_c0000gn/T/ipykernel_10911/1044936714.py:147: UserWarning: Implicit dimension choice for softmax has been deprecated. Change the call to include dim=X as an argument.\n",
            "  final_out = torch.nn.functional.softmax(out)\n",
            "100%|██████████| 2/2 [00:00<00:00,  5.28it/s]\n"
          ]
        },
        {
          "name": "stdout",
          "output_type": "stream",
          "text": [
            "\n",
            "epoch 15\n",
            "\ttrain_loss:0.599 valid_loss:0.727\n",
            "\ttrain_acc:75.73% valid_acc:68.91%\n",
            "\ttrain_f1:0.756 valid_f1:0.698\n",
            "\ttrain_confusion_matrix:\n",
            "[[1618  247  565]\n",
            " [ 295 1943  195]\n",
            " [ 285  184 1964]]\n",
            "\tvalid_confusion_matrix:\n",
            "[[115  32  81]\n",
            " [ 94 435  78]\n",
            " [ 53  23 250]]\n"
          ]
        },
        {
          "name": "stderr",
          "output_type": "stream",
          "text": [
            "  0%|          | 0/57 [00:00<?, ?it/s]/var/folders/3c/71b8pg6d7j5dht_5h_2n4n_c0000gn/T/ipykernel_10911/1044936714.py:147: UserWarning: Implicit dimension choice for softmax has been deprecated. Change the call to include dim=X as an argument.\n",
            "  final_out = torch.nn.functional.softmax(out)\n",
            "100%|██████████| 57/57 [00:10<00:00,  5.58it/s]\n",
            "  0%|          | 0/2 [00:00<?, ?it/s]/var/folders/3c/71b8pg6d7j5dht_5h_2n4n_c0000gn/T/ipykernel_10911/1044936714.py:147: UserWarning: Implicit dimension choice for softmax has been deprecated. Change the call to include dim=X as an argument.\n",
            "  final_out = torch.nn.functional.softmax(out)\n",
            "100%|██████████| 2/2 [00:00<00:00,  5.88it/s]\n"
          ]
        },
        {
          "name": "stdout",
          "output_type": "stream",
          "text": [
            "\n",
            "epoch 16\n",
            "\ttrain_loss:0.582 valid_loss:0.722\n",
            "\ttrain_acc:76.92% valid_acc:69.51%\n",
            "\ttrain_f1:0.769 valid_f1:0.699\n",
            "\ttrain_confusion_matrix:\n",
            "[[1660  209  559]\n",
            " [ 283 1955  195]\n",
            " [ 287  151 1997]]\n",
            "\tvalid_confusion_matrix:\n",
            "[[115  53  60]\n",
            " [ 70 479  58]\n",
            " [ 69  44 213]]\n"
          ]
        },
        {
          "name": "stderr",
          "output_type": "stream",
          "text": [
            "  0%|          | 0/57 [00:00<?, ?it/s]/var/folders/3c/71b8pg6d7j5dht_5h_2n4n_c0000gn/T/ipykernel_10911/1044936714.py:147: UserWarning: Implicit dimension choice for softmax has been deprecated. Change the call to include dim=X as an argument.\n",
            "  final_out = torch.nn.functional.softmax(out)\n",
            "100%|██████████| 57/57 [00:10<00:00,  5.32it/s]\n",
            "  0%|          | 0/2 [00:00<?, ?it/s]/var/folders/3c/71b8pg6d7j5dht_5h_2n4n_c0000gn/T/ipykernel_10911/1044936714.py:147: UserWarning: Implicit dimension choice for softmax has been deprecated. Change the call to include dim=X as an argument.\n",
            "  final_out = torch.nn.functional.softmax(out)\n",
            "100%|██████████| 2/2 [00:00<00:00,  5.53it/s]\n"
          ]
        },
        {
          "name": "stdout",
          "output_type": "stream",
          "text": [
            "\n",
            "epoch 17\n",
            "\ttrain_loss:0.565 valid_loss:0.704\n",
            "\ttrain_acc:77.59% valid_acc:70.54%\n",
            "\ttrain_f1:0.776 valid_f1:0.709\n",
            "\ttrain_confusion_matrix:\n",
            "[[1722  233  476]\n",
            " [ 286 1964  180]\n",
            " [ 299  161 1975]]\n",
            "\tvalid_confusion_matrix:\n",
            "[[114  48  66]\n",
            " [ 66 476  65]\n",
            " [ 59  38 229]]\n"
          ]
        },
        {
          "name": "stderr",
          "output_type": "stream",
          "text": [
            "  0%|          | 0/57 [00:00<?, ?it/s]/var/folders/3c/71b8pg6d7j5dht_5h_2n4n_c0000gn/T/ipykernel_10911/1044936714.py:147: UserWarning: Implicit dimension choice for softmax has been deprecated. Change the call to include dim=X as an argument.\n",
            "  final_out = torch.nn.functional.softmax(out)\n",
            "100%|██████████| 57/57 [00:10<00:00,  5.49it/s]\n",
            "  0%|          | 0/2 [00:00<?, ?it/s]/var/folders/3c/71b8pg6d7j5dht_5h_2n4n_c0000gn/T/ipykernel_10911/1044936714.py:147: UserWarning: Implicit dimension choice for softmax has been deprecated. Change the call to include dim=X as an argument.\n",
            "  final_out = torch.nn.functional.softmax(out)\n",
            "100%|██████████| 2/2 [00:00<00:00,  6.79it/s]\n"
          ]
        },
        {
          "name": "stdout",
          "output_type": "stream",
          "text": [
            "\n",
            "epoch 18\n",
            "\ttrain_loss:0.543 valid_loss:0.730\n",
            "\ttrain_acc:79.03% valid_acc:69.42%\n",
            "\ttrain_f1:0.790 valid_f1:0.702\n",
            "\ttrain_confusion_matrix:\n",
            "[[1757  209  466]\n",
            " [ 265 1982  183]\n",
            " [ 265  142 2027]]\n",
            "\tvalid_confusion_matrix:\n",
            "[[123  44  61]\n",
            " [ 88 464  55]\n",
            " [ 70  37 219]]\n"
          ]
        },
        {
          "name": "stderr",
          "output_type": "stream",
          "text": [
            "  0%|          | 0/57 [00:00<?, ?it/s]/var/folders/3c/71b8pg6d7j5dht_5h_2n4n_c0000gn/T/ipykernel_10911/1044936714.py:147: UserWarning: Implicit dimension choice for softmax has been deprecated. Change the call to include dim=X as an argument.\n",
            "  final_out = torch.nn.functional.softmax(out)\n",
            "100%|██████████| 57/57 [00:10<00:00,  5.33it/s]\n",
            "  0%|          | 0/2 [00:00<?, ?it/s]/var/folders/3c/71b8pg6d7j5dht_5h_2n4n_c0000gn/T/ipykernel_10911/1044936714.py:147: UserWarning: Implicit dimension choice for softmax has been deprecated. Change the call to include dim=X as an argument.\n",
            "  final_out = torch.nn.functional.softmax(out)\n",
            "100%|██████████| 2/2 [00:00<00:00,  6.81it/s]\n"
          ]
        },
        {
          "name": "stdout",
          "output_type": "stream",
          "text": [
            "\n",
            "epoch 19\n",
            "\ttrain_loss:0.525 valid_loss:0.717\n",
            "\ttrain_acc:79.74% valid_acc:69.85%\n",
            "\ttrain_f1:0.797 valid_f1:0.703\n",
            "\ttrain_confusion_matrix:\n",
            "[[1795  195  441]\n",
            " [ 255 2001  175]\n",
            " [ 276  136 2022]]\n",
            "\tvalid_confusion_matrix:\n",
            "[[113  47  68]\n",
            " [ 73 457  77]\n",
            " [ 52  33 241]]\n",
            "Loading saved model from: model_task2.bin\n"
          ]
        },
        {
          "name": "stderr",
          "output_type": "stream",
          "text": [
            "  0%|          | 0/2 [00:00<?, ?it/s]/var/folders/3c/71b8pg6d7j5dht_5h_2n4n_c0000gn/T/ipykernel_10911/1044936714.py:147: UserWarning: Implicit dimension choice for softmax has been deprecated. Change the call to include dim=X as an argument.\n",
            "  final_out = torch.nn.functional.softmax(out)\n",
            "100%|██████████| 2/2 [00:00<00:00,  7.51it/s]\n"
          ]
        },
        {
          "name": "stdout",
          "output_type": "stream",
          "text": [
            "              precision    recall  f1-score   support\n",
            "\n",
            "     Neutral       0.53      0.39      0.45       228\n",
            "    Positive       0.84      0.79      0.81       607\n",
            "    Negative       0.61      0.79      0.69       326\n",
            "\n",
            "    accuracy                           0.71      1161\n",
            "   macro avg       0.66      0.66      0.65      1161\n",
            "weighted avg       0.71      0.71      0.71      1161\n",
            "\n",
            "\n",
            "******************************************************************************************\n",
            "Alpha Size: 0.6\n",
            "Window Size: 4\n",
            "******************************************************************************************\n",
            "\n",
            "train samples:7311\n",
            "valid samples:1161\n"
          ]
        },
        {
          "name": "stderr",
          "output_type": "stream",
          "text": [
            "  0%|          | 0/57 [00:00<?, ?it/s]/var/folders/3c/71b8pg6d7j5dht_5h_2n4n_c0000gn/T/ipykernel_10911/1044936714.py:147: UserWarning: Implicit dimension choice for softmax has been deprecated. Change the call to include dim=X as an argument.\n",
            "  final_out = torch.nn.functional.softmax(out)\n",
            "100%|██████████| 57/57 [00:10<00:00,  5.37it/s]\n",
            "  0%|          | 0/2 [00:00<?, ?it/s]/var/folders/3c/71b8pg6d7j5dht_5h_2n4n_c0000gn/T/ipykernel_10911/1044936714.py:147: UserWarning: Implicit dimension choice for softmax has been deprecated. Change the call to include dim=X as an argument.\n",
            "  final_out = torch.nn.functional.softmax(out)\n",
            "100%|██████████| 2/2 [00:00<00:00,  6.33it/s]\n"
          ]
        },
        {
          "name": "stdout",
          "output_type": "stream",
          "text": [
            "\n",
            "epoch 0\n",
            "\ttrain_loss:1.088 valid_loss:1.076\n",
            "\ttrain_acc:43.67% valid_acc:51.77%\n",
            "\ttrain_f1:0.420 valid_f1:0.537\n",
            "\ttrain_confusion_matrix:\n",
            "[[1606  493  334]\n",
            " [1133 1039  258]\n",
            " [1415  477  541]]\n",
            "\tvalid_confusion_matrix:\n",
            "[[112  38  78]\n",
            " [169 328 110]\n",
            " [100  65 161]]\n"
          ]
        },
        {
          "name": "stderr",
          "output_type": "stream",
          "text": [
            "  0%|          | 0/57 [00:00<?, ?it/s]/var/folders/3c/71b8pg6d7j5dht_5h_2n4n_c0000gn/T/ipykernel_10911/1044936714.py:147: UserWarning: Implicit dimension choice for softmax has been deprecated. Change the call to include dim=X as an argument.\n",
            "  final_out = torch.nn.functional.softmax(out)\n",
            "100%|██████████| 57/57 [00:11<00:00,  5.16it/s]\n",
            "  0%|          | 0/2 [00:00<?, ?it/s]/var/folders/3c/71b8pg6d7j5dht_5h_2n4n_c0000gn/T/ipykernel_10911/1044936714.py:147: UserWarning: Implicit dimension choice for softmax has been deprecated. Change the call to include dim=X as an argument.\n",
            "  final_out = torch.nn.functional.softmax(out)\n",
            "100%|██████████| 2/2 [00:00<00:00,  5.83it/s]\n"
          ]
        },
        {
          "name": "stdout",
          "output_type": "stream",
          "text": [
            "\n",
            "epoch 1\n",
            "\ttrain_loss:1.044 valid_loss:0.973\n",
            "\ttrain_acc:54.66% valid_acc:60.72%\n",
            "\ttrain_f1:0.536 valid_f1:0.595\n",
            "\ttrain_confusion_matrix:\n",
            "[[ 819  668  944]\n",
            " [ 303 1600  530]\n",
            " [ 366  497 1569]]\n",
            "\tvalid_confusion_matrix:\n",
            "[[ 44  52 132]\n",
            " [ 39 419 149]\n",
            " [ 17  67 242]]\n"
          ]
        },
        {
          "name": "stderr",
          "output_type": "stream",
          "text": [
            "  0%|          | 0/57 [00:00<?, ?it/s]/var/folders/3c/71b8pg6d7j5dht_5h_2n4n_c0000gn/T/ipykernel_10911/1044936714.py:147: UserWarning: Implicit dimension choice for softmax has been deprecated. Change the call to include dim=X as an argument.\n",
            "  final_out = torch.nn.functional.softmax(out)\n",
            "100%|██████████| 57/57 [00:10<00:00,  5.28it/s]\n",
            "  0%|          | 0/2 [00:00<?, ?it/s]/var/folders/3c/71b8pg6d7j5dht_5h_2n4n_c0000gn/T/ipykernel_10911/1044936714.py:147: UserWarning: Implicit dimension choice for softmax has been deprecated. Change the call to include dim=X as an argument.\n",
            "  final_out = torch.nn.functional.softmax(out)\n",
            "100%|██████████| 2/2 [00:00<00:00,  5.83it/s]\n"
          ]
        },
        {
          "name": "stdout",
          "output_type": "stream",
          "text": [
            "\n",
            "epoch 2\n",
            "\ttrain_loss:0.922 valid_loss:0.851\n",
            "\ttrain_acc:56.78% valid_acc:63.91%\n",
            "\ttrain_f1:0.543 valid_f1:0.641\n",
            "\ttrain_confusion_matrix:\n",
            "[[ 628  683 1123]\n",
            " [ 227 1773  431]\n",
            " [ 243  446 1742]]\n",
            "\tvalid_confusion_matrix:\n",
            "[[ 70  49 109]\n",
            " [ 87 450  70]\n",
            " [ 52  52 222]]\n"
          ]
        },
        {
          "name": "stderr",
          "output_type": "stream",
          "text": [
            "  0%|          | 0/57 [00:00<?, ?it/s]/var/folders/3c/71b8pg6d7j5dht_5h_2n4n_c0000gn/T/ipykernel_10911/1044936714.py:147: UserWarning: Implicit dimension choice for softmax has been deprecated. Change the call to include dim=X as an argument.\n",
            "  final_out = torch.nn.functional.softmax(out)\n",
            "100%|██████████| 57/57 [00:11<00:00,  5.16it/s]\n",
            "  0%|          | 0/2 [00:00<?, ?it/s]/var/folders/3c/71b8pg6d7j5dht_5h_2n4n_c0000gn/T/ipykernel_10911/1044936714.py:147: UserWarning: Implicit dimension choice for softmax has been deprecated. Change the call to include dim=X as an argument.\n",
            "  final_out = torch.nn.functional.softmax(out)\n",
            "100%|██████████| 2/2 [00:00<00:00,  5.94it/s]\n"
          ]
        },
        {
          "name": "stdout",
          "output_type": "stream",
          "text": [
            "\n",
            "epoch 3\n",
            "\ttrain_loss:0.848 valid_loss:0.816\n",
            "\ttrain_acc:61.66% valid_acc:67.36%\n",
            "\ttrain_f1:0.604 valid_f1:0.678\n",
            "\ttrain_confusion_matrix:\n",
            "[[ 900  591  941]\n",
            " [ 327 1841  263]\n",
            " [ 390  285 1758]]\n",
            "\tvalid_confusion_matrix:\n",
            "[[ 91  43  94]\n",
            " [ 83 453  71]\n",
            " [ 52  36 238]]\n"
          ]
        },
        {
          "name": "stderr",
          "output_type": "stream",
          "text": [
            "  0%|          | 0/57 [00:00<?, ?it/s]/var/folders/3c/71b8pg6d7j5dht_5h_2n4n_c0000gn/T/ipykernel_10911/1044936714.py:147: UserWarning: Implicit dimension choice for softmax has been deprecated. Change the call to include dim=X as an argument.\n",
            "  final_out = torch.nn.functional.softmax(out)\n",
            "100%|██████████| 57/57 [00:10<00:00,  5.47it/s]\n",
            "  0%|          | 0/2 [00:00<?, ?it/s]/var/folders/3c/71b8pg6d7j5dht_5h_2n4n_c0000gn/T/ipykernel_10911/1044936714.py:147: UserWarning: Implicit dimension choice for softmax has been deprecated. Change the call to include dim=X as an argument.\n",
            "  final_out = torch.nn.functional.softmax(out)\n",
            "100%|██████████| 2/2 [00:00<00:00,  5.27it/s]\n"
          ]
        },
        {
          "name": "stdout",
          "output_type": "stream",
          "text": [
            "\n",
            "epoch 4\n",
            "\ttrain_loss:0.803 valid_loss:0.780\n",
            "\ttrain_acc:64.35% valid_acc:68.48%\n",
            "\ttrain_f1:0.637 valid_f1:0.689\n",
            "\ttrain_confusion_matrix:\n",
            "[[1112  526  793]\n",
            " [ 380 1841  212]\n",
            " [ 462  228 1742]]\n",
            "\tvalid_confusion_matrix:\n",
            "[[ 96  34  98]\n",
            " [ 86 438  83]\n",
            " [ 38  27 261]]\n"
          ]
        },
        {
          "name": "stderr",
          "output_type": "stream",
          "text": [
            "  0%|          | 0/57 [00:00<?, ?it/s]/var/folders/3c/71b8pg6d7j5dht_5h_2n4n_c0000gn/T/ipykernel_10911/1044936714.py:147: UserWarning: Implicit dimension choice for softmax has been deprecated. Change the call to include dim=X as an argument.\n",
            "  final_out = torch.nn.functional.softmax(out)\n",
            "100%|██████████| 57/57 [00:11<00:00,  5.10it/s]\n",
            "  0%|          | 0/2 [00:00<?, ?it/s]/var/folders/3c/71b8pg6d7j5dht_5h_2n4n_c0000gn/T/ipykernel_10911/1044936714.py:147: UserWarning: Implicit dimension choice for softmax has been deprecated. Change the call to include dim=X as an argument.\n",
            "  final_out = torch.nn.functional.softmax(out)\n",
            "100%|██████████| 2/2 [00:00<00:00,  5.64it/s]\n"
          ]
        },
        {
          "name": "stdout",
          "output_type": "stream",
          "text": [
            "\n",
            "epoch 5\n",
            "\ttrain_loss:0.769 valid_loss:0.764\n",
            "\ttrain_acc:65.80% valid_acc:68.56%\n",
            "\ttrain_f1:0.655 valid_f1:0.697\n",
            "\ttrain_confusion_matrix:\n",
            "[[1245  448  740]\n",
            " [ 404 1824  203]\n",
            " [ 475  225 1732]]\n",
            "\tvalid_confusion_matrix:\n",
            "[[122  34  72]\n",
            " [102 451  54]\n",
            " [ 71  32 223]]\n"
          ]
        },
        {
          "name": "stderr",
          "output_type": "stream",
          "text": [
            "  0%|          | 0/57 [00:00<?, ?it/s]/var/folders/3c/71b8pg6d7j5dht_5h_2n4n_c0000gn/T/ipykernel_10911/1044936714.py:147: UserWarning: Implicit dimension choice for softmax has been deprecated. Change the call to include dim=X as an argument.\n",
            "  final_out = torch.nn.functional.softmax(out)\n",
            "100%|██████████| 57/57 [00:10<00:00,  5.34it/s]\n",
            "  0%|          | 0/2 [00:00<?, ?it/s]/var/folders/3c/71b8pg6d7j5dht_5h_2n4n_c0000gn/T/ipykernel_10911/1044936714.py:147: UserWarning: Implicit dimension choice for softmax has been deprecated. Change the call to include dim=X as an argument.\n",
            "  final_out = torch.nn.functional.softmax(out)\n",
            "100%|██████████| 2/2 [00:00<00:00,  5.61it/s]\n"
          ]
        },
        {
          "name": "stdout",
          "output_type": "stream",
          "text": [
            "\n",
            "epoch 6\n",
            "\ttrain_loss:0.754 valid_loss:0.739\n",
            "\ttrain_acc:66.80% valid_acc:68.48%\n",
            "\ttrain_f1:0.666 valid_f1:0.691\n",
            "\ttrain_confusion_matrix:\n",
            "[[1319  397  717]\n",
            " [ 411 1812  206]\n",
            " [ 489  202 1743]]\n",
            "\tvalid_confusion_matrix:\n",
            "[[109  48  71]\n",
            " [ 81 470  56]\n",
            " [ 68  42 216]]\n"
          ]
        },
        {
          "name": "stderr",
          "output_type": "stream",
          "text": [
            "  0%|          | 0/57 [00:00<?, ?it/s]/var/folders/3c/71b8pg6d7j5dht_5h_2n4n_c0000gn/T/ipykernel_10911/1044936714.py:147: UserWarning: Implicit dimension choice for softmax has been deprecated. Change the call to include dim=X as an argument.\n",
            "  final_out = torch.nn.functional.softmax(out)\n",
            "100%|██████████| 57/57 [00:10<00:00,  5.42it/s]\n",
            "  0%|          | 0/2 [00:00<?, ?it/s]/var/folders/3c/71b8pg6d7j5dht_5h_2n4n_c0000gn/T/ipykernel_10911/1044936714.py:147: UserWarning: Implicit dimension choice for softmax has been deprecated. Change the call to include dim=X as an argument.\n",
            "  final_out = torch.nn.functional.softmax(out)\n",
            "100%|██████████| 2/2 [00:00<00:00,  5.72it/s]\n"
          ]
        },
        {
          "name": "stdout",
          "output_type": "stream",
          "text": [
            "\n",
            "epoch 7\n",
            "\ttrain_loss:0.733 valid_loss:0.737\n",
            "\ttrain_acc:67.97% valid_acc:70.28%\n",
            "\ttrain_f1:0.678 valid_f1:0.705\n",
            "\ttrain_confusion_matrix:\n",
            "[[1356  392  684]\n",
            " [ 387 1854  192]\n",
            " [ 483  199 1749]]\n",
            "\tvalid_confusion_matrix:\n",
            "[[106  46  76]\n",
            " [ 68 467  72]\n",
            " [ 47  36 243]]\n"
          ]
        },
        {
          "name": "stderr",
          "output_type": "stream",
          "text": [
            "  0%|          | 0/57 [00:00<?, ?it/s]/var/folders/3c/71b8pg6d7j5dht_5h_2n4n_c0000gn/T/ipykernel_10911/1044936714.py:147: UserWarning: Implicit dimension choice for softmax has been deprecated. Change the call to include dim=X as an argument.\n",
            "  final_out = torch.nn.functional.softmax(out)\n",
            "100%|██████████| 57/57 [00:10<00:00,  5.47it/s]\n",
            "  0%|          | 0/2 [00:00<?, ?it/s]/var/folders/3c/71b8pg6d7j5dht_5h_2n4n_c0000gn/T/ipykernel_10911/1044936714.py:147: UserWarning: Implicit dimension choice for softmax has been deprecated. Change the call to include dim=X as an argument.\n",
            "  final_out = torch.nn.functional.softmax(out)\n",
            "100%|██████████| 2/2 [00:00<00:00,  6.44it/s]\n"
          ]
        },
        {
          "name": "stdout",
          "output_type": "stream",
          "text": [
            "\n",
            "epoch 8\n",
            "\ttrain_loss:0.729 valid_loss:0.740\n",
            "\ttrain_acc:68.70% valid_acc:69.51%\n",
            "\ttrain_f1:0.686 valid_f1:0.701\n",
            "\ttrain_confusion_matrix:\n",
            "[[1373  335  725]\n",
            " [ 380 1809  242]\n",
            " [ 424  178 1830]]\n",
            "\tvalid_confusion_matrix:\n",
            "[[115  37  76]\n",
            " [ 80 459  68]\n",
            " [ 55  38 233]]\n"
          ]
        },
        {
          "name": "stderr",
          "output_type": "stream",
          "text": [
            "  0%|          | 0/57 [00:00<?, ?it/s]/var/folders/3c/71b8pg6d7j5dht_5h_2n4n_c0000gn/T/ipykernel_10911/1044936714.py:147: UserWarning: Implicit dimension choice for softmax has been deprecated. Change the call to include dim=X as an argument.\n",
            "  final_out = torch.nn.functional.softmax(out)\n",
            "100%|██████████| 57/57 [00:10<00:00,  5.40it/s]\n",
            "  0%|          | 0/2 [00:00<?, ?it/s]/var/folders/3c/71b8pg6d7j5dht_5h_2n4n_c0000gn/T/ipykernel_10911/1044936714.py:147: UserWarning: Implicit dimension choice for softmax has been deprecated. Change the call to include dim=X as an argument.\n",
            "  final_out = torch.nn.functional.softmax(out)\n",
            "100%|██████████| 2/2 [00:00<00:00,  6.54it/s]\n"
          ]
        },
        {
          "name": "stdout",
          "output_type": "stream",
          "text": [
            "\n",
            "epoch 9\n",
            "\ttrain_loss:0.729 valid_loss:0.732\n",
            "\ttrain_acc:69.05% valid_acc:69.08%\n",
            "\ttrain_f1:0.688 valid_f1:0.693\n",
            "\ttrain_confusion_matrix:\n",
            "[[1360  344  730]\n",
            " [ 344 1813  274]\n",
            " [ 388  178 1865]]\n",
            "\tvalid_confusion_matrix:\n",
            "[[102  48  78]\n",
            " [ 63 481  63]\n",
            " [ 61  46 219]]\n"
          ]
        },
        {
          "name": "stderr",
          "output_type": "stream",
          "text": [
            "  0%|          | 0/57 [00:00<?, ?it/s]/var/folders/3c/71b8pg6d7j5dht_5h_2n4n_c0000gn/T/ipykernel_10911/1044936714.py:147: UserWarning: Implicit dimension choice for softmax has been deprecated. Change the call to include dim=X as an argument.\n",
            "  final_out = torch.nn.functional.softmax(out)\n",
            "100%|██████████| 57/57 [00:10<00:00,  5.33it/s]\n",
            "  0%|          | 0/2 [00:00<?, ?it/s]/var/folders/3c/71b8pg6d7j5dht_5h_2n4n_c0000gn/T/ipykernel_10911/1044936714.py:147: UserWarning: Implicit dimension choice for softmax has been deprecated. Change the call to include dim=X as an argument.\n",
            "  final_out = torch.nn.functional.softmax(out)\n",
            "100%|██████████| 2/2 [00:00<00:00,  5.15it/s]\n"
          ]
        },
        {
          "name": "stdout",
          "output_type": "stream",
          "text": [
            "\n",
            "epoch 10\n",
            "\ttrain_loss:0.703 valid_loss:0.734\n",
            "\ttrain_acc:70.00% valid_acc:68.65%\n",
            "\ttrain_f1:0.698 valid_f1:0.698\n",
            "\ttrain_confusion_matrix:\n",
            "[[1432  380  620]\n",
            " [ 340 1890  201]\n",
            " [ 414  234 1785]]\n",
            "\tvalid_confusion_matrix:\n",
            "[[125  31  72]\n",
            " [ 99 449  59]\n",
            " [ 72  31 223]]\n"
          ]
        },
        {
          "name": "stderr",
          "output_type": "stream",
          "text": [
            "  0%|          | 0/57 [00:00<?, ?it/s]/var/folders/3c/71b8pg6d7j5dht_5h_2n4n_c0000gn/T/ipykernel_10911/1044936714.py:147: UserWarning: Implicit dimension choice for softmax has been deprecated. Change the call to include dim=X as an argument.\n",
            "  final_out = torch.nn.functional.softmax(out)\n",
            "100%|██████████| 57/57 [00:10<00:00,  5.34it/s]\n",
            "  0%|          | 0/2 [00:00<?, ?it/s]/var/folders/3c/71b8pg6d7j5dht_5h_2n4n_c0000gn/T/ipykernel_10911/1044936714.py:147: UserWarning: Implicit dimension choice for softmax has been deprecated. Change the call to include dim=X as an argument.\n",
            "  final_out = torch.nn.functional.softmax(out)\n",
            "100%|██████████| 2/2 [00:00<00:00,  6.25it/s]\n"
          ]
        },
        {
          "name": "stdout",
          "output_type": "stream",
          "text": [
            "\n",
            "epoch 11\n",
            "\ttrain_loss:0.681 valid_loss:0.715\n",
            "\ttrain_acc:71.64% valid_acc:70.37%\n",
            "\ttrain_f1:0.715 valid_f1:0.709\n",
            "\ttrain_confusion_matrix:\n",
            "[[1489  345  599]\n",
            " [ 339 1898  193]\n",
            " [ 387  206 1840]]\n",
            "\tvalid_confusion_matrix:\n",
            "[[115  48  65]\n",
            " [ 79 468  60]\n",
            " [ 58  34 234]]\n"
          ]
        },
        {
          "name": "stderr",
          "output_type": "stream",
          "text": [
            "  0%|          | 0/57 [00:00<?, ?it/s]/var/folders/3c/71b8pg6d7j5dht_5h_2n4n_c0000gn/T/ipykernel_10911/1044936714.py:147: UserWarning: Implicit dimension choice for softmax has been deprecated. Change the call to include dim=X as an argument.\n",
            "  final_out = torch.nn.functional.softmax(out)\n",
            "100%|██████████| 57/57 [00:10<00:00,  5.26it/s]\n",
            "  0%|          | 0/2 [00:00<?, ?it/s]/var/folders/3c/71b8pg6d7j5dht_5h_2n4n_c0000gn/T/ipykernel_10911/1044936714.py:147: UserWarning: Implicit dimension choice for softmax has been deprecated. Change the call to include dim=X as an argument.\n",
            "  final_out = torch.nn.functional.softmax(out)\n",
            "100%|██████████| 2/2 [00:00<00:00,  6.35it/s]\n"
          ]
        },
        {
          "name": "stdout",
          "output_type": "stream",
          "text": [
            "\n",
            "epoch 12\n",
            "\ttrain_loss:0.661 valid_loss:0.732\n",
            "\ttrain_acc:72.37% valid_acc:69.85%\n",
            "\ttrain_f1:0.723 valid_f1:0.708\n",
            "\ttrain_confusion_matrix:\n",
            "[[1518  320  591]\n",
            " [ 338 1904  192]\n",
            " [ 386  189 1858]]\n",
            "\tvalid_confusion_matrix:\n",
            "[[129  32  67]\n",
            " [ 93 455  59]\n",
            " [ 68  31 227]]\n"
          ]
        },
        {
          "name": "stderr",
          "output_type": "stream",
          "text": [
            "  0%|          | 0/57 [00:00<?, ?it/s]/var/folders/3c/71b8pg6d7j5dht_5h_2n4n_c0000gn/T/ipykernel_10911/1044936714.py:147: UserWarning: Implicit dimension choice for softmax has been deprecated. Change the call to include dim=X as an argument.\n",
            "  final_out = torch.nn.functional.softmax(out)\n",
            "100%|██████████| 57/57 [00:10<00:00,  5.42it/s]\n",
            "  0%|          | 0/2 [00:00<?, ?it/s]/var/folders/3c/71b8pg6d7j5dht_5h_2n4n_c0000gn/T/ipykernel_10911/1044936714.py:147: UserWarning: Implicit dimension choice for softmax has been deprecated. Change the call to include dim=X as an argument.\n",
            "  final_out = torch.nn.functional.softmax(out)\n",
            "100%|██████████| 2/2 [00:00<00:00,  6.34it/s]\n"
          ]
        },
        {
          "name": "stdout",
          "output_type": "stream",
          "text": [
            "\n",
            "epoch 13\n",
            "\ttrain_loss:0.651 valid_loss:0.710\n",
            "\ttrain_acc:73.44% valid_acc:69.68%\n",
            "\ttrain_f1:0.733 valid_f1:0.699\n",
            "\ttrain_confusion_matrix:\n",
            "[[1553  308  571]\n",
            " [ 323 1922  190]\n",
            " [ 370  176 1883]]\n",
            "\tvalid_confusion_matrix:\n",
            "[[100  51  77]\n",
            " [ 70 472  65]\n",
            " [ 54  35 237]]\n"
          ]
        },
        {
          "name": "stderr",
          "output_type": "stream",
          "text": [
            "  0%|          | 0/57 [00:00<?, ?it/s]/var/folders/3c/71b8pg6d7j5dht_5h_2n4n_c0000gn/T/ipykernel_10911/1044936714.py:147: UserWarning: Implicit dimension choice for softmax has been deprecated. Change the call to include dim=X as an argument.\n",
            "  final_out = torch.nn.functional.softmax(out)\n",
            "100%|██████████| 57/57 [00:10<00:00,  5.20it/s]\n",
            "  0%|          | 0/2 [00:00<?, ?it/s]/var/folders/3c/71b8pg6d7j5dht_5h_2n4n_c0000gn/T/ipykernel_10911/1044936714.py:147: UserWarning: Implicit dimension choice for softmax has been deprecated. Change the call to include dim=X as an argument.\n",
            "  final_out = torch.nn.functional.softmax(out)\n",
            "100%|██████████| 2/2 [00:00<00:00,  6.04it/s]\n"
          ]
        },
        {
          "name": "stdout",
          "output_type": "stream",
          "text": [
            "\n",
            "epoch 14\n",
            "\ttrain_loss:0.631 valid_loss:0.708\n",
            "\ttrain_acc:74.38% valid_acc:70.37%\n",
            "\ttrain_f1:0.743 valid_f1:0.707\n",
            "\ttrain_confusion_matrix:\n",
            "[[1620  278  533]\n",
            " [ 339 1896  196]\n",
            " [ 350  173 1911]]\n",
            "\tvalid_confusion_matrix:\n",
            "[[106  47  75]\n",
            " [ 65 475  67]\n",
            " [ 59  31 236]]\n"
          ]
        },
        {
          "name": "stderr",
          "output_type": "stream",
          "text": [
            "  0%|          | 0/57 [00:00<?, ?it/s]/var/folders/3c/71b8pg6d7j5dht_5h_2n4n_c0000gn/T/ipykernel_10911/1044936714.py:147: UserWarning: Implicit dimension choice for softmax has been deprecated. Change the call to include dim=X as an argument.\n",
            "  final_out = torch.nn.functional.softmax(out)\n",
            "100%|██████████| 57/57 [00:10<00:00,  5.42it/s]\n",
            "  0%|          | 0/2 [00:00<?, ?it/s]/var/folders/3c/71b8pg6d7j5dht_5h_2n4n_c0000gn/T/ipykernel_10911/1044936714.py:147: UserWarning: Implicit dimension choice for softmax has been deprecated. Change the call to include dim=X as an argument.\n",
            "  final_out = torch.nn.functional.softmax(out)\n",
            "100%|██████████| 2/2 [00:00<00:00,  5.48it/s]\n"
          ]
        },
        {
          "name": "stdout",
          "output_type": "stream",
          "text": [
            "\n",
            "epoch 15\n",
            "\ttrain_loss:0.616 valid_loss:0.710\n",
            "\ttrain_acc:75.73% valid_acc:70.03%\n",
            "\ttrain_f1:0.757 valid_f1:0.701\n",
            "\ttrain_confusion_matrix:\n",
            "[[1654  273  503]\n",
            " [ 318 1929  187]\n",
            " [ 326  164 1942]]\n",
            "\tvalid_confusion_matrix:\n",
            "[[105  54  69]\n",
            " [ 55 490  62]\n",
            " [ 64  44 218]]\n"
          ]
        },
        {
          "name": "stderr",
          "output_type": "stream",
          "text": [
            "  0%|          | 0/57 [00:00<?, ?it/s]/var/folders/3c/71b8pg6d7j5dht_5h_2n4n_c0000gn/T/ipykernel_10911/1044936714.py:147: UserWarning: Implicit dimension choice for softmax has been deprecated. Change the call to include dim=X as an argument.\n",
            "  final_out = torch.nn.functional.softmax(out)\n",
            "100%|██████████| 57/57 [00:10<00:00,  5.36it/s]\n",
            "  0%|          | 0/2 [00:00<?, ?it/s]/var/folders/3c/71b8pg6d7j5dht_5h_2n4n_c0000gn/T/ipykernel_10911/1044936714.py:147: UserWarning: Implicit dimension choice for softmax has been deprecated. Change the call to include dim=X as an argument.\n",
            "  final_out = torch.nn.functional.softmax(out)\n",
            "100%|██████████| 2/2 [00:00<00:00,  5.77it/s]\n"
          ]
        },
        {
          "name": "stdout",
          "output_type": "stream",
          "text": [
            "\n",
            "epoch 16\n",
            "\ttrain_loss:0.598 valid_loss:0.712\n",
            "\ttrain_acc:76.23% valid_acc:70.89%\n",
            "\ttrain_f1:0.762 valid_f1:0.713\n",
            "\ttrain_confusion_matrix:\n",
            "[[1682  263  484]\n",
            " [ 304 1940  189]\n",
            " [ 320  174 1940]]\n",
            "\tvalid_confusion_matrix:\n",
            "[[111  44  73]\n",
            " [ 62 481  64]\n",
            " [ 62  33 231]]\n"
          ]
        },
        {
          "name": "stderr",
          "output_type": "stream",
          "text": [
            "  0%|          | 0/57 [00:00<?, ?it/s]/var/folders/3c/71b8pg6d7j5dht_5h_2n4n_c0000gn/T/ipykernel_10911/1044936714.py:147: UserWarning: Implicit dimension choice for softmax has been deprecated. Change the call to include dim=X as an argument.\n",
            "  final_out = torch.nn.functional.softmax(out)\n",
            "100%|██████████| 57/57 [00:10<00:00,  5.49it/s]\n",
            "  0%|          | 0/2 [00:00<?, ?it/s]/var/folders/3c/71b8pg6d7j5dht_5h_2n4n_c0000gn/T/ipykernel_10911/1044936714.py:147: UserWarning: Implicit dimension choice for softmax has been deprecated. Change the call to include dim=X as an argument.\n",
            "  final_out = torch.nn.functional.softmax(out)\n",
            "100%|██████████| 2/2 [00:00<00:00,  6.46it/s]\n"
          ]
        },
        {
          "name": "stdout",
          "output_type": "stream",
          "text": [
            "\n",
            "epoch 17\n",
            "\ttrain_loss:0.581 valid_loss:0.714\n",
            "\ttrain_acc:76.85% valid_acc:70.28%\n",
            "\ttrain_f1:0.768 valid_f1:0.708\n",
            "\ttrain_confusion_matrix:\n",
            "[[1722  260  452]\n",
            " [ 302 1935  194]\n",
            " [ 324  157 1950]]\n",
            "\tvalid_confusion_matrix:\n",
            "[[116  45  67]\n",
            " [ 68 479  60]\n",
            " [ 68  37 221]]\n"
          ]
        },
        {
          "name": "stderr",
          "output_type": "stream",
          "text": [
            "  0%|          | 0/57 [00:00<?, ?it/s]/var/folders/3c/71b8pg6d7j5dht_5h_2n4n_c0000gn/T/ipykernel_10911/1044936714.py:147: UserWarning: Implicit dimension choice for softmax has been deprecated. Change the call to include dim=X as an argument.\n",
            "  final_out = torch.nn.functional.softmax(out)\n",
            "100%|██████████| 57/57 [00:10<00:00,  5.48it/s]\n",
            "  0%|          | 0/2 [00:00<?, ?it/s]/var/folders/3c/71b8pg6d7j5dht_5h_2n4n_c0000gn/T/ipykernel_10911/1044936714.py:147: UserWarning: Implicit dimension choice for softmax has been deprecated. Change the call to include dim=X as an argument.\n",
            "  final_out = torch.nn.functional.softmax(out)\n",
            "100%|██████████| 2/2 [00:00<00:00,  6.30it/s]\n"
          ]
        },
        {
          "name": "stdout",
          "output_type": "stream",
          "text": [
            "\n",
            "epoch 18\n",
            "\ttrain_loss:0.571 valid_loss:0.719\n",
            "\ttrain_acc:77.74% valid_acc:70.11%\n",
            "\ttrain_f1:0.777 valid_f1:0.709\n",
            "\ttrain_confusion_matrix:\n",
            "[[1761  237  433]\n",
            " [ 293 1944  196]\n",
            " [ 321  144 1967]]\n",
            "\tvalid_confusion_matrix:\n",
            "[[124  39  65]\n",
            " [ 78 471  58]\n",
            " [ 76  31 219]]\n"
          ]
        },
        {
          "name": "stderr",
          "output_type": "stream",
          "text": [
            "  0%|          | 0/57 [00:00<?, ?it/s]/var/folders/3c/71b8pg6d7j5dht_5h_2n4n_c0000gn/T/ipykernel_10911/1044936714.py:147: UserWarning: Implicit dimension choice for softmax has been deprecated. Change the call to include dim=X as an argument.\n",
            "  final_out = torch.nn.functional.softmax(out)\n",
            "100%|██████████| 57/57 [00:10<00:00,  5.52it/s]\n",
            "  0%|          | 0/2 [00:00<?, ?it/s]/var/folders/3c/71b8pg6d7j5dht_5h_2n4n_c0000gn/T/ipykernel_10911/1044936714.py:147: UserWarning: Implicit dimension choice for softmax has been deprecated. Change the call to include dim=X as an argument.\n",
            "  final_out = torch.nn.functional.softmax(out)\n",
            "100%|██████████| 2/2 [00:00<00:00,  6.72it/s]\n"
          ]
        },
        {
          "name": "stdout",
          "output_type": "stream",
          "text": [
            "\n",
            "epoch 19\n",
            "\ttrain_loss:0.566 valid_loss:0.732\n",
            "\ttrain_acc:78.15% valid_acc:69.34%\n",
            "\ttrain_f1:0.782 valid_f1:0.703\n",
            "\ttrain_confusion_matrix:\n",
            "[[1793  238  400]\n",
            " [ 302 1925  204]\n",
            " [ 298  152 1984]]\n",
            "\tvalid_confusion_matrix:\n",
            "[[122  35  71]\n",
            " [ 88 451  68]\n",
            " [ 67  27 232]]\n",
            "Loading saved model from: model_task2.bin\n"
          ]
        },
        {
          "name": "stderr",
          "output_type": "stream",
          "text": [
            "  0%|          | 0/2 [00:00<?, ?it/s]/var/folders/3c/71b8pg6d7j5dht_5h_2n4n_c0000gn/T/ipykernel_10911/1044936714.py:147: UserWarning: Implicit dimension choice for softmax has been deprecated. Change the call to include dim=X as an argument.\n",
            "  final_out = torch.nn.functional.softmax(out)\n",
            "100%|██████████| 2/2 [00:00<00:00,  7.27it/s]\n"
          ]
        },
        {
          "name": "stdout",
          "output_type": "stream",
          "text": [
            "              precision    recall  f1-score   support\n",
            "\n",
            "     Neutral       0.47      0.47      0.47       228\n",
            "    Positive       0.86      0.78      0.82       607\n",
            "    Negative       0.63      0.74      0.68       326\n",
            "\n",
            "    accuracy                           0.71      1161\n",
            "   macro avg       0.65      0.66      0.66      1161\n",
            "weighted avg       0.72      0.71      0.71      1161\n",
            "\n",
            "\n",
            "******************************************************************************************\n",
            "Alpha Size: 0.6\n",
            "Window Size: 8\n",
            "******************************************************************************************\n",
            "\n",
            "train samples:7311\n",
            "valid samples:1161\n"
          ]
        },
        {
          "name": "stderr",
          "output_type": "stream",
          "text": [
            "  0%|          | 0/57 [00:00<?, ?it/s]/var/folders/3c/71b8pg6d7j5dht_5h_2n4n_c0000gn/T/ipykernel_10911/1044936714.py:147: UserWarning: Implicit dimension choice for softmax has been deprecated. Change the call to include dim=X as an argument.\n",
            "  final_out = torch.nn.functional.softmax(out)\n",
            "100%|██████████| 57/57 [00:11<00:00,  4.89it/s]\n",
            "  0%|          | 0/2 [00:00<?, ?it/s]/var/folders/3c/71b8pg6d7j5dht_5h_2n4n_c0000gn/T/ipykernel_10911/1044936714.py:147: UserWarning: Implicit dimension choice for softmax has been deprecated. Change the call to include dim=X as an argument.\n",
            "  final_out = torch.nn.functional.softmax(out)\n",
            "100%|██████████| 2/2 [00:00<00:00,  4.02it/s]\n"
          ]
        },
        {
          "name": "stdout",
          "output_type": "stream",
          "text": [
            "\n",
            "epoch 0\n",
            "\ttrain_loss:1.086 valid_loss:1.071\n",
            "\ttrain_acc:45.64% valid_acc:53.49%\n",
            "\ttrain_f1:0.442 valid_f1:0.548\n",
            "\ttrain_confusion_matrix:\n",
            "[[ 689  425 1318]\n",
            " [ 487  952  994]\n",
            " [ 395  347 1689]]\n",
            "\tvalid_confusion_matrix:\n",
            "[[ 89  35 104]\n",
            " [127 320 160]\n",
            " [ 62  52 212]]\n"
          ]
        },
        {
          "name": "stderr",
          "output_type": "stream",
          "text": [
            "  0%|          | 0/57 [00:00<?, ?it/s]/var/folders/3c/71b8pg6d7j5dht_5h_2n4n_c0000gn/T/ipykernel_10911/1044936714.py:147: UserWarning: Implicit dimension choice for softmax has been deprecated. Change the call to include dim=X as an argument.\n",
            "  final_out = torch.nn.functional.softmax(out)\n",
            "100%|██████████| 57/57 [00:11<00:00,  4.77it/s]\n",
            "  0%|          | 0/2 [00:00<?, ?it/s]/var/folders/3c/71b8pg6d7j5dht_5h_2n4n_c0000gn/T/ipykernel_10911/1044936714.py:147: UserWarning: Implicit dimension choice for softmax has been deprecated. Change the call to include dim=X as an argument.\n",
            "  final_out = torch.nn.functional.softmax(out)\n",
            "100%|██████████| 2/2 [00:00<00:00,  5.24it/s]\n"
          ]
        },
        {
          "name": "stdout",
          "output_type": "stream",
          "text": [
            "\n",
            "epoch 1\n",
            "\ttrain_loss:1.038 valid_loss:0.968\n",
            "\ttrain_acc:54.51% valid_acc:59.95%\n",
            "\ttrain_f1:0.540 valid_f1:0.595\n",
            "\ttrain_confusion_matrix:\n",
            "[[ 938  493  999]\n",
            " [ 461 1434  538]\n",
            " [ 426  402 1605]]\n",
            "\tvalid_confusion_matrix:\n",
            "[[ 58  58 112]\n",
            " [ 68 416 123]\n",
            " [ 28  76 222]]\n"
          ]
        },
        {
          "name": "stderr",
          "output_type": "stream",
          "text": [
            "  0%|          | 0/57 [00:00<?, ?it/s]/var/folders/3c/71b8pg6d7j5dht_5h_2n4n_c0000gn/T/ipykernel_10911/1044936714.py:147: UserWarning: Implicit dimension choice for softmax has been deprecated. Change the call to include dim=X as an argument.\n",
            "  final_out = torch.nn.functional.softmax(out)\n",
            "100%|██████████| 57/57 [00:10<00:00,  5.32it/s]\n",
            "  0%|          | 0/2 [00:00<?, ?it/s]/var/folders/3c/71b8pg6d7j5dht_5h_2n4n_c0000gn/T/ipykernel_10911/1044936714.py:147: UserWarning: Implicit dimension choice for softmax has been deprecated. Change the call to include dim=X as an argument.\n",
            "  final_out = torch.nn.functional.softmax(out)\n",
            "100%|██████████| 2/2 [00:00<00:00,  6.00it/s]\n"
          ]
        },
        {
          "name": "stdout",
          "output_type": "stream",
          "text": [
            "\n",
            "epoch 2\n",
            "\ttrain_loss:0.926 valid_loss:0.856\n",
            "\ttrain_acc:56.37% valid_acc:65.46%\n",
            "\ttrain_f1:0.542 valid_f1:0.655\n",
            "\ttrain_confusion_matrix:\n",
            "[[ 675  685 1072]\n",
            " [ 253 1799  380]\n",
            " [ 278  515 1639]]\n",
            "\tvalid_confusion_matrix:\n",
            "[[ 87  54  87]\n",
            " [ 66 465  76]\n",
            " [ 57  61 208]]\n"
          ]
        },
        {
          "name": "stderr",
          "output_type": "stream",
          "text": [
            "  0%|          | 0/57 [00:00<?, ?it/s]/var/folders/3c/71b8pg6d7j5dht_5h_2n4n_c0000gn/T/ipykernel_10911/1044936714.py:147: UserWarning: Implicit dimension choice for softmax has been deprecated. Change the call to include dim=X as an argument.\n",
            "  final_out = torch.nn.functional.softmax(out)\n",
            "100%|██████████| 57/57 [00:11<00:00,  5.10it/s]\n",
            "  0%|          | 0/2 [00:00<?, ?it/s]/var/folders/3c/71b8pg6d7j5dht_5h_2n4n_c0000gn/T/ipykernel_10911/1044936714.py:147: UserWarning: Implicit dimension choice for softmax has been deprecated. Change the call to include dim=X as an argument.\n",
            "  final_out = torch.nn.functional.softmax(out)\n",
            "100%|██████████| 2/2 [00:00<00:00,  4.73it/s]\n"
          ]
        },
        {
          "name": "stdout",
          "output_type": "stream",
          "text": [
            "\n",
            "epoch 3\n",
            "\ttrain_loss:0.851 valid_loss:0.795\n",
            "\ttrain_acc:62.21% valid_acc:67.10%\n",
            "\ttrain_f1:0.614 valid_f1:0.679\n",
            "\ttrain_confusion_matrix:\n",
            "[[1024  533  876]\n",
            " [ 342 1832  257]\n",
            " [ 433  316 1683]]\n",
            "\tvalid_confusion_matrix:\n",
            "[[110  49  69]\n",
            " [ 85 456  66]\n",
            " [ 78  35 213]]\n"
          ]
        },
        {
          "name": "stderr",
          "output_type": "stream",
          "text": [
            "  0%|          | 0/57 [00:00<?, ?it/s]/var/folders/3c/71b8pg6d7j5dht_5h_2n4n_c0000gn/T/ipykernel_10911/1044936714.py:147: UserWarning: Implicit dimension choice for softmax has been deprecated. Change the call to include dim=X as an argument.\n",
            "  final_out = torch.nn.functional.softmax(out)\n",
            "100%|██████████| 57/57 [00:10<00:00,  5.26it/s]\n",
            "  0%|          | 0/2 [00:00<?, ?it/s]/var/folders/3c/71b8pg6d7j5dht_5h_2n4n_c0000gn/T/ipykernel_10911/1044936714.py:147: UserWarning: Implicit dimension choice for softmax has been deprecated. Change the call to include dim=X as an argument.\n",
            "  final_out = torch.nn.functional.softmax(out)\n",
            "100%|██████████| 2/2 [00:00<00:00,  5.92it/s]\n"
          ]
        },
        {
          "name": "stdout",
          "output_type": "stream",
          "text": [
            "\n",
            "epoch 4\n",
            "\ttrain_loss:0.804 valid_loss:0.777\n",
            "\ttrain_acc:64.24% valid_acc:68.65%\n",
            "\ttrain_f1:0.638 valid_f1:0.688\n",
            "\ttrain_confusion_matrix:\n",
            "[[1167  486  780]\n",
            " [ 374 1846  214]\n",
            " [ 492  263 1674]]\n",
            "\tvalid_confusion_matrix:\n",
            "[[ 94  44  90]\n",
            " [ 68 442  97]\n",
            " [ 37  28 261]]\n"
          ]
        },
        {
          "name": "stderr",
          "output_type": "stream",
          "text": [
            "  0%|          | 0/57 [00:00<?, ?it/s]/var/folders/3c/71b8pg6d7j5dht_5h_2n4n_c0000gn/T/ipykernel_10911/1044936714.py:147: UserWarning: Implicit dimension choice for softmax has been deprecated. Change the call to include dim=X as an argument.\n",
            "  final_out = torch.nn.functional.softmax(out)\n",
            "100%|██████████| 57/57 [00:10<00:00,  5.28it/s]\n",
            "  0%|          | 0/2 [00:00<?, ?it/s]/var/folders/3c/71b8pg6d7j5dht_5h_2n4n_c0000gn/T/ipykernel_10911/1044936714.py:147: UserWarning: Implicit dimension choice for softmax has been deprecated. Change the call to include dim=X as an argument.\n",
            "  final_out = torch.nn.functional.softmax(out)\n",
            "100%|██████████| 2/2 [00:00<00:00,  5.60it/s]\n"
          ]
        },
        {
          "name": "stdout",
          "output_type": "stream",
          "text": [
            "\n",
            "epoch 5\n",
            "\ttrain_loss:0.777 valid_loss:0.742\n",
            "\ttrain_acc:65.94% valid_acc:69.85%\n",
            "\ttrain_f1:0.657 valid_f1:0.700\n",
            "\ttrain_confusion_matrix:\n",
            "[[1267  446  719]\n",
            " [ 375 1837  216]\n",
            " [ 501  228 1707]]\n",
            "\tvalid_confusion_matrix:\n",
            "[[ 99  44  85]\n",
            " [ 65 458  84]\n",
            " [ 41  31 254]]\n"
          ]
        },
        {
          "name": "stderr",
          "output_type": "stream",
          "text": [
            "  0%|          | 0/57 [00:00<?, ?it/s]/var/folders/3c/71b8pg6d7j5dht_5h_2n4n_c0000gn/T/ipykernel_10911/1044936714.py:147: UserWarning: Implicit dimension choice for softmax has been deprecated. Change the call to include dim=X as an argument.\n",
            "  final_out = torch.nn.functional.softmax(out)\n",
            "100%|██████████| 57/57 [00:10<00:00,  5.25it/s]\n",
            "  0%|          | 0/2 [00:00<?, ?it/s]/var/folders/3c/71b8pg6d7j5dht_5h_2n4n_c0000gn/T/ipykernel_10911/1044936714.py:147: UserWarning: Implicit dimension choice for softmax has been deprecated. Change the call to include dim=X as an argument.\n",
            "  final_out = torch.nn.functional.softmax(out)\n",
            "100%|██████████| 2/2 [00:00<00:00,  5.83it/s]\n"
          ]
        },
        {
          "name": "stdout",
          "output_type": "stream",
          "text": [
            "\n",
            "epoch 6\n",
            "\ttrain_loss:0.750 valid_loss:0.753\n",
            "\ttrain_acc:67.86% valid_acc:67.53%\n",
            "\ttrain_f1:0.676 valid_f1:0.688\n",
            "\ttrain_confusion_matrix:\n",
            "[[1315  417  700]\n",
            " [ 351 1879  202]\n",
            " [ 455  220 1757]]\n",
            "\tvalid_confusion_matrix:\n",
            "[[126  37  65]\n",
            " [112 436  59]\n",
            " [ 74  30 222]]\n"
          ]
        },
        {
          "name": "stderr",
          "output_type": "stream",
          "text": [
            "  0%|          | 0/57 [00:00<?, ?it/s]/var/folders/3c/71b8pg6d7j5dht_5h_2n4n_c0000gn/T/ipykernel_10911/1044936714.py:147: UserWarning: Implicit dimension choice for softmax has been deprecated. Change the call to include dim=X as an argument.\n",
            "  final_out = torch.nn.functional.softmax(out)\n",
            "100%|██████████| 57/57 [00:11<00:00,  5.13it/s]\n",
            "  0%|          | 0/2 [00:00<?, ?it/s]/var/folders/3c/71b8pg6d7j5dht_5h_2n4n_c0000gn/T/ipykernel_10911/1044936714.py:147: UserWarning: Implicit dimension choice for softmax has been deprecated. Change the call to include dim=X as an argument.\n",
            "  final_out = torch.nn.functional.softmax(out)\n",
            "100%|██████████| 2/2 [00:00<00:00,  5.57it/s]\n"
          ]
        },
        {
          "name": "stdout",
          "output_type": "stream",
          "text": [
            "\n",
            "epoch 7\n",
            "\ttrain_loss:0.730 valid_loss:0.730\n",
            "\ttrain_acc:69.12% valid_acc:70.11%\n",
            "\ttrain_f1:0.690 valid_f1:0.703\n",
            "\ttrain_confusion_matrix:\n",
            "[[1403  385  646]\n",
            " [ 359 1852  219]\n",
            " [ 440  204 1788]]\n",
            "\tvalid_confusion_matrix:\n",
            "[[100  45  83]\n",
            " [ 76 453  78]\n",
            " [ 38  27 261]]\n"
          ]
        },
        {
          "name": "stderr",
          "output_type": "stream",
          "text": [
            "  0%|          | 0/57 [00:00<?, ?it/s]/var/folders/3c/71b8pg6d7j5dht_5h_2n4n_c0000gn/T/ipykernel_10911/1044936714.py:147: UserWarning: Implicit dimension choice for softmax has been deprecated. Change the call to include dim=X as an argument.\n",
            "  final_out = torch.nn.functional.softmax(out)\n",
            "100%|██████████| 57/57 [00:11<00:00,  5.13it/s]\n",
            "  0%|          | 0/2 [00:00<?, ?it/s]/var/folders/3c/71b8pg6d7j5dht_5h_2n4n_c0000gn/T/ipykernel_10911/1044936714.py:147: UserWarning: Implicit dimension choice for softmax has been deprecated. Change the call to include dim=X as an argument.\n",
            "  final_out = torch.nn.functional.softmax(out)\n",
            "100%|██████████| 2/2 [00:00<00:00,  5.53it/s]\n"
          ]
        },
        {
          "name": "stdout",
          "output_type": "stream",
          "text": [
            "\n",
            "epoch 8\n",
            "\ttrain_loss:0.714 valid_loss:0.727\n",
            "\ttrain_acc:70.11% valid_acc:68.99%\n",
            "\ttrain_f1:0.699 valid_f1:0.698\n",
            "\ttrain_confusion_matrix:\n",
            "[[1416  388  629]\n",
            " [ 343 1874  213]\n",
            " [ 406  202 1825]]\n",
            "\tvalid_confusion_matrix:\n",
            "[[117  37  74]\n",
            " [ 96 439  72]\n",
            " [ 53  28 245]]\n"
          ]
        },
        {
          "name": "stderr",
          "output_type": "stream",
          "text": [
            "  0%|          | 0/57 [00:00<?, ?it/s]/var/folders/3c/71b8pg6d7j5dht_5h_2n4n_c0000gn/T/ipykernel_10911/1044936714.py:147: UserWarning: Implicit dimension choice for softmax has been deprecated. Change the call to include dim=X as an argument.\n",
            "  final_out = torch.nn.functional.softmax(out)\n",
            "100%|██████████| 57/57 [00:11<00:00,  5.14it/s]\n",
            "  0%|          | 0/2 [00:00<?, ?it/s]/var/folders/3c/71b8pg6d7j5dht_5h_2n4n_c0000gn/T/ipykernel_10911/1044936714.py:147: UserWarning: Implicit dimension choice for softmax has been deprecated. Change the call to include dim=X as an argument.\n",
            "  final_out = torch.nn.functional.softmax(out)\n",
            "100%|██████████| 2/2 [00:00<00:00,  5.74it/s]\n"
          ]
        },
        {
          "name": "stdout",
          "output_type": "stream",
          "text": [
            "\n",
            "epoch 9\n",
            "\ttrain_loss:0.693 valid_loss:0.713\n",
            "\ttrain_acc:71.27% valid_acc:70.63%\n",
            "\ttrain_f1:0.712 valid_f1:0.712\n",
            "\ttrain_confusion_matrix:\n",
            "[[1487  365  577]\n",
            " [ 336 1896  201]\n",
            " [ 416  201 1817]]\n",
            "\tvalid_confusion_matrix:\n",
            "[[118  44  66]\n",
            " [ 79 458  70]\n",
            " [ 51  31 244]]\n"
          ]
        },
        {
          "name": "stderr",
          "output_type": "stream",
          "text": [
            "  0%|          | 0/57 [00:00<?, ?it/s]/var/folders/3c/71b8pg6d7j5dht_5h_2n4n_c0000gn/T/ipykernel_10911/1044936714.py:147: UserWarning: Implicit dimension choice for softmax has been deprecated. Change the call to include dim=X as an argument.\n",
            "  final_out = torch.nn.functional.softmax(out)\n",
            "100%|██████████| 57/57 [00:11<00:00,  5.15it/s]\n",
            "  0%|          | 0/2 [00:00<?, ?it/s]/var/folders/3c/71b8pg6d7j5dht_5h_2n4n_c0000gn/T/ipykernel_10911/1044936714.py:147: UserWarning: Implicit dimension choice for softmax has been deprecated. Change the call to include dim=X as an argument.\n",
            "  final_out = torch.nn.functional.softmax(out)\n",
            "100%|██████████| 2/2 [00:00<00:00,  5.89it/s]\n"
          ]
        },
        {
          "name": "stdout",
          "output_type": "stream",
          "text": [
            "\n",
            "epoch 10\n",
            "\ttrain_loss:0.671 valid_loss:0.722\n",
            "\ttrain_acc:73.31% valid_acc:70.46%\n",
            "\ttrain_f1:0.733 valid_f1:0.710\n",
            "\ttrain_confusion_matrix:\n",
            "[[1590  339  502]\n",
            " [ 337 1910  187]\n",
            " [ 417  165 1849]]\n",
            "\tvalid_confusion_matrix:\n",
            "[[114  41  73]\n",
            " [ 80 456  71]\n",
            " [ 48  30 248]]\n"
          ]
        },
        {
          "name": "stderr",
          "output_type": "stream",
          "text": [
            "  0%|          | 0/57 [00:00<?, ?it/s]/var/folders/3c/71b8pg6d7j5dht_5h_2n4n_c0000gn/T/ipykernel_10911/1044936714.py:147: UserWarning: Implicit dimension choice for softmax has been deprecated. Change the call to include dim=X as an argument.\n",
            "  final_out = torch.nn.functional.softmax(out)\n",
            "100%|██████████| 57/57 [00:11<00:00,  5.14it/s]\n",
            "  0%|          | 0/2 [00:00<?, ?it/s]/var/folders/3c/71b8pg6d7j5dht_5h_2n4n_c0000gn/T/ipykernel_10911/1044936714.py:147: UserWarning: Implicit dimension choice for softmax has been deprecated. Change the call to include dim=X as an argument.\n",
            "  final_out = torch.nn.functional.softmax(out)\n",
            "100%|██████████| 2/2 [00:00<00:00,  5.84it/s]\n"
          ]
        },
        {
          "name": "stdout",
          "output_type": "stream",
          "text": [
            "\n",
            "epoch 11\n",
            "\ttrain_loss:0.655 valid_loss:0.728\n",
            "\ttrain_acc:73.68% valid_acc:69.68%\n",
            "\ttrain_f1:0.737 valid_f1:0.702\n",
            "\ttrain_confusion_matrix:\n",
            "[[1618  314  499]\n",
            " [ 320 1901  208]\n",
            " [ 414  165 1857]]\n",
            "\tvalid_confusion_matrix:\n",
            "[[113  38  77]\n",
            " [ 86 444  77]\n",
            " [ 40  34 252]]\n"
          ]
        },
        {
          "name": "stderr",
          "output_type": "stream",
          "text": [
            "  0%|          | 0/57 [00:00<?, ?it/s]/var/folders/3c/71b8pg6d7j5dht_5h_2n4n_c0000gn/T/ipykernel_10911/1044936714.py:147: UserWarning: Implicit dimension choice for softmax has been deprecated. Change the call to include dim=X as an argument.\n",
            "  final_out = torch.nn.functional.softmax(out)\n",
            "100%|██████████| 57/57 [00:10<00:00,  5.22it/s]\n",
            "  0%|          | 0/2 [00:00<?, ?it/s]/var/folders/3c/71b8pg6d7j5dht_5h_2n4n_c0000gn/T/ipykernel_10911/1044936714.py:147: UserWarning: Implicit dimension choice for softmax has been deprecated. Change the call to include dim=X as an argument.\n",
            "  final_out = torch.nn.functional.softmax(out)\n",
            "100%|██████████| 2/2 [00:00<00:00,  6.14it/s]\n"
          ]
        },
        {
          "name": "stdout",
          "output_type": "stream",
          "text": [
            "\n",
            "epoch 12\n",
            "\ttrain_loss:0.641 valid_loss:0.728\n",
            "\ttrain_acc:74.31% valid_acc:70.20%\n",
            "\ttrain_f1:0.743 valid_f1:0.712\n",
            "\ttrain_confusion_matrix:\n",
            "[[1629  315  487]\n",
            " [ 311 1935  186]\n",
            " [ 404  171 1858]]\n",
            "\tvalid_confusion_matrix:\n",
            "[[135  34  59]\n",
            " [ 94 447  66]\n",
            " [ 67  26 233]]\n"
          ]
        },
        {
          "name": "stderr",
          "output_type": "stream",
          "text": [
            "  0%|          | 0/57 [00:00<?, ?it/s]/var/folders/3c/71b8pg6d7j5dht_5h_2n4n_c0000gn/T/ipykernel_10911/1044936714.py:147: UserWarning: Implicit dimension choice for softmax has been deprecated. Change the call to include dim=X as an argument.\n",
            "  final_out = torch.nn.functional.softmax(out)\n",
            "100%|██████████| 57/57 [00:10<00:00,  5.23it/s]\n",
            "  0%|          | 0/2 [00:00<?, ?it/s]/var/folders/3c/71b8pg6d7j5dht_5h_2n4n_c0000gn/T/ipykernel_10911/1044936714.py:147: UserWarning: Implicit dimension choice for softmax has been deprecated. Change the call to include dim=X as an argument.\n",
            "  final_out = torch.nn.functional.softmax(out)\n",
            "100%|██████████| 2/2 [00:00<00:00,  5.91it/s]\n"
          ]
        },
        {
          "name": "stdout",
          "output_type": "stream",
          "text": [
            "\n",
            "epoch 13\n",
            "\ttrain_loss:0.624 valid_loss:0.720\n",
            "\ttrain_acc:75.38% valid_acc:71.23%\n",
            "\ttrain_f1:0.753 valid_f1:0.716\n",
            "\ttrain_confusion_matrix:\n",
            "[[1657  306  470]\n",
            " [ 302 1934  194]\n",
            " [ 358  166 1909]]\n",
            "\tvalid_confusion_matrix:\n",
            "[[112  40  76]\n",
            " [ 70 462  75]\n",
            " [ 44  29 253]]\n"
          ]
        },
        {
          "name": "stderr",
          "output_type": "stream",
          "text": [
            "  0%|          | 0/57 [00:00<?, ?it/s]/var/folders/3c/71b8pg6d7j5dht_5h_2n4n_c0000gn/T/ipykernel_10911/1044936714.py:147: UserWarning: Implicit dimension choice for softmax has been deprecated. Change the call to include dim=X as an argument.\n",
            "  final_out = torch.nn.functional.softmax(out)\n",
            "100%|██████████| 57/57 [00:10<00:00,  5.23it/s]\n",
            "  0%|          | 0/2 [00:00<?, ?it/s]/var/folders/3c/71b8pg6d7j5dht_5h_2n4n_c0000gn/T/ipykernel_10911/1044936714.py:147: UserWarning: Implicit dimension choice for softmax has been deprecated. Change the call to include dim=X as an argument.\n",
            "  final_out = torch.nn.functional.softmax(out)\n",
            "100%|██████████| 2/2 [00:00<00:00,  5.83it/s]\n"
          ]
        },
        {
          "name": "stdout",
          "output_type": "stream",
          "text": [
            "\n",
            "epoch 14\n",
            "\ttrain_loss:0.604 valid_loss:0.735\n",
            "\ttrain_acc:76.26% valid_acc:71.32%\n",
            "\ttrain_f1:0.762 valid_f1:0.719\n",
            "\ttrain_confusion_matrix:\n",
            "[[1702  299  430]\n",
            " [ 300 1947  186]\n",
            " [ 352  165 1915]]\n",
            "\tvalid_confusion_matrix:\n",
            "[[121  40  67]\n",
            " [ 77 458  72]\n",
            " [ 51  26 249]]\n"
          ]
        },
        {
          "name": "stderr",
          "output_type": "stream",
          "text": [
            "  0%|          | 0/57 [00:00<?, ?it/s]/var/folders/3c/71b8pg6d7j5dht_5h_2n4n_c0000gn/T/ipykernel_10911/1044936714.py:147: UserWarning: Implicit dimension choice for softmax has been deprecated. Change the call to include dim=X as an argument.\n",
            "  final_out = torch.nn.functional.softmax(out)\n",
            "100%|██████████| 57/57 [00:10<00:00,  5.18it/s]\n",
            "  0%|          | 0/2 [00:00<?, ?it/s]/var/folders/3c/71b8pg6d7j5dht_5h_2n4n_c0000gn/T/ipykernel_10911/1044936714.py:147: UserWarning: Implicit dimension choice for softmax has been deprecated. Change the call to include dim=X as an argument.\n",
            "  final_out = torch.nn.functional.softmax(out)\n",
            "100%|██████████| 2/2 [00:00<00:00,  5.82it/s]\n"
          ]
        },
        {
          "name": "stdout",
          "output_type": "stream",
          "text": [
            "\n",
            "epoch 15\n",
            "\ttrain_loss:0.588 valid_loss:0.728\n",
            "\ttrain_acc:77.14% valid_acc:71.58%\n",
            "\ttrain_f1:0.771 valid_f1:0.720\n",
            "\ttrain_confusion_matrix:\n",
            "[[1743  271  415]\n",
            " [ 314 1945  176]\n",
            " [ 333  159 1940]]\n",
            "\tvalid_confusion_matrix:\n",
            "[[128  47  53]\n",
            " [ 67 477  63]\n",
            " [ 59  41 226]]\n"
          ]
        },
        {
          "name": "stderr",
          "output_type": "stream",
          "text": [
            "  0%|          | 0/57 [00:00<?, ?it/s]/var/folders/3c/71b8pg6d7j5dht_5h_2n4n_c0000gn/T/ipykernel_10911/1044936714.py:147: UserWarning: Implicit dimension choice for softmax has been deprecated. Change the call to include dim=X as an argument.\n",
            "  final_out = torch.nn.functional.softmax(out)\n",
            "100%|██████████| 57/57 [00:10<00:00,  5.34it/s]\n",
            "  0%|          | 0/2 [00:00<?, ?it/s]/var/folders/3c/71b8pg6d7j5dht_5h_2n4n_c0000gn/T/ipykernel_10911/1044936714.py:147: UserWarning: Implicit dimension choice for softmax has been deprecated. Change the call to include dim=X as an argument.\n",
            "  final_out = torch.nn.functional.softmax(out)\n",
            "100%|██████████| 2/2 [00:00<00:00,  5.83it/s]\n"
          ]
        },
        {
          "name": "stdout",
          "output_type": "stream",
          "text": [
            "\n",
            "epoch 16\n",
            "\ttrain_loss:0.571 valid_loss:0.740\n",
            "\ttrain_acc:78.45% valid_acc:69.94%\n",
            "\ttrain_f1:0.785 valid_f1:0.701\n",
            "\ttrain_confusion_matrix:\n",
            "[[1790  253  391]\n",
            " [ 283 1975  173]\n",
            " [ 325  147 1959]]\n",
            "\tvalid_confusion_matrix:\n",
            "[[ 98  43  87]\n",
            " [ 61 454  92]\n",
            " [ 42  24 260]]\n"
          ]
        },
        {
          "name": "stderr",
          "output_type": "stream",
          "text": [
            "  0%|          | 0/57 [00:00<?, ?it/s]/var/folders/3c/71b8pg6d7j5dht_5h_2n4n_c0000gn/T/ipykernel_10911/1044936714.py:147: UserWarning: Implicit dimension choice for softmax has been deprecated. Change the call to include dim=X as an argument.\n",
            "  final_out = torch.nn.functional.softmax(out)\n",
            "100%|██████████| 57/57 [00:10<00:00,  5.30it/s]\n",
            "  0%|          | 0/2 [00:00<?, ?it/s]/var/folders/3c/71b8pg6d7j5dht_5h_2n4n_c0000gn/T/ipykernel_10911/1044936714.py:147: UserWarning: Implicit dimension choice for softmax has been deprecated. Change the call to include dim=X as an argument.\n",
            "  final_out = torch.nn.functional.softmax(out)\n",
            "100%|██████████| 2/2 [00:00<00:00,  6.19it/s]\n"
          ]
        },
        {
          "name": "stdout",
          "output_type": "stream",
          "text": [
            "\n",
            "epoch 17\n",
            "\ttrain_loss:0.586 valid_loss:0.733\n",
            "\ttrain_acc:77.18% valid_acc:71.32%\n",
            "\ttrain_f1:0.772 valid_f1:0.714\n",
            "\ttrain_confusion_matrix:\n",
            "[[1753  267  415]\n",
            " [ 301 1946  187]\n",
            " [ 345  150 1932]]\n",
            "\tvalid_confusion_matrix:\n",
            "[[105  42  81]\n",
            " [ 58 467  82]\n",
            " [ 38  32 256]]\n"
          ]
        },
        {
          "name": "stderr",
          "output_type": "stream",
          "text": [
            "  0%|          | 0/57 [00:00<?, ?it/s]/var/folders/3c/71b8pg6d7j5dht_5h_2n4n_c0000gn/T/ipykernel_10911/1044936714.py:147: UserWarning: Implicit dimension choice for softmax has been deprecated. Change the call to include dim=X as an argument.\n",
            "  final_out = torch.nn.functional.softmax(out)\n",
            "100%|██████████| 57/57 [00:10<00:00,  5.31it/s]\n",
            "  0%|          | 0/2 [00:00<?, ?it/s]/var/folders/3c/71b8pg6d7j5dht_5h_2n4n_c0000gn/T/ipykernel_10911/1044936714.py:147: UserWarning: Implicit dimension choice for softmax has been deprecated. Change the call to include dim=X as an argument.\n",
            "  final_out = torch.nn.functional.softmax(out)\n",
            "100%|██████████| 2/2 [00:00<00:00,  6.24it/s]\n"
          ]
        },
        {
          "name": "stdout",
          "output_type": "stream",
          "text": [
            "\n",
            "epoch 18\n",
            "\ttrain_loss:0.550 valid_loss:0.741\n",
            "\ttrain_acc:79.00% valid_acc:71.15%\n",
            "\ttrain_f1:0.790 valid_f1:0.717\n",
            "\ttrain_confusion_matrix:\n",
            "[[1807  246  380]\n",
            " [ 280 1982  172]\n",
            " [ 301  153 1975]]\n",
            "\tvalid_confusion_matrix:\n",
            "[[131  43  54]\n",
            " [ 73 467  67]\n",
            " [ 60  38 228]]\n"
          ]
        },
        {
          "name": "stderr",
          "output_type": "stream",
          "text": [
            "  0%|          | 0/57 [00:00<?, ?it/s]/var/folders/3c/71b8pg6d7j5dht_5h_2n4n_c0000gn/T/ipykernel_10911/1044936714.py:147: UserWarning: Implicit dimension choice for softmax has been deprecated. Change the call to include dim=X as an argument.\n",
            "  final_out = torch.nn.functional.softmax(out)\n",
            "100%|██████████| 57/57 [00:10<00:00,  5.21it/s]\n",
            "  0%|          | 0/2 [00:00<?, ?it/s]/var/folders/3c/71b8pg6d7j5dht_5h_2n4n_c0000gn/T/ipykernel_10911/1044936714.py:147: UserWarning: Implicit dimension choice for softmax has been deprecated. Change the call to include dim=X as an argument.\n",
            "  final_out = torch.nn.functional.softmax(out)\n",
            "100%|██████████| 2/2 [00:00<00:00,  4.80it/s]\n"
          ]
        },
        {
          "name": "stdout",
          "output_type": "stream",
          "text": [
            "\n",
            "epoch 19\n",
            "\ttrain_loss:0.541 valid_loss:0.767\n",
            "\ttrain_acc:79.22% valid_acc:70.28%\n",
            "\ttrain_f1:0.792 valid_f1:0.704\n",
            "\ttrain_confusion_matrix:\n",
            "[[1817  245  370]\n",
            " [ 276 1986  172]\n",
            " [ 302  151 1977]]\n",
            "\tvalid_confusion_matrix:\n",
            "[[ 96  41  91]\n",
            " [ 57 463  87]\n",
            " [ 42  27 257]]\n",
            "Loading saved model from: model_task2.bin\n"
          ]
        },
        {
          "name": "stderr",
          "output_type": "stream",
          "text": [
            "  0%|          | 0/2 [00:00<?, ?it/s]/var/folders/3c/71b8pg6d7j5dht_5h_2n4n_c0000gn/T/ipykernel_10911/1044936714.py:147: UserWarning: Implicit dimension choice for softmax has been deprecated. Change the call to include dim=X as an argument.\n",
            "  final_out = torch.nn.functional.softmax(out)\n",
            "100%|██████████| 2/2 [00:00<00:00,  6.23it/s]\n"
          ]
        },
        {
          "name": "stdout",
          "output_type": "stream",
          "text": [
            "              precision    recall  f1-score   support\n",
            "\n",
            "     Neutral       0.48      0.50      0.49       228\n",
            "    Positive       0.86      0.76      0.81       607\n",
            "    Negative       0.64      0.76      0.69       326\n",
            "\n",
            "    accuracy                           0.71      1161\n",
            "   macro avg       0.66      0.67      0.66      1161\n",
            "weighted avg       0.72      0.71      0.71      1161\n",
            "\n",
            "\n",
            "******************************************************************************************\n",
            "Alpha Size: 0.8\n",
            "Window Size: 2\n",
            "******************************************************************************************\n",
            "\n",
            "train samples:7311\n",
            "valid samples:1161\n"
          ]
        },
        {
          "name": "stderr",
          "output_type": "stream",
          "text": [
            "  0%|          | 0/57 [00:00<?, ?it/s]/var/folders/3c/71b8pg6d7j5dht_5h_2n4n_c0000gn/T/ipykernel_10911/1044936714.py:147: UserWarning: Implicit dimension choice for softmax has been deprecated. Change the call to include dim=X as an argument.\n",
            "  final_out = torch.nn.functional.softmax(out)\n",
            "100%|██████████| 57/57 [00:10<00:00,  5.64it/s]\n",
            "  0%|          | 0/2 [00:00<?, ?it/s]/var/folders/3c/71b8pg6d7j5dht_5h_2n4n_c0000gn/T/ipykernel_10911/1044936714.py:147: UserWarning: Implicit dimension choice for softmax has been deprecated. Change the call to include dim=X as an argument.\n",
            "  final_out = torch.nn.functional.softmax(out)\n",
            "100%|██████████| 2/2 [00:00<00:00,  6.67it/s]\n"
          ]
        },
        {
          "name": "stdout",
          "output_type": "stream",
          "text": [
            "\n",
            "epoch 0\n",
            "\ttrain_loss:1.087 valid_loss:1.070\n",
            "\ttrain_acc:43.76% valid_acc:57.80%\n",
            "\ttrain_f1:0.415 valid_f1:0.584\n",
            "\ttrain_confusion_matrix:\n",
            "[[ 457  980  995]\n",
            " [ 236 1495  700]\n",
            " [ 284  908 1241]]\n",
            "\tvalid_confusion_matrix:\n",
            "[[ 85  46  97]\n",
            " [ 87 375 145]\n",
            " [ 46  69 211]]\n"
          ]
        },
        {
          "name": "stderr",
          "output_type": "stream",
          "text": [
            "  0%|          | 0/57 [00:00<?, ?it/s]/var/folders/3c/71b8pg6d7j5dht_5h_2n4n_c0000gn/T/ipykernel_10911/1044936714.py:147: UserWarning: Implicit dimension choice for softmax has been deprecated. Change the call to include dim=X as an argument.\n",
            "  final_out = torch.nn.functional.softmax(out)\n",
            "100%|██████████| 57/57 [00:10<00:00,  5.55it/s]\n",
            "  0%|          | 0/2 [00:00<?, ?it/s]/var/folders/3c/71b8pg6d7j5dht_5h_2n4n_c0000gn/T/ipykernel_10911/1044936714.py:147: UserWarning: Implicit dimension choice for softmax has been deprecated. Change the call to include dim=X as an argument.\n",
            "  final_out = torch.nn.functional.softmax(out)\n",
            "100%|██████████| 2/2 [00:00<00:00,  6.88it/s]\n"
          ]
        },
        {
          "name": "stdout",
          "output_type": "stream",
          "text": [
            "\n",
            "epoch 1\n",
            "\ttrain_loss:1.044 valid_loss:0.963\n",
            "\ttrain_acc:51.85% valid_acc:61.41%\n",
            "\ttrain_f1:0.500 valid_f1:0.608\n",
            "\ttrain_confusion_matrix:\n",
            "[[ 633  674 1121]\n",
            " [ 281 1565  589]\n",
            " [ 287  561 1585]]\n",
            "\tvalid_confusion_matrix:\n",
            "[[ 67  60 101]\n",
            " [ 52 448 107]\n",
            " [ 31  97 198]]\n"
          ]
        },
        {
          "name": "stderr",
          "output_type": "stream",
          "text": [
            "  0%|          | 0/57 [00:00<?, ?it/s]/var/folders/3c/71b8pg6d7j5dht_5h_2n4n_c0000gn/T/ipykernel_10911/1044936714.py:147: UserWarning: Implicit dimension choice for softmax has been deprecated. Change the call to include dim=X as an argument.\n",
            "  final_out = torch.nn.functional.softmax(out)\n",
            "100%|██████████| 57/57 [00:10<00:00,  5.46it/s]\n",
            "  0%|          | 0/2 [00:00<?, ?it/s]/var/folders/3c/71b8pg6d7j5dht_5h_2n4n_c0000gn/T/ipykernel_10911/1044936714.py:147: UserWarning: Implicit dimension choice for softmax has been deprecated. Change the call to include dim=X as an argument.\n",
            "  final_out = torch.nn.functional.softmax(out)\n",
            "100%|██████████| 2/2 [00:00<00:00,  6.16it/s]\n"
          ]
        },
        {
          "name": "stdout",
          "output_type": "stream",
          "text": [
            "\n",
            "epoch 2\n",
            "\ttrain_loss:0.929 valid_loss:0.889\n",
            "\ttrain_acc:56.18% valid_acc:62.88%\n",
            "\ttrain_f1:0.536 valid_f1:0.636\n",
            "\ttrain_confusion_matrix:\n",
            "[[ 606  637 1190]\n",
            " [ 207 1769  457]\n",
            " [ 205  501 1724]]\n",
            "\tvalid_confusion_matrix:\n",
            "[[ 89  40  99]\n",
            " [ 99 417  91]\n",
            " [ 51  51 224]]\n"
          ]
        },
        {
          "name": "stderr",
          "output_type": "stream",
          "text": [
            "  0%|          | 0/57 [00:00<?, ?it/s]/var/folders/3c/71b8pg6d7j5dht_5h_2n4n_c0000gn/T/ipykernel_10911/1044936714.py:147: UserWarning: Implicit dimension choice for softmax has been deprecated. Change the call to include dim=X as an argument.\n",
            "  final_out = torch.nn.functional.softmax(out)\n",
            "100%|██████████| 57/57 [00:10<00:00,  5.58it/s]\n",
            "  0%|          | 0/2 [00:00<?, ?it/s]/var/folders/3c/71b8pg6d7j5dht_5h_2n4n_c0000gn/T/ipykernel_10911/1044936714.py:147: UserWarning: Implicit dimension choice for softmax has been deprecated. Change the call to include dim=X as an argument.\n",
            "  final_out = torch.nn.functional.softmax(out)\n",
            "100%|██████████| 2/2 [00:00<00:00,  6.21it/s]\n"
          ]
        },
        {
          "name": "stdout",
          "output_type": "stream",
          "text": [
            "\n",
            "epoch 3\n",
            "\ttrain_loss:0.869 valid_loss:0.837\n",
            "\ttrain_acc:61.68% valid_acc:65.12%\n",
            "\ttrain_f1:0.610 valid_f1:0.661\n",
            "\ttrain_confusion_matrix:\n",
            "[[1053  552  827]\n",
            " [ 357 1816  259]\n",
            " [ 420  381 1631]]\n",
            "\tvalid_confusion_matrix:\n",
            "[[104  40  84]\n",
            " [112 426  69]\n",
            " [ 57  43 226]]\n"
          ]
        },
        {
          "name": "stderr",
          "output_type": "stream",
          "text": [
            "  0%|          | 0/57 [00:00<?, ?it/s]/var/folders/3c/71b8pg6d7j5dht_5h_2n4n_c0000gn/T/ipykernel_10911/1044936714.py:147: UserWarning: Implicit dimension choice for softmax has been deprecated. Change the call to include dim=X as an argument.\n",
            "  final_out = torch.nn.functional.softmax(out)\n",
            "100%|██████████| 57/57 [00:09<00:00,  5.78it/s]\n",
            "  0%|          | 0/2 [00:00<?, ?it/s]/var/folders/3c/71b8pg6d7j5dht_5h_2n4n_c0000gn/T/ipykernel_10911/1044936714.py:147: UserWarning: Implicit dimension choice for softmax has been deprecated. Change the call to include dim=X as an argument.\n",
            "  final_out = torch.nn.functional.softmax(out)\n",
            "100%|██████████| 2/2 [00:00<00:00,  6.98it/s]\n"
          ]
        },
        {
          "name": "stdout",
          "output_type": "stream",
          "text": [
            "\n",
            "epoch 4\n",
            "\ttrain_loss:0.827 valid_loss:0.794\n",
            "\ttrain_acc:63.08% valid_acc:67.27%\n",
            "\ttrain_f1:0.628 valid_f1:0.677\n",
            "\ttrain_confusion_matrix:\n",
            "[[1198  437  798]\n",
            " [ 412 1775  244]\n",
            " [ 509  294 1629]]\n",
            "\tvalid_confusion_matrix:\n",
            "[[ 99  45  84]\n",
            " [ 86 445  76]\n",
            " [ 46  43 237]]\n"
          ]
        },
        {
          "name": "stderr",
          "output_type": "stream",
          "text": [
            "  0%|          | 0/57 [00:00<?, ?it/s]/var/folders/3c/71b8pg6d7j5dht_5h_2n4n_c0000gn/T/ipykernel_10911/1044936714.py:147: UserWarning: Implicit dimension choice for softmax has been deprecated. Change the call to include dim=X as an argument.\n",
            "  final_out = torch.nn.functional.softmax(out)\n",
            "100%|██████████| 57/57 [00:09<00:00,  5.78it/s]\n",
            "  0%|          | 0/2 [00:00<?, ?it/s]/var/folders/3c/71b8pg6d7j5dht_5h_2n4n_c0000gn/T/ipykernel_10911/1044936714.py:147: UserWarning: Implicit dimension choice for softmax has been deprecated. Change the call to include dim=X as an argument.\n",
            "  final_out = torch.nn.functional.softmax(out)\n",
            "100%|██████████| 2/2 [00:00<00:00,  6.79it/s]\n"
          ]
        },
        {
          "name": "stdout",
          "output_type": "stream",
          "text": [
            "\n",
            "epoch 5\n",
            "\ttrain_loss:0.798 valid_loss:0.767\n",
            "\ttrain_acc:64.80% valid_acc:67.53%\n",
            "\ttrain_f1:0.645 valid_f1:0.683\n",
            "\ttrain_confusion_matrix:\n",
            "[[1220  440  774]\n",
            " [ 380 1812  243]\n",
            " [ 469  262 1696]]\n",
            "\tvalid_confusion_matrix:\n",
            "[[112  43  73]\n",
            " [ 93 450  64]\n",
            " [ 65  39 222]]\n"
          ]
        },
        {
          "name": "stderr",
          "output_type": "stream",
          "text": [
            "  0%|          | 0/57 [00:00<?, ?it/s]/var/folders/3c/71b8pg6d7j5dht_5h_2n4n_c0000gn/T/ipykernel_10911/1044936714.py:147: UserWarning: Implicit dimension choice for softmax has been deprecated. Change the call to include dim=X as an argument.\n",
            "  final_out = torch.nn.functional.softmax(out)\n",
            "100%|██████████| 57/57 [00:09<00:00,  5.70it/s]\n",
            "  0%|          | 0/2 [00:00<?, ?it/s]/var/folders/3c/71b8pg6d7j5dht_5h_2n4n_c0000gn/T/ipykernel_10911/1044936714.py:147: UserWarning: Implicit dimension choice for softmax has been deprecated. Change the call to include dim=X as an argument.\n",
            "  final_out = torch.nn.functional.softmax(out)\n",
            "100%|██████████| 2/2 [00:00<00:00,  6.83it/s]\n"
          ]
        },
        {
          "name": "stdout",
          "output_type": "stream",
          "text": [
            "\n",
            "epoch 6\n",
            "\ttrain_loss:0.771 valid_loss:0.756\n",
            "\ttrain_acc:66.68% valid_acc:68.48%\n",
            "\ttrain_f1:0.665 valid_f1:0.686\n",
            "\ttrain_confusion_matrix:\n",
            "[[1315  397  722]\n",
            " [ 393 1827  211]\n",
            " [ 450  258 1723]]\n",
            "\tvalid_confusion_matrix:\n",
            "[[ 93  48  87]\n",
            " [ 71 447  89]\n",
            " [ 37  34 255]]\n"
          ]
        },
        {
          "name": "stderr",
          "output_type": "stream",
          "text": [
            "  0%|          | 0/57 [00:00<?, ?it/s]/var/folders/3c/71b8pg6d7j5dht_5h_2n4n_c0000gn/T/ipykernel_10911/1044936714.py:147: UserWarning: Implicit dimension choice for softmax has been deprecated. Change the call to include dim=X as an argument.\n",
            "  final_out = torch.nn.functional.softmax(out)\n",
            "100%|██████████| 57/57 [00:09<00:00,  5.78it/s]\n",
            "  0%|          | 0/2 [00:00<?, ?it/s]/var/folders/3c/71b8pg6d7j5dht_5h_2n4n_c0000gn/T/ipykernel_10911/1044936714.py:147: UserWarning: Implicit dimension choice for softmax has been deprecated. Change the call to include dim=X as an argument.\n",
            "  final_out = torch.nn.functional.softmax(out)\n",
            "100%|██████████| 2/2 [00:00<00:00,  6.34it/s]\n"
          ]
        },
        {
          "name": "stdout",
          "output_type": "stream",
          "text": [
            "\n",
            "epoch 7\n",
            "\ttrain_loss:0.748 valid_loss:0.735\n",
            "\ttrain_acc:67.31% valid_acc:67.87%\n",
            "\ttrain_f1:0.670 valid_f1:0.686\n",
            "\ttrain_confusion_matrix:\n",
            "[[1293  376  762]\n",
            " [ 385 1836  215]\n",
            " [ 410  237 1782]]\n",
            "\tvalid_confusion_matrix:\n",
            "[[115  45  68]\n",
            " [ 98 449  60]\n",
            " [ 60  42 224]]\n"
          ]
        },
        {
          "name": "stderr",
          "output_type": "stream",
          "text": [
            "  0%|          | 0/57 [00:00<?, ?it/s]/var/folders/3c/71b8pg6d7j5dht_5h_2n4n_c0000gn/T/ipykernel_10911/1044936714.py:147: UserWarning: Implicit dimension choice for softmax has been deprecated. Change the call to include dim=X as an argument.\n",
            "  final_out = torch.nn.functional.softmax(out)\n",
            "100%|██████████| 57/57 [00:09<00:00,  5.87it/s]\n",
            "  0%|          | 0/2 [00:00<?, ?it/s]/var/folders/3c/71b8pg6d7j5dht_5h_2n4n_c0000gn/T/ipykernel_10911/1044936714.py:147: UserWarning: Implicit dimension choice for softmax has been deprecated. Change the call to include dim=X as an argument.\n",
            "  final_out = torch.nn.functional.softmax(out)\n",
            "100%|██████████| 2/2 [00:00<00:00,  6.84it/s]\n"
          ]
        },
        {
          "name": "stdout",
          "output_type": "stream",
          "text": [
            "\n",
            "epoch 8\n",
            "\ttrain_loss:0.731 valid_loss:0.739\n",
            "\ttrain_acc:68.59% valid_acc:68.99%\n",
            "\ttrain_f1:0.684 valid_f1:0.697\n",
            "\ttrain_confusion_matrix:\n",
            "[[1358  363  710]\n",
            " [ 372 1862  199]\n",
            " [ 412  236 1784]]\n",
            "\tvalid_confusion_matrix:\n",
            "[[118  39  71]\n",
            " [101 444  62]\n",
            " [ 48  39 239]]\n"
          ]
        },
        {
          "name": "stderr",
          "output_type": "stream",
          "text": [
            "  0%|          | 0/57 [00:00<?, ?it/s]/var/folders/3c/71b8pg6d7j5dht_5h_2n4n_c0000gn/T/ipykernel_10911/1044936714.py:147: UserWarning: Implicit dimension choice for softmax has been deprecated. Change the call to include dim=X as an argument.\n",
            "  final_out = torch.nn.functional.softmax(out)\n",
            "100%|██████████| 57/57 [00:09<00:00,  5.87it/s]\n",
            "  0%|          | 0/2 [00:00<?, ?it/s]/var/folders/3c/71b8pg6d7j5dht_5h_2n4n_c0000gn/T/ipykernel_10911/1044936714.py:147: UserWarning: Implicit dimension choice for softmax has been deprecated. Change the call to include dim=X as an argument.\n",
            "  final_out = torch.nn.functional.softmax(out)\n",
            "100%|██████████| 2/2 [00:00<00:00,  7.20it/s]\n"
          ]
        },
        {
          "name": "stdout",
          "output_type": "stream",
          "text": [
            "\n",
            "epoch 9\n",
            "\ttrain_loss:0.709 valid_loss:0.731\n",
            "\ttrain_acc:70.02% valid_acc:69.42%\n",
            "\ttrain_f1:0.699 valid_f1:0.702\n",
            "\ttrain_confusion_matrix:\n",
            "[[1424  345  665]\n",
            " [ 377 1855  197]\n",
            " [ 375  228 1830]]\n",
            "\tvalid_confusion_matrix:\n",
            "[[128  37  63]\n",
            " [ 96 446  65]\n",
            " [ 55  39 232]]\n"
          ]
        },
        {
          "name": "stderr",
          "output_type": "stream",
          "text": [
            "  0%|          | 0/57 [00:00<?, ?it/s]/var/folders/3c/71b8pg6d7j5dht_5h_2n4n_c0000gn/T/ipykernel_10911/1044936714.py:147: UserWarning: Implicit dimension choice for softmax has been deprecated. Change the call to include dim=X as an argument.\n",
            "  final_out = torch.nn.functional.softmax(out)\n",
            "100%|██████████| 57/57 [00:09<00:00,  5.73it/s]\n",
            "  0%|          | 0/2 [00:00<?, ?it/s]/var/folders/3c/71b8pg6d7j5dht_5h_2n4n_c0000gn/T/ipykernel_10911/1044936714.py:147: UserWarning: Implicit dimension choice for softmax has been deprecated. Change the call to include dim=X as an argument.\n",
            "  final_out = torch.nn.functional.softmax(out)\n",
            "100%|██████████| 2/2 [00:00<00:00,  7.11it/s]\n"
          ]
        },
        {
          "name": "stdout",
          "output_type": "stream",
          "text": [
            "\n",
            "epoch 10\n",
            "\ttrain_loss:0.690 valid_loss:0.730\n",
            "\ttrain_acc:71.13% valid_acc:68.82%\n",
            "\ttrain_f1:0.710 valid_f1:0.696\n",
            "\ttrain_confusion_matrix:\n",
            "[[1490  329  614]\n",
            " [ 367 1869  194]\n",
            " [ 381  221 1831]]\n",
            "\tvalid_confusion_matrix:\n",
            "[[121  32  75]\n",
            " [108 423  76]\n",
            " [ 41  30 255]]\n"
          ]
        },
        {
          "name": "stderr",
          "output_type": "stream",
          "text": [
            "  0%|          | 0/57 [00:00<?, ?it/s]/var/folders/3c/71b8pg6d7j5dht_5h_2n4n_c0000gn/T/ipykernel_10911/1044936714.py:147: UserWarning: Implicit dimension choice for softmax has been deprecated. Change the call to include dim=X as an argument.\n",
            "  final_out = torch.nn.functional.softmax(out)\n",
            "100%|██████████| 57/57 [00:09<00:00,  5.76it/s]\n",
            "  0%|          | 0/2 [00:00<?, ?it/s]/var/folders/3c/71b8pg6d7j5dht_5h_2n4n_c0000gn/T/ipykernel_10911/1044936714.py:147: UserWarning: Implicit dimension choice for softmax has been deprecated. Change the call to include dim=X as an argument.\n",
            "  final_out = torch.nn.functional.softmax(out)\n",
            "100%|██████████| 2/2 [00:00<00:00,  7.17it/s]\n"
          ]
        },
        {
          "name": "stdout",
          "output_type": "stream",
          "text": [
            "\n",
            "epoch 11\n",
            "\ttrain_loss:0.668 valid_loss:0.732\n",
            "\ttrain_acc:72.11% valid_acc:68.22%\n",
            "\ttrain_f1:0.720 valid_f1:0.692\n",
            "\ttrain_confusion_matrix:\n",
            "[[1506  330  597]\n",
            " [ 355 1886  189]\n",
            " [ 344  220 1869]]\n",
            "\tvalid_confusion_matrix:\n",
            "[[125  36  67]\n",
            " [103 430  74]\n",
            " [ 57  32 237]]\n"
          ]
        },
        {
          "name": "stderr",
          "output_type": "stream",
          "text": [
            "  0%|          | 0/57 [00:00<?, ?it/s]/var/folders/3c/71b8pg6d7j5dht_5h_2n4n_c0000gn/T/ipykernel_10911/1044936714.py:147: UserWarning: Implicit dimension choice for softmax has been deprecated. Change the call to include dim=X as an argument.\n",
            "  final_out = torch.nn.functional.softmax(out)\n",
            "100%|██████████| 57/57 [00:09<00:00,  5.71it/s]\n",
            "  0%|          | 0/2 [00:00<?, ?it/s]/var/folders/3c/71b8pg6d7j5dht_5h_2n4n_c0000gn/T/ipykernel_10911/1044936714.py:147: UserWarning: Implicit dimension choice for softmax has been deprecated. Change the call to include dim=X as an argument.\n",
            "  final_out = torch.nn.functional.softmax(out)\n",
            "100%|██████████| 2/2 [00:00<00:00,  6.98it/s]\n"
          ]
        },
        {
          "name": "stdout",
          "output_type": "stream",
          "text": [
            "\n",
            "epoch 12\n",
            "\ttrain_loss:0.653 valid_loss:0.715\n",
            "\ttrain_acc:73.14% valid_acc:70.46%\n",
            "\ttrain_f1:0.731 valid_f1:0.712\n",
            "\ttrain_confusion_matrix:\n",
            "[[1583  305  545]\n",
            " [ 356 1883  191]\n",
            " [ 349  214 1870]]\n",
            "\tvalid_confusion_matrix:\n",
            "[[123  35  70]\n",
            " [ 97 447  63]\n",
            " [ 46  32 248]]\n"
          ]
        },
        {
          "name": "stderr",
          "output_type": "stream",
          "text": [
            "  0%|          | 0/57 [00:00<?, ?it/s]/var/folders/3c/71b8pg6d7j5dht_5h_2n4n_c0000gn/T/ipykernel_10911/1044936714.py:147: UserWarning: Implicit dimension choice for softmax has been deprecated. Change the call to include dim=X as an argument.\n",
            "  final_out = torch.nn.functional.softmax(out)\n",
            "100%|██████████| 57/57 [00:09<00:00,  5.79it/s]\n",
            "  0%|          | 0/2 [00:00<?, ?it/s]/var/folders/3c/71b8pg6d7j5dht_5h_2n4n_c0000gn/T/ipykernel_10911/1044936714.py:147: UserWarning: Implicit dimension choice for softmax has been deprecated. Change the call to include dim=X as an argument.\n",
            "  final_out = torch.nn.functional.softmax(out)\n",
            "100%|██████████| 2/2 [00:00<00:00,  5.65it/s]\n"
          ]
        },
        {
          "name": "stdout",
          "output_type": "stream",
          "text": [
            "\n",
            "epoch 13\n",
            "\ttrain_loss:0.635 valid_loss:0.717\n",
            "\ttrain_acc:74.21% valid_acc:69.60%\n",
            "\ttrain_f1:0.742 valid_f1:0.701\n",
            "\ttrain_confusion_matrix:\n",
            "[[1631  293  507]\n",
            " [ 335 1901  196]\n",
            " [ 334  217 1882]]\n",
            "\tvalid_confusion_matrix:\n",
            "[[110  34  84]\n",
            " [ 81 452  74]\n",
            " [ 44  36 246]]\n"
          ]
        },
        {
          "name": "stderr",
          "output_type": "stream",
          "text": [
            "  0%|          | 0/57 [00:00<?, ?it/s]/var/folders/3c/71b8pg6d7j5dht_5h_2n4n_c0000gn/T/ipykernel_10911/1044936714.py:147: UserWarning: Implicit dimension choice for softmax has been deprecated. Change the call to include dim=X as an argument.\n",
            "  final_out = torch.nn.functional.softmax(out)\n",
            "100%|██████████| 57/57 [00:10<00:00,  5.69it/s]\n",
            "  0%|          | 0/2 [00:00<?, ?it/s]/var/folders/3c/71b8pg6d7j5dht_5h_2n4n_c0000gn/T/ipykernel_10911/1044936714.py:147: UserWarning: Implicit dimension choice for softmax has been deprecated. Change the call to include dim=X as an argument.\n",
            "  final_out = torch.nn.functional.softmax(out)\n",
            "100%|██████████| 2/2 [00:00<00:00,  6.90it/s]\n"
          ]
        },
        {
          "name": "stdout",
          "output_type": "stream",
          "text": [
            "\n",
            "epoch 14\n",
            "\ttrain_loss:0.615 valid_loss:0.702\n",
            "\ttrain_acc:75.37% valid_acc:70.89%\n",
            "\ttrain_f1:0.754 valid_f1:0.714\n",
            "\ttrain_confusion_matrix:\n",
            "[[1675  271  487]\n",
            " [ 341 1897  194]\n",
            " [ 330  174 1927]]\n",
            "\tvalid_confusion_matrix:\n",
            "[[119  40  69]\n",
            " [ 77 466  64]\n",
            " [ 52  36 238]]\n"
          ]
        },
        {
          "name": "stderr",
          "output_type": "stream",
          "text": [
            "  0%|          | 0/57 [00:00<?, ?it/s]/var/folders/3c/71b8pg6d7j5dht_5h_2n4n_c0000gn/T/ipykernel_10911/1044936714.py:147: UserWarning: Implicit dimension choice for softmax has been deprecated. Change the call to include dim=X as an argument.\n",
            "  final_out = torch.nn.functional.softmax(out)\n",
            "100%|██████████| 57/57 [00:09<00:00,  5.85it/s]\n",
            "  0%|          | 0/2 [00:00<?, ?it/s]/var/folders/3c/71b8pg6d7j5dht_5h_2n4n_c0000gn/T/ipykernel_10911/1044936714.py:147: UserWarning: Implicit dimension choice for softmax has been deprecated. Change the call to include dim=X as an argument.\n",
            "  final_out = torch.nn.functional.softmax(out)\n",
            "100%|██████████| 2/2 [00:00<00:00,  6.84it/s]\n"
          ]
        },
        {
          "name": "stdout",
          "output_type": "stream",
          "text": [
            "\n",
            "epoch 15\n",
            "\ttrain_loss:0.590 valid_loss:0.730\n",
            "\ttrain_acc:76.69% valid_acc:69.77%\n",
            "\ttrain_f1:0.767 valid_f1:0.707\n",
            "\ttrain_confusion_matrix:\n",
            "[[1729  256  446]\n",
            " [ 341 1906  187]\n",
            " [ 286  185 1960]]\n",
            "\tvalid_confusion_matrix:\n",
            "[[132  27  69]\n",
            " [103 434  70]\n",
            " [ 52  30 244]]\n"
          ]
        },
        {
          "name": "stderr",
          "output_type": "stream",
          "text": [
            "  0%|          | 0/57 [00:00<?, ?it/s]/var/folders/3c/71b8pg6d7j5dht_5h_2n4n_c0000gn/T/ipykernel_10911/1044936714.py:147: UserWarning: Implicit dimension choice for softmax has been deprecated. Change the call to include dim=X as an argument.\n",
            "  final_out = torch.nn.functional.softmax(out)\n",
            "100%|██████████| 57/57 [00:09<00:00,  5.93it/s]\n",
            "  0%|          | 0/2 [00:00<?, ?it/s]/var/folders/3c/71b8pg6d7j5dht_5h_2n4n_c0000gn/T/ipykernel_10911/1044936714.py:147: UserWarning: Implicit dimension choice for softmax has been deprecated. Change the call to include dim=X as an argument.\n",
            "  final_out = torch.nn.functional.softmax(out)\n",
            "100%|██████████| 2/2 [00:00<00:00,  7.03it/s]\n"
          ]
        },
        {
          "name": "stdout",
          "output_type": "stream",
          "text": [
            "\n",
            "epoch 16\n",
            "\ttrain_loss:0.575 valid_loss:0.706\n",
            "\ttrain_acc:77.30% valid_acc:71.58%\n",
            "\ttrain_f1:0.773 valid_f1:0.722\n",
            "\ttrain_confusion_matrix:\n",
            "[[1750  245  439]\n",
            " [ 336 1915  182]\n",
            " [ 265  189 1975]]\n",
            "\tvalid_confusion_matrix:\n",
            "[[129  39  60]\n",
            " [ 73 470  64]\n",
            " [ 61  33 232]]\n"
          ]
        },
        {
          "name": "stderr",
          "output_type": "stream",
          "text": [
            "  0%|          | 0/57 [00:00<?, ?it/s]/var/folders/3c/71b8pg6d7j5dht_5h_2n4n_c0000gn/T/ipykernel_10911/1044936714.py:147: UserWarning: Implicit dimension choice for softmax has been deprecated. Change the call to include dim=X as an argument.\n",
            "  final_out = torch.nn.functional.softmax(out)\n",
            "100%|██████████| 57/57 [00:09<00:00,  5.84it/s]\n",
            "  0%|          | 0/2 [00:00<?, ?it/s]/var/folders/3c/71b8pg6d7j5dht_5h_2n4n_c0000gn/T/ipykernel_10911/1044936714.py:147: UserWarning: Implicit dimension choice for softmax has been deprecated. Change the call to include dim=X as an argument.\n",
            "  final_out = torch.nn.functional.softmax(out)\n",
            "100%|██████████| 2/2 [00:00<00:00,  6.98it/s]\n"
          ]
        },
        {
          "name": "stdout",
          "output_type": "stream",
          "text": [
            "\n",
            "epoch 17\n",
            "\ttrain_loss:0.564 valid_loss:0.749\n",
            "\ttrain_acc:77.84% valid_acc:69.77%\n",
            "\ttrain_f1:0.778 valid_f1:0.708\n",
            "\ttrain_confusion_matrix:\n",
            "[[1784  255  393]\n",
            " [ 327 1940  166]\n",
            " [ 285  191 1955]]\n",
            "\tvalid_confusion_matrix:\n",
            "[[137  32  59]\n",
            " [ 90 452  65]\n",
            " [ 72  33 221]]\n"
          ]
        },
        {
          "name": "stderr",
          "output_type": "stream",
          "text": [
            "  0%|          | 0/57 [00:00<?, ?it/s]/var/folders/3c/71b8pg6d7j5dht_5h_2n4n_c0000gn/T/ipykernel_10911/1044936714.py:147: UserWarning: Implicit dimension choice for softmax has been deprecated. Change the call to include dim=X as an argument.\n",
            "  final_out = torch.nn.functional.softmax(out)\n",
            "100%|██████████| 57/57 [00:09<00:00,  5.79it/s]\n",
            "  0%|          | 0/2 [00:00<?, ?it/s]/var/folders/3c/71b8pg6d7j5dht_5h_2n4n_c0000gn/T/ipykernel_10911/1044936714.py:147: UserWarning: Implicit dimension choice for softmax has been deprecated. Change the call to include dim=X as an argument.\n",
            "  final_out = torch.nn.functional.softmax(out)\n",
            "100%|██████████| 2/2 [00:00<00:00,  6.79it/s]\n"
          ]
        },
        {
          "name": "stdout",
          "output_type": "stream",
          "text": [
            "\n",
            "epoch 18\n",
            "\ttrain_loss:0.548 valid_loss:0.764\n",
            "\ttrain_acc:78.54% valid_acc:69.51%\n",
            "\ttrain_f1:0.786 valid_f1:0.707\n",
            "\ttrain_confusion_matrix:\n",
            "[[1819  212  402]\n",
            " [ 326 1915  191]\n",
            " [ 286  149 1996]]\n",
            "\tvalid_confusion_matrix:\n",
            "[[144  30  54]\n",
            " [104 450  53]\n",
            " [ 82  31 213]]\n"
          ]
        },
        {
          "name": "stderr",
          "output_type": "stream",
          "text": [
            "  0%|          | 0/57 [00:00<?, ?it/s]/var/folders/3c/71b8pg6d7j5dht_5h_2n4n_c0000gn/T/ipykernel_10911/1044936714.py:147: UserWarning: Implicit dimension choice for softmax has been deprecated. Change the call to include dim=X as an argument.\n",
            "  final_out = torch.nn.functional.softmax(out)\n",
            "100%|██████████| 57/57 [00:09<00:00,  5.83it/s]\n",
            "  0%|          | 0/2 [00:00<?, ?it/s]/var/folders/3c/71b8pg6d7j5dht_5h_2n4n_c0000gn/T/ipykernel_10911/1044936714.py:147: UserWarning: Implicit dimension choice for softmax has been deprecated. Change the call to include dim=X as an argument.\n",
            "  final_out = torch.nn.functional.softmax(out)\n",
            "100%|██████████| 2/2 [00:00<00:00,  6.94it/s]\n"
          ]
        },
        {
          "name": "stdout",
          "output_type": "stream",
          "text": [
            "\n",
            "epoch 19\n",
            "\ttrain_loss:0.525 valid_loss:0.743\n",
            "\ttrain_acc:79.76% valid_acc:69.77%\n",
            "\ttrain_f1:0.798 valid_f1:0.708\n",
            "\ttrain_confusion_matrix:\n",
            "[[1836  212  384]\n",
            " [ 300 1953  180]\n",
            " [ 258  143 2030]]\n",
            "\tvalid_confusion_matrix:\n",
            "[[134  33  61]\n",
            " [ 92 454  61]\n",
            " [ 71  33 222]]\n",
            "Loading saved model from: model_task2.bin\n"
          ]
        },
        {
          "name": "stderr",
          "output_type": "stream",
          "text": [
            "  0%|          | 0/2 [00:00<?, ?it/s]/var/folders/3c/71b8pg6d7j5dht_5h_2n4n_c0000gn/T/ipykernel_10911/1044936714.py:147: UserWarning: Implicit dimension choice for softmax has been deprecated. Change the call to include dim=X as an argument.\n",
            "  final_out = torch.nn.functional.softmax(out)\n",
            "100%|██████████| 2/2 [00:00<00:00,  7.80it/s]\n"
          ]
        },
        {
          "name": "stdout",
          "output_type": "stream",
          "text": [
            "              precision    recall  f1-score   support\n",
            "\n",
            "     Neutral       0.48      0.52      0.50       228\n",
            "    Positive       0.85      0.77      0.81       607\n",
            "    Negative       0.63      0.72      0.67       326\n",
            "\n",
            "    accuracy                           0.70      1161\n",
            "   macro avg       0.66      0.67      0.66      1161\n",
            "weighted avg       0.72      0.70      0.71      1161\n",
            "\n",
            "\n",
            "******************************************************************************************\n",
            "Alpha Size: 0.8\n",
            "Window Size: 4\n",
            "******************************************************************************************\n",
            "\n",
            "train samples:7311\n",
            "valid samples:1161\n"
          ]
        },
        {
          "name": "stderr",
          "output_type": "stream",
          "text": [
            "  0%|          | 0/57 [00:00<?, ?it/s]/var/folders/3c/71b8pg6d7j5dht_5h_2n4n_c0000gn/T/ipykernel_10911/1044936714.py:147: UserWarning: Implicit dimension choice for softmax has been deprecated. Change the call to include dim=X as an argument.\n",
            "  final_out = torch.nn.functional.softmax(out)\n",
            "100%|██████████| 57/57 [00:10<00:00,  5.42it/s]\n",
            "  0%|          | 0/2 [00:00<?, ?it/s]/var/folders/3c/71b8pg6d7j5dht_5h_2n4n_c0000gn/T/ipykernel_10911/1044936714.py:147: UserWarning: Implicit dimension choice for softmax has been deprecated. Change the call to include dim=X as an argument.\n",
            "  final_out = torch.nn.functional.softmax(out)\n",
            "100%|██████████| 2/2 [00:00<00:00,  5.83it/s]\n"
          ]
        },
        {
          "name": "stdout",
          "output_type": "stream",
          "text": [
            "\n",
            "epoch 0\n",
            "\ttrain_loss:1.086 valid_loss:1.077\n",
            "\ttrain_acc:45.39% valid_acc:51.51%\n",
            "\ttrain_f1:0.450 valid_f1:0.534\n",
            "\ttrain_confusion_matrix:\n",
            "[[1319  558  555]\n",
            " [ 899 1191  341]\n",
            " [ 993  638  802]]\n",
            "\tvalid_confusion_matrix:\n",
            "[[128  36  64]\n",
            " [201 315  91]\n",
            " [101  70 155]]\n"
          ]
        },
        {
          "name": "stderr",
          "output_type": "stream",
          "text": [
            "  0%|          | 0/57 [00:00<?, ?it/s]/var/folders/3c/71b8pg6d7j5dht_5h_2n4n_c0000gn/T/ipykernel_10911/1044936714.py:147: UserWarning: Implicit dimension choice for softmax has been deprecated. Change the call to include dim=X as an argument.\n",
            "  final_out = torch.nn.functional.softmax(out)\n",
            "100%|██████████| 57/57 [00:10<00:00,  5.30it/s]\n",
            "  0%|          | 0/2 [00:00<?, ?it/s]/var/folders/3c/71b8pg6d7j5dht_5h_2n4n_c0000gn/T/ipykernel_10911/1044936714.py:147: UserWarning: Implicit dimension choice for softmax has been deprecated. Change the call to include dim=X as an argument.\n",
            "  final_out = torch.nn.functional.softmax(out)\n",
            "100%|██████████| 2/2 [00:00<00:00,  5.81it/s]\n"
          ]
        },
        {
          "name": "stdout",
          "output_type": "stream",
          "text": [
            "\n",
            "epoch 1\n",
            "\ttrain_loss:1.042 valid_loss:0.980\n",
            "\ttrain_acc:53.21% valid_acc:60.64%\n",
            "\ttrain_f1:0.530 valid_f1:0.605\n",
            "\ttrain_confusion_matrix:\n",
            "[[1026  482  927]\n",
            " [ 504 1427  501]\n",
            " [ 512  488 1429]]\n",
            "\tvalid_confusion_matrix:\n",
            "[[ 68  47 113]\n",
            " [ 55 403 149]\n",
            " [ 22  71 233]]\n"
          ]
        },
        {
          "name": "stderr",
          "output_type": "stream",
          "text": [
            "  0%|          | 0/57 [00:00<?, ?it/s]/var/folders/3c/71b8pg6d7j5dht_5h_2n4n_c0000gn/T/ipykernel_10911/1044936714.py:147: UserWarning: Implicit dimension choice for softmax has been deprecated. Change the call to include dim=X as an argument.\n",
            "  final_out = torch.nn.functional.softmax(out)\n",
            "100%|██████████| 57/57 [00:10<00:00,  5.56it/s]\n",
            "  0%|          | 0/2 [00:00<?, ?it/s]/var/folders/3c/71b8pg6d7j5dht_5h_2n4n_c0000gn/T/ipykernel_10911/1044936714.py:147: UserWarning: Implicit dimension choice for softmax has been deprecated. Change the call to include dim=X as an argument.\n",
            "  final_out = torch.nn.functional.softmax(out)\n",
            "100%|██████████| 2/2 [00:00<00:00,  6.47it/s]\n"
          ]
        },
        {
          "name": "stdout",
          "output_type": "stream",
          "text": [
            "\n",
            "epoch 2\n",
            "\ttrain_loss:0.924 valid_loss:0.875\n",
            "\ttrain_acc:57.68% valid_acc:63.39%\n",
            "\ttrain_f1:0.568 valid_f1:0.629\n",
            "\ttrain_confusion_matrix:\n",
            "[[ 934  560  937]\n",
            " [ 347 1740  347]\n",
            " [ 413  484 1534]]\n",
            "\tvalid_confusion_matrix:\n",
            "[[ 60  44 124]\n",
            " [ 66 420 121]\n",
            " [ 20  50 256]]\n"
          ]
        },
        {
          "name": "stderr",
          "output_type": "stream",
          "text": [
            "  0%|          | 0/57 [00:00<?, ?it/s]/var/folders/3c/71b8pg6d7j5dht_5h_2n4n_c0000gn/T/ipykernel_10911/1044936714.py:147: UserWarning: Implicit dimension choice for softmax has been deprecated. Change the call to include dim=X as an argument.\n",
            "  final_out = torch.nn.functional.softmax(out)\n",
            "100%|██████████| 57/57 [00:10<00:00,  5.56it/s]\n",
            "  0%|          | 0/2 [00:00<?, ?it/s]/var/folders/3c/71b8pg6d7j5dht_5h_2n4n_c0000gn/T/ipykernel_10911/1044936714.py:147: UserWarning: Implicit dimension choice for softmax has been deprecated. Change the call to include dim=X as an argument.\n",
            "  final_out = torch.nn.functional.softmax(out)\n",
            "100%|██████████| 2/2 [00:00<00:00,  6.12it/s]\n"
          ]
        },
        {
          "name": "stdout",
          "output_type": "stream",
          "text": [
            "\n",
            "epoch 3\n",
            "\ttrain_loss:0.854 valid_loss:0.799\n",
            "\ttrain_acc:62.34% valid_acc:66.67%\n",
            "\ttrain_f1:0.620 valid_f1:0.674\n",
            "\ttrain_confusion_matrix:\n",
            "[[1168  431  835]\n",
            " [ 443 1744  243]\n",
            " [ 489  307 1636]]\n",
            "\tvalid_confusion_matrix:\n",
            "[[109  48  71]\n",
            " [103 440  64]\n",
            " [ 57  44 225]]\n"
          ]
        },
        {
          "name": "stderr",
          "output_type": "stream",
          "text": [
            "  0%|          | 0/57 [00:00<?, ?it/s]/var/folders/3c/71b8pg6d7j5dht_5h_2n4n_c0000gn/T/ipykernel_10911/1044936714.py:147: UserWarning: Implicit dimension choice for softmax has been deprecated. Change the call to include dim=X as an argument.\n",
            "  final_out = torch.nn.functional.softmax(out)\n",
            "100%|██████████| 57/57 [00:10<00:00,  5.57it/s]\n",
            "  0%|          | 0/2 [00:00<?, ?it/s]/var/folders/3c/71b8pg6d7j5dht_5h_2n4n_c0000gn/T/ipykernel_10911/1044936714.py:147: UserWarning: Implicit dimension choice for softmax has been deprecated. Change the call to include dim=X as an argument.\n",
            "  final_out = torch.nn.functional.softmax(out)\n",
            "100%|██████████| 2/2 [00:00<00:00,  6.49it/s]\n"
          ]
        },
        {
          "name": "stdout",
          "output_type": "stream",
          "text": [
            "\n",
            "epoch 4\n",
            "\ttrain_loss:0.817 valid_loss:0.808\n",
            "\ttrain_acc:64.13% valid_acc:65.89%\n",
            "\ttrain_f1:0.638 valid_f1:0.666\n",
            "\ttrain_confusion_matrix:\n",
            "[[1221  446  767]\n",
            " [ 415 1781  232]\n",
            " [ 464  293 1677]]\n",
            "\tvalid_confusion_matrix:\n",
            "[[106  32  90]\n",
            " [121 399  87]\n",
            " [ 34  32 260]]\n"
          ]
        },
        {
          "name": "stderr",
          "output_type": "stream",
          "text": [
            "  0%|          | 0/57 [00:00<?, ?it/s]/var/folders/3c/71b8pg6d7j5dht_5h_2n4n_c0000gn/T/ipykernel_10911/1044936714.py:147: UserWarning: Implicit dimension choice for softmax has been deprecated. Change the call to include dim=X as an argument.\n",
            "  final_out = torch.nn.functional.softmax(out)\n",
            "100%|██████████| 57/57 [00:10<00:00,  5.63it/s]\n",
            "  0%|          | 0/2 [00:00<?, ?it/s]/var/folders/3c/71b8pg6d7j5dht_5h_2n4n_c0000gn/T/ipykernel_10911/1044936714.py:147: UserWarning: Implicit dimension choice for softmax has been deprecated. Change the call to include dim=X as an argument.\n",
            "  final_out = torch.nn.functional.softmax(out)\n",
            "100%|██████████| 2/2 [00:00<00:00,  6.32it/s]\n"
          ]
        },
        {
          "name": "stdout",
          "output_type": "stream",
          "text": [
            "\n",
            "epoch 5\n",
            "\ttrain_loss:0.786 valid_loss:0.750\n",
            "\ttrain_acc:65.06% valid_acc:68.13%\n",
            "\ttrain_f1:0.649 valid_f1:0.688\n",
            "\ttrain_confusion_matrix:\n",
            "[[1314  388  731]\n",
            " [ 460 1758  213]\n",
            " [ 487  270 1675]]\n",
            "\tvalid_confusion_matrix:\n",
            "[[114  38  76]\n",
            " [106 429  72]\n",
            " [ 39  39 248]]\n"
          ]
        },
        {
          "name": "stderr",
          "output_type": "stream",
          "text": [
            "  0%|          | 0/57 [00:00<?, ?it/s]/var/folders/3c/71b8pg6d7j5dht_5h_2n4n_c0000gn/T/ipykernel_10911/1044936714.py:147: UserWarning: Implicit dimension choice for softmax has been deprecated. Change the call to include dim=X as an argument.\n",
            "  final_out = torch.nn.functional.softmax(out)\n",
            "100%|██████████| 57/57 [00:10<00:00,  5.62it/s]\n",
            "  0%|          | 0/2 [00:00<?, ?it/s]/var/folders/3c/71b8pg6d7j5dht_5h_2n4n_c0000gn/T/ipykernel_10911/1044936714.py:147: UserWarning: Implicit dimension choice for softmax has been deprecated. Change the call to include dim=X as an argument.\n",
            "  final_out = torch.nn.functional.softmax(out)\n",
            "100%|██████████| 2/2 [00:00<00:00,  6.48it/s]\n"
          ]
        },
        {
          "name": "stdout",
          "output_type": "stream",
          "text": [
            "\n",
            "epoch 6\n",
            "\ttrain_loss:0.758 valid_loss:0.732\n",
            "\ttrain_acc:66.78% valid_acc:69.16%\n",
            "\ttrain_f1:0.666 valid_f1:0.697\n",
            "\ttrain_confusion_matrix:\n",
            "[[1323  350  757]\n",
            " [ 426 1776  230]\n",
            " [ 416  245 1773]]\n",
            "\tvalid_confusion_matrix:\n",
            "[[113  39  76]\n",
            " [ 91 443  73]\n",
            " [ 41  38 247]]\n"
          ]
        },
        {
          "name": "stderr",
          "output_type": "stream",
          "text": [
            "  0%|          | 0/57 [00:00<?, ?it/s]/var/folders/3c/71b8pg6d7j5dht_5h_2n4n_c0000gn/T/ipykernel_10911/1044936714.py:147: UserWarning: Implicit dimension choice for softmax has been deprecated. Change the call to include dim=X as an argument.\n",
            "  final_out = torch.nn.functional.softmax(out)\n",
            "100%|██████████| 57/57 [00:10<00:00,  5.48it/s]\n",
            "  0%|          | 0/2 [00:00<?, ?it/s]/var/folders/3c/71b8pg6d7j5dht_5h_2n4n_c0000gn/T/ipykernel_10911/1044936714.py:147: UserWarning: Implicit dimension choice for softmax has been deprecated. Change the call to include dim=X as an argument.\n",
            "  final_out = torch.nn.functional.softmax(out)\n",
            "100%|██████████| 2/2 [00:00<00:00,  6.62it/s]\n"
          ]
        },
        {
          "name": "stdout",
          "output_type": "stream",
          "text": [
            "\n",
            "epoch 7\n",
            "\ttrain_loss:0.737 valid_loss:0.758\n",
            "\ttrain_acc:67.80% valid_acc:66.58%\n",
            "\ttrain_f1:0.677 valid_f1:0.675\n",
            "\ttrain_confusion_matrix:\n",
            "[[1374  339  722]\n",
            " [ 414 1794  219]\n",
            " [ 418  237 1779]]\n",
            "\tvalid_confusion_matrix:\n",
            "[[118  28  82]\n",
            " [130 395  82]\n",
            " [ 36  30 260]]\n"
          ]
        },
        {
          "name": "stderr",
          "output_type": "stream",
          "text": [
            "  0%|          | 0/57 [00:00<?, ?it/s]/var/folders/3c/71b8pg6d7j5dht_5h_2n4n_c0000gn/T/ipykernel_10911/1044936714.py:147: UserWarning: Implicit dimension choice for softmax has been deprecated. Change the call to include dim=X as an argument.\n",
            "  final_out = torch.nn.functional.softmax(out)\n",
            "100%|██████████| 57/57 [00:10<00:00,  5.60it/s]\n",
            "  0%|          | 0/2 [00:00<?, ?it/s]/var/folders/3c/71b8pg6d7j5dht_5h_2n4n_c0000gn/T/ipykernel_10911/1044936714.py:147: UserWarning: Implicit dimension choice for softmax has been deprecated. Change the call to include dim=X as an argument.\n",
            "  final_out = torch.nn.functional.softmax(out)\n",
            "100%|██████████| 2/2 [00:00<00:00,  6.50it/s]\n"
          ]
        },
        {
          "name": "stdout",
          "output_type": "stream",
          "text": [
            "\n",
            "epoch 8\n",
            "\ttrain_loss:0.718 valid_loss:0.735\n",
            "\ttrain_acc:68.97% valid_acc:68.30%\n",
            "\ttrain_f1:0.689 valid_f1:0.691\n",
            "\ttrain_confusion_matrix:\n",
            "[[1411  294  731]\n",
            " [ 402 1794  233]\n",
            " [ 380  224 1827]]\n",
            "\tvalid_confusion_matrix:\n",
            "[[119  32  77]\n",
            " [116 418  73]\n",
            " [ 38  32 256]]\n"
          ]
        },
        {
          "name": "stderr",
          "output_type": "stream",
          "text": [
            "  0%|          | 0/57 [00:00<?, ?it/s]/var/folders/3c/71b8pg6d7j5dht_5h_2n4n_c0000gn/T/ipykernel_10911/1044936714.py:147: UserWarning: Implicit dimension choice for softmax has been deprecated. Change the call to include dim=X as an argument.\n",
            "  final_out = torch.nn.functional.softmax(out)\n",
            "100%|██████████| 57/57 [00:10<00:00,  5.57it/s]\n",
            "  0%|          | 0/2 [00:00<?, ?it/s]/var/folders/3c/71b8pg6d7j5dht_5h_2n4n_c0000gn/T/ipykernel_10911/1044936714.py:147: UserWarning: Implicit dimension choice for softmax has been deprecated. Change the call to include dim=X as an argument.\n",
            "  final_out = torch.nn.functional.softmax(out)\n",
            "100%|██████████| 2/2 [00:00<00:00,  5.92it/s]\n"
          ]
        },
        {
          "name": "stdout",
          "output_type": "stream",
          "text": [
            "\n",
            "epoch 9\n",
            "\ttrain_loss:0.697 valid_loss:0.718\n",
            "\ttrain_acc:69.83% valid_acc:70.37%\n",
            "\ttrain_f1:0.698 valid_f1:0.711\n",
            "\ttrain_confusion_matrix:\n",
            "[[1454  284  693]\n",
            " [ 407 1820  206]\n",
            " [ 399  212 1821]]\n",
            "\tvalid_confusion_matrix:\n",
            "[[129  38  61]\n",
            " [103 441  63]\n",
            " [ 45  34 247]]\n"
          ]
        },
        {
          "name": "stderr",
          "output_type": "stream",
          "text": [
            "  0%|          | 0/57 [00:00<?, ?it/s]/var/folders/3c/71b8pg6d7j5dht_5h_2n4n_c0000gn/T/ipykernel_10911/1044936714.py:147: UserWarning: Implicit dimension choice for softmax has been deprecated. Change the call to include dim=X as an argument.\n",
            "  final_out = torch.nn.functional.softmax(out)\n",
            "100%|██████████| 57/57 [00:10<00:00,  5.67it/s]\n",
            "  0%|          | 0/2 [00:00<?, ?it/s]/var/folders/3c/71b8pg6d7j5dht_5h_2n4n_c0000gn/T/ipykernel_10911/1044936714.py:147: UserWarning: Implicit dimension choice for softmax has been deprecated. Change the call to include dim=X as an argument.\n",
            "  final_out = torch.nn.functional.softmax(out)\n",
            "100%|██████████| 2/2 [00:00<00:00,  6.20it/s]\n"
          ]
        },
        {
          "name": "stdout",
          "output_type": "stream",
          "text": [
            "\n",
            "epoch 10\n",
            "\ttrain_loss:0.679 valid_loss:0.737\n",
            "\ttrain_acc:71.57% valid_acc:68.99%\n",
            "\ttrain_f1:0.716 valid_f1:0.698\n",
            "\ttrain_confusion_matrix:\n",
            "[[1533  261  640]\n",
            " [ 403 1824  206]\n",
            " [ 382  182 1865]]\n",
            "\tvalid_confusion_matrix:\n",
            "[[123  28  77]\n",
            " [111 416  80]\n",
            " [ 39  25 262]]\n"
          ]
        },
        {
          "name": "stderr",
          "output_type": "stream",
          "text": [
            "  0%|          | 0/57 [00:00<?, ?it/s]/var/folders/3c/71b8pg6d7j5dht_5h_2n4n_c0000gn/T/ipykernel_10911/1044936714.py:147: UserWarning: Implicit dimension choice for softmax has been deprecated. Change the call to include dim=X as an argument.\n",
            "  final_out = torch.nn.functional.softmax(out)\n",
            "100%|██████████| 57/57 [00:10<00:00,  5.55it/s]\n",
            "  0%|          | 0/2 [00:00<?, ?it/s]/var/folders/3c/71b8pg6d7j5dht_5h_2n4n_c0000gn/T/ipykernel_10911/1044936714.py:147: UserWarning: Implicit dimension choice for softmax has been deprecated. Change the call to include dim=X as an argument.\n",
            "  final_out = torch.nn.functional.softmax(out)\n",
            "100%|██████████| 2/2 [00:00<00:00,  5.66it/s]\n"
          ]
        },
        {
          "name": "stdout",
          "output_type": "stream",
          "text": [
            "\n",
            "epoch 11\n",
            "\ttrain_loss:0.666 valid_loss:0.714\n",
            "\ttrain_acc:72.35% valid_acc:70.20%\n",
            "\ttrain_f1:0.724 valid_f1:0.709\n",
            "\ttrain_confusion_matrix:\n",
            "[[1565  264  604]\n",
            " [ 418 1817  198]\n",
            " [ 367  166 1897]]\n",
            "\tvalid_confusion_matrix:\n",
            "[[125  33  70]\n",
            " [100 436  71]\n",
            " [ 41  31 254]]\n"
          ]
        },
        {
          "name": "stderr",
          "output_type": "stream",
          "text": [
            "  0%|          | 0/57 [00:00<?, ?it/s]/var/folders/3c/71b8pg6d7j5dht_5h_2n4n_c0000gn/T/ipykernel_10911/1044936714.py:147: UserWarning: Implicit dimension choice for softmax has been deprecated. Change the call to include dim=X as an argument.\n",
            "  final_out = torch.nn.functional.softmax(out)\n",
            "100%|██████████| 57/57 [00:10<00:00,  5.30it/s]\n",
            "  0%|          | 0/2 [00:00<?, ?it/s]/var/folders/3c/71b8pg6d7j5dht_5h_2n4n_c0000gn/T/ipykernel_10911/1044936714.py:147: UserWarning: Implicit dimension choice for softmax has been deprecated. Change the call to include dim=X as an argument.\n",
            "  final_out = torch.nn.functional.softmax(out)\n",
            "100%|██████████| 2/2 [00:00<00:00,  6.38it/s]\n"
          ]
        },
        {
          "name": "stdout",
          "output_type": "stream",
          "text": [
            "\n",
            "epoch 12\n",
            "\ttrain_loss:0.652 valid_loss:0.715\n",
            "\ttrain_acc:73.46% valid_acc:70.54%\n",
            "\ttrain_f1:0.734 valid_f1:0.713\n",
            "\ttrain_confusion_matrix:\n",
            "[[1591  276  569]\n",
            " [ 383 1849  198]\n",
            " [ 345  165 1920]]\n",
            "\tvalid_confusion_matrix:\n",
            "[[125  36  67]\n",
            " [ 95 450  62]\n",
            " [ 48  34 244]]\n"
          ]
        },
        {
          "name": "stderr",
          "output_type": "stream",
          "text": [
            "  0%|          | 0/57 [00:00<?, ?it/s]/var/folders/3c/71b8pg6d7j5dht_5h_2n4n_c0000gn/T/ipykernel_10911/1044936714.py:147: UserWarning: Implicit dimension choice for softmax has been deprecated. Change the call to include dim=X as an argument.\n",
            "  final_out = torch.nn.functional.softmax(out)\n",
            "100%|██████████| 57/57 [00:10<00:00,  5.55it/s]\n",
            "  0%|          | 0/2 [00:00<?, ?it/s]/var/folders/3c/71b8pg6d7j5dht_5h_2n4n_c0000gn/T/ipykernel_10911/1044936714.py:147: UserWarning: Implicit dimension choice for softmax has been deprecated. Change the call to include dim=X as an argument.\n",
            "  final_out = torch.nn.functional.softmax(out)\n",
            "100%|██████████| 2/2 [00:00<00:00,  6.13it/s]\n"
          ]
        },
        {
          "name": "stdout",
          "output_type": "stream",
          "text": [
            "\n",
            "epoch 13\n",
            "\ttrain_loss:0.625 valid_loss:0.724\n",
            "\ttrain_acc:74.60% valid_acc:71.15%\n",
            "\ttrain_f1:0.746 valid_f1:0.718\n",
            "\ttrain_confusion_matrix:\n",
            "[[1632  247  553]\n",
            " [ 378 1867  189]\n",
            " [ 343  143 1944]]\n",
            "\tvalid_confusion_matrix:\n",
            "[[126  32  70]\n",
            " [ 95 448  64]\n",
            " [ 41  33 252]]\n"
          ]
        },
        {
          "name": "stderr",
          "output_type": "stream",
          "text": [
            "  0%|          | 0/57 [00:00<?, ?it/s]/var/folders/3c/71b8pg6d7j5dht_5h_2n4n_c0000gn/T/ipykernel_10911/1044936714.py:147: UserWarning: Implicit dimension choice for softmax has been deprecated. Change the call to include dim=X as an argument.\n",
            "  final_out = torch.nn.functional.softmax(out)\n",
            "100%|██████████| 57/57 [00:10<00:00,  5.54it/s]\n",
            "  0%|          | 0/2 [00:00<?, ?it/s]/var/folders/3c/71b8pg6d7j5dht_5h_2n4n_c0000gn/T/ipykernel_10911/1044936714.py:147: UserWarning: Implicit dimension choice for softmax has been deprecated. Change the call to include dim=X as an argument.\n",
            "  final_out = torch.nn.functional.softmax(out)\n",
            "100%|██████████| 2/2 [00:00<00:00,  6.23it/s]\n"
          ]
        },
        {
          "name": "stdout",
          "output_type": "stream",
          "text": [
            "\n",
            "epoch 14\n",
            "\ttrain_loss:0.626 valid_loss:0.718\n",
            "\ttrain_acc:74.66% valid_acc:71.15%\n",
            "\ttrain_f1:0.747 valid_f1:0.717\n",
            "\ttrain_confusion_matrix:\n",
            "[[1655  224  552]\n",
            " [ 358 1869  204]\n",
            " [ 343  168 1923]]\n",
            "\tvalid_confusion_matrix:\n",
            "[[138  43  47]\n",
            " [ 80 478  49]\n",
            " [ 70  46 210]]\n"
          ]
        },
        {
          "name": "stderr",
          "output_type": "stream",
          "text": [
            "  0%|          | 0/57 [00:00<?, ?it/s]/var/folders/3c/71b8pg6d7j5dht_5h_2n4n_c0000gn/T/ipykernel_10911/1044936714.py:147: UserWarning: Implicit dimension choice for softmax has been deprecated. Change the call to include dim=X as an argument.\n",
            "  final_out = torch.nn.functional.softmax(out)\n",
            "100%|██████████| 57/57 [00:10<00:00,  5.61it/s]\n",
            "  0%|          | 0/2 [00:00<?, ?it/s]/var/folders/3c/71b8pg6d7j5dht_5h_2n4n_c0000gn/T/ipykernel_10911/1044936714.py:147: UserWarning: Implicit dimension choice for softmax has been deprecated. Change the call to include dim=X as an argument.\n",
            "  final_out = torch.nn.functional.softmax(out)\n",
            "100%|██████████| 2/2 [00:00<00:00,  6.04it/s]\n"
          ]
        },
        {
          "name": "stdout",
          "output_type": "stream",
          "text": [
            "\n",
            "epoch 15\n",
            "\ttrain_loss:0.604 valid_loss:0.728\n",
            "\ttrain_acc:75.66% valid_acc:70.80%\n",
            "\ttrain_f1:0.757 valid_f1:0.715\n",
            "\ttrain_confusion_matrix:\n",
            "[[1703  228  499]\n",
            " [ 358 1888  188]\n",
            " [ 342  161 1929]]\n",
            "\tvalid_confusion_matrix:\n",
            "[[124  29  75]\n",
            " [ 95 448  64]\n",
            " [ 41  35 250]]\n"
          ]
        },
        {
          "name": "stderr",
          "output_type": "stream",
          "text": [
            "  0%|          | 0/57 [00:00<?, ?it/s]/var/folders/3c/71b8pg6d7j5dht_5h_2n4n_c0000gn/T/ipykernel_10911/1044936714.py:147: UserWarning: Implicit dimension choice for softmax has been deprecated. Change the call to include dim=X as an argument.\n",
            "  final_out = torch.nn.functional.softmax(out)\n",
            "100%|██████████| 57/57 [00:10<00:00,  5.61it/s]\n",
            "  0%|          | 0/2 [00:00<?, ?it/s]/var/folders/3c/71b8pg6d7j5dht_5h_2n4n_c0000gn/T/ipykernel_10911/1044936714.py:147: UserWarning: Implicit dimension choice for softmax has been deprecated. Change the call to include dim=X as an argument.\n",
            "  final_out = torch.nn.functional.softmax(out)\n",
            "100%|██████████| 2/2 [00:00<00:00,  6.19it/s]\n"
          ]
        },
        {
          "name": "stdout",
          "output_type": "stream",
          "text": [
            "\n",
            "epoch 16\n",
            "\ttrain_loss:0.589 valid_loss:0.733\n",
            "\ttrain_acc:76.95% valid_acc:71.06%\n",
            "\ttrain_f1:0.770 valid_f1:0.719\n",
            "\ttrain_confusion_matrix:\n",
            "[[1747  211  476]\n",
            " [ 352 1894  184]\n",
            " [ 305  154 1973]]\n",
            "\tvalid_confusion_matrix:\n",
            "[[135  36  57]\n",
            " [ 95 456  56]\n",
            " [ 60  32 234]]\n"
          ]
        },
        {
          "name": "stderr",
          "output_type": "stream",
          "text": [
            "  0%|          | 0/57 [00:00<?, ?it/s]/var/folders/3c/71b8pg6d7j5dht_5h_2n4n_c0000gn/T/ipykernel_10911/1044936714.py:147: UserWarning: Implicit dimension choice for softmax has been deprecated. Change the call to include dim=X as an argument.\n",
            "  final_out = torch.nn.functional.softmax(out)\n",
            "100%|██████████| 57/57 [00:10<00:00,  5.62it/s]\n",
            "  0%|          | 0/2 [00:00<?, ?it/s]/var/folders/3c/71b8pg6d7j5dht_5h_2n4n_c0000gn/T/ipykernel_10911/1044936714.py:147: UserWarning: Implicit dimension choice for softmax has been deprecated. Change the call to include dim=X as an argument.\n",
            "  final_out = torch.nn.functional.softmax(out)\n",
            "100%|██████████| 2/2 [00:00<00:00,  6.42it/s]\n"
          ]
        },
        {
          "name": "stdout",
          "output_type": "stream",
          "text": [
            "\n",
            "epoch 17\n",
            "\ttrain_loss:0.569 valid_loss:0.718\n",
            "\ttrain_acc:78.11% valid_acc:72.95%\n",
            "\ttrain_f1:0.781 valid_f1:0.731\n",
            "\ttrain_confusion_matrix:\n",
            "[[1789  213  433]\n",
            " [ 343 1915  171]\n",
            " [ 292  145 1995]]\n",
            "\tvalid_confusion_matrix:\n",
            "[[115  48  65]\n",
            " [ 62 487  58]\n",
            " [ 46  35 245]]\n"
          ]
        },
        {
          "name": "stderr",
          "output_type": "stream",
          "text": [
            "  0%|          | 0/57 [00:00<?, ?it/s]/var/folders/3c/71b8pg6d7j5dht_5h_2n4n_c0000gn/T/ipykernel_10911/1044936714.py:147: UserWarning: Implicit dimension choice for softmax has been deprecated. Change the call to include dim=X as an argument.\n",
            "  final_out = torch.nn.functional.softmax(out)\n",
            "100%|██████████| 57/57 [00:10<00:00,  5.58it/s]\n",
            "  0%|          | 0/2 [00:00<?, ?it/s]/var/folders/3c/71b8pg6d7j5dht_5h_2n4n_c0000gn/T/ipykernel_10911/1044936714.py:147: UserWarning: Implicit dimension choice for softmax has been deprecated. Change the call to include dim=X as an argument.\n",
            "  final_out = torch.nn.functional.softmax(out)\n",
            "100%|██████████| 2/2 [00:00<00:00,  6.42it/s]\n"
          ]
        },
        {
          "name": "stdout",
          "output_type": "stream",
          "text": [
            "\n",
            "epoch 18\n",
            "\ttrain_loss:0.555 valid_loss:0.743\n",
            "\ttrain_acc:78.41% valid_acc:71.83%\n",
            "\ttrain_f1:0.785 valid_f1:0.725\n",
            "\ttrain_confusion_matrix:\n",
            "[[1826  200  404]\n",
            " [ 353 1909  171]\n",
            " [ 308  139 1986]]\n",
            "\tvalid_confusion_matrix:\n",
            "[[130  36  62]\n",
            " [ 81 465  61]\n",
            " [ 54  33 239]]\n"
          ]
        },
        {
          "name": "stderr",
          "output_type": "stream",
          "text": [
            "  0%|          | 0/57 [00:00<?, ?it/s]/var/folders/3c/71b8pg6d7j5dht_5h_2n4n_c0000gn/T/ipykernel_10911/1044936714.py:147: UserWarning: Implicit dimension choice for softmax has been deprecated. Change the call to include dim=X as an argument.\n",
            "  final_out = torch.nn.functional.softmax(out)\n",
            "100%|██████████| 57/57 [00:10<00:00,  5.59it/s]\n",
            "  0%|          | 0/2 [00:00<?, ?it/s]/var/folders/3c/71b8pg6d7j5dht_5h_2n4n_c0000gn/T/ipykernel_10911/1044936714.py:147: UserWarning: Implicit dimension choice for softmax has been deprecated. Change the call to include dim=X as an argument.\n",
            "  final_out = torch.nn.functional.softmax(out)\n",
            "100%|██████████| 2/2 [00:00<00:00,  6.36it/s]\n"
          ]
        },
        {
          "name": "stdout",
          "output_type": "stream",
          "text": [
            "\n",
            "epoch 19\n",
            "\ttrain_loss:0.551 valid_loss:0.732\n",
            "\ttrain_acc:78.50% valid_acc:72.18%\n",
            "\ttrain_f1:0.785 valid_f1:0.728\n",
            "\ttrain_confusion_matrix:\n",
            "[[1829  216  386]\n",
            " [ 325 1927  181]\n",
            " [ 310  151 1971]]\n",
            "\tvalid_confusion_matrix:\n",
            "[[131  34  63]\n",
            " [ 84 461  62]\n",
            " [ 50  30 246]]\n",
            "Loading saved model from: model_task2.bin\n"
          ]
        },
        {
          "name": "stderr",
          "output_type": "stream",
          "text": [
            "  0%|          | 0/2 [00:00<?, ?it/s]/var/folders/3c/71b8pg6d7j5dht_5h_2n4n_c0000gn/T/ipykernel_10911/1044936714.py:147: UserWarning: Implicit dimension choice for softmax has been deprecated. Change the call to include dim=X as an argument.\n",
            "  final_out = torch.nn.functional.softmax(out)\n",
            "100%|██████████| 2/2 [00:00<00:00,  7.15it/s]\n"
          ]
        },
        {
          "name": "stdout",
          "output_type": "stream",
          "text": [
            "              precision    recall  f1-score   support\n",
            "\n",
            "     Neutral       0.49      0.57      0.53       228\n",
            "    Positive       0.88      0.72      0.79       607\n",
            "    Negative       0.67      0.80      0.73       326\n",
            "\n",
            "    accuracy                           0.72      1161\n",
            "   macro avg       0.68      0.70      0.68      1161\n",
            "weighted avg       0.74      0.72      0.72      1161\n",
            "\n",
            "\n",
            "******************************************************************************************\n",
            "Alpha Size: 0.8\n",
            "Window Size: 8\n",
            "******************************************************************************************\n",
            "\n",
            "train samples:7311\n",
            "valid samples:1161\n"
          ]
        },
        {
          "name": "stderr",
          "output_type": "stream",
          "text": [
            "  0%|          | 0/57 [00:00<?, ?it/s]/var/folders/3c/71b8pg6d7j5dht_5h_2n4n_c0000gn/T/ipykernel_10911/1044936714.py:147: UserWarning: Implicit dimension choice for softmax has been deprecated. Change the call to include dim=X as an argument.\n",
            "  final_out = torch.nn.functional.softmax(out)\n",
            "100%|██████████| 57/57 [00:11<00:00,  5.03it/s]\n",
            "  0%|          | 0/2 [00:00<?, ?it/s]/var/folders/3c/71b8pg6d7j5dht_5h_2n4n_c0000gn/T/ipykernel_10911/1044936714.py:147: UserWarning: Implicit dimension choice for softmax has been deprecated. Change the call to include dim=X as an argument.\n",
            "  final_out = torch.nn.functional.softmax(out)\n",
            "100%|██████████| 2/2 [00:00<00:00,  5.12it/s]\n"
          ]
        },
        {
          "name": "stdout",
          "output_type": "stream",
          "text": [
            "\n",
            "epoch 0\n",
            "\ttrain_loss:1.090 valid_loss:1.083\n",
            "\ttrain_acc:42.82% valid_acc:48.75%\n",
            "\ttrain_f1:0.411 valid_f1:0.506\n",
            "\ttrain_confusion_matrix:\n",
            "[[ 697  348 1387]\n",
            " [ 438  732 1262]\n",
            " [ 420  317 1695]]\n",
            "\tvalid_confusion_matrix:\n",
            "[[138  32  58]\n",
            " [218 281 108]\n",
            " [118  61 147]]\n"
          ]
        },
        {
          "name": "stderr",
          "output_type": "stream",
          "text": [
            "  0%|          | 0/57 [00:00<?, ?it/s]/var/folders/3c/71b8pg6d7j5dht_5h_2n4n_c0000gn/T/ipykernel_10911/1044936714.py:147: UserWarning: Implicit dimension choice for softmax has been deprecated. Change the call to include dim=X as an argument.\n",
            "  final_out = torch.nn.functional.softmax(out)\n",
            "100%|██████████| 57/57 [00:11<00:00,  4.98it/s]\n",
            "  0%|          | 0/2 [00:00<?, ?it/s]/var/folders/3c/71b8pg6d7j5dht_5h_2n4n_c0000gn/T/ipykernel_10911/1044936714.py:147: UserWarning: Implicit dimension choice for softmax has been deprecated. Change the call to include dim=X as an argument.\n",
            "  final_out = torch.nn.functional.softmax(out)\n",
            "100%|██████████| 2/2 [00:00<00:00,  5.64it/s]\n"
          ]
        },
        {
          "name": "stdout",
          "output_type": "stream",
          "text": [
            "\n",
            "epoch 1\n",
            "\ttrain_loss:1.056 valid_loss:1.012\n",
            "\ttrain_acc:53.29% valid_acc:58.57%\n",
            "\ttrain_f1:0.533 valid_f1:0.593\n",
            "\ttrain_confusion_matrix:\n",
            "[[1161  484  786]\n",
            " [ 591 1365  477]\n",
            " [ 605  465 1362]]\n",
            "\tvalid_confusion_matrix:\n",
            "[[ 90  40  98]\n",
            " [ 96 372 139]\n",
            " [ 44  64 218]]\n"
          ]
        },
        {
          "name": "stderr",
          "output_type": "stream",
          "text": [
            "  0%|          | 0/57 [00:00<?, ?it/s]/var/folders/3c/71b8pg6d7j5dht_5h_2n4n_c0000gn/T/ipykernel_10911/1044936714.py:147: UserWarning: Implicit dimension choice for softmax has been deprecated. Change the call to include dim=X as an argument.\n",
            "  final_out = torch.nn.functional.softmax(out)\n",
            "100%|██████████| 57/57 [00:11<00:00,  5.04it/s]\n",
            "  0%|          | 0/2 [00:00<?, ?it/s]/var/folders/3c/71b8pg6d7j5dht_5h_2n4n_c0000gn/T/ipykernel_10911/1044936714.py:147: UserWarning: Implicit dimension choice for softmax has been deprecated. Change the call to include dim=X as an argument.\n",
            "  final_out = torch.nn.functional.softmax(out)\n",
            "100%|██████████| 2/2 [00:00<00:00,  5.65it/s]\n"
          ]
        },
        {
          "name": "stdout",
          "output_type": "stream",
          "text": [
            "\n",
            "epoch 2\n",
            "\ttrain_loss:0.945 valid_loss:0.907\n",
            "\ttrain_acc:55.85% valid_acc:60.47%\n",
            "\ttrain_f1:0.547 valid_f1:0.613\n",
            "\ttrain_confusion_matrix:\n",
            "[[ 832  639  962]\n",
            " [ 349 1709  372]\n",
            " [ 386  513 1534]]\n",
            "\tvalid_confusion_matrix:\n",
            "[[ 83  37 108]\n",
            " [123 385  99]\n",
            " [ 44  48 234]]\n"
          ]
        },
        {
          "name": "stderr",
          "output_type": "stream",
          "text": [
            "  0%|          | 0/57 [00:00<?, ?it/s]/var/folders/3c/71b8pg6d7j5dht_5h_2n4n_c0000gn/T/ipykernel_10911/1044936714.py:147: UserWarning: Implicit dimension choice for softmax has been deprecated. Change the call to include dim=X as an argument.\n",
            "  final_out = torch.nn.functional.softmax(out)\n",
            "100%|██████████| 57/57 [00:11<00:00,  5.07it/s]\n",
            "  0%|          | 0/2 [00:00<?, ?it/s]/var/folders/3c/71b8pg6d7j5dht_5h_2n4n_c0000gn/T/ipykernel_10911/1044936714.py:147: UserWarning: Implicit dimension choice for softmax has been deprecated. Change the call to include dim=X as an argument.\n",
            "  final_out = torch.nn.functional.softmax(out)\n",
            "100%|██████████| 2/2 [00:00<00:00,  5.86it/s]\n"
          ]
        },
        {
          "name": "stdout",
          "output_type": "stream",
          "text": [
            "\n",
            "epoch 3\n",
            "\ttrain_loss:0.866 valid_loss:0.822\n",
            "\ttrain_acc:61.20% valid_acc:65.81%\n",
            "\ttrain_f1:0.607 valid_f1:0.666\n",
            "\ttrain_confusion_matrix:\n",
            "[[1115  538  780]\n",
            " [ 420 1755  256]\n",
            " [ 481  356 1595]]\n",
            "\tvalid_confusion_matrix:\n",
            "[[100  45  83]\n",
            " [104 440  63]\n",
            " [ 56  46 224]]\n"
          ]
        },
        {
          "name": "stderr",
          "output_type": "stream",
          "text": [
            "  0%|          | 0/57 [00:00<?, ?it/s]/var/folders/3c/71b8pg6d7j5dht_5h_2n4n_c0000gn/T/ipykernel_10911/1044936714.py:147: UserWarning: Implicit dimension choice for softmax has been deprecated. Change the call to include dim=X as an argument.\n",
            "  final_out = torch.nn.functional.softmax(out)\n",
            "100%|██████████| 57/57 [00:11<00:00,  5.07it/s]\n",
            "  0%|          | 0/2 [00:00<?, ?it/s]/var/folders/3c/71b8pg6d7j5dht_5h_2n4n_c0000gn/T/ipykernel_10911/1044936714.py:147: UserWarning: Implicit dimension choice for softmax has been deprecated. Change the call to include dim=X as an argument.\n",
            "  final_out = torch.nn.functional.softmax(out)\n",
            "100%|██████████| 2/2 [00:00<00:00,  5.50it/s]\n"
          ]
        },
        {
          "name": "stdout",
          "output_type": "stream",
          "text": [
            "\n",
            "epoch 4\n",
            "\ttrain_loss:0.822 valid_loss:0.781\n",
            "\ttrain_acc:63.49% valid_acc:67.53%\n",
            "\ttrain_f1:0.632 valid_f1:0.682\n",
            "\ttrain_confusion_matrix:\n",
            "[[1219  483  730]\n",
            " [ 451 1760  222]\n",
            " [ 501  277 1653]]\n",
            "\tvalid_confusion_matrix:\n",
            "[[107  42  79]\n",
            " [ 95 445  67]\n",
            " [ 52  42 232]]\n"
          ]
        },
        {
          "name": "stderr",
          "output_type": "stream",
          "text": [
            "  0%|          | 0/57 [00:00<?, ?it/s]/var/folders/3c/71b8pg6d7j5dht_5h_2n4n_c0000gn/T/ipykernel_10911/1044936714.py:147: UserWarning: Implicit dimension choice for softmax has been deprecated. Change the call to include dim=X as an argument.\n",
            "  final_out = torch.nn.functional.softmax(out)\n",
            "100%|██████████| 57/57 [00:11<00:00,  5.16it/s]\n",
            "  0%|          | 0/2 [00:00<?, ?it/s]/var/folders/3c/71b8pg6d7j5dht_5h_2n4n_c0000gn/T/ipykernel_10911/1044936714.py:147: UserWarning: Implicit dimension choice for softmax has been deprecated. Change the call to include dim=X as an argument.\n",
            "  final_out = torch.nn.functional.softmax(out)\n",
            "100%|██████████| 2/2 [00:00<00:00,  5.85it/s]\n"
          ]
        },
        {
          "name": "stdout",
          "output_type": "stream",
          "text": [
            "\n",
            "epoch 5\n",
            "\ttrain_loss:0.793 valid_loss:0.768\n",
            "\ttrain_acc:65.43% valid_acc:66.49%\n",
            "\ttrain_f1:0.652 valid_f1:0.676\n",
            "\ttrain_confusion_matrix:\n",
            "[[1284  420  728]\n",
            " [ 436 1783  214]\n",
            " [ 464  260 1707]]\n",
            "\tvalid_confusion_matrix:\n",
            "[[121  39  68]\n",
            " [112 434  61]\n",
            " [ 66  43 217]]\n"
          ]
        },
        {
          "name": "stderr",
          "output_type": "stream",
          "text": [
            "  0%|          | 0/57 [00:00<?, ?it/s]/var/folders/3c/71b8pg6d7j5dht_5h_2n4n_c0000gn/T/ipykernel_10911/1044936714.py:147: UserWarning: Implicit dimension choice for softmax has been deprecated. Change the call to include dim=X as an argument.\n",
            "  final_out = torch.nn.functional.softmax(out)\n",
            "100%|██████████| 57/57 [00:11<00:00,  5.13it/s]\n",
            "  0%|          | 0/2 [00:00<?, ?it/s]/var/folders/3c/71b8pg6d7j5dht_5h_2n4n_c0000gn/T/ipykernel_10911/1044936714.py:147: UserWarning: Implicit dimension choice for softmax has been deprecated. Change the call to include dim=X as an argument.\n",
            "  final_out = torch.nn.functional.softmax(out)\n",
            "100%|██████████| 2/2 [00:00<00:00,  5.91it/s]\n"
          ]
        },
        {
          "name": "stdout",
          "output_type": "stream",
          "text": [
            "\n",
            "epoch 6\n",
            "\ttrain_loss:0.764 valid_loss:0.765\n",
            "\ttrain_acc:67.19% valid_acc:67.10%\n",
            "\ttrain_f1:0.670 valid_f1:0.678\n",
            "\ttrain_confusion_matrix:\n",
            "[[1363  407  664]\n",
            " [ 423 1812  193]\n",
            " [ 450  257 1727]]\n",
            "\tvalid_confusion_matrix:\n",
            "[[116  50  62]\n",
            " [ 89 460  58]\n",
            " [ 71  52 203]]\n"
          ]
        },
        {
          "name": "stderr",
          "output_type": "stream",
          "text": [
            "  0%|          | 0/57 [00:00<?, ?it/s]/var/folders/3c/71b8pg6d7j5dht_5h_2n4n_c0000gn/T/ipykernel_10911/1044936714.py:147: UserWarning: Implicit dimension choice for softmax has been deprecated. Change the call to include dim=X as an argument.\n",
            "  final_out = torch.nn.functional.softmax(out)\n",
            "100%|██████████| 57/57 [00:11<00:00,  5.11it/s]\n",
            "  0%|          | 0/2 [00:00<?, ?it/s]/var/folders/3c/71b8pg6d7j5dht_5h_2n4n_c0000gn/T/ipykernel_10911/1044936714.py:147: UserWarning: Implicit dimension choice for softmax has been deprecated. Change the call to include dim=X as an argument.\n",
            "  final_out = torch.nn.functional.softmax(out)\n",
            "100%|██████████| 2/2 [00:00<00:00,  5.86it/s]\n"
          ]
        },
        {
          "name": "stdout",
          "output_type": "stream",
          "text": [
            "\n",
            "epoch 7\n",
            "\ttrain_loss:0.746 valid_loss:0.780\n",
            "\ttrain_acc:68.04% valid_acc:65.89%\n",
            "\ttrain_f1:0.678 valid_f1:0.671\n",
            "\ttrain_confusion_matrix:\n",
            "[[1363  397  670]\n",
            " [ 382 1834  218]\n",
            " [ 412  253 1767]]\n",
            "\tvalid_confusion_matrix:\n",
            "[[116  30  82]\n",
            " [129 398  80]\n",
            " [ 51  24 251]]\n"
          ]
        },
        {
          "name": "stderr",
          "output_type": "stream",
          "text": [
            "  0%|          | 0/57 [00:00<?, ?it/s]/var/folders/3c/71b8pg6d7j5dht_5h_2n4n_c0000gn/T/ipykernel_10911/1044936714.py:147: UserWarning: Implicit dimension choice for softmax has been deprecated. Change the call to include dim=X as an argument.\n",
            "  final_out = torch.nn.functional.softmax(out)\n",
            "100%|██████████| 57/57 [00:11<00:00,  5.12it/s]\n",
            "  0%|          | 0/2 [00:00<?, ?it/s]/var/folders/3c/71b8pg6d7j5dht_5h_2n4n_c0000gn/T/ipykernel_10911/1044936714.py:147: UserWarning: Implicit dimension choice for softmax has been deprecated. Change the call to include dim=X as an argument.\n",
            "  final_out = torch.nn.functional.softmax(out)\n",
            "100%|██████████| 2/2 [00:00<00:00,  5.74it/s]\n"
          ]
        },
        {
          "name": "stdout",
          "output_type": "stream",
          "text": [
            "\n",
            "epoch 8\n",
            "\ttrain_loss:0.728 valid_loss:0.762\n",
            "\ttrain_acc:69.13% valid_acc:67.53%\n",
            "\ttrain_f1:0.690 valid_f1:0.685\n",
            "\ttrain_confusion_matrix:\n",
            "[[1435  373  627]\n",
            " [ 401 1833  196]\n",
            " [ 423  232 1776]]\n",
            "\tvalid_confusion_matrix:\n",
            "[[117  36  75]\n",
            " [108 426  73]\n",
            " [ 55  30 241]]\n"
          ]
        },
        {
          "name": "stderr",
          "output_type": "stream",
          "text": [
            "  0%|          | 0/57 [00:00<?, ?it/s]/var/folders/3c/71b8pg6d7j5dht_5h_2n4n_c0000gn/T/ipykernel_10911/1044936714.py:147: UserWarning: Implicit dimension choice for softmax has been deprecated. Change the call to include dim=X as an argument.\n",
            "  final_out = torch.nn.functional.softmax(out)\n",
            "100%|██████████| 57/57 [00:11<00:00,  5.13it/s]\n",
            "  0%|          | 0/2 [00:00<?, ?it/s]/var/folders/3c/71b8pg6d7j5dht_5h_2n4n_c0000gn/T/ipykernel_10911/1044936714.py:147: UserWarning: Implicit dimension choice for softmax has been deprecated. Change the call to include dim=X as an argument.\n",
            "  final_out = torch.nn.functional.softmax(out)\n",
            "100%|██████████| 2/2 [00:00<00:00,  5.44it/s]\n"
          ]
        },
        {
          "name": "stdout",
          "output_type": "stream",
          "text": [
            "\n",
            "epoch 9\n",
            "\ttrain_loss:0.703 valid_loss:0.742\n",
            "\ttrain_acc:69.82% valid_acc:69.68%\n",
            "\ttrain_f1:0.698 valid_f1:0.703\n",
            "\ttrain_confusion_matrix:\n",
            "[[1490  342  603]\n",
            " [ 398 1814  216]\n",
            " [ 443  200 1790]]\n",
            "\tvalid_confusion_matrix:\n",
            "[[118  42  68]\n",
            " [ 88 457  62]\n",
            " [ 52  40 234]]\n"
          ]
        },
        {
          "name": "stderr",
          "output_type": "stream",
          "text": [
            "  0%|          | 0/57 [00:00<?, ?it/s]/var/folders/3c/71b8pg6d7j5dht_5h_2n4n_c0000gn/T/ipykernel_10911/1044936714.py:147: UserWarning: Implicit dimension choice for softmax has been deprecated. Change the call to include dim=X as an argument.\n",
            "  final_out = torch.nn.functional.softmax(out)\n",
            "100%|██████████| 57/57 [00:11<00:00,  5.14it/s]\n",
            "  0%|          | 0/2 [00:00<?, ?it/s]/var/folders/3c/71b8pg6d7j5dht_5h_2n4n_c0000gn/T/ipykernel_10911/1044936714.py:147: UserWarning: Implicit dimension choice for softmax has been deprecated. Change the call to include dim=X as an argument.\n",
            "  final_out = torch.nn.functional.softmax(out)\n",
            "100%|██████████| 2/2 [00:00<00:00,  5.95it/s]\n"
          ]
        },
        {
          "name": "stdout",
          "output_type": "stream",
          "text": [
            "\n",
            "epoch 10\n",
            "\ttrain_loss:0.680 valid_loss:0.737\n",
            "\ttrain_acc:71.19% valid_acc:68.91%\n",
            "\ttrain_f1:0.711 valid_f1:0.697\n",
            "\ttrain_confusion_matrix:\n",
            "[[1520  352  561]\n",
            " [ 369 1867  191]\n",
            " [ 394  235 1807]]\n",
            "\tvalid_confusion_matrix:\n",
            "[[123  42  63]\n",
            " [ 88 459  60]\n",
            " [ 66  42 218]]\n"
          ]
        },
        {
          "name": "stderr",
          "output_type": "stream",
          "text": [
            "  0%|          | 0/57 [00:00<?, ?it/s]/var/folders/3c/71b8pg6d7j5dht_5h_2n4n_c0000gn/T/ipykernel_10911/1044936714.py:147: UserWarning: Implicit dimension choice for softmax has been deprecated. Change the call to include dim=X as an argument.\n",
            "  final_out = torch.nn.functional.softmax(out)\n",
            "100%|██████████| 57/57 [00:10<00:00,  5.19it/s]\n",
            "  0%|          | 0/2 [00:00<?, ?it/s]/var/folders/3c/71b8pg6d7j5dht_5h_2n4n_c0000gn/T/ipykernel_10911/1044936714.py:147: UserWarning: Implicit dimension choice for softmax has been deprecated. Change the call to include dim=X as an argument.\n",
            "  final_out = torch.nn.functional.softmax(out)\n",
            "100%|██████████| 2/2 [00:00<00:00,  5.99it/s]\n"
          ]
        },
        {
          "name": "stdout",
          "output_type": "stream",
          "text": [
            "\n",
            "epoch 11\n",
            "\ttrain_loss:0.664 valid_loss:0.752\n",
            "\ttrain_acc:71.96% valid_acc:69.08%\n",
            "\ttrain_f1:0.719 valid_f1:0.700\n",
            "\ttrain_confusion_matrix:\n",
            "[[1546  337  548]\n",
            " [ 378 1870  186]\n",
            " [ 391  206 1834]]\n",
            "\tvalid_confusion_matrix:\n",
            "[[130  36  62]\n",
            " [ 92 451  64]\n",
            " [ 68  37 221]]\n"
          ]
        },
        {
          "name": "stderr",
          "output_type": "stream",
          "text": [
            "  0%|          | 0/57 [00:00<?, ?it/s]/var/folders/3c/71b8pg6d7j5dht_5h_2n4n_c0000gn/T/ipykernel_10911/1044936714.py:147: UserWarning: Implicit dimension choice for softmax has been deprecated. Change the call to include dim=X as an argument.\n",
            "  final_out = torch.nn.functional.softmax(out)\n",
            "100%|██████████| 57/57 [00:11<00:00,  5.11it/s]\n",
            "  0%|          | 0/2 [00:00<?, ?it/s]/var/folders/3c/71b8pg6d7j5dht_5h_2n4n_c0000gn/T/ipykernel_10911/1044936714.py:147: UserWarning: Implicit dimension choice for softmax has been deprecated. Change the call to include dim=X as an argument.\n",
            "  final_out = torch.nn.functional.softmax(out)\n",
            "100%|██████████| 2/2 [00:00<00:00,  5.96it/s]\n"
          ]
        },
        {
          "name": "stdout",
          "output_type": "stream",
          "text": [
            "\n",
            "epoch 12\n",
            "\ttrain_loss:0.638 valid_loss:0.772\n",
            "\ttrain_acc:73.60% valid_acc:67.79%\n",
            "\ttrain_f1:0.735 valid_f1:0.688\n",
            "\ttrain_confusion_matrix:\n",
            "[[1606  322  502]\n",
            " [ 355 1896  179]\n",
            " [ 363  205 1868]]\n",
            "\tvalid_confusion_matrix:\n",
            "[[125  38  65]\n",
            " [101 434  72]\n",
            " [ 67  31 228]]\n"
          ]
        },
        {
          "name": "stderr",
          "output_type": "stream",
          "text": [
            "  0%|          | 0/57 [00:00<?, ?it/s]/var/folders/3c/71b8pg6d7j5dht_5h_2n4n_c0000gn/T/ipykernel_10911/1044936714.py:147: UserWarning: Implicit dimension choice for softmax has been deprecated. Change the call to include dim=X as an argument.\n",
            "  final_out = torch.nn.functional.softmax(out)\n",
            "100%|██████████| 57/57 [00:10<00:00,  5.20it/s]\n",
            "  0%|          | 0/2 [00:00<?, ?it/s]/var/folders/3c/71b8pg6d7j5dht_5h_2n4n_c0000gn/T/ipykernel_10911/1044936714.py:147: UserWarning: Implicit dimension choice for softmax has been deprecated. Change the call to include dim=X as an argument.\n",
            "  final_out = torch.nn.functional.softmax(out)\n",
            "100%|██████████| 2/2 [00:00<00:00,  5.99it/s]\n"
          ]
        },
        {
          "name": "stdout",
          "output_type": "stream",
          "text": [
            "\n",
            "epoch 13\n",
            "\ttrain_loss:0.623 valid_loss:0.751\n",
            "\ttrain_acc:74.16% valid_acc:69.60%\n",
            "\ttrain_f1:0.742 valid_f1:0.699\n",
            "\ttrain_confusion_matrix:\n",
            "[[1669  296  468]\n",
            " [ 356 1886  189]\n",
            " [ 369  207 1856]]\n",
            "\tvalid_confusion_matrix:\n",
            "[[110  48  70]\n",
            " [ 65 468  74]\n",
            " [ 54  42 230]]\n"
          ]
        },
        {
          "name": "stderr",
          "output_type": "stream",
          "text": [
            "  0%|          | 0/57 [00:00<?, ?it/s]/var/folders/3c/71b8pg6d7j5dht_5h_2n4n_c0000gn/T/ipykernel_10911/1044936714.py:147: UserWarning: Implicit dimension choice for softmax has been deprecated. Change the call to include dim=X as an argument.\n",
            "  final_out = torch.nn.functional.softmax(out)\n",
            "100%|██████████| 57/57 [00:10<00:00,  5.21it/s]\n",
            "  0%|          | 0/2 [00:00<?, ?it/s]/var/folders/3c/71b8pg6d7j5dht_5h_2n4n_c0000gn/T/ipykernel_10911/1044936714.py:147: UserWarning: Implicit dimension choice for softmax has been deprecated. Change the call to include dim=X as an argument.\n",
            "  final_out = torch.nn.functional.softmax(out)\n",
            "100%|██████████| 2/2 [00:00<00:00,  4.92it/s]\n"
          ]
        },
        {
          "name": "stdout",
          "output_type": "stream",
          "text": [
            "\n",
            "epoch 14\n",
            "\ttrain_loss:0.605 valid_loss:0.772\n",
            "\ttrain_acc:75.55% valid_acc:68.73%\n",
            "\ttrain_f1:0.755 valid_f1:0.695\n",
            "\ttrain_confusion_matrix:\n",
            "[[1720  270  441]\n",
            " [ 347 1892  194]\n",
            " [ 333  199 1900]]\n",
            "\tvalid_confusion_matrix:\n",
            "[[122  46  60]\n",
            " [ 85 456  66]\n",
            " [ 70  36 220]]\n"
          ]
        },
        {
          "name": "stderr",
          "output_type": "stream",
          "text": [
            "  0%|          | 0/57 [00:00<?, ?it/s]/var/folders/3c/71b8pg6d7j5dht_5h_2n4n_c0000gn/T/ipykernel_10911/1044936714.py:147: UserWarning: Implicit dimension choice for softmax has been deprecated. Change the call to include dim=X as an argument.\n",
            "  final_out = torch.nn.functional.softmax(out)\n",
            "100%|██████████| 57/57 [00:10<00:00,  5.19it/s]\n",
            "  0%|          | 0/2 [00:00<?, ?it/s]/var/folders/3c/71b8pg6d7j5dht_5h_2n4n_c0000gn/T/ipykernel_10911/1044936714.py:147: UserWarning: Implicit dimension choice for softmax has been deprecated. Change the call to include dim=X as an argument.\n",
            "  final_out = torch.nn.functional.softmax(out)\n",
            "100%|██████████| 2/2 [00:00<00:00,  5.79it/s]\n"
          ]
        },
        {
          "name": "stdout",
          "output_type": "stream",
          "text": [
            "\n",
            "epoch 15\n",
            "\ttrain_loss:0.579 valid_loss:0.749\n",
            "\ttrain_acc:77.25% valid_acc:70.97%\n",
            "\ttrain_f1:0.772 valid_f1:0.710\n",
            "\ttrain_confusion_matrix:\n",
            "[[1762  243  429]\n",
            " [ 314 1926  193]\n",
            " [ 293  188 1948]]\n",
            "\tvalid_confusion_matrix:\n",
            "[[105  55  68]\n",
            " [ 62 480  65]\n",
            " [ 48  39 239]]\n"
          ]
        },
        {
          "name": "stderr",
          "output_type": "stream",
          "text": [
            "  0%|          | 0/57 [00:00<?, ?it/s]/var/folders/3c/71b8pg6d7j5dht_5h_2n4n_c0000gn/T/ipykernel_10911/1044936714.py:147: UserWarning: Implicit dimension choice for softmax has been deprecated. Change the call to include dim=X as an argument.\n",
            "  final_out = torch.nn.functional.softmax(out)\n",
            "100%|██████████| 57/57 [00:10<00:00,  5.22it/s]\n",
            "  0%|          | 0/2 [00:00<?, ?it/s]/var/folders/3c/71b8pg6d7j5dht_5h_2n4n_c0000gn/T/ipykernel_10911/1044936714.py:147: UserWarning: Implicit dimension choice for softmax has been deprecated. Change the call to include dim=X as an argument.\n",
            "  final_out = torch.nn.functional.softmax(out)\n",
            "100%|██████████| 2/2 [00:00<00:00,  5.50it/s]\n"
          ]
        },
        {
          "name": "stdout",
          "output_type": "stream",
          "text": [
            "\n",
            "epoch 16\n",
            "\ttrain_loss:0.557 valid_loss:0.769\n",
            "\ttrain_acc:77.85% valid_acc:71.06%\n",
            "\ttrain_f1:0.778 valid_f1:0.716\n",
            "\ttrain_confusion_matrix:\n",
            "[[1790  229  417]\n",
            " [ 304 1935  191]\n",
            " [ 284  191 1955]]\n",
            "\tvalid_confusion_matrix:\n",
            "[[121  42  65]\n",
            " [ 70 469  68]\n",
            " [ 59  32 235]]\n"
          ]
        },
        {
          "name": "stderr",
          "output_type": "stream",
          "text": [
            "  0%|          | 0/57 [00:00<?, ?it/s]/var/folders/3c/71b8pg6d7j5dht_5h_2n4n_c0000gn/T/ipykernel_10911/1044936714.py:147: UserWarning: Implicit dimension choice for softmax has been deprecated. Change the call to include dim=X as an argument.\n",
            "  final_out = torch.nn.functional.softmax(out)\n",
            "100%|██████████| 57/57 [00:11<00:00,  5.17it/s]\n",
            "  0%|          | 0/2 [00:00<?, ?it/s]/var/folders/3c/71b8pg6d7j5dht_5h_2n4n_c0000gn/T/ipykernel_10911/1044936714.py:147: UserWarning: Implicit dimension choice for softmax has been deprecated. Change the call to include dim=X as an argument.\n",
            "  final_out = torch.nn.functional.softmax(out)\n",
            "100%|██████████| 2/2 [00:00<00:00,  5.74it/s]\n"
          ]
        },
        {
          "name": "stdout",
          "output_type": "stream",
          "text": [
            "\n",
            "epoch 17\n",
            "\ttrain_loss:0.547 valid_loss:0.792\n",
            "\ttrain_acc:78.51% valid_acc:69.25%\n",
            "\ttrain_f1:0.785 valid_f1:0.699\n",
            "\ttrain_confusion_matrix:\n",
            "[[1811  229  389]\n",
            " [ 307 1947  180]\n",
            " [ 287  176 1970]]\n",
            "\tvalid_confusion_matrix:\n",
            "[[127  47  54]\n",
            " [ 87 469  51]\n",
            " [ 70  48 208]]\n"
          ]
        },
        {
          "name": "stderr",
          "output_type": "stream",
          "text": [
            "  0%|          | 0/57 [00:00<?, ?it/s]/var/folders/3c/71b8pg6d7j5dht_5h_2n4n_c0000gn/T/ipykernel_10911/1044936714.py:147: UserWarning: Implicit dimension choice for softmax has been deprecated. Change the call to include dim=X as an argument.\n",
            "  final_out = torch.nn.functional.softmax(out)\n",
            "100%|██████████| 57/57 [00:11<00:00,  5.18it/s]\n",
            "  0%|          | 0/2 [00:00<?, ?it/s]/var/folders/3c/71b8pg6d7j5dht_5h_2n4n_c0000gn/T/ipykernel_10911/1044936714.py:147: UserWarning: Implicit dimension choice for softmax has been deprecated. Change the call to include dim=X as an argument.\n",
            "  final_out = torch.nn.functional.softmax(out)\n",
            "100%|██████████| 2/2 [00:00<00:00,  5.91it/s]\n"
          ]
        },
        {
          "name": "stdout",
          "output_type": "stream",
          "text": [
            "\n",
            "epoch 18\n",
            "\ttrain_loss:0.528 valid_loss:0.786\n",
            "\ttrain_acc:79.61% valid_acc:69.25%\n",
            "\ttrain_f1:0.796 valid_f1:0.699\n",
            "\ttrain_confusion_matrix:\n",
            "[[1879  216  336]\n",
            " [ 302 1956  179]\n",
            " [ 284  171 1973]]\n",
            "\tvalid_confusion_matrix:\n",
            "[[122  46  60]\n",
            " [ 88 462  57]\n",
            " [ 64  42 220]]\n"
          ]
        },
        {
          "name": "stderr",
          "output_type": "stream",
          "text": [
            "  0%|          | 0/57 [00:00<?, ?it/s]/var/folders/3c/71b8pg6d7j5dht_5h_2n4n_c0000gn/T/ipykernel_10911/1044936714.py:147: UserWarning: Implicit dimension choice for softmax has been deprecated. Change the call to include dim=X as an argument.\n",
            "  final_out = torch.nn.functional.softmax(out)\n",
            "100%|██████████| 57/57 [00:11<00:00,  5.11it/s]\n",
            "  0%|          | 0/2 [00:00<?, ?it/s]/var/folders/3c/71b8pg6d7j5dht_5h_2n4n_c0000gn/T/ipykernel_10911/1044936714.py:147: UserWarning: Implicit dimension choice for softmax has been deprecated. Change the call to include dim=X as an argument.\n",
            "  final_out = torch.nn.functional.softmax(out)\n",
            "100%|██████████| 2/2 [00:00<00:00,  5.96it/s]\n"
          ]
        },
        {
          "name": "stdout",
          "output_type": "stream",
          "text": [
            "\n",
            "epoch 19\n",
            "\ttrain_loss:0.513 valid_loss:0.804\n",
            "\ttrain_acc:80.28% valid_acc:70.20%\n",
            "\ttrain_f1:0.803 valid_f1:0.706\n",
            "\ttrain_confusion_matrix:\n",
            "[[1876  212  347]\n",
            " [ 276 1976  179]\n",
            " [ 250  175 2005]]\n",
            "\tvalid_confusion_matrix:\n",
            "[[112  47  69]\n",
            " [ 74 472  61]\n",
            " [ 53  42 231]]\n",
            "Loading saved model from: model_task2.bin\n"
          ]
        },
        {
          "name": "stderr",
          "output_type": "stream",
          "text": [
            "  0%|          | 0/2 [00:00<?, ?it/s]/var/folders/3c/71b8pg6d7j5dht_5h_2n4n_c0000gn/T/ipykernel_10911/1044936714.py:147: UserWarning: Implicit dimension choice for softmax has been deprecated. Change the call to include dim=X as an argument.\n",
            "  final_out = torch.nn.functional.softmax(out)\n",
            "100%|██████████| 2/2 [00:00<00:00,  6.64it/s]\n"
          ]
        },
        {
          "name": "stdout",
          "output_type": "stream",
          "text": [
            "              precision    recall  f1-score   support\n",
            "\n",
            "     Neutral       0.46      0.54      0.50       228\n",
            "    Positive       0.85      0.76      0.80       607\n",
            "    Negative       0.64      0.68      0.66       326\n",
            "\n",
            "    accuracy                           0.70      1161\n",
            "   macro avg       0.65      0.66      0.65      1161\n",
            "weighted avg       0.71      0.70      0.70      1161\n",
            "\n",
            "\n",
            "******************************************************************************************\n",
            "Alpha Size: 1\n",
            "Window Size: 2\n",
            "******************************************************************************************\n",
            "\n",
            "train samples:7311\n",
            "valid samples:1161\n"
          ]
        },
        {
          "name": "stderr",
          "output_type": "stream",
          "text": [
            "  0%|          | 0/57 [00:00<?, ?it/s]/var/folders/3c/71b8pg6d7j5dht_5h_2n4n_c0000gn/T/ipykernel_10911/1044936714.py:147: UserWarning: Implicit dimension choice for softmax has been deprecated. Change the call to include dim=X as an argument.\n",
            "  final_out = torch.nn.functional.softmax(out)\n",
            "100%|██████████| 57/57 [00:09<00:00,  5.80it/s]\n",
            "  0%|          | 0/2 [00:00<?, ?it/s]/var/folders/3c/71b8pg6d7j5dht_5h_2n4n_c0000gn/T/ipykernel_10911/1044936714.py:147: UserWarning: Implicit dimension choice for softmax has been deprecated. Change the call to include dim=X as an argument.\n",
            "  final_out = torch.nn.functional.softmax(out)\n",
            "100%|██████████| 2/2 [00:00<00:00,  6.42it/s]\n"
          ]
        },
        {
          "name": "stdout",
          "output_type": "stream",
          "text": [
            "\n",
            "epoch 0\n",
            "\ttrain_loss:1.089 valid_loss:1.079\n",
            "\ttrain_acc:43.45% valid_acc:49.27%\n",
            "\ttrain_f1:0.412 valid_f1:0.508\n",
            "\ttrain_confusion_matrix:\n",
            "[[ 495 1102  833]\n",
            " [ 215 1635  583]\n",
            " [ 337 1056 1040]]\n",
            "\tvalid_confusion_matrix:\n",
            "[[128  41  59]\n",
            " [176 294 137]\n",
            " [105  71 150]]\n"
          ]
        },
        {
          "name": "stderr",
          "output_type": "stream",
          "text": [
            "  0%|          | 0/57 [00:00<?, ?it/s]/var/folders/3c/71b8pg6d7j5dht_5h_2n4n_c0000gn/T/ipykernel_10911/1044936714.py:147: UserWarning: Implicit dimension choice for softmax has been deprecated. Change the call to include dim=X as an argument.\n",
            "  final_out = torch.nn.functional.softmax(out)\n",
            "100%|██████████| 57/57 [00:09<00:00,  5.82it/s]\n",
            "  0%|          | 0/2 [00:00<?, ?it/s]/var/folders/3c/71b8pg6d7j5dht_5h_2n4n_c0000gn/T/ipykernel_10911/1044936714.py:147: UserWarning: Implicit dimension choice for softmax has been deprecated. Change the call to include dim=X as an argument.\n",
            "  final_out = torch.nn.functional.softmax(out)\n",
            "100%|██████████| 2/2 [00:00<00:00,  6.55it/s]\n"
          ]
        },
        {
          "name": "stdout",
          "output_type": "stream",
          "text": [
            "\n",
            "epoch 1\n",
            "\ttrain_loss:1.053 valid_loss:1.004\n",
            "\ttrain_acc:50.73% valid_acc:57.62%\n",
            "\ttrain_f1:0.506 valid_f1:0.582\n",
            "\ttrain_confusion_matrix:\n",
            "[[1229  576  626]\n",
            " [ 612 1446  374]\n",
            " [ 890  517 1026]]\n",
            "\tvalid_confusion_matrix:\n",
            "[[ 83  50  95]\n",
            " [ 74 391 142]\n",
            " [ 50  81 195]]\n"
          ]
        },
        {
          "name": "stderr",
          "output_type": "stream",
          "text": [
            "  0%|          | 0/57 [00:00<?, ?it/s]/var/folders/3c/71b8pg6d7j5dht_5h_2n4n_c0000gn/T/ipykernel_10911/1044936714.py:147: UserWarning: Implicit dimension choice for softmax has been deprecated. Change the call to include dim=X as an argument.\n",
            "  final_out = torch.nn.functional.softmax(out)\n",
            "100%|██████████| 57/57 [00:09<00:00,  5.80it/s]\n",
            "  0%|          | 0/2 [00:00<?, ?it/s]/var/folders/3c/71b8pg6d7j5dht_5h_2n4n_c0000gn/T/ipykernel_10911/1044936714.py:147: UserWarning: Implicit dimension choice for softmax has been deprecated. Change the call to include dim=X as an argument.\n",
            "  final_out = torch.nn.functional.softmax(out)\n",
            "100%|██████████| 2/2 [00:00<00:00,  6.56it/s]\n"
          ]
        },
        {
          "name": "stdout",
          "output_type": "stream",
          "text": [
            "\n",
            "epoch 2\n",
            "\ttrain_loss:0.948 valid_loss:0.917\n",
            "\ttrain_acc:55.46% valid_acc:60.38%\n",
            "\ttrain_f1:0.539 valid_f1:0.615\n",
            "\ttrain_confusion_matrix:\n",
            "[[ 764  658 1013]\n",
            " [ 280 1781  369]\n",
            " [ 350  580 1501]]\n",
            "\tvalid_confusion_matrix:\n",
            "[[ 87  41 100]\n",
            " [107 408  92]\n",
            " [ 68  52 206]]\n"
          ]
        },
        {
          "name": "stderr",
          "output_type": "stream",
          "text": [
            "  0%|          | 0/57 [00:00<?, ?it/s]/var/folders/3c/71b8pg6d7j5dht_5h_2n4n_c0000gn/T/ipykernel_10911/1044936714.py:147: UserWarning: Implicit dimension choice for softmax has been deprecated. Change the call to include dim=X as an argument.\n",
            "  final_out = torch.nn.functional.softmax(out)\n",
            "100%|██████████| 57/57 [00:09<00:00,  5.86it/s]\n",
            "  0%|          | 0/2 [00:00<?, ?it/s]/var/folders/3c/71b8pg6d7j5dht_5h_2n4n_c0000gn/T/ipykernel_10911/1044936714.py:147: UserWarning: Implicit dimension choice for softmax has been deprecated. Change the call to include dim=X as an argument.\n",
            "  final_out = torch.nn.functional.softmax(out)\n",
            "100%|██████████| 2/2 [00:00<00:00,  6.41it/s]\n"
          ]
        },
        {
          "name": "stdout",
          "output_type": "stream",
          "text": [
            "\n",
            "epoch 3\n",
            "\ttrain_loss:0.883 valid_loss:0.853\n",
            "\ttrain_acc:59.61% valid_acc:64.08%\n",
            "\ttrain_f1:0.586 valid_f1:0.653\n",
            "\ttrain_confusion_matrix:\n",
            "[[ 938  550  944]\n",
            " [ 354 1818  259]\n",
            " [ 427  413 1593]]\n",
            "\tvalid_confusion_matrix:\n",
            "[[109  40  79]\n",
            " [120 416  71]\n",
            " [ 65  42 219]]\n"
          ]
        },
        {
          "name": "stderr",
          "output_type": "stream",
          "text": [
            "  0%|          | 0/57 [00:00<?, ?it/s]/var/folders/3c/71b8pg6d7j5dht_5h_2n4n_c0000gn/T/ipykernel_10911/1044936714.py:147: UserWarning: Implicit dimension choice for softmax has been deprecated. Change the call to include dim=X as an argument.\n",
            "  final_out = torch.nn.functional.softmax(out)\n",
            "100%|██████████| 57/57 [00:09<00:00,  5.96it/s]\n",
            "  0%|          | 0/2 [00:00<?, ?it/s]/var/folders/3c/71b8pg6d7j5dht_5h_2n4n_c0000gn/T/ipykernel_10911/1044936714.py:147: UserWarning: Implicit dimension choice for softmax has been deprecated. Change the call to include dim=X as an argument.\n",
            "  final_out = torch.nn.functional.softmax(out)\n",
            "100%|██████████| 2/2 [00:00<00:00,  7.05it/s]\n"
          ]
        },
        {
          "name": "stdout",
          "output_type": "stream",
          "text": [
            "\n",
            "epoch 4\n",
            "\ttrain_loss:0.847 valid_loss:0.820\n",
            "\ttrain_acc:61.97% valid_acc:66.75%\n",
            "\ttrain_f1:0.615 valid_f1:0.670\n",
            "\ttrain_confusion_matrix:\n",
            "[[1111  480  842]\n",
            " [ 403 1781  246]\n",
            " [ 474  330 1629]]\n",
            "\tvalid_confusion_matrix:\n",
            "[[ 91  45  92]\n",
            " [ 77 441  89]\n",
            " [ 42  41 243]]\n"
          ]
        },
        {
          "name": "stderr",
          "output_type": "stream",
          "text": [
            "  0%|          | 0/57 [00:00<?, ?it/s]/var/folders/3c/71b8pg6d7j5dht_5h_2n4n_c0000gn/T/ipykernel_10911/1044936714.py:147: UserWarning: Implicit dimension choice for softmax has been deprecated. Change the call to include dim=X as an argument.\n",
            "  final_out = torch.nn.functional.softmax(out)\n",
            "100%|██████████| 57/57 [00:09<00:00,  5.82it/s]\n",
            "  0%|          | 0/2 [00:00<?, ?it/s]/var/folders/3c/71b8pg6d7j5dht_5h_2n4n_c0000gn/T/ipykernel_10911/1044936714.py:147: UserWarning: Implicit dimension choice for softmax has been deprecated. Change the call to include dim=X as an argument.\n",
            "  final_out = torch.nn.functional.softmax(out)\n",
            "100%|██████████| 2/2 [00:00<00:00,  6.85it/s]\n"
          ]
        },
        {
          "name": "stdout",
          "output_type": "stream",
          "text": [
            "\n",
            "epoch 5\n",
            "\ttrain_loss:0.815 valid_loss:0.881\n",
            "\ttrain_acc:63.36% valid_acc:61.41%\n",
            "\ttrain_f1:0.630 valid_f1:0.636\n",
            "\ttrain_confusion_matrix:\n",
            "[[1161  443  831]\n",
            " [ 410 1770  251]\n",
            " [ 457  281 1692]]\n",
            "\tvalid_confusion_matrix:\n",
            "[[136  21  71]\n",
            " [178 356  73]\n",
            " [ 88  17 221]]\n"
          ]
        },
        {
          "name": "stderr",
          "output_type": "stream",
          "text": [
            "  0%|          | 0/57 [00:00<?, ?it/s]/var/folders/3c/71b8pg6d7j5dht_5h_2n4n_c0000gn/T/ipykernel_10911/1044936714.py:147: UserWarning: Implicit dimension choice for softmax has been deprecated. Change the call to include dim=X as an argument.\n",
            "  final_out = torch.nn.functional.softmax(out)\n",
            "100%|██████████| 57/57 [00:09<00:00,  5.99it/s]\n",
            "  0%|          | 0/2 [00:00<?, ?it/s]/var/folders/3c/71b8pg6d7j5dht_5h_2n4n_c0000gn/T/ipykernel_10911/1044936714.py:147: UserWarning: Implicit dimension choice for softmax has been deprecated. Change the call to include dim=X as an argument.\n",
            "  final_out = torch.nn.functional.softmax(out)\n",
            "100%|██████████| 2/2 [00:00<00:00,  6.42it/s]\n"
          ]
        },
        {
          "name": "stdout",
          "output_type": "stream",
          "text": [
            "\n",
            "epoch 6\n",
            "\ttrain_loss:0.793 valid_loss:0.771\n",
            "\ttrain_acc:65.35% valid_acc:68.48%\n",
            "\ttrain_f1:0.651 valid_f1:0.689\n",
            "\ttrain_confusion_matrix:\n",
            "[[1281  419  732]\n",
            " [ 401 1806  227]\n",
            " [ 482  267 1681]]\n",
            "\tvalid_confusion_matrix:\n",
            "[[103  46  79]\n",
            " [ 76 454  77]\n",
            " [ 52  36 238]]\n"
          ]
        },
        {
          "name": "stderr",
          "output_type": "stream",
          "text": [
            "  0%|          | 0/57 [00:00<?, ?it/s]/var/folders/3c/71b8pg6d7j5dht_5h_2n4n_c0000gn/T/ipykernel_10911/1044936714.py:147: UserWarning: Implicit dimension choice for softmax has been deprecated. Change the call to include dim=X as an argument.\n",
            "  final_out = torch.nn.functional.softmax(out)\n",
            "100%|██████████| 57/57 [00:09<00:00,  5.92it/s]\n",
            "  0%|          | 0/2 [00:00<?, ?it/s]/var/folders/3c/71b8pg6d7j5dht_5h_2n4n_c0000gn/T/ipykernel_10911/1044936714.py:147: UserWarning: Implicit dimension choice for softmax has been deprecated. Change the call to include dim=X as an argument.\n",
            "  final_out = torch.nn.functional.softmax(out)\n",
            "100%|██████████| 2/2 [00:00<00:00,  6.77it/s]\n"
          ]
        },
        {
          "name": "stdout",
          "output_type": "stream",
          "text": [
            "\n",
            "epoch 7\n",
            "\ttrain_loss:0.767 valid_loss:0.793\n",
            "\ttrain_acc:66.20% valid_acc:68.04%\n",
            "\ttrain_f1:0.660 valid_f1:0.691\n",
            "\ttrain_confusion_matrix:\n",
            "[[1287  407  737]\n",
            " [ 388 1803  241]\n",
            " [ 441  252 1740]]\n",
            "\tvalid_confusion_matrix:\n",
            "[[121  31  76]\n",
            " [ 98 433  76]\n",
            " [ 63  27 236]]\n"
          ]
        },
        {
          "name": "stderr",
          "output_type": "stream",
          "text": [
            "  0%|          | 0/57 [00:00<?, ?it/s]/var/folders/3c/71b8pg6d7j5dht_5h_2n4n_c0000gn/T/ipykernel_10911/1044936714.py:147: UserWarning: Implicit dimension choice for softmax has been deprecated. Change the call to include dim=X as an argument.\n",
            "  final_out = torch.nn.functional.softmax(out)\n",
            "100%|██████████| 57/57 [00:09<00:00,  5.94it/s]\n",
            "  0%|          | 0/2 [00:00<?, ?it/s]/var/folders/3c/71b8pg6d7j5dht_5h_2n4n_c0000gn/T/ipykernel_10911/1044936714.py:147: UserWarning: Implicit dimension choice for softmax has been deprecated. Change the call to include dim=X as an argument.\n",
            "  final_out = torch.nn.functional.softmax(out)\n",
            "100%|██████████| 2/2 [00:00<00:00,  6.96it/s]\n"
          ]
        },
        {
          "name": "stdout",
          "output_type": "stream",
          "text": [
            "\n",
            "epoch 8\n",
            "\ttrain_loss:0.746 valid_loss:0.769\n",
            "\ttrain_acc:67.58% valid_acc:68.04%\n",
            "\ttrain_f1:0.674 valid_f1:0.687\n",
            "\ttrain_confusion_matrix:\n",
            "[[1375  375  683]\n",
            " [ 378 1812  241]\n",
            " [ 443  245 1744]]\n",
            "\tvalid_confusion_matrix:\n",
            "[[110  43  75]\n",
            " [ 86 441  80]\n",
            " [ 51  36 239]]\n"
          ]
        },
        {
          "name": "stderr",
          "output_type": "stream",
          "text": [
            "  0%|          | 0/57 [00:00<?, ?it/s]/var/folders/3c/71b8pg6d7j5dht_5h_2n4n_c0000gn/T/ipykernel_10911/1044936714.py:147: UserWarning: Implicit dimension choice for softmax has been deprecated. Change the call to include dim=X as an argument.\n",
            "  final_out = torch.nn.functional.softmax(out)\n",
            "100%|██████████| 57/57 [00:09<00:00,  5.92it/s]\n",
            "  0%|          | 0/2 [00:00<?, ?it/s]/var/folders/3c/71b8pg6d7j5dht_5h_2n4n_c0000gn/T/ipykernel_10911/1044936714.py:147: UserWarning: Implicit dimension choice for softmax has been deprecated. Change the call to include dim=X as an argument.\n",
            "  final_out = torch.nn.functional.softmax(out)\n",
            "100%|██████████| 2/2 [00:00<00:00,  6.77it/s]\n"
          ]
        },
        {
          "name": "stdout",
          "output_type": "stream",
          "text": [
            "\n",
            "epoch 9\n",
            "\ttrain_loss:0.723 valid_loss:0.773\n",
            "\ttrain_acc:68.94% valid_acc:67.96%\n",
            "\ttrain_f1:0.688 valid_f1:0.692\n",
            "\ttrain_confusion_matrix:\n",
            "[[1384  351  697]\n",
            " [ 382 1821  229]\n",
            " [ 386  221 1825]]\n",
            "\tvalid_confusion_matrix:\n",
            "[[131  34  63]\n",
            " [115 431  61]\n",
            " [ 69  30 227]]\n"
          ]
        },
        {
          "name": "stderr",
          "output_type": "stream",
          "text": [
            "  0%|          | 0/57 [00:00<?, ?it/s]/var/folders/3c/71b8pg6d7j5dht_5h_2n4n_c0000gn/T/ipykernel_10911/1044936714.py:147: UserWarning: Implicit dimension choice for softmax has been deprecated. Change the call to include dim=X as an argument.\n",
            "  final_out = torch.nn.functional.softmax(out)\n",
            "100%|██████████| 57/57 [00:09<00:00,  5.89it/s]\n",
            "  0%|          | 0/2 [00:00<?, ?it/s]/var/folders/3c/71b8pg6d7j5dht_5h_2n4n_c0000gn/T/ipykernel_10911/1044936714.py:147: UserWarning: Implicit dimension choice for softmax has been deprecated. Change the call to include dim=X as an argument.\n",
            "  final_out = torch.nn.functional.softmax(out)\n",
            "100%|██████████| 2/2 [00:00<00:00,  6.93it/s]\n"
          ]
        },
        {
          "name": "stdout",
          "output_type": "stream",
          "text": [
            "\n",
            "epoch 10\n",
            "\ttrain_loss:0.707 valid_loss:0.759\n",
            "\ttrain_acc:70.23% valid_acc:69.34%\n",
            "\ttrain_f1:0.702 valid_f1:0.697\n",
            "\ttrain_confusion_matrix:\n",
            "[[1476  310  647]\n",
            " [ 371 1839  222]\n",
            " [ 414  208 1809]]\n",
            "\tvalid_confusion_matrix:\n",
            "[[100  43  85]\n",
            " [ 75 446  86]\n",
            " [ 41  26 259]]\n"
          ]
        },
        {
          "name": "stderr",
          "output_type": "stream",
          "text": [
            "  0%|          | 0/57 [00:00<?, ?it/s]/var/folders/3c/71b8pg6d7j5dht_5h_2n4n_c0000gn/T/ipykernel_10911/1044936714.py:147: UserWarning: Implicit dimension choice for softmax has been deprecated. Change the call to include dim=X as an argument.\n",
            "  final_out = torch.nn.functional.softmax(out)\n",
            "100%|██████████| 57/57 [00:09<00:00,  5.88it/s]\n",
            "  0%|          | 0/2 [00:00<?, ?it/s]/var/folders/3c/71b8pg6d7j5dht_5h_2n4n_c0000gn/T/ipykernel_10911/1044936714.py:147: UserWarning: Implicit dimension choice for softmax has been deprecated. Change the call to include dim=X as an argument.\n",
            "  final_out = torch.nn.functional.softmax(out)\n",
            "100%|██████████| 2/2 [00:00<00:00,  6.93it/s]\n"
          ]
        },
        {
          "name": "stdout",
          "output_type": "stream",
          "text": [
            "\n",
            "epoch 11\n",
            "\ttrain_loss:0.680 valid_loss:0.756\n",
            "\ttrain_acc:71.70% valid_acc:69.68%\n",
            "\ttrain_f1:0.716 valid_f1:0.697\n",
            "\ttrain_confusion_matrix:\n",
            "[[1525  302  607]\n",
            " [ 377 1848  206]\n",
            " [ 381  192 1858]]\n",
            "\tvalid_confusion_matrix:\n",
            "[[ 92  45  91]\n",
            " [ 67 452  88]\n",
            " [ 35  26 265]]\n"
          ]
        },
        {
          "name": "stderr",
          "output_type": "stream",
          "text": [
            "  0%|          | 0/57 [00:00<?, ?it/s]/var/folders/3c/71b8pg6d7j5dht_5h_2n4n_c0000gn/T/ipykernel_10911/1044936714.py:147: UserWarning: Implicit dimension choice for softmax has been deprecated. Change the call to include dim=X as an argument.\n",
            "  final_out = torch.nn.functional.softmax(out)\n",
            "100%|██████████| 57/57 [00:09<00:00,  5.79it/s]\n",
            "  0%|          | 0/2 [00:00<?, ?it/s]/var/folders/3c/71b8pg6d7j5dht_5h_2n4n_c0000gn/T/ipykernel_10911/1044936714.py:147: UserWarning: Implicit dimension choice for softmax has been deprecated. Change the call to include dim=X as an argument.\n",
            "  final_out = torch.nn.functional.softmax(out)\n",
            "100%|██████████| 2/2 [00:00<00:00,  6.35it/s]\n"
          ]
        },
        {
          "name": "stdout",
          "output_type": "stream",
          "text": [
            "\n",
            "epoch 12\n",
            "\ttrain_loss:0.656 valid_loss:0.754\n",
            "\ttrain_acc:73.26% valid_acc:68.65%\n",
            "\ttrain_f1:0.732 valid_f1:0.695\n",
            "\ttrain_confusion_matrix:\n",
            "[[1559  293  581]\n",
            " [ 345 1858  226]\n",
            " [ 327  179 1928]]\n",
            "\tvalid_confusion_matrix:\n",
            "[[116  40  72]\n",
            " [106 435  66]\n",
            " [ 53  27 246]]\n"
          ]
        },
        {
          "name": "stderr",
          "output_type": "stream",
          "text": [
            "  0%|          | 0/57 [00:00<?, ?it/s]/var/folders/3c/71b8pg6d7j5dht_5h_2n4n_c0000gn/T/ipykernel_10911/1044936714.py:147: UserWarning: Implicit dimension choice for softmax has been deprecated. Change the call to include dim=X as an argument.\n",
            "  final_out = torch.nn.functional.softmax(out)\n",
            "100%|██████████| 57/57 [00:09<00:00,  5.93it/s]\n",
            "  0%|          | 0/2 [00:00<?, ?it/s]/var/folders/3c/71b8pg6d7j5dht_5h_2n4n_c0000gn/T/ipykernel_10911/1044936714.py:147: UserWarning: Implicit dimension choice for softmax has been deprecated. Change the call to include dim=X as an argument.\n",
            "  final_out = torch.nn.functional.softmax(out)\n",
            "100%|██████████| 2/2 [00:00<00:00,  6.87it/s]\n"
          ]
        },
        {
          "name": "stdout",
          "output_type": "stream",
          "text": [
            "\n",
            "epoch 13\n",
            "\ttrain_loss:0.641 valid_loss:0.769\n",
            "\ttrain_acc:73.62% valid_acc:69.34%\n",
            "\ttrain_f1:0.736 valid_f1:0.700\n",
            "\ttrain_confusion_matrix:\n",
            "[[1588  274  572]\n",
            " [ 343 1866  225]\n",
            " [ 344  167 1917]]\n",
            "\tvalid_confusion_matrix:\n",
            "[[111  46  71]\n",
            " [ 86 453  68]\n",
            " [ 57  28 241]]\n"
          ]
        },
        {
          "name": "stderr",
          "output_type": "stream",
          "text": [
            "  0%|          | 0/57 [00:00<?, ?it/s]/var/folders/3c/71b8pg6d7j5dht_5h_2n4n_c0000gn/T/ipykernel_10911/1044936714.py:147: UserWarning: Implicit dimension choice for softmax has been deprecated. Change the call to include dim=X as an argument.\n",
            "  final_out = torch.nn.functional.softmax(out)\n",
            "100%|██████████| 57/57 [00:09<00:00,  5.89it/s]\n",
            "  0%|          | 0/2 [00:00<?, ?it/s]/var/folders/3c/71b8pg6d7j5dht_5h_2n4n_c0000gn/T/ipykernel_10911/1044936714.py:147: UserWarning: Implicit dimension choice for softmax has been deprecated. Change the call to include dim=X as an argument.\n",
            "  final_out = torch.nn.functional.softmax(out)\n",
            "100%|██████████| 2/2 [00:00<00:00,  6.93it/s]\n"
          ]
        },
        {
          "name": "stdout",
          "output_type": "stream",
          "text": [
            "\n",
            "epoch 14\n",
            "\ttrain_loss:0.621 valid_loss:0.772\n",
            "\ttrain_acc:74.19% valid_acc:68.99%\n",
            "\ttrain_f1:0.742 valid_f1:0.700\n",
            "\ttrain_confusion_matrix:\n",
            "[[1616  263  554]\n",
            " [ 347 1871  212]\n",
            " [ 334  173 1926]]\n",
            "\tvalid_confusion_matrix:\n",
            "[[127  34  67]\n",
            " [102 443  62]\n",
            " [ 65  30 231]]\n"
          ]
        },
        {
          "name": "stderr",
          "output_type": "stream",
          "text": [
            "  0%|          | 0/57 [00:00<?, ?it/s]/var/folders/3c/71b8pg6d7j5dht_5h_2n4n_c0000gn/T/ipykernel_10911/1044936714.py:147: UserWarning: Implicit dimension choice for softmax has been deprecated. Change the call to include dim=X as an argument.\n",
            "  final_out = torch.nn.functional.softmax(out)\n",
            "100%|██████████| 57/57 [00:09<00:00,  6.03it/s]\n",
            "  0%|          | 0/2 [00:00<?, ?it/s]/var/folders/3c/71b8pg6d7j5dht_5h_2n4n_c0000gn/T/ipykernel_10911/1044936714.py:147: UserWarning: Implicit dimension choice for softmax has been deprecated. Change the call to include dim=X as an argument.\n",
            "  final_out = torch.nn.functional.softmax(out)\n",
            "100%|██████████| 2/2 [00:00<00:00,  5.59it/s]\n"
          ]
        },
        {
          "name": "stdout",
          "output_type": "stream",
          "text": [
            "\n",
            "epoch 15\n",
            "\ttrain_loss:0.603 valid_loss:0.787\n",
            "\ttrain_acc:75.59% valid_acc:69.16%\n",
            "\ttrain_f1:0.756 valid_f1:0.696\n",
            "\ttrain_confusion_matrix:\n",
            "[[1695  243  497]\n",
            " [ 348 1874  210]\n",
            " [ 318  165 1946]]\n",
            "\tvalid_confusion_matrix:\n",
            "[[105  41  82]\n",
            " [ 78 444  85]\n",
            " [ 41  31 254]]\n"
          ]
        },
        {
          "name": "stderr",
          "output_type": "stream",
          "text": [
            "  0%|          | 0/57 [00:00<?, ?it/s]/var/folders/3c/71b8pg6d7j5dht_5h_2n4n_c0000gn/T/ipykernel_10911/1044936714.py:147: UserWarning: Implicit dimension choice for softmax has been deprecated. Change the call to include dim=X as an argument.\n",
            "  final_out = torch.nn.functional.softmax(out)\n",
            "100%|██████████| 57/57 [00:09<00:00,  5.94it/s]\n",
            "  0%|          | 0/2 [00:00<?, ?it/s]/var/folders/3c/71b8pg6d7j5dht_5h_2n4n_c0000gn/T/ipykernel_10911/1044936714.py:147: UserWarning: Implicit dimension choice for softmax has been deprecated. Change the call to include dim=X as an argument.\n",
            "  final_out = torch.nn.functional.softmax(out)\n",
            "100%|██████████| 2/2 [00:00<00:00,  6.88it/s]\n"
          ]
        },
        {
          "name": "stdout",
          "output_type": "stream",
          "text": [
            "\n",
            "epoch 16\n",
            "\ttrain_loss:0.584 valid_loss:0.780\n",
            "\ttrain_acc:76.63% valid_acc:70.11%\n",
            "\ttrain_f1:0.766 valid_f1:0.708\n",
            "\ttrain_confusion_matrix:\n",
            "[[1700  245  488]\n",
            " [ 340 1911  180]\n",
            " [ 292  160 1980]]\n",
            "\tvalid_confusion_matrix:\n",
            "[[125  41  62]\n",
            " [ 94 463  50]\n",
            " [ 59  41 226]]\n"
          ]
        },
        {
          "name": "stderr",
          "output_type": "stream",
          "text": [
            "  0%|          | 0/57 [00:00<?, ?it/s]/var/folders/3c/71b8pg6d7j5dht_5h_2n4n_c0000gn/T/ipykernel_10911/1044936714.py:147: UserWarning: Implicit dimension choice for softmax has been deprecated. Change the call to include dim=X as an argument.\n",
            "  final_out = torch.nn.functional.softmax(out)\n",
            "100%|██████████| 57/57 [00:09<00:00,  6.00it/s]\n",
            "  0%|          | 0/2 [00:00<?, ?it/s]/var/folders/3c/71b8pg6d7j5dht_5h_2n4n_c0000gn/T/ipykernel_10911/1044936714.py:147: UserWarning: Implicit dimension choice for softmax has been deprecated. Change the call to include dim=X as an argument.\n",
            "  final_out = torch.nn.functional.softmax(out)\n",
            "100%|██████████| 2/2 [00:00<00:00,  6.60it/s]\n"
          ]
        },
        {
          "name": "stdout",
          "output_type": "stream",
          "text": [
            "\n",
            "epoch 17\n",
            "\ttrain_loss:0.568 valid_loss:0.778\n",
            "\ttrain_acc:77.85% valid_acc:70.46%\n",
            "\ttrain_f1:0.778 valid_f1:0.707\n",
            "\ttrain_confusion_matrix:\n",
            "[[1749  240  444]\n",
            " [ 311 1934  189]\n",
            " [ 282  150 1997]]\n",
            "\tvalid_confusion_matrix:\n",
            "[[110  47  71]\n",
            " [ 72 468  67]\n",
            " [ 46  40 240]]\n"
          ]
        },
        {
          "name": "stderr",
          "output_type": "stream",
          "text": [
            "  0%|          | 0/57 [00:00<?, ?it/s]/var/folders/3c/71b8pg6d7j5dht_5h_2n4n_c0000gn/T/ipykernel_10911/1044936714.py:147: UserWarning: Implicit dimension choice for softmax has been deprecated. Change the call to include dim=X as an argument.\n",
            "  final_out = torch.nn.functional.softmax(out)\n",
            "100%|██████████| 57/57 [00:09<00:00,  5.99it/s]\n",
            "  0%|          | 0/2 [00:00<?, ?it/s]/var/folders/3c/71b8pg6d7j5dht_5h_2n4n_c0000gn/T/ipykernel_10911/1044936714.py:147: UserWarning: Implicit dimension choice for softmax has been deprecated. Change the call to include dim=X as an argument.\n",
            "  final_out = torch.nn.functional.softmax(out)\n",
            "100%|██████████| 2/2 [00:00<00:00,  6.87it/s]\n"
          ]
        },
        {
          "name": "stdout",
          "output_type": "stream",
          "text": [
            "\n",
            "epoch 18\n",
            "\ttrain_loss:0.562 valid_loss:0.823\n",
            "\ttrain_acc:77.38% valid_acc:69.25%\n",
            "\ttrain_f1:0.774 valid_f1:0.699\n",
            "\ttrain_confusion_matrix:\n",
            "[[1748  230  452]\n",
            " [ 321 1919  195]\n",
            " [ 292  160 1979]]\n",
            "\tvalid_confusion_matrix:\n",
            "[[116  43  69]\n",
            " [ 89 449  69]\n",
            " [ 51  36 239]]\n"
          ]
        },
        {
          "name": "stderr",
          "output_type": "stream",
          "text": [
            "  0%|          | 0/57 [00:00<?, ?it/s]/var/folders/3c/71b8pg6d7j5dht_5h_2n4n_c0000gn/T/ipykernel_10911/1044936714.py:147: UserWarning: Implicit dimension choice for softmax has been deprecated. Change the call to include dim=X as an argument.\n",
            "  final_out = torch.nn.functional.softmax(out)\n",
            "100%|██████████| 57/57 [00:09<00:00,  6.01it/s]\n",
            "  0%|          | 0/2 [00:00<?, ?it/s]/var/folders/3c/71b8pg6d7j5dht_5h_2n4n_c0000gn/T/ipykernel_10911/1044936714.py:147: UserWarning: Implicit dimension choice for softmax has been deprecated. Change the call to include dim=X as an argument.\n",
            "  final_out = torch.nn.functional.softmax(out)\n",
            "100%|██████████| 2/2 [00:00<00:00,  6.98it/s]\n"
          ]
        },
        {
          "name": "stdout",
          "output_type": "stream",
          "text": [
            "\n",
            "epoch 19\n",
            "\ttrain_loss:0.543 valid_loss:0.843\n",
            "\ttrain_acc:78.74% valid_acc:69.25%\n",
            "\ttrain_f1:0.787 valid_f1:0.702\n",
            "\ttrain_confusion_matrix:\n",
            "[[1795  232  402]\n",
            " [ 309 1954  168]\n",
            " [ 280  160 1996]]\n",
            "\tvalid_confusion_matrix:\n",
            "[[125  37  66]\n",
            " [ 96 442  69]\n",
            " [ 60  29 237]]\n",
            "Loading saved model from: model_task2.bin\n"
          ]
        },
        {
          "name": "stderr",
          "output_type": "stream",
          "text": [
            "  0%|          | 0/2 [00:00<?, ?it/s]/var/folders/3c/71b8pg6d7j5dht_5h_2n4n_c0000gn/T/ipykernel_10911/1044936714.py:147: UserWarning: Implicit dimension choice for softmax has been deprecated. Change the call to include dim=X as an argument.\n",
            "  final_out = torch.nn.functional.softmax(out)\n",
            "100%|██████████| 2/2 [00:00<00:00,  5.70it/s]\n"
          ]
        },
        {
          "name": "stdout",
          "output_type": "stream",
          "text": [
            "              precision    recall  f1-score   support\n",
            "\n",
            "     Neutral       0.44      0.53      0.48       228\n",
            "    Positive       0.87      0.72      0.79       607\n",
            "    Negative       0.65      0.75      0.69       326\n",
            "\n",
            "    accuracy                           0.69      1161\n",
            "   macro avg       0.65      0.67      0.65      1161\n",
            "weighted avg       0.72      0.69      0.70      1161\n",
            "\n",
            "\n",
            "******************************************************************************************\n",
            "Alpha Size: 1\n",
            "Window Size: 4\n",
            "******************************************************************************************\n",
            "\n",
            "train samples:7311\n",
            "valid samples:1161\n"
          ]
        },
        {
          "name": "stderr",
          "output_type": "stream",
          "text": [
            "  0%|          | 0/57 [00:00<?, ?it/s]/var/folders/3c/71b8pg6d7j5dht_5h_2n4n_c0000gn/T/ipykernel_10911/1044936714.py:147: UserWarning: Implicit dimension choice for softmax has been deprecated. Change the call to include dim=X as an argument.\n",
            "  final_out = torch.nn.functional.softmax(out)\n",
            "100%|██████████| 57/57 [00:11<00:00,  5.11it/s]\n",
            "  0%|          | 0/2 [00:00<?, ?it/s]/var/folders/3c/71b8pg6d7j5dht_5h_2n4n_c0000gn/T/ipykernel_10911/1044936714.py:147: UserWarning: Implicit dimension choice for softmax has been deprecated. Change the call to include dim=X as an argument.\n",
            "  final_out = torch.nn.functional.softmax(out)\n",
            "100%|██████████| 2/2 [00:00<00:00,  5.62it/s]\n"
          ]
        },
        {
          "name": "stdout",
          "output_type": "stream",
          "text": [
            "\n",
            "epoch 0\n",
            "\ttrain_loss:1.091 valid_loss:1.081\n",
            "\ttrain_acc:39.79% valid_acc:49.61%\n",
            "\ttrain_f1:0.340 valid_f1:0.512\n",
            "\ttrain_confusion_matrix:\n",
            "[[2089  180  162]\n",
            " [1830  461  143]\n",
            " [1911  167  353]]\n",
            "\tvalid_confusion_matrix:\n",
            "[[142  33  53]\n",
            " [197 292 118]\n",
            " [117  67 142]]\n"
          ]
        },
        {
          "name": "stderr",
          "output_type": "stream",
          "text": [
            "  0%|          | 0/57 [00:00<?, ?it/s]/var/folders/3c/71b8pg6d7j5dht_5h_2n4n_c0000gn/T/ipykernel_10911/1044936714.py:147: UserWarning: Implicit dimension choice for softmax has been deprecated. Change the call to include dim=X as an argument.\n",
            "  final_out = torch.nn.functional.softmax(out)\n",
            "100%|██████████| 57/57 [00:11<00:00,  5.09it/s]\n",
            "  0%|          | 0/2 [00:00<?, ?it/s]/var/folders/3c/71b8pg6d7j5dht_5h_2n4n_c0000gn/T/ipykernel_10911/1044936714.py:147: UserWarning: Implicit dimension choice for softmax has been deprecated. Change the call to include dim=X as an argument.\n",
            "  final_out = torch.nn.functional.softmax(out)\n",
            "100%|██████████| 2/2 [00:00<00:00,  5.44it/s]\n"
          ]
        },
        {
          "name": "stdout",
          "output_type": "stream",
          "text": [
            "\n",
            "epoch 1\n",
            "\ttrain_loss:1.057 valid_loss:1.007\n",
            "\ttrain_acc:51.59% valid_acc:58.57%\n",
            "\ttrain_f1:0.515 valid_f1:0.583\n",
            "\ttrain_confusion_matrix:\n",
            "[[1230  620  583]\n",
            " [ 658 1424  350]\n",
            " [ 794  527 1110]]\n",
            "\tvalid_confusion_matrix:\n",
            "[[ 59  55 114]\n",
            " [ 71 398 138]\n",
            " [ 30  73 223]]\n"
          ]
        },
        {
          "name": "stderr",
          "output_type": "stream",
          "text": [
            "  0%|          | 0/57 [00:00<?, ?it/s]/var/folders/3c/71b8pg6d7j5dht_5h_2n4n_c0000gn/T/ipykernel_10911/1044936714.py:147: UserWarning: Implicit dimension choice for softmax has been deprecated. Change the call to include dim=X as an argument.\n",
            "  final_out = torch.nn.functional.softmax(out)\n",
            "100%|██████████| 57/57 [00:11<00:00,  5.09it/s]\n",
            "  0%|          | 0/2 [00:00<?, ?it/s]/var/folders/3c/71b8pg6d7j5dht_5h_2n4n_c0000gn/T/ipykernel_10911/1044936714.py:147: UserWarning: Implicit dimension choice for softmax has been deprecated. Change the call to include dim=X as an argument.\n",
            "  final_out = torch.nn.functional.softmax(out)\n",
            "100%|██████████| 2/2 [00:00<00:00,  6.12it/s]\n"
          ]
        },
        {
          "name": "stdout",
          "output_type": "stream",
          "text": [
            "\n",
            "epoch 2\n",
            "\ttrain_loss:0.952 valid_loss:0.934\n",
            "\ttrain_acc:55.07% valid_acc:58.48%\n",
            "\ttrain_f1:0.528 valid_f1:0.599\n",
            "\ttrain_confusion_matrix:\n",
            "[[ 629  686 1116]\n",
            " [ 224 1749  460]\n",
            " [ 251  541 1640]]\n",
            "\tvalid_confusion_matrix:\n",
            "[[ 94  38  96]\n",
            " [138 377  92]\n",
            " [ 66  52 208]]\n"
          ]
        },
        {
          "name": "stderr",
          "output_type": "stream",
          "text": [
            "  0%|          | 0/57 [00:00<?, ?it/s]/var/folders/3c/71b8pg6d7j5dht_5h_2n4n_c0000gn/T/ipykernel_10911/1044936714.py:147: UserWarning: Implicit dimension choice for softmax has been deprecated. Change the call to include dim=X as an argument.\n",
            "  final_out = torch.nn.functional.softmax(out)\n",
            "100%|██████████| 57/57 [00:10<00:00,  5.20it/s]\n",
            "  0%|          | 0/2 [00:00<?, ?it/s]/var/folders/3c/71b8pg6d7j5dht_5h_2n4n_c0000gn/T/ipykernel_10911/1044936714.py:147: UserWarning: Implicit dimension choice for softmax has been deprecated. Change the call to include dim=X as an argument.\n",
            "  final_out = torch.nn.functional.softmax(out)\n",
            "100%|██████████| 2/2 [00:00<00:00,  6.29it/s]\n"
          ]
        },
        {
          "name": "stdout",
          "output_type": "stream",
          "text": [
            "\n",
            "epoch 3\n",
            "\ttrain_loss:0.881 valid_loss:0.853\n",
            "\ttrain_acc:60.14% valid_acc:64.25%\n",
            "\ttrain_f1:0.594 valid_f1:0.651\n",
            "\ttrain_confusion_matrix:\n",
            "[[1008  570  856]\n",
            " [ 356 1789  285]\n",
            " [ 432  409 1591]]\n",
            "\tvalid_confusion_matrix:\n",
            "[[ 95  43  90]\n",
            " [ 98 430  79]\n",
            " [ 62  43 221]]\n"
          ]
        },
        {
          "name": "stderr",
          "output_type": "stream",
          "text": [
            "  0%|          | 0/57 [00:00<?, ?it/s]/var/folders/3c/71b8pg6d7j5dht_5h_2n4n_c0000gn/T/ipykernel_10911/1044936714.py:147: UserWarning: Implicit dimension choice for softmax has been deprecated. Change the call to include dim=X as an argument.\n",
            "  final_out = torch.nn.functional.softmax(out)\n",
            "100%|██████████| 57/57 [00:10<00:00,  5.20it/s]\n",
            "  0%|          | 0/2 [00:00<?, ?it/s]/var/folders/3c/71b8pg6d7j5dht_5h_2n4n_c0000gn/T/ipykernel_10911/1044936714.py:147: UserWarning: Implicit dimension choice for softmax has been deprecated. Change the call to include dim=X as an argument.\n",
            "  final_out = torch.nn.functional.softmax(out)\n",
            "100%|██████████| 2/2 [00:00<00:00,  6.33it/s]\n"
          ]
        },
        {
          "name": "stdout",
          "output_type": "stream",
          "text": [
            "\n",
            "epoch 4\n",
            "\ttrain_loss:0.832 valid_loss:0.817\n",
            "\ttrain_acc:63.12% valid_acc:64.94%\n",
            "\ttrain_f1:0.628 valid_f1:0.664\n",
            "\ttrain_confusion_matrix:\n",
            "[[1199  496  737]\n",
            " [ 389 1789  253]\n",
            " [ 505  311 1617]]\n",
            "\tvalid_confusion_matrix:\n",
            "[[117  35  76]\n",
            " [120 418  69]\n",
            " [ 76  31 219]]\n"
          ]
        },
        {
          "name": "stderr",
          "output_type": "stream",
          "text": [
            "  0%|          | 0/57 [00:00<?, ?it/s]/var/folders/3c/71b8pg6d7j5dht_5h_2n4n_c0000gn/T/ipykernel_10911/1044936714.py:147: UserWarning: Implicit dimension choice for softmax has been deprecated. Change the call to include dim=X as an argument.\n",
            "  final_out = torch.nn.functional.softmax(out)\n",
            "100%|██████████| 57/57 [00:11<00:00,  5.16it/s]\n",
            "  0%|          | 0/2 [00:00<?, ?it/s]/var/folders/3c/71b8pg6d7j5dht_5h_2n4n_c0000gn/T/ipykernel_10911/1044936714.py:147: UserWarning: Implicit dimension choice for softmax has been deprecated. Change the call to include dim=X as an argument.\n",
            "  final_out = torch.nn.functional.softmax(out)\n",
            "100%|██████████| 2/2 [00:00<00:00,  5.41it/s]\n"
          ]
        },
        {
          "name": "stdout",
          "output_type": "stream",
          "text": [
            "\n",
            "epoch 5\n",
            "\ttrain_loss:0.791 valid_loss:0.775\n",
            "\ttrain_acc:64.98% valid_acc:67.96%\n",
            "\ttrain_f1:0.648 valid_f1:0.682\n",
            "\ttrain_confusion_matrix:\n",
            "[[1282  445  704]\n",
            " [ 411 1794  225]\n",
            " [ 495  275 1665]]\n",
            "\tvalid_confusion_matrix:\n",
            "[[ 99  60  69]\n",
            " [ 70 476  61]\n",
            " [ 66  46 214]]\n"
          ]
        },
        {
          "name": "stderr",
          "output_type": "stream",
          "text": [
            "  0%|          | 0/57 [00:00<?, ?it/s]/var/folders/3c/71b8pg6d7j5dht_5h_2n4n_c0000gn/T/ipykernel_10911/1044936714.py:147: UserWarning: Implicit dimension choice for softmax has been deprecated. Change the call to include dim=X as an argument.\n",
            "  final_out = torch.nn.functional.softmax(out)\n",
            "100%|██████████| 57/57 [00:10<00:00,  5.27it/s]\n",
            "  0%|          | 0/2 [00:00<?, ?it/s]/var/folders/3c/71b8pg6d7j5dht_5h_2n4n_c0000gn/T/ipykernel_10911/1044936714.py:147: UserWarning: Implicit dimension choice for softmax has been deprecated. Change the call to include dim=X as an argument.\n",
            "  final_out = torch.nn.functional.softmax(out)\n",
            "100%|██████████| 2/2 [00:00<00:00,  6.38it/s]\n"
          ]
        },
        {
          "name": "stdout",
          "output_type": "stream",
          "text": [
            "\n",
            "epoch 6\n",
            "\ttrain_loss:0.764 valid_loss:0.773\n",
            "\ttrain_acc:66.64% valid_acc:67.27%\n",
            "\ttrain_f1:0.665 valid_f1:0.685\n",
            "\ttrain_confusion_matrix:\n",
            "[[1337  409  686]\n",
            " [ 366 1815  250]\n",
            " [ 469  254 1710]]\n",
            "\tvalid_confusion_matrix:\n",
            "[[126  37  65]\n",
            " [112 434  61]\n",
            " [ 75  30 221]]\n"
          ]
        },
        {
          "name": "stderr",
          "output_type": "stream",
          "text": [
            "  0%|          | 0/57 [00:00<?, ?it/s]/var/folders/3c/71b8pg6d7j5dht_5h_2n4n_c0000gn/T/ipykernel_10911/1044936714.py:147: UserWarning: Implicit dimension choice for softmax has been deprecated. Change the call to include dim=X as an argument.\n",
            "  final_out = torch.nn.functional.softmax(out)\n",
            "100%|██████████| 57/57 [00:10<00:00,  5.33it/s]\n",
            "  0%|          | 0/2 [00:00<?, ?it/s]/var/folders/3c/71b8pg6d7j5dht_5h_2n4n_c0000gn/T/ipykernel_10911/1044936714.py:147: UserWarning: Implicit dimension choice for softmax has been deprecated. Change the call to include dim=X as an argument.\n",
            "  final_out = torch.nn.functional.softmax(out)\n",
            "100%|██████████| 2/2 [00:00<00:00,  6.13it/s]\n"
          ]
        },
        {
          "name": "stdout",
          "output_type": "stream",
          "text": [
            "\n",
            "epoch 7\n",
            "\ttrain_loss:0.739 valid_loss:0.796\n",
            "\ttrain_acc:68.75% valid_acc:65.81%\n",
            "\ttrain_f1:0.686 valid_f1:0.672\n",
            "\ttrain_confusion_matrix:\n",
            "[[1411  369  651]\n",
            " [ 370 1836  226]\n",
            " [ 422  242 1769]]\n",
            "\tvalid_confusion_matrix:\n",
            "[[129  29  70]\n",
            " [131 403  73]\n",
            " [ 63  31 232]]\n"
          ]
        },
        {
          "name": "stderr",
          "output_type": "stream",
          "text": [
            "  0%|          | 0/57 [00:00<?, ?it/s]/var/folders/3c/71b8pg6d7j5dht_5h_2n4n_c0000gn/T/ipykernel_10911/1044936714.py:147: UserWarning: Implicit dimension choice for softmax has been deprecated. Change the call to include dim=X as an argument.\n",
            "  final_out = torch.nn.functional.softmax(out)\n",
            "100%|██████████| 57/57 [00:10<00:00,  5.43it/s]\n",
            "  0%|          | 0/2 [00:00<?, ?it/s]/var/folders/3c/71b8pg6d7j5dht_5h_2n4n_c0000gn/T/ipykernel_10911/1044936714.py:147: UserWarning: Implicit dimension choice for softmax has been deprecated. Change the call to include dim=X as an argument.\n",
            "  final_out = torch.nn.functional.softmax(out)\n",
            "100%|██████████| 2/2 [00:00<00:00,  6.00it/s]\n"
          ]
        },
        {
          "name": "stdout",
          "output_type": "stream",
          "text": [
            "\n",
            "epoch 8\n",
            "\ttrain_loss:0.713 valid_loss:0.770\n",
            "\ttrain_acc:70.08% valid_acc:67.10%\n",
            "\ttrain_f1:0.700 valid_f1:0.683\n",
            "\ttrain_confusion_matrix:\n",
            "[[1488  350  594]\n",
            " [ 382 1824  227]\n",
            " [ 411  219 1801]]\n",
            "\tvalid_confusion_matrix:\n",
            "[[123  30  75]\n",
            " [114 420  73]\n",
            " [ 63  27 236]]\n"
          ]
        },
        {
          "name": "stderr",
          "output_type": "stream",
          "text": [
            "  0%|          | 0/57 [00:00<?, ?it/s]/var/folders/3c/71b8pg6d7j5dht_5h_2n4n_c0000gn/T/ipykernel_10911/1044936714.py:147: UserWarning: Implicit dimension choice for softmax has been deprecated. Change the call to include dim=X as an argument.\n",
            "  final_out = torch.nn.functional.softmax(out)\n",
            "100%|██████████| 57/57 [00:10<00:00,  5.36it/s]\n",
            "  0%|          | 0/2 [00:00<?, ?it/s]/var/folders/3c/71b8pg6d7j5dht_5h_2n4n_c0000gn/T/ipykernel_10911/1044936714.py:147: UserWarning: Implicit dimension choice for softmax has been deprecated. Change the call to include dim=X as an argument.\n",
            "  final_out = torch.nn.functional.softmax(out)\n",
            "100%|██████████| 2/2 [00:00<00:00,  6.24it/s]\n"
          ]
        },
        {
          "name": "stdout",
          "output_type": "stream",
          "text": [
            "\n",
            "epoch 9\n",
            "\ttrain_loss:0.692 valid_loss:0.758\n",
            "\ttrain_acc:71.52% valid_acc:68.56%\n",
            "\ttrain_f1:0.715 valid_f1:0.697\n",
            "\ttrain_confusion_matrix:\n",
            "[[1541  325  566]\n",
            " [ 352 1840  240]\n",
            " [ 388  207 1837]]\n",
            "\tvalid_confusion_matrix:\n",
            "[[135  39  54]\n",
            " [107 446  54]\n",
            " [ 78  33 215]]\n"
          ]
        },
        {
          "name": "stderr",
          "output_type": "stream",
          "text": [
            "  0%|          | 0/57 [00:00<?, ?it/s]/var/folders/3c/71b8pg6d7j5dht_5h_2n4n_c0000gn/T/ipykernel_10911/1044936714.py:147: UserWarning: Implicit dimension choice for softmax has been deprecated. Change the call to include dim=X as an argument.\n",
            "  final_out = torch.nn.functional.softmax(out)\n",
            "100%|██████████| 57/57 [00:10<00:00,  5.30it/s]\n",
            "  0%|          | 0/2 [00:00<?, ?it/s]/var/folders/3c/71b8pg6d7j5dht_5h_2n4n_c0000gn/T/ipykernel_10911/1044936714.py:147: UserWarning: Implicit dimension choice for softmax has been deprecated. Change the call to include dim=X as an argument.\n",
            "  final_out = torch.nn.functional.softmax(out)\n",
            "100%|██████████| 2/2 [00:00<00:00,  5.71it/s]\n"
          ]
        },
        {
          "name": "stdout",
          "output_type": "stream",
          "text": [
            "\n",
            "epoch 10\n",
            "\ttrain_loss:0.682 valid_loss:0.786\n",
            "\ttrain_acc:71.60% valid_acc:67.44%\n",
            "\ttrain_f1:0.716 valid_f1:0.689\n",
            "\ttrain_confusion_matrix:\n",
            "[[1569  331  533]\n",
            " [ 383 1826  224]\n",
            " [ 405  196 1829]]\n",
            "\tvalid_confusion_matrix:\n",
            "[[140  31  57]\n",
            " [126 423  58]\n",
            " [ 77  29 220]]\n"
          ]
        },
        {
          "name": "stderr",
          "output_type": "stream",
          "text": [
            "  0%|          | 0/57 [00:00<?, ?it/s]/var/folders/3c/71b8pg6d7j5dht_5h_2n4n_c0000gn/T/ipykernel_10911/1044936714.py:147: UserWarning: Implicit dimension choice for softmax has been deprecated. Change the call to include dim=X as an argument.\n",
            "  final_out = torch.nn.functional.softmax(out)\n",
            "100%|██████████| 57/57 [00:11<00:00,  5.09it/s]\n",
            "  0%|          | 0/2 [00:00<?, ?it/s]/var/folders/3c/71b8pg6d7j5dht_5h_2n4n_c0000gn/T/ipykernel_10911/1044936714.py:147: UserWarning: Implicit dimension choice for softmax has been deprecated. Change the call to include dim=X as an argument.\n",
            "  final_out = torch.nn.functional.softmax(out)\n",
            "100%|██████████| 2/2 [00:00<00:00,  5.76it/s]\n"
          ]
        },
        {
          "name": "stdout",
          "output_type": "stream",
          "text": [
            "\n",
            "epoch 11\n",
            "\ttrain_loss:0.655 valid_loss:0.766\n",
            "\ttrain_acc:73.77% valid_acc:69.25%\n",
            "\ttrain_f1:0.738 valid_f1:0.700\n",
            "\ttrain_confusion_matrix:\n",
            "[[1646  304  482]\n",
            " [ 360 1863  208]\n",
            " [ 369  191 1873]]\n",
            "\tvalid_confusion_matrix:\n",
            "[[118  40  70]\n",
            " [ 84 450  73]\n",
            " [ 59  31 236]]\n"
          ]
        },
        {
          "name": "stderr",
          "output_type": "stream",
          "text": [
            "  0%|          | 0/57 [00:00<?, ?it/s]/var/folders/3c/71b8pg6d7j5dht_5h_2n4n_c0000gn/T/ipykernel_10911/1044936714.py:147: UserWarning: Implicit dimension choice for softmax has been deprecated. Change the call to include dim=X as an argument.\n",
            "  final_out = torch.nn.functional.softmax(out)\n",
            "100%|██████████| 57/57 [00:10<00:00,  5.26it/s]\n",
            "  0%|          | 0/2 [00:00<?, ?it/s]/var/folders/3c/71b8pg6d7j5dht_5h_2n4n_c0000gn/T/ipykernel_10911/1044936714.py:147: UserWarning: Implicit dimension choice for softmax has been deprecated. Change the call to include dim=X as an argument.\n",
            "  final_out = torch.nn.functional.softmax(out)\n",
            "100%|██████████| 2/2 [00:00<00:00,  6.54it/s]\n"
          ]
        },
        {
          "name": "stdout",
          "output_type": "stream",
          "text": [
            "\n",
            "epoch 12\n",
            "\ttrain_loss:0.633 valid_loss:0.740\n",
            "\ttrain_acc:74.99% valid_acc:70.46%\n",
            "\ttrain_f1:0.750 valid_f1:0.709\n",
            "\ttrain_confusion_matrix:\n",
            "[[1697  271  463]\n",
            " [ 358 1853  221]\n",
            " [ 349  163 1921]]\n",
            "\tvalid_confusion_matrix:\n",
            "[[117  44  67]\n",
            " [ 74 467  66]\n",
            " [ 53  39 234]]\n"
          ]
        },
        {
          "name": "stderr",
          "output_type": "stream",
          "text": [
            "  0%|          | 0/57 [00:00<?, ?it/s]/var/folders/3c/71b8pg6d7j5dht_5h_2n4n_c0000gn/T/ipykernel_10911/1044936714.py:147: UserWarning: Implicit dimension choice for softmax has been deprecated. Change the call to include dim=X as an argument.\n",
            "  final_out = torch.nn.functional.softmax(out)\n",
            "100%|██████████| 57/57 [00:10<00:00,  5.37it/s]\n",
            "  0%|          | 0/2 [00:00<?, ?it/s]/var/folders/3c/71b8pg6d7j5dht_5h_2n4n_c0000gn/T/ipykernel_10911/1044936714.py:147: UserWarning: Implicit dimension choice for softmax has been deprecated. Change the call to include dim=X as an argument.\n",
            "  final_out = torch.nn.functional.softmax(out)\n",
            "100%|██████████| 2/2 [00:00<00:00,  5.09it/s]\n"
          ]
        },
        {
          "name": "stdout",
          "output_type": "stream",
          "text": [
            "\n",
            "epoch 13\n",
            "\ttrain_loss:0.609 valid_loss:0.758\n",
            "\ttrain_acc:75.58% valid_acc:70.20%\n",
            "\ttrain_f1:0.756 valid_f1:0.708\n",
            "\ttrain_confusion_matrix:\n",
            "[[1714  276  441]\n",
            " [ 350 1862  220]\n",
            " [ 336  159 1938]]\n",
            "\tvalid_confusion_matrix:\n",
            "[[120  43  65]\n",
            " [ 80 463  64]\n",
            " [ 58  36 232]]\n"
          ]
        },
        {
          "name": "stderr",
          "output_type": "stream",
          "text": [
            "  0%|          | 0/57 [00:00<?, ?it/s]/var/folders/3c/71b8pg6d7j5dht_5h_2n4n_c0000gn/T/ipykernel_10911/1044936714.py:147: UserWarning: Implicit dimension choice for softmax has been deprecated. Change the call to include dim=X as an argument.\n",
            "  final_out = torch.nn.functional.softmax(out)\n",
            "100%|██████████| 57/57 [00:11<00:00,  5.16it/s]\n",
            "  0%|          | 0/2 [00:00<?, ?it/s]/var/folders/3c/71b8pg6d7j5dht_5h_2n4n_c0000gn/T/ipykernel_10911/1044936714.py:147: UserWarning: Implicit dimension choice for softmax has been deprecated. Change the call to include dim=X as an argument.\n",
            "  final_out = torch.nn.functional.softmax(out)\n",
            "100%|██████████| 2/2 [00:00<00:00,  5.96it/s]\n"
          ]
        },
        {
          "name": "stdout",
          "output_type": "stream",
          "text": [
            "\n",
            "epoch 14\n",
            "\ttrain_loss:0.604 valid_loss:0.792\n",
            "\ttrain_acc:76.11% valid_acc:69.42%\n",
            "\ttrain_f1:0.761 valid_f1:0.700\n",
            "\ttrain_confusion_matrix:\n",
            "[[1750  270  415]\n",
            " [ 333 1886  212]\n",
            " [ 344  169 1917]]\n",
            "\tvalid_confusion_matrix:\n",
            "[[114  32  82]\n",
            " [ 87 430  90]\n",
            " [ 40  24 262]]\n"
          ]
        },
        {
          "name": "stderr",
          "output_type": "stream",
          "text": [
            "  0%|          | 0/57 [00:00<?, ?it/s]/var/folders/3c/71b8pg6d7j5dht_5h_2n4n_c0000gn/T/ipykernel_10911/1044936714.py:147: UserWarning: Implicit dimension choice for softmax has been deprecated. Change the call to include dim=X as an argument.\n",
            "  final_out = torch.nn.functional.softmax(out)\n",
            "100%|██████████| 57/57 [00:10<00:00,  5.35it/s]\n",
            "  0%|          | 0/2 [00:00<?, ?it/s]/var/folders/3c/71b8pg6d7j5dht_5h_2n4n_c0000gn/T/ipykernel_10911/1044936714.py:147: UserWarning: Implicit dimension choice for softmax has been deprecated. Change the call to include dim=X as an argument.\n",
            "  final_out = torch.nn.functional.softmax(out)\n",
            "100%|██████████| 2/2 [00:00<00:00,  6.35it/s]\n"
          ]
        },
        {
          "name": "stdout",
          "output_type": "stream",
          "text": [
            "\n",
            "epoch 15\n",
            "\ttrain_loss:0.582 valid_loss:0.783\n",
            "\ttrain_acc:76.91% valid_acc:68.91%\n",
            "\ttrain_f1:0.769 valid_f1:0.699\n",
            "\ttrain_confusion_matrix:\n",
            "[[1774  242  416]\n",
            " [ 343 1868  221]\n",
            " [ 320  143 1969]]\n",
            "\tvalid_confusion_matrix:\n",
            "[[127  38  63]\n",
            " [ 96 443  68]\n",
            " [ 66  30 230]]\n"
          ]
        },
        {
          "name": "stderr",
          "output_type": "stream",
          "text": [
            "  0%|          | 0/57 [00:00<?, ?it/s]/var/folders/3c/71b8pg6d7j5dht_5h_2n4n_c0000gn/T/ipykernel_10911/1044936714.py:147: UserWarning: Implicit dimension choice for softmax has been deprecated. Change the call to include dim=X as an argument.\n",
            "  final_out = torch.nn.functional.softmax(out)\n",
            "100%|██████████| 57/57 [00:10<00:00,  5.39it/s]\n",
            "  0%|          | 0/2 [00:00<?, ?it/s]/var/folders/3c/71b8pg6d7j5dht_5h_2n4n_c0000gn/T/ipykernel_10911/1044936714.py:147: UserWarning: Implicit dimension choice for softmax has been deprecated. Change the call to include dim=X as an argument.\n",
            "  final_out = torch.nn.functional.softmax(out)\n",
            "100%|██████████| 2/2 [00:00<00:00,  6.10it/s]\n"
          ]
        },
        {
          "name": "stdout",
          "output_type": "stream",
          "text": [
            "\n",
            "epoch 16\n",
            "\ttrain_loss:0.562 valid_loss:0.769\n",
            "\ttrain_acc:78.06% valid_acc:70.28%\n",
            "\ttrain_f1:0.781 valid_f1:0.704\n",
            "\ttrain_confusion_matrix:\n",
            "[[1836  231  366]\n",
            " [ 334 1895  202]\n",
            " [ 315  153 1964]]\n",
            "\tvalid_confusion_matrix:\n",
            "[[102  47  79]\n",
            " [ 62 463  82]\n",
            " [ 38  37 251]]\n"
          ]
        },
        {
          "name": "stderr",
          "output_type": "stream",
          "text": [
            "  0%|          | 0/57 [00:00<?, ?it/s]/var/folders/3c/71b8pg6d7j5dht_5h_2n4n_c0000gn/T/ipykernel_10911/1044936714.py:147: UserWarning: Implicit dimension choice for softmax has been deprecated. Change the call to include dim=X as an argument.\n",
            "  final_out = torch.nn.functional.softmax(out)\n",
            "100%|██████████| 57/57 [00:11<00:00,  4.85it/s]\n",
            "  0%|          | 0/2 [00:00<?, ?it/s]/var/folders/3c/71b8pg6d7j5dht_5h_2n4n_c0000gn/T/ipykernel_10911/1044936714.py:147: UserWarning: Implicit dimension choice for softmax has been deprecated. Change the call to include dim=X as an argument.\n",
            "  final_out = torch.nn.functional.softmax(out)\n",
            "100%|██████████| 2/2 [00:00<00:00,  5.64it/s]\n"
          ]
        },
        {
          "name": "stdout",
          "output_type": "stream",
          "text": [
            "\n",
            "epoch 17\n",
            "\ttrain_loss:0.543 valid_loss:0.765\n",
            "\ttrain_acc:78.54% valid_acc:69.94%\n",
            "\ttrain_f1:0.786 valid_f1:0.703\n",
            "\ttrain_confusion_matrix:\n",
            "[[1835  219  380]\n",
            " [ 338 1893  204]\n",
            " [ 295  130 2002]]\n",
            "\tvalid_confusion_matrix:\n",
            "[[112  53  63]\n",
            " [ 68 474  65]\n",
            " [ 59  41 226]]\n"
          ]
        },
        {
          "name": "stderr",
          "output_type": "stream",
          "text": [
            "  0%|          | 0/57 [00:00<?, ?it/s]/var/folders/3c/71b8pg6d7j5dht_5h_2n4n_c0000gn/T/ipykernel_10911/1044936714.py:147: UserWarning: Implicit dimension choice for softmax has been deprecated. Change the call to include dim=X as an argument.\n",
            "  final_out = torch.nn.functional.softmax(out)\n",
            "100%|██████████| 57/57 [00:11<00:00,  5.06it/s]\n",
            "  0%|          | 0/2 [00:00<?, ?it/s]/var/folders/3c/71b8pg6d7j5dht_5h_2n4n_c0000gn/T/ipykernel_10911/1044936714.py:147: UserWarning: Implicit dimension choice for softmax has been deprecated. Change the call to include dim=X as an argument.\n",
            "  final_out = torch.nn.functional.softmax(out)\n",
            "100%|██████████| 2/2 [00:00<00:00,  5.51it/s]\n"
          ]
        },
        {
          "name": "stdout",
          "output_type": "stream",
          "text": [
            "\n",
            "epoch 18\n",
            "\ttrain_loss:0.532 valid_loss:0.773\n",
            "\ttrain_acc:79.73% valid_acc:68.82%\n",
            "\ttrain_f1:0.797 valid_f1:0.697\n",
            "\ttrain_confusion_matrix:\n",
            "[[1868  224  341]\n",
            " [ 312 1924  196]\n",
            " [ 262  144 2025]]\n",
            "\tvalid_confusion_matrix:\n",
            "[[125  46  57]\n",
            " [ 91 456  60]\n",
            " [ 71  37 218]]\n"
          ]
        },
        {
          "name": "stderr",
          "output_type": "stream",
          "text": [
            "  0%|          | 0/57 [00:00<?, ?it/s]/var/folders/3c/71b8pg6d7j5dht_5h_2n4n_c0000gn/T/ipykernel_10911/1044936714.py:147: UserWarning: Implicit dimension choice for softmax has been deprecated. Change the call to include dim=X as an argument.\n",
            "  final_out = torch.nn.functional.softmax(out)\n",
            "100%|██████████| 57/57 [00:10<00:00,  5.36it/s]\n",
            "  0%|          | 0/2 [00:00<?, ?it/s]/var/folders/3c/71b8pg6d7j5dht_5h_2n4n_c0000gn/T/ipykernel_10911/1044936714.py:147: UserWarning: Implicit dimension choice for softmax has been deprecated. Change the call to include dim=X as an argument.\n",
            "  final_out = torch.nn.functional.softmax(out)\n",
            "100%|██████████| 2/2 [00:00<00:00,  5.70it/s]\n"
          ]
        },
        {
          "name": "stdout",
          "output_type": "stream",
          "text": [
            "\n",
            "epoch 19\n",
            "\ttrain_loss:0.520 valid_loss:0.772\n",
            "\ttrain_acc:80.43% valid_acc:70.28%\n",
            "\ttrain_f1:0.805 valid_f1:0.705\n",
            "\ttrain_confusion_matrix:\n",
            "[[1922  198  313]\n",
            " [ 310 1923  199]\n",
            " [ 282  126 2023]]\n",
            "\tvalid_confusion_matrix:\n",
            "[[107  46  75]\n",
            " [ 71 462  74]\n",
            " [ 42  37 247]]\n",
            "Loading saved model from: model_task2.bin\n"
          ]
        },
        {
          "name": "stderr",
          "output_type": "stream",
          "text": [
            "  0%|          | 0/2 [00:00<?, ?it/s]/var/folders/3c/71b8pg6d7j5dht_5h_2n4n_c0000gn/T/ipykernel_10911/1044936714.py:147: UserWarning: Implicit dimension choice for softmax has been deprecated. Change the call to include dim=X as an argument.\n",
            "  final_out = torch.nn.functional.softmax(out)\n",
            "100%|██████████| 2/2 [00:00<00:00,  6.36it/s]\n"
          ]
        },
        {
          "name": "stdout",
          "output_type": "stream",
          "text": [
            "              precision    recall  f1-score   support\n",
            "\n",
            "     Neutral       0.47      0.50      0.49       228\n",
            "    Positive       0.84      0.77      0.81       607\n",
            "    Negative       0.64      0.71      0.67       326\n",
            "\n",
            "    accuracy                           0.70      1161\n",
            "   macro avg       0.65      0.66      0.66      1161\n",
            "weighted avg       0.71      0.70      0.71      1161\n",
            "\n",
            "\n",
            "******************************************************************************************\n",
            "Alpha Size: 1\n",
            "Window Size: 8\n",
            "******************************************************************************************\n",
            "\n",
            "train samples:7311\n",
            "valid samples:1161\n"
          ]
        },
        {
          "name": "stderr",
          "output_type": "stream",
          "text": [
            "  0%|          | 0/57 [00:00<?, ?it/s]/var/folders/3c/71b8pg6d7j5dht_5h_2n4n_c0000gn/T/ipykernel_10911/1044936714.py:147: UserWarning: Implicit dimension choice for softmax has been deprecated. Change the call to include dim=X as an argument.\n",
            "  final_out = torch.nn.functional.softmax(out)\n",
            "100%|██████████| 57/57 [00:12<00:00,  4.49it/s]\n",
            "  0%|          | 0/2 [00:00<?, ?it/s]/var/folders/3c/71b8pg6d7j5dht_5h_2n4n_c0000gn/T/ipykernel_10911/1044936714.py:147: UserWarning: Implicit dimension choice for softmax has been deprecated. Change the call to include dim=X as an argument.\n",
            "  final_out = torch.nn.functional.softmax(out)\n",
            "100%|██████████| 2/2 [00:00<00:00,  4.52it/s]\n"
          ]
        },
        {
          "name": "stdout",
          "output_type": "stream",
          "text": [
            "\n",
            "epoch 0\n",
            "\ttrain_loss:1.089 valid_loss:1.075\n",
            "\ttrain_acc:42.71% valid_acc:51.94%\n",
            "\ttrain_f1:0.427 valid_f1:0.533\n",
            "\ttrain_confusion_matrix:\n",
            "[[1193  357  883]\n",
            " [ 888  854  688]\n",
            " [1028  336 1069]]\n",
            "\tvalid_confusion_matrix:\n",
            "[[107  50  71]\n",
            " [150 357 100]\n",
            " [ 95  92 139]]\n"
          ]
        },
        {
          "name": "stderr",
          "output_type": "stream",
          "text": [
            "  0%|          | 0/57 [00:00<?, ?it/s]/var/folders/3c/71b8pg6d7j5dht_5h_2n4n_c0000gn/T/ipykernel_10911/1044936714.py:147: UserWarning: Implicit dimension choice for softmax has been deprecated. Change the call to include dim=X as an argument.\n",
            "  final_out = torch.nn.functional.softmax(out)\n",
            "100%|██████████| 57/57 [00:13<00:00,  4.26it/s]\n",
            "  0%|          | 0/2 [00:00<?, ?it/s]/var/folders/3c/71b8pg6d7j5dht_5h_2n4n_c0000gn/T/ipykernel_10911/1044936714.py:147: UserWarning: Implicit dimension choice for softmax has been deprecated. Change the call to include dim=X as an argument.\n",
            "  final_out = torch.nn.functional.softmax(out)\n",
            "100%|██████████| 2/2 [00:00<00:00,  4.03it/s]\n"
          ]
        },
        {
          "name": "stdout",
          "output_type": "stream",
          "text": [
            "\n",
            "epoch 1\n",
            "\ttrain_loss:1.049 valid_loss:0.988\n",
            "\ttrain_acc:52.65% valid_acc:58.91%\n",
            "\ttrain_f1:0.522 valid_f1:0.586\n",
            "\ttrain_confusion_matrix:\n",
            "[[ 956  647  831]\n",
            " [ 473 1548  412]\n",
            " [ 565  527 1337]]\n",
            "\tvalid_confusion_matrix:\n",
            "[[ 59  56 113]\n",
            " [ 66 411 130]\n",
            " [ 33  79 214]]\n"
          ]
        },
        {
          "name": "stderr",
          "output_type": "stream",
          "text": [
            "  0%|          | 0/57 [00:00<?, ?it/s]/var/folders/3c/71b8pg6d7j5dht_5h_2n4n_c0000gn/T/ipykernel_10911/1044936714.py:147: UserWarning: Implicit dimension choice for softmax has been deprecated. Change the call to include dim=X as an argument.\n",
            "  final_out = torch.nn.functional.softmax(out)\n",
            "100%|██████████| 57/57 [00:12<00:00,  4.52it/s]\n",
            "  0%|          | 0/2 [00:00<?, ?it/s]/var/folders/3c/71b8pg6d7j5dht_5h_2n4n_c0000gn/T/ipykernel_10911/1044936714.py:147: UserWarning: Implicit dimension choice for softmax has been deprecated. Change the call to include dim=X as an argument.\n",
            "  final_out = torch.nn.functional.softmax(out)\n",
            "100%|██████████| 2/2 [00:00<00:00,  4.98it/s]\n"
          ]
        },
        {
          "name": "stdout",
          "output_type": "stream",
          "text": [
            "\n",
            "epoch 2\n",
            "\ttrain_loss:0.934 valid_loss:0.903\n",
            "\ttrain_acc:55.99% valid_acc:62.02%\n",
            "\ttrain_f1:0.535 valid_f1:0.624\n",
            "\ttrain_confusion_matrix:\n",
            "[[ 613  669 1148]\n",
            " [ 262 1753  420]\n",
            " [ 259  453 1719]]\n",
            "\tvalid_confusion_matrix:\n",
            "[[ 73  40 115]\n",
            " [ 88 414 105]\n",
            " [ 44  49 233]]\n"
          ]
        },
        {
          "name": "stderr",
          "output_type": "stream",
          "text": [
            "  0%|          | 0/57 [00:00<?, ?it/s]/var/folders/3c/71b8pg6d7j5dht_5h_2n4n_c0000gn/T/ipykernel_10911/1044936714.py:147: UserWarning: Implicit dimension choice for softmax has been deprecated. Change the call to include dim=X as an argument.\n",
            "  final_out = torch.nn.functional.softmax(out)\n",
            "100%|██████████| 57/57 [00:12<00:00,  4.68it/s]\n",
            "  0%|          | 0/2 [00:00<?, ?it/s]/var/folders/3c/71b8pg6d7j5dht_5h_2n4n_c0000gn/T/ipykernel_10911/1044936714.py:147: UserWarning: Implicit dimension choice for softmax has been deprecated. Change the call to include dim=X as an argument.\n",
            "  final_out = torch.nn.functional.softmax(out)\n",
            "100%|██████████| 2/2 [00:00<00:00,  5.15it/s]\n"
          ]
        },
        {
          "name": "stdout",
          "output_type": "stream",
          "text": [
            "\n",
            "epoch 3\n",
            "\ttrain_loss:0.870 valid_loss:0.840\n",
            "\ttrain_acc:60.61% valid_acc:64.08%\n",
            "\ttrain_f1:0.595 valid_f1:0.649\n",
            "\ttrain_confusion_matrix:\n",
            "[[ 927  541  963]\n",
            " [ 321 1815  299]\n",
            " [ 392  358 1680]]\n",
            "\tvalid_confusion_matrix:\n",
            "[[ 97  46  85]\n",
            " [ 93 441  73]\n",
            " [ 72  48 206]]\n"
          ]
        },
        {
          "name": "stderr",
          "output_type": "stream",
          "text": [
            "  0%|          | 0/57 [00:00<?, ?it/s]/var/folders/3c/71b8pg6d7j5dht_5h_2n4n_c0000gn/T/ipykernel_10911/1044936714.py:147: UserWarning: Implicit dimension choice for softmax has been deprecated. Change the call to include dim=X as an argument.\n",
            "  final_out = torch.nn.functional.softmax(out)\n",
            "100%|██████████| 57/57 [00:11<00:00,  4.80it/s]\n",
            "  0%|          | 0/2 [00:00<?, ?it/s]/var/folders/3c/71b8pg6d7j5dht_5h_2n4n_c0000gn/T/ipykernel_10911/1044936714.py:147: UserWarning: Implicit dimension choice for softmax has been deprecated. Change the call to include dim=X as an argument.\n",
            "  final_out = torch.nn.functional.softmax(out)\n",
            "100%|██████████| 2/2 [00:00<00:00,  5.29it/s]\n"
          ]
        },
        {
          "name": "stdout",
          "output_type": "stream",
          "text": [
            "\n",
            "epoch 4\n",
            "\ttrain_loss:0.829 valid_loss:0.800\n",
            "\ttrain_acc:62.55% valid_acc:67.10%\n",
            "\ttrain_f1:0.620 valid_f1:0.677\n",
            "\ttrain_confusion_matrix:\n",
            "[[1110  503  820]\n",
            " [ 383 1793  258]\n",
            " [ 464  304 1661]]\n",
            "\tvalid_confusion_matrix:\n",
            "[[102  43  83]\n",
            " [ 85 442  80]\n",
            " [ 53  38 235]]\n"
          ]
        },
        {
          "name": "stderr",
          "output_type": "stream",
          "text": [
            "  0%|          | 0/57 [00:00<?, ?it/s]/var/folders/3c/71b8pg6d7j5dht_5h_2n4n_c0000gn/T/ipykernel_10911/1044936714.py:147: UserWarning: Implicit dimension choice for softmax has been deprecated. Change the call to include dim=X as an argument.\n",
            "  final_out = torch.nn.functional.softmax(out)\n",
            "100%|██████████| 57/57 [00:11<00:00,  4.83it/s]\n",
            "  0%|          | 0/2 [00:00<?, ?it/s]/var/folders/3c/71b8pg6d7j5dht_5h_2n4n_c0000gn/T/ipykernel_10911/1044936714.py:147: UserWarning: Implicit dimension choice for softmax has been deprecated. Change the call to include dim=X as an argument.\n",
            "  final_out = torch.nn.functional.softmax(out)\n",
            "100%|██████████| 2/2 [00:00<00:00,  4.80it/s]\n"
          ]
        },
        {
          "name": "stdout",
          "output_type": "stream",
          "text": [
            "\n",
            "epoch 5\n",
            "\ttrain_loss:0.797 valid_loss:0.776\n",
            "\ttrain_acc:64.09% valid_acc:67.36%\n",
            "\ttrain_f1:0.636 valid_f1:0.682\n",
            "\ttrain_confusion_matrix:\n",
            "[[1159  478  793]\n",
            " [ 383 1816  236]\n",
            " [ 442  288 1701]]\n",
            "\tvalid_confusion_matrix:\n",
            "[[117  46  65]\n",
            " [ 92 456  59]\n",
            " [ 74  43 209]]\n"
          ]
        },
        {
          "name": "stderr",
          "output_type": "stream",
          "text": [
            "  0%|          | 0/57 [00:00<?, ?it/s]/var/folders/3c/71b8pg6d7j5dht_5h_2n4n_c0000gn/T/ipykernel_10911/1044936714.py:147: UserWarning: Implicit dimension choice for softmax has been deprecated. Change the call to include dim=X as an argument.\n",
            "  final_out = torch.nn.functional.softmax(out)\n",
            "100%|██████████| 57/57 [00:11<00:00,  4.77it/s]\n",
            "  0%|          | 0/2 [00:00<?, ?it/s]/var/folders/3c/71b8pg6d7j5dht_5h_2n4n_c0000gn/T/ipykernel_10911/1044936714.py:147: UserWarning: Implicit dimension choice for softmax has been deprecated. Change the call to include dim=X as an argument.\n",
            "  final_out = torch.nn.functional.softmax(out)\n",
            "100%|██████████| 2/2 [00:00<00:00,  5.52it/s]\n"
          ]
        },
        {
          "name": "stdout",
          "output_type": "stream",
          "text": [
            "\n",
            "epoch 6\n",
            "\ttrain_loss:0.765 valid_loss:0.778\n",
            "\ttrain_acc:65.79% valid_acc:66.84%\n",
            "\ttrain_f1:0.654 valid_f1:0.677\n",
            "\ttrain_confusion_matrix:\n",
            "[[1248  435  751]\n",
            " [ 370 1839  223]\n",
            " [ 427  290 1713]]\n",
            "\tvalid_confusion_matrix:\n",
            "[[107  33  88]\n",
            " [ 96 429  82]\n",
            " [ 53  33 240]]\n"
          ]
        },
        {
          "name": "stderr",
          "output_type": "stream",
          "text": [
            "  0%|          | 0/57 [00:00<?, ?it/s]/var/folders/3c/71b8pg6d7j5dht_5h_2n4n_c0000gn/T/ipykernel_10911/1044936714.py:147: UserWarning: Implicit dimension choice for softmax has been deprecated. Change the call to include dim=X as an argument.\n",
            "  final_out = torch.nn.functional.softmax(out)\n",
            "100%|██████████| 57/57 [00:11<00:00,  4.87it/s]\n",
            "  0%|          | 0/2 [00:00<?, ?it/s]/var/folders/3c/71b8pg6d7j5dht_5h_2n4n_c0000gn/T/ipykernel_10911/1044936714.py:147: UserWarning: Implicit dimension choice for softmax has been deprecated. Change the call to include dim=X as an argument.\n",
            "  final_out = torch.nn.functional.softmax(out)\n",
            "100%|██████████| 2/2 [00:00<00:00,  5.32it/s]\n"
          ]
        },
        {
          "name": "stdout",
          "output_type": "stream",
          "text": [
            "\n",
            "epoch 7\n",
            "\ttrain_loss:0.746 valid_loss:0.776\n",
            "\ttrain_acc:67.08% valid_acc:66.84%\n",
            "\ttrain_f1:0.668 valid_f1:0.678\n",
            "\ttrain_confusion_matrix:\n",
            "[[1316  396  718]\n",
            " [ 358 1844  233]\n",
            " [ 437  260 1734]]\n",
            "\tvalid_confusion_matrix:\n",
            "[[113  35  80]\n",
            " [106 428  73]\n",
            " [ 56  35 235]]\n"
          ]
        },
        {
          "name": "stderr",
          "output_type": "stream",
          "text": [
            "  0%|          | 0/57 [00:00<?, ?it/s]/var/folders/3c/71b8pg6d7j5dht_5h_2n4n_c0000gn/T/ipykernel_10911/1044936714.py:147: UserWarning: Implicit dimension choice for softmax has been deprecated. Change the call to include dim=X as an argument.\n",
            "  final_out = torch.nn.functional.softmax(out)\n",
            "100%|██████████| 57/57 [00:11<00:00,  4.91it/s]\n",
            "  0%|          | 0/2 [00:00<?, ?it/s]/var/folders/3c/71b8pg6d7j5dht_5h_2n4n_c0000gn/T/ipykernel_10911/1044936714.py:147: UserWarning: Implicit dimension choice for softmax has been deprecated. Change the call to include dim=X as an argument.\n",
            "  final_out = torch.nn.functional.softmax(out)\n",
            "100%|██████████| 2/2 [00:00<00:00,  5.38it/s]\n"
          ]
        },
        {
          "name": "stdout",
          "output_type": "stream",
          "text": [
            "\n",
            "epoch 8\n",
            "\ttrain_loss:0.729 valid_loss:0.724\n",
            "\ttrain_acc:68.24% valid_acc:71.23%\n",
            "\ttrain_f1:0.680 valid_f1:0.713\n",
            "\ttrain_confusion_matrix:\n",
            "[[1337  380  718]\n",
            " [ 342 1857  236]\n",
            " [ 382  259 1785]]\n",
            "\tvalid_confusion_matrix:\n",
            "[[107  52  69]\n",
            " [ 52 484  71]\n",
            " [ 50  40 236]]\n"
          ]
        },
        {
          "name": "stderr",
          "output_type": "stream",
          "text": [
            "  0%|          | 0/57 [00:00<?, ?it/s]/var/folders/3c/71b8pg6d7j5dht_5h_2n4n_c0000gn/T/ipykernel_10911/1044936714.py:147: UserWarning: Implicit dimension choice for softmax has been deprecated. Change the call to include dim=X as an argument.\n",
            "  final_out = torch.nn.functional.softmax(out)\n",
            "100%|██████████| 57/57 [00:12<00:00,  4.51it/s]\n",
            "  0%|          | 0/2 [00:00<?, ?it/s]/var/folders/3c/71b8pg6d7j5dht_5h_2n4n_c0000gn/T/ipykernel_10911/1044936714.py:147: UserWarning: Implicit dimension choice for softmax has been deprecated. Change the call to include dim=X as an argument.\n",
            "  final_out = torch.nn.functional.softmax(out)\n",
            "100%|██████████| 2/2 [00:00<00:00,  5.17it/s]\n"
          ]
        },
        {
          "name": "stdout",
          "output_type": "stream",
          "text": [
            "\n",
            "epoch 9\n",
            "\ttrain_loss:0.709 valid_loss:0.738\n",
            "\ttrain_acc:69.50% valid_acc:70.37%\n",
            "\ttrain_f1:0.693 valid_f1:0.707\n",
            "\ttrain_confusion_matrix:\n",
            "[[1384  363  683]\n",
            " [ 347 1857  229]\n",
            " [ 365  238 1830]]\n",
            "\tvalid_confusion_matrix:\n",
            "[[114  47  67]\n",
            " [ 71 464  72]\n",
            " [ 49  38 239]]\n"
          ]
        },
        {
          "name": "stderr",
          "output_type": "stream",
          "text": [
            "  0%|          | 0/57 [00:00<?, ?it/s]/var/folders/3c/71b8pg6d7j5dht_5h_2n4n_c0000gn/T/ipykernel_10911/1044936714.py:147: UserWarning: Implicit dimension choice for softmax has been deprecated. Change the call to include dim=X as an argument.\n",
            "  final_out = torch.nn.functional.softmax(out)\n",
            "100%|██████████| 57/57 [00:12<00:00,  4.61it/s]\n",
            "  0%|          | 0/2 [00:00<?, ?it/s]/var/folders/3c/71b8pg6d7j5dht_5h_2n4n_c0000gn/T/ipykernel_10911/1044936714.py:147: UserWarning: Implicit dimension choice for softmax has been deprecated. Change the call to include dim=X as an argument.\n",
            "  final_out = torch.nn.functional.softmax(out)\n",
            "100%|██████████| 2/2 [00:00<00:00,  4.81it/s]\n"
          ]
        },
        {
          "name": "stdout",
          "output_type": "stream",
          "text": [
            "\n",
            "epoch 10\n",
            "\ttrain_loss:0.689 valid_loss:0.741\n",
            "\ttrain_acc:70.98% valid_acc:69.60%\n",
            "\ttrain_f1:0.709 valid_f1:0.697\n",
            "\ttrain_confusion_matrix:\n",
            "[[1482  326  626]\n",
            " [ 355 1867  209]\n",
            " [ 374  227 1830]]\n",
            "\tvalid_confusion_matrix:\n",
            "[[103  50  75]\n",
            " [ 67 471  69]\n",
            " [ 46  46 234]]\n"
          ]
        },
        {
          "name": "stderr",
          "output_type": "stream",
          "text": [
            "  0%|          | 0/57 [00:00<?, ?it/s]/var/folders/3c/71b8pg6d7j5dht_5h_2n4n_c0000gn/T/ipykernel_10911/1044936714.py:147: UserWarning: Implicit dimension choice for softmax has been deprecated. Change the call to include dim=X as an argument.\n",
            "  final_out = torch.nn.functional.softmax(out)\n",
            "100%|██████████| 57/57 [00:12<00:00,  4.72it/s]\n",
            "  0%|          | 0/2 [00:00<?, ?it/s]/var/folders/3c/71b8pg6d7j5dht_5h_2n4n_c0000gn/T/ipykernel_10911/1044936714.py:147: UserWarning: Implicit dimension choice for softmax has been deprecated. Change the call to include dim=X as an argument.\n",
            "  final_out = torch.nn.functional.softmax(out)\n",
            "100%|██████████| 2/2 [00:00<00:00,  4.90it/s]\n"
          ]
        },
        {
          "name": "stdout",
          "output_type": "stream",
          "text": [
            "\n",
            "epoch 11\n",
            "\ttrain_loss:0.673 valid_loss:0.756\n",
            "\ttrain_acc:72.01% valid_acc:68.65%\n",
            "\ttrain_f1:0.718 valid_f1:0.694\n",
            "\ttrain_confusion_matrix:\n",
            "[[1494  360  579]\n",
            " [ 324 1885  224]\n",
            " [ 342  213 1875]]\n",
            "\tvalid_confusion_matrix:\n",
            "[[114  41  73]\n",
            " [ 85 444  78]\n",
            " [ 58  29 239]]\n"
          ]
        },
        {
          "name": "stderr",
          "output_type": "stream",
          "text": [
            "  0%|          | 0/57 [00:00<?, ?it/s]/var/folders/3c/71b8pg6d7j5dht_5h_2n4n_c0000gn/T/ipykernel_10911/1044936714.py:147: UserWarning: Implicit dimension choice for softmax has been deprecated. Change the call to include dim=X as an argument.\n",
            "  final_out = torch.nn.functional.softmax(out)\n",
            "100%|██████████| 57/57 [00:11<00:00,  4.76it/s]\n",
            "  0%|          | 0/2 [00:00<?, ?it/s]/var/folders/3c/71b8pg6d7j5dht_5h_2n4n_c0000gn/T/ipykernel_10911/1044936714.py:147: UserWarning: Implicit dimension choice for softmax has been deprecated. Change the call to include dim=X as an argument.\n",
            "  final_out = torch.nn.functional.softmax(out)\n",
            "100%|██████████| 2/2 [00:00<00:00,  3.35it/s]\n"
          ]
        },
        {
          "name": "stdout",
          "output_type": "stream",
          "text": [
            "\n",
            "epoch 12\n",
            "\ttrain_loss:0.658 valid_loss:0.749\n",
            "\ttrain_acc:72.83% valid_acc:70.71%\n",
            "\ttrain_f1:0.727 valid_f1:0.711\n",
            "\ttrain_confusion_matrix:\n",
            "[[1510  322  598]\n",
            " [ 316 1892  226]\n",
            " [ 327  193 1912]]\n",
            "\tvalid_confusion_matrix:\n",
            "[[122  49  57]\n",
            " [ 70 484  53]\n",
            " [ 62  49 215]]\n"
          ]
        },
        {
          "name": "stderr",
          "output_type": "stream",
          "text": [
            "  0%|          | 0/57 [00:00<?, ?it/s]/var/folders/3c/71b8pg6d7j5dht_5h_2n4n_c0000gn/T/ipykernel_10911/1044936714.py:147: UserWarning: Implicit dimension choice for softmax has been deprecated. Change the call to include dim=X as an argument.\n",
            "  final_out = torch.nn.functional.softmax(out)\n",
            "100%|██████████| 57/57 [00:12<00:00,  4.55it/s]\n",
            "  0%|          | 0/2 [00:00<?, ?it/s]/var/folders/3c/71b8pg6d7j5dht_5h_2n4n_c0000gn/T/ipykernel_10911/1044936714.py:147: UserWarning: Implicit dimension choice for softmax has been deprecated. Change the call to include dim=X as an argument.\n",
            "  final_out = torch.nn.functional.softmax(out)\n",
            "100%|██████████| 2/2 [00:00<00:00,  4.92it/s]\n"
          ]
        },
        {
          "name": "stdout",
          "output_type": "stream",
          "text": [
            "\n",
            "epoch 13\n",
            "\ttrain_loss:0.644 valid_loss:0.737\n",
            "\ttrain_acc:73.82% valid_acc:70.97%\n",
            "\ttrain_f1:0.737 valid_f1:0.712\n",
            "\ttrain_confusion_matrix:\n",
            "[[1583  292  558]\n",
            " [ 314 1899  219]\n",
            " [ 327  200 1904]]\n",
            "\tvalid_confusion_matrix:\n",
            "[[114  47  67]\n",
            " [ 67 477  63]\n",
            " [ 50  43 233]]\n"
          ]
        },
        {
          "name": "stderr",
          "output_type": "stream",
          "text": [
            "  0%|          | 0/57 [00:00<?, ?it/s]/var/folders/3c/71b8pg6d7j5dht_5h_2n4n_c0000gn/T/ipykernel_10911/1044936714.py:147: UserWarning: Implicit dimension choice for softmax has been deprecated. Change the call to include dim=X as an argument.\n",
            "  final_out = torch.nn.functional.softmax(out)\n",
            "100%|██████████| 57/57 [00:12<00:00,  4.50it/s]\n",
            "  0%|          | 0/2 [00:00<?, ?it/s]/var/folders/3c/71b8pg6d7j5dht_5h_2n4n_c0000gn/T/ipykernel_10911/1044936714.py:147: UserWarning: Implicit dimension choice for softmax has been deprecated. Change the call to include dim=X as an argument.\n",
            "  final_out = torch.nn.functional.softmax(out)\n",
            "100%|██████████| 2/2 [00:00<00:00,  3.48it/s]\n"
          ]
        },
        {
          "name": "stdout",
          "output_type": "stream",
          "text": [
            "\n",
            "epoch 14\n",
            "\ttrain_loss:0.621 valid_loss:0.775\n",
            "\ttrain_acc:75.11% valid_acc:69.16%\n",
            "\ttrain_f1:0.750 valid_f1:0.700\n",
            "\ttrain_confusion_matrix:\n",
            "[[1613  316  502]\n",
            " [ 292 1927  213]\n",
            " [ 305  188 1940]]\n",
            "\tvalid_confusion_matrix:\n",
            "[[121  34  73]\n",
            " [ 87 447  73]\n",
            " [ 58  33 235]]\n"
          ]
        },
        {
          "name": "stderr",
          "output_type": "stream",
          "text": [
            "  0%|          | 0/57 [00:00<?, ?it/s]/var/folders/3c/71b8pg6d7j5dht_5h_2n4n_c0000gn/T/ipykernel_10911/1044936714.py:147: UserWarning: Implicit dimension choice for softmax has been deprecated. Change the call to include dim=X as an argument.\n",
            "  final_out = torch.nn.functional.softmax(out)\n",
            "100%|██████████| 57/57 [00:12<00:00,  4.64it/s]\n",
            "  0%|          | 0/2 [00:00<?, ?it/s]/var/folders/3c/71b8pg6d7j5dht_5h_2n4n_c0000gn/T/ipykernel_10911/1044936714.py:147: UserWarning: Implicit dimension choice for softmax has been deprecated. Change the call to include dim=X as an argument.\n",
            "  final_out = torch.nn.functional.softmax(out)\n",
            "100%|██████████| 2/2 [00:00<00:00,  4.87it/s]\n"
          ]
        },
        {
          "name": "stdout",
          "output_type": "stream",
          "text": [
            "\n",
            "epoch 15\n",
            "\ttrain_loss:0.610 valid_loss:0.765\n",
            "\ttrain_acc:75.25% valid_acc:69.94%\n",
            "\ttrain_f1:0.752 valid_f1:0.703\n",
            "\ttrain_confusion_matrix:\n",
            "[[1624  296  509]\n",
            " [ 319 1894  219]\n",
            " [ 294  169 1972]]\n",
            "\tvalid_confusion_matrix:\n",
            "[[114  47  67]\n",
            " [ 69 466  72]\n",
            " [ 55  39 232]]\n"
          ]
        },
        {
          "name": "stderr",
          "output_type": "stream",
          "text": [
            "  0%|          | 0/57 [00:00<?, ?it/s]/var/folders/3c/71b8pg6d7j5dht_5h_2n4n_c0000gn/T/ipykernel_10911/1044936714.py:147: UserWarning: Implicit dimension choice for softmax has been deprecated. Change the call to include dim=X as an argument.\n",
            "  final_out = torch.nn.functional.softmax(out)\n",
            "100%|██████████| 57/57 [00:12<00:00,  4.41it/s]\n",
            "  0%|          | 0/2 [00:00<?, ?it/s]/var/folders/3c/71b8pg6d7j5dht_5h_2n4n_c0000gn/T/ipykernel_10911/1044936714.py:147: UserWarning: Implicit dimension choice for softmax has been deprecated. Change the call to include dim=X as an argument.\n",
            "  final_out = torch.nn.functional.softmax(out)\n",
            "100%|██████████| 2/2 [00:00<00:00,  4.69it/s]\n"
          ]
        },
        {
          "name": "stdout",
          "output_type": "stream",
          "text": [
            "\n",
            "epoch 16\n",
            "\ttrain_loss:0.593 valid_loss:0.805\n",
            "\ttrain_acc:76.73% valid_acc:66.06%\n",
            "\ttrain_f1:0.767 valid_f1:0.670\n",
            "\ttrain_confusion_matrix:\n",
            "[[1711  245  474]\n",
            " [ 305 1889  238]\n",
            " [ 292  144 1998]]\n",
            "\tvalid_confusion_matrix:\n",
            "[[115  28  85]\n",
            " [ 77 396 134]\n",
            " [ 51  19 256]]\n"
          ]
        },
        {
          "name": "stderr",
          "output_type": "stream",
          "text": [
            "  0%|          | 0/57 [00:00<?, ?it/s]/var/folders/3c/71b8pg6d7j5dht_5h_2n4n_c0000gn/T/ipykernel_10911/1044936714.py:147: UserWarning: Implicit dimension choice for softmax has been deprecated. Change the call to include dim=X as an argument.\n",
            "  final_out = torch.nn.functional.softmax(out)\n",
            "100%|██████████| 57/57 [00:12<00:00,  4.51it/s]\n",
            "  0%|          | 0/2 [00:00<?, ?it/s]/var/folders/3c/71b8pg6d7j5dht_5h_2n4n_c0000gn/T/ipykernel_10911/1044936714.py:147: UserWarning: Implicit dimension choice for softmax has been deprecated. Change the call to include dim=X as an argument.\n",
            "  final_out = torch.nn.functional.softmax(out)\n",
            "100%|██████████| 2/2 [00:00<00:00,  4.72it/s]\n"
          ]
        },
        {
          "name": "stdout",
          "output_type": "stream",
          "text": [
            "\n",
            "epoch 17\n",
            "\ttrain_loss:0.600 valid_loss:0.740\n",
            "\ttrain_acc:75.97% valid_acc:70.97%\n",
            "\ttrain_f1:0.759 valid_f1:0.710\n",
            "\ttrain_confusion_matrix:\n",
            "[[1701  288  443]\n",
            " [ 292 1905  234]\n",
            " [ 305  191 1937]]\n",
            "\tvalid_confusion_matrix:\n",
            "[[105  54  69]\n",
            " [ 55 482  70]\n",
            " [ 48  41 237]]\n"
          ]
        },
        {
          "name": "stderr",
          "output_type": "stream",
          "text": [
            "  0%|          | 0/57 [00:00<?, ?it/s]/var/folders/3c/71b8pg6d7j5dht_5h_2n4n_c0000gn/T/ipykernel_10911/1044936714.py:147: UserWarning: Implicit dimension choice for softmax has been deprecated. Change the call to include dim=X as an argument.\n",
            "  final_out = torch.nn.functional.softmax(out)\n",
            "100%|██████████| 57/57 [00:13<00:00,  4.22it/s]\n",
            "  0%|          | 0/2 [00:00<?, ?it/s]/var/folders/3c/71b8pg6d7j5dht_5h_2n4n_c0000gn/T/ipykernel_10911/1044936714.py:147: UserWarning: Implicit dimension choice for softmax has been deprecated. Change the call to include dim=X as an argument.\n",
            "  final_out = torch.nn.functional.softmax(out)\n",
            "100%|██████████| 2/2 [00:00<00:00,  4.01it/s]\n"
          ]
        },
        {
          "name": "stdout",
          "output_type": "stream",
          "text": [
            "\n",
            "epoch 18\n",
            "\ttrain_loss:0.563 valid_loss:0.789\n",
            "\ttrain_acc:78.08% valid_acc:69.94%\n",
            "\ttrain_f1:0.781 valid_f1:0.706\n",
            "\ttrain_confusion_matrix:\n",
            "[[1764  259  408]\n",
            " [ 296 1949  188]\n",
            " [ 268  180 1984]]\n",
            "\tvalid_confusion_matrix:\n",
            "[[117  36  75]\n",
            " [ 74 449  84]\n",
            " [ 54  26 246]]\n"
          ]
        },
        {
          "name": "stderr",
          "output_type": "stream",
          "text": [
            "  0%|          | 0/57 [00:00<?, ?it/s]/var/folders/3c/71b8pg6d7j5dht_5h_2n4n_c0000gn/T/ipykernel_10911/1044936714.py:147: UserWarning: Implicit dimension choice for softmax has been deprecated. Change the call to include dim=X as an argument.\n",
            "  final_out = torch.nn.functional.softmax(out)\n",
            "100%|██████████| 57/57 [00:13<00:00,  4.38it/s]\n",
            "  0%|          | 0/2 [00:00<?, ?it/s]/var/folders/3c/71b8pg6d7j5dht_5h_2n4n_c0000gn/T/ipykernel_10911/1044936714.py:147: UserWarning: Implicit dimension choice for softmax has been deprecated. Change the call to include dim=X as an argument.\n",
            "  final_out = torch.nn.functional.softmax(out)\n",
            "100%|██████████| 2/2 [00:00<00:00,  4.68it/s]\n"
          ]
        },
        {
          "name": "stdout",
          "output_type": "stream",
          "text": [
            "\n",
            "epoch 19\n",
            "\ttrain_loss:0.555 valid_loss:0.796\n",
            "\ttrain_acc:78.69% valid_acc:68.99%\n",
            "\ttrain_f1:0.787 valid_f1:0.698\n",
            "\ttrain_confusion_matrix:\n",
            "[[1799  251  383]\n",
            " [ 282 1936  211]\n",
            " [ 266  162 2006]]\n",
            "\tvalid_confusion_matrix:\n",
            "[[121  37  70]\n",
            " [ 90 439  78]\n",
            " [ 55  30 241]]\n",
            "Loading saved model from: model_task2.bin\n"
          ]
        },
        {
          "name": "stderr",
          "output_type": "stream",
          "text": [
            "  0%|          | 0/2 [00:00<?, ?it/s]/var/folders/3c/71b8pg6d7j5dht_5h_2n4n_c0000gn/T/ipykernel_10911/1044936714.py:147: UserWarning: Implicit dimension choice for softmax has been deprecated. Change the call to include dim=X as an argument.\n",
            "  final_out = torch.nn.functional.softmax(out)\n",
            "100%|██████████| 2/2 [00:00<00:00,  4.41it/s]"
          ]
        },
        {
          "name": "stdout",
          "output_type": "stream",
          "text": [
            "              precision    recall  f1-score   support\n",
            "\n",
            "     Neutral       0.50      0.46      0.48       228\n",
            "    Positive       0.84      0.79      0.81       607\n",
            "    Negative       0.62      0.72      0.67       326\n",
            "\n",
            "    accuracy                           0.71      1161\n",
            "   macro avg       0.65      0.66      0.65      1161\n",
            "weighted avg       0.71      0.71      0.71      1161\n",
            "\n"
          ]
        },
        {
          "name": "stderr",
          "output_type": "stream",
          "text": [
            "\n"
          ]
        }
      ],
      "source": [
        "import random\n",
        "lst = [0.6, 0.8, 1]\n",
        "\n",
        "for alpha_val in lst:\n",
        "    choice = [2, 4, 8]\n",
        "    upsampling = True\n",
        "\n",
        "    for window in choice:\n",
        "\n",
        "        print()\n",
        "        print(\"*\"*90)\n",
        "        print(\"Alpha Size: {}\".format(alpha_val))\n",
        "        print(\"Window Size: {}\".format(window))\n",
        "        print(\"*\"*90)\n",
        "        print()\n",
        "\n",
        "        all_aspect_clusters = []\n",
        "        for i in range(len(sentences)):\n",
        "            all_aspect_clusters.extend(chop(sentences[i], aspect_tags[i], polarity_tags[i], \n",
        "                                            window_size=window))\n",
        "        #if upsampling:\n",
        "        #    all_aspect_clusters = upsample_polarity(all_aspect_clusters)\n",
        "\n",
        "        #local_context, global_context, y = create_train_data_restaurant(all_aspect_clusters ,word_indx, sent_len=85)\n",
        "\n",
        "        #X_l_train, X_l_valid, X_g_train, X_g_valid,  y_train, y_valid = train_test_split(local_context, global_context, y, test_size=VALID_SIZE)\n",
        "\n",
        "        train_aspect_clusters, test_aspect_clusters = train_test_split(all_aspect_clusters, random_state=42, test_size=VALID_SIZE)\n",
        "        \n",
        "        if upsampling:\n",
        "            train_aspect_clusters = upsample_polarity(train_aspect_clusters)\n",
        "\n",
        "        X_l_train, X_g_train, y_train = create_train_data_restaurant(train_aspect_clusters ,word_indx, sent_len=85)\n",
        "\n",
        "        X_l_valid, X_g_valid, y_valid = create_train_data_restaurant(test_aspect_clusters ,word_indx, sent_len=85)\n",
        "\n",
        "        device = get_default_device()\n",
        "\n",
        "        NUM_EPOCHS = 20\n",
        "        TRAIN_BATCH_SIZE = 128\n",
        "        VALID_BATCH_SIZE = 1024\n",
        "\n",
        "        NUM_POLARITY_TAGS = 3\n",
        "\n",
        "        history = {\n",
        "            \"train_loss\": list(),\n",
        "            \"polarity_train_acc\": list(),\n",
        "            \"valid_loss\": list(),\n",
        "            \"polarity_valid_acc\": list(),\n",
        "        }\n",
        "\n",
        "        best_loss = np.inf\n",
        "\n",
        "        dataset = TensorDataset(torch.Tensor(X_l_train), torch.Tensor(X_g_train), torch.Tensor(y_train))\n",
        "        print(f\"train samples:{len(dataset)}\")\n",
        "        train_loader = DataLoader(dataset, batch_size=TRAIN_BATCH_SIZE, shuffle=True, drop_last=True)\n",
        "\n",
        "        dataset_valid = TensorDataset(torch.Tensor(X_l_valid),  torch.Tensor(X_g_valid), torch.Tensor(y_valid))\n",
        "        print(f\"valid samples:{len(dataset_valid)}\")\n",
        "        test_loader = DataLoader(dataset_valid, batch_size=VALID_BATCH_SIZE)\n",
        "\n",
        "        model = to_device(Model(general_embedding,  num_classes=3, alpha = alpha_val), device)\n",
        "\n",
        "        torch.cuda.empty_cache()\n",
        "\n",
        "        parameters = [p for p in model.parameters() if p.requires_grad]\n",
        "        optimizer = AdamW(parameters, lr=1e-4)\n",
        "\n",
        "\n",
        "        for epoch in range(NUM_EPOCHS):\n",
        "            train_losses = []\n",
        "            train_acc = []\n",
        "            test_loss = []\n",
        "            test_acc = []\n",
        "            train_f1 = []\n",
        "            test_f1 = []\n",
        "\n",
        "            model.train()\n",
        "            preds = []\n",
        "            masks = []\n",
        "            labels = []\n",
        "            for data in tqdm(train_loader, total=len(train_loader)):\n",
        "                for i in range(len(data)):\n",
        "                    data[i] = data[i].to(device)\n",
        "                l_feature, g_feature, label = data\n",
        "                l_feature, g_feature, label = l_feature.long(), g_feature.long(), label.long()\n",
        "\n",
        "                optimizer.zero_grad()\n",
        "                pred_logits, logits = model(l_feature, g_feature)\n",
        "                loss = loss_fn(logits, label, 3) #w/o softmax\n",
        "                loss.backward()\n",
        "                optimizer.step()\n",
        "\n",
        "                train_losses.append(loss.item())\n",
        "\n",
        "                pred_tags = pred_logits.max(-1)[1] #with softmax\n",
        "                preds.append(pred_tags)\n",
        "                labels.append(label)\n",
        "\n",
        "            avg_train_acc, avg_train_f1, train_cm = cal_acc(preds,labels)\n",
        "            avg_train_loss = sum(train_losses) / len(train_losses)\n",
        "\n",
        "            preds = []\n",
        "            masks = []\n",
        "            labels = []\n",
        "            with torch.no_grad():\n",
        "                for data in tqdm(test_loader, total=len(test_loader)):\n",
        "                    for i in range(len(data)):\n",
        "                        data[i] = data[i].to(device)\n",
        "                    l_feature, g_feature, label = data\n",
        "                    l_feature, g_feature, label = l_feature.long(), g_feature.long(), label.long()\n",
        "                    pred_logits, logits = model(l_feature, g_feature)\n",
        "                    loss = loss_fn(logits, label, 3) #w/o softmax\n",
        "\n",
        "                    test_loss.append(loss.item())\n",
        "\n",
        "                    pred_tags = pred_logits.max(-1)[1] #with softmax\n",
        "\n",
        "                    preds.append(pred_tags)\n",
        "                    labels.append(label)\n",
        "\n",
        "            avg_test_acc, avg_test_f1, test_cm = cal_acc(preds,  labels)\n",
        "            avg_test_loss = sum(test_loss) / len(test_loss)\n",
        "\n",
        "            print(f\"\\nepoch {epoch}\")\n",
        "            print(\"\\ttrain_loss:{:.3f} valid_loss:{:.3f}\".format(avg_train_loss, avg_test_loss))\n",
        "            print(\"\\ttrain_acc:{:.2%} valid_acc:{:.2%}\".format(avg_train_acc, avg_test_acc))\n",
        "            print(\"\\ttrain_f1:{:.3f} valid_f1:{:.3f}\".format(avg_train_f1, avg_test_f1))\n",
        "            print(f\"\\ttrain_confusion_matrix:\\n{train_cm}\")\n",
        "            print(f\"\\tvalid_confusion_matrix:\\n{test_cm}\")\n",
        "\n",
        "            if avg_test_loss < best_loss:\n",
        "                torch.save(model.state_dict(), MODEL_PATH)\n",
        "                best_loss = avg_test_loss    \n",
        "                \n",
        "            history['train_loss'].append(avg_train_loss)\n",
        "            history['polarity_train_acc'].append(avg_train_acc.cpu().numpy())\n",
        "            history['valid_loss'].append(avg_test_loss)\n",
        "            history['polarity_valid_acc'].append(avg_test_acc.cpu().numpy())\n",
        "\n",
        "        get_classification_report(test_loader, model, model_path=MODEL_PATH)\n",
        "                \n",
        "            \n"
      ]
    },
    {
      "cell_type": "code",
      "execution_count": null,
      "metadata": {},
      "outputs": [],
      "source": [
        "import matplotlib.pyplot as plt\n",
        "plt.plot(history['polarity_train_acc'], label='train accuracy')\n",
        "plt.plot(history['polarity_valid_acc'], label='validation accuracy')\n",
        "plt.title('Training history')\n",
        "plt.ylabel('Accuracy')\n",
        "plt.xlabel('Epoch')\n",
        "plt.legend()\n",
        "plt.ylim([0.4, 0.9])"
      ]
    }
  ],
  "metadata": {
    "colab": {
      "collapsed_sections": [],
      "name": "task2_lstm.ipynb",
      "provenance": []
    },
    "kernelspec": {
      "display_name": "Python 3",
      "name": "python3"
    },
    "language_info": {
      "codemirror_mode": {
        "name": "ipython",
        "version": 3
      },
      "file_extension": ".py",
      "mimetype": "text/x-python",
      "name": "python",
      "nbconvert_exporter": "python",
      "pygments_lexer": "ipython3",
      "version": "3.10.0"
    }
  },
  "nbformat": 4,
  "nbformat_minor": 0
}
