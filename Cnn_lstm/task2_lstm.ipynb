{
  "cells": [
    {
      "cell_type": "code",
      "execution_count": 53,
      "metadata": {
        "colab": {
          "base_uri": "https://localhost:8080/"
        },
        "id": "VVlBRwsjo3A9",
        "outputId": "c73353d2-d0e0-46ab-cb7b-742f72aa0104"
      },
      "outputs": [],
      "source": [
        "#!pip install fasttext\n",
        "#!pip install transformers\n",
        "#import nltk\n",
        "#nltk.download('punkt')\n",
        "#!pip3 install torch torchvision torchaudio"
      ]
    },
    {
      "cell_type": "code",
      "execution_count": 1,
      "metadata": {
        "colab": {
          "base_uri": "https://localhost:8080/"
        },
        "id": "Q2Pp-VjL_5Xw",
        "outputId": "a043786f-12ea-4b95-f6bb-4f7c9288537a"
      },
      "outputs": [],
      "source": [
        "DATA_DIR = \"./data/\"\n",
        "VALID_SIZE = .2\n",
        "MODEL_PATH = \"model_task2.bin\""
      ]
    },
    {
      "cell_type": "code",
      "execution_count": 2,
      "metadata": {
        "id": "f_ihgOgKQQ5e"
      },
      "outputs": [],
      "source": [
        "import pandas as pd\n",
        "import numpy as np\n",
        "import scipy\n",
        "import nltk\n",
        "import re\n",
        "import os\n",
        "from nltk.corpus import stopwords\n",
        "from nltk.tokenize import word_tokenize\n",
        "from torch.optim import AdamW\n",
        "from fasttext import load_model\n",
        "import torch\n",
        "import torch.nn as nn\n",
        "from torch.utils.data import Dataset, DataLoader, TensorDataset\n",
        "from tqdm import tqdm\n",
        "from sklearn.metrics import f1_score, confusion_matrix\n",
        "from sklearn.model_selection import train_test_split\n",
        "from sklearn import preprocessing, model_selection\n",
        "from torch import LongTensor\n",
        "from sklearn.metrics import f1_score, confusion_matrix, classification_report"
      ]
    },
    {
      "cell_type": "markdown",
      "metadata": {},
      "source": [
        "---"
      ]
    },
    {
      "cell_type": "code",
      "execution_count": 3,
      "metadata": {},
      "outputs": [],
      "source": [
        "df = pd.read_csv('../Dataset/data/restaurants_laptop_train_with_pos_task2_cleaned.csv')"
      ]
    },
    {
      "cell_type": "code",
      "execution_count": 4,
      "metadata": {},
      "outputs": [
        {
          "name": "stdout",
          "output_type": "stream",
          "text": [
            "num of aspect tags: 2\n",
            "num of polarity tags: 4\n"
          ]
        },
        {
          "data": {
            "text/plain": [
              "0"
            ]
          },
          "execution_count": 4,
          "metadata": {},
          "output_type": "execute_result"
        }
      ],
      "source": [
        "df.polarity = df.polarity.replace(-1,2)\n",
        "\n",
        "encoder = preprocessing.LabelEncoder()\n",
        "df.loc[:, \"aspect_tag\"] = encoder.fit_transform(df[\"aspect_tag\"])\n",
        "\n",
        "sentences = df.groupby(\"num\")[\"text\"].apply(list).values\n",
        "aspect_tags = df.groupby(\"num\")[\"aspect_tag\"].apply(list).values\n",
        "polarity_tags = df.groupby(\"num\")[\"polarity\"].apply(list).values\n",
        "\n",
        "polarity_unique_values = df.polarity.unique()\n",
        "\n",
        "print('num of aspect tags: {}'.format(len(encoder.classes_)))\n",
        "print('num of polarity tags: {}'.format(len(polarity_unique_values)))\n",
        "\n",
        "np.where(encoder.classes_ == \"AT\")[0].item()"
      ]
    },
    {
      "cell_type": "code",
      "execution_count": 5,
      "metadata": {},
      "outputs": [
        {
          "name": "stdout",
          "output_type": "stream",
          "text": [
            "['I', 'charge', 'it', 'at', 'night', 'and', 'skip', 'taking', 'the', 'cord', 'with', 'me', 'because', 'of', 'the', 'good', 'battery', 'life']\n",
            "[1, 1, 1, 1, 1, 1, 1, 1, 1, 0, 1, 1, 1, 1, 1, 1, 0, 0]\n",
            "[0, 0, 0, 0, 0, 0, 0, 0, 0, 0, 0, 0, 0, 0, 0, 0, 1, 1]\n"
          ]
        }
      ],
      "source": [
        "idx = 0\n",
        "print(sentences[idx])\n",
        "print(aspect_tags[idx])\n",
        "print(polarity_tags[idx])"
      ]
    },
    {
      "cell_type": "markdown",
      "metadata": {},
      "source": [
        "---"
      ]
    },
    {
      "cell_type": "code",
      "execution_count": 11,
      "id": "2448bddb",
      "metadata": {},
      "outputs": [],
      "source": [
        "def get_new_aspect_cluster(left, right, aspect_term, polarity, sentence):\n",
        "\n",
        "    if len(polarity) == 0:\n",
        "        polarity = 0\n",
        "    else:\n",
        "        polarity = int(sum(polarity)/len(polarity))\n",
        "   \n",
        "    left.extend(aspect_term)\n",
        "    left.extend(right)\n",
        "    return {\n",
        "        \"local_context\":left,\n",
        "        \"global_context\":sentence,\n",
        "        \"aspect_term\":aspect_term,\n",
        "        \"polarity\":polarity,\n",
        "    }\n",
        "\n",
        "def chop(sentence, aspect_tag, polarity_tag):\n",
        "    ret_aspect_clusters = []\n",
        "#     ret_aspect_clusters = {\n",
        "#         \"context\":list(),\n",
        "#         \"aspect_term\":list(),\n",
        "#         \"polarity\":list(),\n",
        "#     }\n",
        "    left = []\n",
        "    right = []\n",
        "    aspect_term = []\n",
        "    polarity = []\n",
        "    doing_left = True\n",
        "    doing_right = False\n",
        "    doing_aspect = False\n",
        "    for i in range(len(sentence)):\n",
        "        # check if the current token is an aspect term\n",
        "        if aspect_tag[i] == 0:\n",
        "            if doing_left:\n",
        "                doing_aspect = True\n",
        "                doing_left = False\n",
        "            elif doing_right:\n",
        "                doing_right = False\n",
        "                doing_aspect = True\n",
        "                # Now, need to save the previous aspect term cluster\n",
        "                ret_aspect_clusters.append(get_new_aspect_cluster(\n",
        "                    left, right, aspect_term, polarity, sentence))\n",
        "                left = right\n",
        "                right = []\n",
        "                aspect_term = []\n",
        "                polarity = []\n",
        "            aspect_term.append(sentence[i])\n",
        "            polarity.append(polarity_tag[i])\n",
        "        else:\n",
        "            if doing_left:\n",
        "                left.append(sentence[i])\n",
        "            elif doing_right:\n",
        "                right.append(sentence[i])\n",
        "            else:\n",
        "                doing_aspect = False\n",
        "                doing_right = True\n",
        "                right.append(sentence[i])\n",
        "                \n",
        "    ret_aspect_clusters.append(get_new_aspect_cluster(\n",
        "        left, right, aspect_term, polarity, sentence))\n",
        "    \n",
        "    return ret_aspect_clusters"
      ]
    },
    {
      "cell_type": "code",
      "execution_count": 12,
      "id": "bb3ba0d2",
      "metadata": {},
      "outputs": [],
      "source": [
        "all_aspect_clusters = []\n",
        "for i in range(len(sentences)):\n",
        "    all_aspect_clusters.extend(chop(sentences[i], aspect_tags[i], polarity_tags[i]))"
      ]
    },
    {
      "cell_type": "code",
      "execution_count": 13,
      "metadata": {
        "id": "MIElcOeLQVR0"
      },
      "outputs": [],
      "source": [
        "# generate word_index list\n",
        "def build_vocab(df):\n",
        "    word_idx = {}\n",
        "    for idx, word in enumerate(sorted(set(df.text.values))):\n",
        "        word_idx[word] = idx + 1\n",
        "    return word_idx\n",
        "\n",
        "def gen_np_embedding(fn, word_idx, dim=100, emb=False):\n",
        "    if emb:\n",
        "        model = load_model(fn + \".bin\")\n",
        "    embedding = np.zeros((len(word_idx) + 2, dim))\n",
        "\n",
        "    with open(fn, encoding=\"utf8\") as f:\n",
        "        for l in f:\n",
        "            # for each line, get the word and its vector\n",
        "            rec = l.rstrip().split(' ')\n",
        "            if len(rec) == 2:  # skip the first line.\n",
        "                continue\n",
        "                # if the word in word_idx, fill the embedding\n",
        "            if rec[0] in word_idx:\n",
        "                embedding[word_idx[rec[0]]] = np.array([float(r) for r in rec[1:]])\n",
        "    for w in word_idx:\n",
        "        if embedding[word_idx[w]].sum() == 0.:\n",
        "            if emb:\n",
        "                embedding[word_idx[w]] = model.get_word_vector(w)\n",
        "    return embedding\n",
        "\n",
        "def create_train_data_restaurant(all_aspect_clusters,  word_idx, sent_len=83):\n",
        "\n",
        "    train_X_local = np.zeros((len(all_aspect_clusters), sent_len), np.int16)\n",
        "    train_X_global = np.zeros((len(all_aspect_clusters), sent_len), np.int16)\n",
        "\n",
        "    train_y = np.zeros(len(all_aspect_clusters), np.int16)\n",
        "\n",
        "    # iterate the asoect\n",
        "    for sx, sent in enumerate(all_aspect_clusters):\n",
        "        train_y[sx] = sent['polarity']\n",
        "        global_sentence = sent['global_context']\n",
        "        local_sentence = sent['local_context']\n",
        "        # write word index and tag in train_X\n",
        "        try:\n",
        "            for wx, word in enumerate(global_sentence):\n",
        "                train_X_global[sx, wx] = word_idx[word]\n",
        "\n",
        "            for wx, word in enumerate(local_sentence):\n",
        "                train_X_local[sx, wx] = word_idx[word]\n",
        "\n",
        "        except KeyError:\n",
        "            continue\n",
        "\n",
        "    return train_X_local, train_X_global, train_y\n",
        "\n",
        "\n",
        "def get_default_device():\n",
        "    \"\"\"Pick GPU if available, else CPU\"\"\"\n",
        "    if torch.cuda.is_available():\n",
        "        return torch.device('cuda')\n",
        "    else:\n",
        "        return torch.device('cpu')\n",
        "\n",
        "\n",
        "def to_device(data, device):\n",
        "    \"\"\"Move tensor(s) to chosen device\"\"\"\n",
        "    if isinstance(data, (list, tuple)):\n",
        "        return [to_device(x, device) for x in data]\n",
        "    elif isinstance(data, dict):\n",
        "        for k, v in data.items():\n",
        "            data[k] = v.to(device)\n",
        "        return data\n",
        "    return data.to(device, non_blocking=True)\n",
        "\n",
        "\n",
        "class DeviceDataLoader():\n",
        "    \"\"\"Wrap a dataloader to move data to a device\"\"\"\n",
        "\n",
        "    def __init__(self, dl, device):\n",
        "        self.dl = dl\n",
        "        self.device = device\n",
        "\n",
        "    def __iter__(self):\n",
        "        \"\"\"Yield a batch of data after moving it to device\"\"\"\n",
        "        for b in self.dl:\n",
        "            yield to_device(b, self.device)\n",
        "\n",
        "    def __len__(self):\n",
        "        \"\"\"Number of batches\"\"\"\n",
        "        return len(self.dl)\n",
        "\n",
        "\n",
        "def loss_fn(pred, label, num_label):\n",
        "    pred = pred.view(-1,num_label)\n",
        "    label = label.view(-1)\n",
        "    loss = torch.nn.functional.cross_entropy(pred, label)\n",
        "    return loss\n",
        "\n",
        "\n",
        "def cal_acc(pred_tags, true_tags):\n",
        "    if isinstance(pred_tags, list):\n",
        "        pred_tags = torch.cat(pred_tags, 0)\n",
        "        true_tags = torch.cat(true_tags, 0)\n",
        "    acc = (pred_tags == true_tags).sum() / pred_tags.numel()\n",
        "    f1 = f1_score(true_tags.cpu().numpy(), pred_tags.cpu().numpy(), labels=[0, 1, 2], average='weighted')\n",
        "    cm = confusion_matrix(true_tags.cpu().numpy(), pred_tags.cpu().numpy())\n",
        "    return acc, f1, cm\n",
        "\n",
        "\n",
        "class Model(torch.nn.Module):\n",
        "    def __init__(self, gen_emb, num_classes=3, alpha = 0.6):\n",
        "        super(Model, self).__init__()\n",
        "  \n",
        "        self.embed = nn.Embedding.from_pretrained(torch.tensor(gen_emb, dtype=torch.float))\n",
        "\n",
        "        self.lstm = nn.LSTM(gen_emb.shape[1], hidden_size=150, num_layers=1, bidirectional=True, batch_first=True)\n",
        "        self.dense = nn.Linear(150*2, num_classes)\n",
        "\n",
        "        self.alpha = alpha\n",
        "        self.dropout = nn.Dropout(0.3)\n",
        "\n",
        "\n",
        "    def forward(self, x_train_local, x_train_global):\n",
        "        x_local = self.embed(x_train_local)\n",
        "        \n",
        "        local_seq_lengths = np.sum(np.array(x_train_local) !=0, axis=1)\n",
        "   \n",
        "        x_emb_l = torch.nn.utils.rnn.pack_padded_sequence(x_local, local_seq_lengths, batch_first=True, enforce_sorted=False)\n",
        "\n",
        "        _, (h_n, _) = self.lstm(x_emb_l.float())\n",
        "\n",
        "        h_n = torch.cat([h_n[-2,:,:], h_n[-1,:,:]], dim=1)\n",
        "\n",
        "        x_global = self.embed(x_train_global)\n",
        "\n",
        "\n",
        "        global_seq_lengths = np.sum(np.array(x_train_global) !=0, axis=1)\n",
        "\n",
        "        x_emb_g = torch.nn.utils.rnn.pack_padded_sequence(x_global, global_seq_lengths, batch_first=True, enforce_sorted=False)\n",
        "\n",
        "        _, (h_n_g,_) = self.lstm(x_emb_g.float())\n",
        "\n",
        "        h_n_g = torch.cat([h_n_g[-2,:,:], h_n_g[-1,:,:]], dim=1)\n",
        "\n",
        "        avg_pool = torch.div(torch.add(h_n * (1 - self.alpha), h_n_g * self.alpha), 2)\n",
        "        out = self.dropout(avg_pool)\n",
        "\n",
        "        out = self.dense(out)\n",
        "\n",
        "        out = torch.nn.functional.log_softmax(out)\n",
        "\n",
        "        return out"
      ]
    },
    {
      "cell_type": "code",
      "execution_count": 14,
      "metadata": {},
      "outputs": [],
      "source": [
        "word_indx = build_vocab(df)\n",
        "    \n",
        "fn = DATA_DIR + 'glove.840B.300d.txt'\n",
        "general_embedding = gen_np_embedding(fn, word_indx, dim=300, emb=False)"
      ]
    },
    {
      "cell_type": "code",
      "execution_count": 15,
      "metadata": {},
      "outputs": [],
      "source": [
        "local_context, global_context, y = create_train_data_restaurant(all_aspect_clusters ,word_indx, sent_len=85)\n",
        "\n",
        "X_l_train, X_l_valid, X_g_train, X_g_valid,  y_train, y_valid = train_test_split(local_context, global_context, y, test_size=VALID_SIZE)\n"
      ]
    },
    {
      "cell_type": "code",
      "execution_count": 16,
      "metadata": {},
      "outputs": [
        {
          "name": "stdout",
          "output_type": "stream",
          "text": [
            "train samples:4641\n",
            "valid samples:1161\n"
          ]
        }
      ],
      "source": [
        "device = get_default_device()\n",
        "\n",
        "NUM_EPOCHS = 20\n",
        "TRAIN_BATCH_SIZE = 128\n",
        "VALID_BATCH_SIZE = 1024\n",
        "\n",
        "NUM_POLARITY_TAGS = 3\n",
        "\n",
        "history = {\n",
        "    \"train_loss\": list(),\n",
        "    \"polarity_train_acc\": list(),\n",
        "    \"valid_loss\": list(),\n",
        "    \"polarity_valid_acc\": list(),\n",
        "}\n",
        "\n",
        "best_loss = np.inf\n",
        "\n",
        "dataset = TensorDataset(torch.Tensor(X_l_train), torch.Tensor(X_g_train), torch.Tensor(y_train))\n",
        "print(f\"train samples:{len(dataset)}\")\n",
        "train_loader = DataLoader(dataset, batch_size=TRAIN_BATCH_SIZE, shuffle=True, drop_last=True)\n",
        "\n",
        "dataset_valid = TensorDataset(torch.Tensor(X_l_valid),  torch.Tensor(X_g_valid), torch.Tensor(y_valid))\n",
        "print(f\"valid samples:{len(dataset_valid)}\")\n",
        "test_loader = DataLoader(dataset_valid, batch_size=VALID_BATCH_SIZE)\n",
        "\n",
        "model = to_device(Model(general_embedding,  num_classes=3, alpha = 0), device)"
      ]
    },
    {
      "cell_type": "code",
      "execution_count": 17,
      "metadata": {},
      "outputs": [
        {
          "name": "stdout",
          "output_type": "stream",
          "text": [
            "Model(\n",
            "  (embed): Embedding(6395, 300)\n",
            "  (lstm): LSTM(300, 150, batch_first=True, bidirectional=True)\n",
            "  (dense): Linear(in_features=300, out_features=3, bias=True)\n",
            "  (dropout): Dropout(p=0.3, inplace=False)\n",
            ")\n"
          ]
        }
      ],
      "source": [
        "print(model)"
      ]
    },
    {
      "cell_type": "markdown",
      "metadata": {},
      "source": [
        "## Alpha = 0"
      ]
    },
    {
      "cell_type": "code",
      "execution_count": 64,
      "metadata": {},
      "outputs": [
        {
          "name": "stdout",
          "output_type": "stream",
          "text": [
            "train samples:4641\n",
            "valid samples:1161\n"
          ]
        },
        {
          "name": "stderr",
          "output_type": "stream",
          "text": [
            "  0%|          | 0/36 [00:00<?, ?it/s]/var/folders/3c/71b8pg6d7j5dht_5h_2n4n_c0000gn/T/ipykernel_14530/3235636334.py:164: UserWarning: Implicit dimension choice for log_softmax has been deprecated. Change the call to include dim=X as an argument.\n",
            "  out = torch.nn.functional.log_softmax(out)\n",
            "100%|██████████| 36/36 [00:11<00:00,  3.22it/s]\n",
            "  0%|          | 0/2 [00:00<?, ?it/s]/var/folders/3c/71b8pg6d7j5dht_5h_2n4n_c0000gn/T/ipykernel_14530/3235636334.py:164: UserWarning: Implicit dimension choice for log_softmax has been deprecated. Change the call to include dim=X as an argument.\n",
            "  out = torch.nn.functional.log_softmax(out)\n",
            "100%|██████████| 2/2 [00:00<00:00,  4.54it/s]\n"
          ]
        },
        {
          "name": "stdout",
          "output_type": "stream",
          "text": [
            "\n",
            "epoch 0\n",
            "\ttrain_loss:1.063 valid_loss:1.031\n",
            "\ttrain_acc:51.54% valid_acc:52.54%\n",
            "\ttrain_f1:0.362 valid_f1:0.363\n",
            "\ttrain_confusion_matrix:\n",
            "[[  12  874    1]\n",
            " [  53 2362    3]\n",
            " [  18 1284    1]]\n",
            "\tvalid_confusion_matrix:\n",
            "[[  0 225   0]\n",
            " [  0 609   0]\n",
            " [  0 326   1]]\n"
          ]
        },
        {
          "name": "stderr",
          "output_type": "stream",
          "text": [
            "  0%|          | 0/36 [00:00<?, ?it/s]/var/folders/3c/71b8pg6d7j5dht_5h_2n4n_c0000gn/T/ipykernel_14530/3235636334.py:164: UserWarning: Implicit dimension choice for log_softmax has been deprecated. Change the call to include dim=X as an argument.\n",
            "  out = torch.nn.functional.log_softmax(out)\n",
            "100%|██████████| 36/36 [00:11<00:00,  3.21it/s]\n",
            "  0%|          | 0/2 [00:00<?, ?it/s]/var/folders/3c/71b8pg6d7j5dht_5h_2n4n_c0000gn/T/ipykernel_14530/3235636334.py:164: UserWarning: Implicit dimension choice for log_softmax has been deprecated. Change the call to include dim=X as an argument.\n",
            "  out = torch.nn.functional.log_softmax(out)\n",
            "100%|██████████| 2/2 [00:00<00:00,  4.15it/s]\n"
          ]
        },
        {
          "name": "stdout",
          "output_type": "stream",
          "text": [
            "\n",
            "epoch 1\n",
            "\ttrain_loss:1.009 valid_loss:0.978\n",
            "\ttrain_acc:52.67% valid_acc:52.45%\n",
            "\ttrain_f1:0.364 valid_f1:0.361\n",
            "\ttrain_confusion_matrix:\n",
            "[[   0  884    0]\n",
            " [   0 2423    0]\n",
            " [   0 1297    4]]\n",
            "\tvalid_confusion_matrix:\n",
            "[[  0 225   0]\n",
            " [  0 609   0]\n",
            " [  0 327   0]]\n"
          ]
        },
        {
          "name": "stderr",
          "output_type": "stream",
          "text": [
            "  0%|          | 0/36 [00:00<?, ?it/s]/var/folders/3c/71b8pg6d7j5dht_5h_2n4n_c0000gn/T/ipykernel_14530/3235636334.py:164: UserWarning: Implicit dimension choice for log_softmax has been deprecated. Change the call to include dim=X as an argument.\n",
            "  out = torch.nn.functional.log_softmax(out)\n",
            "100%|██████████| 36/36 [00:11<00:00,  3.16it/s]\n",
            "  0%|          | 0/2 [00:00<?, ?it/s]/var/folders/3c/71b8pg6d7j5dht_5h_2n4n_c0000gn/T/ipykernel_14530/3235636334.py:164: UserWarning: Implicit dimension choice for log_softmax has been deprecated. Change the call to include dim=X as an argument.\n",
            "  out = torch.nn.functional.log_softmax(out)\n",
            "100%|██████████| 2/2 [00:00<00:00,  4.93it/s]\n"
          ]
        },
        {
          "name": "stdout",
          "output_type": "stream",
          "text": [
            "\n",
            "epoch 2\n",
            "\ttrain_loss:0.968 valid_loss:0.930\n",
            "\ttrain_acc:52.65% valid_acc:52.71%\n",
            "\ttrain_f1:0.366 valid_f1:0.368\n",
            "\ttrain_confusion_matrix:\n",
            "[[   0  887    0]\n",
            " [   0 2416    2]\n",
            " [   0 1293   10]]\n",
            "\tvalid_confusion_matrix:\n",
            "[[  0 224   1]\n",
            " [  0 608   1]\n",
            " [  0 323   4]]\n"
          ]
        },
        {
          "name": "stderr",
          "output_type": "stream",
          "text": [
            "  0%|          | 0/36 [00:00<?, ?it/s]/var/folders/3c/71b8pg6d7j5dht_5h_2n4n_c0000gn/T/ipykernel_14530/3235636334.py:164: UserWarning: Implicit dimension choice for log_softmax has been deprecated. Change the call to include dim=X as an argument.\n",
            "  out = torch.nn.functional.log_softmax(out)\n",
            "100%|██████████| 36/36 [00:10<00:00,  3.29it/s]\n",
            "  0%|          | 0/2 [00:00<?, ?it/s]/var/folders/3c/71b8pg6d7j5dht_5h_2n4n_c0000gn/T/ipykernel_14530/3235636334.py:164: UserWarning: Implicit dimension choice for log_softmax has been deprecated. Change the call to include dim=X as an argument.\n",
            "  out = torch.nn.functional.log_softmax(out)\n",
            "100%|██████████| 2/2 [00:00<00:00,  5.03it/s]\n"
          ]
        },
        {
          "name": "stdout",
          "output_type": "stream",
          "text": [
            "\n",
            "epoch 3\n",
            "\ttrain_loss:0.904 valid_loss:0.847\n",
            "\ttrain_acc:57.18% valid_acc:62.02%\n",
            "\ttrain_f1:0.469 valid_f1:0.549\n",
            "\ttrain_confusion_matrix:\n",
            "[[   0  790   95]\n",
            " [   0 2339   79]\n",
            " [   0 1009  296]]\n",
            "\tvalid_confusion_matrix:\n",
            "[[  0 126  99]\n",
            " [  0 539  70]\n",
            " [  0 146 181]]\n"
          ]
        },
        {
          "name": "stderr",
          "output_type": "stream",
          "text": [
            "  0%|          | 0/36 [00:00<?, ?it/s]/var/folders/3c/71b8pg6d7j5dht_5h_2n4n_c0000gn/T/ipykernel_14530/3235636334.py:164: UserWarning: Implicit dimension choice for log_softmax has been deprecated. Change the call to include dim=X as an argument.\n",
            "  out = torch.nn.functional.log_softmax(out)\n",
            "100%|██████████| 36/36 [00:17<00:00,  2.10it/s]\n",
            "  0%|          | 0/2 [00:00<?, ?it/s]/var/folders/3c/71b8pg6d7j5dht_5h_2n4n_c0000gn/T/ipykernel_14530/3235636334.py:164: UserWarning: Implicit dimension choice for log_softmax has been deprecated. Change the call to include dim=X as an argument.\n",
            "  out = torch.nn.functional.log_softmax(out)\n",
            "100%|██████████| 2/2 [00:00<00:00,  3.28it/s]\n"
          ]
        },
        {
          "name": "stdout",
          "output_type": "stream",
          "text": [
            "\n",
            "epoch 4\n",
            "\ttrain_loss:0.845 valid_loss:0.812\n",
            "\ttrain_acc:61.91% valid_acc:63.14%\n",
            "\ttrain_f1:0.553 valid_f1:0.561\n",
            "\ttrain_confusion_matrix:\n",
            "[[   0  481  406]\n",
            " [   0 2050  369]\n",
            " [   0  499  803]]\n",
            "\tvalid_confusion_matrix:\n",
            "[[  0 119 106]\n",
            " [  0 536  73]\n",
            " [  0 130 197]]\n"
          ]
        },
        {
          "name": "stderr",
          "output_type": "stream",
          "text": [
            "  0%|          | 0/36 [00:00<?, ?it/s]/var/folders/3c/71b8pg6d7j5dht_5h_2n4n_c0000gn/T/ipykernel_14530/3235636334.py:164: UserWarning: Implicit dimension choice for log_softmax has been deprecated. Change the call to include dim=X as an argument.\n",
            "  out = torch.nn.functional.log_softmax(out)\n",
            "100%|██████████| 36/36 [00:17<00:00,  2.06it/s]\n",
            "  0%|          | 0/2 [00:00<?, ?it/s]/var/folders/3c/71b8pg6d7j5dht_5h_2n4n_c0000gn/T/ipykernel_14530/3235636334.py:164: UserWarning: Implicit dimension choice for log_softmax has been deprecated. Change the call to include dim=X as an argument.\n",
            "  out = torch.nn.functional.log_softmax(out)\n",
            "100%|██████████| 2/2 [00:00<00:00,  3.65it/s]\n"
          ]
        },
        {
          "name": "stdout",
          "output_type": "stream",
          "text": [
            "\n",
            "epoch 5\n",
            "\ttrain_loss:0.814 valid_loss:0.778\n",
            "\ttrain_acc:63.67% valid_acc:64.43%\n",
            "\ttrain_f1:0.570 valid_f1:0.577\n",
            "\ttrain_confusion_matrix:\n",
            "[[   0  447  441]\n",
            " [   0 2044  373]\n",
            " [   0  413  890]]\n",
            "\tvalid_confusion_matrix:\n",
            "[[  0  96 129]\n",
            " [  0 529  80]\n",
            " [  0 108 219]]\n"
          ]
        },
        {
          "name": "stderr",
          "output_type": "stream",
          "text": [
            "  0%|          | 0/36 [00:00<?, ?it/s]/var/folders/3c/71b8pg6d7j5dht_5h_2n4n_c0000gn/T/ipykernel_14530/3235636334.py:164: UserWarning: Implicit dimension choice for log_softmax has been deprecated. Change the call to include dim=X as an argument.\n",
            "  out = torch.nn.functional.log_softmax(out)\n",
            "100%|██████████| 36/36 [00:16<00:00,  2.17it/s]\n",
            "  0%|          | 0/2 [00:00<?, ?it/s]/var/folders/3c/71b8pg6d7j5dht_5h_2n4n_c0000gn/T/ipykernel_14530/3235636334.py:164: UserWarning: Implicit dimension choice for log_softmax has been deprecated. Change the call to include dim=X as an argument.\n",
            "  out = torch.nn.functional.log_softmax(out)\n",
            "100%|██████████| 2/2 [00:00<00:00,  3.91it/s]\n"
          ]
        },
        {
          "name": "stdout",
          "output_type": "stream",
          "text": [
            "\n",
            "epoch 6\n",
            "\ttrain_loss:0.790 valid_loss:0.764\n",
            "\ttrain_acc:64.58% valid_acc:65.46%\n",
            "\ttrain_f1:0.579 valid_f1:0.586\n",
            "\ttrain_confusion_matrix:\n",
            "[[   0  454  435]\n",
            " [   0 2045  374]\n",
            " [   0  369  931]]\n",
            "\tvalid_confusion_matrix:\n",
            "[[  0 103 122]\n",
            " [  0 532  77]\n",
            " [  0  99 228]]\n"
          ]
        },
        {
          "name": "stderr",
          "output_type": "stream",
          "text": [
            "  0%|          | 0/36 [00:00<?, ?it/s]/var/folders/3c/71b8pg6d7j5dht_5h_2n4n_c0000gn/T/ipykernel_14530/3235636334.py:164: UserWarning: Implicit dimension choice for log_softmax has been deprecated. Change the call to include dim=X as an argument.\n",
            "  out = torch.nn.functional.log_softmax(out)\n",
            "100%|██████████| 36/36 [00:18<00:00,  2.00it/s]\n",
            "  0%|          | 0/2 [00:00<?, ?it/s]/var/folders/3c/71b8pg6d7j5dht_5h_2n4n_c0000gn/T/ipykernel_14530/3235636334.py:164: UserWarning: Implicit dimension choice for log_softmax has been deprecated. Change the call to include dim=X as an argument.\n",
            "  out = torch.nn.functional.log_softmax(out)\n",
            "100%|██████████| 2/2 [00:00<00:00,  3.30it/s]\n"
          ]
        },
        {
          "name": "stdout",
          "output_type": "stream",
          "text": [
            "\n",
            "epoch 7\n",
            "\ttrain_loss:0.772 valid_loss:0.750\n",
            "\ttrain_acc:65.39% valid_acc:65.20%\n",
            "\ttrain_f1:0.588 valid_f1:0.586\n",
            "\ttrain_confusion_matrix:\n",
            "[[   4  445  439]\n",
            " [   7 2053  356]\n",
            " [   0  348  956]]\n",
            "\tvalid_confusion_matrix:\n",
            "[[  3 109 113]\n",
            " [  0 538  71]\n",
            " [  1 110 216]]\n"
          ]
        },
        {
          "name": "stderr",
          "output_type": "stream",
          "text": [
            "  0%|          | 0/36 [00:00<?, ?it/s]/var/folders/3c/71b8pg6d7j5dht_5h_2n4n_c0000gn/T/ipykernel_14530/3235636334.py:164: UserWarning: Implicit dimension choice for log_softmax has been deprecated. Change the call to include dim=X as an argument.\n",
            "  out = torch.nn.functional.log_softmax(out)\n",
            "100%|██████████| 36/36 [00:18<00:00,  1.92it/s]\n",
            "  0%|          | 0/2 [00:00<?, ?it/s]/var/folders/3c/71b8pg6d7j5dht_5h_2n4n_c0000gn/T/ipykernel_14530/3235636334.py:164: UserWarning: Implicit dimension choice for log_softmax has been deprecated. Change the call to include dim=X as an argument.\n",
            "  out = torch.nn.functional.log_softmax(out)\n",
            "100%|██████████| 2/2 [00:00<00:00,  3.47it/s]\n"
          ]
        },
        {
          "name": "stdout",
          "output_type": "stream",
          "text": [
            "\n",
            "epoch 8\n",
            "\ttrain_loss:0.756 valid_loss:0.739\n",
            "\ttrain_acc:66.86% valid_acc:66.06%\n",
            "\ttrain_f1:0.607 valid_f1:0.601\n",
            "\ttrain_confusion_matrix:\n",
            "[[  23  430  438]\n",
            " [  11 2072  329]\n",
            " [   2  317  986]]\n",
            "\tvalid_confusion_matrix:\n",
            "[[  6  95 124]\n",
            " [  0 523  86]\n",
            " [  2  87 238]]\n"
          ]
        },
        {
          "name": "stderr",
          "output_type": "stream",
          "text": [
            "  0%|          | 0/36 [00:00<?, ?it/s]/var/folders/3c/71b8pg6d7j5dht_5h_2n4n_c0000gn/T/ipykernel_14530/3235636334.py:164: UserWarning: Implicit dimension choice for log_softmax has been deprecated. Change the call to include dim=X as an argument.\n",
            "  out = torch.nn.functional.log_softmax(out)\n",
            "100%|██████████| 36/36 [00:19<00:00,  1.81it/s]\n",
            "  0%|          | 0/2 [00:00<?, ?it/s]/var/folders/3c/71b8pg6d7j5dht_5h_2n4n_c0000gn/T/ipykernel_14530/3235636334.py:164: UserWarning: Implicit dimension choice for log_softmax has been deprecated. Change the call to include dim=X as an argument.\n",
            "  out = torch.nn.functional.log_softmax(out)\n",
            "100%|██████████| 2/2 [00:00<00:00,  3.32it/s]\n"
          ]
        },
        {
          "name": "stdout",
          "output_type": "stream",
          "text": [
            "\n",
            "epoch 9\n",
            "\ttrain_loss:0.738 valid_loss:0.726\n",
            "\ttrain_acc:67.45% valid_acc:67.70%\n",
            "\ttrain_f1:0.618 valid_f1:0.625\n",
            "\ttrain_confusion_matrix:\n",
            "[[  41  435  409]\n",
            " [  22 2088  312]\n",
            " [  13  309  979]]\n",
            "\tvalid_confusion_matrix:\n",
            "[[ 18 106 101]\n",
            " [  5 547  57]\n",
            " [  3 103 221]]\n"
          ]
        },
        {
          "name": "stderr",
          "output_type": "stream",
          "text": [
            "  0%|          | 0/36 [00:00<?, ?it/s]/var/folders/3c/71b8pg6d7j5dht_5h_2n4n_c0000gn/T/ipykernel_14530/3235636334.py:164: UserWarning: Implicit dimension choice for log_softmax has been deprecated. Change the call to include dim=X as an argument.\n",
            "  out = torch.nn.functional.log_softmax(out)\n",
            "100%|██████████| 36/36 [00:20<00:00,  1.78it/s]\n",
            "  0%|          | 0/2 [00:00<?, ?it/s]/var/folders/3c/71b8pg6d7j5dht_5h_2n4n_c0000gn/T/ipykernel_14530/3235636334.py:164: UserWarning: Implicit dimension choice for log_softmax has been deprecated. Change the call to include dim=X as an argument.\n",
            "  out = torch.nn.functional.log_softmax(out)\n",
            "100%|██████████| 2/2 [00:00<00:00,  2.92it/s]\n"
          ]
        },
        {
          "name": "stdout",
          "output_type": "stream",
          "text": [
            "\n",
            "epoch 10\n",
            "\ttrain_loss:0.724 valid_loss:0.719\n",
            "\ttrain_acc:68.62% valid_acc:67.18%\n",
            "\ttrain_f1:0.640 valid_f1:0.627\n",
            "\ttrain_confusion_matrix:\n",
            "[[  86  422  377]\n",
            " [  36 2094  287]\n",
            " [  26  298  982]]\n",
            "\tvalid_confusion_matrix:\n",
            "[[ 23 102 100]\n",
            " [  8 534  67]\n",
            " [  8  96 223]]\n"
          ]
        },
        {
          "name": "stderr",
          "output_type": "stream",
          "text": [
            "  0%|          | 0/36 [00:00<?, ?it/s]/var/folders/3c/71b8pg6d7j5dht_5h_2n4n_c0000gn/T/ipykernel_14530/3235636334.py:164: UserWarning: Implicit dimension choice for log_softmax has been deprecated. Change the call to include dim=X as an argument.\n",
            "  out = torch.nn.functional.log_softmax(out)\n",
            "100%|██████████| 36/36 [00:20<00:00,  1.76it/s]\n",
            "  0%|          | 0/2 [00:00<?, ?it/s]/var/folders/3c/71b8pg6d7j5dht_5h_2n4n_c0000gn/T/ipykernel_14530/3235636334.py:164: UserWarning: Implicit dimension choice for log_softmax has been deprecated. Change the call to include dim=X as an argument.\n",
            "  out = torch.nn.functional.log_softmax(out)\n",
            "100%|██████████| 2/2 [00:00<00:00,  2.54it/s]\n"
          ]
        },
        {
          "name": "stdout",
          "output_type": "stream",
          "text": [
            "\n",
            "epoch 11\n",
            "\ttrain_loss:0.710 valid_loss:0.720\n",
            "\ttrain_acc:69.44% valid_acc:67.44%\n",
            "\ttrain_f1:0.657 valid_f1:0.636\n",
            "\ttrain_confusion_matrix:\n",
            "[[ 126  418  342]\n",
            " [  56 2093  269]\n",
            " [  42  281  981]]\n",
            "\tvalid_confusion_matrix:\n",
            "[[ 28  94 103]\n",
            " [ 12 523  74]\n",
            " [ 12  83 232]]\n"
          ]
        },
        {
          "name": "stderr",
          "output_type": "stream",
          "text": [
            "  0%|          | 0/36 [00:00<?, ?it/s]/var/folders/3c/71b8pg6d7j5dht_5h_2n4n_c0000gn/T/ipykernel_14530/3235636334.py:164: UserWarning: Implicit dimension choice for log_softmax has been deprecated. Change the call to include dim=X as an argument.\n",
            "  out = torch.nn.functional.log_softmax(out)\n",
            "100%|██████████| 36/36 [00:24<00:00,  1.45it/s]\n",
            "  0%|          | 0/2 [00:00<?, ?it/s]/var/folders/3c/71b8pg6d7j5dht_5h_2n4n_c0000gn/T/ipykernel_14530/3235636334.py:164: UserWarning: Implicit dimension choice for log_softmax has been deprecated. Change the call to include dim=X as an argument.\n",
            "  out = torch.nn.functional.log_softmax(out)\n",
            "100%|██████████| 2/2 [00:00<00:00,  2.57it/s]\n"
          ]
        },
        {
          "name": "stdout",
          "output_type": "stream",
          "text": [
            "\n",
            "epoch 12\n",
            "\ttrain_loss:0.699 valid_loss:0.709\n",
            "\ttrain_acc:69.99% valid_acc:66.93%\n",
            "\ttrain_f1:0.669 valid_f1:0.634\n",
            "\ttrain_confusion_matrix:\n",
            "[[ 156  392  338]\n",
            " [  94 2083  245]\n",
            " [  58  256  986]]\n",
            "\tvalid_confusion_matrix:\n",
            "[[ 27  79 119]\n",
            " [ 13 510  86]\n",
            " [ 14  73 240]]\n"
          ]
        },
        {
          "name": "stderr",
          "output_type": "stream",
          "text": [
            "  0%|          | 0/36 [00:00<?, ?it/s]/var/folders/3c/71b8pg6d7j5dht_5h_2n4n_c0000gn/T/ipykernel_14530/3235636334.py:164: UserWarning: Implicit dimension choice for log_softmax has been deprecated. Change the call to include dim=X as an argument.\n",
            "  out = torch.nn.functional.log_softmax(out)\n",
            "100%|██████████| 36/36 [00:23<00:00,  1.50it/s]\n",
            "  0%|          | 0/2 [00:00<?, ?it/s]/var/folders/3c/71b8pg6d7j5dht_5h_2n4n_c0000gn/T/ipykernel_14530/3235636334.py:164: UserWarning: Implicit dimension choice for log_softmax has been deprecated. Change the call to include dim=X as an argument.\n",
            "  out = torch.nn.functional.log_softmax(out)\n",
            "100%|██████████| 2/2 [00:00<00:00,  2.16it/s]\n"
          ]
        },
        {
          "name": "stdout",
          "output_type": "stream",
          "text": [
            "\n",
            "epoch 13\n",
            "\ttrain_loss:0.692 valid_loss:0.708\n",
            "\ttrain_acc:70.33% valid_acc:67.70%\n",
            "\ttrain_f1:0.677 valid_f1:0.644\n",
            "\ttrain_confusion_matrix:\n",
            "[[ 183  378  323]\n",
            " [  93 2092  238]\n",
            " [  82  253  966]]\n",
            "\tvalid_confusion_matrix:\n",
            "[[ 34  83 108]\n",
            " [ 15 520  74]\n",
            " [ 15  80 232]]\n"
          ]
        },
        {
          "name": "stderr",
          "output_type": "stream",
          "text": [
            "  0%|          | 0/36 [00:00<?, ?it/s]/var/folders/3c/71b8pg6d7j5dht_5h_2n4n_c0000gn/T/ipykernel_14530/3235636334.py:164: UserWarning: Implicit dimension choice for log_softmax has been deprecated. Change the call to include dim=X as an argument.\n",
            "  out = torch.nn.functional.log_softmax(out)\n",
            "100%|██████████| 36/36 [00:27<00:00,  1.32it/s]\n",
            "  0%|          | 0/2 [00:00<?, ?it/s]/var/folders/3c/71b8pg6d7j5dht_5h_2n4n_c0000gn/T/ipykernel_14530/3235636334.py:164: UserWarning: Implicit dimension choice for log_softmax has been deprecated. Change the call to include dim=X as an argument.\n",
            "  out = torch.nn.functional.log_softmax(out)\n",
            "100%|██████████| 2/2 [00:00<00:00,  2.66it/s]\n"
          ]
        },
        {
          "name": "stdout",
          "output_type": "stream",
          "text": [
            "\n",
            "epoch 14\n",
            "\ttrain_loss:0.684 valid_loss:0.715\n",
            "\ttrain_acc:70.99% valid_acc:68.13%\n",
            "\ttrain_f1:0.686 valid_f1:0.660\n",
            "\ttrain_confusion_matrix:\n",
            "[[ 207  354  327]\n",
            " [  98 2079  239]\n",
            " [  78  241  985]]\n",
            "\tvalid_confusion_matrix:\n",
            "[[ 56  89  80]\n",
            " [ 30 529  50]\n",
            " [ 30  91 206]]\n"
          ]
        },
        {
          "name": "stderr",
          "output_type": "stream",
          "text": [
            "  0%|          | 0/36 [00:00<?, ?it/s]/var/folders/3c/71b8pg6d7j5dht_5h_2n4n_c0000gn/T/ipykernel_14530/3235636334.py:164: UserWarning: Implicit dimension choice for log_softmax has been deprecated. Change the call to include dim=X as an argument.\n",
            "  out = torch.nn.functional.log_softmax(out)\n",
            "100%|██████████| 36/36 [00:23<00:00,  1.50it/s]\n",
            "  0%|          | 0/2 [00:00<?, ?it/s]/var/folders/3c/71b8pg6d7j5dht_5h_2n4n_c0000gn/T/ipykernel_14530/3235636334.py:164: UserWarning: Implicit dimension choice for log_softmax has been deprecated. Change the call to include dim=X as an argument.\n",
            "  out = torch.nn.functional.log_softmax(out)\n",
            "100%|██████████| 2/2 [00:00<00:00,  2.67it/s]\n"
          ]
        },
        {
          "name": "stdout",
          "output_type": "stream",
          "text": [
            "\n",
            "epoch 15\n",
            "\ttrain_loss:0.677 valid_loss:0.723\n",
            "\ttrain_acc:71.05% valid_acc:67.53%\n",
            "\ttrain_f1:0.687 valid_f1:0.646\n",
            "\ttrain_confusion_matrix:\n",
            "[[ 207  350  328]\n",
            " [ 102 2092  222]\n",
            " [  92  240  975]]\n",
            "\tvalid_confusion_matrix:\n",
            "[[ 46 101  78]\n",
            " [ 19 541  49]\n",
            " [ 28 102 197]]\n"
          ]
        },
        {
          "name": "stderr",
          "output_type": "stream",
          "text": [
            "  0%|          | 0/36 [00:00<?, ?it/s]/var/folders/3c/71b8pg6d7j5dht_5h_2n4n_c0000gn/T/ipykernel_14530/3235636334.py:164: UserWarning: Implicit dimension choice for log_softmax has been deprecated. Change the call to include dim=X as an argument.\n",
            "  out = torch.nn.functional.log_softmax(out)\n",
            "100%|██████████| 36/36 [00:25<00:00,  1.42it/s]\n",
            "  0%|          | 0/2 [00:00<?, ?it/s]/var/folders/3c/71b8pg6d7j5dht_5h_2n4n_c0000gn/T/ipykernel_14530/3235636334.py:164: UserWarning: Implicit dimension choice for log_softmax has been deprecated. Change the call to include dim=X as an argument.\n",
            "  out = torch.nn.functional.log_softmax(out)\n",
            "100%|██████████| 2/2 [00:01<00:00,  1.77it/s]\n"
          ]
        },
        {
          "name": "stdout",
          "output_type": "stream",
          "text": [
            "\n",
            "epoch 16\n",
            "\ttrain_loss:0.675 valid_loss:0.715\n",
            "\ttrain_acc:71.12% valid_acc:68.56%\n",
            "\ttrain_f1:0.689 valid_f1:0.663\n",
            "\ttrain_confusion_matrix:\n",
            "[[ 215  348  325]\n",
            " [ 109 2079  228]\n",
            " [  87  234  983]]\n",
            "\tvalid_confusion_matrix:\n",
            "[[ 57  89  79]\n",
            " [ 22 535  52]\n",
            " [ 32  91 204]]\n"
          ]
        },
        {
          "name": "stderr",
          "output_type": "stream",
          "text": [
            "  0%|          | 0/36 [00:00<?, ?it/s]/var/folders/3c/71b8pg6d7j5dht_5h_2n4n_c0000gn/T/ipykernel_14530/3235636334.py:164: UserWarning: Implicit dimension choice for log_softmax has been deprecated. Change the call to include dim=X as an argument.\n",
            "  out = torch.nn.functional.log_softmax(out)\n",
            "100%|██████████| 36/36 [00:24<00:00,  1.44it/s]\n",
            "  0%|          | 0/2 [00:00<?, ?it/s]/var/folders/3c/71b8pg6d7j5dht_5h_2n4n_c0000gn/T/ipykernel_14530/3235636334.py:164: UserWarning: Implicit dimension choice for log_softmax has been deprecated. Change the call to include dim=X as an argument.\n",
            "  out = torch.nn.functional.log_softmax(out)\n",
            "100%|██████████| 2/2 [00:00<00:00,  2.33it/s]\n"
          ]
        },
        {
          "name": "stdout",
          "output_type": "stream",
          "text": [
            "\n",
            "epoch 17\n",
            "\ttrain_loss:0.660 valid_loss:0.706\n",
            "\ttrain_acc:72.16% valid_acc:68.39%\n",
            "\ttrain_f1:0.703 valid_f1:0.662\n",
            "\ttrain_confusion_matrix:\n",
            "[[ 249  332  305]\n",
            " [ 125 2089  206]\n",
            " [  97  218  987]]\n",
            "\tvalid_confusion_matrix:\n",
            "[[ 53  80  92]\n",
            " [ 24 517  68]\n",
            " [ 21  82 224]]\n"
          ]
        },
        {
          "name": "stderr",
          "output_type": "stream",
          "text": [
            "  0%|          | 0/36 [00:00<?, ?it/s]/var/folders/3c/71b8pg6d7j5dht_5h_2n4n_c0000gn/T/ipykernel_14530/3235636334.py:164: UserWarning: Implicit dimension choice for log_softmax has been deprecated. Change the call to include dim=X as an argument.\n",
            "  out = torch.nn.functional.log_softmax(out)\n",
            "100%|██████████| 36/36 [00:26<00:00,  1.34it/s]\n",
            "  0%|          | 0/2 [00:00<?, ?it/s]/var/folders/3c/71b8pg6d7j5dht_5h_2n4n_c0000gn/T/ipykernel_14530/3235636334.py:164: UserWarning: Implicit dimension choice for log_softmax has been deprecated. Change the call to include dim=X as an argument.\n",
            "  out = torch.nn.functional.log_softmax(out)\n",
            "100%|██████████| 2/2 [00:00<00:00,  2.26it/s]\n"
          ]
        },
        {
          "name": "stdout",
          "output_type": "stream",
          "text": [
            "\n",
            "epoch 18\n",
            "\ttrain_loss:0.653 valid_loss:0.706\n",
            "\ttrain_acc:72.61% valid_acc:67.27%\n",
            "\ttrain_f1:0.709 valid_f1:0.655\n",
            "\ttrain_confusion_matrix:\n",
            "[[ 265  329  294]\n",
            " [ 117 2099  199]\n",
            " [ 110  213  982]]\n",
            "\tvalid_confusion_matrix:\n",
            "[[ 53  68 104]\n",
            " [ 31 497  81]\n",
            " [ 24  72 231]]\n"
          ]
        },
        {
          "name": "stderr",
          "output_type": "stream",
          "text": [
            "  0%|          | 0/36 [00:00<?, ?it/s]/var/folders/3c/71b8pg6d7j5dht_5h_2n4n_c0000gn/T/ipykernel_14530/3235636334.py:164: UserWarning: Implicit dimension choice for log_softmax has been deprecated. Change the call to include dim=X as an argument.\n",
            "  out = torch.nn.functional.log_softmax(out)\n",
            "100%|██████████| 36/36 [00:25<00:00,  1.41it/s]\n",
            "  0%|          | 0/2 [00:00<?, ?it/s]/var/folders/3c/71b8pg6d7j5dht_5h_2n4n_c0000gn/T/ipykernel_14530/3235636334.py:164: UserWarning: Implicit dimension choice for log_softmax has been deprecated. Change the call to include dim=X as an argument.\n",
            "  out = torch.nn.functional.log_softmax(out)\n",
            "100%|██████████| 2/2 [00:00<00:00,  2.49it/s]"
          ]
        },
        {
          "name": "stdout",
          "output_type": "stream",
          "text": [
            "\n",
            "epoch 19\n",
            "\ttrain_loss:0.648 valid_loss:0.710\n",
            "\ttrain_acc:72.57% valid_acc:67.87%\n",
            "\ttrain_f1:0.709 valid_f1:0.659\n",
            "\ttrain_confusion_matrix:\n",
            "[[ 260  326  297]\n",
            " [ 130 2091  197]\n",
            " [ 109  205  993]]\n",
            "\tvalid_confusion_matrix:\n",
            "[[ 56  80  89]\n",
            " [ 29 517  63]\n",
            " [ 24  88 215]]\n"
          ]
        },
        {
          "name": "stderr",
          "output_type": "stream",
          "text": [
            "\n"
          ]
        }
      ],
      "source": [
        "device = get_default_device()\n",
        "\n",
        "NUM_EPOCHS = 20\n",
        "TRAIN_BATCH_SIZE = 128\n",
        "VALID_BATCH_SIZE = 1024\n",
        "\n",
        "NUM_POLARITY_TAGS = 3\n",
        "\n",
        "history = {\n",
        "    \"train_loss\": list(),\n",
        "    \"polarity_train_acc\": list(),\n",
        "    \"valid_loss\": list(),\n",
        "    \"polarity_valid_acc\": list(),\n",
        "}\n",
        "\n",
        "best_loss = np.inf\n",
        "\n",
        "dataset = TensorDataset(torch.Tensor(X_l_train), torch.Tensor(X_g_train), torch.Tensor(y_train))\n",
        "print(f\"train samples:{len(dataset)}\")\n",
        "train_loader = DataLoader(dataset, batch_size=TRAIN_BATCH_SIZE, shuffle=True, drop_last=True)\n",
        "\n",
        "dataset_valid = TensorDataset(torch.Tensor(X_l_valid),  torch.Tensor(X_g_valid), torch.Tensor(y_valid))\n",
        "print(f\"valid samples:{len(dataset_valid)}\")\n",
        "test_loader = DataLoader(dataset_valid, batch_size=VALID_BATCH_SIZE)\n",
        "\n",
        "model = to_device(Model(general_embedding,  num_classes=3, alpha = 0), device)\n",
        "\n",
        "torch.cuda.empty_cache()\n",
        "\n",
        "parameters = [p for p in model.parameters() if p.requires_grad]\n",
        "optimizer = AdamW(parameters, lr=1e-4)\n",
        "\n",
        "\n",
        "for epoch in range(NUM_EPOCHS):\n",
        "    train_losses = []\n",
        "    train_acc = []\n",
        "    test_loss = []\n",
        "    test_acc = []\n",
        "    train_f1 = []\n",
        "    test_f1 = []\n",
        "\n",
        "    model.train()\n",
        "    preds = []\n",
        "    masks = []\n",
        "    labels = []\n",
        "    for data in tqdm(train_loader, total=len(train_loader)):\n",
        "        for i in range(len(data)):\n",
        "            data[i] = data[i].to(device)\n",
        "        l_feature, g_feature, label = data\n",
        "        l_feature, g_feature, label = l_feature.long(), g_feature.long(), label.long()\n",
        "\n",
        "        optimizer.zero_grad()\n",
        "        pred_logits = model(l_feature, g_feature)\n",
        "        loss = loss_fn(pred_logits, label, 3)\n",
        "        loss.backward()\n",
        "        optimizer.step()\n",
        "\n",
        "        train_losses.append(loss.item())\n",
        "\n",
        "        pred_tags = pred_logits.max(-1)[1]\n",
        "        preds.append(pred_tags)\n",
        "        labels.append(label)\n",
        "\n",
        "    avg_train_acc, avg_train_f1, train_cm = cal_acc(preds,labels)\n",
        "    avg_train_loss = sum(train_losses) / len(train_losses)\n",
        "\n",
        "    preds = []\n",
        "    masks = []\n",
        "    labels = []\n",
        "    with torch.no_grad():\n",
        "        for data in tqdm(test_loader, total=len(test_loader)):\n",
        "            for i in range(len(data)):\n",
        "                data[i] = data[i].to(device)\n",
        "            l_feature, g_feature, label = data\n",
        "            l_feature, g_feature, label = l_feature.long(), g_feature.long(), label.long()\n",
        "            pred_logits = model(l_feature, g_feature)\n",
        "            loss = loss_fn(pred_logits, label, 3)\n",
        "\n",
        "            test_loss.append(loss.item())\n",
        "\n",
        "            pred_tags = pred_logits.max(-1)[1]\n",
        "\n",
        "            preds.append(pred_tags)\n",
        "            labels.append(label)\n",
        "\n",
        "    avg_test_acc, avg_test_f1, test_cm = cal_acc(preds,  labels)\n",
        "    avg_test_loss = sum(test_loss) / len(test_loss)\n",
        "\n",
        "    print(f\"\\nepoch {epoch}\")\n",
        "    print(\"\\ttrain_loss:{:.3f} valid_loss:{:.3f}\".format(avg_train_loss, avg_test_loss))\n",
        "    print(\"\\ttrain_acc:{:.2%} valid_acc:{:.2%}\".format(avg_train_acc, avg_test_acc))\n",
        "    print(\"\\ttrain_f1:{:.3f} valid_f1:{:.3f}\".format(avg_train_f1, avg_test_f1))\n",
        "    print(f\"\\ttrain_confusion_matrix:\\n{train_cm}\")\n",
        "    print(f\"\\tvalid_confusion_matrix:\\n{test_cm}\")\n",
        "\n",
        "    if avg_test_loss < best_loss:\n",
        "        torch.save(model.state_dict(), MODEL_PATH)\n",
        "        best_loss = avg_test_loss    \n",
        "        \n",
        "    history['train_loss'].append(avg_train_loss)\n",
        "    history['polarity_train_acc'].append(avg_train_acc.cpu().numpy())\n",
        "    history['valid_loss'].append(avg_test_loss)\n",
        "    history['polarity_valid_acc'].append(avg_test_acc.cpu().numpy())\n",
        "        \n",
        "    \n"
      ]
    },
    {
      "cell_type": "code",
      "execution_count": 65,
      "metadata": {},
      "outputs": [
        {
          "data": {
            "text/plain": [
              "(0.4, 0.9)"
            ]
          },
          "execution_count": 65,
          "metadata": {},
          "output_type": "execute_result"
        },
        {
          "data": {
            "image/png": "[encoded data removed]",
            "text/plain": [
              "<Figure size 432x288 with 1 Axes>"
            ]
          },
          "metadata": {
            "needs_background": "light"
          },
          "output_type": "display_data"
        }
      ],
      "source": [
        "import matplotlib.pyplot as plt\n",
        "plt.plot(history['polarity_train_acc'], label='train accuracy')\n",
        "plt.plot(history['polarity_valid_acc'], label='validation accuracy')\n",
        "plt.title('Training history')\n",
        "plt.ylabel('Accuracy')\n",
        "plt.xlabel('Epoch')\n",
        "plt.legend()\n",
        "plt.ylim([0.4, 0.9])"
      ]
    },
    {
      "cell_type": "code",
      "execution_count": 66,
      "metadata": {},
      "outputs": [
        {
          "name": "stdout",
          "output_type": "stream",
          "text": [
            "Loading saved model from: model_task2.bin\n"
          ]
        },
        {
          "name": "stderr",
          "output_type": "stream",
          "text": [
            "  0%|          | 0/2 [00:00<?, ?it/s]/var/folders/3c/71b8pg6d7j5dht_5h_2n4n_c0000gn/T/ipykernel_14530/3235636334.py:164: UserWarning: Implicit dimension choice for log_softmax has been deprecated. Change the call to include dim=X as an argument.\n",
            "  out = torch.nn.functional.log_softmax(out)\n",
            "100%|██████████| 2/2 [00:00<00:00,  2.88it/s]"
          ]
        },
        {
          "name": "stdout",
          "output_type": "stream",
          "text": [
            "              precision    recall  f1-score   support\n",
            "\n",
            "     Neutral       0.54      0.23      0.32       225\n",
            "    Positive       0.76      0.85      0.80       609\n",
            "    Negative       0.58      0.68      0.63       327\n",
            "\n",
            "    accuracy                           0.68      1161\n",
            "   macro avg       0.63      0.59      0.58      1161\n",
            "weighted avg       0.67      0.68      0.66      1161\n",
            "\n"
          ]
        },
        {
          "name": "stderr",
          "output_type": "stream",
          "text": [
            "\n"
          ]
        }
      ],
      "source": [
        "def get_classification_report(test_loader, model, model_path=None):\n",
        "    if model_path is not None: # load the saved model\n",
        "        print('Loading saved model from: {}'.format(model_path))\n",
        "        model.load_state_dict(torch.load(model_path))\n",
        "    model = to_device(model, device)   \n",
        "    \n",
        "    model.eval()\n",
        "    final_pred_polarity_tags = []\n",
        "    final_true_polarity_tags = []\n",
        "\n",
        "\n",
        "    with torch.no_grad():\n",
        "        for data in tqdm(test_loader, total=len(test_loader)):\n",
        "            for i in range(len(data)):\n",
        "                data[i] = data[i].to(device)\n",
        "\n",
        "            l_feature, g_feature, label = data\n",
        "            l_feature, g_feature, label = l_feature.long(), g_feature.long(), label.long()\n",
        "            pred_logits = model(l_feature, g_feature)\n",
        "\n",
        "            pred_tags = pred_logits.max(-1)[1]\n",
        "\n",
        "            final_pred_polarity_tags.extend(pred_tags)\n",
        "            final_true_polarity_tags.extend(label)\n",
        "\n",
        "    final_pred_polarity_tags = torch.stack(final_pred_polarity_tags).cpu()\n",
        "    final_true_polarity_tags = torch.stack(final_true_polarity_tags).cpu()\n",
        "        \n",
        "    print(classification_report(final_true_polarity_tags, final_pred_polarity_tags, \n",
        "                                target_names=[\"Neutral\", \"Positive\", \"Negative\"]))\n",
        "    \n",
        "get_classification_report(test_loader, model, model_path=MODEL_PATH)"
      ]
    },
    {
      "cell_type": "markdown",
      "metadata": {},
      "source": [
        "## Alpha = 0.2"
      ]
    },
    {
      "cell_type": "code",
      "execution_count": 67,
      "metadata": {},
      "outputs": [
        {
          "name": "stdout",
          "output_type": "stream",
          "text": [
            "train samples:4641\n",
            "valid samples:1161\n"
          ]
        },
        {
          "name": "stderr",
          "output_type": "stream",
          "text": [
            "  0%|          | 0/36 [00:00<?, ?it/s]/var/folders/3c/71b8pg6d7j5dht_5h_2n4n_c0000gn/T/ipykernel_14530/3235636334.py:164: UserWarning: Implicit dimension choice for log_softmax has been deprecated. Change the call to include dim=X as an argument.\n",
            "  out = torch.nn.functional.log_softmax(out)\n",
            "100%|██████████| 36/36 [00:20<00:00,  1.73it/s]\n",
            "  0%|          | 0/2 [00:00<?, ?it/s]/var/folders/3c/71b8pg6d7j5dht_5h_2n4n_c0000gn/T/ipykernel_14530/3235636334.py:164: UserWarning: Implicit dimension choice for log_softmax has been deprecated. Change the call to include dim=X as an argument.\n",
            "  out = torch.nn.functional.log_softmax(out)\n",
            "100%|██████████| 2/2 [00:00<00:00,  2.70it/s]\n"
          ]
        },
        {
          "name": "stdout",
          "output_type": "stream",
          "text": [
            "\n",
            "epoch 0\n",
            "\ttrain_loss:1.065 valid_loss:1.027\n",
            "\ttrain_acc:50.15% valid_acc:52.45%\n",
            "\ttrain_f1:0.414 valid_f1:0.361\n",
            "\ttrain_confusion_matrix:\n",
            "[[  11  736  138]\n",
            " [  13 2075  329]\n",
            " [   8 1073  225]]\n",
            "\tvalid_confusion_matrix:\n",
            "[[  0 225   0]\n",
            " [  0 609   0]\n",
            " [  0 327   0]]\n"
          ]
        },
        {
          "name": "stderr",
          "output_type": "stream",
          "text": [
            "  0%|          | 0/36 [00:00<?, ?it/s]/var/folders/3c/71b8pg6d7j5dht_5h_2n4n_c0000gn/T/ipykernel_14530/3235636334.py:164: UserWarning: Implicit dimension choice for log_softmax has been deprecated. Change the call to include dim=X as an argument.\n",
            "  out = torch.nn.functional.log_softmax(out)\n",
            "100%|██████████| 36/36 [00:23<00:00,  1.54it/s]\n",
            "  0%|          | 0/2 [00:00<?, ?it/s]/var/folders/3c/71b8pg6d7j5dht_5h_2n4n_c0000gn/T/ipykernel_14530/3235636334.py:164: UserWarning: Implicit dimension choice for log_softmax has been deprecated. Change the call to include dim=X as an argument.\n",
            "  out = torch.nn.functional.log_softmax(out)\n",
            "100%|██████████| 2/2 [00:01<00:00,  1.74it/s]\n"
          ]
        },
        {
          "name": "stdout",
          "output_type": "stream",
          "text": [
            "\n",
            "epoch 1\n",
            "\ttrain_loss:1.006 valid_loss:0.973\n",
            "\ttrain_acc:52.50% valid_acc:52.54%\n",
            "\ttrain_f1:0.362 valid_f1:0.363\n",
            "\ttrain_confusion_matrix:\n",
            "[[   0  888    0]\n",
            " [   0 2417    1]\n",
            " [   0 1300    2]]\n",
            "\tvalid_confusion_matrix:\n",
            "[[  0 225   0]\n",
            " [  0 609   0]\n",
            " [  0 326   1]]\n"
          ]
        },
        {
          "name": "stderr",
          "output_type": "stream",
          "text": [
            "  0%|          | 0/36 [00:00<?, ?it/s]/var/folders/3c/71b8pg6d7j5dht_5h_2n4n_c0000gn/T/ipykernel_14530/3235636334.py:164: UserWarning: Implicit dimension choice for log_softmax has been deprecated. Change the call to include dim=X as an argument.\n",
            "  out = torch.nn.functional.log_softmax(out)\n",
            "100%|██████████| 36/36 [00:24<00:00,  1.48it/s]\n",
            "  0%|          | 0/2 [00:00<?, ?it/s]/var/folders/3c/71b8pg6d7j5dht_5h_2n4n_c0000gn/T/ipykernel_14530/3235636334.py:164: UserWarning: Implicit dimension choice for log_softmax has been deprecated. Change the call to include dim=X as an argument.\n",
            "  out = torch.nn.functional.log_softmax(out)\n",
            "100%|██████████| 2/2 [00:00<00:00,  2.38it/s]\n"
          ]
        },
        {
          "name": "stdout",
          "output_type": "stream",
          "text": [
            "\n",
            "epoch 2\n",
            "\ttrain_loss:0.965 valid_loss:0.929\n",
            "\ttrain_acc:52.58% valid_acc:52.54%\n",
            "\ttrain_f1:0.364 valid_f1:0.364\n",
            "\ttrain_confusion_matrix:\n",
            "[[   0  891    0]\n",
            " [   0 2415    1]\n",
            " [   0 1293    8]]\n",
            "\tvalid_confusion_matrix:\n",
            "[[  0 225   0]\n",
            " [  0 608   1]\n",
            " [  0 325   2]]\n"
          ]
        },
        {
          "name": "stderr",
          "output_type": "stream",
          "text": [
            "  0%|          | 0/36 [00:00<?, ?it/s]/var/folders/3c/71b8pg6d7j5dht_5h_2n4n_c0000gn/T/ipykernel_14530/3235636334.py:164: UserWarning: Implicit dimension choice for log_softmax has been deprecated. Change the call to include dim=X as an argument.\n",
            "  out = torch.nn.functional.log_softmax(out)\n",
            "100%|██████████| 36/36 [00:23<00:00,  1.51it/s]\n",
            "  0%|          | 0/2 [00:00<?, ?it/s]/var/folders/3c/71b8pg6d7j5dht_5h_2n4n_c0000gn/T/ipykernel_14530/3235636334.py:164: UserWarning: Implicit dimension choice for log_softmax has been deprecated. Change the call to include dim=X as an argument.\n",
            "  out = torch.nn.functional.log_softmax(out)\n",
            "100%|██████████| 2/2 [00:00<00:00,  2.48it/s]\n"
          ]
        },
        {
          "name": "stdout",
          "output_type": "stream",
          "text": [
            "\n",
            "epoch 3\n",
            "\ttrain_loss:0.901 valid_loss:0.863\n",
            "\ttrain_acc:55.95% valid_acc:62.45%\n",
            "\ttrain_f1:0.449 valid_f1:0.550\n",
            "\ttrain_confusion_matrix:\n",
            "[[   0  791   96]\n",
            " [   0 2343   73]\n",
            " [   0 1070  235]]\n",
            "\tvalid_confusion_matrix:\n",
            "[[  0 136  89]\n",
            " [  0 553  56]\n",
            " [  0 155 172]]\n"
          ]
        },
        {
          "name": "stderr",
          "output_type": "stream",
          "text": [
            "  0%|          | 0/36 [00:00<?, ?it/s]/var/folders/3c/71b8pg6d7j5dht_5h_2n4n_c0000gn/T/ipykernel_14530/3235636334.py:164: UserWarning: Implicit dimension choice for log_softmax has been deprecated. Change the call to include dim=X as an argument.\n",
            "  out = torch.nn.functional.log_softmax(out)\n",
            "100%|██████████| 36/36 [00:21<00:00,  1.66it/s]\n",
            "  0%|          | 0/2 [00:00<?, ?it/s]/var/folders/3c/71b8pg6d7j5dht_5h_2n4n_c0000gn/T/ipykernel_14530/3235636334.py:164: UserWarning: Implicit dimension choice for log_softmax has been deprecated. Change the call to include dim=X as an argument.\n",
            "  out = torch.nn.functional.log_softmax(out)\n",
            "100%|██████████| 2/2 [00:00<00:00,  4.28it/s]\n"
          ]
        },
        {
          "name": "stdout",
          "output_type": "stream",
          "text": [
            "\n",
            "epoch 4\n",
            "\ttrain_loss:0.842 valid_loss:0.808\n",
            "\ttrain_acc:62.00% valid_acc:63.74%\n",
            "\ttrain_f1:0.554 valid_f1:0.572\n",
            "\ttrain_confusion_matrix:\n",
            "[[   0  460  428]\n",
            " [   0 2045  375]\n",
            " [   0  488  812]]\n",
            "\tvalid_confusion_matrix:\n",
            "[[  0  95 130]\n",
            " [  0 521  88]\n",
            " [  0 108 219]]\n"
          ]
        },
        {
          "name": "stderr",
          "output_type": "stream",
          "text": [
            "  0%|          | 0/36 [00:00<?, ?it/s]/var/folders/3c/71b8pg6d7j5dht_5h_2n4n_c0000gn/T/ipykernel_14530/3235636334.py:164: UserWarning: Implicit dimension choice for log_softmax has been deprecated. Change the call to include dim=X as an argument.\n",
            "  out = torch.nn.functional.log_softmax(out)\n",
            "100%|██████████| 36/36 [00:13<00:00,  2.70it/s]\n",
            "  0%|          | 0/2 [00:00<?, ?it/s]/var/folders/3c/71b8pg6d7j5dht_5h_2n4n_c0000gn/T/ipykernel_14530/3235636334.py:164: UserWarning: Implicit dimension choice for log_softmax has been deprecated. Change the call to include dim=X as an argument.\n",
            "  out = torch.nn.functional.log_softmax(out)\n",
            "100%|██████████| 2/2 [00:00<00:00,  4.06it/s]\n"
          ]
        },
        {
          "name": "stdout",
          "output_type": "stream",
          "text": [
            "\n",
            "epoch 5\n",
            "\ttrain_loss:0.807 valid_loss:0.773\n",
            "\ttrain_acc:64.06% valid_acc:64.94%\n",
            "\ttrain_f1:0.575 valid_f1:0.579\n",
            "\ttrain_confusion_matrix:\n",
            "[[   0  417  474]\n",
            " [   0 2042  377]\n",
            " [   0  388  910]]\n",
            "\tvalid_confusion_matrix:\n",
            "[[  0 103 122]\n",
            " [  0 542  67]\n",
            " [  0 115 212]]\n"
          ]
        },
        {
          "name": "stderr",
          "output_type": "stream",
          "text": [
            "  0%|          | 0/36 [00:00<?, ?it/s]/var/folders/3c/71b8pg6d7j5dht_5h_2n4n_c0000gn/T/ipykernel_14530/3235636334.py:164: UserWarning: Implicit dimension choice for log_softmax has been deprecated. Change the call to include dim=X as an argument.\n",
            "  out = torch.nn.functional.log_softmax(out)\n",
            "100%|██████████| 36/36 [00:12<00:00,  2.96it/s]\n",
            "  0%|          | 0/2 [00:00<?, ?it/s]/var/folders/3c/71b8pg6d7j5dht_5h_2n4n_c0000gn/T/ipykernel_14530/3235636334.py:164: UserWarning: Implicit dimension choice for log_softmax has been deprecated. Change the call to include dim=X as an argument.\n",
            "  out = torch.nn.functional.log_softmax(out)\n",
            "100%|██████████| 2/2 [00:00<00:00,  4.38it/s]\n"
          ]
        },
        {
          "name": "stdout",
          "output_type": "stream",
          "text": [
            "\n",
            "epoch 6\n",
            "\ttrain_loss:0.778 valid_loss:0.757\n",
            "\ttrain_acc:65.26% valid_acc:66.15%\n",
            "\ttrain_f1:0.586 valid_f1:0.594\n",
            "\ttrain_confusion_matrix:\n",
            "[[   0  415  473]\n",
            " [   0 2061  357]\n",
            " [   0  356  946]]\n",
            "\tvalid_confusion_matrix:\n",
            "[[  0  92 133]\n",
            " [  0 529  80]\n",
            " [  0  88 239]]\n"
          ]
        },
        {
          "name": "stderr",
          "output_type": "stream",
          "text": [
            "  0%|          | 0/36 [00:00<?, ?it/s]/var/folders/3c/71b8pg6d7j5dht_5h_2n4n_c0000gn/T/ipykernel_14530/3235636334.py:164: UserWarning: Implicit dimension choice for log_softmax has been deprecated. Change the call to include dim=X as an argument.\n",
            "  out = torch.nn.functional.log_softmax(out)\n",
            "100%|██████████| 36/36 [00:10<00:00,  3.30it/s]\n",
            "  0%|          | 0/2 [00:00<?, ?it/s]/var/folders/3c/71b8pg6d7j5dht_5h_2n4n_c0000gn/T/ipykernel_14530/3235636334.py:164: UserWarning: Implicit dimension choice for log_softmax has been deprecated. Change the call to include dim=X as an argument.\n",
            "  out = torch.nn.functional.log_softmax(out)\n",
            "100%|██████████| 2/2 [00:00<00:00,  5.82it/s]\n"
          ]
        },
        {
          "name": "stdout",
          "output_type": "stream",
          "text": [
            "\n",
            "epoch 7\n",
            "\ttrain_loss:0.759 valid_loss:0.735\n",
            "\ttrain_acc:66.97% valid_acc:67.18%\n",
            "\ttrain_f1:0.603 valid_f1:0.603\n",
            "\ttrain_confusion_matrix:\n",
            "[[   7  428  456]\n",
            " [   1 2094  322]\n",
            " [   0  315  985]]\n",
            "\tvalid_confusion_matrix:\n",
            "[[  1  98 126]\n",
            " [  0 546  63]\n",
            " [  1  93 233]]\n"
          ]
        },
        {
          "name": "stderr",
          "output_type": "stream",
          "text": [
            "  0%|          | 0/36 [00:00<?, ?it/s]/var/folders/3c/71b8pg6d7j5dht_5h_2n4n_c0000gn/T/ipykernel_14530/3235636334.py:164: UserWarning: Implicit dimension choice for log_softmax has been deprecated. Change the call to include dim=X as an argument.\n",
            "  out = torch.nn.functional.log_softmax(out)\n",
            "100%|██████████| 36/36 [00:11<00:00,  3.06it/s]\n",
            "  0%|          | 0/2 [00:00<?, ?it/s]/var/folders/3c/71b8pg6d7j5dht_5h_2n4n_c0000gn/T/ipykernel_14530/3235636334.py:164: UserWarning: Implicit dimension choice for log_softmax has been deprecated. Change the call to include dim=X as an argument.\n",
            "  out = torch.nn.functional.log_softmax(out)\n",
            "100%|██████████| 2/2 [00:00<00:00,  5.78it/s]\n"
          ]
        },
        {
          "name": "stdout",
          "output_type": "stream",
          "text": [
            "\n",
            "epoch 8\n",
            "\ttrain_loss:0.737 valid_loss:0.719\n",
            "\ttrain_acc:67.71% valid_acc:68.22%\n",
            "\ttrain_f1:0.614 valid_f1:0.621\n",
            "\ttrain_confusion_matrix:\n",
            "[[  20  424  446]\n",
            " [   9 2098  310]\n",
            " [   0  299 1002]]\n",
            "\tvalid_confusion_matrix:\n",
            "[[  8  99 118]\n",
            " [  2 542  65]\n",
            " [  1  84 242]]\n"
          ]
        },
        {
          "name": "stderr",
          "output_type": "stream",
          "text": [
            "  0%|          | 0/36 [00:00<?, ?it/s]/var/folders/3c/71b8pg6d7j5dht_5h_2n4n_c0000gn/T/ipykernel_14530/3235636334.py:164: UserWarning: Implicit dimension choice for log_softmax has been deprecated. Change the call to include dim=X as an argument.\n",
            "  out = torch.nn.functional.log_softmax(out)\n",
            "100%|██████████| 36/36 [00:10<00:00,  3.49it/s]\n",
            "  0%|          | 0/2 [00:00<?, ?it/s]/var/folders/3c/71b8pg6d7j5dht_5h_2n4n_c0000gn/T/ipykernel_14530/3235636334.py:164: UserWarning: Implicit dimension choice for log_softmax has been deprecated. Change the call to include dim=X as an argument.\n",
            "  out = torch.nn.functional.log_softmax(out)\n",
            "100%|██████████| 2/2 [00:00<00:00,  4.35it/s]\n"
          ]
        },
        {
          "name": "stdout",
          "output_type": "stream",
          "text": [
            "\n",
            "epoch 9\n",
            "\ttrain_loss:0.724 valid_loss:0.740\n",
            "\ttrain_acc:68.82% valid_acc:68.39%\n",
            "\ttrain_f1:0.633 valid_f1:0.628\n",
            "\ttrain_confusion_matrix:\n",
            "[[  52  418  420]\n",
            " [  14 2121  284]\n",
            " [  11  290  998]]\n",
            "\tvalid_confusion_matrix:\n",
            "[[ 17 117  91]\n",
            " [  1 564  44]\n",
            " [  7 107 213]]\n"
          ]
        },
        {
          "name": "stderr",
          "output_type": "stream",
          "text": [
            "  0%|          | 0/36 [00:00<?, ?it/s]/var/folders/3c/71b8pg6d7j5dht_5h_2n4n_c0000gn/T/ipykernel_14530/3235636334.py:164: UserWarning: Implicit dimension choice for log_softmax has been deprecated. Change the call to include dim=X as an argument.\n",
            "  out = torch.nn.functional.log_softmax(out)\n",
            "100%|██████████| 36/36 [00:10<00:00,  3.51it/s]\n",
            "  0%|          | 0/2 [00:00<?, ?it/s]/var/folders/3c/71b8pg6d7j5dht_5h_2n4n_c0000gn/T/ipykernel_14530/3235636334.py:164: UserWarning: Implicit dimension choice for log_softmax has been deprecated. Change the call to include dim=X as an argument.\n",
            "  out = torch.nn.functional.log_softmax(out)\n",
            "100%|██████████| 2/2 [00:00<00:00,  5.51it/s]\n"
          ]
        },
        {
          "name": "stdout",
          "output_type": "stream",
          "text": [
            "\n",
            "epoch 10\n",
            "\ttrain_loss:0.709 valid_loss:0.701\n",
            "\ttrain_acc:69.44% valid_acc:68.65%\n",
            "\ttrain_f1:0.645 valid_f1:0.643\n",
            "\ttrain_confusion_matrix:\n",
            "[[  76  397  415]\n",
            " [  29 2131  264]\n",
            " [  20  283  993]]\n",
            "\tvalid_confusion_matrix:\n",
            "[[ 21  77 127]\n",
            " [  9 517  83]\n",
            " [  6  62 259]]\n"
          ]
        },
        {
          "name": "stderr",
          "output_type": "stream",
          "text": [
            "  0%|          | 0/36 [00:00<?, ?it/s]/var/folders/3c/71b8pg6d7j5dht_5h_2n4n_c0000gn/T/ipykernel_14530/3235636334.py:164: UserWarning: Implicit dimension choice for log_softmax has been deprecated. Change the call to include dim=X as an argument.\n",
            "  out = torch.nn.functional.log_softmax(out)\n",
            "100%|██████████| 36/36 [00:10<00:00,  3.56it/s]\n",
            "  0%|          | 0/2 [00:00<?, ?it/s]/var/folders/3c/71b8pg6d7j5dht_5h_2n4n_c0000gn/T/ipykernel_14530/3235636334.py:164: UserWarning: Implicit dimension choice for log_softmax has been deprecated. Change the call to include dim=X as an argument.\n",
            "  out = torch.nn.functional.log_softmax(out)\n",
            "100%|██████████| 2/2 [00:00<00:00,  5.92it/s]\n"
          ]
        },
        {
          "name": "stdout",
          "output_type": "stream",
          "text": [
            "\n",
            "epoch 11\n",
            "\ttrain_loss:0.697 valid_loss:0.695\n",
            "\ttrain_acc:70.59% valid_acc:69.25%\n",
            "\ttrain_f1:0.668 valid_f1:0.653\n",
            "\ttrain_confusion_matrix:\n",
            "[[ 128  374  385]\n",
            " [  60 2126  229]\n",
            " [  44  263  999]]\n",
            "\tvalid_confusion_matrix:\n",
            "[[ 26  83 116]\n",
            " [ 12 522  75]\n",
            " [ 11  60 256]]\n"
          ]
        },
        {
          "name": "stderr",
          "output_type": "stream",
          "text": [
            "  0%|          | 0/36 [00:00<?, ?it/s]/var/folders/3c/71b8pg6d7j5dht_5h_2n4n_c0000gn/T/ipykernel_14530/3235636334.py:164: UserWarning: Implicit dimension choice for log_softmax has been deprecated. Change the call to include dim=X as an argument.\n",
            "  out = torch.nn.functional.log_softmax(out)\n",
            "100%|██████████| 36/36 [00:09<00:00,  3.62it/s]\n",
            "  0%|          | 0/2 [00:00<?, ?it/s]/var/folders/3c/71b8pg6d7j5dht_5h_2n4n_c0000gn/T/ipykernel_14530/3235636334.py:164: UserWarning: Implicit dimension choice for log_softmax has been deprecated. Change the call to include dim=X as an argument.\n",
            "  out = torch.nn.functional.log_softmax(out)\n",
            "100%|██████████| 2/2 [00:00<00:00,  5.96it/s]\n"
          ]
        },
        {
          "name": "stdout",
          "output_type": "stream",
          "text": [
            "\n",
            "epoch 12\n",
            "\ttrain_loss:0.688 valid_loss:0.684\n",
            "\ttrain_acc:71.29% valid_acc:69.60%\n",
            "\ttrain_f1:0.678 valid_f1:0.662\n",
            "\ttrain_confusion_matrix:\n",
            "[[ 145  365  381]\n",
            " [  64 2113  238]\n",
            " [  52  223 1027]]\n",
            "\tvalid_confusion_matrix:\n",
            "[[ 33  87 105]\n",
            " [ 17 529  63]\n",
            " [ 18  63 246]]\n"
          ]
        },
        {
          "name": "stderr",
          "output_type": "stream",
          "text": [
            "  0%|          | 0/36 [00:00<?, ?it/s]/var/folders/3c/71b8pg6d7j5dht_5h_2n4n_c0000gn/T/ipykernel_14530/3235636334.py:164: UserWarning: Implicit dimension choice for log_softmax has been deprecated. Change the call to include dim=X as an argument.\n",
            "  out = torch.nn.functional.log_softmax(out)\n",
            "100%|██████████| 36/36 [00:10<00:00,  3.57it/s]\n",
            "  0%|          | 0/2 [00:00<?, ?it/s]/var/folders/3c/71b8pg6d7j5dht_5h_2n4n_c0000gn/T/ipykernel_14530/3235636334.py:164: UserWarning: Implicit dimension choice for log_softmax has been deprecated. Change the call to include dim=X as an argument.\n",
            "  out = torch.nn.functional.log_softmax(out)\n",
            "100%|██████████| 2/2 [00:00<00:00,  5.95it/s]\n"
          ]
        },
        {
          "name": "stdout",
          "output_type": "stream",
          "text": [
            "\n",
            "epoch 13\n",
            "\ttrain_loss:0.682 valid_loss:0.684\n",
            "\ttrain_acc:71.55% valid_acc:69.51%\n",
            "\ttrain_f1:0.686 valid_f1:0.667\n",
            "\ttrain_confusion_matrix:\n",
            "[[ 173  346  370]\n",
            " [  78 2121  218]\n",
            " [  55  244 1003]]\n",
            "\tvalid_confusion_matrix:\n",
            "[[ 39  75 111]\n",
            " [ 20 518  71]\n",
            " [ 20  57 250]]\n"
          ]
        },
        {
          "name": "stderr",
          "output_type": "stream",
          "text": [
            "  0%|          | 0/36 [00:00<?, ?it/s]/var/folders/3c/71b8pg6d7j5dht_5h_2n4n_c0000gn/T/ipykernel_14530/3235636334.py:164: UserWarning: Implicit dimension choice for log_softmax has been deprecated. Change the call to include dim=X as an argument.\n",
            "  out = torch.nn.functional.log_softmax(out)\n",
            "100%|██████████| 36/36 [00:10<00:00,  3.51it/s]\n",
            "  0%|          | 0/2 [00:00<?, ?it/s]/var/folders/3c/71b8pg6d7j5dht_5h_2n4n_c0000gn/T/ipykernel_14530/3235636334.py:164: UserWarning: Implicit dimension choice for log_softmax has been deprecated. Change the call to include dim=X as an argument.\n",
            "  out = torch.nn.functional.log_softmax(out)\n",
            "100%|██████████| 2/2 [00:00<00:00,  5.68it/s]\n"
          ]
        },
        {
          "name": "stdout",
          "output_type": "stream",
          "text": [
            "\n",
            "epoch 14\n",
            "\ttrain_loss:0.669 valid_loss:0.677\n",
            "\ttrain_acc:72.20% valid_acc:69.51%\n",
            "\ttrain_f1:0.697 valid_f1:0.669\n",
            "\ttrain_confusion_matrix:\n",
            "[[ 200  344  340]\n",
            " [  92 2121  204]\n",
            " [  80  221 1006]]\n",
            "\tvalid_confusion_matrix:\n",
            "[[ 39  63 123]\n",
            " [ 21 512  76]\n",
            " [ 18  53 256]]\n"
          ]
        },
        {
          "name": "stderr",
          "output_type": "stream",
          "text": [
            "  0%|          | 0/36 [00:00<?, ?it/s]/var/folders/3c/71b8pg6d7j5dht_5h_2n4n_c0000gn/T/ipykernel_14530/3235636334.py:164: UserWarning: Implicit dimension choice for log_softmax has been deprecated. Change the call to include dim=X as an argument.\n",
            "  out = torch.nn.functional.log_softmax(out)\n",
            "100%|██████████| 36/36 [00:10<00:00,  3.53it/s]\n",
            "  0%|          | 0/2 [00:00<?, ?it/s]/var/folders/3c/71b8pg6d7j5dht_5h_2n4n_c0000gn/T/ipykernel_14530/3235636334.py:164: UserWarning: Implicit dimension choice for log_softmax has been deprecated. Change the call to include dim=X as an argument.\n",
            "  out = torch.nn.functional.log_softmax(out)\n",
            "100%|██████████| 2/2 [00:00<00:00,  5.97it/s]\n"
          ]
        },
        {
          "name": "stdout",
          "output_type": "stream",
          "text": [
            "\n",
            "epoch 15\n",
            "\ttrain_loss:0.659 valid_loss:0.706\n",
            "\ttrain_acc:72.59% valid_acc:68.56%\n",
            "\ttrain_f1:0.703 valid_f1:0.652\n",
            "\ttrain_confusion_matrix:\n",
            "[[ 216  329  342]\n",
            " [ 100 2115  203]\n",
            " [  83  206 1014]]\n",
            "\tvalid_confusion_matrix:\n",
            "[[ 39 105  81]\n",
            " [ 19 550  40]\n",
            " [ 27  93 207]]\n"
          ]
        },
        {
          "name": "stderr",
          "output_type": "stream",
          "text": [
            "  0%|          | 0/36 [00:00<?, ?it/s]/var/folders/3c/71b8pg6d7j5dht_5h_2n4n_c0000gn/T/ipykernel_14530/3235636334.py:164: UserWarning: Implicit dimension choice for log_softmax has been deprecated. Change the call to include dim=X as an argument.\n",
            "  out = torch.nn.functional.log_softmax(out)\n",
            "100%|██████████| 36/36 [00:10<00:00,  3.51it/s]\n",
            "  0%|          | 0/2 [00:00<?, ?it/s]/var/folders/3c/71b8pg6d7j5dht_5h_2n4n_c0000gn/T/ipykernel_14530/3235636334.py:164: UserWarning: Implicit dimension choice for log_softmax has been deprecated. Change the call to include dim=X as an argument.\n",
            "  out = torch.nn.functional.log_softmax(out)\n",
            "100%|██████████| 2/2 [00:00<00:00,  5.94it/s]\n"
          ]
        },
        {
          "name": "stdout",
          "output_type": "stream",
          "text": [
            "\n",
            "epoch 16\n",
            "\ttrain_loss:0.655 valid_loss:0.690\n",
            "\ttrain_acc:72.66% valid_acc:69.51%\n",
            "\ttrain_f1:0.705 valid_f1:0.668\n",
            "\ttrain_confusion_matrix:\n",
            "[[ 223  317  349]\n",
            " [ 106 2113  193]\n",
            " [  89  206 1012]]\n",
            "\tvalid_confusion_matrix:\n",
            "[[ 49  88  88]\n",
            " [ 19 544  46]\n",
            " [ 27  86 214]]\n"
          ]
        },
        {
          "name": "stderr",
          "output_type": "stream",
          "text": [
            "  0%|          | 0/36 [00:00<?, ?it/s]/var/folders/3c/71b8pg6d7j5dht_5h_2n4n_c0000gn/T/ipykernel_14530/3235636334.py:164: UserWarning: Implicit dimension choice for log_softmax has been deprecated. Change the call to include dim=X as an argument.\n",
            "  out = torch.nn.functional.log_softmax(out)\n",
            "100%|██████████| 36/36 [00:10<00:00,  3.58it/s]\n",
            "  0%|          | 0/2 [00:00<?, ?it/s]/var/folders/3c/71b8pg6d7j5dht_5h_2n4n_c0000gn/T/ipykernel_14530/3235636334.py:164: UserWarning: Implicit dimension choice for log_softmax has been deprecated. Change the call to include dim=X as an argument.\n",
            "  out = torch.nn.functional.log_softmax(out)\n",
            "100%|██████████| 2/2 [00:00<00:00,  5.72it/s]\n"
          ]
        },
        {
          "name": "stdout",
          "output_type": "stream",
          "text": [
            "\n",
            "epoch 17\n",
            "\ttrain_loss:0.647 valid_loss:0.671\n",
            "\ttrain_acc:73.42% valid_acc:69.85%\n",
            "\ttrain_f1:0.716 valid_f1:0.677\n",
            "\ttrain_confusion_matrix:\n",
            "[[ 257  300  335]\n",
            " [ 113 2126  178]\n",
            " [ 112  187 1000]]\n",
            "\tvalid_confusion_matrix:\n",
            "[[ 50  73 102]\n",
            " [ 24 519  66]\n",
            " [ 26  59 242]]\n"
          ]
        },
        {
          "name": "stderr",
          "output_type": "stream",
          "text": [
            "  0%|          | 0/36 [00:00<?, ?it/s]/var/folders/3c/71b8pg6d7j5dht_5h_2n4n_c0000gn/T/ipykernel_14530/3235636334.py:164: UserWarning: Implicit dimension choice for log_softmax has been deprecated. Change the call to include dim=X as an argument.\n",
            "  out = torch.nn.functional.log_softmax(out)\n",
            "100%|██████████| 36/36 [00:10<00:00,  3.50it/s]\n",
            "  0%|          | 0/2 [00:00<?, ?it/s]/var/folders/3c/71b8pg6d7j5dht_5h_2n4n_c0000gn/T/ipykernel_14530/3235636334.py:164: UserWarning: Implicit dimension choice for log_softmax has been deprecated. Change the call to include dim=X as an argument.\n",
            "  out = torch.nn.functional.log_softmax(out)\n",
            "100%|██████████| 2/2 [00:00<00:00,  5.74it/s]\n"
          ]
        },
        {
          "name": "stdout",
          "output_type": "stream",
          "text": [
            "\n",
            "epoch 18\n",
            "\ttrain_loss:0.639 valid_loss:0.693\n",
            "\ttrain_acc:73.42% valid_acc:69.16%\n",
            "\ttrain_f1:0.714 valid_f1:0.671\n",
            "\ttrain_confusion_matrix:\n",
            "[[ 239  314  339]\n",
            " [ 106 2109  197]\n",
            " [  94  175 1035]]\n",
            "\tvalid_confusion_matrix:\n",
            "[[ 57  86  82]\n",
            " [ 31 537  41]\n",
            " [ 41  77 209]]\n"
          ]
        },
        {
          "name": "stderr",
          "output_type": "stream",
          "text": [
            "  0%|          | 0/36 [00:00<?, ?it/s]/var/folders/3c/71b8pg6d7j5dht_5h_2n4n_c0000gn/T/ipykernel_14530/3235636334.py:164: UserWarning: Implicit dimension choice for log_softmax has been deprecated. Change the call to include dim=X as an argument.\n",
            "  out = torch.nn.functional.log_softmax(out)\n",
            "100%|██████████| 36/36 [00:10<00:00,  3.29it/s]\n",
            "  0%|          | 0/2 [00:00<?, ?it/s]/var/folders/3c/71b8pg6d7j5dht_5h_2n4n_c0000gn/T/ipykernel_14530/3235636334.py:164: UserWarning: Implicit dimension choice for log_softmax has been deprecated. Change the call to include dim=X as an argument.\n",
            "  out = torch.nn.functional.log_softmax(out)\n",
            "100%|██████████| 2/2 [00:00<00:00,  4.61it/s]"
          ]
        },
        {
          "name": "stdout",
          "output_type": "stream",
          "text": [
            "\n",
            "epoch 19\n",
            "\ttrain_loss:0.631 valid_loss:0.673\n",
            "\ttrain_acc:73.96% valid_acc:69.68%\n",
            "\ttrain_f1:0.725 valid_f1:0.672\n",
            "\ttrain_confusion_matrix:\n",
            "[[ 288  291  311]\n",
            " [ 131 2124  160]\n",
            " [ 131  176  996]]\n",
            "\tvalid_confusion_matrix:\n",
            "[[ 43  71 111]\n",
            " [ 25 519  65]\n",
            " [ 23  57 247]]\n"
          ]
        },
        {
          "name": "stderr",
          "output_type": "stream",
          "text": [
            "\n"
          ]
        }
      ],
      "source": [
        "device = get_default_device()\n",
        "\n",
        "NUM_EPOCHS = 20\n",
        "TRAIN_BATCH_SIZE = 128\n",
        "VALID_BATCH_SIZE = 1024\n",
        "\n",
        "NUM_POLARITY_TAGS = 3\n",
        "\n",
        "history = {\n",
        "    \"train_loss\": list(),\n",
        "    \"polarity_train_acc\": list(),\n",
        "    \"valid_loss\": list(),\n",
        "    \"polarity_valid_acc\": list(),\n",
        "}\n",
        "\n",
        "best_loss = np.inf\n",
        "\n",
        "dataset = TensorDataset(torch.Tensor(X_l_train), torch.Tensor(X_g_train), torch.Tensor(y_train))\n",
        "print(f\"train samples:{len(dataset)}\")\n",
        "train_loader = DataLoader(dataset, batch_size=TRAIN_BATCH_SIZE, shuffle=True, drop_last=True)\n",
        "\n",
        "dataset_valid = TensorDataset(torch.Tensor(X_l_valid),  torch.Tensor(X_g_valid), torch.Tensor(y_valid))\n",
        "print(f\"valid samples:{len(dataset_valid)}\")\n",
        "test_loader = DataLoader(dataset_valid, batch_size=VALID_BATCH_SIZE)\n",
        "\n",
        "model = to_device(Model(general_embedding,  num_classes=3, alpha = 0.2), device)\n",
        "\n",
        "torch.cuda.empty_cache()\n",
        "\n",
        "parameters = [p for p in model.parameters() if p.requires_grad]\n",
        "optimizer = AdamW(parameters, lr=1e-4)\n",
        "\n",
        "\n",
        "for epoch in range(NUM_EPOCHS):\n",
        "    train_losses = []\n",
        "    train_acc = []\n",
        "    test_loss = []\n",
        "    test_acc = []\n",
        "    train_f1 = []\n",
        "    test_f1 = []\n",
        "\n",
        "    model.train()\n",
        "    preds = []\n",
        "    masks = []\n",
        "    labels = []\n",
        "    for data in tqdm(train_loader, total=len(train_loader)):\n",
        "        for i in range(len(data)):\n",
        "            data[i] = data[i].to(device)\n",
        "        l_feature, g_feature, label = data\n",
        "        l_feature, g_feature, label = l_feature.long(), g_feature.long(), label.long()\n",
        "\n",
        "        optimizer.zero_grad()\n",
        "        pred_logits = model(l_feature, g_feature)\n",
        "        loss = loss_fn(pred_logits, label, 3)\n",
        "        loss.backward()\n",
        "        optimizer.step()\n",
        "\n",
        "        train_losses.append(loss.item())\n",
        "\n",
        "        pred_tags = pred_logits.max(-1)[1]\n",
        "        preds.append(pred_tags)\n",
        "        labels.append(label)\n",
        "\n",
        "    avg_train_acc, avg_train_f1, train_cm = cal_acc(preds,labels)\n",
        "    avg_train_loss = sum(train_losses) / len(train_losses)\n",
        "\n",
        "    preds = []\n",
        "    masks = []\n",
        "    labels = []\n",
        "    with torch.no_grad():\n",
        "        for data in tqdm(test_loader, total=len(test_loader)):\n",
        "            for i in range(len(data)):\n",
        "                data[i] = data[i].to(device)\n",
        "            l_feature, g_feature, label = data\n",
        "            l_feature, g_feature, label = l_feature.long(), g_feature.long(), label.long()\n",
        "            pred_logits = model(l_feature, g_feature)\n",
        "            loss = loss_fn(pred_logits, label, 3)\n",
        "\n",
        "            test_loss.append(loss.item())\n",
        "\n",
        "            pred_tags = pred_logits.max(-1)[1]\n",
        "\n",
        "            preds.append(pred_tags)\n",
        "            labels.append(label)\n",
        "\n",
        "    avg_test_acc, avg_test_f1, test_cm = cal_acc(preds,  labels)\n",
        "    avg_test_loss = sum(test_loss) / len(test_loss)\n",
        "\n",
        "    print(f\"\\nepoch {epoch}\")\n",
        "    print(\"\\ttrain_loss:{:.3f} valid_loss:{:.3f}\".format(avg_train_loss, avg_test_loss))\n",
        "    print(\"\\ttrain_acc:{:.2%} valid_acc:{:.2%}\".format(avg_train_acc, avg_test_acc))\n",
        "    print(\"\\ttrain_f1:{:.3f} valid_f1:{:.3f}\".format(avg_train_f1, avg_test_f1))\n",
        "    print(f\"\\ttrain_confusion_matrix:\\n{train_cm}\")\n",
        "    print(f\"\\tvalid_confusion_matrix:\\n{test_cm}\")\n",
        "\n",
        "    if avg_test_loss < best_loss:\n",
        "        torch.save(model.state_dict(), MODEL_PATH)\n",
        "        best_loss = avg_test_loss    \n",
        "        \n",
        "    history['train_loss'].append(avg_train_loss)\n",
        "    history['polarity_train_acc'].append(avg_train_acc.cpu().numpy())\n",
        "    history['valid_loss'].append(avg_test_loss)\n",
        "    history['polarity_valid_acc'].append(avg_test_acc.cpu().numpy())\n",
        "        \n",
        "    \n"
      ]
    },
    {
      "cell_type": "code",
      "execution_count": 68,
      "metadata": {},
      "outputs": [
        {
          "data": {
            "text/plain": [
              "(0.4, 0.9)"
            ]
          },
          "execution_count": 68,
          "metadata": {},
          "output_type": "execute_result"
        },
        {
          "data": {
            "image/png": "[encoded data removed]",
            "text/plain": [
              "<Figure size 432x288 with 1 Axes>"
            ]
          },
          "metadata": {
            "needs_background": "light"
          },
          "output_type": "display_data"
        }
      ],
      "source": [
        "import matplotlib.pyplot as plt\n",
        "plt.plot(history['polarity_train_acc'], label='train accuracy')\n",
        "plt.plot(history['polarity_valid_acc'], label='validation accuracy')\n",
        "plt.title('Training history')\n",
        "plt.ylabel('Accuracy')\n",
        "plt.xlabel('Epoch')\n",
        "plt.legend()\n",
        "plt.ylim([0.4, 0.9])"
      ]
    },
    {
      "cell_type": "code",
      "execution_count": 69,
      "metadata": {},
      "outputs": [
        {
          "name": "stdout",
          "output_type": "stream",
          "text": [
            "Loading saved model from: model_task2.bin\n"
          ]
        },
        {
          "name": "stderr",
          "output_type": "stream",
          "text": [
            "  0%|          | 0/2 [00:00<?, ?it/s]/var/folders/3c/71b8pg6d7j5dht_5h_2n4n_c0000gn/T/ipykernel_14530/3235636334.py:164: UserWarning: Implicit dimension choice for log_softmax has been deprecated. Change the call to include dim=X as an argument.\n",
            "  out = torch.nn.functional.log_softmax(out)\n",
            "100%|██████████| 2/2 [00:00<00:00,  5.40it/s]"
          ]
        },
        {
          "name": "stdout",
          "output_type": "stream",
          "text": [
            "              precision    recall  f1-score   support\n",
            "\n",
            "     Neutral       0.47      0.20      0.28       225\n",
            "    Positive       0.80      0.86      0.83       609\n",
            "    Negative       0.59      0.74      0.65       327\n",
            "\n",
            "    accuracy                           0.70      1161\n",
            "   macro avg       0.62      0.60      0.59      1161\n",
            "weighted avg       0.67      0.70      0.67      1161\n",
            "\n"
          ]
        },
        {
          "name": "stderr",
          "output_type": "stream",
          "text": [
            "\n"
          ]
        }
      ],
      "source": [
        "def get_classification_report(test_loader, model, model_path=None):\n",
        "    if model_path is not None: # load the saved model\n",
        "        print('Loading saved model from: {}'.format(model_path))\n",
        "        model.load_state_dict(torch.load(model_path))\n",
        "    model = to_device(model, device)   \n",
        "    \n",
        "    model.eval()\n",
        "    final_pred_polarity_tags = []\n",
        "    final_true_polarity_tags = []\n",
        "\n",
        "\n",
        "    with torch.no_grad():\n",
        "        for data in tqdm(test_loader, total=len(test_loader)):\n",
        "            for i in range(len(data)):\n",
        "                data[i] = data[i].to(device)\n",
        "\n",
        "            l_feature, g_feature, label = data\n",
        "            l_feature, g_feature, label = l_feature.long(), g_feature.long(), label.long()\n",
        "            pred_logits = model(l_feature, g_feature)\n",
        "\n",
        "            pred_tags = pred_logits.max(-1)[1]\n",
        "\n",
        "            final_pred_polarity_tags.extend(pred_tags)\n",
        "            final_true_polarity_tags.extend(label)\n",
        "\n",
        "    final_pred_polarity_tags = torch.stack(final_pred_polarity_tags).cpu()\n",
        "    final_true_polarity_tags = torch.stack(final_true_polarity_tags).cpu()\n",
        "        \n",
        "    print(classification_report(final_true_polarity_tags, final_pred_polarity_tags, \n",
        "                                target_names=[\"Neutral\", \"Positive\", \"Negative\"]))\n",
        "    \n",
        "get_classification_report(test_loader, model, model_path=MODEL_PATH)"
      ]
    },
    {
      "cell_type": "markdown",
      "metadata": {},
      "source": [
        "## Alpha = 0.4"
      ]
    },
    {
      "cell_type": "code",
      "execution_count": 70,
      "metadata": {},
      "outputs": [
        {
          "name": "stdout",
          "output_type": "stream",
          "text": [
            "train samples:4641\n",
            "valid samples:1161\n"
          ]
        },
        {
          "name": "stderr",
          "output_type": "stream",
          "text": [
            "  0%|          | 0/36 [00:00<?, ?it/s]/var/folders/3c/71b8pg6d7j5dht_5h_2n4n_c0000gn/T/ipykernel_14530/3235636334.py:164: UserWarning: Implicit dimension choice for log_softmax has been deprecated. Change the call to include dim=X as an argument.\n",
            "  out = torch.nn.functional.log_softmax(out)\n",
            "100%|██████████| 36/36 [00:10<00:00,  3.38it/s]\n",
            "  0%|          | 0/2 [00:00<?, ?it/s]/var/folders/3c/71b8pg6d7j5dht_5h_2n4n_c0000gn/T/ipykernel_14530/3235636334.py:164: UserWarning: Implicit dimension choice for log_softmax has been deprecated. Change the call to include dim=X as an argument.\n",
            "  out = torch.nn.functional.log_softmax(out)\n",
            "100%|██████████| 2/2 [00:00<00:00,  4.47it/s]\n"
          ]
        },
        {
          "name": "stdout",
          "output_type": "stream",
          "text": [
            "\n",
            "epoch 0\n",
            "\ttrain_loss:1.067 valid_loss:1.031\n",
            "\ttrain_acc:50.22% valid_acc:52.63%\n",
            "\ttrain_f1:0.384 valid_f1:0.365\n",
            "\ttrain_confusion_matrix:\n",
            "[[  75  809    3]\n",
            " [ 179 2217   22]\n",
            " [ 106 1175   22]]\n",
            "\tvalid_confusion_matrix:\n",
            "[[  0 225   0]\n",
            " [  0 609   0]\n",
            " [  0 325   2]]\n"
          ]
        },
        {
          "name": "stderr",
          "output_type": "stream",
          "text": [
            "  0%|          | 0/36 [00:00<?, ?it/s]/var/folders/3c/71b8pg6d7j5dht_5h_2n4n_c0000gn/T/ipykernel_14530/3235636334.py:164: UserWarning: Implicit dimension choice for log_softmax has been deprecated. Change the call to include dim=X as an argument.\n",
            "  out = torch.nn.functional.log_softmax(out)\n",
            "100%|██████████| 36/36 [00:11<00:00,  3.24it/s]\n",
            "  0%|          | 0/2 [00:00<?, ?it/s]/var/folders/3c/71b8pg6d7j5dht_5h_2n4n_c0000gn/T/ipykernel_14530/3235636334.py:164: UserWarning: Implicit dimension choice for log_softmax has been deprecated. Change the call to include dim=X as an argument.\n",
            "  out = torch.nn.functional.log_softmax(out)\n",
            "100%|██████████| 2/2 [00:00<00:00,  4.44it/s]\n"
          ]
        },
        {
          "name": "stdout",
          "output_type": "stream",
          "text": [
            "\n",
            "epoch 1\n",
            "\ttrain_loss:1.008 valid_loss:0.970\n",
            "\ttrain_acc:52.56% valid_acc:52.63%\n",
            "\ttrain_f1:0.365 valid_f1:0.365\n",
            "\ttrain_confusion_matrix:\n",
            "[[   0  892    0]\n",
            " [   0 2411    2]\n",
            " [   0 1292   11]]\n",
            "\tvalid_confusion_matrix:\n",
            "[[  0 225   0]\n",
            " [  0 609   0]\n",
            " [  0 325   2]]\n"
          ]
        },
        {
          "name": "stderr",
          "output_type": "stream",
          "text": [
            "  0%|          | 0/36 [00:00<?, ?it/s]/var/folders/3c/71b8pg6d7j5dht_5h_2n4n_c0000gn/T/ipykernel_14530/3235636334.py:164: UserWarning: Implicit dimension choice for log_softmax has been deprecated. Change the call to include dim=X as an argument.\n",
            "  out = torch.nn.functional.log_softmax(out)\n",
            "100%|██████████| 36/36 [00:10<00:00,  3.34it/s]\n",
            "  0%|          | 0/2 [00:00<?, ?it/s]/var/folders/3c/71b8pg6d7j5dht_5h_2n4n_c0000gn/T/ipykernel_14530/3235636334.py:164: UserWarning: Implicit dimension choice for log_softmax has been deprecated. Change the call to include dim=X as an argument.\n",
            "  out = torch.nn.functional.log_softmax(out)\n",
            "100%|██████████| 2/2 [00:00<00:00,  5.23it/s]\n"
          ]
        },
        {
          "name": "stdout",
          "output_type": "stream",
          "text": [
            "\n",
            "epoch 2\n",
            "\ttrain_loss:0.959 valid_loss:0.913\n",
            "\ttrain_acc:52.91% valid_acc:53.83%\n",
            "\ttrain_f1:0.372 valid_f1:0.395\n",
            "\ttrain_confusion_matrix:\n",
            "[[   0  886    1]\n",
            " [   0 2415    4]\n",
            " [   0 1279   23]]\n",
            "\tvalid_confusion_matrix:\n",
            "[[  0 220   5]\n",
            " [  0 606   3]\n",
            " [  0 308  19]]\n"
          ]
        },
        {
          "name": "stderr",
          "output_type": "stream",
          "text": [
            "  0%|          | 0/36 [00:00<?, ?it/s]/var/folders/3c/71b8pg6d7j5dht_5h_2n4n_c0000gn/T/ipykernel_14530/3235636334.py:164: UserWarning: Implicit dimension choice for log_softmax has been deprecated. Change the call to include dim=X as an argument.\n",
            "  out = torch.nn.functional.log_softmax(out)\n",
            "100%|██████████| 36/36 [00:10<00:00,  3.32it/s]\n",
            "  0%|          | 0/2 [00:00<?, ?it/s]/var/folders/3c/71b8pg6d7j5dht_5h_2n4n_c0000gn/T/ipykernel_14530/3235636334.py:164: UserWarning: Implicit dimension choice for log_softmax has been deprecated. Change the call to include dim=X as an argument.\n",
            "  out = torch.nn.functional.log_softmax(out)\n",
            "100%|██████████| 2/2 [00:00<00:00,  5.13it/s]\n"
          ]
        },
        {
          "name": "stdout",
          "output_type": "stream",
          "text": [
            "\n",
            "epoch 3\n",
            "\ttrain_loss:0.883 valid_loss:0.837\n",
            "\ttrain_acc:59.33% valid_acc:63.48%\n",
            "\ttrain_f1:0.506 valid_f1:0.562\n",
            "\ttrain_confusion_matrix:\n",
            "[[   0  684  200]\n",
            " [   0 2280  136]\n",
            " [   0  854  454]]\n",
            "\tvalid_confusion_matrix:\n",
            "[[  0 131  94]\n",
            " [  0 548  61]\n",
            " [  0 138 189]]\n"
          ]
        },
        {
          "name": "stderr",
          "output_type": "stream",
          "text": [
            "  0%|          | 0/36 [00:00<?, ?it/s]/var/folders/3c/71b8pg6d7j5dht_5h_2n4n_c0000gn/T/ipykernel_14530/3235636334.py:164: UserWarning: Implicit dimension choice for log_softmax has been deprecated. Change the call to include dim=X as an argument.\n",
            "  out = torch.nn.functional.log_softmax(out)\n",
            "100%|██████████| 36/36 [00:10<00:00,  3.48it/s]\n",
            "  0%|          | 0/2 [00:00<?, ?it/s]/var/folders/3c/71b8pg6d7j5dht_5h_2n4n_c0000gn/T/ipykernel_14530/3235636334.py:164: UserWarning: Implicit dimension choice for log_softmax has been deprecated. Change the call to include dim=X as an argument.\n",
            "  out = torch.nn.functional.log_softmax(out)\n",
            "100%|██████████| 2/2 [00:00<00:00,  4.36it/s]\n"
          ]
        },
        {
          "name": "stdout",
          "output_type": "stream",
          "text": [
            "\n",
            "epoch 4\n",
            "\ttrain_loss:0.817 valid_loss:0.784\n",
            "\ttrain_acc:63.65% valid_acc:64.77%\n",
            "\ttrain_f1:0.570 valid_f1:0.574\n",
            "\ttrain_confusion_matrix:\n",
            "[[   0  436  451]\n",
            " [   0 2065  355]\n",
            " [   0  433  868]]\n",
            "\tvalid_confusion_matrix:\n",
            "[[  0 129  96]\n",
            " [  0 556  53]\n",
            " [  0 131 196]]\n"
          ]
        },
        {
          "name": "stderr",
          "output_type": "stream",
          "text": [
            "  0%|          | 0/36 [00:00<?, ?it/s]/var/folders/3c/71b8pg6d7j5dht_5h_2n4n_c0000gn/T/ipykernel_14530/3235636334.py:164: UserWarning: Implicit dimension choice for log_softmax has been deprecated. Change the call to include dim=X as an argument.\n",
            "  out = torch.nn.functional.log_softmax(out)\n",
            "100%|██████████| 36/36 [00:10<00:00,  3.48it/s]\n",
            "  0%|          | 0/2 [00:00<?, ?it/s]/var/folders/3c/71b8pg6d7j5dht_5h_2n4n_c0000gn/T/ipykernel_14530/3235636334.py:164: UserWarning: Implicit dimension choice for log_softmax has been deprecated. Change the call to include dim=X as an argument.\n",
            "  out = torch.nn.functional.log_softmax(out)\n",
            "100%|██████████| 2/2 [00:00<00:00,  5.33it/s]\n"
          ]
        },
        {
          "name": "stdout",
          "output_type": "stream",
          "text": [
            "\n",
            "epoch 5\n",
            "\ttrain_loss:0.792 valid_loss:0.770\n",
            "\ttrain_acc:65.32% valid_acc:65.98%\n",
            "\ttrain_f1:0.586 valid_f1:0.594\n",
            "\ttrain_confusion_matrix:\n",
            "[[   0  414  472]\n",
            " [   0 2073  347]\n",
            " [   0  365  937]]\n",
            "\tvalid_confusion_matrix:\n",
            "[[  0  89 136]\n",
            " [  0 517  92]\n",
            " [  0  78 249]]\n"
          ]
        },
        {
          "name": "stderr",
          "output_type": "stream",
          "text": [
            "  0%|          | 0/36 [00:00<?, ?it/s]/var/folders/3c/71b8pg6d7j5dht_5h_2n4n_c0000gn/T/ipykernel_14530/3235636334.py:164: UserWarning: Implicit dimension choice for log_softmax has been deprecated. Change the call to include dim=X as an argument.\n",
            "  out = torch.nn.functional.log_softmax(out)\n",
            "100%|██████████| 36/36 [00:10<00:00,  3.54it/s]\n",
            "  0%|          | 0/2 [00:00<?, ?it/s]/var/folders/3c/71b8pg6d7j5dht_5h_2n4n_c0000gn/T/ipykernel_14530/3235636334.py:164: UserWarning: Implicit dimension choice for log_softmax has been deprecated. Change the call to include dim=X as an argument.\n",
            "  out = torch.nn.functional.log_softmax(out)\n",
            "100%|██████████| 2/2 [00:00<00:00,  5.35it/s]\n"
          ]
        },
        {
          "name": "stdout",
          "output_type": "stream",
          "text": [
            "\n",
            "epoch 6\n",
            "\ttrain_loss:0.764 valid_loss:0.745\n",
            "\ttrain_acc:66.97% valid_acc:66.84%\n",
            "\ttrain_f1:0.599 valid_f1:0.597\n",
            "\ttrain_confusion_matrix:\n",
            "[[   0  440  445]\n",
            " [   0 2143  280]\n",
            " [   0  357  943]]\n",
            "\tvalid_confusion_matrix:\n",
            "[[  0 114 111]\n",
            " [  0 548  61]\n",
            " [  1  98 228]]\n"
          ]
        },
        {
          "name": "stderr",
          "output_type": "stream",
          "text": [
            "  0%|          | 0/36 [00:00<?, ?it/s]/var/folders/3c/71b8pg6d7j5dht_5h_2n4n_c0000gn/T/ipykernel_14530/3235636334.py:164: UserWarning: Implicit dimension choice for log_softmax has been deprecated. Change the call to include dim=X as an argument.\n",
            "  out = torch.nn.functional.log_softmax(out)\n",
            "100%|██████████| 36/36 [00:10<00:00,  3.50it/s]\n",
            "  0%|          | 0/2 [00:00<?, ?it/s]/var/folders/3c/71b8pg6d7j5dht_5h_2n4n_c0000gn/T/ipykernel_14530/3235636334.py:164: UserWarning: Implicit dimension choice for log_softmax has been deprecated. Change the call to include dim=X as an argument.\n",
            "  out = torch.nn.functional.log_softmax(out)\n",
            "100%|██████████| 2/2 [00:00<00:00,  5.58it/s]\n"
          ]
        },
        {
          "name": "stdout",
          "output_type": "stream",
          "text": [
            "\n",
            "epoch 7\n",
            "\ttrain_loss:0.745 valid_loss:0.740\n",
            "\ttrain_acc:67.73% valid_acc:67.10%\n",
            "\ttrain_f1:0.611 valid_f1:0.598\n",
            "\ttrain_confusion_matrix:\n",
            "[[   9  408  473]\n",
            " [   3 2106  304]\n",
            " [   1  298 1006]]\n",
            "\tvalid_confusion_matrix:\n",
            "[[  1 125  99]\n",
            " [  0 561  48]\n",
            " [  1 109 217]]\n"
          ]
        },
        {
          "name": "stderr",
          "output_type": "stream",
          "text": [
            "  0%|          | 0/36 [00:00<?, ?it/s]/var/folders/3c/71b8pg6d7j5dht_5h_2n4n_c0000gn/T/ipykernel_14530/3235636334.py:164: UserWarning: Implicit dimension choice for log_softmax has been deprecated. Change the call to include dim=X as an argument.\n",
            "  out = torch.nn.functional.log_softmax(out)\n",
            "100%|██████████| 36/36 [00:10<00:00,  3.38it/s]\n",
            "  0%|          | 0/2 [00:00<?, ?it/s]/var/folders/3c/71b8pg6d7j5dht_5h_2n4n_c0000gn/T/ipykernel_14530/3235636334.py:164: UserWarning: Implicit dimension choice for log_softmax has been deprecated. Change the call to include dim=X as an argument.\n",
            "  out = torch.nn.functional.log_softmax(out)\n",
            "100%|██████████| 2/2 [00:00<00:00,  5.47it/s]\n"
          ]
        },
        {
          "name": "stdout",
          "output_type": "stream",
          "text": [
            "\n",
            "epoch 8\n",
            "\ttrain_loss:0.740 valid_loss:0.724\n",
            "\ttrain_acc:67.86% valid_acc:67.79%\n",
            "\ttrain_f1:0.615 valid_f1:0.612\n",
            "\ttrain_confusion_matrix:\n",
            "[[  16  389  480]\n",
            " [   7 2076  333]\n",
            " [   2  270 1035]]\n",
            "\tvalid_confusion_matrix:\n",
            "[[  4 101 120]\n",
            " [  0 546  63]\n",
            " [  3  87 237]]\n"
          ]
        },
        {
          "name": "stderr",
          "output_type": "stream",
          "text": [
            "  0%|          | 0/36 [00:00<?, ?it/s]/var/folders/3c/71b8pg6d7j5dht_5h_2n4n_c0000gn/T/ipykernel_14530/3235636334.py:164: UserWarning: Implicit dimension choice for log_softmax has been deprecated. Change the call to include dim=X as an argument.\n",
            "  out = torch.nn.functional.log_softmax(out)\n",
            "100%|██████████| 36/36 [00:10<00:00,  3.29it/s]\n",
            "  0%|          | 0/2 [00:00<?, ?it/s]/var/folders/3c/71b8pg6d7j5dht_5h_2n4n_c0000gn/T/ipykernel_14530/3235636334.py:164: UserWarning: Implicit dimension choice for log_softmax has been deprecated. Change the call to include dim=X as an argument.\n",
            "  out = torch.nn.functional.log_softmax(out)\n",
            "100%|██████████| 2/2 [00:00<00:00,  5.90it/s]\n"
          ]
        },
        {
          "name": "stdout",
          "output_type": "stream",
          "text": [
            "\n",
            "epoch 9\n",
            "\ttrain_loss:0.729 valid_loss:0.704\n",
            "\ttrain_acc:68.64% valid_acc:68.65%\n",
            "\ttrain_f1:0.632 valid_f1:0.626\n",
            "\ttrain_confusion_matrix:\n",
            "[[  53  398  438]\n",
            " [  20 2109  288]\n",
            " [  11  290 1001]]\n",
            "\tvalid_confusion_matrix:\n",
            "[[  6  85 134]\n",
            " [  1 525  83]\n",
            " [  1  60 266]]\n"
          ]
        },
        {
          "name": "stderr",
          "output_type": "stream",
          "text": [
            "  0%|          | 0/36 [00:00<?, ?it/s]/var/folders/3c/71b8pg6d7j5dht_5h_2n4n_c0000gn/T/ipykernel_14530/3235636334.py:164: UserWarning: Implicit dimension choice for log_softmax has been deprecated. Change the call to include dim=X as an argument.\n",
            "  out = torch.nn.functional.log_softmax(out)\n",
            "100%|██████████| 36/36 [00:11<00:00,  3.27it/s]\n",
            "  0%|          | 0/2 [00:00<?, ?it/s]/var/folders/3c/71b8pg6d7j5dht_5h_2n4n_c0000gn/T/ipykernel_14530/3235636334.py:164: UserWarning: Implicit dimension choice for log_softmax has been deprecated. Change the call to include dim=X as an argument.\n",
            "  out = torch.nn.functional.log_softmax(out)\n",
            "100%|██████████| 2/2 [00:00<00:00,  5.84it/s]\n"
          ]
        },
        {
          "name": "stdout",
          "output_type": "stream",
          "text": [
            "\n",
            "epoch 10\n",
            "\ttrain_loss:0.713 valid_loss:0.705\n",
            "\ttrain_acc:69.25% valid_acc:69.16%\n",
            "\ttrain_f1:0.639 valid_f1:0.638\n",
            "\ttrain_confusion_matrix:\n",
            "[[  58  384  448]\n",
            " [  20 2106  291]\n",
            " [  10  264 1027]]\n",
            "\tvalid_confusion_matrix:\n",
            "[[ 15  94 116]\n",
            " [  2 536  71]\n",
            " [  3  72 252]]\n"
          ]
        },
        {
          "name": "stderr",
          "output_type": "stream",
          "text": [
            "  0%|          | 0/36 [00:00<?, ?it/s]/var/folders/3c/71b8pg6d7j5dht_5h_2n4n_c0000gn/T/ipykernel_14530/3235636334.py:164: UserWarning: Implicit dimension choice for log_softmax has been deprecated. Change the call to include dim=X as an argument.\n",
            "  out = torch.nn.functional.log_softmax(out)\n",
            "100%|██████████| 36/36 [00:10<00:00,  3.31it/s]\n",
            "  0%|          | 0/2 [00:00<?, ?it/s]/var/folders/3c/71b8pg6d7j5dht_5h_2n4n_c0000gn/T/ipykernel_14530/3235636334.py:164: UserWarning: Implicit dimension choice for log_softmax has been deprecated. Change the call to include dim=X as an argument.\n",
            "  out = torch.nn.functional.log_softmax(out)\n",
            "100%|██████████| 2/2 [00:00<00:00,  5.26it/s]\n"
          ]
        },
        {
          "name": "stdout",
          "output_type": "stream",
          "text": [
            "\n",
            "epoch 11\n",
            "\ttrain_loss:0.699 valid_loss:0.695\n",
            "\ttrain_acc:70.14% valid_acc:69.77%\n",
            "\ttrain_f1:0.651 valid_f1:0.648\n",
            "\ttrain_confusion_matrix:\n",
            "[[  74  395  419]\n",
            " [  29 2127  260]\n",
            " [  15  258 1031]]\n",
            "\tvalid_confusion_matrix:\n",
            "[[ 20  92 113]\n",
            " [  4 537  68]\n",
            " [  3  71 253]]\n"
          ]
        },
        {
          "name": "stderr",
          "output_type": "stream",
          "text": [
            "  0%|          | 0/36 [00:00<?, ?it/s]/var/folders/3c/71b8pg6d7j5dht_5h_2n4n_c0000gn/T/ipykernel_14530/3235636334.py:164: UserWarning: Implicit dimension choice for log_softmax has been deprecated. Change the call to include dim=X as an argument.\n",
            "  out = torch.nn.functional.log_softmax(out)\n",
            "100%|██████████| 36/36 [00:19<00:00,  1.82it/s]\n",
            "  0%|          | 0/2 [00:00<?, ?it/s]/var/folders/3c/71b8pg6d7j5dht_5h_2n4n_c0000gn/T/ipykernel_14530/3235636334.py:164: UserWarning: Implicit dimension choice for log_softmax has been deprecated. Change the call to include dim=X as an argument.\n",
            "  out = torch.nn.functional.log_softmax(out)\n",
            "100%|██████████| 2/2 [00:00<00:00,  2.95it/s]\n"
          ]
        },
        {
          "name": "stdout",
          "output_type": "stream",
          "text": [
            "\n",
            "epoch 12\n",
            "\ttrain_loss:0.686 valid_loss:0.696\n",
            "\ttrain_acc:71.14% valid_acc:69.34%\n",
            "\ttrain_f1:0.666 valid_f1:0.652\n",
            "\ttrain_confusion_matrix:\n",
            "[[ 101  406  384]\n",
            " [  33 2150  234]\n",
            " [  25  248 1027]]\n",
            "\tvalid_confusion_matrix:\n",
            "[[ 26  85 114]\n",
            " [  9 534  66]\n",
            " [  9  73 245]]\n"
          ]
        },
        {
          "name": "stderr",
          "output_type": "stream",
          "text": [
            "  0%|          | 0/36 [00:00<?, ?it/s]/var/folders/3c/71b8pg6d7j5dht_5h_2n4n_c0000gn/T/ipykernel_14530/3235636334.py:164: UserWarning: Implicit dimension choice for log_softmax has been deprecated. Change the call to include dim=X as an argument.\n",
            "  out = torch.nn.functional.log_softmax(out)\n",
            "100%|██████████| 36/36 [00:20<00:00,  1.72it/s]\n",
            "  0%|          | 0/2 [00:00<?, ?it/s]/var/folders/3c/71b8pg6d7j5dht_5h_2n4n_c0000gn/T/ipykernel_14530/3235636334.py:164: UserWarning: Implicit dimension choice for log_softmax has been deprecated. Change the call to include dim=X as an argument.\n",
            "  out = torch.nn.functional.log_softmax(out)\n",
            "100%|██████████| 2/2 [00:00<00:00,  2.62it/s]\n"
          ]
        },
        {
          "name": "stdout",
          "output_type": "stream",
          "text": [
            "\n",
            "epoch 13\n",
            "\ttrain_loss:0.679 valid_loss:0.692\n",
            "\ttrain_acc:71.27% valid_acc:69.42%\n",
            "\ttrain_f1:0.678 valid_f1:0.661\n",
            "\ttrain_confusion_matrix:\n",
            "[[ 142  358  387]\n",
            " [  57 2116  247]\n",
            " [  55  220 1026]]\n",
            "\tvalid_confusion_matrix:\n",
            "[[ 34  81 110]\n",
            " [ 19 526  64]\n",
            " [ 14  67 246]]\n"
          ]
        },
        {
          "name": "stderr",
          "output_type": "stream",
          "text": [
            "  0%|          | 0/36 [00:00<?, ?it/s]/var/folders/3c/71b8pg6d7j5dht_5h_2n4n_c0000gn/T/ipykernel_14530/3235636334.py:164: UserWarning: Implicit dimension choice for log_softmax has been deprecated. Change the call to include dim=X as an argument.\n",
            "  out = torch.nn.functional.log_softmax(out)\n",
            "100%|██████████| 36/36 [00:20<00:00,  1.72it/s]\n",
            "  0%|          | 0/2 [00:00<?, ?it/s]/var/folders/3c/71b8pg6d7j5dht_5h_2n4n_c0000gn/T/ipykernel_14530/3235636334.py:164: UserWarning: Implicit dimension choice for log_softmax has been deprecated. Change the call to include dim=X as an argument.\n",
            "  out = torch.nn.functional.log_softmax(out)\n",
            "100%|██████████| 2/2 [00:00<00:00,  2.48it/s]\n"
          ]
        },
        {
          "name": "stdout",
          "output_type": "stream",
          "text": [
            "\n",
            "epoch 14\n",
            "\ttrain_loss:0.670 valid_loss:0.685\n",
            "\ttrain_acc:71.88% valid_acc:69.51%\n",
            "\ttrain_f1:0.685 valid_f1:0.661\n",
            "\ttrain_confusion_matrix:\n",
            "[[ 155  374  360]\n",
            " [  55 2135  225]\n",
            " [  53  229 1022]]\n",
            "\tvalid_confusion_matrix:\n",
            "[[ 36  88 101]\n",
            " [ 19 531  59]\n",
            " [ 12  75 240]]\n"
          ]
        },
        {
          "name": "stderr",
          "output_type": "stream",
          "text": [
            "  0%|          | 0/36 [00:00<?, ?it/s]/var/folders/3c/71b8pg6d7j5dht_5h_2n4n_c0000gn/T/ipykernel_14530/3235636334.py:164: UserWarning: Implicit dimension choice for log_softmax has been deprecated. Change the call to include dim=X as an argument.\n",
            "  out = torch.nn.functional.log_softmax(out)\n",
            "100%|██████████| 36/36 [00:21<00:00,  1.66it/s]\n",
            "  0%|          | 0/2 [00:00<?, ?it/s]/var/folders/3c/71b8pg6d7j5dht_5h_2n4n_c0000gn/T/ipykernel_14530/3235636334.py:164: UserWarning: Implicit dimension choice for log_softmax has been deprecated. Change the call to include dim=X as an argument.\n",
            "  out = torch.nn.functional.log_softmax(out)\n",
            "100%|██████████| 2/2 [00:00<00:00,  2.77it/s]\n"
          ]
        },
        {
          "name": "stdout",
          "output_type": "stream",
          "text": [
            "\n",
            "epoch 15\n",
            "\ttrain_loss:0.660 valid_loss:0.685\n",
            "\ttrain_acc:72.44% valid_acc:70.37%\n",
            "\ttrain_f1:0.695 valid_f1:0.672\n",
            "\ttrain_confusion_matrix:\n",
            "[[ 182  363  342]\n",
            " [  68 2146  209]\n",
            " [  64  224 1010]]\n",
            "\tvalid_confusion_matrix:\n",
            "[[ 41  93  91]\n",
            " [ 21 538  50]\n",
            " [ 13  76 238]]\n"
          ]
        },
        {
          "name": "stderr",
          "output_type": "stream",
          "text": [
            "  0%|          | 0/36 [00:00<?, ?it/s]/var/folders/3c/71b8pg6d7j5dht_5h_2n4n_c0000gn/T/ipykernel_14530/3235636334.py:164: UserWarning: Implicit dimension choice for log_softmax has been deprecated. Change the call to include dim=X as an argument.\n",
            "  out = torch.nn.functional.log_softmax(out)\n",
            "100%|██████████| 36/36 [00:21<00:00,  1.69it/s]\n",
            "  0%|          | 0/2 [00:00<?, ?it/s]/var/folders/3c/71b8pg6d7j5dht_5h_2n4n_c0000gn/T/ipykernel_14530/3235636334.py:164: UserWarning: Implicit dimension choice for log_softmax has been deprecated. Change the call to include dim=X as an argument.\n",
            "  out = torch.nn.functional.log_softmax(out)\n",
            "100%|██████████| 2/2 [00:00<00:00,  3.01it/s]\n"
          ]
        },
        {
          "name": "stdout",
          "output_type": "stream",
          "text": [
            "\n",
            "epoch 16\n",
            "\ttrain_loss:0.650 valid_loss:0.672\n",
            "\ttrain_acc:73.09% valid_acc:70.37%\n",
            "\ttrain_f1:0.707 valid_f1:0.673\n",
            "\ttrain_confusion_matrix:\n",
            "[[ 220  332  336]\n",
            " [  82 2141  196]\n",
            " [  80  214 1007]]\n",
            "\tvalid_confusion_matrix:\n",
            "[[ 40  80 105]\n",
            " [ 17 527  65]\n",
            " [ 14  63 250]]\n"
          ]
        },
        {
          "name": "stderr",
          "output_type": "stream",
          "text": [
            "  0%|          | 0/36 [00:00<?, ?it/s]/var/folders/3c/71b8pg6d7j5dht_5h_2n4n_c0000gn/T/ipykernel_14530/3235636334.py:164: UserWarning: Implicit dimension choice for log_softmax has been deprecated. Change the call to include dim=X as an argument.\n",
            "  out = torch.nn.functional.log_softmax(out)\n",
            "100%|██████████| 36/36 [00:20<00:00,  1.74it/s]\n",
            "  0%|          | 0/2 [00:00<?, ?it/s]/var/folders/3c/71b8pg6d7j5dht_5h_2n4n_c0000gn/T/ipykernel_14530/3235636334.py:164: UserWarning: Implicit dimension choice for log_softmax has been deprecated. Change the call to include dim=X as an argument.\n",
            "  out = torch.nn.functional.log_softmax(out)\n",
            "100%|██████████| 2/2 [00:00<00:00,  2.58it/s]\n"
          ]
        },
        {
          "name": "stdout",
          "output_type": "stream",
          "text": [
            "\n",
            "epoch 17\n",
            "\ttrain_loss:0.654 valid_loss:0.693\n",
            "\ttrain_acc:73.00% valid_acc:69.51%\n",
            "\ttrain_f1:0.707 valid_f1:0.675\n",
            "\ttrain_confusion_matrix:\n",
            "[[ 221  336  332]\n",
            " [  79 2127  214]\n",
            " [  80  203 1016]]\n",
            "\tvalid_confusion_matrix:\n",
            "[[ 54  72  99]\n",
            " [ 30 519  60]\n",
            " [ 22  71 234]]\n"
          ]
        },
        {
          "name": "stderr",
          "output_type": "stream",
          "text": [
            "  0%|          | 0/36 [00:00<?, ?it/s]/var/folders/3c/71b8pg6d7j5dht_5h_2n4n_c0000gn/T/ipykernel_14530/3235636334.py:164: UserWarning: Implicit dimension choice for log_softmax has been deprecated. Change the call to include dim=X as an argument.\n",
            "  out = torch.nn.functional.log_softmax(out)\n",
            "100%|██████████| 36/36 [00:20<00:00,  1.74it/s]\n",
            "  0%|          | 0/2 [00:00<?, ?it/s]/var/folders/3c/71b8pg6d7j5dht_5h_2n4n_c0000gn/T/ipykernel_14530/3235636334.py:164: UserWarning: Implicit dimension choice for log_softmax has been deprecated. Change the call to include dim=X as an argument.\n",
            "  out = torch.nn.functional.log_softmax(out)\n",
            "100%|██████████| 2/2 [00:00<00:00,  2.84it/s]\n"
          ]
        },
        {
          "name": "stdout",
          "output_type": "stream",
          "text": [
            "\n",
            "epoch 18\n",
            "\ttrain_loss:0.645 valid_loss:0.678\n",
            "\ttrain_acc:73.31% valid_acc:69.77%\n",
            "\ttrain_f1:0.713 valid_f1:0.676\n",
            "\ttrain_confusion_matrix:\n",
            "[[ 233  298  350]\n",
            " [ 104 2104  213]\n",
            " [  80  185 1041]]\n",
            "\tvalid_confusion_matrix:\n",
            "[[ 56  86  83]\n",
            " [ 26 532  51]\n",
            " [ 31  74 222]]\n"
          ]
        },
        {
          "name": "stderr",
          "output_type": "stream",
          "text": [
            "  0%|          | 0/36 [00:00<?, ?it/s]/var/folders/3c/71b8pg6d7j5dht_5h_2n4n_c0000gn/T/ipykernel_14530/3235636334.py:164: UserWarning: Implicit dimension choice for log_softmax has been deprecated. Change the call to include dim=X as an argument.\n",
            "  out = torch.nn.functional.log_softmax(out)\n",
            "100%|██████████| 36/36 [00:21<00:00,  1.64it/s]\n",
            "  0%|          | 0/2 [00:00<?, ?it/s]/var/folders/3c/71b8pg6d7j5dht_5h_2n4n_c0000gn/T/ipykernel_14530/3235636334.py:164: UserWarning: Implicit dimension choice for log_softmax has been deprecated. Change the call to include dim=X as an argument.\n",
            "  out = torch.nn.functional.log_softmax(out)\n",
            "100%|██████████| 2/2 [00:00<00:00,  2.88it/s]"
          ]
        },
        {
          "name": "stdout",
          "output_type": "stream",
          "text": [
            "\n",
            "epoch 19\n",
            "\ttrain_loss:0.637 valid_loss:0.671\n",
            "\ttrain_acc:73.87% valid_acc:70.63%\n",
            "\ttrain_f1:0.719 valid_f1:0.684\n",
            "\ttrain_confusion_matrix:\n",
            "[[ 256  325  305]\n",
            " [  90 2144  186]\n",
            " [ 100  198 1004]]\n",
            "\tvalid_confusion_matrix:\n",
            "[[ 54  79  92]\n",
            " [ 25 528  56]\n",
            " [ 20  69 238]]\n"
          ]
        },
        {
          "name": "stderr",
          "output_type": "stream",
          "text": [
            "\n"
          ]
        }
      ],
      "source": [
        "device = get_default_device()\n",
        "\n",
        "NUM_EPOCHS = 20\n",
        "TRAIN_BATCH_SIZE = 128\n",
        "VALID_BATCH_SIZE = 1024\n",
        "\n",
        "NUM_POLARITY_TAGS = 3\n",
        "\n",
        "history = {\n",
        "    \"train_loss\": list(),\n",
        "    \"polarity_train_acc\": list(),\n",
        "    \"valid_loss\": list(),\n",
        "    \"polarity_valid_acc\": list(),\n",
        "}\n",
        "\n",
        "best_loss = np.inf\n",
        "\n",
        "dataset = TensorDataset(torch.Tensor(X_l_train), torch.Tensor(X_g_train), torch.Tensor(y_train))\n",
        "print(f\"train samples:{len(dataset)}\")\n",
        "train_loader = DataLoader(dataset, batch_size=TRAIN_BATCH_SIZE, shuffle=True, drop_last=True)\n",
        "\n",
        "dataset_valid = TensorDataset(torch.Tensor(X_l_valid),  torch.Tensor(X_g_valid), torch.Tensor(y_valid))\n",
        "print(f\"valid samples:{len(dataset_valid)}\")\n",
        "test_loader = DataLoader(dataset_valid, batch_size=VALID_BATCH_SIZE)\n",
        "\n",
        "model = to_device(Model(general_embedding,  num_classes=3, alpha = 0.4), device)\n",
        "\n",
        "torch.cuda.empty_cache()\n",
        "\n",
        "parameters = [p for p in model.parameters() if p.requires_grad]\n",
        "optimizer = AdamW(parameters, lr=1e-4)\n",
        "\n",
        "\n",
        "for epoch in range(NUM_EPOCHS):\n",
        "    train_losses = []\n",
        "    train_acc = []\n",
        "    test_loss = []\n",
        "    test_acc = []\n",
        "    train_f1 = []\n",
        "    test_f1 = []\n",
        "\n",
        "    model.train()\n",
        "    preds = []\n",
        "    masks = []\n",
        "    labels = []\n",
        "    for data in tqdm(train_loader, total=len(train_loader)):\n",
        "        for i in range(len(data)):\n",
        "            data[i] = data[i].to(device)\n",
        "        l_feature, g_feature, label = data\n",
        "        l_feature, g_feature, label = l_feature.long(), g_feature.long(), label.long()\n",
        "\n",
        "        optimizer.zero_grad()\n",
        "        pred_logits = model(l_feature, g_feature)\n",
        "        loss = loss_fn(pred_logits, label, 3)\n",
        "        loss.backward()\n",
        "        optimizer.step()\n",
        "\n",
        "        train_losses.append(loss.item())\n",
        "\n",
        "        pred_tags = pred_logits.max(-1)[1]\n",
        "        preds.append(pred_tags)\n",
        "        labels.append(label)\n",
        "\n",
        "    avg_train_acc, avg_train_f1, train_cm = cal_acc(preds,labels)\n",
        "    avg_train_loss = sum(train_losses) / len(train_losses)\n",
        "\n",
        "    preds = []\n",
        "    masks = []\n",
        "    labels = []\n",
        "    with torch.no_grad():\n",
        "        for data in tqdm(test_loader, total=len(test_loader)):\n",
        "            for i in range(len(data)):\n",
        "                data[i] = data[i].to(device)\n",
        "            l_feature, g_feature, label = data\n",
        "            l_feature, g_feature, label = l_feature.long(), g_feature.long(), label.long()\n",
        "            pred_logits = model(l_feature, g_feature)\n",
        "            loss = loss_fn(pred_logits, label, 3)\n",
        "\n",
        "            test_loss.append(loss.item())\n",
        "\n",
        "            pred_tags = pred_logits.max(-1)[1]\n",
        "\n",
        "            preds.append(pred_tags)\n",
        "            labels.append(label)\n",
        "\n",
        "    avg_test_acc, avg_test_f1, test_cm = cal_acc(preds,  labels)\n",
        "    avg_test_loss = sum(test_loss) / len(test_loss)\n",
        "\n",
        "    print(f\"\\nepoch {epoch}\")\n",
        "    print(\"\\ttrain_loss:{:.3f} valid_loss:{:.3f}\".format(avg_train_loss, avg_test_loss))\n",
        "    print(\"\\ttrain_acc:{:.2%} valid_acc:{:.2%}\".format(avg_train_acc, avg_test_acc))\n",
        "    print(\"\\ttrain_f1:{:.3f} valid_f1:{:.3f}\".format(avg_train_f1, avg_test_f1))\n",
        "    print(f\"\\ttrain_confusion_matrix:\\n{train_cm}\")\n",
        "    print(f\"\\tvalid_confusion_matrix:\\n{test_cm}\")\n",
        "\n",
        "    if avg_test_loss < best_loss:\n",
        "        torch.save(model.state_dict(), MODEL_PATH)\n",
        "        best_loss = avg_test_loss    \n",
        "        \n",
        "    history['train_loss'].append(avg_train_loss)\n",
        "    history['polarity_train_acc'].append(avg_train_acc.cpu().numpy())\n",
        "    history['valid_loss'].append(avg_test_loss)\n",
        "    history['polarity_valid_acc'].append(avg_test_acc.cpu().numpy())\n",
        "        \n",
        "    \n"
      ]
    },
    {
      "cell_type": "code",
      "execution_count": 71,
      "metadata": {},
      "outputs": [
        {
          "data": {
            "text/plain": [
              "(0.4, 0.9)"
            ]
          },
          "execution_count": 71,
          "metadata": {},
          "output_type": "execute_result"
        },
        {
          "data": {
            "image/png": "[encoded data removed]",
            "text/plain": [
              "<Figure size 432x288 with 1 Axes>"
            ]
          },
          "metadata": {
            "needs_background": "light"
          },
          "output_type": "display_data"
        }
      ],
      "source": [
        "import matplotlib.pyplot as plt\n",
        "plt.plot(history['polarity_train_acc'], label='train accuracy')\n",
        "plt.plot(history['polarity_valid_acc'], label='validation accuracy')\n",
        "plt.title('Training history')\n",
        "plt.ylabel('Accuracy')\n",
        "plt.xlabel('Epoch')\n",
        "plt.legend()\n",
        "plt.ylim([0.4, 0.9])"
      ]
    },
    {
      "cell_type": "code",
      "execution_count": 72,
      "metadata": {},
      "outputs": [
        {
          "name": "stdout",
          "output_type": "stream",
          "text": [
            "Loading saved model from: model_task2.bin\n"
          ]
        },
        {
          "name": "stderr",
          "output_type": "stream",
          "text": [
            "  0%|          | 0/2 [00:00<?, ?it/s]/var/folders/3c/71b8pg6d7j5dht_5h_2n4n_c0000gn/T/ipykernel_14530/3235636334.py:164: UserWarning: Implicit dimension choice for log_softmax has been deprecated. Change the call to include dim=X as an argument.\n",
            "  out = torch.nn.functional.log_softmax(out)\n",
            "100%|██████████| 2/2 [00:00<00:00,  2.87it/s]"
          ]
        },
        {
          "name": "stdout",
          "output_type": "stream",
          "text": [
            "              precision    recall  f1-score   support\n",
            "\n",
            "     Neutral       0.52      0.24      0.33       225\n",
            "    Positive       0.78      0.86      0.82       609\n",
            "    Negative       0.62      0.72      0.67       327\n",
            "\n",
            "    accuracy                           0.70      1161\n",
            "   macro avg       0.64      0.61      0.61      1161\n",
            "weighted avg       0.68      0.70      0.68      1161\n",
            "\n"
          ]
        },
        {
          "name": "stderr",
          "output_type": "stream",
          "text": [
            "\n"
          ]
        }
      ],
      "source": [
        "def get_classification_report(test_loader, model, model_path=None):\n",
        "    if model_path is not None: # load the saved model\n",
        "        print('Loading saved model from: {}'.format(model_path))\n",
        "        model.load_state_dict(torch.load(model_path))\n",
        "    model = to_device(model, device)   \n",
        "    \n",
        "    model.eval()\n",
        "    final_pred_polarity_tags = []\n",
        "    final_true_polarity_tags = []\n",
        "\n",
        "\n",
        "    with torch.no_grad():\n",
        "        for data in tqdm(test_loader, total=len(test_loader)):\n",
        "            for i in range(len(data)):\n",
        "                data[i] = data[i].to(device)\n",
        "\n",
        "            l_feature, g_feature, label = data\n",
        "            l_feature, g_feature, label = l_feature.long(), g_feature.long(), label.long()\n",
        "            pred_logits = model(l_feature, g_feature)\n",
        "\n",
        "            pred_tags = pred_logits.max(-1)[1]\n",
        "\n",
        "            final_pred_polarity_tags.extend(pred_tags)\n",
        "            final_true_polarity_tags.extend(label)\n",
        "\n",
        "    final_pred_polarity_tags = torch.stack(final_pred_polarity_tags).cpu()\n",
        "    final_true_polarity_tags = torch.stack(final_true_polarity_tags).cpu()\n",
        "        \n",
        "    print(classification_report(final_true_polarity_tags, final_pred_polarity_tags, \n",
        "                                target_names=[\"Neutral\", \"Positive\", \"Negative\"]))\n",
        "    \n",
        "get_classification_report(test_loader, model, model_path=MODEL_PATH)"
      ]
    },
    {
      "cell_type": "markdown",
      "metadata": {},
      "source": [
        "## Alpha = 0.6"
      ]
    },
    {
      "cell_type": "code",
      "execution_count": 73,
      "metadata": {},
      "outputs": [
        {
          "name": "stdout",
          "output_type": "stream",
          "text": [
            "train samples:4641\n",
            "valid samples:1161\n"
          ]
        },
        {
          "name": "stderr",
          "output_type": "stream",
          "text": [
            "  0%|          | 0/36 [00:00<?, ?it/s]/var/folders/3c/71b8pg6d7j5dht_5h_2n4n_c0000gn/T/ipykernel_14530/3235636334.py:164: UserWarning: Implicit dimension choice for log_softmax has been deprecated. Change the call to include dim=X as an argument.\n",
            "  out = torch.nn.functional.log_softmax(out)\n",
            "100%|██████████| 36/36 [00:21<00:00,  1.67it/s]\n",
            "  0%|          | 0/2 [00:00<?, ?it/s]/var/folders/3c/71b8pg6d7j5dht_5h_2n4n_c0000gn/T/ipykernel_14530/3235636334.py:164: UserWarning: Implicit dimension choice for log_softmax has been deprecated. Change the call to include dim=X as an argument.\n",
            "  out = torch.nn.functional.log_softmax(out)\n",
            "100%|██████████| 2/2 [00:00<00:00,  2.74it/s]\n"
          ]
        },
        {
          "name": "stdout",
          "output_type": "stream",
          "text": [
            "\n",
            "epoch 0\n",
            "\ttrain_loss:1.067 valid_loss:1.025\n",
            "\ttrain_acc:46.44% valid_acc:52.71%\n",
            "\ttrain_f1:0.413 valid_f1:0.367\n",
            "\ttrain_confusion_matrix:\n",
            "[[   0  588  295]\n",
            " [   1 1673  751]\n",
            " [   0  833  467]]\n",
            "\tvalid_confusion_matrix:\n",
            "[[  0 224   1]\n",
            " [  0 609   0]\n",
            " [  0 324   3]]\n"
          ]
        },
        {
          "name": "stderr",
          "output_type": "stream",
          "text": [
            "  0%|          | 0/36 [00:00<?, ?it/s]/var/folders/3c/71b8pg6d7j5dht_5h_2n4n_c0000gn/T/ipykernel_14530/3235636334.py:164: UserWarning: Implicit dimension choice for log_softmax has been deprecated. Change the call to include dim=X as an argument.\n",
            "  out = torch.nn.functional.log_softmax(out)\n",
            "100%|██████████| 36/36 [00:20<00:00,  1.72it/s]\n",
            "  0%|          | 0/2 [00:00<?, ?it/s]/var/folders/3c/71b8pg6d7j5dht_5h_2n4n_c0000gn/T/ipykernel_14530/3235636334.py:164: UserWarning: Implicit dimension choice for log_softmax has been deprecated. Change the call to include dim=X as an argument.\n",
            "  out = torch.nn.functional.log_softmax(out)\n",
            "100%|██████████| 2/2 [00:00<00:00,  2.72it/s]\n"
          ]
        },
        {
          "name": "stdout",
          "output_type": "stream",
          "text": [
            "\n",
            "epoch 1\n",
            "\ttrain_loss:1.006 valid_loss:0.970\n",
            "\ttrain_acc:52.56% valid_acc:52.54%\n",
            "\ttrain_f1:0.366 valid_f1:0.363\n",
            "\ttrain_confusion_matrix:\n",
            "[[   0  889    0]\n",
            " [   0 2410    4]\n",
            " [   0 1293   12]]\n",
            "\tvalid_confusion_matrix:\n",
            "[[  0 225   0]\n",
            " [  0 609   0]\n",
            " [  0 326   1]]\n"
          ]
        },
        {
          "name": "stderr",
          "output_type": "stream",
          "text": [
            "  0%|          | 0/36 [00:00<?, ?it/s]/var/folders/3c/71b8pg6d7j5dht_5h_2n4n_c0000gn/T/ipykernel_14530/3235636334.py:164: UserWarning: Implicit dimension choice for log_softmax has been deprecated. Change the call to include dim=X as an argument.\n",
            "  out = torch.nn.functional.log_softmax(out)\n",
            "100%|██████████| 36/36 [00:19<00:00,  1.86it/s]\n",
            "  0%|          | 0/2 [00:00<?, ?it/s]/var/folders/3c/71b8pg6d7j5dht_5h_2n4n_c0000gn/T/ipykernel_14530/3235636334.py:164: UserWarning: Implicit dimension choice for log_softmax has been deprecated. Change the call to include dim=X as an argument.\n",
            "  out = torch.nn.functional.log_softmax(out)\n",
            "100%|██████████| 2/2 [00:00<00:00,  4.77it/s]\n"
          ]
        },
        {
          "name": "stdout",
          "output_type": "stream",
          "text": [
            "\n",
            "epoch 2\n",
            "\ttrain_loss:0.961 valid_loss:0.919\n",
            "\ttrain_acc:52.71% valid_acc:52.89%\n",
            "\ttrain_f1:0.368 valid_f1:0.371\n",
            "\ttrain_confusion_matrix:\n",
            "[[   0  887    1]\n",
            " [   0 2412    4]\n",
            " [   0 1287   17]]\n",
            "\tvalid_confusion_matrix:\n",
            "[[  0 221   4]\n",
            " [  0 609   0]\n",
            " [  0 322   5]]\n"
          ]
        },
        {
          "name": "stderr",
          "output_type": "stream",
          "text": [
            "  0%|          | 0/36 [00:00<?, ?it/s]/var/folders/3c/71b8pg6d7j5dht_5h_2n4n_c0000gn/T/ipykernel_14530/3235636334.py:164: UserWarning: Implicit dimension choice for log_softmax has been deprecated. Change the call to include dim=X as an argument.\n",
            "  out = torch.nn.functional.log_softmax(out)\n",
            "100%|██████████| 36/36 [00:10<00:00,  3.58it/s]\n",
            "  0%|          | 0/2 [00:00<?, ?it/s]/var/folders/3c/71b8pg6d7j5dht_5h_2n4n_c0000gn/T/ipykernel_14530/3235636334.py:164: UserWarning: Implicit dimension choice for log_softmax has been deprecated. Change the call to include dim=X as an argument.\n",
            "  out = torch.nn.functional.log_softmax(out)\n",
            "100%|██████████| 2/2 [00:00<00:00,  5.77it/s]\n"
          ]
        },
        {
          "name": "stdout",
          "output_type": "stream",
          "text": [
            "\n",
            "epoch 3\n",
            "\ttrain_loss:0.892 valid_loss:0.845\n",
            "\ttrain_acc:58.12% valid_acc:63.05%\n",
            "\ttrain_f1:0.486 valid_f1:0.560\n",
            "\ttrain_confusion_matrix:\n",
            "[[   0  721  170]\n",
            " [   0 2312  107]\n",
            " [   0  932  366]]\n",
            "\tvalid_confusion_matrix:\n",
            "[[  0 116 109]\n",
            " [  0 538  71]\n",
            " [  0 133 194]]\n"
          ]
        },
        {
          "name": "stderr",
          "output_type": "stream",
          "text": [
            "  0%|          | 0/36 [00:00<?, ?it/s]/var/folders/3c/71b8pg6d7j5dht_5h_2n4n_c0000gn/T/ipykernel_14530/3235636334.py:164: UserWarning: Implicit dimension choice for log_softmax has been deprecated. Change the call to include dim=X as an argument.\n",
            "  out = torch.nn.functional.log_softmax(out)\n",
            "100%|██████████| 36/36 [00:10<00:00,  3.60it/s]\n",
            "  0%|          | 0/2 [00:00<?, ?it/s]/var/folders/3c/71b8pg6d7j5dht_5h_2n4n_c0000gn/T/ipykernel_14530/3235636334.py:164: UserWarning: Implicit dimension choice for log_softmax has been deprecated. Change the call to include dim=X as an argument.\n",
            "  out = torch.nn.functional.log_softmax(out)\n",
            "100%|██████████| 2/2 [00:00<00:00,  5.95it/s]\n"
          ]
        },
        {
          "name": "stdout",
          "output_type": "stream",
          "text": [
            "\n",
            "epoch 4\n",
            "\ttrain_loss:0.830 valid_loss:0.780\n",
            "\ttrain_acc:63.76% valid_acc:64.08%\n",
            "\ttrain_f1:0.571 valid_f1:0.574\n",
            "\ttrain_confusion_matrix:\n",
            "[[   0  428  462]\n",
            " [   0 2073  344]\n",
            " [   0  436  865]]\n",
            "\tvalid_confusion_matrix:\n",
            "[[  0  94 131]\n",
            " [  0 527  82]\n",
            " [  0 110 217]]\n"
          ]
        },
        {
          "name": "stderr",
          "output_type": "stream",
          "text": [
            "  0%|          | 0/36 [00:00<?, ?it/s]/var/folders/3c/71b8pg6d7j5dht_5h_2n4n_c0000gn/T/ipykernel_14530/3235636334.py:164: UserWarning: Implicit dimension choice for log_softmax has been deprecated. Change the call to include dim=X as an argument.\n",
            "  out = torch.nn.functional.log_softmax(out)\n",
            "100%|██████████| 36/36 [00:10<00:00,  3.49it/s]\n",
            "  0%|          | 0/2 [00:00<?, ?it/s]/var/folders/3c/71b8pg6d7j5dht_5h_2n4n_c0000gn/T/ipykernel_14530/3235636334.py:164: UserWarning: Implicit dimension choice for log_softmax has been deprecated. Change the call to include dim=X as an argument.\n",
            "  out = torch.nn.functional.log_softmax(out)\n",
            "100%|██████████| 2/2 [00:00<00:00,  5.75it/s]\n"
          ]
        },
        {
          "name": "stdout",
          "output_type": "stream",
          "text": [
            "\n",
            "epoch 5\n",
            "\ttrain_loss:0.792 valid_loss:0.772\n",
            "\ttrain_acc:65.06% valid_acc:66.24%\n",
            "\ttrain_f1:0.586 valid_f1:0.600\n",
            "\ttrain_confusion_matrix:\n",
            "[[   0  380  507]\n",
            " [   0 2034  386]\n",
            " [   0  337  964]]\n",
            "\tvalid_confusion_matrix:\n",
            "[[  0  66 159]\n",
            " [  0 511  98]\n",
            " [  0  69 258]]\n"
          ]
        },
        {
          "name": "stderr",
          "output_type": "stream",
          "text": [
            "  0%|          | 0/36 [00:00<?, ?it/s]/var/folders/3c/71b8pg6d7j5dht_5h_2n4n_c0000gn/T/ipykernel_14530/3235636334.py:164: UserWarning: Implicit dimension choice for log_softmax has been deprecated. Change the call to include dim=X as an argument.\n",
            "  out = torch.nn.functional.log_softmax(out)\n",
            "100%|██████████| 36/36 [00:10<00:00,  3.46it/s]\n",
            "  0%|          | 0/2 [00:00<?, ?it/s]/var/folders/3c/71b8pg6d7j5dht_5h_2n4n_c0000gn/T/ipykernel_14530/3235636334.py:164: UserWarning: Implicit dimension choice for log_softmax has been deprecated. Change the call to include dim=X as an argument.\n",
            "  out = torch.nn.functional.log_softmax(out)\n",
            "100%|██████████| 2/2 [00:00<00:00,  5.11it/s]\n"
          ]
        },
        {
          "name": "stdout",
          "output_type": "stream",
          "text": [
            "\n",
            "epoch 6\n",
            "\ttrain_loss:0.772 valid_loss:0.742\n",
            "\ttrain_acc:66.08% valid_acc:67.18%\n",
            "\ttrain_f1:0.595 valid_f1:0.607\n",
            "\ttrain_confusion_matrix:\n",
            "[[   0  374  514]\n",
            " [   0 2046  373]\n",
            " [   0  302  999]]\n",
            "\tvalid_confusion_matrix:\n",
            "[[  1  83 141]\n",
            " [  0 521  88]\n",
            " [  0  69 258]]\n"
          ]
        },
        {
          "name": "stderr",
          "output_type": "stream",
          "text": [
            "  0%|          | 0/36 [00:00<?, ?it/s]/var/folders/3c/71b8pg6d7j5dht_5h_2n4n_c0000gn/T/ipykernel_14530/3235636334.py:164: UserWarning: Implicit dimension choice for log_softmax has been deprecated. Change the call to include dim=X as an argument.\n",
            "  out = torch.nn.functional.log_softmax(out)\n",
            "100%|██████████| 36/36 [00:10<00:00,  3.47it/s]\n",
            "  0%|          | 0/2 [00:00<?, ?it/s]/var/folders/3c/71b8pg6d7j5dht_5h_2n4n_c0000gn/T/ipykernel_14530/3235636334.py:164: UserWarning: Implicit dimension choice for log_softmax has been deprecated. Change the call to include dim=X as an argument.\n",
            "  out = torch.nn.functional.log_softmax(out)\n",
            "100%|██████████| 2/2 [00:00<00:00,  5.31it/s]\n"
          ]
        },
        {
          "name": "stdout",
          "output_type": "stream",
          "text": [
            "\n",
            "epoch 7\n",
            "\ttrain_loss:0.755 valid_loss:0.746\n",
            "\ttrain_acc:66.91% valid_acc:67.44%\n",
            "\ttrain_f1:0.603 valid_f1:0.603\n",
            "\ttrain_confusion_matrix:\n",
            "[[   5  377  507]\n",
            " [   0 2064  354]\n",
            " [   0  287 1014]]\n",
            "\tvalid_confusion_matrix:\n",
            "[[  3 116 106]\n",
            " [  0 564  45]\n",
            " [  0 111 216]]\n"
          ]
        },
        {
          "name": "stderr",
          "output_type": "stream",
          "text": [
            "  0%|          | 0/36 [00:00<?, ?it/s]/var/folders/3c/71b8pg6d7j5dht_5h_2n4n_c0000gn/T/ipykernel_14530/3235636334.py:164: UserWarning: Implicit dimension choice for log_softmax has been deprecated. Change the call to include dim=X as an argument.\n",
            "  out = torch.nn.functional.log_softmax(out)\n",
            "100%|██████████| 36/36 [00:10<00:00,  3.42it/s]\n",
            "  0%|          | 0/2 [00:00<?, ?it/s]/var/folders/3c/71b8pg6d7j5dht_5h_2n4n_c0000gn/T/ipykernel_14530/3235636334.py:164: UserWarning: Implicit dimension choice for log_softmax has been deprecated. Change the call to include dim=X as an argument.\n",
            "  out = torch.nn.functional.log_softmax(out)\n",
            "100%|██████████| 2/2 [00:00<00:00,  5.56it/s]\n"
          ]
        },
        {
          "name": "stdout",
          "output_type": "stream",
          "text": [
            "\n",
            "epoch 8\n",
            "\ttrain_loss:0.740 valid_loss:0.719\n",
            "\ttrain_acc:68.36% valid_acc:68.30%\n",
            "\ttrain_f1:0.621 valid_f1:0.617\n",
            "\ttrain_confusion_matrix:\n",
            "[[  22  390  478]\n",
            " [   4 2107  304]\n",
            " [   2  280 1021]]\n",
            "\tvalid_confusion_matrix:\n",
            "[[  3  97 125]\n",
            " [  3 535  71]\n",
            " [  1  71 255]]\n"
          ]
        },
        {
          "name": "stderr",
          "output_type": "stream",
          "text": [
            "  0%|          | 0/36 [00:00<?, ?it/s]/var/folders/3c/71b8pg6d7j5dht_5h_2n4n_c0000gn/T/ipykernel_14530/3235636334.py:164: UserWarning: Implicit dimension choice for log_softmax has been deprecated. Change the call to include dim=X as an argument.\n",
            "  out = torch.nn.functional.log_softmax(out)\n",
            "100%|██████████| 36/36 [00:11<00:00,  3.19it/s]\n",
            "  0%|          | 0/2 [00:00<?, ?it/s]/var/folders/3c/71b8pg6d7j5dht_5h_2n4n_c0000gn/T/ipykernel_14530/3235636334.py:164: UserWarning: Implicit dimension choice for log_softmax has been deprecated. Change the call to include dim=X as an argument.\n",
            "  out = torch.nn.functional.log_softmax(out)\n",
            "100%|██████████| 2/2 [00:00<00:00,  5.13it/s]\n"
          ]
        },
        {
          "name": "stdout",
          "output_type": "stream",
          "text": [
            "\n",
            "epoch 9\n",
            "\ttrain_loss:0.725 valid_loss:0.717\n",
            "\ttrain_acc:69.16% valid_acc:68.91%\n",
            "\ttrain_f1:0.631 valid_f1:0.628\n",
            "\ttrain_confusion_matrix:\n",
            "[[  32  394  461]\n",
            " [  10 2125  283]\n",
            " [   3  270 1030]]\n",
            "\tvalid_confusion_matrix:\n",
            "[[  7  89 129]\n",
            " [  1 532  76]\n",
            " [  1  65 261]]\n"
          ]
        },
        {
          "name": "stderr",
          "output_type": "stream",
          "text": [
            "  0%|          | 0/36 [00:00<?, ?it/s]/var/folders/3c/71b8pg6d7j5dht_5h_2n4n_c0000gn/T/ipykernel_14530/3235636334.py:164: UserWarning: Implicit dimension choice for log_softmax has been deprecated. Change the call to include dim=X as an argument.\n",
            "  out = torch.nn.functional.log_softmax(out)\n",
            "100%|██████████| 36/36 [00:10<00:00,  3.55it/s]\n",
            "  0%|          | 0/2 [00:00<?, ?it/s]/var/folders/3c/71b8pg6d7j5dht_5h_2n4n_c0000gn/T/ipykernel_14530/3235636334.py:164: UserWarning: Implicit dimension choice for log_softmax has been deprecated. Change the call to include dim=X as an argument.\n",
            "  out = torch.nn.functional.log_softmax(out)\n",
            "100%|██████████| 2/2 [00:00<00:00,  5.77it/s]\n"
          ]
        },
        {
          "name": "stdout",
          "output_type": "stream",
          "text": [
            "\n",
            "epoch 10\n",
            "\ttrain_loss:0.714 valid_loss:0.715\n",
            "\ttrain_acc:69.42% valid_acc:68.48%\n",
            "\ttrain_f1:0.637 valid_f1:0.629\n",
            "\ttrain_confusion_matrix:\n",
            "[[  48  386  458]\n",
            " [   8 2123  283]\n",
            " [  11  263 1028]]\n",
            "\tvalid_confusion_matrix:\n",
            "[[ 11  92 122]\n",
            " [  5 529  75]\n",
            " [  4  68 255]]\n"
          ]
        },
        {
          "name": "stderr",
          "output_type": "stream",
          "text": [
            "  0%|          | 0/36 [00:00<?, ?it/s]/var/folders/3c/71b8pg6d7j5dht_5h_2n4n_c0000gn/T/ipykernel_14530/3235636334.py:164: UserWarning: Implicit dimension choice for log_softmax has been deprecated. Change the call to include dim=X as an argument.\n",
            "  out = torch.nn.functional.log_softmax(out)\n",
            "100%|██████████| 36/36 [00:10<00:00,  3.32it/s]\n",
            "  0%|          | 0/2 [00:00<?, ?it/s]/var/folders/3c/71b8pg6d7j5dht_5h_2n4n_c0000gn/T/ipykernel_14530/3235636334.py:164: UserWarning: Implicit dimension choice for log_softmax has been deprecated. Change the call to include dim=X as an argument.\n",
            "  out = torch.nn.functional.log_softmax(out)\n",
            "100%|██████████| 2/2 [00:00<00:00,  5.12it/s]\n"
          ]
        },
        {
          "name": "stdout",
          "output_type": "stream",
          "text": [
            "\n",
            "epoch 11\n",
            "\ttrain_loss:0.699 valid_loss:0.702\n",
            "\ttrain_acc:70.51% valid_acc:69.16%\n",
            "\ttrain_f1:0.654 valid_f1:0.638\n",
            "\ttrain_confusion_matrix:\n",
            "[[  70  373  441]\n",
            " [  16 2136  270]\n",
            " [  14  245 1043]]\n",
            "\tvalid_confusion_matrix:\n",
            "[[ 15 103 107]\n",
            " [  6 541  62]\n",
            " [  7  73 247]]\n"
          ]
        },
        {
          "name": "stderr",
          "output_type": "stream",
          "text": [
            "  0%|          | 0/36 [00:00<?, ?it/s]/var/folders/3c/71b8pg6d7j5dht_5h_2n4n_c0000gn/T/ipykernel_14530/3235636334.py:164: UserWarning: Implicit dimension choice for log_softmax has been deprecated. Change the call to include dim=X as an argument.\n",
            "  out = torch.nn.functional.log_softmax(out)\n",
            "100%|██████████| 36/36 [00:10<00:00,  3.39it/s]\n",
            "  0%|          | 0/2 [00:00<?, ?it/s]/var/folders/3c/71b8pg6d7j5dht_5h_2n4n_c0000gn/T/ipykernel_14530/3235636334.py:164: UserWarning: Implicit dimension choice for log_softmax has been deprecated. Change the call to include dim=X as an argument.\n",
            "  out = torch.nn.functional.log_softmax(out)\n",
            "100%|██████████| 2/2 [00:00<00:00,  4.32it/s]\n"
          ]
        },
        {
          "name": "stdout",
          "output_type": "stream",
          "text": [
            "\n",
            "epoch 12\n",
            "\ttrain_loss:0.689 valid_loss:0.703\n",
            "\ttrain_acc:70.92% valid_acc:69.16%\n",
            "\ttrain_f1:0.665 valid_f1:0.643\n",
            "\ttrain_confusion_matrix:\n",
            "[[  98  353  438]\n",
            " [  29 2126  264]\n",
            " [  23  233 1044]]\n",
            "\tvalid_confusion_matrix:\n",
            "[[ 21 109  95]\n",
            " [  8 550  51]\n",
            " [ 13  82 232]]\n"
          ]
        },
        {
          "name": "stderr",
          "output_type": "stream",
          "text": [
            "  0%|          | 0/36 [00:00<?, ?it/s]/var/folders/3c/71b8pg6d7j5dht_5h_2n4n_c0000gn/T/ipykernel_14530/3235636334.py:164: UserWarning: Implicit dimension choice for log_softmax has been deprecated. Change the call to include dim=X as an argument.\n",
            "  out = torch.nn.functional.log_softmax(out)\n",
            "100%|██████████| 36/36 [00:10<00:00,  3.35it/s]\n",
            "  0%|          | 0/2 [00:00<?, ?it/s]/var/folders/3c/71b8pg6d7j5dht_5h_2n4n_c0000gn/T/ipykernel_14530/3235636334.py:164: UserWarning: Implicit dimension choice for log_softmax has been deprecated. Change the call to include dim=X as an argument.\n",
            "  out = torch.nn.functional.log_softmax(out)\n",
            "100%|██████████| 2/2 [00:00<00:00,  4.80it/s]\n"
          ]
        },
        {
          "name": "stdout",
          "output_type": "stream",
          "text": [
            "\n",
            "epoch 13\n",
            "\ttrain_loss:0.677 valid_loss:0.689\n",
            "\ttrain_acc:71.85% valid_acc:70.37%\n",
            "\ttrain_f1:0.681 valid_f1:0.669\n",
            "\ttrain_confusion_matrix:\n",
            "[[ 136  358  392]\n",
            " [  40 2147  227]\n",
            " [  30  250 1028]]\n",
            "\tvalid_confusion_matrix:\n",
            "[[ 36  86 103]\n",
            " [ 11 535  63]\n",
            " [ 16  65 246]]\n"
          ]
        },
        {
          "name": "stderr",
          "output_type": "stream",
          "text": [
            "  0%|          | 0/36 [00:00<?, ?it/s]/var/folders/3c/71b8pg6d7j5dht_5h_2n4n_c0000gn/T/ipykernel_14530/3235636334.py:164: UserWarning: Implicit dimension choice for log_softmax has been deprecated. Change the call to include dim=X as an argument.\n",
            "  out = torch.nn.functional.log_softmax(out)\n",
            "100%|██████████| 36/36 [00:10<00:00,  3.50it/s]\n",
            "  0%|          | 0/2 [00:00<?, ?it/s]/var/folders/3c/71b8pg6d7j5dht_5h_2n4n_c0000gn/T/ipykernel_14530/3235636334.py:164: UserWarning: Implicit dimension choice for log_softmax has been deprecated. Change the call to include dim=X as an argument.\n",
            "  out = torch.nn.functional.log_softmax(out)\n",
            "100%|██████████| 2/2 [00:00<00:00,  5.76it/s]\n"
          ]
        },
        {
          "name": "stdout",
          "output_type": "stream",
          "text": [
            "\n",
            "epoch 14\n",
            "\ttrain_loss:0.667 valid_loss:0.679\n",
            "\ttrain_acc:72.20% valid_acc:70.46%\n",
            "\ttrain_f1:0.691 valid_f1:0.669\n",
            "\ttrain_confusion_matrix:\n",
            "[[ 170  336  382]\n",
            " [  58 2138  225]\n",
            " [  61  219 1019]]\n",
            "\tvalid_confusion_matrix:\n",
            "[[ 32  79 114]\n",
            " [ 11 528  70]\n",
            " [ 14  55 258]]\n"
          ]
        },
        {
          "name": "stderr",
          "output_type": "stream",
          "text": [
            "  0%|          | 0/36 [00:00<?, ?it/s]/var/folders/3c/71b8pg6d7j5dht_5h_2n4n_c0000gn/T/ipykernel_14530/3235636334.py:164: UserWarning: Implicit dimension choice for log_softmax has been deprecated. Change the call to include dim=X as an argument.\n",
            "  out = torch.nn.functional.log_softmax(out)\n",
            "100%|██████████| 36/36 [00:10<00:00,  3.39it/s]\n",
            "  0%|          | 0/2 [00:00<?, ?it/s]/var/folders/3c/71b8pg6d7j5dht_5h_2n4n_c0000gn/T/ipykernel_14530/3235636334.py:164: UserWarning: Implicit dimension choice for log_softmax has been deprecated. Change the call to include dim=X as an argument.\n",
            "  out = torch.nn.functional.log_softmax(out)\n",
            "100%|██████████| 2/2 [00:00<00:00,  4.43it/s]\n"
          ]
        },
        {
          "name": "stdout",
          "output_type": "stream",
          "text": [
            "\n",
            "epoch 15\n",
            "\ttrain_loss:0.654 valid_loss:0.682\n",
            "\ttrain_acc:72.74% valid_acc:70.03%\n",
            "\ttrain_f1:0.701 valid_f1:0.680\n",
            "\ttrain_confusion_matrix:\n",
            "[[ 199  316  370]\n",
            " [  67 2127  228]\n",
            " [  62  213 1026]]\n",
            "\tvalid_confusion_matrix:\n",
            "[[ 53  80  92]\n",
            " [ 27 522  60]\n",
            " [ 33  56 238]]\n"
          ]
        },
        {
          "name": "stderr",
          "output_type": "stream",
          "text": [
            "  0%|          | 0/36 [00:00<?, ?it/s]/var/folders/3c/71b8pg6d7j5dht_5h_2n4n_c0000gn/T/ipykernel_14530/3235636334.py:164: UserWarning: Implicit dimension choice for log_softmax has been deprecated. Change the call to include dim=X as an argument.\n",
            "  out = torch.nn.functional.log_softmax(out)\n",
            "100%|██████████| 36/36 [00:11<00:00,  3.12it/s]\n",
            "  0%|          | 0/2 [00:00<?, ?it/s]/var/folders/3c/71b8pg6d7j5dht_5h_2n4n_c0000gn/T/ipykernel_14530/3235636334.py:164: UserWarning: Implicit dimension choice for log_softmax has been deprecated. Change the call to include dim=X as an argument.\n",
            "  out = torch.nn.functional.log_softmax(out)\n",
            "100%|██████████| 2/2 [00:00<00:00,  5.39it/s]\n"
          ]
        },
        {
          "name": "stdout",
          "output_type": "stream",
          "text": [
            "\n",
            "epoch 16\n",
            "\ttrain_loss:0.648 valid_loss:0.688\n",
            "\ttrain_acc:73.09% valid_acc:69.16%\n",
            "\ttrain_f1:0.709 valid_f1:0.667\n",
            "\ttrain_confusion_matrix:\n",
            "[[ 231  310  350]\n",
            " [  88 2118  213]\n",
            " [  85  194 1019]]\n",
            "\tvalid_confusion_matrix:\n",
            "[[ 46  89  90]\n",
            " [ 24 528  57]\n",
            " [ 34  64 229]]\n"
          ]
        },
        {
          "name": "stderr",
          "output_type": "stream",
          "text": [
            "  0%|          | 0/36 [00:00<?, ?it/s]/var/folders/3c/71b8pg6d7j5dht_5h_2n4n_c0000gn/T/ipykernel_14530/3235636334.py:164: UserWarning: Implicit dimension choice for log_softmax has been deprecated. Change the call to include dim=X as an argument.\n",
            "  out = torch.nn.functional.log_softmax(out)\n",
            "100%|██████████| 36/36 [00:10<00:00,  3.32it/s]\n",
            "  0%|          | 0/2 [00:00<?, ?it/s]/var/folders/3c/71b8pg6d7j5dht_5h_2n4n_c0000gn/T/ipykernel_14530/3235636334.py:164: UserWarning: Implicit dimension choice for log_softmax has been deprecated. Change the call to include dim=X as an argument.\n",
            "  out = torch.nn.functional.log_softmax(out)\n",
            "100%|██████████| 2/2 [00:00<00:00,  4.96it/s]\n"
          ]
        },
        {
          "name": "stdout",
          "output_type": "stream",
          "text": [
            "\n",
            "epoch 17\n",
            "\ttrain_loss:0.638 valid_loss:0.678\n",
            "\ttrain_acc:73.81% valid_acc:70.28%\n",
            "\ttrain_f1:0.719 valid_f1:0.681\n",
            "\ttrain_confusion_matrix:\n",
            "[[ 253  299  337]\n",
            " [  95 2128  193]\n",
            " [  93  190 1020]]\n",
            "\tvalid_confusion_matrix:\n",
            "[[ 54  89  82]\n",
            " [ 27 536  46]\n",
            " [ 33  68 226]]\n"
          ]
        },
        {
          "name": "stderr",
          "output_type": "stream",
          "text": [
            "  0%|          | 0/36 [00:00<?, ?it/s]/var/folders/3c/71b8pg6d7j5dht_5h_2n4n_c0000gn/T/ipykernel_14530/3235636334.py:164: UserWarning: Implicit dimension choice for log_softmax has been deprecated. Change the call to include dim=X as an argument.\n",
            "  out = torch.nn.functional.log_softmax(out)\n",
            "100%|██████████| 36/36 [00:10<00:00,  3.37it/s]\n",
            "  0%|          | 0/2 [00:00<?, ?it/s]/var/folders/3c/71b8pg6d7j5dht_5h_2n4n_c0000gn/T/ipykernel_14530/3235636334.py:164: UserWarning: Implicit dimension choice for log_softmax has been deprecated. Change the call to include dim=X as an argument.\n",
            "  out = torch.nn.functional.log_softmax(out)\n",
            "100%|██████████| 2/2 [00:00<00:00,  4.96it/s]\n"
          ]
        },
        {
          "name": "stdout",
          "output_type": "stream",
          "text": [
            "\n",
            "epoch 18\n",
            "\ttrain_loss:0.628 valid_loss:0.669\n",
            "\ttrain_acc:74.46% valid_acc:70.28%\n",
            "\ttrain_f1:0.727 valid_f1:0.681\n",
            "\ttrain_confusion_matrix:\n",
            "[[ 275  298  318]\n",
            " [  94 2144  177]\n",
            " [ 111  179 1012]]\n",
            "\tvalid_confusion_matrix:\n",
            "[[ 53  81  91]\n",
            " [ 28 530  51]\n",
            " [ 30  64 233]]\n"
          ]
        },
        {
          "name": "stderr",
          "output_type": "stream",
          "text": [
            "  0%|          | 0/36 [00:00<?, ?it/s]/var/folders/3c/71b8pg6d7j5dht_5h_2n4n_c0000gn/T/ipykernel_14530/3235636334.py:164: UserWarning: Implicit dimension choice for log_softmax has been deprecated. Change the call to include dim=X as an argument.\n",
            "  out = torch.nn.functional.log_softmax(out)\n",
            "100%|██████████| 36/36 [00:11<00:00,  3.06it/s]\n",
            "  0%|          | 0/2 [00:00<?, ?it/s]/var/folders/3c/71b8pg6d7j5dht_5h_2n4n_c0000gn/T/ipykernel_14530/3235636334.py:164: UserWarning: Implicit dimension choice for log_softmax has been deprecated. Change the call to include dim=X as an argument.\n",
            "  out = torch.nn.functional.log_softmax(out)\n",
            "100%|██████████| 2/2 [00:00<00:00,  4.69it/s]"
          ]
        },
        {
          "name": "stdout",
          "output_type": "stream",
          "text": [
            "\n",
            "epoch 19\n",
            "\ttrain_loss:0.617 valid_loss:0.679\n",
            "\ttrain_acc:74.61% valid_acc:69.68%\n",
            "\ttrain_f1:0.730 valid_f1:0.677\n",
            "\ttrain_confusion_matrix:\n",
            "[[ 282  281  324]\n",
            " [  95 2145  177]\n",
            " [ 119  174 1011]]\n",
            "\tvalid_confusion_matrix:\n",
            "[[ 53  73  99]\n",
            " [ 26 513  70]\n",
            " [ 27  57 243]]\n"
          ]
        },
        {
          "name": "stderr",
          "output_type": "stream",
          "text": [
            "\n"
          ]
        }
      ],
      "source": [
        "device = get_default_device()\n",
        "\n",
        "NUM_EPOCHS = 20\n",
        "TRAIN_BATCH_SIZE = 128\n",
        "VALID_BATCH_SIZE = 1024\n",
        "\n",
        "NUM_POLARITY_TAGS = 3\n",
        "\n",
        "history = {\n",
        "    \"train_loss\": list(),\n",
        "    \"polarity_train_acc\": list(),\n",
        "    \"valid_loss\": list(),\n",
        "    \"polarity_valid_acc\": list(),\n",
        "}\n",
        "\n",
        "best_loss = np.inf\n",
        "\n",
        "dataset = TensorDataset(torch.Tensor(X_l_train), torch.Tensor(X_g_train), torch.Tensor(y_train))\n",
        "print(f\"train samples:{len(dataset)}\")\n",
        "train_loader = DataLoader(dataset, batch_size=TRAIN_BATCH_SIZE, shuffle=True, drop_last=True)\n",
        "\n",
        "dataset_valid = TensorDataset(torch.Tensor(X_l_valid),  torch.Tensor(X_g_valid), torch.Tensor(y_valid))\n",
        "print(f\"valid samples:{len(dataset_valid)}\")\n",
        "test_loader = DataLoader(dataset_valid, batch_size=VALID_BATCH_SIZE)\n",
        "\n",
        "model = to_device(Model(general_embedding,  num_classes=3, alpha = 0.6), device)\n",
        "\n",
        "torch.cuda.empty_cache()\n",
        "\n",
        "parameters = [p for p in model.parameters() if p.requires_grad]\n",
        "optimizer = AdamW(parameters, lr=1e-4)\n",
        "\n",
        "\n",
        "for epoch in range(NUM_EPOCHS):\n",
        "    train_losses = []\n",
        "    train_acc = []\n",
        "    test_loss = []\n",
        "    test_acc = []\n",
        "    train_f1 = []\n",
        "    test_f1 = []\n",
        "\n",
        "    model.train()\n",
        "    preds = []\n",
        "    masks = []\n",
        "    labels = []\n",
        "    for data in tqdm(train_loader, total=len(train_loader)):\n",
        "        for i in range(len(data)):\n",
        "            data[i] = data[i].to(device)\n",
        "        l_feature, g_feature, label = data\n",
        "        l_feature, g_feature, label = l_feature.long(), g_feature.long(), label.long()\n",
        "\n",
        "        optimizer.zero_grad()\n",
        "        pred_logits = model(l_feature, g_feature)\n",
        "        loss = loss_fn(pred_logits, label, 3)\n",
        "        loss.backward()\n",
        "        optimizer.step()\n",
        "\n",
        "        train_losses.append(loss.item())\n",
        "\n",
        "        pred_tags = pred_logits.max(-1)[1]\n",
        "        preds.append(pred_tags)\n",
        "        labels.append(label)\n",
        "\n",
        "    avg_train_acc, avg_train_f1, train_cm = cal_acc(preds,labels)\n",
        "    avg_train_loss = sum(train_losses) / len(train_losses)\n",
        "\n",
        "    preds = []\n",
        "    masks = []\n",
        "    labels = []\n",
        "    with torch.no_grad():\n",
        "        for data in tqdm(test_loader, total=len(test_loader)):\n",
        "            for i in range(len(data)):\n",
        "                data[i] = data[i].to(device)\n",
        "            l_feature, g_feature, label = data\n",
        "            l_feature, g_feature, label = l_feature.long(), g_feature.long(), label.long()\n",
        "            pred_logits = model(l_feature, g_feature)\n",
        "            loss = loss_fn(pred_logits, label, 3)\n",
        "\n",
        "            test_loss.append(loss.item())\n",
        "\n",
        "            pred_tags = pred_logits.max(-1)[1]\n",
        "\n",
        "            preds.append(pred_tags)\n",
        "            labels.append(label)\n",
        "\n",
        "    avg_test_acc, avg_test_f1, test_cm = cal_acc(preds,  labels)\n",
        "    avg_test_loss = sum(test_loss) / len(test_loss)\n",
        "\n",
        "    print(f\"\\nepoch {epoch}\")\n",
        "    print(\"\\ttrain_loss:{:.3f} valid_loss:{:.3f}\".format(avg_train_loss, avg_test_loss))\n",
        "    print(\"\\ttrain_acc:{:.2%} valid_acc:{:.2%}\".format(avg_train_acc, avg_test_acc))\n",
        "    print(\"\\ttrain_f1:{:.3f} valid_f1:{:.3f}\".format(avg_train_f1, avg_test_f1))\n",
        "    print(f\"\\ttrain_confusion_matrix:\\n{train_cm}\")\n",
        "    print(f\"\\tvalid_confusion_matrix:\\n{test_cm}\")\n",
        "\n",
        "    if avg_test_loss < best_loss:\n",
        "        torch.save(model.state_dict(), MODEL_PATH)\n",
        "        best_loss = avg_test_loss    \n",
        "        \n",
        "    history['train_loss'].append(avg_train_loss)\n",
        "    history['polarity_train_acc'].append(avg_train_acc.cpu().numpy())\n",
        "    history['valid_loss'].append(avg_test_loss)\n",
        "    history['polarity_valid_acc'].append(avg_test_acc.cpu().numpy())\n",
        "        \n",
        "    \n"
      ]
    },
    {
      "cell_type": "code",
      "execution_count": 74,
      "metadata": {},
      "outputs": [
        {
          "data": {
            "text/plain": [
              "(0.4, 0.9)"
            ]
          },
          "execution_count": 74,
          "metadata": {},
          "output_type": "execute_result"
        },
        {
          "data": {
            "image/png": "[encoded data removed]",
            "text/plain": [
              "<Figure size 432x288 with 1 Axes>"
            ]
          },
          "metadata": {
            "needs_background": "light"
          },
          "output_type": "display_data"
        }
      ],
      "source": [
        "import matplotlib.pyplot as plt\n",
        "plt.plot(history['polarity_train_acc'], label='train accuracy')\n",
        "plt.plot(history['polarity_valid_acc'], label='validation accuracy')\n",
        "plt.title('Training history')\n",
        "plt.ylabel('Accuracy')\n",
        "plt.xlabel('Epoch')\n",
        "plt.legend()\n",
        "plt.ylim([0.4, 0.9])"
      ]
    },
    {
      "cell_type": "code",
      "execution_count": 75,
      "metadata": {},
      "outputs": [
        {
          "name": "stdout",
          "output_type": "stream",
          "text": [
            "Loading saved model from: model_task2.bin\n"
          ]
        },
        {
          "name": "stderr",
          "output_type": "stream",
          "text": [
            "  0%|          | 0/2 [00:00<?, ?it/s]/var/folders/3c/71b8pg6d7j5dht_5h_2n4n_c0000gn/T/ipykernel_14530/3235636334.py:164: UserWarning: Implicit dimension choice for log_softmax has been deprecated. Change the call to include dim=X as an argument.\n",
            "  out = torch.nn.functional.log_softmax(out)\n",
            "100%|██████████| 2/2 [00:00<00:00,  4.50it/s]"
          ]
        },
        {
          "name": "stdout",
          "output_type": "stream",
          "text": [
            "              precision    recall  f1-score   support\n",
            "\n",
            "     Neutral       0.49      0.23      0.31       225\n",
            "    Positive       0.78      0.87      0.82       609\n",
            "    Negative       0.63      0.72      0.67       327\n",
            "\n",
            "    accuracy                           0.70      1161\n",
            "   macro avg       0.63      0.61      0.60      1161\n",
            "weighted avg       0.68      0.70      0.68      1161\n",
            "\n"
          ]
        },
        {
          "name": "stderr",
          "output_type": "stream",
          "text": [
            "\n"
          ]
        }
      ],
      "source": [
        "def get_classification_report(test_loader, model, model_path=None):\n",
        "    if model_path is not None: # load the saved model\n",
        "        print('Loading saved model from: {}'.format(model_path))\n",
        "        model.load_state_dict(torch.load(model_path))\n",
        "    model = to_device(model, device)   \n",
        "    \n",
        "    model.eval()\n",
        "    final_pred_polarity_tags = []\n",
        "    final_true_polarity_tags = []\n",
        "\n",
        "\n",
        "    with torch.no_grad():\n",
        "        for data in tqdm(test_loader, total=len(test_loader)):\n",
        "            for i in range(len(data)):\n",
        "                data[i] = data[i].to(device)\n",
        "\n",
        "            l_feature, g_feature, label = data\n",
        "            l_feature, g_feature, label = l_feature.long(), g_feature.long(), label.long()\n",
        "            pred_logits = model(l_feature, g_feature)\n",
        "\n",
        "            pred_tags = pred_logits.max(-1)[1]\n",
        "\n",
        "            final_pred_polarity_tags.extend(pred_tags)\n",
        "            final_true_polarity_tags.extend(label)\n",
        "\n",
        "    final_pred_polarity_tags = torch.stack(final_pred_polarity_tags).cpu()\n",
        "    final_true_polarity_tags = torch.stack(final_true_polarity_tags).cpu()\n",
        "        \n",
        "    print(classification_report(final_true_polarity_tags, final_pred_polarity_tags, \n",
        "                                target_names=[\"Neutral\", \"Positive\", \"Negative\"]))\n",
        "    \n",
        "get_classification_report(test_loader, model, model_path=MODEL_PATH)"
      ]
    },
    {
      "cell_type": "markdown",
      "metadata": {},
      "source": [
        "## Alpha = 0.8"
      ]
    },
    {
      "cell_type": "code",
      "execution_count": 76,
      "metadata": {},
      "outputs": [
        {
          "name": "stdout",
          "output_type": "stream",
          "text": [
            "train samples:4641\n",
            "valid samples:1161\n"
          ]
        },
        {
          "name": "stderr",
          "output_type": "stream",
          "text": [
            "  0%|          | 0/36 [00:00<?, ?it/s]/var/folders/3c/71b8pg6d7j5dht_5h_2n4n_c0000gn/T/ipykernel_14530/3235636334.py:164: UserWarning: Implicit dimension choice for log_softmax has been deprecated. Change the call to include dim=X as an argument.\n",
            "  out = torch.nn.functional.log_softmax(out)\n",
            "100%|██████████| 36/36 [00:11<00:00,  3.08it/s]\n",
            "  0%|          | 0/2 [00:00<?, ?it/s]/var/folders/3c/71b8pg6d7j5dht_5h_2n4n_c0000gn/T/ipykernel_14530/3235636334.py:164: UserWarning: Implicit dimension choice for log_softmax has been deprecated. Change the call to include dim=X as an argument.\n",
            "  out = torch.nn.functional.log_softmax(out)\n",
            "100%|██████████| 2/2 [00:00<00:00,  4.03it/s]\n"
          ]
        },
        {
          "name": "stdout",
          "output_type": "stream",
          "text": [
            "\n",
            "epoch 0\n",
            "\ttrain_loss:1.064 valid_loss:1.026\n",
            "\ttrain_acc:49.57% valid_acc:52.54%\n",
            "\ttrain_f1:0.428 valid_f1:0.364\n",
            "\ttrain_confusion_matrix:\n",
            "[[   0  644  243]\n",
            " [   1 1903  516]\n",
            " [   0  920  381]]\n",
            "\tvalid_confusion_matrix:\n",
            "[[  0 225   0]\n",
            " [  0 608   1]\n",
            " [  0 325   2]]\n"
          ]
        },
        {
          "name": "stderr",
          "output_type": "stream",
          "text": [
            "  0%|          | 0/36 [00:00<?, ?it/s]/var/folders/3c/71b8pg6d7j5dht_5h_2n4n_c0000gn/T/ipykernel_14530/3235636334.py:164: UserWarning: Implicit dimension choice for log_softmax has been deprecated. Change the call to include dim=X as an argument.\n",
            "  out = torch.nn.functional.log_softmax(out)\n",
            "100%|██████████| 36/36 [00:10<00:00,  3.45it/s]\n",
            "  0%|          | 0/2 [00:00<?, ?it/s]/var/folders/3c/71b8pg6d7j5dht_5h_2n4n_c0000gn/T/ipykernel_14530/3235636334.py:164: UserWarning: Implicit dimension choice for log_softmax has been deprecated. Change the call to include dim=X as an argument.\n",
            "  out = torch.nn.functional.log_softmax(out)\n",
            "100%|██████████| 2/2 [00:00<00:00,  4.73it/s]\n"
          ]
        },
        {
          "name": "stdout",
          "output_type": "stream",
          "text": [
            "\n",
            "epoch 1\n",
            "\ttrain_loss:1.001 valid_loss:0.964\n",
            "\ttrain_acc:52.58% valid_acc:52.63%\n",
            "\ttrain_f1:0.364 valid_f1:0.365\n",
            "\ttrain_confusion_matrix:\n",
            "[[   0  891    0]\n",
            " [   0 2417    2]\n",
            " [   0 1292    6]]\n",
            "\tvalid_confusion_matrix:\n",
            "[[  0 225   0]\n",
            " [  0 609   0]\n",
            " [  0 325   2]]\n"
          ]
        },
        {
          "name": "stderr",
          "output_type": "stream",
          "text": [
            "  0%|          | 0/36 [00:00<?, ?it/s]/var/folders/3c/71b8pg6d7j5dht_5h_2n4n_c0000gn/T/ipykernel_14530/3235636334.py:164: UserWarning: Implicit dimension choice for log_softmax has been deprecated. Change the call to include dim=X as an argument.\n",
            "  out = torch.nn.functional.log_softmax(out)\n",
            "100%|██████████| 36/36 [00:14<00:00,  2.44it/s]\n",
            "  0%|          | 0/2 [00:00<?, ?it/s]/var/folders/3c/71b8pg6d7j5dht_5h_2n4n_c0000gn/T/ipykernel_14530/3235636334.py:164: UserWarning: Implicit dimension choice for log_softmax has been deprecated. Change the call to include dim=X as an argument.\n",
            "  out = torch.nn.functional.log_softmax(out)\n",
            "100%|██████████| 2/2 [00:00<00:00,  2.39it/s]\n"
          ]
        },
        {
          "name": "stdout",
          "output_type": "stream",
          "text": [
            "\n",
            "epoch 2\n",
            "\ttrain_loss:0.951 valid_loss:0.904\n",
            "\ttrain_acc:52.95% valid_acc:53.57%\n",
            "\ttrain_f1:0.374 valid_f1:0.391\n",
            "\ttrain_confusion_matrix:\n",
            "[[   0  887    2]\n",
            " [   0 2411    4]\n",
            " [   0 1275   29]]\n",
            "\tvalid_confusion_matrix:\n",
            "[[  0 217   8]\n",
            " [  0 605   4]\n",
            " [  0 310  17]]\n"
          ]
        },
        {
          "name": "stderr",
          "output_type": "stream",
          "text": [
            "  0%|          | 0/36 [00:00<?, ?it/s]/var/folders/3c/71b8pg6d7j5dht_5h_2n4n_c0000gn/T/ipykernel_14530/3235636334.py:164: UserWarning: Implicit dimension choice for log_softmax has been deprecated. Change the call to include dim=X as an argument.\n",
            "  out = torch.nn.functional.log_softmax(out)\n",
            "100%|██████████| 36/36 [00:22<00:00,  1.63it/s]\n",
            "  0%|          | 0/2 [00:00<?, ?it/s]/var/folders/3c/71b8pg6d7j5dht_5h_2n4n_c0000gn/T/ipykernel_14530/3235636334.py:164: UserWarning: Implicit dimension choice for log_softmax has been deprecated. Change the call to include dim=X as an argument.\n",
            "  out = torch.nn.functional.log_softmax(out)\n",
            "100%|██████████| 2/2 [00:00<00:00,  2.67it/s]\n"
          ]
        },
        {
          "name": "stdout",
          "output_type": "stream",
          "text": [
            "\n",
            "epoch 3\n",
            "\ttrain_loss:0.880 valid_loss:0.839\n",
            "\ttrain_acc:60.26% valid_acc:63.39%\n",
            "\ttrain_f1:0.519 valid_f1:0.561\n",
            "\ttrain_confusion_matrix:\n",
            "[[   0  663  226]\n",
            " [   0 2267  150]\n",
            " [   0  792  510]]\n",
            "\tvalid_confusion_matrix:\n",
            "[[  0 128  97]\n",
            " [  0 550  59]\n",
            " [  0 141 186]]\n"
          ]
        },
        {
          "name": "stderr",
          "output_type": "stream",
          "text": [
            "  0%|          | 0/36 [00:00<?, ?it/s]/var/folders/3c/71b8pg6d7j5dht_5h_2n4n_c0000gn/T/ipykernel_14530/3235636334.py:164: UserWarning: Implicit dimension choice for log_softmax has been deprecated. Change the call to include dim=X as an argument.\n",
            "  out = torch.nn.functional.log_softmax(out)\n",
            "100%|██████████| 36/36 [00:20<00:00,  1.76it/s]\n",
            "  0%|          | 0/2 [00:00<?, ?it/s]/var/folders/3c/71b8pg6d7j5dht_5h_2n4n_c0000gn/T/ipykernel_14530/3235636334.py:164: UserWarning: Implicit dimension choice for log_softmax has been deprecated. Change the call to include dim=X as an argument.\n",
            "  out = torch.nn.functional.log_softmax(out)\n",
            "100%|██████████| 2/2 [00:00<00:00,  2.95it/s]\n"
          ]
        },
        {
          "name": "stdout",
          "output_type": "stream",
          "text": [
            "\n",
            "epoch 4\n",
            "\ttrain_loss:0.824 valid_loss:0.781\n",
            "\ttrain_acc:63.98% valid_acc:65.55%\n",
            "\ttrain_f1:0.572 valid_f1:0.593\n",
            "\ttrain_confusion_matrix:\n",
            "[[   0  450  439]\n",
            " [   0 2087  331]\n",
            " [   0  440  861]]\n",
            "\tvalid_confusion_matrix:\n",
            "[[  0  75 150]\n",
            " [  0 505 104]\n",
            " [  0  71 256]]\n"
          ]
        },
        {
          "name": "stderr",
          "output_type": "stream",
          "text": [
            "  0%|          | 0/36 [00:00<?, ?it/s]/var/folders/3c/71b8pg6d7j5dht_5h_2n4n_c0000gn/T/ipykernel_14530/3235636334.py:164: UserWarning: Implicit dimension choice for log_softmax has been deprecated. Change the call to include dim=X as an argument.\n",
            "  out = torch.nn.functional.log_softmax(out)\n",
            "100%|██████████| 36/36 [00:21<00:00,  1.70it/s]\n",
            "  0%|          | 0/2 [00:00<?, ?it/s]/var/folders/3c/71b8pg6d7j5dht_5h_2n4n_c0000gn/T/ipykernel_14530/3235636334.py:164: UserWarning: Implicit dimension choice for log_softmax has been deprecated. Change the call to include dim=X as an argument.\n",
            "  out = torch.nn.functional.log_softmax(out)\n",
            "100%|██████████| 2/2 [00:00<00:00,  2.44it/s]\n"
          ]
        },
        {
          "name": "stdout",
          "output_type": "stream",
          "text": [
            "\n",
            "epoch 5\n",
            "\ttrain_loss:0.788 valid_loss:0.738\n",
            "\ttrain_acc:65.76% valid_acc:67.53%\n",
            "\ttrain_f1:0.592 valid_f1:0.605\n",
            "\ttrain_confusion_matrix:\n",
            "[[   0  370  518]\n",
            " [   0 2033  386]\n",
            " [   0  304  997]]\n",
            "\tvalid_confusion_matrix:\n",
            "[[  0  99 126]\n",
            " [  0 539  70]\n",
            " [  0  82 245]]\n"
          ]
        },
        {
          "name": "stderr",
          "output_type": "stream",
          "text": [
            "  0%|          | 0/36 [00:00<?, ?it/s]/var/folders/3c/71b8pg6d7j5dht_5h_2n4n_c0000gn/T/ipykernel_14530/3235636334.py:164: UserWarning: Implicit dimension choice for log_softmax has been deprecated. Change the call to include dim=X as an argument.\n",
            "  out = torch.nn.functional.log_softmax(out)\n",
            "100%|██████████| 36/36 [00:21<00:00,  1.64it/s]\n",
            "  0%|          | 0/2 [00:00<?, ?it/s]/var/folders/3c/71b8pg6d7j5dht_5h_2n4n_c0000gn/T/ipykernel_14530/3235636334.py:164: UserWarning: Implicit dimension choice for log_softmax has been deprecated. Change the call to include dim=X as an argument.\n",
            "  out = torch.nn.functional.log_softmax(out)\n",
            "100%|██████████| 2/2 [00:00<00:00,  2.68it/s]\n"
          ]
        },
        {
          "name": "stdout",
          "output_type": "stream",
          "text": [
            "\n",
            "epoch 6\n",
            "\ttrain_loss:0.765 valid_loss:0.723\n",
            "\ttrain_acc:66.80% valid_acc:67.79%\n",
            "\ttrain_f1:0.601 valid_f1:0.609\n",
            "\ttrain_confusion_matrix:\n",
            "[[   2  396  492]\n",
            " [   0 2073  342]\n",
            " [   0  300 1003]]\n",
            "\tvalid_confusion_matrix:\n",
            "[[  0  94 131]\n",
            " [  0 531  78]\n",
            " [  0  71 256]]\n"
          ]
        },
        {
          "name": "stderr",
          "output_type": "stream",
          "text": [
            "  0%|          | 0/36 [00:00<?, ?it/s]/var/folders/3c/71b8pg6d7j5dht_5h_2n4n_c0000gn/T/ipykernel_14530/3235636334.py:164: UserWarning: Implicit dimension choice for log_softmax has been deprecated. Change the call to include dim=X as an argument.\n",
            "  out = torch.nn.functional.log_softmax(out)\n",
            "100%|██████████| 36/36 [00:20<00:00,  1.72it/s]\n",
            "  0%|          | 0/2 [00:00<?, ?it/s]/var/folders/3c/71b8pg6d7j5dht_5h_2n4n_c0000gn/T/ipykernel_14530/3235636334.py:164: UserWarning: Implicit dimension choice for log_softmax has been deprecated. Change the call to include dim=X as an argument.\n",
            "  out = torch.nn.functional.log_softmax(out)\n",
            "100%|██████████| 2/2 [00:00<00:00,  2.98it/s]\n"
          ]
        },
        {
          "name": "stdout",
          "output_type": "stream",
          "text": [
            "\n",
            "epoch 7\n",
            "\ttrain_loss:0.749 valid_loss:0.713\n",
            "\ttrain_acc:67.71% valid_acc:68.56%\n",
            "\ttrain_f1:0.609 valid_f1:0.617\n",
            "\ttrain_confusion_matrix:\n",
            "[[   4  406  476]\n",
            " [   0 2106  312]\n",
            " [   0  294 1010]]\n",
            "\tvalid_confusion_matrix:\n",
            "[[  1  93 131]\n",
            " [  0 538  71]\n",
            " [  0  70 257]]\n"
          ]
        },
        {
          "name": "stderr",
          "output_type": "stream",
          "text": [
            "  0%|          | 0/36 [00:00<?, ?it/s]/var/folders/3c/71b8pg6d7j5dht_5h_2n4n_c0000gn/T/ipykernel_14530/3235636334.py:164: UserWarning: Implicit dimension choice for log_softmax has been deprecated. Change the call to include dim=X as an argument.\n",
            "  out = torch.nn.functional.log_softmax(out)\n",
            "100%|██████████| 36/36 [00:20<00:00,  1.76it/s]\n",
            "  0%|          | 0/2 [00:00<?, ?it/s]/var/folders/3c/71b8pg6d7j5dht_5h_2n4n_c0000gn/T/ipykernel_14530/3235636334.py:164: UserWarning: Implicit dimension choice for log_softmax has been deprecated. Change the call to include dim=X as an argument.\n",
            "  out = torch.nn.functional.log_softmax(out)\n",
            "100%|██████████| 2/2 [00:00<00:00,  2.75it/s]\n"
          ]
        },
        {
          "name": "stdout",
          "output_type": "stream",
          "text": [
            "\n",
            "epoch 8\n",
            "\ttrain_loss:0.732 valid_loss:0.700\n",
            "\ttrain_acc:68.40% valid_acc:69.08%\n",
            "\ttrain_f1:0.619 valid_f1:0.627\n",
            "\ttrain_confusion_matrix:\n",
            "[[  13  390  482]\n",
            " [   2 2106  312]\n",
            " [   1  269 1033]]\n",
            "\tvalid_confusion_matrix:\n",
            "[[  5  88 132]\n",
            " [  0 532  77]\n",
            " [  1  61 265]]\n"
          ]
        },
        {
          "name": "stderr",
          "output_type": "stream",
          "text": [
            "  0%|          | 0/36 [00:00<?, ?it/s]/var/folders/3c/71b8pg6d7j5dht_5h_2n4n_c0000gn/T/ipykernel_14530/3235636334.py:164: UserWarning: Implicit dimension choice for log_softmax has been deprecated. Change the call to include dim=X as an argument.\n",
            "  out = torch.nn.functional.log_softmax(out)\n",
            "100%|██████████| 36/36 [00:20<00:00,  1.74it/s]\n",
            "  0%|          | 0/2 [00:00<?, ?it/s]/var/folders/3c/71b8pg6d7j5dht_5h_2n4n_c0000gn/T/ipykernel_14530/3235636334.py:164: UserWarning: Implicit dimension choice for log_softmax has been deprecated. Change the call to include dim=X as an argument.\n",
            "  out = torch.nn.functional.log_softmax(out)\n",
            "100%|██████████| 2/2 [00:00<00:00,  2.99it/s]\n"
          ]
        },
        {
          "name": "stdout",
          "output_type": "stream",
          "text": [
            "\n",
            "epoch 9\n",
            "\ttrain_loss:0.721 valid_loss:0.696\n",
            "\ttrain_acc:69.08% valid_acc:69.51%\n",
            "\ttrain_f1:0.629 valid_f1:0.635\n",
            "\ttrain_confusion_matrix:\n",
            "[[  30  386  476]\n",
            " [   1 2118  291]\n",
            " [   3  268 1035]]\n",
            "\tvalid_confusion_matrix:\n",
            "[[ 12 109 104]\n",
            " [  0 549  60]\n",
            " [  2  79 246]]\n"
          ]
        },
        {
          "name": "stderr",
          "output_type": "stream",
          "text": [
            "  0%|          | 0/36 [00:00<?, ?it/s]/var/folders/3c/71b8pg6d7j5dht_5h_2n4n_c0000gn/T/ipykernel_14530/3235636334.py:164: UserWarning: Implicit dimension choice for log_softmax has been deprecated. Change the call to include dim=X as an argument.\n",
            "  out = torch.nn.functional.log_softmax(out)\n",
            "100%|██████████| 36/36 [00:20<00:00,  1.75it/s]\n",
            "  0%|          | 0/2 [00:00<?, ?it/s]/var/folders/3c/71b8pg6d7j5dht_5h_2n4n_c0000gn/T/ipykernel_14530/3235636334.py:164: UserWarning: Implicit dimension choice for log_softmax has been deprecated. Change the call to include dim=X as an argument.\n",
            "  out = torch.nn.functional.log_softmax(out)\n",
            "100%|██████████| 2/2 [00:00<00:00,  2.24it/s]\n"
          ]
        },
        {
          "name": "stdout",
          "output_type": "stream",
          "text": [
            "\n",
            "epoch 10\n",
            "\ttrain_loss:0.709 valid_loss:0.694\n",
            "\ttrain_acc:70.03% valid_acc:69.51%\n",
            "\ttrain_f1:0.644 valid_f1:0.638\n",
            "\ttrain_confusion_matrix:\n",
            "[[  51  390  447]\n",
            " [  11 2160  251]\n",
            " [  15  267 1016]]\n",
            "\tvalid_confusion_matrix:\n",
            "[[ 14 109 102]\n",
            " [  1 552  56]\n",
            " [  4  82 241]]\n"
          ]
        },
        {
          "name": "stderr",
          "output_type": "stream",
          "text": [
            "  0%|          | 0/36 [00:00<?, ?it/s]/var/folders/3c/71b8pg6d7j5dht_5h_2n4n_c0000gn/T/ipykernel_14530/3235636334.py:164: UserWarning: Implicit dimension choice for log_softmax has been deprecated. Change the call to include dim=X as an argument.\n",
            "  out = torch.nn.functional.log_softmax(out)\n",
            "100%|██████████| 36/36 [00:20<00:00,  1.75it/s]\n",
            "  0%|          | 0/2 [00:00<?, ?it/s]/var/folders/3c/71b8pg6d7j5dht_5h_2n4n_c0000gn/T/ipykernel_14530/3235636334.py:164: UserWarning: Implicit dimension choice for log_softmax has been deprecated. Change the call to include dim=X as an argument.\n",
            "  out = torch.nn.functional.log_softmax(out)\n",
            "100%|██████████| 2/2 [00:00<00:00,  2.61it/s]\n"
          ]
        },
        {
          "name": "stdout",
          "output_type": "stream",
          "text": [
            "\n",
            "epoch 11\n",
            "\ttrain_loss:0.702 valid_loss:0.682\n",
            "\ttrain_acc:70.23% valid_acc:70.80%\n",
            "\ttrain_f1:0.652 valid_f1:0.664\n",
            "\ttrain_confusion_matrix:\n",
            "[[  73  389  426]\n",
            " [  19 2140  259]\n",
            " [  30  249 1023]]\n",
            "\tvalid_confusion_matrix:\n",
            "[[ 24  80 121]\n",
            " [  5 528  76]\n",
            " [  7  50 270]]\n"
          ]
        },
        {
          "name": "stderr",
          "output_type": "stream",
          "text": [
            "  0%|          | 0/36 [00:00<?, ?it/s]/var/folders/3c/71b8pg6d7j5dht_5h_2n4n_c0000gn/T/ipykernel_14530/3235636334.py:164: UserWarning: Implicit dimension choice for log_softmax has been deprecated. Change the call to include dim=X as an argument.\n",
            "  out = torch.nn.functional.log_softmax(out)\n",
            "100%|██████████| 36/36 [00:20<00:00,  1.74it/s]\n",
            "  0%|          | 0/2 [00:00<?, ?it/s]/var/folders/3c/71b8pg6d7j5dht_5h_2n4n_c0000gn/T/ipykernel_14530/3235636334.py:164: UserWarning: Implicit dimension choice for log_softmax has been deprecated. Change the call to include dim=X as an argument.\n",
            "  out = torch.nn.functional.log_softmax(out)\n",
            "100%|██████████| 2/2 [00:00<00:00,  2.55it/s]\n"
          ]
        },
        {
          "name": "stdout",
          "output_type": "stream",
          "text": [
            "\n",
            "epoch 12\n",
            "\ttrain_loss:0.687 valid_loss:0.678\n",
            "\ttrain_acc:70.99% valid_acc:70.63%\n",
            "\ttrain_f1:0.666 valid_f1:0.663\n",
            "\ttrain_confusion_matrix:\n",
            "[[  98  366  425]\n",
            " [  31 2131  256]\n",
            " [  35  224 1042]]\n",
            "\tvalid_confusion_matrix:\n",
            "[[ 25  84 116]\n",
            " [  7 527  75]\n",
            " [  7  52 268]]\n"
          ]
        },
        {
          "name": "stderr",
          "output_type": "stream",
          "text": [
            "  0%|          | 0/36 [00:00<?, ?it/s]/var/folders/3c/71b8pg6d7j5dht_5h_2n4n_c0000gn/T/ipykernel_14530/3235636334.py:164: UserWarning: Implicit dimension choice for log_softmax has been deprecated. Change the call to include dim=X as an argument.\n",
            "  out = torch.nn.functional.log_softmax(out)\n",
            "100%|██████████| 36/36 [00:11<00:00,  3.04it/s]\n",
            "  0%|          | 0/2 [00:00<?, ?it/s]/var/folders/3c/71b8pg6d7j5dht_5h_2n4n_c0000gn/T/ipykernel_14530/3235636334.py:164: UserWarning: Implicit dimension choice for log_softmax has been deprecated. Change the call to include dim=X as an argument.\n",
            "  out = torch.nn.functional.log_softmax(out)\n",
            "100%|██████████| 2/2 [00:00<00:00,  5.19it/s]\n"
          ]
        },
        {
          "name": "stdout",
          "output_type": "stream",
          "text": [
            "\n",
            "epoch 13\n",
            "\ttrain_loss:0.679 valid_loss:0.667\n",
            "\ttrain_acc:71.88% valid_acc:70.89%\n",
            "\ttrain_f1:0.682 valid_f1:0.672\n",
            "\ttrain_confusion_matrix:\n",
            "[[ 139  353  399]\n",
            " [  45 2142  233]\n",
            " [  48  218 1031]]\n",
            "\tvalid_confusion_matrix:\n",
            "[[ 33  84 108]\n",
            " [ 13 534  62]\n",
            " [ 12  59 256]]\n"
          ]
        },
        {
          "name": "stderr",
          "output_type": "stream",
          "text": [
            "  0%|          | 0/36 [00:00<?, ?it/s]/var/folders/3c/71b8pg6d7j5dht_5h_2n4n_c0000gn/T/ipykernel_14530/3235636334.py:164: UserWarning: Implicit dimension choice for log_softmax has been deprecated. Change the call to include dim=X as an argument.\n",
            "  out = torch.nn.functional.log_softmax(out)\n",
            "100%|██████████| 36/36 [00:10<00:00,  3.54it/s]\n",
            "  0%|          | 0/2 [00:00<?, ?it/s]/var/folders/3c/71b8pg6d7j5dht_5h_2n4n_c0000gn/T/ipykernel_14530/3235636334.py:164: UserWarning: Implicit dimension choice for log_softmax has been deprecated. Change the call to include dim=X as an argument.\n",
            "  out = torch.nn.functional.log_softmax(out)\n",
            "100%|██████████| 2/2 [00:00<00:00,  5.90it/s]\n"
          ]
        },
        {
          "name": "stdout",
          "output_type": "stream",
          "text": [
            "\n",
            "epoch 14\n",
            "\ttrain_loss:0.668 valid_loss:0.663\n",
            "\ttrain_acc:72.70% valid_acc:70.89%\n",
            "\ttrain_f1:0.695 valid_f1:0.675\n",
            "\ttrain_confusion_matrix:\n",
            "[[ 168  338  385]\n",
            " [  52 2145  217]\n",
            " [  60  206 1037]]\n",
            "\tvalid_confusion_matrix:\n",
            "[[ 35  85 105]\n",
            " [ 14 533  62]\n",
            " [ 18  54 255]]\n"
          ]
        },
        {
          "name": "stderr",
          "output_type": "stream",
          "text": [
            "  0%|          | 0/36 [00:00<?, ?it/s]/var/folders/3c/71b8pg6d7j5dht_5h_2n4n_c0000gn/T/ipykernel_14530/3235636334.py:164: UserWarning: Implicit dimension choice for log_softmax has been deprecated. Change the call to include dim=X as an argument.\n",
            "  out = torch.nn.functional.log_softmax(out)\n",
            "100%|██████████| 36/36 [00:11<00:00,  3.19it/s]\n",
            "  0%|          | 0/2 [00:00<?, ?it/s]/var/folders/3c/71b8pg6d7j5dht_5h_2n4n_c0000gn/T/ipykernel_14530/3235636334.py:164: UserWarning: Implicit dimension choice for log_softmax has been deprecated. Change the call to include dim=X as an argument.\n",
            "  out = torch.nn.functional.log_softmax(out)\n",
            "100%|██████████| 2/2 [00:00<00:00,  5.19it/s]\n"
          ]
        },
        {
          "name": "stdout",
          "output_type": "stream",
          "text": [
            "\n",
            "epoch 15\n",
            "\ttrain_loss:0.658 valid_loss:0.666\n",
            "\ttrain_acc:72.55% valid_acc:70.71%\n",
            "\ttrain_f1:0.695 valid_f1:0.679\n",
            "\ttrain_confusion_matrix:\n",
            "[[ 169  341  376]\n",
            " [  67 2145  205]\n",
            " [  65  211 1029]]\n",
            "\tvalid_confusion_matrix:\n",
            "[[ 42  78 105]\n",
            " [ 17 526  66]\n",
            " [ 19  55 253]]\n"
          ]
        },
        {
          "name": "stderr",
          "output_type": "stream",
          "text": [
            "  0%|          | 0/36 [00:00<?, ?it/s]/var/folders/3c/71b8pg6d7j5dht_5h_2n4n_c0000gn/T/ipykernel_14530/3235636334.py:164: UserWarning: Implicit dimension choice for log_softmax has been deprecated. Change the call to include dim=X as an argument.\n",
            "  out = torch.nn.functional.log_softmax(out)\n",
            "100%|██████████| 36/36 [00:10<00:00,  3.44it/s]\n",
            "  0%|          | 0/2 [00:00<?, ?it/s]/var/folders/3c/71b8pg6d7j5dht_5h_2n4n_c0000gn/T/ipykernel_14530/3235636334.py:164: UserWarning: Implicit dimension choice for log_softmax has been deprecated. Change the call to include dim=X as an argument.\n",
            "  out = torch.nn.functional.log_softmax(out)\n",
            "100%|██████████| 2/2 [00:00<00:00,  5.23it/s]\n"
          ]
        },
        {
          "name": "stdout",
          "output_type": "stream",
          "text": [
            "\n",
            "epoch 16\n",
            "\ttrain_loss:0.649 valid_loss:0.662\n",
            "\ttrain_acc:73.07% valid_acc:71.06%\n",
            "\ttrain_f1:0.706 valid_f1:0.679\n",
            "\ttrain_confusion_matrix:\n",
            "[[ 211  323  356]\n",
            " [  79 2136  201]\n",
            " [  85  197 1020]]\n",
            "\tvalid_confusion_matrix:\n",
            "[[ 38  74 113]\n",
            " [ 14 524  71]\n",
            " [ 14  50 263]]\n"
          ]
        },
        {
          "name": "stderr",
          "output_type": "stream",
          "text": [
            "  0%|          | 0/36 [00:00<?, ?it/s]/var/folders/3c/71b8pg6d7j5dht_5h_2n4n_c0000gn/T/ipykernel_14530/3235636334.py:164: UserWarning: Implicit dimension choice for log_softmax has been deprecated. Change the call to include dim=X as an argument.\n",
            "  out = torch.nn.functional.log_softmax(out)\n",
            "100%|██████████| 36/36 [00:10<00:00,  3.44it/s]\n",
            "  0%|          | 0/2 [00:00<?, ?it/s]/var/folders/3c/71b8pg6d7j5dht_5h_2n4n_c0000gn/T/ipykernel_14530/3235636334.py:164: UserWarning: Implicit dimension choice for log_softmax has been deprecated. Change the call to include dim=X as an argument.\n",
            "  out = torch.nn.functional.log_softmax(out)\n",
            "100%|██████████| 2/2 [00:00<00:00,  5.94it/s]\n"
          ]
        },
        {
          "name": "stdout",
          "output_type": "stream",
          "text": [
            "\n",
            "epoch 17\n",
            "\ttrain_loss:0.643 valid_loss:0.657\n",
            "\ttrain_acc:73.48% valid_acc:70.97%\n",
            "\ttrain_f1:0.713 valid_f1:0.679\n",
            "\ttrain_confusion_matrix:\n",
            "[[ 228  314  348]\n",
            " [  85 2127  202]\n",
            " [  88  185 1031]]\n",
            "\tvalid_confusion_matrix:\n",
            "[[ 39  80 106]\n",
            " [ 16 530  63]\n",
            " [ 18  54 255]]\n"
          ]
        },
        {
          "name": "stderr",
          "output_type": "stream",
          "text": [
            "  0%|          | 0/36 [00:00<?, ?it/s]/var/folders/3c/71b8pg6d7j5dht_5h_2n4n_c0000gn/T/ipykernel_14530/3235636334.py:164: UserWarning: Implicit dimension choice for log_softmax has been deprecated. Change the call to include dim=X as an argument.\n",
            "  out = torch.nn.functional.log_softmax(out)\n",
            "100%|██████████| 36/36 [00:11<00:00,  3.15it/s]\n",
            "  0%|          | 0/2 [00:00<?, ?it/s]/var/folders/3c/71b8pg6d7j5dht_5h_2n4n_c0000gn/T/ipykernel_14530/3235636334.py:164: UserWarning: Implicit dimension choice for log_softmax has been deprecated. Change the call to include dim=X as an argument.\n",
            "  out = torch.nn.functional.log_softmax(out)\n",
            "100%|██████████| 2/2 [00:00<00:00,  5.27it/s]\n"
          ]
        },
        {
          "name": "stdout",
          "output_type": "stream",
          "text": [
            "\n",
            "epoch 18\n",
            "\ttrain_loss:0.633 valid_loss:0.651\n",
            "\ttrain_acc:74.18% valid_acc:70.03%\n",
            "\ttrain_f1:0.721 valid_f1:0.675\n",
            "\ttrain_confusion_matrix:\n",
            "[[ 241  313  332]\n",
            " [  85 2134  204]\n",
            " [  87  169 1043]]\n",
            "\tvalid_confusion_matrix:\n",
            "[[ 44  73 108]\n",
            " [ 25 520  64]\n",
            " [ 24  54 249]]\n"
          ]
        },
        {
          "name": "stderr",
          "output_type": "stream",
          "text": [
            "  0%|          | 0/36 [00:00<?, ?it/s]/var/folders/3c/71b8pg6d7j5dht_5h_2n4n_c0000gn/T/ipykernel_14530/3235636334.py:164: UserWarning: Implicit dimension choice for log_softmax has been deprecated. Change the call to include dim=X as an argument.\n",
            "  out = torch.nn.functional.log_softmax(out)\n",
            "100%|██████████| 36/36 [00:10<00:00,  3.53it/s]\n",
            "  0%|          | 0/2 [00:00<?, ?it/s]/var/folders/3c/71b8pg6d7j5dht_5h_2n4n_c0000gn/T/ipykernel_14530/3235636334.py:164: UserWarning: Implicit dimension choice for log_softmax has been deprecated. Change the call to include dim=X as an argument.\n",
            "  out = torch.nn.functional.log_softmax(out)\n",
            "100%|██████████| 2/2 [00:00<00:00,  5.96it/s]"
          ]
        },
        {
          "name": "stdout",
          "output_type": "stream",
          "text": [
            "\n",
            "epoch 19\n",
            "\ttrain_loss:0.624 valid_loss:0.646\n",
            "\ttrain_acc:74.52% valid_acc:71.15%\n",
            "\ttrain_f1:0.726 valid_f1:0.685\n",
            "\ttrain_confusion_matrix:\n",
            "[[ 251  301  335]\n",
            " [  82 2147  187]\n",
            " [ 101  168 1036]]\n",
            "\tvalid_confusion_matrix:\n",
            "[[ 45  77 103]\n",
            " [ 16 530  63]\n",
            " [ 23  53 251]]\n"
          ]
        },
        {
          "name": "stderr",
          "output_type": "stream",
          "text": [
            "\n"
          ]
        }
      ],
      "source": [
        "device = get_default_device()\n",
        "\n",
        "NUM_EPOCHS = 20\n",
        "TRAIN_BATCH_SIZE = 128\n",
        "VALID_BATCH_SIZE = 1024\n",
        "\n",
        "NUM_POLARITY_TAGS = 3\n",
        "\n",
        "history = {\n",
        "    \"train_loss\": list(),\n",
        "    \"polarity_train_acc\": list(),\n",
        "    \"valid_loss\": list(),\n",
        "    \"polarity_valid_acc\": list(),\n",
        "}\n",
        "\n",
        "best_loss = np.inf\n",
        "\n",
        "dataset = TensorDataset(torch.Tensor(X_l_train), torch.Tensor(X_g_train), torch.Tensor(y_train))\n",
        "print(f\"train samples:{len(dataset)}\")\n",
        "train_loader = DataLoader(dataset, batch_size=TRAIN_BATCH_SIZE, shuffle=True, drop_last=True)\n",
        "\n",
        "dataset_valid = TensorDataset(torch.Tensor(X_l_valid),  torch.Tensor(X_g_valid), torch.Tensor(y_valid))\n",
        "print(f\"valid samples:{len(dataset_valid)}\")\n",
        "test_loader = DataLoader(dataset_valid, batch_size=VALID_BATCH_SIZE)\n",
        "\n",
        "model = to_device(Model(general_embedding,  num_classes=3, alpha = 0.8), device)\n",
        "\n",
        "torch.cuda.empty_cache()\n",
        "\n",
        "parameters = [p for p in model.parameters() if p.requires_grad]\n",
        "optimizer = AdamW(parameters, lr=1e-4)\n",
        "\n",
        "\n",
        "for epoch in range(NUM_EPOCHS):\n",
        "    train_losses = []\n",
        "    train_acc = []\n",
        "    test_loss = []\n",
        "    test_acc = []\n",
        "    train_f1 = []\n",
        "    test_f1 = []\n",
        "\n",
        "    model.train()\n",
        "    preds = []\n",
        "    masks = []\n",
        "    labels = []\n",
        "    for data in tqdm(train_loader, total=len(train_loader)):\n",
        "        for i in range(len(data)):\n",
        "            data[i] = data[i].to(device)\n",
        "        l_feature, g_feature, label = data\n",
        "        l_feature, g_feature, label = l_feature.long(), g_feature.long(), label.long()\n",
        "\n",
        "        optimizer.zero_grad()\n",
        "        pred_logits = model(l_feature, g_feature)\n",
        "        loss = loss_fn(pred_logits, label, 3)\n",
        "        loss.backward()\n",
        "        optimizer.step()\n",
        "\n",
        "        train_losses.append(loss.item())\n",
        "\n",
        "        pred_tags = pred_logits.max(-1)[1]\n",
        "        preds.append(pred_tags)\n",
        "        labels.append(label)\n",
        "\n",
        "    avg_train_acc, avg_train_f1, train_cm = cal_acc(preds,labels)\n",
        "    avg_train_loss = sum(train_losses) / len(train_losses)\n",
        "\n",
        "    preds = []\n",
        "    masks = []\n",
        "    labels = []\n",
        "    with torch.no_grad():\n",
        "        for data in tqdm(test_loader, total=len(test_loader)):\n",
        "            for i in range(len(data)):\n",
        "                data[i] = data[i].to(device)\n",
        "            l_feature, g_feature, label = data\n",
        "            l_feature, g_feature, label = l_feature.long(), g_feature.long(), label.long()\n",
        "            pred_logits = model(l_feature, g_feature)\n",
        "            loss = loss_fn(pred_logits, label, 3)\n",
        "\n",
        "            test_loss.append(loss.item())\n",
        "\n",
        "            pred_tags = pred_logits.max(-1)[1]\n",
        "\n",
        "            preds.append(pred_tags)\n",
        "            labels.append(label)\n",
        "\n",
        "    avg_test_acc, avg_test_f1, test_cm = cal_acc(preds,  labels)\n",
        "    avg_test_loss = sum(test_loss) / len(test_loss)\n",
        "\n",
        "    print(f\"\\nepoch {epoch}\")\n",
        "    print(\"\\ttrain_loss:{:.3f} valid_loss:{:.3f}\".format(avg_train_loss, avg_test_loss))\n",
        "    print(\"\\ttrain_acc:{:.2%} valid_acc:{:.2%}\".format(avg_train_acc, avg_test_acc))\n",
        "    print(\"\\ttrain_f1:{:.3f} valid_f1:{:.3f}\".format(avg_train_f1, avg_test_f1))\n",
        "    print(f\"\\ttrain_confusion_matrix:\\n{train_cm}\")\n",
        "    print(f\"\\tvalid_confusion_matrix:\\n{test_cm}\")\n",
        "\n",
        "    if avg_test_loss < best_loss:\n",
        "        torch.save(model.state_dict(), MODEL_PATH)\n",
        "        best_loss = avg_test_loss    \n",
        "        \n",
        "    history['train_loss'].append(avg_train_loss)\n",
        "    history['polarity_train_acc'].append(avg_train_acc.cpu().numpy())\n",
        "    history['valid_loss'].append(avg_test_loss)\n",
        "    history['polarity_valid_acc'].append(avg_test_acc.cpu().numpy())\n",
        "        \n",
        "    \n"
      ]
    },
    {
      "cell_type": "code",
      "execution_count": 77,
      "metadata": {},
      "outputs": [
        {
          "data": {
            "text/plain": [
              "(0.4, 0.9)"
            ]
          },
          "execution_count": 77,
          "metadata": {},
          "output_type": "execute_result"
        },
        {
          "data": {
            "image/png": "[encoded data removed]",
            "text/plain": [
              "<Figure size 432x288 with 1 Axes>"
            ]
          },
          "metadata": {
            "needs_background": "light"
          },
          "output_type": "display_data"
        }
      ],
      "source": [
        "import matplotlib.pyplot as plt\n",
        "plt.plot(history['polarity_train_acc'], label='train accuracy')\n",
        "plt.plot(history['polarity_valid_acc'], label='validation accuracy')\n",
        "plt.title('Training history')\n",
        "plt.ylabel('Accuracy')\n",
        "plt.xlabel('Epoch')\n",
        "plt.legend()\n",
        "plt.ylim([0.4, 0.9])"
      ]
    },
    {
      "cell_type": "code",
      "execution_count": 78,
      "metadata": {},
      "outputs": [
        {
          "name": "stdout",
          "output_type": "stream",
          "text": [
            "Loading saved model from: model_task2.bin\n"
          ]
        },
        {
          "name": "stderr",
          "output_type": "stream",
          "text": [
            "  0%|          | 0/2 [00:00<?, ?it/s]/var/folders/3c/71b8pg6d7j5dht_5h_2n4n_c0000gn/T/ipykernel_14530/3235636334.py:164: UserWarning: Implicit dimension choice for log_softmax has been deprecated. Change the call to include dim=X as an argument.\n",
            "  out = torch.nn.functional.log_softmax(out)\n",
            "100%|██████████| 2/2 [00:00<00:00,  5.47it/s]"
          ]
        },
        {
          "name": "stdout",
          "output_type": "stream",
          "text": [
            "              precision    recall  f1-score   support\n",
            "\n",
            "     Neutral       0.49      0.19      0.27       225\n",
            "    Positive       0.80      0.87      0.83       609\n",
            "    Negative       0.60      0.76      0.67       327\n",
            "\n",
            "    accuracy                           0.70      1161\n",
            "   macro avg       0.63      0.60      0.59      1161\n",
            "weighted avg       0.68      0.70      0.68      1161\n",
            "\n"
          ]
        },
        {
          "name": "stderr",
          "output_type": "stream",
          "text": [
            "\n"
          ]
        }
      ],
      "source": [
        "def get_classification_report(test_loader, model, model_path=None):\n",
        "    if model_path is not None: # load the saved model\n",
        "        print('Loading saved model from: {}'.format(model_path))\n",
        "        model.load_state_dict(torch.load(model_path))\n",
        "    model = to_device(model, device)   \n",
        "    \n",
        "    model.eval()\n",
        "    final_pred_polarity_tags = []\n",
        "    final_true_polarity_tags = []\n",
        "\n",
        "\n",
        "    with torch.no_grad():\n",
        "        for data in tqdm(test_loader, total=len(test_loader)):\n",
        "            for i in range(len(data)):\n",
        "                data[i] = data[i].to(device)\n",
        "\n",
        "            l_feature, g_feature, label = data\n",
        "            l_feature, g_feature, label = l_feature.long(), g_feature.long(), label.long()\n",
        "            pred_logits = model(l_feature, g_feature)\n",
        "\n",
        "            pred_tags = pred_logits.max(-1)[1]\n",
        "\n",
        "            final_pred_polarity_tags.extend(pred_tags)\n",
        "            final_true_polarity_tags.extend(label)\n",
        "\n",
        "    final_pred_polarity_tags = torch.stack(final_pred_polarity_tags).cpu()\n",
        "    final_true_polarity_tags = torch.stack(final_true_polarity_tags).cpu()\n",
        "        \n",
        "    print(classification_report(final_true_polarity_tags, final_pred_polarity_tags, \n",
        "                                target_names=[\"Neutral\", \"Positive\", \"Negative\"]))\n",
        "    \n",
        "get_classification_report(test_loader, model, model_path=MODEL_PATH)"
      ]
    },
    {
      "cell_type": "markdown",
      "metadata": {},
      "source": [
        "## Alpha = 1"
      ]
    },
    {
      "cell_type": "code",
      "execution_count": 79,
      "metadata": {},
      "outputs": [
        {
          "name": "stdout",
          "output_type": "stream",
          "text": [
            "train samples:4641\n",
            "valid samples:1161\n"
          ]
        },
        {
          "name": "stderr",
          "output_type": "stream",
          "text": [
            "  0%|          | 0/36 [00:00<?, ?it/s]/var/folders/3c/71b8pg6d7j5dht_5h_2n4n_c0000gn/T/ipykernel_14530/3235636334.py:164: UserWarning: Implicit dimension choice for log_softmax has been deprecated. Change the call to include dim=X as an argument.\n",
            "  out = torch.nn.functional.log_softmax(out)\n",
            "100%|██████████| 36/36 [00:11<00:00,  3.11it/s]\n",
            "  0%|          | 0/2 [00:00<?, ?it/s]/var/folders/3c/71b8pg6d7j5dht_5h_2n4n_c0000gn/T/ipykernel_14530/3235636334.py:164: UserWarning: Implicit dimension choice for log_softmax has been deprecated. Change the call to include dim=X as an argument.\n",
            "  out = torch.nn.functional.log_softmax(out)\n",
            "100%|██████████| 2/2 [00:00<00:00,  4.33it/s]\n"
          ]
        },
        {
          "name": "stdout",
          "output_type": "stream",
          "text": [
            "\n",
            "epoch 0\n",
            "\ttrain_loss:1.071 valid_loss:1.031\n",
            "\ttrain_acc:48.09% valid_acc:52.54%\n",
            "\ttrain_f1:0.377 valid_f1:0.363\n",
            "\ttrain_confusion_matrix:\n",
            "[[  88  782   20]\n",
            " [ 266 2100   47]\n",
            " [ 119 1158   28]]\n",
            "\tvalid_confusion_matrix:\n",
            "[[  0 225   0]\n",
            " [  0 609   0]\n",
            " [  0 326   1]]\n"
          ]
        },
        {
          "name": "stderr",
          "output_type": "stream",
          "text": [
            "  0%|          | 0/36 [00:00<?, ?it/s]/var/folders/3c/71b8pg6d7j5dht_5h_2n4n_c0000gn/T/ipykernel_14530/3235636334.py:164: UserWarning: Implicit dimension choice for log_softmax has been deprecated. Change the call to include dim=X as an argument.\n",
            "  out = torch.nn.functional.log_softmax(out)\n",
            "100%|██████████| 36/36 [00:09<00:00,  3.61it/s]\n",
            "  0%|          | 0/2 [00:00<?, ?it/s]/var/folders/3c/71b8pg6d7j5dht_5h_2n4n_c0000gn/T/ipykernel_14530/3235636334.py:164: UserWarning: Implicit dimension choice for log_softmax has been deprecated. Change the call to include dim=X as an argument.\n",
            "  out = torch.nn.functional.log_softmax(out)\n",
            "100%|██████████| 2/2 [00:00<00:00,  5.12it/s]\n"
          ]
        },
        {
          "name": "stdout",
          "output_type": "stream",
          "text": [
            "\n",
            "epoch 1\n",
            "\ttrain_loss:1.011 valid_loss:0.974\n",
            "\ttrain_acc:52.50% valid_acc:52.54%\n",
            "\ttrain_f1:0.363 valid_f1:0.363\n",
            "\ttrain_confusion_matrix:\n",
            "[[   0  894    0]\n",
            " [   0 2411    0]\n",
            " [   0 1295    8]]\n",
            "\tvalid_confusion_matrix:\n",
            "[[  0 225   0]\n",
            " [  0 609   0]\n",
            " [  0 326   1]]\n"
          ]
        },
        {
          "name": "stderr",
          "output_type": "stream",
          "text": [
            "  0%|          | 0/36 [00:00<?, ?it/s]/var/folders/3c/71b8pg6d7j5dht_5h_2n4n_c0000gn/T/ipykernel_14530/3235636334.py:164: UserWarning: Implicit dimension choice for log_softmax has been deprecated. Change the call to include dim=X as an argument.\n",
            "  out = torch.nn.functional.log_softmax(out)\n",
            "100%|██████████| 36/36 [00:11<00:00,  3.17it/s]\n",
            "  0%|          | 0/2 [00:00<?, ?it/s]/var/folders/3c/71b8pg6d7j5dht_5h_2n4n_c0000gn/T/ipykernel_14530/3235636334.py:164: UserWarning: Implicit dimension choice for log_softmax has been deprecated. Change the call to include dim=X as an argument.\n",
            "  out = torch.nn.functional.log_softmax(out)\n",
            "100%|██████████| 2/2 [00:00<00:00,  3.17it/s]\n"
          ]
        },
        {
          "name": "stdout",
          "output_type": "stream",
          "text": [
            "\n",
            "epoch 2\n",
            "\ttrain_loss:0.968 valid_loss:0.926\n",
            "\ttrain_acc:52.80% valid_acc:52.71%\n",
            "\ttrain_f1:0.369 valid_f1:0.368\n",
            "\ttrain_confusion_matrix:\n",
            "[[   0  887    0]\n",
            " [   0 2418    3]\n",
            " [   0 1285   15]]\n",
            "\tvalid_confusion_matrix:\n",
            "[[  0 224   1]\n",
            " [  0 608   1]\n",
            " [  0 323   4]]\n"
          ]
        },
        {
          "name": "stderr",
          "output_type": "stream",
          "text": [
            "  0%|          | 0/36 [00:00<?, ?it/s]/var/folders/3c/71b8pg6d7j5dht_5h_2n4n_c0000gn/T/ipykernel_14530/3235636334.py:164: UserWarning: Implicit dimension choice for log_softmax has been deprecated. Change the call to include dim=X as an argument.\n",
            "  out = torch.nn.functional.log_softmax(out)\n",
            "100%|██████████| 36/36 [00:11<00:00,  3.05it/s]\n",
            "  0%|          | 0/2 [00:00<?, ?it/s]/var/folders/3c/71b8pg6d7j5dht_5h_2n4n_c0000gn/T/ipykernel_14530/3235636334.py:164: UserWarning: Implicit dimension choice for log_softmax has been deprecated. Change the call to include dim=X as an argument.\n",
            "  out = torch.nn.functional.log_softmax(out)\n",
            "100%|██████████| 2/2 [00:00<00:00,  4.52it/s]\n"
          ]
        },
        {
          "name": "stdout",
          "output_type": "stream",
          "text": [
            "\n",
            "epoch 3\n",
            "\ttrain_loss:0.911 valid_loss:0.868\n",
            "\ttrain_acc:56.73% valid_acc:62.19%\n",
            "\ttrain_f1:0.456 valid_f1:0.539\n",
            "\ttrain_confusion_matrix:\n",
            "[[   0  806   85]\n",
            " [   0 2367   48]\n",
            " [   0 1055  247]]\n",
            "\tvalid_confusion_matrix:\n",
            "[[  0 157  68]\n",
            " [  0 578  31]\n",
            " [  0 183 144]]\n"
          ]
        },
        {
          "name": "stderr",
          "output_type": "stream",
          "text": [
            "  0%|          | 0/36 [00:00<?, ?it/s]/var/folders/3c/71b8pg6d7j5dht_5h_2n4n_c0000gn/T/ipykernel_14530/3235636334.py:164: UserWarning: Implicit dimension choice for log_softmax has been deprecated. Change the call to include dim=X as an argument.\n",
            "  out = torch.nn.functional.log_softmax(out)\n",
            "100%|██████████| 36/36 [00:11<00:00,  3.25it/s]\n",
            "  0%|          | 0/2 [00:00<?, ?it/s]/var/folders/3c/71b8pg6d7j5dht_5h_2n4n_c0000gn/T/ipykernel_14530/3235636334.py:164: UserWarning: Implicit dimension choice for log_softmax has been deprecated. Change the call to include dim=X as an argument.\n",
            "  out = torch.nn.functional.log_softmax(out)\n",
            "100%|██████████| 2/2 [00:00<00:00,  4.33it/s]\n"
          ]
        },
        {
          "name": "stdout",
          "output_type": "stream",
          "text": [
            "\n",
            "epoch 4\n",
            "\ttrain_loss:0.848 valid_loss:0.808\n",
            "\ttrain_acc:62.57% valid_acc:64.25%\n",
            "\ttrain_f1:0.557 valid_f1:0.580\n",
            "\ttrain_confusion_matrix:\n",
            "[[   0  489  399]\n",
            " [   0 2101  315]\n",
            " [   0  522  782]]\n",
            "\tvalid_confusion_matrix:\n",
            "[[  0  86 139]\n",
            " [  0 500 109]\n",
            " [  0  81 246]]\n"
          ]
        },
        {
          "name": "stderr",
          "output_type": "stream",
          "text": [
            "  0%|          | 0/36 [00:00<?, ?it/s]/var/folders/3c/71b8pg6d7j5dht_5h_2n4n_c0000gn/T/ipykernel_14530/3235636334.py:164: UserWarning: Implicit dimension choice for log_softmax has been deprecated. Change the call to include dim=X as an argument.\n",
            "  out = torch.nn.functional.log_softmax(out)\n",
            "100%|██████████| 36/36 [00:20<00:00,  1.73it/s]\n",
            "  0%|          | 0/2 [00:00<?, ?it/s]/var/folders/3c/71b8pg6d7j5dht_5h_2n4n_c0000gn/T/ipykernel_14530/3235636334.py:164: UserWarning: Implicit dimension choice for log_softmax has been deprecated. Change the call to include dim=X as an argument.\n",
            "  out = torch.nn.functional.log_softmax(out)\n",
            "100%|██████████| 2/2 [00:00<00:00,  2.62it/s]\n"
          ]
        },
        {
          "name": "stdout",
          "output_type": "stream",
          "text": [
            "\n",
            "epoch 5\n",
            "\ttrain_loss:0.806 valid_loss:0.771\n",
            "\ttrain_acc:64.63% valid_acc:65.03%\n",
            "\ttrain_f1:0.579 valid_f1:0.589\n",
            "\ttrain_confusion_matrix:\n",
            "[[   0  412  478]\n",
            " [   0 2070  343]\n",
            " [   0  397  908]]\n",
            "\tvalid_confusion_matrix:\n",
            "[[  0  74 151]\n",
            " [  0 499 110]\n",
            " [  0  71 256]]\n"
          ]
        },
        {
          "name": "stderr",
          "output_type": "stream",
          "text": [
            "  0%|          | 0/36 [00:00<?, ?it/s]/var/folders/3c/71b8pg6d7j5dht_5h_2n4n_c0000gn/T/ipykernel_14530/3235636334.py:164: UserWarning: Implicit dimension choice for log_softmax has been deprecated. Change the call to include dim=X as an argument.\n",
            "  out = torch.nn.functional.log_softmax(out)\n",
            "100%|██████████| 36/36 [00:24<00:00,  1.50it/s]\n",
            "  0%|          | 0/2 [00:00<?, ?it/s]/var/folders/3c/71b8pg6d7j5dht_5h_2n4n_c0000gn/T/ipykernel_14530/3235636334.py:164: UserWarning: Implicit dimension choice for log_softmax has been deprecated. Change the call to include dim=X as an argument.\n",
            "  out = torch.nn.functional.log_softmax(out)\n",
            "100%|██████████| 2/2 [00:00<00:00,  2.16it/s]\n"
          ]
        },
        {
          "name": "stdout",
          "output_type": "stream",
          "text": [
            "\n",
            "epoch 6\n",
            "\ttrain_loss:0.781 valid_loss:0.751\n",
            "\ttrain_acc:65.89% valid_acc:66.06%\n",
            "\ttrain_f1:0.594 valid_f1:0.591\n",
            "\ttrain_confusion_matrix:\n",
            "[[   4  386  498]\n",
            " [   0 2037  379]\n",
            " [   0  309  995]]\n",
            "\tvalid_confusion_matrix:\n",
            "[[  1 116 108]\n",
            " [  0 539  70]\n",
            " [  1  99 227]]\n"
          ]
        },
        {
          "name": "stderr",
          "output_type": "stream",
          "text": [
            "  0%|          | 0/36 [00:00<?, ?it/s]/var/folders/3c/71b8pg6d7j5dht_5h_2n4n_c0000gn/T/ipykernel_14530/3235636334.py:164: UserWarning: Implicit dimension choice for log_softmax has been deprecated. Change the call to include dim=X as an argument.\n",
            "  out = torch.nn.functional.log_softmax(out)\n",
            "100%|██████████| 36/36 [00:25<00:00,  1.42it/s]\n",
            "  0%|          | 0/2 [00:00<?, ?it/s]/var/folders/3c/71b8pg6d7j5dht_5h_2n4n_c0000gn/T/ipykernel_14530/3235636334.py:164: UserWarning: Implicit dimension choice for log_softmax has been deprecated. Change the call to include dim=X as an argument.\n",
            "  out = torch.nn.functional.log_softmax(out)\n",
            "100%|██████████| 2/2 [00:00<00:00,  2.71it/s]\n"
          ]
        },
        {
          "name": "stdout",
          "output_type": "stream",
          "text": [
            "\n",
            "epoch 7\n",
            "\ttrain_loss:0.763 valid_loss:0.731\n",
            "\ttrain_acc:67.17% valid_acc:67.61%\n",
            "\ttrain_f1:0.607 valid_f1:0.609\n",
            "\ttrain_confusion_matrix:\n",
            "[[  14  427  449]\n",
            " [   1 2087  325]\n",
            " [   3  308  994]]\n",
            "\tvalid_confusion_matrix:\n",
            "[[  1 104 120]\n",
            " [  1 527  81]\n",
            " [  2  68 257]]\n"
          ]
        },
        {
          "name": "stderr",
          "output_type": "stream",
          "text": [
            "  0%|          | 0/36 [00:00<?, ?it/s]/var/folders/3c/71b8pg6d7j5dht_5h_2n4n_c0000gn/T/ipykernel_14530/3235636334.py:164: UserWarning: Implicit dimension choice for log_softmax has been deprecated. Change the call to include dim=X as an argument.\n",
            "  out = torch.nn.functional.log_softmax(out)\n",
            "100%|██████████| 36/36 [00:23<00:00,  1.56it/s]\n",
            "  0%|          | 0/2 [00:00<?, ?it/s]/var/folders/3c/71b8pg6d7j5dht_5h_2n4n_c0000gn/T/ipykernel_14530/3235636334.py:164: UserWarning: Implicit dimension choice for log_softmax has been deprecated. Change the call to include dim=X as an argument.\n",
            "  out = torch.nn.functional.log_softmax(out)\n",
            "100%|██████████| 2/2 [00:00<00:00,  2.83it/s]\n"
          ]
        },
        {
          "name": "stdout",
          "output_type": "stream",
          "text": [
            "\n",
            "epoch 8\n",
            "\ttrain_loss:0.744 valid_loss:0.733\n",
            "\ttrain_acc:68.25% valid_acc:67.96%\n",
            "\ttrain_f1:0.620 valid_f1:0.612\n",
            "\ttrain_confusion_matrix:\n",
            "[[  25  405  457]\n",
            " [   2 2101  313]\n",
            " [   3  283 1019]]\n",
            "\tvalid_confusion_matrix:\n",
            "[[  4 125  96]\n",
            " [  4 554  51]\n",
            " [  2  94 231]]\n"
          ]
        },
        {
          "name": "stderr",
          "output_type": "stream",
          "text": [
            "  0%|          | 0/36 [00:00<?, ?it/s]/var/folders/3c/71b8pg6d7j5dht_5h_2n4n_c0000gn/T/ipykernel_14530/3235636334.py:164: UserWarning: Implicit dimension choice for log_softmax has been deprecated. Change the call to include dim=X as an argument.\n",
            "  out = torch.nn.functional.log_softmax(out)\n",
            "100%|██████████| 36/36 [00:23<00:00,  1.56it/s]\n",
            "  0%|          | 0/2 [00:00<?, ?it/s]/var/folders/3c/71b8pg6d7j5dht_5h_2n4n_c0000gn/T/ipykernel_14530/3235636334.py:164: UserWarning: Implicit dimension choice for log_softmax has been deprecated. Change the call to include dim=X as an argument.\n",
            "  out = torch.nn.functional.log_softmax(out)\n",
            "100%|██████████| 2/2 [00:00<00:00,  2.28it/s]\n"
          ]
        },
        {
          "name": "stdout",
          "output_type": "stream",
          "text": [
            "\n",
            "epoch 9\n",
            "\ttrain_loss:0.732 valid_loss:0.728\n",
            "\ttrain_acc:69.21% valid_acc:68.22%\n",
            "\ttrain_f1:0.635 valid_f1:0.621\n",
            "\ttrain_confusion_matrix:\n",
            "[[  47  411  430]\n",
            " [  12 2117  286]\n",
            " [   9  271 1025]]\n",
            "\tvalid_confusion_matrix:\n",
            "[[ 11 119  95]\n",
            " [  4 556  49]\n",
            " [  3  99 225]]\n"
          ]
        },
        {
          "name": "stderr",
          "output_type": "stream",
          "text": [
            "  0%|          | 0/36 [00:00<?, ?it/s]/var/folders/3c/71b8pg6d7j5dht_5h_2n4n_c0000gn/T/ipykernel_14530/3235636334.py:164: UserWarning: Implicit dimension choice for log_softmax has been deprecated. Change the call to include dim=X as an argument.\n",
            "  out = torch.nn.functional.log_softmax(out)\n",
            "100%|██████████| 36/36 [00:21<00:00,  1.68it/s]\n",
            "  0%|          | 0/2 [00:00<?, ?it/s]/var/folders/3c/71b8pg6d7j5dht_5h_2n4n_c0000gn/T/ipykernel_14530/3235636334.py:164: UserWarning: Implicit dimension choice for log_softmax has been deprecated. Change the call to include dim=X as an argument.\n",
            "  out = torch.nn.functional.log_softmax(out)\n",
            "100%|██████████| 2/2 [00:00<00:00,  2.93it/s]\n"
          ]
        },
        {
          "name": "stdout",
          "output_type": "stream",
          "text": [
            "\n",
            "epoch 10\n",
            "\ttrain_loss:0.715 valid_loss:0.709\n",
            "\ttrain_acc:69.97% valid_acc:69.51%\n",
            "\ttrain_f1:0.647 valid_f1:0.647\n",
            "\ttrain_confusion_matrix:\n",
            "[[  67  410  409]\n",
            " [  16 2149  255]\n",
            " [  15  279 1008]]\n",
            "\tvalid_confusion_matrix:\n",
            "[[ 20 104 101]\n",
            " [  7 537  65]\n",
            " [  9  68 250]]\n"
          ]
        },
        {
          "name": "stderr",
          "output_type": "stream",
          "text": [
            "  0%|          | 0/36 [00:00<?, ?it/s]/var/folders/3c/71b8pg6d7j5dht_5h_2n4n_c0000gn/T/ipykernel_14530/3235636334.py:164: UserWarning: Implicit dimension choice for log_softmax has been deprecated. Change the call to include dim=X as an argument.\n",
            "  out = torch.nn.functional.log_softmax(out)\n",
            "100%|██████████| 36/36 [00:20<00:00,  1.75it/s]\n",
            "  0%|          | 0/2 [00:00<?, ?it/s]/var/folders/3c/71b8pg6d7j5dht_5h_2n4n_c0000gn/T/ipykernel_14530/3235636334.py:164: UserWarning: Implicit dimension choice for log_softmax has been deprecated. Change the call to include dim=X as an argument.\n",
            "  out = torch.nn.functional.log_softmax(out)\n",
            "100%|██████████| 2/2 [00:00<00:00,  2.82it/s]\n"
          ]
        },
        {
          "name": "stdout",
          "output_type": "stream",
          "text": [
            "\n",
            "epoch 11\n",
            "\ttrain_loss:0.704 valid_loss:0.704\n",
            "\ttrain_acc:70.86% valid_acc:70.97%\n",
            "\ttrain_f1:0.666 valid_f1:0.666\n",
            "\ttrain_confusion_matrix:\n",
            "[[ 106  385  395]\n",
            " [  34 2136  246]\n",
            " [  34  249 1023]]\n",
            "\tvalid_confusion_matrix:\n",
            "[[ 28 107  90]\n",
            " [  4 551  54]\n",
            " [ 13  69 245]]\n"
          ]
        },
        {
          "name": "stderr",
          "output_type": "stream",
          "text": [
            "  0%|          | 0/36 [00:00<?, ?it/s]/var/folders/3c/71b8pg6d7j5dht_5h_2n4n_c0000gn/T/ipykernel_14530/3235636334.py:164: UserWarning: Implicit dimension choice for log_softmax has been deprecated. Change the call to include dim=X as an argument.\n",
            "  out = torch.nn.functional.log_softmax(out)\n",
            "100%|██████████| 36/36 [00:20<00:00,  1.76it/s]\n",
            "  0%|          | 0/2 [00:00<?, ?it/s]/var/folders/3c/71b8pg6d7j5dht_5h_2n4n_c0000gn/T/ipykernel_14530/3235636334.py:164: UserWarning: Implicit dimension choice for log_softmax has been deprecated. Change the call to include dim=X as an argument.\n",
            "  out = torch.nn.functional.log_softmax(out)\n",
            "100%|██████████| 2/2 [00:00<00:00,  2.96it/s]\n"
          ]
        },
        {
          "name": "stdout",
          "output_type": "stream",
          "text": [
            "\n",
            "epoch 12\n",
            "\ttrain_loss:0.691 valid_loss:0.703\n",
            "\ttrain_acc:71.35% valid_acc:69.42%\n",
            "\ttrain_f1:0.677 valid_f1:0.663\n",
            "\ttrain_confusion_matrix:\n",
            "[[ 144  377  369]\n",
            " [  46 2141  232]\n",
            " [  42  254 1003]]\n",
            "\tvalid_confusion_matrix:\n",
            "[[ 35  77 113]\n",
            " [ 12 513  84]\n",
            " [ 16  53 258]]\n"
          ]
        },
        {
          "name": "stderr",
          "output_type": "stream",
          "text": [
            "  0%|          | 0/36 [00:00<?, ?it/s]/var/folders/3c/71b8pg6d7j5dht_5h_2n4n_c0000gn/T/ipykernel_14530/3235636334.py:164: UserWarning: Implicit dimension choice for log_softmax has been deprecated. Change the call to include dim=X as an argument.\n",
            "  out = torch.nn.functional.log_softmax(out)\n",
            "100%|██████████| 36/36 [00:20<00:00,  1.73it/s]\n",
            "  0%|          | 0/2 [00:00<?, ?it/s]/var/folders/3c/71b8pg6d7j5dht_5h_2n4n_c0000gn/T/ipykernel_14530/3235636334.py:164: UserWarning: Implicit dimension choice for log_softmax has been deprecated. Change the call to include dim=X as an argument.\n",
            "  out = torch.nn.functional.log_softmax(out)\n",
            "100%|██████████| 2/2 [00:00<00:00,  2.60it/s]\n"
          ]
        },
        {
          "name": "stdout",
          "output_type": "stream",
          "text": [
            "\n",
            "epoch 13\n",
            "\ttrain_loss:0.681 valid_loss:0.695\n",
            "\ttrain_acc:71.81% valid_acc:71.23%\n",
            "\ttrain_f1:0.687 valid_f1:0.678\n",
            "\ttrain_confusion_matrix:\n",
            "[[ 168  354  365]\n",
            " [  55 2109  253]\n",
            " [  55  217 1032]]\n",
            "\tvalid_confusion_matrix:\n",
            "[[ 39  98  88]\n",
            " [  9 549  51]\n",
            " [ 22  66 239]]\n"
          ]
        },
        {
          "name": "stderr",
          "output_type": "stream",
          "text": [
            "  0%|          | 0/36 [00:00<?, ?it/s]/var/folders/3c/71b8pg6d7j5dht_5h_2n4n_c0000gn/T/ipykernel_14530/3235636334.py:164: UserWarning: Implicit dimension choice for log_softmax has been deprecated. Change the call to include dim=X as an argument.\n",
            "  out = torch.nn.functional.log_softmax(out)\n",
            "100%|██████████| 36/36 [00:20<00:00,  1.75it/s]\n",
            "  0%|          | 0/2 [00:00<?, ?it/s]/var/folders/3c/71b8pg6d7j5dht_5h_2n4n_c0000gn/T/ipykernel_14530/3235636334.py:164: UserWarning: Implicit dimension choice for log_softmax has been deprecated. Change the call to include dim=X as an argument.\n",
            "  out = torch.nn.functional.log_softmax(out)\n",
            "100%|██████████| 2/2 [00:00<00:00,  2.80it/s]\n"
          ]
        },
        {
          "name": "stdout",
          "output_type": "stream",
          "text": [
            "\n",
            "epoch 14\n",
            "\ttrain_loss:0.673 valid_loss:0.692\n",
            "\ttrain_acc:72.48% valid_acc:70.63%\n",
            "\ttrain_f1:0.698 valid_f1:0.684\n",
            "\ttrain_confusion_matrix:\n",
            "[[ 198  336  353]\n",
            " [  71 2120  230]\n",
            " [  58  220 1022]]\n",
            "\tvalid_confusion_matrix:\n",
            "[[ 51  81  93]\n",
            " [ 21 525  63]\n",
            " [ 28  55 244]]\n"
          ]
        },
        {
          "name": "stderr",
          "output_type": "stream",
          "text": [
            "  0%|          | 0/36 [00:00<?, ?it/s]/var/folders/3c/71b8pg6d7j5dht_5h_2n4n_c0000gn/T/ipykernel_14530/3235636334.py:164: UserWarning: Implicit dimension choice for log_softmax has been deprecated. Change the call to include dim=X as an argument.\n",
            "  out = torch.nn.functional.log_softmax(out)\n",
            "100%|██████████| 36/36 [00:15<00:00,  2.29it/s]\n",
            "  0%|          | 0/2 [00:00<?, ?it/s]/var/folders/3c/71b8pg6d7j5dht_5h_2n4n_c0000gn/T/ipykernel_14530/3235636334.py:164: UserWarning: Implicit dimension choice for log_softmax has been deprecated. Change the call to include dim=X as an argument.\n",
            "  out = torch.nn.functional.log_softmax(out)\n",
            "100%|██████████| 2/2 [00:00<00:00,  5.58it/s]\n"
          ]
        },
        {
          "name": "stdout",
          "output_type": "stream",
          "text": [
            "\n",
            "epoch 15\n",
            "\ttrain_loss:0.659 valid_loss:0.687\n",
            "\ttrain_acc:73.11% valid_acc:70.63%\n",
            "\ttrain_f1:0.709 valid_f1:0.685\n",
            "\ttrain_confusion_matrix:\n",
            "[[ 229  328  329]\n",
            " [  94 2129  195]\n",
            " [  86  207 1011]]\n",
            "\tvalid_confusion_matrix:\n",
            "[[ 53  79  93]\n",
            " [ 22 525  62]\n",
            " [ 30  55 242]]\n"
          ]
        },
        {
          "name": "stderr",
          "output_type": "stream",
          "text": [
            "  0%|          | 0/36 [00:00<?, ?it/s]/var/folders/3c/71b8pg6d7j5dht_5h_2n4n_c0000gn/T/ipykernel_14530/3235636334.py:164: UserWarning: Implicit dimension choice for log_softmax has been deprecated. Change the call to include dim=X as an argument.\n",
            "  out = torch.nn.functional.log_softmax(out)\n",
            "100%|██████████| 36/36 [00:10<00:00,  3.54it/s]\n",
            "  0%|          | 0/2 [00:00<?, ?it/s]/var/folders/3c/71b8pg6d7j5dht_5h_2n4n_c0000gn/T/ipykernel_14530/3235636334.py:164: UserWarning: Implicit dimension choice for log_softmax has been deprecated. Change the call to include dim=X as an argument.\n",
            "  out = torch.nn.functional.log_softmax(out)\n",
            "100%|██████████| 2/2 [00:00<00:00,  5.97it/s]\n"
          ]
        },
        {
          "name": "stdout",
          "output_type": "stream",
          "text": [
            "\n",
            "epoch 16\n",
            "\ttrain_loss:0.654 valid_loss:0.677\n",
            "\ttrain_acc:73.20% valid_acc:71.06%\n",
            "\ttrain_f1:0.713 valid_f1:0.684\n",
            "\ttrain_confusion_matrix:\n",
            "[[ 254  309  327]\n",
            " [ 100 2122  196]\n",
            " [  90  213  997]]\n",
            "\tvalid_confusion_matrix:\n",
            "[[ 48  80  97]\n",
            " [  8 532  69]\n",
            " [ 24  58 245]]\n"
          ]
        },
        {
          "name": "stderr",
          "output_type": "stream",
          "text": [
            "  0%|          | 0/36 [00:00<?, ?it/s]/var/folders/3c/71b8pg6d7j5dht_5h_2n4n_c0000gn/T/ipykernel_14530/3235636334.py:164: UserWarning: Implicit dimension choice for log_softmax has been deprecated. Change the call to include dim=X as an argument.\n",
            "  out = torch.nn.functional.log_softmax(out)\n",
            "100%|██████████| 36/36 [00:09<00:00,  3.62it/s]\n",
            "  0%|          | 0/2 [00:00<?, ?it/s]/var/folders/3c/71b8pg6d7j5dht_5h_2n4n_c0000gn/T/ipykernel_14530/3235636334.py:164: UserWarning: Implicit dimension choice for log_softmax has been deprecated. Change the call to include dim=X as an argument.\n",
            "  out = torch.nn.functional.log_softmax(out)\n",
            "100%|██████████| 2/2 [00:00<00:00,  5.88it/s]\n"
          ]
        },
        {
          "name": "stdout",
          "output_type": "stream",
          "text": [
            "\n",
            "epoch 17\n",
            "\ttrain_loss:0.644 valid_loss:0.684\n",
            "\ttrain_acc:73.57% valid_acc:71.49%\n",
            "\ttrain_f1:0.716 valid_f1:0.694\n",
            "\ttrain_confusion_matrix:\n",
            "[[ 251  323  311]\n",
            " [  91 2136  192]\n",
            " [  83  218 1003]]\n",
            "\tvalid_confusion_matrix:\n",
            "[[ 57  77  91]\n",
            " [ 18 527  64]\n",
            " [ 27  54 246]]\n"
          ]
        },
        {
          "name": "stderr",
          "output_type": "stream",
          "text": [
            "  0%|          | 0/36 [00:00<?, ?it/s]/var/folders/3c/71b8pg6d7j5dht_5h_2n4n_c0000gn/T/ipykernel_14530/3235636334.py:164: UserWarning: Implicit dimension choice for log_softmax has been deprecated. Change the call to include dim=X as an argument.\n",
            "  out = torch.nn.functional.log_softmax(out)\n",
            "100%|██████████| 36/36 [00:11<00:00,  3.23it/s]\n",
            "  0%|          | 0/2 [00:00<?, ?it/s]/var/folders/3c/71b8pg6d7j5dht_5h_2n4n_c0000gn/T/ipykernel_14530/3235636334.py:164: UserWarning: Implicit dimension choice for log_softmax has been deprecated. Change the call to include dim=X as an argument.\n",
            "  out = torch.nn.functional.log_softmax(out)\n",
            "100%|██████████| 2/2 [00:00<00:00,  4.94it/s]\n"
          ]
        },
        {
          "name": "stdout",
          "output_type": "stream",
          "text": [
            "\n",
            "epoch 18\n",
            "\ttrain_loss:0.636 valid_loss:0.669\n",
            "\ttrain_acc:74.13% valid_acc:71.15%\n",
            "\ttrain_f1:0.725 valid_f1:0.685\n",
            "\ttrain_confusion_matrix:\n",
            "[[ 281  300  306]\n",
            " [ 112 2122  185]\n",
            " [  97  192 1013]]\n",
            "\tvalid_confusion_matrix:\n",
            "[[ 49  83  93]\n",
            " [ 12 535  62]\n",
            " [ 23  62 242]]\n"
          ]
        },
        {
          "name": "stderr",
          "output_type": "stream",
          "text": [
            "  0%|          | 0/36 [00:00<?, ?it/s]/var/folders/3c/71b8pg6d7j5dht_5h_2n4n_c0000gn/T/ipykernel_14530/3235636334.py:164: UserWarning: Implicit dimension choice for log_softmax has been deprecated. Change the call to include dim=X as an argument.\n",
            "  out = torch.nn.functional.log_softmax(out)\n",
            "100%|██████████| 36/36 [00:10<00:00,  3.38it/s]\n",
            "  0%|          | 0/2 [00:00<?, ?it/s]/var/folders/3c/71b8pg6d7j5dht_5h_2n4n_c0000gn/T/ipykernel_14530/3235636334.py:164: UserWarning: Implicit dimension choice for log_softmax has been deprecated. Change the call to include dim=X as an argument.\n",
            "  out = torch.nn.functional.log_softmax(out)\n",
            "100%|██████████| 2/2 [00:00<00:00,  4.97it/s]"
          ]
        },
        {
          "name": "stdout",
          "output_type": "stream",
          "text": [
            "\n",
            "epoch 19\n",
            "\ttrain_loss:0.628 valid_loss:0.676\n",
            "\ttrain_acc:74.22% valid_acc:71.40%\n",
            "\ttrain_f1:0.725 valid_f1:0.687\n",
            "\ttrain_confusion_matrix:\n",
            "[[ 267  307  314]\n",
            " [ 106 2131  183]\n",
            " [  97  181 1022]]\n",
            "\tvalid_confusion_matrix:\n",
            "[[ 48  85  92]\n",
            " [ 16 539  54]\n",
            " [ 25  60 242]]\n"
          ]
        },
        {
          "name": "stderr",
          "output_type": "stream",
          "text": [
            "\n"
          ]
        }
      ],
      "source": [
        "device = get_default_device()\n",
        "\n",
        "NUM_EPOCHS = 20\n",
        "TRAIN_BATCH_SIZE = 128\n",
        "VALID_BATCH_SIZE = 1024\n",
        "\n",
        "NUM_POLARITY_TAGS = 3\n",
        "\n",
        "history = {\n",
        "    \"train_loss\": list(),\n",
        "    \"polarity_train_acc\": list(),\n",
        "    \"valid_loss\": list(),\n",
        "    \"polarity_valid_acc\": list(),\n",
        "}\n",
        "\n",
        "best_loss = np.inf\n",
        "\n",
        "dataset = TensorDataset(torch.Tensor(X_l_train), torch.Tensor(X_g_train), torch.Tensor(y_train))\n",
        "print(f\"train samples:{len(dataset)}\")\n",
        "train_loader = DataLoader(dataset, batch_size=TRAIN_BATCH_SIZE, shuffle=True, drop_last=True)\n",
        "\n",
        "dataset_valid = TensorDataset(torch.Tensor(X_l_valid),  torch.Tensor(X_g_valid), torch.Tensor(y_valid))\n",
        "print(f\"valid samples:{len(dataset_valid)}\")\n",
        "test_loader = DataLoader(dataset_valid, batch_size=VALID_BATCH_SIZE)\n",
        "\n",
        "model = to_device(Model(general_embedding,  num_classes=3, alpha = 1), device)\n",
        "\n",
        "torch.cuda.empty_cache()\n",
        "\n",
        "parameters = [p for p in model.parameters() if p.requires_grad]\n",
        "optimizer = AdamW(parameters, lr=1e-4)\n",
        "\n",
        "\n",
        "for epoch in range(NUM_EPOCHS):\n",
        "    train_losses = []\n",
        "    train_acc = []\n",
        "    test_loss = []\n",
        "    test_acc = []\n",
        "    train_f1 = []\n",
        "    test_f1 = []\n",
        "\n",
        "    model.train()\n",
        "    preds = []\n",
        "    masks = []\n",
        "    labels = []\n",
        "    for data in tqdm(train_loader, total=len(train_loader)):\n",
        "        for i in range(len(data)):\n",
        "            data[i] = data[i].to(device)\n",
        "        l_feature, g_feature, label = data\n",
        "        l_feature, g_feature, label = l_feature.long(), g_feature.long(), label.long()\n",
        "\n",
        "        optimizer.zero_grad()\n",
        "        pred_logits = model(l_feature, g_feature)\n",
        "        loss = loss_fn(pred_logits, label, 3)\n",
        "        loss.backward()\n",
        "        optimizer.step()\n",
        "\n",
        "        train_losses.append(loss.item())\n",
        "\n",
        "        pred_tags = pred_logits.max(-1)[1]\n",
        "        preds.append(pred_tags)\n",
        "        labels.append(label)\n",
        "\n",
        "    avg_train_acc, avg_train_f1, train_cm = cal_acc(preds,labels)\n",
        "    avg_train_loss = sum(train_losses) / len(train_losses)\n",
        "\n",
        "    preds = []\n",
        "    masks = []\n",
        "    labels = []\n",
        "    with torch.no_grad():\n",
        "        for data in tqdm(test_loader, total=len(test_loader)):\n",
        "            for i in range(len(data)):\n",
        "                data[i] = data[i].to(device)\n",
        "            l_feature, g_feature, label = data\n",
        "            l_feature, g_feature, label = l_feature.long(), g_feature.long(), label.long()\n",
        "            pred_logits = model(l_feature, g_feature)\n",
        "            loss = loss_fn(pred_logits, label, 3)\n",
        "\n",
        "            test_loss.append(loss.item())\n",
        "\n",
        "            pred_tags = pred_logits.max(-1)[1]\n",
        "\n",
        "            preds.append(pred_tags)\n",
        "            labels.append(label)\n",
        "\n",
        "    avg_test_acc, avg_test_f1, test_cm = cal_acc(preds,  labels)\n",
        "    avg_test_loss = sum(test_loss) / len(test_loss)\n",
        "\n",
        "    print(f\"\\nepoch {epoch}\")\n",
        "    print(\"\\ttrain_loss:{:.3f} valid_loss:{:.3f}\".format(avg_train_loss, avg_test_loss))\n",
        "    print(\"\\ttrain_acc:{:.2%} valid_acc:{:.2%}\".format(avg_train_acc, avg_test_acc))\n",
        "    print(\"\\ttrain_f1:{:.3f} valid_f1:{:.3f}\".format(avg_train_f1, avg_test_f1))\n",
        "    print(f\"\\ttrain_confusion_matrix:\\n{train_cm}\")\n",
        "    print(f\"\\tvalid_confusion_matrix:\\n{test_cm}\")\n",
        "\n",
        "    if avg_test_loss < best_loss:\n",
        "        torch.save(model.state_dict(), MODEL_PATH)\n",
        "        best_loss = avg_test_loss    \n",
        "        \n",
        "    history['train_loss'].append(avg_train_loss)\n",
        "    history['polarity_train_acc'].append(avg_train_acc.cpu().numpy())\n",
        "    history['valid_loss'].append(avg_test_loss)\n",
        "    history['polarity_valid_acc'].append(avg_test_acc.cpu().numpy())\n",
        "        \n",
        "    \n"
      ]
    },
    {
      "cell_type": "code",
      "execution_count": 80,
      "metadata": {},
      "outputs": [
        {
          "data": {
            "text/plain": [
              "(0.4, 0.9)"
            ]
          },
          "execution_count": 80,
          "metadata": {},
          "output_type": "execute_result"
        },
        {
          "data": {
            "image/png": "[encoded data removed]",
            "text/plain": [
              "<Figure size 432x288 with 1 Axes>"
            ]
          },
          "metadata": {
            "needs_background": "light"
          },
          "output_type": "display_data"
        }
      ],
      "source": [
        "import matplotlib.pyplot as plt\n",
        "plt.plot(history['polarity_train_acc'], label='train accuracy')\n",
        "plt.plot(history['polarity_valid_acc'], label='validation accuracy')\n",
        "plt.title('Training history')\n",
        "plt.ylabel('Accuracy')\n",
        "plt.xlabel('Epoch')\n",
        "plt.legend()\n",
        "plt.ylim([0.4, 0.9])"
      ]
    },
    {
      "cell_type": "code",
      "execution_count": 81,
      "metadata": {},
      "outputs": [
        {
          "name": "stdout",
          "output_type": "stream",
          "text": [
            "Loading saved model from: model_task2.bin\n"
          ]
        },
        {
          "name": "stderr",
          "output_type": "stream",
          "text": [
            "  0%|          | 0/2 [00:00<?, ?it/s]/var/folders/3c/71b8pg6d7j5dht_5h_2n4n_c0000gn/T/ipykernel_14530/3235636334.py:164: UserWarning: Implicit dimension choice for log_softmax has been deprecated. Change the call to include dim=X as an argument.\n",
            "  out = torch.nn.functional.log_softmax(out)\n",
            "100%|██████████| 2/2 [00:00<00:00,  5.21it/s]"
          ]
        },
        {
          "name": "stdout",
          "output_type": "stream",
          "text": [
            "              precision    recall  f1-score   support\n",
            "\n",
            "     Neutral       0.57      0.21      0.31       225\n",
            "    Positive       0.79      0.88      0.83       609\n",
            "    Negative       0.61      0.75      0.67       327\n",
            "\n",
            "    accuracy                           0.71      1161\n",
            "   macro avg       0.66      0.61      0.60      1161\n",
            "weighted avg       0.70      0.71      0.69      1161\n",
            "\n"
          ]
        },
        {
          "name": "stderr",
          "output_type": "stream",
          "text": [
            "\n"
          ]
        }
      ],
      "source": [
        "def get_classification_report(test_loader, model, model_path=None):\n",
        "    if model_path is not None: # load the saved model\n",
        "        print('Loading saved model from: {}'.format(model_path))\n",
        "        model.load_state_dict(torch.load(model_path))\n",
        "    model = to_device(model, device)   \n",
        "    \n",
        "    model.eval()\n",
        "    final_pred_polarity_tags = []\n",
        "    final_true_polarity_tags = []\n",
        "\n",
        "\n",
        "    with torch.no_grad():\n",
        "        for data in tqdm(test_loader, total=len(test_loader)):\n",
        "            for i in range(len(data)):\n",
        "                data[i] = data[i].to(device)\n",
        "\n",
        "            l_feature, g_feature, label = data\n",
        "            l_feature, g_feature, label = l_feature.long(), g_feature.long(), label.long()\n",
        "            pred_logits = model(l_feature, g_feature)\n",
        "\n",
        "            pred_tags = pred_logits.max(-1)[1]\n",
        "\n",
        "            final_pred_polarity_tags.extend(pred_tags)\n",
        "            final_true_polarity_tags.extend(label)\n",
        "\n",
        "    final_pred_polarity_tags = torch.stack(final_pred_polarity_tags).cpu()\n",
        "    final_true_polarity_tags = torch.stack(final_true_polarity_tags).cpu()\n",
        "        \n",
        "    print(classification_report(final_true_polarity_tags, final_pred_polarity_tags, \n",
        "                                target_names=[\"Neutral\", \"Positive\", \"Negative\"]))\n",
        "    \n",
        "get_classification_report(test_loader, model, model_path=MODEL_PATH)"
      ]
    }
  ],
  "metadata": {
    "colab": {
      "collapsed_sections": [],
      "name": "task2_lstm.ipynb",
      "provenance": []
    },
    "kernelspec": {
      "display_name": "Python 3",
      "name": "python3"
    },
    "language_info": {
      "codemirror_mode": {
        "name": "ipython",
        "version": 3
      },
      "file_extension": ".py",
      "mimetype": "text/x-python",
      "name": "python",
      "nbconvert_exporter": "python",
      "pygments_lexer": "ipython3",
      "version": "3.10.0"
    }
  },
  "nbformat": 4,
  "nbformat_minor": 0
}
