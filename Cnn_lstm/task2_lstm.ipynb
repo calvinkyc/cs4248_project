{
  "cells": [
    {
      "cell_type": "code",
      "execution_count": 1,
      "metadata": {
        "colab": {
          "base_uri": "https://localhost:8080/"
        },
        "id": "VVlBRwsjo3A9",
        "outputId": "c73353d2-d0e0-46ab-cb7b-742f72aa0104"
      },
      "outputs": [],
      "source": [
        "#!pip install fasttext\n",
        "#!pip install transformers\n",
        "#import nltk\n",
        "#nltk.download('punkt')\n",
        "#!pip3 install torch torchvision torchaudio"
      ]
    },
    {
      "cell_type": "code",
      "execution_count": 1,
      "metadata": {
        "colab": {
          "base_uri": "https://localhost:8080/"
        },
        "id": "Q2Pp-VjL_5Xw",
        "outputId": "a043786f-12ea-4b95-f6bb-4f7c9288537a"
      },
      "outputs": [],
      "source": [
        "DATA_DIR = \"./data/\"\n",
        "VALID_SIZE = .2\n",
        "MODEL_PATH = \"model_task2.bin\""
      ]
    },
    {
      "cell_type": "code",
      "execution_count": 2,
      "metadata": {
        "id": "f_ihgOgKQQ5e"
      },
      "outputs": [],
      "source": [
        "import pandas as pd\n",
        "import numpy as np\n",
        "import scipy\n",
        "import nltk\n",
        "import re\n",
        "import os\n",
        "from nltk.corpus import stopwords\n",
        "from nltk.tokenize import word_tokenize\n",
        "from torch.optim import AdamW\n",
        "from fasttext import load_model\n",
        "import torch\n",
        "import torch.nn as nn\n",
        "from torch.utils.data import Dataset, DataLoader, TensorDataset\n",
        "from tqdm import tqdm\n",
        "from sklearn.metrics import f1_score, confusion_matrix\n",
        "from sklearn.model_selection import train_test_split\n",
        "from sklearn import preprocessing, model_selection\n",
        "from torch import LongTensor\n",
        "from sklearn.metrics import f1_score, confusion_matrix, classification_report"
      ]
    },
    {
      "cell_type": "markdown",
      "metadata": {},
      "source": [
        "---"
      ]
    },
    {
      "cell_type": "code",
      "execution_count": 3,
      "metadata": {},
      "outputs": [],
      "source": [
        "df = pd.read_csv('../Dataset/data/restaurants_laptop_train_with_pos_task2_cleaned.csv')"
      ]
    },
    {
      "cell_type": "code",
      "execution_count": 4,
      "metadata": {},
      "outputs": [
        {
          "name": "stdout",
          "output_type": "stream",
          "text": [
            "num of aspect tags: 2\n",
            "num of polarity tags: 4\n"
          ]
        },
        {
          "data": {
            "text/plain": [
              "0"
            ]
          },
          "execution_count": 4,
          "metadata": {},
          "output_type": "execute_result"
        }
      ],
      "source": [
        "df.polarity = df.polarity.replace(-1,2)\n",
        "\n",
        "encoder = preprocessing.LabelEncoder()\n",
        "df.loc[:, \"aspect_tag\"] = encoder.fit_transform(df[\"aspect_tag\"])\n",
        "\n",
        "sentences = df.groupby(\"num\")[\"text\"].apply(list).values\n",
        "aspect_tags = df.groupby(\"num\")[\"aspect_tag\"].apply(list).values\n",
        "polarity_tags = df.groupby(\"num\")[\"polarity\"].apply(list).values\n",
        "\n",
        "polarity_unique_values = df.polarity.unique()\n",
        "\n",
        "print('num of aspect tags: {}'.format(len(encoder.classes_)))\n",
        "print('num of polarity tags: {}'.format(len(polarity_unique_values)))\n",
        "\n",
        "np.where(encoder.classes_ == \"AT\")[0].item()"
      ]
    },
    {
      "cell_type": "code",
      "execution_count": 5,
      "metadata": {},
      "outputs": [
        {
          "name": "stdout",
          "output_type": "stream",
          "text": [
            "['I', 'charge', 'it', 'at', 'night', 'and', 'skip', 'taking', 'the', 'cord', 'with', 'me', 'because', 'of', 'the', 'good', 'battery', 'life']\n",
            "[1, 1, 1, 1, 1, 1, 1, 1, 1, 0, 1, 1, 1, 1, 1, 1, 0, 0]\n",
            "[0, 0, 0, 0, 0, 0, 0, 0, 0, 0, 0, 0, 0, 0, 0, 0, 1, 1]\n"
          ]
        }
      ],
      "source": [
        "idx = 0\n",
        "print(sentences[idx])\n",
        "print(aspect_tags[idx])\n",
        "print(polarity_tags[idx])"
      ]
    },
    {
      "cell_type": "markdown",
      "metadata": {},
      "source": [
        "---"
      ]
    },
    {
      "cell_type": "code",
      "execution_count": 6,
      "id": "2448bddb",
      "metadata": {},
      "outputs": [],
      "source": [
        "def get_new_aspect_cluster(left, right, aspect_term, polarity, sentence):\n",
        "\n",
        "    if len(polarity) == 0:\n",
        "        polarity = 0\n",
        "    else:\n",
        "        polarity = int(sum(polarity)/len(polarity))\n",
        "   \n",
        "    left.extend(aspect_term)\n",
        "    left.extend(right)\n",
        "    return {\n",
        "        \"local_context\":left,\n",
        "        \"global_context\":sentence,\n",
        "        \"aspect_term\":aspect_term,\n",
        "        \"polarity\":polarity,\n",
        "    }\n",
        "\n",
        "def chop(sentence, aspect_tag, polarity_tag):\n",
        "    ret_aspect_clusters = []\n",
        "#     ret_aspect_clusters = {\n",
        "#         \"context\":list(),\n",
        "#         \"aspect_term\":list(),\n",
        "#         \"polarity\":list(),\n",
        "#     }\n",
        "    left = []\n",
        "    right = []\n",
        "    aspect_term = []\n",
        "    polarity = []\n",
        "    doing_left = True\n",
        "    doing_right = False\n",
        "    doing_aspect = False\n",
        "    for i in range(len(sentence)):\n",
        "        # check if the current token is an aspect term\n",
        "        if aspect_tag[i] == 0:\n",
        "            if doing_left:\n",
        "                doing_aspect = True\n",
        "                doing_left = False\n",
        "            elif doing_right:\n",
        "                doing_right = False\n",
        "                doing_aspect = True\n",
        "                # Now, need to save the previous aspect term cluster\n",
        "                ret_aspect_clusters.append(get_new_aspect_cluster(\n",
        "                    left, right, aspect_term, polarity, sentence))\n",
        "                left = right\n",
        "                right = []\n",
        "                aspect_term = []\n",
        "                polarity = []\n",
        "            aspect_term.append(sentence[i])\n",
        "            polarity.append(polarity_tag[i])\n",
        "        else:\n",
        "            if doing_left:\n",
        "                left.append(sentence[i])\n",
        "            elif doing_right:\n",
        "                right.append(sentence[i])\n",
        "            else:\n",
        "                doing_aspect = False\n",
        "                doing_right = True\n",
        "                right.append(sentence[i])\n",
        "                \n",
        "    ret_aspect_clusters.append(get_new_aspect_cluster(\n",
        "        left, right, aspect_term, polarity, sentence))\n",
        "    \n",
        "    return ret_aspect_clusters"
      ]
    },
    {
      "cell_type": "code",
      "execution_count": 7,
      "id": "bb3ba0d2",
      "metadata": {},
      "outputs": [],
      "source": [
        "all_aspect_clusters = []\n",
        "for i in range(len(sentences)):\n",
        "    all_aspect_clusters.extend(chop(sentences[i], aspect_tags[i], polarity_tags[i]))"
      ]
    },
    {
      "cell_type": "code",
      "execution_count": 9,
      "metadata": {
        "id": "MIElcOeLQVR0"
      },
      "outputs": [],
      "source": [
        "# generate word_index list\n",
        "def build_vocab(df):\n",
        "    word_idx = {}\n",
        "    for idx, word in enumerate(sorted(set(df.text.values))):\n",
        "        word_idx[word] = idx + 1\n",
        "    return word_idx\n",
        "\n",
        "def gen_np_embedding(fn, word_idx, dim=100, emb=False):\n",
        "    if emb:\n",
        "        model = load_model(fn + \".bin\")\n",
        "    embedding = np.zeros((len(word_idx) + 2, dim))\n",
        "\n",
        "    with open(fn, encoding=\"utf8\") as f:\n",
        "        for l in f:\n",
        "            # for each line, get the word and its vector\n",
        "            rec = l.rstrip().split(' ')\n",
        "            if len(rec) == 2:  # skip the first line.\n",
        "                continue\n",
        "                # if the word in word_idx, fill the embedding\n",
        "            if rec[0] in word_idx:\n",
        "                embedding[word_idx[rec[0]]] = np.array([float(r) for r in rec[1:]])\n",
        "    for w in word_idx:\n",
        "        if embedding[word_idx[w]].sum() == 0.:\n",
        "            if emb:\n",
        "                embedding[word_idx[w]] = model.get_word_vector(w)\n",
        "    return embedding\n",
        "\n",
        "def create_train_data_restaurant(all_aspect_clusters,  word_idx, sent_len=83):\n",
        "\n",
        "    train_X_local = np.zeros((len(all_aspect_clusters), sent_len), np.int16)\n",
        "    train_X_global = np.zeros((len(all_aspect_clusters), sent_len), np.int16)\n",
        "\n",
        "    train_y = np.zeros(len(all_aspect_clusters), np.int16)\n",
        "\n",
        "    # iterate the asoect\n",
        "    for sx, sent in enumerate(all_aspect_clusters):\n",
        "        train_y[sx] = sent['polarity']\n",
        "        global_sentence = sent['global_context']\n",
        "        local_sentence = sent['local_context']\n",
        "        # write word index and tag in train_X\n",
        "        try:\n",
        "            for wx, word in enumerate(global_sentence):\n",
        "                train_X_global[sx, wx] = word_idx[word]\n",
        "\n",
        "            for wx, word in enumerate(local_sentence):\n",
        "                train_X_local[sx, wx] = word_idx[word]\n",
        "\n",
        "        except KeyError:\n",
        "            continue\n",
        "\n",
        "    return train_X_local, train_X_global, train_y\n",
        "\n",
        "\n",
        "def get_default_device():\n",
        "    \"\"\"Pick GPU if available, else CPU\"\"\"\n",
        "    if torch.cuda.is_available():\n",
        "        return torch.device('cuda')\n",
        "    else:\n",
        "        return torch.device('cpu')\n",
        "\n",
        "\n",
        "def to_device(data, device):\n",
        "    \"\"\"Move tensor(s) to chosen device\"\"\"\n",
        "    if isinstance(data, (list, tuple)):\n",
        "        return [to_device(x, device) for x in data]\n",
        "    elif isinstance(data, dict):\n",
        "        for k, v in data.items():\n",
        "            data[k] = v.to(device)\n",
        "        return data\n",
        "    return data.to(device, non_blocking=True)\n",
        "\n",
        "\n",
        "class DeviceDataLoader():\n",
        "    \"\"\"Wrap a dataloader to move data to a device\"\"\"\n",
        "\n",
        "    def __init__(self, dl, device):\n",
        "        self.dl = dl\n",
        "        self.device = device\n",
        "\n",
        "    def __iter__(self):\n",
        "        \"\"\"Yield a batch of data after moving it to device\"\"\"\n",
        "        for b in self.dl:\n",
        "            yield to_device(b, self.device)\n",
        "\n",
        "    def __len__(self):\n",
        "        \"\"\"Number of batches\"\"\"\n",
        "        return len(self.dl)\n",
        "\n",
        "\n",
        "def loss_fn(pred, label, num_label):\n",
        "    pred = pred.view(-1,num_label)\n",
        "    label = label.view(-1)\n",
        "    loss = torch.nn.functional.cross_entropy(pred, label)\n",
        "    return loss\n",
        "\n",
        "\n",
        "def cal_acc(pred_tags, true_tags):\n",
        "    if isinstance(pred_tags, list):\n",
        "        pred_tags = torch.cat(pred_tags, 0)\n",
        "        true_tags = torch.cat(true_tags, 0)\n",
        "    acc = (pred_tags == true_tags).sum() / pred_tags.numel()\n",
        "    f1 = f1_score(true_tags.cpu().numpy(), pred_tags.cpu().numpy(), labels=[0, 1, 2], average='weighted')\n",
        "    cm = confusion_matrix(true_tags.cpu().numpy(), pred_tags.cpu().numpy())\n",
        "    return acc, f1, cm\n",
        "\n",
        "\n",
        "class Model(torch.nn.Module):\n",
        "    def __init__(self, gen_emb, num_classes=3, alpha = 0.6):\n",
        "        super(Model, self).__init__()\n",
        "  \n",
        "        self.embed = nn.Embedding.from_pretrained(torch.tensor(gen_emb, dtype=torch.float))\n",
        "        self.lstm_l = nn.LSTM(gen_emb.shape[1], hidden_size=150, num_layers=1, bidirectional=False, batch_first=True)\n",
        "        self.lstm_r = nn.LSTM(gen_emb.shape[1],hidden_size=150, num_layers=1, bidirectional=False, batch_first=True)\n",
        "\n",
        "        self.dense = nn.Linear(150*2, num_classes)\n",
        "\n",
        "        self.lstm = nn.LSTM(gen_emb.shape[1], hidden_size=150, num_layers=1, bidirectional=True, batch_first=True)\n",
        "        self.dense_1 = torch.nn.Linear(gen_emb.shape[1], num_classes)\n",
        "\n",
        "        self.alpha = alpha\n",
        "        self.dropout = nn.Dropout(0.3)\n",
        "\n",
        "\n",
        "    def forward(self, x_train_local, x_train_global):\n",
        "        x_local = self.embed(x_train_local)\n",
        "        _, (h_n, _) = self.lstm(x_local.float())\n",
        "\n",
        "        h_n = torch.cat([h_n[-2,:,:], h_n[-1,:,:]], dim=1)\n",
        "\n",
        "        x_global = self.embed(x_train_global)\n",
        "        _, (h_n_g,_) = self.lstm(x_global.float())\n",
        "\n",
        "        h_n_g = torch.cat([h_n_g[-2,:,:], h_n_g[-1,:,:]], dim=1)\n",
        "\n",
        "        avg_pool = torch.div(torch.add(h_n * (1 - self.alpha), h_n_g * self.alpha), 2)\n",
        "        out = self.dropout(avg_pool)\n",
        "\n",
        "        out = self.dense(out)\n",
        "\n",
        "\n",
        "        return out"
      ]
    },
    {
      "cell_type": "code",
      "execution_count": 10,
      "metadata": {},
      "outputs": [],
      "source": [
        "word_indx = build_vocab(df)\n",
        "    \n",
        "fn = DATA_DIR + 'glove.840B.300d.txt'\n",
        "general_embedding = gen_np_embedding(fn, word_indx, dim=300, emb=False)"
      ]
    },
    {
      "cell_type": "code",
      "execution_count": 11,
      "metadata": {},
      "outputs": [],
      "source": [
        "local_context, global_context, y = create_train_data_restaurant(all_aspect_clusters ,word_indx, sent_len=85)\n",
        "\n",
        "X_l_train, X_l_valid, X_g_train, X_g_valid,  y_train, y_valid = train_test_split(local_context, global_context, y, test_size=VALID_SIZE)\n"
      ]
    },
    {
      "cell_type": "markdown",
      "metadata": {},
      "source": [
        "## Alpha = 0"
      ]
    },
    {
      "cell_type": "code",
      "execution_count": 12,
      "metadata": {},
      "outputs": [
        {
          "name": "stdout",
          "output_type": "stream",
          "text": [
            "train samples:4641\n",
            "valid samples:1161\n"
          ]
        },
        {
          "name": "stderr",
          "output_type": "stream",
          "text": [
            "100%|██████████| 36/36 [00:11<00:00,  3.03it/s]\n",
            "100%|██████████| 2/2 [00:01<00:00,  1.46it/s]\n"
          ]
        },
        {
          "name": "stdout",
          "output_type": "stream",
          "text": [
            "\n",
            "epoch 0\n",
            "\ttrain_loss:1.072 valid_loss:1.043\n",
            "\ttrain_acc:51.61% valid_acc:53.57%\n",
            "\ttrain_f1:0.373 valid_f1:0.374\n",
            "\ttrain_confusion_matrix:\n",
            "[[  21  866   13]\n",
            " [  43 2337   30]\n",
            " [  28 1250   20]]\n",
            "\tvalid_confusion_matrix:\n",
            "[[  0 212   0]\n",
            " [  0 622   0]\n",
            " [  0 327   0]]\n"
          ]
        },
        {
          "name": "stderr",
          "output_type": "stream",
          "text": [
            "100%|██████████| 36/36 [00:11<00:00,  3.02it/s]\n",
            "100%|██████████| 2/2 [00:01<00:00,  1.48it/s]\n"
          ]
        },
        {
          "name": "stdout",
          "output_type": "stream",
          "text": [
            "\n",
            "epoch 1\n",
            "\ttrain_loss:1.026 valid_loss:0.992\n",
            "\ttrain_acc:52.15% valid_acc:53.57%\n",
            "\ttrain_f1:0.357 valid_f1:0.374\n",
            "\ttrain_confusion_matrix:\n",
            "[[   0  901    0]\n",
            " [   0 2403    0]\n",
            " [   0 1304    0]]\n",
            "\tvalid_confusion_matrix:\n",
            "[[  0 212   0]\n",
            " [  0 622   0]\n",
            " [  0 327   0]]\n"
          ]
        },
        {
          "name": "stderr",
          "output_type": "stream",
          "text": [
            "100%|██████████| 36/36 [00:11<00:00,  3.01it/s]\n",
            "100%|██████████| 2/2 [00:01<00:00,  1.55it/s]\n"
          ]
        },
        {
          "name": "stdout",
          "output_type": "stream",
          "text": [
            "\n",
            "epoch 2\n",
            "\ttrain_loss:0.991 valid_loss:0.960\n",
            "\ttrain_acc:52.13% valid_acc:53.57%\n",
            "\ttrain_f1:0.357 valid_f1:0.374\n",
            "\ttrain_confusion_matrix:\n",
            "[[   0  905    0]\n",
            " [   0 2402    0]\n",
            " [   0 1301    0]]\n",
            "\tvalid_confusion_matrix:\n",
            "[[  0 212   0]\n",
            " [  0 622   0]\n",
            " [  0 327   0]]\n"
          ]
        },
        {
          "name": "stderr",
          "output_type": "stream",
          "text": [
            "100%|██████████| 36/36 [00:11<00:00,  3.02it/s]\n",
            "100%|██████████| 2/2 [00:01<00:00,  1.50it/s]\n"
          ]
        },
        {
          "name": "stdout",
          "output_type": "stream",
          "text": [
            "\n",
            "epoch 3\n",
            "\ttrain_loss:0.941 valid_loss:0.892\n",
            "\ttrain_acc:52.78% valid_acc:56.93%\n",
            "\ttrain_f1:0.372 valid_f1:0.464\n",
            "\ttrain_confusion_matrix:\n",
            "[[   0  880   17]\n",
            " [   0 2405    2]\n",
            " [   0 1277   27]]\n",
            "\tvalid_confusion_matrix:\n",
            "[[  0 190  22]\n",
            " [  0 598  24]\n",
            " [  0 264  63]]\n"
          ]
        },
        {
          "name": "stderr",
          "output_type": "stream",
          "text": [
            "100%|██████████| 36/36 [00:12<00:00,  2.88it/s]\n",
            "100%|██████████| 2/2 [00:01<00:00,  1.53it/s]\n"
          ]
        },
        {
          "name": "stdout",
          "output_type": "stream",
          "text": [
            "\n",
            "epoch 4\n",
            "\ttrain_loss:0.883 valid_loss:0.854\n",
            "\ttrain_acc:59.92% valid_acc:60.64%\n",
            "\ttrain_f1:0.522 valid_f1:0.537\n",
            "\ttrain_confusion_matrix:\n",
            "[[   0  597  302]\n",
            " [   0 2178  228]\n",
            " [   0  720  583]]\n",
            "\tvalid_confusion_matrix:\n",
            "[[  0 131  81]\n",
            " [  0 546  76]\n",
            " [  0 169 158]]\n"
          ]
        },
        {
          "name": "stderr",
          "output_type": "stream",
          "text": [
            "100%|██████████| 36/36 [00:12<00:00,  2.91it/s]\n",
            "100%|██████████| 2/2 [00:01<00:00,  1.54it/s]\n"
          ]
        },
        {
          "name": "stdout",
          "output_type": "stream",
          "text": [
            "\n",
            "epoch 5\n",
            "\ttrain_loss:0.857 valid_loss:0.840\n",
            "\ttrain_acc:61.72% valid_acc:62.19%\n",
            "\ttrain_f1:0.546 valid_f1:0.557\n",
            "\ttrain_confusion_matrix:\n",
            "[[   0  520  382]\n",
            " [   0 2115  289]\n",
            " [   0  573  729]]\n",
            "\tvalid_confusion_matrix:\n",
            "[[  0 114  98]\n",
            " [  0 537  85]\n",
            " [  0 142 185]]\n"
          ]
        },
        {
          "name": "stderr",
          "output_type": "stream",
          "text": [
            "100%|██████████| 36/36 [00:11<00:00,  3.10it/s]\n",
            "100%|██████████| 2/2 [00:01<00:00,  1.61it/s]\n"
          ]
        },
        {
          "name": "stdout",
          "output_type": "stream",
          "text": [
            "\n",
            "epoch 6\n",
            "\ttrain_loss:0.829 valid_loss:0.820\n",
            "\ttrain_acc:63.30% valid_acc:63.31%\n",
            "\ttrain_f1:0.566 valid_f1:0.572\n",
            "\ttrain_confusion_matrix:\n",
            "[[   0  438  462]\n",
            " [   0 2034  371]\n",
            " [   0  420  883]]\n",
            "\tvalid_confusion_matrix:\n",
            "[[  0 102 110]\n",
            " [  0 515 107]\n",
            " [  0 107 220]]\n"
          ]
        },
        {
          "name": "stderr",
          "output_type": "stream",
          "text": [
            "100%|██████████| 36/36 [00:11<00:00,  3.19it/s]\n",
            "100%|██████████| 2/2 [00:01<00:00,  1.66it/s]\n"
          ]
        },
        {
          "name": "stdout",
          "output_type": "stream",
          "text": [
            "\n",
            "epoch 7\n",
            "\ttrain_loss:0.809 valid_loss:0.817\n",
            "\ttrain_acc:63.95% valid_acc:64.00%\n",
            "\ttrain_f1:0.571 valid_f1:0.574\n",
            "\ttrain_confusion_matrix:\n",
            "[[   0  455  443]\n",
            " [   0 2070  338]\n",
            " [   0  425  877]]\n",
            "\tvalid_confusion_matrix:\n",
            "[[  0 116  96]\n",
            " [  0 544  78]\n",
            " [  0 128 199]]\n"
          ]
        },
        {
          "name": "stderr",
          "output_type": "stream",
          "text": [
            "100%|██████████| 36/36 [00:11<00:00,  3.20it/s]\n",
            "100%|██████████| 2/2 [00:01<00:00,  1.60it/s]\n"
          ]
        },
        {
          "name": "stdout",
          "output_type": "stream",
          "text": [
            "\n",
            "epoch 8\n",
            "\ttrain_loss:0.787 valid_loss:0.803\n",
            "\ttrain_acc:65.65% valid_acc:64.51%\n",
            "\ttrain_f1:0.588 valid_f1:0.583\n",
            "\ttrain_confusion_matrix:\n",
            "[[   0  427  470]\n",
            " [   0 2084  325]\n",
            " [   0  361  941]]\n",
            "\tvalid_confusion_matrix:\n",
            "[[  0 103 109]\n",
            " [  0 521 101]\n",
            " [  0  99 228]]\n"
          ]
        },
        {
          "name": "stderr",
          "output_type": "stream",
          "text": [
            "100%|██████████| 36/36 [00:11<00:00,  3.20it/s]\n",
            "100%|██████████| 2/2 [00:01<00:00,  1.61it/s]\n"
          ]
        },
        {
          "name": "stdout",
          "output_type": "stream",
          "text": [
            "\n",
            "epoch 9\n",
            "\ttrain_loss:0.773 valid_loss:0.797\n",
            "\ttrain_acc:65.95% valid_acc:65.12%\n",
            "\ttrain_f1:0.591 valid_f1:0.590\n",
            "\ttrain_confusion_matrix:\n",
            "[[   2  429  470]\n",
            " [   2 2078  328]\n",
            " [   0  340  959]]\n",
            "\tvalid_confusion_matrix:\n",
            "[[  1 103 108]\n",
            " [  1 524  97]\n",
            " [  0  96 231]]\n"
          ]
        },
        {
          "name": "stderr",
          "output_type": "stream",
          "text": [
            "100%|██████████| 36/36 [00:11<00:00,  3.21it/s]\n",
            "100%|██████████| 2/2 [00:01<00:00,  1.67it/s]\n"
          ]
        },
        {
          "name": "stdout",
          "output_type": "stream",
          "text": [
            "\n",
            "epoch 10\n",
            "\ttrain_loss:0.761 valid_loss:0.797\n",
            "\ttrain_acc:66.75% valid_acc:65.72%\n",
            "\ttrain_f1:0.599 valid_f1:0.596\n",
            "\ttrain_confusion_matrix:\n",
            "[[   4  429  467]\n",
            " [   3 2085  317]\n",
            " [   3  313  987]]\n",
            "\tvalid_confusion_matrix:\n",
            "[[  3 108 101]\n",
            " [  1 540  81]\n",
            " [  4 103 220]]\n"
          ]
        },
        {
          "name": "stderr",
          "output_type": "stream",
          "text": [
            "100%|██████████| 36/36 [00:11<00:00,  3.19it/s]\n",
            "100%|██████████| 2/2 [00:01<00:00,  1.66it/s]\n"
          ]
        },
        {
          "name": "stdout",
          "output_type": "stream",
          "text": [
            "\n",
            "epoch 11\n",
            "\ttrain_loss:0.750 valid_loss:0.791\n",
            "\ttrain_acc:66.80% valid_acc:65.72%\n",
            "\ttrain_f1:0.606 valid_f1:0.603\n",
            "\ttrain_confusion_matrix:\n",
            "[[  23  440  437]\n",
            " [  16 2102  286]\n",
            " [  13  338  953]]\n",
            "\tvalid_confusion_matrix:\n",
            "[[  8 112  92]\n",
            " [ 10 536  76]\n",
            " [  4 104 219]]\n"
          ]
        },
        {
          "name": "stderr",
          "output_type": "stream",
          "text": [
            "100%|██████████| 36/36 [00:11<00:00,  3.21it/s]\n",
            "100%|██████████| 2/2 [00:01<00:00,  1.67it/s]\n"
          ]
        },
        {
          "name": "stdout",
          "output_type": "stream",
          "text": [
            "\n",
            "epoch 12\n",
            "\ttrain_loss:0.736 valid_loss:0.791\n",
            "\ttrain_acc:67.77% valid_acc:66.93%\n",
            "\ttrain_f1:0.625 valid_f1:0.618\n",
            "\ttrain_confusion_matrix:\n",
            "[[  57  429  412]\n",
            " [  34 2095  283]\n",
            " [  20  307  971]]\n",
            "\tvalid_confusion_matrix:\n",
            "[[ 15 119  78]\n",
            " [  8 555  59]\n",
            " [  7 113 207]]\n"
          ]
        },
        {
          "name": "stderr",
          "output_type": "stream",
          "text": [
            "100%|██████████| 36/36 [00:11<00:00,  3.17it/s]\n",
            "100%|██████████| 2/2 [00:01<00:00,  1.62it/s]\n"
          ]
        },
        {
          "name": "stdout",
          "output_type": "stream",
          "text": [
            "\n",
            "epoch 13\n",
            "\ttrain_loss:0.726 valid_loss:0.776\n",
            "\ttrain_acc:68.84% valid_acc:66.58%\n",
            "\ttrain_f1:0.639 valid_f1:0.625\n",
            "\ttrain_confusion_matrix:\n",
            "[[  77  418  406]\n",
            " [  45 2098  264]\n",
            " [  18  285  997]]\n",
            "\tvalid_confusion_matrix:\n",
            "[[ 21 103  88]\n",
            " [ 19 534  69]\n",
            " [  8 101 218]]\n"
          ]
        },
        {
          "name": "stderr",
          "output_type": "stream",
          "text": [
            "100%|██████████| 36/36 [00:11<00:00,  3.24it/s]\n",
            "100%|██████████| 2/2 [00:01<00:00,  1.66it/s]\n"
          ]
        },
        {
          "name": "stdout",
          "output_type": "stream",
          "text": [
            "\n",
            "epoch 14\n",
            "\ttrain_loss:0.721 valid_loss:0.778\n",
            "\ttrain_acc:69.31% valid_acc:65.37%\n",
            "\ttrain_f1:0.654 valid_f1:0.617\n",
            "\ttrain_confusion_matrix:\n",
            "[[ 119  398  384]\n",
            " [  65 2082  254]\n",
            " [  36  277  993]]\n",
            "\tvalid_confusion_matrix:\n",
            "[[ 20  91 101]\n",
            " [ 18 500 104]\n",
            " [  7  81 239]]\n"
          ]
        },
        {
          "name": "stderr",
          "output_type": "stream",
          "text": [
            "100%|██████████| 36/36 [00:11<00:00,  3.25it/s]\n",
            "100%|██████████| 2/2 [00:01<00:00,  1.64it/s]\n"
          ]
        },
        {
          "name": "stdout",
          "output_type": "stream",
          "text": [
            "\n",
            "epoch 15\n",
            "\ttrain_loss:0.716 valid_loss:0.778\n",
            "\ttrain_acc:68.49% valid_acc:65.98%\n",
            "\ttrain_f1:0.645 valid_f1:0.632\n",
            "\ttrain_confusion_matrix:\n",
            "[[ 111  409  380]\n",
            " [  65 2086  254]\n",
            " [  48  296  959]]\n",
            "\tvalid_confusion_matrix:\n",
            "[[ 29  82 101]\n",
            " [ 25 497 100]\n",
            " [ 14  73 240]]\n"
          ]
        },
        {
          "name": "stderr",
          "output_type": "stream",
          "text": [
            "100%|██████████| 36/36 [00:11<00:00,  3.24it/s]\n",
            "100%|██████████| 2/2 [00:01<00:00,  1.68it/s]\n"
          ]
        },
        {
          "name": "stdout",
          "output_type": "stream",
          "text": [
            "\n",
            "epoch 16\n",
            "\ttrain_loss:0.705 valid_loss:0.762\n",
            "\ttrain_acc:69.97% valid_acc:67.36%\n",
            "\ttrain_f1:0.665 valid_f1:0.640\n",
            "\ttrain_confusion_matrix:\n",
            "[[ 145  390  368]\n",
            " [  77 2089  233]\n",
            " [  59  257  990]]\n",
            "\tvalid_confusion_matrix:\n",
            "[[ 29 102  81]\n",
            " [ 24 527  71]\n",
            " [ 13  88 226]]\n"
          ]
        },
        {
          "name": "stderr",
          "output_type": "stream",
          "text": [
            "100%|██████████| 36/36 [00:11<00:00,  3.24it/s]\n",
            "100%|██████████| 2/2 [00:01<00:00,  1.66it/s]\n"
          ]
        },
        {
          "name": "stdout",
          "output_type": "stream",
          "text": [
            "\n",
            "epoch 17\n",
            "\ttrain_loss:0.693 valid_loss:0.777\n",
            "\ttrain_acc:70.36% valid_acc:67.96%\n",
            "\ttrain_f1:0.673 valid_f1:0.650\n",
            "\ttrain_confusion_matrix:\n",
            "[[ 162  375  360]\n",
            " [  84 2087  235]\n",
            " [  70  242  993]]\n",
            "\tvalid_confusion_matrix:\n",
            "[[ 37  99  76]\n",
            " [ 23 536  63]\n",
            " [ 17  94 216]]\n"
          ]
        },
        {
          "name": "stderr",
          "output_type": "stream",
          "text": [
            "100%|██████████| 36/36 [00:11<00:00,  3.24it/s]\n",
            "100%|██████████| 2/2 [00:01<00:00,  1.63it/s]\n"
          ]
        },
        {
          "name": "stdout",
          "output_type": "stream",
          "text": [
            "\n",
            "epoch 18\n",
            "\ttrain_loss:0.688 valid_loss:0.778\n",
            "\ttrain_acc:71.22% valid_acc:68.30%\n",
            "\ttrain_f1:0.683 valid_f1:0.659\n",
            "\ttrain_confusion_matrix:\n",
            "[[ 172  360  362]\n",
            " [  80 2104  223]\n",
            " [  67  234 1006]]\n",
            "\tvalid_confusion_matrix:\n",
            "[[ 43  86  83]\n",
            " [ 25 526  71]\n",
            " [ 20  83 224]]\n"
          ]
        },
        {
          "name": "stderr",
          "output_type": "stream",
          "text": [
            "100%|██████████| 36/36 [00:11<00:00,  3.22it/s]\n",
            "100%|██████████| 2/2 [00:01<00:00,  1.65it/s]"
          ]
        },
        {
          "name": "stdout",
          "output_type": "stream",
          "text": [
            "\n",
            "epoch 19\n",
            "\ttrain_loss:0.683 valid_loss:0.772\n",
            "\ttrain_acc:71.18% valid_acc:67.18%\n",
            "\ttrain_f1:0.688 valid_f1:0.649\n",
            "\ttrain_confusion_matrix:\n",
            "[[ 206  349  346]\n",
            " [ 112 2086  208]\n",
            " [  90  223  988]]\n",
            "\tvalid_confusion_matrix:\n",
            "[[ 40  88  84]\n",
            " [ 30 511  81]\n",
            " [ 22  76 229]]\n"
          ]
        },
        {
          "name": "stderr",
          "output_type": "stream",
          "text": [
            "\n"
          ]
        }
      ],
      "source": [
        "device = get_default_device()\n",
        "\n",
        "NUM_EPOCHS = 20\n",
        "TRAIN_BATCH_SIZE = 128\n",
        "VALID_BATCH_SIZE = 1024\n",
        "\n",
        "NUM_POLARITY_TAGS = 3\n",
        "\n",
        "history = {\n",
        "    \"train_loss\": list(),\n",
        "    \"polarity_train_acc\": list(),\n",
        "    \"valid_loss\": list(),\n",
        "    \"polarity_valid_acc\": list(),\n",
        "}\n",
        "\n",
        "best_loss = np.inf\n",
        "\n",
        "dataset = TensorDataset(torch.Tensor(X_l_train), torch.Tensor(X_g_train), torch.Tensor(y_train))\n",
        "print(f\"train samples:{len(dataset)}\")\n",
        "train_loader = DataLoader(dataset, batch_size=TRAIN_BATCH_SIZE, shuffle=True, drop_last=True)\n",
        "\n",
        "dataset_valid = TensorDataset(torch.Tensor(X_l_valid),  torch.Tensor(X_g_valid), torch.Tensor(y_valid))\n",
        "print(f\"valid samples:{len(dataset_valid)}\")\n",
        "test_loader = DataLoader(dataset_valid, batch_size=VALID_BATCH_SIZE)\n",
        "\n",
        "model = to_device(Model(general_embedding,  num_classes=3, alpha = 0), device)\n",
        "\n",
        "torch.cuda.empty_cache()\n",
        "\n",
        "parameters = [p for p in model.parameters() if p.requires_grad]\n",
        "optimizer = AdamW(parameters, lr=1e-4)\n",
        "\n",
        "\n",
        "for epoch in range(NUM_EPOCHS):\n",
        "    train_losses = []\n",
        "    train_acc = []\n",
        "    test_loss = []\n",
        "    test_acc = []\n",
        "    train_f1 = []\n",
        "    test_f1 = []\n",
        "\n",
        "    model.train()\n",
        "    preds = []\n",
        "    masks = []\n",
        "    labels = []\n",
        "    for data in tqdm(train_loader, total=len(train_loader)):\n",
        "        for i in range(len(data)):\n",
        "            data[i] = data[i].to(device)\n",
        "        l_feature, g_feature, label = data\n",
        "        l_feature, g_feature, label = l_feature.long(), g_feature.long(), label.long()\n",
        "\n",
        "        optimizer.zero_grad()\n",
        "        pred_logits = model(l_feature, g_feature)\n",
        "        loss = loss_fn(pred_logits, label, 3)\n",
        "        loss.backward()\n",
        "        optimizer.step()\n",
        "\n",
        "        train_losses.append(loss.item())\n",
        "\n",
        "        pred_tags = pred_logits.max(-1)[1]\n",
        "        preds.append(pred_tags)\n",
        "        labels.append(label)\n",
        "\n",
        "    avg_train_acc, avg_train_f1, train_cm = cal_acc(preds,labels)\n",
        "    avg_train_loss = sum(train_losses) / len(train_losses)\n",
        "\n",
        "    preds = []\n",
        "    masks = []\n",
        "    labels = []\n",
        "    with torch.no_grad():\n",
        "        for data in tqdm(test_loader, total=len(test_loader)):\n",
        "            for i in range(len(data)):\n",
        "                data[i] = data[i].to(device)\n",
        "            l_feature, g_feature, label = data\n",
        "            l_feature, g_feature, label = l_feature.long(), g_feature.long(), label.long()\n",
        "            pred_logits = model(l_feature, g_feature)\n",
        "            loss = loss_fn(pred_logits, label, 3)\n",
        "\n",
        "            test_loss.append(loss.item())\n",
        "\n",
        "            pred_tags = pred_logits.max(-1)[1]\n",
        "\n",
        "            preds.append(pred_tags)\n",
        "            labels.append(label)\n",
        "\n",
        "    avg_test_acc, avg_test_f1, test_cm = cal_acc(preds,  labels)\n",
        "    avg_test_loss = sum(test_loss) / len(test_loss)\n",
        "\n",
        "    print(f\"\\nepoch {epoch}\")\n",
        "    print(\"\\ttrain_loss:{:.3f} valid_loss:{:.3f}\".format(avg_train_loss, avg_test_loss))\n",
        "    print(\"\\ttrain_acc:{:.2%} valid_acc:{:.2%}\".format(avg_train_acc, avg_test_acc))\n",
        "    print(\"\\ttrain_f1:{:.3f} valid_f1:{:.3f}\".format(avg_train_f1, avg_test_f1))\n",
        "    print(f\"\\ttrain_confusion_matrix:\\n{train_cm}\")\n",
        "    print(f\"\\tvalid_confusion_matrix:\\n{test_cm}\")\n",
        "\n",
        "    if avg_test_loss < best_loss:\n",
        "        torch.save(model.state_dict(), MODEL_PATH)\n",
        "        best_loss = avg_test_loss    \n",
        "        \n",
        "    history['train_loss'].append(avg_train_loss)\n",
        "    history['polarity_train_acc'].append(avg_train_acc.cpu().numpy())\n",
        "    history['valid_loss'].append(avg_test_loss)\n",
        "    history['polarity_valid_acc'].append(avg_test_acc.cpu().numpy())\n",
        "        \n",
        "    \n"
      ]
    },
    {
      "cell_type": "code",
      "execution_count": 13,
      "metadata": {},
      "outputs": [
        {
          "data": {
            "text/plain": [
              "(0.4, 0.9)"
            ]
          },
          "execution_count": 13,
          "metadata": {},
          "output_type": "execute_result"
        },
        {
          "data": {
            "image/png": "[encoded data removed]",
            "text/plain": [
              "<Figure size 432x288 with 1 Axes>"
            ]
          },
          "metadata": {
            "needs_background": "light"
          },
          "output_type": "display_data"
        }
      ],
      "source": [
        "import matplotlib.pyplot as plt\n",
        "plt.plot(history['polarity_train_acc'], label='train accuracy')\n",
        "plt.plot(history['polarity_valid_acc'], label='validation accuracy')\n",
        "plt.title('Training history')\n",
        "plt.ylabel('Accuracy')\n",
        "plt.xlabel('Epoch')\n",
        "plt.legend()\n",
        "plt.ylim([0.4, 0.9])"
      ]
    },
    {
      "cell_type": "code",
      "execution_count": 14,
      "metadata": {},
      "outputs": [
        {
          "name": "stdout",
          "output_type": "stream",
          "text": [
            "Loading saved model from: model_task2.bin\n"
          ]
        },
        {
          "name": "stderr",
          "output_type": "stream",
          "text": [
            "100%|██████████| 2/2 [00:01<00:00,  1.46it/s]"
          ]
        },
        {
          "name": "stdout",
          "output_type": "stream",
          "text": [
            "              precision    recall  f1-score   support\n",
            "\n",
            "     Neutral       0.41      0.13      0.19       212\n",
            "    Positive       0.73      0.85      0.79       622\n",
            "    Negative       0.59      0.68      0.63       327\n",
            "\n",
            "    accuracy                           0.67      1161\n",
            "   macro avg       0.58      0.55      0.54      1161\n",
            "weighted avg       0.63      0.67      0.63      1161\n",
            "\n"
          ]
        },
        {
          "name": "stderr",
          "output_type": "stream",
          "text": [
            "\n"
          ]
        }
      ],
      "source": [
        "def get_classification_report(test_loader, model, model_path=None):\n",
        "    if model_path is not None: # load the saved model\n",
        "        print('Loading saved model from: {}'.format(model_path))\n",
        "        model.load_state_dict(torch.load(model_path))\n",
        "    model = to_device(model, device)   \n",
        "    \n",
        "    model.eval()\n",
        "    final_pred_polarity_tags = []\n",
        "    final_true_polarity_tags = []\n",
        "\n",
        "\n",
        "    with torch.no_grad():\n",
        "        for data in tqdm(test_loader, total=len(test_loader)):\n",
        "            for i in range(len(data)):\n",
        "                data[i] = data[i].to(device)\n",
        "\n",
        "            l_feature, g_feature, label = data\n",
        "            l_feature, g_feature, label = l_feature.long(), g_feature.long(), label.long()\n",
        "            pred_logits = model(l_feature, g_feature)\n",
        "\n",
        "            pred_tags = pred_logits.max(-1)[1]\n",
        "\n",
        "            final_pred_polarity_tags.extend(pred_tags)\n",
        "            final_true_polarity_tags.extend(label)\n",
        "\n",
        "    final_pred_polarity_tags = torch.stack(final_pred_polarity_tags).cpu()\n",
        "    final_true_polarity_tags = torch.stack(final_true_polarity_tags).cpu()\n",
        "        \n",
        "    print(classification_report(final_true_polarity_tags, final_pred_polarity_tags, \n",
        "                                target_names=[\"Neutral\", \"Positive\", \"Negative\"]))\n",
        "    \n",
        "get_classification_report(test_loader, model, model_path=MODEL_PATH)"
      ]
    },
    {
      "cell_type": "markdown",
      "metadata": {},
      "source": [
        "## Alpha = 0.2"
      ]
    },
    {
      "cell_type": "code",
      "execution_count": 15,
      "metadata": {},
      "outputs": [
        {
          "name": "stdout",
          "output_type": "stream",
          "text": [
            "train samples:4641\n",
            "valid samples:1161\n"
          ]
        },
        {
          "name": "stderr",
          "output_type": "stream",
          "text": [
            "100%|██████████| 36/36 [00:11<00:00,  3.07it/s]\n",
            "100%|██████████| 2/2 [00:01<00:00,  1.53it/s]\n"
          ]
        },
        {
          "name": "stdout",
          "output_type": "stream",
          "text": [
            "\n",
            "epoch 0\n",
            "\ttrain_loss:1.081 valid_loss:1.050\n",
            "\ttrain_acc:46.16% valid_acc:53.57%\n",
            "\ttrain_f1:0.371 valid_f1:0.374\n",
            "\ttrain_confusion_matrix:\n",
            "[[ 181  718    0]\n",
            " [ 463 1946    0]\n",
            " [ 232 1068    0]]\n",
            "\tvalid_confusion_matrix:\n",
            "[[  0 212   0]\n",
            " [  0 622   0]\n",
            " [  1 326   0]]\n"
          ]
        },
        {
          "name": "stderr",
          "output_type": "stream",
          "text": [
            "100%|██████████| 36/36 [00:11<00:00,  3.14it/s]\n",
            "100%|██████████| 2/2 [00:01<00:00,  1.55it/s]\n"
          ]
        },
        {
          "name": "stdout",
          "output_type": "stream",
          "text": [
            "\n",
            "epoch 1\n",
            "\ttrain_loss:1.034 valid_loss:0.996\n",
            "\ttrain_acc:52.08% valid_acc:53.57%\n",
            "\ttrain_f1:0.357 valid_f1:0.374\n",
            "\ttrain_confusion_matrix:\n",
            "[[   0  904    0]\n",
            " [   0 2400    0]\n",
            " [   0 1304    0]]\n",
            "\tvalid_confusion_matrix:\n",
            "[[  0 212   0]\n",
            " [  0 622   0]\n",
            " [  0 327   0]]\n"
          ]
        },
        {
          "name": "stderr",
          "output_type": "stream",
          "text": [
            "100%|██████████| 36/36 [00:11<00:00,  3.16it/s]\n",
            "100%|██████████| 2/2 [00:01<00:00,  1.55it/s]\n"
          ]
        },
        {
          "name": "stdout",
          "output_type": "stream",
          "text": [
            "\n",
            "epoch 2\n",
            "\ttrain_loss:0.991 valid_loss:0.957\n",
            "\ttrain_acc:52.17% valid_acc:53.57%\n",
            "\ttrain_f1:0.358 valid_f1:0.374\n",
            "\ttrain_confusion_matrix:\n",
            "[[   0  902    0]\n",
            " [   0 2404    0]\n",
            " [   0 1302    0]]\n",
            "\tvalid_confusion_matrix:\n",
            "[[  0 212   0]\n",
            " [  0 622   0]\n",
            " [  0 327   0]]\n"
          ]
        },
        {
          "name": "stderr",
          "output_type": "stream",
          "text": [
            "100%|██████████| 36/36 [00:11<00:00,  3.16it/s]\n",
            "100%|██████████| 2/2 [00:01<00:00,  1.55it/s]\n"
          ]
        },
        {
          "name": "stdout",
          "output_type": "stream",
          "text": [
            "\n",
            "epoch 3\n",
            "\ttrain_loss:0.934 valid_loss:0.878\n",
            "\ttrain_acc:53.12% valid_acc:57.11%\n",
            "\ttrain_f1:0.379 valid_f1:0.467\n",
            "\ttrain_confusion_matrix:\n",
            "[[   0  881   17]\n",
            " [   0 2406    4]\n",
            " [   0 1258   42]]\n",
            "\tvalid_confusion_matrix:\n",
            "[[  0 188  24]\n",
            " [  0 598  24]\n",
            " [  0 262  65]]\n"
          ]
        },
        {
          "name": "stderr",
          "output_type": "stream",
          "text": [
            "100%|██████████| 36/36 [00:11<00:00,  3.16it/s]\n",
            "100%|██████████| 2/2 [00:01<00:00,  1.54it/s]\n"
          ]
        },
        {
          "name": "stdout",
          "output_type": "stream",
          "text": [
            "\n",
            "epoch 4\n",
            "\ttrain_loss:0.872 valid_loss:0.831\n",
            "\ttrain_acc:60.00% valid_acc:62.10%\n",
            "\ttrain_f1:0.520 valid_f1:0.551\n",
            "\ttrain_confusion_matrix:\n",
            "[[   0  613  291]\n",
            " [   0 2206  195]\n",
            " [   0  744  559]]\n",
            "\tvalid_confusion_matrix:\n",
            "[[  0 133  79]\n",
            " [  0 553  69]\n",
            " [  0 159 168]]\n"
          ]
        },
        {
          "name": "stderr",
          "output_type": "stream",
          "text": [
            "100%|██████████| 36/36 [00:11<00:00,  3.16it/s]\n",
            "100%|██████████| 2/2 [00:01<00:00,  1.53it/s]\n"
          ]
        },
        {
          "name": "stdout",
          "output_type": "stream",
          "text": [
            "\n",
            "epoch 5\n",
            "\ttrain_loss:0.839 valid_loss:0.810\n",
            "\ttrain_acc:62.07% valid_acc:62.53%\n",
            "\ttrain_f1:0.553 valid_f1:0.562\n",
            "\ttrain_confusion_matrix:\n",
            "[[   0  470  431]\n",
            " [   0 2061  346]\n",
            " [   0  501  799]]\n",
            "\tvalid_confusion_matrix:\n",
            "[[  0 113  99]\n",
            " [  0 526  96]\n",
            " [  0 127 200]]\n"
          ]
        },
        {
          "name": "stderr",
          "output_type": "stream",
          "text": [
            "100%|██████████| 36/36 [00:11<00:00,  3.15it/s]\n",
            "100%|██████████| 2/2 [00:01<00:00,  1.53it/s]\n"
          ]
        },
        {
          "name": "stdout",
          "output_type": "stream",
          "text": [
            "\n",
            "epoch 6\n",
            "\ttrain_loss:0.813 valid_loss:0.799\n",
            "\ttrain_acc:63.37% valid_acc:62.79%\n",
            "\ttrain_f1:0.567 valid_f1:0.567\n",
            "\ttrain_confusion_matrix:\n",
            "[[   0  431  463]\n",
            " [   0 2055  355]\n",
            " [   0  439  865]]\n",
            "\tvalid_confusion_matrix:\n",
            "[[  0  99 113]\n",
            " [  0 516 106]\n",
            " [  0 114 213]]\n"
          ]
        },
        {
          "name": "stderr",
          "output_type": "stream",
          "text": [
            "100%|██████████| 36/36 [00:11<00:00,  3.16it/s]\n",
            "100%|██████████| 2/2 [00:01<00:00,  1.57it/s]\n"
          ]
        },
        {
          "name": "stdout",
          "output_type": "stream",
          "text": [
            "\n",
            "epoch 7\n",
            "\ttrain_loss:0.793 valid_loss:0.788\n",
            "\ttrain_acc:64.17% valid_acc:64.77%\n",
            "\ttrain_f1:0.574 valid_f1:0.583\n",
            "\ttrain_confusion_matrix:\n",
            "[[   0  412  488]\n",
            " [   0 2051  350]\n",
            " [   0  401  906]]\n",
            "\tvalid_confusion_matrix:\n",
            "[[  0 105 107]\n",
            " [  0 540  82]\n",
            " [  0 115 212]]\n"
          ]
        },
        {
          "name": "stderr",
          "output_type": "stream",
          "text": [
            "100%|██████████| 36/36 [00:11<00:00,  3.14it/s]\n",
            "100%|██████████| 2/2 [00:01<00:00,  1.53it/s]\n"
          ]
        },
        {
          "name": "stdout",
          "output_type": "stream",
          "text": [
            "\n",
            "epoch 8\n",
            "\ttrain_loss:0.777 valid_loss:0.781\n",
            "\ttrain_acc:65.49% valid_acc:64.86%\n",
            "\ttrain_f1:0.587 valid_f1:0.584\n",
            "\ttrain_confusion_matrix:\n",
            "[[   0  403  497]\n",
            " [   0 2070  335]\n",
            " [   0  355  948]]\n",
            "\tvalid_confusion_matrix:\n",
            "[[  0 103 109]\n",
            " [  0 539  83]\n",
            " [  0 113 214]]\n"
          ]
        },
        {
          "name": "stderr",
          "output_type": "stream",
          "text": [
            "100%|██████████| 36/36 [00:11<00:00,  3.13it/s]\n",
            "100%|██████████| 2/2 [00:01<00:00,  1.55it/s]\n"
          ]
        },
        {
          "name": "stdout",
          "output_type": "stream",
          "text": [
            "\n",
            "epoch 9\n",
            "\ttrain_loss:0.762 valid_loss:0.768\n",
            "\ttrain_acc:66.38% valid_acc:65.63%\n",
            "\ttrain_f1:0.594 valid_f1:0.592\n",
            "\ttrain_confusion_matrix:\n",
            "[[   0  417  486]\n",
            " [   1 2087  316]\n",
            " [   0  329  972]]\n",
            "\tvalid_confusion_matrix:\n",
            "[[  0  99 113]\n",
            " [  0 534  88]\n",
            " [  0  99 228]]\n"
          ]
        },
        {
          "name": "stderr",
          "output_type": "stream",
          "text": [
            "100%|██████████| 36/36 [00:11<00:00,  3.14it/s]\n",
            "100%|██████████| 2/2 [00:01<00:00,  1.55it/s]\n"
          ]
        },
        {
          "name": "stdout",
          "output_type": "stream",
          "text": [
            "\n",
            "epoch 10\n",
            "\ttrain_loss:0.749 valid_loss:0.769\n",
            "\ttrain_acc:67.14% valid_acc:65.98%\n",
            "\ttrain_f1:0.602 valid_f1:0.594\n",
            "\ttrain_confusion_matrix:\n",
            "[[   3  414  484]\n",
            " [   0 2091  315]\n",
            " [   0  301 1000]]\n",
            "\tvalid_confusion_matrix:\n",
            "[[  0 108 104]\n",
            " [  1 543  78]\n",
            " [  0 104 223]]\n"
          ]
        },
        {
          "name": "stderr",
          "output_type": "stream",
          "text": [
            "100%|██████████| 36/36 [00:11<00:00,  3.15it/s]\n",
            "100%|██████████| 2/2 [00:01<00:00,  1.52it/s]\n"
          ]
        },
        {
          "name": "stdout",
          "output_type": "stream",
          "text": [
            "\n",
            "epoch 11\n",
            "\ttrain_loss:0.733 valid_loss:0.762\n",
            "\ttrain_acc:67.95% valid_acc:67.10%\n",
            "\ttrain_f1:0.609 valid_f1:0.609\n",
            "\ttrain_confusion_matrix:\n",
            "[[   5  434  461]\n",
            " [   5 2136  266]\n",
            " [   1  310  990]]\n",
            "\tvalid_confusion_matrix:\n",
            "[[  2  99 111]\n",
            " [  2 535  85]\n",
            " [  1  84 242]]\n"
          ]
        },
        {
          "name": "stderr",
          "output_type": "stream",
          "text": [
            "100%|██████████| 36/36 [00:11<00:00,  3.14it/s]\n",
            "100%|██████████| 2/2 [00:01<00:00,  1.56it/s]\n"
          ]
        },
        {
          "name": "stdout",
          "output_type": "stream",
          "text": [
            "\n",
            "epoch 12\n",
            "\ttrain_loss:0.726 valid_loss:0.758\n",
            "\ttrain_acc:67.99% valid_acc:66.58%\n",
            "\ttrain_f1:0.615 valid_f1:0.605\n",
            "\ttrain_confusion_matrix:\n",
            "[[  16  429  454]\n",
            " [  14 2115  278]\n",
            " [   8  292 1002]]\n",
            "\tvalid_confusion_matrix:\n",
            "[[  2 103 107]\n",
            " [  5 537  80]\n",
            " [  3  90 234]]\n"
          ]
        },
        {
          "name": "stderr",
          "output_type": "stream",
          "text": [
            "100%|██████████| 36/36 [00:11<00:00,  3.13it/s]\n",
            "100%|██████████| 2/2 [00:01<00:00,  1.54it/s]\n"
          ]
        },
        {
          "name": "stdout",
          "output_type": "stream",
          "text": [
            "\n",
            "epoch 13\n",
            "\ttrain_loss:0.712 valid_loss:0.751\n",
            "\ttrain_acc:68.92% valid_acc:67.18%\n",
            "\ttrain_f1:0.628 valid_f1:0.617\n",
            "\ttrain_confusion_matrix:\n",
            "[[  30  417  448]\n",
            " [  15 2124  270]\n",
            " [  10  272 1022]]\n",
            "\tvalid_confusion_matrix:\n",
            "[[  9 107  96]\n",
            " [  6 546  70]\n",
            " [  3  99 225]]\n"
          ]
        },
        {
          "name": "stderr",
          "output_type": "stream",
          "text": [
            "100%|██████████| 36/36 [00:11<00:00,  3.13it/s]\n",
            "100%|██████████| 2/2 [00:01<00:00,  1.53it/s]\n"
          ]
        },
        {
          "name": "stdout",
          "output_type": "stream",
          "text": [
            "\n",
            "epoch 14\n",
            "\ttrain_loss:0.709 valid_loss:0.762\n",
            "\ttrain_acc:69.62% valid_acc:67.44%\n",
            "\ttrain_f1:0.641 valid_f1:0.625\n",
            "\ttrain_confusion_matrix:\n",
            "[[  55  405  440]\n",
            " [  25 2126  256]\n",
            " [  20  254 1027]]\n",
            "\tvalid_confusion_matrix:\n",
            "[[ 17 113  82]\n",
            " [  8 557  57]\n",
            " [  6 112 209]]\n"
          ]
        },
        {
          "name": "stderr",
          "output_type": "stream",
          "text": [
            "100%|██████████| 36/36 [00:11<00:00,  3.07it/s]\n",
            "100%|██████████| 2/2 [00:01<00:00,  1.56it/s]\n"
          ]
        },
        {
          "name": "stdout",
          "output_type": "stream",
          "text": [
            "\n",
            "epoch 15\n",
            "\ttrain_loss:0.698 valid_loss:0.751\n",
            "\ttrain_acc:69.90% valid_acc:68.13%\n",
            "\ttrain_f1:0.648 valid_f1:0.633\n",
            "\ttrain_confusion_matrix:\n",
            "[[  76  421  405]\n",
            " [  35 2143  229]\n",
            " [  27  270 1002]]\n",
            "\tvalid_confusion_matrix:\n",
            "[[ 15  98  99]\n",
            " [  7 538  77]\n",
            " [  4  85 238]]\n"
          ]
        },
        {
          "name": "stderr",
          "output_type": "stream",
          "text": [
            "100%|██████████| 36/36 [00:11<00:00,  3.14it/s]\n",
            "100%|██████████| 2/2 [00:01<00:00,  1.51it/s]\n"
          ]
        },
        {
          "name": "stdout",
          "output_type": "stream",
          "text": [
            "\n",
            "epoch 16\n",
            "\ttrain_loss:0.688 valid_loss:0.742\n",
            "\ttrain_acc:70.49% valid_acc:67.36%\n",
            "\ttrain_f1:0.658 valid_f1:0.636\n",
            "\ttrain_confusion_matrix:\n",
            "[[  89  396  416]\n",
            " [  42 2138  223]\n",
            " [  34  249 1021]]\n",
            "\tvalid_confusion_matrix:\n",
            "[[ 21  89 102]\n",
            " [ 16 516  90]\n",
            " [ 10  72 245]]\n"
          ]
        },
        {
          "name": "stderr",
          "output_type": "stream",
          "text": [
            "100%|██████████| 36/36 [00:11<00:00,  3.13it/s]\n",
            "100%|██████████| 2/2 [00:01<00:00,  1.52it/s]\n"
          ]
        },
        {
          "name": "stdout",
          "output_type": "stream",
          "text": [
            "\n",
            "epoch 17\n",
            "\ttrain_loss:0.683 valid_loss:0.746\n",
            "\ttrain_acc:70.57% valid_acc:68.39%\n",
            "\ttrain_f1:0.663 valid_f1:0.649\n",
            "\ttrain_confusion_matrix:\n",
            "[[ 106  383  411]\n",
            " [  51 2119  232]\n",
            " [  44  235 1027]]\n",
            "\tvalid_confusion_matrix:\n",
            "[[ 28  95  89]\n",
            " [ 15 526  81]\n",
            " [  8  79 240]]\n"
          ]
        },
        {
          "name": "stderr",
          "output_type": "stream",
          "text": [
            "100%|██████████| 36/36 [00:11<00:00,  3.10it/s]\n",
            "100%|██████████| 2/2 [00:01<00:00,  1.53it/s]\n"
          ]
        },
        {
          "name": "stdout",
          "output_type": "stream",
          "text": [
            "\n",
            "epoch 18\n",
            "\ttrain_loss:0.674 valid_loss:0.737\n",
            "\ttrain_acc:71.31% valid_acc:69.25%\n",
            "\ttrain_f1:0.676 valid_f1:0.662\n",
            "\ttrain_confusion_matrix:\n",
            "[[ 134  383  379]\n",
            " [  62 2151  195]\n",
            " [  58  245 1001]]\n",
            "\tvalid_confusion_matrix:\n",
            "[[ 34  89  89]\n",
            " [ 18 529  75]\n",
            " [ 13  73 241]]\n"
          ]
        },
        {
          "name": "stderr",
          "output_type": "stream",
          "text": [
            "100%|██████████| 36/36 [00:11<00:00,  3.14it/s]\n",
            "100%|██████████| 2/2 [00:01<00:00,  1.54it/s]"
          ]
        },
        {
          "name": "stdout",
          "output_type": "stream",
          "text": [
            "\n",
            "epoch 19\n",
            "\ttrain_loss:0.668 valid_loss:0.729\n",
            "\ttrain_acc:71.44% valid_acc:69.60%\n",
            "\ttrain_f1:0.680 valid_f1:0.668\n",
            "\ttrain_confusion_matrix:\n",
            "[[ 150  366  386]\n",
            " [  66 2128  210]\n",
            " [  67  221 1014]]\n",
            "\tvalid_confusion_matrix:\n",
            "[[ 37  83  92]\n",
            " [ 19 527  76]\n",
            " [ 14  69 244]]\n"
          ]
        },
        {
          "name": "stderr",
          "output_type": "stream",
          "text": [
            "\n"
          ]
        }
      ],
      "source": [
        "device = get_default_device()\n",
        "\n",
        "NUM_EPOCHS = 20\n",
        "TRAIN_BATCH_SIZE = 128\n",
        "VALID_BATCH_SIZE = 1024\n",
        "\n",
        "NUM_POLARITY_TAGS = 3\n",
        "\n",
        "history = {\n",
        "    \"train_loss\": list(),\n",
        "    \"polarity_train_acc\": list(),\n",
        "    \"valid_loss\": list(),\n",
        "    \"polarity_valid_acc\": list(),\n",
        "}\n",
        "\n",
        "best_loss = np.inf\n",
        "\n",
        "dataset = TensorDataset(torch.Tensor(X_l_train), torch.Tensor(X_g_train), torch.Tensor(y_train))\n",
        "print(f\"train samples:{len(dataset)}\")\n",
        "train_loader = DataLoader(dataset, batch_size=TRAIN_BATCH_SIZE, shuffle=True, drop_last=True)\n",
        "\n",
        "dataset_valid = TensorDataset(torch.Tensor(X_l_valid),  torch.Tensor(X_g_valid), torch.Tensor(y_valid))\n",
        "print(f\"valid samples:{len(dataset_valid)}\")\n",
        "test_loader = DataLoader(dataset_valid, batch_size=VALID_BATCH_SIZE)\n",
        "\n",
        "model = to_device(Model(general_embedding,  num_classes=3, alpha = 0.2), device)\n",
        "\n",
        "torch.cuda.empty_cache()\n",
        "\n",
        "parameters = [p for p in model.parameters() if p.requires_grad]\n",
        "optimizer = AdamW(parameters, lr=1e-4)\n",
        "\n",
        "\n",
        "for epoch in range(NUM_EPOCHS):\n",
        "    train_losses = []\n",
        "    train_acc = []\n",
        "    test_loss = []\n",
        "    test_acc = []\n",
        "    train_f1 = []\n",
        "    test_f1 = []\n",
        "\n",
        "    model.train()\n",
        "    preds = []\n",
        "    masks = []\n",
        "    labels = []\n",
        "    for data in tqdm(train_loader, total=len(train_loader)):\n",
        "        for i in range(len(data)):\n",
        "            data[i] = data[i].to(device)\n",
        "        l_feature, g_feature, label = data\n",
        "        l_feature, g_feature, label = l_feature.long(), g_feature.long(), label.long()\n",
        "\n",
        "        optimizer.zero_grad()\n",
        "        pred_logits = model(l_feature, g_feature)\n",
        "        loss = loss_fn(pred_logits, label, 3)\n",
        "        loss.backward()\n",
        "        optimizer.step()\n",
        "\n",
        "        train_losses.append(loss.item())\n",
        "\n",
        "        pred_tags = pred_logits.max(-1)[1]\n",
        "        preds.append(pred_tags)\n",
        "        labels.append(label)\n",
        "\n",
        "    avg_train_acc, avg_train_f1, train_cm = cal_acc(preds,labels)\n",
        "    avg_train_loss = sum(train_losses) / len(train_losses)\n",
        "\n",
        "    preds = []\n",
        "    masks = []\n",
        "    labels = []\n",
        "    with torch.no_grad():\n",
        "        for data in tqdm(test_loader, total=len(test_loader)):\n",
        "            for i in range(len(data)):\n",
        "                data[i] = data[i].to(device)\n",
        "            l_feature, g_feature, label = data\n",
        "            l_feature, g_feature, label = l_feature.long(), g_feature.long(), label.long()\n",
        "            pred_logits = model(l_feature, g_feature)\n",
        "            loss = loss_fn(pred_logits, label, 3)\n",
        "\n",
        "            test_loss.append(loss.item())\n",
        "\n",
        "            pred_tags = pred_logits.max(-1)[1]\n",
        "\n",
        "            preds.append(pred_tags)\n",
        "            labels.append(label)\n",
        "\n",
        "    avg_test_acc, avg_test_f1, test_cm = cal_acc(preds,  labels)\n",
        "    avg_test_loss = sum(test_loss) / len(test_loss)\n",
        "\n",
        "    print(f\"\\nepoch {epoch}\")\n",
        "    print(\"\\ttrain_loss:{:.3f} valid_loss:{:.3f}\".format(avg_train_loss, avg_test_loss))\n",
        "    print(\"\\ttrain_acc:{:.2%} valid_acc:{:.2%}\".format(avg_train_acc, avg_test_acc))\n",
        "    print(\"\\ttrain_f1:{:.3f} valid_f1:{:.3f}\".format(avg_train_f1, avg_test_f1))\n",
        "    print(f\"\\ttrain_confusion_matrix:\\n{train_cm}\")\n",
        "    print(f\"\\tvalid_confusion_matrix:\\n{test_cm}\")\n",
        "\n",
        "    if avg_test_loss < best_loss:\n",
        "        torch.save(model.state_dict(), MODEL_PATH)\n",
        "        best_loss = avg_test_loss    \n",
        "        \n",
        "    history['train_loss'].append(avg_train_loss)\n",
        "    history['polarity_train_acc'].append(avg_train_acc.cpu().numpy())\n",
        "    history['valid_loss'].append(avg_test_loss)\n",
        "    history['polarity_valid_acc'].append(avg_test_acc.cpu().numpy())\n",
        "        \n",
        "    \n"
      ]
    },
    {
      "cell_type": "code",
      "execution_count": 16,
      "metadata": {},
      "outputs": [
        {
          "data": {
            "text/plain": [
              "(0.4, 0.9)"
            ]
          },
          "execution_count": 16,
          "metadata": {},
          "output_type": "execute_result"
        },
        {
          "data": {
            "image/png": "[encoded data removed]",
            "text/plain": [
              "<Figure size 432x288 with 1 Axes>"
            ]
          },
          "metadata": {
            "needs_background": "light"
          },
          "output_type": "display_data"
        }
      ],
      "source": [
        "import matplotlib.pyplot as plt\n",
        "plt.plot(history['polarity_train_acc'], label='train accuracy')\n",
        "plt.plot(history['polarity_valid_acc'], label='validation accuracy')\n",
        "plt.title('Training history')\n",
        "plt.ylabel('Accuracy')\n",
        "plt.xlabel('Epoch')\n",
        "plt.legend()\n",
        "plt.ylim([0.4, 0.9])"
      ]
    },
    {
      "cell_type": "code",
      "execution_count": 17,
      "metadata": {},
      "outputs": [
        {
          "name": "stdout",
          "output_type": "stream",
          "text": [
            "Loading saved model from: model_task2.bin\n"
          ]
        },
        {
          "name": "stderr",
          "output_type": "stream",
          "text": [
            "100%|██████████| 2/2 [00:01<00:00,  1.43it/s]"
          ]
        },
        {
          "name": "stdout",
          "output_type": "stream",
          "text": [
            "              precision    recall  f1-score   support\n",
            "\n",
            "     Neutral       0.51      0.17      0.25       212\n",
            "    Positive       0.78      0.84      0.81       622\n",
            "    Negative       0.59      0.75      0.66       327\n",
            "\n",
            "    accuracy                           0.69      1161\n",
            "   macro avg       0.62      0.59      0.57      1161\n",
            "weighted avg       0.67      0.69      0.66      1161\n",
            "\n"
          ]
        },
        {
          "name": "stderr",
          "output_type": "stream",
          "text": [
            "\n"
          ]
        }
      ],
      "source": [
        "def get_classification_report(test_loader, model, model_path=None):\n",
        "    if model_path is not None: # load the saved model\n",
        "        print('Loading saved model from: {}'.format(model_path))\n",
        "        model.load_state_dict(torch.load(model_path))\n",
        "    model = to_device(model, device)   \n",
        "    \n",
        "    model.eval()\n",
        "    final_pred_polarity_tags = []\n",
        "    final_true_polarity_tags = []\n",
        "\n",
        "\n",
        "    with torch.no_grad():\n",
        "        for data in tqdm(test_loader, total=len(test_loader)):\n",
        "            for i in range(len(data)):\n",
        "                data[i] = data[i].to(device)\n",
        "\n",
        "            l_feature, g_feature, label = data\n",
        "            l_feature, g_feature, label = l_feature.long(), g_feature.long(), label.long()\n",
        "            pred_logits = model(l_feature, g_feature)\n",
        "\n",
        "            pred_tags = pred_logits.max(-1)[1]\n",
        "\n",
        "            final_pred_polarity_tags.extend(pred_tags)\n",
        "            final_true_polarity_tags.extend(label)\n",
        "\n",
        "    final_pred_polarity_tags = torch.stack(final_pred_polarity_tags).cpu()\n",
        "    final_true_polarity_tags = torch.stack(final_true_polarity_tags).cpu()\n",
        "        \n",
        "    print(classification_report(final_true_polarity_tags, final_pred_polarity_tags, \n",
        "                                target_names=[\"Neutral\", \"Positive\", \"Negative\"]))\n",
        "    \n",
        "get_classification_report(test_loader, model, model_path=MODEL_PATH)"
      ]
    },
    {
      "cell_type": "markdown",
      "metadata": {},
      "source": [
        "## Alpha = 0.4"
      ]
    },
    {
      "cell_type": "code",
      "execution_count": 18,
      "metadata": {},
      "outputs": [
        {
          "name": "stdout",
          "output_type": "stream",
          "text": [
            "train samples:4641\n",
            "valid samples:1161\n"
          ]
        },
        {
          "name": "stderr",
          "output_type": "stream",
          "text": [
            "100%|██████████| 36/36 [00:11<00:00,  3.11it/s]\n",
            "100%|██████████| 2/2 [00:01<00:00,  1.53it/s]\n"
          ]
        },
        {
          "name": "stdout",
          "output_type": "stream",
          "text": [
            "\n",
            "epoch 0\n",
            "\ttrain_loss:1.087 valid_loss:1.059\n",
            "\ttrain_acc:41.56% valid_acc:53.49%\n",
            "\ttrain_f1:0.359 valid_f1:0.374\n",
            "\ttrain_confusion_matrix:\n",
            "[[ 338  562    0]\n",
            " [ 826 1576    1]\n",
            " [ 479  825    1]]\n",
            "\tvalid_confusion_matrix:\n",
            "[[  0 212   0]\n",
            " [  0 621   1]\n",
            " [  2 325   0]]\n"
          ]
        },
        {
          "name": "stderr",
          "output_type": "stream",
          "text": [
            "100%|██████████| 36/36 [00:11<00:00,  3.18it/s]\n",
            "100%|██████████| 2/2 [00:01<00:00,  1.62it/s]\n"
          ]
        },
        {
          "name": "stdout",
          "output_type": "stream",
          "text": [
            "\n",
            "epoch 1\n",
            "\ttrain_loss:1.035 valid_loss:0.996\n",
            "\ttrain_acc:52.32% valid_acc:53.57%\n",
            "\ttrain_f1:0.360 valid_f1:0.374\n",
            "\ttrain_confusion_matrix:\n",
            "[[   0  898    0]\n",
            " [   0 2410    0]\n",
            " [   1 1298    1]]\n",
            "\tvalid_confusion_matrix:\n",
            "[[  0 212   0]\n",
            " [  0 622   0]\n",
            " [  0 327   0]]\n"
          ]
        },
        {
          "name": "stderr",
          "output_type": "stream",
          "text": [
            "100%|██████████| 36/36 [00:11<00:00,  3.20it/s]\n",
            "100%|██████████| 2/2 [00:01<00:00,  1.66it/s]\n"
          ]
        },
        {
          "name": "stdout",
          "output_type": "stream",
          "text": [
            "\n",
            "epoch 2\n",
            "\ttrain_loss:0.991 valid_loss:0.963\n",
            "\ttrain_acc:52.26% valid_acc:53.57%\n",
            "\ttrain_f1:0.359 valid_f1:0.374\n",
            "\ttrain_confusion_matrix:\n",
            "[[   0  900    0]\n",
            " [   0 2408    0]\n",
            " [   0 1300    0]]\n",
            "\tvalid_confusion_matrix:\n",
            "[[  0 212   0]\n",
            " [  0 622   0]\n",
            " [  0 327   0]]\n"
          ]
        },
        {
          "name": "stderr",
          "output_type": "stream",
          "text": [
            "100%|██████████| 36/36 [00:11<00:00,  3.20it/s]\n",
            "100%|██████████| 2/2 [00:01<00:00,  1.64it/s]\n"
          ]
        },
        {
          "name": "stdout",
          "output_type": "stream",
          "text": [
            "\n",
            "epoch 3\n",
            "\ttrain_loss:0.941 valid_loss:0.894\n",
            "\ttrain_acc:52.73% valid_acc:55.81%\n",
            "\ttrain_f1:0.372 valid_f1:0.434\n",
            "\ttrain_confusion_matrix:\n",
            "[[   0  893   10]\n",
            " [   0 2401    3]\n",
            " [   0 1272   29]]\n",
            "\tvalid_confusion_matrix:\n",
            "[[  0 205   7]\n",
            " [  0 610  12]\n",
            " [  0 289  38]]\n"
          ]
        },
        {
          "name": "stderr",
          "output_type": "stream",
          "text": [
            "100%|██████████| 36/36 [00:11<00:00,  3.21it/s]\n",
            "100%|██████████| 2/2 [00:01<00:00,  1.63it/s]\n"
          ]
        },
        {
          "name": "stdout",
          "output_type": "stream",
          "text": [
            "\n",
            "epoch 4\n",
            "\ttrain_loss:0.878 valid_loss:0.838\n",
            "\ttrain_acc:59.61% valid_acc:62.79%\n",
            "\ttrain_f1:0.517 valid_f1:0.561\n",
            "\ttrain_confusion_matrix:\n",
            "[[   0  614  286]\n",
            " [   0 2192  216]\n",
            " [   0  745  555]]\n",
            "\tvalid_confusion_matrix:\n",
            "[[  0 129  83]\n",
            " [  0 540  82]\n",
            " [  0 138 189]]\n"
          ]
        },
        {
          "name": "stderr",
          "output_type": "stream",
          "text": [
            "100%|██████████| 36/36 [00:11<00:00,  3.22it/s]\n",
            "100%|██████████| 2/2 [00:01<00:00,  1.69it/s]\n"
          ]
        },
        {
          "name": "stdout",
          "output_type": "stream",
          "text": [
            "\n",
            "epoch 5\n",
            "\ttrain_loss:0.837 valid_loss:0.813\n",
            "\ttrain_acc:62.98% valid_acc:63.57%\n",
            "\ttrain_f1:0.561 valid_f1:0.572\n",
            "\ttrain_confusion_matrix:\n",
            "[[   0  470  430]\n",
            " [   0 2077  330]\n",
            " [   0  476  825]]\n",
            "\tvalid_confusion_matrix:\n",
            "[[  0 112 100]\n",
            " [  0 529  93]\n",
            " [  0 118 209]]\n"
          ]
        },
        {
          "name": "stderr",
          "output_type": "stream",
          "text": [
            "100%|██████████| 36/36 [00:11<00:00,  3.22it/s]\n",
            "100%|██████████| 2/2 [00:01<00:00,  1.64it/s]\n"
          ]
        },
        {
          "name": "stdout",
          "output_type": "stream",
          "text": [
            "\n",
            "epoch 6\n",
            "\ttrain_loss:0.808 valid_loss:0.797\n",
            "\ttrain_acc:64.24% valid_acc:65.03%\n",
            "\ttrain_f1:0.574 valid_f1:0.586\n",
            "\ttrain_confusion_matrix:\n",
            "[[   0  428  471]\n",
            " [   0 2061  341]\n",
            " [   0  408  899]]\n",
            "\tvalid_confusion_matrix:\n",
            "[[  0 103 109]\n",
            " [  0 539  83]\n",
            " [  0 111 216]]\n"
          ]
        },
        {
          "name": "stderr",
          "output_type": "stream",
          "text": [
            "100%|██████████| 36/36 [00:11<00:00,  3.21it/s]\n",
            "100%|██████████| 2/2 [00:01<00:00,  1.64it/s]\n"
          ]
        },
        {
          "name": "stdout",
          "output_type": "stream",
          "text": [
            "\n",
            "epoch 7\n",
            "\ttrain_loss:0.784 valid_loss:0.784\n",
            "\ttrain_acc:65.97% valid_acc:65.63%\n",
            "\ttrain_f1:0.592 valid_f1:0.592\n",
            "\ttrain_confusion_matrix:\n",
            "[[   0  394  509]\n",
            " [   0 2051  351]\n",
            " [   0  314  989]]\n",
            "\tvalid_confusion_matrix:\n",
            "[[  0 101 111]\n",
            " [  0 538  84]\n",
            " [  0 103 224]]\n"
          ]
        },
        {
          "name": "stderr",
          "output_type": "stream",
          "text": [
            "100%|██████████| 36/36 [00:11<00:00,  3.21it/s]\n",
            "100%|██████████| 2/2 [00:01<00:00,  1.64it/s]\n"
          ]
        },
        {
          "name": "stdout",
          "output_type": "stream",
          "text": [
            "\n",
            "epoch 8\n",
            "\ttrain_loss:0.763 valid_loss:0.782\n",
            "\ttrain_acc:66.78% valid_acc:66.06%\n",
            "\ttrain_f1:0.599 valid_f1:0.595\n",
            "\ttrain_confusion_matrix:\n",
            "[[   0  405  491]\n",
            " [   0 2063  345]\n",
            " [   0  290 1014]]\n",
            "\tvalid_confusion_matrix:\n",
            "[[  0 106 106]\n",
            " [  1 542  79]\n",
            " [  0 102 225]]\n"
          ]
        },
        {
          "name": "stderr",
          "output_type": "stream",
          "text": [
            "100%|██████████| 36/36 [00:11<00:00,  3.22it/s]\n",
            "100%|██████████| 2/2 [00:01<00:00,  1.65it/s]\n"
          ]
        },
        {
          "name": "stdout",
          "output_type": "stream",
          "text": [
            "\n",
            "epoch 9\n",
            "\ttrain_loss:0.751 valid_loss:0.772\n",
            "\ttrain_acc:66.78% valid_acc:66.84%\n",
            "\ttrain_f1:0.600 valid_f1:0.604\n",
            "\ttrain_confusion_matrix:\n",
            "[[   4  402  495]\n",
            " [   2 2063  339]\n",
            " [   1  292 1010]]\n",
            "\tvalid_confusion_matrix:\n",
            "[[  3 115  94]\n",
            " [  1 557  64]\n",
            " [  1 110 216]]\n"
          ]
        },
        {
          "name": "stderr",
          "output_type": "stream",
          "text": [
            "100%|██████████| 36/36 [00:11<00:00,  3.22it/s]\n",
            "100%|██████████| 2/2 [00:01<00:00,  1.66it/s]\n"
          ]
        },
        {
          "name": "stdout",
          "output_type": "stream",
          "text": [
            "\n",
            "epoch 10\n",
            "\ttrain_loss:0.733 valid_loss:0.762\n",
            "\ttrain_acc:68.14% valid_acc:67.10%\n",
            "\ttrain_f1:0.616 valid_f1:0.611\n",
            "\ttrain_confusion_matrix:\n",
            "[[  17  425  457]\n",
            " [   5 2090  308]\n",
            " [   5  268 1033]]\n",
            "\tvalid_confusion_matrix:\n",
            "[[  4 109  99]\n",
            " [  5 542  75]\n",
            " [  2  92 233]]\n"
          ]
        },
        {
          "name": "stderr",
          "output_type": "stream",
          "text": [
            "100%|██████████| 36/36 [00:11<00:00,  3.22it/s]\n",
            "100%|██████████| 2/2 [00:01<00:00,  1.67it/s]\n"
          ]
        },
        {
          "name": "stdout",
          "output_type": "stream",
          "text": [
            "\n",
            "epoch 11\n",
            "\ttrain_loss:0.721 valid_loss:0.760\n",
            "\ttrain_acc:68.75% valid_acc:68.04%\n",
            "\ttrain_f1:0.623 valid_f1:0.622\n",
            "\ttrain_confusion_matrix:\n",
            "[[  23  445  427]\n",
            " [  12 2119  277]\n",
            " [   7  272 1026]]\n",
            "\tvalid_confusion_matrix:\n",
            "[[  8 113  91]\n",
            " [  3 554  65]\n",
            " [  4  95 228]]\n"
          ]
        },
        {
          "name": "stderr",
          "output_type": "stream",
          "text": [
            "100%|██████████| 36/36 [00:11<00:00,  3.22it/s]\n",
            "100%|██████████| 2/2 [00:01<00:00,  1.64it/s]\n"
          ]
        },
        {
          "name": "stdout",
          "output_type": "stream",
          "text": [
            "\n",
            "epoch 12\n",
            "\ttrain_loss:0.710 valid_loss:0.754\n",
            "\ttrain_acc:69.34% valid_acc:67.44%\n",
            "\ttrain_f1:0.634 valid_f1:0.628\n",
            "\ttrain_confusion_matrix:\n",
            "[[  39  434  431]\n",
            " [  26 2108  273]\n",
            " [  12  237 1048]]\n",
            "\tvalid_confusion_matrix:\n",
            "[[ 14  95 103]\n",
            " [  8 526  88]\n",
            " [  5  79 243]]\n"
          ]
        },
        {
          "name": "stderr",
          "output_type": "stream",
          "text": [
            "100%|██████████| 36/36 [00:11<00:00,  3.22it/s]\n",
            "100%|██████████| 2/2 [00:01<00:00,  1.65it/s]\n"
          ]
        },
        {
          "name": "stdout",
          "output_type": "stream",
          "text": [
            "\n",
            "epoch 13\n",
            "\ttrain_loss:0.700 valid_loss:0.749\n",
            "\ttrain_acc:69.94% valid_acc:68.82%\n",
            "\ttrain_f1:0.645 valid_f1:0.636\n",
            "\ttrain_confusion_matrix:\n",
            "[[  60  420  417]\n",
            " [  30 2115  262]\n",
            " [  18  238 1048]]\n",
            "\tvalid_confusion_matrix:\n",
            "[[ 14 116  82]\n",
            " [  6 557  59]\n",
            " [  4  95 228]]\n"
          ]
        },
        {
          "name": "stderr",
          "output_type": "stream",
          "text": [
            "100%|██████████| 36/36 [00:11<00:00,  3.21it/s]\n",
            "100%|██████████| 2/2 [00:01<00:00,  1.67it/s]\n"
          ]
        },
        {
          "name": "stdout",
          "output_type": "stream",
          "text": [
            "\n",
            "epoch 14\n",
            "\ttrain_loss:0.692 valid_loss:0.743\n",
            "\ttrain_acc:70.38% valid_acc:68.91%\n",
            "\ttrain_f1:0.657 valid_f1:0.645\n",
            "\ttrain_confusion_matrix:\n",
            "[[  87  410  402]\n",
            " [  45 2118  245]\n",
            " [  32  231 1038]]\n",
            "\tvalid_confusion_matrix:\n",
            "[[ 23 115  74]\n",
            " [ 13 563  46]\n",
            " [ 12 101 214]]\n"
          ]
        },
        {
          "name": "stderr",
          "output_type": "stream",
          "text": [
            "100%|██████████| 36/36 [00:11<00:00,  3.22it/s]\n",
            "100%|██████████| 2/2 [00:01<00:00,  1.69it/s]\n"
          ]
        },
        {
          "name": "stdout",
          "output_type": "stream",
          "text": [
            "\n",
            "epoch 15\n",
            "\ttrain_loss:0.685 valid_loss:0.749\n",
            "\ttrain_acc:70.46% valid_acc:69.25%\n",
            "\ttrain_f1:0.663 valid_f1:0.650\n",
            "\ttrain_confusion_matrix:\n",
            "[[ 108  411  384]\n",
            " [  58 2115  230]\n",
            " [  56  222 1024]]\n",
            "\tvalid_confusion_matrix:\n",
            "[[ 23 115  74]\n",
            " [ 15 560  47]\n",
            " [ 12  94 221]]\n"
          ]
        },
        {
          "name": "stderr",
          "output_type": "stream",
          "text": [
            "100%|██████████| 36/36 [00:11<00:00,  3.20it/s]\n",
            "100%|██████████| 2/2 [00:01<00:00,  1.63it/s]\n"
          ]
        },
        {
          "name": "stdout",
          "output_type": "stream",
          "text": [
            "\n",
            "epoch 16\n",
            "\ttrain_loss:0.675 valid_loss:0.732\n",
            "\ttrain_acc:71.59% valid_acc:69.25%\n",
            "\ttrain_f1:0.678 valid_f1:0.655\n",
            "\ttrain_confusion_matrix:\n",
            "[[ 132  386  382]\n",
            " [  57 2127  222]\n",
            " [  59  203 1040]]\n",
            "\tvalid_confusion_matrix:\n",
            "[[ 26  92  94]\n",
            " [ 17 534  71]\n",
            " [  6  77 244]]\n"
          ]
        },
        {
          "name": "stderr",
          "output_type": "stream",
          "text": [
            "100%|██████████| 36/36 [00:11<00:00,  3.20it/s]\n",
            "100%|██████████| 2/2 [00:01<00:00,  1.64it/s]\n"
          ]
        },
        {
          "name": "stdout",
          "output_type": "stream",
          "text": [
            "\n",
            "epoch 17\n",
            "\ttrain_loss:0.669 valid_loss:0.745\n",
            "\ttrain_acc:71.83% valid_acc:69.16%\n",
            "\ttrain_f1:0.682 valid_f1:0.658\n",
            "\ttrain_confusion_matrix:\n",
            "[[ 145  395  361]\n",
            " [  62 2133  208]\n",
            " [  65  207 1032]]\n",
            "\tvalid_confusion_matrix:\n",
            "[[ 29  81 102]\n",
            " [ 14 523  85]\n",
            " [  9  67 251]]\n"
          ]
        },
        {
          "name": "stderr",
          "output_type": "stream",
          "text": [
            "100%|██████████| 36/36 [00:11<00:00,  3.21it/s]\n",
            "100%|██████████| 2/2 [00:01<00:00,  1.66it/s]\n"
          ]
        },
        {
          "name": "stdout",
          "output_type": "stream",
          "text": [
            "\n",
            "epoch 18\n",
            "\ttrain_loss:0.661 valid_loss:0.719\n",
            "\ttrain_acc:72.35% valid_acc:69.60%\n",
            "\ttrain_f1:0.690 valid_f1:0.671\n",
            "\ttrain_confusion_matrix:\n",
            "[[ 151  358  388]\n",
            " [  72 2119  217]\n",
            " [  58  181 1064]]\n",
            "\tvalid_confusion_matrix:\n",
            "[[ 47  97  68]\n",
            " [ 25 547  50]\n",
            " [ 21  92 214]]\n"
          ]
        },
        {
          "name": "stderr",
          "output_type": "stream",
          "text": [
            "100%|██████████| 36/36 [00:11<00:00,  3.20it/s]\n",
            "100%|██████████| 2/2 [00:01<00:00,  1.61it/s]"
          ]
        },
        {
          "name": "stdout",
          "output_type": "stream",
          "text": [
            "\n",
            "epoch 19\n",
            "\ttrain_loss:0.657 valid_loss:0.721\n",
            "\ttrain_acc:72.46% valid_acc:69.60%\n",
            "\ttrain_f1:0.695 valid_f1:0.669\n",
            "\ttrain_confusion_matrix:\n",
            "[[ 181  363  356]\n",
            " [  85 2127  192]\n",
            " [  79  194 1031]]\n",
            "\tvalid_confusion_matrix:\n",
            "[[ 42  92  78]\n",
            " [ 19 543  60]\n",
            " [ 21  83 223]]\n"
          ]
        },
        {
          "name": "stderr",
          "output_type": "stream",
          "text": [
            "\n"
          ]
        }
      ],
      "source": [
        "device = get_default_device()\n",
        "\n",
        "NUM_EPOCHS = 20\n",
        "TRAIN_BATCH_SIZE = 128\n",
        "VALID_BATCH_SIZE = 1024\n",
        "\n",
        "NUM_POLARITY_TAGS = 3\n",
        "\n",
        "history = {\n",
        "    \"train_loss\": list(),\n",
        "    \"polarity_train_acc\": list(),\n",
        "    \"valid_loss\": list(),\n",
        "    \"polarity_valid_acc\": list(),\n",
        "}\n",
        "\n",
        "best_loss = np.inf\n",
        "\n",
        "dataset = TensorDataset(torch.Tensor(X_l_train), torch.Tensor(X_g_train), torch.Tensor(y_train))\n",
        "print(f\"train samples:{len(dataset)}\")\n",
        "train_loader = DataLoader(dataset, batch_size=TRAIN_BATCH_SIZE, shuffle=True, drop_last=True)\n",
        "\n",
        "dataset_valid = TensorDataset(torch.Tensor(X_l_valid),  torch.Tensor(X_g_valid), torch.Tensor(y_valid))\n",
        "print(f\"valid samples:{len(dataset_valid)}\")\n",
        "test_loader = DataLoader(dataset_valid, batch_size=VALID_BATCH_SIZE)\n",
        "\n",
        "model = to_device(Model(general_embedding,  num_classes=3, alpha = 0.4), device)\n",
        "\n",
        "torch.cuda.empty_cache()\n",
        "\n",
        "parameters = [p for p in model.parameters() if p.requires_grad]\n",
        "optimizer = AdamW(parameters, lr=1e-4)\n",
        "\n",
        "\n",
        "for epoch in range(NUM_EPOCHS):\n",
        "    train_losses = []\n",
        "    train_acc = []\n",
        "    test_loss = []\n",
        "    test_acc = []\n",
        "    train_f1 = []\n",
        "    test_f1 = []\n",
        "\n",
        "    model.train()\n",
        "    preds = []\n",
        "    masks = []\n",
        "    labels = []\n",
        "    for data in tqdm(train_loader, total=len(train_loader)):\n",
        "        for i in range(len(data)):\n",
        "            data[i] = data[i].to(device)\n",
        "        l_feature, g_feature, label = data\n",
        "        l_feature, g_feature, label = l_feature.long(), g_feature.long(), label.long()\n",
        "\n",
        "        optimizer.zero_grad()\n",
        "        pred_logits = model(l_feature, g_feature)\n",
        "        loss = loss_fn(pred_logits, label, 3)\n",
        "        loss.backward()\n",
        "        optimizer.step()\n",
        "\n",
        "        train_losses.append(loss.item())\n",
        "\n",
        "        pred_tags = pred_logits.max(-1)[1]\n",
        "        preds.append(pred_tags)\n",
        "        labels.append(label)\n",
        "\n",
        "    avg_train_acc, avg_train_f1, train_cm = cal_acc(preds,labels)\n",
        "    avg_train_loss = sum(train_losses) / len(train_losses)\n",
        "\n",
        "    preds = []\n",
        "    masks = []\n",
        "    labels = []\n",
        "    with torch.no_grad():\n",
        "        for data in tqdm(test_loader, total=len(test_loader)):\n",
        "            for i in range(len(data)):\n",
        "                data[i] = data[i].to(device)\n",
        "            l_feature, g_feature, label = data\n",
        "            l_feature, g_feature, label = l_feature.long(), g_feature.long(), label.long()\n",
        "            pred_logits = model(l_feature, g_feature)\n",
        "            loss = loss_fn(pred_logits, label, 3)\n",
        "\n",
        "            test_loss.append(loss.item())\n",
        "\n",
        "            pred_tags = pred_logits.max(-1)[1]\n",
        "\n",
        "            preds.append(pred_tags)\n",
        "            labels.append(label)\n",
        "\n",
        "    avg_test_acc, avg_test_f1, test_cm = cal_acc(preds,  labels)\n",
        "    avg_test_loss = sum(test_loss) / len(test_loss)\n",
        "\n",
        "    print(f\"\\nepoch {epoch}\")\n",
        "    print(\"\\ttrain_loss:{:.3f} valid_loss:{:.3f}\".format(avg_train_loss, avg_test_loss))\n",
        "    print(\"\\ttrain_acc:{:.2%} valid_acc:{:.2%}\".format(avg_train_acc, avg_test_acc))\n",
        "    print(\"\\ttrain_f1:{:.3f} valid_f1:{:.3f}\".format(avg_train_f1, avg_test_f1))\n",
        "    print(f\"\\ttrain_confusion_matrix:\\n{train_cm}\")\n",
        "    print(f\"\\tvalid_confusion_matrix:\\n{test_cm}\")\n",
        "\n",
        "    if avg_test_loss < best_loss:\n",
        "        torch.save(model.state_dict(), MODEL_PATH)\n",
        "        best_loss = avg_test_loss    \n",
        "        \n",
        "    history['train_loss'].append(avg_train_loss)\n",
        "    history['polarity_train_acc'].append(avg_train_acc.cpu().numpy())\n",
        "    history['valid_loss'].append(avg_test_loss)\n",
        "    history['polarity_valid_acc'].append(avg_test_acc.cpu().numpy())\n",
        "        \n",
        "    \n"
      ]
    },
    {
      "cell_type": "code",
      "execution_count": 19,
      "metadata": {},
      "outputs": [
        {
          "data": {
            "text/plain": [
              "(0.4, 0.9)"
            ]
          },
          "execution_count": 19,
          "metadata": {},
          "output_type": "execute_result"
        },
        {
          "data": {
            "image/png": "[encoded data removed]",
            "text/plain": [
              "<Figure size 432x288 with 1 Axes>"
            ]
          },
          "metadata": {
            "needs_background": "light"
          },
          "output_type": "display_data"
        }
      ],
      "source": [
        "import matplotlib.pyplot as plt\n",
        "plt.plot(history['polarity_train_acc'], label='train accuracy')\n",
        "plt.plot(history['polarity_valid_acc'], label='validation accuracy')\n",
        "plt.title('Training history')\n",
        "plt.ylabel('Accuracy')\n",
        "plt.xlabel('Epoch')\n",
        "plt.legend()\n",
        "plt.ylim([0.4, 0.9])"
      ]
    },
    {
      "cell_type": "code",
      "execution_count": 20,
      "metadata": {},
      "outputs": [
        {
          "name": "stdout",
          "output_type": "stream",
          "text": [
            "Loading saved model from: model_task2.bin\n"
          ]
        },
        {
          "name": "stderr",
          "output_type": "stream",
          "text": [
            "100%|██████████| 2/2 [00:01<00:00,  1.54it/s]"
          ]
        },
        {
          "name": "stdout",
          "output_type": "stream",
          "text": [
            "              precision    recall  f1-score   support\n",
            "\n",
            "     Neutral       0.51      0.20      0.29       212\n",
            "    Positive       0.74      0.89      0.81       622\n",
            "    Negative       0.64      0.65      0.65       327\n",
            "\n",
            "    accuracy                           0.70      1161\n",
            "   macro avg       0.63      0.58      0.58      1161\n",
            "weighted avg       0.67      0.70      0.67      1161\n",
            "\n"
          ]
        },
        {
          "name": "stderr",
          "output_type": "stream",
          "text": [
            "\n"
          ]
        }
      ],
      "source": [
        "def get_classification_report(test_loader, model, model_path=None):\n",
        "    if model_path is not None: # load the saved model\n",
        "        print('Loading saved model from: {}'.format(model_path))\n",
        "        model.load_state_dict(torch.load(model_path))\n",
        "    model = to_device(model, device)   \n",
        "    \n",
        "    model.eval()\n",
        "    final_pred_polarity_tags = []\n",
        "    final_true_polarity_tags = []\n",
        "\n",
        "\n",
        "    with torch.no_grad():\n",
        "        for data in tqdm(test_loader, total=len(test_loader)):\n",
        "            for i in range(len(data)):\n",
        "                data[i] = data[i].to(device)\n",
        "\n",
        "            l_feature, g_feature, label = data\n",
        "            l_feature, g_feature, label = l_feature.long(), g_feature.long(), label.long()\n",
        "            pred_logits = model(l_feature, g_feature)\n",
        "\n",
        "            pred_tags = pred_logits.max(-1)[1]\n",
        "\n",
        "            final_pred_polarity_tags.extend(pred_tags)\n",
        "            final_true_polarity_tags.extend(label)\n",
        "\n",
        "    final_pred_polarity_tags = torch.stack(final_pred_polarity_tags).cpu()\n",
        "    final_true_polarity_tags = torch.stack(final_true_polarity_tags).cpu()\n",
        "        \n",
        "    print(classification_report(final_true_polarity_tags, final_pred_polarity_tags, \n",
        "                                target_names=[\"Neutral\", \"Positive\", \"Negative\"]))\n",
        "    \n",
        "get_classification_report(test_loader, model, model_path=MODEL_PATH)"
      ]
    },
    {
      "cell_type": "markdown",
      "metadata": {},
      "source": [
        "## Alpha = 0.6"
      ]
    },
    {
      "cell_type": "code",
      "execution_count": 21,
      "metadata": {},
      "outputs": [
        {
          "name": "stdout",
          "output_type": "stream",
          "text": [
            "train samples:4641\n",
            "valid samples:1161\n"
          ]
        },
        {
          "name": "stderr",
          "output_type": "stream",
          "text": [
            "100%|██████████| 36/36 [00:11<00:00,  3.12it/s]\n",
            "100%|██████████| 2/2 [00:01<00:00,  1.60it/s]\n"
          ]
        },
        {
          "name": "stdout",
          "output_type": "stream",
          "text": [
            "\n",
            "epoch 0\n",
            "\ttrain_loss:1.078 valid_loss:1.048\n",
            "\ttrain_acc:48.07% valid_acc:53.57%\n",
            "\ttrain_f1:0.402 valid_f1:0.374\n",
            "\ttrain_confusion_matrix:\n",
            "[[  14  719  170]\n",
            " [  51 1980  373]\n",
            " [  38 1042  221]]\n",
            "\tvalid_confusion_matrix:\n",
            "[[  0 212   0]\n",
            " [  0 622   0]\n",
            " [  0 327   0]]\n"
          ]
        },
        {
          "name": "stderr",
          "output_type": "stream",
          "text": [
            "100%|██████████| 36/36 [00:11<00:00,  3.21it/s]\n",
            "100%|██████████| 2/2 [00:01<00:00,  1.70it/s]\n"
          ]
        },
        {
          "name": "stdout",
          "output_type": "stream",
          "text": [
            "\n",
            "epoch 1\n",
            "\ttrain_loss:1.027 valid_loss:0.992\n",
            "\ttrain_acc:52.24% valid_acc:53.57%\n",
            "\ttrain_f1:0.358 valid_f1:0.374\n",
            "\ttrain_confusion_matrix:\n",
            "[[   0  902    0]\n",
            " [   0 2407    0]\n",
            " [   0 1299    0]]\n",
            "\tvalid_confusion_matrix:\n",
            "[[  0 212   0]\n",
            " [  0 622   0]\n",
            " [  0 327   0]]\n"
          ]
        },
        {
          "name": "stderr",
          "output_type": "stream",
          "text": [
            "100%|██████████| 36/36 [00:11<00:00,  3.21it/s]\n",
            "100%|██████████| 2/2 [00:01<00:00,  1.68it/s]\n"
          ]
        },
        {
          "name": "stdout",
          "output_type": "stream",
          "text": [
            "\n",
            "epoch 2\n",
            "\ttrain_loss:0.987 valid_loss:0.957\n",
            "\ttrain_acc:52.11% valid_acc:53.75%\n",
            "\ttrain_f1:0.357 valid_f1:0.378\n",
            "\ttrain_confusion_matrix:\n",
            "[[   0  900    0]\n",
            " [   0 2401    0]\n",
            " [   0 1307    0]]\n",
            "\tvalid_confusion_matrix:\n",
            "[[  0 212   0]\n",
            " [  0 622   0]\n",
            " [  0 325   2]]\n"
          ]
        },
        {
          "name": "stderr",
          "output_type": "stream",
          "text": [
            "100%|██████████| 36/36 [00:11<00:00,  3.21it/s]\n",
            "100%|██████████| 2/2 [00:01<00:00,  1.62it/s]\n"
          ]
        },
        {
          "name": "stdout",
          "output_type": "stream",
          "text": [
            "\n",
            "epoch 3\n",
            "\ttrain_loss:0.933 valid_loss:0.885\n",
            "\ttrain_acc:52.78% valid_acc:56.76%\n",
            "\ttrain_f1:0.376 valid_f1:0.461\n",
            "\ttrain_confusion_matrix:\n",
            "[[   0  869   32]\n",
            " [   0 2392   11]\n",
            " [   0 1264   40]]\n",
            "\tvalid_confusion_matrix:\n",
            "[[  0 191  21]\n",
            " [  0 599  23]\n",
            " [  0 267  60]]\n"
          ]
        },
        {
          "name": "stderr",
          "output_type": "stream",
          "text": [
            "100%|██████████| 36/36 [00:11<00:00,  3.21it/s]\n",
            "100%|██████████| 2/2 [00:01<00:00,  1.62it/s]\n"
          ]
        },
        {
          "name": "stdout",
          "output_type": "stream",
          "text": [
            "\n",
            "epoch 4\n",
            "\ttrain_loss:0.875 valid_loss:0.838\n",
            "\ttrain_acc:60.22% valid_acc:62.53%\n",
            "\ttrain_f1:0.520 valid_f1:0.560\n",
            "\ttrain_confusion_matrix:\n",
            "[[   0  638  266]\n",
            " [   0 2232  169]\n",
            " [   0  760  543]]\n",
            "\tvalid_confusion_matrix:\n",
            "[[  0 115  97]\n",
            " [  0 538  84]\n",
            " [  0 139 188]]\n"
          ]
        },
        {
          "name": "stderr",
          "output_type": "stream",
          "text": [
            "100%|██████████| 36/36 [00:11<00:00,  3.22it/s]\n",
            "100%|██████████| 2/2 [00:01<00:00,  1.64it/s]\n"
          ]
        },
        {
          "name": "stdout",
          "output_type": "stream",
          "text": [
            "\n",
            "epoch 5\n",
            "\ttrain_loss:0.834 valid_loss:0.809\n",
            "\ttrain_acc:63.32% valid_acc:63.91%\n",
            "\ttrain_f1:0.563 valid_f1:0.574\n",
            "\ttrain_confusion_matrix:\n",
            "[[   0  462  438]\n",
            " [   0 2121  287]\n",
            " [   0  503  797]]\n",
            "\tvalid_confusion_matrix:\n",
            "[[  0 111 101]\n",
            " [  0 539  83]\n",
            " [  0 124 203]]\n"
          ]
        },
        {
          "name": "stderr",
          "output_type": "stream",
          "text": [
            "100%|██████████| 36/36 [00:11<00:00,  3.21it/s]\n",
            "100%|██████████| 2/2 [00:01<00:00,  1.68it/s]\n"
          ]
        },
        {
          "name": "stdout",
          "output_type": "stream",
          "text": [
            "\n",
            "epoch 6\n",
            "\ttrain_loss:0.806 valid_loss:0.787\n",
            "\ttrain_acc:65.21% valid_acc:64.77%\n",
            "\ttrain_f1:0.584 valid_f1:0.582\n",
            "\ttrain_confusion_matrix:\n",
            "[[   0  402  502]\n",
            " [   0 2077  330]\n",
            " [   0  369  928]]\n",
            "\tvalid_confusion_matrix:\n",
            "[[  0  98 114]\n",
            " [  0 545  77]\n",
            " [  0 120 207]]\n"
          ]
        },
        {
          "name": "stderr",
          "output_type": "stream",
          "text": [
            "100%|██████████| 36/36 [00:11<00:00,  3.21it/s]\n",
            "100%|██████████| 2/2 [00:01<00:00,  1.65it/s]\n"
          ]
        },
        {
          "name": "stdout",
          "output_type": "stream",
          "text": [
            "\n",
            "epoch 7\n",
            "\ttrain_loss:0.786 valid_loss:0.773\n",
            "\ttrain_acc:65.95% valid_acc:65.55%\n",
            "\ttrain_f1:0.592 valid_f1:0.590\n",
            "\ttrain_confusion_matrix:\n",
            "[[   0  386  518]\n",
            " [   0 2042  356]\n",
            " [   0  309  997]]\n",
            "\tvalid_confusion_matrix:\n",
            "[[  0  98 114]\n",
            " [  0 543  79]\n",
            " [  0 109 218]]\n"
          ]
        },
        {
          "name": "stderr",
          "output_type": "stream",
          "text": [
            "100%|██████████| 36/36 [00:11<00:00,  3.21it/s]\n",
            "100%|██████████| 2/2 [00:01<00:00,  1.66it/s]\n"
          ]
        },
        {
          "name": "stdout",
          "output_type": "stream",
          "text": [
            "\n",
            "epoch 8\n",
            "\ttrain_loss:0.768 valid_loss:0.766\n",
            "\ttrain_acc:66.80% valid_acc:66.41%\n",
            "\ttrain_f1:0.599 valid_f1:0.602\n",
            "\ttrain_confusion_matrix:\n",
            "[[   0  389  511]\n",
            " [   0 2078  327]\n",
            " [   0  303 1000]]\n",
            "\tvalid_confusion_matrix:\n",
            "[[  1  92 119]\n",
            " [  0 530  92]\n",
            " [  0  87 240]]\n"
          ]
        },
        {
          "name": "stderr",
          "output_type": "stream",
          "text": [
            "100%|██████████| 36/36 [00:11<00:00,  3.22it/s]\n",
            "100%|██████████| 2/2 [00:01<00:00,  1.65it/s]\n"
          ]
        },
        {
          "name": "stdout",
          "output_type": "stream",
          "text": [
            "\n",
            "epoch 9\n",
            "\ttrain_loss:0.754 valid_loss:0.758\n",
            "\ttrain_acc:67.64% valid_acc:66.32%\n",
            "\ttrain_f1:0.608 valid_f1:0.598\n",
            "\ttrain_confusion_matrix:\n",
            "[[   3  383  512]\n",
            " [   1 2076  327]\n",
            " [   1  267 1038]]\n",
            "\tvalid_confusion_matrix:\n",
            "[[  0 103 109]\n",
            " [  0 541  81]\n",
            " [  1  97 229]]\n"
          ]
        },
        {
          "name": "stderr",
          "output_type": "stream",
          "text": [
            "100%|██████████| 36/36 [00:11<00:00,  3.22it/s]\n",
            "100%|██████████| 2/2 [00:01<00:00,  1.68it/s]\n"
          ]
        },
        {
          "name": "stdout",
          "output_type": "stream",
          "text": [
            "\n",
            "epoch 10\n",
            "\ttrain_loss:0.742 valid_loss:0.753\n",
            "\ttrain_acc:68.08% valid_acc:66.93%\n",
            "\ttrain_f1:0.614 valid_f1:0.605\n",
            "\ttrain_confusion_matrix:\n",
            "[[  11  410  480]\n",
            " [   4 2095  305]\n",
            " [   3  269 1031]]\n",
            "\tvalid_confusion_matrix:\n",
            "[[  0  95 117]\n",
            " [  0 538  84]\n",
            " [  2  86 239]]\n"
          ]
        },
        {
          "name": "stderr",
          "output_type": "stream",
          "text": [
            "100%|██████████| 36/36 [00:11<00:00,  3.22it/s]\n",
            "100%|██████████| 2/2 [00:01<00:00,  1.65it/s]\n"
          ]
        },
        {
          "name": "stdout",
          "output_type": "stream",
          "text": [
            "\n",
            "epoch 11\n",
            "\ttrain_loss:0.732 valid_loss:0.752\n",
            "\ttrain_acc:68.58% valid_acc:66.67%\n",
            "\ttrain_f1:0.619 valid_f1:0.606\n",
            "\ttrain_confusion_matrix:\n",
            "[[  13  414  472]\n",
            " [  12 2112  283]\n",
            " [   6  261 1035]]\n",
            "\tvalid_confusion_matrix:\n",
            "[[  2 105 105]\n",
            " [  4 536  82]\n",
            " [  3  88 236]]\n"
          ]
        },
        {
          "name": "stderr",
          "output_type": "stream",
          "text": [
            "100%|██████████| 36/36 [00:11<00:00,  3.21it/s]\n",
            "100%|██████████| 2/2 [00:01<00:00,  1.64it/s]\n"
          ]
        },
        {
          "name": "stdout",
          "output_type": "stream",
          "text": [
            "\n",
            "epoch 12\n",
            "\ttrain_loss:0.717 valid_loss:0.745\n",
            "\ttrain_acc:69.49% valid_acc:67.01%\n",
            "\ttrain_f1:0.633 valid_f1:0.615\n",
            "\ttrain_confusion_matrix:\n",
            "[[  33  410  462]\n",
            " [  22 2116  263]\n",
            " [  10  239 1053]]\n",
            "\tvalid_confusion_matrix:\n",
            "[[ 10 120  82]\n",
            " [  7 554  61]\n",
            " [  7 106 214]]\n"
          ]
        },
        {
          "name": "stderr",
          "output_type": "stream",
          "text": [
            "100%|██████████| 36/36 [00:11<00:00,  3.22it/s]\n",
            "100%|██████████| 2/2 [00:01<00:00,  1.69it/s]\n"
          ]
        },
        {
          "name": "stdout",
          "output_type": "stream",
          "text": [
            "\n",
            "epoch 13\n",
            "\ttrain_loss:0.705 valid_loss:0.745\n",
            "\ttrain_acc:69.51% valid_acc:67.79%\n",
            "\ttrain_f1:0.639 valid_f1:0.622\n",
            "\ttrain_confusion_matrix:\n",
            "[[  49  416  434]\n",
            " [  34 2127  241]\n",
            " [  28  252 1027]]\n",
            "\tvalid_confusion_matrix:\n",
            "[[  8 114  90]\n",
            " [  7 550  65]\n",
            " [  6  92 229]]\n"
          ]
        },
        {
          "name": "stderr",
          "output_type": "stream",
          "text": [
            "100%|██████████| 36/36 [00:11<00:00,  3.22it/s]\n",
            "100%|██████████| 2/2 [00:01<00:00,  1.61it/s]\n"
          ]
        },
        {
          "name": "stdout",
          "output_type": "stream",
          "text": [
            "\n",
            "epoch 14\n",
            "\ttrain_loss:0.699 valid_loss:0.755\n",
            "\ttrain_acc:70.10% valid_acc:68.39%\n",
            "\ttrain_f1:0.649 valid_f1:0.636\n",
            "\ttrain_confusion_matrix:\n",
            "[[  65  399  438]\n",
            " [  47 2116  240]\n",
            " [  27  227 1049]]\n",
            "\tvalid_confusion_matrix:\n",
            "[[ 20 118  74]\n",
            " [  7 561  54]\n",
            " [  7 107 213]]\n"
          ]
        },
        {
          "name": "stderr",
          "output_type": "stream",
          "text": [
            "100%|██████████| 36/36 [00:11<00:00,  3.21it/s]\n",
            "100%|██████████| 2/2 [00:01<00:00,  1.64it/s]\n"
          ]
        },
        {
          "name": "stdout",
          "output_type": "stream",
          "text": [
            "\n",
            "epoch 15\n",
            "\ttrain_loss:0.689 valid_loss:0.737\n",
            "\ttrain_acc:70.72% valid_acc:68.56%\n",
            "\ttrain_f1:0.660 valid_f1:0.642\n",
            "\ttrain_confusion_matrix:\n",
            "[[  85  390  426]\n",
            " [  50 2134  219]\n",
            " [  39  225 1040]]\n",
            "\tvalid_confusion_matrix:\n",
            "[[ 21 104  87]\n",
            " [ 11 549  62]\n",
            " [  9  92 226]]\n"
          ]
        },
        {
          "name": "stderr",
          "output_type": "stream",
          "text": [
            "100%|██████████| 36/36 [00:11<00:00,  3.22it/s]\n",
            "100%|██████████| 2/2 [00:01<00:00,  1.68it/s]\n"
          ]
        },
        {
          "name": "stdout",
          "output_type": "stream",
          "text": [
            "\n",
            "epoch 16\n",
            "\ttrain_loss:0.679 valid_loss:0.732\n",
            "\ttrain_acc:71.20% valid_acc:69.68%\n",
            "\ttrain_f1:0.673 valid_f1:0.667\n",
            "\ttrain_confusion_matrix:\n",
            "[[ 121  360  415]\n",
            " [  67 2117  225]\n",
            " [  44  216 1043]]\n",
            "\tvalid_confusion_matrix:\n",
            "[[ 38  92  82]\n",
            " [ 14 541  67]\n",
            " [ 14  83 230]]\n"
          ]
        },
        {
          "name": "stderr",
          "output_type": "stream",
          "text": [
            "100%|██████████| 36/36 [00:11<00:00,  3.22it/s]\n",
            "100%|██████████| 2/2 [00:01<00:00,  1.63it/s]\n"
          ]
        },
        {
          "name": "stdout",
          "output_type": "stream",
          "text": [
            "\n",
            "epoch 17\n",
            "\ttrain_loss:0.667 valid_loss:0.723\n",
            "\ttrain_acc:72.03% valid_acc:70.11%\n",
            "\ttrain_f1:0.688 valid_f1:0.677\n",
            "\ttrain_confusion_matrix:\n",
            "[[ 159  345  400]\n",
            " [  76 2114  207]\n",
            " [  70  191 1046]]\n",
            "\tvalid_confusion_matrix:\n",
            "[[ 46  87  79]\n",
            " [ 21 533  68]\n",
            " [ 19  73 235]]\n"
          ]
        },
        {
          "name": "stderr",
          "output_type": "stream",
          "text": [
            "100%|██████████| 36/36 [00:11<00:00,  3.22it/s]\n",
            "100%|██████████| 2/2 [00:01<00:00,  1.66it/s]\n"
          ]
        },
        {
          "name": "stdout",
          "output_type": "stream",
          "text": [
            "\n",
            "epoch 18\n",
            "\ttrain_loss:0.662 valid_loss:0.723\n",
            "\ttrain_acc:72.22% valid_acc:70.37%\n",
            "\ttrain_f1:0.694 valid_f1:0.683\n",
            "\ttrain_confusion_matrix:\n",
            "[[ 180  334  389]\n",
            " [  88 2123  195]\n",
            " [  80  194 1025]]\n",
            "\tvalid_confusion_matrix:\n",
            "[[ 55  89  68]\n",
            " [ 23 541  58]\n",
            " [ 21  85 221]]\n"
          ]
        },
        {
          "name": "stderr",
          "output_type": "stream",
          "text": [
            "100%|██████████| 36/36 [00:11<00:00,  3.21it/s]\n",
            "100%|██████████| 2/2 [00:01<00:00,  1.67it/s]"
          ]
        },
        {
          "name": "stdout",
          "output_type": "stream",
          "text": [
            "\n",
            "epoch 19\n",
            "\ttrain_loss:0.649 valid_loss:0.721\n",
            "\ttrain_acc:73.07% valid_acc:69.85%\n",
            "\ttrain_f1:0.705 valid_f1:0.682\n",
            "\ttrain_confusion_matrix:\n",
            "[[ 204  326  368]\n",
            " [  85 2124  196]\n",
            " [  82  184 1039]]\n",
            "\tvalid_confusion_matrix:\n",
            "[[ 60  88  64]\n",
            " [ 30 538  54]\n",
            " [ 37  77 213]]\n"
          ]
        },
        {
          "name": "stderr",
          "output_type": "stream",
          "text": [
            "\n"
          ]
        }
      ],
      "source": [
        "device = get_default_device()\n",
        "\n",
        "NUM_EPOCHS = 20\n",
        "TRAIN_BATCH_SIZE = 128\n",
        "VALID_BATCH_SIZE = 1024\n",
        "\n",
        "NUM_POLARITY_TAGS = 3\n",
        "\n",
        "history = {\n",
        "    \"train_loss\": list(),\n",
        "    \"polarity_train_acc\": list(),\n",
        "    \"valid_loss\": list(),\n",
        "    \"polarity_valid_acc\": list(),\n",
        "}\n",
        "\n",
        "best_loss = np.inf\n",
        "\n",
        "dataset = TensorDataset(torch.Tensor(X_l_train), torch.Tensor(X_g_train), torch.Tensor(y_train))\n",
        "print(f\"train samples:{len(dataset)}\")\n",
        "train_loader = DataLoader(dataset, batch_size=TRAIN_BATCH_SIZE, shuffle=True, drop_last=True)\n",
        "\n",
        "dataset_valid = TensorDataset(torch.Tensor(X_l_valid),  torch.Tensor(X_g_valid), torch.Tensor(y_valid))\n",
        "print(f\"valid samples:{len(dataset_valid)}\")\n",
        "test_loader = DataLoader(dataset_valid, batch_size=VALID_BATCH_SIZE)\n",
        "\n",
        "model = to_device(Model(general_embedding,  num_classes=3, alpha = 0.6), device)\n",
        "\n",
        "torch.cuda.empty_cache()\n",
        "\n",
        "parameters = [p for p in model.parameters() if p.requires_grad]\n",
        "optimizer = AdamW(parameters, lr=1e-4)\n",
        "\n",
        "\n",
        "for epoch in range(NUM_EPOCHS):\n",
        "    train_losses = []\n",
        "    train_acc = []\n",
        "    test_loss = []\n",
        "    test_acc = []\n",
        "    train_f1 = []\n",
        "    test_f1 = []\n",
        "\n",
        "    model.train()\n",
        "    preds = []\n",
        "    masks = []\n",
        "    labels = []\n",
        "    for data in tqdm(train_loader, total=len(train_loader)):\n",
        "        for i in range(len(data)):\n",
        "            data[i] = data[i].to(device)\n",
        "        l_feature, g_feature, label = data\n",
        "        l_feature, g_feature, label = l_feature.long(), g_feature.long(), label.long()\n",
        "\n",
        "        optimizer.zero_grad()\n",
        "        pred_logits = model(l_feature, g_feature)\n",
        "        loss = loss_fn(pred_logits, label, 3)\n",
        "        loss.backward()\n",
        "        optimizer.step()\n",
        "\n",
        "        train_losses.append(loss.item())\n",
        "\n",
        "        pred_tags = pred_logits.max(-1)[1]\n",
        "        preds.append(pred_tags)\n",
        "        labels.append(label)\n",
        "\n",
        "    avg_train_acc, avg_train_f1, train_cm = cal_acc(preds,labels)\n",
        "    avg_train_loss = sum(train_losses) / len(train_losses)\n",
        "\n",
        "    preds = []\n",
        "    masks = []\n",
        "    labels = []\n",
        "    with torch.no_grad():\n",
        "        for data in tqdm(test_loader, total=len(test_loader)):\n",
        "            for i in range(len(data)):\n",
        "                data[i] = data[i].to(device)\n",
        "            l_feature, g_feature, label = data\n",
        "            l_feature, g_feature, label = l_feature.long(), g_feature.long(), label.long()\n",
        "            pred_logits = model(l_feature, g_feature)\n",
        "            loss = loss_fn(pred_logits, label, 3)\n",
        "\n",
        "            test_loss.append(loss.item())\n",
        "\n",
        "            pred_tags = pred_logits.max(-1)[1]\n",
        "\n",
        "            preds.append(pred_tags)\n",
        "            labels.append(label)\n",
        "\n",
        "    avg_test_acc, avg_test_f1, test_cm = cal_acc(preds,  labels)\n",
        "    avg_test_loss = sum(test_loss) / len(test_loss)\n",
        "\n",
        "    print(f\"\\nepoch {epoch}\")\n",
        "    print(\"\\ttrain_loss:{:.3f} valid_loss:{:.3f}\".format(avg_train_loss, avg_test_loss))\n",
        "    print(\"\\ttrain_acc:{:.2%} valid_acc:{:.2%}\".format(avg_train_acc, avg_test_acc))\n",
        "    print(\"\\ttrain_f1:{:.3f} valid_f1:{:.3f}\".format(avg_train_f1, avg_test_f1))\n",
        "    print(f\"\\ttrain_confusion_matrix:\\n{train_cm}\")\n",
        "    print(f\"\\tvalid_confusion_matrix:\\n{test_cm}\")\n",
        "\n",
        "    if avg_test_loss < best_loss:\n",
        "        torch.save(model.state_dict(), MODEL_PATH)\n",
        "        best_loss = avg_test_loss    \n",
        "        \n",
        "    history['train_loss'].append(avg_train_loss)\n",
        "    history['polarity_train_acc'].append(avg_train_acc.cpu().numpy())\n",
        "    history['valid_loss'].append(avg_test_loss)\n",
        "    history['polarity_valid_acc'].append(avg_test_acc.cpu().numpy())\n",
        "        \n",
        "    \n"
      ]
    },
    {
      "cell_type": "code",
      "execution_count": 22,
      "metadata": {},
      "outputs": [
        {
          "data": {
            "text/plain": [
              "(0.4, 0.9)"
            ]
          },
          "execution_count": 22,
          "metadata": {},
          "output_type": "execute_result"
        },
        {
          "data": {
            "image/png": "[encoded data removed]",
            "text/plain": [
              "<Figure size 432x288 with 1 Axes>"
            ]
          },
          "metadata": {
            "needs_background": "light"
          },
          "output_type": "display_data"
        }
      ],
      "source": [
        "import matplotlib.pyplot as plt\n",
        "plt.plot(history['polarity_train_acc'], label='train accuracy')\n",
        "plt.plot(history['polarity_valid_acc'], label='validation accuracy')\n",
        "plt.title('Training history')\n",
        "plt.ylabel('Accuracy')\n",
        "plt.xlabel('Epoch')\n",
        "plt.legend()\n",
        "plt.ylim([0.4, 0.9])"
      ]
    },
    {
      "cell_type": "code",
      "execution_count": 23,
      "metadata": {},
      "outputs": [
        {
          "name": "stdout",
          "output_type": "stream",
          "text": [
            "Loading saved model from: model_task2.bin\n"
          ]
        },
        {
          "name": "stderr",
          "output_type": "stream",
          "text": [
            "100%|██████████| 2/2 [00:01<00:00,  1.48it/s]"
          ]
        },
        {
          "name": "stdout",
          "output_type": "stream",
          "text": [
            "              precision    recall  f1-score   support\n",
            "\n",
            "     Neutral       0.48      0.28      0.36       212\n",
            "    Positive       0.76      0.86      0.81       622\n",
            "    Negative       0.64      0.65      0.64       327\n",
            "\n",
            "    accuracy                           0.70      1161\n",
            "   macro avg       0.63      0.60      0.60      1161\n",
            "weighted avg       0.68      0.70      0.68      1161\n",
            "\n"
          ]
        },
        {
          "name": "stderr",
          "output_type": "stream",
          "text": [
            "\n"
          ]
        }
      ],
      "source": [
        "def get_classification_report(test_loader, model, model_path=None):\n",
        "    if model_path is not None: # load the saved model\n",
        "        print('Loading saved model from: {}'.format(model_path))\n",
        "        model.load_state_dict(torch.load(model_path))\n",
        "    model = to_device(model, device)   \n",
        "    \n",
        "    model.eval()\n",
        "    final_pred_polarity_tags = []\n",
        "    final_true_polarity_tags = []\n",
        "\n",
        "\n",
        "    with torch.no_grad():\n",
        "        for data in tqdm(test_loader, total=len(test_loader)):\n",
        "            for i in range(len(data)):\n",
        "                data[i] = data[i].to(device)\n",
        "\n",
        "            l_feature, g_feature, label = data\n",
        "            l_feature, g_feature, label = l_feature.long(), g_feature.long(), label.long()\n",
        "            pred_logits = model(l_feature, g_feature)\n",
        "\n",
        "            pred_tags = pred_logits.max(-1)[1]\n",
        "\n",
        "            final_pred_polarity_tags.extend(pred_tags)\n",
        "            final_true_polarity_tags.extend(label)\n",
        "\n",
        "    final_pred_polarity_tags = torch.stack(final_pred_polarity_tags).cpu()\n",
        "    final_true_polarity_tags = torch.stack(final_true_polarity_tags).cpu()\n",
        "        \n",
        "    print(classification_report(final_true_polarity_tags, final_pred_polarity_tags, \n",
        "                                target_names=[\"Neutral\", \"Positive\", \"Negative\"]))\n",
        "    \n",
        "get_classification_report(test_loader, model, model_path=MODEL_PATH)"
      ]
    },
    {
      "cell_type": "markdown",
      "metadata": {},
      "source": [
        "## Alpha = 0.8"
      ]
    },
    {
      "cell_type": "code",
      "execution_count": 24,
      "metadata": {},
      "outputs": [
        {
          "name": "stdout",
          "output_type": "stream",
          "text": [
            "train samples:4641\n",
            "valid samples:1161\n"
          ]
        },
        {
          "name": "stderr",
          "output_type": "stream",
          "text": [
            "100%|██████████| 36/36 [00:11<00:00,  3.08it/s]\n",
            "100%|██████████| 2/2 [00:01<00:00,  1.64it/s]\n"
          ]
        },
        {
          "name": "stdout",
          "output_type": "stream",
          "text": [
            "\n",
            "epoch 0\n",
            "\ttrain_loss:1.088 valid_loss:1.058\n",
            "\ttrain_acc:41.86% valid_acc:53.57%\n",
            "\ttrain_f1:0.373 valid_f1:0.376\n",
            "\ttrain_confusion_matrix:\n",
            "[[ 223  619   61]\n",
            " [ 637 1641  126]\n",
            " [ 346  890   65]]\n",
            "\tvalid_confusion_matrix:\n",
            "[[  0 212   0]\n",
            " [  1 621   0]\n",
            " [  1 325   1]]\n"
          ]
        },
        {
          "name": "stderr",
          "output_type": "stream",
          "text": [
            "100%|██████████| 36/36 [00:11<00:00,  3.20it/s]\n",
            "100%|██████████| 2/2 [00:01<00:00,  1.66it/s]\n"
          ]
        },
        {
          "name": "stdout",
          "output_type": "stream",
          "text": [
            "\n",
            "epoch 1\n",
            "\ttrain_loss:1.035 valid_loss:0.996\n",
            "\ttrain_acc:52.15% valid_acc:53.57%\n",
            "\ttrain_f1:0.357 valid_f1:0.374\n",
            "\ttrain_confusion_matrix:\n",
            "[[   0  902    0]\n",
            " [   0 2403    0]\n",
            " [   0 1303    0]]\n",
            "\tvalid_confusion_matrix:\n",
            "[[  0 212   0]\n",
            " [  0 622   0]\n",
            " [  0 327   0]]\n"
          ]
        },
        {
          "name": "stderr",
          "output_type": "stream",
          "text": [
            "100%|██████████| 36/36 [00:11<00:00,  3.17it/s]\n",
            "100%|██████████| 2/2 [00:01<00:00,  1.70it/s]\n"
          ]
        },
        {
          "name": "stdout",
          "output_type": "stream",
          "text": [
            "\n",
            "epoch 2\n",
            "\ttrain_loss:0.994 valid_loss:0.961\n",
            "\ttrain_acc:52.28% valid_acc:53.57%\n",
            "\ttrain_f1:0.359 valid_f1:0.374\n",
            "\ttrain_confusion_matrix:\n",
            "[[   0  904    0]\n",
            " [   0 2409    0]\n",
            " [   0 1295    0]]\n",
            "\tvalid_confusion_matrix:\n",
            "[[  0 212   0]\n",
            " [  0 622   0]\n",
            " [  0 327   0]]\n"
          ]
        },
        {
          "name": "stderr",
          "output_type": "stream",
          "text": [
            "100%|██████████| 36/36 [00:11<00:00,  3.19it/s]\n",
            "100%|██████████| 2/2 [00:01<00:00,  1.65it/s]\n"
          ]
        },
        {
          "name": "stdout",
          "output_type": "stream",
          "text": [
            "\n",
            "epoch 3\n",
            "\ttrain_loss:0.946 valid_loss:0.887\n",
            "\ttrain_acc:52.45% valid_acc:55.47%\n",
            "\ttrain_f1:0.365 valid_f1:0.424\n",
            "\ttrain_confusion_matrix:\n",
            "[[   0  894    5]\n",
            " [   0 2403    4]\n",
            " [   0 1288   14]]\n",
            "\tvalid_confusion_matrix:\n",
            "[[  0 200  12]\n",
            " [  0 614   8]\n",
            " [  0 297  30]]\n"
          ]
        },
        {
          "name": "stderr",
          "output_type": "stream",
          "text": [
            "100%|██████████| 36/36 [00:11<00:00,  3.23it/s]\n",
            "100%|██████████| 2/2 [00:01<00:00,  1.66it/s]\n"
          ]
        },
        {
          "name": "stdout",
          "output_type": "stream",
          "text": [
            "\n",
            "epoch 4\n",
            "\ttrain_loss:0.874 valid_loss:0.840\n",
            "\ttrain_acc:59.51% valid_acc:61.41%\n",
            "\ttrain_f1:0.512 valid_f1:0.553\n",
            "\ttrain_confusion_matrix:\n",
            "[[   0  638  265]\n",
            " [   0 2232  172]\n",
            " [   0  791  510]]\n",
            "\tvalid_confusion_matrix:\n",
            "[[  0 100 112]\n",
            " [  0 519 103]\n",
            " [  0 133 194]]\n"
          ]
        },
        {
          "name": "stderr",
          "output_type": "stream",
          "text": [
            "100%|██████████| 36/36 [00:11<00:00,  3.23it/s]\n",
            "100%|██████████| 2/2 [00:01<00:00,  1.66it/s]\n"
          ]
        },
        {
          "name": "stdout",
          "output_type": "stream",
          "text": [
            "\n",
            "epoch 5\n",
            "\ttrain_loss:0.835 valid_loss:0.810\n",
            "\ttrain_acc:63.48% valid_acc:64.08%\n",
            "\ttrain_f1:0.567 valid_f1:0.575\n",
            "\ttrain_confusion_matrix:\n",
            "[[   0  440  463]\n",
            " [   0 2064  343]\n",
            " [   0  437  861]]\n",
            "\tvalid_confusion_matrix:\n",
            "[[  0 113  99]\n",
            " [  0 543  79]\n",
            " [  0 126 201]]\n"
          ]
        },
        {
          "name": "stderr",
          "output_type": "stream",
          "text": [
            "100%|██████████| 36/36 [00:11<00:00,  3.23it/s]\n",
            "100%|██████████| 2/2 [00:01<00:00,  1.66it/s]\n"
          ]
        },
        {
          "name": "stdout",
          "output_type": "stream",
          "text": [
            "\n",
            "epoch 6\n",
            "\ttrain_loss:0.810 valid_loss:0.790\n",
            "\ttrain_acc:65.10% valid_acc:65.46%\n",
            "\ttrain_f1:0.583 valid_f1:0.592\n",
            "\ttrain_confusion_matrix:\n",
            "[[   0  421  474]\n",
            " [   0 2085  324]\n",
            " [   0  389  915]]\n",
            "\tvalid_confusion_matrix:\n",
            "[[  0  92 120]\n",
            " [  0 531  91]\n",
            " [  0  98 229]]\n"
          ]
        },
        {
          "name": "stderr",
          "output_type": "stream",
          "text": [
            "100%|██████████| 36/36 [00:11<00:00,  3.23it/s]\n",
            "100%|██████████| 2/2 [00:01<00:00,  1.67it/s]\n"
          ]
        },
        {
          "name": "stdout",
          "output_type": "stream",
          "text": [
            "\n",
            "epoch 7\n",
            "\ttrain_loss:0.790 valid_loss:0.781\n",
            "\ttrain_acc:66.15% valid_acc:65.55%\n",
            "\ttrain_f1:0.595 valid_f1:0.594\n",
            "\ttrain_confusion_matrix:\n",
            "[[   0  367  530]\n",
            " [   0 2043  362]\n",
            " [   0  301 1005]]\n",
            "\tvalid_confusion_matrix:\n",
            "[[  0  87 125]\n",
            " [  0 526  96]\n",
            " [  0  92 235]]\n"
          ]
        },
        {
          "name": "stderr",
          "output_type": "stream",
          "text": [
            "100%|██████████| 36/36 [00:11<00:00,  3.24it/s]\n",
            "100%|██████████| 2/2 [00:01<00:00,  1.70it/s]\n"
          ]
        },
        {
          "name": "stdout",
          "output_type": "stream",
          "text": [
            "\n",
            "epoch 8\n",
            "\ttrain_loss:0.774 valid_loss:0.772\n",
            "\ttrain_acc:66.82% valid_acc:65.98%\n",
            "\ttrain_f1:0.600 valid_f1:0.596\n",
            "\ttrain_confusion_matrix:\n",
            "[[   1  368  535]\n",
            " [   0 2060  346]\n",
            " [   0  280 1018]]\n",
            "\tvalid_confusion_matrix:\n",
            "[[  0  93 119]\n",
            " [  0 536  86]\n",
            " [  0  97 230]]\n"
          ]
        },
        {
          "name": "stderr",
          "output_type": "stream",
          "text": [
            "100%|██████████| 36/36 [00:11<00:00,  3.25it/s]\n",
            "100%|██████████| 2/2 [00:01<00:00,  1.66it/s]\n"
          ]
        },
        {
          "name": "stdout",
          "output_type": "stream",
          "text": [
            "\n",
            "epoch 9\n",
            "\ttrain_loss:0.760 valid_loss:0.759\n",
            "\ttrain_acc:67.23% valid_acc:66.67%\n",
            "\ttrain_f1:0.605 valid_f1:0.602\n",
            "\ttrain_confusion_matrix:\n",
            "[[   3  370  527]\n",
            " [   2 2057  349]\n",
            " [   0  262 1038]]\n",
            "\tvalid_confusion_matrix:\n",
            "[[  0  93 119]\n",
            " [  0 539  83]\n",
            " [  0  92 235]]\n"
          ]
        },
        {
          "name": "stderr",
          "output_type": "stream",
          "text": [
            "100%|██████████| 36/36 [00:11<00:00,  3.24it/s]\n",
            "100%|██████████| 2/2 [00:01<00:00,  1.66it/s]\n"
          ]
        },
        {
          "name": "stdout",
          "output_type": "stream",
          "text": [
            "\n",
            "epoch 10\n",
            "\ttrain_loss:0.745 valid_loss:0.759\n",
            "\ttrain_acc:67.82% valid_acc:66.67%\n",
            "\ttrain_f1:0.611 valid_f1:0.604\n",
            "\ttrain_confusion_matrix:\n",
            "[[   8  387  505]\n",
            " [   3 2081  318]\n",
            " [   1  269 1036]]\n",
            "\tvalid_confusion_matrix:\n",
            "[[  2 101 109]\n",
            " [  0 545  77]\n",
            " [  2  98 227]]\n"
          ]
        },
        {
          "name": "stderr",
          "output_type": "stream",
          "text": [
            "100%|██████████| 36/36 [00:11<00:00,  3.23it/s]\n",
            "100%|██████████| 2/2 [00:01<00:00,  1.66it/s]\n"
          ]
        },
        {
          "name": "stdout",
          "output_type": "stream",
          "text": [
            "\n",
            "epoch 11\n",
            "\ttrain_loss:0.732 valid_loss:0.751\n",
            "\ttrain_acc:68.29% valid_acc:67.27%\n",
            "\ttrain_f1:0.620 valid_f1:0.613\n",
            "\ttrain_confusion_matrix:\n",
            "[[  17  380  501]\n",
            " [   9 2077  323]\n",
            " [   8  240 1053]]\n",
            "\tvalid_confusion_matrix:\n",
            "[[  6 115  91]\n",
            " [  3 549  70]\n",
            " [  2  99 226]]\n"
          ]
        },
        {
          "name": "stderr",
          "output_type": "stream",
          "text": [
            "100%|██████████| 36/36 [00:11<00:00,  3.25it/s]\n",
            "100%|██████████| 2/2 [00:01<00:00,  1.71it/s]\n"
          ]
        },
        {
          "name": "stdout",
          "output_type": "stream",
          "text": [
            "\n",
            "epoch 12\n",
            "\ttrain_loss:0.721 valid_loss:0.746\n",
            "\ttrain_acc:69.01% valid_acc:67.36%\n",
            "\ttrain_f1:0.630 valid_f1:0.616\n",
            "\ttrain_confusion_matrix:\n",
            "[[  34  395  473]\n",
            " [  19 2098  285]\n",
            " [  10  246 1048]]\n",
            "\tvalid_confusion_matrix:\n",
            "[[  8 119  85]\n",
            " [  4 550  68]\n",
            " [  4  99 224]]\n"
          ]
        },
        {
          "name": "stderr",
          "output_type": "stream",
          "text": [
            "100%|██████████| 36/36 [00:11<00:00,  3.24it/s]\n",
            "100%|██████████| 2/2 [00:01<00:00,  1.67it/s]\n"
          ]
        },
        {
          "name": "stdout",
          "output_type": "stream",
          "text": [
            "\n",
            "epoch 13\n",
            "\ttrain_loss:0.717 valid_loss:0.743\n",
            "\ttrain_acc:69.25% valid_acc:68.22%\n",
            "\ttrain_f1:0.638 valid_f1:0.634\n",
            "\ttrain_confusion_matrix:\n",
            "[[  52  406  442]\n",
            " [  22 2100  286]\n",
            " [  26  235 1039]]\n",
            "\tvalid_confusion_matrix:\n",
            "[[ 17 110  85]\n",
            " [  8 550  64]\n",
            " [  6  96 225]]\n"
          ]
        },
        {
          "name": "stderr",
          "output_type": "stream",
          "text": [
            "100%|██████████| 36/36 [00:11<00:00,  3.23it/s]\n",
            "100%|██████████| 2/2 [00:01<00:00,  1.67it/s]\n"
          ]
        },
        {
          "name": "stdout",
          "output_type": "stream",
          "text": [
            "\n",
            "epoch 14\n",
            "\ttrain_loss:0.704 valid_loss:0.740\n",
            "\ttrain_acc:69.94% valid_acc:67.27%\n",
            "\ttrain_f1:0.650 valid_f1:0.624\n",
            "\ttrain_confusion_matrix:\n",
            "[[  74  393  431]\n",
            " [  39 2109  260]\n",
            " [  28  234 1040]]\n",
            "\tvalid_confusion_matrix:\n",
            "[[ 17 120  75]\n",
            " [ 10 554  58]\n",
            " [  9 108 210]]\n"
          ]
        },
        {
          "name": "stderr",
          "output_type": "stream",
          "text": [
            "100%|██████████| 36/36 [00:11<00:00,  3.24it/s]\n",
            "100%|██████████| 2/2 [00:01<00:00,  1.67it/s]\n"
          ]
        },
        {
          "name": "stdout",
          "output_type": "stream",
          "text": [
            "\n",
            "epoch 15\n",
            "\ttrain_loss:0.697 valid_loss:0.735\n",
            "\ttrain_acc:70.25% valid_acc:68.30%\n",
            "\ttrain_f1:0.660 valid_f1:0.648\n",
            "\ttrain_confusion_matrix:\n",
            "[[ 102  376  424]\n",
            " [  56 2104  243]\n",
            " [  44  228 1031]]\n",
            "\tvalid_confusion_matrix:\n",
            "[[ 24  80 108]\n",
            " [ 20 516  86]\n",
            " [  8  66 253]]\n"
          ]
        },
        {
          "name": "stderr",
          "output_type": "stream",
          "text": [
            "100%|██████████| 36/36 [00:11<00:00,  3.13it/s]\n",
            "100%|██████████| 2/2 [00:01<00:00,  1.61it/s]\n"
          ]
        },
        {
          "name": "stdout",
          "output_type": "stream",
          "text": [
            "\n",
            "epoch 16\n",
            "\ttrain_loss:0.689 valid_loss:0.728\n",
            "\ttrain_acc:70.90% valid_acc:68.99%\n",
            "\ttrain_f1:0.671 valid_f1:0.648\n",
            "\ttrain_confusion_matrix:\n",
            "[[ 127  362  412]\n",
            " [  66 2096  241]\n",
            " [  50  210 1044]]\n",
            "\tvalid_confusion_matrix:\n",
            "[[ 23 113  76]\n",
            " [ 13 550  59]\n",
            " [ 13  86 228]]\n"
          ]
        },
        {
          "name": "stderr",
          "output_type": "stream",
          "text": [
            "100%|██████████| 36/36 [00:11<00:00,  3.23it/s]\n",
            "100%|██████████| 2/2 [00:01<00:00,  1.69it/s]\n"
          ]
        },
        {
          "name": "stdout",
          "output_type": "stream",
          "text": [
            "\n",
            "epoch 17\n",
            "\ttrain_loss:0.681 valid_loss:0.725\n",
            "\ttrain_acc:71.03% valid_acc:69.85%\n",
            "\ttrain_f1:0.675 valid_f1:0.666\n",
            "\ttrain_confusion_matrix:\n",
            "[[ 134  358  408]\n",
            " [  85 2092  225]\n",
            " [  60  199 1047]]\n",
            "\tvalid_confusion_matrix:\n",
            "[[ 34  96  82]\n",
            " [ 15 545  62]\n",
            " [ 15  80 232]]\n"
          ]
        },
        {
          "name": "stderr",
          "output_type": "stream",
          "text": [
            "100%|██████████| 36/36 [00:11<00:00,  3.24it/s]\n",
            "100%|██████████| 2/2 [00:01<00:00,  1.68it/s]\n"
          ]
        },
        {
          "name": "stdout",
          "output_type": "stream",
          "text": [
            "\n",
            "epoch 18\n",
            "\ttrain_loss:0.672 valid_loss:0.717\n",
            "\ttrain_acc:71.16% valid_acc:69.85%\n",
            "\ttrain_f1:0.681 valid_f1:0.673\n",
            "\ttrain_confusion_matrix:\n",
            "[[ 164  357  383]\n",
            " [  99 2094  214]\n",
            " [  75  201 1021]]\n",
            "\tvalid_confusion_matrix:\n",
            "[[ 40  80  92]\n",
            " [ 26 520  76]\n",
            " [ 12  64 251]]\n"
          ]
        },
        {
          "name": "stderr",
          "output_type": "stream",
          "text": [
            "100%|██████████| 36/36 [00:11<00:00,  3.23it/s]\n",
            "100%|██████████| 2/2 [00:01<00:00,  1.66it/s]"
          ]
        },
        {
          "name": "stdout",
          "output_type": "stream",
          "text": [
            "\n",
            "epoch 19\n",
            "\ttrain_loss:0.668 valid_loss:0.715\n",
            "\ttrain_acc:72.01% valid_acc:70.63%\n",
            "\ttrain_f1:0.692 valid_f1:0.680\n",
            "\ttrain_confusion_matrix:\n",
            "[[ 177  336  386]\n",
            " [  93 2095  219]\n",
            " [  70  186 1046]]\n",
            "\tvalid_confusion_matrix:\n",
            "[[ 43  91  78]\n",
            " [ 18 538  66]\n",
            " [ 19  69 239]]\n"
          ]
        },
        {
          "name": "stderr",
          "output_type": "stream",
          "text": [
            "\n"
          ]
        }
      ],
      "source": [
        "device = get_default_device()\n",
        "\n",
        "NUM_EPOCHS = 20\n",
        "TRAIN_BATCH_SIZE = 128\n",
        "VALID_BATCH_SIZE = 1024\n",
        "\n",
        "NUM_POLARITY_TAGS = 3\n",
        "\n",
        "history = {\n",
        "    \"train_loss\": list(),\n",
        "    \"polarity_train_acc\": list(),\n",
        "    \"valid_loss\": list(),\n",
        "    \"polarity_valid_acc\": list(),\n",
        "}\n",
        "\n",
        "best_loss = np.inf\n",
        "\n",
        "dataset = TensorDataset(torch.Tensor(X_l_train), torch.Tensor(X_g_train), torch.Tensor(y_train))\n",
        "print(f\"train samples:{len(dataset)}\")\n",
        "train_loader = DataLoader(dataset, batch_size=TRAIN_BATCH_SIZE, shuffle=True, drop_last=True)\n",
        "\n",
        "dataset_valid = TensorDataset(torch.Tensor(X_l_valid),  torch.Tensor(X_g_valid), torch.Tensor(y_valid))\n",
        "print(f\"valid samples:{len(dataset_valid)}\")\n",
        "test_loader = DataLoader(dataset_valid, batch_size=VALID_BATCH_SIZE)\n",
        "\n",
        "model = to_device(Model(general_embedding,  num_classes=3, alpha = 0.8), device)\n",
        "\n",
        "torch.cuda.empty_cache()\n",
        "\n",
        "parameters = [p for p in model.parameters() if p.requires_grad]\n",
        "optimizer = AdamW(parameters, lr=1e-4)\n",
        "\n",
        "\n",
        "for epoch in range(NUM_EPOCHS):\n",
        "    train_losses = []\n",
        "    train_acc = []\n",
        "    test_loss = []\n",
        "    test_acc = []\n",
        "    train_f1 = []\n",
        "    test_f1 = []\n",
        "\n",
        "    model.train()\n",
        "    preds = []\n",
        "    masks = []\n",
        "    labels = []\n",
        "    for data in tqdm(train_loader, total=len(train_loader)):\n",
        "        for i in range(len(data)):\n",
        "            data[i] = data[i].to(device)\n",
        "        l_feature, g_feature, label = data\n",
        "        l_feature, g_feature, label = l_feature.long(), g_feature.long(), label.long()\n",
        "\n",
        "        optimizer.zero_grad()\n",
        "        pred_logits = model(l_feature, g_feature)\n",
        "        loss = loss_fn(pred_logits, label, 3)\n",
        "        loss.backward()\n",
        "        optimizer.step()\n",
        "\n",
        "        train_losses.append(loss.item())\n",
        "\n",
        "        pred_tags = pred_logits.max(-1)[1]\n",
        "        preds.append(pred_tags)\n",
        "        labels.append(label)\n",
        "\n",
        "    avg_train_acc, avg_train_f1, train_cm = cal_acc(preds,labels)\n",
        "    avg_train_loss = sum(train_losses) / len(train_losses)\n",
        "\n",
        "    preds = []\n",
        "    masks = []\n",
        "    labels = []\n",
        "    with torch.no_grad():\n",
        "        for data in tqdm(test_loader, total=len(test_loader)):\n",
        "            for i in range(len(data)):\n",
        "                data[i] = data[i].to(device)\n",
        "            l_feature, g_feature, label = data\n",
        "            l_feature, g_feature, label = l_feature.long(), g_feature.long(), label.long()\n",
        "            pred_logits = model(l_feature, g_feature)\n",
        "            loss = loss_fn(pred_logits, label, 3)\n",
        "\n",
        "            test_loss.append(loss.item())\n",
        "\n",
        "            pred_tags = pred_logits.max(-1)[1]\n",
        "\n",
        "            preds.append(pred_tags)\n",
        "            labels.append(label)\n",
        "\n",
        "    avg_test_acc, avg_test_f1, test_cm = cal_acc(preds,  labels)\n",
        "    avg_test_loss = sum(test_loss) / len(test_loss)\n",
        "\n",
        "    print(f\"\\nepoch {epoch}\")\n",
        "    print(\"\\ttrain_loss:{:.3f} valid_loss:{:.3f}\".format(avg_train_loss, avg_test_loss))\n",
        "    print(\"\\ttrain_acc:{:.2%} valid_acc:{:.2%}\".format(avg_train_acc, avg_test_acc))\n",
        "    print(\"\\ttrain_f1:{:.3f} valid_f1:{:.3f}\".format(avg_train_f1, avg_test_f1))\n",
        "    print(f\"\\ttrain_confusion_matrix:\\n{train_cm}\")\n",
        "    print(f\"\\tvalid_confusion_matrix:\\n{test_cm}\")\n",
        "\n",
        "    if avg_test_loss < best_loss:\n",
        "        torch.save(model.state_dict(), MODEL_PATH)\n",
        "        best_loss = avg_test_loss    \n",
        "        \n",
        "    history['train_loss'].append(avg_train_loss)\n",
        "    history['polarity_train_acc'].append(avg_train_acc.cpu().numpy())\n",
        "    history['valid_loss'].append(avg_test_loss)\n",
        "    history['polarity_valid_acc'].append(avg_test_acc.cpu().numpy())\n",
        "        \n",
        "    \n"
      ]
    },
    {
      "cell_type": "code",
      "execution_count": 25,
      "metadata": {},
      "outputs": [
        {
          "data": {
            "text/plain": [
              "(0.4, 0.9)"
            ]
          },
          "execution_count": 25,
          "metadata": {},
          "output_type": "execute_result"
        },
        {
          "data": {
            "image/png": "[encoded data removed]",
            "text/plain": [
              "<Figure size 432x288 with 1 Axes>"
            ]
          },
          "metadata": {
            "needs_background": "light"
          },
          "output_type": "display_data"
        }
      ],
      "source": [
        "import matplotlib.pyplot as plt\n",
        "plt.plot(history['polarity_train_acc'], label='train accuracy')\n",
        "plt.plot(history['polarity_valid_acc'], label='validation accuracy')\n",
        "plt.title('Training history')\n",
        "plt.ylabel('Accuracy')\n",
        "plt.xlabel('Epoch')\n",
        "plt.legend()\n",
        "plt.ylim([0.4, 0.9])"
      ]
    },
    {
      "cell_type": "code",
      "execution_count": 26,
      "metadata": {},
      "outputs": [
        {
          "name": "stdout",
          "output_type": "stream",
          "text": [
            "Loading saved model from: model_task2.bin\n"
          ]
        },
        {
          "name": "stderr",
          "output_type": "stream",
          "text": [
            "100%|██████████| 2/2 [00:01<00:00,  1.56it/s]"
          ]
        },
        {
          "name": "stdout",
          "output_type": "stream",
          "text": [
            "              precision    recall  f1-score   support\n",
            "\n",
            "     Neutral       0.55      0.21      0.30       212\n",
            "    Positive       0.77      0.86      0.81       622\n",
            "    Negative       0.62      0.73      0.67       327\n",
            "\n",
            "    accuracy                           0.70      1161\n",
            "   macro avg       0.65      0.60      0.59      1161\n",
            "weighted avg       0.69      0.70      0.68      1161\n",
            "\n"
          ]
        },
        {
          "name": "stderr",
          "output_type": "stream",
          "text": [
            "\n"
          ]
        }
      ],
      "source": [
        "def get_classification_report(test_loader, model, model_path=None):\n",
        "    if model_path is not None: # load the saved model\n",
        "        print('Loading saved model from: {}'.format(model_path))\n",
        "        model.load_state_dict(torch.load(model_path))\n",
        "    model = to_device(model, device)   \n",
        "    \n",
        "    model.eval()\n",
        "    final_pred_polarity_tags = []\n",
        "    final_true_polarity_tags = []\n",
        "\n",
        "\n",
        "    with torch.no_grad():\n",
        "        for data in tqdm(test_loader, total=len(test_loader)):\n",
        "            for i in range(len(data)):\n",
        "                data[i] = data[i].to(device)\n",
        "\n",
        "            l_feature, g_feature, label = data\n",
        "            l_feature, g_feature, label = l_feature.long(), g_feature.long(), label.long()\n",
        "            pred_logits = model(l_feature, g_feature)\n",
        "\n",
        "            pred_tags = pred_logits.max(-1)[1]\n",
        "\n",
        "            final_pred_polarity_tags.extend(pred_tags)\n",
        "            final_true_polarity_tags.extend(label)\n",
        "\n",
        "    final_pred_polarity_tags = torch.stack(final_pred_polarity_tags).cpu()\n",
        "    final_true_polarity_tags = torch.stack(final_true_polarity_tags).cpu()\n",
        "        \n",
        "    print(classification_report(final_true_polarity_tags, final_pred_polarity_tags, \n",
        "                                target_names=[\"Neutral\", \"Positive\", \"Negative\"]))\n",
        "    \n",
        "get_classification_report(test_loader, model, model_path=MODEL_PATH)"
      ]
    },
    {
      "cell_type": "markdown",
      "metadata": {},
      "source": [
        "## Alpha = 1"
      ]
    },
    {
      "cell_type": "code",
      "execution_count": 27,
      "metadata": {},
      "outputs": [
        {
          "name": "stdout",
          "output_type": "stream",
          "text": [
            "train samples:4641\n",
            "valid samples:1161\n"
          ]
        },
        {
          "name": "stderr",
          "output_type": "stream",
          "text": [
            "100%|██████████| 36/36 [00:11<00:00,  3.07it/s]\n",
            "100%|██████████| 2/2 [00:01<00:00,  1.57it/s]\n"
          ]
        },
        {
          "name": "stdout",
          "output_type": "stream",
          "text": [
            "\n",
            "epoch 0\n",
            "\ttrain_loss:1.089 valid_loss:1.062\n",
            "\ttrain_acc:41.43% valid_acc:52.97%\n",
            "\ttrain_f1:0.395 valid_f1:0.380\n",
            "\ttrain_confusion_matrix:\n",
            "[[  56  467  375]\n",
            " [  92 1295 1020]\n",
            " [  61  684  558]]\n",
            "\tvalid_confusion_matrix:\n",
            "[[  0 211   1]\n",
            " [  0 609  13]\n",
            " [  0 321   6]]\n"
          ]
        },
        {
          "name": "stderr",
          "output_type": "stream",
          "text": [
            "100%|██████████| 36/36 [00:11<00:00,  3.20it/s]\n",
            "100%|██████████| 2/2 [00:01<00:00,  1.62it/s]\n"
          ]
        },
        {
          "name": "stdout",
          "output_type": "stream",
          "text": [
            "\n",
            "epoch 1\n",
            "\ttrain_loss:1.038 valid_loss:0.998\n",
            "\ttrain_acc:52.26% valid_acc:53.66%\n",
            "\ttrain_f1:0.361 valid_f1:0.376\n",
            "\ttrain_confusion_matrix:\n",
            "[[   0  901    2]\n",
            " [   0 2402    3]\n",
            " [   0 1294    6]]\n",
            "\tvalid_confusion_matrix:\n",
            "[[  0 212   0]\n",
            " [  0 622   0]\n",
            " [  0 326   1]]\n"
          ]
        },
        {
          "name": "stderr",
          "output_type": "stream",
          "text": [
            "100%|██████████| 36/36 [00:11<00:00,  3.20it/s]\n",
            "100%|██████████| 2/2 [00:01<00:00,  1.64it/s]\n"
          ]
        },
        {
          "name": "stdout",
          "output_type": "stream",
          "text": [
            "\n",
            "epoch 2\n",
            "\ttrain_loss:0.991 valid_loss:0.957\n",
            "\ttrain_acc:52.17% valid_acc:53.83%\n",
            "\ttrain_f1:0.359 valid_f1:0.381\n",
            "\ttrain_confusion_matrix:\n",
            "[[   0  906    0]\n",
            " [   0 2400    2]\n",
            " [   0 1296    4]]\n",
            "\tvalid_confusion_matrix:\n",
            "[[  0 212   0]\n",
            " [  0 621   1]\n",
            " [  0 323   4]]\n"
          ]
        },
        {
          "name": "stderr",
          "output_type": "stream",
          "text": [
            "100%|██████████| 36/36 [00:11<00:00,  3.21it/s]\n",
            "100%|██████████| 2/2 [00:01<00:00,  1.61it/s]\n"
          ]
        },
        {
          "name": "stdout",
          "output_type": "stream",
          "text": [
            "\n",
            "epoch 3\n",
            "\ttrain_loss:0.934 valid_loss:0.879\n",
            "\ttrain_acc:53.06% valid_acc:56.33%\n",
            "\ttrain_f1:0.379 valid_f1:0.452\n",
            "\ttrain_confusion_matrix:\n",
            "[[   0  877   22]\n",
            " [   0 2404    5]\n",
            " [   0 1259   41]]\n",
            "\tvalid_confusion_matrix:\n",
            "[[  0 187  25]\n",
            " [  0 601  21]\n",
            " [  0 274  53]]\n"
          ]
        },
        {
          "name": "stderr",
          "output_type": "stream",
          "text": [
            "100%|██████████| 36/36 [00:11<00:00,  3.21it/s]\n",
            "100%|██████████| 2/2 [00:01<00:00,  1.64it/s]\n"
          ]
        },
        {
          "name": "stdout",
          "output_type": "stream",
          "text": [
            "\n",
            "epoch 4\n",
            "\ttrain_loss:0.872 valid_loss:0.837\n",
            "\ttrain_acc:59.61% valid_acc:62.79%\n",
            "\ttrain_f1:0.512 valid_f1:0.561\n",
            "\ttrain_confusion_matrix:\n",
            "[[   0  631  267]\n",
            " [   0 2250  158]\n",
            " [   0  805  497]]\n",
            "\tvalid_confusion_matrix:\n",
            "[[  0 117  95]\n",
            " [  0 547  75]\n",
            " [  0 145 182]]\n"
          ]
        },
        {
          "name": "stderr",
          "output_type": "stream",
          "text": [
            "100%|██████████| 36/36 [00:11<00:00,  3.21it/s]\n",
            "100%|██████████| 2/2 [00:01<00:00,  1.63it/s]\n"
          ]
        },
        {
          "name": "stdout",
          "output_type": "stream",
          "text": [
            "\n",
            "epoch 5\n",
            "\ttrain_loss:0.836 valid_loss:0.809\n",
            "\ttrain_acc:63.30% valid_acc:64.77%\n",
            "\ttrain_f1:0.564 valid_f1:0.581\n",
            "\ttrain_confusion_matrix:\n",
            "[[   0  442  458]\n",
            " [   0 2098  302]\n",
            " [   0  489  819]]\n",
            "\tvalid_confusion_matrix:\n",
            "[[  0 111 101]\n",
            " [  0 549  73]\n",
            " [  0 124 203]]\n"
          ]
        },
        {
          "name": "stderr",
          "output_type": "stream",
          "text": [
            "100%|██████████| 36/36 [00:11<00:00,  3.21it/s]\n",
            "100%|██████████| 2/2 [00:01<00:00,  1.53it/s]\n"
          ]
        },
        {
          "name": "stdout",
          "output_type": "stream",
          "text": [
            "\n",
            "epoch 6\n",
            "\ttrain_loss:0.809 valid_loss:0.795\n",
            "\ttrain_acc:64.97% valid_acc:64.60%\n",
            "\ttrain_f1:0.583 valid_f1:0.587\n",
            "\ttrain_confusion_matrix:\n",
            "[[   0  379  516]\n",
            " [   0 2062  348]\n",
            " [   0  371  932]]\n",
            "\tvalid_confusion_matrix:\n",
            "[[  0  75 137]\n",
            " [  0 516 106]\n",
            " [  0  93 234]]\n"
          ]
        },
        {
          "name": "stderr",
          "output_type": "stream",
          "text": [
            "100%|██████████| 36/36 [00:11<00:00,  3.20it/s]\n",
            "100%|██████████| 2/2 [00:01<00:00,  1.67it/s]\n"
          ]
        },
        {
          "name": "stdout",
          "output_type": "stream",
          "text": [
            "\n",
            "epoch 7\n",
            "\ttrain_loss:0.792 valid_loss:0.776\n",
            "\ttrain_acc:65.60% valid_acc:65.03%\n",
            "\ttrain_f1:0.591 valid_f1:0.591\n",
            "\ttrain_confusion_matrix:\n",
            "[[   0  335  568]\n",
            " [   0 1998  405]\n",
            " [   0  277 1025]]\n",
            "\tvalid_confusion_matrix:\n",
            "[[  0  82 130]\n",
            " [  0 511 111]\n",
            " [  0  83 244]]\n"
          ]
        },
        {
          "name": "stderr",
          "output_type": "stream",
          "text": [
            "100%|██████████| 36/36 [00:11<00:00,  3.22it/s]\n",
            "100%|██████████| 2/2 [00:01<00:00,  1.69it/s]\n"
          ]
        },
        {
          "name": "stdout",
          "output_type": "stream",
          "text": [
            "\n",
            "epoch 8\n",
            "\ttrain_loss:0.777 valid_loss:0.767\n",
            "\ttrain_acc:66.56% valid_acc:65.81%\n",
            "\ttrain_f1:0.599 valid_f1:0.594\n",
            "\ttrain_confusion_matrix:\n",
            "[[   0  342  560]\n",
            " [   0 2039  363]\n",
            " [   0  276 1028]]\n",
            "\tvalid_confusion_matrix:\n",
            "[[  0  97 115]\n",
            " [  0 534  88]\n",
            " [  0  97 230]]\n"
          ]
        },
        {
          "name": "stderr",
          "output_type": "stream",
          "text": [
            "100%|██████████| 36/36 [00:11<00:00,  3.23it/s]\n",
            "100%|██████████| 2/2 [00:01<00:00,  1.63it/s]\n"
          ]
        },
        {
          "name": "stdout",
          "output_type": "stream",
          "text": [
            "\n",
            "epoch 9\n",
            "\ttrain_loss:0.769 valid_loss:0.765\n",
            "\ttrain_acc:66.73% valid_acc:66.24%\n",
            "\ttrain_f1:0.601 valid_f1:0.604\n",
            "\ttrain_confusion_matrix:\n",
            "[[   3  361  540]\n",
            " [   3 2038  362]\n",
            " [   2  265 1034]]\n",
            "\tvalid_confusion_matrix:\n",
            "[[  2  81 129]\n",
            " [  1 516 105]\n",
            " [  0  76 251]]\n"
          ]
        },
        {
          "name": "stderr",
          "output_type": "stream",
          "text": [
            "100%|██████████| 36/36 [00:11<00:00,  3.23it/s]\n",
            "100%|██████████| 2/2 [00:01<00:00,  1.69it/s]\n"
          ]
        },
        {
          "name": "stdout",
          "output_type": "stream",
          "text": [
            "\n",
            "epoch 10\n",
            "\ttrain_loss:0.753 valid_loss:0.751\n",
            "\ttrain_acc:67.69% valid_acc:67.01%\n",
            "\ttrain_f1:0.611 valid_f1:0.608\n",
            "\ttrain_confusion_matrix:\n",
            "[[  10  383  506]\n",
            " [   5 2083  319]\n",
            " [   2  274 1026]]\n",
            "\tvalid_confusion_matrix:\n",
            "[[  3 107 102]\n",
            " [  1 542  79]\n",
            " [  1  93 233]]\n"
          ]
        },
        {
          "name": "stderr",
          "output_type": "stream",
          "text": [
            "100%|██████████| 36/36 [00:11<00:00,  3.23it/s]\n",
            "100%|██████████| 2/2 [00:01<00:00,  1.68it/s]\n"
          ]
        },
        {
          "name": "stdout",
          "output_type": "stream",
          "text": [
            "\n",
            "epoch 11\n",
            "\ttrain_loss:0.738 valid_loss:0.750\n",
            "\ttrain_acc:68.19% valid_acc:67.27%\n",
            "\ttrain_f1:0.617 valid_f1:0.612\n",
            "\ttrain_confusion_matrix:\n",
            "[[  14  382  496]\n",
            " [   4 2095  310]\n",
            " [   4  270 1033]]\n",
            "\tvalid_confusion_matrix:\n",
            "[[  4 106 102]\n",
            " [  1 538  83]\n",
            " [  2  86 239]]\n"
          ]
        },
        {
          "name": "stderr",
          "output_type": "stream",
          "text": [
            "100%|██████████| 36/36 [00:11<00:00,  3.16it/s]\n",
            "100%|██████████| 2/2 [00:01<00:00,  1.62it/s]\n"
          ]
        },
        {
          "name": "stdout",
          "output_type": "stream",
          "text": [
            "\n",
            "epoch 12\n",
            "\ttrain_loss:0.730 valid_loss:0.745\n",
            "\ttrain_acc:68.71% valid_acc:67.96%\n",
            "\ttrain_f1:0.625 valid_f1:0.624\n",
            "\ttrain_confusion_matrix:\n",
            "[[  27  402  474]\n",
            " [  13 2097  294]\n",
            " [  11  248 1042]]\n",
            "\tvalid_confusion_matrix:\n",
            "[[ 10 113  89]\n",
            " [  3 547  72]\n",
            " [  2  93 232]]\n"
          ]
        },
        {
          "name": "stderr",
          "output_type": "stream",
          "text": [
            "100%|██████████| 36/36 [00:11<00:00,  3.22it/s]\n",
            "100%|██████████| 2/2 [00:01<00:00,  1.62it/s]\n"
          ]
        },
        {
          "name": "stdout",
          "output_type": "stream",
          "text": [
            "\n",
            "epoch 13\n",
            "\ttrain_loss:0.722 valid_loss:0.740\n",
            "\ttrain_acc:69.23% valid_acc:67.96%\n",
            "\ttrain_f1:0.634 valid_f1:0.632\n",
            "\ttrain_confusion_matrix:\n",
            "[[  39  397  463]\n",
            " [  22 2105  280]\n",
            " [  18  238 1046]]\n",
            "\tvalid_confusion_matrix:\n",
            "[[ 14  97 101]\n",
            " [  7 531  84]\n",
            " [  6  77 244]]\n"
          ]
        },
        {
          "name": "stderr",
          "output_type": "stream",
          "text": [
            "100%|██████████| 36/36 [00:11<00:00,  3.21it/s]\n",
            "100%|██████████| 2/2 [00:01<00:00,  1.65it/s]\n"
          ]
        },
        {
          "name": "stdout",
          "output_type": "stream",
          "text": [
            "\n",
            "epoch 14\n",
            "\ttrain_loss:0.713 valid_loss:0.742\n",
            "\ttrain_acc:69.77% valid_acc:68.99%\n",
            "\ttrain_f1:0.644 valid_f1:0.647\n",
            "\ttrain_confusion_matrix:\n",
            "[[  56  390  454]\n",
            " [  38 2104  264]\n",
            " [  19  228 1055]]\n",
            "\tvalid_confusion_matrix:\n",
            "[[ 19  89 104]\n",
            " [ 13 525  84]\n",
            " [  3  67 257]]\n"
          ]
        },
        {
          "name": "stderr",
          "output_type": "stream",
          "text": [
            "100%|██████████| 36/36 [00:11<00:00,  3.22it/s]\n",
            "100%|██████████| 2/2 [00:01<00:00,  1.66it/s]\n"
          ]
        },
        {
          "name": "stdout",
          "output_type": "stream",
          "text": [
            "\n",
            "epoch 15\n",
            "\ttrain_loss:0.708 valid_loss:0.733\n",
            "\ttrain_acc:70.05% valid_acc:69.51%\n",
            "\ttrain_f1:0.654 valid_f1:0.656\n",
            "\ttrain_confusion_matrix:\n",
            "[[  85  388  426]\n",
            " [  46 2104  259]\n",
            " [  38  223 1039]]\n",
            "\tvalid_confusion_matrix:\n",
            "[[ 24  96  92]\n",
            " [ 14 532  76]\n",
            " [ 10  66 251]]\n"
          ]
        },
        {
          "name": "stderr",
          "output_type": "stream",
          "text": [
            "100%|██████████| 36/36 [00:11<00:00,  3.22it/s]\n",
            "100%|██████████| 2/2 [00:01<00:00,  1.66it/s]\n"
          ]
        },
        {
          "name": "stdout",
          "output_type": "stream",
          "text": [
            "\n",
            "epoch 16\n",
            "\ttrain_loss:0.697 valid_loss:0.726\n",
            "\ttrain_acc:70.96% valid_acc:68.99%\n",
            "\ttrain_f1:0.669 valid_f1:0.649\n",
            "\ttrain_confusion_matrix:\n",
            "[[ 116  372  411]\n",
            " [  63 2110  229]\n",
            " [  45  218 1044]]\n",
            "\tvalid_confusion_matrix:\n",
            "[[ 23 104  85]\n",
            " [ 10 540  72]\n",
            " [ 12  77 238]]\n"
          ]
        },
        {
          "name": "stderr",
          "output_type": "stream",
          "text": [
            "100%|██████████| 36/36 [00:11<00:00,  3.23it/s]\n",
            "100%|██████████| 2/2 [00:01<00:00,  1.62it/s]\n"
          ]
        },
        {
          "name": "stdout",
          "output_type": "stream",
          "text": [
            "\n",
            "epoch 17\n",
            "\ttrain_loss:0.691 valid_loss:0.761\n",
            "\ttrain_acc:71.01% valid_acc:68.13%\n",
            "\ttrain_f1:0.675 valid_f1:0.642\n",
            "\ttrain_confusion_matrix:\n",
            "[[ 135  347  419]\n",
            " [  72 2100  229]\n",
            " [  62  207 1037]]\n",
            "\tvalid_confusion_matrix:\n",
            "[[ 27 111  74]\n",
            " [ 12 554  56]\n",
            " [ 19  98 210]]\n"
          ]
        },
        {
          "name": "stderr",
          "output_type": "stream",
          "text": [
            "100%|██████████| 36/36 [00:11<00:00,  3.22it/s]\n",
            "100%|██████████| 2/2 [00:01<00:00,  1.63it/s]\n"
          ]
        },
        {
          "name": "stdout",
          "output_type": "stream",
          "text": [
            "\n",
            "epoch 18\n",
            "\ttrain_loss:0.686 valid_loss:0.722\n",
            "\ttrain_acc:71.33% valid_acc:70.28%\n",
            "\ttrain_f1:0.680 valid_f1:0.673\n",
            "\ttrain_confusion_matrix:\n",
            "[[ 151  367  381]\n",
            " [  72 2126  208]\n",
            " [  80  213 1010]]\n",
            "\tvalid_confusion_matrix:\n",
            "[[ 36  86  90]\n",
            " [ 12 534  76]\n",
            " [ 15  66 246]]\n"
          ]
        },
        {
          "name": "stderr",
          "output_type": "stream",
          "text": [
            "100%|██████████| 36/36 [00:11<00:00,  3.23it/s]\n",
            "100%|██████████| 2/2 [00:01<00:00,  1.63it/s]"
          ]
        },
        {
          "name": "stdout",
          "output_type": "stream",
          "text": [
            "\n",
            "epoch 19\n",
            "\ttrain_loss:0.680 valid_loss:0.719\n",
            "\ttrain_acc:71.51% valid_acc:70.28%\n",
            "\ttrain_f1:0.685 valid_f1:0.681\n",
            "\ttrain_confusion_matrix:\n",
            "[[ 163  327  413]\n",
            " [  98 2089  214]\n",
            " [  71  190 1043]]\n",
            "\tvalid_confusion_matrix:\n",
            "[[ 48  88  76]\n",
            " [ 18 536  68]\n",
            " [ 28  67 232]]\n"
          ]
        },
        {
          "name": "stderr",
          "output_type": "stream",
          "text": [
            "\n"
          ]
        }
      ],
      "source": [
        "device = get_default_device()\n",
        "\n",
        "NUM_EPOCHS = 20\n",
        "TRAIN_BATCH_SIZE = 128\n",
        "VALID_BATCH_SIZE = 1024\n",
        "\n",
        "NUM_POLARITY_TAGS = 3\n",
        "\n",
        "history = {\n",
        "    \"train_loss\": list(),\n",
        "    \"polarity_train_acc\": list(),\n",
        "    \"valid_loss\": list(),\n",
        "    \"polarity_valid_acc\": list(),\n",
        "}\n",
        "\n",
        "best_loss = np.inf\n",
        "\n",
        "dataset = TensorDataset(torch.Tensor(X_l_train), torch.Tensor(X_g_train), torch.Tensor(y_train))\n",
        "print(f\"train samples:{len(dataset)}\")\n",
        "train_loader = DataLoader(dataset, batch_size=TRAIN_BATCH_SIZE, shuffle=True, drop_last=True)\n",
        "\n",
        "dataset_valid = TensorDataset(torch.Tensor(X_l_valid),  torch.Tensor(X_g_valid), torch.Tensor(y_valid))\n",
        "print(f\"valid samples:{len(dataset_valid)}\")\n",
        "test_loader = DataLoader(dataset_valid, batch_size=VALID_BATCH_SIZE)\n",
        "\n",
        "model = to_device(Model(general_embedding,  num_classes=3, alpha = 1), device)\n",
        "\n",
        "torch.cuda.empty_cache()\n",
        "\n",
        "parameters = [p for p in model.parameters() if p.requires_grad]\n",
        "optimizer = AdamW(parameters, lr=1e-4)\n",
        "\n",
        "\n",
        "for epoch in range(NUM_EPOCHS):\n",
        "    train_losses = []\n",
        "    train_acc = []\n",
        "    test_loss = []\n",
        "    test_acc = []\n",
        "    train_f1 = []\n",
        "    test_f1 = []\n",
        "\n",
        "    model.train()\n",
        "    preds = []\n",
        "    masks = []\n",
        "    labels = []\n",
        "    for data in tqdm(train_loader, total=len(train_loader)):\n",
        "        for i in range(len(data)):\n",
        "            data[i] = data[i].to(device)\n",
        "        l_feature, g_feature, label = data\n",
        "        l_feature, g_feature, label = l_feature.long(), g_feature.long(), label.long()\n",
        "\n",
        "        optimizer.zero_grad()\n",
        "        pred_logits = model(l_feature, g_feature)\n",
        "        loss = loss_fn(pred_logits, label, 3)\n",
        "        loss.backward()\n",
        "        optimizer.step()\n",
        "\n",
        "        train_losses.append(loss.item())\n",
        "\n",
        "        pred_tags = pred_logits.max(-1)[1]\n",
        "        preds.append(pred_tags)\n",
        "        labels.append(label)\n",
        "\n",
        "    avg_train_acc, avg_train_f1, train_cm = cal_acc(preds,labels)\n",
        "    avg_train_loss = sum(train_losses) / len(train_losses)\n",
        "\n",
        "    preds = []\n",
        "    masks = []\n",
        "    labels = []\n",
        "    with torch.no_grad():\n",
        "        for data in tqdm(test_loader, total=len(test_loader)):\n",
        "            for i in range(len(data)):\n",
        "                data[i] = data[i].to(device)\n",
        "            l_feature, g_feature, label = data\n",
        "            l_feature, g_feature, label = l_feature.long(), g_feature.long(), label.long()\n",
        "            pred_logits = model(l_feature, g_feature)\n",
        "            loss = loss_fn(pred_logits, label, 3)\n",
        "\n",
        "            test_loss.append(loss.item())\n",
        "\n",
        "            pred_tags = pred_logits.max(-1)[1]\n",
        "\n",
        "            preds.append(pred_tags)\n",
        "            labels.append(label)\n",
        "\n",
        "    avg_test_acc, avg_test_f1, test_cm = cal_acc(preds,  labels)\n",
        "    avg_test_loss = sum(test_loss) / len(test_loss)\n",
        "\n",
        "    print(f\"\\nepoch {epoch}\")\n",
        "    print(\"\\ttrain_loss:{:.3f} valid_loss:{:.3f}\".format(avg_train_loss, avg_test_loss))\n",
        "    print(\"\\ttrain_acc:{:.2%} valid_acc:{:.2%}\".format(avg_train_acc, avg_test_acc))\n",
        "    print(\"\\ttrain_f1:{:.3f} valid_f1:{:.3f}\".format(avg_train_f1, avg_test_f1))\n",
        "    print(f\"\\ttrain_confusion_matrix:\\n{train_cm}\")\n",
        "    print(f\"\\tvalid_confusion_matrix:\\n{test_cm}\")\n",
        "\n",
        "    if avg_test_loss < best_loss:\n",
        "        torch.save(model.state_dict(), MODEL_PATH)\n",
        "        best_loss = avg_test_loss    \n",
        "        \n",
        "    history['train_loss'].append(avg_train_loss)\n",
        "    history['polarity_train_acc'].append(avg_train_acc.cpu().numpy())\n",
        "    history['valid_loss'].append(avg_test_loss)\n",
        "    history['polarity_valid_acc'].append(avg_test_acc.cpu().numpy())\n",
        "        \n",
        "    \n"
      ]
    },
    {
      "cell_type": "code",
      "execution_count": 28,
      "metadata": {},
      "outputs": [
        {
          "data": {
            "text/plain": [
              "(0.4, 0.9)"
            ]
          },
          "execution_count": 28,
          "metadata": {},
          "output_type": "execute_result"
        },
        {
          "data": {
            "image/png": "[encoded data removed]",
            "text/plain": [
              "<Figure size 432x288 with 1 Axes>"
            ]
          },
          "metadata": {
            "needs_background": "light"
          },
          "output_type": "display_data"
        }
      ],
      "source": [
        "import matplotlib.pyplot as plt\n",
        "plt.plot(history['polarity_train_acc'], label='train accuracy')\n",
        "plt.plot(history['polarity_valid_acc'], label='validation accuracy')\n",
        "plt.title('Training history')\n",
        "plt.ylabel('Accuracy')\n",
        "plt.xlabel('Epoch')\n",
        "plt.legend()\n",
        "plt.ylim([0.4, 0.9])"
      ]
    },
    {
      "cell_type": "code",
      "execution_count": 29,
      "metadata": {},
      "outputs": [
        {
          "name": "stdout",
          "output_type": "stream",
          "text": [
            "Loading saved model from: model_task2.bin\n"
          ]
        },
        {
          "name": "stderr",
          "output_type": "stream",
          "text": [
            "100%|██████████| 2/2 [00:01<00:00,  1.58it/s]"
          ]
        },
        {
          "name": "stdout",
          "output_type": "stream",
          "text": [
            "              precision    recall  f1-score   support\n",
            "\n",
            "     Neutral       0.51      0.20      0.29       212\n",
            "    Positive       0.77      0.86      0.81       622\n",
            "    Negative       0.62      0.73      0.67       327\n",
            "\n",
            "    accuracy                           0.70      1161\n",
            "   macro avg       0.63      0.60      0.59      1161\n",
            "weighted avg       0.68      0.70      0.68      1161\n",
            "\n"
          ]
        },
        {
          "name": "stderr",
          "output_type": "stream",
          "text": [
            "\n"
          ]
        }
      ],
      "source": [
        "def get_classification_report(test_loader, model, model_path=None):\n",
        "    if model_path is not None: # load the saved model\n",
        "        print('Loading saved model from: {}'.format(model_path))\n",
        "        model.load_state_dict(torch.load(model_path))\n",
        "    model = to_device(model, device)   \n",
        "    \n",
        "    model.eval()\n",
        "    final_pred_polarity_tags = []\n",
        "    final_true_polarity_tags = []\n",
        "\n",
        "\n",
        "    with torch.no_grad():\n",
        "        for data in tqdm(test_loader, total=len(test_loader)):\n",
        "            for i in range(len(data)):\n",
        "                data[i] = data[i].to(device)\n",
        "\n",
        "            l_feature, g_feature, label = data\n",
        "            l_feature, g_feature, label = l_feature.long(), g_feature.long(), label.long()\n",
        "            pred_logits = model(l_feature, g_feature)\n",
        "\n",
        "            pred_tags = pred_logits.max(-1)[1]\n",
        "\n",
        "            final_pred_polarity_tags.extend(pred_tags)\n",
        "            final_true_polarity_tags.extend(label)\n",
        "\n",
        "    final_pred_polarity_tags = torch.stack(final_pred_polarity_tags).cpu()\n",
        "    final_true_polarity_tags = torch.stack(final_true_polarity_tags).cpu()\n",
        "        \n",
        "    print(classification_report(final_true_polarity_tags, final_pred_polarity_tags, \n",
        "                                target_names=[\"Neutral\", \"Positive\", \"Negative\"]))\n",
        "    \n",
        "get_classification_report(test_loader, model, model_path=MODEL_PATH)"
      ]
    }
  ],
  "metadata": {
    "colab": {
      "collapsed_sections": [],
      "name": "task2_lstm.ipynb",
      "provenance": []
    },
    "kernelspec": {
      "display_name": "Python 3",
      "name": "python3"
    },
    "language_info": {
      "codemirror_mode": {
        "name": "ipython",
        "version": 3
      },
      "file_extension": ".py",
      "mimetype": "text/x-python",
      "name": "python",
      "nbconvert_exporter": "python",
      "pygments_lexer": "ipython3",
      "version": "3.10.0"
    }
  },
  "nbformat": 4,
  "nbformat_minor": 0
}
