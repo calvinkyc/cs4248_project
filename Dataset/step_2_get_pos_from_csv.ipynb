{
 "cells": [
  {
   "cell_type": "code",
   "execution_count": 6,
   "id": "0b33beb1",
   "metadata": {},
   "outputs": [],
   "source": [
    "import pandas as pd\n",
    "import numpy as np\n",
    "import spacy"
   ]
  },
  {
   "cell_type": "code",
   "execution_count": 7,
   "id": "c73eec32",
   "metadata": {},
   "outputs": [],
   "source": [
    "path = 'data/restaurants_laptop_train.csv'"
   ]
  },
  {
   "cell_type": "code",
   "execution_count": 8,
   "id": "1706bfab",
   "metadata": {},
   "outputs": [
    {
     "data": {
      "text/html": [
       "<div>\n",
       "<style scoped>\n",
       "    .dataframe tbody tr th:only-of-type {\n",
       "        vertical-align: middle;\n",
       "    }\n",
       "\n",
       "    .dataframe tbody tr th {\n",
       "        vertical-align: top;\n",
       "    }\n",
       "\n",
       "    .dataframe thead th {\n",
       "        text-align: right;\n",
       "    }\n",
       "</style>\n",
       "<table border=\"1\" class=\"dataframe\">\n",
       "  <thead>\n",
       "    <tr style=\"text-align: right;\">\n",
       "      <th></th>\n",
       "      <th>text</th>\n",
       "      <th>aspect_term</th>\n",
       "      <th>from</th>\n",
       "      <th>to</th>\n",
       "      <th>polarity</th>\n",
       "    </tr>\n",
       "  </thead>\n",
       "  <tbody>\n",
       "    <tr>\n",
       "      <th>0</th>\n",
       "      <td>I charge it at night and skip taking the cord ...</td>\n",
       "      <td>cord</td>\n",
       "      <td>41</td>\n",
       "      <td>45</td>\n",
       "      <td>0</td>\n",
       "    </tr>\n",
       "    <tr>\n",
       "      <th>1</th>\n",
       "      <td>I charge it at night and skip taking the cord ...</td>\n",
       "      <td>battery life</td>\n",
       "      <td>74</td>\n",
       "      <td>86</td>\n",
       "      <td>1</td>\n",
       "    </tr>\n",
       "    <tr>\n",
       "      <th>2</th>\n",
       "      <td>The tech guy then said the service center does...</td>\n",
       "      <td>service center</td>\n",
       "      <td>27</td>\n",
       "      <td>41</td>\n",
       "      <td>-1</td>\n",
       "    </tr>\n",
       "    <tr>\n",
       "      <th>3</th>\n",
       "      <td>The tech guy then said the service center does...</td>\n",
       "      <td>\"sales\" team</td>\n",
       "      <td>109</td>\n",
       "      <td>121</td>\n",
       "      <td>-1</td>\n",
       "    </tr>\n",
       "    <tr>\n",
       "      <th>4</th>\n",
       "      <td>The tech guy then said the service center does...</td>\n",
       "      <td>tech guy</td>\n",
       "      <td>4</td>\n",
       "      <td>12</td>\n",
       "      <td>0</td>\n",
       "    </tr>\n",
       "  </tbody>\n",
       "</table>\n",
       "</div>"
      ],
      "text/plain": [
       "                                                text     aspect_term  from  \\\n",
       "0  I charge it at night and skip taking the cord ...            cord    41   \n",
       "1  I charge it at night and skip taking the cord ...    battery life    74   \n",
       "2  The tech guy then said the service center does...  service center    27   \n",
       "3  The tech guy then said the service center does...    \"sales\" team   109   \n",
       "4  The tech guy then said the service center does...        tech guy     4   \n",
       "\n",
       "    to  polarity  \n",
       "0   45         0  \n",
       "1   86         1  \n",
       "2   41        -1  \n",
       "3  121        -1  \n",
       "4   12         0  "
      ]
     },
     "execution_count": 8,
     "metadata": {},
     "output_type": "execute_result"
    }
   ],
   "source": [
    "df = pd.read_csv(path)\n",
    "all_texts = df['text'].unique()\n",
    "df.head()"
   ]
  },
  {
   "cell_type": "code",
   "execution_count": 9,
   "id": "0c67183a",
   "metadata": {},
   "outputs": [],
   "source": [
    "sentence_aspect_term_dict = dict()\n",
    "\n",
    "for row in zip(df['text'], df['aspect_term'], df['from'], df['to'], df['polarity']):\n",
    "    sentence = row[0]\n",
    "    aspect_term = {\n",
    "        'aspect_term': row[1],\n",
    "        'from': row[2],\n",
    "        'to': row[3],\n",
    "        'polarity': row[4]\n",
    "    }\n",
    "    if sentence in sentence_aspect_term_dict:\n",
    "        sentence_aspect_term_dict[sentence].append(aspect_term)\n",
    "    else:\n",
    "        sentence_aspect_term_dict[sentence] = [aspect_term]"
   ]
  },
  {
   "cell_type": "code",
   "execution_count": 10,
   "id": "0812f426",
   "metadata": {},
   "outputs": [
    {
     "name": "stdout",
     "output_type": "stream",
     "text": [
      "3501\n"
     ]
    },
    {
     "data": {
      "text/plain": [
       "[{'aspect_term': 'cord', 'from': 41, 'to': 45, 'polarity': 0},\n",
       " {'aspect_term': 'battery life', 'from': 74, 'to': 86, 'polarity': 1}]"
      ]
     },
     "execution_count": 10,
     "metadata": {},
     "output_type": "execute_result"
    }
   ],
   "source": [
    "print(len(sentence_aspect_term_dict))\n",
    "sentence_aspect_term_dict[list(sentence_aspect_term_dict.keys())[0]]"
   ]
  },
  {
   "cell_type": "code",
   "execution_count": 11,
   "id": "395fa08e",
   "metadata": {},
   "outputs": [],
   "source": [
    "nlp = spacy.load(\"en_core_web_sm\")\n",
    "\n",
    "def tokenize_sentences(sentence_aspect_term_dict, task1=True):\n",
    "    conflict_polarity = 3\n",
    "\n",
    "    final_data = []\n",
    "\n",
    "    num = 1\n",
    "    for sentence, aspect_terms in sentence_aspect_term_dict.items():\n",
    "\n",
    "        doc = nlp(sentence)\n",
    "\n",
    "        data = []\n",
    "\n",
    "        curr_idx = 0\n",
    "        AT_tag = \"NAT\"\n",
    "        polarity = 0\n",
    "        for w in doc:\n",
    "\n",
    "            # check if the current word is an aspect term\n",
    "            # first get the current index\n",
    "            curr_idx = sentence.find(w.text, curr_idx)\n",
    "    #         print('w: {}; curr_idx: {}'.format(w, curr_idx))\n",
    "\n",
    "            # second, check if the current index matches any of the aspect term\n",
    "            AT_tag = \"NAT\"\n",
    "            polarity = 0\n",
    "            for t in aspect_terms:\n",
    "                if t['from'] <= curr_idx and curr_idx < t['to']: # the curr_idx is within this aspect term range\n",
    "                    polarity = t['polarity']\n",
    "                    AT_tag = \"AT\"\n",
    "                    if task1 == False and polarity == conflict_polarity:\n",
    "                        AT_tag = \"NAT\"\n",
    "                    break\n",
    "\n",
    "            data.append(('s_'+str(num), w.text, w.pos_, AT_tag, polarity))\n",
    "\n",
    "            curr_idx += len(w)\n",
    "\n",
    "        final_data.extend(data)\n",
    "\n",
    "        num += 1\n",
    "        \n",
    "    return final_data\n",
    "        "
   ]
  },
  {
   "cell_type": "code",
   "execution_count": 12,
   "id": "32deba42",
   "metadata": {},
   "outputs": [],
   "source": [
    "task1_final_data = tokenize_sentences(sentence_aspect_term_dict, task1=True)\n",
    "task2_final_data = tokenize_sentences(sentence_aspect_term_dict, task1=False)\n"
   ]
  },
  {
   "cell_type": "code",
   "execution_count": 13,
   "id": "0e07c59d",
   "metadata": {},
   "outputs": [
    {
     "data": {
      "text/plain": [
       "[('s_1', 'I', 'PRON', 'NAT', 0),\n",
       " ('s_1', 'charge', 'VERB', 'NAT', 0),\n",
       " ('s_1', 'it', 'PRON', 'NAT', 0),\n",
       " ('s_1', 'at', 'ADP', 'NAT', 0),\n",
       " ('s_1', 'night', 'NOUN', 'NAT', 0),\n",
       " ('s_1', 'and', 'CCONJ', 'NAT', 0),\n",
       " ('s_1', 'skip', 'VERB', 'NAT', 0),\n",
       " ('s_1', 'taking', 'VERB', 'NAT', 0),\n",
       " ('s_1', 'the', 'DET', 'NAT', 0),\n",
       " ('s_1', 'cord', 'NOUN', 'AT', 0),\n",
       " ('s_1', 'with', 'ADP', 'NAT', 0),\n",
       " ('s_1', 'me', 'PRON', 'NAT', 0),\n",
       " ('s_1', 'because', 'SCONJ', 'NAT', 0),\n",
       " ('s_1', 'of', 'ADP', 'NAT', 0),\n",
       " ('s_1', 'the', 'DET', 'NAT', 0),\n",
       " ('s_1', 'good', 'ADJ', 'NAT', 0),\n",
       " ('s_1', 'battery', 'NOUN', 'AT', 1),\n",
       " ('s_1', 'life', 'NOUN', 'AT', 1),\n",
       " ('s_1', '.', 'PUNCT', 'NAT', 0),\n",
       " ('s_2', 'The', 'DET', 'NAT', 0),\n",
       " ('s_2', 'tech', 'NOUN', 'AT', 0),\n",
       " ('s_2', 'guy', 'NOUN', 'AT', 0),\n",
       " ('s_2', 'then', 'ADV', 'NAT', 0),\n",
       " ('s_2', 'said', 'VERB', 'NAT', 0),\n",
       " ('s_2', 'the', 'DET', 'NAT', 0),\n",
       " ('s_2', 'service', 'NOUN', 'AT', -1),\n",
       " ('s_2', 'center', 'NOUN', 'AT', -1),\n",
       " ('s_2', 'does', 'AUX', 'NAT', 0),\n",
       " ('s_2', 'not', 'PART', 'NAT', 0),\n",
       " ('s_2', 'do', 'VERB', 'NAT', 0),\n",
       " ('s_2', '1', 'NUM', 'NAT', 0),\n",
       " ('s_2', '-', 'PUNCT', 'NAT', 0),\n",
       " ('s_2', 'to-1', 'NOUN', 'NAT', 0),\n",
       " ('s_2', 'exchange', 'NOUN', 'NAT', 0),\n",
       " ('s_2', 'and', 'CCONJ', 'NAT', 0),\n",
       " ('s_2', 'I', 'PRON', 'NAT', 0),\n",
       " ('s_2', 'have', 'VERB', 'NAT', 0),\n",
       " ('s_2', 'to', 'PART', 'NAT', 0),\n",
       " ('s_2', 'direct', 'VERB', 'NAT', 0),\n",
       " ('s_2', 'my', 'PRON', 'NAT', 0)]"
      ]
     },
     "execution_count": 13,
     "metadata": {},
     "output_type": "execute_result"
    }
   ],
   "source": [
    "task1_final_data[:40]"
   ]
  },
  {
   "cell_type": "code",
   "execution_count": 14,
   "id": "0e8b2d4b",
   "metadata": {},
   "outputs": [],
   "source": [
    "df1 = pd.DataFrame(task1_final_data, columns=['num', 'text', 'pos', 'aspect_tag', 'polarity'])\n",
    "df2 = pd.DataFrame(task2_final_data, columns=['num', 'text', 'pos', 'aspect_tag', 'polarity'])\n",
    "# Save the dataframe to csv\n",
    "df1.to_csv('data/restaurants_laptop_train_with_pos_task1.csv', index=False)\n",
    "df2.to_csv('data/restaurants_laptop_train_with_pos_task2.csv', index=False)"
   ]
  },
  {
   "cell_type": "code",
   "execution_count": null,
   "id": "e53dbd29",
   "metadata": {},
   "outputs": [],
   "source": []
  },
  {
   "cell_type": "code",
   "execution_count": null,
   "id": "56304566",
   "metadata": {},
   "outputs": [],
   "source": []
  },
  {
   "cell_type": "code",
   "execution_count": null,
   "id": "e5968bd4",
   "metadata": {},
   "outputs": [],
   "source": []
  }
 ],
 "metadata": {
  "kernelspec": {
   "display_name": "Python 3 (ipykernel)",
   "language": "python",
   "name": "python3"
  },
  "language_info": {
   "codemirror_mode": {
    "name": "ipython",
    "version": 3
   },
   "file_extension": ".py",
   "mimetype": "text/x-python",
   "name": "python",
   "nbconvert_exporter": "python",
   "pygments_lexer": "ipython3",
   "version": "3.8.12"
  }
 },
 "nbformat": 4,
 "nbformat_minor": 5
}
