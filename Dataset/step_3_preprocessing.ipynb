{
 "cells": [
  {
   "cell_type": "code",
   "execution_count": 1,
   "id": "47e394df",
   "metadata": {},
   "outputs": [],
   "source": [
    "import pandas as pd\n",
    "\n",
    "import spacy"
   ]
  },
  {
   "cell_type": "code",
   "execution_count": 2,
   "id": "e2aacee4",
   "metadata": {},
   "outputs": [],
   "source": [
    "nlp = spacy.load(\"en_core_web_sm\")"
   ]
  },
  {
   "cell_type": "code",
   "execution_count": 3,
   "id": "2b82fdf7",
   "metadata": {},
   "outputs": [],
   "source": [
    "path1 = 'data/restaurants_laptop_train_with_pos_task1.csv'\n",
    "path2 = 'data/restaurants_laptop_train_with_pos_task2.csv'"
   ]
  },
  {
   "cell_type": "code",
   "execution_count": 4,
   "id": "f6fb7d36",
   "metadata": {},
   "outputs": [],
   "source": [
    "df1 = pd.read_csv(path1)\n",
    "df2 = pd.read_csv(path2)\n"
   ]
  },
  {
   "cell_type": "code",
   "execution_count": 5,
   "id": "9e443336",
   "metadata": {},
   "outputs": [],
   "source": [
    "def clean_df(df):\n",
    "    df = df[df.pos != \"PUNCT\"]\n",
    "    df = df[(df.pos != \"NUM\") | (df.aspect_tag == \"AT\")]\n",
    "    df = df[(~df.text.str.contains(r\"[0-9]+\", regex=True)) | (df.aspect_tag == \"AT\")]\n",
    "    df = df[(~df.text.str.contains(r\"[!\\\"#$%&()*+,-./:;<=>?@[\\]^_`{|}~]\", regex=True)) | (df.aspect_tag == \"AT\")]\n",
    "    return df"
   ]
  },
  {
   "cell_type": "code",
   "execution_count": 6,
   "id": "20e1d2fe",
   "metadata": {},
   "outputs": [],
   "source": [
    "df1 = clean_df(df1)\n",
    "df2 = clean_df(df2)"
   ]
  },
  {
   "cell_type": "code",
   "execution_count": 7,
   "id": "2d18f3fd",
   "metadata": {},
   "outputs": [],
   "source": [
    "df1.to_csv('data/restaurants_laptop_train_with_pos_task1_cleaned.csv', index=False)\n",
    "df2.to_csv('data/restaurants_laptop_train_with_pos_task2_cleaned.csv', index=False)\n"
   ]
  }
 ],
 "metadata": {
  "kernelspec": {
   "display_name": "Python 3 (ipykernel)",
   "language": "python",
   "name": "python3"
  },
  "language_info": {
   "codemirror_mode": {
    "name": "ipython",
    "version": 3
   },
   "file_extension": ".py",
   "mimetype": "text/x-python",
   "name": "python",
   "nbconvert_exporter": "python",
   "pygments_lexer": "ipython3",
   "version": "3.8.12"
  }
 },
 "nbformat": 4,
 "nbformat_minor": 5
}
