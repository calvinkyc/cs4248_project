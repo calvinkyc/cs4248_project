{
 "cells": [
  {
   "cell_type": "code",
   "execution_count": 1,
   "id": "9c22b389",
   "metadata": {},
   "outputs": [],
   "source": [
    "import xml.etree.cElementTree as ET\n",
    "import pandas as pd"
   ]
  },
  {
   "cell_type": "code",
   "execution_count": 2,
   "id": "79a88522",
   "metadata": {},
   "outputs": [],
   "source": [
    "paths = ['data/Laptop_Train_v2.xml',\n",
    "         'data/Restaurants_Train_v2.xml'\n",
    "        ]"
   ]
  },
  {
   "cell_type": "code",
   "execution_count": 3,
   "id": "ff9cdd54",
   "metadata": {},
   "outputs": [],
   "source": [
    "def parse_one_file(path):\n",
    "    tree = ET.parse(path)\n",
    "    root = tree.getroot()  \n",
    "\n",
    "    data = []\n",
    "    polarity_set = set()\n",
    "    polarity_dict_count = dict()\n",
    "    i = 0\n",
    "    a = 0\n",
    "    at = 0\n",
    "    for sentence in root.findall('sentence'): # use xPat to find all the <sentence> tags\n",
    "        i += 1\n",
    "        text = sentence.find('text').text     # in each 'sentence', find the <text> tag\n",
    "        aTerms = sentence.find('aspectTerms') # also, in each 'sentence', find all the <aspectTerms> tags\n",
    "        if aTerms is not None:\n",
    "            a += 1\n",
    "            for aTerm in aTerms.findall('aspectTerm'): # find all the <aspectTerm> tag\n",
    "                at += 1\n",
    "                term = aTerm.get('term') # in each of the <aspectTerm> tag, get the 'term' attribute\n",
    "                polarity = aTerm.get('polarity') # also get the 'polarity' attribute\n",
    "                fr = aTerm.get('from') \n",
    "                to = aTerm.get('to')\n",
    "                polarity_set.add(polarity)\n",
    "                data.append((text, term, fr, to, polarity)) # put these into the list to prepare for the dataframe\n",
    "                polarity_dict_count[polarity] = polarity_dict_count.get(polarity,0) + 1\n",
    "        else:\n",
    "            #print(text)\n",
    "            pass\n",
    "    print(\"Processed: {} sentences\".format(i))\n",
    "    print(\"Number of Aspect sentences: {}\".format(a))\n",
    "    print(\"Total number of Aspect found: {}\".format(at))\n",
    "\n",
    "    # check how many different unique polarity values\n",
    "    return polarity_set, data, polarity_dict_count"
   ]
  },
  {
   "cell_type": "code",
   "execution_count": 4,
   "id": "e49736b6",
   "metadata": {},
   "outputs": [
    {
     "name": "stdout",
     "output_type": "stream",
     "text": [
      "Processed: 3045 sentences\n",
      "Number of Aspect sentences: 1488\n",
      "Total number of Aspect found: 2358\n",
      "The polarities in data/Laptop_Train_v2.xml are {'neutral', 'conflict', 'positive', 'negative'}\n",
      "Processed: 3041 sentences\n",
      "Number of Aspect sentences: 2021\n",
      "Total number of Aspect found: 3693\n",
      "The polarities in data/Restaurants_Train_v2.xml are {'neutral', 'conflict', 'positive', 'negative'}\n"
     ]
    }
   ],
   "source": [
    "final_data = []\n",
    "for path in paths:\n",
    "    polarity_set, data, polarity_dict_count = parse_one_file(path)\n",
    "    print('The polarities in {} are {}'.format(path, polarity_set))\n",
    "    final_data.extend(data)"
   ]
  },
  {
   "cell_type": "code",
   "execution_count": 8,
   "id": "332b9ad1",
   "metadata": {},
   "outputs": [],
   "source": [
    "# Now create the dataframe\n",
    "df = pd.DataFrame(final_data, columns=['text', 'aspect_term', 'from', 'to', 'polarity'])\n",
    "\n",
    "# Filter out polarity == 'conflict'\n",
    "# we don't predict conflict\n",
    "df = df[df['polarity'].isin(['positive', 'neutral', 'negative'])]\n",
    "\n",
    "# map polarity from string to numeric\n",
    "df['polarity'] = df['polarity'].map({'positive':1,'neutral':0, 'negative':-1})\n",
    "\n",
    "# Save the dataframe to csv\n",
    "df.to_csv('data/restaurants_laptop_train.csv', index=False)"
   ]
  },
  {
   "cell_type": "code",
   "execution_count": null,
   "id": "d95957a5",
   "metadata": {},
   "outputs": [],
   "source": [
    "polarity_set, data, polarity_dict_count = parse_one_file('data/Laptop_Train_v2.xml')"
   ]
  },
  {
   "cell_type": "code",
   "execution_count": null,
   "id": "eaf1595b",
   "metadata": {},
   "outputs": [],
   "source": [
    "polarity_dict_count"
   ]
  },
  {
   "cell_type": "code",
   "execution_count": null,
   "id": "94aa0d97",
   "metadata": {},
   "outputs": [],
   "source": [
    "polarity_set, data, polarity_dict_count = parse_one_file('data/Restaurants_Train_v2.xml')"
   ]
  },
  {
   "cell_type": "code",
   "execution_count": null,
   "id": "44ac5054",
   "metadata": {},
   "outputs": [],
   "source": [
    "polarity_dict_count"
   ]
  }
 ],
 "metadata": {
  "kernelspec": {
   "display_name": "Python 3 (ipykernel)",
   "language": "python",
   "name": "python3"
  },
  "language_info": {
   "codemirror_mode": {
    "name": "ipython",
    "version": 3
   },
   "file_extension": ".py",
   "mimetype": "text/x-python",
   "name": "python",
   "nbconvert_exporter": "python",
   "pygments_lexer": "ipython3",
   "version": "3.8.12"
  }
 },
 "nbformat": 4,
 "nbformat_minor": 5
}
