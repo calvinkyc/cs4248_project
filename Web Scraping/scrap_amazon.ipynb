{
 "cells": [
  {
   "cell_type": "code",
   "execution_count": 8,
   "id": "68bb8e0f-7a13-4ea9-b197-dcdbc02bebd7",
   "metadata": {},
   "outputs": [],
   "source": [
    "import requests\n",
    "from bs4 import BeautifulSoup\n",
    "import itertools \n",
    "from time import sleep\n",
    "import numpy as np\n",
    "  \n",
    "HEADERS = ({'User-Agent':\n",
    "            'Mozilla/5.0 (Windows NT 10.0; Win64; x64) \\\n",
    "            AppleWebKit/537.36 (KHTML, like Gecko) \\\n",
    "            Chrome/90.0.4430.212 Safari/537.36',\n",
    "            'Accept-Language': 'en-US, en;q=0.5'})\n",
    "  \n",
    "# user define function\n",
    "# Scrape the data\n",
    "def getdata(url):\n",
    "    r = requests.get(url, headers=HEADERS)\n",
    "    return r.text\n",
    "  \n",
    "\n",
    "def html_code(url):\n",
    "  \n",
    "    # pass the url\n",
    "    # into getdata function\n",
    "    htmldata = getdata(url)\n",
    "    soup = BeautifulSoup(htmldata, 'html.parser')\n",
    "  \n",
    "    # display html code\n",
    "    return (soup)\n",
    "  \n",
    "# key_word = 'laptop'\n",
    "# url = f\"https://www.amazon.com/s?k={key_word}&ref=nb_sb_noss\"\n",
    "\n",
    "#soup = html_code(url)\n",
    "#print(soup)"
   ]
  },
  {
   "cell_type": "code",
   "execution_count": null,
   "id": "0beeaf2a-08f3-4684-beea-fa031245788c",
   "metadata": {},
   "outputs": [],
   "source": [
    "# key_word = 'laptop'\n",
    "# page_num = 1\n",
    "# max_page = 5\n",
    "# url = f\"https://www.amazon.com/s?k={key_word}&page={page_num}\"\n",
    "# soup = html_code(url)\n",
    "# soup"
   ]
  },
  {
   "cell_type": "code",
   "execution_count": 5,
   "id": "dbf93b1a-abd0-44c4-a924-53d589932c66",
   "metadata": {},
   "outputs": [],
   "source": [
    "def get_name_code(soup): #get laptop's name and product code\n",
    "    # find the Html tag\n",
    "    # with find()\n",
    "    # and convert into string\n",
    "    names = []\n",
    "    codes = []\n",
    "    for item in soup.find_all(\"a\", {'class':'a-link-normal s-underline-text s-underline-link-text s-link-style a-text-normal'}):\n",
    "        #print(item)\n",
    "        if item['href'][1:3] == 'gp':\n",
    "            continue\n",
    "        name = item['href'].split('/')[1]\n",
    "        names.append(name)\n",
    "        pdt_code = item['href'].split('/')[3]\n",
    "        codes.append(pdt_code)\n",
    "    return names, codes\n",
    "  \n",
    "#names, codes = get_name_code(soup)"
   ]
  },
  {
   "cell_type": "code",
   "execution_count": 6,
   "id": "b97eae85-5dfd-4f6a-8586-7956ad22e0cf",
   "metadata": {},
   "outputs": [],
   "source": [
    "def cus_rev(soup):\n",
    "    data_str = []\n",
    "    for item in soup.find_all(\"span\", {'class':\"a-size-base review-text review-text-content\"}):\n",
    "        data_str.append(item.get_text().strip())\n",
    "    return (data_str)\n",
    "  \n",
    "#rev_data = cus_rev(soup)"
   ]
  },
  {
   "cell_type": "code",
   "execution_count": 9,
   "id": "9c2fd3db-f9a7-431b-9b84-29f8fc38d2de",
   "metadata": {},
   "outputs": [
    {
     "name": "stdout",
     "output_type": "stream",
     "text": [
      "80\n"
     ]
    }
   ],
   "source": [
    "def get_reviews_from_all_pages(key_word = 'laptop'):\n",
    "    page_num = 1\n",
    "    max_page = 5 #comment this for full result\n",
    "    url = f\"https://www.amazon.com/s?k={key_word}&page={page_num}\"\n",
    "    \n",
    "    names = []\n",
    "    codes = []\n",
    "    #while True: #uncomment this for full result\n",
    "    while page_num <= max_page: #comment this for full result\n",
    "        soup = html_code(url)\n",
    "        page_num += 1\n",
    "        \n",
    "        name, code = get_name_code(soup)\n",
    "        if len(name) == 0:\n",
    "            break\n",
    "        names.extend(name)\n",
    "        codes.extend(code)\n",
    "        sleep(np.random.randint(2,20))\n",
    "    print(len(names))\n",
    "    reviews = []\n",
    "    for name, code in zip(names, codes):\n",
    "        url = f\"https://www.amazon.com/{name}/product-reviews/{code}/ref=cm_cr_dp_d_show_all_btm?ie=UTF8&reviewerType=all_reviews\"\n",
    "        soup = html_code(url)\n",
    "        reviews.extend(cus_rev(soup))\n",
    "        sleep(np.random.randint(2,20))\n",
    "    \n",
    "    return reviews\n",
    "\n",
    "reviews = get_reviews_from_all_pages()"
   ]
  },
  {
   "cell_type": "code",
   "execution_count": 14,
   "id": "76a42c03-628a-478e-a925-7bd98f50ef23",
   "metadata": {},
   "outputs": [
    {
     "data": {
      "text/plain": [
       "\"I was hesitant getting a Chromebook as I was concerned I'd miss being able to install windows programs, but so far I am really impressed with this. It was very quick to setup and easy to sync all of my Google account info. Having the ability to install Google apps is great. It's lightweight, runs fast, and seems to have a long lasting battery.As far as shipping it came packaged really well and the condition is 9/10 with only a slight smudge on the top of lid.\""
      ]
     },
     "execution_count": 14,
     "metadata": {},
     "output_type": "execute_result"
    }
   ],
   "source": [
    "reviews[10]"
   ]
  },
  {
   "cell_type": "code",
   "execution_count": 15,
   "id": "921988f3-de67-4e9f-bc5f-d0e700c61491",
   "metadata": {},
   "outputs": [
    {
     "data": {
      "text/plain": [
       "565"
      ]
     },
     "execution_count": 15,
     "metadata": {},
     "output_type": "execute_result"
    }
   ],
   "source": [
    "len(reviews)"
   ]
  },
  {
   "cell_type": "code",
   "execution_count": 17,
   "id": "4a1a2d7e-c277-4ae6-a3b5-2f7f8a9d0bfe",
   "metadata": {},
   "outputs": [
    {
     "data": {
      "text/html": [
       "<div>\n",
       "<style scoped>\n",
       "    .dataframe tbody tr th:only-of-type {\n",
       "        vertical-align: middle;\n",
       "    }\n",
       "\n",
       "    .dataframe tbody tr th {\n",
       "        vertical-align: top;\n",
       "    }\n",
       "\n",
       "    .dataframe thead th {\n",
       "        text-align: right;\n",
       "    }\n",
       "</style>\n",
       "<table border=\"1\" class=\"dataframe\">\n",
       "  <thead>\n",
       "    <tr style=\"text-align: right;\">\n",
       "      <th></th>\n",
       "      <th>reviews</th>\n",
       "    </tr>\n",
       "  </thead>\n",
       "  <tbody>\n",
       "    <tr>\n",
       "      <th>0</th>\n",
       "      <td>I could sit here and write all about the specs...</td>\n",
       "    </tr>\n",
       "    <tr>\n",
       "      <th>1</th>\n",
       "      <td>This is the best laptop deal you can get, full...</td>\n",
       "    </tr>\n",
       "    <tr>\n",
       "      <th>2</th>\n",
       "      <td>A very reasonably priced laptop for basic comp...</td>\n",
       "    </tr>\n",
       "    <tr>\n",
       "      <th>3</th>\n",
       "      <td>A few months after the purchase....It is still...</td>\n",
       "    </tr>\n",
       "    <tr>\n",
       "      <th>4</th>\n",
       "      <td>BUYER BE AWARE: This computer has Microsoft 10...</td>\n",
       "    </tr>\n",
       "  </tbody>\n",
       "</table>\n",
       "</div>"
      ],
      "text/plain": [
       "                                             reviews\n",
       "0  I could sit here and write all about the specs...\n",
       "1  This is the best laptop deal you can get, full...\n",
       "2  A very reasonably priced laptop for basic comp...\n",
       "3  A few months after the purchase....It is still...\n",
       "4  BUYER BE AWARE: This computer has Microsoft 10..."
      ]
     },
     "execution_count": 17,
     "metadata": {},
     "output_type": "execute_result"
    }
   ],
   "source": [
    "import pandas as pd\n",
    "df = pd.DataFrame({'reviews':reviews})\n",
    "df.head()"
   ]
  },
  {
   "cell_type": "code",
   "execution_count": 18,
   "id": "8380c9fa-cf28-4c3a-a967-49b8920c8657",
   "metadata": {},
   "outputs": [],
   "source": [
    "df.to_csv('laptop_reviews.csv')"
   ]
  },
  {
   "cell_type": "code",
   "execution_count": null,
   "id": "76d716d6-faea-4dd0-88c6-433e5b487ab5",
   "metadata": {},
   "outputs": [],
   "source": []
  }
 ],
 "metadata": {
  "kernelspec": {
   "display_name": "Python 3 (ipykernel)",
   "language": "python",
   "name": "python3"
  },
  "language_info": {
   "codemirror_mode": {
    "name": "ipython",
    "version": 3
   },
   "file_extension": ".py",
   "mimetype": "text/x-python",
   "name": "python",
   "nbconvert_exporter": "python",
   "pygments_lexer": "ipython3",
   "version": "3.8.12"
  }
 },
 "nbformat": 4,
 "nbformat_minor": 5
}
