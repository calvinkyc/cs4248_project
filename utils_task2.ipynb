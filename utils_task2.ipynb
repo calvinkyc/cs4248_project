{
 "cells": [
  {
   "cell_type": "code",
   "execution_count": 8,
   "metadata": {},
   "outputs": [],
   "source": [
    "import pandas as pd\n",
    "import numpy as np\n",
    "\n",
    "from sklearn import preprocessing, model_selection\n",
    "\n",
    "data_dir = './Dataset/data/'"
   ]
  },
  {
   "cell_type": "code",
   "execution_count": 6,
   "metadata": {},
   "outputs": [],
   "source": [
    "df = pd.read_csv(data_dir + 'restaurants_laptop_train_with_pos_cleaned.csv')"
   ]
  },
  {
   "cell_type": "code",
   "execution_count": 9,
   "metadata": {},
   "outputs": [
    {
     "name": "stdout",
     "output_type": "stream",
     "text": [
      "num of aspect tags: 2\n",
      "num of polarity tags: 3\n"
     ]
    },
    {
     "data": {
      "text/plain": [
       "0"
      ]
     },
     "execution_count": 9,
     "metadata": {},
     "output_type": "execute_result"
    }
   ],
   "source": [
    "df.polarity = df.polarity.replace(-1,2)\n",
    "\n",
    "encoder = preprocessing.LabelEncoder()\n",
    "df.loc[:, \"aspect_tag\"] = encoder.fit_transform(df[\"aspect_tag\"])\n",
    "\n",
    "sentences = df.groupby(\"num\")[\"text\"].apply(list).values\n",
    "aspect_tags = df.groupby(\"num\")[\"aspect_tag\"].apply(list).values\n",
    "polarity_tags = df.groupby(\"num\")[\"polarity\"].apply(list).values\n",
    "\n",
    "polarity_unique_values = df.polarity.unique()\n",
    "\n",
    "print('num of aspect tags: {}'.format(len(encoder.classes_)))\n",
    "print('num of polarity tags: {}'.format(len(polarity_unique_values)))\n",
    "\n",
    "np.where(encoder.classes_ == \"AT\")[0].item()"
   ]
  },
  {
   "cell_type": "code",
   "execution_count": 95,
   "metadata": {},
   "outputs": [
    {
     "name": "stdout",
     "output_type": "stream",
     "text": [
      "['I', 'charge', 'it', 'at', 'night', 'and', 'skip', 'taking', 'the', 'cord', 'with', 'me', 'because', 'of', 'the', 'good', 'battery', 'life']\n",
      "[1, 1, 1, 1, 1, 1, 1, 1, 1, 0, 1, 1, 1, 1, 1, 1, 0, 0]\n",
      "[0, 0, 0, 0, 0, 0, 0, 0, 0, 0, 0, 0, 0, 0, 0, 0, 1, 1]\n"
     ]
    }
   ],
   "source": [
    "idx = 0\n",
    "print(sentences[idx])\n",
    "print(aspect_tags[idx])\n",
    "print(polarity_tags[idx])"
   ]
  },
  {
   "cell_type": "code",
   "execution_count": 118,
   "metadata": {},
   "outputs": [],
   "source": [
    "n = len(sentences)\n",
    "\n",
    "full_sentence = []\n",
    "left_right = []\n",
    "aspect_term = []\n",
    "polarity = []\n",
    "\n",
    "\n",
    "for s in range(n):\n",
    "    sentence = sentences[s]\n",
    "    aspect_tag_vector = aspect_tags[s]\n",
    "    polarity_tag_vector = polarity_tags[s]\n",
    "    start = 0\n",
    "    aspect_track = False\n",
    "\n",
    "    for i in range(len(sentence)):\n",
    "        # corner case when the aspect term (>2 words) is until last word in the sentence\n",
    "        if aspect_track == True and aspect_tag_vector[i] == 0 and i == len(sentence)-1:    \n",
    "            aspect_term.append(sentence[start:i+1])\n",
    "            left_right.append([sentence[:i+1], []])\n",
    "\n",
    "        # corner case when the last word is a single aspect\n",
    "        elif aspect_track == False and aspect_tag_vector[i] == 0 and i == len(sentence)-1:   \n",
    "            aspect_term.append([sentence[i]])\n",
    "            polarity.append(polarity_tag_vector[i])\n",
    "            left_right.append([sentence[:i+1], []])\n",
    "            full_sentence.append(sentence)\n",
    "\n",
    "        # reach the end of current aspect term, hence split the sentence and record the instance\n",
    "        elif aspect_track == True and aspect_tag_vector[i] == 1:\n",
    "            aspect_track = False \n",
    "            #print(start)\n",
    "            #print(i)\n",
    "            #print(sentence[start:i])\n",
    "            aspect_term.append(sentence[start:i])\n",
    "            right_context = sentence[start:][::-1]\n",
    "            left_right.append([sentence[:i], right_context])\n",
    "            \n",
    "        # the start of aspect term in this sentence\n",
    "        elif aspect_track == False and aspect_tag_vector[i] == 0:\n",
    "            start = i\n",
    "            #print(i)\n",
    "            #print(sentence[i])\n",
    "            aspect_track = True\n",
    "            polarity.append(polarity_tag_vector[i])\n",
    "            full_sentence.append(sentence)\n"
   ]
  },
  {
   "cell_type": "code",
   "execution_count": 119,
   "metadata": {},
   "outputs": [
    {
     "name": "stdout",
     "output_type": "stream",
     "text": [
      "['However', 'the', 'multi', '-', 'touch', 'gestures', 'and', 'large', 'tracking', 'area', 'make', 'having', 'an', 'external', 'mouse', 'unnecessary', 'unless', 'you', \"'re\", 'gaming']\n",
      "['multi', '-', 'touch', 'gestures']\n",
      "1\n",
      "[['However', 'the', 'multi', '-', 'touch', 'gestures'], ['gaming', \"'re\", 'you', 'unless', 'unnecessary', 'mouse', 'external', 'an', 'having', 'make', 'area', 'tracking', 'large', 'and', 'gestures', 'touch', '-', 'multi']]\n"
     ]
    }
   ],
   "source": [
    "idx = 2\n",
    "print(full_sentence[idx])\n",
    "print(aspect_term[idx])\n",
    "print(polarity[idx])\n",
    "print(left_right[idx])"
   ]
  },
  {
   "cell_type": "code",
   "execution_count": 120,
   "metadata": {},
   "outputs": [
    {
     "name": "stdout",
     "output_type": "stream",
     "text": [
      "5731\n",
      "5731\n",
      "5731\n",
      "5731\n"
     ]
    }
   ],
   "source": [
    "print(len(full_sentence))\n",
    "print(len(aspect_term))\n",
    "print(len(left_right))\n",
    "print(len(polarity))"
   ]
  },
  {
   "cell_type": "code",
   "execution_count": null,
   "metadata": {},
   "outputs": [],
   "source": []
  }
 ],
 "metadata": {
  "interpreter": {
   "hash": "aee8b7b246df8f9039afb4144a1f6fd8d2ca17a180786b69acc140d282b71a49"
  },
  "kernelspec": {
   "display_name": "Python 3.10.0 64-bit",
   "language": "python",
   "name": "python3"
  },
  "language_info": {
   "codemirror_mode": {
    "name": "ipython",
    "version": 3
   },
   "file_extension": ".py",
   "mimetype": "text/x-python",
   "name": "python",
   "nbconvert_exporter": "python",
   "pygments_lexer": "ipython3",
   "version": "3.10.0"
  },
  "orig_nbformat": 4
 },
 "nbformat": 4,
 "nbformat_minor": 2
}
