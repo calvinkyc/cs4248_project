{
 "cells": [
  {
   "cell_type": "code",
   "execution_count": 142,
   "id": "06bb377c-d84f-406a-9dd2-b50e96d9fab5",
   "metadata": {},
   "outputs": [],
   "source": [
    "import pandas as pd\n",
    "import numpy as np\n",
    "\n",
    "from sklearn.feature_extraction import DictVectorizer\n",
    "from sklearn import preprocessing, model_selection\n",
    "\n",
    "from sklearn.linear_model import LogisticRegression\n",
    "from sklearn.tree import DecisionTreeClassifier\n",
    "from sklearn.naive_bayes import MultinomialNB\n",
    "import xml.etree.cElementTree as ET\n",
    "import gensim\n",
    "\n",
    "from sklearn.model_selection import train_test_split\n",
    "from nltk.corpus import stopwords\n",
    "from nltk import pos_tag\n",
    "import string\n",
    "from gensim.models.word2vec import Word2Vec\n",
    "from sklearn.metrics import confusion_matrix, precision_score, recall_score, accuracy_score, f1_score\n",
    "import gensim.downloader as api\n",
    "import spacy"
   ]
  },
  {
   "cell_type": "code",
   "execution_count": 143,
   "id": "ddcc87cd-265c-4d03-9586-19260ae64713",
   "metadata": {},
   "outputs": [],
   "source": [
    "path = './data/restaurants_laptop_train_with_pos.csv'\n",
    "df = pd.read_csv(path)\n",
    "punc = []\n",
    "for p in string.punctuation:\n",
    "    punc.append(p)\n",
    "df[\"text\"] = df.apply(lambda r: r[\"text\"].lower(), axis = 1)\n",
    "df = df[~df.text.isin(punc)]"
   ]
  },
  {
   "cell_type": "code",
   "execution_count": 144,
   "id": "b7290845-e7f6-4685-8c87-d57d253eb9f7",
   "metadata": {},
   "outputs": [],
   "source": [
    "dataset = api.load(\"text8\")  # load dataset as iterable\n",
    "model = Word2Vec(dataset)\n",
    "#model = Word2Vec(sentences=common_texts, vector_size=100, window=5, min_count=1, workers=4)\n",
    "model.save(\"word2vec.model\")\n",
    "model = Word2Vec.load(\"word2vec.model\")"
   ]
  },
  {
   "cell_type": "code",
   "execution_count": 145,
   "id": "b3093f2a-38fd-4f38-baa7-59b83074c571",
   "metadata": {},
   "outputs": [
    {
     "name": "stderr",
     "output_type": "stream",
     "text": [
      "C:\\Users\\sr_te\\AppData\\Local\\Temp/ipykernel_15936/2943963045.py:8: SettingWithCopyWarning: \n",
      "A value is trying to be set on a copy of a slice from a DataFrame.\n",
      "Try using .loc[row_indexer,col_indexer] = value instead\n",
      "\n",
      "See the caveats in the documentation: https://pandas.pydata.org/pandas-docs/stable/user_guide/indexing.html#returning-a-view-versus-a-copy\n",
      "  train[\"word2vec\"] = train.apply(lambda r: model.wv[r[\"text\"]] if r[\"text\"] in model.wv else model.wv[\"default\"], axis = 1)\n",
      "C:\\Users\\sr_te\\AppData\\Local\\Temp/ipykernel_15936/2943963045.py:9: SettingWithCopyWarning: \n",
      "A value is trying to be set on a copy of a slice from a DataFrame.\n",
      "Try using .loc[row_indexer,col_indexer] = value instead\n",
      "\n",
      "See the caveats in the documentation: https://pandas.pydata.org/pandas-docs/stable/user_guide/indexing.html#returning-a-view-versus-a-copy\n",
      "  test[\"word2vec\"] = test.apply(lambda r: model.wv[r[\"text\"]] if r[\"text\"] in model.wv else model.wv[\"default\"], axis = 1)\n"
     ]
    }
   ],
   "source": [
    "train, test = train_test_split(df, test_size = 0.2, random_state=42)\n",
    "le = preprocessing.LabelEncoder()\n",
    "\n",
    "y_test= test.aspect_tag.values\n",
    "y_test = le.fit_transform(y_test)\n",
    "y_train = train.aspect_tag.values\n",
    "y_train = le.fit_transform(y_train)\n",
    "train[\"word2vec\"] = train.apply(lambda r: model.wv[r[\"text\"]] if r[\"text\"] in model.wv else model.wv[\"default\"], axis = 1) \n",
    "test[\"word2vec\"] = test.apply(lambda r: model.wv[r[\"text\"]] if r[\"text\"] in model.wv else model.wv[\"default\"], axis = 1)"
   ]
  },
  {
   "cell_type": "code",
   "execution_count": 146,
   "id": "afd250b6-bec7-47f3-8ec1-202ffe290b6d",
   "metadata": {},
   "outputs": [],
   "source": [
    "X_train = train.word2vec.to_list()\n",
    "X_test = test.word2vec.to_list()"
   ]
  },
  {
   "cell_type": "code",
   "execution_count": 147,
   "id": "a3226827-2fb2-4a45-ad57-e036bbd5f423",
   "metadata": {},
   "outputs": [
    {
     "data": {
      "text/plain": [
       "LogisticRegression()"
      ]
     },
     "execution_count": 147,
     "metadata": {},
     "output_type": "execute_result"
    }
   ],
   "source": [
    "lr = LogisticRegression()\n",
    "lr.fit(X_train, y_train)"
   ]
  },
  {
   "cell_type": "code",
   "execution_count": 148,
   "id": "9fa070a9-c8b9-41b6-8306-d4aef9cff65e",
   "metadata": {},
   "outputs": [
    {
     "data": {
      "text/plain": [
       "(array([1, 1, 1, ..., 1, 1, 1]), array([1, 1, 1, ..., 1, 1, 1]))"
      ]
     },
     "execution_count": 148,
     "metadata": {},
     "output_type": "execute_result"
    }
   ],
   "source": [
    "pred = lr.predict(X_test)\n",
    "pred, y_test"
   ]
  },
  {
   "cell_type": "code",
   "execution_count": 141,
   "id": "0ec3618f-14ae-456c-b214-df64b929ad85",
   "metadata": {},
   "outputs": [
    {
     "name": "stdout",
     "output_type": "stream",
     "text": [
      "Testing accuracy: 90.63%\n"
     ]
    }
   ],
   "source": [
    "print('Testing accuracy: {:.2f}%'.format(lr.score(X_test, y_test)*100))"
   ]
  }
 ],
 "metadata": {
  "kernelspec": {
   "display_name": "Python 3 (ipykernel)",
   "language": "python",
   "name": "python3"
  },
  "language_info": {
   "codemirror_mode": {
    "name": "ipython",
    "version": 3
   },
   "file_extension": ".py",
   "mimetype": "text/x-python",
   "name": "python",
   "nbconvert_exporter": "python",
   "pygments_lexer": "ipython3",
   "version": "3.9.7"
  }
 },
 "nbformat": 4,
 "nbformat_minor": 5
}
