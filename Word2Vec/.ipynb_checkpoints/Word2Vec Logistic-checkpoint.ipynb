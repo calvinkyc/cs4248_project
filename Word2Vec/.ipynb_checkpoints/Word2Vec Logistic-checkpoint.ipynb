{
 "cells": [
  {
   "cell_type": "code",
   "execution_count": 30,
   "id": "06bb377c-d84f-406a-9dd2-b50e96d9fab5",
   "metadata": {},
   "outputs": [],
   "source": [
    "import pandas as pd\n",
    "import numpy as np\n",
    "\n",
    "from sklearn.feature_extraction import DictVectorizer\n",
    "from sklearn import preprocessing, model_selection\n",
    "\n",
    "from sklearn.linear_model import LogisticRegression\n",
    "from sklearn.tree import DecisionTreeClassifier\n",
    "from sklearn.naive_bayes import MultinomialNB\n",
    "import xml.etree.cElementTree as ET\n",
    "import gensim\n",
    "\n",
    "from sklearn.model_selection import train_test_split\n",
    "from nltk.corpus import stopwords\n",
    "from nltk import pos_tag\n",
    "import string\n",
    "from gensim.models.word2vec import Word2Vec\n",
    "from sklearn.metrics import confusion_matrix, precision_score, recall_score, accuracy_score, f1_score\n",
    "import gensim.downloader as api\n",
    "import spacy"
   ]
  },
  {
   "cell_type": "code",
   "execution_count": 21,
   "id": "ddcc87cd-265c-4d03-9586-19260ae64713",
   "metadata": {},
   "outputs": [
    {
     "data": {
      "text/html": [
       "<div>\n",
       "<style scoped>\n",
       "    .dataframe tbody tr th:only-of-type {\n",
       "        vertical-align: middle;\n",
       "    }\n",
       "\n",
       "    .dataframe tbody tr th {\n",
       "        vertical-align: top;\n",
       "    }\n",
       "\n",
       "    .dataframe thead th {\n",
       "        text-align: right;\n",
       "    }\n",
       "</style>\n",
       "<table border=\"1\" class=\"dataframe\">\n",
       "  <thead>\n",
       "    <tr style=\"text-align: right;\">\n",
       "      <th></th>\n",
       "      <th>num</th>\n",
       "      <th>text</th>\n",
       "      <th>pos</th>\n",
       "      <th>aspect_tag</th>\n",
       "      <th>polarity</th>\n",
       "    </tr>\n",
       "  </thead>\n",
       "  <tbody>\n",
       "    <tr>\n",
       "      <th>0</th>\n",
       "      <td>s_1</td>\n",
       "      <td>But</td>\n",
       "      <td>CCONJ</td>\n",
       "      <td>NAT</td>\n",
       "      <td>0</td>\n",
       "    </tr>\n",
       "    <tr>\n",
       "      <th>1</th>\n",
       "      <td>s_1</td>\n",
       "      <td>the</td>\n",
       "      <td>DET</td>\n",
       "      <td>NAT</td>\n",
       "      <td>0</td>\n",
       "    </tr>\n",
       "    <tr>\n",
       "      <th>2</th>\n",
       "      <td>s_1</td>\n",
       "      <td>staff</td>\n",
       "      <td>NOUN</td>\n",
       "      <td>AT</td>\n",
       "      <td>-1</td>\n",
       "    </tr>\n",
       "    <tr>\n",
       "      <th>3</th>\n",
       "      <td>s_1</td>\n",
       "      <td>was</td>\n",
       "      <td>AUX</td>\n",
       "      <td>NAT</td>\n",
       "      <td>0</td>\n",
       "    </tr>\n",
       "    <tr>\n",
       "      <th>4</th>\n",
       "      <td>s_1</td>\n",
       "      <td>so</td>\n",
       "      <td>ADV</td>\n",
       "      <td>NAT</td>\n",
       "      <td>0</td>\n",
       "    </tr>\n",
       "  </tbody>\n",
       "</table>\n",
       "</div>"
      ],
      "text/plain": [
       "   num   text    pos aspect_tag  polarity\n",
       "0  s_1    But  CCONJ        NAT         0\n",
       "1  s_1    the    DET        NAT         0\n",
       "2  s_1  staff   NOUN         AT        -1\n",
       "3  s_1    was    AUX        NAT         0\n",
       "4  s_1     so    ADV        NAT         0"
      ]
     },
     "execution_count": 21,
     "metadata": {},
     "output_type": "execute_result"
    }
   ],
   "source": [
    "path = './data/restaurants_laptop_train_with_pos.csv'\n",
    "df = pd.read_csv(path)\n",
    "df.head()"
   ]
  },
  {
   "cell_type": "code",
   "execution_count": 47,
   "id": "dfbe697f-2e42-457a-90b0-6ab4ca3d41cd",
   "metadata": {},
   "outputs": [
    {
     "name": "stdout",
     "output_type": "stream",
     "text": [
      "Classes: ['AT' 'NAT']\n"
     ]
    },
    {
     "name": "stderr",
     "output_type": "stream",
     "text": [
      "C:\\Users\\sr_te\\AppData\\Local\\Temp/ipykernel_15936/2415076629.py:11: FutureWarning: Using short name for 'orient' is deprecated. Only the options: ('dict', list, 'series', 'split', 'records', 'index') will be used in a future version. Use one of the above to silence this warning.\n",
      "  X_train = X_train.to_dict('record')\n",
      "C:\\Users\\sr_te\\AppData\\Local\\Temp/ipykernel_15936/2415076629.py:12: FutureWarning: Using short name for 'orient' is deprecated. Only the options: ('dict', list, 'series', 'split', 'records', 'index') will be used in a future version. Use one of the above to silence this warning.\n",
      "  X_test = X_test.to_dict('record')\n"
     ]
    },
    {
     "data": {
      "text/plain": [
       "5806"
      ]
     },
     "execution_count": 47,
     "metadata": {},
     "output_type": "execute_result"
    }
   ],
   "source": [
    "# encoder = DictVectorizer(sparse=False)\n",
    "le = preprocessing.LabelEncoder()\n",
    "\n",
    "X = df\n",
    "# X = encoder.fit_transform(X.to_dict('record'))\n",
    "y = df.aspect_tag.values\n",
    "y = le.fit_transform(y)\n",
    "print('Classes: {}'.format(le.classes_))\n",
    "\n",
    "X_train, X_test, y_train, y_test = model_selection.train_test_split(X, y, test_size = 0.2, random_state=42)\n",
    "X_train = X_train.to_dict('record')\n",
    "X_test = X_test.to_dict('record')\n",
    "encoder = DictVectorizer(sparse=False).fit(X_train) # Only apply fit on the training data\n",
    "X_train = encoder.transform(X_train)\n",
    "X_test = encoder.transform(X_test)\n",
    "\n"
   ]
  },
  {
   "cell_type": "code",
   "execution_count": 32,
   "id": "b7290845-e7f6-4685-8c87-d57d253eb9f7",
   "metadata": {},
   "outputs": [
    {
     "data": {
      "text/plain": [
       "array([ 0.67779654, -0.27293828, -0.9950262 ,  2.0957544 , -1.4643264 ,\n",
       "       -0.8572626 , -1.117393  , -1.1794312 ,  0.15413192, -1.0569258 ,\n",
       "        1.3047608 , -2.18156   , -1.0997062 , -2.1456113 , -4.348523  ,\n",
       "       -1.0177091 , -0.31468016,  0.44217238, -0.64104015,  1.3182597 ,\n",
       "       -1.7678488 ,  0.0127255 , -1.5001843 , -2.971907  , -2.384699  ,\n",
       "        0.43355066,  4.117145  , -0.1409775 ,  0.03479501, -1.2494024 ,\n",
       "        0.4633233 ,  1.5580992 ,  0.8130385 , -1.7599473 , -0.4407166 ,\n",
       "        2.2472236 ,  0.34718043, -2.0517066 , -0.11607572, -0.82461977,\n",
       "       -0.96876633, -4.6047993 ,  1.3539169 ,  0.5099799 ,  1.5693346 ,\n",
       "       -0.4499046 , -0.9360916 ,  1.5404614 , -1.894095  , -1.5788848 ,\n",
       "        1.384328  , -1.3166902 ,  1.7465011 , -1.7289047 , -0.6825487 ,\n",
       "        0.2317232 ,  1.0824976 ,  0.190655  , -1.4827496 , -0.17120367,\n",
       "       -0.7924344 , -0.7294639 ,  0.46263868,  0.29449275,  0.46876636,\n",
       "        1.2303816 ,  1.7206173 , -0.54512703,  1.3037481 , -0.0731727 ,\n",
       "       -1.4748752 , -0.5229915 ,  0.32417324,  2.4263504 ,  1.5333709 ,\n",
       "        0.709142  , -1.1151737 ,  3.0380666 , -3.700955  , -2.3203752 ,\n",
       "       -2.0313346 , -0.36895582,  1.1146774 ,  3.0144453 , -1.3048512 ,\n",
       "       -0.64453506, -1.3835162 ,  1.4517417 , -0.50471073,  0.1299073 ,\n",
       "       -1.2452748 ,  0.37163123, -2.173856  ,  1.3297694 , -0.15298055,\n",
       "        2.8945737 , -0.84240675,  2.837027  ,  2.076366  , -0.8226071 ],\n",
       "      dtype=float32)"
      ]
     },
     "execution_count": 32,
     "metadata": {},
     "output_type": "execute_result"
    }
   ],
   "source": [
    "dataset = api.load(\"text8\")  # load dataset as iterable\n",
    "model = Word2Vec(dataset)\n",
    "#model = Word2Vec(sentences=common_texts, vector_size=100, window=5, min_count=1, workers=4)\n",
    "model.save(\"word2vec.model\")\n",
    "model = Word2Vec.load(\"word2vec.model\")\n"
   ]
  },
  {
   "cell_type": "code",
   "execution_count": 40,
   "id": "0ec3618f-14ae-456c-b214-df64b929ad85",
   "metadata": {},
   "outputs": [
    {
     "data": {
      "text/plain": [
       "100"
      ]
     },
     "execution_count": 40,
     "metadata": {},
     "output_type": "execute_result"
    }
   ],
   "source": [
    "vector = model.wv['cor'] \n",
    "ls = []\n",
    "ls.append(vector)\n",
    "len(model.wv['laptop'])\n",
    "len(vector)"
   ]
  }
 ],
 "metadata": {
  "kernelspec": {
   "display_name": "Python 3 (ipykernel)",
   "language": "python",
   "name": "python3"
  },
  "language_info": {
   "codemirror_mode": {
    "name": "ipython",
    "version": 3
   },
   "file_extension": ".py",
   "mimetype": "text/x-python",
   "name": "python",
   "nbconvert_exporter": "python",
   "pygments_lexer": "ipython3",
   "version": "3.9.7"
  }
 },
 "nbformat": 4,
 "nbformat_minor": 5
}
