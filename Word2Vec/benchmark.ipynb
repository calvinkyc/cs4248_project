{
 "cells": [
  {
   "cell_type": "code",
   "execution_count": 19,
   "id": "5806fac7",
   "metadata": {},
   "outputs": [],
   "source": [
    "import pandas as pd\n",
    "import numpy as np\n",
    "\n",
    "from sklearn.feature_extraction import DictVectorizer\n",
    "from sklearn import preprocessing, model_selection\n",
    "import string\n",
    "from sklearn.linear_model import LogisticRegression\n",
    "from sklearn.tree import DecisionTreeClassifier\n",
    "from sklearn.naive_bayes import MultinomialNB\n",
    "from sklearn.metrics import confusion_matrix, plot_confusion_matrix,  classification_report,accuracy_score, precision_score, recall_score, f1_score,roc_auc_score, roc_curve\n",
    "import matplotlib.pyplot as plt"
   ]
  },
  {
   "cell_type": "code",
   "execution_count": null,
   "id": "c4dbe6f3",
   "metadata": {},
   "outputs": [],
   "source": []
  },
  {
   "cell_type": "code",
   "execution_count": 20,
   "id": "aa5a0b45",
   "metadata": {},
   "outputs": [
    {
     "data": {
      "text/html": [
       "<div>\n",
       "<style scoped>\n",
       "    .dataframe tbody tr th:only-of-type {\n",
       "        vertical-align: middle;\n",
       "    }\n",
       "\n",
       "    .dataframe tbody tr th {\n",
       "        vertical-align: top;\n",
       "    }\n",
       "\n",
       "    .dataframe thead th {\n",
       "        text-align: right;\n",
       "    }\n",
       "</style>\n",
       "<table border=\"1\" class=\"dataframe\">\n",
       "  <thead>\n",
       "    <tr style=\"text-align: right;\">\n",
       "      <th></th>\n",
       "      <th>num</th>\n",
       "      <th>text</th>\n",
       "      <th>pos</th>\n",
       "      <th>aspect_tag</th>\n",
       "      <th>polarity</th>\n",
       "    </tr>\n",
       "  </thead>\n",
       "  <tbody>\n",
       "    <tr>\n",
       "      <th>0</th>\n",
       "      <td>s_1</td>\n",
       "      <td>I</td>\n",
       "      <td>PRON</td>\n",
       "      <td>NAT</td>\n",
       "      <td>0</td>\n",
       "    </tr>\n",
       "    <tr>\n",
       "      <th>1</th>\n",
       "      <td>s_1</td>\n",
       "      <td>charge</td>\n",
       "      <td>VERB</td>\n",
       "      <td>NAT</td>\n",
       "      <td>0</td>\n",
       "    </tr>\n",
       "    <tr>\n",
       "      <th>2</th>\n",
       "      <td>s_1</td>\n",
       "      <td>it</td>\n",
       "      <td>PRON</td>\n",
       "      <td>NAT</td>\n",
       "      <td>0</td>\n",
       "    </tr>\n",
       "    <tr>\n",
       "      <th>3</th>\n",
       "      <td>s_1</td>\n",
       "      <td>at</td>\n",
       "      <td>ADP</td>\n",
       "      <td>NAT</td>\n",
       "      <td>0</td>\n",
       "    </tr>\n",
       "    <tr>\n",
       "      <th>4</th>\n",
       "      <td>s_1</td>\n",
       "      <td>night</td>\n",
       "      <td>NOUN</td>\n",
       "      <td>NAT</td>\n",
       "      <td>0</td>\n",
       "    </tr>\n",
       "  </tbody>\n",
       "</table>\n",
       "</div>"
      ],
      "text/plain": [
       "   num    text   pos aspect_tag  polarity\n",
       "0  s_1       I  PRON        NAT         0\n",
       "1  s_1  charge  VERB        NAT         0\n",
       "2  s_1      it  PRON        NAT         0\n",
       "3  s_1      at   ADP        NAT         0\n",
       "4  s_1   night  NOUN        NAT         0"
      ]
     },
     "execution_count": 20,
     "metadata": {},
     "output_type": "execute_result"
    }
   ],
   "source": [
    "path = 'data/restaurants_laptop_train_with_pos.csv'\n",
    "\n",
    "df = pd.read_csv(path)\n",
    "df.head()\n"
   ]
  },
  {
   "cell_type": "code",
   "execution_count": 21,
   "id": "560e77c8-1e69-41f9-a7da-2f78d5cdea7c",
   "metadata": {},
   "outputs": [],
   "source": [
    "punc = []\n",
    "for p in string.punctuation:\n",
    "    punc.append(p)\n",
    "df[\"text\"] = df.apply(lambda r: r[\"text\"].lower(), axis = 1)\n",
    "df = df[~df.text.isin(punc)]"
   ]
  },
  {
   "cell_type": "code",
   "execution_count": 22,
   "id": "3de8f5cb",
   "metadata": {},
   "outputs": [
    {
     "name": "stdout",
     "output_type": "stream",
     "text": [
      "Classes: ['AT' 'NAT']\n"
     ]
    },
    {
     "name": "stderr",
     "output_type": "stream",
     "text": [
      "C:\\Users\\sr_te\\AppData\\Local\\Temp/ipykernel_3804/3886828007.py:12: FutureWarning: Using short name for 'orient' is deprecated. Only the options: ('dict', list, 'series', 'split', 'records', 'index') will be used in a future version. Use one of the above to silence this warning.\n",
      "  X_train = X_train.to_dict('record')\n",
      "C:\\Users\\sr_te\\AppData\\Local\\Temp/ipykernel_3804/3886828007.py:13: FutureWarning: Using short name for 'orient' is deprecated. Only the options: ('dict', list, 'series', 'split', 'records', 'index') will be used in a future version. Use one of the above to silence this warning.\n",
      "  X_test = X_test.to_dict('record')\n"
     ]
    },
    {
     "data": {
      "text/plain": [
       "((45007, 8497), (45007,))"
      ]
     },
     "execution_count": 22,
     "metadata": {},
     "output_type": "execute_result"
    }
   ],
   "source": [
    "# encoder = DictVectorizer(sparse=False)\n",
    "le = preprocessing.LabelEncoder()\n",
    "\n",
    "X = df.drop(columns=['aspect_tag','polarity'])\n",
    "# X = encoder.fit_transform(X.to_dict('record'))\n",
    "y = df.aspect_tag.values\n",
    "y = le.fit_transform(y)\n",
    "print('Classes: {}'.format(le.classes_))\n",
    "\n",
    "\n",
    "X_train, X_test, y_train, y_test = model_selection.train_test_split(X, y, test_size = 0.2, random_state=42)\n",
    "X_train = X_train.to_dict('record')\n",
    "X_test = X_test.to_dict('record')\n",
    "encoder = DictVectorizer(sparse=False).fit(X_train) # Only apply fit on the training data\n",
    "X_train = encoder.transform(X_train)\n",
    "X_test = encoder.transform(X_test)\n",
    "\n",
    "X_train.shape, y_train.shape"
   ]
  },
  {
   "cell_type": "code",
   "execution_count": 23,
   "id": "e2a4741c-7616-4c9d-8eb1-5e386a7bb2ad",
   "metadata": {},
   "outputs": [],
   "source": [
    "def evaluate_model(model, test, label_test):\n",
    "    predicted = model.predict(test)\n",
    "    print(\"accuracy:\", str(accuracy_score(label_test, predicted)))\n",
    "   \n",
    "    print(\"f1\", str(f1_score(label_test, predicted, average='macro')))\n",
    "    \n",
    "    \n",
    "    plot_confusion_matrix(model, test, label_test,\n",
    "                      display_labels=list(np.unique(label_test)),\n",
    "                      cmap=plt.cm.Blues)\n",
    "    \n",
    "    classification = classification_report(label_test, predicted)\n",
    "    print(classification)\n",
    "    "
   ]
  },
  {
   "cell_type": "code",
   "execution_count": 24,
   "id": "0e6a0904",
   "metadata": {},
   "outputs": [
    {
     "name": "stderr",
     "output_type": "stream",
     "text": [
      "C:\\Users\\sr_te\\anaconda3\\lib\\site-packages\\sklearn\\linear_model\\_logistic.py:763: ConvergenceWarning: lbfgs failed to converge (status=1):\n",
      "STOP: TOTAL NO. of ITERATIONS REACHED LIMIT.\n",
      "\n",
      "Increase the number of iterations (max_iter) or scale the data as shown in:\n",
      "    https://scikit-learn.org/stable/modules/preprocessing.html\n",
      "Please also refer to the documentation for alternative solver options:\n",
      "    https://scikit-learn.org/stable/modules/linear_model.html#logistic-regression\n",
      "  n_iter_i = _check_optimize_result(\n"
     ]
    },
    {
     "data": {
      "text/plain": [
       "LogisticRegression(C=10, random_state=42)"
      ]
     },
     "execution_count": 24,
     "metadata": {},
     "output_type": "execute_result"
    }
   ],
   "source": [
    "lr = LogisticRegression(C=10, random_state = 42)\n",
    "lr.fit(X_train, y_train)"
   ]
  },
  {
   "cell_type": "code",
   "execution_count": 25,
   "id": "043eba8f",
   "metadata": {},
   "outputs": [
    {
     "name": "stdout",
     "output_type": "stream",
     "text": [
      "accuracy: 0.9821805496922701\n",
      "f1 0.9648059148691841\n",
      "              precision    recall  f1-score   support\n",
      "\n",
      "           0       0.96      0.93      0.94      6800\n",
      "           1       0.99      0.99      0.99     38207\n",
      "\n",
      "    accuracy                           0.98     45007\n",
      "   macro avg       0.97      0.96      0.96     45007\n",
      "weighted avg       0.98      0.98      0.98     45007\n",
      "\n"
     ]
    },
    {
     "data": {
      "image/png": "[encoded data removed]",
      "text/plain": [
       "<Figure size 432x288 with 2 Axes>"
      ]
     },
     "metadata": {
      "needs_background": "light"
     },
     "output_type": "display_data"
    }
   ],
   "source": [
    "evaluate_model(lr, X_train,y_train)"
   ]
  },
  {
   "cell_type": "code",
   "execution_count": 26,
   "id": "024f33eb-151a-49be-ba24-b75f53d1158c",
   "metadata": {},
   "outputs": [
    {
     "name": "stdout",
     "output_type": "stream",
     "text": [
      "accuracy: 0.9426768574475649\n",
      "f1 0.8845210148238876\n",
      "              precision    recall  f1-score   support\n",
      "\n",
      "           0       0.84      0.77      0.80      1710\n",
      "           1       0.96      0.97      0.97      9542\n",
      "\n",
      "    accuracy                           0.94     11252\n",
      "   macro avg       0.90      0.87      0.88     11252\n",
      "weighted avg       0.94      0.94      0.94     11252\n",
      "\n"
     ]
    },
    {
     "data": {
      "image/png": "[encoded data removed]",
      "text/plain": [
       "<Figure size 432x288 with 2 Axes>"
      ]
     },
     "metadata": {
      "needs_background": "light"
     },
     "output_type": "display_data"
    }
   ],
   "source": [
    "evaluate_model(lr, X_test,y_test)"
   ]
  },
  {
   "cell_type": "code",
   "execution_count": 27,
   "id": "757765b4",
   "metadata": {},
   "outputs": [
    {
     "name": "stdout",
     "output_type": "stream",
     "text": [
      "accuracy: 0.879640944741929\n",
      "f1 0.7912575206444119\n",
      "              precision    recall  f1-score   support\n",
      "\n",
      "           0       0.58      0.76      0.66      6800\n",
      "           1       0.95      0.90      0.93     38207\n",
      "\n",
      "    accuracy                           0.88     45007\n",
      "   macro avg       0.77      0.83      0.79     45007\n",
      "weighted avg       0.90      0.88      0.89     45007\n",
      "\n"
     ]
    },
    {
     "data": {
      "image/png": "[encoded data removed]",
      "text/plain": [
       "<Figure size 432x288 with 2 Axes>"
      ]
     },
     "metadata": {
      "needs_background": "light"
     },
     "output_type": "display_data"
    }
   ],
   "source": [
    "dt = DecisionTreeClassifier(max_depth = 5, random_state = 40)\n",
    "dt.fit(X_train, y_train)\n",
    "evaluate_model(dt, X_train,y_train)"
   ]
  },
  {
   "cell_type": "code",
   "execution_count": 28,
   "id": "2cc59c90",
   "metadata": {},
   "outputs": [
    {
     "name": "stdout",
     "output_type": "stream",
     "text": [
      "accuracy: 0.8771773906861002\n",
      "f1 0.788912338452129\n",
      "              precision    recall  f1-score   support\n",
      "\n",
      "           0       0.57      0.76      0.65      1710\n",
      "           1       0.95      0.90      0.93      9542\n",
      "\n",
      "    accuracy                           0.88     11252\n",
      "   macro avg       0.76      0.83      0.79     11252\n",
      "weighted avg       0.90      0.88      0.88     11252\n",
      "\n"
     ]
    },
    {
     "data": {
      "image/png": "[encoded data removed]",
      "text/plain": [
       "<Figure size 432x288 with 2 Axes>"
      ]
     },
     "metadata": {
      "needs_background": "light"
     },
     "output_type": "display_data"
    }
   ],
   "source": [
    "evaluate_model(dt, X_test,y_test)"
   ]
  },
  {
   "cell_type": "code",
   "execution_count": null,
   "id": "1c71b250",
   "metadata": {},
   "outputs": [],
   "source": []
  }
 ],
 "metadata": {
  "kernelspec": {
   "display_name": "Python 3 (ipykernel)",
   "language": "python",
   "name": "python3"
  },
  "language_info": {
   "codemirror_mode": {
    "name": "ipython",
    "version": 3
   },
   "file_extension": ".py",
   "mimetype": "text/x-python",
   "name": "python",
   "nbconvert_exporter": "python",
   "pygments_lexer": "ipython3",
   "version": "3.9.7"
  }
 },
 "nbformat": 4,
 "nbformat_minor": 5
}
