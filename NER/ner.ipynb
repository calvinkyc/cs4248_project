{
 "cells": [
  {
   "cell_type": "code",
   "execution_count": 1,
   "id": "d6921b4e-d482-4266-ab45-18ab91e9b910",
   "metadata": {},
   "outputs": [],
   "source": [
    "import pandas as pd\n",
    "import numpy as np\n",
    "\n",
    "import spacy\n",
    "from spacy.training.example import Example"
   ]
  },
  {
   "cell_type": "code",
   "execution_count": null,
   "id": "595c0508-8950-4961-8823-0f2cf217a37e",
   "metadata": {},
   "outputs": [],
   "source": [
    "# call trained model\n",
    "nlp = spacy.load(\"ner_trained\")\n",
    "doc = nlp(\"I love when restaurants think using fancy expensive ingrediants makes the food fine cuisine, even with no idea how to use them.\")\n",
    "print(\"Entities\", [(ent.text, ent.label_) for ent in doc.ents])\n",
    "\n",
    "doc = nlp(\"The waiters are sweet, the food is tasty and the bill is never too large.\")\n",
    "print(\"Entities\", [(ent.text, ent.label_) for ent in doc.ents])"
   ]
  },
  {
   "cell_type": "code",
   "execution_count": 2,
   "id": "c5a1fdcf-34d2-4cc6-8e76-0fa239a9438b",
   "metadata": {},
   "outputs": [
    {
     "data": {
      "text/plain": [
       "<spacy.pipeline.ner.EntityRecognizer at 0x7fc683a87820>"
      ]
     },
     "execution_count": 2,
     "metadata": {},
     "output_type": "execute_result"
    }
   ],
   "source": [
    "nlp=spacy.blank(\"en\")\n",
    "nlp.create_pipe('ner')\n",
    "nlp.add_pipe('ner')"
   ]
  },
  {
   "cell_type": "code",
   "execution_count": 3,
   "id": "3cc5ceb5-6f90-43d3-9335-95c18a94f42b",
   "metadata": {},
   "outputs": [
    {
     "name": "stdout",
     "output_type": "stream",
     "text": [
      "(3602, 5)\n"
     ]
    },
    {
     "data": {
      "text/html": [
       "<div>\n",
       "<style scoped>\n",
       "    .dataframe tbody tr th:only-of-type {\n",
       "        vertical-align: middle;\n",
       "    }\n",
       "\n",
       "    .dataframe tbody tr th {\n",
       "        vertical-align: top;\n",
       "    }\n",
       "\n",
       "    .dataframe thead th {\n",
       "        text-align: right;\n",
       "    }\n",
       "</style>\n",
       "<table border=\"1\" class=\"dataframe\">\n",
       "  <thead>\n",
       "    <tr style=\"text-align: right;\">\n",
       "      <th></th>\n",
       "      <th>text</th>\n",
       "      <th>aspect_term</th>\n",
       "      <th>from</th>\n",
       "      <th>to</th>\n",
       "      <th>polarity</th>\n",
       "    </tr>\n",
       "  </thead>\n",
       "  <tbody>\n",
       "    <tr>\n",
       "      <th>0</th>\n",
       "      <td>But the staff was so horrible to us.</td>\n",
       "      <td>staff</td>\n",
       "      <td>8</td>\n",
       "      <td>13</td>\n",
       "      <td>-1</td>\n",
       "    </tr>\n",
       "    <tr>\n",
       "      <th>1</th>\n",
       "      <td>To be completely fair, the only redeeming fact...</td>\n",
       "      <td>food</td>\n",
       "      <td>57</td>\n",
       "      <td>61</td>\n",
       "      <td>1</td>\n",
       "    </tr>\n",
       "    <tr>\n",
       "      <th>2</th>\n",
       "      <td>The food is uniformly exceptional, with a very...</td>\n",
       "      <td>food</td>\n",
       "      <td>4</td>\n",
       "      <td>8</td>\n",
       "      <td>1</td>\n",
       "    </tr>\n",
       "    <tr>\n",
       "      <th>3</th>\n",
       "      <td>The food is uniformly exceptional, with a very...</td>\n",
       "      <td>kitchen</td>\n",
       "      <td>55</td>\n",
       "      <td>62</td>\n",
       "      <td>1</td>\n",
       "    </tr>\n",
       "    <tr>\n",
       "      <th>4</th>\n",
       "      <td>The food is uniformly exceptional, with a very...</td>\n",
       "      <td>menu</td>\n",
       "      <td>141</td>\n",
       "      <td>145</td>\n",
       "      <td>0</td>\n",
       "    </tr>\n",
       "  </tbody>\n",
       "</table>\n",
       "</div>"
      ],
      "text/plain": [
       "                                                text aspect_term  from   to  \\\n",
       "0               But the staff was so horrible to us.       staff     8   13   \n",
       "1  To be completely fair, the only redeeming fact...        food    57   61   \n",
       "2  The food is uniformly exceptional, with a very...        food     4    8   \n",
       "3  The food is uniformly exceptional, with a very...     kitchen    55   62   \n",
       "4  The food is uniformly exceptional, with a very...        menu   141  145   \n",
       "\n",
       "   polarity  \n",
       "0        -1  \n",
       "1         1  \n",
       "2         1  \n",
       "3         1  \n",
       "4         0  "
      ]
     },
     "execution_count": 3,
     "metadata": {},
     "output_type": "execute_result"
    }
   ],
   "source": [
    "path = 'data/restaurants_laptop_train.csv'\n",
    "\n",
    "df = pd.read_csv(path)\n",
    "print(df.shape)\n",
    "df.head()"
   ]
  },
  {
   "cell_type": "code",
   "execution_count": 4,
   "id": "ac8db5ac-64e0-4150-8b7b-a44119772e87",
   "metadata": {},
   "outputs": [],
   "source": [
    "label = 'aspect'\n",
    "def process_data(df):\n",
    "    data = []\n",
    "    text = df.text.tolist()\n",
    "    from_pos = df['from'].tolist()\n",
    "    to_pos = df['to'].tolist()\n",
    "    \n",
    "    for i in range(len(df)):\n",
    "        d = (text[i], {'entities': [(int(from_pos[i]), int(to_pos[i]), 'aspect')]})\n",
    "        data.append(d)\n",
    "    return data\n",
    "        \n",
    "train_data = process_data(df[:3000])"
   ]
  },
  {
   "cell_type": "code",
   "execution_count": 5,
   "id": "9e186325-fa06-4c90-80e5-9bd54e3dd3d3",
   "metadata": {},
   "outputs": [
    {
     "data": {
      "text/plain": [
       "('But the staff was so horrible to us.', {'entities': [(8, 13, 'aspect')]})"
      ]
     },
     "execution_count": 5,
     "metadata": {},
     "output_type": "execute_result"
    }
   ],
   "source": [
    "train_data[0]"
   ]
  },
  {
   "cell_type": "code",
   "execution_count": 6,
   "id": "e89940ca-9e37-4181-bb5f-b357fea47114",
   "metadata": {},
   "outputs": [],
   "source": [
    "ner=nlp.get_pipe('ner')"
   ]
  },
  {
   "cell_type": "code",
   "execution_count": 7,
   "id": "b1ab2d5a-1c00-4201-8462-68077e7f90c5",
   "metadata": {},
   "outputs": [
    {
     "data": {
      "text/plain": [
       "1"
      ]
     },
     "execution_count": 7,
     "metadata": {},
     "output_type": "execute_result"
    }
   ],
   "source": [
    "ner.add_label(label)"
   ]
  },
  {
   "cell_type": "code",
   "execution_count": 8,
   "id": "e5537d6c-b4e0-42e7-806d-ca8e5c3dd28e",
   "metadata": {},
   "outputs": [],
   "source": [
    "optimizer = nlp.resume_training()\n",
    "move_names = list(ner.move_names)"
   ]
  },
  {
   "cell_type": "code",
   "execution_count": 9,
   "id": "fca21f23-af1c-47af-9244-16c2c86750f5",
   "metadata": {},
   "outputs": [
    {
     "name": "stderr",
     "output_type": "stream",
     "text": [
      "/Users/qiting/opt/anaconda3/lib/python3.8/site-packages/spacy/training/iob_utils.py:141: UserWarning: [W030] Some entities could not be aligned in the text \"$20 gets you unlimited sushi of a very high qualit...\" with entities \"[(44, 51, 'aspect')]\". Use `spacy.training.offsets_to_biluo_tags(nlp.make_doc(text), entities)` to check the alignment. Misaligned entities ('-') will be ignored during training.\n",
      "  warnings.warn(\n",
      "/Users/qiting/opt/anaconda3/lib/python3.8/site-packages/spacy/training/iob_utils.py:141: UserWarning: [W030] Some entities could not be aligned in the text \"Great wine list, reasonably priced.--Sara\" with entities \"[(28, 34, 'aspect')]\". Use `spacy.training.offsets_to_biluo_tags(nlp.make_doc(text), entities)` to check the alignment. Misaligned entities ('-') will be ignored during training.\n",
      "  warnings.warn(\n",
      "/Users/qiting/opt/anaconda3/lib/python3.8/site-packages/spacy/training/iob_utils.py:141: UserWarning: [W030] Some entities could not be aligned in the text \"Ambiance- relaxed and stylish.\" with entities \"[(0, 8, 'aspect')]\". Use `spacy.training.offsets_to_biluo_tags(nlp.make_doc(text), entities)` to check the alignment. Misaligned entities ('-') will be ignored during training.\n",
      "  warnings.warn(\n",
      "/Users/qiting/opt/anaconda3/lib/python3.8/site-packages/thinc/layers/layernorm.py:32: RuntimeWarning: invalid value encountered in reciprocal\n",
      "  d_xhat = N * dY - sum_dy - dist * var ** (-1.0) * sum_dy_dist\n"
     ]
    }
   ],
   "source": [
    "from spacy.util import minibatch, compounding\n",
    "import random\n",
    "nlp.begin_training()\n",
    "\n",
    "sizes = compounding(1.0, 4.0, 1.001)\n",
    "# Training for 30 iterations     \n",
    "for itn in range(30):\n",
    "    # shuffle examples before training\n",
    "    random.shuffle(train_data)\n",
    "    # batch up the examples using spaCy's minibatch\n",
    "    batches = minibatch(train_data, size=sizes)\n",
    "    # ictionary to store losses\n",
    "    losses = {}\n",
    "    for batch in batches:\n",
    "        texts, annotations = zip(*batch)\n",
    "        # # Calling update() over the iteration\n",
    "        # nlp.update(texts, annotations, sgd=optimizer, drop=0.35, losses=losses)\n",
    "        #print(annotations[0])\n",
    "        doc = nlp.make_doc(texts[0])\n",
    "        example = Example.from_dict(doc, annotations[0])\n",
    "        # Update the model\n",
    "        nlp.update([example], losses=losses, drop=0.3)\n",
    "        #print(\"Losses\", losses)\n"
   ]
  },
  {
   "cell_type": "code",
   "execution_count": 10,
   "id": "80204dc1-e8b9-4b14-b9b8-ac761d749d6d",
   "metadata": {},
   "outputs": [
    {
     "name": "stdout",
     "output_type": "stream",
     "text": [
      "Entities [('cuisine', 'aspect')]\n",
      "Entities [('waiters', 'aspect'), ('food', 'aspect'), ('bill', 'aspect')]\n"
     ]
    }
   ],
   "source": [
    "doc = nlp(\"I love when restaurants think using fancy expensive ingrediants makes the food fine cuisine, even with no idea how to use them.\")\n",
    "print(\"Entities\", [(ent.text, ent.label_) for ent in doc.ents])\n",
    "\n",
    "doc = nlp(\"The waiters are sweet, the food is tasty and the bill is never too large.\")\n",
    "print(\"Entities\", [(ent.text, ent.label_) for ent in doc.ents])"
   ]
  },
  {
   "cell_type": "code",
   "execution_count": 11,
   "id": "f318bddf-8584-4a62-8e33-09511f183931",
   "metadata": {},
   "outputs": [
    {
     "name": "stdout",
     "output_type": "stream",
     "text": [
      "Total number of aspects:  601\n",
      "Number of correctly identified aspects:  301\n",
      "Number of misclassified aspect:  51\n",
      "Number of unidentified aspect:  300\n"
     ]
    }
   ],
   "source": [
    "test_data = df[3001:].text.unique()\n",
    "num_of_aspects = len(df[3001:])\n",
    "num_correct_aspect = 0\n",
    "num_wrong_aspect = 0\n",
    "\n",
    "for test in test_data:\n",
    "    text_df = df[df.text == test]\n",
    "    expected_aspects = text_df.aspect_term.tolist()\n",
    "    \n",
    "    doc = nlp(test)\n",
    "    predicted_aspects = [ent.text for ent in doc.ents]\n",
    "    \n",
    "    for aspect in predicted_aspects:\n",
    "        if aspect in expected_aspects:\n",
    "            num_correct_aspect += 1\n",
    "        else:\n",
    "            num_wrong_aspect += 1\n",
    "\n",
    "num_unidentified_aspect = num_of_aspects - num_correct_aspect\n",
    "print('Total number of aspects: ', num_of_aspects)\n",
    "print('Number of correctly identified aspects: ', num_correct_aspect)\n",
    "print('Number of misclassified aspect: ', num_wrong_aspect)\n",
    "print('Number of unidentified aspect: ', num_unidentified_aspect)"
   ]
  },
  {
   "cell_type": "code",
   "execution_count": 13,
   "id": "15e9d930-45df-42a2-91e5-1db77b6cb1f6",
   "metadata": {},
   "outputs": [],
   "source": [
    "nlp.to_disk('ner_trained')"
   ]
  },
  {
   "cell_type": "code",
   "execution_count": null,
   "id": "e76dd370-60b9-4c42-91f5-7674ca7348c6",
   "metadata": {},
   "outputs": [],
   "source": []
  },
  {
   "cell_type": "code",
   "execution_count": 14,
   "id": "dfb8e9cd-3fa1-45d6-a04e-6c41053f40c8",
   "metadata": {},
   "outputs": [
    {
     "name": "stdout",
     "output_type": "stream",
     "text": [
      "Entities [('cuisine', 'aspect')]\n",
      "Entities [('waiters', 'aspect'), ('food', 'aspect'), ('bill', 'aspect')]\n"
     ]
    }
   ],
   "source": [
    "# call trained model\n",
    "nlp = spacy.load(\"ner_trained\")\n",
    "doc = nlp(\"I love when restaurants think using fancy expensive ingrediants makes the food fine cuisine, even with no idea how to use them.\")\n",
    "print(\"Entities\", [(ent.text, ent.label_) for ent in doc.ents])\n",
    "\n",
    "doc = nlp(\"The waiters are sweet, the food is tasty and the bill is never too large.\")\n",
    "print(\"Entities\", [(ent.text, ent.label_) for ent in doc.ents])"
   ]
  },
  {
   "cell_type": "code",
   "execution_count": null,
   "id": "e57c6559-f592-4883-8201-020b9e2f8a7a",
   "metadata": {},
   "outputs": [],
   "source": []
  }
 ],
 "metadata": {
  "kernelspec": {
   "display_name": "Python 3 (ipykernel)",
   "language": "python",
   "name": "python3"
  },
  "language_info": {
   "codemirror_mode": {
    "name": "ipython",
    "version": 3
   },
   "file_extension": ".py",
   "mimetype": "text/x-python",
   "name": "python",
   "nbconvert_exporter": "python",
   "pygments_lexer": "ipython3",
   "version": "3.8.12"
  }
 },
 "nbformat": 4,
 "nbformat_minor": 5
}
